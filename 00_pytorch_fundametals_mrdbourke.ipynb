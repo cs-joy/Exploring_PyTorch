{
  "cells": [
    {
      "cell_type": "markdown",
      "metadata": {
        "id": "-buiuu7sCwy3"
      },
      "source": [
        "### PyTorch Fundamentals"
      ]
    },
    {
      "cell_type": "code",
      "execution_count": 560,
      "metadata": {
        "colab": {
          "base_uri": "https://localhost:8080/"
        },
        "id": "7bFyap-6C3Tr",
        "outputId": "6490ff78-fcbf-4a15-f391-019897de6080"
      },
      "outputs": [
        {
          "output_type": "stream",
          "name": "stdout",
          "text": [
            "2.2.1+cu121\n"
          ]
        }
      ],
      "source": [
        "import torch\n",
        "import pandas as pd\n",
        "import numpy as np\n",
        "import matplotlib.pyplot as plt\n",
        "print(torch.__version__)"
      ]
    },
    {
      "cell_type": "markdown",
      "metadata": {
        "id": "uElvucnwEP3M"
      },
      "source": [
        "### Introduction to Tensors\n",
        "\n",
        "### Creating tensors\n",
        "\n",
        "PyTorch tensors are created using `torch.Tensor()` = https://pytorch.org/docs/stable/tensors.html"
      ]
    },
    {
      "cell_type": "code",
      "execution_count": 561,
      "metadata": {
        "colab": {
          "base_uri": "https://localhost:8080/"
        },
        "id": "p8OA0B6eEQ4q",
        "outputId": "d57a592a-6efe-4238-b65e-be37cc6470fe"
      },
      "outputs": [
        {
          "output_type": "execute_result",
          "data": {
            "text/plain": [
              "tensor(7)"
            ]
          },
          "metadata": {},
          "execution_count": 561
        }
      ],
      "source": [
        "# scalar\n",
        "scalar = torch.tensor(7)\n",
        "scalar"
      ]
    },
    {
      "cell_type": "code",
      "execution_count": 562,
      "metadata": {
        "colab": {
          "base_uri": "https://localhost:8080/"
        },
        "id": "v0_irmvAEhH6",
        "outputId": "ec227514-c343-4e12-bfb4-4376e8e6ba81"
      },
      "outputs": [
        {
          "output_type": "execute_result",
          "data": {
            "text/plain": [
              "0"
            ]
          },
          "metadata": {},
          "execution_count": 562
        }
      ],
      "source": [
        "# number of dimension : https://pytorch.org/docs/stable/generated/torch.Tensor.ndim.html\n",
        "\n",
        "scalar.ndim"
      ]
    },
    {
      "cell_type": "code",
      "execution_count": 563,
      "metadata": {
        "colab": {
          "base_uri": "https://localhost:8080/"
        },
        "id": "R024mjQ6HVxv",
        "outputId": "bf7d20e5-fcd4-4fc8-d833-2a1ba417e9d8"
      },
      "outputs": [
        {
          "output_type": "execute_result",
          "data": {
            "text/plain": [
              "7"
            ]
          },
          "metadata": {},
          "execution_count": 563
        }
      ],
      "source": [
        "# Get tensor back as Python int\n",
        "\n",
        "scalar.item()"
      ]
    },
    {
      "cell_type": "code",
      "execution_count": 564,
      "metadata": {
        "colab": {
          "base_uri": "https://localhost:8080/"
        },
        "id": "MtmlilZeHjUj",
        "outputId": "75add25d-ee6a-4d6a-e4f4-89ccbe5a87e9"
      },
      "outputs": [
        {
          "output_type": "execute_result",
          "data": {
            "text/plain": [
              "tensor([7, 7])"
            ]
          },
          "metadata": {},
          "execution_count": 564
        }
      ],
      "source": [
        "# Vector\n",
        "vector = torch.tensor([7, 7])\n",
        "vector"
      ]
    },
    {
      "cell_type": "code",
      "execution_count": 565,
      "metadata": {
        "colab": {
          "base_uri": "https://localhost:8080/"
        },
        "id": "4iWK1VoKorqW",
        "outputId": "9cb2b9aa-d66e-44fd-d59a-70a81ad86de0"
      },
      "outputs": [
        {
          "output_type": "execute_result",
          "data": {
            "text/plain": [
              "1"
            ]
          },
          "metadata": {},
          "execution_count": 565
        }
      ],
      "source": [
        "vector.ndim"
      ]
    },
    {
      "cell_type": "code",
      "execution_count": 566,
      "metadata": {
        "colab": {
          "base_uri": "https://localhost:8080/"
        },
        "id": "-arbdcU8pvtk",
        "outputId": "bb383711-95d9-45e0-d42f-73723c0fc36a"
      },
      "outputs": [
        {
          "output_type": "execute_result",
          "data": {
            "text/plain": [
              "torch.Size([2])"
            ]
          },
          "metadata": {},
          "execution_count": 566
        }
      ],
      "source": [
        "vector.shape"
      ]
    },
    {
      "cell_type": "code",
      "execution_count": 567,
      "metadata": {
        "colab": {
          "base_uri": "https://localhost:8080/"
        },
        "id": "aXgWyyKdpxv1",
        "outputId": "fc7d45fc-a847-407f-a98c-532906b6709b"
      },
      "outputs": [
        {
          "output_type": "execute_result",
          "data": {
            "text/plain": [
              "tensor([[2, 4],\n",
              "        [1, 3]])"
            ]
          },
          "metadata": {},
          "execution_count": 567
        }
      ],
      "source": [
        "# MATRIX\n",
        "MATRIX = torch.tensor([[2,4],\n",
        "                       [1,3]])\n",
        "MATRIX"
      ]
    },
    {
      "cell_type": "code",
      "execution_count": 568,
      "metadata": {
        "colab": {
          "base_uri": "https://localhost:8080/"
        },
        "id": "VSWWiuxKqGGv",
        "outputId": "12d1b1b6-8bac-4493-cb68-16c1df80eb1f"
      },
      "outputs": [
        {
          "output_type": "execute_result",
          "data": {
            "text/plain": [
              "2"
            ]
          },
          "metadata": {},
          "execution_count": 568
        }
      ],
      "source": [
        "MATRIX.ndim"
      ]
    },
    {
      "cell_type": "code",
      "execution_count": 569,
      "metadata": {
        "colab": {
          "base_uri": "https://localhost:8080/"
        },
        "id": "ete9DTOvqO3F",
        "outputId": "02b6f54d-5fb9-4a44-8745-01a131859870"
      },
      "outputs": [
        {
          "output_type": "execute_result",
          "data": {
            "text/plain": [
              "tensor([2, 4])"
            ]
          },
          "metadata": {},
          "execution_count": 569
        }
      ],
      "source": [
        "MATRIX[0]"
      ]
    },
    {
      "cell_type": "code",
      "execution_count": 570,
      "metadata": {
        "colab": {
          "base_uri": "https://localhost:8080/"
        },
        "id": "Pr9wKm7jqRk9",
        "outputId": "8f19bbcb-fc93-4d44-cac1-35d946398df7"
      },
      "outputs": [
        {
          "output_type": "execute_result",
          "data": {
            "text/plain": [
              "torch.Size([2, 2])"
            ]
          },
          "metadata": {},
          "execution_count": 570
        }
      ],
      "source": [
        "MATRIX.shape"
      ]
    },
    {
      "cell_type": "code",
      "execution_count": 571,
      "metadata": {
        "colab": {
          "base_uri": "https://localhost:8080/"
        },
        "id": "V1hr5cVHqYjN",
        "outputId": "0d8f41e4-c8e2-4fbc-958e-7bf042a01625"
      },
      "outputs": [
        {
          "output_type": "execute_result",
          "data": {
            "text/plain": [
              "tensor([[[1, 3, 9],\n",
              "         [2, 4, 6],\n",
              "         [5, 9, 7]]])"
            ]
          },
          "metadata": {},
          "execution_count": 571
        }
      ],
      "source": [
        "# Tensor\n",
        "TENSOR = torch.tensor([[[1,3,9],\n",
        "                        [2,4,6],\n",
        "                        [5,9,7]]])\n",
        "TENSOR"
      ]
    },
    {
      "cell_type": "code",
      "execution_count": 572,
      "metadata": {
        "colab": {
          "base_uri": "https://localhost:8080/"
        },
        "id": "DphY4MK8sUl-",
        "outputId": "7ae28119-2971-45d0-a25d-b36d76bdf7cc"
      },
      "outputs": [
        {
          "output_type": "execute_result",
          "data": {
            "text/plain": [
              "3"
            ]
          },
          "metadata": {},
          "execution_count": 572
        }
      ],
      "source": [
        "TENSOR.ndim"
      ]
    },
    {
      "cell_type": "code",
      "execution_count": 573,
      "metadata": {
        "colab": {
          "base_uri": "https://localhost:8080/"
        },
        "id": "j-0f9M-usalk",
        "outputId": "0159ba13-10fb-470e-ac9b-af9a635f2dcb"
      },
      "outputs": [
        {
          "output_type": "execute_result",
          "data": {
            "text/plain": [
              "torch.Size([1, 3, 3])"
            ]
          },
          "metadata": {},
          "execution_count": 573
        }
      ],
      "source": [
        "TENSOR.shape"
      ]
    },
    {
      "cell_type": "code",
      "execution_count": 574,
      "metadata": {
        "colab": {
          "base_uri": "https://localhost:8080/"
        },
        "id": "uvVm4l_kssNN",
        "outputId": "2ed86893-aebf-4d05-c43c-14f1e75401c9"
      },
      "outputs": [
        {
          "output_type": "execute_result",
          "data": {
            "text/plain": [
              "tensor([[1, 3, 9],\n",
              "        [2, 4, 6],\n",
              "        [5, 9, 7]])"
            ]
          },
          "metadata": {},
          "execution_count": 574
        }
      ],
      "source": [
        "TENSOR[0]"
      ]
    },
    {
      "cell_type": "code",
      "execution_count": 575,
      "metadata": {
        "colab": {
          "base_uri": "https://localhost:8080/"
        },
        "id": "JpPIPxWTtAnO",
        "outputId": "af2f24f1-48da-4f83-f35b-e55bcb7bd12c"
      },
      "outputs": [
        {
          "output_type": "execute_result",
          "data": {
            "text/plain": [
              "tensor([[[[1, 3, 9, 4],\n",
              "          [2, 4, 8, 6]]]])"
            ]
          },
          "metadata": {},
          "execution_count": 575
        }
      ],
      "source": [
        "MY_TENSOR = torch.tensor([[[\n",
        "                              [1,3,9,4], # <0\n",
        "                              [2,4,8,6], # <1\n",
        "#                              [4,1,6,3]  # <2\n",
        "#                              ^ ^ ^ ^\n",
        "#                              0 1 2 3\n",
        "                            ]]])\n",
        "MY_TENSOR"
      ]
    },
    {
      "cell_type": "code",
      "execution_count": 576,
      "metadata": {
        "colab": {
          "base_uri": "https://localhost:8080/"
        },
        "id": "HvqUSXvluX58",
        "outputId": "7374ce0a-2355-4bcd-99b8-503a34c64f6b"
      },
      "outputs": [
        {
          "output_type": "execute_result",
          "data": {
            "text/plain": [
              "4"
            ]
          },
          "metadata": {},
          "execution_count": 576
        }
      ],
      "source": [
        "MY_TENSOR.ndim"
      ]
    },
    {
      "cell_type": "code",
      "execution_count": 577,
      "metadata": {
        "colab": {
          "base_uri": "https://localhost:8080/"
        },
        "id": "Q085jgdXua90",
        "outputId": "7c2a8331-7c29-446d-b05a-c6051276ef35"
      },
      "outputs": [
        {
          "output_type": "execute_result",
          "data": {
            "text/plain": [
              "torch.Size([1, 1, 2, 4])"
            ]
          },
          "metadata": {},
          "execution_count": 577
        }
      ],
      "source": [
        "MY_TENSOR.shape"
      ]
    },
    {
      "cell_type": "markdown",
      "metadata": {
        "id": "0VYUu8xVdlEy"
      },
      "source": [
        "## Tensor Exercise"
      ]
    },
    {
      "cell_type": "code",
      "execution_count": 578,
      "metadata": {
        "colab": {
          "base_uri": "https://localhost:8080/"
        },
        "id": "wXenZTtEdqy6",
        "outputId": "8b511d6c-ca5e-49f7-ab6c-efae59a395e5"
      },
      "outputs": [
        {
          "output_type": "execute_result",
          "data": {
            "text/plain": [
              "tensor([[1, 2, 3],\n",
              "        [4, 5, 6]])"
            ]
          },
          "metadata": {},
          "execution_count": 578
        }
      ],
      "source": [
        "TENSOR = torch.tensor([[1,2,3], [4,5,6]])\n",
        "TENSOR"
      ]
    },
    {
      "cell_type": "code",
      "execution_count": 579,
      "metadata": {
        "colab": {
          "base_uri": "https://localhost:8080/"
        },
        "id": "phOp45vkd25v",
        "outputId": "8f89c1a6-3a51-4f58-ad66-49775af183ed"
      },
      "outputs": [
        {
          "output_type": "execute_result",
          "data": {
            "text/plain": [
              "2"
            ]
          },
          "metadata": {},
          "execution_count": 579
        }
      ],
      "source": [
        "TENSOR.ndim"
      ]
    },
    {
      "cell_type": "code",
      "execution_count": 580,
      "metadata": {
        "colab": {
          "base_uri": "https://localhost:8080/"
        },
        "id": "QPNE_shteBLK",
        "outputId": "cdb1920c-f42f-4ce0-c256-71708125eb02"
      },
      "outputs": [
        {
          "output_type": "execute_result",
          "data": {
            "text/plain": [
              "torch.Size([2, 3])"
            ]
          },
          "metadata": {},
          "execution_count": 580
        }
      ],
      "source": [
        "TENSOR.shape"
      ]
    },
    {
      "cell_type": "code",
      "execution_count": 581,
      "metadata": {
        "colab": {
          "base_uri": "https://localhost:8080/"
        },
        "id": "W22HH2NAeHvA",
        "outputId": "8e1b09a3-28f5-4c73-d3f7-4ec00d28ee66"
      },
      "outputs": [
        {
          "output_type": "execute_result",
          "data": {
            "text/plain": [
              "tensor([1, 2, 3])"
            ]
          },
          "metadata": {},
          "execution_count": 581
        }
      ],
      "source": [
        "TENSOR[0]"
      ]
    },
    {
      "cell_type": "code",
      "execution_count": 582,
      "metadata": {
        "colab": {
          "base_uri": "https://localhost:8080/"
        },
        "id": "FfC1ewwlet8-",
        "outputId": "41301559-dd8e-443d-d1d6-f81339bfd2ed"
      },
      "outputs": [
        {
          "output_type": "execute_result",
          "data": {
            "text/plain": [
              "tensor([[2, 1, 4],\n",
              "        [1, 5, 2]])"
            ]
          },
          "metadata": {},
          "execution_count": 582
        }
      ],
      "source": [
        "TENSOR2 = torch.tensor([\n",
        "    [2,1,4],\n",
        "    [1,5,2]\n",
        "])\n",
        "TENSOR2"
      ]
    },
    {
      "cell_type": "code",
      "execution_count": 583,
      "metadata": {
        "colab": {
          "base_uri": "https://localhost:8080/"
        },
        "id": "OnZX8YHNfJW7",
        "outputId": "f98417be-5487-4c6d-f3e4-14d5d83f1bc4"
      },
      "outputs": [
        {
          "output_type": "execute_result",
          "data": {
            "text/plain": [
              "2"
            ]
          },
          "metadata": {},
          "execution_count": 583
        }
      ],
      "source": [
        "TENSOR2.ndim"
      ]
    },
    {
      "cell_type": "code",
      "execution_count": 584,
      "metadata": {
        "colab": {
          "base_uri": "https://localhost:8080/"
        },
        "id": "IshwqyFHCJ7g",
        "outputId": "0061c504-6cd2-4999-ddc4-f7877c4a080d"
      },
      "outputs": [
        {
          "output_type": "execute_result",
          "data": {
            "text/plain": [
              "torch.Size([2, 3])"
            ]
          },
          "metadata": {},
          "execution_count": 584
        }
      ],
      "source": [
        "TENSOR2.shape"
      ]
    },
    {
      "cell_type": "code",
      "execution_count": 585,
      "metadata": {
        "colab": {
          "base_uri": "https://localhost:8080/"
        },
        "id": "JbXCoXQcCVXo",
        "outputId": "52a2dafa-dabd-4f49-c39d-cd84fd7862a9"
      },
      "outputs": [
        {
          "output_type": "execute_result",
          "data": {
            "text/plain": [
              "tensor([[2, 1, 4],\n",
              "        [1, 5, 2],\n",
              "        [7, 5, 9]])"
            ]
          },
          "metadata": {},
          "execution_count": 585
        }
      ],
      "source": [
        "TENSOR3 = torch.tensor([\n",
        "    [2,1,4],\n",
        "    [1,5,2],\n",
        "    [7,5,9]\n",
        "])\n",
        "TENSOR3"
      ]
    },
    {
      "cell_type": "code",
      "execution_count": 586,
      "metadata": {
        "colab": {
          "base_uri": "https://localhost:8080/"
        },
        "id": "YaUO0YbOClOo",
        "outputId": "21f4f5f4-1d93-435f-dae7-f8743084462d"
      },
      "outputs": [
        {
          "output_type": "execute_result",
          "data": {
            "text/plain": [
              "2"
            ]
          },
          "metadata": {},
          "execution_count": 586
        }
      ],
      "source": [
        "TENSOR3.ndim"
      ]
    },
    {
      "cell_type": "code",
      "execution_count": 587,
      "metadata": {
        "colab": {
          "base_uri": "https://localhost:8080/"
        },
        "id": "l-2DFQhMCngy",
        "outputId": "049b249e-c743-4f94-9233-36377939c3d1"
      },
      "outputs": [
        {
          "output_type": "execute_result",
          "data": {
            "text/plain": [
              "torch.Size([3, 3])"
            ]
          },
          "metadata": {},
          "execution_count": 587
        }
      ],
      "source": [
        "TENSOR3.shape"
      ]
    },
    {
      "cell_type": "code",
      "execution_count": 588,
      "metadata": {
        "colab": {
          "base_uri": "https://localhost:8080/"
        },
        "id": "rtsY1RuzCqHp",
        "outputId": "5225e1a3-3fbd-40c3-9360-f3a06bc9c5b8"
      },
      "outputs": [
        {
          "output_type": "execute_result",
          "data": {
            "text/plain": [
              "tensor([[[1, 2, 3, 2],\n",
              "         [7, 8, 9, 7],\n",
              "         [4, 5, 6, 9]]])"
            ]
          },
          "metadata": {},
          "execution_count": 588
        }
      ],
      "source": [
        "TENSOR4 = torch.tensor([[\n",
        "    [1,2,3,2],\n",
        "    [7,8,9,7],\n",
        "    [4,5,6,9]\n",
        "]])\n",
        "\n",
        "TENSOR4"
      ]
    },
    {
      "cell_type": "code",
      "execution_count": 589,
      "metadata": {
        "colab": {
          "base_uri": "https://localhost:8080/"
        },
        "id": "heIyjCldEIHn",
        "outputId": "1397e0aa-6ade-4c2a-acc4-e24fb1d8decf"
      },
      "outputs": [
        {
          "output_type": "execute_result",
          "data": {
            "text/plain": [
              "3"
            ]
          },
          "metadata": {},
          "execution_count": 589
        }
      ],
      "source": [
        "TENSOR4.ndim"
      ]
    },
    {
      "cell_type": "code",
      "execution_count": 590,
      "metadata": {
        "colab": {
          "base_uri": "https://localhost:8080/"
        },
        "id": "yK2Vov-AEKNY",
        "outputId": "dae1dbab-cfd8-4837-c619-1bc138c85ce3"
      },
      "outputs": [
        {
          "output_type": "execute_result",
          "data": {
            "text/plain": [
              "torch.Size([1, 3, 4])"
            ]
          },
          "metadata": {},
          "execution_count": 590
        }
      ],
      "source": [
        "TENSOR4.shape"
      ]
    },
    {
      "cell_type": "code",
      "execution_count": 591,
      "metadata": {
        "colab": {
          "base_uri": "https://localhost:8080/"
        },
        "id": "PBnmF883ETuX",
        "outputId": "61739d8f-d6ac-43e4-aaf1-989f25f27f40"
      },
      "outputs": [
        {
          "output_type": "execute_result",
          "data": {
            "text/plain": [
              "tensor([[[[[[1, 2],\n",
              "            [4, 1],\n",
              "            [6, 8]]]]]])"
            ]
          },
          "metadata": {},
          "execution_count": 591
        }
      ],
      "source": [
        "TENSOR5 = torch.tensor(\n",
        "    [\n",
        "        [\n",
        "            [\n",
        "                [\n",
        "                    [\n",
        "                        [1,2],\n",
        "                        [4,1],\n",
        "                        [6,8]\n",
        "                    ]\n",
        "                ]\n",
        "            ]\n",
        "        ]\n",
        "    ]\n",
        ")\n",
        "\n",
        "TENSOR5"
      ]
    },
    {
      "cell_type": "code",
      "execution_count": 592,
      "metadata": {
        "colab": {
          "base_uri": "https://localhost:8080/"
        },
        "id": "qCAnLMtgGKZn",
        "outputId": "993ba7a3-9ad3-4518-82a8-16945ff5da36"
      },
      "outputs": [
        {
          "output_type": "execute_result",
          "data": {
            "text/plain": [
              "6"
            ]
          },
          "metadata": {},
          "execution_count": 592
        }
      ],
      "source": [
        "TENSOR5.ndim # expected 6"
      ]
    },
    {
      "cell_type": "code",
      "execution_count": 593,
      "metadata": {
        "colab": {
          "base_uri": "https://localhost:8080/"
        },
        "id": "Aox8_F-EGp4n",
        "outputId": "08398d58-183d-4606-9f50-5d7370471086"
      },
      "outputs": [
        {
          "output_type": "execute_result",
          "data": {
            "text/plain": [
              "torch.Size([1, 1, 1, 1, 3, 2])"
            ]
          },
          "metadata": {},
          "execution_count": 593
        }
      ],
      "source": [
        "TENSOR5.shape #expected tensor.Size([1,1,1,1,3,2])"
      ]
    },
    {
      "cell_type": "code",
      "execution_count": 594,
      "metadata": {
        "colab": {
          "base_uri": "https://localhost:8080/"
        },
        "id": "F8mlTsNmGz8-",
        "outputId": "8177ed9e-f024-437a-b536-ea991b96ef8a"
      },
      "outputs": [
        {
          "output_type": "execute_result",
          "data": {
            "text/plain": [
              "tensor([[[1, 2],\n",
              "         [4, 8],\n",
              "         [3, 9]],\n",
              "\n",
              "        [[5, 6],\n",
              "         [7, 9],\n",
              "         [4, 1]]])"
            ]
          },
          "metadata": {},
          "execution_count": 594
        }
      ],
      "source": [
        "TENSOR6 = torch.tensor(\n",
        "    [\n",
        "            [\n",
        "              [1,2],\n",
        "              [4,8],\n",
        "              [3,9]\n",
        "            ],\n",
        "            [\n",
        "              [5,6],\n",
        "              [7,9],\n",
        "              [4,1]\n",
        "            ]\n",
        "\n",
        "    ]\n",
        ")\n",
        "\n",
        "TENSOR6"
      ]
    },
    {
      "cell_type": "code",
      "execution_count": 595,
      "metadata": {
        "colab": {
          "base_uri": "https://localhost:8080/"
        },
        "id": "WtkIhxXnH-9n",
        "outputId": "31f1f45e-0184-4303-c9cf-ea5f52a1a4ef"
      },
      "outputs": [
        {
          "output_type": "execute_result",
          "data": {
            "text/plain": [
              "3"
            ]
          },
          "metadata": {},
          "execution_count": 595
        }
      ],
      "source": [
        "TENSOR6.ndim"
      ]
    },
    {
      "cell_type": "code",
      "execution_count": 596,
      "metadata": {
        "colab": {
          "base_uri": "https://localhost:8080/"
        },
        "id": "4y2T7u2UJBTl",
        "outputId": "a365c8d9-673e-4368-e617-474134356ce3"
      },
      "outputs": [
        {
          "output_type": "execute_result",
          "data": {
            "text/plain": [
              "torch.Size([2, 3, 2])"
            ]
          },
          "metadata": {},
          "execution_count": 596
        }
      ],
      "source": [
        "TENSOR6.shape"
      ]
    },
    {
      "cell_type": "code",
      "execution_count": 597,
      "metadata": {
        "colab": {
          "base_uri": "https://localhost:8080/"
        },
        "id": "uM22_1baK3mV",
        "outputId": "9f037b9d-6f62-4ff9-9a5c-bf164c6f29de"
      },
      "outputs": [
        {
          "output_type": "execute_result",
          "data": {
            "text/plain": [
              "tensor([[[[[[ 1,  2],\n",
              "            [ 4,  1],\n",
              "            [ 6,  8]],\n",
              "\n",
              "           [[ 4,  1],\n",
              "            [ 1,  5],\n",
              "            [47,  9]]],\n",
              "\n",
              "\n",
              "          [[[ 1,  2],\n",
              "            [ 4,  1],\n",
              "            [ 6,  8]],\n",
              "\n",
              "           [[ 4,  1],\n",
              "            [ 1,  5],\n",
              "            [47,  9]]],\n",
              "\n",
              "\n",
              "          [[[ 1,  2],\n",
              "            [ 4,  1],\n",
              "            [ 6,  8]],\n",
              "\n",
              "           [[ 4,  1],\n",
              "            [ 1,  5],\n",
              "            [47,  9]]]],\n",
              "\n",
              "\n",
              "\n",
              "         [[[[ 1,  2],\n",
              "            [ 4,  1],\n",
              "            [ 6,  8]],\n",
              "\n",
              "           [[ 4,  1],\n",
              "            [ 1,  5],\n",
              "            [47,  9]]],\n",
              "\n",
              "\n",
              "          [[[ 1,  2],\n",
              "            [ 4,  1],\n",
              "            [ 6,  8]],\n",
              "\n",
              "           [[ 4,  1],\n",
              "            [ 1,  5],\n",
              "            [47,  9]]],\n",
              "\n",
              "\n",
              "          [[[ 1,  2],\n",
              "            [ 4,  1],\n",
              "            [ 6,  8]],\n",
              "\n",
              "           [[ 4,  1],\n",
              "            [ 1,  5],\n",
              "            [47,  9]]]]],\n",
              "\n",
              "\n",
              "\n",
              "\n",
              "        [[[[[ 1,  2],\n",
              "            [ 4,  1],\n",
              "            [ 6,  8]],\n",
              "\n",
              "           [[ 4,  1],\n",
              "            [ 1,  5],\n",
              "            [47,  9]]],\n",
              "\n",
              "\n",
              "          [[[ 1,  2],\n",
              "            [ 4,  1],\n",
              "            [ 6,  8]],\n",
              "\n",
              "           [[ 4,  1],\n",
              "            [ 1,  5],\n",
              "            [47,  9]]],\n",
              "\n",
              "\n",
              "          [[[ 1,  2],\n",
              "            [ 4,  1],\n",
              "            [ 6,  8]],\n",
              "\n",
              "           [[ 4,  1],\n",
              "            [ 1,  5],\n",
              "            [47,  9]]]],\n",
              "\n",
              "\n",
              "\n",
              "         [[[[ 1,  2],\n",
              "            [ 4,  1],\n",
              "            [ 6,  8]],\n",
              "\n",
              "           [[ 4,  1],\n",
              "            [ 1,  5],\n",
              "            [47,  9]]],\n",
              "\n",
              "\n",
              "          [[[ 1,  2],\n",
              "            [ 4,  1],\n",
              "            [ 6,  8]],\n",
              "\n",
              "           [[ 4,  1],\n",
              "            [ 1,  5],\n",
              "            [47,  9]]],\n",
              "\n",
              "\n",
              "          [[[ 1,  2],\n",
              "            [ 4,  1],\n",
              "            [ 6,  8]],\n",
              "\n",
              "           [[ 4,  1],\n",
              "            [ 1,  5],\n",
              "            [47,  9]]]]]])"
            ]
          },
          "metadata": {},
          "execution_count": 597
        }
      ],
      "source": [
        "TENSOR7 = torch.tensor(\n",
        "    [\n",
        "        [\n",
        "            [\n",
        "                [\n",
        "                    [\n",
        "                        [1,2],\n",
        "                        [4,1],\n",
        "                        [6,8]\n",
        "                    ],\n",
        "                    [\n",
        "                        [4,1],\n",
        "                        [1,5],\n",
        "                        [47,9]\n",
        "                    ]\n",
        "                ],\n",
        "                [\n",
        "                    [\n",
        "                        [1,2],\n",
        "                        [4,1],\n",
        "                        [6,8]\n",
        "                    ],\n",
        "                    [\n",
        "                        [4,1],\n",
        "                        [1,5],\n",
        "                        [47,9]\n",
        "                    ]\n",
        "                ],\n",
        "                [\n",
        "                    [\n",
        "                        [1,2],\n",
        "                        [4,1],\n",
        "                        [6,8]\n",
        "                    ],\n",
        "                    [\n",
        "                        [4,1],\n",
        "                        [1,5],\n",
        "                        [47,9]\n",
        "                    ]\n",
        "                ]\n",
        "            ],\n",
        "            [\n",
        "                [\n",
        "                    [\n",
        "                        [1,2],\n",
        "                        [4,1],\n",
        "                        [6,8]\n",
        "                    ],\n",
        "                    [\n",
        "                        [4,1],\n",
        "                        [1,5],\n",
        "                        [47,9]\n",
        "                    ]\n",
        "                ],\n",
        "                [\n",
        "                    [\n",
        "                        [1,2],\n",
        "                        [4,1],\n",
        "                        [6,8]\n",
        "                    ],\n",
        "                    [\n",
        "                        [4,1],\n",
        "                        [1,5],\n",
        "                        [47,9]\n",
        "                    ]\n",
        "                ],\n",
        "                [\n",
        "                    [\n",
        "                        [1,2],\n",
        "                        [4,1],\n",
        "                        [6,8]\n",
        "                    ],\n",
        "                    [\n",
        "                        [4,1],\n",
        "                        [1,5],\n",
        "                        [47,9]\n",
        "                    ]\n",
        "                ]\n",
        "            ]\n",
        "        ],\n",
        "                [\n",
        "            [\n",
        "                [\n",
        "                    [\n",
        "                        [1,2],\n",
        "                        [4,1],\n",
        "                        [6,8]\n",
        "                    ],\n",
        "                    [\n",
        "                        [4,1],\n",
        "                        [1,5],\n",
        "                        [47,9]\n",
        "                    ]\n",
        "                ],\n",
        "                [\n",
        "                    [\n",
        "                        [1,2],\n",
        "                        [4,1],\n",
        "                        [6,8]\n",
        "                    ],\n",
        "                    [\n",
        "                        [4,1],\n",
        "                        [1,5],\n",
        "                        [47,9]\n",
        "                    ]\n",
        "                ],\n",
        "                [\n",
        "                    [\n",
        "                        [1,2],\n",
        "                        [4,1],\n",
        "                        [6,8]\n",
        "                    ],\n",
        "                    [\n",
        "                        [4,1],\n",
        "                        [1,5],\n",
        "                        [47,9]\n",
        "                    ]\n",
        "                ]\n",
        "            ],\n",
        "            [\n",
        "                [\n",
        "                    [\n",
        "                        [1,2],\n",
        "                        [4,1],\n",
        "                        [6,8]\n",
        "                    ],\n",
        "                    [\n",
        "                        [4,1],\n",
        "                        [1,5],\n",
        "                        [47,9]\n",
        "                    ]\n",
        "                ],\n",
        "                [\n",
        "                    [\n",
        "                        [1,2],\n",
        "                        [4,1],\n",
        "                        [6,8]\n",
        "                    ],\n",
        "                    [\n",
        "                        [4,1],\n",
        "                        [1,5],\n",
        "                        [47,9]\n",
        "                    ]\n",
        "                ],\n",
        "                [\n",
        "                    [\n",
        "                        [1,2],\n",
        "                        [4,1],\n",
        "                        [6,8]\n",
        "                    ],\n",
        "                    [\n",
        "                        [4,1],\n",
        "                        [1,5],\n",
        "                        [47,9]\n",
        "                    ]\n",
        "                ]\n",
        "            ]\n",
        "        ]\n",
        "    ]\n",
        ")\n",
        "TENSOR7"
      ]
    },
    {
      "cell_type": "code",
      "execution_count": 598,
      "metadata": {
        "colab": {
          "base_uri": "https://localhost:8080/"
        },
        "id": "1dApxWVDYKpp",
        "outputId": "0b80ed2f-625a-4ca2-9e7f-b1625812629d"
      },
      "outputs": [
        {
          "output_type": "execute_result",
          "data": {
            "text/plain": [
              "6"
            ]
          },
          "metadata": {},
          "execution_count": 598
        }
      ],
      "source": [
        "TENSOR7.ndim"
      ]
    },
    {
      "cell_type": "code",
      "execution_count": 599,
      "metadata": {
        "colab": {
          "base_uri": "https://localhost:8080/"
        },
        "id": "011KGrClYMsQ",
        "outputId": "e05f627c-d02e-48ca-c35a-b754a80a7546"
      },
      "outputs": [
        {
          "output_type": "execute_result",
          "data": {
            "text/plain": [
              "torch.Size([2, 2, 3, 2, 3, 2])"
            ]
          },
          "metadata": {},
          "execution_count": 599
        }
      ],
      "source": [
        "TENSOR7.shape"
      ]
    },
    {
      "cell_type": "markdown",
      "metadata": {
        "id": "r27E6Ic7miuS"
      },
      "source": [
        "### Random Tensors\n",
        "\n",
        "Why random tensors?\n",
        "\n",
        "Random tensors are important because the way many neural networks learn is that they start with tensors full of random numbers and then adjust those random numbers to better represent the data.\n",
        "\n",
        "`Start with random numbers -> look at data -> update random numbers -> look at data -> update random numbers`\n",
        "\n",
        "Torch random tensors = https://pytorch.org/docs/stable/generated/torch.rand.html"
      ]
    },
    {
      "cell_type": "code",
      "execution_count": 600,
      "metadata": {
        "colab": {
          "base_uri": "https://localhost:8080/"
        },
        "id": "tmiPDHEGYVyw",
        "outputId": "94aa7bb4-2713-4376-8d33-8d25bc2e4976"
      },
      "outputs": [
        {
          "output_type": "execute_result",
          "data": {
            "text/plain": [
              "tensor([[0.3717, 0.1746, 0.8574, 0.1399],\n",
              "        [0.2508, 0.3679, 0.9834, 0.9389],\n",
              "        [0.8609, 0.0796, 0.1596, 0.8864]])"
            ]
          },
          "metadata": {},
          "execution_count": 600
        }
      ],
      "source": [
        "# Create a random tensors of size (3,4)\n",
        "random_tensors = torch.rand(3, 4)\n",
        "random_tensors"
      ]
    },
    {
      "cell_type": "code",
      "execution_count": 601,
      "metadata": {
        "colab": {
          "base_uri": "https://localhost:8080/"
        },
        "id": "8lvEmJyxojF6",
        "outputId": "2dd50b72-fbed-4fb4-b854-d2b11fd3e708"
      },
      "outputs": [
        {
          "output_type": "execute_result",
          "data": {
            "text/plain": [
              "2"
            ]
          },
          "metadata": {},
          "execution_count": 601
        }
      ],
      "source": [
        "random_tensors.ndim"
      ]
    },
    {
      "cell_type": "code",
      "execution_count": 602,
      "metadata": {
        "colab": {
          "base_uri": "https://localhost:8080/"
        },
        "id": "2Q0IRwVeoqMS",
        "outputId": "2cb7992f-d499-4923-bdba-8927085adda3"
      },
      "outputs": [
        {
          "output_type": "execute_result",
          "data": {
            "text/plain": [
              "tensor([[0.3344, 0.8537, 0.5952, 0.5202, 0.4724, 0.9209, 0.5936, 0.1959],\n",
              "        [0.6611, 0.5902, 0.6430, 0.0624, 0.5603, 0.9857, 0.6974, 0.5139],\n",
              "        [0.8367, 0.2220, 0.6098, 0.7348, 0.9640, 0.5768, 0.4457, 0.5775],\n",
              "        [0.2691, 0.9592, 0.8730, 0.8700, 0.0261, 0.6546, 0.0393, 0.6721],\n",
              "        [0.0522, 0.6455, 0.4053, 0.2505, 0.9098, 0.0261, 0.0462, 0.3511],\n",
              "        [0.7446, 0.3236, 0.3472, 0.8051, 0.3879, 0.2960, 0.3061, 0.0106],\n",
              "        [0.1386, 0.1282, 0.9917, 0.7658, 0.1349, 0.4346, 0.3365, 0.8480],\n",
              "        [0.9001, 0.6741, 0.7472, 0.2254, 0.8644, 0.8743, 0.0073, 0.9741],\n",
              "        [0.5810, 0.4344, 0.0105, 0.9875, 0.2167, 0.8817, 0.3972, 0.4962],\n",
              "        [0.5220, 0.5336, 0.5069, 0.3640, 0.3559, 0.3094, 0.8111, 0.0445]])"
            ]
          },
          "metadata": {},
          "execution_count": 602
        }
      ],
      "source": [
        "random_tensors = torch.rand(10, 8)\n",
        "random_tensors"
      ]
    },
    {
      "cell_type": "code",
      "execution_count": 603,
      "metadata": {
        "colab": {
          "base_uri": "https://localhost:8080/"
        },
        "id": "C2PhCTMPpGLz",
        "outputId": "76e3675c-1b14-4e87-b2be-3df757678c6c"
      },
      "outputs": [
        {
          "output_type": "execute_result",
          "data": {
            "text/plain": [
              "2"
            ]
          },
          "metadata": {},
          "execution_count": 603
        }
      ],
      "source": [
        "random_tensors.ndim"
      ]
    },
    {
      "cell_type": "code",
      "execution_count": 604,
      "metadata": {
        "colab": {
          "base_uri": "https://localhost:8080/"
        },
        "id": "0OpRsE4woyhK",
        "outputId": "11369fcb-dc0c-45e0-fc4c-b21edb0e573b"
      },
      "outputs": [
        {
          "output_type": "execute_result",
          "data": {
            "text/plain": [
              "tensor([[[0.8956, 0.9211, 0.2569,  ..., 0.1237, 0.9315, 0.8371],\n",
              "         [0.6313, 0.9172, 0.7780,  ..., 0.8594, 0.4089, 0.2172],\n",
              "         [0.0750, 0.5664, 0.3443,  ..., 0.7523, 0.6074, 0.1421],\n",
              "         ...,\n",
              "         [0.8866, 0.0100, 0.2531,  ..., 0.6514, 0.0363, 0.7478],\n",
              "         [0.3121, 0.2794, 0.7335,  ..., 0.4560, 0.7712, 0.0123],\n",
              "         [0.7934, 0.9237, 0.1995,  ..., 0.0926, 0.7302, 0.3084]],\n",
              "\n",
              "        [[0.8851, 0.4865, 0.1729,  ..., 0.0172, 0.0037, 0.3263],\n",
              "         [0.7591, 0.8855, 0.8179,  ..., 0.4338, 0.4119, 0.4715],\n",
              "         [0.2704, 0.7591, 0.7182,  ..., 0.7709, 0.5620, 0.6925],\n",
              "         ...,\n",
              "         [0.3460, 0.8206, 0.7886,  ..., 0.5435, 0.4717, 0.4804],\n",
              "         [0.9258, 0.3347, 0.0486,  ..., 0.6704, 0.4606, 0.9376],\n",
              "         [0.0483, 0.6517, 0.2111,  ..., 0.0890, 0.2886, 0.9915]],\n",
              "\n",
              "        [[0.0391, 0.4591, 0.5253,  ..., 0.6730, 0.4936, 0.5497],\n",
              "         [0.0638, 0.7541, 0.7863,  ..., 0.6381, 0.3048, 0.6502],\n",
              "         [0.1064, 0.1958, 0.1365,  ..., 0.6255, 0.9166, 0.2206],\n",
              "         ...,\n",
              "         [0.5382, 0.7712, 0.5469,  ..., 0.2573, 0.1481, 0.4742],\n",
              "         [0.2333, 0.5616, 0.6274,  ..., 0.4161, 0.9195, 0.5671],\n",
              "         [0.1171, 0.1663, 0.9288,  ..., 0.8588, 0.3363, 0.7326]],\n",
              "\n",
              "        ...,\n",
              "\n",
              "        [[0.6907, 0.7903, 0.5721,  ..., 0.0956, 0.6018, 0.0272],\n",
              "         [0.4917, 0.2418, 0.2736,  ..., 0.5825, 0.3561, 0.7115],\n",
              "         [0.4785, 0.6331, 0.0646,  ..., 0.5084, 0.9013, 0.2496],\n",
              "         ...,\n",
              "         [0.4872, 0.4642, 0.8573,  ..., 0.0606, 0.3661, 0.8659],\n",
              "         [0.1482, 0.3245, 0.6859,  ..., 0.3113, 0.7223, 0.9628],\n",
              "         [0.0965, 0.9720, 0.0580,  ..., 0.6746, 0.2179, 0.8116]],\n",
              "\n",
              "        [[0.6948, 0.2023, 0.0611,  ..., 0.5934, 0.7367, 0.5327],\n",
              "         [0.6498, 0.1069, 0.2916,  ..., 0.2531, 0.3563, 0.5653],\n",
              "         [0.1256, 0.5519, 0.7887,  ..., 0.4770, 0.5420, 0.8886],\n",
              "         ...,\n",
              "         [0.4750, 0.5953, 0.4264,  ..., 0.0429, 0.2977, 0.3034],\n",
              "         [0.1091, 0.5527, 0.8514,  ..., 0.9494, 0.9603, 0.9205],\n",
              "         [0.0991, 0.3032, 0.7308,  ..., 0.9874, 0.7252, 0.8839]],\n",
              "\n",
              "        [[0.2135, 0.6475, 0.3118,  ..., 0.7291, 0.6314, 0.0067],\n",
              "         [0.7774, 0.4878, 0.1513,  ..., 0.9209, 0.3093, 0.1664],\n",
              "         [0.3495, 0.5657, 0.1051,  ..., 0.7833, 0.8309, 0.6634],\n",
              "         ...,\n",
              "         [0.7755, 0.6228, 0.9262,  ..., 0.7122, 0.0510, 0.4751],\n",
              "         [0.2781, 0.7397, 0.0775,  ..., 0.6609, 0.8503, 0.8907],\n",
              "         [0.9859, 0.9041, 0.6821,  ..., 0.8787, 0.3892, 0.1373]]])"
            ]
          },
          "metadata": {},
          "execution_count": 604
        }
      ],
      "source": [
        "random_tensors = torch.rand(10, 100, 100)\n",
        "random_tensors"
      ]
    },
    {
      "cell_type": "code",
      "execution_count": 605,
      "metadata": {
        "colab": {
          "base_uri": "https://localhost:8080/"
        },
        "id": "njocHK8JpQ6K",
        "outputId": "eb4b8460-3ebe-4ce6-e96e-366c5044385a"
      },
      "outputs": [
        {
          "output_type": "execute_result",
          "data": {
            "text/plain": [
              "3"
            ]
          },
          "metadata": {},
          "execution_count": 605
        }
      ],
      "source": [
        "random_tensors.ndim"
      ]
    },
    {
      "cell_type": "code",
      "execution_count": 606,
      "metadata": {
        "colab": {
          "base_uri": "https://localhost:8080/"
        },
        "id": "ZliHgF3ApU3S",
        "outputId": "b342ff0d-d9fe-429b-eaee-3a2c981c261b"
      },
      "outputs": [
        {
          "output_type": "execute_result",
          "data": {
            "text/plain": [
              "tensor([[[[[8.7015e-01, 7.2917e-01, 7.3466e-01,  ..., 6.0736e-01,\n",
              "            8.8418e-01, 5.5025e-01],\n",
              "           [8.5687e-01, 6.3899e-01, 2.9715e-01,  ..., 9.5357e-01,\n",
              "            9.2444e-01, 5.9374e-01],\n",
              "           [2.5992e-01, 8.3589e-01, 4.8363e-01,  ..., 5.9277e-01,\n",
              "            4.5243e-03, 6.9627e-01],\n",
              "           ...,\n",
              "           [8.5588e-01, 9.9070e-01, 4.7236e-01,  ..., 2.8071e-01,\n",
              "            8.8004e-01, 9.3216e-01],\n",
              "           [6.7336e-01, 1.8956e-01, 6.7873e-01,  ..., 6.3097e-01,\n",
              "            9.0387e-01, 6.4572e-01],\n",
              "           [3.3960e-01, 3.7141e-01, 5.7974e-01,  ..., 5.6266e-01,\n",
              "            6.4113e-01, 8.5926e-01]],\n",
              "\n",
              "          [[2.9956e-01, 6.1090e-01, 1.8712e-01,  ..., 1.6557e-01,\n",
              "            3.8097e-01, 2.2558e-01],\n",
              "           [5.2041e-01, 6.9054e-02, 1.5658e-01,  ..., 1.7920e-01,\n",
              "            9.1049e-01, 5.6920e-01],\n",
              "           [7.7254e-01, 8.0162e-01, 7.9548e-02,  ..., 6.2066e-01,\n",
              "            2.0721e-01, 7.9129e-01],\n",
              "           ...,\n",
              "           [8.2831e-01, 9.4405e-01, 3.3978e-01,  ..., 6.6981e-01,\n",
              "            5.4703e-01, 4.8366e-01],\n",
              "           [5.6458e-02, 8.5619e-01, 5.1411e-01,  ..., 8.4338e-01,\n",
              "            4.8009e-01, 7.4732e-01],\n",
              "           [6.4095e-01, 1.9997e-01, 5.6093e-02,  ..., 7.5039e-01,\n",
              "            2.9238e-01, 5.5605e-01]],\n",
              "\n",
              "          [[8.1353e-02, 4.8789e-01, 8.8056e-01,  ..., 4.6136e-01,\n",
              "            8.1276e-01, 4.6770e-01],\n",
              "           [4.2140e-01, 1.4889e-01, 2.5636e-01,  ..., 6.8246e-01,\n",
              "            5.9685e-01, 7.0487e-01],\n",
              "           [7.5391e-01, 1.3497e-01, 9.1972e-01,  ..., 3.1198e-01,\n",
              "            8.3235e-01, 9.2575e-01],\n",
              "           ...,\n",
              "           [8.5465e-01, 2.3997e-01, 7.0413e-01,  ..., 6.4371e-01,\n",
              "            4.0373e-01, 9.6050e-01],\n",
              "           [5.6633e-02, 5.9146e-01, 7.7304e-01,  ..., 1.7448e-01,\n",
              "            8.5534e-01, 8.3688e-01],\n",
              "           [4.3558e-02, 6.9635e-01, 4.8408e-01,  ..., 4.8813e-01,\n",
              "            5.7731e-01, 8.6605e-01]],\n",
              "\n",
              "          ...,\n",
              "\n",
              "          [[3.1208e-01, 1.6534e-01, 9.1746e-02,  ..., 4.3198e-01,\n",
              "            7.7525e-01, 6.5542e-02],\n",
              "           [5.5234e-01, 3.5826e-01, 7.0349e-01,  ..., 1.0760e-01,\n",
              "            2.2901e-01, 7.5483e-01],\n",
              "           [3.0908e-01, 3.3471e-01, 4.9790e-01,  ..., 2.8901e-01,\n",
              "            5.6672e-02, 9.3889e-01],\n",
              "           ...,\n",
              "           [8.8585e-01, 4.4316e-01, 4.7084e-01,  ..., 1.7980e-01,\n",
              "            7.2386e-02, 1.8614e-01],\n",
              "           [7.5489e-01, 5.4302e-01, 6.4904e-01,  ..., 7.7287e-01,\n",
              "            3.5043e-02, 6.6915e-01],\n",
              "           [2.8780e-01, 8.8520e-01, 6.7745e-01,  ..., 5.0005e-02,\n",
              "            5.3209e-01, 6.1594e-01]],\n",
              "\n",
              "          [[4.4697e-01, 7.7561e-01, 9.8992e-01,  ..., 7.2427e-01,\n",
              "            3.9356e-01, 9.8837e-01],\n",
              "           [8.6718e-02, 9.2805e-01, 8.4133e-01,  ..., 9.9945e-02,\n",
              "            6.3231e-01, 1.9050e-01],\n",
              "           [1.1416e-01, 5.6346e-01, 2.9564e-01,  ..., 4.2420e-01,\n",
              "            5.0984e-01, 2.0309e-01],\n",
              "           ...,\n",
              "           [3.2905e-01, 6.5045e-01, 9.9947e-01,  ..., 2.2813e-01,\n",
              "            9.5500e-01, 4.2858e-01],\n",
              "           [3.0276e-01, 1.0078e-01, 1.6717e-01,  ..., 2.4478e-01,\n",
              "            6.4040e-01, 8.9979e-01],\n",
              "           [4.1494e-01, 1.6413e-01, 3.5651e-01,  ..., 8.9747e-01,\n",
              "            2.5473e-01, 4.3633e-01]],\n",
              "\n",
              "          [[6.1778e-01, 6.1111e-01, 7.9838e-01,  ..., 1.0370e-01,\n",
              "            3.6051e-01, 6.2153e-01],\n",
              "           [4.7025e-01, 2.8853e-01, 6.2619e-01,  ..., 2.7601e-01,\n",
              "            8.3327e-01, 1.3263e-01],\n",
              "           [6.5330e-01, 3.6743e-01, 8.4289e-01,  ..., 1.6447e-01,\n",
              "            6.6187e-01, 3.6192e-01],\n",
              "           ...,\n",
              "           [4.6874e-01, 1.9280e-01, 2.4894e-01,  ..., 9.9997e-02,\n",
              "            6.2000e-01, 7.6056e-01],\n",
              "           [7.1994e-01, 6.7614e-01, 5.4423e-01,  ..., 7.4008e-02,\n",
              "            9.5674e-01, 2.0274e-01],\n",
              "           [4.3100e-01, 9.4000e-01, 8.5054e-01,  ..., 7.0327e-01,\n",
              "            7.7890e-01, 6.8781e-01]]],\n",
              "\n",
              "\n",
              "         [[[4.1538e-01, 1.0093e-01, 5.3792e-01,  ..., 9.2718e-02,\n",
              "            6.3720e-02, 2.8803e-01],\n",
              "           [4.3540e-01, 2.0338e-01, 7.5317e-01,  ..., 6.1682e-02,\n",
              "            4.9306e-02, 7.6530e-02],\n",
              "           [6.0405e-01, 7.1209e-01, 2.0058e-01,  ..., 2.5126e-01,\n",
              "            2.0670e-01, 4.8437e-01],\n",
              "           ...,\n",
              "           [5.9062e-01, 9.6871e-01, 1.1035e-01,  ..., 8.6805e-01,\n",
              "            8.1656e-01, 6.6807e-02],\n",
              "           [3.1652e-01, 1.9077e-01, 1.4942e-01,  ..., 9.5227e-01,\n",
              "            9.3538e-01, 4.9005e-01],\n",
              "           [1.2767e-01, 8.2771e-02, 4.7101e-01,  ..., 9.2695e-02,\n",
              "            3.6302e-01, 3.7858e-01]],\n",
              "\n",
              "          [[1.8952e-01, 2.4695e-01, 8.7238e-01,  ..., 5.1156e-01,\n",
              "            5.3324e-01, 3.7395e-01],\n",
              "           [2.3608e-01, 4.5782e-01, 9.6202e-02,  ..., 3.8936e-01,\n",
              "            8.1941e-01, 7.4868e-01],\n",
              "           [8.4257e-01, 9.9776e-01, 7.7784e-01,  ..., 4.8007e-01,\n",
              "            9.9402e-01, 7.8492e-01],\n",
              "           ...,\n",
              "           [7.5938e-01, 4.6035e-01, 3.9932e-01,  ..., 6.3991e-01,\n",
              "            4.9305e-01, 2.8756e-01],\n",
              "           [3.7135e-02, 3.0604e-01, 4.9907e-01,  ..., 2.5086e-01,\n",
              "            5.9256e-01, 5.4565e-02],\n",
              "           [2.1672e-01, 4.8377e-01, 2.7785e-01,  ..., 2.2292e-01,\n",
              "            6.0066e-01, 3.7349e-01]],\n",
              "\n",
              "          [[7.8975e-01, 9.1199e-01, 8.0699e-01,  ..., 2.4765e-01,\n",
              "            1.7543e-01, 6.2032e-01],\n",
              "           [4.0237e-01, 4.1435e-01, 1.6602e-01,  ..., 8.9785e-01,\n",
              "            2.0463e-01, 2.5119e-02],\n",
              "           [8.0603e-01, 4.3879e-01, 1.1234e-01,  ..., 7.6951e-02,\n",
              "            5.3453e-01, 1.3994e-02],\n",
              "           ...,\n",
              "           [2.3877e-01, 7.9338e-01, 4.5654e-01,  ..., 7.3090e-01,\n",
              "            9.5393e-01, 8.4704e-01],\n",
              "           [3.3888e-01, 5.9315e-01, 8.7536e-01,  ..., 1.1805e-01,\n",
              "            6.3482e-01, 9.2702e-01],\n",
              "           [4.2631e-01, 3.2164e-02, 3.7693e-02,  ..., 1.4391e-01,\n",
              "            7.3555e-01, 3.2100e-01]],\n",
              "\n",
              "          ...,\n",
              "\n",
              "          [[9.7920e-01, 9.1374e-01, 2.0670e-01,  ..., 2.0109e-01,\n",
              "            1.0816e-01, 5.2028e-01],\n",
              "           [8.1165e-01, 9.0705e-01, 9.0283e-01,  ..., 4.3461e-01,\n",
              "            2.7875e-02, 2.8169e-01],\n",
              "           [9.6995e-01, 2.2367e-01, 6.8293e-01,  ..., 7.3429e-01,\n",
              "            1.8433e-01, 3.7955e-01],\n",
              "           ...,\n",
              "           [4.9701e-01, 4.8745e-01, 4.7934e-01,  ..., 8.6949e-01,\n",
              "            7.2163e-01, 7.0877e-01],\n",
              "           [6.4552e-01, 8.0531e-01, 6.7753e-01,  ..., 5.9325e-01,\n",
              "            7.5566e-01, 5.3099e-01],\n",
              "           [9.9195e-01, 1.1101e-01, 1.6931e-01,  ..., 4.8210e-01,\n",
              "            6.3791e-01, 7.3976e-01]],\n",
              "\n",
              "          [[1.2347e-01, 9.2153e-01, 6.7637e-01,  ..., 8.3611e-01,\n",
              "            8.2430e-01, 8.2097e-01],\n",
              "           [8.2925e-01, 9.3450e-01, 4.1812e-01,  ..., 2.3618e-01,\n",
              "            3.1410e-01, 6.4476e-01],\n",
              "           [6.4534e-01, 2.8922e-01, 1.1080e-01,  ..., 1.8304e-02,\n",
              "            7.6539e-01, 3.6370e-01],\n",
              "           ...,\n",
              "           [3.6375e-01, 9.2912e-01, 1.1787e-01,  ..., 1.3156e-02,\n",
              "            5.0967e-01, 8.2091e-01],\n",
              "           [6.2556e-01, 4.3351e-01, 5.9002e-01,  ..., 9.7541e-01,\n",
              "            4.1066e-01, 6.6241e-01],\n",
              "           [5.4191e-01, 9.5479e-01, 1.2343e-01,  ..., 8.0085e-01,\n",
              "            1.3247e-02, 8.7501e-01]],\n",
              "\n",
              "          [[6.0671e-01, 4.9063e-01, 2.4973e-02,  ..., 4.0320e-01,\n",
              "            5.8498e-01, 3.4859e-01],\n",
              "           [4.2477e-01, 3.9903e-01, 7.8737e-01,  ..., 6.3169e-01,\n",
              "            4.1097e-01, 2.1220e-01],\n",
              "           [4.4884e-01, 2.3848e-01, 2.7878e-01,  ..., 8.8204e-02,\n",
              "            7.0645e-01, 8.9266e-01],\n",
              "           ...,\n",
              "           [4.5201e-01, 9.3944e-01, 3.3030e-01,  ..., 6.8617e-01,\n",
              "            6.6170e-01, 1.0889e-03],\n",
              "           [9.5069e-01, 5.8785e-01, 7.6455e-01,  ..., 8.7908e-01,\n",
              "            8.4913e-01, 2.4231e-01],\n",
              "           [5.8863e-02, 3.3145e-01, 1.5364e-01,  ..., 5.7045e-01,\n",
              "            5.0151e-01, 9.1705e-02]]],\n",
              "\n",
              "\n",
              "         [[[9.6285e-01, 9.4114e-01, 5.1203e-01,  ..., 6.2408e-01,\n",
              "            4.8659e-01, 5.3902e-01],\n",
              "           [9.8156e-01, 4.1369e-01, 3.6684e-02,  ..., 7.6780e-01,\n",
              "            6.3837e-01, 5.0254e-01],\n",
              "           [4.3819e-01, 4.8489e-01, 9.7707e-01,  ..., 1.6603e-01,\n",
              "            6.2475e-01, 9.8885e-01],\n",
              "           ...,\n",
              "           [9.9087e-01, 5.0992e-01, 5.8664e-01,  ..., 1.2641e-01,\n",
              "            5.0227e-01, 4.3390e-01],\n",
              "           [8.6765e-01, 2.2098e-01, 3.8001e-01,  ..., 3.4549e-01,\n",
              "            5.8695e-01, 5.2120e-01],\n",
              "           [6.7735e-03, 1.9987e-01, 3.5766e-01,  ..., 9.5954e-01,\n",
              "            5.8999e-01, 4.2635e-01]],\n",
              "\n",
              "          [[1.4335e-01, 3.4510e-01, 9.8109e-01,  ..., 2.3714e-01,\n",
              "            3.3899e-01, 1.9244e-01],\n",
              "           [2.7620e-01, 7.7359e-01, 5.7992e-01,  ..., 1.6665e-01,\n",
              "            9.4986e-01, 4.0115e-01],\n",
              "           [9.7744e-01, 6.4110e-01, 8.5434e-01,  ..., 6.6033e-01,\n",
              "            5.2172e-01, 8.0165e-01],\n",
              "           ...,\n",
              "           [3.0491e-02, 4.2325e-01, 7.1304e-01,  ..., 3.6205e-02,\n",
              "            2.0080e-01, 9.4973e-01],\n",
              "           [2.4666e-01, 3.8006e-01, 9.0200e-01,  ..., 7.8051e-01,\n",
              "            1.7662e-01, 3.2748e-01],\n",
              "           [8.3832e-01, 8.3941e-01, 7.6536e-01,  ..., 8.0115e-01,\n",
              "            1.5137e-01, 6.6742e-01]],\n",
              "\n",
              "          [[3.3822e-01, 7.3279e-01, 4.4005e-01,  ..., 2.7582e-01,\n",
              "            2.5783e-01, 1.8808e-01],\n",
              "           [9.8520e-01, 8.2519e-01, 2.8703e-01,  ..., 3.6446e-01,\n",
              "            9.2418e-01, 8.7077e-02],\n",
              "           [1.5573e-01, 2.0037e-01, 8.6401e-01,  ..., 9.7910e-01,\n",
              "            6.0262e-01, 9.9687e-01],\n",
              "           ...,\n",
              "           [6.3824e-01, 4.8161e-01, 2.0630e-01,  ..., 6.4653e-01,\n",
              "            9.6715e-01, 3.0299e-01],\n",
              "           [1.3827e-01, 2.0990e-01, 3.7319e-01,  ..., 6.8827e-01,\n",
              "            3.8658e-01, 2.1242e-02],\n",
              "           [4.5800e-01, 3.6877e-01, 9.5572e-01,  ..., 6.2838e-01,\n",
              "            8.1783e-01, 2.3868e-01]],\n",
              "\n",
              "          ...,\n",
              "\n",
              "          [[1.0969e-01, 4.7332e-01, 4.3484e-02,  ..., 6.2337e-01,\n",
              "            1.0547e-01, 7.6263e-01],\n",
              "           [2.8267e-01, 9.0002e-02, 2.9067e-01,  ..., 7.5037e-01,\n",
              "            4.0453e-01, 2.7920e-01],\n",
              "           [3.1861e-01, 9.3274e-01, 7.8868e-02,  ..., 6.1029e-01,\n",
              "            9.6044e-01, 9.4406e-01],\n",
              "           ...,\n",
              "           [7.0822e-01, 5.3736e-01, 4.1746e-02,  ..., 9.8682e-02,\n",
              "            8.8755e-01, 8.2623e-01],\n",
              "           [1.6263e-01, 5.8987e-01, 4.2787e-01,  ..., 9.1952e-01,\n",
              "            6.4582e-01, 9.8991e-01],\n",
              "           [8.6603e-02, 8.1382e-01, 8.7817e-01,  ..., 7.2298e-01,\n",
              "            1.4543e-01, 4.7823e-01]],\n",
              "\n",
              "          [[9.1323e-02, 6.7015e-01, 4.5265e-02,  ..., 1.8873e-01,\n",
              "            2.4746e-01, 5.3502e-01],\n",
              "           [6.0171e-03, 1.4128e-02, 9.5175e-01,  ..., 6.8766e-01,\n",
              "            4.8741e-01, 3.6660e-01],\n",
              "           [5.6157e-01, 4.3880e-01, 6.4479e-01,  ..., 7.4465e-02,\n",
              "            6.2869e-01, 3.8422e-01],\n",
              "           ...,\n",
              "           [8.2895e-01, 7.7622e-01, 3.5981e-01,  ..., 4.9584e-02,\n",
              "            1.9483e-02, 2.9814e-01],\n",
              "           [4.1965e-01, 2.5228e-01, 2.7948e-01,  ..., 5.9818e-01,\n",
              "            2.3518e-01, 9.8937e-01],\n",
              "           [1.9212e-01, 6.1403e-01, 5.7369e-01,  ..., 9.7388e-01,\n",
              "            2.2550e-01, 2.2636e-02]],\n",
              "\n",
              "          [[8.6425e-01, 2.7625e-01, 2.7367e-01,  ..., 9.0731e-01,\n",
              "            5.9574e-01, 1.2268e-01],\n",
              "           [1.2763e-01, 3.8021e-01, 1.9412e-01,  ..., 6.0719e-01,\n",
              "            2.3147e-01, 1.9278e-02],\n",
              "           [1.3315e-01, 3.8659e-01, 8.0618e-01,  ..., 6.3517e-01,\n",
              "            7.7568e-01, 5.8916e-01],\n",
              "           ...,\n",
              "           [3.8463e-01, 9.0849e-01, 1.7782e-01,  ..., 2.5297e-01,\n",
              "            1.5160e-01, 4.6383e-01],\n",
              "           [7.0863e-01, 2.5710e-01, 3.2929e-01,  ..., 5.6347e-01,\n",
              "            2.8145e-01, 1.0608e-01],\n",
              "           [1.9096e-01, 1.1725e-01, 7.5076e-01,  ..., 2.5150e-01,\n",
              "            7.9220e-01, 7.3794e-01]]],\n",
              "\n",
              "\n",
              "         ...,\n",
              "\n",
              "\n",
              "         [[[7.7064e-01, 6.9716e-01, 2.2309e-01,  ..., 5.8819e-01,\n",
              "            3.1071e-01, 3.0109e-01],\n",
              "           [7.9201e-02, 1.6777e-01, 7.2705e-01,  ..., 2.7277e-01,\n",
              "            8.5572e-01, 2.8330e-01],\n",
              "           [6.4298e-01, 9.5605e-01, 5.8069e-01,  ..., 1.3512e-01,\n",
              "            5.2627e-01, 4.9659e-01],\n",
              "           ...,\n",
              "           [3.0826e-01, 2.5534e-01, 7.2894e-01,  ..., 4.9197e-01,\n",
              "            4.5651e-01, 6.2482e-01],\n",
              "           [1.7198e-01, 8.8455e-01, 9.3568e-01,  ..., 1.8673e-01,\n",
              "            7.1824e-01, 1.2909e-01],\n",
              "           [8.5195e-01, 1.5633e-01, 8.3833e-01,  ..., 2.7894e-01,\n",
              "            5.2727e-01, 8.9468e-01]],\n",
              "\n",
              "          [[8.8680e-01, 2.8592e-01, 9.7801e-01,  ..., 4.8273e-01,\n",
              "            4.1731e-01, 1.4567e-01],\n",
              "           [9.3774e-01, 8.3429e-01, 5.7563e-01,  ..., 2.5563e-02,\n",
              "            6.3531e-01, 2.1704e-01],\n",
              "           [4.3001e-01, 8.5841e-01, 5.2627e-02,  ..., 5.9388e-01,\n",
              "            6.3191e-01, 2.0409e-01],\n",
              "           ...,\n",
              "           [9.4595e-01, 2.7083e-01, 1.7193e-01,  ..., 3.9684e-02,\n",
              "            3.0744e-01, 8.8629e-01],\n",
              "           [2.0030e-01, 2.8419e-01, 9.6755e-01,  ..., 2.5566e-01,\n",
              "            5.5040e-01, 1.9329e-01],\n",
              "           [5.7277e-01, 3.0364e-02, 9.1090e-02,  ..., 2.8613e-01,\n",
              "            3.2702e-01, 6.7041e-01]],\n",
              "\n",
              "          [[8.7163e-01, 9.5502e-01, 6.4757e-01,  ..., 4.2380e-02,\n",
              "            5.2270e-01, 5.5222e-01],\n",
              "           [2.3772e-01, 6.3720e-01, 2.1389e-01,  ..., 2.7860e-01,\n",
              "            5.1533e-01, 8.2656e-01],\n",
              "           [6.5641e-01, 5.3803e-01, 4.7770e-01,  ..., 1.5976e-01,\n",
              "            1.6863e-01, 4.6852e-01],\n",
              "           ...,\n",
              "           [5.2249e-01, 5.4847e-01, 2.8668e-01,  ..., 8.7793e-01,\n",
              "            9.1304e-01, 7.0748e-01],\n",
              "           [8.5843e-01, 4.6811e-01, 1.2509e-01,  ..., 2.0171e-02,\n",
              "            3.0557e-01, 4.3376e-01],\n",
              "           [1.5271e-02, 7.1621e-02, 3.3022e-01,  ..., 3.2089e-01,\n",
              "            5.8803e-01, 2.1481e-01]],\n",
              "\n",
              "          ...,\n",
              "\n",
              "          [[6.1612e-01, 4.8612e-01, 7.7279e-01,  ..., 2.4603e-01,\n",
              "            5.1974e-01, 6.9633e-01],\n",
              "           [8.3884e-01, 6.8038e-02, 5.3325e-01,  ..., 2.6954e-02,\n",
              "            7.5031e-01, 4.9067e-01],\n",
              "           [8.7977e-01, 1.8298e-01, 9.7696e-01,  ..., 8.4366e-01,\n",
              "            6.8497e-02, 1.2685e-01],\n",
              "           ...,\n",
              "           [9.3231e-01, 4.0679e-02, 9.8218e-01,  ..., 4.1345e-01,\n",
              "            5.8817e-02, 7.4818e-01],\n",
              "           [7.4636e-01, 4.5616e-01, 7.0686e-01,  ..., 5.0682e-01,\n",
              "            8.6978e-01, 8.2763e-01],\n",
              "           [8.4480e-01, 3.4802e-01, 7.6665e-01,  ..., 3.4038e-01,\n",
              "            1.8768e-01, 6.5643e-01]],\n",
              "\n",
              "          [[6.4416e-01, 3.0188e-01, 8.9331e-01,  ..., 6.8231e-01,\n",
              "            3.8988e-01, 1.6562e-01],\n",
              "           [3.4488e-01, 3.1224e-01, 8.8812e-01,  ..., 3.3247e-01,\n",
              "            5.7284e-01, 9.0304e-01],\n",
              "           [5.6836e-01, 4.8070e-01, 3.5370e-01,  ..., 4.5374e-01,\n",
              "            9.8577e-02, 5.5135e-01],\n",
              "           ...,\n",
              "           [6.1589e-02, 3.0646e-01, 9.8283e-01,  ..., 9.4878e-01,\n",
              "            9.1946e-01, 4.9995e-01],\n",
              "           [3.1522e-01, 5.3057e-01, 8.7243e-02,  ..., 3.2961e-01,\n",
              "            8.3903e-01, 6.2403e-01],\n",
              "           [9.5152e-01, 1.8701e-01, 9.3680e-01,  ..., 5.4018e-01,\n",
              "            2.8145e-01, 9.3029e-01]],\n",
              "\n",
              "          [[7.0464e-01, 8.3561e-01, 2.8810e-01,  ..., 5.6905e-01,\n",
              "            5.0943e-01, 7.4802e-01],\n",
              "           [4.8909e-01, 9.5437e-01, 9.3212e-01,  ..., 8.7426e-01,\n",
              "            2.2295e-01, 2.3518e-01],\n",
              "           [3.6459e-01, 4.3842e-01, 7.0917e-01,  ..., 9.8614e-01,\n",
              "            6.1849e-01, 4.6365e-01],\n",
              "           ...,\n",
              "           [8.2696e-02, 6.3563e-02, 5.6537e-01,  ..., 3.3143e-01,\n",
              "            4.5166e-01, 2.2423e-01],\n",
              "           [8.9095e-01, 7.9951e-01, 1.5153e-01,  ..., 7.1973e-01,\n",
              "            5.7295e-01, 5.1050e-01],\n",
              "           [2.2739e-01, 1.8751e-02, 3.6198e-01,  ..., 9.4396e-01,\n",
              "            3.0947e-01, 5.9977e-01]]],\n",
              "\n",
              "\n",
              "         [[[1.5643e-01, 3.9885e-01, 1.7271e-01,  ..., 4.6670e-01,\n",
              "            4.5825e-01, 9.3095e-01],\n",
              "           [7.9649e-02, 6.2094e-01, 7.4727e-01,  ..., 9.8705e-02,\n",
              "            9.9727e-01, 3.1985e-01],\n",
              "           [1.8183e-01, 9.4745e-01, 1.7022e-01,  ..., 1.8193e-01,\n",
              "            4.4639e-01, 9.0721e-01],\n",
              "           ...,\n",
              "           [2.5214e-01, 9.5306e-01, 6.6708e-01,  ..., 2.5879e-01,\n",
              "            3.7388e-01, 5.2291e-02],\n",
              "           [8.3451e-01, 9.4522e-01, 9.9594e-01,  ..., 6.8022e-01,\n",
              "            2.4965e-01, 6.3253e-01],\n",
              "           [7.6465e-01, 3.6652e-01, 4.3381e-01,  ..., 3.8554e-01,\n",
              "            9.3808e-01, 1.0578e-01]],\n",
              "\n",
              "          [[1.0335e-01, 3.5391e-01, 7.1205e-01,  ..., 1.3945e-01,\n",
              "            1.1184e-01, 7.7952e-01],\n",
              "           [2.0913e-03, 4.3852e-01, 6.4553e-01,  ..., 1.9461e-01,\n",
              "            2.1626e-01, 9.5337e-01],\n",
              "           [7.5131e-01, 7.7974e-01, 9.0120e-01,  ..., 6.3524e-01,\n",
              "            4.4138e-01, 9.5904e-01],\n",
              "           ...,\n",
              "           [2.4556e-01, 3.9242e-01, 3.5780e-01,  ..., 5.4444e-01,\n",
              "            6.5662e-01, 4.7250e-01],\n",
              "           [4.9020e-01, 2.8370e-01, 4.7630e-02,  ..., 4.9410e-02,\n",
              "            1.4934e-01, 1.5121e-01],\n",
              "           [6.3540e-01, 3.7011e-01, 6.3846e-01,  ..., 2.1717e-01,\n",
              "            6.9848e-01, 7.7940e-01]],\n",
              "\n",
              "          [[3.3804e-01, 4.9119e-01, 7.2152e-01,  ..., 9.0187e-01,\n",
              "            9.7304e-01, 8.8708e-01],\n",
              "           [8.8103e-01, 9.3416e-02, 7.1918e-01,  ..., 5.1497e-02,\n",
              "            9.8888e-01, 4.3963e-01],\n",
              "           [2.1656e-01, 4.2058e-01, 1.9779e-01,  ..., 3.4791e-01,\n",
              "            2.7668e-04, 8.1271e-01],\n",
              "           ...,\n",
              "           [9.1463e-01, 4.3047e-01, 5.3141e-01,  ..., 1.4697e-02,\n",
              "            4.1069e-01, 8.5637e-01],\n",
              "           [6.4616e-01, 9.4527e-01, 4.4110e-01,  ..., 5.1749e-01,\n",
              "            8.5451e-01, 1.0576e-01],\n",
              "           [2.3110e-02, 6.0231e-01, 6.2453e-01,  ..., 6.7240e-01,\n",
              "            8.3944e-01, 8.3179e-01]],\n",
              "\n",
              "          ...,\n",
              "\n",
              "          [[1.0225e-01, 4.3522e-01, 1.5598e-01,  ..., 8.5623e-01,\n",
              "            4.5200e-01, 6.1257e-01],\n",
              "           [9.3568e-01, 1.4596e-01, 4.0281e-01,  ..., 6.6020e-01,\n",
              "            2.0762e-01, 6.8782e-01],\n",
              "           [1.5289e-01, 9.2274e-01, 1.7969e-01,  ..., 6.7544e-01,\n",
              "            9.2140e-01, 8.9690e-01],\n",
              "           ...,\n",
              "           [1.3960e-01, 8.0783e-01, 8.0729e-01,  ..., 2.4606e-01,\n",
              "            9.2225e-01, 3.4032e-01],\n",
              "           [5.6529e-01, 6.3438e-01, 5.3865e-01,  ..., 2.7939e-01,\n",
              "            1.9744e-01, 1.2725e-02],\n",
              "           [1.4428e-01, 3.2437e-01, 7.7529e-02,  ..., 3.4962e-01,\n",
              "            5.5223e-01, 9.1327e-01]],\n",
              "\n",
              "          [[4.8327e-01, 7.3736e-01, 9.5503e-01,  ..., 1.3812e-02,\n",
              "            8.3082e-01, 9.8191e-01],\n",
              "           [6.2617e-01, 9.1551e-01, 5.0493e-02,  ..., 3.3900e-01,\n",
              "            1.5550e-01, 3.2662e-01],\n",
              "           [9.0573e-01, 1.6171e-01, 5.9122e-01,  ..., 3.8707e-01,\n",
              "            3.3650e-01, 2.6019e-01],\n",
              "           ...,\n",
              "           [2.5174e-02, 6.3846e-01, 9.4159e-01,  ..., 5.4011e-01,\n",
              "            4.5956e-01, 5.2762e-01],\n",
              "           [4.2115e-01, 9.1563e-01, 7.6095e-01,  ..., 3.1579e-01,\n",
              "            7.0224e-01, 5.7234e-01],\n",
              "           [5.4171e-01, 6.7638e-01, 4.6636e-01,  ..., 2.8886e-01,\n",
              "            9.0883e-01, 7.8027e-01]],\n",
              "\n",
              "          [[4.1153e-01, 7.9021e-01, 7.2670e-01,  ..., 7.0438e-01,\n",
              "            6.0787e-01, 4.8583e-01],\n",
              "           [7.7266e-02, 7.3945e-02, 2.2632e-01,  ..., 1.9389e-01,\n",
              "            2.7153e-01, 2.7439e-01],\n",
              "           [9.4447e-02, 4.3074e-01, 5.3747e-02,  ..., 2.5963e-01,\n",
              "            3.2161e-01, 4.9860e-01],\n",
              "           ...,\n",
              "           [7.2255e-01, 9.6482e-01, 7.9557e-01,  ..., 3.9815e-01,\n",
              "            8.9373e-01, 5.2946e-01],\n",
              "           [3.6724e-01, 1.7231e-01, 1.5657e-01,  ..., 8.8622e-01,\n",
              "            1.5780e-01, 1.2222e-01],\n",
              "           [2.2921e-01, 8.9374e-01, 9.8676e-01,  ..., 4.6736e-01,\n",
              "            5.5659e-01, 7.0415e-01]]],\n",
              "\n",
              "\n",
              "         [[[5.0994e-01, 8.1513e-01, 2.3697e-01,  ..., 7.9417e-01,\n",
              "            6.8925e-01, 6.7780e-01],\n",
              "           [4.3544e-01, 5.8842e-01, 5.9685e-01,  ..., 9.9267e-01,\n",
              "            1.2254e-01, 1.1047e-01],\n",
              "           [6.4633e-02, 3.3478e-01, 3.0781e-01,  ..., 3.9902e-01,\n",
              "            2.9297e-01, 4.2924e-01],\n",
              "           ...,\n",
              "           [6.4392e-01, 1.6681e-01, 4.3237e-01,  ..., 6.2674e-01,\n",
              "            9.3068e-01, 6.8325e-02],\n",
              "           [4.1269e-01, 3.7594e-01, 9.2795e-01,  ..., 2.7716e-01,\n",
              "            1.5062e-02, 6.9033e-01],\n",
              "           [6.3760e-01, 1.4320e-02, 2.8758e-01,  ..., 2.3692e-01,\n",
              "            5.0110e-01, 4.3396e-02]],\n",
              "\n",
              "          [[1.5924e-01, 8.4885e-01, 3.1287e-02,  ..., 5.1225e-01,\n",
              "            1.8941e-01, 9.8227e-03],\n",
              "           [3.8600e-01, 7.9814e-01, 5.3159e-01,  ..., 2.9620e-01,\n",
              "            5.1453e-01, 9.9724e-01],\n",
              "           [7.9387e-01, 6.5705e-02, 1.1960e-01,  ..., 3.1224e-01,\n",
              "            7.3306e-01, 2.6985e-01],\n",
              "           ...,\n",
              "           [5.8048e-01, 4.9414e-01, 1.9622e-02,  ..., 7.5891e-01,\n",
              "            2.7666e-01, 3.7407e-01],\n",
              "           [1.0760e-01, 3.8953e-01, 6.2839e-02,  ..., 8.9487e-01,\n",
              "            8.0886e-01, 5.7467e-01],\n",
              "           [9.6394e-01, 6.1859e-01, 4.3665e-01,  ..., 9.3869e-02,\n",
              "            3.3079e-01, 8.3733e-01]],\n",
              "\n",
              "          [[1.8354e-01, 2.5175e-01, 9.3844e-01,  ..., 4.4345e-01,\n",
              "            1.5194e-01, 1.2286e-01],\n",
              "           [1.0844e-01, 1.3573e-01, 1.7787e-01,  ..., 5.9430e-01,\n",
              "            8.9365e-01, 5.4797e-01],\n",
              "           [1.3620e-01, 4.6464e-01, 3.8108e-01,  ..., 2.0137e-03,\n",
              "            7.2889e-01, 5.3842e-01],\n",
              "           ...,\n",
              "           [6.8391e-01, 5.9583e-01, 9.1066e-01,  ..., 9.7911e-01,\n",
              "            6.1560e-01, 8.5946e-01],\n",
              "           [6.3035e-01, 8.4382e-01, 4.6705e-01,  ..., 8.6428e-01,\n",
              "            9.1762e-01, 7.6132e-01],\n",
              "           [3.7432e-01, 9.9624e-01, 1.8743e-01,  ..., 7.4612e-01,\n",
              "            5.8370e-01, 3.0972e-01]],\n",
              "\n",
              "          ...,\n",
              "\n",
              "          [[4.4367e-01, 9.9401e-01, 9.8069e-01,  ..., 4.4842e-01,\n",
              "            2.4512e-01, 3.5560e-01],\n",
              "           [6.6413e-01, 5.9491e-01, 8.9838e-02,  ..., 9.6550e-01,\n",
              "            8.9623e-01, 5.6740e-01],\n",
              "           [1.4987e-01, 6.1496e-01, 3.3800e-01,  ..., 8.1432e-01,\n",
              "            8.9834e-01, 2.0556e-02],\n",
              "           ...,\n",
              "           [1.3147e-01, 1.2465e-01, 1.3265e-01,  ..., 1.4560e-01,\n",
              "            1.5389e-01, 3.2359e-01],\n",
              "           [4.4297e-01, 6.4859e-01, 2.0065e-01,  ..., 6.2049e-01,\n",
              "            7.4270e-01, 8.7500e-01],\n",
              "           [1.9654e-01, 6.0535e-01, 1.1898e-01,  ..., 7.9551e-01,\n",
              "            8.8019e-01, 3.8399e-01]],\n",
              "\n",
              "          [[6.3937e-01, 2.8482e-01, 5.1888e-01,  ..., 8.1129e-01,\n",
              "            5.3080e-01, 4.4908e-01],\n",
              "           [1.6591e-01, 9.5050e-01, 6.7808e-02,  ..., 9.9281e-01,\n",
              "            8.5061e-01, 8.0852e-01],\n",
              "           [1.7323e-01, 2.7641e-01, 7.9382e-01,  ..., 6.3837e-05,\n",
              "            1.2951e-01, 2.1718e-01],\n",
              "           ...,\n",
              "           [7.7481e-01, 7.0294e-01, 4.6785e-01,  ..., 5.3333e-01,\n",
              "            7.8627e-03, 2.9930e-01],\n",
              "           [9.0296e-01, 3.5693e-01, 2.0976e-01,  ..., 2.0323e-01,\n",
              "            1.4589e-01, 4.7686e-02],\n",
              "           [6.9228e-02, 2.3439e-02, 1.3346e-01,  ..., 8.9143e-01,\n",
              "            8.6065e-01, 2.4144e-01]],\n",
              "\n",
              "          [[2.7302e-01, 9.5979e-01, 7.1246e-01,  ..., 2.4786e-01,\n",
              "            6.0131e-02, 7.5471e-01],\n",
              "           [6.7711e-01, 7.3256e-01, 6.1006e-01,  ..., 7.2589e-01,\n",
              "            4.3736e-01, 6.2075e-01],\n",
              "           [8.8339e-01, 8.2790e-01, 2.3031e-01,  ..., 3.4756e-01,\n",
              "            6.9625e-01, 9.4340e-01],\n",
              "           ...,\n",
              "           [8.5263e-01, 9.8161e-01, 1.4026e-01,  ..., 2.0722e-01,\n",
              "            2.7160e-01, 4.0867e-02],\n",
              "           [2.0814e-01, 8.9738e-02, 4.5772e-01,  ..., 5.7067e-01,\n",
              "            7.5111e-01, 2.9816e-01],\n",
              "           [5.2006e-01, 7.4380e-01, 7.8482e-01,  ..., 2.0706e-01,\n",
              "            6.3882e-01, 5.2845e-01]]]],\n",
              "\n",
              "\n",
              "\n",
              "        [[[[1.9420e-01, 2.1422e-01, 5.0756e-01,  ..., 2.2916e-01,\n",
              "            2.4124e-01, 7.8684e-01],\n",
              "           [2.7808e-01, 2.8207e-01, 7.1772e-01,  ..., 3.8232e-01,\n",
              "            6.2645e-01, 4.3256e-01],\n",
              "           [7.1121e-01, 4.8272e-01, 8.0251e-01,  ..., 4.0170e-01,\n",
              "            3.2927e-01, 7.6626e-01],\n",
              "           ...,\n",
              "           [4.9179e-01, 7.0035e-02, 3.1569e-01,  ..., 9.8152e-01,\n",
              "            1.0546e-01, 4.0489e-01],\n",
              "           [6.4271e-01, 4.3047e-01, 2.1159e-01,  ..., 9.7097e-01,\n",
              "            1.3773e-01, 5.3222e-01],\n",
              "           [6.1415e-01, 2.1547e-04, 9.6769e-01,  ..., 5.7501e-01,\n",
              "            6.6338e-01, 2.3962e-01]],\n",
              "\n",
              "          [[3.8167e-01, 3.6829e-01, 2.7292e-01,  ..., 2.2990e-01,\n",
              "            8.2559e-01, 4.3411e-01],\n",
              "           [4.0884e-01, 2.6218e-01, 9.1296e-01,  ..., 1.0559e-01,\n",
              "            5.9415e-01, 6.5685e-01],\n",
              "           [2.1194e-01, 8.5504e-01, 4.7473e-01,  ..., 2.9996e-02,\n",
              "            1.7241e-01, 5.0464e-01],\n",
              "           ...,\n",
              "           [6.9342e-01, 7.4598e-01, 1.1270e-01,  ..., 5.3331e-01,\n",
              "            3.9761e-01, 4.9331e-01],\n",
              "           [4.2316e-01, 3.6323e-02, 8.6996e-01,  ..., 4.9208e-01,\n",
              "            2.4843e-01, 6.0331e-02],\n",
              "           [7.6819e-01, 9.8738e-01, 7.4460e-02,  ..., 9.6335e-01,\n",
              "            5.4754e-01, 8.4443e-01]],\n",
              "\n",
              "          [[1.1614e-01, 1.4639e-01, 4.1328e-01,  ..., 8.0403e-01,\n",
              "            6.3556e-01, 1.8025e-01],\n",
              "           [6.5145e-01, 8.1560e-01, 1.8890e-01,  ..., 1.2746e-01,\n",
              "            1.9196e-01, 8.9919e-01],\n",
              "           [2.0637e-01, 1.4720e-01, 4.8545e-01,  ..., 6.1329e-01,\n",
              "            8.1155e-01, 5.5781e-01],\n",
              "           ...,\n",
              "           [8.4711e-01, 1.3875e-02, 9.3003e-01,  ..., 3.6722e-01,\n",
              "            9.5534e-01, 2.7403e-01],\n",
              "           [5.5470e-01, 3.2196e-01, 4.7860e-01,  ..., 9.3453e-01,\n",
              "            6.0989e-01, 8.7215e-01],\n",
              "           [8.7383e-01, 7.2799e-01, 7.9201e-01,  ..., 6.1518e-01,\n",
              "            9.4368e-01, 2.9177e-01]],\n",
              "\n",
              "          ...,\n",
              "\n",
              "          [[5.3600e-01, 1.6290e-01, 2.6120e-01,  ..., 5.8423e-01,\n",
              "            6.4975e-01, 6.1469e-01],\n",
              "           [5.6327e-01, 2.5538e-01, 3.4640e-02,  ..., 4.8277e-01,\n",
              "            1.0828e-01, 8.6645e-01],\n",
              "           [1.8704e-01, 1.9711e-01, 1.3091e-01,  ..., 8.3167e-01,\n",
              "            2.1686e-01, 9.9879e-01],\n",
              "           ...,\n",
              "           [8.7216e-01, 7.3044e-01, 6.6450e-01,  ..., 3.8927e-01,\n",
              "            6.5012e-02, 7.2763e-02],\n",
              "           [5.0001e-01, 4.1317e-01, 5.3849e-01,  ..., 5.3623e-02,\n",
              "            2.9704e-01, 8.5240e-01],\n",
              "           [7.4544e-01, 1.8603e-01, 9.9025e-01,  ..., 4.7938e-01,\n",
              "            8.2065e-01, 1.3507e-01]],\n",
              "\n",
              "          [[6.7196e-01, 1.6049e-01, 3.4400e-01,  ..., 5.5582e-01,\n",
              "            7.0671e-01, 9.0339e-01],\n",
              "           [2.3466e-01, 8.3311e-01, 8.5570e-01,  ..., 4.5093e-01,\n",
              "            6.0785e-01, 5.8054e-01],\n",
              "           [4.9890e-01, 7.2536e-01, 1.7118e-01,  ..., 4.4762e-01,\n",
              "            4.7453e-01, 1.6551e-02],\n",
              "           ...,\n",
              "           [5.0290e-01, 4.3679e-01, 9.4914e-02,  ..., 4.4299e-01,\n",
              "            8.6637e-01, 5.7851e-01],\n",
              "           [8.8656e-02, 4.9424e-02, 2.1187e-01,  ..., 3.7602e-01,\n",
              "            3.9902e-01, 2.6671e-01],\n",
              "           [4.2816e-01, 9.6387e-01, 9.9079e-02,  ..., 1.0973e-02,\n",
              "            5.4959e-01, 1.4169e-01]],\n",
              "\n",
              "          [[5.2828e-01, 9.6662e-01, 4.4025e-01,  ..., 9.5110e-01,\n",
              "            6.5242e-01, 4.8040e-01],\n",
              "           [4.3502e-01, 7.3327e-01, 2.4637e-01,  ..., 5.3198e-01,\n",
              "            1.0581e-01, 1.7691e-01],\n",
              "           [6.0319e-01, 9.1950e-01, 8.4568e-01,  ..., 8.9636e-02,\n",
              "            2.9985e-01, 2.9388e-02],\n",
              "           ...,\n",
              "           [9.0743e-01, 8.1050e-01, 4.7114e-01,  ..., 7.3233e-01,\n",
              "            6.0103e-01, 9.3490e-02],\n",
              "           [7.3459e-01, 6.6918e-02, 5.4494e-01,  ..., 7.0443e-01,\n",
              "            3.7104e-01, 4.5541e-01],\n",
              "           [3.2468e-02, 3.3841e-01, 3.3926e-01,  ..., 4.4990e-01,\n",
              "            9.9155e-01, 5.4731e-02]]],\n",
              "\n",
              "\n",
              "         [[[7.0790e-01, 2.8780e-01, 9.1210e-02,  ..., 4.1791e-01,\n",
              "            4.5452e-01, 9.5047e-01],\n",
              "           [4.0160e-01, 4.8842e-01, 3.5183e-01,  ..., 5.2069e-03,\n",
              "            7.9442e-01, 5.1538e-01],\n",
              "           [4.3440e-01, 8.9098e-01, 5.5516e-01,  ..., 5.8379e-01,\n",
              "            6.2428e-01, 2.1370e-01],\n",
              "           ...,\n",
              "           [1.7262e-01, 8.0131e-01, 9.8761e-01,  ..., 5.0893e-01,\n",
              "            1.1455e-01, 6.5939e-01],\n",
              "           [4.3944e-01, 3.7752e-01, 6.2413e-01,  ..., 7.9261e-01,\n",
              "            8.5848e-01, 6.0521e-01],\n",
              "           [8.6744e-01, 4.4193e-01, 6.0734e-01,  ..., 4.2164e-01,\n",
              "            6.1597e-01, 5.3177e-02]],\n",
              "\n",
              "          [[9.0194e-01, 4.7938e-01, 6.9909e-01,  ..., 3.0185e-01,\n",
              "            8.9988e-01, 7.5700e-01],\n",
              "           [5.2726e-01, 7.9175e-01, 6.6806e-01,  ..., 5.0834e-01,\n",
              "            5.5394e-01, 6.8194e-01],\n",
              "           [3.3592e-01, 8.1460e-01, 7.9016e-01,  ..., 3.6808e-02,\n",
              "            9.2219e-01, 2.5292e-01],\n",
              "           ...,\n",
              "           [1.7345e-01, 5.3212e-01, 3.8294e-02,  ..., 4.1732e-01,\n",
              "            3.5079e-01, 8.7813e-01],\n",
              "           [8.6550e-01, 4.1705e-01, 6.5090e-01,  ..., 2.1150e-01,\n",
              "            1.2433e-01, 4.6857e-01],\n",
              "           [8.4026e-01, 5.0683e-01, 9.6446e-01,  ..., 2.9287e-01,\n",
              "            4.4738e-02, 4.3871e-01]],\n",
              "\n",
              "          [[5.2386e-01, 5.4293e-01, 2.8833e-01,  ..., 6.1718e-01,\n",
              "            7.9564e-01, 5.5422e-01],\n",
              "           [3.1819e-01, 8.9947e-01, 8.0748e-01,  ..., 9.1035e-01,\n",
              "            9.3540e-02, 5.4314e-01],\n",
              "           [7.6165e-01, 1.1035e-01, 7.8977e-01,  ..., 6.1464e-01,\n",
              "            5.2234e-01, 3.7185e-01],\n",
              "           ...,\n",
              "           [5.9055e-01, 1.1621e-02, 6.4268e-01,  ..., 4.8959e-01,\n",
              "            4.3483e-01, 2.2229e-01],\n",
              "           [8.1087e-01, 6.4055e-01, 2.9656e-01,  ..., 5.6070e-01,\n",
              "            5.2694e-01, 6.1696e-01],\n",
              "           [4.2775e-01, 9.7823e-01, 2.6963e-01,  ..., 4.2525e-01,\n",
              "            3.7219e-01, 8.6965e-02]],\n",
              "\n",
              "          ...,\n",
              "\n",
              "          [[2.8854e-01, 2.1669e-01, 2.6718e-01,  ..., 3.7641e-01,\n",
              "            9.3558e-01, 5.2199e-01],\n",
              "           [7.2119e-01, 3.1070e-01, 9.5835e-01,  ..., 6.3086e-01,\n",
              "            8.5378e-01, 8.8793e-01],\n",
              "           [3.8127e-01, 5.8292e-01, 4.3565e-01,  ..., 3.7763e-01,\n",
              "            8.7041e-04, 7.2663e-01],\n",
              "           ...,\n",
              "           [1.7266e-01, 4.1588e-01, 8.9204e-01,  ..., 4.5916e-02,\n",
              "            5.9888e-01, 4.9003e-01],\n",
              "           [1.4218e-02, 7.6416e-01, 3.1743e-01,  ..., 9.9733e-01,\n",
              "            5.1459e-01, 8.9237e-01],\n",
              "           [6.0950e-01, 2.4905e-01, 6.2013e-01,  ..., 4.1420e-01,\n",
              "            2.4930e-01, 9.7653e-01]],\n",
              "\n",
              "          [[7.6848e-01, 8.7594e-01, 1.1058e-01,  ..., 9.4235e-01,\n",
              "            4.1164e-01, 1.1233e-01],\n",
              "           [5.0564e-01, 4.8098e-01, 1.8855e-01,  ..., 4.7947e-01,\n",
              "            8.0928e-01, 3.5725e-01],\n",
              "           [4.4420e-01, 7.2441e-02, 1.8843e-01,  ..., 2.6735e-02,\n",
              "            3.8062e-01, 7.0283e-01],\n",
              "           ...,\n",
              "           [3.4636e-01, 5.9275e-01, 2.1054e-02,  ..., 5.4466e-02,\n",
              "            8.2043e-01, 8.0376e-01],\n",
              "           [6.1535e-02, 5.9615e-01, 4.2484e-01,  ..., 8.1660e-01,\n",
              "            5.3997e-01, 5.0624e-01],\n",
              "           [8.8748e-01, 1.1106e-01, 9.2754e-01,  ..., 3.2359e-01,\n",
              "            5.6101e-01, 9.2280e-01]],\n",
              "\n",
              "          [[3.6121e-01, 1.9326e-02, 1.7634e-01,  ..., 1.1067e-01,\n",
              "            1.5637e-02, 5.8728e-01],\n",
              "           [8.0018e-01, 8.3356e-01, 4.3941e-02,  ..., 5.6710e-01,\n",
              "            8.0452e-02, 1.4181e-01],\n",
              "           [2.6494e-01, 1.1193e-02, 7.4808e-01,  ..., 1.3495e-01,\n",
              "            4.8366e-01, 1.9609e-01],\n",
              "           ...,\n",
              "           [5.6312e-02, 7.4385e-01, 8.5010e-01,  ..., 4.8214e-01,\n",
              "            9.4521e-01, 9.3667e-01],\n",
              "           [1.2924e-01, 3.4766e-01, 6.0683e-01,  ..., 9.8846e-01,\n",
              "            1.8364e-01, 8.6649e-01],\n",
              "           [3.9021e-01, 3.1326e-01, 4.6754e-01,  ..., 1.3266e-01,\n",
              "            5.4350e-01, 3.4003e-01]]],\n",
              "\n",
              "\n",
              "         [[[4.1326e-01, 2.3156e-01, 9.9510e-01,  ..., 4.1560e-01,\n",
              "            7.1083e-01, 6.4928e-01],\n",
              "           [3.8183e-01, 4.1864e-01, 8.2306e-02,  ..., 9.1216e-02,\n",
              "            8.3595e-01, 8.1157e-01],\n",
              "           [9.5095e-01, 2.5065e-02, 2.0673e-02,  ..., 6.4820e-01,\n",
              "            6.8416e-01, 5.2453e-01],\n",
              "           ...,\n",
              "           [7.3578e-01, 5.7278e-01, 4.1539e-01,  ..., 6.9088e-01,\n",
              "            3.7627e-02, 2.6023e-01],\n",
              "           [6.6742e-01, 9.0668e-01, 5.2707e-01,  ..., 3.1299e-01,\n",
              "            3.7766e-01, 4.7421e-01],\n",
              "           [2.7458e-01, 4.2094e-01, 1.7595e-01,  ..., 6.2381e-01,\n",
              "            5.3497e-02, 5.5076e-01]],\n",
              "\n",
              "          [[3.0684e-01, 4.0708e-01, 1.7795e-01,  ..., 5.2679e-01,\n",
              "            4.6041e-01, 6.2823e-02],\n",
              "           [4.3484e-01, 9.9382e-01, 6.8860e-01,  ..., 7.6057e-01,\n",
              "            2.1083e-01, 7.4372e-01],\n",
              "           [5.2340e-01, 5.5267e-01, 2.7748e-01,  ..., 1.3253e-01,\n",
              "            3.5265e-01, 3.4353e-01],\n",
              "           ...,\n",
              "           [7.1736e-01, 1.8284e-01, 3.2462e-01,  ..., 6.7692e-01,\n",
              "            6.2841e-01, 7.8745e-02],\n",
              "           [4.6104e-01, 2.5524e-01, 1.7909e-01,  ..., 6.9379e-01,\n",
              "            1.9054e-01, 1.1634e-01],\n",
              "           [1.3540e-01, 1.9652e-02, 6.0025e-01,  ..., 8.2436e-01,\n",
              "            9.7977e-01, 4.9135e-01]],\n",
              "\n",
              "          [[6.2794e-01, 5.3215e-01, 6.6520e-01,  ..., 4.6013e-02,\n",
              "            4.1164e-01, 6.9414e-01],\n",
              "           [6.8634e-01, 1.5129e-01, 1.7851e-01,  ..., 2.8161e-01,\n",
              "            6.2668e-01, 5.0695e-01],\n",
              "           [7.3701e-01, 1.8736e-02, 4.1313e-01,  ..., 5.2440e-01,\n",
              "            8.3054e-01, 4.0588e-01],\n",
              "           ...,\n",
              "           [3.6343e-01, 7.9503e-01, 8.1374e-01,  ..., 7.1099e-01,\n",
              "            3.9030e-01, 6.9975e-01],\n",
              "           [7.3053e-02, 6.2202e-01, 6.8510e-01,  ..., 5.3409e-02,\n",
              "            6.9533e-01, 1.9889e-01],\n",
              "           [5.0454e-01, 4.4247e-02, 5.3852e-01,  ..., 9.2090e-02,\n",
              "            7.3760e-01, 1.4486e-01]],\n",
              "\n",
              "          ...,\n",
              "\n",
              "          [[9.3031e-01, 5.7244e-01, 6.1921e-01,  ..., 7.6456e-01,\n",
              "            1.1419e-01, 7.6261e-01],\n",
              "           [9.0289e-01, 7.8199e-01, 9.5632e-01,  ..., 2.1670e-02,\n",
              "            4.3012e-02, 3.4560e-01],\n",
              "           [5.2609e-01, 1.3832e-01, 5.6475e-01,  ..., 4.2755e-01,\n",
              "            9.1038e-01, 4.1737e-01],\n",
              "           ...,\n",
              "           [2.3549e-01, 2.6098e-01, 3.7748e-01,  ..., 2.6282e-01,\n",
              "            4.4953e-01, 9.7102e-01],\n",
              "           [9.2899e-01, 9.5420e-01, 5.3026e-01,  ..., 1.2649e-01,\n",
              "            7.6693e-01, 2.7360e-01],\n",
              "           [5.5627e-01, 1.0100e-01, 7.7560e-01,  ..., 5.2949e-02,\n",
              "            9.6999e-01, 9.7333e-01]],\n",
              "\n",
              "          [[4.4670e-01, 3.6315e-01, 6.5360e-01,  ..., 8.0114e-01,\n",
              "            2.4248e-01, 1.1172e-01],\n",
              "           [5.8680e-01, 8.9377e-01, 7.9886e-01,  ..., 6.7634e-01,\n",
              "            7.1296e-01, 5.4777e-01],\n",
              "           [9.3348e-01, 4.0539e-01, 4.4539e-01,  ..., 9.8044e-01,\n",
              "            1.5748e-01, 2.8413e-01],\n",
              "           ...,\n",
              "           [6.4784e-01, 4.9351e-01, 3.5935e-02,  ..., 8.4351e-01,\n",
              "            7.4818e-01, 6.6416e-01],\n",
              "           [1.1677e-01, 2.0933e-01, 7.8024e-01,  ..., 5.2837e-01,\n",
              "            8.4519e-01, 6.7737e-01],\n",
              "           [4.2963e-01, 5.1452e-01, 7.2324e-01,  ..., 1.6584e-01,\n",
              "            9.2298e-01, 9.5451e-01]],\n",
              "\n",
              "          [[5.4254e-01, 1.0262e-01, 4.2037e-01,  ..., 6.4582e-01,\n",
              "            5.7635e-01, 3.1978e-01],\n",
              "           [6.8037e-01, 6.6031e-01, 5.9045e-01,  ..., 8.7517e-01,\n",
              "            5.6445e-01, 4.4256e-01],\n",
              "           [6.5921e-01, 3.1322e-01, 8.8291e-01,  ..., 1.0657e-01,\n",
              "            9.5754e-01, 5.0640e-01],\n",
              "           ...,\n",
              "           [1.9186e-01, 3.6797e-01, 3.0521e-01,  ..., 7.4460e-01,\n",
              "            9.3533e-01, 8.9033e-01],\n",
              "           [9.9386e-01, 6.9944e-01, 4.4581e-01,  ..., 1.2049e-01,\n",
              "            7.9380e-01, 1.1404e-01],\n",
              "           [8.0796e-01, 4.1542e-01, 2.1523e-01,  ..., 6.4335e-01,\n",
              "            4.3392e-01, 3.7208e-01]]],\n",
              "\n",
              "\n",
              "         ...,\n",
              "\n",
              "\n",
              "         [[[1.6584e-01, 6.0040e-01, 8.1088e-02,  ..., 5.1001e-01,\n",
              "            5.1493e-01, 5.9474e-01],\n",
              "           [6.3909e-01, 8.8143e-01, 1.3625e-02,  ..., 7.6012e-01,\n",
              "            7.1752e-01, 7.1117e-01],\n",
              "           [9.4428e-01, 5.5532e-01, 2.0478e-01,  ..., 5.9036e-01,\n",
              "            1.6984e-01, 4.4635e-01],\n",
              "           ...,\n",
              "           [7.6796e-01, 1.1566e-01, 3.9323e-01,  ..., 9.5372e-01,\n",
              "            3.8892e-02, 9.6343e-01],\n",
              "           [1.5793e-01, 1.8600e-01, 8.4727e-01,  ..., 1.2379e-01,\n",
              "            7.6174e-01, 3.2945e-01],\n",
              "           [8.1221e-01, 5.9192e-01, 4.3355e-01,  ..., 5.7335e-01,\n",
              "            9.2862e-01, 1.8935e-01]],\n",
              "\n",
              "          [[9.5249e-01, 7.1085e-01, 5.5974e-01,  ..., 6.7094e-02,\n",
              "            7.8073e-01, 2.1827e-02],\n",
              "           [8.0372e-01, 2.9703e-01, 2.6131e-01,  ..., 5.9416e-01,\n",
              "            4.9561e-01, 9.3128e-01],\n",
              "           [9.5597e-01, 9.9023e-01, 4.1781e-01,  ..., 3.8632e-01,\n",
              "            9.3702e-01, 3.5538e-01],\n",
              "           ...,\n",
              "           [5.0812e-01, 6.8209e-01, 3.1201e-01,  ..., 2.8195e-01,\n",
              "            5.6871e-01, 6.3849e-01],\n",
              "           [7.2147e-02, 2.7882e-01, 3.9275e-01,  ..., 9.5895e-02,\n",
              "            3.9120e-01, 8.8340e-01],\n",
              "           [4.0063e-01, 5.3248e-01, 2.5633e-01,  ..., 4.8618e-01,\n",
              "            5.3747e-01, 8.2975e-02]],\n",
              "\n",
              "          [[4.5019e-01, 2.1683e-01, 4.2557e-01,  ..., 6.4820e-01,\n",
              "            7.3645e-01, 4.9233e-01],\n",
              "           [1.0037e-01, 2.5033e-01, 9.3767e-01,  ..., 2.8067e-02,\n",
              "            6.0265e-01, 7.2958e-01],\n",
              "           [8.0126e-01, 9.9993e-01, 1.9350e-01,  ..., 8.7430e-01,\n",
              "            8.1586e-01, 6.8073e-01],\n",
              "           ...,\n",
              "           [6.1074e-01, 5.1295e-01, 5.0202e-01,  ..., 9.1142e-01,\n",
              "            8.6358e-01, 4.4832e-01],\n",
              "           [4.4885e-01, 3.6276e-01, 7.2501e-01,  ..., 5.1311e-01,\n",
              "            9.2079e-01, 5.0164e-02],\n",
              "           [1.9415e-01, 8.3872e-01, 6.4343e-01,  ..., 5.5657e-01,\n",
              "            6.9727e-01, 7.5219e-01]],\n",
              "\n",
              "          ...,\n",
              "\n",
              "          [[8.7233e-02, 1.3087e-01, 1.9289e-01,  ..., 2.6784e-01,\n",
              "            9.8958e-01, 8.3211e-02],\n",
              "           [6.7923e-01, 4.9283e-01, 4.3235e-01,  ..., 4.5345e-02,\n",
              "            9.0280e-01, 7.8831e-01],\n",
              "           [1.0257e-01, 7.7646e-03, 6.4597e-01,  ..., 8.7007e-01,\n",
              "            3.8900e-01, 3.5008e-01],\n",
              "           ...,\n",
              "           [1.7780e-01, 1.3560e-01, 9.7577e-01,  ..., 5.5401e-01,\n",
              "            3.3839e-01, 3.1228e-01],\n",
              "           [4.5783e-01, 4.3451e-01, 3.5245e-01,  ..., 5.3704e-01,\n",
              "            2.6799e-01, 3.2321e-01],\n",
              "           [6.7825e-01, 2.7308e-01, 3.8967e-01,  ..., 9.4924e-01,\n",
              "            9.0793e-01, 4.1257e-01]],\n",
              "\n",
              "          [[6.0927e-01, 7.6544e-01, 6.9702e-01,  ..., 6.2512e-02,\n",
              "            7.0051e-01, 6.2968e-01],\n",
              "           [8.2287e-01, 6.3993e-01, 2.5241e-01,  ..., 2.0865e-01,\n",
              "            7.5426e-01, 5.2772e-01],\n",
              "           [7.0944e-01, 2.2797e-01, 2.5453e-01,  ..., 5.6737e-01,\n",
              "            2.9357e-01, 1.4503e-01],\n",
              "           ...,\n",
              "           [8.5187e-01, 1.9843e-01, 2.4651e-01,  ..., 2.8253e-01,\n",
              "            7.7699e-01, 6.7006e-01],\n",
              "           [5.7838e-01, 2.9912e-01, 1.9596e-01,  ..., 9.1980e-01,\n",
              "            6.5452e-01, 3.8885e-02],\n",
              "           [2.6015e-01, 2.1715e-01, 5.6707e-01,  ..., 3.4685e-01,\n",
              "            9.6888e-01, 1.5615e-01]],\n",
              "\n",
              "          [[4.9453e-01, 3.4214e-01, 7.0669e-02,  ..., 4.5663e-01,\n",
              "            4.5643e-02, 1.2689e-01],\n",
              "           [6.9808e-01, 9.0892e-01, 5.8969e-01,  ..., 2.7805e-01,\n",
              "            8.0623e-01, 8.0575e-01],\n",
              "           [4.1740e-01, 7.8067e-01, 9.7330e-01,  ..., 2.7932e-01,\n",
              "            8.7433e-01, 9.6366e-01],\n",
              "           ...,\n",
              "           [5.1562e-01, 6.2449e-01, 8.0651e-01,  ..., 9.5159e-01,\n",
              "            5.9873e-01, 2.2863e-01],\n",
              "           [3.8195e-01, 2.6880e-01, 7.0994e-01,  ..., 2.5468e-01,\n",
              "            7.8083e-01, 4.6213e-01],\n",
              "           [3.4267e-01, 2.6609e-02, 2.2217e-01,  ..., 4.9820e-01,\n",
              "            9.0411e-01, 3.0086e-01]]],\n",
              "\n",
              "\n",
              "         [[[8.1932e-01, 8.6080e-01, 8.9229e-01,  ..., 3.2876e-01,\n",
              "            6.2553e-01, 2.6121e-01],\n",
              "           [6.5629e-01, 8.5494e-01, 5.7516e-01,  ..., 5.5713e-01,\n",
              "            6.5113e-01, 2.7210e-01],\n",
              "           [7.2902e-01, 2.7751e-01, 3.1267e-01,  ..., 2.5881e-01,\n",
              "            9.7061e-01, 9.4395e-01],\n",
              "           ...,\n",
              "           [4.0002e-01, 3.5708e-01, 9.8978e-01,  ..., 7.6666e-01,\n",
              "            2.0025e-01, 7.1611e-02],\n",
              "           [3.2118e-01, 6.7552e-01, 4.5641e-02,  ..., 7.2460e-01,\n",
              "            3.7317e-01, 7.6628e-01],\n",
              "           [3.1402e-01, 5.1288e-01, 3.2363e-01,  ..., 9.4760e-02,\n",
              "            1.3113e-01, 8.7631e-01]],\n",
              "\n",
              "          [[8.0450e-01, 9.9510e-01, 8.5803e-01,  ..., 5.3404e-02,\n",
              "            5.2053e-01, 7.3898e-01],\n",
              "           [8.6095e-01, 3.6227e-01, 3.4999e-01,  ..., 5.6020e-01,\n",
              "            6.5576e-03, 6.4261e-01],\n",
              "           [5.6308e-02, 7.9999e-01, 8.9038e-01,  ..., 1.2009e-01,\n",
              "            7.7528e-01, 1.6039e-01],\n",
              "           ...,\n",
              "           [3.7059e-01, 4.4252e-02, 7.7281e-01,  ..., 6.8847e-01,\n",
              "            6.7944e-01, 6.2403e-01],\n",
              "           [5.2678e-01, 8.7582e-02, 2.7897e-02,  ..., 8.8072e-01,\n",
              "            2.5088e-01, 9.6966e-02],\n",
              "           [8.5352e-01, 6.9155e-01, 5.2974e-01,  ..., 7.6162e-01,\n",
              "            4.4732e-01, 9.1582e-01]],\n",
              "\n",
              "          [[4.4180e-01, 6.0302e-01, 1.3043e-01,  ..., 8.5249e-01,\n",
              "            3.8223e-01, 9.0470e-01],\n",
              "           [1.4392e-01, 4.0020e-01, 2.9342e-01,  ..., 9.4264e-01,\n",
              "            3.9668e-01, 1.5026e-01],\n",
              "           [7.7157e-01, 1.6807e-01, 7.3926e-01,  ..., 1.9954e-01,\n",
              "            3.4709e-01, 1.8429e-01],\n",
              "           ...,\n",
              "           [8.1912e-02, 3.4059e-01, 7.8526e-02,  ..., 4.1471e-01,\n",
              "            9.0778e-01, 4.0886e-01],\n",
              "           [5.1372e-01, 5.0339e-01, 7.1854e-01,  ..., 8.1085e-01,\n",
              "            8.7004e-01, 1.6493e-01],\n",
              "           [3.2105e-02, 3.9388e-01, 2.8311e-01,  ..., 1.1868e-02,\n",
              "            3.3782e-01, 5.8901e-01]],\n",
              "\n",
              "          ...,\n",
              "\n",
              "          [[8.4409e-02, 3.0871e-01, 8.4156e-01,  ..., 3.3298e-01,\n",
              "            7.8182e-01, 7.1894e-01],\n",
              "           [3.9478e-01, 9.2621e-01, 2.6035e-01,  ..., 3.3187e-01,\n",
              "            6.6865e-01, 9.6659e-02],\n",
              "           [1.4396e-01, 1.9357e-01, 5.4659e-01,  ..., 5.4043e-01,\n",
              "            5.9849e-01, 4.1901e-01],\n",
              "           ...,\n",
              "           [7.6112e-01, 6.6947e-01, 8.9147e-01,  ..., 9.8319e-01,\n",
              "            8.1548e-01, 8.3963e-01],\n",
              "           [5.3277e-02, 3.2474e-01, 9.4164e-01,  ..., 6.5391e-01,\n",
              "            8.3593e-01, 1.7600e-01],\n",
              "           [9.4116e-01, 1.0575e-01, 3.2826e-01,  ..., 2.4725e-01,\n",
              "            9.7323e-02, 2.2460e-02]],\n",
              "\n",
              "          [[7.8660e-01, 3.1645e-01, 5.0573e-02,  ..., 4.1823e-01,\n",
              "            8.9625e-01, 2.3304e-01],\n",
              "           [8.4837e-01, 7.3480e-01, 8.8841e-01,  ..., 1.7996e-01,\n",
              "            2.9117e-02, 9.0206e-01],\n",
              "           [2.6140e-01, 5.2126e-01, 4.7178e-01,  ..., 7.1698e-01,\n",
              "            2.4814e-01, 3.6752e-01],\n",
              "           ...,\n",
              "           [8.2807e-01, 2.6312e-01, 4.3282e-01,  ..., 9.5688e-01,\n",
              "            1.6147e-01, 8.0636e-01],\n",
              "           [2.6812e-01, 9.9314e-01, 3.9410e-01,  ..., 7.1154e-01,\n",
              "            5.7825e-01, 4.4383e-01],\n",
              "           [8.6268e-01, 2.1295e-01, 5.1660e-01,  ..., 6.5361e-01,\n",
              "            5.1898e-01, 1.8589e-01]],\n",
              "\n",
              "          [[5.4765e-01, 6.0960e-01, 4.8556e-01,  ..., 4.0484e-01,\n",
              "            4.4801e-01, 2.9638e-01],\n",
              "           [2.8570e-01, 3.0127e-01, 9.0827e-01,  ..., 7.4672e-01,\n",
              "            5.4755e-01, 7.7911e-01],\n",
              "           [5.6796e-01, 2.7897e-01, 4.6480e-01,  ..., 2.9929e-01,\n",
              "            6.7325e-01, 2.0583e-01],\n",
              "           ...,\n",
              "           [6.5059e-01, 2.4858e-02, 5.2676e-01,  ..., 9.9856e-01,\n",
              "            4.4893e-01, 6.1874e-01],\n",
              "           [9.3720e-02, 5.8060e-01, 5.9151e-01,  ..., 5.8505e-01,\n",
              "            2.2477e-01, 4.3665e-01],\n",
              "           [4.6138e-01, 7.3574e-01, 6.8042e-01,  ..., 5.1102e-01,\n",
              "            3.2447e-01, 9.9447e-01]]],\n",
              "\n",
              "\n",
              "         [[[2.4182e-01, 8.5360e-01, 2.9565e-01,  ..., 9.0736e-01,\n",
              "            6.2983e-01, 8.4372e-01],\n",
              "           [7.2751e-01, 8.0037e-01, 5.2747e-01,  ..., 9.8439e-01,\n",
              "            2.0482e-01, 5.0700e-01],\n",
              "           [1.5235e-02, 3.9218e-01, 8.5788e-01,  ..., 7.0157e-01,\n",
              "            4.2686e-01, 5.4576e-01],\n",
              "           ...,\n",
              "           [2.2307e-01, 3.1030e-01, 4.5187e-01,  ..., 8.2956e-02,\n",
              "            6.2542e-01, 9.1686e-01],\n",
              "           [7.5460e-01, 5.6653e-01, 9.4266e-01,  ..., 4.7785e-01,\n",
              "            1.2012e-01, 3.6917e-01],\n",
              "           [5.0828e-01, 8.2128e-01, 6.1559e-01,  ..., 3.2158e-01,\n",
              "            1.7614e-01, 9.3810e-01]],\n",
              "\n",
              "          [[5.3587e-01, 3.5744e-01, 9.5250e-01,  ..., 3.4333e-01,\n",
              "            6.9428e-01, 7.6743e-01],\n",
              "           [5.7744e-01, 2.0169e-01, 7.5913e-01,  ..., 5.8280e-01,\n",
              "            2.9585e-01, 6.2113e-01],\n",
              "           [8.8846e-01, 4.8298e-01, 8.5817e-01,  ..., 9.5158e-01,\n",
              "            9.5411e-01, 4.3728e-01],\n",
              "           ...,\n",
              "           [7.8706e-01, 2.4816e-01, 8.7689e-01,  ..., 6.2796e-01,\n",
              "            9.3396e-01, 7.5781e-01],\n",
              "           [7.6536e-01, 9.6261e-01, 6.3813e-01,  ..., 1.9457e-02,\n",
              "            6.8392e-01, 6.0478e-01],\n",
              "           [9.5438e-01, 8.9719e-01, 4.6360e-01,  ..., 5.4212e-01,\n",
              "            3.1633e-01, 7.5029e-01]],\n",
              "\n",
              "          [[5.5010e-01, 1.6315e-01, 7.3652e-01,  ..., 6.1111e-02,\n",
              "            7.4607e-01, 4.3267e-01],\n",
              "           [2.6444e-03, 4.7396e-01, 5.9897e-01,  ..., 3.2154e-01,\n",
              "            2.8838e-01, 7.8959e-01],\n",
              "           [6.2140e-01, 6.5502e-03, 2.3771e-01,  ..., 5.4354e-02,\n",
              "            1.8340e-01, 2.5284e-01],\n",
              "           ...,\n",
              "           [7.0648e-01, 8.7878e-01, 8.7852e-01,  ..., 8.4516e-01,\n",
              "            9.1942e-01, 2.1154e-01],\n",
              "           [6.2173e-02, 4.7760e-01, 1.9287e-01,  ..., 9.7139e-01,\n",
              "            4.0928e-01, 5.9504e-01],\n",
              "           [8.5802e-01, 9.9678e-01, 3.2328e-01,  ..., 5.2851e-01,\n",
              "            6.9493e-01, 6.8102e-02]],\n",
              "\n",
              "          ...,\n",
              "\n",
              "          [[2.3801e-01, 9.6020e-01, 9.7490e-01,  ..., 5.3144e-01,\n",
              "            2.0064e-01, 3.5172e-01],\n",
              "           [4.9031e-01, 3.9844e-01, 7.8094e-01,  ..., 4.7153e-01,\n",
              "            2.0086e-02, 9.0322e-01],\n",
              "           [8.9371e-01, 8.0207e-01, 5.6691e-01,  ..., 7.7267e-01,\n",
              "            5.7560e-01, 8.4610e-01],\n",
              "           ...,\n",
              "           [8.6840e-01, 7.5840e-01, 9.1602e-01,  ..., 7.9677e-01,\n",
              "            1.7728e-01, 5.0505e-01],\n",
              "           [3.0974e-01, 2.8651e-01, 3.1865e-01,  ..., 1.3419e-01,\n",
              "            1.5508e-01, 9.3456e-02],\n",
              "           [2.1925e-01, 1.6416e-01, 1.8832e-01,  ..., 9.9351e-01,\n",
              "            5.2650e-01, 3.1458e-01]],\n",
              "\n",
              "          [[3.1286e-01, 9.7762e-01, 5.3920e-02,  ..., 7.4989e-01,\n",
              "            6.9619e-01, 2.8919e-01],\n",
              "           [6.0373e-01, 3.5427e-02, 5.3492e-01,  ..., 1.6111e-01,\n",
              "            3.1194e-01, 4.9622e-01],\n",
              "           [4.8758e-01, 5.7244e-01, 1.2445e-01,  ..., 6.3198e-01,\n",
              "            8.1992e-01, 4.8784e-01],\n",
              "           ...,\n",
              "           [2.9354e-02, 5.4547e-01, 5.9244e-01,  ..., 9.2837e-01,\n",
              "            8.6291e-01, 2.3653e-01],\n",
              "           [2.9107e-01, 8.7769e-01, 2.6661e-01,  ..., 5.9945e-01,\n",
              "            4.6940e-01, 4.1553e-01],\n",
              "           [4.3613e-04, 1.8952e-03, 4.4838e-01,  ..., 4.5907e-02,\n",
              "            2.8494e-01, 7.6710e-01]],\n",
              "\n",
              "          [[2.6246e-01, 5.6256e-01, 7.1067e-01,  ..., 8.1817e-01,\n",
              "            7.8988e-01, 5.6630e-01],\n",
              "           [8.4606e-01, 8.3867e-01, 9.6012e-01,  ..., 1.4875e-01,\n",
              "            5.0376e-01, 3.2557e-01],\n",
              "           [7.1297e-01, 8.6708e-01, 7.4604e-01,  ..., 4.3226e-01,\n",
              "            1.0533e-01, 4.0013e-02],\n",
              "           ...,\n",
              "           [2.1695e-01, 6.9145e-01, 8.2209e-01,  ..., 6.3096e-01,\n",
              "            3.7566e-01, 7.0898e-01],\n",
              "           [5.8523e-02, 4.1651e-01, 1.0127e-01,  ..., 3.8032e-01,\n",
              "            5.9245e-02, 5.0823e-01],\n",
              "           [4.7076e-01, 9.2669e-01, 8.1359e-01,  ..., 4.4284e-02,\n",
              "            4.1820e-01, 5.9971e-01]]]],\n",
              "\n",
              "\n",
              "\n",
              "        [[[[9.1789e-01, 7.2672e-01, 1.3912e-01,  ..., 6.2946e-01,\n",
              "            7.3277e-01, 5.7529e-01],\n",
              "           [1.1403e-01, 8.5286e-01, 6.4346e-01,  ..., 8.7315e-01,\n",
              "            5.9125e-01, 8.6190e-01],\n",
              "           [7.1081e-01, 5.0470e-01, 2.9736e-01,  ..., 7.7322e-01,\n",
              "            3.2238e-01, 9.3769e-01],\n",
              "           ...,\n",
              "           [1.2657e-02, 1.9654e-01, 6.4382e-01,  ..., 5.9580e-01,\n",
              "            7.9749e-01, 3.0407e-01],\n",
              "           [1.5954e-01, 6.5414e-02, 3.4737e-01,  ..., 9.5938e-01,\n",
              "            8.4468e-01, 7.9305e-01],\n",
              "           [2.6964e-01, 6.4321e-01, 1.8244e-01,  ..., 7.7570e-01,\n",
              "            4.9586e-01, 8.8416e-01]],\n",
              "\n",
              "          [[3.4873e-01, 7.7474e-01, 8.8431e-01,  ..., 6.0275e-01,\n",
              "            8.5259e-01, 6.4003e-01],\n",
              "           [4.3749e-01, 4.2726e-01, 6.5413e-01,  ..., 4.1708e-01,\n",
              "            3.0718e-01, 3.8353e-01],\n",
              "           [2.2901e-01, 4.0920e-01, 8.9376e-01,  ..., 6.9842e-01,\n",
              "            8.9958e-01, 7.5279e-01],\n",
              "           ...,\n",
              "           [1.1144e-02, 9.5551e-01, 8.6195e-01,  ..., 1.0811e-01,\n",
              "            2.3259e-01, 3.7227e-01],\n",
              "           [1.5011e-01, 1.6077e-01, 3.3147e-01,  ..., 7.6656e-01,\n",
              "            5.4649e-01, 2.6095e-01],\n",
              "           [3.7253e-01, 9.4928e-01, 6.9177e-01,  ..., 8.9111e-01,\n",
              "            8.5022e-01, 5.7623e-01]],\n",
              "\n",
              "          [[1.2266e-01, 4.0494e-01, 4.0793e-01,  ..., 9.6694e-01,\n",
              "            1.5837e-01, 6.9792e-01],\n",
              "           [8.0780e-01, 2.1948e-01, 1.6959e-02,  ..., 4.1986e-01,\n",
              "            8.8657e-01, 9.3582e-01],\n",
              "           [4.1597e-02, 3.9165e-01, 3.2148e-01,  ..., 7.5073e-01,\n",
              "            6.0613e-01, 7.1925e-01],\n",
              "           ...,\n",
              "           [5.5147e-01, 4.3776e-01, 8.2918e-01,  ..., 9.1204e-01,\n",
              "            7.8771e-01, 1.8055e-01],\n",
              "           [7.4781e-01, 1.6899e-01, 4.5658e-01,  ..., 3.1833e-01,\n",
              "            8.5845e-01, 7.7370e-01],\n",
              "           [4.8791e-01, 7.8063e-01, 8.0700e-02,  ..., 3.0340e-01,\n",
              "            3.3838e-01, 3.7007e-01]],\n",
              "\n",
              "          ...,\n",
              "\n",
              "          [[6.4991e-01, 4.4577e-01, 2.2033e-01,  ..., 5.0278e-01,\n",
              "            2.9888e-01, 6.5517e-01],\n",
              "           [5.7445e-01, 9.0281e-01, 2.9283e-01,  ..., 9.5435e-01,\n",
              "            6.6428e-01, 1.0538e-01],\n",
              "           [1.6059e-01, 6.7493e-01, 6.0926e-01,  ..., 7.1680e-02,\n",
              "            4.2934e-01, 4.8752e-01],\n",
              "           ...,\n",
              "           [7.6604e-01, 5.1041e-01, 4.5080e-01,  ..., 6.0948e-01,\n",
              "            7.7029e-01, 8.0887e-01],\n",
              "           [6.4840e-02, 7.6199e-01, 8.9599e-01,  ..., 7.4631e-01,\n",
              "            4.7770e-01, 3.0386e-01],\n",
              "           [1.7372e-01, 5.7517e-01, 8.5295e-01,  ..., 1.6332e-01,\n",
              "            5.2182e-01, 1.6013e-01]],\n",
              "\n",
              "          [[7.0028e-01, 2.9191e-01, 1.9883e-01,  ..., 8.2426e-01,\n",
              "            2.9504e-01, 4.7886e-01],\n",
              "           [7.8603e-01, 7.5149e-01, 4.2251e-02,  ..., 4.6640e-01,\n",
              "            1.2986e-01, 2.6000e-01],\n",
              "           [8.2878e-01, 6.8074e-01, 5.9853e-01,  ..., 6.4198e-01,\n",
              "            5.0319e-01, 5.8176e-01],\n",
              "           ...,\n",
              "           [3.1345e-01, 3.7461e-01, 2.9985e-01,  ..., 3.1138e-01,\n",
              "            5.5269e-01, 7.4685e-01],\n",
              "           [7.2099e-02, 1.6451e-01, 9.2199e-01,  ..., 2.6196e-01,\n",
              "            4.5850e-01, 2.6018e-01],\n",
              "           [7.5974e-01, 3.1403e-01, 4.9785e-01,  ..., 9.2700e-01,\n",
              "            8.0399e-01, 4.4963e-01]],\n",
              "\n",
              "          [[9.1472e-01, 8.3695e-02, 5.5107e-01,  ..., 7.5435e-01,\n",
              "            1.3475e-01, 2.7292e-01],\n",
              "           [1.8208e-01, 7.8481e-01, 3.5820e-01,  ..., 9.4643e-01,\n",
              "            7.7211e-01, 4.6301e-01],\n",
              "           [3.9238e-01, 2.6777e-02, 6.3166e-02,  ..., 1.2120e-01,\n",
              "            7.6272e-02, 7.9477e-01],\n",
              "           ...,\n",
              "           [5.7173e-01, 4.8651e-01, 3.7110e-01,  ..., 7.2668e-01,\n",
              "            5.1287e-01, 1.1853e-01],\n",
              "           [8.9481e-01, 5.0158e-01, 2.4089e-01,  ..., 7.3350e-01,\n",
              "            7.1892e-01, 9.4279e-01],\n",
              "           [2.8685e-02, 3.4336e-01, 2.8854e-01,  ..., 4.6731e-01,\n",
              "            8.7629e-02, 6.8295e-01]]],\n",
              "\n",
              "\n",
              "         [[[4.4183e-02, 8.1774e-01, 2.2926e-01,  ..., 8.5541e-01,\n",
              "            5.3400e-01, 8.9611e-02],\n",
              "           [5.8147e-01, 3.3431e-01, 9.0429e-01,  ..., 4.7512e-01,\n",
              "            6.5431e-01, 5.5008e-01],\n",
              "           [2.6961e-01, 5.9555e-01, 9.0501e-01,  ..., 6.7698e-01,\n",
              "            2.4381e-01, 9.4630e-01],\n",
              "           ...,\n",
              "           [5.7951e-01, 6.0428e-01, 8.7951e-01,  ..., 8.3725e-02,\n",
              "            3.1327e-01, 6.6515e-01],\n",
              "           [7.7041e-01, 7.3462e-01, 8.5942e-01,  ..., 7.0829e-01,\n",
              "            9.5895e-01, 1.6917e-01],\n",
              "           [9.9637e-01, 2.3015e-01, 6.6957e-01,  ..., 1.2268e-01,\n",
              "            1.2120e-01, 1.4962e-01]],\n",
              "\n",
              "          [[6.3616e-02, 6.3590e-01, 2.2212e-01,  ..., 7.8955e-01,\n",
              "            4.5363e-01, 6.8084e-01],\n",
              "           [7.9563e-01, 5.7989e-01, 1.1289e-01,  ..., 8.0491e-01,\n",
              "            7.5899e-01, 4.5506e-01],\n",
              "           [2.0899e-01, 2.9233e-01, 8.5233e-02,  ..., 4.7140e-01,\n",
              "            3.9427e-01, 6.9607e-02],\n",
              "           ...,\n",
              "           [9.1998e-01, 8.9971e-01, 5.3211e-01,  ..., 4.0403e-01,\n",
              "            3.2840e-03, 3.6260e-01],\n",
              "           [1.8896e-01, 9.6541e-01, 9.5838e-01,  ..., 9.0418e-01,\n",
              "            9.3441e-01, 1.2139e-01],\n",
              "           [4.0441e-01, 9.7471e-01, 3.9002e-01,  ..., 6.0661e-02,\n",
              "            2.2363e-01, 7.6607e-01]],\n",
              "\n",
              "          [[7.0963e-01, 4.0026e-02, 9.8259e-01,  ..., 7.1898e-01,\n",
              "            7.6906e-01, 8.4174e-02],\n",
              "           [4.3737e-01, 9.2249e-01, 3.3676e-01,  ..., 8.7095e-02,\n",
              "            5.8437e-01, 3.7577e-01],\n",
              "           [2.9359e-01, 9.9075e-01, 3.2331e-01,  ..., 4.3021e-01,\n",
              "            1.4626e-01, 2.9300e-01],\n",
              "           ...,\n",
              "           [3.8562e-01, 6.9263e-01, 4.5358e-01,  ..., 8.2697e-01,\n",
              "            8.8217e-01, 4.0173e-01],\n",
              "           [9.4077e-01, 1.4278e-02, 2.6315e-01,  ..., 8.0175e-01,\n",
              "            6.4301e-01, 5.2369e-01],\n",
              "           [5.9660e-01, 7.9967e-01, 5.1947e-01,  ..., 1.0998e-01,\n",
              "            8.7355e-01, 7.1613e-01]],\n",
              "\n",
              "          ...,\n",
              "\n",
              "          [[8.9228e-02, 7.5374e-01, 2.6158e-01,  ..., 8.0696e-02,\n",
              "            5.5321e-01, 1.1211e-01],\n",
              "           [7.4546e-01, 9.3863e-01, 5.9281e-01,  ..., 2.1247e-01,\n",
              "            7.3276e-01, 1.2642e-01],\n",
              "           [7.3569e-01, 2.9060e-01, 8.3307e-01,  ..., 1.9908e-01,\n",
              "            4.5047e-01, 7.2989e-01],\n",
              "           ...,\n",
              "           [3.3559e-01, 2.0732e-02, 8.4927e-01,  ..., 6.9182e-01,\n",
              "            6.6898e-01, 9.1952e-01],\n",
              "           [7.4823e-01, 1.3505e-01, 8.3050e-01,  ..., 8.0004e-01,\n",
              "            3.1801e-01, 2.6234e-01],\n",
              "           [2.1530e-01, 9.1435e-01, 4.0773e-01,  ..., 2.4605e-01,\n",
              "            5.3266e-02, 5.6881e-01]],\n",
              "\n",
              "          [[4.4680e-01, 8.1689e-01, 8.7704e-01,  ..., 4.8120e-01,\n",
              "            9.1372e-03, 1.1116e-01],\n",
              "           [7.4758e-01, 4.2020e-01, 1.8607e-01,  ..., 9.8763e-01,\n",
              "            1.7981e-03, 5.6032e-01],\n",
              "           [9.2152e-01, 9.3963e-01, 9.7779e-01,  ..., 8.3023e-01,\n",
              "            7.3850e-01, 1.8489e-01],\n",
              "           ...,\n",
              "           [7.7256e-01, 6.0594e-01, 1.8647e-01,  ..., 2.7103e-02,\n",
              "            9.2847e-01, 4.3755e-01],\n",
              "           [7.8555e-01, 5.0772e-01, 3.0351e-01,  ..., 9.4461e-01,\n",
              "            7.8860e-01, 2.9127e-01],\n",
              "           [6.0202e-01, 2.8492e-01, 4.8217e-01,  ..., 9.7233e-01,\n",
              "            5.5342e-01, 2.9595e-01]],\n",
              "\n",
              "          [[8.5224e-01, 1.9496e-01, 7.1049e-02,  ..., 4.2534e-01,\n",
              "            1.2679e-01, 8.6953e-01],\n",
              "           [4.1794e-01, 1.8328e-01, 2.0393e-01,  ..., 2.9614e-01,\n",
              "            1.4555e-01, 5.5799e-01],\n",
              "           [4.8089e-01, 7.4288e-01, 9.4993e-01,  ..., 4.4482e-01,\n",
              "            9.0263e-01, 5.3711e-01],\n",
              "           ...,\n",
              "           [1.4743e-01, 5.4445e-01, 1.1576e-01,  ..., 7.1299e-01,\n",
              "            8.0604e-01, 5.0579e-01],\n",
              "           [1.9155e-01, 9.9379e-02, 4.0104e-01,  ..., 5.0178e-01,\n",
              "            1.0585e-01, 6.0112e-01],\n",
              "           [7.5269e-01, 9.1048e-01, 5.4159e-01,  ..., 7.7443e-01,\n",
              "            6.7996e-01, 2.1530e-01]]],\n",
              "\n",
              "\n",
              "         [[[5.8143e-01, 3.9325e-01, 6.8772e-01,  ..., 8.7331e-02,\n",
              "            2.8613e-01, 3.5082e-01],\n",
              "           [9.1241e-01, 6.0140e-01, 5.8323e-01,  ..., 6.5612e-01,\n",
              "            2.2560e-01, 1.1540e-01],\n",
              "           [2.1102e-02, 6.6510e-01, 2.4659e-01,  ..., 4.3291e-01,\n",
              "            3.4874e-01, 8.1016e-01],\n",
              "           ...,\n",
              "           [8.6038e-01, 9.2912e-01, 9.1875e-01,  ..., 3.9873e-01,\n",
              "            1.4702e-01, 5.3185e-01],\n",
              "           [6.5855e-01, 2.3652e-01, 6.0779e-01,  ..., 9.4105e-01,\n",
              "            3.1251e-01, 2.0991e-01],\n",
              "           [4.6372e-01, 4.7228e-01, 4.2601e-01,  ..., 7.8832e-01,\n",
              "            4.5602e-01, 9.6182e-01]],\n",
              "\n",
              "          [[6.5189e-01, 7.2984e-01, 3.6713e-01,  ..., 5.1082e-01,\n",
              "            8.5472e-01, 1.4532e-01],\n",
              "           [6.1540e-01, 2.9490e-01, 9.4746e-01,  ..., 4.9538e-01,\n",
              "            3.4391e-01, 8.4730e-01],\n",
              "           [5.8314e-01, 2.4515e-01, 6.9552e-01,  ..., 5.1611e-01,\n",
              "            6.0780e-01, 6.9427e-01],\n",
              "           ...,\n",
              "           [9.9961e-01, 1.4636e-01, 3.0616e-01,  ..., 3.0086e-01,\n",
              "            6.7899e-01, 4.4612e-01],\n",
              "           [5.6021e-01, 5.1955e-01, 9.1650e-01,  ..., 7.1631e-01,\n",
              "            8.2807e-01, 2.9514e-01],\n",
              "           [8.2167e-01, 3.4885e-02, 4.9506e-01,  ..., 4.5739e-01,\n",
              "            7.3124e-01, 9.2418e-01]],\n",
              "\n",
              "          [[4.2050e-01, 7.7802e-04, 9.3907e-01,  ..., 7.8221e-01,\n",
              "            9.8301e-01, 8.2769e-01],\n",
              "           [2.0725e-01, 5.9089e-01, 9.0560e-01,  ..., 4.8627e-01,\n",
              "            7.6049e-01, 1.3356e-01],\n",
              "           [6.9493e-01, 3.8022e-01, 4.6541e-01,  ..., 8.8528e-01,\n",
              "            7.5676e-01, 3.0623e-01],\n",
              "           ...,\n",
              "           [7.4848e-01, 1.7415e-01, 1.2427e-01,  ..., 5.0530e-01,\n",
              "            2.8500e-01, 2.2013e-01],\n",
              "           [8.7146e-01, 2.7423e-01, 6.0796e-01,  ..., 8.5632e-01,\n",
              "            8.5593e-01, 3.5894e-01],\n",
              "           [3.5718e-01, 5.0455e-01, 9.9991e-01,  ..., 8.2271e-01,\n",
              "            7.0283e-01, 3.4409e-01]],\n",
              "\n",
              "          ...,\n",
              "\n",
              "          [[4.1149e-01, 9.5533e-01, 3.9096e-01,  ..., 1.9867e-01,\n",
              "            1.0509e-01, 8.3404e-01],\n",
              "           [1.5167e-01, 3.3048e-02, 8.5246e-01,  ..., 9.2083e-02,\n",
              "            8.4921e-01, 7.7181e-01],\n",
              "           [2.9824e-01, 9.1484e-01, 5.9017e-02,  ..., 2.3306e-01,\n",
              "            5.5504e-01, 3.5483e-01],\n",
              "           ...,\n",
              "           [6.6227e-01, 4.0061e-02, 4.1589e-01,  ..., 7.0958e-01,\n",
              "            8.5646e-01, 3.8220e-01],\n",
              "           [9.4344e-01, 2.0539e-01, 9.2489e-01,  ..., 4.4139e-01,\n",
              "            1.2835e-01, 9.6254e-01],\n",
              "           [3.7604e-01, 5.5906e-01, 6.0635e-01,  ..., 8.9360e-01,\n",
              "            9.1913e-02, 9.6088e-01]],\n",
              "\n",
              "          [[8.4257e-01, 8.3825e-01, 3.6888e-01,  ..., 7.7854e-01,\n",
              "            3.6643e-01, 3.6201e-01],\n",
              "           [5.7133e-01, 6.4129e-01, 8.9241e-01,  ..., 3.5141e-01,\n",
              "            3.1925e-01, 1.7045e-01],\n",
              "           [2.4262e-02, 9.7519e-01, 7.3152e-01,  ..., 5.3509e-01,\n",
              "            1.0641e-01, 3.7193e-01],\n",
              "           ...,\n",
              "           [9.6855e-01, 5.7101e-01, 1.2711e-01,  ..., 7.0403e-01,\n",
              "            2.9019e-01, 8.9474e-01],\n",
              "           [3.2347e-01, 2.1776e-01, 9.7690e-01,  ..., 3.6713e-02,\n",
              "            6.5593e-01, 2.0193e-01],\n",
              "           [5.9914e-01, 3.6006e-01, 7.7948e-01,  ..., 6.3456e-01,\n",
              "            6.7303e-01, 9.1771e-01]],\n",
              "\n",
              "          [[5.7439e-01, 6.8673e-01, 3.5911e-01,  ..., 4.8391e-01,\n",
              "            9.0632e-01, 2.6475e-01],\n",
              "           [1.3427e-01, 3.7756e-01, 6.7531e-02,  ..., 2.5459e-01,\n",
              "            8.0580e-01, 7.7824e-01],\n",
              "           [4.6053e-01, 2.2256e-01, 9.5385e-02,  ..., 6.9538e-01,\n",
              "            6.7195e-02, 6.8205e-01],\n",
              "           ...,\n",
              "           [9.8522e-01, 6.1165e-01, 9.4926e-01,  ..., 8.1090e-01,\n",
              "            5.9016e-01, 4.6377e-01],\n",
              "           [7.3303e-01, 6.6968e-01, 9.2467e-01,  ..., 9.5188e-01,\n",
              "            8.5840e-01, 7.5956e-01],\n",
              "           [3.4272e-01, 5.7109e-01, 1.3552e-01,  ..., 1.7767e-02,\n",
              "            4.4592e-01, 8.4288e-01]]],\n",
              "\n",
              "\n",
              "         ...,\n",
              "\n",
              "\n",
              "         [[[6.5027e-01, 3.2046e-03, 2.7069e-01,  ..., 3.0092e-01,\n",
              "            3.5309e-01, 6.2445e-02],\n",
              "           [4.6323e-01, 6.3414e-01, 8.0218e-01,  ..., 1.9870e-01,\n",
              "            2.0407e-01, 2.6321e-01],\n",
              "           [7.3527e-01, 5.5629e-01, 3.1788e-01,  ..., 5.8434e-01,\n",
              "            4.5715e-01, 1.6437e-01],\n",
              "           ...,\n",
              "           [8.2804e-01, 3.8359e-01, 2.4298e-01,  ..., 6.2914e-01,\n",
              "            8.0192e-01, 6.5918e-01],\n",
              "           [9.3032e-01, 7.7685e-01, 1.9393e-01,  ..., 9.6974e-01,\n",
              "            5.9271e-01, 4.9987e-01],\n",
              "           [4.2818e-02, 7.5875e-01, 1.1049e-01,  ..., 3.5347e-01,\n",
              "            1.7748e-01, 8.4980e-01]],\n",
              "\n",
              "          [[2.7100e-01, 7.4344e-01, 9.3513e-01,  ..., 9.2912e-01,\n",
              "            8.0027e-01, 2.7138e-01],\n",
              "           [9.6936e-01, 2.7476e-01, 3.8220e-02,  ..., 9.3051e-01,\n",
              "            2.2607e-01, 8.0981e-01],\n",
              "           [7.0062e-01, 2.1547e-01, 8.6645e-01,  ..., 7.9600e-01,\n",
              "            5.1750e-01, 2.2458e-01],\n",
              "           ...,\n",
              "           [7.7743e-01, 5.4362e-01, 6.5762e-04,  ..., 3.4955e-01,\n",
              "            9.6468e-01, 1.3448e-01],\n",
              "           [2.6898e-01, 7.2129e-01, 1.2498e-01,  ..., 4.4447e-01,\n",
              "            8.4588e-01, 6.3677e-01],\n",
              "           [5.0591e-02, 3.6076e-01, 8.5180e-01,  ..., 9.3509e-01,\n",
              "            6.1722e-01, 1.1888e-01]],\n",
              "\n",
              "          [[9.9541e-01, 1.0981e-01, 2.3715e-01,  ..., 6.7740e-01,\n",
              "            8.5526e-01, 5.9908e-01],\n",
              "           [4.4004e-01, 5.6633e-01, 7.2756e-01,  ..., 7.6753e-01,\n",
              "            2.7842e-01, 9.5845e-01],\n",
              "           [1.0814e-01, 7.8129e-01, 2.0309e-01,  ..., 5.1112e-01,\n",
              "            2.0910e-01, 8.5482e-01],\n",
              "           ...,\n",
              "           [8.1509e-01, 1.3924e-01, 4.6689e-01,  ..., 9.2381e-01,\n",
              "            9.4983e-02, 1.9395e-01],\n",
              "           [6.1781e-01, 2.5585e-01, 2.1198e-01,  ..., 9.3794e-01,\n",
              "            6.9150e-01, 2.4598e-01],\n",
              "           [1.2869e-01, 2.3770e-01, 5.0024e-01,  ..., 9.0751e-01,\n",
              "            1.8532e-01, 1.6951e-01]],\n",
              "\n",
              "          ...,\n",
              "\n",
              "          [[1.2298e-01, 6.5023e-02, 1.4045e-01,  ..., 4.5285e-01,\n",
              "            2.0866e-01, 3.2717e-01],\n",
              "           [1.3478e-01, 7.9685e-02, 6.3265e-01,  ..., 9.1680e-01,\n",
              "            4.3802e-01, 5.8851e-01],\n",
              "           [3.2139e-01, 9.8842e-01, 6.0480e-01,  ..., 3.6251e-01,\n",
              "            1.5525e-01, 3.4575e-01],\n",
              "           ...,\n",
              "           [5.7745e-02, 5.4002e-01, 4.5902e-02,  ..., 3.2487e-01,\n",
              "            4.8716e-02, 4.9118e-01],\n",
              "           [1.6006e-01, 4.7597e-01, 5.3078e-01,  ..., 1.5100e-01,\n",
              "            5.8235e-01, 1.3855e-02],\n",
              "           [6.7932e-01, 5.5892e-01, 4.8205e-01,  ..., 1.6420e-01,\n",
              "            3.7097e-01, 3.8763e-01]],\n",
              "\n",
              "          [[5.0169e-01, 3.4635e-01, 1.9952e-01,  ..., 2.3896e-02,\n",
              "            4.8805e-01, 8.6977e-01],\n",
              "           [6.4667e-01, 2.1632e-01, 8.1855e-01,  ..., 8.9494e-01,\n",
              "            8.5963e-01, 5.9352e-01],\n",
              "           [8.7692e-01, 2.9550e-02, 8.2946e-01,  ..., 8.8035e-01,\n",
              "            1.1707e-01, 2.1931e-01],\n",
              "           ...,\n",
              "           [7.2252e-01, 5.6031e-01, 3.6165e-01,  ..., 2.8578e-01,\n",
              "            5.9861e-01, 4.6603e-01],\n",
              "           [1.0304e-01, 3.9363e-01, 4.8120e-01,  ..., 6.9542e-01,\n",
              "            2.8277e-01, 8.5434e-01],\n",
              "           [5.4515e-01, 9.6091e-01, 6.2513e-01,  ..., 4.6980e-02,\n",
              "            8.8400e-01, 3.5351e-02]],\n",
              "\n",
              "          [[4.6695e-01, 3.8733e-01, 7.9018e-01,  ..., 6.4279e-01,\n",
              "            2.3969e-01, 5.8702e-01],\n",
              "           [3.7486e-01, 7.0906e-01, 6.0317e-01,  ..., 9.7119e-01,\n",
              "            6.5746e-01, 8.0809e-01],\n",
              "           [9.9771e-02, 5.3543e-01, 1.4567e-01,  ..., 7.5263e-01,\n",
              "            5.0213e-01, 6.6273e-01],\n",
              "           ...,\n",
              "           [6.7788e-01, 7.1251e-01, 4.6412e-02,  ..., 1.9642e-02,\n",
              "            7.2003e-01, 9.1330e-01],\n",
              "           [5.6442e-01, 5.1320e-01, 7.6156e-01,  ..., 8.5299e-01,\n",
              "            4.9491e-01, 1.6552e-01],\n",
              "           [8.2622e-03, 2.7317e-01, 9.9049e-01,  ..., 7.3235e-01,\n",
              "            7.7447e-01, 3.7680e-01]]],\n",
              "\n",
              "\n",
              "         [[[2.8320e-01, 1.0153e-01, 1.9021e-01,  ..., 5.1901e-01,\n",
              "            7.9114e-01, 7.3057e-01],\n",
              "           [1.9368e-01, 7.0642e-01, 3.9520e-01,  ..., 9.1137e-01,\n",
              "            2.7300e-01, 9.6807e-01],\n",
              "           [4.8387e-01, 2.7155e-01, 7.5174e-01,  ..., 5.4650e-01,\n",
              "            4.2247e-01, 5.3938e-01],\n",
              "           ...,\n",
              "           [6.7984e-01, 7.7404e-01, 2.5580e-01,  ..., 8.7934e-01,\n",
              "            5.8325e-01, 4.9636e-01],\n",
              "           [4.5951e-01, 7.7666e-01, 2.0892e-01,  ..., 4.1377e-01,\n",
              "            9.2074e-01, 8.3682e-01],\n",
              "           [7.6216e-01, 1.1741e-01, 4.8618e-01,  ..., 4.2419e-01,\n",
              "            4.8922e-01, 7.4730e-01]],\n",
              "\n",
              "          [[2.2620e-01, 4.2621e-01, 4.5199e-01,  ..., 3.7191e-01,\n",
              "            9.9570e-02, 1.2542e-01],\n",
              "           [8.7745e-01, 1.4310e-01, 3.8280e-01,  ..., 1.4287e-01,\n",
              "            5.7592e-01, 6.5657e-01],\n",
              "           [5.1900e-01, 7.3872e-01, 4.9415e-01,  ..., 6.5871e-01,\n",
              "            1.0384e-02, 7.5097e-01],\n",
              "           ...,\n",
              "           [5.9801e-01, 8.0526e-01, 6.3284e-01,  ..., 7.0053e-01,\n",
              "            3.1931e-01, 8.2021e-01],\n",
              "           [1.4992e-01, 3.7641e-01, 9.8054e-01,  ..., 5.9800e-01,\n",
              "            3.2676e-01, 8.2402e-01],\n",
              "           [3.3823e-01, 6.9174e-01, 7.9232e-01,  ..., 6.7586e-01,\n",
              "            5.3138e-02, 3.8678e-01]],\n",
              "\n",
              "          [[6.7069e-01, 7.7980e-01, 4.5280e-01,  ..., 7.6194e-03,\n",
              "            7.3851e-01, 1.2141e-01],\n",
              "           [4.1396e-01, 1.6145e-01, 6.6738e-01,  ..., 4.7191e-01,\n",
              "            2.3187e-01, 3.3390e-01],\n",
              "           [1.1210e-01, 7.1208e-01, 4.9956e-01,  ..., 9.3914e-01,\n",
              "            7.0747e-02, 1.3330e-01],\n",
              "           ...,\n",
              "           [5.4694e-01, 4.3659e-01, 6.3616e-01,  ..., 9.7669e-01,\n",
              "            2.6460e-01, 4.4880e-01],\n",
              "           [1.1970e-01, 3.1744e-01, 1.7016e-01,  ..., 8.1350e-01,\n",
              "            1.3929e-02, 9.9633e-01],\n",
              "           [9.3990e-01, 1.6991e-01, 6.3402e-02,  ..., 7.1824e-01,\n",
              "            2.7584e-01, 4.4583e-01]],\n",
              "\n",
              "          ...,\n",
              "\n",
              "          [[9.5099e-01, 6.3839e-01, 9.7538e-02,  ..., 4.0923e-01,\n",
              "            8.6960e-01, 7.4086e-01],\n",
              "           [5.2994e-01, 7.1741e-01, 3.6097e-01,  ..., 2.4401e-02,\n",
              "            6.2545e-01, 8.8264e-01],\n",
              "           [6.2087e-01, 5.9040e-01, 5.0642e-01,  ..., 6.4198e-01,\n",
              "            5.1745e-02, 3.2526e-01],\n",
              "           ...,\n",
              "           [9.3732e-01, 9.9292e-01, 8.9673e-01,  ..., 4.1222e-01,\n",
              "            9.7048e-01, 6.5355e-01],\n",
              "           [1.6737e-01, 4.3919e-01, 9.8380e-01,  ..., 2.1035e-02,\n",
              "            3.8657e-01, 7.5165e-01],\n",
              "           [9.8282e-01, 8.3018e-02, 3.3711e-01,  ..., 5.2967e-01,\n",
              "            1.4084e-01, 6.1461e-01]],\n",
              "\n",
              "          [[2.8570e-01, 8.5551e-01, 3.8885e-01,  ..., 8.6832e-01,\n",
              "            2.0576e-01, 2.8317e-01],\n",
              "           [6.5582e-02, 7.8948e-01, 8.2393e-01,  ..., 8.5223e-01,\n",
              "            7.5239e-02, 3.9471e-01],\n",
              "           [9.1068e-01, 8.4134e-01, 8.3199e-01,  ..., 9.5338e-01,\n",
              "            8.5457e-01, 6.6342e-01],\n",
              "           ...,\n",
              "           [6.2938e-01, 5.1314e-01, 6.7552e-01,  ..., 1.4872e-01,\n",
              "            8.7530e-01, 5.9866e-01],\n",
              "           [1.9168e-01, 1.5035e-01, 2.1518e-01,  ..., 1.9286e-01,\n",
              "            1.0093e-01, 7.2053e-01],\n",
              "           [7.7327e-01, 4.1243e-02, 4.9179e-01,  ..., 4.1069e-01,\n",
              "            4.1478e-01, 4.5758e-02]],\n",
              "\n",
              "          [[6.2953e-01, 4.6833e-01, 9.9676e-01,  ..., 8.5830e-01,\n",
              "            2.4299e-01, 8.4833e-01],\n",
              "           [2.2392e-01, 6.7119e-01, 7.3392e-01,  ..., 8.3957e-01,\n",
              "            9.4254e-01, 6.4524e-01],\n",
              "           [7.2614e-01, 7.4525e-01, 9.2199e-01,  ..., 4.1667e-01,\n",
              "            3.9871e-01, 9.2477e-01],\n",
              "           ...,\n",
              "           [7.0335e-01, 4.1063e-01, 5.6166e-01,  ..., 9.3516e-01,\n",
              "            2.1139e-01, 2.8298e-02],\n",
              "           [4.5574e-02, 5.7982e-01, 8.7803e-01,  ..., 9.0918e-01,\n",
              "            8.6988e-01, 1.7678e-01],\n",
              "           [5.3564e-01, 6.2231e-01, 7.3634e-01,  ..., 9.5529e-02,\n",
              "            1.8271e-01, 9.2994e-01]]],\n",
              "\n",
              "\n",
              "         [[[8.7819e-01, 3.9892e-01, 8.6967e-01,  ..., 3.5621e-01,\n",
              "            5.2306e-01, 2.1176e-01],\n",
              "           [5.5155e-01, 3.0975e-01, 4.7412e-01,  ..., 4.2106e-01,\n",
              "            2.2931e-01, 8.3862e-01],\n",
              "           [9.7331e-01, 9.6024e-01, 3.6531e-01,  ..., 5.5203e-01,\n",
              "            2.4974e-01, 8.4914e-01],\n",
              "           ...,\n",
              "           [7.4133e-01, 4.9523e-01, 7.2257e-01,  ..., 5.5652e-01,\n",
              "            4.3472e-01, 2.4843e-01],\n",
              "           [3.8616e-02, 4.0410e-01, 2.5327e-01,  ..., 1.6623e-01,\n",
              "            5.0399e-01, 9.5692e-02],\n",
              "           [7.8973e-01, 9.9308e-01, 2.0478e-01,  ..., 7.3794e-01,\n",
              "            9.9645e-01, 1.0229e-01]],\n",
              "\n",
              "          [[1.6260e-01, 6.6503e-01, 6.5160e-01,  ..., 4.6629e-02,\n",
              "            5.4423e-01, 3.3759e-01],\n",
              "           [9.1141e-01, 8.0603e-01, 7.3384e-01,  ..., 5.5681e-01,\n",
              "            1.5446e-01, 9.4936e-01],\n",
              "           [7.8640e-01, 1.3407e-02, 7.9346e-01,  ..., 6.6401e-01,\n",
              "            5.6084e-01, 8.1594e-01],\n",
              "           ...,\n",
              "           [1.8374e-02, 9.9027e-01, 2.1592e-02,  ..., 1.6325e-01,\n",
              "            5.5972e-02, 8.0327e-01],\n",
              "           [9.3548e-01, 8.7172e-01, 1.4953e-01,  ..., 7.4523e-01,\n",
              "            2.8932e-01, 2.2395e-01],\n",
              "           [3.2106e-01, 9.8792e-01, 7.8637e-01,  ..., 2.6241e-01,\n",
              "            4.4343e-01, 5.1697e-02]],\n",
              "\n",
              "          [[1.7918e-01, 6.2074e-01, 5.6211e-01,  ..., 9.6458e-01,\n",
              "            2.5826e-01, 3.6148e-01],\n",
              "           [6.5148e-01, 9.5712e-02, 7.5281e-01,  ..., 2.0273e-02,\n",
              "            5.1658e-01, 9.2792e-01],\n",
              "           [6.0321e-01, 7.2504e-01, 7.1698e-01,  ..., 7.5424e-01,\n",
              "            9.5745e-01, 8.9305e-01],\n",
              "           ...,\n",
              "           [9.4275e-01, 4.7772e-01, 4.2292e-01,  ..., 2.8529e-01,\n",
              "            2.7676e-01, 3.1130e-01],\n",
              "           [3.1604e-01, 5.2577e-01, 5.9427e-01,  ..., 6.3673e-01,\n",
              "            5.3405e-01, 7.1582e-01],\n",
              "           [2.7109e-01, 5.7839e-02, 1.4375e-01,  ..., 7.4393e-01,\n",
              "            2.0940e-01, 9.8795e-01]],\n",
              "\n",
              "          ...,\n",
              "\n",
              "          [[2.5420e-01, 2.2726e-01, 1.3921e-02,  ..., 7.2902e-01,\n",
              "            9.5440e-01, 1.2545e-01],\n",
              "           [9.2901e-01, 4.1772e-01, 6.2413e-01,  ..., 6.2518e-01,\n",
              "            6.8188e-02, 6.9744e-02],\n",
              "           [5.9104e-01, 6.1040e-01, 2.4828e-01,  ..., 1.3093e-01,\n",
              "            2.3276e-01, 7.6670e-01],\n",
              "           ...,\n",
              "           [8.2316e-01, 2.7843e-01, 3.5921e-01,  ..., 4.9966e-01,\n",
              "            8.6226e-01, 1.8840e-01],\n",
              "           [4.0638e-01, 6.6524e-01, 5.8024e-03,  ..., 9.3680e-01,\n",
              "            6.0222e-01, 4.2499e-01],\n",
              "           [6.2910e-01, 4.4975e-01, 6.2558e-01,  ..., 9.6398e-01,\n",
              "            7.4301e-01, 3.2111e-01]],\n",
              "\n",
              "          [[8.6669e-01, 2.3465e-01, 7.1149e-02,  ..., 2.3673e-01,\n",
              "            2.9751e-02, 9.0867e-02],\n",
              "           [7.8681e-01, 1.4720e-02, 5.1975e-01,  ..., 3.5133e-01,\n",
              "            1.2295e-01, 5.6670e-02],\n",
              "           [4.2293e-01, 3.5024e-01, 8.2401e-01,  ..., 2.5302e-01,\n",
              "            6.0114e-01, 7.5343e-01],\n",
              "           ...,\n",
              "           [6.6204e-01, 1.8561e-01, 4.0550e-01,  ..., 5.8853e-01,\n",
              "            6.1967e-01, 4.2758e-01],\n",
              "           [6.3589e-01, 1.5151e-01, 2.3346e-01,  ..., 3.2171e-01,\n",
              "            8.9073e-02, 5.9900e-01],\n",
              "           [3.5247e-01, 6.5812e-01, 8.9110e-01,  ..., 9.3038e-01,\n",
              "            5.7778e-01, 5.1588e-01]],\n",
              "\n",
              "          [[8.2162e-01, 5.3772e-02, 1.3571e-01,  ..., 3.6510e-01,\n",
              "            6.4651e-01, 9.7236e-01],\n",
              "           [6.2410e-01, 6.1179e-01, 6.7092e-01,  ..., 6.4471e-02,\n",
              "            8.7344e-01, 9.1242e-02],\n",
              "           [9.5440e-01, 8.3112e-01, 1.8606e-01,  ..., 5.6864e-01,\n",
              "            9.3038e-01, 4.4390e-01],\n",
              "           ...,\n",
              "           [4.5247e-01, 5.9061e-01, 6.5831e-01,  ..., 7.0667e-02,\n",
              "            4.0533e-01, 9.5093e-01],\n",
              "           [7.3442e-01, 3.3209e-01, 7.2296e-01,  ..., 6.8136e-01,\n",
              "            5.9230e-02, 4.3688e-01],\n",
              "           [6.4175e-01, 9.6517e-01, 2.0137e-01,  ..., 5.7366e-01,\n",
              "            3.8149e-01, 6.6580e-01]]]],\n",
              "\n",
              "\n",
              "\n",
              "        ...,\n",
              "\n",
              "\n",
              "\n",
              "        [[[[4.0103e-01, 8.2617e-01, 3.5861e-02,  ..., 4.1343e-01,\n",
              "            7.3570e-01, 1.9553e-01],\n",
              "           [7.6633e-01, 8.8652e-01, 9.1350e-01,  ..., 2.1430e-01,\n",
              "            6.2099e-01, 4.2340e-01],\n",
              "           [5.7631e-01, 2.8017e-01, 8.6569e-01,  ..., 6.7686e-01,\n",
              "            5.9642e-01, 4.8727e-01],\n",
              "           ...,\n",
              "           [7.4190e-01, 6.6240e-01, 5.0700e-02,  ..., 3.3423e-01,\n",
              "            4.7097e-01, 4.0380e-02],\n",
              "           [9.8914e-01, 2.6276e-01, 9.2635e-01,  ..., 3.4765e-01,\n",
              "            1.9935e-01, 4.5814e-02],\n",
              "           [2.7421e-02, 3.5880e-01, 6.6283e-01,  ..., 8.4762e-01,\n",
              "            9.0325e-01, 6.8569e-01]],\n",
              "\n",
              "          [[1.6807e-01, 1.5515e-01, 5.3808e-01,  ..., 2.5424e-01,\n",
              "            8.3490e-01, 9.8016e-01],\n",
              "           [5.8104e-01, 4.4564e-01, 8.3473e-01,  ..., 4.2332e-01,\n",
              "            4.0441e-01, 7.7846e-01],\n",
              "           [2.0215e-01, 6.9602e-01, 5.0132e-01,  ..., 8.7765e-01,\n",
              "            2.1684e-01, 1.6647e-01],\n",
              "           ...,\n",
              "           [7.9096e-01, 3.6889e-01, 7.9006e-01,  ..., 7.5324e-02,\n",
              "            8.1778e-01, 5.7432e-01],\n",
              "           [7.0994e-01, 3.6119e-01, 8.7691e-01,  ..., 6.6162e-01,\n",
              "            7.8362e-01, 2.8059e-01],\n",
              "           [9.8303e-01, 6.9665e-01, 9.6171e-02,  ..., 8.7012e-01,\n",
              "            6.4922e-01, 7.3460e-01]],\n",
              "\n",
              "          [[6.4086e-01, 6.5361e-01, 7.1254e-01,  ..., 2.7176e-02,\n",
              "            4.6916e-01, 6.3282e-01],\n",
              "           [1.8889e-01, 9.5942e-01, 9.4147e-01,  ..., 2.4348e-01,\n",
              "            7.8597e-01, 3.7959e-01],\n",
              "           [4.0874e-01, 2.6632e-01, 9.6102e-01,  ..., 3.4787e-01,\n",
              "            3.2323e-01, 8.8350e-01],\n",
              "           ...,\n",
              "           [7.1249e-01, 5.6244e-01, 9.0458e-01,  ..., 8.7217e-01,\n",
              "            1.1536e-01, 2.8861e-01],\n",
              "           [6.6459e-01, 2.4336e-01, 8.9008e-01,  ..., 5.9248e-01,\n",
              "            5.8481e-01, 1.0753e-01],\n",
              "           [5.1964e-01, 7.3647e-01, 5.2673e-01,  ..., 3.3434e-01,\n",
              "            3.8455e-02, 8.6949e-01]],\n",
              "\n",
              "          ...,\n",
              "\n",
              "          [[4.4849e-01, 8.4377e-01, 9.1505e-01,  ..., 2.5182e-01,\n",
              "            4.0815e-01, 4.5192e-01],\n",
              "           [7.1078e-01, 7.2259e-01, 2.7978e-01,  ..., 1.6788e-01,\n",
              "            9.5617e-01, 6.0489e-01],\n",
              "           [8.0622e-01, 7.3780e-01, 3.0038e-01,  ..., 9.9645e-01,\n",
              "            2.1690e-01, 3.1526e-01],\n",
              "           ...,\n",
              "           [2.1771e-01, 9.9644e-01, 2.7849e-01,  ..., 3.2848e-01,\n",
              "            5.1989e-01, 1.1522e-01],\n",
              "           [6.5684e-01, 4.4042e-01, 9.7955e-01,  ..., 4.7155e-01,\n",
              "            8.7356e-01, 8.7056e-01],\n",
              "           [6.3560e-01, 5.0268e-01, 3.0869e-01,  ..., 4.0368e-01,\n",
              "            4.6814e-01, 7.0528e-01]],\n",
              "\n",
              "          [[2.1920e-01, 6.9063e-01, 6.7143e-01,  ..., 3.7721e-01,\n",
              "            7.4498e-01, 5.4601e-02],\n",
              "           [6.2959e-01, 4.9567e-01, 2.0475e-02,  ..., 6.7266e-01,\n",
              "            6.6707e-01, 4.5560e-01],\n",
              "           [9.4192e-01, 5.9802e-01, 8.6907e-01,  ..., 2.0288e-01,\n",
              "            6.2363e-01, 4.4253e-01],\n",
              "           ...,\n",
              "           [2.2913e-01, 3.9911e-01, 1.2745e-01,  ..., 4.3984e-01,\n",
              "            7.3834e-02, 2.0861e-01],\n",
              "           [1.5954e-01, 9.7237e-01, 9.0848e-01,  ..., 2.5817e-01,\n",
              "            1.1360e-01, 2.1649e-01],\n",
              "           [8.4268e-01, 7.8201e-01, 4.7016e-01,  ..., 3.2136e-01,\n",
              "            3.0997e-01, 4.0068e-02]],\n",
              "\n",
              "          [[7.1574e-01, 8.9120e-01, 1.1672e-01,  ..., 8.0993e-02,\n",
              "            7.8431e-01, 7.9442e-01],\n",
              "           [3.2134e-01, 4.9259e-01, 4.0576e-01,  ..., 9.0136e-01,\n",
              "            4.3762e-01, 9.4045e-01],\n",
              "           [9.6735e-01, 1.3424e-01, 8.7100e-03,  ..., 9.1605e-01,\n",
              "            6.3881e-01, 1.6111e-01],\n",
              "           ...,\n",
              "           [1.7762e-01, 4.0914e-01, 3.0367e-01,  ..., 9.9645e-01,\n",
              "            9.0476e-01, 6.0880e-01],\n",
              "           [5.7742e-01, 7.3638e-01, 9.8585e-02,  ..., 2.4040e-01,\n",
              "            5.1284e-01, 5.8489e-01],\n",
              "           [6.1326e-01, 5.9840e-01, 5.0055e-02,  ..., 1.8992e-01,\n",
              "            4.9866e-01, 2.9084e-01]]],\n",
              "\n",
              "\n",
              "         [[[5.5478e-01, 7.8638e-01, 8.9114e-01,  ..., 4.2904e-01,\n",
              "            9.1444e-01, 9.7615e-01],\n",
              "           [5.0124e-01, 9.7574e-03, 5.9342e-01,  ..., 6.3361e-01,\n",
              "            9.1272e-01, 7.8041e-01],\n",
              "           [4.9943e-01, 3.8424e-01, 8.6963e-01,  ..., 6.8190e-01,\n",
              "            1.7670e-01, 2.3483e-01],\n",
              "           ...,\n",
              "           [2.4593e-01, 5.5328e-01, 5.2947e-02,  ..., 9.0905e-01,\n",
              "            3.2781e-02, 5.6598e-01],\n",
              "           [6.8014e-01, 5.1034e-01, 5.3851e-01,  ..., 9.1213e-01,\n",
              "            5.9754e-01, 6.3977e-02],\n",
              "           [5.8344e-02, 6.1458e-01, 1.8535e-01,  ..., 3.6485e-01,\n",
              "            3.1302e-01, 9.5383e-01]],\n",
              "\n",
              "          [[2.0681e-01, 2.8807e-01, 9.2284e-02,  ..., 5.1919e-01,\n",
              "            8.6883e-01, 5.5283e-01],\n",
              "           [4.7129e-01, 5.5763e-01, 8.8819e-01,  ..., 7.4251e-01,\n",
              "            2.8932e-01, 4.0430e-01],\n",
              "           [6.9196e-01, 2.3198e-01, 1.8570e-01,  ..., 2.8007e-01,\n",
              "            6.2525e-01, 7.7053e-02],\n",
              "           ...,\n",
              "           [9.1048e-01, 1.6136e-01, 8.7761e-01,  ..., 9.9223e-01,\n",
              "            8.2862e-01, 9.8359e-01],\n",
              "           [1.8406e-02, 3.5579e-01, 9.7275e-01,  ..., 1.5056e-01,\n",
              "            8.4022e-02, 8.9434e-01],\n",
              "           [1.6255e-01, 3.0702e-01, 1.5850e-02,  ..., 8.9441e-01,\n",
              "            1.9713e-01, 9.6348e-01]],\n",
              "\n",
              "          [[8.1892e-02, 9.6973e-01, 4.8123e-01,  ..., 2.6289e-01,\n",
              "            3.2044e-01, 9.5639e-01],\n",
              "           [7.0956e-01, 5.9262e-01, 2.9256e-01,  ..., 9.4393e-01,\n",
              "            2.5405e-01, 5.5407e-02],\n",
              "           [9.7537e-01, 8.2390e-01, 3.2460e-01,  ..., 4.5334e-01,\n",
              "            6.3099e-02, 7.7839e-01],\n",
              "           ...,\n",
              "           [8.2120e-01, 3.3684e-01, 2.9926e-01,  ..., 9.1683e-01,\n",
              "            1.5175e-01, 3.7950e-01],\n",
              "           [2.3426e-01, 1.4862e-01, 6.7368e-01,  ..., 5.2811e-01,\n",
              "            1.2005e-01, 3.9833e-01],\n",
              "           [4.2452e-01, 5.4479e-01, 7.4283e-01,  ..., 4.0907e-01,\n",
              "            2.0422e-01, 2.1137e-01]],\n",
              "\n",
              "          ...,\n",
              "\n",
              "          [[3.0069e-01, 9.5358e-01, 7.6102e-01,  ..., 9.2337e-01,\n",
              "            8.2984e-01, 1.3429e-01],\n",
              "           [9.4994e-02, 8.6897e-01, 9.8419e-01,  ..., 7.8224e-01,\n",
              "            9.3098e-01, 9.8461e-01],\n",
              "           [6.8936e-01, 1.3176e-01, 1.9604e-01,  ..., 6.4955e-01,\n",
              "            7.4222e-01, 4.3315e-01],\n",
              "           ...,\n",
              "           [7.6462e-01, 1.6701e-02, 7.7841e-01,  ..., 4.3761e-01,\n",
              "            5.1049e-01, 9.1132e-01],\n",
              "           [1.6645e-01, 2.4772e-01, 6.9217e-01,  ..., 1.4858e-01,\n",
              "            2.0200e-01, 3.0380e-01],\n",
              "           [2.2179e-01, 2.1865e-01, 6.7258e-01,  ..., 2.0511e-01,\n",
              "            6.3386e-01, 2.1307e-01]],\n",
              "\n",
              "          [[5.5462e-01, 5.4925e-01, 1.3292e-01,  ..., 6.1340e-01,\n",
              "            2.9233e-02, 1.4705e-02],\n",
              "           [3.3128e-01, 5.7068e-01, 9.7342e-02,  ..., 6.9901e-01,\n",
              "            8.8999e-01, 8.6531e-01],\n",
              "           [8.8343e-01, 1.8612e-01, 7.2473e-01,  ..., 1.5479e-01,\n",
              "            8.5458e-01, 9.6760e-01],\n",
              "           ...,\n",
              "           [6.0722e-01, 3.6330e-03, 9.1765e-01,  ..., 5.0172e-01,\n",
              "            8.6265e-01, 2.1492e-01],\n",
              "           [8.2874e-01, 1.3071e-01, 4.9509e-01,  ..., 2.6041e-01,\n",
              "            1.8534e-01, 1.6008e-01],\n",
              "           [6.7775e-01, 3.6305e-02, 9.7441e-01,  ..., 2.9240e-01,\n",
              "            8.8301e-02, 5.1390e-01]],\n",
              "\n",
              "          [[1.6340e-01, 7.1003e-01, 9.4127e-01,  ..., 4.9276e-01,\n",
              "            3.3766e-01, 6.7241e-01],\n",
              "           [2.3772e-01, 9.2365e-01, 4.8528e-01,  ..., 6.7374e-01,\n",
              "            8.5272e-02, 9.6132e-01],\n",
              "           [1.8472e-01, 7.0777e-01, 2.6409e-01,  ..., 5.3903e-01,\n",
              "            6.8668e-01, 8.3673e-01],\n",
              "           ...,\n",
              "           [7.2537e-01, 2.8192e-01, 3.6445e-01,  ..., 1.4576e-01,\n",
              "            1.0989e-01, 3.0011e-01],\n",
              "           [4.5355e-01, 1.2906e-01, 2.0253e-01,  ..., 9.5874e-01,\n",
              "            8.1266e-01, 9.8564e-01],\n",
              "           [5.6690e-01, 9.1206e-01, 4.8208e-04,  ..., 9.3307e-02,\n",
              "            2.7876e-01, 3.0999e-01]]],\n",
              "\n",
              "\n",
              "         [[[2.9483e-01, 1.0041e-01, 7.5000e-01,  ..., 3.2431e-01,\n",
              "            9.3063e-01, 2.8307e-01],\n",
              "           [6.4565e-01, 4.7942e-01, 4.4298e-01,  ..., 7.9993e-01,\n",
              "            3.5446e-01, 5.2086e-01],\n",
              "           [9.5291e-02, 1.9259e-01, 2.6745e-02,  ..., 8.8985e-02,\n",
              "            1.6287e-01, 8.0835e-01],\n",
              "           ...,\n",
              "           [7.4569e-01, 4.4638e-01, 8.0973e-01,  ..., 2.2651e-01,\n",
              "            3.5390e-01, 3.5670e-01],\n",
              "           [3.0032e-01, 1.3990e-01, 4.0938e-01,  ..., 5.8570e-01,\n",
              "            6.9714e-01, 3.1753e-01],\n",
              "           [2.1643e-01, 6.5645e-01, 8.8310e-02,  ..., 1.1805e-01,\n",
              "            6.8137e-01, 2.2793e-02]],\n",
              "\n",
              "          [[7.5977e-01, 3.6240e-02, 9.4227e-01,  ..., 9.1749e-01,\n",
              "            6.6046e-01, 7.8389e-01],\n",
              "           [4.7874e-01, 1.3823e-01, 8.1341e-01,  ..., 1.6463e-01,\n",
              "            6.8525e-01, 9.2220e-01],\n",
              "           [3.9242e-01, 6.6568e-01, 9.4533e-01,  ..., 1.4407e-01,\n",
              "            5.5263e-01, 4.7297e-01],\n",
              "           ...,\n",
              "           [5.7739e-01, 5.0640e-01, 8.8405e-02,  ..., 6.7163e-01,\n",
              "            5.8306e-02, 4.3962e-01],\n",
              "           [6.1905e-01, 1.1150e-01, 7.2129e-01,  ..., 6.2357e-01,\n",
              "            8.4224e-01, 3.2009e-01],\n",
              "           [3.5310e-01, 8.6772e-01, 1.0890e-01,  ..., 5.3407e-01,\n",
              "            3.7292e-01, 7.7781e-01]],\n",
              "\n",
              "          [[9.1252e-01, 3.4191e-01, 7.7919e-02,  ..., 2.5470e-01,\n",
              "            2.0110e-01, 8.0754e-01],\n",
              "           [9.2676e-01, 3.0225e-01, 2.4419e-01,  ..., 3.5595e-01,\n",
              "            6.3602e-01, 5.5601e-01],\n",
              "           [3.9503e-01, 7.9495e-01, 8.2173e-01,  ..., 4.1548e-01,\n",
              "            3.8163e-01, 2.0565e-01],\n",
              "           ...,\n",
              "           [7.5133e-01, 7.7563e-01, 6.3806e-01,  ..., 8.1552e-01,\n",
              "            1.4778e-01, 7.2959e-01],\n",
              "           [5.8939e-02, 7.7284e-02, 9.2246e-01,  ..., 8.9962e-01,\n",
              "            2.4227e-01, 2.7784e-01],\n",
              "           [3.8335e-01, 6.3625e-01, 6.6549e-01,  ..., 5.9319e-01,\n",
              "            7.9577e-01, 3.6156e-01]],\n",
              "\n",
              "          ...,\n",
              "\n",
              "          [[2.1513e-01, 1.0887e-01, 8.6868e-01,  ..., 3.3386e-01,\n",
              "            1.7946e-01, 3.3759e-01],\n",
              "           [7.0939e-01, 7.4200e-01, 4.5743e-01,  ..., 6.2078e-01,\n",
              "            8.2397e-01, 2.0385e-01],\n",
              "           [6.6344e-01, 7.3119e-01, 3.1938e-01,  ..., 2.1257e-01,\n",
              "            4.3787e-01, 3.4779e-01],\n",
              "           ...,\n",
              "           [8.5921e-01, 8.2341e-01, 9.9498e-01,  ..., 3.4023e-01,\n",
              "            9.6071e-01, 5.8632e-01],\n",
              "           [3.6355e-01, 2.7456e-03, 1.8204e-01,  ..., 6.6486e-01,\n",
              "            8.8157e-01, 5.0796e-02],\n",
              "           [6.7979e-01, 6.2176e-01, 2.5912e-01,  ..., 3.3026e-01,\n",
              "            8.8909e-01, 9.4272e-01]],\n",
              "\n",
              "          [[6.9633e-01, 3.8915e-01, 8.2684e-01,  ..., 3.5576e-01,\n",
              "            7.2181e-01, 4.8345e-01],\n",
              "           [1.2099e-01, 7.0482e-01, 9.2872e-02,  ..., 4.5841e-01,\n",
              "            1.9266e-01, 9.3709e-02],\n",
              "           [8.6070e-01, 9.7530e-01, 6.4903e-01,  ..., 5.8324e-01,\n",
              "            4.5424e-01, 7.0142e-01],\n",
              "           ...,\n",
              "           [2.5891e-01, 5.0652e-01, 7.1024e-01,  ..., 5.5217e-01,\n",
              "            8.7204e-01, 2.2962e-01],\n",
              "           [2.3765e-01, 4.2307e-01, 9.5896e-01,  ..., 8.6980e-01,\n",
              "            1.6798e-01, 8.5077e-01],\n",
              "           [4.4817e-01, 6.8721e-02, 3.5996e-01,  ..., 6.1005e-01,\n",
              "            9.2393e-01, 2.0424e-01]],\n",
              "\n",
              "          [[6.2386e-01, 2.4392e-01, 7.9262e-01,  ..., 1.1355e-04,\n",
              "            8.4171e-01, 8.1206e-01],\n",
              "           [8.9340e-01, 8.2589e-01, 2.2562e-01,  ..., 2.8216e-01,\n",
              "            3.6299e-01, 6.2672e-01],\n",
              "           [2.2141e-01, 3.5316e-01, 1.0838e-01,  ..., 6.7615e-01,\n",
              "            4.4049e-01, 4.8701e-01],\n",
              "           ...,\n",
              "           [6.5158e-01, 2.2968e-01, 7.0997e-01,  ..., 3.6071e-01,\n",
              "            4.4634e-01, 7.3885e-02],\n",
              "           [6.5171e-02, 3.7454e-01, 2.7992e-01,  ..., 2.9500e-01,\n",
              "            9.1357e-01, 6.7657e-01],\n",
              "           [8.1105e-01, 8.0562e-01, 3.4451e-01,  ..., 3.4845e-01,\n",
              "            6.1497e-01, 9.2215e-01]]],\n",
              "\n",
              "\n",
              "         ...,\n",
              "\n",
              "\n",
              "         [[[9.3604e-01, 9.4333e-01, 4.4513e-01,  ..., 7.6460e-01,\n",
              "            1.4384e-01, 5.7766e-01],\n",
              "           [4.7155e-01, 2.5988e-01, 6.1428e-01,  ..., 4.8263e-02,\n",
              "            7.0081e-01, 7.1087e-02],\n",
              "           [1.7592e-01, 7.5243e-01, 6.6627e-01,  ..., 3.2912e-01,\n",
              "            1.1836e-01, 7.2633e-01],\n",
              "           ...,\n",
              "           [3.1200e-01, 6.8503e-01, 2.6337e-01,  ..., 7.5460e-01,\n",
              "            1.5958e-01, 4.3137e-01],\n",
              "           [2.9023e-01, 4.2368e-01, 6.3589e-01,  ..., 3.1421e-01,\n",
              "            1.4352e-01, 4.3209e-01],\n",
              "           [3.3177e-01, 1.0097e-01, 3.7354e-01,  ..., 6.4849e-01,\n",
              "            6.5808e-01, 1.8436e-01]],\n",
              "\n",
              "          [[7.8934e-01, 5.4802e-01, 6.2245e-01,  ..., 5.4787e-01,\n",
              "            7.4912e-01, 4.6637e-01],\n",
              "           [7.5123e-01, 2.9546e-01, 2.2872e-01,  ..., 3.8658e-01,\n",
              "            7.2673e-01, 6.1378e-01],\n",
              "           [5.8692e-01, 1.3235e-02, 4.1875e-01,  ..., 8.8234e-01,\n",
              "            8.5185e-01, 2.6118e-02],\n",
              "           ...,\n",
              "           [5.6343e-01, 7.3438e-01, 6.8656e-01,  ..., 5.1316e-01,\n",
              "            8.6258e-01, 1.0965e-01],\n",
              "           [3.7408e-01, 5.4239e-01, 4.2022e-01,  ..., 1.1040e-02,\n",
              "            2.3274e-01, 9.5719e-01],\n",
              "           [5.8278e-01, 6.3123e-01, 7.1098e-02,  ..., 8.1305e-01,\n",
              "            9.4637e-01, 9.9677e-01]],\n",
              "\n",
              "          [[6.7520e-01, 9.7512e-01, 8.5233e-01,  ..., 1.7340e-01,\n",
              "            2.0653e-01, 8.2225e-02],\n",
              "           [1.7685e-01, 8.2161e-02, 9.3204e-01,  ..., 1.0690e-01,\n",
              "            5.0806e-01, 5.9638e-01],\n",
              "           [3.1913e-01, 4.6218e-02, 6.2844e-01,  ..., 2.1040e-02,\n",
              "            9.2933e-01, 1.4209e-02],\n",
              "           ...,\n",
              "           [8.4882e-02, 5.4489e-01, 6.3227e-02,  ..., 9.0925e-01,\n",
              "            4.8298e-02, 3.9633e-01],\n",
              "           [8.5567e-01, 1.0494e-02, 4.7364e-02,  ..., 6.8770e-01,\n",
              "            2.1850e-01, 6.4636e-01],\n",
              "           [9.7134e-02, 2.6379e-01, 2.6354e-01,  ..., 7.8167e-01,\n",
              "            1.8438e-02, 1.8727e-01]],\n",
              "\n",
              "          ...,\n",
              "\n",
              "          [[3.6120e-01, 3.7096e-01, 1.4928e-01,  ..., 4.2797e-01,\n",
              "            6.3889e-01, 2.6150e-01],\n",
              "           [7.9094e-01, 1.2079e-02, 6.3733e-01,  ..., 5.7954e-01,\n",
              "            9.4703e-01, 1.2015e-02],\n",
              "           [3.7798e-01, 3.6710e-01, 9.8668e-01,  ..., 9.3558e-01,\n",
              "            2.9274e-01, 3.4549e-01],\n",
              "           ...,\n",
              "           [7.3059e-01, 8.2015e-01, 2.7289e-01,  ..., 8.1046e-01,\n",
              "            5.1917e-01, 7.4237e-01],\n",
              "           [5.9110e-02, 8.6778e-01, 4.3083e-01,  ..., 3.5577e-01,\n",
              "            7.0850e-01, 9.9030e-01],\n",
              "           [2.8385e-01, 9.1632e-01, 6.9626e-02,  ..., 5.8037e-02,\n",
              "            4.9512e-01, 9.8925e-01]],\n",
              "\n",
              "          [[3.6523e-01, 7.5766e-01, 1.7310e-01,  ..., 1.7991e-01,\n",
              "            7.0632e-01, 9.3683e-01],\n",
              "           [1.3453e-01, 4.0507e-01, 6.4934e-01,  ..., 8.3190e-01,\n",
              "            6.8495e-01, 6.0841e-01],\n",
              "           [2.2205e-01, 2.4704e-01, 1.0256e-01,  ..., 4.3344e-01,\n",
              "            9.8721e-01, 7.1724e-02],\n",
              "           ...,\n",
              "           [5.2232e-01, 3.0077e-01, 5.0343e-01,  ..., 2.7435e-01,\n",
              "            8.8905e-01, 2.9216e-01],\n",
              "           [7.1277e-01, 5.7661e-01, 4.5060e-01,  ..., 6.8785e-01,\n",
              "            5.4050e-02, 5.9195e-01],\n",
              "           [3.9875e-01, 5.8649e-01, 3.4132e-01,  ..., 6.4664e-01,\n",
              "            5.2040e-01, 8.7202e-05]],\n",
              "\n",
              "          [[2.7235e-01, 9.7010e-01, 5.0413e-01,  ..., 8.6701e-01,\n",
              "            9.9039e-01, 2.7998e-01],\n",
              "           [7.8510e-01, 8.8020e-01, 5.3864e-01,  ..., 1.8291e-02,\n",
              "            4.0168e-01, 4.3054e-02],\n",
              "           [6.9692e-01, 7.1498e-01, 6.0528e-01,  ..., 6.8573e-01,\n",
              "            3.0524e-01, 4.2761e-01],\n",
              "           ...,\n",
              "           [1.6533e-01, 3.3584e-01, 5.6120e-01,  ..., 8.9049e-01,\n",
              "            7.6836e-01, 8.8055e-01],\n",
              "           [8.9829e-01, 1.4627e-01, 3.5806e-01,  ..., 2.1107e-01,\n",
              "            6.1112e-02, 1.3363e-01],\n",
              "           [4.6362e-01, 8.4661e-03, 7.9290e-01,  ..., 9.8478e-02,\n",
              "            8.2534e-01, 6.1309e-01]]],\n",
              "\n",
              "\n",
              "         [[[4.8558e-01, 1.1765e-02, 8.0731e-01,  ..., 8.4558e-01,\n",
              "            8.4662e-01, 6.0887e-01],\n",
              "           [1.7800e-01, 4.8101e-01, 6.3210e-01,  ..., 1.0318e-01,\n",
              "            7.5558e-01, 8.0960e-01],\n",
              "           [5.9998e-01, 7.0659e-01, 5.5282e-01,  ..., 2.1651e-01,\n",
              "            8.4846e-01, 6.9246e-01],\n",
              "           ...,\n",
              "           [5.7121e-01, 9.7553e-01, 6.0706e-02,  ..., 1.3579e-01,\n",
              "            2.1164e-01, 5.7931e-01],\n",
              "           [3.6484e-01, 6.6628e-01, 7.5630e-01,  ..., 2.9868e-01,\n",
              "            8.1865e-01, 6.3210e-01],\n",
              "           [2.3218e-01, 4.4452e-01, 5.5791e-01,  ..., 3.7894e-01,\n",
              "            1.7037e-01, 2.2638e-01]],\n",
              "\n",
              "          [[3.7265e-01, 3.0375e-01, 4.1302e-01,  ..., 6.6002e-01,\n",
              "            2.4232e-01, 5.3215e-01],\n",
              "           [8.1306e-01, 1.2937e-01, 8.9047e-01,  ..., 4.6937e-02,\n",
              "            5.7448e-01, 7.3704e-01],\n",
              "           [3.6372e-01, 8.5359e-01, 6.5465e-01,  ..., 5.6515e-01,\n",
              "            1.7627e-01, 5.6517e-01],\n",
              "           ...,\n",
              "           [9.3827e-01, 5.3004e-01, 2.2008e-01,  ..., 5.6725e-02,\n",
              "            4.8551e-01, 2.5694e-02],\n",
              "           [9.3802e-01, 3.1266e-01, 9.2318e-01,  ..., 3.3995e-01,\n",
              "            8.3803e-01, 1.9291e-01],\n",
              "           [5.6330e-02, 7.4415e-02, 3.5742e-02,  ..., 4.9107e-01,\n",
              "            1.4653e-01, 3.3052e-01]],\n",
              "\n",
              "          [[4.5658e-01, 2.2645e-01, 1.9467e-01,  ..., 5.9073e-01,\n",
              "            3.1739e-02, 2.6827e-01],\n",
              "           [5.5419e-01, 3.5518e-01, 6.6322e-01,  ..., 4.9164e-01,\n",
              "            3.8636e-01, 6.2399e-01],\n",
              "           [6.8097e-01, 7.4771e-01, 1.6370e-01,  ..., 3.0729e-01,\n",
              "            6.3516e-01, 6.8326e-01],\n",
              "           ...,\n",
              "           [4.6436e-01, 2.7790e-01, 7.1807e-01,  ..., 8.2410e-01,\n",
              "            6.9323e-01, 6.6580e-01],\n",
              "           [8.2427e-02, 7.3276e-01, 2.4359e-01,  ..., 2.7203e-01,\n",
              "            2.0789e-01, 5.7482e-01],\n",
              "           [7.8094e-01, 8.2104e-01, 3.8917e-01,  ..., 3.3379e-01,\n",
              "            6.7578e-01, 5.4221e-01]],\n",
              "\n",
              "          ...,\n",
              "\n",
              "          [[9.6186e-01, 3.5218e-01, 3.9995e-02,  ..., 2.4649e-01,\n",
              "            9.0785e-01, 3.7809e-01],\n",
              "           [7.0626e-01, 3.6738e-01, 6.1561e-01,  ..., 3.3954e-01,\n",
              "            4.7660e-01, 7.2710e-02],\n",
              "           [6.9592e-01, 7.8595e-01, 1.9091e-01,  ..., 9.1547e-01,\n",
              "            7.9250e-04, 1.1288e-01],\n",
              "           ...,\n",
              "           [9.7744e-01, 8.9801e-01, 2.1121e-01,  ..., 2.5612e-01,\n",
              "            1.8022e-01, 3.4018e-01],\n",
              "           [2.8951e-02, 3.5453e-01, 5.4248e-01,  ..., 9.2534e-02,\n",
              "            6.6181e-01, 7.6437e-02],\n",
              "           [3.1401e-01, 7.8012e-01, 2.0179e-01,  ..., 1.8626e-01,\n",
              "            8.8297e-01, 4.8579e-01]],\n",
              "\n",
              "          [[5.1932e-01, 5.9535e-01, 4.3001e-01,  ..., 6.7764e-01,\n",
              "            6.5096e-01, 8.7907e-01],\n",
              "           [6.3100e-02, 1.5949e-02, 5.6573e-01,  ..., 1.5375e-01,\n",
              "            4.3360e-01, 2.5234e-01],\n",
              "           [7.8828e-02, 8.4887e-01, 8.2463e-01,  ..., 6.6385e-01,\n",
              "            8.4170e-01, 4.5337e-01],\n",
              "           ...,\n",
              "           [8.5081e-01, 8.7943e-01, 3.1056e-02,  ..., 1.5375e-01,\n",
              "            8.8933e-01, 8.9675e-01],\n",
              "           [9.3131e-01, 2.9243e-01, 7.5072e-01,  ..., 5.7090e-01,\n",
              "            8.9641e-01, 2.8287e-01],\n",
              "           [8.4123e-01, 9.0142e-01, 4.3096e-01,  ..., 8.4883e-01,\n",
              "            5.2024e-01, 9.2368e-03]],\n",
              "\n",
              "          [[4.9131e-01, 2.2767e-01, 9.2244e-01,  ..., 1.1279e-02,\n",
              "            6.5638e-01, 8.6767e-01],\n",
              "           [7.2251e-01, 1.4679e-01, 8.8951e-01,  ..., 3.1600e-01,\n",
              "            6.8061e-01, 2.2636e-01],\n",
              "           [4.2502e-01, 6.4974e-01, 4.0569e-01,  ..., 7.5716e-01,\n",
              "            5.2971e-01, 5.7517e-01],\n",
              "           ...,\n",
              "           [7.7964e-01, 2.7109e-01, 8.8401e-01,  ..., 6.3868e-01,\n",
              "            7.1719e-01, 8.6590e-01],\n",
              "           [8.2709e-01, 1.1726e-01, 1.9305e-01,  ..., 6.8278e-01,\n",
              "            7.9693e-01, 1.8647e-01],\n",
              "           [8.0836e-01, 3.0424e-01, 9.9981e-01,  ..., 2.5945e-01,\n",
              "            6.0792e-01, 4.8946e-01]]],\n",
              "\n",
              "\n",
              "         [[[6.6713e-01, 1.3277e-01, 6.7690e-02,  ..., 4.5110e-01,\n",
              "            3.7443e-01, 4.2621e-01],\n",
              "           [4.0803e-01, 6.7116e-01, 4.5453e-01,  ..., 9.9620e-01,\n",
              "            5.7063e-01, 4.5862e-01],\n",
              "           [4.3176e-01, 4.9068e-01, 2.0389e-01,  ..., 3.2061e-01,\n",
              "            8.4064e-01, 3.1659e-02],\n",
              "           ...,\n",
              "           [4.3787e-01, 9.2056e-01, 3.6413e-01,  ..., 9.0665e-01,\n",
              "            9.9502e-02, 8.6970e-01],\n",
              "           [7.8692e-01, 3.0107e-01, 9.9197e-01,  ..., 9.2963e-01,\n",
              "            8.2175e-01, 6.9638e-01],\n",
              "           [6.2040e-01, 5.4154e-02, 9.7932e-01,  ..., 4.7941e-02,\n",
              "            3.1235e-01, 2.8500e-01]],\n",
              "\n",
              "          [[8.0831e-01, 6.5305e-01, 7.7336e-01,  ..., 2.5736e-01,\n",
              "            3.3598e-01, 6.7361e-01],\n",
              "           [9.5195e-01, 7.3892e-01, 7.8964e-02,  ..., 7.1607e-01,\n",
              "            2.3800e-01, 6.0410e-01],\n",
              "           [7.3225e-01, 6.4938e-01, 5.4953e-02,  ..., 9.6673e-01,\n",
              "            1.9316e-02, 1.0152e-01],\n",
              "           ...,\n",
              "           [7.9554e-01, 9.8311e-01, 5.3838e-01,  ..., 4.3202e-01,\n",
              "            7.6049e-01, 9.0884e-01],\n",
              "           [1.2653e-01, 6.0828e-01, 5.2017e-01,  ..., 9.5317e-01,\n",
              "            9.9917e-01, 9.0809e-01],\n",
              "           [8.7959e-01, 9.4785e-01, 3.0905e-01,  ..., 2.7590e-01,\n",
              "            4.0272e-02, 9.9220e-01]],\n",
              "\n",
              "          [[4.9736e-01, 5.9425e-01, 2.1856e-01,  ..., 2.1568e-01,\n",
              "            9.9330e-02, 6.8911e-02],\n",
              "           [6.8457e-01, 5.2297e-01, 4.3236e-02,  ..., 1.8247e-01,\n",
              "            7.0457e-01, 3.7936e-01],\n",
              "           [1.3158e-01, 2.8168e-01, 3.0173e-01,  ..., 2.9064e-01,\n",
              "            9.1462e-01, 9.9461e-01],\n",
              "           ...,\n",
              "           [4.9865e-01, 7.5663e-01, 3.6952e-01,  ..., 9.4868e-01,\n",
              "            9.3123e-01, 6.2082e-01],\n",
              "           [8.0163e-01, 2.8978e-01, 3.8453e-01,  ..., 8.1903e-01,\n",
              "            1.8916e-01, 8.6563e-01],\n",
              "           [4.1722e-01, 4.7289e-01, 1.3187e-02,  ..., 8.4431e-01,\n",
              "            8.6340e-01, 3.9336e-01]],\n",
              "\n",
              "          ...,\n",
              "\n",
              "          [[8.6458e-01, 6.4473e-01, 3.1966e-02,  ..., 4.3594e-01,\n",
              "            3.8541e-01, 3.3904e-01],\n",
              "           [8.2869e-01, 7.2332e-01, 3.8058e-01,  ..., 8.6786e-01,\n",
              "            5.4480e-01, 8.7268e-01],\n",
              "           [7.5820e-01, 7.1554e-01, 9.9420e-01,  ..., 6.9405e-01,\n",
              "            5.4026e-01, 9.6866e-01],\n",
              "           ...,\n",
              "           [9.2981e-01, 2.1305e-02, 8.5541e-01,  ..., 6.6253e-01,\n",
              "            3.3374e-02, 9.2553e-01],\n",
              "           [9.1476e-01, 1.0868e-01, 4.9144e-01,  ..., 4.8607e-01,\n",
              "            2.3490e-02, 9.8041e-01],\n",
              "           [8.2120e-01, 8.1371e-01, 4.4293e-01,  ..., 9.0067e-01,\n",
              "            1.7619e-01, 1.9536e-02]],\n",
              "\n",
              "          [[2.3467e-01, 7.4548e-01, 5.6614e-01,  ..., 9.2990e-01,\n",
              "            4.4877e-01, 1.4796e-01],\n",
              "           [5.0728e-01, 3.8881e-01, 5.9122e-01,  ..., 7.7299e-01,\n",
              "            2.9715e-01, 7.2270e-01],\n",
              "           [6.3528e-01, 4.4927e-01, 4.0522e-01,  ..., 8.7893e-01,\n",
              "            1.8424e-01, 3.5620e-01],\n",
              "           ...,\n",
              "           [7.7224e-01, 8.7006e-01, 6.2284e-01,  ..., 7.3172e-01,\n",
              "            4.4913e-01, 6.6686e-01],\n",
              "           [9.9708e-01, 8.0928e-01, 7.8325e-01,  ..., 2.1751e-01,\n",
              "            2.9656e-01, 2.5772e-01],\n",
              "           [1.4968e-01, 4.0194e-01, 8.9084e-01,  ..., 7.0026e-03,\n",
              "            9.4707e-01, 2.9933e-01]],\n",
              "\n",
              "          [[1.3108e-01, 7.4551e-01, 8.1695e-01,  ..., 4.4436e-01,\n",
              "            6.5473e-01, 1.9956e-01],\n",
              "           [7.1488e-01, 6.7759e-01, 4.7147e-01,  ..., 4.4748e-01,\n",
              "            4.3187e-01, 7.6239e-01],\n",
              "           [7.7523e-02, 2.3023e-01, 1.2065e-01,  ..., 2.1483e-01,\n",
              "            1.8967e-01, 2.1510e-01],\n",
              "           ...,\n",
              "           [5.9222e-01, 2.7376e-03, 5.3267e-02,  ..., 6.7366e-01,\n",
              "            7.7242e-01, 7.8281e-01],\n",
              "           [6.1985e-01, 3.1916e-01, 8.0113e-02,  ..., 3.8067e-01,\n",
              "            1.3393e-01, 5.9021e-01],\n",
              "           [4.7319e-01, 1.5245e-01, 2.3185e-01,  ..., 9.3532e-01,\n",
              "            7.3312e-01, 6.4582e-01]]]],\n",
              "\n",
              "\n",
              "\n",
              "        [[[[6.6514e-01, 8.4065e-01, 9.0747e-01,  ..., 2.1897e-01,\n",
              "            2.6598e-01, 1.3312e-01],\n",
              "           [4.2993e-01, 9.8472e-01, 4.2382e-01,  ..., 5.2686e-01,\n",
              "            6.8867e-01, 3.8058e-01],\n",
              "           [8.7111e-01, 6.7155e-02, 5.6211e-01,  ..., 4.9844e-01,\n",
              "            6.3762e-01, 1.6256e-01],\n",
              "           ...,\n",
              "           [9.1641e-01, 3.4321e-01, 4.2490e-01,  ..., 6.9707e-01,\n",
              "            7.3394e-01, 9.4648e-01],\n",
              "           [7.0213e-01, 1.2795e-02, 7.4684e-01,  ..., 7.1425e-01,\n",
              "            3.8576e-01, 6.5159e-01],\n",
              "           [3.6138e-01, 6.6428e-01, 7.9705e-01,  ..., 3.9100e-01,\n",
              "            8.1288e-01, 2.2842e-01]],\n",
              "\n",
              "          [[6.9467e-01, 9.2222e-01, 6.7768e-01,  ..., 6.9491e-01,\n",
              "            7.7364e-01, 2.0150e-01],\n",
              "           [6.3262e-01, 2.5380e-01, 8.6387e-02,  ..., 4.6018e-02,\n",
              "            9.2164e-01, 5.2887e-01],\n",
              "           [4.7670e-01, 8.0913e-01, 4.4251e-01,  ..., 3.3345e-01,\n",
              "            7.8408e-01, 2.2706e-01],\n",
              "           ...,\n",
              "           [5.6434e-01, 4.5734e-01, 5.9702e-01,  ..., 8.0592e-01,\n",
              "            8.7325e-01, 8.7731e-01],\n",
              "           [2.6221e-01, 4.6391e-01, 4.9462e-01,  ..., 3.0240e-01,\n",
              "            4.0855e-01, 8.6044e-01],\n",
              "           [4.0379e-01, 6.4850e-02, 5.3474e-01,  ..., 7.0164e-02,\n",
              "            7.1891e-01, 1.2452e-01]],\n",
              "\n",
              "          [[6.5312e-01, 2.3646e-01, 6.4729e-01,  ..., 9.5021e-01,\n",
              "            9.5003e-03, 7.7269e-02],\n",
              "           [6.0814e-01, 9.8167e-01, 7.4855e-02,  ..., 4.5465e-01,\n",
              "            8.6899e-01, 5.9606e-01],\n",
              "           [4.6971e-01, 7.1219e-01, 8.7702e-01,  ..., 3.0750e-01,\n",
              "            5.1328e-01, 8.9507e-01],\n",
              "           ...,\n",
              "           [2.4177e-01, 8.2699e-01, 4.8161e-01,  ..., 2.1096e-01,\n",
              "            5.2303e-01, 3.8971e-01],\n",
              "           [9.2685e-01, 9.6358e-02, 4.1423e-01,  ..., 2.3838e-02,\n",
              "            3.1037e-01, 9.0538e-01],\n",
              "           [7.1190e-01, 6.5733e-01, 7.5116e-02,  ..., 8.5572e-01,\n",
              "            4.3520e-02, 5.4587e-01]],\n",
              "\n",
              "          ...,\n",
              "\n",
              "          [[2.9272e-01, 2.9828e-01, 6.1674e-01,  ..., 8.8397e-01,\n",
              "            3.5048e-01, 5.5780e-01],\n",
              "           [4.8755e-01, 1.9484e-01, 3.7193e-01,  ..., 5.7008e-01,\n",
              "            9.5673e-01, 5.7955e-01],\n",
              "           [8.2107e-01, 5.2919e-01, 2.9375e-01,  ..., 9.9002e-01,\n",
              "            4.6875e-02, 3.5357e-01],\n",
              "           ...,\n",
              "           [3.6858e-01, 3.5625e-01, 3.9131e-01,  ..., 4.5966e-01,\n",
              "            8.2958e-01, 6.8370e-01],\n",
              "           [2.8550e-01, 6.3643e-02, 3.8468e-01,  ..., 6.2991e-01,\n",
              "            6.5684e-01, 8.1036e-01],\n",
              "           [3.1493e-02, 3.2060e-01, 4.9037e-01,  ..., 2.0249e-01,\n",
              "            3.4998e-01, 5.3655e-01]],\n",
              "\n",
              "          [[8.7707e-01, 8.8466e-01, 5.9360e-01,  ..., 3.9311e-01,\n",
              "            4.3093e-01, 2.7578e-01],\n",
              "           [7.3646e-01, 6.9942e-02, 5.7729e-02,  ..., 5.3637e-01,\n",
              "            6.1745e-01, 7.9174e-01],\n",
              "           [4.9749e-01, 9.0084e-01, 7.9637e-01,  ..., 9.8055e-01,\n",
              "            8.3036e-01, 3.8770e-01],\n",
              "           ...,\n",
              "           [3.5736e-01, 4.6328e-01, 8.0606e-01,  ..., 6.8271e-01,\n",
              "            5.7621e-01, 1.4953e-01],\n",
              "           [4.6173e-02, 7.5776e-01, 3.1183e-01,  ..., 7.3602e-01,\n",
              "            4.6896e-01, 3.3541e-01],\n",
              "           [6.3814e-01, 7.7847e-01, 9.5757e-01,  ..., 7.4320e-02,\n",
              "            3.1755e-01, 2.2865e-01]],\n",
              "\n",
              "          [[9.6786e-01, 2.3157e-01, 8.2598e-01,  ..., 1.3436e-01,\n",
              "            9.1610e-02, 3.1736e-01],\n",
              "           [9.2374e-01, 5.3036e-01, 2.6642e-01,  ..., 4.9413e-01,\n",
              "            6.3294e-01, 4.3273e-05],\n",
              "           [3.4086e-01, 4.1697e-01, 1.9615e-01,  ..., 8.5801e-01,\n",
              "            9.0541e-01, 7.9064e-01],\n",
              "           ...,\n",
              "           [1.2121e-01, 3.5417e-01, 8.8611e-01,  ..., 2.3619e-01,\n",
              "            1.3290e-02, 8.0435e-01],\n",
              "           [5.3123e-02, 2.7805e-01, 4.4610e-02,  ..., 5.9979e-01,\n",
              "            6.0398e-01, 4.2294e-02],\n",
              "           [8.2871e-02, 6.7551e-01, 7.2695e-01,  ..., 5.0201e-01,\n",
              "            8.9727e-01, 4.0515e-01]]],\n",
              "\n",
              "\n",
              "         [[[6.0950e-01, 4.7389e-01, 8.1084e-01,  ..., 5.3239e-01,\n",
              "            4.0598e-02, 8.1269e-01],\n",
              "           [7.4703e-01, 7.5363e-01, 2.6570e-02,  ..., 7.1142e-01,\n",
              "            3.3124e-01, 5.2040e-01],\n",
              "           [6.7844e-01, 3.8086e-02, 1.5051e-01,  ..., 4.7806e-02,\n",
              "            2.7605e-01, 6.0224e-01],\n",
              "           ...,\n",
              "           [5.5350e-01, 1.8938e-01, 3.9163e-01,  ..., 5.0766e-01,\n",
              "            5.0194e-01, 5.7520e-01],\n",
              "           [9.5859e-01, 4.4285e-01, 3.1292e-01,  ..., 2.9566e-01,\n",
              "            2.8799e-01, 3.6322e-01],\n",
              "           [9.1096e-01, 3.0366e-01, 6.4510e-01,  ..., 5.5416e-01,\n",
              "            8.4066e-01, 6.8066e-01]],\n",
              "\n",
              "          [[5.6677e-01, 1.6998e-01, 2.9247e-01,  ..., 7.3702e-01,\n",
              "            7.0762e-01, 6.5969e-01],\n",
              "           [8.1797e-01, 5.5219e-01, 8.6630e-02,  ..., 9.7719e-01,\n",
              "            7.4261e-02, 2.6925e-02],\n",
              "           [9.3138e-02, 1.0564e-01, 8.1534e-01,  ..., 3.3978e-02,\n",
              "            5.1969e-01, 2.9765e-01],\n",
              "           ...,\n",
              "           [6.8516e-02, 9.2923e-01, 2.2193e-01,  ..., 5.1226e-01,\n",
              "            8.3617e-01, 8.8414e-01],\n",
              "           [9.4690e-01, 5.6014e-01, 9.6991e-01,  ..., 5.3238e-02,\n",
              "            5.1573e-01, 8.5600e-01],\n",
              "           [7.2538e-01, 5.6832e-01, 5.8435e-01,  ..., 7.8802e-01,\n",
              "            5.4786e-01, 2.7045e-01]],\n",
              "\n",
              "          [[7.6385e-01, 6.3835e-01, 5.5091e-01,  ..., 5.7051e-01,\n",
              "            1.6731e-01, 9.9457e-01],\n",
              "           [5.6235e-01, 3.9777e-01, 8.9964e-01,  ..., 9.9739e-01,\n",
              "            4.8924e-01, 1.6111e-01],\n",
              "           [1.6068e-01, 4.6867e-01, 7.7389e-01,  ..., 1.2022e-01,\n",
              "            1.7053e-01, 6.0652e-01],\n",
              "           ...,\n",
              "           [5.7753e-01, 7.5618e-01, 4.8270e-01,  ..., 4.0760e-01,\n",
              "            5.5253e-01, 8.2312e-01],\n",
              "           [6.6001e-01, 7.2659e-01, 3.5002e-01,  ..., 3.0860e-01,\n",
              "            2.3834e-01, 3.2768e-02],\n",
              "           [9.4427e-03, 6.2990e-01, 6.7691e-01,  ..., 8.3218e-01,\n",
              "            2.2923e-01, 4.5481e-01]],\n",
              "\n",
              "          ...,\n",
              "\n",
              "          [[9.3808e-01, 4.8553e-01, 1.5235e-01,  ..., 4.4922e-01,\n",
              "            3.2181e-02, 5.2644e-01],\n",
              "           [4.8636e-01, 4.4034e-02, 5.3239e-01,  ..., 4.6669e-01,\n",
              "            5.0276e-01, 4.0952e-01],\n",
              "           [5.0873e-01, 8.5367e-01, 6.8721e-01,  ..., 6.6803e-01,\n",
              "            6.6393e-01, 6.9162e-01],\n",
              "           ...,\n",
              "           [8.8948e-01, 6.0280e-01, 9.8560e-01,  ..., 9.5789e-01,\n",
              "            7.8125e-01, 3.5648e-01],\n",
              "           [9.0724e-01, 3.6502e-01, 2.2298e-02,  ..., 9.6704e-01,\n",
              "            5.7408e-02, 3.8283e-01],\n",
              "           [9.7510e-01, 4.6535e-01, 8.2893e-01,  ..., 7.0614e-01,\n",
              "            4.1401e-02, 1.1690e-01]],\n",
              "\n",
              "          [[4.8018e-01, 1.2948e-01, 9.4869e-01,  ..., 1.1320e-01,\n",
              "            2.7560e-01, 8.6305e-01],\n",
              "           [4.2383e-02, 1.0294e-01, 8.4950e-01,  ..., 4.8881e-01,\n",
              "            1.9623e-01, 9.2216e-01],\n",
              "           [9.6773e-01, 4.0487e-01, 4.0976e-01,  ..., 8.6097e-01,\n",
              "            1.7675e-01, 8.9742e-01],\n",
              "           ...,\n",
              "           [6.1975e-01, 3.2106e-01, 4.1288e-01,  ..., 3.3563e-01,\n",
              "            1.1125e-01, 5.3022e-01],\n",
              "           [7.7202e-01, 5.6749e-01, 3.0812e-01,  ..., 6.4912e-02,\n",
              "            3.4815e-01, 6.9241e-01],\n",
              "           [5.6904e-02, 7.7353e-01, 6.7027e-01,  ..., 3.6555e-01,\n",
              "            2.1177e-02, 5.0180e-01]],\n",
              "\n",
              "          [[3.4015e-01, 1.0170e-01, 5.7493e-01,  ..., 4.7176e-01,\n",
              "            5.6163e-01, 8.0286e-01],\n",
              "           [1.4665e-02, 1.3007e-01, 6.4995e-01,  ..., 3.6980e-02,\n",
              "            8.2812e-01, 4.0568e-01],\n",
              "           [3.1441e-01, 2.0401e-01, 9.7223e-02,  ..., 9.3812e-01,\n",
              "            8.5804e-01, 5.1027e-01],\n",
              "           ...,\n",
              "           [9.2986e-01, 9.7046e-01, 3.1248e-01,  ..., 1.3584e-01,\n",
              "            7.4559e-01, 6.9441e-01],\n",
              "           [3.3474e-01, 1.8838e-03, 9.3726e-01,  ..., 3.1805e-01,\n",
              "            6.2874e-01, 2.2929e-01],\n",
              "           [8.0377e-01, 5.3789e-01, 2.6340e-01,  ..., 3.8545e-01,\n",
              "            3.4151e-01, 2.1667e-01]]],\n",
              "\n",
              "\n",
              "         [[[1.3161e-02, 1.6943e-01, 5.6199e-01,  ..., 6.3255e-01,\n",
              "            1.7999e-02, 2.3600e-01],\n",
              "           [2.2594e-02, 6.3888e-01, 7.8959e-01,  ..., 1.5034e-01,\n",
              "            8.2356e-01, 3.8080e-01],\n",
              "           [3.6237e-01, 5.8535e-01, 3.7678e-01,  ..., 9.4982e-01,\n",
              "            5.4737e-01, 8.2151e-01],\n",
              "           ...,\n",
              "           [8.4511e-01, 4.3120e-01, 6.8649e-01,  ..., 4.7480e-01,\n",
              "            8.2732e-01, 2.3425e-01],\n",
              "           [3.6307e-01, 3.7695e-01, 2.4836e-02,  ..., 8.6104e-01,\n",
              "            6.7912e-01, 1.3456e-01],\n",
              "           [2.9603e-01, 6.0666e-01, 5.8900e-01,  ..., 6.4326e-01,\n",
              "            6.0985e-01, 3.1197e-01]],\n",
              "\n",
              "          [[5.6782e-01, 8.2385e-01, 5.9436e-01,  ..., 6.5573e-01,\n",
              "            4.3703e-01, 7.0198e-01],\n",
              "           [7.1613e-01, 1.7495e-03, 7.0335e-01,  ..., 8.9146e-01,\n",
              "            7.7576e-01, 7.9012e-01],\n",
              "           [7.1282e-01, 4.0372e-01, 8.1165e-01,  ..., 7.8330e-01,\n",
              "            4.9330e-01, 5.6312e-01],\n",
              "           ...,\n",
              "           [7.2178e-01, 5.1867e-01, 8.4920e-01,  ..., 2.0135e-01,\n",
              "            4.5976e-01, 1.1645e-01],\n",
              "           [2.3131e-01, 1.5844e-01, 9.1561e-02,  ..., 1.0171e-01,\n",
              "            3.7956e-01, 7.1597e-02],\n",
              "           [4.4264e-01, 6.1085e-01, 1.8861e-01,  ..., 8.5960e-01,\n",
              "            5.2817e-01, 4.0210e-01]],\n",
              "\n",
              "          [[6.3874e-01, 8.8929e-01, 8.0162e-01,  ..., 7.6661e-01,\n",
              "            9.2950e-02, 8.3548e-01],\n",
              "           [4.1929e-01, 8.9442e-01, 9.0047e-02,  ..., 1.4374e-01,\n",
              "            1.1272e-01, 4.2579e-01],\n",
              "           [1.1240e-01, 5.0443e-01, 6.1352e-02,  ..., 1.6308e-01,\n",
              "            9.9851e-01, 6.8360e-01],\n",
              "           ...,\n",
              "           [8.9304e-01, 4.0068e-01, 3.1467e-01,  ..., 5.7894e-01,\n",
              "            2.4887e-01, 1.8931e-01],\n",
              "           [7.7644e-01, 1.7002e-01, 2.2560e-01,  ..., 5.5552e-01,\n",
              "            1.5117e-01, 3.9879e-01],\n",
              "           [1.1291e-02, 4.7526e-01, 7.7128e-01,  ..., 5.8034e-01,\n",
              "            9.7947e-03, 5.1960e-01]],\n",
              "\n",
              "          ...,\n",
              "\n",
              "          [[3.5268e-03, 3.5611e-01, 7.1072e-01,  ..., 7.0687e-01,\n",
              "            3.9793e-01, 7.9725e-01],\n",
              "           [4.8892e-01, 6.6850e-02, 8.9914e-01,  ..., 6.3338e-02,\n",
              "            6.9591e-01, 4.9443e-01],\n",
              "           [6.2573e-01, 7.4888e-01, 3.6489e-01,  ..., 9.9844e-02,\n",
              "            7.3029e-01, 7.1464e-01],\n",
              "           ...,\n",
              "           [7.2444e-01, 3.2344e-01, 5.4610e-01,  ..., 9.2826e-01,\n",
              "            6.2007e-01, 9.0800e-01],\n",
              "           [1.3773e-01, 4.4275e-01, 3.0489e-02,  ..., 6.7506e-02,\n",
              "            3.7654e-01, 6.3727e-01],\n",
              "           [8.8128e-01, 7.8065e-02, 5.3997e-01,  ..., 7.6097e-01,\n",
              "            7.6680e-01, 5.2510e-01]],\n",
              "\n",
              "          [[3.8727e-01, 3.1168e-01, 9.6152e-01,  ..., 6.5178e-01,\n",
              "            8.5693e-01, 1.8390e-01],\n",
              "           [6.0233e-01, 9.3220e-01, 3.5945e-01,  ..., 7.9357e-01,\n",
              "            6.7491e-01, 9.4564e-01],\n",
              "           [3.3308e-01, 6.5513e-01, 9.8889e-01,  ..., 3.7925e-01,\n",
              "            6.2354e-01, 4.1927e-01],\n",
              "           ...,\n",
              "           [1.1707e-01, 6.6067e-01, 1.6423e-01,  ..., 4.8134e-02,\n",
              "            5.0868e-01, 7.2335e-01],\n",
              "           [4.2785e-01, 4.6067e-01, 3.3705e-01,  ..., 2.0582e-01,\n",
              "            5.0007e-03, 6.6584e-01],\n",
              "           [4.5705e-01, 9.1451e-01, 2.1286e-01,  ..., 4.4509e-01,\n",
              "            8.8627e-01, 3.1271e-01]],\n",
              "\n",
              "          [[6.4294e-01, 5.0526e-01, 5.2651e-01,  ..., 5.3507e-01,\n",
              "            6.5152e-01, 8.3750e-02],\n",
              "           [8.3466e-01, 4.1586e-02, 3.5310e-01,  ..., 4.5373e-01,\n",
              "            2.8530e-01, 9.5482e-01],\n",
              "           [3.5099e-01, 6.2728e-01, 7.6613e-01,  ..., 3.5830e-01,\n",
              "            5.5134e-01, 5.6619e-01],\n",
              "           ...,\n",
              "           [3.9871e-01, 7.0408e-01, 5.1277e-01,  ..., 8.8845e-01,\n",
              "            8.7031e-01, 4.4629e-02],\n",
              "           [9.3791e-01, 7.7739e-01, 8.2401e-01,  ..., 8.9069e-01,\n",
              "            9.7611e-01, 3.2400e-01],\n",
              "           [5.1703e-01, 8.8951e-01, 9.1054e-01,  ..., 2.8296e-01,\n",
              "            4.9094e-01, 2.5138e-01]]],\n",
              "\n",
              "\n",
              "         ...,\n",
              "\n",
              "\n",
              "         [[[1.8111e-01, 6.3459e-01, 2.2625e-02,  ..., 7.9843e-01,\n",
              "            3.2188e-01, 5.2701e-01],\n",
              "           [2.3806e-01, 5.2677e-01, 1.5395e-01,  ..., 1.2345e-01,\n",
              "            5.7499e-01, 1.2250e-01],\n",
              "           [9.8125e-01, 6.2469e-01, 7.6285e-01,  ..., 9.2069e-01,\n",
              "            2.2914e-01, 9.9186e-01],\n",
              "           ...,\n",
              "           [1.4048e-01, 9.6403e-01, 9.5103e-01,  ..., 3.9638e-02,\n",
              "            8.1209e-01, 4.3496e-01],\n",
              "           [8.6743e-01, 8.9095e-01, 3.9839e-01,  ..., 6.2041e-01,\n",
              "            5.1064e-01, 6.9781e-01],\n",
              "           [8.6647e-01, 6.5363e-01, 3.8878e-01,  ..., 9.0365e-02,\n",
              "            2.6620e-01, 9.6968e-02]],\n",
              "\n",
              "          [[2.8622e-01, 6.1507e-03, 1.7621e-01,  ..., 6.5042e-01,\n",
              "            3.7391e-02, 7.7101e-01],\n",
              "           [6.5824e-01, 6.4130e-01, 4.5306e-01,  ..., 7.8260e-01,\n",
              "            2.8169e-01, 4.8670e-01],\n",
              "           [6.9320e-01, 2.3194e-01, 6.8497e-01,  ..., 9.0385e-02,\n",
              "            4.9457e-02, 6.2755e-01],\n",
              "           ...,\n",
              "           [8.7043e-01, 9.1747e-01, 7.0870e-01,  ..., 5.8530e-01,\n",
              "            8.4007e-01, 8.2865e-01],\n",
              "           [3.4794e-01, 9.8510e-01, 1.8732e-01,  ..., 2.4247e-01,\n",
              "            2.7401e-01, 3.1055e-02],\n",
              "           [9.3192e-01, 2.6300e-01, 2.7885e-01,  ..., 8.9399e-01,\n",
              "            8.2177e-01, 6.0743e-01]],\n",
              "\n",
              "          [[7.6481e-01, 6.6968e-01, 2.9922e-01,  ..., 9.4747e-01,\n",
              "            7.8037e-01, 4.5107e-01],\n",
              "           [1.9788e-01, 8.5147e-01, 1.8022e-01,  ..., 4.5050e-01,\n",
              "            4.9782e-01, 1.6144e-01],\n",
              "           [5.4356e-01, 9.7007e-01, 4.9138e-01,  ..., 3.5258e-01,\n",
              "            5.0691e-01, 5.2732e-01],\n",
              "           ...,\n",
              "           [2.9200e-01, 3.3832e-01, 8.6154e-01,  ..., 4.7917e-01,\n",
              "            8.1581e-01, 2.6119e-01],\n",
              "           [7.1346e-01, 1.0314e-01, 3.6864e-01,  ..., 4.0908e-01,\n",
              "            4.2280e-01, 9.6823e-02],\n",
              "           [6.4149e-01, 1.9005e-01, 7.6398e-01,  ..., 5.3887e-01,\n",
              "            2.6514e-01, 6.4572e-02]],\n",
              "\n",
              "          ...,\n",
              "\n",
              "          [[2.4336e-01, 1.0328e-01, 5.6283e-01,  ..., 7.4921e-01,\n",
              "            8.3638e-01, 6.5490e-01],\n",
              "           [5.9313e-01, 5.4923e-01, 2.8214e-01,  ..., 4.5702e-01,\n",
              "            6.0959e-01, 7.1232e-01],\n",
              "           [5.5514e-02, 4.1916e-01, 8.5448e-02,  ..., 1.3460e-01,\n",
              "            4.3770e-01, 8.2588e-01],\n",
              "           ...,\n",
              "           [1.0681e-01, 1.3163e-01, 6.1855e-03,  ..., 3.6453e-01,\n",
              "            8.1923e-01, 5.7209e-01],\n",
              "           [6.8951e-01, 8.2943e-02, 4.2002e-01,  ..., 2.1983e-01,\n",
              "            3.3074e-01, 9.3071e-01],\n",
              "           [2.8075e-01, 7.6406e-01, 8.1147e-01,  ..., 1.1763e-01,\n",
              "            2.0043e-01, 4.4072e-01]],\n",
              "\n",
              "          [[8.1249e-01, 4.9779e-01, 3.3549e-01,  ..., 7.6235e-01,\n",
              "            1.9718e-01, 8.7587e-01],\n",
              "           [3.5990e-01, 9.4623e-01, 3.3520e-01,  ..., 9.5485e-01,\n",
              "            6.4958e-01, 1.0108e-01],\n",
              "           [7.0161e-01, 2.9946e-01, 6.0470e-01,  ..., 3.9141e-01,\n",
              "            3.5504e-01, 7.3674e-01],\n",
              "           ...,\n",
              "           [8.5902e-01, 4.7208e-01, 8.5677e-01,  ..., 8.4748e-01,\n",
              "            8.8542e-01, 5.1954e-01],\n",
              "           [3.4192e-01, 7.7151e-01, 9.9031e-01,  ..., 3.1586e-03,\n",
              "            4.5982e-01, 7.6552e-01],\n",
              "           [3.2815e-01, 9.9715e-01, 5.4404e-01,  ..., 2.8892e-01,\n",
              "            7.2148e-01, 9.3787e-01]],\n",
              "\n",
              "          [[1.7236e-01, 2.4070e-01, 1.9436e-01,  ..., 1.8847e-01,\n",
              "            8.8598e-01, 8.7970e-01],\n",
              "           [2.8900e-01, 3.8334e-01, 6.9333e-01,  ..., 5.8025e-01,\n",
              "            7.5364e-01, 6.1670e-01],\n",
              "           [6.2323e-02, 4.0339e-01, 7.5905e-01,  ..., 8.3963e-01,\n",
              "            1.1048e-01, 9.4577e-01],\n",
              "           ...,\n",
              "           [6.7146e-01, 9.0327e-01, 7.7857e-01,  ..., 6.4856e-01,\n",
              "            2.5754e-01, 4.2682e-01],\n",
              "           [1.5308e-01, 7.7439e-01, 9.1291e-01,  ..., 1.3783e-01,\n",
              "            4.8099e-01, 1.0908e-01],\n",
              "           [8.9520e-01, 9.3589e-01, 4.8552e-01,  ..., 1.5000e-01,\n",
              "            7.9215e-01, 1.3041e-01]]],\n",
              "\n",
              "\n",
              "         [[[2.2501e-01, 6.2635e-01, 1.2701e-01,  ..., 8.9426e-01,\n",
              "            3.2173e-01, 9.7038e-01],\n",
              "           [1.8169e-01, 9.8535e-01, 3.7585e-01,  ..., 6.0516e-01,\n",
              "            7.1087e-01, 8.5194e-01],\n",
              "           [9.5546e-01, 6.5263e-01, 3.3398e-01,  ..., 2.9527e-01,\n",
              "            9.3651e-01, 5.2993e-01],\n",
              "           ...,\n",
              "           [9.2750e-01, 8.5251e-01, 3.1400e-01,  ..., 3.5955e-01,\n",
              "            2.4279e-01, 3.0433e-01],\n",
              "           [9.6222e-01, 6.1489e-01, 6.2715e-01,  ..., 5.8109e-01,\n",
              "            7.5427e-01, 7.9635e-01],\n",
              "           [9.8992e-01, 2.9681e-02, 7.8722e-01,  ..., 1.5716e-01,\n",
              "            3.0455e-01, 6.6728e-01]],\n",
              "\n",
              "          [[8.1201e-01, 5.7942e-01, 1.2925e-01,  ..., 1.8926e-01,\n",
              "            6.1239e-01, 2.8890e-01],\n",
              "           [3.4779e-01, 2.5745e-02, 7.9693e-01,  ..., 6.3282e-01,\n",
              "            4.8066e-02, 4.8143e-01],\n",
              "           [1.0848e-01, 2.4619e-01, 3.1481e-01,  ..., 7.4244e-01,\n",
              "            4.3446e-01, 9.5486e-01],\n",
              "           ...,\n",
              "           [8.8300e-01, 5.8934e-01, 2.1500e-01,  ..., 1.7062e-01,\n",
              "            6.2845e-01, 4.6423e-01],\n",
              "           [4.7451e-01, 6.3233e-01, 2.1333e-01,  ..., 2.5701e-01,\n",
              "            6.4919e-01, 6.7290e-01],\n",
              "           [2.6994e-01, 8.9595e-03, 5.3239e-01,  ..., 8.6973e-01,\n",
              "            8.7127e-01, 9.8355e-01]],\n",
              "\n",
              "          [[8.6057e-01, 8.0151e-01, 7.4623e-01,  ..., 3.3388e-01,\n",
              "            4.3779e-01, 5.5386e-01],\n",
              "           [1.2744e-01, 3.3822e-01, 8.7291e-01,  ..., 4.2672e-01,\n",
              "            3.8250e-01, 8.1596e-01],\n",
              "           [9.1064e-01, 4.1602e-01, 3.4797e-02,  ..., 7.7493e-02,\n",
              "            4.0472e-01, 9.5282e-01],\n",
              "           ...,\n",
              "           [5.7130e-01, 7.1777e-01, 2.3853e-01,  ..., 9.1121e-01,\n",
              "            7.4996e-01, 4.7843e-02],\n",
              "           [2.5710e-01, 4.0474e-02, 3.3481e-01,  ..., 2.2761e-01,\n",
              "            7.1255e-01, 1.1509e-01],\n",
              "           [3.3481e-03, 7.1452e-01, 5.3483e-01,  ..., 5.4352e-01,\n",
              "            7.4909e-01, 9.8059e-01]],\n",
              "\n",
              "          ...,\n",
              "\n",
              "          [[7.0682e-01, 5.1685e-01, 8.3411e-01,  ..., 5.9153e-01,\n",
              "            4.6948e-01, 6.5248e-01],\n",
              "           [6.9114e-01, 3.6506e-01, 9.0430e-01,  ..., 3.9098e-01,\n",
              "            2.2079e-01, 4.1437e-01],\n",
              "           [5.9399e-01, 5.5795e-01, 4.1441e-01,  ..., 2.0761e-01,\n",
              "            2.4119e-01, 9.8879e-01],\n",
              "           ...,\n",
              "           [6.9113e-01, 3.7915e-01, 8.2752e-01,  ..., 4.6735e-01,\n",
              "            3.2242e-01, 1.0032e-01],\n",
              "           [7.2206e-01, 5.6661e-02, 8.1950e-01,  ..., 8.2129e-01,\n",
              "            5.1543e-01, 4.9700e-01],\n",
              "           [3.2220e-01, 7.3060e-01, 1.3285e-01,  ..., 3.0354e-01,\n",
              "            1.3357e-01, 8.0763e-02]],\n",
              "\n",
              "          [[1.7306e-01, 4.6241e-01, 6.7446e-02,  ..., 5.4580e-01,\n",
              "            9.0574e-01, 9.5242e-01],\n",
              "           [2.8262e-01, 7.1815e-01, 7.2435e-01,  ..., 7.5787e-01,\n",
              "            7.6781e-01, 4.3459e-01],\n",
              "           [1.0007e-01, 4.9184e-01, 8.3196e-02,  ..., 5.1157e-01,\n",
              "            8.7585e-01, 7.0457e-01],\n",
              "           ...,\n",
              "           [2.9210e-01, 8.4602e-01, 5.9337e-01,  ..., 1.6935e-01,\n",
              "            8.8209e-01, 2.4534e-01],\n",
              "           [8.0310e-01, 8.0424e-01, 9.9858e-01,  ..., 9.5681e-01,\n",
              "            3.3825e-01, 1.3556e-01],\n",
              "           [8.8554e-02, 9.2369e-01, 1.3183e-01,  ..., 5.2059e-01,\n",
              "            8.0566e-01, 9.0459e-01]],\n",
              "\n",
              "          [[3.7692e-01, 6.4487e-01, 2.9066e-01,  ..., 4.7006e-01,\n",
              "            4.9775e-01, 6.9187e-01],\n",
              "           [1.2866e-01, 4.7290e-02, 7.2818e-02,  ..., 9.6103e-01,\n",
              "            1.2469e-01, 5.4648e-01],\n",
              "           [1.4622e-03, 7.4006e-01, 3.0381e-01,  ..., 4.1746e-01,\n",
              "            2.0442e-01, 8.3562e-01],\n",
              "           ...,\n",
              "           [6.1873e-01, 9.5890e-01, 3.7054e-01,  ..., 9.5933e-01,\n",
              "            7.8770e-01, 1.8996e-02],\n",
              "           [1.0159e-02, 3.0709e-02, 8.6325e-01,  ..., 3.1070e-01,\n",
              "            7.3052e-01, 4.4263e-01],\n",
              "           [6.1030e-01, 1.1698e-01, 8.8389e-01,  ..., 6.9253e-01,\n",
              "            1.2257e-01, 7.2148e-01]]],\n",
              "\n",
              "\n",
              "         [[[8.9761e-01, 8.1091e-01, 4.4144e-01,  ..., 4.8287e-01,\n",
              "            2.9733e-01, 7.3249e-01],\n",
              "           [1.8570e-01, 4.8895e-01, 3.7207e-02,  ..., 1.2590e-01,\n",
              "            1.5391e-01, 6.8118e-01],\n",
              "           [7.2401e-01, 1.0214e-01, 5.6130e-01,  ..., 9.9544e-01,\n",
              "            2.4463e-01, 9.7727e-01],\n",
              "           ...,\n",
              "           [3.1493e-02, 8.4644e-01, 2.9956e-01,  ..., 9.5254e-01,\n",
              "            5.5417e-01, 6.8105e-01],\n",
              "           [2.2462e-01, 1.7253e-01, 8.1304e-01,  ..., 1.2106e-01,\n",
              "            8.7789e-02, 8.5435e-01],\n",
              "           [3.3607e-01, 6.7733e-01, 6.7537e-01,  ..., 2.9806e-02,\n",
              "            9.6147e-01, 9.2106e-01]],\n",
              "\n",
              "          [[6.2521e-01, 3.8077e-01, 2.1890e-01,  ..., 9.1172e-01,\n",
              "            4.5984e-01, 2.0692e-01],\n",
              "           [3.2250e-01, 7.4320e-01, 8.1456e-01,  ..., 7.8555e-01,\n",
              "            8.2993e-01, 3.5191e-01],\n",
              "           [6.8072e-01, 8.1548e-01, 7.7452e-01,  ..., 4.9590e-01,\n",
              "            8.7285e-01, 3.0344e-01],\n",
              "           ...,\n",
              "           [7.9071e-01, 9.3033e-01, 3.6244e-01,  ..., 6.5409e-01,\n",
              "            7.7291e-01, 7.9933e-01],\n",
              "           [8.9354e-01, 8.2498e-01, 9.3898e-01,  ..., 1.4552e-01,\n",
              "            8.0903e-01, 8.6936e-01],\n",
              "           [7.5197e-01, 7.3444e-01, 7.0027e-01,  ..., 6.3366e-02,\n",
              "            4.6225e-01, 9.4997e-01]],\n",
              "\n",
              "          [[7.1152e-01, 7.4787e-01, 5.2310e-01,  ..., 1.9346e-01,\n",
              "            3.1643e-01, 8.1632e-01],\n",
              "           [2.8795e-01, 7.0809e-01, 3.4191e-01,  ..., 5.8989e-02,\n",
              "            4.1995e-01, 1.8104e-02],\n",
              "           [8.6872e-01, 8.8484e-01, 2.4378e-01,  ..., 1.7081e-01,\n",
              "            6.5885e-01, 4.2784e-02],\n",
              "           ...,\n",
              "           [9.4992e-01, 5.9592e-01, 9.1341e-01,  ..., 6.5585e-01,\n",
              "            7.3798e-01, 6.8063e-01],\n",
              "           [8.2438e-01, 4.4823e-01, 8.3395e-01,  ..., 1.1906e-01,\n",
              "            1.0946e-01, 4.8623e-01],\n",
              "           [6.1737e-02, 3.8330e-01, 5.6171e-01,  ..., 4.7335e-01,\n",
              "            8.1974e-01, 1.5168e-01]],\n",
              "\n",
              "          ...,\n",
              "\n",
              "          [[1.8725e-01, 9.6476e-01, 1.5509e-01,  ..., 4.9461e-01,\n",
              "            5.6634e-01, 8.6391e-01],\n",
              "           [3.6080e-01, 7.7729e-01, 8.4522e-01,  ..., 5.5451e-01,\n",
              "            1.8768e-01, 1.5505e-02],\n",
              "           [6.0197e-01, 9.1695e-01, 1.7418e-01,  ..., 5.9748e-01,\n",
              "            9.1433e-01, 4.7280e-02],\n",
              "           ...,\n",
              "           [3.7633e-01, 4.5610e-01, 4.6136e-02,  ..., 4.3606e-01,\n",
              "            8.8852e-01, 7.8754e-01],\n",
              "           [5.6335e-01, 7.0428e-01, 6.6950e-01,  ..., 5.2160e-01,\n",
              "            3.3209e-01, 5.8052e-01],\n",
              "           [1.3147e-01, 2.7435e-01, 3.3149e-01,  ..., 1.3890e-01,\n",
              "            2.6766e-01, 6.3784e-01]],\n",
              "\n",
              "          [[4.7741e-01, 3.2767e-01, 8.7759e-01,  ..., 5.2272e-01,\n",
              "            7.2802e-02, 1.1701e-01],\n",
              "           [6.7833e-01, 1.5883e-02, 5.3313e-01,  ..., 8.3190e-01,\n",
              "            7.9699e-01, 5.9310e-01],\n",
              "           [3.2593e-01, 7.9073e-01, 7.9632e-01,  ..., 2.0825e-01,\n",
              "            6.6096e-01, 7.4902e-01],\n",
              "           ...,\n",
              "           [3.3539e-01, 2.6574e-01, 4.7404e-01,  ..., 6.7447e-01,\n",
              "            2.3054e-01, 9.7063e-01],\n",
              "           [7.4885e-01, 7.7710e-01, 9.8909e-01,  ..., 7.2690e-01,\n",
              "            8.1526e-01, 3.3794e-01],\n",
              "           [6.3755e-01, 3.9978e-01, 2.4958e-02,  ..., 8.0110e-01,\n",
              "            6.7505e-01, 7.2551e-01]],\n",
              "\n",
              "          [[7.2409e-01, 1.7621e-02, 2.1857e-01,  ..., 9.8352e-01,\n",
              "            1.2679e-01, 3.4605e-01],\n",
              "           [8.0061e-01, 3.9955e-01, 9.4835e-01,  ..., 8.9207e-01,\n",
              "            6.6677e-01, 7.2502e-01],\n",
              "           [5.4426e-01, 3.8037e-01, 7.1746e-01,  ..., 5.3515e-01,\n",
              "            5.7410e-01, 9.9288e-01],\n",
              "           ...,\n",
              "           [3.4989e-01, 8.7419e-01, 4.0606e-01,  ..., 3.2094e-01,\n",
              "            7.3693e-01, 8.0689e-01],\n",
              "           [7.1041e-01, 1.0186e-01, 4.6706e-01,  ..., 8.5697e-01,\n",
              "            5.6999e-03, 2.3511e-01],\n",
              "           [9.1131e-01, 4.7859e-01, 4.3151e-01,  ..., 9.2055e-01,\n",
              "            7.5221e-01, 2.3350e-01]]]],\n",
              "\n",
              "\n",
              "\n",
              "        [[[[6.8947e-01, 8.8068e-01, 5.6526e-02,  ..., 1.0998e-01,\n",
              "            2.7843e-01, 6.2625e-01],\n",
              "           [1.0694e-03, 4.1086e-01, 9.8968e-01,  ..., 5.5798e-01,\n",
              "            3.7343e-01, 1.3221e-02],\n",
              "           [9.0491e-01, 2.8247e-01, 2.0917e-01,  ..., 3.1517e-01,\n",
              "            5.6251e-01, 8.1900e-01],\n",
              "           ...,\n",
              "           [5.8852e-01, 8.4517e-02, 1.2103e-01,  ..., 2.8314e-02,\n",
              "            4.7351e-01, 7.3842e-01],\n",
              "           [1.0129e-01, 8.1479e-01, 1.3008e-01,  ..., 5.5324e-01,\n",
              "            9.7535e-01, 9.3649e-01],\n",
              "           [8.0053e-01, 5.1266e-01, 5.5395e-01,  ..., 5.0172e-01,\n",
              "            8.1366e-01, 9.6636e-01]],\n",
              "\n",
              "          [[8.1407e-01, 3.6427e-01, 2.2248e-01,  ..., 3.4753e-01,\n",
              "            9.0145e-01, 3.2973e-01],\n",
              "           [7.0607e-01, 1.8870e-01, 9.9473e-01,  ..., 2.0164e-01,\n",
              "            6.7137e-01, 5.0094e-01],\n",
              "           [3.5901e-01, 4.4764e-01, 5.9679e-01,  ..., 5.2098e-01,\n",
              "            5.9476e-01, 9.6724e-02],\n",
              "           ...,\n",
              "           [2.6328e-01, 7.8197e-01, 1.3621e-01,  ..., 6.4328e-01,\n",
              "            9.3117e-01, 5.4989e-01],\n",
              "           [7.1933e-01, 8.3009e-01, 4.4613e-01,  ..., 7.2256e-01,\n",
              "            4.2153e-01, 2.1406e-01],\n",
              "           [4.5493e-01, 9.4577e-02, 6.6443e-02,  ..., 7.1943e-01,\n",
              "            2.8136e-01, 3.0319e-01]],\n",
              "\n",
              "          [[7.6586e-01, 6.7031e-01, 2.3670e-01,  ..., 5.8451e-02,\n",
              "            5.5506e-01, 8.1577e-01],\n",
              "           [1.4587e-02, 9.6988e-02, 4.4584e-02,  ..., 8.1905e-01,\n",
              "            3.6144e-01, 2.2883e-01],\n",
              "           [2.8317e-01, 7.5374e-01, 3.6463e-01,  ..., 3.7394e-01,\n",
              "            6.9050e-01, 9.8509e-01],\n",
              "           ...,\n",
              "           [1.3285e-01, 1.1094e-01, 6.7654e-01,  ..., 9.1998e-01,\n",
              "            7.1294e-01, 8.3313e-02],\n",
              "           [3.8329e-01, 3.4857e-01, 7.7728e-01,  ..., 2.7044e-01,\n",
              "            6.5101e-01, 8.9184e-01],\n",
              "           [9.5113e-01, 6.7422e-01, 7.1787e-01,  ..., 7.9406e-01,\n",
              "            6.6283e-01, 8.9601e-01]],\n",
              "\n",
              "          ...,\n",
              "\n",
              "          [[2.2245e-01, 1.7009e-01, 6.5767e-01,  ..., 6.1076e-01,\n",
              "            8.5078e-01, 9.5032e-01],\n",
              "           [6.8880e-01, 1.9415e-01, 6.8669e-01,  ..., 8.3855e-01,\n",
              "            6.4849e-01, 3.9363e-01],\n",
              "           [4.4293e-01, 1.9325e-01, 4.1357e-01,  ..., 7.1295e-01,\n",
              "            7.1479e-01, 2.7608e-01],\n",
              "           ...,\n",
              "           [5.1366e-02, 5.2414e-01, 2.1127e-01,  ..., 9.0900e-01,\n",
              "            7.0605e-01, 5.6109e-01],\n",
              "           [4.2597e-02, 7.5677e-02, 1.2215e-01,  ..., 2.9786e-01,\n",
              "            7.0424e-01, 4.9810e-01],\n",
              "           [6.6402e-01, 4.0112e-01, 7.1504e-01,  ..., 8.9797e-01,\n",
              "            7.3528e-01, 6.3039e-01]],\n",
              "\n",
              "          [[3.7699e-02, 7.8775e-01, 5.0469e-01,  ..., 3.9000e-01,\n",
              "            1.6237e-01, 7.0910e-01],\n",
              "           [7.6387e-01, 2.7767e-01, 2.1939e-02,  ..., 8.1556e-02,\n",
              "            5.2830e-01, 9.8426e-02],\n",
              "           [4.0790e-02, 9.1449e-01, 6.0001e-01,  ..., 2.0299e-01,\n",
              "            4.1947e-01, 4.1846e-01],\n",
              "           ...,\n",
              "           [3.5675e-01, 9.9665e-01, 4.0550e-01,  ..., 3.1974e-01,\n",
              "            3.4850e-01, 1.9347e-02],\n",
              "           [3.8049e-01, 9.6580e-02, 6.5460e-01,  ..., 4.9779e-01,\n",
              "            8.3167e-01, 8.1462e-01],\n",
              "           [3.7653e-01, 7.3355e-01, 2.3158e-02,  ..., 3.3540e-01,\n",
              "            2.0749e-01, 9.6798e-01]],\n",
              "\n",
              "          [[7.1512e-01, 6.9152e-01, 7.6932e-01,  ..., 6.7354e-01,\n",
              "            8.3382e-01, 5.3246e-01],\n",
              "           [8.9123e-01, 6.1704e-01, 9.8600e-01,  ..., 9.5394e-01,\n",
              "            8.8411e-01, 1.2407e-02],\n",
              "           [6.1656e-02, 4.5306e-01, 1.0511e-02,  ..., 2.7239e-01,\n",
              "            1.3719e-01, 7.4762e-01],\n",
              "           ...,\n",
              "           [7.1250e-01, 4.8331e-01, 9.0684e-01,  ..., 4.3623e-01,\n",
              "            9.6373e-02, 9.3960e-01],\n",
              "           [5.5275e-02, 3.8161e-01, 6.5645e-02,  ..., 6.8488e-01,\n",
              "            8.0683e-01, 3.6128e-01],\n",
              "           [7.0170e-01, 3.6713e-01, 3.8088e-01,  ..., 4.3214e-01,\n",
              "            8.8468e-01, 4.6865e-01]]],\n",
              "\n",
              "\n",
              "         [[[1.0974e-01, 1.4804e-01, 5.5989e-01,  ..., 6.6022e-01,\n",
              "            1.7802e-01, 4.1995e-01],\n",
              "           [3.7005e-01, 9.0214e-01, 9.6310e-01,  ..., 9.0653e-01,\n",
              "            6.4418e-01, 3.8813e-01],\n",
              "           [2.5430e-01, 3.3302e-01, 9.5898e-01,  ..., 1.9535e-01,\n",
              "            6.1851e-01, 9.3591e-01],\n",
              "           ...,\n",
              "           [3.3463e-01, 3.1844e-01, 8.8750e-01,  ..., 2.6797e-01,\n",
              "            3.2174e-01, 4.0650e-01],\n",
              "           [4.0839e-01, 2.0886e-01, 1.0753e-01,  ..., 8.0475e-01,\n",
              "            7.2396e-01, 6.1848e-02],\n",
              "           [1.5792e-01, 7.8325e-01, 6.2078e-01,  ..., 6.6418e-01,\n",
              "            2.5333e-01, 7.9506e-01]],\n",
              "\n",
              "          [[3.7534e-01, 5.0246e-01, 3.6668e-01,  ..., 8.3705e-01,\n",
              "            8.4960e-01, 9.7634e-01],\n",
              "           [8.6855e-01, 7.5311e-01, 5.2647e-01,  ..., 8.6396e-01,\n",
              "            1.6551e-01, 1.8138e-02],\n",
              "           [9.7620e-01, 1.3638e-01, 1.4474e-01,  ..., 9.1667e-01,\n",
              "            5.5611e-03, 7.4244e-01],\n",
              "           ...,\n",
              "           [8.9212e-01, 9.1138e-01, 4.6714e-01,  ..., 6.2267e-01,\n",
              "            9.4344e-01, 8.5345e-01],\n",
              "           [2.2585e-01, 4.5588e-01, 7.6490e-01,  ..., 8.0124e-01,\n",
              "            4.7829e-01, 4.6311e-01],\n",
              "           [9.4082e-01, 7.3694e-02, 2.7095e-01,  ..., 5.7711e-01,\n",
              "            2.3055e-02, 4.6308e-01]],\n",
              "\n",
              "          [[7.6858e-01, 2.6538e-01, 7.6763e-01,  ..., 6.9838e-01,\n",
              "            1.9493e-01, 3.4777e-02],\n",
              "           [8.0842e-01, 9.2865e-01, 4.2366e-01,  ..., 6.8939e-01,\n",
              "            5.3099e-01, 8.1473e-02],\n",
              "           [4.6678e-02, 8.6950e-01, 7.8935e-01,  ..., 7.7991e-01,\n",
              "            4.7004e-01, 6.2425e-01],\n",
              "           ...,\n",
              "           [1.4384e-01, 6.2341e-01, 5.7534e-01,  ..., 6.2384e-02,\n",
              "            4.1996e-02, 8.9601e-01],\n",
              "           [2.2980e-01, 6.7599e-01, 4.9481e-01,  ..., 9.5554e-01,\n",
              "            3.7198e-01, 4.8956e-01],\n",
              "           [2.4406e-01, 1.4486e-01, 7.5228e-01,  ..., 6.7846e-01,\n",
              "            8.5940e-01, 3.1988e-01]],\n",
              "\n",
              "          ...,\n",
              "\n",
              "          [[2.9507e-01, 8.5031e-01, 1.8069e-01,  ..., 9.8482e-01,\n",
              "            2.4382e-01, 4.6375e-01],\n",
              "           [9.9230e-01, 3.9852e-01, 5.6307e-01,  ..., 2.0694e-01,\n",
              "            2.3736e-02, 7.1423e-01],\n",
              "           [9.9603e-01, 6.9573e-01, 3.7398e-01,  ..., 3.1392e-01,\n",
              "            6.2365e-01, 1.9878e-01],\n",
              "           ...,\n",
              "           [4.7951e-01, 8.3344e-01, 5.0564e-01,  ..., 1.9179e-01,\n",
              "            2.5979e-01, 9.3931e-02],\n",
              "           [6.2297e-01, 2.3707e-01, 9.2362e-01,  ..., 9.1307e-01,\n",
              "            1.9901e-01, 3.0871e-01],\n",
              "           [4.8882e-01, 5.7766e-01, 8.1495e-01,  ..., 9.1063e-01,\n",
              "            3.7041e-01, 9.2716e-01]],\n",
              "\n",
              "          [[1.5130e-01, 5.4010e-01, 6.3183e-01,  ..., 7.1122e-01,\n",
              "            9.6723e-01, 3.4005e-01],\n",
              "           [2.5423e-01, 6.2950e-01, 9.6836e-01,  ..., 5.4859e-01,\n",
              "            7.8535e-01, 3.8308e-01],\n",
              "           [2.5934e-01, 8.9997e-01, 2.3843e-01,  ..., 5.2846e-01,\n",
              "            9.1006e-01, 4.2082e-01],\n",
              "           ...,\n",
              "           [7.0002e-01, 3.3523e-01, 7.1702e-01,  ..., 2.1156e-01,\n",
              "            2.2596e-01, 7.3877e-01],\n",
              "           [4.1069e-01, 1.4350e-01, 7.0431e-01,  ..., 6.5858e-01,\n",
              "            7.8520e-01, 5.2990e-01],\n",
              "           [6.2533e-01, 6.7092e-01, 1.6179e-01,  ..., 8.2262e-01,\n",
              "            2.9485e-01, 4.1712e-01]],\n",
              "\n",
              "          [[2.8604e-01, 7.4690e-01, 6.8775e-01,  ..., 2.6188e-01,\n",
              "            2.3716e-01, 4.4173e-01],\n",
              "           [5.9910e-01, 4.3080e-01, 9.1096e-01,  ..., 3.3766e-01,\n",
              "            3.6131e-01, 3.6131e-01],\n",
              "           [7.3079e-01, 7.6615e-01, 5.8612e-02,  ..., 4.2741e-01,\n",
              "            7.5882e-01, 5.2731e-01],\n",
              "           ...,\n",
              "           [5.3996e-01, 3.1404e-01, 9.2396e-01,  ..., 9.8650e-01,\n",
              "            4.6471e-01, 1.0047e-02],\n",
              "           [2.4271e-01, 9.2035e-02, 5.8029e-02,  ..., 6.9242e-01,\n",
              "            3.4320e-01, 5.4989e-01],\n",
              "           [4.9584e-01, 1.8245e-01, 2.7772e-01,  ..., 5.3844e-01,\n",
              "            8.9249e-01, 2.3783e-01]]],\n",
              "\n",
              "\n",
              "         [[[7.1872e-01, 1.7200e-01, 8.2962e-01,  ..., 8.7188e-01,\n",
              "            5.3746e-02, 4.9844e-01],\n",
              "           [6.1786e-02, 8.4503e-01, 8.6926e-01,  ..., 4.9028e-02,\n",
              "            5.0075e-01, 5.8049e-01],\n",
              "           [3.4430e-01, 4.7856e-02, 7.8042e-01,  ..., 6.6693e-01,\n",
              "            9.7802e-01, 3.8370e-01],\n",
              "           ...,\n",
              "           [2.9991e-01, 1.2145e-01, 8.7377e-01,  ..., 8.0564e-01,\n",
              "            4.4183e-01, 4.7030e-01],\n",
              "           [5.4243e-01, 8.6864e-01, 4.0854e-02,  ..., 2.6200e-01,\n",
              "            2.9361e-01, 8.2257e-01],\n",
              "           [6.2598e-01, 1.8813e-02, 9.9075e-01,  ..., 5.9643e-01,\n",
              "            9.3960e-01, 9.6394e-01]],\n",
              "\n",
              "          [[7.0905e-01, 8.0049e-01, 9.8345e-01,  ..., 9.9572e-01,\n",
              "            1.0647e-01, 7.1903e-01],\n",
              "           [2.4017e-01, 6.6487e-01, 3.6776e-01,  ..., 7.5801e-01,\n",
              "            5.0994e-01, 1.4794e-02],\n",
              "           [5.3145e-01, 7.5974e-01, 1.6449e-01,  ..., 2.2406e-01,\n",
              "            9.8334e-02, 7.0114e-01],\n",
              "           ...,\n",
              "           [8.4542e-01, 4.2445e-01, 4.9743e-01,  ..., 1.8975e-01,\n",
              "            2.5838e-01, 7.8150e-01],\n",
              "           [7.1000e-01, 3.2727e-01, 3.9677e-01,  ..., 3.9693e-01,\n",
              "            9.4849e-01, 2.9345e-01],\n",
              "           [2.1100e-01, 5.2247e-01, 3.9345e-01,  ..., 3.7547e-01,\n",
              "            3.1091e-01, 9.1198e-01]],\n",
              "\n",
              "          [[5.1816e-01, 5.4121e-01, 3.5096e-02,  ..., 8.9408e-02,\n",
              "            8.3487e-01, 4.1151e-01],\n",
              "           [9.2737e-01, 4.2874e-01, 3.2031e-01,  ..., 5.4667e-01,\n",
              "            9.8298e-01, 3.6584e-01],\n",
              "           [5.7940e-01, 4.2415e-01, 3.7985e-01,  ..., 5.2828e-01,\n",
              "            1.6204e-01, 6.1551e-01],\n",
              "           ...,\n",
              "           [3.8281e-01, 2.7053e-01, 6.6372e-01,  ..., 9.6006e-01,\n",
              "            5.0174e-01, 4.7077e-01],\n",
              "           [2.1676e-01, 3.9651e-01, 1.1743e-01,  ..., 4.8711e-01,\n",
              "            9.2438e-01, 3.4845e-01],\n",
              "           [6.1659e-01, 7.9043e-01, 1.7223e-02,  ..., 8.2805e-02,\n",
              "            6.9565e-01, 3.9356e-01]],\n",
              "\n",
              "          ...,\n",
              "\n",
              "          [[3.1476e-01, 1.4215e-01, 3.1332e-01,  ..., 2.8144e-02,\n",
              "            1.2357e-01, 4.8788e-01],\n",
              "           [9.3261e-01, 6.8628e-01, 9.8319e-01,  ..., 5.1805e-01,\n",
              "            2.1479e-01, 3.3485e-01],\n",
              "           [8.0902e-01, 1.4770e-01, 2.5045e-02,  ..., 2.1930e-01,\n",
              "            5.9229e-01, 3.9625e-02],\n",
              "           ...,\n",
              "           [9.2217e-01, 2.8657e-01, 8.9596e-01,  ..., 7.6316e-01,\n",
              "            7.1028e-01, 2.0762e-01],\n",
              "           [9.6792e-01, 2.2150e-01, 7.4290e-02,  ..., 8.2208e-01,\n",
              "            3.2765e-01, 2.5299e-01],\n",
              "           [9.7212e-01, 2.0693e-01, 4.2042e-01,  ..., 9.3446e-01,\n",
              "            4.1807e-01, 2.2154e-02]],\n",
              "\n",
              "          [[5.0865e-01, 8.4532e-01, 8.5146e-02,  ..., 4.7116e-01,\n",
              "            2.2796e-01, 1.3181e-01],\n",
              "           [1.6853e-01, 6.1546e-01, 3.4492e-01,  ..., 7.6315e-01,\n",
              "            7.6113e-01, 6.8771e-01],\n",
              "           [1.5801e-01, 2.0544e-02, 8.6381e-01,  ..., 1.2904e-01,\n",
              "            6.9687e-02, 1.2618e-02],\n",
              "           ...,\n",
              "           [7.3501e-01, 7.5260e-01, 3.5332e-01,  ..., 8.6199e-01,\n",
              "            6.7324e-01, 6.4666e-01],\n",
              "           [1.6518e-01, 5.1915e-01, 2.5747e-01,  ..., 4.2137e-01,\n",
              "            9.4278e-01, 9.5942e-01],\n",
              "           [6.1809e-01, 1.7435e-01, 3.0179e-01,  ..., 6.7949e-01,\n",
              "            2.7085e-01, 6.4256e-01]],\n",
              "\n",
              "          [[1.3444e-01, 3.9909e-01, 9.2596e-01,  ..., 5.1885e-01,\n",
              "            4.7700e-01, 6.1707e-01],\n",
              "           [4.1630e-01, 1.7677e-01, 4.6469e-01,  ..., 6.1261e-01,\n",
              "            1.5321e-01, 8.6767e-01],\n",
              "           [9.6369e-02, 5.9902e-01, 9.0906e-01,  ..., 7.7065e-01,\n",
              "            2.7599e-01, 9.3672e-03],\n",
              "           ...,\n",
              "           [3.3694e-01, 4.1128e-01, 2.5338e-01,  ..., 5.7012e-01,\n",
              "            1.1549e-01, 6.3145e-01],\n",
              "           [4.8620e-01, 4.6978e-01, 8.0881e-01,  ..., 9.1339e-01,\n",
              "            7.0590e-01, 9.8663e-01],\n",
              "           [2.0593e-01, 1.0377e-01, 2.4803e-01,  ..., 5.7137e-01,\n",
              "            7.8379e-01, 6.7696e-02]]],\n",
              "\n",
              "\n",
              "         ...,\n",
              "\n",
              "\n",
              "         [[[6.1209e-02, 3.2727e-01, 9.0073e-01,  ..., 3.8555e-02,\n",
              "            1.3579e-01, 7.6228e-01],\n",
              "           [7.7914e-01, 2.5743e-01, 5.4758e-01,  ..., 9.2019e-01,\n",
              "            3.5156e-01, 3.4712e-01],\n",
              "           [1.7053e-01, 6.9672e-01, 3.6272e-01,  ..., 2.1942e-01,\n",
              "            3.5453e-01, 2.0566e-01],\n",
              "           ...,\n",
              "           [5.4076e-01, 8.3119e-01, 3.7441e-01,  ..., 2.5834e-01,\n",
              "            9.0779e-01, 1.4957e-01],\n",
              "           [7.8346e-01, 7.7521e-01, 6.9896e-01,  ..., 5.6550e-01,\n",
              "            4.5703e-01, 2.4545e-01],\n",
              "           [1.2139e-01, 4.8302e-01, 5.4286e-01,  ..., 4.9132e-01,\n",
              "            4.2252e-01, 4.7098e-01]],\n",
              "\n",
              "          [[4.6796e-01, 8.3373e-01, 8.1375e-01,  ..., 1.0934e-01,\n",
              "            9.1652e-01, 8.3718e-01],\n",
              "           [1.9494e-01, 2.7638e-01, 2.2389e-02,  ..., 3.6031e-01,\n",
              "            6.7156e-01, 8.2131e-02],\n",
              "           [2.9416e-01, 3.9066e-01, 1.5314e-01,  ..., 1.0400e-01,\n",
              "            7.5957e-02, 1.9363e-02],\n",
              "           ...,\n",
              "           [8.0783e-01, 6.7154e-01, 3.5544e-01,  ..., 9.9005e-01,\n",
              "            5.4174e-01, 4.3069e-01],\n",
              "           [3.8376e-01, 8.7479e-01, 9.1765e-01,  ..., 7.1030e-01,\n",
              "            7.9327e-01, 8.2708e-01],\n",
              "           [6.9356e-01, 2.2071e-01, 6.6121e-01,  ..., 2.8624e-01,\n",
              "            1.5698e-01, 2.9143e-01]],\n",
              "\n",
              "          [[9.7141e-01, 1.6010e-01, 1.5004e-01,  ..., 4.0397e-01,\n",
              "            3.8138e-01, 4.0754e-02],\n",
              "           [3.1905e-01, 5.2544e-01, 8.8455e-01,  ..., 7.7183e-02,\n",
              "            9.7553e-01, 4.8624e-01],\n",
              "           [1.1672e-01, 1.7935e-02, 3.8915e-01,  ..., 1.8643e-02,\n",
              "            2.1541e-01, 1.5355e-01],\n",
              "           ...,\n",
              "           [6.1856e-01, 3.7653e-01, 5.7089e-01,  ..., 7.0242e-01,\n",
              "            3.5400e-01, 5.3642e-01],\n",
              "           [1.4009e-01, 1.7086e-01, 7.4736e-01,  ..., 3.9740e-02,\n",
              "            9.7399e-01, 8.8932e-01],\n",
              "           [6.6611e-01, 6.5641e-01, 3.0133e-01,  ..., 3.4423e-01,\n",
              "            1.3924e-01, 5.9516e-01]],\n",
              "\n",
              "          ...,\n",
              "\n",
              "          [[6.5204e-01, 9.7776e-01, 2.0119e-02,  ..., 9.6564e-01,\n",
              "            2.0276e-01, 2.4535e-01],\n",
              "           [6.3356e-01, 9.4077e-01, 9.8642e-01,  ..., 1.2606e-01,\n",
              "            6.9319e-02, 4.8258e-01],\n",
              "           [1.8138e-01, 7.7158e-01, 9.0105e-02,  ..., 8.3426e-01,\n",
              "            9.9689e-01, 4.3727e-01],\n",
              "           ...,\n",
              "           [1.5564e-01, 3.0328e-01, 6.6797e-01,  ..., 1.9434e-02,\n",
              "            3.4699e-01, 9.1728e-01],\n",
              "           [7.5426e-02, 9.8453e-01, 7.8078e-01,  ..., 8.3513e-01,\n",
              "            1.0748e-01, 7.9514e-01],\n",
              "           [5.4750e-01, 2.4607e-01, 2.0638e-01,  ..., 6.4837e-02,\n",
              "            9.6394e-01, 4.3198e-01]],\n",
              "\n",
              "          [[7.1467e-01, 7.2433e-01, 8.9333e-01,  ..., 7.2256e-01,\n",
              "            7.8740e-01, 6.1478e-01],\n",
              "           [4.9031e-01, 3.7718e-01, 6.9858e-03,  ..., 2.3754e-01,\n",
              "            9.9561e-01, 6.7829e-01],\n",
              "           [1.2132e-01, 8.5853e-01, 4.8295e-01,  ..., 5.1713e-01,\n",
              "            2.6498e-01, 4.9381e-01],\n",
              "           ...,\n",
              "           [1.2976e-01, 9.3603e-01, 1.5894e-01,  ..., 2.8397e-01,\n",
              "            2.6560e-01, 6.3646e-01],\n",
              "           [7.4223e-01, 3.2759e-01, 7.8314e-01,  ..., 2.0991e-01,\n",
              "            3.4580e-01, 6.6037e-01],\n",
              "           [1.3585e-01, 6.9901e-01, 1.6355e-01,  ..., 8.9007e-01,\n",
              "            9.7779e-01, 5.8922e-02]],\n",
              "\n",
              "          [[8.3285e-01, 4.0732e-01, 9.0572e-01,  ..., 1.9642e-02,\n",
              "            4.3468e-01, 9.2472e-01],\n",
              "           [4.2231e-01, 9.9373e-01, 2.4782e-02,  ..., 1.2527e-01,\n",
              "            2.7381e-01, 1.6629e-01],\n",
              "           [6.7535e-01, 3.8933e-01, 6.0636e-01,  ..., 1.6819e-01,\n",
              "            9.4672e-01, 9.9835e-01],\n",
              "           ...,\n",
              "           [7.8192e-01, 9.8920e-01, 6.0302e-01,  ..., 3.4356e-02,\n",
              "            9.4902e-01, 8.9021e-02],\n",
              "           [3.1513e-02, 3.5912e-02, 5.5695e-02,  ..., 5.1163e-01,\n",
              "            2.0917e-01, 9.9574e-01],\n",
              "           [9.6984e-01, 7.6102e-01, 1.1230e-01,  ..., 7.1568e-01,\n",
              "            8.0823e-01, 6.8547e-01]]],\n",
              "\n",
              "\n",
              "         [[[1.3960e-01, 2.8110e-01, 3.7534e-01,  ..., 9.6770e-01,\n",
              "            8.1048e-01, 1.5282e-01],\n",
              "           [4.2585e-01, 4.5396e-01, 9.3951e-01,  ..., 2.7628e-01,\n",
              "            9.8749e-01, 4.0114e-01],\n",
              "           [3.8916e-01, 2.2631e-01, 4.3524e-01,  ..., 8.7262e-02,\n",
              "            5.4358e-01, 4.5732e-01],\n",
              "           ...,\n",
              "           [5.0825e-01, 9.1768e-01, 1.1287e-03,  ..., 1.6232e-01,\n",
              "            8.2484e-01, 6.5207e-01],\n",
              "           [6.2637e-01, 3.8872e-01, 4.8548e-01,  ..., 3.1356e-02,\n",
              "            2.8498e-01, 1.9659e-01],\n",
              "           [4.2778e-01, 3.9395e-01, 4.4577e-01,  ..., 6.9083e-01,\n",
              "            5.1965e-01, 5.2730e-01]],\n",
              "\n",
              "          [[6.0477e-02, 8.8856e-01, 9.5024e-01,  ..., 6.1796e-01,\n",
              "            6.8947e-01, 1.0715e-01],\n",
              "           [3.1928e-01, 2.4228e-02, 4.6530e-01,  ..., 1.1577e-01,\n",
              "            2.8951e-01, 3.6522e-01],\n",
              "           [6.8697e-01, 7.6224e-01, 4.9976e-01,  ..., 4.3126e-01,\n",
              "            5.0765e-01, 2.9784e-01],\n",
              "           ...,\n",
              "           [6.6238e-01, 9.8829e-01, 3.3879e-02,  ..., 2.3169e-01,\n",
              "            8.0503e-01, 7.6763e-01],\n",
              "           [3.1662e-01, 2.6499e-01, 8.3035e-01,  ..., 7.9642e-01,\n",
              "            6.1997e-01, 7.3281e-01],\n",
              "           [1.2874e-01, 9.0985e-01, 3.2824e-01,  ..., 6.3110e-01,\n",
              "            7.5325e-01, 1.4334e-01]],\n",
              "\n",
              "          [[9.0753e-01, 7.4409e-01, 3.7775e-01,  ..., 2.5775e-01,\n",
              "            6.3250e-01, 5.7070e-01],\n",
              "           [8.4900e-01, 6.4665e-02, 3.3771e-01,  ..., 7.2191e-01,\n",
              "            6.6350e-02, 7.7948e-01],\n",
              "           [5.2845e-02, 1.2314e-01, 5.8942e-01,  ..., 9.4816e-01,\n",
              "            2.1825e-01, 5.7179e-02],\n",
              "           ...,\n",
              "           [1.7122e-01, 9.5447e-01, 4.4432e-01,  ..., 5.1827e-01,\n",
              "            9.4515e-02, 9.8057e-01],\n",
              "           [2.2219e-01, 5.3758e-01, 6.3191e-02,  ..., 5.3184e-01,\n",
              "            9.4645e-01, 2.5740e-01],\n",
              "           [8.4194e-01, 8.3831e-01, 7.8165e-01,  ..., 1.5512e-01,\n",
              "            1.5009e-01, 3.3067e-01]],\n",
              "\n",
              "          ...,\n",
              "\n",
              "          [[3.0439e-01, 9.9080e-01, 6.4096e-01,  ..., 1.3248e-01,\n",
              "            2.5985e-01, 5.7708e-01],\n",
              "           [2.2831e-01, 6.6924e-01, 8.4014e-01,  ..., 3.8894e-01,\n",
              "            7.3500e-01, 6.2514e-01],\n",
              "           [8.6272e-01, 9.1596e-01, 8.1137e-01,  ..., 8.6248e-01,\n",
              "            7.9829e-01, 9.7124e-02],\n",
              "           ...,\n",
              "           [6.4999e-01, 1.7017e-01, 8.8377e-01,  ..., 1.5531e-02,\n",
              "            2.8246e-01, 2.3491e-01],\n",
              "           [8.9279e-01, 3.6990e-01, 4.4893e-01,  ..., 2.4283e-01,\n",
              "            8.4829e-01, 3.5866e-01],\n",
              "           [4.6294e-01, 7.1954e-01, 3.4902e-01,  ..., 2.8642e-01,\n",
              "            8.9321e-01, 8.9069e-01]],\n",
              "\n",
              "          [[2.4830e-01, 6.0664e-01, 3.3775e-01,  ..., 7.0382e-01,\n",
              "            1.2008e-01, 5.4055e-01],\n",
              "           [7.6962e-01, 9.6997e-02, 8.6287e-01,  ..., 2.7756e-01,\n",
              "            3.0259e-02, 3.1221e-01],\n",
              "           [5.9579e-01, 3.8883e-01, 2.8935e-01,  ..., 9.0428e-01,\n",
              "            9.6808e-01, 6.7881e-01],\n",
              "           ...,\n",
              "           [6.7368e-01, 2.7744e-01, 1.6985e-01,  ..., 7.8145e-01,\n",
              "            2.8232e-01, 8.9289e-01],\n",
              "           [5.0750e-01, 7.6132e-02, 1.0234e-01,  ..., 8.7263e-01,\n",
              "            3.3252e-01, 5.7870e-01],\n",
              "           [3.1893e-01, 4.6354e-01, 1.1597e-01,  ..., 6.4971e-01,\n",
              "            1.1569e-01, 6.1322e-01]],\n",
              "\n",
              "          [[7.7916e-01, 5.0085e-01, 8.1980e-01,  ..., 8.6324e-01,\n",
              "            7.2910e-01, 9.2648e-01],\n",
              "           [4.8894e-01, 7.9005e-01, 8.8350e-02,  ..., 3.5379e-01,\n",
              "            3.3797e-01, 8.0375e-01],\n",
              "           [8.6575e-01, 3.5081e-01, 6.8125e-01,  ..., 1.5632e-01,\n",
              "            6.9322e-01, 8.9383e-01],\n",
              "           ...,\n",
              "           [8.5832e-01, 8.7022e-01, 4.2310e-02,  ..., 7.0926e-01,\n",
              "            3.1226e-01, 7.8298e-01],\n",
              "           [9.4929e-02, 9.4873e-01, 3.9589e-01,  ..., 2.9082e-01,\n",
              "            8.5787e-01, 7.1709e-01],\n",
              "           [7.3435e-01, 3.0760e-01, 8.8646e-01,  ..., 3.4462e-01,\n",
              "            1.4665e-02, 5.2106e-01]]],\n",
              "\n",
              "\n",
              "         [[[1.8480e-01, 7.4623e-01, 7.4627e-01,  ..., 2.0396e-01,\n",
              "            9.6111e-01, 4.6290e-01],\n",
              "           [9.0424e-01, 1.1311e-01, 2.3793e-01,  ..., 7.1958e-01,\n",
              "            8.9411e-01, 7.2959e-01],\n",
              "           [7.0613e-01, 4.7034e-01, 1.1853e-01,  ..., 3.4181e-01,\n",
              "            9.6187e-01, 2.8801e-01],\n",
              "           ...,\n",
              "           [1.1775e-01, 1.3427e-01, 7.2049e-01,  ..., 9.2846e-01,\n",
              "            8.8789e-01, 1.3548e-01],\n",
              "           [1.8793e-01, 6.0510e-01, 7.3348e-02,  ..., 8.4644e-01,\n",
              "            1.3020e-01, 2.7511e-01],\n",
              "           [9.1986e-01, 7.7899e-01, 3.0277e-01,  ..., 2.6320e-01,\n",
              "            1.3022e-01, 8.5032e-02]],\n",
              "\n",
              "          [[4.2944e-01, 7.8443e-02, 1.5547e-01,  ..., 9.2730e-01,\n",
              "            2.6870e-01, 4.6935e-02],\n",
              "           [6.9855e-01, 9.6332e-01, 5.1393e-01,  ..., 8.4590e-01,\n",
              "            2.5796e-01, 6.8877e-01],\n",
              "           [1.4878e-01, 6.3586e-01, 6.5900e-01,  ..., 3.8867e-01,\n",
              "            6.8187e-01, 3.1231e-01],\n",
              "           ...,\n",
              "           [5.5910e-01, 1.6825e-01, 4.6945e-01,  ..., 5.9453e-03,\n",
              "            2.3953e-01, 1.1741e-01],\n",
              "           [9.1315e-01, 7.7069e-01, 3.8576e-02,  ..., 4.6251e-01,\n",
              "            4.1631e-01, 5.0735e-02],\n",
              "           [4.3538e-01, 5.1159e-02, 8.0221e-01,  ..., 2.0503e-01,\n",
              "            4.6429e-01, 4.4694e-01]],\n",
              "\n",
              "          [[2.1177e-01, 1.8476e-01, 7.9269e-01,  ..., 4.8654e-01,\n",
              "            4.9879e-01, 2.1487e-01],\n",
              "           [7.8118e-01, 4.9453e-01, 6.2064e-01,  ..., 3.7681e-01,\n",
              "            5.9809e-01, 9.9787e-01],\n",
              "           [9.7556e-01, 6.2118e-01, 4.4490e-01,  ..., 5.1318e-01,\n",
              "            1.8279e-01, 1.5704e-01],\n",
              "           ...,\n",
              "           [3.1523e-01, 4.6878e-01, 7.9384e-01,  ..., 5.3858e-01,\n",
              "            6.9382e-01, 2.7022e-01],\n",
              "           [4.0220e-01, 6.2941e-01, 6.3477e-02,  ..., 4.3190e-01,\n",
              "            2.0618e-01, 7.6057e-03],\n",
              "           [9.3782e-01, 8.5879e-01, 1.4550e-01,  ..., 6.3127e-01,\n",
              "            8.0492e-01, 9.0711e-01]],\n",
              "\n",
              "          ...,\n",
              "\n",
              "          [[7.1551e-01, 6.0056e-01, 4.0113e-01,  ..., 2.7059e-01,\n",
              "            1.7411e-01, 7.0288e-02],\n",
              "           [6.5469e-01, 9.2285e-01, 9.7629e-01,  ..., 2.2329e-01,\n",
              "            2.6623e-01, 6.3626e-01],\n",
              "           [7.6380e-01, 4.9020e-01, 4.1887e-01,  ..., 2.3943e-01,\n",
              "            8.8826e-01, 4.0710e-01],\n",
              "           ...,\n",
              "           [2.3714e-01, 5.3989e-01, 2.0249e-01,  ..., 1.4616e-01,\n",
              "            6.5479e-01, 3.1160e-01],\n",
              "           [5.2148e-01, 7.4678e-01, 5.9625e-01,  ..., 9.7809e-01,\n",
              "            6.3081e-01, 3.3154e-01],\n",
              "           [3.8164e-01, 5.6802e-01, 4.6598e-01,  ..., 8.7966e-01,\n",
              "            7.7044e-01, 2.6462e-01]],\n",
              "\n",
              "          [[4.7848e-01, 9.6725e-01, 5.8672e-02,  ..., 1.1863e-01,\n",
              "            3.1085e-01, 8.2338e-01],\n",
              "           [8.3003e-01, 4.3341e-01, 7.2583e-01,  ..., 5.1627e-01,\n",
              "            7.8872e-01, 4.9961e-02],\n",
              "           [1.8780e-01, 6.2654e-01, 1.7249e-01,  ..., 2.8613e-01,\n",
              "            6.9873e-01, 7.4678e-01],\n",
              "           ...,\n",
              "           [3.2981e-02, 4.6452e-01, 5.1617e-02,  ..., 4.6065e-01,\n",
              "            3.0382e-01, 8.5672e-01],\n",
              "           [5.7722e-02, 3.6613e-01, 4.6962e-01,  ..., 8.9923e-01,\n",
              "            2.7011e-01, 2.8543e-01],\n",
              "           [6.2163e-01, 6.4688e-01, 7.0364e-01,  ..., 6.5754e-01,\n",
              "            9.6776e-01, 4.3093e-01]],\n",
              "\n",
              "          [[3.8508e-01, 2.1717e-01, 8.2572e-01,  ..., 4.0953e-01,\n",
              "            3.3037e-01, 9.2878e-01],\n",
              "           [7.0136e-01, 5.0693e-01, 1.0663e-02,  ..., 5.9678e-01,\n",
              "            6.9648e-01, 9.7093e-01],\n",
              "           [1.1255e-01, 6.7968e-01, 5.8400e-01,  ..., 9.1712e-01,\n",
              "            3.9979e-01, 7.1952e-01],\n",
              "           ...,\n",
              "           [6.8936e-01, 3.5970e-01, 1.5028e-01,  ..., 8.3036e-01,\n",
              "            7.3606e-01, 7.4893e-01],\n",
              "           [9.4915e-02, 1.0441e-01, 9.5138e-01,  ..., 6.8251e-01,\n",
              "            8.1261e-01, 2.1317e-01],\n",
              "           [6.2552e-01, 5.9487e-01, 2.4451e-01,  ..., 5.1386e-01,\n",
              "            5.8052e-01, 7.3590e-01]]]]])"
            ]
          },
          "metadata": {},
          "execution_count": 606
        }
      ],
      "source": [
        "random_tensors = torch.rand(10, 10, 10, 10, 10)\n",
        "random_tensors"
      ]
    },
    {
      "cell_type": "code",
      "execution_count": 607,
      "metadata": {
        "colab": {
          "base_uri": "https://localhost:8080/"
        },
        "id": "aArQ8b8EqUSi",
        "outputId": "f26493e8-abaa-4c41-96ac-947920b2c96a"
      },
      "outputs": [
        {
          "output_type": "execute_result",
          "data": {
            "text/plain": [
              "5"
            ]
          },
          "metadata": {},
          "execution_count": 607
        }
      ],
      "source": [
        "random_tensors.ndim"
      ]
    },
    {
      "cell_type": "code",
      "execution_count": 608,
      "metadata": {
        "colab": {
          "base_uri": "https://localhost:8080/"
        },
        "id": "b9kE4qWLrwAL",
        "outputId": "1af69509-f9f2-414e-c204-483adab44a68"
      },
      "outputs": [
        {
          "output_type": "execute_result",
          "data": {
            "text/plain": [
              "torch.Size([10, 10, 10, 10, 10])"
            ]
          },
          "metadata": {},
          "execution_count": 608
        }
      ],
      "source": [
        "random_tensors.shape"
      ]
    },
    {
      "cell_type": "code",
      "execution_count": 609,
      "metadata": {
        "colab": {
          "base_uri": "https://localhost:8080/"
        },
        "id": "T9G6-BQequnR",
        "outputId": "9bba8af7-fc67-4232-d353-d47212740679"
      },
      "outputs": [
        {
          "output_type": "execute_result",
          "data": {
            "text/plain": [
              "(torch.Size([224, 224, 3]), 3)"
            ]
          },
          "metadata": {},
          "execution_count": 609
        }
      ],
      "source": [
        "# Create a random tensor with similar shape to an image tensor\n",
        "random_image_tensor = torch.rand(size=(224, 224, 3)) # height, width, colour channels (R, G, B)\n",
        "random_image_tensor.shape, random_image_tensor.ndim"
      ]
    },
    {
      "cell_type": "code",
      "execution_count": 610,
      "metadata": {
        "colab": {
          "base_uri": "https://localhost:8080/"
        },
        "id": "K9TuV4yvrJej",
        "outputId": "ac2b4714-0756-4b92-e6ff-b6e1a847ac31"
      },
      "outputs": [
        {
          "output_type": "execute_result",
          "data": {
            "text/plain": [
              "tensor([[[0.6575, 0.2273, 0.1378],\n",
              "         [0.0319, 0.1518, 0.6874],\n",
              "         [0.7288, 0.0824, 0.1630],\n",
              "         ...,\n",
              "         [0.2181, 0.5243, 0.4044],\n",
              "         [0.1206, 0.7868, 0.7205],\n",
              "         [0.4667, 0.9444, 0.2279]],\n",
              "\n",
              "        [[0.6999, 0.0402, 0.6639],\n",
              "         [0.6982, 0.2175, 0.7092],\n",
              "         [0.6235, 0.7105, 0.7186],\n",
              "         ...,\n",
              "         [0.2757, 0.5715, 0.4086],\n",
              "         [0.4939, 0.8431, 0.2667],\n",
              "         [0.8715, 0.5563, 0.3289]],\n",
              "\n",
              "        [[0.7865, 0.2950, 0.6060],\n",
              "         [0.4566, 0.7731, 0.2695],\n",
              "         [0.1585, 0.3559, 0.0463],\n",
              "         ...,\n",
              "         [0.1122, 0.7864, 0.1006],\n",
              "         [0.9769, 0.6083, 0.5533],\n",
              "         [0.4406, 0.7214, 0.2870]],\n",
              "\n",
              "        ...,\n",
              "\n",
              "        [[0.8913, 0.2741, 0.5350],\n",
              "         [0.4732, 0.3645, 0.9806],\n",
              "         [0.3685, 0.9693, 0.3727],\n",
              "         ...,\n",
              "         [0.3937, 0.9231, 0.4935],\n",
              "         [0.9822, 0.0332, 0.8509],\n",
              "         [0.4529, 0.2080, 0.0839]],\n",
              "\n",
              "        [[0.8845, 0.0456, 0.8690],\n",
              "         [0.3806, 0.0867, 0.9295],\n",
              "         [0.0093, 0.8379, 0.8502],\n",
              "         ...,\n",
              "         [0.3995, 0.3606, 0.7195],\n",
              "         [0.7577, 0.9885, 0.2903],\n",
              "         [0.9929, 0.0187, 0.4841]],\n",
              "\n",
              "        [[0.8184, 0.3817, 0.2243],\n",
              "         [0.7547, 0.1664, 0.1261],\n",
              "         [0.1944, 0.7314, 0.9903],\n",
              "         ...,\n",
              "         [0.7621, 0.8714, 0.0719],\n",
              "         [0.5367, 0.3578, 0.8955],\n",
              "         [0.7573, 0.9229, 0.8841]]])"
            ]
          },
          "metadata": {},
          "execution_count": 610
        }
      ],
      "source": [
        "itensor = torch.rand(224, 224, 3)\n",
        "itensor"
      ]
    },
    {
      "cell_type": "code",
      "execution_count": 611,
      "metadata": {
        "colab": {
          "base_uri": "https://localhost:8080/"
        },
        "id": "gD4LH8MGtNBg",
        "outputId": "08fb31e4-8cdb-4dfc-d73b-2484ef8b9274"
      },
      "outputs": [
        {
          "output_type": "execute_result",
          "data": {
            "text/plain": [
              "3"
            ]
          },
          "metadata": {},
          "execution_count": 611
        }
      ],
      "source": [
        "itensor.ndim"
      ]
    },
    {
      "cell_type": "markdown",
      "metadata": {
        "id": "InxlIvbzvuSn"
      },
      "source": [
        "## Zeros and ones"
      ]
    },
    {
      "cell_type": "code",
      "execution_count": 612,
      "metadata": {
        "colab": {
          "base_uri": "https://localhost:8080/"
        },
        "id": "RZES2crItTDA",
        "outputId": "ad87ee52-6c09-49a9-ca1a-58e4eb317f22"
      },
      "outputs": [
        {
          "output_type": "execute_result",
          "data": {
            "text/plain": [
              "tensor([[0., 0., 0., 0.],\n",
              "        [0., 0., 0., 0.],\n",
              "        [0., 0., 0., 0.]])"
            ]
          },
          "metadata": {},
          "execution_count": 612
        }
      ],
      "source": [
        "# Create a tensor of all zeros\n",
        "zeros = torch.zeros(size=(3,4))\n",
        "zeros"
      ]
    },
    {
      "cell_type": "code",
      "execution_count": 613,
      "metadata": {
        "colab": {
          "base_uri": "https://localhost:8080/"
        },
        "id": "D_KQGBSOv6rn",
        "outputId": "b879d8e2-7df3-46d0-c67a-276bb0eafae6"
      },
      "outputs": [
        {
          "output_type": "execute_result",
          "data": {
            "text/plain": [
              "tensor([[0.8119, 0.9852, 0.0712, 0.5421],\n",
              "        [0.8609, 0.8476, 0.7129, 0.1423],\n",
              "        [0.3823, 0.0250, 0.7074, 0.2622]])"
            ]
          },
          "metadata": {},
          "execution_count": 613
        }
      ],
      "source": [
        "new_random_tensor = torch.rand(3,4)\n",
        "new_random_tensor"
      ]
    },
    {
      "cell_type": "code",
      "execution_count": 614,
      "metadata": {
        "colab": {
          "base_uri": "https://localhost:8080/"
        },
        "id": "gSQdQQTpwRG2",
        "outputId": "4ed471d3-12b7-4afb-9b36-85cf70c7ebf2"
      },
      "outputs": [
        {
          "output_type": "execute_result",
          "data": {
            "text/plain": [
              "tensor([[0., 0., 0., 0.],\n",
              "        [0., 0., 0., 0.],\n",
              "        [0., 0., 0., 0.]])"
            ]
          },
          "metadata": {},
          "execution_count": 614
        }
      ],
      "source": [
        "zeros * new_random_tensor"
      ]
    },
    {
      "cell_type": "code",
      "execution_count": 615,
      "metadata": {
        "colab": {
          "base_uri": "https://localhost:8080/"
        },
        "id": "cPfrsl0SwZ6-",
        "outputId": "ed0c23ff-c211-4309-f848-121251b00c5e"
      },
      "outputs": [
        {
          "output_type": "execute_result",
          "data": {
            "text/plain": [
              "tensor([[1., 1., 1., 1.],\n",
              "        [1., 1., 1., 1.],\n",
              "        [1., 1., 1., 1.]])"
            ]
          },
          "metadata": {},
          "execution_count": 615
        }
      ],
      "source": [
        "# Create a tensor of all ones\n",
        "ones = torch.ones(size=(3,4))\n",
        "ones"
      ]
    },
    {
      "cell_type": "code",
      "execution_count": 616,
      "metadata": {
        "colab": {
          "base_uri": "https://localhost:8080/"
        },
        "id": "LmyPc2bAw_O3",
        "outputId": "7cace979-2f02-4cc4-9330-3f79043edb83"
      },
      "outputs": [
        {
          "output_type": "execute_result",
          "data": {
            "text/plain": [
              "torch.float32"
            ]
          },
          "metadata": {},
          "execution_count": 616
        }
      ],
      "source": [
        "ones.dtype"
      ]
    },
    {
      "cell_type": "markdown",
      "metadata": {
        "id": "wrWxGAmmylHa"
      },
      "source": [
        "## Creating a range of tensors and tensors-like\n",
        "\n",
        "`torch.arange()` : https://pytorch.org/docs/stable/generated/torch.arange.html"
      ]
    },
    {
      "cell_type": "code",
      "execution_count": 617,
      "metadata": {
        "colab": {
          "base_uri": "https://localhost:8080/"
        },
        "id": "PGLDUrUGxB2m",
        "outputId": "8d9c9af4-62e7-4f31-b84f-a0b78c3f76cd"
      },
      "outputs": [
        {
          "output_type": "execute_result",
          "data": {
            "text/plain": [
              "tensor([ 1,  2,  3,  4,  5,  6,  7,  8,  9, 10])"
            ]
          },
          "metadata": {},
          "execution_count": 617
        }
      ],
      "source": [
        "# Use torch.range(1,11)\n",
        "# Depreciated message:::>>>> UserWarning: torch.range is deprecated and will be removed in a future release because its behavior is inconsistent with Python's range builtin. Instead, use torch.arange, which produces values in [start, end).\n",
        "\n",
        "one_to_ten = torch.arange(1,11)\n",
        "one_to_ten"
      ]
    },
    {
      "cell_type": "code",
      "execution_count": 618,
      "metadata": {
        "colab": {
          "base_uri": "https://localhost:8080/"
        },
        "id": "1Db2EP_Gy88t",
        "outputId": "91c622b8-017e-4d83-e8c4-216f866dade6"
      },
      "outputs": [
        {
          "output_type": "execute_result",
          "data": {
            "text/plain": [
              "tensor([ 0, 10, 20, 30, 40, 50, 60, 70, 80, 90])"
            ]
          },
          "metadata": {},
          "execution_count": 618
        }
      ],
      "source": [
        "zero_to_hundred = torch.arange(start=0, end=100, step=10)\n",
        "zero_to_hundred"
      ]
    },
    {
      "cell_type": "code",
      "execution_count": 619,
      "metadata": {
        "colab": {
          "base_uri": "https://localhost:8080/"
        },
        "id": "_1pwiJHKz-2m",
        "outputId": "2aafcae3-2c19-4c22-fbf7-159a2f4cd60d"
      },
      "outputs": [
        {
          "output_type": "execute_result",
          "data": {
            "text/plain": [
              "tensor([0, 0, 0, 0, 0, 0, 0, 0, 0, 0])"
            ]
          },
          "metadata": {},
          "execution_count": 619
        }
      ],
      "source": [
        "# Creating tensors like\n",
        "# when we have to define a tensor shape from a pre-defined tensor and overwrite with zeros\n",
        "new_tensor_from_zero_to_hundred_tensor = torch.zeros_like(input=zero_to_hundred)\n",
        "new_tensor_from_zero_to_hundred_tensor"
      ]
    },
    {
      "cell_type": "markdown",
      "metadata": {
        "id": "1YhJRcjsxZKm"
      },
      "source": [
        "## Tensor Datatypes\n",
        "\n",
        "**Note:** Tensor datatypes is one the 3 big errors you'll run into with PyTorch && Deep Learning:\n",
        "\n",
        "1.   Tensors not right datatype\n",
        "2.   Tensors not right shape\n",
        "3.   Tensors not on the right device\n",
        "\n",
        "\n",
        "Precision in computing: https://en.wikipedia.org/wiki/Precision_(computer_science)\n",
        "\n"
      ]
    },
    {
      "cell_type": "code",
      "execution_count": 620,
      "metadata": {
        "colab": {
          "base_uri": "https://localhost:8080/"
        },
        "id": "69Ic01AdyapK",
        "outputId": "d739dd1e-953e-450d-bc45-a42c49575243"
      },
      "outputs": [
        {
          "output_type": "execute_result",
          "data": {
            "text/plain": [
              "tensor([5, 8, 1, 6, 2, 9])"
            ]
          },
          "metadata": {},
          "execution_count": 620
        }
      ],
      "source": [
        "# default tensor datatype - default tensor datatype is depends on input input of the given tensor\n",
        "\n",
        "# here i will set `int` numbers for the tensor, so the default datatype of the tensor will be `int64`\n",
        "# so the default is `int64` for int numbers\n",
        "default_datatype_tensor = torch.tensor([5,8,1,6,2,9])\n",
        "\n",
        "default_datatype_tensor"
      ]
    },
    {
      "cell_type": "code",
      "execution_count": 621,
      "metadata": {
        "colab": {
          "base_uri": "https://localhost:8080/"
        },
        "id": "cr-DQ2MVyp17",
        "outputId": "283d9d60-ca57-4fa7-beb2-129125536e18"
      },
      "outputs": [
        {
          "output_type": "execute_result",
          "data": {
            "text/plain": [
              "torch.int64"
            ]
          },
          "metadata": {},
          "execution_count": 621
        }
      ],
      "source": [
        "default_datatype_tensor.dtype"
      ]
    },
    {
      "cell_type": "code",
      "execution_count": 622,
      "metadata": {
        "colab": {
          "base_uri": "https://localhost:8080/"
        },
        "id": "P_ovVGQ_z3mc",
        "outputId": "bfaa2cba-09d0-41b9-8bf0-9119816eda17"
      },
      "outputs": [
        {
          "output_type": "execute_result",
          "data": {
            "text/plain": [
              "tensor([3.1000, 4.9000, 6.4000, 0.5000])"
            ]
          },
          "metadata": {},
          "execution_count": 622
        }
      ],
      "source": [
        "# here i will set `float` numbers for the tensor, so the default datatype would be `float32`\n",
        "# so the default is `float32` for int numbers\n",
        "default_datatype_tensor = torch.tensor([3.1,4.9,6.4,.5])\n",
        "\n",
        "default_datatype_tensor"
      ]
    },
    {
      "cell_type": "code",
      "execution_count": 623,
      "metadata": {
        "colab": {
          "base_uri": "https://localhost:8080/"
        },
        "id": "-T7qAD3n0ii2",
        "outputId": "7faf1fb2-c147-4158-9c5d-dbdf083d8078"
      },
      "outputs": [
        {
          "output_type": "execute_result",
          "data": {
            "text/plain": [
              "torch.float32"
            ]
          },
          "metadata": {},
          "execution_count": 623
        }
      ],
      "source": [
        "default_datatype_tensor.dtype"
      ]
    },
    {
      "cell_type": "code",
      "execution_count": 624,
      "metadata": {
        "colab": {
          "base_uri": "https://localhost:8080/"
        },
        "id": "Y1pVnAzQ1BV2",
        "outputId": "9eccadae-7c65-4727-c615-717292651f8a"
      },
      "outputs": [
        {
          "output_type": "execute_result",
          "data": {
            "text/plain": [
              "tensor([3., 2., 4.])"
            ]
          },
          "metadata": {},
          "execution_count": 624
        }
      ],
      "source": [
        "# Float 32 tensor\n",
        "float_32_tensor = torch.tensor([3.0, 2.0, 4.0], dtype=torch.float32) # defined `float32`\n",
        "\n",
        "float_32_tensor"
      ]
    },
    {
      "cell_type": "code",
      "execution_count": 625,
      "metadata": {
        "colab": {
          "base_uri": "https://localhost:8080/"
        },
        "id": "Kcoykb-Ix2Fm",
        "outputId": "4044f26e-fd9a-4e65-a387-5a2f2656d2d0"
      },
      "outputs": [
        {
          "output_type": "execute_result",
          "data": {
            "text/plain": [
              "torch.float32"
            ]
          },
          "metadata": {},
          "execution_count": 625
        }
      ],
      "source": [
        "float_32_tensor.dtype"
      ]
    },
    {
      "cell_type": "code",
      "execution_count": 626,
      "metadata": {
        "colab": {
          "base_uri": "https://localhost:8080/"
        },
        "id": "TA_TLsv5x39T",
        "outputId": "03651f58-ae81-4520-d005-51ac838ac3de"
      },
      "outputs": [
        {
          "output_type": "execute_result",
          "data": {
            "text/plain": [
              "tensor([4, 2, 4, 7])"
            ]
          },
          "metadata": {},
          "execution_count": 626
        }
      ],
      "source": [
        "# set float numbers but later define the datatype your want to sent with the tensor\n",
        "int64_tensor = torch.tensor([4.1,2,4,7], dtype=torch.int64)\n",
        "int64_tensor"
      ]
    },
    {
      "cell_type": "code",
      "execution_count": 627,
      "metadata": {
        "colab": {
          "base_uri": "https://localhost:8080/"
        },
        "id": "t0UruqRr3zDe",
        "outputId": "da328bd3-dd20-44b5-f4ef-875423a18bad"
      },
      "outputs": [
        {
          "output_type": "execute_result",
          "data": {
            "text/plain": [
              "torch.int64"
            ]
          },
          "metadata": {},
          "execution_count": 627
        }
      ],
      "source": [
        "int64_tensor.dtype"
      ]
    },
    {
      "cell_type": "code",
      "execution_count": 628,
      "metadata": {
        "colab": {
          "base_uri": "https://localhost:8080/"
        },
        "id": "6CZLJ2cF36xu",
        "outputId": "6f65893c-c0f2-415b-a0cb-7e0288bf2dfb"
      },
      "outputs": [
        {
          "output_type": "execute_result",
          "data": {
            "text/plain": [
              "tensor([7.3000, 1.0000, 9.0000, 4.2000])"
            ]
          },
          "metadata": {},
          "execution_count": 628
        }
      ],
      "source": [
        "#\n",
        "float_32_tensor = torch.tensor([7.3,1,9,4.2], dtype=None # what datatype is the tensor (e.g. float32. float16)\n",
        "                                                        )\n",
        "float_32_tensor"
      ]
    },
    {
      "cell_type": "code",
      "execution_count": 629,
      "metadata": {
        "colab": {
          "base_uri": "https://localhost:8080/"
        },
        "id": "V6RqW-8R5ElX",
        "outputId": "653293be-0269-4ab5-978c-e6be04cbb9cd"
      },
      "outputs": [
        {
          "output_type": "execute_result",
          "data": {
            "text/plain": [
              "torch.float32"
            ]
          },
          "metadata": {},
          "execution_count": 629
        }
      ],
      "source": [
        "float_32_tensor.dtype"
      ]
    },
    {
      "cell_type": "code",
      "execution_count": 630,
      "metadata": {
        "colab": {
          "base_uri": "https://localhost:8080/"
        },
        "id": "EjbYwfST5K3Z",
        "outputId": "3d84a4af-874f-483b-e706-8ca5adf568d2"
      },
      "outputs": [
        {
          "output_type": "execute_result",
          "data": {
            "text/plain": [
              "tensor([4.1000, 7.5000, 7.8000])"
            ]
          },
          "metadata": {},
          "execution_count": 630
        }
      ],
      "source": [
        "# with more parameters\n",
        "float_32_tensor = torch.tensor([4.1,7.5,7.8],\n",
        "                               dtype = None, # set  datatypes:  e.g. float16, float32 :> available datatypes: https://pytorch.org/docs/stable/tensors.html || https://en.wikipedia.org/wiki/Precision_(computer_science)\n",
        "                               device = None, # what device is your tensor on e.g. 'cpu' or 'cuda' mean gpu\n",
        "                               requires_grad = False # whether or not to track gradients with this tensors operations\n",
        "                               )\n",
        "float_32_tensor"
      ]
    },
    {
      "cell_type": "code",
      "execution_count": 631,
      "metadata": {
        "colab": {
          "base_uri": "https://localhost:8080/"
        },
        "id": "1eWQ8I2h5_rv",
        "outputId": "e7932035-703e-473c-eb76-351476486c55"
      },
      "outputs": [
        {
          "output_type": "execute_result",
          "data": {
            "text/plain": [
              "tensor([4.1016, 7.5000, 7.8008], dtype=torch.float16)"
            ]
          },
          "metadata": {},
          "execution_count": 631
        }
      ],
      "source": [
        "# converted the datatype 'float_32' to 'float_16' of a tensor\n",
        "\n",
        "# how might we change the datatype of the tensor\n",
        "float16_tensor = float_32_tensor.type(torch.float16)\n",
        "float16_tensor"
      ]
    },
    {
      "cell_type": "markdown",
      "source": [
        "# Excercise (DataTypes)"
      ],
      "metadata": {
        "id": "NN45b5QS3aIF"
      }
    },
    {
      "cell_type": "code",
      "execution_count": 632,
      "metadata": {
        "colab": {
          "base_uri": "https://localhost:8080/"
        },
        "id": "IM0UYSqm9o0X",
        "outputId": "f7f5bab1-a233-4f16-b3ca-a1a2856bbe87"
      },
      "outputs": [
        {
          "output_type": "execute_result",
          "data": {
            "text/plain": [
              "tensor([ True, False, False,  True, False,  True,  True])"
            ]
          },
          "metadata": {},
          "execution_count": 632
        }
      ],
      "source": [
        "# boolean data types\n",
        "boolean_tensor = torch.tensor([1,0,0,1,0,1,1], dtype=torch.bool)\n",
        "\n",
        "boolean_tensor"
      ]
    },
    {
      "cell_type": "code",
      "execution_count": 633,
      "metadata": {
        "colab": {
          "base_uri": "https://localhost:8080/"
        },
        "id": "tEjhDUAcAs7H",
        "outputId": "46acb315-da4b-4895-9b08-6276ed98b804"
      },
      "outputs": [
        {
          "output_type": "execute_result",
          "data": {
            "text/plain": [
              "torch.bool"
            ]
          },
          "metadata": {},
          "execution_count": 633
        }
      ],
      "source": [
        "boolean_tensor.dtype"
      ]
    },
    {
      "cell_type": "code",
      "execution_count": 634,
      "metadata": {
        "colab": {
          "base_uri": "https://localhost:8080/"
        },
        "id": "fP36Jo6wAvDm",
        "outputId": "05e21f61-f9c5-433b-b016-4031f2181342"
      },
      "outputs": [
        {
          "output_type": "execute_result",
          "data": {
            "text/plain": [
              "tensor([[ 2.2000, 18.6000],\n",
              "        [ 7.2000, 13.4000]])"
            ]
          },
          "metadata": {},
          "execution_count": 634
        }
      ],
      "source": [
        "# requires_grad = True\n",
        "MY_TENSOR = torch.tensor([[1.1, 9.3], [3.6, 6.7]], requires_grad=True)\n",
        "\n",
        "OUT = MY_TENSOR.pow(2).sum()\n",
        "OUT.backward()\n",
        "MY_TENSOR.grad"
      ]
    },
    {
      "cell_type": "markdown",
      "source": [
        "## Tensor Views\n",
        "PyTorch allows a tensor to be a `View` of an existing tensor. View tensor shares the same underlying data with its base tensor. Supporting `View` avoids explicit data copy, thus allows us to do fast and memory efficient reshaping, slicing and element-wise operations.\n",
        "\n",
        "For example, to get a view of an existing tensor `first_tensor`, you can call `t.view(...)`.\n",
        "\n",
        "\n",
        "**Source:** https://pytorch.org/docs/stable/tensor_view.html#tensor-view-doc"
      ],
      "metadata": {
        "id": "vqbYBO1oM5eZ"
      }
    },
    {
      "cell_type": "code",
      "execution_count": 635,
      "metadata": {
        "id": "JBvZq7X9LJ9o",
        "colab": {
          "base_uri": "https://localhost:8080/"
        },
        "outputId": "9281b650-76e4-4407-e7c5-a875ac73f12d"
      },
      "outputs": [
        {
          "output_type": "execute_result",
          "data": {
            "text/plain": [
              "tensor([[0.4953, 0.8705, 0.4855, 0.7253],\n",
              "        [0.4944, 0.1035, 0.4828, 0.4897],\n",
              "        [0.4629, 0.6333, 0.6250, 0.7312],\n",
              "        [0.6168, 0.5591, 0.1919, 0.7455]])"
            ]
          },
          "metadata": {},
          "execution_count": 635
        }
      ],
      "source": [
        "# example\n",
        "first_tensor = torch.rand(4,4)\n",
        "first_tensor"
      ]
    },
    {
      "cell_type": "code",
      "source": [
        "second_tensor = first_tensor.view(2,8)\n",
        "second_tensor"
      ],
      "metadata": {
        "colab": {
          "base_uri": "https://localhost:8080/"
        },
        "id": "2FE7YjiqNOLo",
        "outputId": "a53753ca-2631-4f66-d008-422739dd209c"
      },
      "execution_count": 636,
      "outputs": [
        {
          "output_type": "execute_result",
          "data": {
            "text/plain": [
              "tensor([[0.4953, 0.8705, 0.4855, 0.7253, 0.4944, 0.1035, 0.4828, 0.4897],\n",
              "        [0.4629, 0.6333, 0.6250, 0.7312, 0.6168, 0.5591, 0.1919, 0.7455]])"
            ]
          },
          "metadata": {},
          "execution_count": 636
        }
      ]
    },
    {
      "cell_type": "code",
      "source": [
        "# check if the two tensors sharing the same data\n",
        "\n",
        "# using `first_tensor.storage()` you will get deprecated message, To access UntypedStorage directly, use tensor.untyped_storage() instead of tensor.storage()\n",
        "first_tensor.untyped_storage().data_ptr() == second_tensor.untyped_storage().data_ptr() # `first_tensor` and `second_tensor` share the same underlying data"
      ],
      "metadata": {
        "colab": {
          "base_uri": "https://localhost:8080/"
        },
        "id": "kz5er5aGNZpg",
        "outputId": "8dc0b822-33d7-41c5-fffe-6ec11216a665"
      },
      "execution_count": 637,
      "outputs": [
        {
          "output_type": "execute_result",
          "data": {
            "text/plain": [
              "True"
            ]
          },
          "metadata": {},
          "execution_count": 637
        }
      ]
    },
    {
      "cell_type": "code",
      "source": [
        "# Modifying view tensor(e.g.`second_tensor`) changes base tensor(e.g. `first_tensor`) as well\n",
        "\n",
        "# first extract value of given indices\n",
        "second_tensor[0][0]\n",
        "\n",
        "# updating value\n",
        "second_tensor[0][0] = 0.401\n",
        "\n",
        "# check whether the value of the first_tensor is updated or not\n",
        "first_tensor[0][0]\n",
        "\n",
        "# print the whole tensor\n",
        "first_tensor\n",
        "\n",
        "#    Note:** Since views share underlying data with its base tensor, if you edit the data in the view, it will be reflected in the base tensor as well.\n",
        "\n"
      ],
      "metadata": {
        "colab": {
          "base_uri": "https://localhost:8080/"
        },
        "id": "NTPuvSBnOpBA",
        "outputId": "490e4ebd-fe1b-4399-eafd-a8a2a6e33fa8"
      },
      "execution_count": 638,
      "outputs": [
        {
          "output_type": "execute_result",
          "data": {
            "text/plain": [
              "tensor([[0.4010, 0.8705, 0.4855, 0.7253],\n",
              "        [0.4944, 0.1035, 0.4828, 0.4897],\n",
              "        [0.4629, 0.6333, 0.6250, 0.7312],\n",
              "        [0.6168, 0.5591, 0.1919, 0.7455]])"
            ]
          },
          "metadata": {},
          "execution_count": 638
        }
      ]
    },
    {
      "cell_type": "markdown",
      "source": [
        "Typically a PyTorch op returns a new tensor as output, e.g. `add()`. But in case of view ops, outputs are views of input tensors to avoid unnecessary data copy. No data movement occurs when creating a view, view tensor just changes the way it interprets the same data. Taking a view of contiguous tensor could potentially produce a non-contiguous tensor. Users should pay additional attention as contiguity might have implicit performance impact. `transpose()` is a common example.\n",
        "\n",
        "**Source:** https://pytorch.org/docs/stable/tensor_view.html#tensor-views"
      ],
      "metadata": {
        "id": "haPTOiiQSMf9"
      }
    },
    {
      "cell_type": "code",
      "source": [
        "first_tensor.is_contiguous()"
      ],
      "metadata": {
        "colab": {
          "base_uri": "https://localhost:8080/"
        },
        "id": "rOIZ-YAkQukQ",
        "outputId": "81a283fa-f80a-4cdd-b809-fd5b2de1d28f"
      },
      "execution_count": 639,
      "outputs": [
        {
          "output_type": "execute_result",
          "data": {
            "text/plain": [
              "True"
            ]
          },
          "metadata": {},
          "execution_count": 639
        }
      ]
    },
    {
      "cell_type": "code",
      "source": [
        "second_tensor.is_contiguous()"
      ],
      "metadata": {
        "colab": {
          "base_uri": "https://localhost:8080/"
        },
        "id": "OopIaXLOS34A",
        "outputId": "1f6fe969-d173-4f1e-cfd2-3991a975fbee"
      },
      "execution_count": 640,
      "outputs": [
        {
          "output_type": "execute_result",
          "data": {
            "text/plain": [
              "True"
            ]
          },
          "metadata": {},
          "execution_count": 640
        }
      ]
    },
    {
      "cell_type": "code",
      "source": [
        "# create new base tensor\n",
        "base_tensor = torch.tensor([[0,1],[2,3]])\n",
        "print(base_tensor.is_contiguous())\n",
        "base_tensor"
      ],
      "metadata": {
        "colab": {
          "base_uri": "https://localhost:8080/"
        },
        "id": "JRwqpH6nS9Z6",
        "outputId": "6aefd0a7-4c33-47e5-94ff-055c2d8d8931"
      },
      "execution_count": 641,
      "outputs": [
        {
          "output_type": "stream",
          "name": "stdout",
          "text": [
            "True\n"
          ]
        },
        {
          "output_type": "execute_result",
          "data": {
            "text/plain": [
              "tensor([[0, 1],\n",
              "        [2, 3]])"
            ]
          },
          "metadata": {},
          "execution_count": 641
        }
      ]
    },
    {
      "cell_type": "code",
      "source": [
        "view_tensor = base_tensor.transpose(0,1) # `view_tensor` if a view of `base_tensor`. No data movement happened here\n",
        "view_tensor"
      ],
      "metadata": {
        "colab": {
          "base_uri": "https://localhost:8080/"
        },
        "id": "ZotPEpDPTU3o",
        "outputId": "b514c43c-ee67-4a4f-bd9f-83b64bbf3a93"
      },
      "execution_count": 642,
      "outputs": [
        {
          "output_type": "execute_result",
          "data": {
            "text/plain": [
              "tensor([[0, 2],\n",
              "        [1, 3]])"
            ]
          },
          "metadata": {},
          "execution_count": 642
        }
      ]
    },
    {
      "cell_type": "code",
      "source": [
        "# `view_tensor`(transpose) might be non-contiguous\n",
        "# so, let's check whether it's right or not\n",
        "view_tensor.is_contiguous()"
      ],
      "metadata": {
        "colab": {
          "base_uri": "https://localhost:8080/"
        },
        "id": "haczZbJXTaog",
        "outputId": "2a4cd96b-fd83-4610-bff4-520009babbd9"
      },
      "execution_count": 643,
      "outputs": [
        {
          "output_type": "execute_result",
          "data": {
            "text/plain": [
              "False"
            ]
          },
          "metadata": {},
          "execution_count": 643
        }
      ]
    },
    {
      "cell_type": "code",
      "source": [
        "# To get contiguous tensor, call `.contiguous()` to enfore\n",
        "# copying data when `view_tensor` is not contiguous\n",
        "copy_tensor = view_tensor.contiguous()\n",
        "copy_tensor\n",
        "\n",
        "# check now, if `copy_tensor` is contiguous or not\n",
        "copy_tensor.is_contiguous()"
      ],
      "metadata": {
        "colab": {
          "base_uri": "https://localhost:8080/"
        },
        "id": "Eo9KwJv5U-lN",
        "outputId": "c9bfaa3b-0ae9-4889-edde-cb1a630de4ee"
      },
      "execution_count": 644,
      "outputs": [
        {
          "output_type": "execute_result",
          "data": {
            "text/plain": [
              "True"
            ]
          },
          "metadata": {},
          "execution_count": 644
        }
      ]
    },
    {
      "cell_type": "markdown",
      "source": [
        "## Arithmetic Operations"
      ],
      "metadata": {
        "id": "3DbHkuDJ27_H"
      }
    },
    {
      "cell_type": "code",
      "source": [
        "# multiplication with two different datatypes or with same datatype but different bits(e.g. 16 or 32 or 64)\n",
        "\n",
        "float_16_tensor = torch.tensor([1.1,5.3,6.9], dtype=torch.float16)\n",
        "\n",
        "float_16_tensor"
      ],
      "metadata": {
        "id": "7wvaXS5TVWrY",
        "colab": {
          "base_uri": "https://localhost:8080/"
        },
        "outputId": "b6b6f354-d67b-45a8-ed6d-c490570fe4a4"
      },
      "execution_count": 645,
      "outputs": [
        {
          "output_type": "execute_result",
          "data": {
            "text/plain": [
              "tensor([1.0996, 5.3008, 6.8984], dtype=torch.float16)"
            ]
          },
          "metadata": {},
          "execution_count": 645
        }
      ]
    },
    {
      "cell_type": "code",
      "source": [
        "flotat_32_tensor = torch.tensor([4.7, 4.1,8.3], dtype=torch.float32)\n",
        "\n",
        "float_32_tensor"
      ],
      "metadata": {
        "colab": {
          "base_uri": "https://localhost:8080/"
        },
        "id": "ykm8aLKs4VQy",
        "outputId": "013cb9ee-91ce-4bd9-af3e-d8b2ea0f7d89"
      },
      "execution_count": 646,
      "outputs": [
        {
          "output_type": "execute_result",
          "data": {
            "text/plain": [
              "tensor([4.1000, 7.5000, 7.8000])"
            ]
          },
          "metadata": {},
          "execution_count": 646
        }
      ]
    },
    {
      "cell_type": "code",
      "source": [
        "float_16_tensor * float_32_tensor"
      ],
      "metadata": {
        "colab": {
          "base_uri": "https://localhost:8080/"
        },
        "id": "9__BoNdc4tR8",
        "outputId": "9be09e14-a98d-4a36-cb28-725a1c65d6bd"
      },
      "execution_count": 647,
      "outputs": [
        {
          "output_type": "execute_result",
          "data": {
            "text/plain": [
              "tensor([ 4.5084, 39.7559, 53.8078])"
            ]
          },
          "metadata": {},
          "execution_count": 647
        }
      ]
    },
    {
      "cell_type": "code",
      "source": [
        "int_32_tensor = torch.tensor([5,8,3], dtype=torch.int32)\n",
        "int_32_tensor"
      ],
      "metadata": {
        "colab": {
          "base_uri": "https://localhost:8080/"
        },
        "id": "PqvD8Q_m41-4",
        "outputId": "3b9850f7-801a-48eb-ba68-511e7ffaa1e8"
      },
      "execution_count": 648,
      "outputs": [
        {
          "output_type": "execute_result",
          "data": {
            "text/plain": [
              "tensor([5, 8, 3], dtype=torch.int32)"
            ]
          },
          "metadata": {},
          "execution_count": 648
        }
      ]
    },
    {
      "cell_type": "code",
      "source": [
        "int_32_tensor * float_32_tensor"
      ],
      "metadata": {
        "colab": {
          "base_uri": "https://localhost:8080/"
        },
        "id": "xkFXd7f35fD9",
        "outputId": "155f6583-fd8a-402d-eaa8-8ed08cee43e9"
      },
      "execution_count": 649,
      "outputs": [
        {
          "output_type": "execute_result",
          "data": {
            "text/plain": [
              "tensor([20.5000, 60.0000, 23.4000])"
            ]
          },
          "metadata": {},
          "execution_count": 649
        }
      ]
    },
    {
      "cell_type": "code",
      "source": [
        "int_64_tensor = torch.tensor([2,7,9], dtype=torch.int64)\n",
        "int_64_tensor"
      ],
      "metadata": {
        "colab": {
          "base_uri": "https://localhost:8080/"
        },
        "id": "nrIQ_VxQ5jmG",
        "outputId": "55dda928-c9f0-429c-ecd7-4b13c06e0c6e"
      },
      "execution_count": 650,
      "outputs": [
        {
          "output_type": "execute_result",
          "data": {
            "text/plain": [
              "tensor([2, 7, 9])"
            ]
          },
          "metadata": {},
          "execution_count": 650
        }
      ]
    },
    {
      "cell_type": "code",
      "source": [
        "float_32_tensor * int_64_tensor"
      ],
      "metadata": {
        "colab": {
          "base_uri": "https://localhost:8080/"
        },
        "id": "fJmXW4YO6Col",
        "outputId": "36e09057-1eaf-463b-8951-20a29bab64dd"
      },
      "execution_count": 651,
      "outputs": [
        {
          "output_type": "execute_result",
          "data": {
            "text/plain": [
              "tensor([ 8.2000, 52.5000, 70.2000])"
            ]
          },
          "metadata": {},
          "execution_count": 651
        }
      ]
    },
    {
      "cell_type": "code",
      "source": [
        "long_tensor = torch.tensor([4,6,9], dtype=torch.long)\n",
        "long_tensor"
      ],
      "metadata": {
        "colab": {
          "base_uri": "https://localhost:8080/"
        },
        "id": "njjfl_CF6IHG",
        "outputId": "e03379d1-3151-4e0f-a815-418c9ecc651f"
      },
      "execution_count": 652,
      "outputs": [
        {
          "output_type": "execute_result",
          "data": {
            "text/plain": [
              "tensor([4, 6, 9])"
            ]
          },
          "metadata": {},
          "execution_count": 652
        }
      ]
    },
    {
      "cell_type": "code",
      "source": [
        "long_tensor * float_32_tensor"
      ],
      "metadata": {
        "colab": {
          "base_uri": "https://localhost:8080/"
        },
        "id": "m_CXAQ2n6ltN",
        "outputId": "e6c82621-4700-4c82-8ed4-c1d246af1020"
      },
      "execution_count": 653,
      "outputs": [
        {
          "output_type": "execute_result",
          "data": {
            "text/plain": [
              "tensor([16.4000, 45.0000, 70.2000])"
            ]
          },
          "metadata": {},
          "execution_count": 653
        }
      ]
    },
    {
      "cell_type": "markdown",
      "source": [
        "## Getting information from tensors (tensor attributes)\n",
        "1.   Tensors not right datatype - to do that get datatype from a tensor, can use `tensor.dtype`\n",
        "2.   Tensors not right shape - to get shape from a tensor, can use `tensor.shape`\n",
        "3.   Tensors not on the right device - to get device from a tensor, can use `tensor.device`"
      ],
      "metadata": {
        "id": "9eK6c9JA-Qlp"
      }
    },
    {
      "cell_type": "code",
      "source": [
        "# Create a tensor\n",
        "some_tensor = torch.rand(3,4)\n",
        "some_tensor"
      ],
      "metadata": {
        "colab": {
          "base_uri": "https://localhost:8080/"
        },
        "id": "5n37UBXp7nnx",
        "outputId": "fb698cbd-062a-4ae5-a0b8-3b391d0f38bd"
      },
      "execution_count": 654,
      "outputs": [
        {
          "output_type": "execute_result",
          "data": {
            "text/plain": [
              "tensor([[0.4698, 0.2423, 0.7071, 0.9328],\n",
              "        [0.9821, 0.0437, 0.7803, 0.3718],\n",
              "        [0.4777, 0.4237, 0.9309, 0.8627]])"
            ]
          },
          "metadata": {},
          "execution_count": 654
        }
      ]
    },
    {
      "cell_type": "code",
      "source": [
        "# Find out details anout some tensor\n",
        "print(some_tensor)\n",
        "print(f\"DataType of tensor: {some_tensor.dtype}\")\n",
        "print(f\"Shape of tensor: {some_tensor.shape}\") # there are two way to get shape or size of a tensor, 1. with attribute (e.g. some_tensor.shape) 2. with function (e.g. some_tensor.size())\n",
        "print(f\"Device of tensor is on: {some_tensor.device}\")"
      ],
      "metadata": {
        "colab": {
          "base_uri": "https://localhost:8080/"
        },
        "id": "RWp4NcmB-aVX",
        "outputId": "cc5271ae-7b79-4b49-a249-f5521e640398"
      },
      "execution_count": 655,
      "outputs": [
        {
          "output_type": "stream",
          "name": "stdout",
          "text": [
            "tensor([[0.4698, 0.2423, 0.7071, 0.9328],\n",
            "        [0.9821, 0.0437, 0.7803, 0.3718],\n",
            "        [0.4777, 0.4237, 0.9309, 0.8627]])\n",
            "DataType of tensor: torch.float32\n",
            "Shape of tensor: torch.Size([3, 4])\n",
            "Device of tensor is on: cpu\n"
          ]
        }
      ]
    },
    {
      "cell_type": "code",
      "source": [
        "check = torch.rand(3,4)\n",
        "check"
      ],
      "metadata": {
        "colab": {
          "base_uri": "https://localhost:8080/"
        },
        "id": "smMcW8lV_gp-",
        "outputId": "a92d6839-a1f1-4e61-c3e8-dbf9af632dc6"
      },
      "execution_count": 656,
      "outputs": [
        {
          "output_type": "execute_result",
          "data": {
            "text/plain": [
              "tensor([[0.0334, 0.9505, 0.4889, 0.9365],\n",
              "        [0.0555, 0.0164, 0.4955, 0.6731],\n",
              "        [0.3977, 0.4466, 0.4212, 0.7934]])"
            ]
          },
          "metadata": {},
          "execution_count": 656
        }
      ]
    },
    {
      "cell_type": "code",
      "source": [
        "check.dtype\n"
      ],
      "metadata": {
        "colab": {
          "base_uri": "https://localhost:8080/"
        },
        "id": "_Tyjip5KBIVH",
        "outputId": "18efe715-8022-4a62-c3a8-11511b0b2333"
      },
      "execution_count": 657,
      "outputs": [
        {
          "output_type": "execute_result",
          "data": {
            "text/plain": [
              "torch.float32"
            ]
          },
          "metadata": {},
          "execution_count": 657
        }
      ]
    },
    {
      "cell_type": "code",
      "source": [
        "deck = check.type(torch.float16)\n",
        "deck.dtype"
      ],
      "metadata": {
        "colab": {
          "base_uri": "https://localhost:8080/"
        },
        "id": "-5baBnedBJ9u",
        "outputId": "9dc27210-a2c3-44f3-cdd9-b7616d86706a"
      },
      "execution_count": 658,
      "outputs": [
        {
          "output_type": "execute_result",
          "data": {
            "text/plain": [
              "torch.float16"
            ]
          },
          "metadata": {},
          "execution_count": 658
        }
      ]
    },
    {
      "cell_type": "code",
      "source": [
        "deck"
      ],
      "metadata": {
        "colab": {
          "base_uri": "https://localhost:8080/"
        },
        "id": "tf3qUA-lBR79",
        "outputId": "ac7e90d6-9b76-4f0c-9eef-2b00c86a52fe"
      },
      "execution_count": 659,
      "outputs": [
        {
          "output_type": "execute_result",
          "data": {
            "text/plain": [
              "tensor([[0.0334, 0.9507, 0.4890, 0.9365],\n",
              "        [0.0555, 0.0164, 0.4956, 0.6729],\n",
              "        [0.3977, 0.4465, 0.4211, 0.7935]], dtype=torch.float16)"
            ]
          },
          "metadata": {},
          "execution_count": 659
        }
      ]
    },
    {
      "cell_type": "markdown",
      "source": [
        "### Manipulating Tensors (tensor operations)\n",
        "\n",
        "Tensor operations include:\n",
        "* Addition\n",
        "* Subtraction\n",
        "* Multiplication (element-wise)\n",
        "* Division\n",
        "* Matrix Multiplication"
      ],
      "metadata": {
        "id": "8hOWuHDlCGKG"
      }
    },
    {
      "cell_type": "code",
      "source": [
        "# Create a tensor and add 10 to it\n",
        "tensor = torch.tensor([1,2,3])\n",
        "tensor + 10"
      ],
      "metadata": {
        "colab": {
          "base_uri": "https://localhost:8080/"
        },
        "id": "ecgEXNdaBtZO",
        "outputId": "d16e1525-20d3-4acb-e87d-ac02343b134f"
      },
      "execution_count": 660,
      "outputs": [
        {
          "output_type": "execute_result",
          "data": {
            "text/plain": [
              "tensor([11, 12, 13])"
            ]
          },
          "metadata": {},
          "execution_count": 660
        }
      ]
    },
    {
      "cell_type": "code",
      "source": [
        "# Subtract 10\n",
        "tensor - 10"
      ],
      "metadata": {
        "colab": {
          "base_uri": "https://localhost:8080/"
        },
        "id": "Xrhzjp2vDABi",
        "outputId": "cc13ba12-dc2c-49c7-d714-335484b51003"
      },
      "execution_count": 661,
      "outputs": [
        {
          "output_type": "execute_result",
          "data": {
            "text/plain": [
              "tensor([-9, -8, -7])"
            ]
          },
          "metadata": {},
          "execution_count": 661
        }
      ]
    },
    {
      "cell_type": "code",
      "source": [
        "# Multiply tensor by 10\n",
        "tensor * 10"
      ],
      "metadata": {
        "colab": {
          "base_uri": "https://localhost:8080/"
        },
        "id": "j1zd57FBCrSa",
        "outputId": "67bafe42-76f5-4d9f-d477-136527f047be"
      },
      "execution_count": 662,
      "outputs": [
        {
          "output_type": "execute_result",
          "data": {
            "text/plain": [
              "tensor([10, 20, 30])"
            ]
          },
          "metadata": {},
          "execution_count": 662
        }
      ]
    },
    {
      "cell_type": "code",
      "source": [
        "tensor"
      ],
      "metadata": {
        "colab": {
          "base_uri": "https://localhost:8080/"
        },
        "id": "fIWcST7gC1Fe",
        "outputId": "df9b6fb7-8bad-435d-fbd0-1e3b9c9223c2"
      },
      "execution_count": 663,
      "outputs": [
        {
          "output_type": "execute_result",
          "data": {
            "text/plain": [
              "tensor([1, 2, 3])"
            ]
          },
          "metadata": {},
          "execution_count": 663
        }
      ]
    },
    {
      "cell_type": "code",
      "source": [
        "# Try out PyTorch in-built functions\n",
        "torch.mul(tensor, 10)"
      ],
      "metadata": {
        "colab": {
          "base_uri": "https://localhost:8080/"
        },
        "id": "uUlPU5FzC60w",
        "outputId": "f80fa6e8-2286-4580-a4b6-dda068332c46"
      },
      "execution_count": 664,
      "outputs": [
        {
          "output_type": "execute_result",
          "data": {
            "text/plain": [
              "tensor([10, 20, 30])"
            ]
          },
          "metadata": {},
          "execution_count": 664
        }
      ]
    },
    {
      "cell_type": "code",
      "source": [
        "torch.add(tensor,10)"
      ],
      "metadata": {
        "colab": {
          "base_uri": "https://localhost:8080/"
        },
        "id": "bujKYw3aDQJn",
        "outputId": "865f0dbf-4bbe-4024-e105-5d56f00a70d2"
      },
      "execution_count": 665,
      "outputs": [
        {
          "output_type": "execute_result",
          "data": {
            "text/plain": [
              "tensor([11, 12, 13])"
            ]
          },
          "metadata": {},
          "execution_count": 665
        }
      ]
    },
    {
      "cell_type": "markdown",
      "source": [
        "### Matrix multiplication (Part #1)\n",
        "\n",
        "Two main ways of performing multiplication in neural networks and deep learning.\n",
        "\n",
        "1. Element-wise Multiplication\n",
        "2. Matrix Multiplication (dot prouct)\n",
        "\n",
        "More information on multiplying matrices - https://www.mathsisfun.com/algebra/matrix-multiplying.html#"
      ],
      "metadata": {
        "id": "Hsg8A5klEgyU"
      }
    },
    {
      "cell_type": "code",
      "source": [
        "# Element wise multiplication\n",
        "print(tensor, \"*\", tensor)\n",
        "print(f\"Equals: {tensor * tensor}\")"
      ],
      "metadata": {
        "colab": {
          "base_uri": "https://localhost:8080/"
        },
        "id": "CVxqU1yvDYDo",
        "outputId": "27bb4817-0f01-4e77-974e-721e1ec8b38b"
      },
      "execution_count": 666,
      "outputs": [
        {
          "output_type": "stream",
          "name": "stdout",
          "text": [
            "tensor([1, 2, 3]) * tensor([1, 2, 3])\n",
            "Equals: tensor([1, 4, 9])\n"
          ]
        }
      ]
    },
    {
      "cell_type": "code",
      "source": [
        "# Matrix Multiplication by torch\n",
        "torch.matmul(tensor, tensor)"
      ],
      "metadata": {
        "colab": {
          "base_uri": "https://localhost:8080/"
        },
        "id": "yH-CEAF2PvmZ",
        "outputId": "4d953c22-5e1f-4d99-f83e-5ab10545b82a"
      },
      "execution_count": 667,
      "outputs": [
        {
          "output_type": "execute_result",
          "data": {
            "text/plain": [
              "tensor(14)"
            ]
          },
          "metadata": {},
          "execution_count": 667
        }
      ]
    },
    {
      "cell_type": "code",
      "source": [
        "# Matrix Multiplication by hand\n",
        "1*1 + 2*2 + 3*3"
      ],
      "metadata": {
        "colab": {
          "base_uri": "https://localhost:8080/"
        },
        "id": "43eZNeXZQXsE",
        "outputId": "118c1edb-b665-4da7-90b3-109f204dd001"
      },
      "execution_count": 668,
      "outputs": [
        {
          "output_type": "execute_result",
          "data": {
            "text/plain": [
              "14"
            ]
          },
          "metadata": {},
          "execution_count": 668
        }
      ]
    },
    {
      "cell_type": "code",
      "source": [
        "%%time\n",
        "value = 0\n",
        "for i in range(len(tensor)):\n",
        "  value += tensor[0] * tensor[0]\n",
        "print(value)"
      ],
      "metadata": {
        "colab": {
          "base_uri": "https://localhost:8080/"
        },
        "id": "3CcVBUt0Q2Ej",
        "outputId": "8c1a5f1b-fcea-45fb-e96e-4a2358c6f5b1"
      },
      "execution_count": 669,
      "outputs": [
        {
          "output_type": "stream",
          "name": "stdout",
          "text": [
            "tensor(3)\n",
            "CPU times: user 861 µs, sys: 752 µs, total: 1.61 ms\n",
            "Wall time: 2.02 ms\n"
          ]
        }
      ]
    },
    {
      "cell_type": "code",
      "source": [
        "%%time\n",
        "torch.matmul(tensor, tensor)"
      ],
      "metadata": {
        "id": "g0FTLjlrRZqT",
        "colab": {
          "base_uri": "https://localhost:8080/"
        },
        "outputId": "02835acd-c3c3-4767-9827-a4be879a80fa"
      },
      "execution_count": 670,
      "outputs": [
        {
          "output_type": "stream",
          "name": "stdout",
          "text": [
            "CPU times: user 393 µs, sys: 0 ns, total: 393 µs\n",
            "Wall time: 597 µs\n"
          ]
        },
        {
          "output_type": "execute_result",
          "data": {
            "text/plain": [
              "tensor(14)"
            ]
          },
          "metadata": {},
          "execution_count": 670
        }
      ]
    },
    {
      "cell_type": "markdown",
      "source": [
        "### Matrix Multiplication (Part #2)\n",
        "\n",
        "There are two main rules that performing matrix multiplication needs to stisfy:\n",
        "1.  The **inner dimensions** must match:\n",
        "    *   `(3,2) @ (3,2)` won't work\n",
        "    *   `(2,3) @ (3,2)` will work\n",
        "    *   `(3,2) @ (2,3)` will work\n",
        "\n",
        "    ***Note:*** `@` is a attribute in tensor for multiplying two tensor whereas `tensor.matmul()` is a function. e.g. `tensor1 @ tensor2` `==` `torch.matmul(tensor1, tensor2)`\n",
        "2.  The resulting matrix has the shape of the **outer dimensions**:\n",
        "    *   `(2,3) @ (3,2)` -> `(2,2)`\n",
        "    *   `(3,2) @ (2,3)` -> `(3,3)`\n",
        "\n",
        "#### One of the main errors in matrix multiplication is shape error"
      ],
      "metadata": {
        "id": "KD9D692wfsY-"
      }
    },
    {
      "cell_type": "code",
      "source": [
        "torch.matmul(torch.rand(3,2), torch.rand(3,2)) # error occurs"
      ],
      "metadata": {
        "colab": {
          "base_uri": "https://localhost:8080/",
          "height": 144
        },
        "id": "MG5CwIXhe_Ba",
        "outputId": "8a2a58bb-9ba3-4b9f-9a4a-7c8d4b1fb38f"
      },
      "execution_count": 671,
      "outputs": [
        {
          "output_type": "error",
          "ename": "RuntimeError",
          "evalue": "mat1 and mat2 shapes cannot be multiplied (3x2 and 3x2)",
          "traceback": [
            "\u001b[0;31m---------------------------------------------------------------------------\u001b[0m",
            "\u001b[0;31mRuntimeError\u001b[0m                              Traceback (most recent call last)",
            "\u001b[0;32m<ipython-input-671-2ce3796d01ab>\u001b[0m in \u001b[0;36m<cell line: 1>\u001b[0;34m()\u001b[0m\n\u001b[0;32m----> 1\u001b[0;31m \u001b[0mtorch\u001b[0m\u001b[0;34m.\u001b[0m\u001b[0mmatmul\u001b[0m\u001b[0;34m(\u001b[0m\u001b[0mtorch\u001b[0m\u001b[0;34m.\u001b[0m\u001b[0mrand\u001b[0m\u001b[0;34m(\u001b[0m\u001b[0;36m3\u001b[0m\u001b[0;34m,\u001b[0m\u001b[0;36m2\u001b[0m\u001b[0;34m)\u001b[0m\u001b[0;34m,\u001b[0m \u001b[0mtorch\u001b[0m\u001b[0;34m.\u001b[0m\u001b[0mrand\u001b[0m\u001b[0;34m(\u001b[0m\u001b[0;36m3\u001b[0m\u001b[0;34m,\u001b[0m\u001b[0;36m2\u001b[0m\u001b[0;34m)\u001b[0m\u001b[0;34m)\u001b[0m \u001b[0;31m# error occurs\u001b[0m\u001b[0;34m\u001b[0m\u001b[0;34m\u001b[0m\u001b[0m\n\u001b[0m",
            "\u001b[0;31mRuntimeError\u001b[0m: mat1 and mat2 shapes cannot be multiplied (3x2 and 3x2)"
          ]
        }
      ]
    },
    {
      "cell_type": "code",
      "source": [
        "torch.matmul(torch.rand(2,3), torch.rand(3,2))"
      ],
      "metadata": {
        "colab": {
          "base_uri": "https://localhost:8080/"
        },
        "id": "idsqlxdbi0y1",
        "outputId": "ba29fdea-b340-4746-d0a2-9f4a89a78dc7"
      },
      "execution_count": 672,
      "outputs": [
        {
          "output_type": "execute_result",
          "data": {
            "text/plain": [
              "tensor([[0.7798, 1.2594],\n",
              "        [0.4364, 1.0953]])"
            ]
          },
          "metadata": {},
          "execution_count": 672
        }
      ]
    },
    {
      "cell_type": "code",
      "source": [
        "torch.matmul(torch.rand(3,2), torch.rand(2,3))"
      ],
      "metadata": {
        "colab": {
          "base_uri": "https://localhost:8080/"
        },
        "id": "lSDSJAIVki07",
        "outputId": "7d6aed94-e4fe-407e-d0c6-ef8a9cf0b710"
      },
      "execution_count": 673,
      "outputs": [
        {
          "output_type": "execute_result",
          "data": {
            "text/plain": [
              "tensor([[0.6824, 0.4484, 0.5556],\n",
              "        [0.5512, 0.3779, 0.5227],\n",
              "        [0.2423, 0.1542, 0.1734]])"
            ]
          },
          "metadata": {},
          "execution_count": 673
        }
      ]
    },
    {
      "cell_type": "code",
      "source": [
        "torch.matmul(torch.rand(4,5), torch.rand(5,4))"
      ],
      "metadata": {
        "colab": {
          "base_uri": "https://localhost:8080/"
        },
        "id": "d6iOTamHk59s",
        "outputId": "f0261641-7766-48da-b6ad-06d0e3005c23"
      },
      "execution_count": 674,
      "outputs": [
        {
          "output_type": "execute_result",
          "data": {
            "text/plain": [
              "tensor([[1.0864, 0.7425, 1.4644, 0.7029],\n",
              "        [0.9828, 0.4984, 0.9217, 0.9980],\n",
              "        [1.4113, 0.8993, 1.6866, 1.2440],\n",
              "        [1.2766, 0.9021, 1.6972, 1.1257]])"
            ]
          },
          "metadata": {},
          "execution_count": 674
        }
      ]
    },
    {
      "cell_type": "code",
      "source": [
        "torch.matmul(torch.rand(10,4), torch.rand(4, 5))"
      ],
      "metadata": {
        "colab": {
          "base_uri": "https://localhost:8080/"
        },
        "id": "KGOYvozhllNE",
        "outputId": "9cf37ba9-83e9-410e-fab1-d4858e1a1be1"
      },
      "execution_count": 675,
      "outputs": [
        {
          "output_type": "execute_result",
          "data": {
            "text/plain": [
              "tensor([[1.1028, 1.3362, 1.0843, 0.8807, 1.0018],\n",
              "        [1.1107, 1.0134, 1.3036, 0.9260, 1.0747],\n",
              "        [0.5852, 0.5965, 0.2087, 0.1756, 0.6367],\n",
              "        [1.0282, 1.2990, 0.7843, 0.4186, 1.3231],\n",
              "        [1.1614, 1.4059, 1.1258, 0.9872, 0.9597],\n",
              "        [1.3230, 1.1435, 1.3003, 1.0135, 1.2001],\n",
              "        [0.6704, 0.8710, 0.7959, 0.4568, 0.8315],\n",
              "        [0.5663, 0.4494, 0.6503, 0.2666, 0.8126],\n",
              "        [1.3198, 1.1758, 1.2320, 0.8544, 1.3684],\n",
              "        [1.2538, 1.0933, 1.4957, 1.0438, 1.2273]])"
            ]
          },
          "metadata": {},
          "execution_count": 675
        }
      ]
    },
    {
      "cell_type": "code",
      "source": [
        "# if inner dimension match but different outer dimension\n",
        "torch.matmul(torch.rand(10,4), torch.rand(4, 6))"
      ],
      "metadata": {
        "colab": {
          "base_uri": "https://localhost:8080/"
        },
        "id": "xk8l3FA4lxRb",
        "outputId": "a0dc4087-7c62-47c2-b31e-3ed6525cacdb"
      },
      "execution_count": 676,
      "outputs": [
        {
          "output_type": "execute_result",
          "data": {
            "text/plain": [
              "tensor([[1.1508, 1.4555, 2.0728, 1.8408, 1.0580, 0.3311],\n",
              "        [1.1719, 1.9057, 2.5913, 2.2189, 1.1299, 0.2871],\n",
              "        [1.0223, 1.1017, 1.7400, 1.3584, 1.1770, 0.2684],\n",
              "        [0.5208, 1.1648, 1.6769, 1.2260, 0.7497, 0.0803],\n",
              "        [1.1336, 1.3380, 1.8387, 1.6352, 1.0283, 0.3007],\n",
              "        [0.7789, 1.0120, 1.4323, 1.2163, 0.7726, 0.2013],\n",
              "        [1.0032, 1.1820, 1.6613, 1.5186, 0.8739, 0.2937],\n",
              "        [0.7556, 1.6020, 2.1163, 1.7423, 0.7915, 0.1439],\n",
              "        [0.8214, 1.5508, 2.0199, 1.6928, 0.8120, 0.1623],\n",
              "        [0.9223, 1.5453, 2.2039, 1.7767, 1.0311, 0.2163]])"
            ]
          },
          "metadata": {},
          "execution_count": 676
        }
      ]
    },
    {
      "cell_type": "markdown",
      "source": [
        "### One of the most common errors in deep learning: shape errors"
      ],
      "metadata": {
        "id": "lOSBAtQwoN9O"
      }
    },
    {
      "cell_type": "markdown",
      "source": [
        "### Matrix Multiplication (Part #3: Dealing with tensor shape errors)\n"
      ],
      "metadata": {
        "id": "klE0pJe33pUZ"
      }
    },
    {
      "cell_type": "code",
      "source": [
        "# Shapes for matrix multiplication\n",
        "tensor_A = torch.tensor([[1,2],\n",
        "                         [3,4],\n",
        "                         [5,6]])\n",
        "tensor_B = torch.tensor([[7,10],\n",
        "                         [8,11],\n",
        "                         [9,12]])\n",
        "\n",
        "#torch.mm(tensor_A, tensor_B) # torch.mm is the same as torch.matmul (it's as an alias for writing less code)\n",
        "torch.matmul(tensor_A, tensor_B)"
      ],
      "metadata": {
        "colab": {
          "base_uri": "https://localhost:8080/",
          "height": 180
        },
        "id": "kgYxeIih39of",
        "outputId": "43f1fd2d-c3d8-4487-bda1-4b01fac84903"
      },
      "execution_count": 680,
      "outputs": [
        {
          "output_type": "error",
          "ename": "RuntimeError",
          "evalue": "mat1 and mat2 shapes cannot be multiplied (3x2 and 3x2)",
          "traceback": [
            "\u001b[0;31m---------------------------------------------------------------------------\u001b[0m",
            "\u001b[0;31mRuntimeError\u001b[0m                              Traceback (most recent call last)",
            "\u001b[0;32m<ipython-input-680-d405c4ee3609>\u001b[0m in \u001b[0;36m<cell line: 10>\u001b[0;34m()\u001b[0m\n\u001b[1;32m      8\u001b[0m \u001b[0;34m\u001b[0m\u001b[0m\n\u001b[1;32m      9\u001b[0m \u001b[0;31m#torch.mm(tensor_A, tensor_B) # torch.mm is the same as torch.matmul (it's as an alias for writing less code)\u001b[0m\u001b[0;34m\u001b[0m\u001b[0;34m\u001b[0m\u001b[0m\n\u001b[0;32m---> 10\u001b[0;31m \u001b[0mtorch\u001b[0m\u001b[0;34m.\u001b[0m\u001b[0mmatmul\u001b[0m\u001b[0;34m(\u001b[0m\u001b[0mtensor_A\u001b[0m\u001b[0;34m,\u001b[0m \u001b[0mtensor_B\u001b[0m\u001b[0;34m)\u001b[0m\u001b[0;34m\u001b[0m\u001b[0;34m\u001b[0m\u001b[0m\n\u001b[0m",
            "\u001b[0;31mRuntimeError\u001b[0m: mat1 and mat2 shapes cannot be multiplied (3x2 and 3x2)"
          ]
        }
      ]
    },
    {
      "cell_type": "code",
      "source": [
        "tensor_A.shape, tensor_B.shape"
      ],
      "metadata": {
        "colab": {
          "base_uri": "https://localhost:8080/"
        },
        "id": "ma0K8fI64WRI",
        "outputId": "dfa2909e-8469-40b2-f7e0-c55882fbeaa4"
      },
      "execution_count": 681,
      "outputs": [
        {
          "output_type": "execute_result",
          "data": {
            "text/plain": [
              "(torch.Size([3, 2]), torch.Size([3, 2]))"
            ]
          },
          "metadata": {},
          "execution_count": 681
        }
      ]
    },
    {
      "cell_type": "markdown",
      "source": [
        "To fix our tensor shape issues, we can manipulate the shape of one of our tensors using **transpose**.\n",
        "\n",
        "**Note:** A **transpose** switches the axes or dimensions of a given tensor"
      ],
      "metadata": {
        "id": "epP9UNsn5S4K"
      }
    },
    {
      "cell_type": "code",
      "source": [
        "tensor_B, tensor_B.shape"
      ],
      "metadata": {
        "colab": {
          "base_uri": "https://localhost:8080/"
        },
        "id": "YTytkZMh6NBn",
        "outputId": "7acaa8a1-6c7a-422d-c6f4-751695da2fa6"
      },
      "execution_count": 686,
      "outputs": [
        {
          "output_type": "execute_result",
          "data": {
            "text/plain": [
              "(tensor([[ 7, 10],\n",
              "         [ 8, 11],\n",
              "         [ 9, 12]]),\n",
              " torch.Size([3, 2]))"
            ]
          },
          "metadata": {},
          "execution_count": 686
        }
      ]
    },
    {
      "cell_type": "code",
      "source": [
        "tensor_B.t() # transpose via function"
      ],
      "metadata": {
        "colab": {
          "base_uri": "https://localhost:8080/"
        },
        "id": "HKlFUDpc_sRe",
        "outputId": "e6c21d9c-a77f-486c-cd4a-90da79e52387"
      },
      "execution_count": 699,
      "outputs": [
        {
          "output_type": "execute_result",
          "data": {
            "text/plain": [
              "tensor([[ 7,  8,  9],\n",
              "        [10, 11, 12]])"
            ]
          },
          "metadata": {},
          "execution_count": 699
        }
      ]
    },
    {
      "cell_type": "code",
      "source": [
        "tensor_B.T, tensor_B.T.shape #tranpose via attribute"
      ],
      "metadata": {
        "colab": {
          "base_uri": "https://localhost:8080/"
        },
        "id": "zHor28N15LLi",
        "outputId": "3f7fbe87-cd3e-4b81-bd69-5f568f1bb302"
      },
      "execution_count": 698,
      "outputs": [
        {
          "output_type": "execute_result",
          "data": {
            "text/plain": [
              "(tensor([[ 7,  8,  9],\n",
              "         [10, 11, 12]]),\n",
              " torch.Size([2, 3]))"
            ]
          },
          "metadata": {},
          "execution_count": 698
        }
      ]
    },
    {
      "cell_type": "code",
      "source": [
        "# second approach to make transpose through function\n",
        "torch.transpose(tensor_B, 0, 1) # reference:: https://pytorch.org/docs/stable/generated/torch.transpose.html"
      ],
      "metadata": {
        "colab": {
          "base_uri": "https://localhost:8080/"
        },
        "id": "x9Ku3HOT57sS",
        "outputId": "573a4d24-b274-4865-f031-280dc32614bd"
      },
      "execution_count": 691,
      "outputs": [
        {
          "output_type": "execute_result",
          "data": {
            "text/plain": [
              "tensor([[ 7,  8,  9],\n",
              "        [10, 11, 12]])"
            ]
          },
          "metadata": {},
          "execution_count": 691
        }
      ]
    },
    {
      "cell_type": "code",
      "source": [
        "# The matrix multiplication operation works when tensorB is transposed\n",
        "print(f\"Original shapes: tensor_A = {tensor_A.shape}, tensor_B = {tensor_B.shape}\")\n",
        "print(f\"New shapes: tensor_A = {tensor_A.shape} (same as above), tensor_B.T = {tensor_B.T.shape}\")\n",
        "print(f\"Multiplying: {tensor_A.shape} @ {tensor_B.T.shape} <- inner dimensions must match\")\n",
        "print(f\"Output: \\n\")\n",
        "output = torch.matmul(tensor_A, tensor_B.T)\n",
        "print(output)\n",
        "print(f\"\\nOutput shape: {output.shape}\")"
      ],
      "metadata": {
        "colab": {
          "base_uri": "https://localhost:8080/"
        },
        "id": "Hp5HQ2Fy59SI",
        "outputId": "197fd5d4-7fcd-49ee-d6e5-b53c2e0ca337"
      },
      "execution_count": 694,
      "outputs": [
        {
          "output_type": "stream",
          "name": "stdout",
          "text": [
            "Original shapes: tensor_A = torch.Size([3, 2]), tensor_B = torch.Size([3, 2])\n",
            "New shapes: tensor_A = torch.Size([3, 2]) (same as above), tensor_B.T = torch.Size([2, 3])\n",
            "Multiplying: torch.Size([3, 2]) @ torch.Size([2, 3]) <- inner dimensions must match\n",
            "Output: \n",
            "\n",
            "tensor([[ 27,  30,  33],\n",
            "        [ 61,  68,  75],\n",
            "        [ 95, 106, 117]])\n",
            "\n",
            "Output shape: torch.Size([3, 3])\n"
          ]
        }
      ]
    },
    {
      "cell_type": "code",
      "source": [],
      "metadata": {
        "id": "DCvyY-gf7hyn"
      },
      "execution_count": 697,
      "outputs": []
    },
    {
      "cell_type": "code",
      "source": [],
      "metadata": {
        "id": "UOcc4dI4_hNZ"
      },
      "execution_count": null,
      "outputs": []
    }
  ],
  "metadata": {
    "colab": {
      "provenance": []
    },
    "kernelspec": {
      "display_name": "Python 3",
      "name": "python3"
    },
    "language_info": {
      "name": "python"
    }
  },
  "nbformat": 4,
  "nbformat_minor": 0
}