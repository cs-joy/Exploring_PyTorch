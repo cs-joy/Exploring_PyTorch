{
  "cells": [
    {
      "cell_type": "markdown",
      "metadata": {
        "id": "-buiuu7sCwy3"
      },
      "source": [
        "### PyTorch Fundamentals"
      ]
    },
    {
      "cell_type": "code",
      "execution_count": 1,
      "metadata": {
        "colab": {
          "base_uri": "https://localhost:8080/"
        },
        "id": "7bFyap-6C3Tr",
        "outputId": "4ab44627-0764-4126-d425-3dae7322238e"
      },
      "outputs": [
        {
          "output_type": "stream",
          "name": "stdout",
          "text": [
            "2.2.1+cu121\n"
          ]
        }
      ],
      "source": [
        "import torch\n",
        "import pandas as pd\n",
        "import numpy as np\n",
        "import matplotlib.pyplot as plt\n",
        "print(torch.__version__)"
      ]
    },
    {
      "cell_type": "markdown",
      "metadata": {
        "id": "uElvucnwEP3M"
      },
      "source": [
        "### Introduction to Tensors\n",
        "\n",
        "### Creating tensors\n",
        "\n",
        "PyTorch tensors are created using `torch.Tensor()` = https://pytorch.org/docs/stable/tensors.html"
      ]
    },
    {
      "cell_type": "code",
      "execution_count": 2,
      "metadata": {
        "colab": {
          "base_uri": "https://localhost:8080/"
        },
        "id": "p8OA0B6eEQ4q",
        "outputId": "990b9c02-2a12-4356-fe47-deebd82f956b"
      },
      "outputs": [
        {
          "output_type": "execute_result",
          "data": {
            "text/plain": [
              "tensor(7)"
            ]
          },
          "metadata": {},
          "execution_count": 2
        }
      ],
      "source": [
        "# scalar\n",
        "scalar = torch.tensor(7)\n",
        "scalar"
      ]
    },
    {
      "cell_type": "code",
      "execution_count": 3,
      "metadata": {
        "colab": {
          "base_uri": "https://localhost:8080/"
        },
        "id": "v0_irmvAEhH6",
        "outputId": "3427bc13-4a82-4eeb-e1ae-b975fa87d259"
      },
      "outputs": [
        {
          "output_type": "execute_result",
          "data": {
            "text/plain": [
              "0"
            ]
          },
          "metadata": {},
          "execution_count": 3
        }
      ],
      "source": [
        "# number of dimension : https://pytorch.org/docs/stable/generated/torch.Tensor.ndim.html\n",
        "\n",
        "scalar.ndim"
      ]
    },
    {
      "cell_type": "code",
      "execution_count": 4,
      "metadata": {
        "colab": {
          "base_uri": "https://localhost:8080/"
        },
        "id": "R024mjQ6HVxv",
        "outputId": "4fc1d6ba-b1e6-48e1-88d1-b87c1c2fbfa9"
      },
      "outputs": [
        {
          "output_type": "execute_result",
          "data": {
            "text/plain": [
              "7"
            ]
          },
          "metadata": {},
          "execution_count": 4
        }
      ],
      "source": [
        "# Get tensor back as Python int\n",
        "\n",
        "scalar.item()"
      ]
    },
    {
      "cell_type": "code",
      "execution_count": 5,
      "metadata": {
        "colab": {
          "base_uri": "https://localhost:8080/"
        },
        "id": "MtmlilZeHjUj",
        "outputId": "376a798e-c8ba-4764-def3-c41f38f84d02"
      },
      "outputs": [
        {
          "output_type": "execute_result",
          "data": {
            "text/plain": [
              "tensor([7, 7])"
            ]
          },
          "metadata": {},
          "execution_count": 5
        }
      ],
      "source": [
        "# Vector\n",
        "vector = torch.tensor([7, 7])\n",
        "vector"
      ]
    },
    {
      "cell_type": "code",
      "execution_count": 6,
      "metadata": {
        "colab": {
          "base_uri": "https://localhost:8080/"
        },
        "id": "4iWK1VoKorqW",
        "outputId": "c85326a5-32e6-4129-cbe8-d52f5083ea55"
      },
      "outputs": [
        {
          "output_type": "execute_result",
          "data": {
            "text/plain": [
              "1"
            ]
          },
          "metadata": {},
          "execution_count": 6
        }
      ],
      "source": [
        "vector.ndim"
      ]
    },
    {
      "cell_type": "code",
      "execution_count": 7,
      "metadata": {
        "colab": {
          "base_uri": "https://localhost:8080/"
        },
        "id": "-arbdcU8pvtk",
        "outputId": "f8c7ab6a-dcb3-4cd5-8763-a3251bbc50d7"
      },
      "outputs": [
        {
          "output_type": "execute_result",
          "data": {
            "text/plain": [
              "torch.Size([2])"
            ]
          },
          "metadata": {},
          "execution_count": 7
        }
      ],
      "source": [
        "vector.shape"
      ]
    },
    {
      "cell_type": "code",
      "execution_count": 8,
      "metadata": {
        "colab": {
          "base_uri": "https://localhost:8080/"
        },
        "id": "aXgWyyKdpxv1",
        "outputId": "ce62d3dd-e48f-4a6d-dc17-054c0e2a244d"
      },
      "outputs": [
        {
          "output_type": "execute_result",
          "data": {
            "text/plain": [
              "tensor([[2, 4],\n",
              "        [1, 3]])"
            ]
          },
          "metadata": {},
          "execution_count": 8
        }
      ],
      "source": [
        "# MATRIX\n",
        "MATRIX = torch.tensor([[2,4],\n",
        "                       [1,3]])\n",
        "MATRIX"
      ]
    },
    {
      "cell_type": "code",
      "execution_count": 9,
      "metadata": {
        "colab": {
          "base_uri": "https://localhost:8080/"
        },
        "id": "VSWWiuxKqGGv",
        "outputId": "82efa560-6be5-4975-f479-99faeb6b72d1"
      },
      "outputs": [
        {
          "output_type": "execute_result",
          "data": {
            "text/plain": [
              "2"
            ]
          },
          "metadata": {},
          "execution_count": 9
        }
      ],
      "source": [
        "MATRIX.ndim"
      ]
    },
    {
      "cell_type": "code",
      "execution_count": 10,
      "metadata": {
        "colab": {
          "base_uri": "https://localhost:8080/"
        },
        "id": "ete9DTOvqO3F",
        "outputId": "488b7448-fd57-438d-c204-324ecf5888fe"
      },
      "outputs": [
        {
          "output_type": "execute_result",
          "data": {
            "text/plain": [
              "tensor([2, 4])"
            ]
          },
          "metadata": {},
          "execution_count": 10
        }
      ],
      "source": [
        "MATRIX[0]"
      ]
    },
    {
      "cell_type": "code",
      "execution_count": 11,
      "metadata": {
        "colab": {
          "base_uri": "https://localhost:8080/"
        },
        "id": "Pr9wKm7jqRk9",
        "outputId": "808fd569-6c80-495f-caae-9d75ac87b1cf"
      },
      "outputs": [
        {
          "output_type": "execute_result",
          "data": {
            "text/plain": [
              "torch.Size([2, 2])"
            ]
          },
          "metadata": {},
          "execution_count": 11
        }
      ],
      "source": [
        "MATRIX.shape"
      ]
    },
    {
      "cell_type": "code",
      "execution_count": 12,
      "metadata": {
        "colab": {
          "base_uri": "https://localhost:8080/"
        },
        "id": "V1hr5cVHqYjN",
        "outputId": "85b689f6-37d8-4e42-dff6-c482b09e49b3"
      },
      "outputs": [
        {
          "output_type": "execute_result",
          "data": {
            "text/plain": [
              "tensor([[[1, 3, 9],\n",
              "         [2, 4, 6],\n",
              "         [5, 9, 7]]])"
            ]
          },
          "metadata": {},
          "execution_count": 12
        }
      ],
      "source": [
        "# Tensor\n",
        "TENSOR = torch.tensor([[[1,3,9],\n",
        "                        [2,4,6],\n",
        "                        [5,9,7]]])\n",
        "TENSOR"
      ]
    },
    {
      "cell_type": "code",
      "execution_count": 13,
      "metadata": {
        "colab": {
          "base_uri": "https://localhost:8080/"
        },
        "id": "DphY4MK8sUl-",
        "outputId": "10c881cc-a887-4129-e330-5d5e0ca13281"
      },
      "outputs": [
        {
          "output_type": "execute_result",
          "data": {
            "text/plain": [
              "3"
            ]
          },
          "metadata": {},
          "execution_count": 13
        }
      ],
      "source": [
        "TENSOR.ndim"
      ]
    },
    {
      "cell_type": "code",
      "execution_count": 14,
      "metadata": {
        "colab": {
          "base_uri": "https://localhost:8080/"
        },
        "id": "j-0f9M-usalk",
        "outputId": "5bf986b4-0900-4a41-805e-c0129cf8be7b"
      },
      "outputs": [
        {
          "output_type": "execute_result",
          "data": {
            "text/plain": [
              "torch.Size([1, 3, 3])"
            ]
          },
          "metadata": {},
          "execution_count": 14
        }
      ],
      "source": [
        "TENSOR.shape"
      ]
    },
    {
      "cell_type": "code",
      "execution_count": 15,
      "metadata": {
        "colab": {
          "base_uri": "https://localhost:8080/"
        },
        "id": "uvVm4l_kssNN",
        "outputId": "09151c1d-e991-493d-8691-b7abf832bbf8"
      },
      "outputs": [
        {
          "output_type": "execute_result",
          "data": {
            "text/plain": [
              "tensor([[1, 3, 9],\n",
              "        [2, 4, 6],\n",
              "        [5, 9, 7]])"
            ]
          },
          "metadata": {},
          "execution_count": 15
        }
      ],
      "source": [
        "TENSOR[0]"
      ]
    },
    {
      "cell_type": "code",
      "execution_count": 16,
      "metadata": {
        "colab": {
          "base_uri": "https://localhost:8080/"
        },
        "id": "JpPIPxWTtAnO",
        "outputId": "5e5d4cdc-ec11-4d23-e13a-765829a8c8ee"
      },
      "outputs": [
        {
          "output_type": "execute_result",
          "data": {
            "text/plain": [
              "tensor([[[[1, 3, 9, 4],\n",
              "          [2, 4, 8, 6]]]])"
            ]
          },
          "metadata": {},
          "execution_count": 16
        }
      ],
      "source": [
        "MY_TENSOR = torch.tensor([[[\n",
        "                              [1,3,9,4], # <0\n",
        "                              [2,4,8,6], # <1\n",
        "#                              [4,1,6,3]  # <2\n",
        "#                              ^ ^ ^ ^\n",
        "#                              0 1 2 3\n",
        "                            ]]])\n",
        "MY_TENSOR"
      ]
    },
    {
      "cell_type": "code",
      "execution_count": 17,
      "metadata": {
        "colab": {
          "base_uri": "https://localhost:8080/"
        },
        "id": "HvqUSXvluX58",
        "outputId": "c7523c50-006b-4b4f-d845-198b83b2352b"
      },
      "outputs": [
        {
          "output_type": "execute_result",
          "data": {
            "text/plain": [
              "4"
            ]
          },
          "metadata": {},
          "execution_count": 17
        }
      ],
      "source": [
        "MY_TENSOR.ndim"
      ]
    },
    {
      "cell_type": "code",
      "execution_count": 18,
      "metadata": {
        "colab": {
          "base_uri": "https://localhost:8080/"
        },
        "id": "Q085jgdXua90",
        "outputId": "51ac3483-a094-4a44-87f4-3d0a2f1d01e2"
      },
      "outputs": [
        {
          "output_type": "execute_result",
          "data": {
            "text/plain": [
              "torch.Size([1, 1, 2, 4])"
            ]
          },
          "metadata": {},
          "execution_count": 18
        }
      ],
      "source": [
        "MY_TENSOR.shape"
      ]
    },
    {
      "cell_type": "markdown",
      "metadata": {
        "id": "0VYUu8xVdlEy"
      },
      "source": [
        "## Tensor Exercise"
      ]
    },
    {
      "cell_type": "code",
      "execution_count": 19,
      "metadata": {
        "colab": {
          "base_uri": "https://localhost:8080/"
        },
        "id": "wXenZTtEdqy6",
        "outputId": "aa5e11d0-5d2e-405e-e785-f327503a667a"
      },
      "outputs": [
        {
          "output_type": "execute_result",
          "data": {
            "text/plain": [
              "tensor([[1, 2, 3],\n",
              "        [4, 5, 6]])"
            ]
          },
          "metadata": {},
          "execution_count": 19
        }
      ],
      "source": [
        "TENSOR = torch.tensor([[1,2,3], [4,5,6]])\n",
        "TENSOR"
      ]
    },
    {
      "cell_type": "code",
      "execution_count": 20,
      "metadata": {
        "colab": {
          "base_uri": "https://localhost:8080/"
        },
        "id": "phOp45vkd25v",
        "outputId": "e7c6bac6-921b-4543-bca6-19a2e125ae8e"
      },
      "outputs": [
        {
          "output_type": "execute_result",
          "data": {
            "text/plain": [
              "2"
            ]
          },
          "metadata": {},
          "execution_count": 20
        }
      ],
      "source": [
        "TENSOR.ndim"
      ]
    },
    {
      "cell_type": "code",
      "execution_count": 21,
      "metadata": {
        "colab": {
          "base_uri": "https://localhost:8080/"
        },
        "id": "QPNE_shteBLK",
        "outputId": "586f2216-3a93-4ffb-fdcf-81b0f572a30c"
      },
      "outputs": [
        {
          "output_type": "execute_result",
          "data": {
            "text/plain": [
              "torch.Size([2, 3])"
            ]
          },
          "metadata": {},
          "execution_count": 21
        }
      ],
      "source": [
        "TENSOR.shape"
      ]
    },
    {
      "cell_type": "code",
      "execution_count": 22,
      "metadata": {
        "colab": {
          "base_uri": "https://localhost:8080/"
        },
        "id": "W22HH2NAeHvA",
        "outputId": "8f3f2552-17d2-4aee-dcc1-10c0de4c05ab"
      },
      "outputs": [
        {
          "output_type": "execute_result",
          "data": {
            "text/plain": [
              "tensor([1, 2, 3])"
            ]
          },
          "metadata": {},
          "execution_count": 22
        }
      ],
      "source": [
        "TENSOR[0]"
      ]
    },
    {
      "cell_type": "code",
      "execution_count": 23,
      "metadata": {
        "colab": {
          "base_uri": "https://localhost:8080/"
        },
        "id": "FfC1ewwlet8-",
        "outputId": "46217146-d4c7-4231-d51b-d5f2a96495f3"
      },
      "outputs": [
        {
          "output_type": "execute_result",
          "data": {
            "text/plain": [
              "tensor([[2, 1, 4],\n",
              "        [1, 5, 2]])"
            ]
          },
          "metadata": {},
          "execution_count": 23
        }
      ],
      "source": [
        "TENSOR2 = torch.tensor([\n",
        "    [2,1,4],\n",
        "    [1,5,2]\n",
        "])\n",
        "TENSOR2"
      ]
    },
    {
      "cell_type": "code",
      "execution_count": 24,
      "metadata": {
        "colab": {
          "base_uri": "https://localhost:8080/"
        },
        "id": "OnZX8YHNfJW7",
        "outputId": "e779a17c-778b-41d1-e11b-26e86fb0372b"
      },
      "outputs": [
        {
          "output_type": "execute_result",
          "data": {
            "text/plain": [
              "2"
            ]
          },
          "metadata": {},
          "execution_count": 24
        }
      ],
      "source": [
        "TENSOR2.ndim"
      ]
    },
    {
      "cell_type": "code",
      "execution_count": 25,
      "metadata": {
        "colab": {
          "base_uri": "https://localhost:8080/"
        },
        "id": "IshwqyFHCJ7g",
        "outputId": "9728da9b-3c13-4050-baec-3ca5986a4946"
      },
      "outputs": [
        {
          "output_type": "execute_result",
          "data": {
            "text/plain": [
              "torch.Size([2, 3])"
            ]
          },
          "metadata": {},
          "execution_count": 25
        }
      ],
      "source": [
        "TENSOR2.shape"
      ]
    },
    {
      "cell_type": "code",
      "execution_count": 26,
      "metadata": {
        "colab": {
          "base_uri": "https://localhost:8080/"
        },
        "id": "JbXCoXQcCVXo",
        "outputId": "102e2fef-4dbc-431b-f429-096917c63578"
      },
      "outputs": [
        {
          "output_type": "execute_result",
          "data": {
            "text/plain": [
              "tensor([[2, 1, 4],\n",
              "        [1, 5, 2],\n",
              "        [7, 5, 9]])"
            ]
          },
          "metadata": {},
          "execution_count": 26
        }
      ],
      "source": [
        "TENSOR3 = torch.tensor([\n",
        "    [2,1,4],\n",
        "    [1,5,2],\n",
        "    [7,5,9]\n",
        "])\n",
        "TENSOR3"
      ]
    },
    {
      "cell_type": "code",
      "execution_count": 27,
      "metadata": {
        "colab": {
          "base_uri": "https://localhost:8080/"
        },
        "id": "YaUO0YbOClOo",
        "outputId": "d7da18c9-bc7f-4a32-df72-425e8f2fa21e"
      },
      "outputs": [
        {
          "output_type": "execute_result",
          "data": {
            "text/plain": [
              "2"
            ]
          },
          "metadata": {},
          "execution_count": 27
        }
      ],
      "source": [
        "TENSOR3.ndim"
      ]
    },
    {
      "cell_type": "code",
      "execution_count": 28,
      "metadata": {
        "colab": {
          "base_uri": "https://localhost:8080/"
        },
        "id": "l-2DFQhMCngy",
        "outputId": "a0c11400-56f3-42bd-c17d-db3d9531dbd9"
      },
      "outputs": [
        {
          "output_type": "execute_result",
          "data": {
            "text/plain": [
              "torch.Size([3, 3])"
            ]
          },
          "metadata": {},
          "execution_count": 28
        }
      ],
      "source": [
        "TENSOR3.shape"
      ]
    },
    {
      "cell_type": "code",
      "execution_count": 29,
      "metadata": {
        "colab": {
          "base_uri": "https://localhost:8080/"
        },
        "id": "rtsY1RuzCqHp",
        "outputId": "e5f891fd-4f98-4d08-a261-492d80199afd"
      },
      "outputs": [
        {
          "output_type": "execute_result",
          "data": {
            "text/plain": [
              "tensor([[[1, 2, 3, 2],\n",
              "         [7, 8, 9, 7],\n",
              "         [4, 5, 6, 9]]])"
            ]
          },
          "metadata": {},
          "execution_count": 29
        }
      ],
      "source": [
        "TENSOR4 = torch.tensor([[\n",
        "    [1,2,3,2],\n",
        "    [7,8,9,7],\n",
        "    [4,5,6,9]\n",
        "]])\n",
        "\n",
        "TENSOR4"
      ]
    },
    {
      "cell_type": "code",
      "execution_count": 30,
      "metadata": {
        "colab": {
          "base_uri": "https://localhost:8080/"
        },
        "id": "heIyjCldEIHn",
        "outputId": "c558fbba-cf76-45a2-ede3-862dc32d6884"
      },
      "outputs": [
        {
          "output_type": "execute_result",
          "data": {
            "text/plain": [
              "3"
            ]
          },
          "metadata": {},
          "execution_count": 30
        }
      ],
      "source": [
        "TENSOR4.ndim"
      ]
    },
    {
      "cell_type": "code",
      "execution_count": 31,
      "metadata": {
        "colab": {
          "base_uri": "https://localhost:8080/"
        },
        "id": "yK2Vov-AEKNY",
        "outputId": "e873aa8d-d23a-4660-f66d-63035ee2fe36"
      },
      "outputs": [
        {
          "output_type": "execute_result",
          "data": {
            "text/plain": [
              "torch.Size([1, 3, 4])"
            ]
          },
          "metadata": {},
          "execution_count": 31
        }
      ],
      "source": [
        "TENSOR4.shape"
      ]
    },
    {
      "cell_type": "code",
      "execution_count": 32,
      "metadata": {
        "colab": {
          "base_uri": "https://localhost:8080/"
        },
        "id": "PBnmF883ETuX",
        "outputId": "63accdae-fd5e-4b05-c926-301f7f2c0346"
      },
      "outputs": [
        {
          "output_type": "execute_result",
          "data": {
            "text/plain": [
              "tensor([[[[[[1, 2],\n",
              "            [4, 1],\n",
              "            [6, 8]]]]]])"
            ]
          },
          "metadata": {},
          "execution_count": 32
        }
      ],
      "source": [
        "TENSOR5 = torch.tensor(\n",
        "    [\n",
        "        [\n",
        "            [\n",
        "                [\n",
        "                    [\n",
        "                        [1,2],\n",
        "                        [4,1],\n",
        "                        [6,8]\n",
        "                    ]\n",
        "                ]\n",
        "            ]\n",
        "        ]\n",
        "    ]\n",
        ")\n",
        "\n",
        "TENSOR5"
      ]
    },
    {
      "cell_type": "code",
      "execution_count": 33,
      "metadata": {
        "colab": {
          "base_uri": "https://localhost:8080/"
        },
        "id": "qCAnLMtgGKZn",
        "outputId": "f05c9c85-6150-4764-f14c-ed06990a2fc5"
      },
      "outputs": [
        {
          "output_type": "execute_result",
          "data": {
            "text/plain": [
              "6"
            ]
          },
          "metadata": {},
          "execution_count": 33
        }
      ],
      "source": [
        "TENSOR5.ndim # expected 6"
      ]
    },
    {
      "cell_type": "code",
      "execution_count": 34,
      "metadata": {
        "colab": {
          "base_uri": "https://localhost:8080/"
        },
        "id": "Aox8_F-EGp4n",
        "outputId": "4dd9f4fe-d58f-44b3-cd0e-e34534ae7d28"
      },
      "outputs": [
        {
          "output_type": "execute_result",
          "data": {
            "text/plain": [
              "torch.Size([1, 1, 1, 1, 3, 2])"
            ]
          },
          "metadata": {},
          "execution_count": 34
        }
      ],
      "source": [
        "TENSOR5.shape #expected tensor.Size([1,1,1,1,3,2])"
      ]
    },
    {
      "cell_type": "code",
      "execution_count": 35,
      "metadata": {
        "colab": {
          "base_uri": "https://localhost:8080/"
        },
        "id": "F8mlTsNmGz8-",
        "outputId": "a1b44087-e301-47d8-f0c1-98d51300ca43"
      },
      "outputs": [
        {
          "output_type": "execute_result",
          "data": {
            "text/plain": [
              "tensor([[[1, 2],\n",
              "         [4, 8],\n",
              "         [3, 9]],\n",
              "\n",
              "        [[5, 6],\n",
              "         [7, 9],\n",
              "         [4, 1]]])"
            ]
          },
          "metadata": {},
          "execution_count": 35
        }
      ],
      "source": [
        "TENSOR6 = torch.tensor(\n",
        "    [\n",
        "            [\n",
        "              [1,2],\n",
        "              [4,8],\n",
        "              [3,9]\n",
        "            ],\n",
        "            [\n",
        "              [5,6],\n",
        "              [7,9],\n",
        "              [4,1]\n",
        "            ]\n",
        "\n",
        "    ]\n",
        ")\n",
        "\n",
        "TENSOR6"
      ]
    },
    {
      "cell_type": "code",
      "execution_count": 36,
      "metadata": {
        "colab": {
          "base_uri": "https://localhost:8080/"
        },
        "id": "WtkIhxXnH-9n",
        "outputId": "b39099d9-a4f8-44ba-e289-4dd9e6af3409"
      },
      "outputs": [
        {
          "output_type": "execute_result",
          "data": {
            "text/plain": [
              "3"
            ]
          },
          "metadata": {},
          "execution_count": 36
        }
      ],
      "source": [
        "TENSOR6.ndim"
      ]
    },
    {
      "cell_type": "code",
      "execution_count": 37,
      "metadata": {
        "colab": {
          "base_uri": "https://localhost:8080/"
        },
        "id": "4y2T7u2UJBTl",
        "outputId": "b5d49335-42f7-4d87-a7ee-dfeffd4c5535"
      },
      "outputs": [
        {
          "output_type": "execute_result",
          "data": {
            "text/plain": [
              "torch.Size([2, 3, 2])"
            ]
          },
          "metadata": {},
          "execution_count": 37
        }
      ],
      "source": [
        "TENSOR6.shape"
      ]
    },
    {
      "cell_type": "code",
      "execution_count": 38,
      "metadata": {
        "colab": {
          "base_uri": "https://localhost:8080/"
        },
        "id": "uM22_1baK3mV",
        "outputId": "64c0e1a9-56b5-446b-d0e2-08cbe3eeb812"
      },
      "outputs": [
        {
          "output_type": "execute_result",
          "data": {
            "text/plain": [
              "tensor([[[[[[ 1,  2],\n",
              "            [ 4,  1],\n",
              "            [ 6,  8]],\n",
              "\n",
              "           [[ 4,  1],\n",
              "            [ 1,  5],\n",
              "            [47,  9]]],\n",
              "\n",
              "\n",
              "          [[[ 1,  2],\n",
              "            [ 4,  1],\n",
              "            [ 6,  8]],\n",
              "\n",
              "           [[ 4,  1],\n",
              "            [ 1,  5],\n",
              "            [47,  9]]],\n",
              "\n",
              "\n",
              "          [[[ 1,  2],\n",
              "            [ 4,  1],\n",
              "            [ 6,  8]],\n",
              "\n",
              "           [[ 4,  1],\n",
              "            [ 1,  5],\n",
              "            [47,  9]]]],\n",
              "\n",
              "\n",
              "\n",
              "         [[[[ 1,  2],\n",
              "            [ 4,  1],\n",
              "            [ 6,  8]],\n",
              "\n",
              "           [[ 4,  1],\n",
              "            [ 1,  5],\n",
              "            [47,  9]]],\n",
              "\n",
              "\n",
              "          [[[ 1,  2],\n",
              "            [ 4,  1],\n",
              "            [ 6,  8]],\n",
              "\n",
              "           [[ 4,  1],\n",
              "            [ 1,  5],\n",
              "            [47,  9]]],\n",
              "\n",
              "\n",
              "          [[[ 1,  2],\n",
              "            [ 4,  1],\n",
              "            [ 6,  8]],\n",
              "\n",
              "           [[ 4,  1],\n",
              "            [ 1,  5],\n",
              "            [47,  9]]]]],\n",
              "\n",
              "\n",
              "\n",
              "\n",
              "        [[[[[ 1,  2],\n",
              "            [ 4,  1],\n",
              "            [ 6,  8]],\n",
              "\n",
              "           [[ 4,  1],\n",
              "            [ 1,  5],\n",
              "            [47,  9]]],\n",
              "\n",
              "\n",
              "          [[[ 1,  2],\n",
              "            [ 4,  1],\n",
              "            [ 6,  8]],\n",
              "\n",
              "           [[ 4,  1],\n",
              "            [ 1,  5],\n",
              "            [47,  9]]],\n",
              "\n",
              "\n",
              "          [[[ 1,  2],\n",
              "            [ 4,  1],\n",
              "            [ 6,  8]],\n",
              "\n",
              "           [[ 4,  1],\n",
              "            [ 1,  5],\n",
              "            [47,  9]]]],\n",
              "\n",
              "\n",
              "\n",
              "         [[[[ 1,  2],\n",
              "            [ 4,  1],\n",
              "            [ 6,  8]],\n",
              "\n",
              "           [[ 4,  1],\n",
              "            [ 1,  5],\n",
              "            [47,  9]]],\n",
              "\n",
              "\n",
              "          [[[ 1,  2],\n",
              "            [ 4,  1],\n",
              "            [ 6,  8]],\n",
              "\n",
              "           [[ 4,  1],\n",
              "            [ 1,  5],\n",
              "            [47,  9]]],\n",
              "\n",
              "\n",
              "          [[[ 1,  2],\n",
              "            [ 4,  1],\n",
              "            [ 6,  8]],\n",
              "\n",
              "           [[ 4,  1],\n",
              "            [ 1,  5],\n",
              "            [47,  9]]]]]])"
            ]
          },
          "metadata": {},
          "execution_count": 38
        }
      ],
      "source": [
        "TENSOR7 = torch.tensor(\n",
        "    [\n",
        "        [\n",
        "            [\n",
        "                [\n",
        "                    [\n",
        "                        [1,2],\n",
        "                        [4,1],\n",
        "                        [6,8]\n",
        "                    ],\n",
        "                    [\n",
        "                        [4,1],\n",
        "                        [1,5],\n",
        "                        [47,9]\n",
        "                    ]\n",
        "                ],\n",
        "                [\n",
        "                    [\n",
        "                        [1,2],\n",
        "                        [4,1],\n",
        "                        [6,8]\n",
        "                    ],\n",
        "                    [\n",
        "                        [4,1],\n",
        "                        [1,5],\n",
        "                        [47,9]\n",
        "                    ]\n",
        "                ],\n",
        "                [\n",
        "                    [\n",
        "                        [1,2],\n",
        "                        [4,1],\n",
        "                        [6,8]\n",
        "                    ],\n",
        "                    [\n",
        "                        [4,1],\n",
        "                        [1,5],\n",
        "                        [47,9]\n",
        "                    ]\n",
        "                ]\n",
        "            ],\n",
        "            [\n",
        "                [\n",
        "                    [\n",
        "                        [1,2],\n",
        "                        [4,1],\n",
        "                        [6,8]\n",
        "                    ],\n",
        "                    [\n",
        "                        [4,1],\n",
        "                        [1,5],\n",
        "                        [47,9]\n",
        "                    ]\n",
        "                ],\n",
        "                [\n",
        "                    [\n",
        "                        [1,2],\n",
        "                        [4,1],\n",
        "                        [6,8]\n",
        "                    ],\n",
        "                    [\n",
        "                        [4,1],\n",
        "                        [1,5],\n",
        "                        [47,9]\n",
        "                    ]\n",
        "                ],\n",
        "                [\n",
        "                    [\n",
        "                        [1,2],\n",
        "                        [4,1],\n",
        "                        [6,8]\n",
        "                    ],\n",
        "                    [\n",
        "                        [4,1],\n",
        "                        [1,5],\n",
        "                        [47,9]\n",
        "                    ]\n",
        "                ]\n",
        "            ]\n",
        "        ],\n",
        "                [\n",
        "            [\n",
        "                [\n",
        "                    [\n",
        "                        [1,2],\n",
        "                        [4,1],\n",
        "                        [6,8]\n",
        "                    ],\n",
        "                    [\n",
        "                        [4,1],\n",
        "                        [1,5],\n",
        "                        [47,9]\n",
        "                    ]\n",
        "                ],\n",
        "                [\n",
        "                    [\n",
        "                        [1,2],\n",
        "                        [4,1],\n",
        "                        [6,8]\n",
        "                    ],\n",
        "                    [\n",
        "                        [4,1],\n",
        "                        [1,5],\n",
        "                        [47,9]\n",
        "                    ]\n",
        "                ],\n",
        "                [\n",
        "                    [\n",
        "                        [1,2],\n",
        "                        [4,1],\n",
        "                        [6,8]\n",
        "                    ],\n",
        "                    [\n",
        "                        [4,1],\n",
        "                        [1,5],\n",
        "                        [47,9]\n",
        "                    ]\n",
        "                ]\n",
        "            ],\n",
        "            [\n",
        "                [\n",
        "                    [\n",
        "                        [1,2],\n",
        "                        [4,1],\n",
        "                        [6,8]\n",
        "                    ],\n",
        "                    [\n",
        "                        [4,1],\n",
        "                        [1,5],\n",
        "                        [47,9]\n",
        "                    ]\n",
        "                ],\n",
        "                [\n",
        "                    [\n",
        "                        [1,2],\n",
        "                        [4,1],\n",
        "                        [6,8]\n",
        "                    ],\n",
        "                    [\n",
        "                        [4,1],\n",
        "                        [1,5],\n",
        "                        [47,9]\n",
        "                    ]\n",
        "                ],\n",
        "                [\n",
        "                    [\n",
        "                        [1,2],\n",
        "                        [4,1],\n",
        "                        [6,8]\n",
        "                    ],\n",
        "                    [\n",
        "                        [4,1],\n",
        "                        [1,5],\n",
        "                        [47,9]\n",
        "                    ]\n",
        "                ]\n",
        "            ]\n",
        "        ]\n",
        "    ]\n",
        ")\n",
        "TENSOR7"
      ]
    },
    {
      "cell_type": "code",
      "execution_count": 39,
      "metadata": {
        "colab": {
          "base_uri": "https://localhost:8080/"
        },
        "id": "1dApxWVDYKpp",
        "outputId": "e87931a5-7c23-47e1-83fa-936fa6299e81"
      },
      "outputs": [
        {
          "output_type": "execute_result",
          "data": {
            "text/plain": [
              "6"
            ]
          },
          "metadata": {},
          "execution_count": 39
        }
      ],
      "source": [
        "TENSOR7.ndim"
      ]
    },
    {
      "cell_type": "code",
      "execution_count": 40,
      "metadata": {
        "colab": {
          "base_uri": "https://localhost:8080/"
        },
        "id": "011KGrClYMsQ",
        "outputId": "7bf19174-a1c6-4274-d5f3-52a7e85ce902"
      },
      "outputs": [
        {
          "output_type": "execute_result",
          "data": {
            "text/plain": [
              "torch.Size([2, 2, 3, 2, 3, 2])"
            ]
          },
          "metadata": {},
          "execution_count": 40
        }
      ],
      "source": [
        "TENSOR7.shape"
      ]
    },
    {
      "cell_type": "markdown",
      "metadata": {
        "id": "r27E6Ic7miuS"
      },
      "source": [
        "### Random Tensors\n",
        "\n",
        "Why random tensors?\n",
        "\n",
        "Random tensors are important because the way many neural networks learn is that they start with tensors full of random numbers and then adjust those random numbers to better represent the data.\n",
        "\n",
        "`Start with random numbers -> look at data -> update random numbers -> look at data -> update random numbers`\n",
        "\n",
        "Torch random tensors = https://pytorch.org/docs/stable/generated/torch.rand.html"
      ]
    },
    {
      "cell_type": "code",
      "execution_count": 41,
      "metadata": {
        "colab": {
          "base_uri": "https://localhost:8080/"
        },
        "id": "tmiPDHEGYVyw",
        "outputId": "8ef141a6-d39c-4380-b5ec-f2e6f90850fd"
      },
      "outputs": [
        {
          "output_type": "execute_result",
          "data": {
            "text/plain": [
              "tensor([[0.3980, 0.4239, 0.8798, 0.1262],\n",
              "        [0.0276, 0.7187, 0.1541, 0.5594],\n",
              "        [0.8143, 0.8739, 0.2233, 0.0370]])"
            ]
          },
          "metadata": {},
          "execution_count": 41
        }
      ],
      "source": [
        "# Create a random tensors of size (3,4)\n",
        "random_tensors = torch.rand(3, 4)\n",
        "random_tensors"
      ]
    },
    {
      "cell_type": "code",
      "execution_count": 42,
      "metadata": {
        "colab": {
          "base_uri": "https://localhost:8080/"
        },
        "id": "8lvEmJyxojF6",
        "outputId": "230f9953-9f1b-4c2b-a406-d117245ce52a"
      },
      "outputs": [
        {
          "output_type": "execute_result",
          "data": {
            "text/plain": [
              "2"
            ]
          },
          "metadata": {},
          "execution_count": 42
        }
      ],
      "source": [
        "random_tensors.ndim"
      ]
    },
    {
      "cell_type": "code",
      "execution_count": 43,
      "metadata": {
        "colab": {
          "base_uri": "https://localhost:8080/"
        },
        "id": "2Q0IRwVeoqMS",
        "outputId": "ad181675-43c7-4230-f327-84a90f8943d4"
      },
      "outputs": [
        {
          "output_type": "execute_result",
          "data": {
            "text/plain": [
              "tensor([[0.8486, 0.4427, 0.7499, 0.8772, 0.2830, 0.2582, 0.7048, 0.5277],\n",
              "        [0.2161, 0.9272, 0.1830, 0.9218, 0.7176, 0.7243, 0.1703, 0.0811],\n",
              "        [0.6426, 0.6285, 0.6602, 0.0439, 0.3292, 0.4195, 0.2584, 0.8867],\n",
              "        [0.1175, 0.2654, 0.5575, 0.9663, 0.4819, 0.8141, 0.8345, 0.4044],\n",
              "        [0.5008, 0.8806, 0.0701, 0.7548, 0.0468, 0.9994, 0.4426, 0.7595],\n",
              "        [0.4596, 0.1954, 0.1341, 0.1639, 0.5018, 0.6965, 0.4045, 0.8622],\n",
              "        [0.1646, 0.4733, 0.4366, 0.1257, 0.7250, 0.3032, 0.3774, 0.7556],\n",
              "        [0.3627, 0.1571, 0.3575, 0.3806, 0.8200, 0.9910, 0.1003, 0.0684],\n",
              "        [0.7358, 0.2734, 0.4987, 0.4126, 0.9875, 0.0315, 0.9085, 0.5416],\n",
              "        [0.3998, 0.6831, 0.4645, 0.1273, 0.1348, 0.3573, 0.4280, 0.6441]])"
            ]
          },
          "metadata": {},
          "execution_count": 43
        }
      ],
      "source": [
        "random_tensors = torch.rand(10, 8)\n",
        "random_tensors"
      ]
    },
    {
      "cell_type": "code",
      "execution_count": 44,
      "metadata": {
        "colab": {
          "base_uri": "https://localhost:8080/"
        },
        "id": "C2PhCTMPpGLz",
        "outputId": "182784f9-7a21-4a89-bc01-330b25bd30ae"
      },
      "outputs": [
        {
          "output_type": "execute_result",
          "data": {
            "text/plain": [
              "2"
            ]
          },
          "metadata": {},
          "execution_count": 44
        }
      ],
      "source": [
        "random_tensors.ndim"
      ]
    },
    {
      "cell_type": "code",
      "execution_count": 45,
      "metadata": {
        "colab": {
          "base_uri": "https://localhost:8080/"
        },
        "id": "0OpRsE4woyhK",
        "outputId": "4802e822-501f-4e3f-8fd2-5a195d492658"
      },
      "outputs": [
        {
          "output_type": "execute_result",
          "data": {
            "text/plain": [
              "tensor([[[0.8615, 0.3941, 0.3823,  ..., 0.9119, 0.6847, 0.6665],\n",
              "         [0.1381, 0.1364, 0.4550,  ..., 0.9552, 0.3661, 0.1031],\n",
              "         [0.7679, 0.3438, 0.0920,  ..., 0.8891, 0.8903, 0.2773],\n",
              "         ...,\n",
              "         [0.5055, 0.9890, 0.7642,  ..., 0.2358, 0.0015, 0.3437],\n",
              "         [0.1083, 0.9774, 0.5353,  ..., 0.3224, 0.8465, 0.0693],\n",
              "         [0.3478, 0.7690, 0.2616,  ..., 0.6296, 0.8021, 0.3728]],\n",
              "\n",
              "        [[0.9389, 0.8540, 0.5579,  ..., 0.1549, 0.2098, 0.6464],\n",
              "         [0.7973, 0.5627, 0.5484,  ..., 0.1269, 0.4680, 0.6601],\n",
              "         [0.0863, 0.6145, 0.4686,  ..., 0.7213, 0.0275, 0.3794],\n",
              "         ...,\n",
              "         [0.8671, 0.3460, 0.1915,  ..., 0.0416, 0.4751, 0.8153],\n",
              "         [0.7456, 0.4116, 0.9780,  ..., 0.9129, 0.5709, 0.8716],\n",
              "         [0.1466, 0.2600, 0.2280,  ..., 0.0596, 0.7533, 0.3664]],\n",
              "\n",
              "        [[0.6164, 0.0175, 0.7527,  ..., 0.5516, 0.8359, 0.8202],\n",
              "         [0.0136, 0.5827, 0.1353,  ..., 0.6051, 0.7378, 0.1476],\n",
              "         [0.5453, 0.8496, 0.0704,  ..., 0.8728, 0.6590, 0.4008],\n",
              "         ...,\n",
              "         [0.5859, 0.6974, 0.5187,  ..., 0.3561, 0.6669, 0.7774],\n",
              "         [0.9468, 0.6947, 0.3660,  ..., 0.3960, 0.2676, 0.7728],\n",
              "         [0.5336, 0.2753, 0.5526,  ..., 0.7976, 0.5787, 0.3856]],\n",
              "\n",
              "        ...,\n",
              "\n",
              "        [[0.5496, 0.2330, 0.3569,  ..., 0.8501, 0.5009, 0.3889],\n",
              "         [0.0388, 0.7470, 0.4295,  ..., 0.1640, 0.4725, 0.6260],\n",
              "         [0.1093, 0.7730, 0.5167,  ..., 0.3869, 0.6242, 0.5457],\n",
              "         ...,\n",
              "         [0.7429, 0.7820, 0.6043,  ..., 0.1663, 0.6740, 0.3804],\n",
              "         [0.9040, 0.5032, 0.1649,  ..., 0.4283, 0.2769, 0.1758],\n",
              "         [0.4242, 0.8344, 0.6873,  ..., 0.3981, 0.2568, 0.5247]],\n",
              "\n",
              "        [[0.8251, 0.2566, 0.7830,  ..., 0.0256, 0.6583, 0.0935],\n",
              "         [0.5739, 0.4635, 0.5284,  ..., 0.7200, 0.8093, 0.9254],\n",
              "         [0.6896, 0.0578, 0.5565,  ..., 0.6249, 0.0670, 0.9110],\n",
              "         ...,\n",
              "         [0.8983, 0.0597, 0.0351,  ..., 0.3744, 0.3270, 0.5330],\n",
              "         [0.6179, 0.0817, 0.2231,  ..., 0.9226, 0.7757, 0.9040],\n",
              "         [0.1116, 0.3642, 0.7919,  ..., 0.6024, 0.8971, 0.2344]],\n",
              "\n",
              "        [[0.8766, 0.2561, 0.1900,  ..., 0.5781, 0.1843, 0.7958],\n",
              "         [0.8048, 0.8120, 0.2856,  ..., 0.4069, 0.1639, 0.6927],\n",
              "         [0.2778, 0.8225, 0.6057,  ..., 0.6344, 0.7726, 0.5032],\n",
              "         ...,\n",
              "         [0.4332, 0.3776, 0.3369,  ..., 0.7615, 0.5170, 0.0523],\n",
              "         [0.1977, 0.1211, 0.2150,  ..., 0.7370, 0.1048, 0.6087],\n",
              "         [0.6928, 0.4145, 0.7283,  ..., 0.3059, 0.6511, 0.2889]]])"
            ]
          },
          "metadata": {},
          "execution_count": 45
        }
      ],
      "source": [
        "random_tensors = torch.rand(10, 100, 100)\n",
        "random_tensors"
      ]
    },
    {
      "cell_type": "code",
      "execution_count": 46,
      "metadata": {
        "colab": {
          "base_uri": "https://localhost:8080/"
        },
        "id": "njocHK8JpQ6K",
        "outputId": "7ac71f2a-1957-455f-aaec-b49e3f442417"
      },
      "outputs": [
        {
          "output_type": "execute_result",
          "data": {
            "text/plain": [
              "3"
            ]
          },
          "metadata": {},
          "execution_count": 46
        }
      ],
      "source": [
        "random_tensors.ndim"
      ]
    },
    {
      "cell_type": "code",
      "execution_count": 47,
      "metadata": {
        "colab": {
          "base_uri": "https://localhost:8080/"
        },
        "id": "ZliHgF3ApU3S",
        "outputId": "71130131-85dd-481e-8061-8effeb9970ec"
      },
      "outputs": [
        {
          "output_type": "execute_result",
          "data": {
            "text/plain": [
              "tensor([[[[[7.8713e-01, 7.0592e-01, 6.6335e-01,  ..., 7.4781e-01,\n",
              "            2.3085e-01, 9.7530e-01],\n",
              "           [1.9149e-01, 2.1270e-01, 5.5962e-01,  ..., 3.6457e-02,\n",
              "            8.3087e-01, 3.8929e-01],\n",
              "           [7.5259e-02, 9.6909e-01, 9.8508e-01,  ..., 1.0773e-01,\n",
              "            9.6112e-01, 1.8001e-01],\n",
              "           ...,\n",
              "           [7.2984e-02, 2.0294e-01, 3.7653e-01,  ..., 2.5808e-01,\n",
              "            5.2310e-01, 8.0133e-01],\n",
              "           [8.4776e-01, 8.4164e-01, 8.0060e-01,  ..., 5.8560e-01,\n",
              "            9.1022e-01, 7.0066e-01],\n",
              "           [8.9430e-01, 4.7159e-01, 1.1112e-01,  ..., 2.8204e-01,\n",
              "            5.9588e-01, 9.7665e-01]],\n",
              "\n",
              "          [[9.4862e-02, 9.2219e-01, 3.9637e-01,  ..., 3.7941e-01,\n",
              "            1.0737e-01, 1.7474e-02],\n",
              "           [4.5580e-01, 4.3354e-01, 8.4047e-01,  ..., 7.1270e-01,\n",
              "            1.0816e-01, 7.3492e-01],\n",
              "           [8.1909e-01, 9.8774e-01, 4.3536e-01,  ..., 2.6742e-01,\n",
              "            1.3818e-01, 1.6749e-01],\n",
              "           ...,\n",
              "           [6.6402e-01, 8.4345e-01, 8.3031e-01,  ..., 6.0742e-01,\n",
              "            1.4877e-01, 8.8879e-01],\n",
              "           [3.2846e-01, 5.2145e-01, 1.4768e-01,  ..., 8.3165e-01,\n",
              "            9.4891e-01, 9.7280e-02],\n",
              "           [7.2739e-01, 8.5344e-01, 1.4726e-01,  ..., 5.5132e-01,\n",
              "            4.6839e-01, 8.0721e-02]],\n",
              "\n",
              "          [[8.4373e-01, 2.4948e-01, 2.9308e-01,  ..., 1.5471e-01,\n",
              "            3.2100e-02, 4.0024e-01],\n",
              "           [7.2816e-02, 3.1431e-01, 6.5657e-01,  ..., 9.8975e-01,\n",
              "            9.1409e-01, 1.0684e-01],\n",
              "           [4.3022e-01, 2.6900e-01, 4.6565e-01,  ..., 8.8963e-01,\n",
              "            7.6492e-01, 5.8567e-01],\n",
              "           ...,\n",
              "           [6.8779e-01, 8.2298e-01, 1.2522e-01,  ..., 2.0246e-01,\n",
              "            6.7629e-01, 5.1448e-01],\n",
              "           [3.1962e-01, 1.8817e-01, 2.7606e-01,  ..., 7.8921e-01,\n",
              "            3.2038e-01, 9.6836e-01],\n",
              "           [3.4476e-01, 9.3888e-01, 6.7828e-01,  ..., 4.5424e-02,\n",
              "            2.6663e-01, 1.4559e-02]],\n",
              "\n",
              "          ...,\n",
              "\n",
              "          [[7.1545e-01, 7.1786e-01, 8.7835e-01,  ..., 6.3037e-03,\n",
              "            5.3878e-01, 3.0917e-01],\n",
              "           [3.5651e-01, 9.8121e-01, 8.4551e-01,  ..., 7.6485e-01,\n",
              "            4.3332e-01, 8.8148e-02],\n",
              "           [8.3234e-01, 2.7400e-01, 4.4308e-02,  ..., 4.9305e-01,\n",
              "            4.2307e-02, 2.1045e-01],\n",
              "           ...,\n",
              "           [9.8322e-01, 3.4061e-01, 3.1679e-01,  ..., 6.5977e-02,\n",
              "            6.5087e-01, 2.0336e-01],\n",
              "           [9.8331e-01, 8.8179e-01, 1.7059e-03,  ..., 3.3175e-01,\n",
              "            1.8234e-01, 7.9384e-01],\n",
              "           [2.0449e-01, 8.4492e-01, 8.6759e-01,  ..., 3.3138e-01,\n",
              "            1.4930e-01, 6.7120e-01]],\n",
              "\n",
              "          [[1.4605e-02, 8.4536e-01, 3.2535e-01,  ..., 6.4053e-01,\n",
              "            2.9009e-01, 4.0995e-01],\n",
              "           [8.1454e-02, 9.6817e-01, 1.0393e-01,  ..., 4.2786e-01,\n",
              "            7.0436e-01, 8.8346e-01],\n",
              "           [4.6499e-02, 2.2765e-01, 1.0891e-01,  ..., 3.5053e-01,\n",
              "            5.6742e-01, 6.1232e-01],\n",
              "           ...,\n",
              "           [9.3790e-01, 5.2258e-01, 8.2713e-01,  ..., 3.4100e-01,\n",
              "            1.1349e-01, 3.4880e-01],\n",
              "           [4.5509e-01, 5.9229e-01, 5.9953e-01,  ..., 6.0699e-01,\n",
              "            6.7661e-01, 7.2656e-01],\n",
              "           [9.7503e-01, 1.5466e-01, 7.5258e-01,  ..., 6.5099e-01,\n",
              "            7.4548e-02, 6.3587e-01]],\n",
              "\n",
              "          [[7.9876e-01, 4.8030e-01, 7.2070e-01,  ..., 8.7641e-01,\n",
              "            5.9398e-01, 9.4644e-02],\n",
              "           [2.1828e-01, 7.3581e-01, 1.4518e-01,  ..., 8.6657e-01,\n",
              "            3.5755e-01, 8.1249e-01],\n",
              "           [1.4232e-01, 5.5403e-01, 9.8780e-01,  ..., 7.0657e-01,\n",
              "            6.0060e-01, 9.8913e-01],\n",
              "           ...,\n",
              "           [6.7670e-01, 5.1053e-01, 3.9398e-01,  ..., 5.3806e-01,\n",
              "            8.5291e-01, 9.5276e-01],\n",
              "           [1.0262e-01, 4.6832e-01, 2.9025e-01,  ..., 4.6444e-01,\n",
              "            3.4591e-01, 6.4430e-01],\n",
              "           [7.3665e-01, 5.5961e-01, 1.9173e-01,  ..., 2.5076e-01,\n",
              "            5.3754e-01, 7.0879e-01]]],\n",
              "\n",
              "\n",
              "         [[[3.2634e-01, 6.2829e-01, 5.2119e-01,  ..., 2.0558e-02,\n",
              "            5.2658e-01, 8.8161e-01],\n",
              "           [7.7961e-01, 6.0375e-01, 5.4521e-01,  ..., 2.8851e-02,\n",
              "            3.8971e-01, 3.2223e-01],\n",
              "           [2.0235e-01, 2.3136e-01, 6.9036e-01,  ..., 8.9526e-01,\n",
              "            2.3034e-01, 3.5119e-01],\n",
              "           ...,\n",
              "           [5.1565e-01, 3.5660e-01, 3.4925e-01,  ..., 6.1045e-01,\n",
              "            4.6110e-01, 5.3802e-01],\n",
              "           [9.9128e-01, 6.8437e-01, 5.9820e-01,  ..., 5.9868e-01,\n",
              "            8.4301e-02, 6.8005e-01],\n",
              "           [5.4180e-01, 6.3639e-01, 2.8874e-01,  ..., 1.3747e-01,\n",
              "            9.3064e-01, 8.6835e-01]],\n",
              "\n",
              "          [[4.7633e-01, 4.4049e-01, 8.9101e-01,  ..., 6.3145e-02,\n",
              "            5.2864e-01, 5.6124e-01],\n",
              "           [2.2344e-01, 6.2800e-01, 8.0345e-01,  ..., 1.2992e-01,\n",
              "            5.4434e-01, 9.1773e-01],\n",
              "           [8.7340e-01, 9.3783e-03, 2.8618e-01,  ..., 8.1563e-01,\n",
              "            9.5459e-01, 6.1228e-01],\n",
              "           ...,\n",
              "           [6.9544e-01, 3.7598e-01, 3.6590e-01,  ..., 5.7159e-01,\n",
              "            5.8929e-01, 3.5994e-01],\n",
              "           [9.9147e-01, 7.3680e-02, 3.1697e-01,  ..., 4.9287e-01,\n",
              "            8.9697e-01, 9.6493e-01],\n",
              "           [3.0866e-01, 5.9580e-02, 4.3512e-02,  ..., 4.2004e-01,\n",
              "            3.1068e-01, 1.1455e-01]],\n",
              "\n",
              "          [[6.6335e-02, 1.2342e-01, 4.7228e-01,  ..., 4.2185e-01,\n",
              "            9.4599e-01, 6.0116e-01],\n",
              "           [9.9038e-01, 3.2703e-01, 1.8179e-01,  ..., 7.3411e-01,\n",
              "            8.6937e-01, 5.7153e-01],\n",
              "           [6.5809e-01, 7.4871e-01, 6.9034e-01,  ..., 7.0151e-01,\n",
              "            4.9875e-01, 5.2684e-01],\n",
              "           ...,\n",
              "           [2.8052e-01, 5.3900e-01, 8.3562e-01,  ..., 6.6425e-01,\n",
              "            4.9457e-01, 9.0932e-01],\n",
              "           [7.7760e-01, 9.0244e-01, 1.5702e-01,  ..., 8.9694e-01,\n",
              "            3.3785e-01, 3.6783e-01],\n",
              "           [7.4341e-01, 9.9969e-01, 3.0093e-01,  ..., 6.7673e-01,\n",
              "            2.7072e-01, 4.7488e-01]],\n",
              "\n",
              "          ...,\n",
              "\n",
              "          [[9.7889e-01, 5.7831e-01, 4.9701e-01,  ..., 3.5967e-01,\n",
              "            9.0140e-03, 8.8451e-02],\n",
              "           [3.0559e-01, 7.1595e-01, 7.5865e-01,  ..., 5.1411e-01,\n",
              "            3.6727e-01, 7.6524e-01],\n",
              "           [8.2424e-01, 8.9138e-01, 6.8315e-01,  ..., 8.4494e-01,\n",
              "            2.1582e-02, 8.2205e-01],\n",
              "           ...,\n",
              "           [1.2080e-01, 7.8309e-01, 9.8244e-01,  ..., 9.6123e-01,\n",
              "            5.2550e-01, 3.1549e-01],\n",
              "           [2.6132e-01, 1.0525e-01, 9.0696e-01,  ..., 1.1214e-01,\n",
              "            4.8442e-01, 2.2639e-02],\n",
              "           [7.0712e-01, 8.4317e-01, 9.8937e-03,  ..., 2.9598e-01,\n",
              "            8.6335e-01, 5.6638e-01]],\n",
              "\n",
              "          [[2.8251e-01, 5.5781e-01, 3.2922e-01,  ..., 2.3319e-02,\n",
              "            7.3779e-01, 5.3380e-01],\n",
              "           [9.1130e-02, 7.1710e-01, 4.9410e-01,  ..., 4.1213e-01,\n",
              "            1.8509e-01, 5.5494e-01],\n",
              "           [5.4202e-01, 7.1790e-02, 5.4903e-01,  ..., 3.7960e-01,\n",
              "            4.4100e-01, 3.5783e-01],\n",
              "           ...,\n",
              "           [1.3252e-01, 3.0718e-01, 4.1369e-01,  ..., 5.6689e-02,\n",
              "            4.5476e-01, 3.9166e-01],\n",
              "           [4.1057e-01, 3.9088e-01, 3.1630e-01,  ..., 8.4295e-01,\n",
              "            9.6464e-01, 2.5571e-01],\n",
              "           [9.2418e-01, 8.9389e-01, 8.1693e-01,  ..., 5.6283e-01,\n",
              "            7.2353e-02, 9.4420e-01]],\n",
              "\n",
              "          [[9.4315e-01, 1.8249e-01, 3.1668e-02,  ..., 3.8648e-01,\n",
              "            1.3887e-01, 3.8831e-01],\n",
              "           [6.0815e-01, 2.5241e-01, 5.5477e-01,  ..., 3.2218e-02,\n",
              "            6.6698e-01, 5.3243e-01],\n",
              "           [2.3436e-02, 3.1140e-01, 7.5208e-01,  ..., 1.1603e-02,\n",
              "            7.0205e-01, 7.5840e-01],\n",
              "           ...,\n",
              "           [8.1324e-01, 2.7063e-01, 8.3842e-01,  ..., 4.1962e-02,\n",
              "            6.0234e-01, 1.4469e-01],\n",
              "           [3.6418e-01, 5.7801e-01, 1.9993e-01,  ..., 8.8138e-01,\n",
              "            6.4100e-01, 8.9279e-01],\n",
              "           [6.5205e-01, 8.5043e-01, 5.6949e-01,  ..., 1.6529e-01,\n",
              "            4.2166e-01, 5.8713e-01]]],\n",
              "\n",
              "\n",
              "         [[[3.0412e-01, 6.7917e-01, 1.3197e-01,  ..., 6.0693e-01,\n",
              "            8.9417e-01, 7.4207e-01],\n",
              "           [2.5083e-02, 4.7547e-01, 5.7379e-01,  ..., 6.5598e-01,\n",
              "            9.6902e-01, 5.0363e-01],\n",
              "           [3.3681e-01, 5.0194e-01, 4.7512e-01,  ..., 5.1519e-01,\n",
              "            2.1457e-01, 2.6369e-01],\n",
              "           ...,\n",
              "           [2.0433e-01, 1.1009e-01, 8.6257e-02,  ..., 4.4913e-01,\n",
              "            7.7818e-01, 9.3806e-01],\n",
              "           [6.0876e-01, 6.9518e-02, 8.8438e-02,  ..., 2.0615e-01,\n",
              "            6.2761e-01, 9.9201e-01],\n",
              "           [9.4847e-02, 4.5007e-01, 8.3823e-01,  ..., 1.4676e-01,\n",
              "            2.1626e-01, 6.5199e-01]],\n",
              "\n",
              "          [[2.4138e-01, 3.3656e-01, 2.2718e-01,  ..., 5.5865e-01,\n",
              "            3.0985e-01, 9.7607e-01],\n",
              "           [3.2730e-01, 6.2003e-01, 1.9748e-01,  ..., 8.0945e-01,\n",
              "            6.3586e-01, 6.5500e-02],\n",
              "           [3.3208e-02, 1.9821e-01, 9.4776e-01,  ..., 8.8501e-01,\n",
              "            1.1118e-01, 1.8599e-01],\n",
              "           ...,\n",
              "           [6.4802e-01, 6.7210e-01, 4.2113e-01,  ..., 4.9883e-01,\n",
              "            6.6955e-01, 8.2707e-01],\n",
              "           [5.0803e-01, 4.8835e-01, 2.6573e-01,  ..., 9.2269e-01,\n",
              "            1.8424e-01, 4.8282e-01],\n",
              "           [1.8968e-01, 7.9680e-01, 7.8387e-01,  ..., 3.2564e-01,\n",
              "            5.2311e-01, 4.1542e-01]],\n",
              "\n",
              "          [[4.2367e-01, 2.6100e-01, 4.1105e-01,  ..., 4.7238e-01,\n",
              "            2.2489e-01, 8.5343e-01],\n",
              "           [7.0120e-01, 8.1803e-01, 5.6367e-01,  ..., 1.2773e-01,\n",
              "            1.2752e-01, 2.1632e-01],\n",
              "           [2.8279e-01, 8.9416e-01, 2.6087e-01,  ..., 8.6167e-01,\n",
              "            3.1888e-01, 4.0918e-01],\n",
              "           ...,\n",
              "           [7.9191e-01, 2.1397e-02, 2.5976e-01,  ..., 2.2719e-01,\n",
              "            6.6764e-01, 8.3909e-01],\n",
              "           [7.7153e-01, 1.1861e-01, 3.4280e-01,  ..., 6.5724e-01,\n",
              "            5.3300e-01, 5.5106e-01],\n",
              "           [4.6884e-01, 5.9144e-01, 1.9382e-01,  ..., 1.1521e-01,\n",
              "            9.8886e-01, 2.8200e-01]],\n",
              "\n",
              "          ...,\n",
              "\n",
              "          [[4.1364e-01, 3.0269e-02, 3.1798e-01,  ..., 8.7308e-01,\n",
              "            8.1603e-01, 5.5865e-01],\n",
              "           [7.6257e-01, 5.4127e-01, 3.3896e-02,  ..., 2.8330e-01,\n",
              "            2.3323e-01, 5.5561e-02],\n",
              "           [5.5546e-01, 5.0304e-01, 9.0633e-01,  ..., 6.1809e-01,\n",
              "            8.8985e-01, 9.9387e-01],\n",
              "           ...,\n",
              "           [4.4667e-01, 8.7137e-01, 6.0066e-02,  ..., 6.8064e-01,\n",
              "            3.7853e-01, 4.1220e-02],\n",
              "           [6.1579e-01, 4.2318e-01, 2.3237e-01,  ..., 4.0624e-01,\n",
              "            2.9975e-01, 9.5521e-01],\n",
              "           [9.1092e-01, 8.3101e-01, 7.4621e-01,  ..., 7.9088e-01,\n",
              "            8.3044e-01, 2.9008e-01]],\n",
              "\n",
              "          [[7.9906e-01, 1.9929e-01, 5.7293e-01,  ..., 8.4274e-01,\n",
              "            1.6825e-02, 8.2770e-01],\n",
              "           [5.5250e-01, 8.7497e-01, 4.9712e-01,  ..., 9.5923e-01,\n",
              "            6.6429e-02, 2.5288e-01],\n",
              "           [5.4592e-01, 5.7458e-02, 4.5088e-01,  ..., 1.0836e-01,\n",
              "            4.4533e-01, 4.9772e-01],\n",
              "           ...,\n",
              "           [6.4947e-01, 6.0887e-01, 6.0896e-01,  ..., 3.6790e-03,\n",
              "            1.4842e-01, 3.6807e-02],\n",
              "           [7.8991e-01, 4.1810e-01, 2.0174e-01,  ..., 5.5605e-01,\n",
              "            1.8545e-01, 5.2297e-01],\n",
              "           [2.9382e-01, 7.2163e-01, 2.4037e-01,  ..., 1.8135e-01,\n",
              "            7.1772e-01, 1.6786e-01]],\n",
              "\n",
              "          [[4.7057e-01, 2.5790e-01, 2.7555e-01,  ..., 4.6662e-02,\n",
              "            8.6597e-01, 1.1510e-01],\n",
              "           [5.6936e-01, 6.0407e-01, 1.6409e-01,  ..., 4.9219e-01,\n",
              "            2.4103e-01, 9.0624e-01],\n",
              "           [4.4124e-01, 9.9923e-01, 9.6375e-01,  ..., 9.3768e-01,\n",
              "            9.5153e-01, 4.2900e-01],\n",
              "           ...,\n",
              "           [7.0369e-01, 5.3753e-01, 2.8608e-01,  ..., 4.7585e-01,\n",
              "            9.0755e-01, 3.2635e-01],\n",
              "           [1.0936e-01, 2.9638e-01, 7.2474e-01,  ..., 9.1048e-01,\n",
              "            3.6228e-02, 2.3025e-01],\n",
              "           [3.1957e-01, 9.9595e-02, 1.5628e-01,  ..., 6.1483e-01,\n",
              "            7.4674e-01, 8.3713e-01]]],\n",
              "\n",
              "\n",
              "         ...,\n",
              "\n",
              "\n",
              "         [[[6.4674e-01, 3.7322e-01, 7.5856e-02,  ..., 6.2003e-02,\n",
              "            7.7136e-01, 7.9130e-01],\n",
              "           [6.2579e-01, 5.3998e-01, 2.9057e-01,  ..., 2.5651e-01,\n",
              "            7.6502e-01, 1.4989e-01],\n",
              "           [1.1456e-01, 9.2143e-02, 9.7960e-01,  ..., 3.4590e-01,\n",
              "            8.3470e-02, 8.0183e-01],\n",
              "           ...,\n",
              "           [1.2553e-01, 9.8728e-01, 6.3665e-01,  ..., 5.4309e-01,\n",
              "            9.4255e-01, 9.2713e-01],\n",
              "           [5.5297e-01, 5.7076e-01, 1.8403e-01,  ..., 1.8178e-01,\n",
              "            3.8520e-01, 4.7500e-01],\n",
              "           [1.0358e-01, 2.3609e-01, 1.1827e-01,  ..., 1.8706e-01,\n",
              "            5.7776e-01, 3.6204e-01]],\n",
              "\n",
              "          [[7.7491e-01, 4.6690e-01, 6.2250e-01,  ..., 5.3785e-02,\n",
              "            2.9253e-01, 7.9155e-01],\n",
              "           [1.2933e-01, 2.4988e-01, 6.2874e-01,  ..., 3.9583e-01,\n",
              "            4.9130e-01, 9.3833e-01],\n",
              "           [8.3143e-01, 8.7636e-01, 4.6925e-01,  ..., 7.7988e-01,\n",
              "            2.8023e-01, 7.1921e-01],\n",
              "           ...,\n",
              "           [3.6022e-01, 3.5051e-01, 5.3452e-02,  ..., 1.3922e-01,\n",
              "            7.6279e-01, 1.0076e-01],\n",
              "           [9.1851e-01, 4.1491e-01, 2.2488e-01,  ..., 4.2280e-01,\n",
              "            6.1473e-01, 7.7821e-01],\n",
              "           [8.4714e-01, 5.3419e-01, 2.4442e-01,  ..., 6.3026e-01,\n",
              "            7.9711e-01, 2.8735e-01]],\n",
              "\n",
              "          [[8.3450e-01, 8.8717e-01, 2.2232e-01,  ..., 1.7958e-01,\n",
              "            5.9572e-02, 7.6356e-01],\n",
              "           [1.8099e-01, 9.0092e-01, 4.0098e-01,  ..., 8.4883e-01,\n",
              "            7.5688e-01, 3.7381e-01],\n",
              "           [3.7862e-02, 8.3256e-01, 5.2262e-01,  ..., 1.3127e-01,\n",
              "            2.1457e-01, 2.8623e-01],\n",
              "           ...,\n",
              "           [8.9852e-01, 8.4986e-01, 3.2187e-02,  ..., 6.2346e-01,\n",
              "            7.2851e-01, 2.9316e-01],\n",
              "           [9.7756e-01, 8.1295e-01, 5.8161e-02,  ..., 7.2580e-01,\n",
              "            6.3176e-01, 2.1492e-01],\n",
              "           [9.2296e-02, 8.0055e-01, 2.6961e-01,  ..., 7.3955e-01,\n",
              "            2.2145e-01, 9.8394e-02]],\n",
              "\n",
              "          ...,\n",
              "\n",
              "          [[5.4906e-02, 7.0672e-01, 9.3752e-01,  ..., 7.7650e-01,\n",
              "            6.8946e-01, 7.6654e-01],\n",
              "           [5.3140e-02, 8.3271e-01, 5.1158e-01,  ..., 5.7919e-01,\n",
              "            6.9776e-01, 7.5096e-01],\n",
              "           [1.4307e-01, 4.1063e-01, 5.0507e-01,  ..., 3.9314e-01,\n",
              "            1.6184e-01, 9.3423e-01],\n",
              "           ...,\n",
              "           [3.4767e-01, 5.3646e-01, 5.8622e-01,  ..., 2.7701e-01,\n",
              "            7.2996e-01, 3.5127e-01],\n",
              "           [4.0815e-01, 7.2392e-01, 8.9595e-01,  ..., 4.6669e-01,\n",
              "            6.2762e-01, 4.2459e-01],\n",
              "           [8.6634e-01, 7.3162e-01, 4.9973e-01,  ..., 2.9050e-01,\n",
              "            3.9062e-01, 3.1500e-01]],\n",
              "\n",
              "          [[7.3314e-01, 8.1170e-01, 1.0373e-01,  ..., 3.8933e-01,\n",
              "            6.9372e-01, 2.3338e-01],\n",
              "           [2.0928e-01, 8.3984e-01, 9.2255e-01,  ..., 1.9473e-01,\n",
              "            5.1643e-01, 2.6030e-01],\n",
              "           [8.0822e-01, 1.0192e-01, 5.8199e-01,  ..., 4.1732e-01,\n",
              "            9.8568e-01, 4.6508e-01],\n",
              "           ...,\n",
              "           [5.0322e-01, 6.7612e-01, 1.3469e-01,  ..., 1.0889e-01,\n",
              "            6.6102e-01, 9.4037e-01],\n",
              "           [1.4849e-01, 2.2407e-01, 4.6294e-01,  ..., 9.7085e-01,\n",
              "            7.7392e-01, 8.1463e-01],\n",
              "           [3.8409e-01, 9.0320e-01, 4.5820e-01,  ..., 5.9927e-01,\n",
              "            8.5865e-01, 9.9641e-01]],\n",
              "\n",
              "          [[3.8744e-01, 9.3440e-01, 5.4478e-01,  ..., 9.7372e-01,\n",
              "            1.7338e-01, 1.6402e-01],\n",
              "           [1.5149e-02, 4.3259e-01, 8.0947e-01,  ..., 8.3839e-01,\n",
              "            9.2240e-01, 3.6945e-01],\n",
              "           [7.0263e-01, 8.2164e-01, 2.7729e-01,  ..., 4.2329e-01,\n",
              "            6.0925e-01, 9.5093e-01],\n",
              "           ...,\n",
              "           [5.7972e-01, 1.5967e-01, 6.9909e-02,  ..., 6.5845e-01,\n",
              "            6.3100e-01, 5.7206e-01],\n",
              "           [8.6907e-01, 5.2287e-01, 1.5438e-01,  ..., 2.9339e-01,\n",
              "            4.5700e-01, 9.7710e-02],\n",
              "           [7.4841e-02, 7.4969e-01, 8.4325e-01,  ..., 6.7001e-02,\n",
              "            6.5300e-02, 8.4590e-02]]],\n",
              "\n",
              "\n",
              "         [[[3.2055e-01, 6.0190e-01, 2.9488e-01,  ..., 2.0090e-01,\n",
              "            8.1385e-01, 5.9333e-01],\n",
              "           [4.9590e-01, 5.4496e-01, 7.6796e-01,  ..., 4.1295e-01,\n",
              "            2.1840e-01, 2.1834e-01],\n",
              "           [9.1353e-02, 2.6467e-01, 4.4085e-01,  ..., 1.3827e-01,\n",
              "            8.1484e-01, 2.8271e-02],\n",
              "           ...,\n",
              "           [9.1035e-01, 5.7537e-01, 7.5578e-01,  ..., 8.8622e-01,\n",
              "            8.2788e-01, 8.8452e-01],\n",
              "           [6.5880e-02, 5.7388e-02, 2.8357e-01,  ..., 7.8758e-01,\n",
              "            9.9056e-01, 9.5994e-01],\n",
              "           [7.8317e-01, 3.3788e-01, 8.4026e-01,  ..., 8.2990e-02,\n",
              "            8.6462e-01, 9.1884e-01]],\n",
              "\n",
              "          [[4.7239e-01, 5.8812e-01, 4.6533e-01,  ..., 5.0383e-02,\n",
              "            2.6158e-01, 7.3987e-03],\n",
              "           [8.7414e-01, 5.2912e-02, 7.4807e-01,  ..., 9.9761e-01,\n",
              "            4.6168e-01, 4.2154e-01],\n",
              "           [9.7463e-01, 7.1037e-01, 6.6012e-01,  ..., 1.3714e-01,\n",
              "            7.2503e-01, 9.7146e-01],\n",
              "           ...,\n",
              "           [4.0027e-01, 9.3870e-01, 5.9847e-01,  ..., 2.4785e-01,\n",
              "            9.3539e-01, 5.0756e-01],\n",
              "           [8.5397e-01, 2.4948e-01, 1.5722e-01,  ..., 3.3630e-01,\n",
              "            2.9085e-01, 7.4250e-01],\n",
              "           [3.4771e-01, 8.9372e-01, 4.0051e-01,  ..., 4.2910e-01,\n",
              "            3.4879e-01, 5.3755e-01]],\n",
              "\n",
              "          [[4.2159e-01, 3.8238e-01, 4.0531e-01,  ..., 3.0937e-02,\n",
              "            7.3888e-01, 2.1949e-01],\n",
              "           [7.2048e-02, 3.2562e-01, 8.8445e-01,  ..., 7.1693e-01,\n",
              "            8.5560e-01, 9.1301e-01],\n",
              "           [5.6187e-02, 3.6873e-01, 7.1296e-01,  ..., 5.5375e-01,\n",
              "            5.2956e-01, 4.8369e-01],\n",
              "           ...,\n",
              "           [2.5593e-01, 1.1789e-02, 7.6638e-01,  ..., 5.6172e-01,\n",
              "            8.4945e-01, 3.6115e-01],\n",
              "           [2.9172e-01, 4.2957e-04, 7.7349e-01,  ..., 1.8086e-02,\n",
              "            6.9735e-01, 1.9944e-01],\n",
              "           [7.1084e-01, 6.9587e-01, 9.5645e-01,  ..., 8.4016e-01,\n",
              "            7.1204e-02, 4.4666e-01]],\n",
              "\n",
              "          ...,\n",
              "\n",
              "          [[5.7752e-01, 9.3388e-01, 4.4254e-01,  ..., 9.5979e-01,\n",
              "            2.4596e-01, 8.5254e-01],\n",
              "           [2.8242e-01, 1.8827e-01, 7.6442e-01,  ..., 9.6515e-02,\n",
              "            1.5663e-01, 4.1796e-01],\n",
              "           [1.8303e-01, 1.6612e-01, 1.4028e-01,  ..., 6.1001e-01,\n",
              "            8.1036e-01, 5.9794e-01],\n",
              "           ...,\n",
              "           [3.2551e-01, 9.6641e-01, 8.7104e-02,  ..., 7.3735e-01,\n",
              "            6.5630e-01, 8.2569e-01],\n",
              "           [6.2955e-01, 9.7412e-01, 3.8930e-01,  ..., 9.7985e-01,\n",
              "            7.6264e-01, 6.0555e-01],\n",
              "           [4.7580e-01, 9.4233e-01, 3.9330e-01,  ..., 4.3914e-01,\n",
              "            2.0464e-01, 9.3899e-01]],\n",
              "\n",
              "          [[9.7903e-01, 3.6879e-01, 8.5482e-02,  ..., 8.5114e-01,\n",
              "            4.2430e-01, 8.5218e-01],\n",
              "           [7.2899e-01, 6.7220e-01, 7.8179e-01,  ..., 3.2973e-01,\n",
              "            2.4237e-01, 8.0044e-01],\n",
              "           [2.7743e-01, 3.2059e-01, 7.4728e-01,  ..., 3.2964e-01,\n",
              "            4.0272e-01, 3.9551e-01],\n",
              "           ...,\n",
              "           [9.9453e-01, 5.3142e-01, 2.9541e-01,  ..., 4.0268e-01,\n",
              "            2.7809e-01, 6.3915e-01],\n",
              "           [4.2790e-02, 1.5099e-01, 8.9287e-01,  ..., 7.3921e-01,\n",
              "            7.3971e-02, 7.6408e-01],\n",
              "           [2.1979e-01, 1.9340e-01, 5.9568e-01,  ..., 6.5609e-01,\n",
              "            5.0460e-01, 1.0054e-01]],\n",
              "\n",
              "          [[6.9072e-02, 9.3587e-01, 9.0711e-01,  ..., 9.8640e-01,\n",
              "            7.3694e-01, 1.6469e-01],\n",
              "           [3.2255e-01, 8.7850e-01, 2.7651e-02,  ..., 9.1855e-01,\n",
              "            1.1114e-01, 4.1884e-01],\n",
              "           [7.4835e-02, 1.7328e-01, 9.8606e-01,  ..., 8.5734e-02,\n",
              "            4.0002e-01, 1.4072e-01],\n",
              "           ...,\n",
              "           [9.3225e-01, 4.1954e-01, 9.8708e-01,  ..., 9.9137e-01,\n",
              "            5.6068e-01, 4.2241e-01],\n",
              "           [2.0696e-01, 2.9615e-01, 2.0782e-01,  ..., 3.8936e-01,\n",
              "            4.7734e-01, 9.6798e-01],\n",
              "           [3.7211e-01, 6.7293e-01, 4.2116e-01,  ..., 6.2329e-01,\n",
              "            4.3315e-01, 2.4569e-01]]],\n",
              "\n",
              "\n",
              "         [[[1.2925e-01, 5.6720e-02, 2.3787e-01,  ..., 9.9293e-02,\n",
              "            7.5737e-01, 9.2660e-01],\n",
              "           [4.7317e-01, 2.6842e-01, 7.8583e-01,  ..., 5.6618e-01,\n",
              "            5.5479e-01, 4.2384e-01],\n",
              "           [2.4604e-01, 7.2793e-01, 2.1727e-01,  ..., 5.1232e-01,\n",
              "            2.8329e-01, 7.6854e-01],\n",
              "           ...,\n",
              "           [4.2180e-01, 2.3362e-01, 9.8069e-01,  ..., 9.9785e-01,\n",
              "            5.9912e-02, 8.3534e-01],\n",
              "           [2.7744e-01, 6.2804e-01, 1.7851e-01,  ..., 4.6964e-01,\n",
              "            3.8942e-01, 8.0503e-01],\n",
              "           [6.8429e-01, 4.3919e-01, 7.2543e-01,  ..., 1.1655e-02,\n",
              "            2.7152e-02, 7.3187e-01]],\n",
              "\n",
              "          [[6.1384e-01, 9.0266e-01, 3.9056e-01,  ..., 7.0795e-01,\n",
              "            2.0193e-01, 2.0790e-01],\n",
              "           [7.6640e-02, 3.4036e-01, 2.9647e-01,  ..., 3.6583e-01,\n",
              "            5.3104e-01, 2.8486e-01],\n",
              "           [8.3398e-01, 2.9123e-01, 9.9651e-02,  ..., 9.3085e-01,\n",
              "            4.1019e-01, 7.5004e-01],\n",
              "           ...,\n",
              "           [6.7762e-01, 6.6940e-01, 9.1553e-01,  ..., 8.6352e-01,\n",
              "            3.9369e-02, 3.7521e-01],\n",
              "           [6.9914e-01, 4.6469e-01, 5.9051e-01,  ..., 5.9921e-02,\n",
              "            4.3308e-01, 3.9198e-02],\n",
              "           [1.4230e-01, 6.4839e-01, 2.1890e-01,  ..., 4.6771e-01,\n",
              "            3.3279e-01, 4.9779e-03]],\n",
              "\n",
              "          [[8.7392e-01, 3.8794e-02, 1.8746e-01,  ..., 3.3538e-01,\n",
              "            8.8404e-01, 3.1096e-01],\n",
              "           [7.2429e-01, 3.4754e-01, 3.0012e-02,  ..., 2.6491e-01,\n",
              "            3.9509e-01, 3.2349e-01],\n",
              "           [9.1418e-01, 9.3336e-01, 3.8729e-02,  ..., 2.6236e-01,\n",
              "            9.1081e-01, 1.8661e-01],\n",
              "           ...,\n",
              "           [3.6825e-01, 3.6114e-01, 4.6449e-01,  ..., 2.0203e-01,\n",
              "            2.8830e-01, 3.3235e-01],\n",
              "           [9.1569e-03, 8.0758e-01, 3.3439e-01,  ..., 3.8884e-01,\n",
              "            5.9849e-02, 3.6137e-01],\n",
              "           [2.7418e-01, 4.5584e-01, 1.2328e-01,  ..., 3.3342e-02,\n",
              "            1.6036e-01, 1.4961e-01]],\n",
              "\n",
              "          ...,\n",
              "\n",
              "          [[9.3905e-02, 7.8637e-01, 2.9776e-01,  ..., 6.1198e-01,\n",
              "            3.3748e-01, 3.6384e-01],\n",
              "           [7.1409e-01, 4.2313e-01, 8.6465e-01,  ..., 6.7681e-01,\n",
              "            3.9831e-01, 4.7328e-02],\n",
              "           [6.6091e-02, 6.7199e-01, 9.0459e-01,  ..., 3.8994e-01,\n",
              "            4.6227e-01, 6.3244e-02],\n",
              "           ...,\n",
              "           [2.8858e-01, 4.6568e-01, 2.9272e-01,  ..., 3.8326e-01,\n",
              "            9.4575e-01, 7.2011e-02],\n",
              "           [7.3098e-01, 1.9199e-01, 6.6837e-01,  ..., 7.6345e-01,\n",
              "            7.9997e-01, 9.0882e-01],\n",
              "           [9.4996e-01, 3.2997e-01, 3.5332e-01,  ..., 7.5346e-01,\n",
              "            4.5692e-01, 8.8141e-01]],\n",
              "\n",
              "          [[3.4717e-01, 4.5975e-02, 5.0866e-01,  ..., 5.3927e-01,\n",
              "            7.7746e-02, 3.2787e-01],\n",
              "           [4.3140e-01, 7.4090e-01, 2.9370e-01,  ..., 4.3455e-02,\n",
              "            9.2592e-01, 1.8147e-01],\n",
              "           [4.8450e-02, 4.5412e-01, 6.8330e-01,  ..., 8.2608e-01,\n",
              "            4.0993e-01, 4.8688e-01],\n",
              "           ...,\n",
              "           [2.7149e-01, 4.7611e-01, 6.8000e-01,  ..., 4.4903e-01,\n",
              "            7.6099e-01, 6.8455e-01],\n",
              "           [2.2493e-01, 2.8922e-01, 8.4265e-01,  ..., 9.0819e-01,\n",
              "            8.4099e-01, 1.9464e-01],\n",
              "           [2.9537e-01, 8.0128e-01, 1.8478e-01,  ..., 6.2051e-01,\n",
              "            5.9567e-01, 3.8959e-01]],\n",
              "\n",
              "          [[8.0634e-01, 8.2078e-01, 6.7075e-01,  ..., 2.6994e-01,\n",
              "            3.5117e-01, 7.6850e-01],\n",
              "           [9.7632e-01, 1.1733e-01, 1.1532e-01,  ..., 7.3499e-01,\n",
              "            8.3789e-01, 3.3865e-01],\n",
              "           [4.5457e-01, 9.6420e-01, 9.2746e-01,  ..., 3.3991e-01,\n",
              "            9.8521e-01, 8.2160e-01],\n",
              "           ...,\n",
              "           [4.0759e-02, 1.4318e-01, 5.3620e-01,  ..., 6.5738e-01,\n",
              "            1.7010e-01, 7.7960e-01],\n",
              "           [5.4572e-01, 9.5104e-01, 4.2385e-01,  ..., 5.9990e-01,\n",
              "            7.3385e-02, 9.6754e-01],\n",
              "           [5.8375e-02, 1.2131e-01, 2.1906e-01,  ..., 3.4591e-01,\n",
              "            6.1232e-01, 9.1817e-01]]]],\n",
              "\n",
              "\n",
              "\n",
              "        [[[[2.9465e-01, 8.6780e-01, 5.2806e-01,  ..., 7.2456e-01,\n",
              "            3.1404e-01, 6.7345e-01],\n",
              "           [4.3752e-01, 5.1578e-01, 2.8896e-01,  ..., 7.9278e-01,\n",
              "            8.0221e-02, 1.0693e-01],\n",
              "           [1.8864e-01, 9.3444e-01, 5.9396e-01,  ..., 8.1096e-02,\n",
              "            3.0051e-01, 4.3014e-01],\n",
              "           ...,\n",
              "           [9.1147e-01, 1.0417e-01, 5.4853e-01,  ..., 3.9118e-01,\n",
              "            1.6135e-01, 4.2260e-01],\n",
              "           [8.5061e-01, 1.1904e-01, 2.3113e-01,  ..., 7.9088e-01,\n",
              "            7.8432e-01, 2.5828e-01],\n",
              "           [2.9986e-01, 2.4019e-01, 5.9735e-01,  ..., 4.2225e-01,\n",
              "            3.2849e-02, 8.4827e-01]],\n",
              "\n",
              "          [[1.3376e-01, 9.2221e-01, 5.9883e-01,  ..., 7.3797e-01,\n",
              "            3.2908e-01, 1.9948e-01],\n",
              "           [2.7813e-01, 7.0899e-01, 3.8775e-01,  ..., 6.1823e-01,\n",
              "            8.7619e-01, 7.8864e-01],\n",
              "           [6.6423e-01, 1.2551e-01, 8.3253e-01,  ..., 6.4280e-01,\n",
              "            1.0336e-01, 2.8748e-01],\n",
              "           ...,\n",
              "           [3.2590e-01, 3.9883e-01, 5.3864e-01,  ..., 1.0882e-01,\n",
              "            8.1384e-01, 8.2643e-01],\n",
              "           [7.0543e-01, 5.3714e-01, 8.3170e-01,  ..., 7.7956e-01,\n",
              "            8.4802e-01, 2.7421e-02],\n",
              "           [6.6333e-01, 4.1744e-01, 6.5754e-01,  ..., 6.7104e-01,\n",
              "            9.1425e-02, 2.7038e-01]],\n",
              "\n",
              "          [[9.3624e-01, 5.2134e-01, 6.5146e-01,  ..., 9.0611e-01,\n",
              "            1.2741e-01, 9.6651e-01],\n",
              "           [8.9350e-01, 9.5556e-01, 4.6739e-02,  ..., 3.2081e-01,\n",
              "            9.9724e-01, 3.3200e-01],\n",
              "           [5.8666e-01, 2.8708e-01, 5.8485e-01,  ..., 9.3990e-01,\n",
              "            9.8809e-01, 8.0607e-01],\n",
              "           ...,\n",
              "           [7.5968e-02, 4.3782e-01, 4.0921e-01,  ..., 3.7848e-01,\n",
              "            9.7358e-01, 8.4145e-01],\n",
              "           [7.4300e-02, 9.8001e-01, 4.3724e-02,  ..., 2.4534e-01,\n",
              "            3.6776e-01, 3.4059e-01],\n",
              "           [9.8175e-01, 6.7981e-01, 8.3147e-01,  ..., 1.8086e-01,\n",
              "            2.3544e-01, 2.1237e-01]],\n",
              "\n",
              "          ...,\n",
              "\n",
              "          [[5.9984e-01, 4.4745e-01, 5.1667e-01,  ..., 2.8410e-01,\n",
              "            3.3024e-02, 8.7824e-01],\n",
              "           [5.4339e-02, 6.4821e-01, 5.3784e-01,  ..., 5.7261e-01,\n",
              "            8.4558e-02, 5.7074e-01],\n",
              "           [8.9878e-01, 2.7198e-01, 3.3395e-01,  ..., 8.3455e-01,\n",
              "            1.3356e-02, 9.0389e-01],\n",
              "           ...,\n",
              "           [7.3595e-01, 2.1203e-01, 3.4773e-01,  ..., 6.8270e-01,\n",
              "            5.9903e-01, 4.4354e-01],\n",
              "           [4.9879e-01, 9.7064e-01, 7.3155e-01,  ..., 7.6701e-01,\n",
              "            1.7850e-01, 7.2475e-01],\n",
              "           [5.6827e-01, 2.9913e-01, 4.5048e-01,  ..., 3.8043e-01,\n",
              "            5.0269e-01, 2.9684e-01]],\n",
              "\n",
              "          [[6.7967e-01, 5.2201e-01, 2.1368e-01,  ..., 3.2696e-01,\n",
              "            3.6322e-01, 3.8682e-01],\n",
              "           [1.1032e-01, 9.9708e-01, 7.3247e-02,  ..., 5.9307e-01,\n",
              "            3.1290e-01, 3.9081e-02],\n",
              "           [4.4115e-01, 2.1497e-01, 2.8585e-01,  ..., 9.7670e-01,\n",
              "            3.7280e-01, 5.4318e-01],\n",
              "           ...,\n",
              "           [1.0769e-01, 8.5789e-01, 4.6848e-01,  ..., 8.5407e-01,\n",
              "            2.6016e-02, 1.3137e-01],\n",
              "           [3.6067e-01, 2.8906e-01, 6.3525e-01,  ..., 1.8398e-01,\n",
              "            1.2426e-01, 8.8948e-01],\n",
              "           [6.6299e-01, 4.4741e-01, 8.1778e-01,  ..., 5.9263e-01,\n",
              "            8.3292e-02, 2.9993e-01]],\n",
              "\n",
              "          [[8.6594e-01, 8.7704e-01, 4.3112e-01,  ..., 3.0871e-01,\n",
              "            2.2717e-01, 6.9760e-01],\n",
              "           [5.3923e-01, 9.6522e-01, 3.1667e-01,  ..., 2.1421e-01,\n",
              "            3.7201e-01, 3.4709e-02],\n",
              "           [8.2583e-01, 6.3913e-01, 8.6634e-01,  ..., 3.9654e-02,\n",
              "            8.2680e-01, 4.5544e-01],\n",
              "           ...,\n",
              "           [6.6122e-01, 3.1974e-01, 7.8077e-01,  ..., 7.6365e-01,\n",
              "            4.4315e-01, 3.7544e-01],\n",
              "           [9.0546e-01, 4.2513e-01, 3.3253e-01,  ..., 4.8204e-01,\n",
              "            8.1625e-01, 7.2899e-01],\n",
              "           [7.8858e-01, 8.4578e-01, 6.5648e-01,  ..., 7.7888e-01,\n",
              "            6.4118e-01, 6.1042e-01]]],\n",
              "\n",
              "\n",
              "         [[[3.3675e-01, 4.1808e-01, 9.6185e-02,  ..., 8.7075e-01,\n",
              "            6.3428e-01, 5.1075e-01],\n",
              "           [1.3388e-01, 7.9200e-01, 8.2579e-01,  ..., 8.0079e-01,\n",
              "            2.6305e-01, 8.6570e-01],\n",
              "           [5.8771e-01, 1.6902e-01, 5.9460e-01,  ..., 9.8384e-01,\n",
              "            4.9979e-01, 3.6151e-01],\n",
              "           ...,\n",
              "           [9.0897e-01, 9.9974e-02, 4.2237e-01,  ..., 5.7909e-01,\n",
              "            7.3774e-01, 2.8910e-02],\n",
              "           [1.7402e-02, 4.5738e-01, 5.3640e-02,  ..., 4.7582e-01,\n",
              "            4.6526e-01, 8.5087e-01],\n",
              "           [3.1420e-01, 2.0788e-01, 4.9191e-01,  ..., 1.3033e-01,\n",
              "            2.7983e-01, 7.6729e-01]],\n",
              "\n",
              "          [[2.3181e-01, 4.8324e-01, 7.5666e-01,  ..., 4.1423e-01,\n",
              "            9.2284e-02, 8.7956e-01],\n",
              "           [6.1612e-01, 7.9952e-01, 9.3994e-01,  ..., 6.1734e-01,\n",
              "            7.9775e-01, 2.1830e-01],\n",
              "           [4.9673e-01, 4.7354e-01, 1.6926e-02,  ..., 1.1355e-01,\n",
              "            8.9962e-01, 1.7025e-02],\n",
              "           ...,\n",
              "           [9.5963e-01, 9.7862e-01, 9.8647e-01,  ..., 7.8133e-01,\n",
              "            2.2664e-01, 9.5161e-01],\n",
              "           [4.4320e-02, 1.5012e-01, 2.1533e-01,  ..., 6.7791e-01,\n",
              "            5.3991e-01, 7.3848e-01],\n",
              "           [1.6743e-01, 8.7171e-01, 6.9722e-01,  ..., 2.9593e-01,\n",
              "            2.1911e-01, 3.8972e-01]],\n",
              "\n",
              "          [[1.2163e-01, 9.3535e-02, 2.7492e-01,  ..., 5.3667e-01,\n",
              "            2.3708e-02, 4.8373e-01],\n",
              "           [6.2747e-01, 1.7096e-01, 8.6424e-01,  ..., 1.9696e-01,\n",
              "            3.2974e-01, 7.0289e-01],\n",
              "           [3.4194e-01, 7.9412e-01, 9.1748e-01,  ..., 6.9696e-01,\n",
              "            8.8488e-01, 3.0234e-01],\n",
              "           ...,\n",
              "           [8.6864e-01, 8.7177e-01, 2.0237e-01,  ..., 8.9947e-01,\n",
              "            1.4922e-01, 6.0745e-01],\n",
              "           [3.4726e-01, 1.6568e-01, 3.2584e-01,  ..., 4.2869e-01,\n",
              "            4.5006e-01, 8.0038e-01],\n",
              "           [3.8461e-01, 8.5487e-01, 6.4713e-01,  ..., 1.1668e-02,\n",
              "            8.4883e-01, 4.2783e-01]],\n",
              "\n",
              "          ...,\n",
              "\n",
              "          [[9.7649e-01, 6.1351e-01, 7.9178e-01,  ..., 2.4790e-01,\n",
              "            8.1671e-01, 4.9798e-01],\n",
              "           [4.2551e-02, 6.9047e-01, 3.4887e-01,  ..., 6.7077e-01,\n",
              "            7.5058e-02, 2.5720e-01],\n",
              "           [8.3323e-01, 2.3286e-01, 7.7554e-01,  ..., 6.8893e-01,\n",
              "            7.8912e-01, 1.1775e-01],\n",
              "           ...,\n",
              "           [3.1087e-01, 6.8360e-01, 2.5502e-01,  ..., 4.7757e-02,\n",
              "            7.4658e-01, 2.6534e-01],\n",
              "           [3.0776e-01, 3.0658e-01, 7.2508e-01,  ..., 8.9007e-01,\n",
              "            4.7042e-01, 5.4030e-01],\n",
              "           [2.6544e-01, 6.4934e-01, 4.3578e-01,  ..., 2.2583e-01,\n",
              "            8.2329e-01, 3.3458e-01]],\n",
              "\n",
              "          [[9.4376e-01, 2.7439e-01, 1.0785e-01,  ..., 3.4878e-01,\n",
              "            4.9555e-01, 3.4654e-01],\n",
              "           [3.9763e-01, 2.1744e-01, 4.6497e-02,  ..., 8.0848e-01,\n",
              "            8.4217e-01, 6.5595e-01],\n",
              "           [2.7865e-01, 4.4198e-01, 4.7565e-02,  ..., 7.7251e-01,\n",
              "            9.2772e-02, 9.3605e-01],\n",
              "           ...,\n",
              "           [7.4400e-01, 3.7543e-01, 9.4103e-02,  ..., 8.9503e-01,\n",
              "            2.9722e-01, 9.5015e-01],\n",
              "           [4.9910e-01, 5.4665e-02, 4.6180e-01,  ..., 7.2232e-02,\n",
              "            5.1562e-01, 2.8427e-01],\n",
              "           [6.5254e-01, 7.4749e-01, 3.2963e-01,  ..., 7.4464e-01,\n",
              "            2.7069e-01, 8.4579e-01]],\n",
              "\n",
              "          [[4.8619e-01, 9.3907e-01, 7.5221e-01,  ..., 6.0911e-01,\n",
              "            4.0805e-01, 9.8863e-01],\n",
              "           [3.4651e-01, 5.0274e-01, 2.8527e-01,  ..., 8.4527e-01,\n",
              "            8.4249e-01, 9.4086e-01],\n",
              "           [4.4672e-01, 4.8086e-01, 6.3521e-02,  ..., 4.3240e-01,\n",
              "            4.6331e-01, 4.0226e-01],\n",
              "           ...,\n",
              "           [2.5882e-01, 3.6079e-01, 4.8704e-01,  ..., 9.5249e-01,\n",
              "            8.9649e-01, 5.5158e-01],\n",
              "           [5.6151e-01, 8.8956e-01, 9.3552e-01,  ..., 1.9454e-01,\n",
              "            4.0092e-01, 4.2083e-01],\n",
              "           [8.6366e-01, 1.7304e-01, 9.1519e-01,  ..., 4.8798e-01,\n",
              "            9.8849e-02, 3.5455e-01]]],\n",
              "\n",
              "\n",
              "         [[[5.7900e-01, 6.2951e-01, 8.3093e-01,  ..., 4.0505e-01,\n",
              "            5.6246e-01, 5.3661e-01],\n",
              "           [9.0287e-01, 5.4833e-01, 6.4650e-01,  ..., 1.8747e-01,\n",
              "            6.0380e-01, 1.3210e-01],\n",
              "           [9.9939e-01, 4.0731e-01, 2.7280e-01,  ..., 9.4155e-01,\n",
              "            1.9320e-01, 2.5944e-01],\n",
              "           ...,\n",
              "           [6.3578e-01, 6.5356e-01, 2.6459e-01,  ..., 5.3679e-01,\n",
              "            1.4477e-01, 8.9128e-01],\n",
              "           [3.9428e-01, 3.8629e-01, 8.2371e-01,  ..., 7.0537e-01,\n",
              "            7.9681e-01, 6.4499e-01],\n",
              "           [7.6586e-01, 2.8763e-01, 7.3033e-01,  ..., 9.2510e-01,\n",
              "            8.6232e-01, 5.0236e-01]],\n",
              "\n",
              "          [[5.8372e-01, 4.8358e-01, 9.5652e-02,  ..., 4.6833e-01,\n",
              "            6.4754e-01, 8.9010e-01],\n",
              "           [8.4869e-01, 2.3386e-01, 5.4313e-01,  ..., 2.6799e-01,\n",
              "            5.2471e-01, 1.0130e-01],\n",
              "           [3.6521e-01, 8.1844e-01, 2.6875e-01,  ..., 8.8865e-02,\n",
              "            4.1641e-01, 4.7686e-01],\n",
              "           ...,\n",
              "           [2.9053e-01, 9.1588e-01, 4.7235e-02,  ..., 8.0766e-01,\n",
              "            5.8819e-01, 4.1537e-01],\n",
              "           [7.1083e-01, 2.9331e-01, 1.0593e-01,  ..., 2.6933e-01,\n",
              "            8.6406e-01, 3.1681e-01],\n",
              "           [1.5300e-01, 7.7430e-01, 6.8779e-01,  ..., 7.3837e-01,\n",
              "            8.0179e-01, 8.5882e-02]],\n",
              "\n",
              "          [[6.9449e-01, 7.9162e-01, 4.3999e-01,  ..., 1.2637e-01,\n",
              "            1.3712e-01, 5.9052e-01],\n",
              "           [9.9608e-03, 8.6058e-01, 7.6959e-01,  ..., 1.3321e-01,\n",
              "            5.4358e-01, 3.2955e-01],\n",
              "           [7.3598e-01, 2.7502e-01, 8.4155e-01,  ..., 1.2544e-01,\n",
              "            4.8489e-01, 4.2741e-02],\n",
              "           ...,\n",
              "           [6.3600e-01, 7.5619e-01, 5.1887e-01,  ..., 4.4953e-01,\n",
              "            8.3766e-01, 1.6596e-03],\n",
              "           [3.0537e-01, 8.4208e-01, 8.4920e-01,  ..., 8.9034e-01,\n",
              "            8.9646e-03, 8.3470e-01],\n",
              "           [7.7078e-01, 8.4577e-01, 9.2655e-01,  ..., 6.8138e-01,\n",
              "            8.8666e-02, 9.0096e-01]],\n",
              "\n",
              "          ...,\n",
              "\n",
              "          [[1.1819e-01, 4.8603e-01, 6.0459e-01,  ..., 7.5996e-01,\n",
              "            3.1209e-01, 8.9306e-01],\n",
              "           [6.2475e-01, 9.2397e-01, 7.7779e-01,  ..., 7.0083e-01,\n",
              "            6.0589e-01, 1.2502e-01],\n",
              "           [4.1773e-01, 9.8896e-01, 1.7061e-02,  ..., 7.0271e-01,\n",
              "            8.1014e-01, 5.7447e-01],\n",
              "           ...,\n",
              "           [2.1800e-01, 4.0297e-01, 1.2924e-01,  ..., 4.2494e-01,\n",
              "            9.8594e-01, 3.8795e-02],\n",
              "           [6.7736e-01, 9.6958e-01, 5.2357e-01,  ..., 9.0315e-01,\n",
              "            5.1960e-01, 1.6843e-01],\n",
              "           [9.7860e-01, 3.6001e-01, 3.1557e-01,  ..., 3.1628e-01,\n",
              "            6.5508e-01, 9.1473e-01]],\n",
              "\n",
              "          [[1.8058e-01, 6.4425e-01, 9.7326e-01,  ..., 7.3685e-01,\n",
              "            2.0587e-01, 1.5379e-01],\n",
              "           [6.4904e-01, 7.8558e-01, 6.4215e-01,  ..., 4.0159e-01,\n",
              "            1.2457e-01, 4.3332e-01],\n",
              "           [6.8851e-01, 9.6945e-01, 9.8979e-01,  ..., 9.6699e-01,\n",
              "            1.0504e-01, 5.8916e-01],\n",
              "           ...,\n",
              "           [7.8969e-01, 5.3097e-01, 3.8798e-01,  ..., 9.8801e-01,\n",
              "            7.6552e-01, 2.0050e-01],\n",
              "           [6.9459e-01, 4.6533e-01, 3.3124e-01,  ..., 9.1282e-01,\n",
              "            1.9695e-01, 5.6505e-01],\n",
              "           [2.1307e-01, 4.3927e-01, 3.2219e-01,  ..., 8.7943e-01,\n",
              "            3.7115e-01, 9.0369e-01]],\n",
              "\n",
              "          [[2.5501e-01, 6.1644e-02, 6.1784e-01,  ..., 4.0167e-01,\n",
              "            9.8306e-01, 5.3398e-01],\n",
              "           [6.2619e-01, 8.5009e-02, 8.3673e-01,  ..., 5.0350e-01,\n",
              "            1.5566e-01, 3.2736e-01],\n",
              "           [1.7901e-01, 5.8242e-01, 1.8290e-01,  ..., 2.9472e-01,\n",
              "            3.3139e-02, 6.2205e-01],\n",
              "           ...,\n",
              "           [7.5406e-01, 8.8358e-01, 4.9767e-01,  ..., 2.0797e-01,\n",
              "            2.0012e-01, 3.1883e-01],\n",
              "           [2.1715e-01, 8.6628e-01, 3.7458e-01,  ..., 3.9860e-01,\n",
              "            7.8672e-01, 5.3385e-01],\n",
              "           [2.3668e-01, 6.1997e-01, 6.0011e-01,  ..., 1.5321e-01,\n",
              "            9.7958e-01, 8.8499e-01]]],\n",
              "\n",
              "\n",
              "         ...,\n",
              "\n",
              "\n",
              "         [[[7.8325e-01, 4.0207e-01, 9.1249e-01,  ..., 1.7447e-01,\n",
              "            4.5330e-01, 3.9223e-01],\n",
              "           [1.6740e-01, 5.1969e-01, 3.2169e-01,  ..., 2.3452e-01,\n",
              "            9.5385e-01, 5.0798e-01],\n",
              "           [3.0781e-01, 2.8489e-01, 3.3106e-02,  ..., 8.3792e-01,\n",
              "            5.0371e-01, 9.3524e-01],\n",
              "           ...,\n",
              "           [8.7803e-01, 9.9760e-01, 9.6775e-01,  ..., 4.5268e-01,\n",
              "            3.5909e-01, 9.5580e-01],\n",
              "           [7.5948e-01, 7.6091e-01, 8.8026e-01,  ..., 8.1812e-01,\n",
              "            3.4167e-01, 7.1427e-01],\n",
              "           [1.2664e-01, 2.4718e-01, 1.1808e-01,  ..., 6.1365e-01,\n",
              "            2.6877e-01, 6.9771e-01]],\n",
              "\n",
              "          [[8.7011e-01, 6.8874e-01, 9.1070e-01,  ..., 2.9476e-01,\n",
              "            4.7367e-02, 7.4808e-01],\n",
              "           [3.6182e-01, 7.6241e-01, 8.5793e-01,  ..., 2.8304e-01,\n",
              "            2.9949e-01, 5.9873e-01],\n",
              "           [9.7216e-01, 3.0363e-01, 6.1817e-01,  ..., 1.7472e-01,\n",
              "            5.7365e-01, 6.2787e-01],\n",
              "           ...,\n",
              "           [8.2677e-01, 8.7994e-01, 8.1889e-01,  ..., 2.8956e-01,\n",
              "            5.1612e-01, 7.3388e-01],\n",
              "           [3.0447e-01, 4.2110e-01, 3.2044e-01,  ..., 2.4596e-01,\n",
              "            5.6535e-01, 2.5816e-01],\n",
              "           [3.4826e-01, 4.2118e-01, 4.7720e-01,  ..., 6.9462e-01,\n",
              "            9.7262e-01, 9.8539e-01]],\n",
              "\n",
              "          [[8.6444e-01, 1.9772e-02, 2.0672e-01,  ..., 8.2550e-01,\n",
              "            9.9586e-01, 5.1326e-01],\n",
              "           [4.1063e-01, 6.0431e-01, 9.7702e-01,  ..., 6.9438e-01,\n",
              "            4.4657e-01, 7.3130e-02],\n",
              "           [5.8877e-01, 7.0434e-01, 6.9960e-01,  ..., 9.1559e-02,\n",
              "            3.8289e-01, 2.2882e-01],\n",
              "           ...,\n",
              "           [8.5456e-01, 7.1160e-01, 7.7448e-01,  ..., 9.2081e-02,\n",
              "            2.2641e-01, 7.0210e-01],\n",
              "           [8.0499e-02, 5.7502e-02, 7.7079e-01,  ..., 8.0637e-01,\n",
              "            9.9257e-02, 1.7444e-01],\n",
              "           [8.6403e-02, 3.3573e-02, 2.7107e-02,  ..., 6.9651e-01,\n",
              "            3.5333e-01, 4.6047e-01]],\n",
              "\n",
              "          ...,\n",
              "\n",
              "          [[4.8311e-01, 3.3200e-01, 5.6338e-01,  ..., 6.5017e-01,\n",
              "            5.7428e-03, 3.3543e-01],\n",
              "           [9.4378e-01, 7.1118e-01, 6.5636e-01,  ..., 3.6585e-01,\n",
              "            6.2780e-01, 9.0432e-01],\n",
              "           [9.1102e-01, 3.4908e-01, 4.8082e-01,  ..., 9.8297e-01,\n",
              "            9.9158e-01, 8.1007e-01],\n",
              "           ...,\n",
              "           [3.6184e-01, 7.0963e-01, 5.4067e-01,  ..., 9.0979e-01,\n",
              "            2.7935e-01, 9.1011e-01],\n",
              "           [6.4639e-01, 6.6105e-01, 1.6617e-01,  ..., 2.6822e-01,\n",
              "            2.9735e-01, 2.1322e-01],\n",
              "           [8.7553e-01, 7.8386e-01, 8.3226e-01,  ..., 5.4944e-01,\n",
              "            8.2100e-01, 1.7930e-01]],\n",
              "\n",
              "          [[9.6172e-01, 4.5770e-01, 6.6412e-01,  ..., 9.0008e-01,\n",
              "            5.7453e-01, 3.6008e-01],\n",
              "           [5.7014e-01, 9.0277e-01, 7.6758e-01,  ..., 9.6998e-01,\n",
              "            1.5271e-01, 2.2458e-01],\n",
              "           [9.3051e-01, 2.1751e-02, 4.2020e-01,  ..., 4.2929e-01,\n",
              "            3.9038e-01, 3.8562e-01],\n",
              "           ...,\n",
              "           [4.7311e-01, 3.6759e-01, 8.0174e-01,  ..., 2.9656e-01,\n",
              "            4.1861e-01, 8.1750e-01],\n",
              "           [4.3665e-01, 9.7921e-01, 5.6050e-02,  ..., 7.6272e-01,\n",
              "            2.7585e-01, 5.0842e-01],\n",
              "           [6.2142e-01, 5.2222e-01, 1.1835e-03,  ..., 8.6805e-01,\n",
              "            1.8559e-01, 1.6703e-01]],\n",
              "\n",
              "          [[3.1112e-01, 8.3736e-01, 7.7845e-01,  ..., 6.6492e-01,\n",
              "            3.1642e-01, 4.3274e-01],\n",
              "           [7.9797e-01, 2.9823e-01, 2.5658e-02,  ..., 2.8724e-01,\n",
              "            3.3069e-01, 3.8410e-01],\n",
              "           [7.0220e-01, 8.5076e-01, 8.8285e-01,  ..., 2.1615e-01,\n",
              "            5.2613e-01, 3.7918e-01],\n",
              "           ...,\n",
              "           [2.0270e-01, 5.1113e-01, 7.6966e-01,  ..., 2.9231e-01,\n",
              "            5.0412e-01, 5.7400e-01],\n",
              "           [6.5249e-01, 3.9795e-01, 3.7731e-01,  ..., 5.1801e-01,\n",
              "            4.5428e-01, 9.9791e-01],\n",
              "           [7.2044e-01, 4.5077e-01, 8.7755e-01,  ..., 3.8461e-01,\n",
              "            7.0845e-01, 3.8180e-01]]],\n",
              "\n",
              "\n",
              "         [[[7.2076e-01, 9.9726e-01, 8.1267e-01,  ..., 4.7537e-01,\n",
              "            2.0319e-01, 8.1976e-01],\n",
              "           [2.3311e-01, 1.8911e-01, 7.4774e-01,  ..., 7.9883e-01,\n",
              "            8.7632e-01, 4.8162e-01],\n",
              "           [3.3053e-01, 1.2366e-01, 9.9251e-01,  ..., 4.9701e-02,\n",
              "            6.8873e-01, 9.1561e-02],\n",
              "           ...,\n",
              "           [9.3282e-01, 5.7134e-01, 5.0975e-01,  ..., 5.2009e-01,\n",
              "            2.4015e-01, 6.5500e-01],\n",
              "           [2.7239e-01, 4.8335e-01, 7.9591e-01,  ..., 1.0120e-01,\n",
              "            8.7990e-02, 2.8872e-01],\n",
              "           [4.7244e-01, 2.1549e-01, 7.2496e-01,  ..., 3.5718e-01,\n",
              "            5.5416e-01, 4.7222e-01]],\n",
              "\n",
              "          [[7.3619e-01, 7.2379e-01, 4.3930e-01,  ..., 8.5370e-01,\n",
              "            3.9999e-01, 4.9147e-01],\n",
              "           [7.1183e-01, 1.7388e-01, 3.0474e-01,  ..., 4.3482e-01,\n",
              "            2.7811e-01, 7.4079e-01],\n",
              "           [5.4764e-02, 6.6565e-01, 5.7536e-01,  ..., 7.2107e-01,\n",
              "            3.4645e-01, 5.6634e-01],\n",
              "           ...,\n",
              "           [2.2039e-01, 9.5906e-01, 4.7289e-01,  ..., 7.5538e-01,\n",
              "            7.3575e-01, 4.8050e-01],\n",
              "           [7.7539e-01, 5.4219e-01, 1.4998e-01,  ..., 6.9377e-01,\n",
              "            6.8187e-01, 8.1364e-01],\n",
              "           [9.4150e-01, 7.5741e-01, 1.8313e-01,  ..., 4.5283e-01,\n",
              "            3.0611e-02, 7.9014e-01]],\n",
              "\n",
              "          [[1.1515e-01, 6.1524e-01, 2.3580e-01,  ..., 9.1969e-01,\n",
              "            8.5246e-01, 8.5629e-01],\n",
              "           [9.5821e-02, 5.8079e-01, 8.7296e-01,  ..., 5.3865e-01,\n",
              "            9.3537e-01, 2.3431e-02],\n",
              "           [8.9186e-01, 6.8469e-01, 4.4789e-01,  ..., 6.5639e-01,\n",
              "            2.1881e-01, 7.7549e-02],\n",
              "           ...,\n",
              "           [9.7507e-01, 4.0787e-01, 9.2116e-01,  ..., 5.7461e-01,\n",
              "            1.6637e-02, 4.7807e-01],\n",
              "           [5.6632e-01, 5.0313e-01, 9.5168e-01,  ..., 8.6809e-01,\n",
              "            4.1366e-01, 3.1919e-01],\n",
              "           [4.0335e-01, 5.9507e-01, 4.3135e-01,  ..., 7.0667e-01,\n",
              "            8.9142e-01, 1.1425e-01]],\n",
              "\n",
              "          ...,\n",
              "\n",
              "          [[1.2877e-01, 4.0625e-01, 2.6206e-01,  ..., 4.3691e-01,\n",
              "            7.5218e-01, 5.8468e-01],\n",
              "           [9.7763e-01, 9.4963e-01, 4.5381e-02,  ..., 2.3067e-01,\n",
              "            8.8358e-01, 4.6406e-02],\n",
              "           [5.6675e-01, 8.3336e-01, 1.9424e-01,  ..., 8.7939e-01,\n",
              "            5.8250e-01, 6.5312e-01],\n",
              "           ...,\n",
              "           [9.6437e-01, 3.0831e-01, 5.2880e-01,  ..., 2.3301e-01,\n",
              "            7.5158e-01, 4.8000e-01],\n",
              "           [6.7742e-01, 6.0731e-01, 4.8412e-01,  ..., 3.6167e-01,\n",
              "            1.6808e-01, 7.2229e-01],\n",
              "           [8.5960e-01, 5.7876e-01, 4.8430e-01,  ..., 3.6828e-01,\n",
              "            7.2143e-01, 2.6521e-01]],\n",
              "\n",
              "          [[5.3687e-01, 9.4675e-02, 7.4938e-01,  ..., 3.3609e-01,\n",
              "            2.9690e-01, 1.0580e-01],\n",
              "           [5.5218e-01, 8.9403e-01, 4.5514e-01,  ..., 4.1621e-01,\n",
              "            2.8528e-02, 8.5945e-01],\n",
              "           [1.0023e-01, 6.1705e-01, 9.5269e-01,  ..., 1.0108e-01,\n",
              "            7.1111e-01, 5.2356e-01],\n",
              "           ...,\n",
              "           [5.4978e-01, 7.4897e-01, 6.3582e-02,  ..., 9.0078e-02,\n",
              "            8.9314e-02, 3.3255e-01],\n",
              "           [2.0917e-01, 5.9066e-01, 2.7776e-01,  ..., 8.0477e-01,\n",
              "            6.0495e-01, 6.7556e-01],\n",
              "           [9.9270e-01, 7.3620e-01, 9.3993e-02,  ..., 5.8199e-01,\n",
              "            3.5595e-01, 3.6676e-01]],\n",
              "\n",
              "          [[4.5844e-02, 4.1647e-01, 9.3452e-01,  ..., 5.6676e-02,\n",
              "            6.0054e-01, 9.1288e-01],\n",
              "           [9.5633e-01, 7.9700e-01, 2.7533e-02,  ..., 1.4750e-01,\n",
              "            9.2379e-01, 3.2255e-01],\n",
              "           [1.5229e-01, 3.5304e-01, 2.1744e-01,  ..., 4.6631e-01,\n",
              "            2.3584e-01, 1.4226e-01],\n",
              "           ...,\n",
              "           [3.6906e-03, 6.5608e-01, 2.2916e-01,  ..., 1.9213e-01,\n",
              "            5.4734e-01, 2.7969e-01],\n",
              "           [6.0884e-01, 9.8598e-01, 1.4399e-01,  ..., 5.4151e-01,\n",
              "            4.4568e-01, 1.3679e-01],\n",
              "           [1.3968e-01, 3.6330e-01, 8.2596e-01,  ..., 4.0657e-02,\n",
              "            3.8731e-01, 5.6881e-01]]],\n",
              "\n",
              "\n",
              "         [[[9.5509e-01, 6.2704e-02, 4.0891e-01,  ..., 4.7109e-01,\n",
              "            8.0454e-01, 5.9396e-01],\n",
              "           [8.8354e-01, 5.5951e-01, 5.7595e-01,  ..., 3.1919e-02,\n",
              "            7.1670e-01, 3.3828e-01],\n",
              "           [5.1915e-01, 9.0813e-01, 1.0083e-02,  ..., 2.0353e-01,\n",
              "            4.5061e-02, 5.9330e-01],\n",
              "           ...,\n",
              "           [6.0097e-01, 9.4844e-02, 4.1272e-01,  ..., 3.3648e-01,\n",
              "            7.8874e-01, 9.0193e-01],\n",
              "           [6.0658e-01, 6.6073e-01, 1.5246e-01,  ..., 1.5535e-01,\n",
              "            8.3386e-01, 4.1121e-01],\n",
              "           [6.6618e-01, 7.1467e-01, 4.7904e-01,  ..., 3.6416e-01,\n",
              "            6.0373e-01, 9.9172e-01]],\n",
              "\n",
              "          [[5.3267e-01, 4.8616e-01, 3.3103e-01,  ..., 7.4703e-01,\n",
              "            8.1256e-01, 1.0098e-01],\n",
              "           [7.2341e-01, 4.0782e-01, 9.1502e-01,  ..., 9.5306e-01,\n",
              "            5.3755e-01, 2.5484e-01],\n",
              "           [9.4303e-01, 4.1993e-01, 8.2116e-01,  ..., 3.3230e-01,\n",
              "            8.0025e-01, 9.7846e-01],\n",
              "           ...,\n",
              "           [5.5224e-01, 9.7714e-02, 2.0906e-01,  ..., 3.5525e-01,\n",
              "            1.6298e-01, 8.6347e-01],\n",
              "           [6.9148e-01, 1.4612e-01, 6.4184e-01,  ..., 6.5266e-01,\n",
              "            7.6229e-01, 6.5122e-01],\n",
              "           [3.9204e-01, 7.2552e-01, 4.4540e-01,  ..., 6.4209e-02,\n",
              "            2.0785e-01, 9.4981e-01]],\n",
              "\n",
              "          [[6.2002e-01, 8.8259e-01, 1.2058e-01,  ..., 2.8738e-01,\n",
              "            8.0927e-01, 7.1942e-01],\n",
              "           [9.6419e-01, 2.6895e-01, 9.4341e-01,  ..., 2.3198e-01,\n",
              "            3.7004e-01, 7.0056e-01],\n",
              "           [2.5805e-02, 7.1997e-01, 8.7835e-01,  ..., 4.1834e-01,\n",
              "            5.5172e-01, 7.4475e-01],\n",
              "           ...,\n",
              "           [7.8475e-01, 3.9132e-01, 1.7505e-01,  ..., 1.3883e-01,\n",
              "            1.8628e-01, 1.8831e-01],\n",
              "           [3.1286e-01, 9.2817e-01, 3.3826e-01,  ..., 8.0211e-01,\n",
              "            2.2367e-01, 9.6417e-01],\n",
              "           [1.5277e-02, 6.0601e-01, 9.5531e-01,  ..., 6.6859e-01,\n",
              "            5.0763e-01, 7.4431e-01]],\n",
              "\n",
              "          ...,\n",
              "\n",
              "          [[7.8490e-02, 8.1036e-02, 6.5969e-01,  ..., 9.3842e-01,\n",
              "            3.6333e-01, 3.1267e-01],\n",
              "           [9.0211e-01, 3.4499e-01, 9.6406e-01,  ..., 6.8220e-01,\n",
              "            7.1341e-01, 3.1455e-01],\n",
              "           [8.2470e-03, 1.0658e-01, 7.0473e-01,  ..., 9.6664e-01,\n",
              "            7.4204e-01, 4.6819e-01],\n",
              "           ...,\n",
              "           [8.6931e-01, 9.6547e-01, 2.2325e-01,  ..., 3.3812e-01,\n",
              "            3.5105e-01, 8.2023e-01],\n",
              "           [5.8366e-01, 8.4088e-01, 6.7444e-01,  ..., 5.5460e-01,\n",
              "            7.8754e-01, 1.0836e-01],\n",
              "           [8.3856e-01, 4.2060e-01, 5.8587e-01,  ..., 6.0620e-01,\n",
              "            3.0178e-01, 1.7579e-01]],\n",
              "\n",
              "          [[5.4322e-01, 9.1032e-01, 5.1653e-01,  ..., 8.8009e-01,\n",
              "            1.0038e-01, 8.7434e-01],\n",
              "           [8.9468e-01, 9.0205e-01, 7.1404e-01,  ..., 1.2197e-01,\n",
              "            3.4077e-01, 6.4763e-01],\n",
              "           [5.7440e-01, 7.7727e-01, 1.8133e-02,  ..., 8.5814e-01,\n",
              "            1.3036e-01, 3.5942e-01],\n",
              "           ...,\n",
              "           [2.2019e-01, 6.9335e-01, 8.9294e-01,  ..., 3.7510e-02,\n",
              "            1.0458e-01, 4.4915e-01],\n",
              "           [4.9268e-01, 6.9737e-01, 5.2817e-01,  ..., 2.6311e-01,\n",
              "            2.5167e-01, 5.1379e-02],\n",
              "           [2.1742e-02, 5.6955e-01, 8.9220e-01,  ..., 7.2940e-01,\n",
              "            7.8126e-01, 1.9651e-01]],\n",
              "\n",
              "          [[8.0809e-01, 8.6564e-02, 1.9288e-01,  ..., 3.2053e-03,\n",
              "            9.7791e-01, 1.8500e-01],\n",
              "           [8.4278e-01, 1.8562e-01, 7.4376e-01,  ..., 7.8898e-01,\n",
              "            7.2119e-01, 4.6422e-01],\n",
              "           [8.6821e-01, 8.7233e-01, 1.3667e-01,  ..., 5.6166e-01,\n",
              "            2.0986e-01, 5.2588e-01],\n",
              "           ...,\n",
              "           [8.0950e-01, 1.6207e-01, 9.8928e-01,  ..., 6.0316e-01,\n",
              "            4.3894e-01, 1.8394e-01],\n",
              "           [3.6466e-01, 4.1366e-01, 2.4643e-01,  ..., 9.9579e-01,\n",
              "            8.3095e-01, 5.7475e-01],\n",
              "           [5.7741e-01, 9.1785e-01, 1.5520e-01,  ..., 7.8048e-01,\n",
              "            8.0955e-01, 9.5597e-01]]]],\n",
              "\n",
              "\n",
              "\n",
              "        [[[[6.9243e-01, 4.9827e-01, 2.9327e-01,  ..., 1.1626e-01,\n",
              "            2.8391e-01, 8.7673e-01],\n",
              "           [9.1519e-01, 8.2581e-01, 4.4489e-01,  ..., 6.3324e-01,\n",
              "            6.8039e-01, 2.0937e-01],\n",
              "           [1.1127e-01, 3.4614e-01, 6.6169e-02,  ..., 8.3903e-01,\n",
              "            6.4327e-01, 3.6237e-01],\n",
              "           ...,\n",
              "           [9.6877e-01, 5.6701e-01, 4.1735e-01,  ..., 1.4792e-01,\n",
              "            8.5716e-01, 2.3574e-01],\n",
              "           [7.5587e-01, 9.9871e-01, 1.5972e-01,  ..., 2.7108e-01,\n",
              "            1.6891e-01, 5.1677e-02],\n",
              "           [8.6657e-01, 6.8166e-01, 6.6796e-01,  ..., 8.5993e-02,\n",
              "            2.1038e-01, 1.7922e-01]],\n",
              "\n",
              "          [[9.4481e-01, 9.2330e-02, 5.3226e-01,  ..., 3.4681e-01,\n",
              "            9.3705e-01, 6.2870e-01],\n",
              "           [1.8207e-01, 3.1278e-01, 7.1127e-03,  ..., 5.0845e-01,\n",
              "            2.8922e-01, 9.5216e-01],\n",
              "           [5.0627e-01, 3.4641e-01, 5.7149e-01,  ..., 2.2654e-01,\n",
              "            1.2610e-01, 1.2577e-01],\n",
              "           ...,\n",
              "           [2.5678e-02, 1.4151e-01, 9.4171e-01,  ..., 3.6998e-01,\n",
              "            8.5274e-01, 7.8847e-01],\n",
              "           [3.5433e-01, 3.3738e-01, 9.2126e-01,  ..., 7.3424e-01,\n",
              "            4.8703e-01, 8.1303e-01],\n",
              "           [6.3138e-01, 5.1031e-01, 9.1544e-01,  ..., 9.5232e-01,\n",
              "            7.2039e-01, 2.3876e-01]],\n",
              "\n",
              "          [[4.4430e-01, 5.9864e-01, 6.8848e-01,  ..., 9.6491e-01,\n",
              "            3.7403e-01, 8.6378e-01],\n",
              "           [7.8916e-01, 2.7517e-01, 8.9082e-01,  ..., 2.2548e-01,\n",
              "            7.4437e-01, 3.8239e-01],\n",
              "           [5.9643e-01, 5.7153e-01, 9.0570e-01,  ..., 6.4448e-01,\n",
              "            3.8490e-01, 5.9711e-01],\n",
              "           ...,\n",
              "           [1.8908e-01, 3.2158e-01, 6.6253e-01,  ..., 6.3236e-01,\n",
              "            8.9753e-01, 3.2720e-01],\n",
              "           [3.8800e-01, 6.0783e-01, 4.8283e-01,  ..., 5.1931e-01,\n",
              "            7.5827e-01, 7.4439e-01],\n",
              "           [3.7630e-02, 8.5843e-01, 6.0209e-01,  ..., 9.9347e-01,\n",
              "            8.9804e-01, 8.9453e-01]],\n",
              "\n",
              "          ...,\n",
              "\n",
              "          [[1.7713e-01, 7.0009e-01, 2.0085e-01,  ..., 5.7425e-01,\n",
              "            9.6060e-01, 6.4019e-01],\n",
              "           [3.6708e-01, 4.4047e-01, 9.6641e-01,  ..., 7.0321e-01,\n",
              "            5.2740e-01, 1.9242e-01],\n",
              "           [6.4983e-01, 6.3719e-01, 5.1230e-01,  ..., 1.4630e-01,\n",
              "            9.0360e-01, 1.4607e-01],\n",
              "           ...,\n",
              "           [1.6085e-01, 7.9118e-01, 9.4085e-01,  ..., 6.7444e-01,\n",
              "            2.9121e-01, 5.0483e-01],\n",
              "           [1.4165e-01, 9.8968e-01, 7.2806e-01,  ..., 4.9805e-01,\n",
              "            2.2707e-01, 4.6171e-01],\n",
              "           [1.8550e-01, 6.9569e-01, 9.1069e-01,  ..., 8.2604e-01,\n",
              "            9.8010e-02, 1.1741e-01]],\n",
              "\n",
              "          [[7.6307e-01, 2.3807e-01, 1.9805e-01,  ..., 1.2041e-01,\n",
              "            2.6433e-01, 2.2320e-01],\n",
              "           [1.8102e-01, 5.2852e-02, 8.7253e-01,  ..., 3.1486e-01,\n",
              "            3.4042e-01, 4.8186e-01],\n",
              "           [7.2947e-01, 3.8023e-01, 2.0776e-01,  ..., 1.1158e-01,\n",
              "            8.9071e-01, 6.6733e-04],\n",
              "           ...,\n",
              "           [8.0880e-01, 5.6455e-01, 1.3270e-01,  ..., 4.6775e-01,\n",
              "            7.2427e-01, 3.6591e-01],\n",
              "           [1.5968e-02, 3.7155e-01, 3.5651e-01,  ..., 6.9632e-01,\n",
              "            3.2287e-01, 4.5686e-01],\n",
              "           [2.5138e-01, 7.7956e-01, 1.3639e-01,  ..., 4.3369e-01,\n",
              "            7.6276e-01, 1.5668e-01]],\n",
              "\n",
              "          [[2.9115e-01, 3.8004e-01, 3.2229e-03,  ..., 1.3192e-01,\n",
              "            4.2834e-01, 5.3899e-02],\n",
              "           [5.8125e-01, 9.7159e-01, 8.0704e-01,  ..., 2.4493e-01,\n",
              "            1.0918e-01, 2.3275e-01],\n",
              "           [5.3954e-01, 3.5710e-01, 9.4677e-03,  ..., 3.8858e-01,\n",
              "            6.6873e-01, 6.5949e-01],\n",
              "           ...,\n",
              "           [3.4274e-01, 6.0484e-01, 5.3413e-01,  ..., 1.1507e-01,\n",
              "            5.1901e-01, 4.6199e-01],\n",
              "           [9.1097e-01, 6.3303e-01, 2.6513e-01,  ..., 5.7342e-01,\n",
              "            3.7852e-01, 8.1281e-01],\n",
              "           [3.2504e-01, 1.3987e-01, 3.8289e-01,  ..., 9.5537e-01,\n",
              "            2.6770e-01, 1.5070e-01]]],\n",
              "\n",
              "\n",
              "         [[[5.4756e-01, 5.6241e-01, 3.0366e-01,  ..., 6.9482e-01,\n",
              "            2.1300e-01, 4.2812e-02],\n",
              "           [1.1012e-01, 6.8739e-01, 6.2982e-01,  ..., 6.0108e-01,\n",
              "            5.1567e-01, 6.5253e-02],\n",
              "           [3.7507e-01, 3.8554e-02, 7.7618e-01,  ..., 6.8377e-01,\n",
              "            8.3801e-01, 4.3557e-02],\n",
              "           ...,\n",
              "           [8.7942e-01, 3.7646e-01, 8.8369e-01,  ..., 5.0551e-01,\n",
              "            6.8198e-01, 8.9227e-01],\n",
              "           [5.4894e-01, 3.4015e-01, 9.8327e-01,  ..., 2.1068e-01,\n",
              "            6.7805e-01, 9.0731e-01],\n",
              "           [1.8783e-01, 8.8668e-01, 3.0759e-01,  ..., 4.1887e-01,\n",
              "            4.1779e-01, 4.5146e-01]],\n",
              "\n",
              "          [[8.5547e-01, 5.4742e-01, 3.2483e-01,  ..., 3.0016e-01,\n",
              "            1.3430e-02, 2.2407e-01],\n",
              "           [3.8523e-02, 4.8952e-01, 5.1564e-04,  ..., 9.0617e-01,\n",
              "            2.8416e-01, 5.5978e-01],\n",
              "           [9.2347e-01, 2.3568e-01, 9.5957e-01,  ..., 5.6649e-01,\n",
              "            5.2805e-01, 7.8941e-01],\n",
              "           ...,\n",
              "           [5.6961e-01, 7.2913e-01, 6.7877e-01,  ..., 5.9140e-01,\n",
              "            1.4004e-01, 2.9539e-01],\n",
              "           [7.7614e-01, 5.6466e-01, 6.5073e-01,  ..., 7.8986e-01,\n",
              "            8.7339e-01, 5.0578e-01],\n",
              "           [9.7769e-01, 4.1587e-01, 4.0981e-01,  ..., 4.3625e-01,\n",
              "            9.9081e-01, 4.6535e-01]],\n",
              "\n",
              "          [[6.5107e-03, 2.8179e-01, 9.0893e-01,  ..., 1.3232e-01,\n",
              "            4.2845e-01, 2.9368e-01],\n",
              "           [2.1263e-01, 8.7538e-01, 2.1679e-01,  ..., 6.3912e-01,\n",
              "            8.4544e-01, 7.1060e-01],\n",
              "           [7.8972e-01, 7.3443e-01, 8.1860e-01,  ..., 2.5355e-01,\n",
              "            3.8283e-01, 1.2677e-01],\n",
              "           ...,\n",
              "           [4.1984e-01, 3.1725e-01, 8.9666e-01,  ..., 4.1352e-01,\n",
              "            3.0865e-01, 5.1295e-01],\n",
              "           [2.6751e-01, 5.5367e-01, 7.0799e-01,  ..., 5.6426e-01,\n",
              "            5.7698e-01, 1.8275e-01],\n",
              "           [1.2119e-01, 7.6191e-01, 8.7951e-01,  ..., 6.2436e-01,\n",
              "            3.7222e-01, 3.1010e-01]],\n",
              "\n",
              "          ...,\n",
              "\n",
              "          [[3.4508e-01, 4.1665e-01, 1.4697e-01,  ..., 5.4637e-01,\n",
              "            9.0449e-02, 3.5898e-01],\n",
              "           [8.7046e-01, 9.0917e-01, 9.9865e-01,  ..., 4.4892e-01,\n",
              "            7.4866e-01, 7.1860e-01],\n",
              "           [3.7512e-02, 8.1532e-01, 7.3280e-01,  ..., 9.0417e-01,\n",
              "            2.4870e-01, 4.1062e-01],\n",
              "           ...,\n",
              "           [9.6228e-01, 4.8220e-01, 3.9175e-01,  ..., 5.8984e-01,\n",
              "            3.3981e-01, 3.4665e-01],\n",
              "           [6.5412e-01, 3.7646e-01, 4.8923e-01,  ..., 3.8445e-01,\n",
              "            9.4403e-01, 3.3344e-01],\n",
              "           [3.1098e-01, 1.8736e-01, 1.6680e-01,  ..., 7.3046e-01,\n",
              "            8.4033e-01, 1.9580e-01]],\n",
              "\n",
              "          [[6.2999e-01, 2.4475e-01, 6.2162e-01,  ..., 7.1876e-01,\n",
              "            3.5591e-01, 2.2277e-01],\n",
              "           [5.7968e-01, 9.3451e-01, 6.9960e-01,  ..., 4.7864e-01,\n",
              "            6.0443e-01, 1.8914e-01],\n",
              "           [1.8535e-01, 9.2191e-02, 6.0088e-01,  ..., 5.0461e-01,\n",
              "            6.6076e-01, 1.4010e-01],\n",
              "           ...,\n",
              "           [7.9981e-01, 8.3834e-01, 9.2292e-01,  ..., 9.8412e-01,\n",
              "            3.1803e-02, 4.6641e-01],\n",
              "           [1.6277e-02, 1.3807e-01, 3.2201e-01,  ..., 9.8072e-01,\n",
              "            1.8641e-02, 5.0344e-01],\n",
              "           [2.7003e-02, 4.1581e-01, 6.7270e-01,  ..., 3.8089e-01,\n",
              "            1.6464e-02, 2.9137e-02]],\n",
              "\n",
              "          [[6.8157e-01, 7.8136e-01, 4.1724e-01,  ..., 1.4953e-01,\n",
              "            7.1834e-02, 9.3961e-01],\n",
              "           [4.8432e-01, 8.8181e-02, 4.9095e-01,  ..., 9.3006e-02,\n",
              "            8.1799e-02, 8.5500e-01],\n",
              "           [6.8486e-01, 3.8146e-01, 3.2366e-02,  ..., 4.2217e-01,\n",
              "            8.1424e-01, 3.0951e-01],\n",
              "           ...,\n",
              "           [4.0866e-01, 6.7712e-01, 8.7540e-01,  ..., 3.9417e-01,\n",
              "            5.2276e-02, 9.3993e-01],\n",
              "           [8.0517e-01, 9.9454e-01, 4.5076e-01,  ..., 2.9287e-01,\n",
              "            7.3242e-01, 9.9329e-03],\n",
              "           [7.2432e-01, 1.9909e-02, 1.0432e-01,  ..., 2.2580e-01,\n",
              "            2.8191e-01, 9.5992e-01]]],\n",
              "\n",
              "\n",
              "         [[[8.7854e-01, 1.9835e-01, 9.0457e-01,  ..., 6.1032e-01,\n",
              "            9.2697e-01, 4.7384e-01],\n",
              "           [4.7525e-01, 8.9039e-01, 6.5120e-01,  ..., 6.6707e-01,\n",
              "            2.4051e-01, 4.5439e-01],\n",
              "           [1.8917e-01, 4.2494e-01, 4.7511e-01,  ..., 2.4218e-01,\n",
              "            9.1198e-01, 8.7656e-01],\n",
              "           ...,\n",
              "           [5.3221e-01, 9.3079e-01, 8.5534e-01,  ..., 8.2700e-01,\n",
              "            3.8843e-01, 7.3189e-01],\n",
              "           [8.3860e-01, 4.2416e-01, 2.0390e-01,  ..., 5.5884e-01,\n",
              "            1.6234e-01, 7.3368e-01],\n",
              "           [2.2353e-01, 8.0764e-01, 2.7718e-01,  ..., 8.2125e-01,\n",
              "            8.9823e-01, 3.8611e-01]],\n",
              "\n",
              "          [[4.3383e-01, 9.1716e-02, 1.3536e-01,  ..., 5.1098e-03,\n",
              "            4.6227e-01, 3.5305e-01],\n",
              "           [6.5549e-01, 1.2119e-02, 7.6000e-01,  ..., 8.8697e-01,\n",
              "            6.8064e-01, 4.5291e-01],\n",
              "           [6.7831e-01, 4.4886e-01, 4.6190e-01,  ..., 8.0389e-01,\n",
              "            3.2865e-01, 4.6511e-01],\n",
              "           ...,\n",
              "           [7.4322e-01, 1.5099e-01, 9.9263e-01,  ..., 3.2144e-01,\n",
              "            4.0520e-01, 6.2831e-01],\n",
              "           [8.2241e-02, 5.0471e-01, 1.9775e-01,  ..., 1.8468e-01,\n",
              "            1.7228e-01, 8.5092e-01],\n",
              "           [4.7440e-02, 6.5215e-01, 4.8196e-01,  ..., 2.7554e-01,\n",
              "            8.4834e-01, 5.7143e-01]],\n",
              "\n",
              "          [[7.1351e-01, 2.5872e-01, 1.6554e-01,  ..., 9.5783e-01,\n",
              "            6.3598e-01, 9.4412e-01],\n",
              "           [1.2036e-01, 6.0977e-01, 9.6218e-01,  ..., 3.8488e-01,\n",
              "            2.0975e-02, 9.5532e-01],\n",
              "           [4.1168e-01, 8.2542e-01, 3.4297e-02,  ..., 5.7602e-01,\n",
              "            9.6373e-01, 4.4154e-01],\n",
              "           ...,\n",
              "           [6.0143e-01, 3.4881e-01, 7.0416e-01,  ..., 1.5247e-01,\n",
              "            7.3877e-01, 7.8664e-01],\n",
              "           [2.3802e-01, 3.0702e-01, 4.8441e-01,  ..., 7.2643e-01,\n",
              "            5.3933e-01, 3.3951e-01],\n",
              "           [4.4615e-01, 1.0845e-01, 9.5625e-01,  ..., 8.3931e-01,\n",
              "            9.8919e-02, 3.9241e-01]],\n",
              "\n",
              "          ...,\n",
              "\n",
              "          [[4.6604e-01, 8.5991e-01, 1.1222e-01,  ..., 9.6453e-01,\n",
              "            9.3806e-01, 4.9262e-01],\n",
              "           [3.1176e-01, 9.9236e-01, 2.3408e-01,  ..., 9.9230e-01,\n",
              "            9.1657e-01, 7.7533e-01],\n",
              "           [2.3354e-02, 9.4878e-02, 1.8221e-01,  ..., 2.8451e-01,\n",
              "            2.0295e-01, 1.9093e-01],\n",
              "           ...,\n",
              "           [1.9295e-01, 8.3126e-01, 9.6970e-01,  ..., 4.7676e-01,\n",
              "            5.7488e-01, 7.5072e-01],\n",
              "           [8.9437e-01, 3.6626e-01, 8.2568e-01,  ..., 8.8688e-02,\n",
              "            3.8339e-01, 6.7998e-01],\n",
              "           [2.0284e-01, 9.9064e-02, 3.7433e-01,  ..., 9.1790e-01,\n",
              "            2.6289e-01, 4.5276e-01]],\n",
              "\n",
              "          [[2.5944e-01, 1.4156e-01, 7.1065e-02,  ..., 5.3600e-01,\n",
              "            3.7643e-01, 6.2159e-01],\n",
              "           [1.0621e-02, 4.9604e-01, 5.9898e-01,  ..., 5.8059e-02,\n",
              "            2.3551e-02, 2.3354e-01],\n",
              "           [3.5162e-01, 2.4608e-01, 1.7063e-01,  ..., 3.1217e-01,\n",
              "            3.9535e-01, 6.6133e-01],\n",
              "           ...,\n",
              "           [7.9883e-02, 6.3754e-03, 9.5199e-01,  ..., 9.5589e-01,\n",
              "            3.6651e-01, 3.4193e-01],\n",
              "           [2.5796e-01, 8.3628e-01, 9.8268e-01,  ..., 1.4114e-01,\n",
              "            8.0532e-02, 4.6628e-01],\n",
              "           [3.9474e-02, 7.5568e-01, 1.6698e-01,  ..., 7.7029e-01,\n",
              "            7.0207e-01, 3.7193e-01]],\n",
              "\n",
              "          [[1.6899e-01, 1.3189e-01, 8.7846e-01,  ..., 6.7276e-03,\n",
              "            6.7597e-01, 9.4057e-01],\n",
              "           [7.9714e-01, 1.9164e-01, 3.4799e-01,  ..., 6.0356e-01,\n",
              "            7.0653e-01, 5.3292e-01],\n",
              "           [3.8507e-01, 3.9523e-01, 9.9380e-01,  ..., 1.6362e-01,\n",
              "            7.2430e-01, 4.7945e-01],\n",
              "           ...,\n",
              "           [8.7577e-01, 9.3745e-01, 2.6920e-02,  ..., 7.3759e-02,\n",
              "            8.0569e-02, 3.8027e-01],\n",
              "           [1.8315e-01, 4.5238e-01, 8.8162e-01,  ..., 1.6385e-01,\n",
              "            5.6960e-01, 8.8109e-01],\n",
              "           [8.7881e-01, 6.5628e-01, 6.9788e-01,  ..., 5.4731e-01,\n",
              "            1.7204e-01, 6.4013e-02]]],\n",
              "\n",
              "\n",
              "         ...,\n",
              "\n",
              "\n",
              "         [[[3.8775e-01, 7.6477e-01, 5.8438e-01,  ..., 5.9656e-01,\n",
              "            2.6925e-02, 4.7692e-01],\n",
              "           [1.2610e-01, 4.2084e-01, 4.6375e-03,  ..., 2.7872e-01,\n",
              "            7.4800e-01, 1.0558e-01],\n",
              "           [8.4789e-01, 2.4921e-01, 2.0891e-01,  ..., 5.4148e-01,\n",
              "            3.7764e-02, 5.2819e-01],\n",
              "           ...,\n",
              "           [2.1885e-01, 6.1418e-01, 8.3481e-01,  ..., 4.0764e-01,\n",
              "            5.2783e-01, 1.7999e-02],\n",
              "           [9.3630e-01, 5.9063e-01, 5.2552e-01,  ..., 1.5263e-01,\n",
              "            5.1454e-01, 5.6353e-01],\n",
              "           [1.7275e-01, 1.3203e-01, 1.0012e-01,  ..., 7.6249e-01,\n",
              "            6.1749e-01, 6.3492e-01]],\n",
              "\n",
              "          [[4.5345e-01, 3.2137e-01, 2.1526e-01,  ..., 4.4332e-01,\n",
              "            9.7803e-01, 4.0501e-01],\n",
              "           [6.2026e-01, 2.2004e-01, 5.4305e-01,  ..., 8.5343e-01,\n",
              "            5.9654e-01, 5.9144e-01],\n",
              "           [6.6338e-02, 7.2647e-01, 4.3585e-01,  ..., 8.5468e-01,\n",
              "            9.7759e-01, 9.9620e-01],\n",
              "           ...,\n",
              "           [4.4904e-01, 9.6037e-02, 4.2832e-01,  ..., 7.7314e-01,\n",
              "            8.0153e-01, 6.3129e-01],\n",
              "           [9.7886e-01, 8.1241e-01, 5.0644e-01,  ..., 6.6774e-01,\n",
              "            8.5613e-01, 8.7528e-01],\n",
              "           [4.7291e-02, 3.1537e-01, 1.0274e-02,  ..., 2.3593e-01,\n",
              "            4.4917e-01, 7.7437e-01]],\n",
              "\n",
              "          [[8.0936e-01, 7.2963e-01, 2.7412e-01,  ..., 9.8596e-01,\n",
              "            7.9716e-01, 5.7245e-01],\n",
              "           [6.8671e-01, 6.4289e-01, 6.3547e-01,  ..., 4.7096e-01,\n",
              "            5.4757e-01, 8.7029e-01],\n",
              "           [7.7070e-01, 3.2118e-01, 3.9509e-02,  ..., 5.2073e-01,\n",
              "            5.5251e-01, 6.9561e-01],\n",
              "           ...,\n",
              "           [9.6749e-01, 6.8347e-01, 8.2167e-01,  ..., 8.3867e-01,\n",
              "            7.7251e-01, 5.2897e-01],\n",
              "           [1.6981e-01, 3.7484e-01, 3.5289e-01,  ..., 2.6926e-01,\n",
              "            1.3174e-01, 8.8422e-02],\n",
              "           [5.5801e-02, 2.3705e-01, 2.0478e-01,  ..., 1.8073e-01,\n",
              "            3.5673e-01, 2.3036e-01]],\n",
              "\n",
              "          ...,\n",
              "\n",
              "          [[9.7993e-01, 4.1303e-01, 1.5431e-01,  ..., 8.0864e-01,\n",
              "            9.4678e-01, 8.9153e-01],\n",
              "           [4.5820e-01, 8.5936e-01, 5.2849e-01,  ..., 9.6863e-01,\n",
              "            9.0207e-01, 2.4497e-01],\n",
              "           [6.5089e-01, 5.9222e-01, 6.4484e-01,  ..., 6.9927e-01,\n",
              "            7.2406e-01, 7.5037e-01],\n",
              "           ...,\n",
              "           [5.4636e-01, 4.5037e-01, 9.0095e-01,  ..., 6.7425e-01,\n",
              "            6.5044e-01, 6.7878e-01],\n",
              "           [5.7715e-01, 1.3200e-01, 5.8542e-01,  ..., 7.5694e-01,\n",
              "            3.7775e-01, 2.9967e-01],\n",
              "           [7.7046e-01, 1.7042e-01, 5.0209e-01,  ..., 3.5565e-02,\n",
              "            7.3477e-03, 1.7910e-01]],\n",
              "\n",
              "          [[7.1192e-01, 1.0604e-01, 7.8393e-01,  ..., 4.1657e-01,\n",
              "            7.2469e-01, 3.0297e-01],\n",
              "           [5.4244e-01, 2.0142e-02, 7.6150e-01,  ..., 9.9574e-01,\n",
              "            4.4463e-01, 4.1450e-01],\n",
              "           [9.2001e-01, 8.3459e-02, 6.9597e-01,  ..., 5.0365e-02,\n",
              "            1.8788e-02, 9.8623e-01],\n",
              "           ...,\n",
              "           [5.0136e-01, 4.2442e-01, 7.8922e-01,  ..., 1.5426e-01,\n",
              "            4.2707e-02, 9.2743e-01],\n",
              "           [5.2593e-01, 6.7732e-01, 5.7399e-01,  ..., 5.8120e-01,\n",
              "            4.5814e-01, 4.6432e-01],\n",
              "           [2.8414e-01, 6.3068e-01, 5.7785e-01,  ..., 5.2688e-01,\n",
              "            4.6690e-01, 3.1560e-01]],\n",
              "\n",
              "          [[9.1343e-01, 3.9380e-01, 3.0593e-01,  ..., 7.0010e-01,\n",
              "            6.1918e-01, 9.5293e-01],\n",
              "           [2.9915e-01, 7.0148e-01, 5.1327e-01,  ..., 3.9975e-01,\n",
              "            2.2026e-02, 5.2500e-01],\n",
              "           [4.7050e-01, 7.8837e-01, 4.5727e-01,  ..., 6.1085e-01,\n",
              "            7.5494e-01, 4.6522e-01],\n",
              "           ...,\n",
              "           [3.3697e-01, 6.9936e-01, 7.4328e-01,  ..., 2.6402e-01,\n",
              "            3.3152e-01, 7.6671e-01],\n",
              "           [1.7189e-01, 9.1600e-01, 4.5735e-01,  ..., 1.6650e-01,\n",
              "            6.9204e-02, 5.0330e-02],\n",
              "           [6.2381e-01, 6.1572e-01, 8.9249e-01,  ..., 6.9356e-01,\n",
              "            5.9653e-01, 1.8818e-01]]],\n",
              "\n",
              "\n",
              "         [[[6.5977e-01, 9.6004e-01, 5.1198e-01,  ..., 4.8873e-01,\n",
              "            7.2528e-01, 9.1909e-01],\n",
              "           [8.7144e-01, 6.9377e-01, 8.8498e-01,  ..., 6.1225e-01,\n",
              "            2.8222e-01, 3.9809e-03],\n",
              "           [6.7642e-01, 1.0801e-01, 6.2359e-02,  ..., 6.8461e-01,\n",
              "            1.6387e-01, 9.8212e-01],\n",
              "           ...,\n",
              "           [9.7214e-01, 2.7803e-01, 7.9894e-01,  ..., 3.5706e-01,\n",
              "            4.6809e-01, 2.6334e-01],\n",
              "           [2.9411e-01, 7.4903e-01, 7.1697e-01,  ..., 5.1720e-01,\n",
              "            8.4465e-01, 1.7609e-01],\n",
              "           [6.4954e-01, 6.1251e-01, 6.7162e-01,  ..., 6.5950e-01,\n",
              "            9.8579e-01, 1.8648e-01]],\n",
              "\n",
              "          [[6.5798e-01, 8.7756e-01, 6.8778e-01,  ..., 2.5781e-01,\n",
              "            1.2082e-01, 4.8353e-01],\n",
              "           [8.1521e-01, 7.5185e-01, 2.7928e-01,  ..., 9.0991e-01,\n",
              "            7.9045e-01, 4.7917e-01],\n",
              "           [2.2358e-01, 7.3812e-01, 7.9887e-01,  ..., 7.3453e-01,\n",
              "            1.9407e-01, 8.6857e-01],\n",
              "           ...,\n",
              "           [6.3886e-01, 3.6214e-01, 3.6857e-01,  ..., 6.5405e-01,\n",
              "            5.9936e-01, 1.1402e-01],\n",
              "           [7.3038e-01, 4.6619e-01, 7.3249e-02,  ..., 3.2006e-01,\n",
              "            6.6245e-01, 7.1142e-01],\n",
              "           [3.2783e-01, 2.0946e-01, 8.2427e-01,  ..., 8.9042e-01,\n",
              "            2.1367e-01, 6.6779e-01]],\n",
              "\n",
              "          [[3.5839e-01, 2.1288e-01, 8.0602e-01,  ..., 7.0390e-01,\n",
              "            4.6537e-01, 6.5883e-01],\n",
              "           [7.5132e-01, 9.4515e-01, 2.0040e-01,  ..., 7.0716e-01,\n",
              "            5.1280e-01, 4.3646e-01],\n",
              "           [1.0845e-01, 3.0243e-01, 3.4255e-01,  ..., 2.7700e-01,\n",
              "            4.4353e-01, 1.4285e-01],\n",
              "           ...,\n",
              "           [2.5370e-01, 7.1043e-01, 5.1935e-01,  ..., 4.2658e-01,\n",
              "            9.5528e-01, 3.2740e-01],\n",
              "           [6.3180e-01, 3.5685e-01, 7.5046e-01,  ..., 4.3990e-01,\n",
              "            5.8910e-01, 4.6859e-01],\n",
              "           [1.4205e-01, 7.3409e-01, 9.0553e-01,  ..., 7.7418e-01,\n",
              "            4.4601e-01, 7.9916e-01]],\n",
              "\n",
              "          ...,\n",
              "\n",
              "          [[2.8863e-01, 5.5787e-01, 5.4016e-01,  ..., 5.6425e-01,\n",
              "            8.7904e-01, 5.6929e-01],\n",
              "           [2.3198e-01, 9.6935e-01, 1.8472e-01,  ..., 6.3575e-01,\n",
              "            8.9672e-01, 7.4244e-01],\n",
              "           [9.3567e-01, 7.0171e-01, 1.6414e-01,  ..., 3.0326e-01,\n",
              "            9.9307e-01, 6.6720e-01],\n",
              "           ...,\n",
              "           [9.8745e-01, 5.3216e-01, 5.7469e-01,  ..., 9.6077e-01,\n",
              "            9.1768e-01, 7.6777e-01],\n",
              "           [5.1129e-01, 1.0631e-01, 6.4871e-01,  ..., 3.0634e-01,\n",
              "            9.1684e-01, 4.9468e-01],\n",
              "           [3.0416e-01, 1.1610e-01, 6.4871e-01,  ..., 7.8074e-01,\n",
              "            1.9465e-01, 5.4302e-01]],\n",
              "\n",
              "          [[1.3290e-02, 4.1229e-01, 5.9842e-02,  ..., 6.4954e-01,\n",
              "            3.8646e-01, 6.5566e-01],\n",
              "           [6.6748e-01, 1.8109e-01, 7.8228e-01,  ..., 9.4987e-01,\n",
              "            5.7083e-01, 8.5620e-01],\n",
              "           [4.9355e-01, 9.7941e-01, 2.8732e-02,  ..., 4.5916e-02,\n",
              "            5.2198e-01, 1.9170e-01],\n",
              "           ...,\n",
              "           [2.9131e-01, 9.2541e-01, 6.6350e-01,  ..., 9.7656e-02,\n",
              "            8.6133e-01, 9.3445e-01],\n",
              "           [7.4326e-01, 8.8232e-01, 1.5423e-01,  ..., 7.9774e-01,\n",
              "            1.8528e-01, 7.9464e-01],\n",
              "           [8.0995e-01, 1.7686e-01, 9.6707e-01,  ..., 1.7584e-01,\n",
              "            6.8939e-01, 8.8043e-01]],\n",
              "\n",
              "          [[9.8146e-01, 7.7031e-02, 4.6847e-01,  ..., 3.6502e-01,\n",
              "            2.0844e-01, 8.2427e-01],\n",
              "           [8.8863e-01, 6.3262e-01, 8.5423e-01,  ..., 2.3690e-01,\n",
              "            1.6542e-01, 9.4105e-01],\n",
              "           [1.4012e-01, 3.2108e-01, 6.6359e-01,  ..., 3.6674e-01,\n",
              "            3.6110e-01, 4.4378e-01],\n",
              "           ...,\n",
              "           [3.9846e-01, 6.5160e-01, 7.7303e-01,  ..., 1.4429e-02,\n",
              "            6.7931e-01, 4.9361e-01],\n",
              "           [7.2218e-01, 8.0002e-01, 5.2540e-01,  ..., 8.5093e-01,\n",
              "            9.9953e-01, 2.8415e-01],\n",
              "           [6.0301e-01, 5.9032e-01, 4.9916e-01,  ..., 3.6634e-01,\n",
              "            5.3218e-01, 5.2556e-01]]],\n",
              "\n",
              "\n",
              "         [[[7.3215e-01, 2.2098e-01, 1.7877e-01,  ..., 3.2578e-01,\n",
              "            6.8911e-01, 9.6151e-01],\n",
              "           [8.5405e-02, 6.0427e-01, 3.5995e-01,  ..., 2.5172e-01,\n",
              "            5.4421e-01, 2.3886e-01],\n",
              "           [4.4410e-01, 1.1986e-01, 2.4332e-01,  ..., 9.2073e-01,\n",
              "            5.3384e-01, 7.8089e-01],\n",
              "           ...,\n",
              "           [6.0217e-01, 3.8989e-01, 4.5754e-01,  ..., 1.6778e-01,\n",
              "            9.2966e-01, 2.8075e-01],\n",
              "           [8.9209e-02, 3.4408e-01, 4.6740e-01,  ..., 6.8980e-02,\n",
              "            7.3942e-01, 4.6808e-01],\n",
              "           [8.6955e-01, 7.7392e-01, 1.3608e-02,  ..., 3.8243e-01,\n",
              "            6.8887e-01, 7.9546e-01]],\n",
              "\n",
              "          [[5.6366e-01, 4.7219e-01, 6.4155e-01,  ..., 7.5239e-02,\n",
              "            2.9087e-01, 8.6524e-01],\n",
              "           [2.9825e-01, 4.1506e-01, 7.6597e-01,  ..., 9.7177e-01,\n",
              "            3.5407e-01, 3.3120e-01],\n",
              "           [7.7753e-01, 8.3354e-01, 4.9208e-01,  ..., 5.0240e-01,\n",
              "            4.0691e-01, 9.0791e-01],\n",
              "           ...,\n",
              "           [4.9634e-01, 1.2096e-01, 2.0887e-01,  ..., 6.6466e-01,\n",
              "            5.1269e-01, 6.9270e-01],\n",
              "           [2.4712e-01, 5.5536e-01, 7.3519e-01,  ..., 2.2839e-02,\n",
              "            7.8006e-01, 6.8385e-01],\n",
              "           [2.3079e-01, 2.2005e-01, 6.4091e-01,  ..., 6.7366e-02,\n",
              "            1.1613e-01, 1.2599e-02]],\n",
              "\n",
              "          [[5.3908e-01, 4.7023e-01, 8.3104e-01,  ..., 9.1773e-01,\n",
              "            8.2232e-01, 5.6893e-01],\n",
              "           [6.2047e-02, 5.6127e-01, 4.3319e-01,  ..., 1.0497e-01,\n",
              "            3.1226e-01, 6.4746e-01],\n",
              "           [2.9704e-01, 8.0082e-01, 4.8060e-02,  ..., 7.2467e-01,\n",
              "            7.1689e-01, 3.4790e-01],\n",
              "           ...,\n",
              "           [4.2039e-01, 4.3441e-01, 6.2129e-01,  ..., 8.9041e-01,\n",
              "            5.9600e-01, 7.4560e-01],\n",
              "           [4.7434e-01, 6.3321e-02, 7.9281e-01,  ..., 9.6641e-01,\n",
              "            1.8086e-01, 9.0363e-01],\n",
              "           [1.6479e-01, 5.6018e-02, 1.1040e-01,  ..., 4.1515e-01,\n",
              "            8.5692e-01, 3.1367e-01]],\n",
              "\n",
              "          ...,\n",
              "\n",
              "          [[2.6687e-01, 1.5573e-01, 3.6708e-01,  ..., 4.8482e-01,\n",
              "            1.5192e-01, 3.7030e-01],\n",
              "           [9.6740e-01, 9.2471e-01, 6.6567e-02,  ..., 2.2987e-01,\n",
              "            4.7965e-01, 4.9561e-01],\n",
              "           [7.3202e-01, 3.1839e-01, 3.9189e-01,  ..., 5.8959e-01,\n",
              "            8.7340e-01, 1.5513e-01],\n",
              "           ...,\n",
              "           [7.1023e-01, 3.4068e-01, 2.9076e-02,  ..., 8.3588e-01,\n",
              "            2.7795e-01, 2.0948e-01],\n",
              "           [2.0354e-01, 2.0245e-01, 1.2214e-01,  ..., 9.8913e-02,\n",
              "            8.5549e-01, 2.8832e-01],\n",
              "           [8.4369e-01, 6.1395e-01, 2.3568e-01,  ..., 7.2450e-01,\n",
              "            7.7238e-01, 6.5843e-01]],\n",
              "\n",
              "          [[4.2936e-01, 7.9091e-01, 8.1873e-01,  ..., 9.1204e-01,\n",
              "            1.7449e-01, 3.2788e-01],\n",
              "           [8.3076e-01, 4.5444e-01, 4.6715e-01,  ..., 6.3737e-01,\n",
              "            3.1300e-01, 1.1057e-01],\n",
              "           [1.3875e-01, 1.7472e-02, 5.6781e-01,  ..., 9.9778e-01,\n",
              "            4.4316e-01, 2.3261e-01],\n",
              "           ...,\n",
              "           [2.2941e-01, 8.3136e-01, 1.3286e-01,  ..., 4.0778e-01,\n",
              "            1.1707e-01, 9.8732e-01],\n",
              "           [2.2833e-01, 6.2062e-01, 1.6911e-01,  ..., 5.1054e-01,\n",
              "            9.1391e-01, 3.1159e-01],\n",
              "           [9.5536e-01, 6.5602e-01, 2.0551e-01,  ..., 2.4478e-01,\n",
              "            9.6462e-01, 9.4898e-01]],\n",
              "\n",
              "          [[9.6021e-02, 8.1941e-02, 4.9875e-01,  ..., 9.1313e-01,\n",
              "            8.6491e-01, 2.0580e-01],\n",
              "           [6.9018e-01, 6.8185e-01, 3.1374e-03,  ..., 2.7518e-01,\n",
              "            3.8745e-01, 2.8600e-01],\n",
              "           [9.5061e-01, 7.5722e-01, 8.5319e-01,  ..., 3.4192e-01,\n",
              "            4.6448e-01, 4.4994e-01],\n",
              "           ...,\n",
              "           [6.1124e-01, 4.3801e-01, 1.1513e-01,  ..., 3.7557e-01,\n",
              "            9.3764e-01, 6.9581e-02],\n",
              "           [8.7427e-01, 6.2330e-01, 9.6529e-01,  ..., 4.0310e-01,\n",
              "            1.7421e-01, 7.2554e-01],\n",
              "           [5.9319e-01, 3.4228e-01, 8.8944e-01,  ..., 2.6780e-02,\n",
              "            9.3212e-01, 4.2465e-01]]]],\n",
              "\n",
              "\n",
              "\n",
              "        ...,\n",
              "\n",
              "\n",
              "\n",
              "        [[[[5.7524e-01, 7.7127e-02, 7.5604e-02,  ..., 5.8587e-01,\n",
              "            7.5318e-01, 2.6064e-01],\n",
              "           [9.6304e-01, 8.8665e-01, 5.2538e-01,  ..., 1.7172e-01,\n",
              "            2.9218e-01, 9.0068e-01],\n",
              "           [1.8334e-01, 8.7285e-01, 1.9601e-01,  ..., 2.2453e-02,\n",
              "            9.4179e-01, 8.0617e-01],\n",
              "           ...,\n",
              "           [5.3493e-01, 1.0773e-01, 6.8038e-02,  ..., 1.2152e-01,\n",
              "            2.8552e-01, 1.0407e-01],\n",
              "           [2.1648e-01, 2.5505e-01, 6.4505e-01,  ..., 9.3696e-01,\n",
              "            5.9000e-01, 9.2793e-01],\n",
              "           [6.0795e-02, 2.0113e-01, 8.9362e-01,  ..., 7.8711e-01,\n",
              "            9.3111e-01, 7.7127e-01]],\n",
              "\n",
              "          [[1.9186e-01, 8.7621e-01, 4.6300e-01,  ..., 3.8975e-01,\n",
              "            2.6142e-01, 7.5015e-01],\n",
              "           [6.7995e-01, 5.3688e-01, 4.3558e-01,  ..., 7.3099e-03,\n",
              "            3.5431e-01, 8.5692e-01],\n",
              "           [4.0323e-01, 1.4882e-01, 8.0689e-01,  ..., 4.8736e-01,\n",
              "            9.0281e-02, 6.2387e-01],\n",
              "           ...,\n",
              "           [7.3650e-01, 4.5873e-01, 1.6780e-01,  ..., 7.4782e-01,\n",
              "            9.2224e-01, 2.0190e-01],\n",
              "           [1.4924e-01, 3.7873e-01, 5.6456e-01,  ..., 4.0867e-01,\n",
              "            3.4571e-03, 6.5126e-01],\n",
              "           [9.1151e-01, 2.5028e-01, 7.7781e-01,  ..., 2.2921e-01,\n",
              "            5.3642e-01, 9.1028e-01]],\n",
              "\n",
              "          [[3.9558e-01, 9.4613e-01, 9.1617e-01,  ..., 8.9159e-02,\n",
              "            5.1119e-01, 7.9584e-01],\n",
              "           [2.2023e-01, 5.4489e-01, 1.6088e-01,  ..., 6.4612e-01,\n",
              "            3.6650e-01, 4.0974e-01],\n",
              "           [5.3854e-02, 5.6739e-01, 5.6787e-01,  ..., 9.8129e-01,\n",
              "            4.4122e-02, 1.1637e-01],\n",
              "           ...,\n",
              "           [6.4179e-01, 8.5326e-01, 8.9852e-01,  ..., 2.8958e-01,\n",
              "            7.6569e-01, 1.6662e-01],\n",
              "           [1.1627e-01, 6.3945e-01, 9.0566e-01,  ..., 8.1633e-01,\n",
              "            1.7224e-01, 9.7015e-01],\n",
              "           [1.7724e-01, 2.2090e-01, 9.8720e-02,  ..., 4.6966e-01,\n",
              "            8.8541e-01, 6.9536e-01]],\n",
              "\n",
              "          ...,\n",
              "\n",
              "          [[7.1143e-01, 1.4762e-01, 4.8439e-01,  ..., 2.9930e-01,\n",
              "            7.5766e-01, 2.9562e-01],\n",
              "           [9.1835e-01, 2.2710e-01, 8.0892e-01,  ..., 1.8118e-01,\n",
              "            7.8594e-01, 3.4134e-01],\n",
              "           [9.4346e-01, 1.0061e-01, 1.7726e-01,  ..., 4.9242e-01,\n",
              "            5.9010e-01, 4.3978e-01],\n",
              "           ...,\n",
              "           [8.6627e-01, 6.3120e-01, 6.1961e-01,  ..., 5.3191e-01,\n",
              "            3.3091e-01, 7.3570e-01],\n",
              "           [2.5436e-01, 6.2380e-01, 8.2760e-01,  ..., 3.6122e-01,\n",
              "            5.1437e-01, 6.1474e-01],\n",
              "           [6.3017e-01, 8.4415e-01, 3.0196e-01,  ..., 5.7495e-01,\n",
              "            9.4010e-01, 3.4571e-01]],\n",
              "\n",
              "          [[1.2790e-01, 4.5476e-01, 3.1979e-01,  ..., 8.7122e-01,\n",
              "            1.5617e-01, 5.6666e-01],\n",
              "           [1.3524e-01, 5.2868e-01, 4.4022e-01,  ..., 4.0356e-01,\n",
              "            1.5623e-01, 5.0402e-01],\n",
              "           [5.2361e-01, 9.7349e-01, 4.7191e-01,  ..., 2.3213e-01,\n",
              "            2.6146e-01, 8.4866e-01],\n",
              "           ...,\n",
              "           [8.3436e-01, 6.1274e-01, 9.7641e-01,  ..., 4.9765e-01,\n",
              "            4.5852e-01, 5.8498e-01],\n",
              "           [8.4662e-01, 7.8749e-01, 5.6985e-01,  ..., 7.1740e-01,\n",
              "            9.9174e-01, 3.5437e-01],\n",
              "           [9.0551e-01, 7.3719e-01, 3.5888e-02,  ..., 5.3393e-01,\n",
              "            9.6198e-01, 6.0173e-01]],\n",
              "\n",
              "          [[8.6805e-01, 9.1990e-01, 4.4162e-01,  ..., 8.2612e-01,\n",
              "            3.9745e-01, 1.2106e-01],\n",
              "           [7.1532e-01, 2.4589e-01, 8.3456e-02,  ..., 9.1924e-01,\n",
              "            3.7740e-01, 7.5275e-01],\n",
              "           [2.5303e-01, 2.4566e-01, 3.1120e-01,  ..., 4.9448e-01,\n",
              "            4.1119e-01, 4.5544e-01],\n",
              "           ...,\n",
              "           [4.4623e-01, 5.0385e-01, 1.3498e-01,  ..., 5.8763e-01,\n",
              "            8.3983e-01, 8.4401e-01],\n",
              "           [6.3316e-01, 5.8392e-01, 6.4239e-01,  ..., 7.6007e-01,\n",
              "            5.4694e-01, 3.2178e-01],\n",
              "           [8.8679e-01, 4.7490e-01, 4.0873e-01,  ..., 5.7273e-02,\n",
              "            6.8201e-01, 1.5540e-01]]],\n",
              "\n",
              "\n",
              "         [[[4.8835e-02, 8.7394e-01, 2.9102e-01,  ..., 6.6000e-01,\n",
              "            3.0301e-01, 9.9042e-01],\n",
              "           [1.1458e-01, 9.0385e-01, 6.7303e-01,  ..., 3.9681e-01,\n",
              "            3.6275e-01, 3.6559e-01],\n",
              "           [4.5304e-01, 2.9845e-01, 7.8391e-01,  ..., 1.2477e-01,\n",
              "            8.6735e-01, 5.3200e-01],\n",
              "           ...,\n",
              "           [2.5622e-01, 1.8644e-01, 4.4007e-01,  ..., 7.7798e-01,\n",
              "            2.0604e-01, 7.1895e-01],\n",
              "           [7.4756e-01, 3.7904e-01, 9.6968e-02,  ..., 4.2656e-01,\n",
              "            4.7724e-01, 2.4269e-02],\n",
              "           [1.9138e-01, 1.3804e-01, 1.9919e-01,  ..., 9.9666e-01,\n",
              "            8.8112e-01, 2.9844e-01]],\n",
              "\n",
              "          [[6.8380e-01, 6.1381e-02, 5.0123e-01,  ..., 9.7101e-02,\n",
              "            5.7680e-01, 5.7607e-01],\n",
              "           [3.6157e-02, 4.0301e-01, 3.1709e-01,  ..., 5.0238e-02,\n",
              "            3.8839e-01, 4.3987e-01],\n",
              "           [5.8689e-01, 7.6434e-02, 2.6641e-01,  ..., 8.7333e-01,\n",
              "            3.5621e-01, 5.7251e-01],\n",
              "           ...,\n",
              "           [3.3300e-01, 6.1186e-01, 8.5790e-01,  ..., 7.7230e-02,\n",
              "            7.1575e-01, 6.9362e-02],\n",
              "           [2.6505e-01, 9.9728e-01, 3.3809e-01,  ..., 5.7445e-01,\n",
              "            7.3874e-01, 2.5933e-01],\n",
              "           [7.5898e-02, 6.4743e-01, 9.0670e-01,  ..., 3.3811e-01,\n",
              "            7.9498e-01, 3.3270e-01]],\n",
              "\n",
              "          [[6.4713e-01, 3.5922e-01, 5.7146e-01,  ..., 1.2703e-01,\n",
              "            4.3604e-02, 6.8196e-01],\n",
              "           [9.0800e-01, 6.0509e-01, 7.9739e-01,  ..., 8.1904e-01,\n",
              "            7.4989e-01, 1.4729e-01],\n",
              "           [7.6710e-01, 2.9272e-01, 6.5522e-02,  ..., 6.7623e-01,\n",
              "            7.1761e-01, 7.9939e-01],\n",
              "           ...,\n",
              "           [2.4451e-01, 8.9806e-01, 6.5368e-01,  ..., 4.1124e-01,\n",
              "            5.0391e-01, 6.4094e-01],\n",
              "           [9.2020e-01, 5.5660e-01, 3.1486e-01,  ..., 8.4188e-01,\n",
              "            2.9907e-01, 5.9720e-01],\n",
              "           [3.7140e-02, 2.8952e-01, 4.4177e-01,  ..., 1.6304e-01,\n",
              "            5.2407e-02, 3.8173e-01]],\n",
              "\n",
              "          ...,\n",
              "\n",
              "          [[2.4545e-01, 7.4058e-01, 1.2348e-01,  ..., 4.5668e-02,\n",
              "            3.5661e-01, 5.7659e-01],\n",
              "           [2.5706e-01, 7.1928e-01, 9.0705e-01,  ..., 9.9006e-01,\n",
              "            1.6298e-01, 9.7704e-01],\n",
              "           [2.6649e-01, 7.6538e-01, 7.2867e-01,  ..., 3.8254e-01,\n",
              "            8.8032e-01, 7.1934e-01],\n",
              "           ...,\n",
              "           [5.4405e-01, 4.5642e-01, 5.3990e-01,  ..., 1.0215e-01,\n",
              "            6.6577e-01, 2.2942e-01],\n",
              "           [7.3234e-01, 4.3210e-02, 9.6143e-02,  ..., 7.9141e-01,\n",
              "            8.9893e-01, 5.4977e-01],\n",
              "           [1.1209e-01, 6.4492e-01, 2.2184e-01,  ..., 1.6896e-01,\n",
              "            3.5068e-02, 2.5841e-01]],\n",
              "\n",
              "          [[6.8487e-01, 1.5339e-01, 9.0749e-01,  ..., 2.6159e-02,\n",
              "            4.4097e-01, 5.7116e-01],\n",
              "           [2.2052e-01, 9.3063e-01, 2.7666e-01,  ..., 8.2483e-01,\n",
              "            8.7790e-01, 6.2321e-01],\n",
              "           [4.3674e-01, 6.3741e-01, 8.6201e-02,  ..., 2.9769e-01,\n",
              "            1.5001e-01, 6.4892e-01],\n",
              "           ...,\n",
              "           [3.3256e-01, 3.6591e-01, 7.7237e-01,  ..., 1.9709e-01,\n",
              "            7.7653e-01, 4.6191e-01],\n",
              "           [6.8885e-01, 6.8752e-01, 2.6345e-01,  ..., 8.9097e-01,\n",
              "            8.4041e-02, 9.8908e-01],\n",
              "           [2.6237e-01, 3.2057e-02, 9.8056e-01,  ..., 2.3748e-01,\n",
              "            9.5270e-01, 2.9155e-01]],\n",
              "\n",
              "          [[5.5308e-02, 5.6692e-03, 8.7792e-01,  ..., 5.5409e-01,\n",
              "            4.0397e-01, 8.8486e-01],\n",
              "           [9.3527e-01, 4.6687e-01, 8.3009e-01,  ..., 2.0439e-01,\n",
              "            1.6496e-01, 8.5198e-01],\n",
              "           [1.9477e-01, 6.9564e-01, 9.9083e-01,  ..., 3.7441e-01,\n",
              "            7.5438e-01, 7.8529e-01],\n",
              "           ...,\n",
              "           [4.0346e-01, 7.5574e-01, 1.7130e-01,  ..., 2.2743e-01,\n",
              "            5.9617e-01, 1.0927e-01],\n",
              "           [8.3687e-01, 5.3220e-01, 8.7114e-01,  ..., 1.8308e-01,\n",
              "            3.6951e-01, 7.6780e-01],\n",
              "           [4.5546e-01, 3.9472e-01, 2.2730e-02,  ..., 8.9599e-01,\n",
              "            5.5004e-01, 9.5284e-02]]],\n",
              "\n",
              "\n",
              "         [[[1.8940e-02, 8.0233e-01, 2.4591e-01,  ..., 6.0171e-03,\n",
              "            7.2583e-01, 6.9385e-01],\n",
              "           [5.5493e-01, 2.5895e-01, 6.8562e-01,  ..., 4.6837e-01,\n",
              "            8.7669e-01, 1.0950e-02],\n",
              "           [3.4209e-01, 7.7536e-01, 5.0677e-01,  ..., 1.9330e-01,\n",
              "            4.0929e-01, 1.6272e-01],\n",
              "           ...,\n",
              "           [5.5010e-01, 6.7931e-01, 6.6677e-01,  ..., 8.7357e-01,\n",
              "            2.4048e-01, 6.5680e-01],\n",
              "           [5.1821e-01, 1.4146e-01, 9.0683e-01,  ..., 3.3232e-01,\n",
              "            3.8387e-01, 1.8815e-01],\n",
              "           [5.2437e-01, 6.5268e-01, 8.3078e-01,  ..., 2.7588e-01,\n",
              "            3.9698e-01, 6.0884e-01]],\n",
              "\n",
              "          [[3.0448e-01, 7.7568e-01, 7.9776e-01,  ..., 5.3323e-02,\n",
              "            4.1919e-01, 7.9241e-01],\n",
              "           [3.1594e-01, 5.9057e-01, 3.7308e-02,  ..., 5.7305e-01,\n",
              "            6.0054e-01, 3.9355e-01],\n",
              "           [3.0814e-01, 3.1715e-01, 9.7112e-01,  ..., 9.9370e-01,\n",
              "            6.0552e-01, 6.2150e-01],\n",
              "           ...,\n",
              "           [3.6926e-01, 3.6271e-01, 4.0098e-02,  ..., 3.3177e-01,\n",
              "            1.1286e-01, 8.6047e-01],\n",
              "           [7.0877e-01, 1.7246e-01, 1.5944e-01,  ..., 5.1339e-01,\n",
              "            1.0981e-01, 7.2793e-02],\n",
              "           [9.5167e-01, 1.0958e-02, 9.1062e-01,  ..., 4.4463e-01,\n",
              "            1.5877e-01, 4.5890e-01]],\n",
              "\n",
              "          [[5.0519e-01, 8.4579e-01, 4.3849e-01,  ..., 1.3180e-01,\n",
              "            1.4311e-02, 7.7901e-01],\n",
              "           [7.6373e-01, 3.3289e-01, 8.8353e-01,  ..., 5.7756e-01,\n",
              "            2.2771e-01, 4.9087e-01],\n",
              "           [6.0171e-01, 5.0072e-01, 1.3358e-01,  ..., 6.5006e-01,\n",
              "            5.1549e-01, 4.6891e-01],\n",
              "           ...,\n",
              "           [1.0317e-01, 6.3947e-01, 7.9299e-01,  ..., 8.7499e-01,\n",
              "            8.1549e-01, 4.1762e-01],\n",
              "           [3.6254e-01, 1.1562e-01, 5.1630e-01,  ..., 2.9396e-01,\n",
              "            1.5076e-01, 8.4179e-01],\n",
              "           [5.3501e-02, 6.6326e-01, 9.8837e-01,  ..., 4.3959e-01,\n",
              "            1.7882e-01, 6.8670e-01]],\n",
              "\n",
              "          ...,\n",
              "\n",
              "          [[2.5987e-01, 7.8771e-01, 1.2348e-01,  ..., 2.7359e-02,\n",
              "            6.5453e-01, 9.0263e-01],\n",
              "           [2.5745e-01, 5.7781e-01, 8.0879e-01,  ..., 6.5975e-01,\n",
              "            9.9905e-01, 5.1000e-01],\n",
              "           [9.4032e-01, 4.5810e-01, 1.3820e-01,  ..., 8.9842e-02,\n",
              "            4.3555e-01, 4.2805e-01],\n",
              "           ...,\n",
              "           [1.1559e-01, 7.9250e-01, 7.7139e-01,  ..., 2.3621e-01,\n",
              "            7.6549e-02, 5.5776e-01],\n",
              "           [1.8741e-01, 4.5224e-01, 7.0060e-01,  ..., 6.4043e-01,\n",
              "            5.6105e-01, 3.1540e-01],\n",
              "           [6.0641e-01, 7.9761e-01, 8.8287e-01,  ..., 4.9048e-01,\n",
              "            7.5042e-01, 1.3770e-01]],\n",
              "\n",
              "          [[3.8005e-01, 7.2442e-02, 6.7296e-01,  ..., 6.5735e-01,\n",
              "            7.1222e-01, 6.2047e-01],\n",
              "           [4.1323e-01, 1.7360e-01, 2.5062e-01,  ..., 3.9199e-01,\n",
              "            8.6896e-01, 1.0201e-01],\n",
              "           [7.0000e-01, 9.5832e-01, 3.9178e-01,  ..., 3.0465e-01,\n",
              "            8.2752e-01, 4.1040e-01],\n",
              "           ...,\n",
              "           [6.5810e-01, 6.0172e-01, 3.8119e-01,  ..., 7.9498e-01,\n",
              "            5.3884e-01, 7.6096e-01],\n",
              "           [2.6925e-01, 1.3765e-01, 3.3296e-01,  ..., 3.0141e-01,\n",
              "            7.2393e-01, 2.6335e-01],\n",
              "           [7.4538e-01, 2.1054e-02, 4.7061e-01,  ..., 8.3259e-01,\n",
              "            8.6452e-01, 2.4252e-01]],\n",
              "\n",
              "          [[6.7198e-01, 1.4656e-01, 2.8412e-01,  ..., 5.8398e-01,\n",
              "            9.1225e-01, 8.2492e-01],\n",
              "           [3.8912e-01, 8.3393e-01, 6.0716e-01,  ..., 8.4773e-01,\n",
              "            9.6592e-01, 9.9729e-01],\n",
              "           [4.7734e-02, 8.9632e-01, 7.3147e-01,  ..., 6.3656e-02,\n",
              "            5.0628e-01, 2.1687e-01],\n",
              "           ...,\n",
              "           [7.3215e-01, 2.1981e-01, 5.0537e-01,  ..., 8.9800e-01,\n",
              "            5.1133e-02, 8.2040e-01],\n",
              "           [5.0586e-01, 2.4015e-01, 2.2942e-01,  ..., 3.3721e-01,\n",
              "            4.8879e-01, 7.3719e-04],\n",
              "           [3.5506e-01, 7.0332e-01, 1.6946e-01,  ..., 8.3516e-01,\n",
              "            8.7259e-01, 8.7086e-01]]],\n",
              "\n",
              "\n",
              "         ...,\n",
              "\n",
              "\n",
              "         [[[7.9954e-03, 9.1442e-01, 6.5297e-03,  ..., 4.8864e-01,\n",
              "            4.4742e-02, 2.6711e-01],\n",
              "           [2.6893e-01, 4.0641e-01, 6.1185e-01,  ..., 5.4329e-01,\n",
              "            5.4093e-02, 9.9241e-01],\n",
              "           [8.0225e-01, 8.3713e-01, 9.4578e-01,  ..., 9.6469e-02,\n",
              "            5.8551e-03, 2.5999e-01],\n",
              "           ...,\n",
              "           [7.0742e-01, 6.3057e-01, 4.5451e-01,  ..., 7.1876e-01,\n",
              "            4.5147e-01, 9.0766e-01],\n",
              "           [4.2133e-01, 4.8168e-02, 9.4581e-03,  ..., 8.6353e-01,\n",
              "            6.6134e-01, 4.7856e-01],\n",
              "           [3.7680e-01, 5.7775e-01, 6.9281e-01,  ..., 8.7666e-01,\n",
              "            2.0032e-01, 1.6147e-01]],\n",
              "\n",
              "          [[4.5186e-01, 1.6795e-01, 8.0013e-01,  ..., 1.6246e-01,\n",
              "            1.8678e-01, 5.0494e-01],\n",
              "           [1.4637e-01, 5.4365e-01, 2.9776e-01,  ..., 7.2731e-01,\n",
              "            7.2669e-01, 5.9507e-01],\n",
              "           [2.6265e-02, 3.2528e-01, 7.4616e-01,  ..., 9.0704e-01,\n",
              "            5.2317e-01, 1.6116e-01],\n",
              "           ...,\n",
              "           [3.4229e-01, 3.1951e-02, 6.3538e-01,  ..., 6.9712e-01,\n",
              "            1.5376e-01, 5.6915e-01],\n",
              "           [9.5920e-01, 9.5485e-01, 7.3352e-01,  ..., 1.8730e-01,\n",
              "            1.3443e-01, 4.0517e-01],\n",
              "           [5.2722e-01, 9.6450e-01, 7.4199e-01,  ..., 7.8783e-01,\n",
              "            1.3846e-01, 2.0139e-01]],\n",
              "\n",
              "          [[4.2892e-01, 3.3408e-01, 4.1665e-01,  ..., 2.3102e-01,\n",
              "            3.4957e-01, 7.6469e-01],\n",
              "           [1.0778e-03, 3.7887e-02, 6.9302e-02,  ..., 8.8454e-01,\n",
              "            3.7187e-01, 7.4298e-01],\n",
              "           [1.6388e-01, 3.4722e-02, 6.7579e-01,  ..., 5.9214e-01,\n",
              "            5.5373e-01, 8.8190e-02],\n",
              "           ...,\n",
              "           [4.4066e-01, 8.1065e-01, 9.6865e-01,  ..., 5.8222e-01,\n",
              "            9.2748e-03, 8.7015e-01],\n",
              "           [9.7777e-01, 2.1688e-01, 3.1414e-02,  ..., 3.7073e-01,\n",
              "            5.5733e-01, 1.1625e-01],\n",
              "           [7.6459e-01, 4.6972e-01, 1.3094e-01,  ..., 4.6543e-01,\n",
              "            4.5166e-01, 1.9449e-01]],\n",
              "\n",
              "          ...,\n",
              "\n",
              "          [[3.6659e-01, 4.6312e-01, 5.2837e-01,  ..., 5.3321e-01,\n",
              "            1.4000e-01, 8.6558e-02],\n",
              "           [2.9180e-01, 3.6405e-02, 9.6605e-01,  ..., 4.8693e-01,\n",
              "            3.0165e-02, 3.5988e-01],\n",
              "           [2.2653e-01, 2.3221e-01, 5.7996e-01,  ..., 5.8695e-01,\n",
              "            9.4439e-01, 9.3826e-01],\n",
              "           ...,\n",
              "           [3.8499e-01, 8.4587e-01, 4.4079e-01,  ..., 9.7628e-01,\n",
              "            5.9592e-01, 5.0794e-01],\n",
              "           [2.1411e-01, 6.7738e-01, 4.4478e-01,  ..., 1.4687e-01,\n",
              "            9.3460e-01, 8.5159e-01],\n",
              "           [8.3603e-01, 8.8465e-01, 5.8695e-01,  ..., 1.2519e-01,\n",
              "            1.3914e-01, 9.2347e-01]],\n",
              "\n",
              "          [[1.0628e-01, 6.2617e-01, 7.5273e-02,  ..., 5.6145e-01,\n",
              "            7.6328e-01, 6.4298e-01],\n",
              "           [1.2357e-01, 3.4983e-01, 2.9342e-01,  ..., 2.5829e-01,\n",
              "            9.5770e-01, 1.8373e-01],\n",
              "           [9.5400e-02, 1.2589e-01, 2.6795e-01,  ..., 6.7678e-01,\n",
              "            6.5222e-01, 6.9391e-02],\n",
              "           ...,\n",
              "           [5.1780e-01, 2.5094e-02, 9.7333e-02,  ..., 9.9607e-01,\n",
              "            7.0706e-01, 5.7774e-01],\n",
              "           [7.5245e-01, 9.9263e-01, 6.2369e-01,  ..., 1.5433e-01,\n",
              "            3.1216e-01, 8.8166e-01],\n",
              "           [9.4423e-01, 1.6682e-01, 7.0811e-01,  ..., 5.8769e-01,\n",
              "            1.7027e-01, 2.5344e-01]],\n",
              "\n",
              "          [[4.7132e-01, 3.1606e-02, 6.7001e-02,  ..., 9.8805e-01,\n",
              "            1.2789e-01, 1.8520e-01],\n",
              "           [5.3983e-01, 4.3552e-01, 7.8127e-01,  ..., 3.9539e-01,\n",
              "            7.9603e-01, 2.2391e-01],\n",
              "           [7.3497e-01, 5.0893e-01, 8.0543e-02,  ..., 5.5195e-01,\n",
              "            1.2664e-01, 5.7396e-01],\n",
              "           ...,\n",
              "           [6.6821e-01, 3.9383e-01, 1.0811e-01,  ..., 4.4990e-01,\n",
              "            2.3593e-01, 7.3831e-01],\n",
              "           [6.6511e-02, 8.7803e-01, 2.8682e-01,  ..., 6.0067e-01,\n",
              "            9.6108e-01, 7.6408e-01],\n",
              "           [4.9765e-01, 8.0416e-01, 1.2524e-01,  ..., 7.8704e-01,\n",
              "            7.3865e-01, 2.9245e-01]]],\n",
              "\n",
              "\n",
              "         [[[9.2731e-01, 6.2572e-01, 2.6516e-01,  ..., 1.1734e-01,\n",
              "            3.7759e-01, 7.5122e-01],\n",
              "           [8.4183e-01, 3.9340e-02, 1.2352e-03,  ..., 4.5702e-02,\n",
              "            7.1259e-01, 7.7552e-01],\n",
              "           [1.4043e-01, 5.5412e-01, 3.7187e-01,  ..., 8.6455e-02,\n",
              "            8.6938e-01, 4.1614e-01],\n",
              "           ...,\n",
              "           [8.2478e-01, 1.0925e-01, 3.3509e-01,  ..., 9.9204e-01,\n",
              "            8.5058e-01, 4.1835e-01],\n",
              "           [7.9153e-01, 9.8142e-01, 4.2364e-01,  ..., 6.7197e-01,\n",
              "            4.8961e-01, 2.6361e-01],\n",
              "           [8.2735e-01, 1.5254e-02, 6.2989e-01,  ..., 4.7893e-01,\n",
              "            8.3400e-01, 9.6267e-01]],\n",
              "\n",
              "          [[4.5001e-01, 1.3371e-01, 8.4255e-01,  ..., 9.3045e-01,\n",
              "            8.8849e-01, 9.0518e-03],\n",
              "           [8.7029e-02, 4.7628e-01, 6.3398e-01,  ..., 7.9273e-01,\n",
              "            4.8147e-01, 5.0421e-01],\n",
              "           [9.7029e-02, 6.3971e-01, 8.9396e-01,  ..., 1.4331e-01,\n",
              "            8.2949e-01, 4.6396e-01],\n",
              "           ...,\n",
              "           [8.8357e-01, 4.3305e-01, 7.5960e-01,  ..., 3.0306e-01,\n",
              "            3.0016e-01, 7.5338e-01],\n",
              "           [5.9257e-01, 4.1586e-01, 4.4955e-01,  ..., 5.9778e-01,\n",
              "            9.6853e-01, 7.2793e-01],\n",
              "           [8.3344e-01, 6.0966e-01, 1.3708e-01,  ..., 4.9493e-01,\n",
              "            8.3453e-01, 5.9836e-01]],\n",
              "\n",
              "          [[4.6045e-01, 8.4082e-01, 3.8713e-02,  ..., 1.8549e-01,\n",
              "            3.0720e-01, 4.0320e-01],\n",
              "           [5.2037e-01, 6.7654e-02, 2.3145e-01,  ..., 8.3261e-02,\n",
              "            6.1376e-01, 7.5177e-01],\n",
              "           [8.2397e-01, 9.6049e-01, 7.8741e-01,  ..., 6.9265e-01,\n",
              "            4.0950e-02, 3.5443e-01],\n",
              "           ...,\n",
              "           [1.3138e-01, 3.3079e-02, 4.2756e-01,  ..., 6.2380e-01,\n",
              "            8.4974e-01, 2.8284e-03],\n",
              "           [7.0961e-01, 9.2226e-01, 4.2553e-02,  ..., 6.1896e-01,\n",
              "            2.2081e-01, 8.5478e-01],\n",
              "           [5.8014e-02, 8.7277e-02, 1.8794e-01,  ..., 9.3822e-01,\n",
              "            1.2645e-01, 5.7177e-01]],\n",
              "\n",
              "          ...,\n",
              "\n",
              "          [[5.7575e-01, 5.9035e-01, 3.1419e-01,  ..., 4.0871e-01,\n",
              "            4.7007e-01, 9.0629e-01],\n",
              "           [7.7705e-01, 7.9374e-01, 4.5380e-02,  ..., 9.2611e-02,\n",
              "            6.7908e-01, 8.5432e-01],\n",
              "           [9.8414e-01, 9.2287e-01, 2.7998e-01,  ..., 1.7839e-01,\n",
              "            1.9551e-01, 4.1500e-01],\n",
              "           ...,\n",
              "           [4.2421e-01, 4.2592e-01, 4.6925e-01,  ..., 5.6153e-01,\n",
              "            3.5847e-01, 8.2242e-01],\n",
              "           [3.1864e-01, 4.1073e-01, 3.4177e-01,  ..., 6.0441e-01,\n",
              "            1.8706e-01, 6.3401e-01],\n",
              "           [8.9314e-01, 5.1694e-01, 8.2622e-01,  ..., 3.9721e-01,\n",
              "            8.0327e-01, 5.0423e-02]],\n",
              "\n",
              "          [[5.7218e-01, 7.4563e-01, 2.2059e-01,  ..., 1.4246e-01,\n",
              "            8.1108e-01, 7.0063e-01],\n",
              "           [5.9469e-01, 9.0542e-01, 4.5623e-01,  ..., 3.8484e-01,\n",
              "            6.6971e-01, 1.7122e-01],\n",
              "           [7.2074e-01, 4.4792e-01, 5.8094e-01,  ..., 4.0963e-01,\n",
              "            1.9934e-01, 1.0890e-01],\n",
              "           ...,\n",
              "           [6.2269e-01, 7.8895e-01, 2.1629e-01,  ..., 4.1366e-01,\n",
              "            9.4211e-01, 5.3777e-01],\n",
              "           [5.0011e-01, 6.1894e-01, 8.9358e-01,  ..., 4.0914e-01,\n",
              "            5.9428e-01, 3.3243e-01],\n",
              "           [2.0794e-01, 5.9252e-01, 8.5881e-01,  ..., 9.4971e-01,\n",
              "            7.6484e-01, 6.8120e-02]],\n",
              "\n",
              "          [[4.2829e-01, 3.8825e-01, 9.3546e-01,  ..., 4.0500e-01,\n",
              "            6.4360e-01, 7.8619e-01],\n",
              "           [2.2952e-01, 2.8475e-01, 4.6373e-01,  ..., 9.7795e-01,\n",
              "            9.6496e-01, 5.0536e-01],\n",
              "           [3.5080e-01, 7.3649e-01, 7.1529e-01,  ..., 7.2849e-01,\n",
              "            1.8961e-01, 6.3007e-01],\n",
              "           ...,\n",
              "           [7.2369e-01, 4.1061e-02, 9.4559e-01,  ..., 7.3046e-01,\n",
              "            6.5345e-01, 2.9000e-01],\n",
              "           [7.9708e-01, 7.4567e-01, 6.5910e-01,  ..., 3.2643e-01,\n",
              "            6.3639e-02, 4.2339e-01],\n",
              "           [3.5334e-01, 9.5814e-02, 6.8167e-01,  ..., 1.3724e-01,\n",
              "            9.2217e-01, 7.0359e-01]]],\n",
              "\n",
              "\n",
              "         [[[6.0418e-02, 8.7724e-01, 2.1574e-01,  ..., 7.8821e-01,\n",
              "            8.8384e-01, 4.0067e-01],\n",
              "           [9.2253e-03, 8.4350e-01, 3.0585e-02,  ..., 5.9259e-01,\n",
              "            1.6033e-01, 9.6891e-01],\n",
              "           [9.7795e-01, 9.5974e-01, 1.5249e-02,  ..., 9.4732e-01,\n",
              "            2.7157e-01, 5.0424e-01],\n",
              "           ...,\n",
              "           [5.7913e-01, 4.7991e-01, 4.8197e-01,  ..., 5.9267e-01,\n",
              "            3.6432e-01, 1.0796e-01],\n",
              "           [5.4800e-03, 5.8250e-01, 9.0744e-01,  ..., 6.6644e-01,\n",
              "            8.3176e-01, 9.2905e-01],\n",
              "           [4.9492e-01, 9.1494e-02, 2.4399e-01,  ..., 8.5697e-01,\n",
              "            7.3521e-01, 5.0951e-01]],\n",
              "\n",
              "          [[4.8106e-01, 4.8386e-02, 4.7458e-01,  ..., 5.0225e-01,\n",
              "            1.9635e-01, 3.8860e-01],\n",
              "           [3.9420e-01, 5.1065e-01, 2.0151e-01,  ..., 6.1160e-01,\n",
              "            8.7488e-01, 6.0351e-01],\n",
              "           [4.7355e-01, 3.9011e-01, 3.1809e-01,  ..., 3.7396e-01,\n",
              "            7.9439e-01, 3.8170e-01],\n",
              "           ...,\n",
              "           [8.0946e-01, 6.1540e-01, 8.4552e-01,  ..., 7.7211e-01,\n",
              "            9.0827e-01, 4.3176e-01],\n",
              "           [6.7448e-01, 2.4675e-01, 4.4851e-01,  ..., 5.9885e-01,\n",
              "            2.0550e-01, 3.8852e-01],\n",
              "           [8.7583e-01, 1.5564e-01, 8.9955e-01,  ..., 9.9704e-01,\n",
              "            6.9705e-01, 5.7899e-01]],\n",
              "\n",
              "          [[4.8140e-01, 9.1260e-01, 9.7774e-01,  ..., 4.3065e-01,\n",
              "            1.6642e-01, 2.7061e-01],\n",
              "           [7.5153e-01, 4.6103e-01, 5.9742e-01,  ..., 2.9249e-01,\n",
              "            6.8574e-01, 5.7313e-02],\n",
              "           [9.3524e-01, 9.2294e-01, 3.2014e-01,  ..., 2.5508e-01,\n",
              "            6.5204e-01, 8.4552e-01],\n",
              "           ...,\n",
              "           [9.4188e-01, 3.1685e-01, 9.5076e-01,  ..., 8.4279e-01,\n",
              "            4.7257e-02, 9.6461e-01],\n",
              "           [4.2181e-01, 3.3160e-01, 4.6907e-01,  ..., 8.2002e-01,\n",
              "            5.4703e-01, 4.3103e-02],\n",
              "           [1.0363e-01, 1.4819e-01, 4.2038e-01,  ..., 9.5363e-01,\n",
              "            4.3168e-01, 8.4630e-01]],\n",
              "\n",
              "          ...,\n",
              "\n",
              "          [[2.6294e-02, 4.9904e-02, 9.0363e-02,  ..., 3.6515e-01,\n",
              "            9.2355e-02, 7.4101e-01],\n",
              "           [3.0273e-02, 6.3879e-01, 2.6684e-01,  ..., 9.8288e-02,\n",
              "            8.1442e-01, 7.1315e-01],\n",
              "           [1.7218e-02, 1.3611e-01, 8.0901e-01,  ..., 3.5449e-01,\n",
              "            3.1897e-01, 5.2175e-01],\n",
              "           ...,\n",
              "           [5.2054e-01, 1.4818e-01, 4.2300e-01,  ..., 5.3906e-01,\n",
              "            3.1869e-01, 3.6764e-02],\n",
              "           [6.9146e-01, 6.5908e-02, 6.2318e-01,  ..., 1.0818e-01,\n",
              "            6.7093e-01, 4.9420e-01],\n",
              "           [2.7261e-02, 4.0374e-01, 1.4078e-01,  ..., 3.2298e-01,\n",
              "            7.8105e-01, 8.2151e-01]],\n",
              "\n",
              "          [[5.9187e-01, 7.4792e-02, 7.6302e-01,  ..., 5.0973e-01,\n",
              "            5.2540e-01, 4.2002e-01],\n",
              "           [1.3958e-01, 9.1306e-01, 5.8600e-01,  ..., 4.3559e-01,\n",
              "            2.3493e-01, 8.0006e-02],\n",
              "           [6.1038e-01, 9.7866e-01, 2.5654e-02,  ..., 5.7755e-01,\n",
              "            3.6041e-01, 5.6586e-01],\n",
              "           ...,\n",
              "           [2.0871e-01, 6.4910e-01, 1.4563e-01,  ..., 9.8944e-02,\n",
              "            9.6491e-01, 5.2188e-01],\n",
              "           [3.2478e-01, 2.0420e-02, 2.0167e-01,  ..., 3.0616e-01,\n",
              "            6.0830e-01, 7.3894e-01],\n",
              "           [9.2641e-01, 9.8233e-01, 7.2753e-02,  ..., 7.4819e-01,\n",
              "            3.4113e-01, 2.3561e-01]],\n",
              "\n",
              "          [[5.4046e-01, 8.1504e-01, 7.3654e-01,  ..., 3.8430e-01,\n",
              "            1.6431e-02, 1.2291e-01],\n",
              "           [7.6683e-01, 8.0912e-01, 7.3838e-01,  ..., 1.5958e-01,\n",
              "            3.9703e-02, 6.6698e-01],\n",
              "           [9.7463e-01, 1.3811e-01, 4.6530e-01,  ..., 4.0661e-01,\n",
              "            5.1152e-02, 5.9349e-01],\n",
              "           ...,\n",
              "           [2.1250e-01, 9.4496e-02, 8.9078e-01,  ..., 8.3255e-01,\n",
              "            5.4163e-01, 3.0804e-01],\n",
              "           [9.5394e-01, 9.8730e-01, 7.8422e-01,  ..., 1.1861e-01,\n",
              "            8.6689e-01, 1.6803e-01],\n",
              "           [5.8531e-01, 3.3283e-01, 7.4488e-01,  ..., 4.6467e-01,\n",
              "            2.4564e-01, 4.6918e-01]]]],\n",
              "\n",
              "\n",
              "\n",
              "        [[[[3.8083e-01, 8.7897e-01, 5.5255e-01,  ..., 6.6127e-01,\n",
              "            1.6363e-01, 7.5216e-01],\n",
              "           [7.0865e-01, 4.7875e-02, 6.6176e-01,  ..., 4.1583e-01,\n",
              "            7.5433e-01, 7.7474e-02],\n",
              "           [9.9591e-01, 7.1624e-01, 8.1623e-01,  ..., 5.9072e-01,\n",
              "            4.6400e-01, 1.1918e-01],\n",
              "           ...,\n",
              "           [2.3719e-01, 5.2924e-01, 3.0633e-01,  ..., 7.3991e-01,\n",
              "            8.8534e-02, 5.6890e-03],\n",
              "           [3.0544e-01, 2.1992e-01, 9.9258e-01,  ..., 1.7981e-01,\n",
              "            5.3283e-01, 8.1564e-01],\n",
              "           [3.4924e-01, 2.2249e-01, 5.4420e-01,  ..., 3.8104e-01,\n",
              "            2.6748e-01, 8.9668e-01]],\n",
              "\n",
              "          [[7.8175e-01, 3.1779e-01, 7.1870e-01,  ..., 2.1900e-01,\n",
              "            2.5001e-01, 7.7491e-01],\n",
              "           [3.0722e-01, 2.9040e-01, 8.5797e-01,  ..., 8.7507e-02,\n",
              "            4.0361e-01, 6.5489e-02],\n",
              "           [4.1497e-01, 4.3491e-01, 1.4299e-01,  ..., 2.1844e-02,\n",
              "            6.1338e-01, 5.6524e-01],\n",
              "           ...,\n",
              "           [5.0772e-01, 9.0801e-01, 9.0796e-02,  ..., 9.2236e-01,\n",
              "            5.9232e-01, 2.1631e-01],\n",
              "           [8.3833e-01, 6.1443e-01, 1.5509e-01,  ..., 2.6601e-02,\n",
              "            6.9887e-01, 4.3713e-01],\n",
              "           [2.0136e-01, 8.4121e-02, 8.5769e-01,  ..., 1.7216e-01,\n",
              "            9.3777e-01, 4.9686e-01]],\n",
              "\n",
              "          [[4.6705e-01, 4.3910e-01, 9.2783e-01,  ..., 2.7824e-01,\n",
              "            6.3424e-01, 5.2680e-01],\n",
              "           [2.4696e-01, 8.8200e-01, 8.2118e-01,  ..., 7.6852e-01,\n",
              "            3.8220e-01, 5.7006e-02],\n",
              "           [5.0996e-01, 7.9102e-01, 2.4512e-01,  ..., 2.6909e-01,\n",
              "            8.3678e-01, 6.4621e-02],\n",
              "           ...,\n",
              "           [7.7322e-01, 6.4025e-01, 6.2540e-01,  ..., 8.4387e-01,\n",
              "            4.0338e-01, 4.4835e-01],\n",
              "           [5.8380e-03, 8.4658e-01, 6.3992e-01,  ..., 2.2474e-01,\n",
              "            1.1118e-01, 8.4869e-01],\n",
              "           [1.8298e-01, 1.3126e-01, 9.7264e-01,  ..., 9.7781e-01,\n",
              "            5.5883e-01, 6.1891e-01]],\n",
              "\n",
              "          ...,\n",
              "\n",
              "          [[5.8273e-01, 3.1540e-01, 5.1288e-01,  ..., 5.8170e-01,\n",
              "            4.9318e-01, 5.6616e-01],\n",
              "           [8.5108e-01, 4.9532e-01, 8.5154e-01,  ..., 2.7788e-02,\n",
              "            7.1362e-01, 1.4697e-01],\n",
              "           [1.7126e-01, 7.1721e-01, 9.8629e-02,  ..., 6.8732e-01,\n",
              "            4.9586e-03, 6.3507e-02],\n",
              "           ...,\n",
              "           [6.9127e-02, 2.3983e-01, 8.3939e-01,  ..., 6.1432e-01,\n",
              "            8.7168e-01, 2.3529e-01],\n",
              "           [3.9805e-01, 1.1891e-01, 8.7572e-01,  ..., 8.6432e-01,\n",
              "            2.3880e-01, 1.2734e-01],\n",
              "           [2.1264e-01, 8.1763e-01, 1.9963e-01,  ..., 3.1511e-01,\n",
              "            4.1927e-02, 2.3009e-02]],\n",
              "\n",
              "          [[7.6389e-01, 4.7671e-01, 1.1192e-01,  ..., 7.9759e-01,\n",
              "            9.9425e-01, 5.0645e-02],\n",
              "           [9.0074e-01, 5.8026e-02, 3.1688e-01,  ..., 9.3330e-01,\n",
              "            7.6763e-01, 7.7109e-01],\n",
              "           [5.0594e-01, 2.3819e-01, 5.3382e-01,  ..., 7.5913e-01,\n",
              "            2.3130e-01, 4.0627e-01],\n",
              "           ...,\n",
              "           [1.3697e-01, 6.5478e-01, 8.7655e-01,  ..., 1.8672e-01,\n",
              "            1.8861e-01, 8.2994e-01],\n",
              "           [2.2476e-01, 8.9301e-01, 5.7435e-01,  ..., 6.0689e-01,\n",
              "            6.7845e-02, 1.9631e-02],\n",
              "           [5.0742e-02, 2.7011e-01, 5.2390e-01,  ..., 9.5782e-01,\n",
              "            5.7049e-01, 5.9373e-01]],\n",
              "\n",
              "          [[8.0900e-01, 9.7889e-01, 4.2760e-01,  ..., 4.3347e-01,\n",
              "            2.5856e-02, 5.2526e-01],\n",
              "           [2.1967e-01, 4.6125e-01, 7.2734e-01,  ..., 4.7109e-01,\n",
              "            7.3399e-02, 6.5404e-01],\n",
              "           [9.2931e-01, 1.3532e-01, 8.0186e-01,  ..., 6.8783e-01,\n",
              "            2.0438e-01, 4.2355e-01],\n",
              "           ...,\n",
              "           [7.8065e-01, 6.7156e-01, 7.7278e-01,  ..., 7.4670e-01,\n",
              "            4.9925e-01, 8.7571e-01],\n",
              "           [7.8246e-01, 4.8569e-01, 5.2814e-01,  ..., 2.5641e-01,\n",
              "            5.6842e-01, 9.6976e-01],\n",
              "           [5.6166e-01, 9.8421e-01, 1.1893e-02,  ..., 6.6073e-01,\n",
              "            1.6274e-01, 6.9755e-01]]],\n",
              "\n",
              "\n",
              "         [[[2.7771e-01, 9.0186e-01, 7.6771e-01,  ..., 7.9029e-01,\n",
              "            8.3501e-01, 7.5194e-01],\n",
              "           [7.8261e-01, 6.2090e-01, 8.3034e-01,  ..., 8.8768e-01,\n",
              "            9.9359e-01, 5.4290e-01],\n",
              "           [4.2788e-01, 7.5376e-02, 7.3383e-01,  ..., 2.6755e-02,\n",
              "            5.3816e-01, 6.8443e-01],\n",
              "           ...,\n",
              "           [1.1440e-01, 9.9797e-02, 8.3238e-01,  ..., 8.3382e-01,\n",
              "            5.0467e-01, 3.2544e-01],\n",
              "           [9.7187e-02, 7.7632e-01, 7.3497e-01,  ..., 7.3669e-02,\n",
              "            7.9182e-01, 9.8353e-01],\n",
              "           [3.5987e-01, 9.3091e-01, 8.9378e-01,  ..., 5.0682e-02,\n",
              "            4.8143e-01, 4.3070e-01]],\n",
              "\n",
              "          [[7.8803e-01, 3.8330e-01, 7.5629e-01,  ..., 7.2334e-01,\n",
              "            9.1981e-01, 3.9215e-01],\n",
              "           [1.5663e-01, 4.3613e-01, 3.4655e-01,  ..., 7.9016e-01,\n",
              "            3.3140e-02, 8.0036e-01],\n",
              "           [2.1211e-02, 6.5143e-01, 2.9478e-01,  ..., 5.2256e-01,\n",
              "            4.1995e-01, 4.5603e-01],\n",
              "           ...,\n",
              "           [3.9632e-02, 5.7785e-01, 1.8262e-01,  ..., 3.2628e-01,\n",
              "            8.5688e-01, 7.5793e-01],\n",
              "           [2.5689e-01, 9.8888e-01, 9.6609e-01,  ..., 8.9283e-01,\n",
              "            4.8999e-01, 2.8536e-01],\n",
              "           [9.5389e-01, 8.2142e-01, 1.7258e-02,  ..., 6.5091e-01,\n",
              "            4.2977e-01, 6.4810e-01]],\n",
              "\n",
              "          [[7.7271e-01, 1.4186e-01, 4.2321e-02,  ..., 3.1174e-01,\n",
              "            1.2841e-01, 4.2434e-01],\n",
              "           [9.2732e-01, 4.5238e-01, 6.2688e-01,  ..., 4.1523e-02,\n",
              "            8.4955e-01, 8.9160e-01],\n",
              "           [7.5262e-01, 3.4700e-01, 5.8974e-01,  ..., 9.0764e-01,\n",
              "            3.1582e-01, 1.5131e-01],\n",
              "           ...,\n",
              "           [6.8352e-01, 3.4179e-01, 8.8412e-01,  ..., 3.5566e-01,\n",
              "            4.6828e-01, 5.6058e-01],\n",
              "           [7.5721e-01, 3.0798e-01, 8.1057e-01,  ..., 4.4154e-01,\n",
              "            2.5141e-01, 9.3173e-01],\n",
              "           [2.8316e-01, 8.6975e-02, 7.4180e-01,  ..., 7.5637e-01,\n",
              "            1.3851e-01, 5.9053e-01]],\n",
              "\n",
              "          ...,\n",
              "\n",
              "          [[1.5389e-01, 4.5517e-01, 4.1506e-01,  ..., 7.5968e-01,\n",
              "            8.6198e-01, 8.3643e-01],\n",
              "           [5.9899e-01, 4.5500e-01, 4.5616e-02,  ..., 3.4273e-01,\n",
              "            9.7915e-01, 6.5691e-02],\n",
              "           [7.2737e-01, 7.2811e-01, 1.2762e-01,  ..., 7.6942e-01,\n",
              "            2.7263e-01, 7.3210e-01],\n",
              "           ...,\n",
              "           [4.6491e-02, 6.8841e-01, 7.3316e-01,  ..., 4.0710e-01,\n",
              "            5.3342e-01, 2.7935e-01],\n",
              "           [8.3741e-01, 6.7715e-01, 6.6067e-01,  ..., 9.6503e-01,\n",
              "            4.0845e-01, 2.5318e-02],\n",
              "           [4.1617e-01, 5.1613e-01, 3.4669e-01,  ..., 1.5394e-01,\n",
              "            9.4196e-01, 5.9833e-01]],\n",
              "\n",
              "          [[8.1025e-01, 4.7778e-01, 1.0713e-01,  ..., 3.1343e-01,\n",
              "            2.9451e-01, 5.4793e-02],\n",
              "           [2.8746e-01, 8.9725e-01, 7.7517e-01,  ..., 2.5678e-02,\n",
              "            2.2416e-01, 3.5784e-01],\n",
              "           [4.3999e-01, 1.1812e-01, 3.8381e-01,  ..., 6.8620e-01,\n",
              "            2.9421e-01, 3.2887e-01],\n",
              "           ...,\n",
              "           [9.1317e-01, 7.6476e-01, 9.6638e-01,  ..., 1.3788e-01,\n",
              "            4.2068e-01, 6.5139e-03],\n",
              "           [8.3409e-01, 9.8280e-01, 9.8511e-01,  ..., 6.6989e-01,\n",
              "            9.7410e-01, 3.1577e-01],\n",
              "           [4.7971e-01, 5.3425e-02, 5.6057e-01,  ..., 4.4820e-01,\n",
              "            9.0218e-01, 6.5280e-01]],\n",
              "\n",
              "          [[2.1422e-02, 5.4295e-01, 6.7265e-01,  ..., 3.2079e-01,\n",
              "            1.6405e-01, 4.0802e-01],\n",
              "           [7.8672e-01, 8.2071e-01, 5.5427e-01,  ..., 5.1027e-01,\n",
              "            4.7124e-01, 2.8438e-01],\n",
              "           [6.2609e-01, 6.2833e-01, 3.3555e-01,  ..., 4.0868e-01,\n",
              "            7.7242e-01, 9.9042e-01],\n",
              "           ...,\n",
              "           [9.2589e-01, 6.5036e-01, 9.4372e-01,  ..., 8.6389e-01,\n",
              "            6.5474e-01, 2.4522e-01],\n",
              "           [4.6921e-01, 8.2398e-01, 8.0261e-01,  ..., 6.1173e-01,\n",
              "            2.0604e-01, 4.9214e-01],\n",
              "           [1.8070e-01, 1.3705e-01, 3.3406e-01,  ..., 1.5860e-01,\n",
              "            4.1898e-01, 2.5213e-01]]],\n",
              "\n",
              "\n",
              "         [[[4.7150e-01, 9.6905e-01, 5.5544e-01,  ..., 9.9895e-01,\n",
              "            6.0258e-01, 1.5857e-01],\n",
              "           [7.3417e-01, 6.3104e-01, 6.1085e-01,  ..., 8.4652e-01,\n",
              "            1.5843e-01, 4.8906e-01],\n",
              "           [9.5434e-01, 1.6126e-02, 4.1076e-01,  ..., 9.8858e-01,\n",
              "            6.6260e-02, 1.1288e-01],\n",
              "           ...,\n",
              "           [8.0795e-01, 3.7671e-01, 7.5974e-01,  ..., 8.9499e-01,\n",
              "            1.1419e-02, 8.6776e-01],\n",
              "           [9.6470e-01, 5.8948e-01, 7.9628e-01,  ..., 1.1959e-01,\n",
              "            1.4690e-01, 2.3016e-01],\n",
              "           [8.7966e-01, 6.9652e-01, 8.6028e-01,  ..., 4.7683e-01,\n",
              "            5.2016e-01, 3.7223e-01]],\n",
              "\n",
              "          [[2.6094e-01, 8.3436e-02, 6.1384e-01,  ..., 8.8482e-01,\n",
              "            9.7700e-01, 6.3390e-01],\n",
              "           [2.3689e-01, 9.5652e-01, 9.4670e-04,  ..., 4.8279e-02,\n",
              "            3.4113e-01, 2.7676e-01],\n",
              "           [4.6532e-01, 9.1377e-01, 7.3174e-01,  ..., 2.3717e-01,\n",
              "            5.0568e-01, 6.1485e-03],\n",
              "           ...,\n",
              "           [9.7404e-01, 6.6718e-02, 7.1076e-01,  ..., 3.6764e-01,\n",
              "            1.7840e-01, 6.9204e-01],\n",
              "           [3.8884e-01, 5.6207e-01, 8.9377e-01,  ..., 9.3275e-01,\n",
              "            7.8889e-01, 3.7709e-01],\n",
              "           [5.1381e-02, 5.0391e-01, 3.8504e-01,  ..., 3.6475e-01,\n",
              "            9.2857e-01, 8.7299e-01]],\n",
              "\n",
              "          [[6.2611e-01, 2.9126e-01, 9.8524e-01,  ..., 1.2453e-01,\n",
              "            2.3766e-01, 9.4816e-01],\n",
              "           [4.5287e-01, 7.4707e-01, 9.9697e-01,  ..., 1.7297e-01,\n",
              "            9.0859e-01, 8.6487e-01],\n",
              "           [8.3398e-01, 7.9023e-01, 6.7800e-01,  ..., 1.6496e-01,\n",
              "            6.3625e-01, 6.9937e-01],\n",
              "           ...,\n",
              "           [1.6879e-01, 7.8105e-01, 3.5429e-01,  ..., 7.6946e-01,\n",
              "            8.1041e-01, 1.1199e-01],\n",
              "           [1.1056e-01, 6.6227e-01, 8.6795e-01,  ..., 1.1995e-01,\n",
              "            3.7491e-02, 4.5880e-01],\n",
              "           [4.3219e-01, 1.2517e-01, 1.8706e-01,  ..., 5.2287e-01,\n",
              "            8.4184e-01, 8.0358e-01]],\n",
              "\n",
              "          ...,\n",
              "\n",
              "          [[7.1863e-01, 3.6263e-01, 3.4568e-02,  ..., 4.6081e-01,\n",
              "            2.7948e-01, 5.5732e-01],\n",
              "           [5.1857e-01, 7.1910e-01, 7.0813e-01,  ..., 1.0284e-01,\n",
              "            9.2695e-01, 3.0431e-01],\n",
              "           [4.9457e-01, 9.6668e-01, 1.2310e-02,  ..., 3.2741e-01,\n",
              "            4.8643e-01, 2.9820e-01],\n",
              "           ...,\n",
              "           [6.9880e-02, 3.3598e-02, 3.6392e-01,  ..., 9.9749e-01,\n",
              "            6.4173e-01, 6.3230e-01],\n",
              "           [7.1309e-01, 3.5421e-01, 3.3431e-01,  ..., 6.3068e-02,\n",
              "            8.8415e-01, 6.8540e-01],\n",
              "           [4.5540e-01, 2.0911e-01, 6.9365e-01,  ..., 7.9050e-01,\n",
              "            1.6176e-01, 7.7776e-01]],\n",
              "\n",
              "          [[5.8196e-01, 6.0970e-01, 7.2152e-01,  ..., 7.0114e-01,\n",
              "            4.3420e-01, 9.6324e-01],\n",
              "           [2.3294e-01, 8.5693e-01, 6.3583e-01,  ..., 9.3547e-01,\n",
              "            4.3373e-01, 7.6168e-01],\n",
              "           [2.2930e-01, 7.8716e-01, 3.2758e-01,  ..., 4.4127e-01,\n",
              "            3.8114e-01, 5.9616e-02],\n",
              "           ...,\n",
              "           [8.7008e-01, 3.8656e-01, 8.3317e-01,  ..., 5.2443e-01,\n",
              "            6.5238e-02, 5.2492e-01],\n",
              "           [6.8902e-01, 4.7929e-01, 9.7135e-01,  ..., 3.9678e-01,\n",
              "            3.4917e-01, 8.2458e-01],\n",
              "           [2.0648e-01, 6.0443e-01, 9.0479e-01,  ..., 8.7643e-02,\n",
              "            8.1998e-01, 8.7008e-01]],\n",
              "\n",
              "          [[4.8702e-02, 4.9180e-01, 6.9629e-02,  ..., 7.1534e-01,\n",
              "            1.5457e-01, 3.9809e-02],\n",
              "           [9.1654e-01, 4.8848e-01, 9.3097e-01,  ..., 7.9527e-01,\n",
              "            3.9480e-01, 5.7930e-01],\n",
              "           [7.3582e-01, 8.5412e-01, 3.8599e-01,  ..., 5.9165e-01,\n",
              "            3.6008e-01, 5.9724e-01],\n",
              "           ...,\n",
              "           [8.1923e-01, 4.7423e-01, 4.6548e-01,  ..., 7.9869e-01,\n",
              "            2.7747e-01, 7.4583e-01],\n",
              "           [4.9395e-01, 7.0982e-01, 8.4790e-01,  ..., 3.7287e-01,\n",
              "            6.7845e-01, 9.5690e-01],\n",
              "           [5.3513e-01, 4.7471e-02, 1.6231e-01,  ..., 4.3146e-01,\n",
              "            3.9611e-01, 9.6482e-01]]],\n",
              "\n",
              "\n",
              "         ...,\n",
              "\n",
              "\n",
              "         [[[4.7624e-01, 9.9824e-01, 1.1119e-01,  ..., 4.4043e-02,\n",
              "            6.7563e-01, 4.2145e-01],\n",
              "           [7.7119e-01, 7.3083e-01, 6.3565e-01,  ..., 9.4033e-01,\n",
              "            4.0967e-01, 9.6199e-01],\n",
              "           [7.3140e-01, 5.7346e-01, 2.1369e-01,  ..., 1.5829e-01,\n",
              "            6.1643e-01, 7.5927e-01],\n",
              "           ...,\n",
              "           [4.0798e-01, 4.5891e-01, 2.0595e-01,  ..., 7.2225e-01,\n",
              "            5.9673e-01, 5.5302e-01],\n",
              "           [2.1990e-01, 4.7324e-01, 2.9291e-01,  ..., 6.3755e-01,\n",
              "            8.0558e-01, 8.8298e-01],\n",
              "           [4.1781e-01, 4.7550e-01, 7.3094e-01,  ..., 2.9027e-01,\n",
              "            2.3260e-01, 4.2706e-01]],\n",
              "\n",
              "          [[2.4226e-01, 7.3150e-01, 7.9655e-02,  ..., 9.8295e-01,\n",
              "            6.9673e-01, 3.2198e-01],\n",
              "           [5.0464e-01, 8.9793e-01, 7.2349e-01,  ..., 7.0799e-01,\n",
              "            8.6772e-02, 5.0644e-01],\n",
              "           [5.6499e-01, 4.5945e-01, 1.1058e-02,  ..., 7.4364e-01,\n",
              "            9.5917e-01, 8.9878e-01],\n",
              "           ...,\n",
              "           [5.1281e-01, 3.7966e-01, 2.3884e-01,  ..., 3.3917e-01,\n",
              "            1.9225e-01, 1.0220e-01],\n",
              "           [7.9184e-01, 4.6945e-02, 4.8252e-01,  ..., 1.4515e-01,\n",
              "            1.4203e-01, 3.2876e-01],\n",
              "           [3.6736e-01, 5.4785e-02, 2.3702e-01,  ..., 2.0629e-01,\n",
              "            6.4598e-01, 1.4316e-01]],\n",
              "\n",
              "          [[8.7222e-01, 2.3316e-01, 3.0430e-01,  ..., 6.3491e-01,\n",
              "            1.2115e-01, 2.2047e-01],\n",
              "           [2.9076e-01, 5.8531e-01, 7.9287e-01,  ..., 6.9929e-01,\n",
              "            8.5688e-01, 7.2796e-01],\n",
              "           [3.4495e-01, 8.9119e-01, 6.6032e-01,  ..., 9.9348e-01,\n",
              "            4.9651e-01, 9.8243e-01],\n",
              "           ...,\n",
              "           [9.3185e-01, 1.2222e-01, 3.9679e-01,  ..., 5.7552e-01,\n",
              "            1.9512e-01, 2.5913e-01],\n",
              "           [8.6277e-01, 2.6536e-01, 3.6221e-01,  ..., 8.0901e-01,\n",
              "            4.3656e-01, 5.6585e-01],\n",
              "           [2.5557e-01, 4.4959e-01, 1.5712e-01,  ..., 8.2442e-01,\n",
              "            6.0802e-01, 7.4093e-01]],\n",
              "\n",
              "          ...,\n",
              "\n",
              "          [[5.4964e-01, 5.8809e-01, 4.5682e-01,  ..., 7.2659e-01,\n",
              "            7.8391e-01, 1.1938e-01],\n",
              "           [6.1154e-01, 9.3680e-01, 8.1919e-01,  ..., 3.2886e-01,\n",
              "            6.9966e-01, 7.3950e-01],\n",
              "           [1.6570e-01, 8.9171e-01, 3.6970e-02,  ..., 3.5526e-02,\n",
              "            1.6654e-01, 3.7198e-02],\n",
              "           ...,\n",
              "           [3.8388e-01, 2.3546e-02, 1.0330e-01,  ..., 8.5582e-01,\n",
              "            1.2433e-02, 4.4741e-01],\n",
              "           [3.2000e-01, 5.2549e-01, 9.1734e-01,  ..., 8.1662e-01,\n",
              "            1.5778e-01, 1.6632e-01],\n",
              "           [6.5793e-01, 3.7543e-01, 5.8769e-01,  ..., 6.3247e-01,\n",
              "            9.0458e-01, 6.4853e-01]],\n",
              "\n",
              "          [[7.0209e-01, 3.8418e-01, 4.0244e-01,  ..., 8.1229e-01,\n",
              "            2.9328e-01, 1.1876e-01],\n",
              "           [8.7786e-01, 7.4654e-01, 6.3735e-01,  ..., 9.9960e-01,\n",
              "            7.2527e-03, 6.3716e-01],\n",
              "           [6.0978e-01, 6.6436e-01, 5.8405e-01,  ..., 7.7765e-01,\n",
              "            8.8837e-01, 8.9997e-01],\n",
              "           ...,\n",
              "           [9.0048e-01, 7.6812e-01, 5.7881e-01,  ..., 8.8128e-01,\n",
              "            5.2747e-01, 4.5291e-01],\n",
              "           [1.8146e-01, 6.7889e-01, 4.5457e-02,  ..., 7.0616e-01,\n",
              "            9.7633e-01, 9.7217e-01],\n",
              "           [4.5858e-01, 6.2964e-01, 5.3563e-01,  ..., 9.8394e-01,\n",
              "            5.9851e-01, 7.6397e-01]],\n",
              "\n",
              "          [[9.6124e-01, 3.1040e-01, 7.0391e-01,  ..., 1.7817e-01,\n",
              "            6.6412e-01, 2.0363e-01],\n",
              "           [1.6100e-01, 7.7987e-01, 2.8813e-01,  ..., 5.6718e-01,\n",
              "            9.3771e-01, 4.4157e-03],\n",
              "           [5.1882e-01, 1.8663e-01, 3.7435e-01,  ..., 1.9510e-01,\n",
              "            2.8860e-01, 8.8756e-01],\n",
              "           ...,\n",
              "           [1.2138e-01, 9.3957e-01, 2.6382e-01,  ..., 7.1294e-01,\n",
              "            4.2228e-03, 1.3935e-01],\n",
              "           [4.6531e-01, 9.1214e-01, 5.3894e-01,  ..., 2.1738e-01,\n",
              "            4.2316e-01, 6.4225e-01],\n",
              "           [7.1733e-01, 4.3032e-01, 6.6066e-01,  ..., 9.7881e-01,\n",
              "            4.4401e-01, 9.5232e-01]]],\n",
              "\n",
              "\n",
              "         [[[1.8552e-01, 5.3771e-01, 5.4420e-02,  ..., 3.8464e-02,\n",
              "            2.6912e-02, 1.0078e-01],\n",
              "           [5.4401e-01, 7.8157e-01, 2.1132e-01,  ..., 6.0256e-01,\n",
              "            4.8327e-01, 3.6836e-01],\n",
              "           [1.6357e-01, 1.3698e-01, 4.1387e-01,  ..., 9.6040e-01,\n",
              "            1.7564e-01, 9.4592e-01],\n",
              "           ...,\n",
              "           [2.2015e-01, 4.7291e-01, 8.2234e-01,  ..., 5.2012e-01,\n",
              "            2.2168e-01, 1.9409e-01],\n",
              "           [4.6842e-01, 3.6321e-01, 1.8437e-02,  ..., 4.7448e-01,\n",
              "            1.9103e-01, 9.9591e-01],\n",
              "           [8.2652e-01, 7.0779e-01, 6.2314e-01,  ..., 1.4184e-01,\n",
              "            4.5607e-01, 6.4529e-01]],\n",
              "\n",
              "          [[2.0634e-01, 3.6224e-01, 1.6315e-01,  ..., 4.2946e-01,\n",
              "            1.7415e-01, 7.9666e-01],\n",
              "           [3.9556e-01, 1.2252e-01, 4.1617e-01,  ..., 5.8540e-01,\n",
              "            8.4722e-01, 8.6162e-01],\n",
              "           [4.0764e-01, 2.9498e-01, 2.3735e-01,  ..., 9.7552e-01,\n",
              "            3.5423e-02, 8.0351e-01],\n",
              "           ...,\n",
              "           [3.5462e-01, 2.9637e-01, 3.6337e-01,  ..., 9.5997e-01,\n",
              "            2.2084e-01, 4.2123e-01],\n",
              "           [5.2222e-01, 1.6708e-01, 6.7312e-01,  ..., 4.5848e-01,\n",
              "            6.9099e-01, 8.2459e-01],\n",
              "           [3.1118e-01, 6.0271e-01, 4.2501e-01,  ..., 3.1403e-01,\n",
              "            4.9983e-02, 1.8618e-01]],\n",
              "\n",
              "          [[1.7084e-01, 4.6691e-01, 5.1097e-01,  ..., 9.6337e-01,\n",
              "            5.1221e-01, 4.1119e-01],\n",
              "           [1.6751e-01, 4.7790e-01, 3.1042e-01,  ..., 1.0822e-02,\n",
              "            6.4306e-01, 5.3776e-01],\n",
              "           [7.3942e-02, 6.9964e-01, 8.9582e-01,  ..., 4.1253e-01,\n",
              "            4.8031e-01, 6.8035e-01],\n",
              "           ...,\n",
              "           [4.3254e-01, 3.3415e-01, 4.0681e-01,  ..., 9.5087e-01,\n",
              "            5.9887e-01, 6.8451e-01],\n",
              "           [6.7684e-01, 8.0640e-01, 9.4468e-01,  ..., 5.3394e-01,\n",
              "            6.9804e-01, 4.8668e-02],\n",
              "           [2.9518e-01, 2.3749e-01, 6.5526e-01,  ..., 6.9049e-01,\n",
              "            9.1673e-01, 6.6880e-01]],\n",
              "\n",
              "          ...,\n",
              "\n",
              "          [[5.1069e-01, 2.7605e-01, 3.7903e-01,  ..., 2.5656e-01,\n",
              "            7.7120e-01, 4.9124e-01],\n",
              "           [9.7782e-01, 4.2926e-01, 4.7678e-01,  ..., 7.7348e-01,\n",
              "            9.1748e-03, 9.1130e-01],\n",
              "           [7.8081e-01, 3.4777e-01, 2.5929e-01,  ..., 7.7555e-01,\n",
              "            7.7409e-01, 5.5418e-01],\n",
              "           ...,\n",
              "           [5.5120e-01, 1.7267e-01, 5.0714e-01,  ..., 6.8858e-01,\n",
              "            6.5156e-01, 4.6652e-01],\n",
              "           [9.0789e-01, 1.2914e-01, 9.0739e-01,  ..., 5.7831e-01,\n",
              "            8.0891e-01, 1.4064e-01],\n",
              "           [4.1572e-01, 4.4142e-02, 5.8041e-01,  ..., 5.9811e-01,\n",
              "            8.4430e-01, 5.2972e-01]],\n",
              "\n",
              "          [[3.5792e-01, 2.2237e-01, 8.9294e-03,  ..., 1.7052e-02,\n",
              "            2.4058e-01, 5.2861e-01],\n",
              "           [4.6775e-01, 1.0416e-01, 5.3635e-01,  ..., 6.1581e-01,\n",
              "            2.5575e-01, 5.1320e-01],\n",
              "           [4.3452e-04, 7.0704e-01, 9.0375e-01,  ..., 5.9202e-01,\n",
              "            7.7055e-01, 6.3664e-01],\n",
              "           ...,\n",
              "           [8.7075e-01, 1.2045e-01, 1.4434e-01,  ..., 1.2362e-01,\n",
              "            4.9405e-01, 5.1571e-01],\n",
              "           [6.8189e-01, 7.6051e-01, 4.0451e-01,  ..., 1.9399e-01,\n",
              "            8.3564e-01, 2.1079e-01],\n",
              "           [1.8786e-01, 4.5371e-01, 3.7931e-01,  ..., 7.1064e-01,\n",
              "            4.3437e-01, 8.4569e-01]],\n",
              "\n",
              "          [[4.6175e-01, 8.4321e-01, 3.9037e-01,  ..., 9.8074e-01,\n",
              "            8.2948e-01, 4.2888e-01],\n",
              "           [7.9148e-01, 1.2535e-01, 4.8339e-01,  ..., 4.3098e-01,\n",
              "            1.8823e-01, 8.8174e-01],\n",
              "           [7.4184e-01, 6.1405e-02, 1.7269e-01,  ..., 1.4923e-01,\n",
              "            4.2399e-01, 8.3375e-01],\n",
              "           ...,\n",
              "           [6.6699e-03, 9.9298e-01, 5.6405e-01,  ..., 5.6911e-01,\n",
              "            4.4754e-01, 1.8777e-01],\n",
              "           [1.7449e-01, 8.5963e-01, 2.5804e-01,  ..., 7.4463e-01,\n",
              "            3.3213e-01, 3.5939e-01],\n",
              "           [2.0425e-01, 7.6368e-02, 7.0893e-01,  ..., 1.3236e-01,\n",
              "            1.8368e-01, 3.2404e-02]]],\n",
              "\n",
              "\n",
              "         [[[1.0106e-02, 5.0777e-01, 9.7040e-01,  ..., 1.0088e-01,\n",
              "            8.0640e-01, 9.6640e-01],\n",
              "           [2.8867e-01, 4.3804e-02, 2.5730e-01,  ..., 8.3858e-01,\n",
              "            4.3812e-01, 7.3117e-01],\n",
              "           [6.7822e-01, 3.7866e-01, 2.0041e-02,  ..., 1.8956e-01,\n",
              "            6.4791e-01, 5.3309e-01],\n",
              "           ...,\n",
              "           [9.1212e-01, 6.9755e-02, 6.7923e-01,  ..., 8.2412e-01,\n",
              "            1.7348e-01, 3.6123e-01],\n",
              "           [2.4141e-02, 8.8020e-01, 1.8761e-01,  ..., 9.2905e-01,\n",
              "            5.0915e-01, 1.5108e-01],\n",
              "           [7.7718e-01, 7.2491e-01, 2.7501e-01,  ..., 3.9271e-01,\n",
              "            6.2338e-01, 3.8058e-01]],\n",
              "\n",
              "          [[1.7447e-01, 2.8685e-01, 1.6328e-02,  ..., 1.3978e-01,\n",
              "            1.8036e-01, 1.2234e-01],\n",
              "           [1.2039e-01, 4.8696e-01, 2.1083e-01,  ..., 8.2901e-01,\n",
              "            1.5186e-01, 7.6013e-01],\n",
              "           [9.4927e-01, 9.5120e-01, 1.6811e-02,  ..., 3.2068e-03,\n",
              "            6.4259e-01, 8.6337e-01],\n",
              "           ...,\n",
              "           [1.4310e-01, 1.4210e-01, 5.5642e-01,  ..., 2.9385e-01,\n",
              "            5.7387e-01, 7.2509e-01],\n",
              "           [3.1114e-02, 3.5624e-01, 3.0056e-02,  ..., 5.4562e-01,\n",
              "            5.1929e-01, 9.3273e-01],\n",
              "           [7.4970e-01, 3.5618e-01, 5.7422e-01,  ..., 9.3814e-01,\n",
              "            1.6251e-01, 9.8560e-01]],\n",
              "\n",
              "          [[5.8399e-01, 5.7505e-01, 1.0573e-01,  ..., 2.3530e-01,\n",
              "            9.7636e-01, 2.2168e-01],\n",
              "           [4.1081e-01, 9.1103e-01, 9.8955e-01,  ..., 5.1182e-02,\n",
              "            9.5610e-01, 8.6089e-01],\n",
              "           [6.5778e-01, 4.3612e-01, 9.1476e-01,  ..., 5.3969e-01,\n",
              "            9.3558e-01, 2.1622e-01],\n",
              "           ...,\n",
              "           [6.0932e-01, 9.1427e-01, 7.9350e-01,  ..., 3.4639e-01,\n",
              "            5.1682e-02, 4.5134e-01],\n",
              "           [6.7310e-01, 3.4537e-01, 8.2228e-01,  ..., 6.0187e-01,\n",
              "            7.8138e-01, 1.1060e-01],\n",
              "           [7.6617e-01, 9.0065e-01, 3.0303e-02,  ..., 7.1182e-01,\n",
              "            9.0120e-01, 8.0247e-01]],\n",
              "\n",
              "          ...,\n",
              "\n",
              "          [[5.2678e-01, 5.6505e-01, 2.9123e-02,  ..., 9.9116e-01,\n",
              "            2.2838e-02, 3.9944e-01],\n",
              "           [2.3045e-01, 3.1282e-01, 6.6249e-01,  ..., 7.5886e-01,\n",
              "            3.6635e-01, 2.7075e-01],\n",
              "           [6.9211e-01, 9.3701e-02, 8.9482e-01,  ..., 3.4897e-01,\n",
              "            3.4019e-01, 8.6019e-02],\n",
              "           ...,\n",
              "           [8.7373e-02, 7.6130e-01, 4.8653e-01,  ..., 6.4750e-01,\n",
              "            3.6110e-01, 7.3358e-01],\n",
              "           [6.8033e-01, 9.6109e-01, 6.9026e-02,  ..., 5.5160e-01,\n",
              "            5.8467e-01, 9.8357e-02],\n",
              "           [7.6467e-01, 2.1664e-01, 2.0653e-01,  ..., 2.3335e-01,\n",
              "            4.4838e-01, 3.4810e-01]],\n",
              "\n",
              "          [[1.6233e-02, 1.2373e-01, 6.1043e-01,  ..., 3.6255e-02,\n",
              "            9.9743e-01, 2.9983e-01],\n",
              "           [9.0311e-01, 6.8704e-01, 7.1498e-01,  ..., 9.1860e-01,\n",
              "            3.7330e-03, 6.9154e-01],\n",
              "           [7.5539e-01, 5.7476e-02, 8.5601e-01,  ..., 5.4029e-01,\n",
              "            9.9215e-01, 2.2843e-01],\n",
              "           ...,\n",
              "           [3.2028e-01, 6.1583e-01, 4.6065e-01,  ..., 6.4082e-01,\n",
              "            2.9310e-01, 4.1949e-02],\n",
              "           [5.0724e-02, 9.5919e-01, 5.4610e-01,  ..., 8.1618e-01,\n",
              "            8.7965e-01, 8.5611e-01],\n",
              "           [2.0448e-01, 7.1405e-01, 2.6583e-01,  ..., 2.8186e-02,\n",
              "            5.5628e-01, 9.8305e-01]],\n",
              "\n",
              "          [[7.0158e-01, 6.6988e-01, 2.4451e-01,  ..., 7.0660e-01,\n",
              "            4.3050e-01, 9.0872e-01],\n",
              "           [5.6523e-01, 2.5999e-01, 5.5374e-01,  ..., 3.3265e-01,\n",
              "            1.2638e-01, 7.8942e-01],\n",
              "           [3.5000e-01, 4.4732e-01, 7.9540e-01,  ..., 3.9804e-01,\n",
              "            8.4582e-01, 7.6373e-01],\n",
              "           ...,\n",
              "           [5.9543e-01, 5.3538e-01, 2.6087e-02,  ..., 3.1242e-01,\n",
              "            5.3132e-01, 8.1476e-01],\n",
              "           [2.2282e-01, 1.2333e-01, 3.5038e-01,  ..., 1.7438e-01,\n",
              "            2.0475e-01, 7.7267e-01],\n",
              "           [1.9228e-01, 1.7936e-01, 1.0105e-01,  ..., 4.8680e-02,\n",
              "            9.2492e-01, 9.5685e-01]]]],\n",
              "\n",
              "\n",
              "\n",
              "        [[[[7.3861e-01, 5.7227e-01, 5.8487e-01,  ..., 3.8478e-01,\n",
              "            8.2968e-01, 5.4192e-01],\n",
              "           [1.1541e-01, 5.0403e-01, 4.4419e-01,  ..., 3.6171e-01,\n",
              "            3.1723e-01, 8.6737e-01],\n",
              "           [8.2475e-01, 3.4074e-02, 5.6259e-01,  ..., 8.7367e-01,\n",
              "            3.0458e-02, 9.0690e-01],\n",
              "           ...,\n",
              "           [3.9531e-01, 5.3842e-01, 6.6399e-01,  ..., 7.1976e-01,\n",
              "            5.9827e-01, 5.9641e-01],\n",
              "           [5.4739e-01, 1.9386e-01, 2.4493e-01,  ..., 6.3624e-01,\n",
              "            2.3759e-01, 6.6175e-01],\n",
              "           [1.9434e-01, 4.9951e-01, 1.1252e-01,  ..., 8.4460e-02,\n",
              "            9.3787e-01, 7.3237e-01]],\n",
              "\n",
              "          [[7.8756e-02, 2.3082e-01, 2.4893e-01,  ..., 6.2974e-01,\n",
              "            5.3375e-01, 2.7209e-01],\n",
              "           [4.1253e-01, 9.2298e-01, 2.2194e-01,  ..., 6.0005e-02,\n",
              "            8.1447e-01, 5.6193e-01],\n",
              "           [8.5807e-01, 6.6112e-01, 8.0410e-03,  ..., 2.8511e-01,\n",
              "            9.3436e-02, 4.0972e-01],\n",
              "           ...,\n",
              "           [4.3930e-01, 2.6300e-01, 9.5837e-01,  ..., 8.0977e-01,\n",
              "            9.2136e-02, 1.1581e-01],\n",
              "           [5.7970e-01, 8.8956e-01, 4.3601e-02,  ..., 3.7219e-01,\n",
              "            4.1699e-01, 6.7059e-01],\n",
              "           [6.5561e-01, 3.1871e-01, 6.1280e-01,  ..., 6.0924e-01,\n",
              "            2.5525e-01, 8.8129e-01]],\n",
              "\n",
              "          [[9.8554e-01, 6.7414e-01, 6.3268e-01,  ..., 9.2567e-01,\n",
              "            8.7966e-02, 3.2661e-01],\n",
              "           [5.9260e-01, 1.4584e-01, 4.8080e-01,  ..., 4.3749e-01,\n",
              "            5.4921e-02, 7.6641e-01],\n",
              "           [9.7950e-01, 4.2452e-01, 9.3889e-01,  ..., 2.5111e-01,\n",
              "            1.3274e-01, 5.7370e-01],\n",
              "           ...,\n",
              "           [4.6033e-01, 5.1443e-01, 4.7493e-01,  ..., 1.3560e-02,\n",
              "            9.1211e-01, 1.2796e-01],\n",
              "           [2.5777e-02, 7.3570e-01, 1.6981e-01,  ..., 2.2013e-01,\n",
              "            3.1307e-01, 4.9503e-01],\n",
              "           [9.1013e-01, 6.5332e-01, 2.5109e-01,  ..., 5.4377e-01,\n",
              "            3.2017e-01, 6.9972e-01]],\n",
              "\n",
              "          ...,\n",
              "\n",
              "          [[3.8430e-01, 1.0402e-01, 3.0948e-01,  ..., 6.7060e-01,\n",
              "            5.4024e-03, 9.2585e-01],\n",
              "           [3.8132e-01, 8.3030e-01, 2.5587e-01,  ..., 3.4866e-01,\n",
              "            8.1904e-01, 3.3702e-01],\n",
              "           [4.2056e-01, 5.7889e-02, 8.2466e-01,  ..., 3.6249e-02,\n",
              "            7.5124e-01, 9.0877e-01],\n",
              "           ...,\n",
              "           [6.9977e-01, 2.5116e-01, 5.5364e-01,  ..., 9.8576e-01,\n",
              "            6.3283e-01, 5.5139e-01],\n",
              "           [4.8448e-01, 2.9523e-01, 3.0697e-01,  ..., 4.1149e-01,\n",
              "            8.8676e-02, 6.9269e-01],\n",
              "           [8.8909e-02, 6.1449e-01, 3.0729e-01,  ..., 2.9786e-01,\n",
              "            9.9728e-02, 9.2088e-01]],\n",
              "\n",
              "          [[8.3752e-01, 2.7694e-01, 5.8350e-01,  ..., 7.5995e-01,\n",
              "            9.5219e-01, 5.2087e-01],\n",
              "           [1.9278e-01, 6.4753e-01, 1.1980e-01,  ..., 7.5306e-02,\n",
              "            8.2402e-01, 2.8862e-01],\n",
              "           [7.3349e-01, 4.6108e-01, 4.0251e-01,  ..., 1.8723e-01,\n",
              "            1.5861e-01, 4.1769e-01],\n",
              "           ...,\n",
              "           [7.9857e-01, 9.2226e-01, 3.4985e-01,  ..., 5.1298e-01,\n",
              "            5.8308e-01, 4.1717e-01],\n",
              "           [5.0074e-01, 6.7546e-01, 5.8880e-01,  ..., 5.0429e-01,\n",
              "            2.9158e-01, 4.3148e-01],\n",
              "           [6.4683e-02, 2.2912e-01, 1.9532e-01,  ..., 3.0649e-01,\n",
              "            4.0159e-01, 7.9141e-03]],\n",
              "\n",
              "          [[3.6323e-01, 8.5164e-01, 5.3856e-01,  ..., 8.2148e-01,\n",
              "            3.5922e-01, 3.2303e-01],\n",
              "           [3.5868e-01, 5.3938e-01, 3.0048e-01,  ..., 1.9431e-01,\n",
              "            3.8790e-02, 1.5934e-01],\n",
              "           [5.7758e-01, 4.1703e-01, 7.9304e-01,  ..., 7.1816e-01,\n",
              "            1.3138e-01, 9.4368e-01],\n",
              "           ...,\n",
              "           [1.2857e-01, 5.3133e-01, 2.6552e-01,  ..., 5.6535e-01,\n",
              "            9.7723e-01, 5.4611e-01],\n",
              "           [3.7397e-01, 1.4376e-01, 9.8741e-01,  ..., 1.9691e-01,\n",
              "            4.8354e-01, 6.5531e-01],\n",
              "           [2.2463e-02, 9.7970e-01, 6.4183e-01,  ..., 6.3380e-02,\n",
              "            2.6199e-01, 5.0716e-01]]],\n",
              "\n",
              "\n",
              "         [[[8.6226e-01, 3.1139e-01, 4.9722e-01,  ..., 4.6380e-01,\n",
              "            5.0828e-01, 1.1298e-01],\n",
              "           [8.1415e-02, 5.2309e-01, 6.6368e-01,  ..., 2.0756e-01,\n",
              "            7.6886e-01, 7.5630e-01],\n",
              "           [6.1380e-02, 4.0237e-01, 5.6303e-01,  ..., 1.3211e-01,\n",
              "            3.7134e-01, 4.0172e-01],\n",
              "           ...,\n",
              "           [4.7843e-01, 6.2949e-01, 3.4270e-01,  ..., 2.6766e-01,\n",
              "            5.2378e-01, 2.9636e-01],\n",
              "           [6.0895e-02, 6.4126e-01, 8.0219e-01,  ..., 9.8148e-01,\n",
              "            1.4896e-01, 6.8777e-01],\n",
              "           [2.9548e-01, 9.5299e-01, 4.7819e-01,  ..., 8.3322e-01,\n",
              "            3.0228e-01, 2.3815e-01]],\n",
              "\n",
              "          [[8.4756e-01, 5.4977e-01, 6.5063e-01,  ..., 3.4528e-01,\n",
              "            5.7684e-01, 8.1118e-01],\n",
              "           [4.8527e-02, 3.2771e-01, 7.9351e-02,  ..., 6.1451e-01,\n",
              "            6.9342e-01, 9.3025e-01],\n",
              "           [4.9932e-01, 2.4486e-01, 3.7566e-01,  ..., 6.3018e-01,\n",
              "            9.6063e-01, 5.2141e-01],\n",
              "           ...,\n",
              "           [1.4980e-01, 6.4924e-02, 3.5441e-01,  ..., 2.8766e-01,\n",
              "            8.9114e-01, 7.6600e-01],\n",
              "           [4.3943e-01, 2.5922e-01, 8.5384e-01,  ..., 6.8649e-01,\n",
              "            7.7668e-01, 7.8259e-01],\n",
              "           [3.2973e-01, 6.6321e-01, 4.9394e-01,  ..., 4.3941e-01,\n",
              "            6.8701e-01, 3.5057e-01]],\n",
              "\n",
              "          [[1.1606e-01, 4.6354e-02, 8.7619e-01,  ..., 5.0289e-01,\n",
              "            9.5317e-01, 8.4887e-01],\n",
              "           [4.2618e-01, 9.4867e-01, 5.3098e-01,  ..., 5.6974e-01,\n",
              "            9.1749e-01, 3.5693e-01],\n",
              "           [2.2721e-01, 7.6518e-01, 8.5935e-01,  ..., 6.4024e-02,\n",
              "            7.7308e-01, 9.4886e-01],\n",
              "           ...,\n",
              "           [7.3186e-01, 7.8992e-01, 2.3678e-01,  ..., 4.5356e-01,\n",
              "            4.6121e-01, 9.9590e-01],\n",
              "           [3.1932e-01, 7.1752e-01, 2.7435e-02,  ..., 1.2329e-01,\n",
              "            5.3181e-01, 5.2883e-01],\n",
              "           [7.7719e-01, 2.1955e-01, 8.4134e-01,  ..., 2.8975e-01,\n",
              "            1.8493e-02, 2.0442e-01]],\n",
              "\n",
              "          ...,\n",
              "\n",
              "          [[6.1275e-01, 6.6952e-01, 5.3431e-01,  ..., 7.6873e-01,\n",
              "            5.2651e-01, 8.3153e-02],\n",
              "           [5.1319e-01, 2.9404e-01, 7.1269e-01,  ..., 4.4592e-01,\n",
              "            2.6052e-01, 9.0791e-01],\n",
              "           [9.7389e-01, 7.5775e-01, 4.6693e-01,  ..., 5.1273e-01,\n",
              "            7.9372e-01, 6.2784e-01],\n",
              "           ...,\n",
              "           [5.0556e-01, 2.1329e-01, 6.4463e-01,  ..., 3.4685e-01,\n",
              "            3.3070e-01, 9.4137e-01],\n",
              "           [6.9998e-01, 4.3647e-01, 3.2542e-01,  ..., 8.0546e-01,\n",
              "            5.7138e-01, 7.7922e-01],\n",
              "           [9.2240e-01, 2.2578e-01, 5.0844e-01,  ..., 3.9752e-01,\n",
              "            3.5238e-01, 8.4351e-01]],\n",
              "\n",
              "          [[2.4740e-01, 7.6358e-02, 2.6042e-01,  ..., 2.8867e-01,\n",
              "            7.0613e-01, 1.6437e-01],\n",
              "           [5.7811e-01, 2.0654e-01, 1.1360e-01,  ..., 9.1870e-01,\n",
              "            6.1765e-01, 3.7629e-01],\n",
              "           [4.8166e-01, 1.3672e-01, 3.5043e-01,  ..., 8.8367e-01,\n",
              "            3.5052e-01, 7.6028e-01],\n",
              "           ...,\n",
              "           [2.8653e-01, 2.0129e-01, 3.2650e-01,  ..., 8.1167e-01,\n",
              "            1.2517e-02, 9.6093e-01],\n",
              "           [8.4647e-01, 3.8072e-01, 1.6551e-01,  ..., 5.2880e-01,\n",
              "            3.3546e-01, 4.2211e-01],\n",
              "           [2.3710e-01, 4.3537e-01, 4.8077e-01,  ..., 4.2170e-01,\n",
              "            3.9825e-01, 2.8679e-01]],\n",
              "\n",
              "          [[7.5707e-01, 6.3477e-01, 4.0174e-01,  ..., 4.5725e-01,\n",
              "            9.0020e-01, 6.4861e-01],\n",
              "           [8.3180e-01, 2.1093e-02, 3.0831e-01,  ..., 5.6257e-01,\n",
              "            5.3735e-01, 9.0963e-01],\n",
              "           [8.3124e-01, 2.8172e-01, 2.7376e-01,  ..., 3.2214e-01,\n",
              "            8.8730e-03, 8.9889e-02],\n",
              "           ...,\n",
              "           [8.6666e-01, 6.9112e-01, 3.1922e-01,  ..., 2.6958e-01,\n",
              "            2.2778e-01, 3.0779e-01],\n",
              "           [1.1681e-01, 4.6123e-01, 6.4208e-01,  ..., 5.6982e-01,\n",
              "            7.0968e-01, 2.7897e-01],\n",
              "           [8.2941e-01, 8.1691e-01, 8.9092e-01,  ..., 4.4184e-01,\n",
              "            7.0707e-01, 8.3997e-01]]],\n",
              "\n",
              "\n",
              "         [[[4.9717e-01, 7.8486e-01, 4.7203e-01,  ..., 1.2146e-01,\n",
              "            6.1989e-01, 6.0976e-01],\n",
              "           [9.2789e-02, 9.2246e-01, 4.0784e-01,  ..., 5.8872e-01,\n",
              "            3.3390e-01, 1.8286e-01],\n",
              "           [4.9621e-01, 3.1738e-01, 6.0147e-01,  ..., 4.3334e-01,\n",
              "            9.0875e-02, 7.3268e-01],\n",
              "           ...,\n",
              "           [9.2729e-01, 5.7828e-02, 9.9894e-01,  ..., 4.1646e-01,\n",
              "            8.7450e-01, 5.2646e-01],\n",
              "           [3.6038e-01, 5.0453e-01, 5.9532e-01,  ..., 9.8380e-01,\n",
              "            8.7932e-01, 4.2460e-01],\n",
              "           [2.9237e-01, 7.4921e-01, 6.3868e-01,  ..., 1.5822e-01,\n",
              "            6.2354e-01, 2.8596e-01]],\n",
              "\n",
              "          [[2.2162e-01, 8.9386e-01, 8.8677e-01,  ..., 7.2228e-02,\n",
              "            9.6099e-01, 3.0321e-01],\n",
              "           [1.7464e-01, 7.5984e-01, 8.5839e-01,  ..., 3.7876e-03,\n",
              "            8.4698e-01, 8.1613e-01],\n",
              "           [3.6813e-01, 6.6192e-01, 7.9950e-01,  ..., 3.3565e-01,\n",
              "            9.0186e-01, 1.7608e-02],\n",
              "           ...,\n",
              "           [9.8369e-01, 8.6972e-01, 5.3966e-01,  ..., 5.3919e-01,\n",
              "            9.0340e-02, 2.8645e-01],\n",
              "           [3.5049e-01, 5.3942e-01, 5.3818e-01,  ..., 4.0383e-01,\n",
              "            8.0048e-01, 9.3467e-01],\n",
              "           [5.2548e-01, 8.6578e-01, 6.6133e-01,  ..., 7.1068e-01,\n",
              "            9.6892e-01, 1.2536e-01]],\n",
              "\n",
              "          [[4.9375e-01, 8.2831e-01, 4.4172e-01,  ..., 2.3764e-01,\n",
              "            2.4937e-01, 5.8935e-01],\n",
              "           [6.4520e-01, 8.1250e-01, 4.9710e-01,  ..., 6.9166e-01,\n",
              "            9.0202e-01, 5.1142e-01],\n",
              "           [8.4917e-01, 2.8791e-02, 2.9279e-01,  ..., 1.5916e-01,\n",
              "            8.8922e-01, 1.1264e-01],\n",
              "           ...,\n",
              "           [1.5954e-01, 7.9704e-01, 5.5208e-01,  ..., 7.5293e-01,\n",
              "            8.8198e-01, 7.8385e-02],\n",
              "           [4.0762e-01, 9.5552e-01, 7.4059e-01,  ..., 8.5660e-01,\n",
              "            2.1386e-01, 6.0959e-01],\n",
              "           [9.1718e-01, 8.7479e-01, 5.1271e-02,  ..., 5.0295e-01,\n",
              "            1.6419e-01, 6.6586e-02]],\n",
              "\n",
              "          ...,\n",
              "\n",
              "          [[2.1794e-01, 3.0574e-02, 7.2552e-01,  ..., 9.0024e-01,\n",
              "            1.4805e-01, 7.2478e-01],\n",
              "           [8.9094e-01, 4.0790e-01, 8.2756e-01,  ..., 5.2366e-01,\n",
              "            7.6163e-01, 8.3789e-01],\n",
              "           [5.9345e-01, 1.3224e-02, 9.6824e-01,  ..., 4.9605e-01,\n",
              "            9.6291e-01, 1.4830e-01],\n",
              "           ...,\n",
              "           [7.3932e-01, 9.7077e-01, 1.6121e-01,  ..., 3.6104e-01,\n",
              "            6.3837e-01, 2.8784e-01],\n",
              "           [6.1407e-01, 8.9362e-01, 7.7166e-01,  ..., 1.8915e-01,\n",
              "            5.2282e-01, 4.7956e-02],\n",
              "           [4.7916e-01, 2.0345e-01, 4.4702e-01,  ..., 3.0998e-01,\n",
              "            5.1780e-02, 4.2826e-01]],\n",
              "\n",
              "          [[8.9260e-01, 4.2892e-01, 9.3371e-01,  ..., 1.7895e-01,\n",
              "            8.8443e-01, 2.5883e-01],\n",
              "           [4.4629e-01, 1.4253e-01, 2.5880e-01,  ..., 4.1529e-01,\n",
              "            8.3108e-01, 9.9182e-01],\n",
              "           [8.3591e-03, 2.1999e-01, 6.1569e-01,  ..., 9.7591e-01,\n",
              "            8.7758e-01, 5.5984e-01],\n",
              "           ...,\n",
              "           [9.9457e-02, 4.7495e-01, 8.2326e-01,  ..., 7.7912e-01,\n",
              "            6.9439e-01, 8.0900e-01],\n",
              "           [7.2767e-02, 6.1962e-01, 9.2278e-01,  ..., 5.6745e-02,\n",
              "            7.2962e-02, 8.5258e-01],\n",
              "           [6.3672e-01, 8.6817e-01, 6.8603e-01,  ..., 9.8142e-01,\n",
              "            7.3583e-01, 9.1182e-01]],\n",
              "\n",
              "          [[1.0039e-01, 9.9620e-01, 2.6679e-01,  ..., 6.9721e-01,\n",
              "            2.4825e-02, 4.7448e-01],\n",
              "           [5.1869e-01, 1.9877e-01, 3.2233e-01,  ..., 9.9997e-01,\n",
              "            5.7665e-02, 3.7226e-01],\n",
              "           [3.5247e-01, 7.6244e-01, 2.0467e-01,  ..., 6.2818e-01,\n",
              "            6.0205e-01, 8.3544e-01],\n",
              "           ...,\n",
              "           [6.8082e-01, 3.9346e-01, 8.5719e-01,  ..., 9.9597e-02,\n",
              "            9.8674e-01, 8.5865e-01],\n",
              "           [7.7878e-01, 6.0116e-02, 9.2047e-01,  ..., 4.4562e-01,\n",
              "            9.8904e-01, 7.6179e-01],\n",
              "           [3.4431e-01, 2.0764e-01, 8.8065e-01,  ..., 6.3534e-01,\n",
              "            4.0544e-01, 8.7244e-01]]],\n",
              "\n",
              "\n",
              "         ...,\n",
              "\n",
              "\n",
              "         [[[4.9017e-01, 7.7299e-01, 6.6617e-01,  ..., 6.6236e-01,\n",
              "            6.9289e-01, 3.8205e-01],\n",
              "           [7.7504e-02, 2.4479e-02, 8.5835e-01,  ..., 2.6181e-01,\n",
              "            8.2665e-01, 7.8727e-01],\n",
              "           [4.1942e-01, 3.6445e-01, 1.0596e-01,  ..., 1.2609e-01,\n",
              "            7.5413e-01, 1.2570e-01],\n",
              "           ...,\n",
              "           [1.5955e-01, 1.6558e-01, 8.1962e-01,  ..., 2.5618e-01,\n",
              "            8.2419e-02, 8.0091e-01],\n",
              "           [6.5385e-01, 5.9464e-01, 6.1221e-01,  ..., 9.1793e-01,\n",
              "            6.0971e-01, 8.0050e-02],\n",
              "           [1.9092e-01, 8.1530e-01, 2.6101e-01,  ..., 7.3366e-01,\n",
              "            5.5282e-01, 1.8889e-01]],\n",
              "\n",
              "          [[8.4596e-01, 6.0172e-01, 6.5019e-01,  ..., 5.1362e-01,\n",
              "            4.7503e-01, 4.3529e-03],\n",
              "           [6.6437e-01, 7.9088e-01, 4.5586e-01,  ..., 5.1593e-02,\n",
              "            6.7592e-01, 7.1862e-01],\n",
              "           [8.5770e-02, 5.3020e-01, 8.6610e-01,  ..., 2.4232e-01,\n",
              "            9.8258e-01, 8.5579e-01],\n",
              "           ...,\n",
              "           [9.1239e-01, 4.1192e-01, 4.6523e-01,  ..., 4.1238e-01,\n",
              "            7.0751e-03, 9.3218e-01],\n",
              "           [1.1236e-01, 5.0080e-01, 6.6175e-01,  ..., 9.1249e-01,\n",
              "            3.9780e-01, 9.7831e-01],\n",
              "           [9.9722e-01, 6.7399e-01, 2.3481e-02,  ..., 5.4651e-01,\n",
              "            2.8176e-02, 5.4554e-01]],\n",
              "\n",
              "          [[9.4101e-01, 5.4535e-01, 7.1971e-01,  ..., 6.5451e-01,\n",
              "            2.8217e-02, 7.9705e-01],\n",
              "           [4.4528e-01, 6.4156e-01, 1.3537e-02,  ..., 1.9317e-01,\n",
              "            8.1601e-02, 5.0754e-02],\n",
              "           [8.0408e-01, 5.8720e-01, 8.3922e-01,  ..., 1.7673e-01,\n",
              "            7.1813e-01, 2.1170e-01],\n",
              "           ...,\n",
              "           [8.7559e-01, 8.1226e-01, 8.5825e-01,  ..., 8.3744e-01,\n",
              "            8.5555e-01, 2.6359e-01],\n",
              "           [7.7361e-01, 3.6073e-01, 2.4503e-01,  ..., 5.3266e-01,\n",
              "            9.7171e-01, 3.3831e-01],\n",
              "           [3.4797e-02, 9.7751e-01, 8.0300e-01,  ..., 4.0849e-01,\n",
              "            2.9976e-01, 7.8111e-01]],\n",
              "\n",
              "          ...,\n",
              "\n",
              "          [[5.1910e-01, 9.8927e-01, 2.7313e-01,  ..., 4.8475e-01,\n",
              "            2.2286e-01, 7.8909e-01],\n",
              "           [8.1033e-01, 2.6832e-01, 4.4005e-02,  ..., 7.3396e-02,\n",
              "            5.8916e-01, 9.2865e-01],\n",
              "           [5.6983e-02, 2.2267e-01, 4.3419e-01,  ..., 5.7082e-01,\n",
              "            7.7465e-01, 2.8060e-01],\n",
              "           ...,\n",
              "           [8.4758e-01, 1.3512e-01, 4.0789e-01,  ..., 1.1698e-01,\n",
              "            6.7829e-01, 6.3771e-01],\n",
              "           [3.7617e-01, 4.9231e-01, 9.7203e-01,  ..., 1.8018e-01,\n",
              "            5.3958e-01, 9.1826e-01],\n",
              "           [4.1825e-01, 7.5516e-01, 9.4635e-01,  ..., 5.8639e-01,\n",
              "            9.6423e-01, 2.3871e-01]],\n",
              "\n",
              "          [[9.5810e-01, 7.1279e-01, 6.8730e-01,  ..., 3.5480e-02,\n",
              "            6.3049e-01, 1.8030e-01],\n",
              "           [3.3185e-02, 5.4697e-01, 5.0837e-01,  ..., 5.1332e-01,\n",
              "            7.6225e-01, 7.1369e-01],\n",
              "           [5.1816e-01, 3.9057e-01, 6.2589e-01,  ..., 5.9373e-01,\n",
              "            7.8665e-01, 4.7843e-02],\n",
              "           ...,\n",
              "           [5.0476e-01, 9.7533e-02, 8.3952e-01,  ..., 1.5178e-01,\n",
              "            2.6426e-01, 6.4560e-01],\n",
              "           [5.6035e-01, 3.1048e-01, 3.9652e-01,  ..., 3.5344e-01,\n",
              "            2.8871e-01, 9.3444e-01],\n",
              "           [5.6537e-02, 4.0310e-02, 9.3998e-01,  ..., 6.5554e-01,\n",
              "            6.0801e-01, 1.4996e-01]],\n",
              "\n",
              "          [[8.5078e-01, 6.7769e-01, 8.8562e-01,  ..., 6.5383e-02,\n",
              "            6.2387e-01, 2.2360e-01],\n",
              "           [1.0303e-01, 8.0869e-01, 5.9542e-01,  ..., 7.4760e-01,\n",
              "            3.5677e-01, 7.0173e-01],\n",
              "           [7.8617e-01, 9.9423e-02, 4.3628e-01,  ..., 9.3896e-01,\n",
              "            6.8188e-01, 1.9622e-01],\n",
              "           ...,\n",
              "           [8.5808e-01, 7.8639e-01, 1.0654e-01,  ..., 9.2093e-01,\n",
              "            9.0252e-01, 6.6072e-02],\n",
              "           [4.1824e-01, 6.0726e-01, 7.1260e-01,  ..., 4.0025e-01,\n",
              "            9.7624e-01, 4.7348e-01],\n",
              "           [2.1456e-01, 4.9070e-01, 6.5718e-01,  ..., 2.3706e-01,\n",
              "            1.8413e-01, 8.3672e-01]]],\n",
              "\n",
              "\n",
              "         [[[7.9441e-01, 6.2459e-01, 6.1180e-01,  ..., 8.8613e-01,\n",
              "            8.1094e-01, 2.5868e-01],\n",
              "           [6.3277e-01, 6.5548e-01, 3.2513e-01,  ..., 4.0702e-01,\n",
              "            6.7643e-01, 7.7674e-01],\n",
              "           [6.3407e-01, 9.3340e-01, 8.9729e-02,  ..., 5.1075e-01,\n",
              "            9.1452e-01, 4.6992e-01],\n",
              "           ...,\n",
              "           [4.2022e-01, 5.9290e-02, 8.1431e-01,  ..., 3.5919e-01,\n",
              "            9.5995e-01, 5.6833e-01],\n",
              "           [8.6352e-01, 4.1821e-01, 7.7792e-02,  ..., 9.2236e-01,\n",
              "            5.2158e-01, 6.5142e-01],\n",
              "           [3.2979e-01, 7.2859e-01, 4.2020e-01,  ..., 3.4952e-01,\n",
              "            4.6999e-01, 5.8187e-01]],\n",
              "\n",
              "          [[2.7565e-01, 4.4861e-02, 7.7963e-01,  ..., 3.2738e-01,\n",
              "            6.1653e-02, 4.0338e-01],\n",
              "           [1.4184e-01, 3.3644e-01, 5.0525e-01,  ..., 2.1877e-01,\n",
              "            9.7060e-01, 5.5168e-01],\n",
              "           [3.0974e-01, 3.9266e-01, 5.1617e-01,  ..., 9.8767e-02,\n",
              "            3.2407e-01, 3.0938e-01],\n",
              "           ...,\n",
              "           [1.3703e-01, 9.8805e-01, 6.8782e-01,  ..., 6.5969e-01,\n",
              "            7.9153e-01, 3.0541e-01],\n",
              "           [7.7594e-01, 1.0793e-01, 9.2876e-01,  ..., 7.3289e-01,\n",
              "            8.8345e-01, 1.7142e-01],\n",
              "           [7.4851e-01, 6.4793e-01, 6.2206e-01,  ..., 3.8992e-01,\n",
              "            3.3759e-01, 2.2431e-01]],\n",
              "\n",
              "          [[6.5924e-01, 2.3018e-02, 7.1938e-01,  ..., 7.0714e-01,\n",
              "            3.0786e-01, 4.7175e-02],\n",
              "           [8.1396e-01, 1.2291e-01, 2.4353e-01,  ..., 3.2205e-01,\n",
              "            5.3049e-01, 1.2204e-01],\n",
              "           [4.1716e-01, 6.8682e-01, 3.8749e-01,  ..., 6.7053e-01,\n",
              "            4.2073e-01, 6.0271e-01],\n",
              "           ...,\n",
              "           [8.4551e-01, 9.6445e-01, 3.2039e-02,  ..., 9.1104e-01,\n",
              "            2.3979e-01, 1.6584e-01],\n",
              "           [5.4199e-01, 6.4586e-01, 8.2102e-01,  ..., 8.3500e-02,\n",
              "            5.0600e-01, 2.1306e-01],\n",
              "           [4.9870e-01, 6.7314e-01, 6.3158e-01,  ..., 8.8908e-01,\n",
              "            5.0475e-01, 8.8717e-01]],\n",
              "\n",
              "          ...,\n",
              "\n",
              "          [[8.4540e-01, 1.5072e-01, 5.8817e-01,  ..., 5.3189e-02,\n",
              "            6.1003e-01, 5.4219e-01],\n",
              "           [5.3475e-01, 9.2643e-01, 5.9679e-01,  ..., 9.5340e-01,\n",
              "            2.3118e-01, 2.5882e-01],\n",
              "           [3.5546e-01, 3.7739e-01, 8.9137e-01,  ..., 4.5637e-01,\n",
              "            4.2852e-01, 4.5069e-01],\n",
              "           ...,\n",
              "           [6.0652e-01, 2.1131e-01, 7.5596e-01,  ..., 2.3240e-01,\n",
              "            1.0617e-01, 5.5645e-01],\n",
              "           [7.2964e-01, 8.0006e-01, 5.4678e-01,  ..., 1.1436e-01,\n",
              "            8.0946e-01, 1.4581e-01],\n",
              "           [7.1170e-02, 7.9460e-01, 2.2908e-01,  ..., 5.4140e-01,\n",
              "            6.4313e-02, 7.9822e-01]],\n",
              "\n",
              "          [[2.1217e-01, 4.5173e-01, 7.3335e-01,  ..., 1.4670e-01,\n",
              "            1.4111e-01, 3.2621e-01],\n",
              "           [4.5335e-01, 4.5082e-01, 7.2071e-01,  ..., 4.2239e-01,\n",
              "            2.5815e-01, 9.9604e-01],\n",
              "           [4.1367e-01, 5.5312e-01, 7.8537e-01,  ..., 7.6061e-03,\n",
              "            9.4208e-01, 7.2867e-01],\n",
              "           ...,\n",
              "           [6.3010e-02, 1.6484e-02, 7.5985e-01,  ..., 8.0880e-01,\n",
              "            6.7086e-01, 9.1722e-01],\n",
              "           [1.5169e-01, 5.9194e-01, 5.8017e-01,  ..., 2.4684e-01,\n",
              "            9.2612e-02, 5.5064e-01],\n",
              "           [2.5961e-01, 8.3390e-01, 2.0509e-01,  ..., 9.0841e-01,\n",
              "            3.3991e-01, 4.2361e-01]],\n",
              "\n",
              "          [[3.6279e-01, 2.0355e-01, 8.7286e-01,  ..., 5.2345e-01,\n",
              "            6.2566e-01, 9.6342e-01],\n",
              "           [9.2151e-01, 3.8001e-02, 5.2437e-01,  ..., 4.5839e-01,\n",
              "            3.6473e-03, 2.2720e-02],\n",
              "           [6.7358e-01, 8.7751e-01, 2.2920e-01,  ..., 4.8555e-01,\n",
              "            5.9314e-01, 2.7062e-01],\n",
              "           ...,\n",
              "           [6.4513e-01, 1.6545e-01, 5.0165e-01,  ..., 8.6885e-02,\n",
              "            4.1876e-01, 7.4789e-01],\n",
              "           [4.8898e-01, 2.7985e-01, 3.0279e-01,  ..., 6.9014e-01,\n",
              "            3.7814e-01, 1.4887e-01],\n",
              "           [3.4349e-01, 8.3797e-01, 4.5634e-01,  ..., 5.0676e-01,\n",
              "            1.9386e-01, 2.5765e-01]]],\n",
              "\n",
              "\n",
              "         [[[2.9935e-02, 1.6606e-01, 8.0326e-01,  ..., 5.5326e-01,\n",
              "            3.5708e-01, 6.4924e-01],\n",
              "           [8.8702e-01, 5.8303e-01, 2.4052e-01,  ..., 5.4057e-01,\n",
              "            1.4136e-01, 9.9723e-01],\n",
              "           [9.3820e-01, 5.8501e-01, 7.7208e-01,  ..., 6.6947e-01,\n",
              "            3.5973e-01, 1.1240e-01],\n",
              "           ...,\n",
              "           [1.8438e-01, 4.5745e-01, 5.7617e-01,  ..., 4.1980e-02,\n",
              "            8.1671e-01, 1.4827e-01],\n",
              "           [1.8234e-01, 5.1361e-01, 4.0463e-02,  ..., 7.1695e-01,\n",
              "            5.7408e-01, 4.1430e-01],\n",
              "           [8.3108e-01, 9.8117e-02, 7.4621e-01,  ..., 6.2653e-01,\n",
              "            3.6886e-01, 6.9379e-01]],\n",
              "\n",
              "          [[6.5822e-01, 3.8261e-01, 4.7432e-01,  ..., 6.9140e-01,\n",
              "            8.3285e-02, 4.5520e-01],\n",
              "           [8.8039e-02, 4.2670e-01, 3.0059e-01,  ..., 9.8655e-01,\n",
              "            6.0509e-01, 3.5980e-01],\n",
              "           [3.2102e-01, 6.8313e-01, 7.3522e-01,  ..., 9.3146e-02,\n",
              "            8.3336e-01, 4.4809e-01],\n",
              "           ...,\n",
              "           [8.4106e-01, 2.0133e-01, 6.0891e-01,  ..., 2.0009e-01,\n",
              "            1.6643e-01, 2.8621e-01],\n",
              "           [9.7954e-01, 5.5138e-02, 7.9128e-01,  ..., 3.1433e-01,\n",
              "            9.4485e-01, 9.6865e-01],\n",
              "           [1.9154e-01, 4.9527e-01, 3.4133e-01,  ..., 4.0690e-01,\n",
              "            2.6329e-01, 4.2215e-01]],\n",
              "\n",
              "          [[3.5991e-01, 7.8547e-01, 4.4836e-01,  ..., 4.5755e-01,\n",
              "            1.7650e-01, 9.7717e-01],\n",
              "           [6.5399e-01, 5.7293e-02, 8.3496e-01,  ..., 4.1418e-02,\n",
              "            6.4992e-01, 3.5498e-01],\n",
              "           [5.1116e-01, 6.2729e-01, 7.3205e-01,  ..., 1.7586e-01,\n",
              "            7.1856e-02, 4.2345e-01],\n",
              "           ...,\n",
              "           [8.2718e-01, 1.2049e-01, 4.0908e-01,  ..., 3.1862e-01,\n",
              "            2.8501e-01, 9.9275e-02],\n",
              "           [7.3014e-01, 3.7941e-01, 9.8831e-01,  ..., 7.8787e-01,\n",
              "            6.2344e-01, 9.4890e-03],\n",
              "           [6.3538e-01, 4.1151e-01, 2.7143e-01,  ..., 2.1030e-02,\n",
              "            5.2773e-01, 8.1359e-01]],\n",
              "\n",
              "          ...,\n",
              "\n",
              "          [[8.0345e-01, 8.8342e-01, 8.3103e-01,  ..., 5.2324e-01,\n",
              "            1.7762e-01, 4.9332e-01],\n",
              "           [8.3562e-01, 2.1388e-01, 5.1892e-01,  ..., 4.3670e-01,\n",
              "            1.3631e-01, 7.7100e-01],\n",
              "           [9.6755e-03, 8.3761e-01, 2.9330e-01,  ..., 9.6164e-01,\n",
              "            4.1083e-01, 7.1276e-01],\n",
              "           ...,\n",
              "           [9.0869e-01, 6.6688e-01, 4.7284e-01,  ..., 9.9986e-01,\n",
              "            3.3375e-01, 7.9567e-01],\n",
              "           [8.3008e-01, 1.2787e-01, 1.4440e-01,  ..., 4.0717e-01,\n",
              "            7.0937e-01, 4.8218e-01],\n",
              "           [6.0836e-01, 3.1809e-02, 8.6909e-01,  ..., 5.1930e-01,\n",
              "            9.2115e-01, 1.8568e-01]],\n",
              "\n",
              "          [[3.5554e-01, 1.8813e-01, 6.0975e-01,  ..., 6.0522e-01,\n",
              "            6.9152e-01, 5.5508e-01],\n",
              "           [6.8473e-01, 5.6150e-01, 1.2595e-01,  ..., 9.2683e-01,\n",
              "            4.1882e-01, 4.6080e-01],\n",
              "           [4.6783e-01, 5.3620e-01, 3.3208e-01,  ..., 3.8614e-01,\n",
              "            7.3602e-01, 2.2372e-01],\n",
              "           ...,\n",
              "           [8.2347e-01, 1.3921e-01, 3.0475e-01,  ..., 2.3707e-01,\n",
              "            1.4522e-01, 6.2921e-02],\n",
              "           [8.3231e-01, 4.0873e-01, 7.7604e-02,  ..., 1.5216e-03,\n",
              "            6.4034e-01, 5.7721e-01],\n",
              "           [3.1418e-01, 4.5346e-01, 4.9962e-01,  ..., 5.0862e-01,\n",
              "            1.6178e-01, 2.0476e-01]],\n",
              "\n",
              "          [[1.6405e-01, 3.2067e-01, 9.0625e-01,  ..., 2.7184e-01,\n",
              "            8.1920e-01, 2.5311e-01],\n",
              "           [4.4511e-01, 4.4379e-01, 7.4464e-01,  ..., 5.0466e-01,\n",
              "            3.1019e-01, 2.9249e-01],\n",
              "           [1.2321e-01, 6.9521e-01, 6.3222e-01,  ..., 7.9519e-01,\n",
              "            3.9225e-01, 4.8269e-01],\n",
              "           ...,\n",
              "           [3.0864e-01, 8.6699e-01, 2.3769e-01,  ..., 9.6770e-01,\n",
              "            4.0186e-01, 3.4427e-01],\n",
              "           [1.0958e-01, 1.2227e-01, 5.9195e-01,  ..., 3.2735e-01,\n",
              "            8.5506e-02, 2.8632e-01],\n",
              "           [1.6503e-02, 4.4670e-01, 7.3253e-01,  ..., 2.4689e-01,\n",
              "            5.1379e-01, 8.1002e-01]]]]])"
            ]
          },
          "metadata": {},
          "execution_count": 47
        }
      ],
      "source": [
        "random_tensors = torch.rand(10, 10, 10, 10, 10)\n",
        "random_tensors"
      ]
    },
    {
      "cell_type": "code",
      "execution_count": 48,
      "metadata": {
        "colab": {
          "base_uri": "https://localhost:8080/"
        },
        "id": "aArQ8b8EqUSi",
        "outputId": "8f2f6e5a-4eba-49bf-d3bf-357f12342397"
      },
      "outputs": [
        {
          "output_type": "execute_result",
          "data": {
            "text/plain": [
              "5"
            ]
          },
          "metadata": {},
          "execution_count": 48
        }
      ],
      "source": [
        "random_tensors.ndim"
      ]
    },
    {
      "cell_type": "code",
      "execution_count": 49,
      "metadata": {
        "colab": {
          "base_uri": "https://localhost:8080/"
        },
        "id": "b9kE4qWLrwAL",
        "outputId": "78ff4a72-32d8-4ef5-a399-8d0b258b7cf3"
      },
      "outputs": [
        {
          "output_type": "execute_result",
          "data": {
            "text/plain": [
              "torch.Size([10, 10, 10, 10, 10])"
            ]
          },
          "metadata": {},
          "execution_count": 49
        }
      ],
      "source": [
        "random_tensors.shape"
      ]
    },
    {
      "cell_type": "code",
      "execution_count": 50,
      "metadata": {
        "colab": {
          "base_uri": "https://localhost:8080/"
        },
        "id": "T9G6-BQequnR",
        "outputId": "915cf16f-73fe-4e2b-a752-9efeca3120a7"
      },
      "outputs": [
        {
          "output_type": "execute_result",
          "data": {
            "text/plain": [
              "(torch.Size([224, 224, 3]), 3)"
            ]
          },
          "metadata": {},
          "execution_count": 50
        }
      ],
      "source": [
        "# Create a random tensor with similar shape to an image tensor\n",
        "random_image_tensor = torch.rand(size=(224, 224, 3)) # height, width, colour channels (R, G, B)\n",
        "random_image_tensor.shape, random_image_tensor.ndim"
      ]
    },
    {
      "cell_type": "code",
      "execution_count": 51,
      "metadata": {
        "colab": {
          "base_uri": "https://localhost:8080/"
        },
        "id": "K9TuV4yvrJej",
        "outputId": "cf40e3e1-c467-4737-f145-8196bb995c35"
      },
      "outputs": [
        {
          "output_type": "execute_result",
          "data": {
            "text/plain": [
              "tensor([[[0.0907, 0.6568, 0.5638],\n",
              "         [0.2816, 0.8972, 0.3471],\n",
              "         [0.4042, 0.7537, 0.2872],\n",
              "         ...,\n",
              "         [0.3333, 0.9495, 0.8644],\n",
              "         [0.8002, 0.4159, 0.2909],\n",
              "         [0.1575, 0.5983, 0.1456]],\n",
              "\n",
              "        [[0.4585, 0.2761, 0.6516],\n",
              "         [0.4288, 0.9434, 0.5385],\n",
              "         [0.9288, 0.2986, 0.0139],\n",
              "         ...,\n",
              "         [0.3081, 0.4831, 0.3364],\n",
              "         [0.3479, 0.0947, 0.0724],\n",
              "         [0.2593, 0.8711, 0.4381]],\n",
              "\n",
              "        [[0.4015, 0.9406, 0.7896],\n",
              "         [0.7252, 0.1112, 0.7116],\n",
              "         [0.3605, 0.1408, 0.6893],\n",
              "         ...,\n",
              "         [0.0649, 0.6437, 0.5865],\n",
              "         [0.0803, 0.9508, 0.3066],\n",
              "         [0.4515, 0.5594, 0.9088]],\n",
              "\n",
              "        ...,\n",
              "\n",
              "        [[0.7319, 0.2389, 0.1280],\n",
              "         [0.4612, 0.4715, 0.7338],\n",
              "         [0.0707, 0.4331, 0.5252],\n",
              "         ...,\n",
              "         [0.5281, 0.5977, 0.1624],\n",
              "         [0.0810, 0.3393, 0.1224],\n",
              "         [0.0677, 0.8395, 0.7109]],\n",
              "\n",
              "        [[0.4396, 0.4912, 0.4742],\n",
              "         [0.3414, 0.5318, 0.7630],\n",
              "         [0.1725, 0.0970, 0.2515],\n",
              "         ...,\n",
              "         [0.6077, 0.5607, 0.8044],\n",
              "         [0.1294, 0.7579, 0.4540],\n",
              "         [0.8067, 0.3808, 0.8820]],\n",
              "\n",
              "        [[0.1171, 0.5758, 0.6406],\n",
              "         [0.9065, 0.4997, 0.8826],\n",
              "         [0.0375, 0.8575, 0.7373],\n",
              "         ...,\n",
              "         [0.3045, 0.6136, 0.3346],\n",
              "         [0.2554, 0.3263, 0.1281],\n",
              "         [0.8769, 0.7574, 0.0556]]])"
            ]
          },
          "metadata": {},
          "execution_count": 51
        }
      ],
      "source": [
        "itensor = torch.rand(224, 224, 3)\n",
        "itensor"
      ]
    },
    {
      "cell_type": "code",
      "execution_count": 52,
      "metadata": {
        "colab": {
          "base_uri": "https://localhost:8080/"
        },
        "id": "gD4LH8MGtNBg",
        "outputId": "2e18d3ae-4055-4b0e-ebd5-c3a2b39cf548"
      },
      "outputs": [
        {
          "output_type": "execute_result",
          "data": {
            "text/plain": [
              "3"
            ]
          },
          "metadata": {},
          "execution_count": 52
        }
      ],
      "source": [
        "itensor.ndim"
      ]
    },
    {
      "cell_type": "markdown",
      "metadata": {
        "id": "InxlIvbzvuSn"
      },
      "source": [
        "## Zeros and ones"
      ]
    },
    {
      "cell_type": "code",
      "execution_count": 53,
      "metadata": {
        "colab": {
          "base_uri": "https://localhost:8080/"
        },
        "id": "RZES2crItTDA",
        "outputId": "d2f896bf-93c6-4821-a5c1-0f4449e06d25"
      },
      "outputs": [
        {
          "output_type": "execute_result",
          "data": {
            "text/plain": [
              "tensor([[0., 0., 0., 0.],\n",
              "        [0., 0., 0., 0.],\n",
              "        [0., 0., 0., 0.]])"
            ]
          },
          "metadata": {},
          "execution_count": 53
        }
      ],
      "source": [
        "# Create a tensor of all zeros\n",
        "zeros = torch.zeros(size=(3,4))\n",
        "zeros"
      ]
    },
    {
      "cell_type": "code",
      "execution_count": 54,
      "metadata": {
        "colab": {
          "base_uri": "https://localhost:8080/"
        },
        "id": "D_KQGBSOv6rn",
        "outputId": "f89ec142-5caf-4d0b-c91e-037c8ece955a"
      },
      "outputs": [
        {
          "output_type": "execute_result",
          "data": {
            "text/plain": [
              "tensor([[0.7845, 0.5659, 0.8578, 0.0404],\n",
              "        [0.1606, 0.6115, 0.1250, 0.1651],\n",
              "        [0.0669, 0.5667, 0.9243, 0.8209]])"
            ]
          },
          "metadata": {},
          "execution_count": 54
        }
      ],
      "source": [
        "new_random_tensor = torch.rand(3,4)\n",
        "new_random_tensor"
      ]
    },
    {
      "cell_type": "code",
      "execution_count": 55,
      "metadata": {
        "colab": {
          "base_uri": "https://localhost:8080/"
        },
        "id": "gSQdQQTpwRG2",
        "outputId": "9055829a-a36e-4a95-cbbc-bf9c37dbab14"
      },
      "outputs": [
        {
          "output_type": "execute_result",
          "data": {
            "text/plain": [
              "tensor([[0., 0., 0., 0.],\n",
              "        [0., 0., 0., 0.],\n",
              "        [0., 0., 0., 0.]])"
            ]
          },
          "metadata": {},
          "execution_count": 55
        }
      ],
      "source": [
        "zeros * new_random_tensor"
      ]
    },
    {
      "cell_type": "code",
      "execution_count": 56,
      "metadata": {
        "colab": {
          "base_uri": "https://localhost:8080/"
        },
        "id": "cPfrsl0SwZ6-",
        "outputId": "fb020bad-c5c6-4ee2-b181-69175fca1929"
      },
      "outputs": [
        {
          "output_type": "execute_result",
          "data": {
            "text/plain": [
              "tensor([[1., 1., 1., 1.],\n",
              "        [1., 1., 1., 1.],\n",
              "        [1., 1., 1., 1.]])"
            ]
          },
          "metadata": {},
          "execution_count": 56
        }
      ],
      "source": [
        "# Create a tensor of all ones\n",
        "ones = torch.ones(size=(3,4))\n",
        "ones"
      ]
    },
    {
      "cell_type": "code",
      "execution_count": 57,
      "metadata": {
        "colab": {
          "base_uri": "https://localhost:8080/"
        },
        "id": "LmyPc2bAw_O3",
        "outputId": "37f8b690-e895-4cfc-aadc-21c7918c6852"
      },
      "outputs": [
        {
          "output_type": "execute_result",
          "data": {
            "text/plain": [
              "torch.float32"
            ]
          },
          "metadata": {},
          "execution_count": 57
        }
      ],
      "source": [
        "ones.dtype"
      ]
    },
    {
      "cell_type": "markdown",
      "metadata": {
        "id": "wrWxGAmmylHa"
      },
      "source": [
        "## Creating a range of tensors and tensors-like\n",
        "\n",
        "`torch.arange()` : https://pytorch.org/docs/stable/generated/torch.arange.html"
      ]
    },
    {
      "cell_type": "code",
      "execution_count": 58,
      "metadata": {
        "colab": {
          "base_uri": "https://localhost:8080/"
        },
        "id": "PGLDUrUGxB2m",
        "outputId": "429a8f1e-6a5a-44f3-d632-ba51209e3c86"
      },
      "outputs": [
        {
          "output_type": "execute_result",
          "data": {
            "text/plain": [
              "tensor([ 1,  2,  3,  4,  5,  6,  7,  8,  9, 10])"
            ]
          },
          "metadata": {},
          "execution_count": 58
        }
      ],
      "source": [
        "# Use torch.range(1,11)\n",
        "# Depreciated message:::>>>> UserWarning: torch.range is deprecated and will be removed in a future release because its behavior is inconsistent with Python's range builtin. Instead, use torch.arange, which produces values in [start, end).\n",
        "\n",
        "one_to_ten = torch.arange(1,11)\n",
        "one_to_ten"
      ]
    },
    {
      "cell_type": "code",
      "execution_count": 59,
      "metadata": {
        "colab": {
          "base_uri": "https://localhost:8080/"
        },
        "id": "1Db2EP_Gy88t",
        "outputId": "2a1548bb-c240-43f7-f4c2-814a996937c9"
      },
      "outputs": [
        {
          "output_type": "execute_result",
          "data": {
            "text/plain": [
              "tensor([ 0, 10, 20, 30, 40, 50, 60, 70, 80, 90])"
            ]
          },
          "metadata": {},
          "execution_count": 59
        }
      ],
      "source": [
        "zero_to_hundred = torch.arange(start=0, end=100, step=10)\n",
        "zero_to_hundred"
      ]
    },
    {
      "cell_type": "code",
      "execution_count": 60,
      "metadata": {
        "colab": {
          "base_uri": "https://localhost:8080/"
        },
        "id": "_1pwiJHKz-2m",
        "outputId": "059d8609-e983-455c-826e-3511bebda6fb"
      },
      "outputs": [
        {
          "output_type": "execute_result",
          "data": {
            "text/plain": [
              "tensor([0, 0, 0, 0, 0, 0, 0, 0, 0, 0])"
            ]
          },
          "metadata": {},
          "execution_count": 60
        }
      ],
      "source": [
        "# Creating tensors like\n",
        "# when we have to define a tensor shape from a pre-defined tensor and overwrite with zeros\n",
        "new_tensor_from_zero_to_hundred_tensor = torch.zeros_like(input=zero_to_hundred)\n",
        "new_tensor_from_zero_to_hundred_tensor"
      ]
    },
    {
      "cell_type": "markdown",
      "metadata": {
        "id": "1YhJRcjsxZKm"
      },
      "source": [
        "## Tensor Datatypes\n",
        "\n",
        "**Note:** Tensor datatypes is one the 3 big errors you'll run into with PyTorch && Deep Learning:\n",
        "\n",
        "1.   Tensors not right datatype\n",
        "2.   Tensors not right shape\n",
        "3.   Tensors not on the right device\n",
        "\n",
        "\n",
        "Precision in computing: https://en.wikipedia.org/wiki/Precision_(computer_science)\n",
        "\n"
      ]
    },
    {
      "cell_type": "code",
      "execution_count": 61,
      "metadata": {
        "colab": {
          "base_uri": "https://localhost:8080/"
        },
        "id": "69Ic01AdyapK",
        "outputId": "3e3c4ef9-b9d1-409a-eef5-f505b2e4ce54"
      },
      "outputs": [
        {
          "output_type": "execute_result",
          "data": {
            "text/plain": [
              "tensor([5, 8, 1, 6, 2, 9])"
            ]
          },
          "metadata": {},
          "execution_count": 61
        }
      ],
      "source": [
        "# default tensor datatype - default tensor datatype is depends on input input of the given tensor\n",
        "\n",
        "# here i will set `int` numbers for the tensor, so the default datatype of the tensor will be `int64`\n",
        "# so the default is `int64` for int numbers\n",
        "default_datatype_tensor = torch.tensor([5,8,1,6,2,9])\n",
        "\n",
        "default_datatype_tensor"
      ]
    },
    {
      "cell_type": "code",
      "execution_count": 62,
      "metadata": {
        "colab": {
          "base_uri": "https://localhost:8080/"
        },
        "id": "cr-DQ2MVyp17",
        "outputId": "11af836a-6b08-4ade-a33e-c28a5227dea0"
      },
      "outputs": [
        {
          "output_type": "execute_result",
          "data": {
            "text/plain": [
              "torch.int64"
            ]
          },
          "metadata": {},
          "execution_count": 62
        }
      ],
      "source": [
        "default_datatype_tensor.dtype"
      ]
    },
    {
      "cell_type": "code",
      "execution_count": 63,
      "metadata": {
        "colab": {
          "base_uri": "https://localhost:8080/"
        },
        "id": "P_ovVGQ_z3mc",
        "outputId": "347ab00f-c7a1-4baf-bbe2-439a5f8357dd"
      },
      "outputs": [
        {
          "output_type": "execute_result",
          "data": {
            "text/plain": [
              "tensor([3.1000, 4.9000, 6.4000, 0.5000])"
            ]
          },
          "metadata": {},
          "execution_count": 63
        }
      ],
      "source": [
        "# here i will set `float` numbers for the tensor, so the default datatype would be `float32`\n",
        "# so the default is `float32` for int numbers\n",
        "default_datatype_tensor = torch.tensor([3.1,4.9,6.4,.5])\n",
        "\n",
        "default_datatype_tensor"
      ]
    },
    {
      "cell_type": "code",
      "execution_count": 64,
      "metadata": {
        "colab": {
          "base_uri": "https://localhost:8080/"
        },
        "id": "-T7qAD3n0ii2",
        "outputId": "abf02bcc-2d51-468b-f544-68ce35ed0946"
      },
      "outputs": [
        {
          "output_type": "execute_result",
          "data": {
            "text/plain": [
              "torch.float32"
            ]
          },
          "metadata": {},
          "execution_count": 64
        }
      ],
      "source": [
        "default_datatype_tensor.dtype"
      ]
    },
    {
      "cell_type": "code",
      "execution_count": 65,
      "metadata": {
        "colab": {
          "base_uri": "https://localhost:8080/"
        },
        "id": "Y1pVnAzQ1BV2",
        "outputId": "5bb0fbe4-77ea-42e1-f1b3-b2108359f66f"
      },
      "outputs": [
        {
          "output_type": "execute_result",
          "data": {
            "text/plain": [
              "tensor([3., 2., 4.])"
            ]
          },
          "metadata": {},
          "execution_count": 65
        }
      ],
      "source": [
        "# Float 32 tensor\n",
        "float_32_tensor = torch.tensor([3.0, 2.0, 4.0], dtype=torch.float32) # defined `float32`\n",
        "\n",
        "float_32_tensor"
      ]
    },
    {
      "cell_type": "code",
      "execution_count": 66,
      "metadata": {
        "colab": {
          "base_uri": "https://localhost:8080/"
        },
        "id": "Kcoykb-Ix2Fm",
        "outputId": "ccc64d94-1b49-484e-a90c-02008a2bafe5"
      },
      "outputs": [
        {
          "output_type": "execute_result",
          "data": {
            "text/plain": [
              "torch.float32"
            ]
          },
          "metadata": {},
          "execution_count": 66
        }
      ],
      "source": [
        "float_32_tensor.dtype"
      ]
    },
    {
      "cell_type": "code",
      "execution_count": 67,
      "metadata": {
        "colab": {
          "base_uri": "https://localhost:8080/"
        },
        "id": "TA_TLsv5x39T",
        "outputId": "768be008-1d1a-4bcf-94c6-a77afd4302ac"
      },
      "outputs": [
        {
          "output_type": "execute_result",
          "data": {
            "text/plain": [
              "tensor([4, 2, 4, 7])"
            ]
          },
          "metadata": {},
          "execution_count": 67
        }
      ],
      "source": [
        "# set float numbers but later define the datatype your want to sent with the tensor\n",
        "int64_tensor = torch.tensor([4.1,2,4,7], dtype=torch.int64)\n",
        "int64_tensor"
      ]
    },
    {
      "cell_type": "code",
      "execution_count": 68,
      "metadata": {
        "colab": {
          "base_uri": "https://localhost:8080/"
        },
        "id": "t0UruqRr3zDe",
        "outputId": "04ef7d48-7c95-4adc-f61a-68f1a78d99f5"
      },
      "outputs": [
        {
          "output_type": "execute_result",
          "data": {
            "text/plain": [
              "torch.int64"
            ]
          },
          "metadata": {},
          "execution_count": 68
        }
      ],
      "source": [
        "int64_tensor.dtype"
      ]
    },
    {
      "cell_type": "code",
      "execution_count": 69,
      "metadata": {
        "colab": {
          "base_uri": "https://localhost:8080/"
        },
        "id": "6CZLJ2cF36xu",
        "outputId": "7df7d209-b8b1-47f0-eee6-54cbf6576d66"
      },
      "outputs": [
        {
          "output_type": "execute_result",
          "data": {
            "text/plain": [
              "tensor([7.3000, 1.0000, 9.0000, 4.2000])"
            ]
          },
          "metadata": {},
          "execution_count": 69
        }
      ],
      "source": [
        "#\n",
        "float_32_tensor = torch.tensor([7.3,1,9,4.2], dtype=None # what datatype is the tensor (e.g. float32. float16)\n",
        "                                                        )\n",
        "float_32_tensor"
      ]
    },
    {
      "cell_type": "code",
      "execution_count": 70,
      "metadata": {
        "colab": {
          "base_uri": "https://localhost:8080/"
        },
        "id": "V6RqW-8R5ElX",
        "outputId": "db42f674-8482-4fef-a230-2567744fbb5f"
      },
      "outputs": [
        {
          "output_type": "execute_result",
          "data": {
            "text/plain": [
              "torch.float32"
            ]
          },
          "metadata": {},
          "execution_count": 70
        }
      ],
      "source": [
        "float_32_tensor.dtype"
      ]
    },
    {
      "cell_type": "code",
      "execution_count": 71,
      "metadata": {
        "colab": {
          "base_uri": "https://localhost:8080/"
        },
        "id": "EjbYwfST5K3Z",
        "outputId": "371f627f-ac34-4acc-b565-65b3ffbaddb5"
      },
      "outputs": [
        {
          "output_type": "execute_result",
          "data": {
            "text/plain": [
              "tensor([4.1000, 7.5000, 7.8000])"
            ]
          },
          "metadata": {},
          "execution_count": 71
        }
      ],
      "source": [
        "# with more parameters\n",
        "float_32_tensor = torch.tensor([4.1,7.5,7.8],\n",
        "                               dtype = None, # set  datatypes:  e.g. float16, float32 :> available datatypes: https://pytorch.org/docs/stable/tensors.html || https://en.wikipedia.org/wiki/Precision_(computer_science)\n",
        "                               device = None, # what device is your tensor on e.g. 'cpu' or 'cuda' mean gpu\n",
        "                               requires_grad = False # whether or not to track gradients with this tensors operations\n",
        "                               )\n",
        "float_32_tensor"
      ]
    },
    {
      "cell_type": "code",
      "execution_count": 72,
      "metadata": {
        "colab": {
          "base_uri": "https://localhost:8080/"
        },
        "id": "1eWQ8I2h5_rv",
        "outputId": "1c4b98f6-c93f-4042-c7ab-20f9db926492"
      },
      "outputs": [
        {
          "output_type": "execute_result",
          "data": {
            "text/plain": [
              "tensor([4.1016, 7.5000, 7.8008], dtype=torch.float16)"
            ]
          },
          "metadata": {},
          "execution_count": 72
        }
      ],
      "source": [
        "# converted the datatype 'float_32' to 'float_16' of a tensor\n",
        "\n",
        "# how might we change the datatype of the tensor\n",
        "float16_tensor = float_32_tensor.type(torch.float16)\n",
        "float16_tensor"
      ]
    },
    {
      "cell_type": "markdown",
      "source": [
        "# Excercise (DataTypes)"
      ],
      "metadata": {
        "id": "NN45b5QS3aIF"
      }
    },
    {
      "cell_type": "code",
      "execution_count": 73,
      "metadata": {
        "colab": {
          "base_uri": "https://localhost:8080/"
        },
        "id": "IM0UYSqm9o0X",
        "outputId": "baf3bb11-c714-45ae-f22a-7955c1ed4487"
      },
      "outputs": [
        {
          "output_type": "execute_result",
          "data": {
            "text/plain": [
              "tensor([ True, False, False,  True, False,  True,  True])"
            ]
          },
          "metadata": {},
          "execution_count": 73
        }
      ],
      "source": [
        "# boolean data types\n",
        "boolean_tensor = torch.tensor([1,0,0,1,0,1,1], dtype=torch.bool)\n",
        "\n",
        "boolean_tensor"
      ]
    },
    {
      "cell_type": "code",
      "execution_count": 74,
      "metadata": {
        "colab": {
          "base_uri": "https://localhost:8080/"
        },
        "id": "tEjhDUAcAs7H",
        "outputId": "0cc5dfd7-a6cf-41fc-b682-6f1aff6fe22c"
      },
      "outputs": [
        {
          "output_type": "execute_result",
          "data": {
            "text/plain": [
              "torch.bool"
            ]
          },
          "metadata": {},
          "execution_count": 74
        }
      ],
      "source": [
        "boolean_tensor.dtype"
      ]
    },
    {
      "cell_type": "code",
      "execution_count": 75,
      "metadata": {
        "colab": {
          "base_uri": "https://localhost:8080/"
        },
        "id": "fP36Jo6wAvDm",
        "outputId": "5a8f1f1e-c6e5-406a-f307-2611530a3d1d"
      },
      "outputs": [
        {
          "output_type": "execute_result",
          "data": {
            "text/plain": [
              "tensor([[ 2.2000, 18.6000],\n",
              "        [ 7.2000, 13.4000]])"
            ]
          },
          "metadata": {},
          "execution_count": 75
        }
      ],
      "source": [
        "# requires_grad = True\n",
        "MY_TENSOR = torch.tensor([[1.1, 9.3], [3.6, 6.7]], requires_grad=True)\n",
        "\n",
        "OUT = MY_TENSOR.pow(2).sum()\n",
        "OUT.backward()\n",
        "MY_TENSOR.grad"
      ]
    },
    {
      "cell_type": "markdown",
      "source": [
        "## Tensor Views\n",
        "PyTorch allows a tensor to be a `View` of an existing tensor. View tensor shares the same underlying data with its base tensor. Supporting `View` avoids explicit data copy, thus allows us to do fast and memory efficient reshaping, slicing and element-wise operations.\n",
        "\n",
        "For example, to get a view of an existing tensor `first_tensor`, you can call `t.view(...)`.\n",
        "\n",
        "\n",
        "**Source:** https://pytorch.org/docs/stable/tensor_view.html#tensor-view-doc"
      ],
      "metadata": {
        "id": "vqbYBO1oM5eZ"
      }
    },
    {
      "cell_type": "code",
      "execution_count": 76,
      "metadata": {
        "id": "JBvZq7X9LJ9o",
        "colab": {
          "base_uri": "https://localhost:8080/"
        },
        "outputId": "7cb7be6d-71b6-411b-dd7f-e832820a886c"
      },
      "outputs": [
        {
          "output_type": "execute_result",
          "data": {
            "text/plain": [
              "tensor([[0.8288, 0.8244, 0.7798, 0.3600],\n",
              "        [0.3897, 0.0223, 0.1867, 0.8538],\n",
              "        [0.9242, 0.3062, 0.0779, 0.0690],\n",
              "        [0.2537, 0.5320, 0.7521, 0.1124]])"
            ]
          },
          "metadata": {},
          "execution_count": 76
        }
      ],
      "source": [
        "# example\n",
        "first_tensor = torch.rand(4,4)\n",
        "first_tensor"
      ]
    },
    {
      "cell_type": "code",
      "source": [
        "second_tensor = first_tensor.view(2,8)\n",
        "second_tensor"
      ],
      "metadata": {
        "colab": {
          "base_uri": "https://localhost:8080/"
        },
        "id": "2FE7YjiqNOLo",
        "outputId": "71fd74b0-f67a-4c15-bc0b-738a9fb1b812"
      },
      "execution_count": 77,
      "outputs": [
        {
          "output_type": "execute_result",
          "data": {
            "text/plain": [
              "tensor([[0.8288, 0.8244, 0.7798, 0.3600, 0.3897, 0.0223, 0.1867, 0.8538],\n",
              "        [0.9242, 0.3062, 0.0779, 0.0690, 0.2537, 0.5320, 0.7521, 0.1124]])"
            ]
          },
          "metadata": {},
          "execution_count": 77
        }
      ]
    },
    {
      "cell_type": "code",
      "source": [
        "# check if the two tensors sharing the same data\n",
        "\n",
        "# using `first_tensor.storage()` you will get deprecated message, To access UntypedStorage directly, use tensor.untyped_storage() instead of tensor.storage()\n",
        "first_tensor.untyped_storage().data_ptr() == second_tensor.untyped_storage().data_ptr() # `first_tensor` and `second_tensor` share the same underlying data"
      ],
      "metadata": {
        "colab": {
          "base_uri": "https://localhost:8080/"
        },
        "id": "kz5er5aGNZpg",
        "outputId": "a9250179-e31b-481b-bbf7-27ef2300d321"
      },
      "execution_count": 78,
      "outputs": [
        {
          "output_type": "execute_result",
          "data": {
            "text/plain": [
              "True"
            ]
          },
          "metadata": {},
          "execution_count": 78
        }
      ]
    },
    {
      "cell_type": "code",
      "source": [
        "# Modifying view tensor(e.g.`second_tensor`) changes base tensor(e.g. `first_tensor`) as well\n",
        "\n",
        "# first extract value of given indices\n",
        "second_tensor[0][0]\n",
        "\n",
        "# updating value\n",
        "second_tensor[0][0] = 0.401\n",
        "\n",
        "# check whether the value of the first_tensor is updated or not\n",
        "first_tensor[0][0]\n",
        "\n",
        "# print the whole tensor\n",
        "first_tensor\n",
        "\n",
        "#    Note:** Since views share underlying data with its base tensor, if you edit the data in the view, it will be reflected in the base tensor as well.\n",
        "\n"
      ],
      "metadata": {
        "colab": {
          "base_uri": "https://localhost:8080/"
        },
        "id": "NTPuvSBnOpBA",
        "outputId": "31834f2c-1be7-4326-8684-90a5591fb224"
      },
      "execution_count": 79,
      "outputs": [
        {
          "output_type": "execute_result",
          "data": {
            "text/plain": [
              "tensor([[0.4010, 0.8244, 0.7798, 0.3600],\n",
              "        [0.3897, 0.0223, 0.1867, 0.8538],\n",
              "        [0.9242, 0.3062, 0.0779, 0.0690],\n",
              "        [0.2537, 0.5320, 0.7521, 0.1124]])"
            ]
          },
          "metadata": {},
          "execution_count": 79
        }
      ]
    },
    {
      "cell_type": "markdown",
      "source": [
        "Typically a PyTorch op returns a new tensor as output, e.g. `add()`. But in case of view ops, outputs are views of input tensors to avoid unnecessary data copy. No data movement occurs when creating a view, view tensor just changes the way it interprets the same data. Taking a view of contiguous tensor could potentially produce a non-contiguous tensor. Users should pay additional attention as contiguity might have implicit performance impact. `transpose()` is a common example.\n",
        "\n",
        "**Source:** https://pytorch.org/docs/stable/tensor_view.html#tensor-views"
      ],
      "metadata": {
        "id": "haPTOiiQSMf9"
      }
    },
    {
      "cell_type": "code",
      "source": [
        "first_tensor.is_contiguous()"
      ],
      "metadata": {
        "colab": {
          "base_uri": "https://localhost:8080/"
        },
        "id": "rOIZ-YAkQukQ",
        "outputId": "aa562454-7f6c-4aaf-f43d-9c39f8b9b303"
      },
      "execution_count": 80,
      "outputs": [
        {
          "output_type": "execute_result",
          "data": {
            "text/plain": [
              "True"
            ]
          },
          "metadata": {},
          "execution_count": 80
        }
      ]
    },
    {
      "cell_type": "code",
      "source": [
        "second_tensor.is_contiguous()"
      ],
      "metadata": {
        "colab": {
          "base_uri": "https://localhost:8080/"
        },
        "id": "OopIaXLOS34A",
        "outputId": "a38045b7-9f0d-4cc1-9184-6259b4487c72"
      },
      "execution_count": 81,
      "outputs": [
        {
          "output_type": "execute_result",
          "data": {
            "text/plain": [
              "True"
            ]
          },
          "metadata": {},
          "execution_count": 81
        }
      ]
    },
    {
      "cell_type": "code",
      "source": [
        "# create new base tensor\n",
        "base_tensor = torch.tensor([[0,1],[2,3]])\n",
        "print(base_tensor.is_contiguous())\n",
        "base_tensor"
      ],
      "metadata": {
        "colab": {
          "base_uri": "https://localhost:8080/"
        },
        "id": "JRwqpH6nS9Z6",
        "outputId": "3503e04e-be6c-43a5-c912-d6f8105bc9b7"
      },
      "execution_count": 82,
      "outputs": [
        {
          "output_type": "stream",
          "name": "stdout",
          "text": [
            "True\n"
          ]
        },
        {
          "output_type": "execute_result",
          "data": {
            "text/plain": [
              "tensor([[0, 1],\n",
              "        [2, 3]])"
            ]
          },
          "metadata": {},
          "execution_count": 82
        }
      ]
    },
    {
      "cell_type": "code",
      "source": [
        "view_tensor = base_tensor.transpose(0,1) # `view_tensor` if a view of `base_tensor`. No data movement happened here\n",
        "view_tensor"
      ],
      "metadata": {
        "colab": {
          "base_uri": "https://localhost:8080/"
        },
        "id": "ZotPEpDPTU3o",
        "outputId": "ec70420c-a655-4153-cfb3-b89d2dd63a37"
      },
      "execution_count": 83,
      "outputs": [
        {
          "output_type": "execute_result",
          "data": {
            "text/plain": [
              "tensor([[0, 2],\n",
              "        [1, 3]])"
            ]
          },
          "metadata": {},
          "execution_count": 83
        }
      ]
    },
    {
      "cell_type": "code",
      "source": [
        "# `view_tensor`(transpose) might be non-contiguous\n",
        "# so, let's check whether it's right or not\n",
        "view_tensor.is_contiguous()"
      ],
      "metadata": {
        "colab": {
          "base_uri": "https://localhost:8080/"
        },
        "id": "haczZbJXTaog",
        "outputId": "65819622-0088-42a4-c7b2-70cffc5a36bb"
      },
      "execution_count": 84,
      "outputs": [
        {
          "output_type": "execute_result",
          "data": {
            "text/plain": [
              "False"
            ]
          },
          "metadata": {},
          "execution_count": 84
        }
      ]
    },
    {
      "cell_type": "code",
      "source": [
        "# To get contiguous tensor, call `.contiguous()` to enfore\n",
        "# copying data when `view_tensor` is not contiguous\n",
        "copy_tensor = view_tensor.contiguous()\n",
        "copy_tensor\n",
        "\n",
        "# check now, if `copy_tensor` is contiguous or not\n",
        "copy_tensor.is_contiguous()"
      ],
      "metadata": {
        "colab": {
          "base_uri": "https://localhost:8080/"
        },
        "id": "Eo9KwJv5U-lN",
        "outputId": "15fd9a88-96d4-4d3f-e97f-d6a6978d55fc"
      },
      "execution_count": 85,
      "outputs": [
        {
          "output_type": "execute_result",
          "data": {
            "text/plain": [
              "True"
            ]
          },
          "metadata": {},
          "execution_count": 85
        }
      ]
    },
    {
      "cell_type": "markdown",
      "source": [
        "## Arithmetic Operations"
      ],
      "metadata": {
        "id": "3DbHkuDJ27_H"
      }
    },
    {
      "cell_type": "code",
      "source": [
        "# multiplication with two different datatypes or with same datatype but different bits(e.g. 16 or 32 or 64)\n",
        "\n",
        "float_16_tensor = torch.tensor([1.1,5.3,6.9], dtype=torch.float16)\n",
        "\n",
        "float_16_tensor"
      ],
      "metadata": {
        "id": "7wvaXS5TVWrY",
        "colab": {
          "base_uri": "https://localhost:8080/"
        },
        "outputId": "ed1ab02c-011c-43f1-a0c9-b3126a51ca8c"
      },
      "execution_count": 86,
      "outputs": [
        {
          "output_type": "execute_result",
          "data": {
            "text/plain": [
              "tensor([1.0996, 5.3008, 6.8984], dtype=torch.float16)"
            ]
          },
          "metadata": {},
          "execution_count": 86
        }
      ]
    },
    {
      "cell_type": "code",
      "source": [
        "flotat_32_tensor = torch.tensor([4.7, 4.1,8.3], dtype=torch.float32)\n",
        "\n",
        "float_32_tensor"
      ],
      "metadata": {
        "colab": {
          "base_uri": "https://localhost:8080/"
        },
        "id": "ykm8aLKs4VQy",
        "outputId": "55582e70-a781-4cf0-f7d8-b2c02baecd00"
      },
      "execution_count": 87,
      "outputs": [
        {
          "output_type": "execute_result",
          "data": {
            "text/plain": [
              "tensor([4.1000, 7.5000, 7.8000])"
            ]
          },
          "metadata": {},
          "execution_count": 87
        }
      ]
    },
    {
      "cell_type": "code",
      "source": [
        "float_16_tensor * float_32_tensor"
      ],
      "metadata": {
        "colab": {
          "base_uri": "https://localhost:8080/"
        },
        "id": "9__BoNdc4tR8",
        "outputId": "548d6b1b-4b1e-426e-8d88-65fb1bec97e1"
      },
      "execution_count": 88,
      "outputs": [
        {
          "output_type": "execute_result",
          "data": {
            "text/plain": [
              "tensor([ 4.5084, 39.7559, 53.8078])"
            ]
          },
          "metadata": {},
          "execution_count": 88
        }
      ]
    },
    {
      "cell_type": "code",
      "source": [
        "int_32_tensor = torch.tensor([5,8,3], dtype=torch.int32)\n",
        "int_32_tensor"
      ],
      "metadata": {
        "colab": {
          "base_uri": "https://localhost:8080/"
        },
        "id": "PqvD8Q_m41-4",
        "outputId": "a1a51725-7875-49ad-8eb2-13672ada3fb3"
      },
      "execution_count": 89,
      "outputs": [
        {
          "output_type": "execute_result",
          "data": {
            "text/plain": [
              "tensor([5, 8, 3], dtype=torch.int32)"
            ]
          },
          "metadata": {},
          "execution_count": 89
        }
      ]
    },
    {
      "cell_type": "code",
      "source": [
        "int_32_tensor * float_32_tensor"
      ],
      "metadata": {
        "colab": {
          "base_uri": "https://localhost:8080/"
        },
        "id": "xkFXd7f35fD9",
        "outputId": "52091fea-4634-4584-e0cc-92b7da72db67"
      },
      "execution_count": 90,
      "outputs": [
        {
          "output_type": "execute_result",
          "data": {
            "text/plain": [
              "tensor([20.5000, 60.0000, 23.4000])"
            ]
          },
          "metadata": {},
          "execution_count": 90
        }
      ]
    },
    {
      "cell_type": "code",
      "source": [
        "int_64_tensor = torch.tensor([2,7,9], dtype=torch.int64)\n",
        "int_64_tensor"
      ],
      "metadata": {
        "colab": {
          "base_uri": "https://localhost:8080/"
        },
        "id": "nrIQ_VxQ5jmG",
        "outputId": "3465990c-e44d-4b7c-aed9-c8a1737ff26f"
      },
      "execution_count": 91,
      "outputs": [
        {
          "output_type": "execute_result",
          "data": {
            "text/plain": [
              "tensor([2, 7, 9])"
            ]
          },
          "metadata": {},
          "execution_count": 91
        }
      ]
    },
    {
      "cell_type": "code",
      "source": [
        "float_32_tensor * int_64_tensor"
      ],
      "metadata": {
        "colab": {
          "base_uri": "https://localhost:8080/"
        },
        "id": "fJmXW4YO6Col",
        "outputId": "23013f2c-b32f-4977-e2db-114de7b55b01"
      },
      "execution_count": 92,
      "outputs": [
        {
          "output_type": "execute_result",
          "data": {
            "text/plain": [
              "tensor([ 8.2000, 52.5000, 70.2000])"
            ]
          },
          "metadata": {},
          "execution_count": 92
        }
      ]
    },
    {
      "cell_type": "code",
      "source": [
        "long_tensor = torch.tensor([4,6,9], dtype=torch.long)\n",
        "long_tensor"
      ],
      "metadata": {
        "colab": {
          "base_uri": "https://localhost:8080/"
        },
        "id": "njjfl_CF6IHG",
        "outputId": "966a01b8-bf0b-4be7-8548-f2fe56f9b283"
      },
      "execution_count": 93,
      "outputs": [
        {
          "output_type": "execute_result",
          "data": {
            "text/plain": [
              "tensor([4, 6, 9])"
            ]
          },
          "metadata": {},
          "execution_count": 93
        }
      ]
    },
    {
      "cell_type": "code",
      "source": [
        "long_tensor * float_32_tensor"
      ],
      "metadata": {
        "colab": {
          "base_uri": "https://localhost:8080/"
        },
        "id": "m_CXAQ2n6ltN",
        "outputId": "b2a9d895-769f-432d-c627-2a399e4ad3b3"
      },
      "execution_count": 94,
      "outputs": [
        {
          "output_type": "execute_result",
          "data": {
            "text/plain": [
              "tensor([16.4000, 45.0000, 70.2000])"
            ]
          },
          "metadata": {},
          "execution_count": 94
        }
      ]
    },
    {
      "cell_type": "markdown",
      "source": [
        "## Getting information from tensors (tensor attributes)\n",
        "1.   Tensors not right datatype - to do that get datatype from a tensor, can use `tensor.dtype`\n",
        "2.   Tensors not right shape - to get shape from a tensor, can use `tensor.shape`\n",
        "3.   Tensors not on the right device - to get device from a tensor, can use `tensor.device`"
      ],
      "metadata": {
        "id": "9eK6c9JA-Qlp"
      }
    },
    {
      "cell_type": "code",
      "source": [
        "# Create a tensor\n",
        "some_tensor = torch.rand(3,4)\n",
        "some_tensor"
      ],
      "metadata": {
        "colab": {
          "base_uri": "https://localhost:8080/"
        },
        "id": "5n37UBXp7nnx",
        "outputId": "b9ec8f58-9f96-4e56-e4e1-c79fd86fe6e2"
      },
      "execution_count": 95,
      "outputs": [
        {
          "output_type": "execute_result",
          "data": {
            "text/plain": [
              "tensor([[0.2009, 0.5151, 0.2612, 0.1550],\n",
              "        [0.2848, 0.8256, 0.8993, 0.4195],\n",
              "        [0.3407, 0.4270, 0.9725, 0.6145]])"
            ]
          },
          "metadata": {},
          "execution_count": 95
        }
      ]
    },
    {
      "cell_type": "code",
      "source": [
        "# Find out details anout some tensor\n",
        "print(some_tensor)\n",
        "print(f\"DataType of tensor: {some_tensor.dtype}\")\n",
        "print(f\"Shape of tensor: {some_tensor.shape}\") # there are two way to get shape or size of a tensor, 1. with attribute (e.g. some_tensor.shape) 2. with function (e.g. some_tensor.size())\n",
        "print(f\"Device of tensor is on: {some_tensor.device}\")"
      ],
      "metadata": {
        "colab": {
          "base_uri": "https://localhost:8080/"
        },
        "id": "RWp4NcmB-aVX",
        "outputId": "6d15c2ca-d398-4af4-9a6d-ace0a857d96e"
      },
      "execution_count": 96,
      "outputs": [
        {
          "output_type": "stream",
          "name": "stdout",
          "text": [
            "tensor([[0.2009, 0.5151, 0.2612, 0.1550],\n",
            "        [0.2848, 0.8256, 0.8993, 0.4195],\n",
            "        [0.3407, 0.4270, 0.9725, 0.6145]])\n",
            "DataType of tensor: torch.float32\n",
            "Shape of tensor: torch.Size([3, 4])\n",
            "Device of tensor is on: cpu\n"
          ]
        }
      ]
    },
    {
      "cell_type": "code",
      "source": [
        "check = torch.rand(3,4)\n",
        "check"
      ],
      "metadata": {
        "colab": {
          "base_uri": "https://localhost:8080/"
        },
        "id": "smMcW8lV_gp-",
        "outputId": "8d416dd2-0445-4766-ca20-91e239b4ce83"
      },
      "execution_count": 97,
      "outputs": [
        {
          "output_type": "execute_result",
          "data": {
            "text/plain": [
              "tensor([[0.5627, 0.2912, 0.3800, 0.2034],\n",
              "        [0.2308, 0.3525, 0.0540, 0.7613],\n",
              "        [0.7178, 0.1026, 0.0010, 0.2779]])"
            ]
          },
          "metadata": {},
          "execution_count": 97
        }
      ]
    },
    {
      "cell_type": "code",
      "source": [
        "check.dtype\n"
      ],
      "metadata": {
        "colab": {
          "base_uri": "https://localhost:8080/"
        },
        "id": "_Tyjip5KBIVH",
        "outputId": "11d5c958-20a1-4af2-866b-fe1501bdbb17"
      },
      "execution_count": 98,
      "outputs": [
        {
          "output_type": "execute_result",
          "data": {
            "text/plain": [
              "torch.float32"
            ]
          },
          "metadata": {},
          "execution_count": 98
        }
      ]
    },
    {
      "cell_type": "code",
      "source": [
        "deck = check.type(torch.float16)\n",
        "deck.dtype"
      ],
      "metadata": {
        "colab": {
          "base_uri": "https://localhost:8080/"
        },
        "id": "-5baBnedBJ9u",
        "outputId": "4bc7a098-dfe3-47cf-b38b-8f8cdca83c3a"
      },
      "execution_count": 99,
      "outputs": [
        {
          "output_type": "execute_result",
          "data": {
            "text/plain": [
              "torch.float16"
            ]
          },
          "metadata": {},
          "execution_count": 99
        }
      ]
    },
    {
      "cell_type": "code",
      "source": [
        "deck"
      ],
      "metadata": {
        "colab": {
          "base_uri": "https://localhost:8080/"
        },
        "id": "tf3qUA-lBR79",
        "outputId": "bf8d81a8-67a6-4d83-c1af-683aeff6c773"
      },
      "execution_count": 100,
      "outputs": [
        {
          "output_type": "execute_result",
          "data": {
            "text/plain": [
              "tensor([[0.5625, 0.2913, 0.3799, 0.2034],\n",
              "        [0.2307, 0.3525, 0.0540, 0.7612],\n",
              "        [0.7178, 0.1026, 0.0010, 0.2778]], dtype=torch.float16)"
            ]
          },
          "metadata": {},
          "execution_count": 100
        }
      ]
    },
    {
      "cell_type": "markdown",
      "source": [
        "### Manipulating Tensors (tensor operations)\n",
        "\n",
        "Tensor operations include:\n",
        "* Addition\n",
        "* Subtraction\n",
        "* Multiplication (element-wise)\n",
        "* Division\n",
        "* Matrix Multiplication"
      ],
      "metadata": {
        "id": "8hOWuHDlCGKG"
      }
    },
    {
      "cell_type": "code",
      "source": [
        "# Create a tensor and add 10 to it\n",
        "tensor = torch.tensor([1,2,3])\n",
        "tensor + 10"
      ],
      "metadata": {
        "colab": {
          "base_uri": "https://localhost:8080/"
        },
        "id": "ecgEXNdaBtZO",
        "outputId": "c5b90c8d-d731-4c18-bbbb-3800134ffb07"
      },
      "execution_count": 101,
      "outputs": [
        {
          "output_type": "execute_result",
          "data": {
            "text/plain": [
              "tensor([11, 12, 13])"
            ]
          },
          "metadata": {},
          "execution_count": 101
        }
      ]
    },
    {
      "cell_type": "code",
      "source": [
        "# Subtract 10\n",
        "tensor - 10"
      ],
      "metadata": {
        "colab": {
          "base_uri": "https://localhost:8080/"
        },
        "id": "Xrhzjp2vDABi",
        "outputId": "2703a61c-55cd-468a-c09f-4cc318380c30"
      },
      "execution_count": 102,
      "outputs": [
        {
          "output_type": "execute_result",
          "data": {
            "text/plain": [
              "tensor([-9, -8, -7])"
            ]
          },
          "metadata": {},
          "execution_count": 102
        }
      ]
    },
    {
      "cell_type": "code",
      "source": [
        "# Multiply tensor by 10\n",
        "tensor * 10"
      ],
      "metadata": {
        "colab": {
          "base_uri": "https://localhost:8080/"
        },
        "id": "j1zd57FBCrSa",
        "outputId": "de389424-7aa0-4208-cbea-dc80e271e9ae"
      },
      "execution_count": 103,
      "outputs": [
        {
          "output_type": "execute_result",
          "data": {
            "text/plain": [
              "tensor([10, 20, 30])"
            ]
          },
          "metadata": {},
          "execution_count": 103
        }
      ]
    },
    {
      "cell_type": "code",
      "source": [
        "tensor"
      ],
      "metadata": {
        "colab": {
          "base_uri": "https://localhost:8080/"
        },
        "id": "fIWcST7gC1Fe",
        "outputId": "4d95a75c-422b-4ecd-d4a1-4d72ac47c8fd"
      },
      "execution_count": 104,
      "outputs": [
        {
          "output_type": "execute_result",
          "data": {
            "text/plain": [
              "tensor([1, 2, 3])"
            ]
          },
          "metadata": {},
          "execution_count": 104
        }
      ]
    },
    {
      "cell_type": "code",
      "source": [
        "# Try out PyTorch in-built functions\n",
        "torch.mul(tensor, 10)"
      ],
      "metadata": {
        "colab": {
          "base_uri": "https://localhost:8080/"
        },
        "id": "uUlPU5FzC60w",
        "outputId": "1c1bb0bd-a52d-4a91-aa85-d920f53842d8"
      },
      "execution_count": 105,
      "outputs": [
        {
          "output_type": "execute_result",
          "data": {
            "text/plain": [
              "tensor([10, 20, 30])"
            ]
          },
          "metadata": {},
          "execution_count": 105
        }
      ]
    },
    {
      "cell_type": "code",
      "source": [
        "torch.add(tensor,10)"
      ],
      "metadata": {
        "colab": {
          "base_uri": "https://localhost:8080/"
        },
        "id": "bujKYw3aDQJn",
        "outputId": "b4fab2c7-6712-4822-a591-dda4958bc49f"
      },
      "execution_count": 106,
      "outputs": [
        {
          "output_type": "execute_result",
          "data": {
            "text/plain": [
              "tensor([11, 12, 13])"
            ]
          },
          "metadata": {},
          "execution_count": 106
        }
      ]
    },
    {
      "cell_type": "markdown",
      "source": [
        "### Matrix multiplication (Part #1)\n",
        "\n",
        "Two main ways of performing multiplication in neural networks and deep learning.\n",
        "\n",
        "1. Element-wise Multiplication\n",
        "2. Matrix Multiplication (dot prouct)\n",
        "\n",
        "More information on multiplying matrices - https://www.mathsisfun.com/algebra/matrix-multiplying.html#"
      ],
      "metadata": {
        "id": "Hsg8A5klEgyU"
      }
    },
    {
      "cell_type": "code",
      "source": [
        "# Element wise multiplication\n",
        "print(tensor, \"*\", tensor)\n",
        "print(f\"Equals: {tensor * tensor}\")"
      ],
      "metadata": {
        "colab": {
          "base_uri": "https://localhost:8080/"
        },
        "id": "CVxqU1yvDYDo",
        "outputId": "d6ce6609-a104-4530-dc2a-5b0a5273237c"
      },
      "execution_count": 107,
      "outputs": [
        {
          "output_type": "stream",
          "name": "stdout",
          "text": [
            "tensor([1, 2, 3]) * tensor([1, 2, 3])\n",
            "Equals: tensor([1, 4, 9])\n"
          ]
        }
      ]
    },
    {
      "cell_type": "code",
      "source": [
        "# Matrix Multiplication by torch\n",
        "torch.matmul(tensor, tensor)"
      ],
      "metadata": {
        "colab": {
          "base_uri": "https://localhost:8080/"
        },
        "id": "yH-CEAF2PvmZ",
        "outputId": "76072175-ca96-470f-e911-6d1e0f413ae1"
      },
      "execution_count": 108,
      "outputs": [
        {
          "output_type": "execute_result",
          "data": {
            "text/plain": [
              "tensor(14)"
            ]
          },
          "metadata": {},
          "execution_count": 108
        }
      ]
    },
    {
      "cell_type": "code",
      "source": [
        "# Matrix Multiplication by hand\n",
        "1*1 + 2*2 + 3*3"
      ],
      "metadata": {
        "colab": {
          "base_uri": "https://localhost:8080/"
        },
        "id": "43eZNeXZQXsE",
        "outputId": "d152e002-b4e9-403e-bb56-f58de07ceb38"
      },
      "execution_count": 109,
      "outputs": [
        {
          "output_type": "execute_result",
          "data": {
            "text/plain": [
              "14"
            ]
          },
          "metadata": {},
          "execution_count": 109
        }
      ]
    },
    {
      "cell_type": "code",
      "source": [
        "%%time\n",
        "value = 0\n",
        "for i in range(len(tensor)):\n",
        "  value += tensor[0] * tensor[0]\n",
        "print(value)"
      ],
      "metadata": {
        "colab": {
          "base_uri": "https://localhost:8080/"
        },
        "id": "3CcVBUt0Q2Ej",
        "outputId": "6f66d929-9551-4abb-fc0f-37a8a4a42de3"
      },
      "execution_count": 110,
      "outputs": [
        {
          "output_type": "stream",
          "name": "stdout",
          "text": [
            "tensor(3)\n",
            "CPU times: user 2.04 ms, sys: 0 ns, total: 2.04 ms\n",
            "Wall time: 2.69 ms\n"
          ]
        }
      ]
    },
    {
      "cell_type": "code",
      "source": [
        "%%time\n",
        "torch.matmul(tensor, tensor)"
      ],
      "metadata": {
        "id": "g0FTLjlrRZqT",
        "colab": {
          "base_uri": "https://localhost:8080/"
        },
        "outputId": "bfe8d7ff-ffe8-40d6-9bf0-f7f48a7651e3"
      },
      "execution_count": 111,
      "outputs": [
        {
          "output_type": "stream",
          "name": "stdout",
          "text": [
            "CPU times: user 1.55 ms, sys: 0 ns, total: 1.55 ms\n",
            "Wall time: 1.55 ms\n"
          ]
        },
        {
          "output_type": "execute_result",
          "data": {
            "text/plain": [
              "tensor(14)"
            ]
          },
          "metadata": {},
          "execution_count": 111
        }
      ]
    },
    {
      "cell_type": "markdown",
      "source": [
        "### Matrix Multiplication (Part #2)\n",
        "\n",
        "There are two main rules that performing matrix multiplication needs to stisfy:\n",
        "1.  The **inner dimensions** must match:\n",
        "    *   `(3,2) @ (3,2)` won't work\n",
        "    *   `(2,3) @ (3,2)` will work\n",
        "    *   `(3,2) @ (2,3)` will work\n",
        "\n",
        "    ***Note:*** `@` is a attribute in tensor for multiplying two tensor whereas `tensor.matmul()` is a function. e.g. `tensor1 @ tensor2` `==` `torch.matmul(tensor1, tensor2)`\n",
        "2.  The resulting matrix has the shape of the **outer dimensions**:\n",
        "    *   `(2,3) @ (3,2)` -> `(2,2)`\n",
        "    *   `(3,2) @ (2,3)` -> `(3,3)`\n",
        "\n",
        "#### One of the main errors in matrix multiplication is shape error"
      ],
      "metadata": {
        "id": "KD9D692wfsY-"
      }
    },
    {
      "cell_type": "code",
      "source": [
        "torch.matmul(torch.rand(3,2), torch.rand(3,2)) # error occurs"
      ],
      "metadata": {
        "colab": {
          "base_uri": "https://localhost:8080/",
          "height": 144
        },
        "id": "MG5CwIXhe_Ba",
        "outputId": "27e1e412-0e3c-4c18-a692-bd5c40a4acc8"
      },
      "execution_count": 112,
      "outputs": [
        {
          "output_type": "error",
          "ename": "RuntimeError",
          "evalue": "mat1 and mat2 shapes cannot be multiplied (3x2 and 3x2)",
          "traceback": [
            "\u001b[0;31m---------------------------------------------------------------------------\u001b[0m",
            "\u001b[0;31mRuntimeError\u001b[0m                              Traceback (most recent call last)",
            "\u001b[0;32m<ipython-input-112-2ce3796d01ab>\u001b[0m in \u001b[0;36m<cell line: 1>\u001b[0;34m()\u001b[0m\n\u001b[0;32m----> 1\u001b[0;31m \u001b[0mtorch\u001b[0m\u001b[0;34m.\u001b[0m\u001b[0mmatmul\u001b[0m\u001b[0;34m(\u001b[0m\u001b[0mtorch\u001b[0m\u001b[0;34m.\u001b[0m\u001b[0mrand\u001b[0m\u001b[0;34m(\u001b[0m\u001b[0;36m3\u001b[0m\u001b[0;34m,\u001b[0m\u001b[0;36m2\u001b[0m\u001b[0;34m)\u001b[0m\u001b[0;34m,\u001b[0m \u001b[0mtorch\u001b[0m\u001b[0;34m.\u001b[0m\u001b[0mrand\u001b[0m\u001b[0;34m(\u001b[0m\u001b[0;36m3\u001b[0m\u001b[0;34m,\u001b[0m\u001b[0;36m2\u001b[0m\u001b[0;34m)\u001b[0m\u001b[0;34m)\u001b[0m \u001b[0;31m# error occurs\u001b[0m\u001b[0;34m\u001b[0m\u001b[0;34m\u001b[0m\u001b[0m\n\u001b[0m",
            "\u001b[0;31mRuntimeError\u001b[0m: mat1 and mat2 shapes cannot be multiplied (3x2 and 3x2)"
          ]
        }
      ]
    },
    {
      "cell_type": "code",
      "source": [
        "torch.matmul(torch.rand(2,3), torch.rand(3,2))"
      ],
      "metadata": {
        "colab": {
          "base_uri": "https://localhost:8080/"
        },
        "id": "idsqlxdbi0y1",
        "outputId": "58157932-aed1-4796-c55f-873a8500d88e"
      },
      "execution_count": 113,
      "outputs": [
        {
          "output_type": "execute_result",
          "data": {
            "text/plain": [
              "tensor([[0.9909, 1.1400],\n",
              "        [1.4230, 1.6111]])"
            ]
          },
          "metadata": {},
          "execution_count": 113
        }
      ]
    },
    {
      "cell_type": "code",
      "source": [
        "torch.matmul(torch.rand(3,2), torch.rand(2,3))"
      ],
      "metadata": {
        "colab": {
          "base_uri": "https://localhost:8080/"
        },
        "id": "lSDSJAIVki07",
        "outputId": "c9498e07-37b2-47bc-d040-21d6b2b2c238"
      },
      "execution_count": 114,
      "outputs": [
        {
          "output_type": "execute_result",
          "data": {
            "text/plain": [
              "tensor([[0.4394, 0.7058, 0.8775],\n",
              "        [0.5524, 0.6247, 0.4361],\n",
              "        [0.1790, 0.4546, 0.7818]])"
            ]
          },
          "metadata": {},
          "execution_count": 114
        }
      ]
    },
    {
      "cell_type": "code",
      "source": [
        "torch.matmul(torch.rand(4,5), torch.rand(5,4))"
      ],
      "metadata": {
        "colab": {
          "base_uri": "https://localhost:8080/"
        },
        "id": "d6iOTamHk59s",
        "outputId": "b3d42ea4-7b4a-4b68-a96b-334a73f23b38"
      },
      "execution_count": 115,
      "outputs": [
        {
          "output_type": "execute_result",
          "data": {
            "text/plain": [
              "tensor([[2.3516, 2.0984, 1.3676, 2.2717],\n",
              "        [1.7823, 1.5090, 1.1456, 1.9227],\n",
              "        [2.0045, 1.9583, 1.6695, 2.3025],\n",
              "        [1.1770, 1.1576, 0.7166, 1.1965]])"
            ]
          },
          "metadata": {},
          "execution_count": 115
        }
      ]
    },
    {
      "cell_type": "code",
      "source": [
        "torch.matmul(torch.rand(10,4), torch.rand(4, 5))"
      ],
      "metadata": {
        "colab": {
          "base_uri": "https://localhost:8080/"
        },
        "id": "KGOYvozhllNE",
        "outputId": "49445edd-9f80-40cb-c374-cdf6b939c9ed"
      },
      "execution_count": 116,
      "outputs": [
        {
          "output_type": "execute_result",
          "data": {
            "text/plain": [
              "tensor([[0.5331, 1.2154, 0.6247, 0.7963, 0.9759],\n",
              "        [0.5268, 0.7716, 0.4764, 0.5412, 0.5834],\n",
              "        [1.0640, 1.0023, 0.5733, 1.1218, 0.7762],\n",
              "        [1.3438, 1.5001, 0.8166, 1.4390, 1.1953],\n",
              "        [1.1888, 1.3167, 0.6909, 1.2899, 1.0646],\n",
              "        [0.7675, 0.9701, 0.5974, 0.7177, 0.7434],\n",
              "        [1.4124, 1.2817, 0.7172, 1.4108, 1.0154],\n",
              "        [0.7440, 0.9593, 0.4195, 0.9219, 0.8214],\n",
              "        [1.2561, 1.0827, 0.5976, 1.2190, 0.8682],\n",
              "        [0.5789, 1.0156, 0.5294, 0.6479, 0.8321]])"
            ]
          },
          "metadata": {},
          "execution_count": 116
        }
      ]
    },
    {
      "cell_type": "code",
      "source": [
        "# if inner dimension match but different outer dimension\n",
        "torch.matmul(torch.rand(10,4), torch.rand(4, 6))"
      ],
      "metadata": {
        "colab": {
          "base_uri": "https://localhost:8080/"
        },
        "id": "xk8l3FA4lxRb",
        "outputId": "f44a1cac-41b5-4f0d-d723-3aa6f80075c8"
      },
      "execution_count": 117,
      "outputs": [
        {
          "output_type": "execute_result",
          "data": {
            "text/plain": [
              "tensor([[0.8289, 0.9869, 0.9304, 0.9652, 1.2316, 0.8252],\n",
              "        [0.5803, 0.5668, 0.5514, 0.7605, 1.1493, 0.1257],\n",
              "        [0.8917, 0.9853, 0.8449, 0.9581, 1.2960, 0.8404],\n",
              "        [0.7474, 0.9320, 0.8843, 1.0086, 1.4502, 0.5402],\n",
              "        [0.6276, 0.7377, 0.6709, 0.7707, 1.0882, 0.5014],\n",
              "        [1.0242, 0.8981, 1.0540, 0.8817, 0.5495, 1.1060],\n",
              "        [1.4524, 1.3321, 1.6413, 1.4869, 1.2348, 1.2392],\n",
              "        [0.5542, 0.6373, 0.6809, 0.7108, 0.8855, 0.4077],\n",
              "        [1.0262, 0.8278, 0.8589, 1.0396, 1.2380, 0.5272],\n",
              "        [1.5070, 1.4537, 1.7646, 1.5733, 1.3254, 1.3759]])"
            ]
          },
          "metadata": {},
          "execution_count": 117
        }
      ]
    },
    {
      "cell_type": "markdown",
      "source": [
        "### One of the most common errors in deep learning: shape errors"
      ],
      "metadata": {
        "id": "lOSBAtQwoN9O"
      }
    },
    {
      "cell_type": "markdown",
      "source": [
        "### Matrix Multiplication (Part #3: Dealing with tensor shape errors)\n"
      ],
      "metadata": {
        "id": "klE0pJe33pUZ"
      }
    },
    {
      "cell_type": "code",
      "source": [
        "# Shapes for matrix multiplication\n",
        "tensor_A = torch.tensor([[1,2],\n",
        "                         [3,4],\n",
        "                         [5,6]])\n",
        "tensor_B = torch.tensor([[7,10],\n",
        "                         [8,11],\n",
        "                         [9,12]])\n",
        "\n",
        "#torch.mm(tensor_A, tensor_B) # torch.mm is the same as torch.matmul (it's as an alias for writing less code)\n",
        "torch.matmul(tensor_A, tensor_B)"
      ],
      "metadata": {
        "colab": {
          "base_uri": "https://localhost:8080/",
          "height": 180
        },
        "id": "kgYxeIih39of",
        "outputId": "42fe1de6-6b23-4909-9dcf-d7a0acf5c77d"
      },
      "execution_count": 118,
      "outputs": [
        {
          "output_type": "error",
          "ename": "RuntimeError",
          "evalue": "mat1 and mat2 shapes cannot be multiplied (3x2 and 3x2)",
          "traceback": [
            "\u001b[0;31m---------------------------------------------------------------------------\u001b[0m",
            "\u001b[0;31mRuntimeError\u001b[0m                              Traceback (most recent call last)",
            "\u001b[0;32m<ipython-input-118-d405c4ee3609>\u001b[0m in \u001b[0;36m<cell line: 10>\u001b[0;34m()\u001b[0m\n\u001b[1;32m      8\u001b[0m \u001b[0;34m\u001b[0m\u001b[0m\n\u001b[1;32m      9\u001b[0m \u001b[0;31m#torch.mm(tensor_A, tensor_B) # torch.mm is the same as torch.matmul (it's as an alias for writing less code)\u001b[0m\u001b[0;34m\u001b[0m\u001b[0;34m\u001b[0m\u001b[0m\n\u001b[0;32m---> 10\u001b[0;31m \u001b[0mtorch\u001b[0m\u001b[0;34m.\u001b[0m\u001b[0mmatmul\u001b[0m\u001b[0;34m(\u001b[0m\u001b[0mtensor_A\u001b[0m\u001b[0;34m,\u001b[0m \u001b[0mtensor_B\u001b[0m\u001b[0;34m)\u001b[0m\u001b[0;34m\u001b[0m\u001b[0;34m\u001b[0m\u001b[0m\n\u001b[0m",
            "\u001b[0;31mRuntimeError\u001b[0m: mat1 and mat2 shapes cannot be multiplied (3x2 and 3x2)"
          ]
        }
      ]
    },
    {
      "cell_type": "code",
      "source": [
        "tensor_A.shape, tensor_B.shape"
      ],
      "metadata": {
        "colab": {
          "base_uri": "https://localhost:8080/"
        },
        "id": "ma0K8fI64WRI",
        "outputId": "628f6046-075c-425d-a4a7-6f9c214b1961"
      },
      "execution_count": 119,
      "outputs": [
        {
          "output_type": "execute_result",
          "data": {
            "text/plain": [
              "(torch.Size([3, 2]), torch.Size([3, 2]))"
            ]
          },
          "metadata": {},
          "execution_count": 119
        }
      ]
    },
    {
      "cell_type": "markdown",
      "source": [
        "To fix our tensor shape issues, we can manipulate the shape of one of our tensors using **transpose**.\n",
        "\n",
        "**Note:** A **transpose** switches the axes or dimensions of a given tensor"
      ],
      "metadata": {
        "id": "epP9UNsn5S4K"
      }
    },
    {
      "cell_type": "code",
      "source": [
        "tensor_B, tensor_B.shape"
      ],
      "metadata": {
        "colab": {
          "base_uri": "https://localhost:8080/"
        },
        "id": "YTytkZMh6NBn",
        "outputId": "dedb8008-4a85-420f-9987-51014c6763fb"
      },
      "execution_count": 120,
      "outputs": [
        {
          "output_type": "execute_result",
          "data": {
            "text/plain": [
              "(tensor([[ 7, 10],\n",
              "         [ 8, 11],\n",
              "         [ 9, 12]]),\n",
              " torch.Size([3, 2]))"
            ]
          },
          "metadata": {},
          "execution_count": 120
        }
      ]
    },
    {
      "cell_type": "code",
      "source": [
        "tensor_B.t() # transpose via function"
      ],
      "metadata": {
        "colab": {
          "base_uri": "https://localhost:8080/"
        },
        "id": "HKlFUDpc_sRe",
        "outputId": "6c1bba06-54de-4f3c-d8d6-b0a65ab7aedb"
      },
      "execution_count": 121,
      "outputs": [
        {
          "output_type": "execute_result",
          "data": {
            "text/plain": [
              "tensor([[ 7,  8,  9],\n",
              "        [10, 11, 12]])"
            ]
          },
          "metadata": {},
          "execution_count": 121
        }
      ]
    },
    {
      "cell_type": "code",
      "source": [
        "tensor_B.T, tensor_B.T.shape #tranpose via attribute"
      ],
      "metadata": {
        "colab": {
          "base_uri": "https://localhost:8080/"
        },
        "id": "zHor28N15LLi",
        "outputId": "a40c42cc-66c7-49dd-bb11-ae2984ddd825"
      },
      "execution_count": 122,
      "outputs": [
        {
          "output_type": "execute_result",
          "data": {
            "text/plain": [
              "(tensor([[ 7,  8,  9],\n",
              "         [10, 11, 12]]),\n",
              " torch.Size([2, 3]))"
            ]
          },
          "metadata": {},
          "execution_count": 122
        }
      ]
    },
    {
      "cell_type": "code",
      "source": [
        "# second approach to make transpose through function\n",
        "torch.transpose(tensor_B, 0, 1) # reference:: https://pytorch.org/docs/stable/generated/torch.transpose.html"
      ],
      "metadata": {
        "colab": {
          "base_uri": "https://localhost:8080/"
        },
        "id": "x9Ku3HOT57sS",
        "outputId": "c5fffaf5-be3b-45cd-f1aa-e6827992bc58"
      },
      "execution_count": 123,
      "outputs": [
        {
          "output_type": "execute_result",
          "data": {
            "text/plain": [
              "tensor([[ 7,  8,  9],\n",
              "        [10, 11, 12]])"
            ]
          },
          "metadata": {},
          "execution_count": 123
        }
      ]
    },
    {
      "cell_type": "code",
      "source": [
        "# The matrix multiplication operation works when tensorB is transposed\n",
        "print(f\"Original shapes: tensor_A = {tensor_A.shape}, tensor_B = {tensor_B.shape}\")\n",
        "print(f\"New shapes: tensor_A = {tensor_A.shape} (same as above), tensor_B.T = {tensor_B.T.shape}\")\n",
        "print(f\"Multiplying: {tensor_A.shape} @ {tensor_B.T.shape} <- inner dimensions must match\")\n",
        "print(f\"Output: \\n\")\n",
        "output = torch.matmul(tensor_A, tensor_B.T)\n",
        "print(output)\n",
        "print(f\"\\nOutput shape: {output.shape}\")"
      ],
      "metadata": {
        "colab": {
          "base_uri": "https://localhost:8080/"
        },
        "id": "Hp5HQ2Fy59SI",
        "outputId": "9e2bda62-3e81-45ed-cda0-8a4333999156"
      },
      "execution_count": 124,
      "outputs": [
        {
          "output_type": "stream",
          "name": "stdout",
          "text": [
            "Original shapes: tensor_A = torch.Size([3, 2]), tensor_B = torch.Size([3, 2])\n",
            "New shapes: tensor_A = torch.Size([3, 2]) (same as above), tensor_B.T = torch.Size([2, 3])\n",
            "Multiplying: torch.Size([3, 2]) @ torch.Size([2, 3]) <- inner dimensions must match\n",
            "Output: \n",
            "\n",
            "tensor([[ 27,  30,  33],\n",
            "        [ 61,  68,  75],\n",
            "        [ 95, 106, 117]])\n",
            "\n",
            "Output shape: torch.Size([3, 3])\n"
          ]
        }
      ]
    },
    {
      "cell_type": "markdown",
      "source": [
        "### Finding the min, max, mean, sum etc (tensor aggregation)"
      ],
      "metadata": {
        "id": "Y75g8h6vf8SQ"
      }
    },
    {
      "cell_type": "code",
      "source": [
        "# Create a tensor\n",
        "x = torch.arange(0, 100, 10)\n",
        "x, x.dtype"
      ],
      "metadata": {
        "id": "DCvyY-gf7hyn",
        "colab": {
          "base_uri": "https://localhost:8080/"
        },
        "outputId": "42e6e06c-dd20-4294-8caa-1eb4d731a8b0"
      },
      "execution_count": 129,
      "outputs": [
        {
          "output_type": "execute_result",
          "data": {
            "text/plain": [
              "(tensor([ 0, 10, 20, 30, 40, 50, 60, 70, 80, 90]), torch.int64)"
            ]
          },
          "metadata": {},
          "execution_count": 129
        }
      ]
    },
    {
      "cell_type": "code",
      "source": [
        "# Find the min\n",
        "torch.min(x), x.min()"
      ],
      "metadata": {
        "id": "UOcc4dI4_hNZ",
        "colab": {
          "base_uri": "https://localhost:8080/"
        },
        "outputId": "defb51f0-702f-4852-e861-e61025daef5c"
      },
      "execution_count": 126,
      "outputs": [
        {
          "output_type": "execute_result",
          "data": {
            "text/plain": [
              "(tensor(0), tensor(0))"
            ]
          },
          "metadata": {},
          "execution_count": 126
        }
      ]
    },
    {
      "cell_type": "code",
      "source": [
        "# Find the max\n",
        "torch.max(x), x.max()"
      ],
      "metadata": {
        "colab": {
          "base_uri": "https://localhost:8080/"
        },
        "id": "inBdt7SBgn94",
        "outputId": "b43d8fab-26e9-4ab3-cef9-b43aac504caa"
      },
      "execution_count": 127,
      "outputs": [
        {
          "output_type": "execute_result",
          "data": {
            "text/plain": [
              "(tensor(90), tensor(90))"
            ]
          },
          "metadata": {},
          "execution_count": 127
        }
      ]
    },
    {
      "cell_type": "code",
      "source": [
        "# Find the mean **note: the torch.mean() function requires a tensor of float32 datatype to work\n",
        "torch.mean(x.type(torch.float32)), x.type(torch.float32).mean()"
      ],
      "metadata": {
        "colab": {
          "base_uri": "https://localhost:8080/"
        },
        "id": "8AF_seXIgsJA",
        "outputId": "7063bd81-28ea-4861-fed7-1850921998eb"
      },
      "execution_count": 137,
      "outputs": [
        {
          "output_type": "execute_result",
          "data": {
            "text/plain": [
              "(tensor(45.), tensor(45.))"
            ]
          },
          "metadata": {},
          "execution_count": 137
        }
      ]
    },
    {
      "cell_type": "code",
      "source": [
        "# Find the sum\n",
        "torch.sum(x), x.sum()"
      ],
      "metadata": {
        "colab": {
          "base_uri": "https://localhost:8080/"
        },
        "id": "UYoG5ZO-hOpw",
        "outputId": "922c2fd6-d338-4e45-c8d2-e79cf28e42b9"
      },
      "execution_count": 138,
      "outputs": [
        {
          "output_type": "execute_result",
          "data": {
            "text/plain": [
              "(tensor(450), tensor(450))"
            ]
          },
          "metadata": {},
          "execution_count": 138
        }
      ]
    },
    {
      "cell_type": "markdown",
      "source": [
        "### Finding the positional min and max of tensors"
      ],
      "metadata": {
        "id": "KmRNRSILlDLy"
      }
    },
    {
      "cell_type": "code",
      "source": [
        "x = torch.arange(1, 100, 10)\n",
        "x"
      ],
      "metadata": {
        "colab": {
          "base_uri": "https://localhost:8080/"
        },
        "id": "sKm1Abp_jLZ1",
        "outputId": "68acd317-aa22-4cdf-f97f-724016966bd2"
      },
      "execution_count": 152,
      "outputs": [
        {
          "output_type": "execute_result",
          "data": {
            "text/plain": [
              "tensor([ 1, 11, 21, 31, 41, 51, 61, 71, 81, 91])"
            ]
          },
          "metadata": {},
          "execution_count": 152
        }
      ]
    },
    {
      "cell_type": "code",
      "source": [
        "# Find the position in tensor that has the minimum value with `argmin()` -> returns index position of target tensor where the minimum value occurs.\n",
        "x.argmin()"
      ],
      "metadata": {
        "colab": {
          "base_uri": "https://localhost:8080/"
        },
        "id": "bX4l_JEaleTx",
        "outputId": "845bbec7-b0aa-4a06-f416-ab7c2c549285"
      },
      "execution_count": 153,
      "outputs": [
        {
          "output_type": "execute_result",
          "data": {
            "text/plain": [
              "tensor(0)"
            ]
          },
          "metadata": {},
          "execution_count": 153
        }
      ]
    },
    {
      "cell_type": "code",
      "source": [
        "# check the value of the position\n",
        "print(f\"x.argmin().item() = {x.argmin().item()}\\n\")\n",
        "x[x.argmin().item()]"
      ],
      "metadata": {
        "colab": {
          "base_uri": "https://localhost:8080/"
        },
        "id": "v_P29b0plrH4",
        "outputId": "c14f887b-ef32-4b66-d37e-feb9a4dd2ce1"
      },
      "execution_count": 154,
      "outputs": [
        {
          "output_type": "stream",
          "name": "stdout",
          "text": [
            "x.argmin().item() = 0\n",
            "\n"
          ]
        },
        {
          "output_type": "execute_result",
          "data": {
            "text/plain": [
              "tensor(1)"
            ]
          },
          "metadata": {},
          "execution_count": 154
        }
      ]
    },
    {
      "cell_type": "code",
      "source": [
        "# Find the position in tensor that has the maximum value with `argmax()`\n",
        "x.argmax()"
      ],
      "metadata": {
        "colab": {
          "base_uri": "https://localhost:8080/"
        },
        "id": "Db5o-MLml3W5",
        "outputId": "34ca51eb-6398-4eb6-f42b-2e149b038709"
      },
      "execution_count": 155,
      "outputs": [
        {
          "output_type": "execute_result",
          "data": {
            "text/plain": [
              "tensor(9)"
            ]
          },
          "metadata": {},
          "execution_count": 155
        }
      ]
    },
    {
      "cell_type": "code",
      "source": [
        "# check the value of the position\n",
        "print(f\"x.armax().item() = {x.argmax().item()}\\n\")\n",
        "x[x.argmax().item()]"
      ],
      "metadata": {
        "colab": {
          "base_uri": "https://localhost:8080/"
        },
        "id": "Nd3AtMXtm7wX",
        "outputId": "b7420c9b-e532-4ce1-b4e7-3f35666f69e8"
      },
      "execution_count": 156,
      "outputs": [
        {
          "output_type": "stream",
          "name": "stdout",
          "text": [
            "x.armax().item() = 9\n",
            "\n"
          ]
        },
        {
          "output_type": "execute_result",
          "data": {
            "text/plain": [
              "tensor(91)"
            ]
          },
          "metadata": {},
          "execution_count": 156
        }
      ]
    },
    {
      "cell_type": "code",
      "source": [],
      "metadata": {
        "id": "jKKiKUHRnkL6"
      },
      "execution_count": null,
      "outputs": []
    }
  ],
  "metadata": {
    "colab": {
      "provenance": []
    },
    "kernelspec": {
      "display_name": "Python 3",
      "name": "python3"
    },
    "language_info": {
      "name": "python"
    }
  },
  "nbformat": 4,
  "nbformat_minor": 0
}