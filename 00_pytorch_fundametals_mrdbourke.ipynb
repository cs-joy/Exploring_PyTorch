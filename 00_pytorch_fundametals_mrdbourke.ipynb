{
  "cells": [
    {
      "cell_type": "markdown",
      "metadata": {
        "id": "-buiuu7sCwy3"
      },
      "source": [
        "### PyTorch Fundamentals"
      ]
    },
    {
      "cell_type": "code",
      "execution_count": null,
      "metadata": {
        "colab": {
          "base_uri": "https://localhost:8080/"
        },
        "id": "7bFyap-6C3Tr",
        "outputId": "9865d518-71b7-4bba-a074-88674bf4c7c8"
      },
      "outputs": [
        {
          "output_type": "stream",
          "name": "stdout",
          "text": [
            "2.2.1+cu121\n"
          ]
        }
      ],
      "source": [
        "import torch\n",
        "import pandas as pd\n",
        "import numpy as np\n",
        "import matplotlib.pyplot as plt\n",
        "print(torch.__version__)"
      ]
    },
    {
      "cell_type": "markdown",
      "metadata": {
        "id": "uElvucnwEP3M"
      },
      "source": [
        "### Introduction to Tensors\n",
        "\n",
        "### Creating tensors\n",
        "\n",
        "PyTorch tensors are created using `torch.Tensor()` = https://pytorch.org/docs/stable/tensors.html"
      ]
    },
    {
      "cell_type": "code",
      "execution_count": null,
      "metadata": {
        "colab": {
          "base_uri": "https://localhost:8080/"
        },
        "id": "p8OA0B6eEQ4q",
        "outputId": "36fa27bb-f524-44d0-9cb6-7e86492d8606"
      },
      "outputs": [
        {
          "output_type": "execute_result",
          "data": {
            "text/plain": [
              "tensor(7)"
            ]
          },
          "metadata": {},
          "execution_count": 2
        }
      ],
      "source": [
        "# scalar\n",
        "scalar = torch.tensor(7)\n",
        "scalar"
      ]
    },
    {
      "cell_type": "code",
      "execution_count": null,
      "metadata": {
        "colab": {
          "base_uri": "https://localhost:8080/"
        },
        "id": "v0_irmvAEhH6",
        "outputId": "6366e2fb-c311-4a71-f77c-798e2e9b96ba"
      },
      "outputs": [
        {
          "output_type": "execute_result",
          "data": {
            "text/plain": [
              "0"
            ]
          },
          "metadata": {},
          "execution_count": 3
        }
      ],
      "source": [
        "# number of dimension : https://pytorch.org/docs/stable/generated/torch.Tensor.ndim.html\n",
        "\n",
        "scalar.ndim"
      ]
    },
    {
      "cell_type": "code",
      "execution_count": null,
      "metadata": {
        "colab": {
          "base_uri": "https://localhost:8080/"
        },
        "id": "R024mjQ6HVxv",
        "outputId": "9c48b606-8484-48f1-a84f-a4566991bec3"
      },
      "outputs": [
        {
          "output_type": "execute_result",
          "data": {
            "text/plain": [
              "7"
            ]
          },
          "metadata": {},
          "execution_count": 4
        }
      ],
      "source": [
        "# Get tensor back as Python int\n",
        "\n",
        "scalar.item()"
      ]
    },
    {
      "cell_type": "code",
      "execution_count": null,
      "metadata": {
        "colab": {
          "base_uri": "https://localhost:8080/"
        },
        "id": "MtmlilZeHjUj",
        "outputId": "120bd6ac-6254-4028-f77b-e8b4f0dc4dd6"
      },
      "outputs": [
        {
          "output_type": "execute_result",
          "data": {
            "text/plain": [
              "tensor([7, 7])"
            ]
          },
          "metadata": {},
          "execution_count": 5
        }
      ],
      "source": [
        "# Vector\n",
        "vector = torch.tensor([7, 7])\n",
        "vector"
      ]
    },
    {
      "cell_type": "code",
      "execution_count": null,
      "metadata": {
        "colab": {
          "base_uri": "https://localhost:8080/"
        },
        "id": "4iWK1VoKorqW",
        "outputId": "f3e1586b-89f0-4c5b-d47c-8ea8fada26a2"
      },
      "outputs": [
        {
          "output_type": "execute_result",
          "data": {
            "text/plain": [
              "1"
            ]
          },
          "metadata": {},
          "execution_count": 6
        }
      ],
      "source": [
        "vector.ndim"
      ]
    },
    {
      "cell_type": "code",
      "execution_count": null,
      "metadata": {
        "colab": {
          "base_uri": "https://localhost:8080/"
        },
        "id": "-arbdcU8pvtk",
        "outputId": "90d671e3-8f50-4f7c-9393-48f7ab61c076"
      },
      "outputs": [
        {
          "output_type": "execute_result",
          "data": {
            "text/plain": [
              "torch.Size([2])"
            ]
          },
          "metadata": {},
          "execution_count": 7
        }
      ],
      "source": [
        "vector.shape"
      ]
    },
    {
      "cell_type": "code",
      "execution_count": null,
      "metadata": {
        "colab": {
          "base_uri": "https://localhost:8080/"
        },
        "id": "aXgWyyKdpxv1",
        "outputId": "9e663367-d60c-4560-9282-c3bb330d35b7"
      },
      "outputs": [
        {
          "output_type": "execute_result",
          "data": {
            "text/plain": [
              "tensor([[2, 4],\n",
              "        [1, 3]])"
            ]
          },
          "metadata": {},
          "execution_count": 8
        }
      ],
      "source": [
        "# MATRIX\n",
        "MATRIX = torch.tensor([[2,4],\n",
        "                       [1,3]])\n",
        "MATRIX"
      ]
    },
    {
      "cell_type": "code",
      "execution_count": null,
      "metadata": {
        "colab": {
          "base_uri": "https://localhost:8080/"
        },
        "id": "VSWWiuxKqGGv",
        "outputId": "7a356c5c-60a6-4e8c-ee29-71eb0118caf2"
      },
      "outputs": [
        {
          "output_type": "execute_result",
          "data": {
            "text/plain": [
              "2"
            ]
          },
          "metadata": {},
          "execution_count": 9
        }
      ],
      "source": [
        "MATRIX.ndim"
      ]
    },
    {
      "cell_type": "code",
      "execution_count": null,
      "metadata": {
        "colab": {
          "base_uri": "https://localhost:8080/"
        },
        "id": "ete9DTOvqO3F",
        "outputId": "cc7cc117-0f88-4cd3-de33-4a674c52cbef"
      },
      "outputs": [
        {
          "output_type": "execute_result",
          "data": {
            "text/plain": [
              "tensor([2, 4])"
            ]
          },
          "metadata": {},
          "execution_count": 10
        }
      ],
      "source": [
        "MATRIX[0]"
      ]
    },
    {
      "cell_type": "code",
      "execution_count": null,
      "metadata": {
        "colab": {
          "base_uri": "https://localhost:8080/"
        },
        "id": "Pr9wKm7jqRk9",
        "outputId": "892df2dd-4ce2-45b9-d079-b5872c273933"
      },
      "outputs": [
        {
          "output_type": "execute_result",
          "data": {
            "text/plain": [
              "torch.Size([2, 2])"
            ]
          },
          "metadata": {},
          "execution_count": 11
        }
      ],
      "source": [
        "MATRIX.shape"
      ]
    },
    {
      "cell_type": "code",
      "execution_count": null,
      "metadata": {
        "colab": {
          "base_uri": "https://localhost:8080/"
        },
        "id": "V1hr5cVHqYjN",
        "outputId": "758800c7-e04b-42fc-e4b6-d9423f139a45"
      },
      "outputs": [
        {
          "output_type": "execute_result",
          "data": {
            "text/plain": [
              "tensor([[[1, 3, 9],\n",
              "         [2, 4, 6],\n",
              "         [5, 9, 7]]])"
            ]
          },
          "metadata": {},
          "execution_count": 12
        }
      ],
      "source": [
        "# Tensor\n",
        "TENSOR = torch.tensor([[[1,3,9],\n",
        "                        [2,4,6],\n",
        "                        [5,9,7]]])\n",
        "TENSOR"
      ]
    },
    {
      "cell_type": "code",
      "execution_count": null,
      "metadata": {
        "colab": {
          "base_uri": "https://localhost:8080/"
        },
        "id": "DphY4MK8sUl-",
        "outputId": "627f1b77-60f4-4fc5-eae2-5d41b0adb675"
      },
      "outputs": [
        {
          "output_type": "execute_result",
          "data": {
            "text/plain": [
              "3"
            ]
          },
          "metadata": {},
          "execution_count": 13
        }
      ],
      "source": [
        "TENSOR.ndim"
      ]
    },
    {
      "cell_type": "code",
      "execution_count": null,
      "metadata": {
        "colab": {
          "base_uri": "https://localhost:8080/"
        },
        "id": "j-0f9M-usalk",
        "outputId": "8df75745-798e-4f1c-feda-1e9b1209eea7"
      },
      "outputs": [
        {
          "output_type": "execute_result",
          "data": {
            "text/plain": [
              "torch.Size([1, 3, 3])"
            ]
          },
          "metadata": {},
          "execution_count": 14
        }
      ],
      "source": [
        "TENSOR.shape"
      ]
    },
    {
      "cell_type": "code",
      "execution_count": null,
      "metadata": {
        "colab": {
          "base_uri": "https://localhost:8080/"
        },
        "id": "uvVm4l_kssNN",
        "outputId": "dfd3f7a4-e8f7-4ec0-d52b-941e707aaf12"
      },
      "outputs": [
        {
          "output_type": "execute_result",
          "data": {
            "text/plain": [
              "tensor([[1, 3, 9],\n",
              "        [2, 4, 6],\n",
              "        [5, 9, 7]])"
            ]
          },
          "metadata": {},
          "execution_count": 15
        }
      ],
      "source": [
        "TENSOR[0]"
      ]
    },
    {
      "cell_type": "code",
      "execution_count": null,
      "metadata": {
        "colab": {
          "base_uri": "https://localhost:8080/"
        },
        "id": "JpPIPxWTtAnO",
        "outputId": "39b5a69f-07bf-4b7b-cb30-fc560bcd4700"
      },
      "outputs": [
        {
          "output_type": "execute_result",
          "data": {
            "text/plain": [
              "tensor([[[[1, 3, 9, 4],\n",
              "          [2, 4, 8, 6]]]])"
            ]
          },
          "metadata": {},
          "execution_count": 16
        }
      ],
      "source": [
        "MY_TENSOR = torch.tensor([[[\n",
        "                              [1,3,9,4], # <0\n",
        "                              [2,4,8,6], # <1\n",
        "#                              [4,1,6,3]  # <2\n",
        "#                              ^ ^ ^ ^\n",
        "#                              0 1 2 3\n",
        "                            ]]])\n",
        "MY_TENSOR"
      ]
    },
    {
      "cell_type": "code",
      "execution_count": null,
      "metadata": {
        "colab": {
          "base_uri": "https://localhost:8080/"
        },
        "id": "HvqUSXvluX58",
        "outputId": "f884f846-7702-41c3-d7ab-a0f6e0683f00"
      },
      "outputs": [
        {
          "output_type": "execute_result",
          "data": {
            "text/plain": [
              "4"
            ]
          },
          "metadata": {},
          "execution_count": 17
        }
      ],
      "source": [
        "MY_TENSOR.ndim"
      ]
    },
    {
      "cell_type": "code",
      "execution_count": null,
      "metadata": {
        "colab": {
          "base_uri": "https://localhost:8080/"
        },
        "id": "Q085jgdXua90",
        "outputId": "9e359012-3a54-4f98-cbdf-384abb8bcd69"
      },
      "outputs": [
        {
          "output_type": "execute_result",
          "data": {
            "text/plain": [
              "torch.Size([1, 1, 2, 4])"
            ]
          },
          "metadata": {},
          "execution_count": 18
        }
      ],
      "source": [
        "MY_TENSOR.shape"
      ]
    },
    {
      "cell_type": "markdown",
      "metadata": {
        "id": "0VYUu8xVdlEy"
      },
      "source": [
        "## Tensor Exercise"
      ]
    },
    {
      "cell_type": "code",
      "execution_count": null,
      "metadata": {
        "colab": {
          "base_uri": "https://localhost:8080/"
        },
        "id": "wXenZTtEdqy6",
        "outputId": "9d2dca9f-54d2-46d0-c700-548a7d566b98"
      },
      "outputs": [
        {
          "output_type": "execute_result",
          "data": {
            "text/plain": [
              "tensor([[1, 2, 3],\n",
              "        [4, 5, 6]])"
            ]
          },
          "metadata": {},
          "execution_count": 19
        }
      ],
      "source": [
        "TENSOR = torch.tensor([[1,2,3], [4,5,6]])\n",
        "TENSOR"
      ]
    },
    {
      "cell_type": "code",
      "execution_count": null,
      "metadata": {
        "colab": {
          "base_uri": "https://localhost:8080/"
        },
        "id": "phOp45vkd25v",
        "outputId": "87d8f3c8-99e7-4e99-e467-31eb2094c5a6"
      },
      "outputs": [
        {
          "output_type": "execute_result",
          "data": {
            "text/plain": [
              "2"
            ]
          },
          "metadata": {},
          "execution_count": 20
        }
      ],
      "source": [
        "TENSOR.ndim"
      ]
    },
    {
      "cell_type": "code",
      "execution_count": null,
      "metadata": {
        "colab": {
          "base_uri": "https://localhost:8080/"
        },
        "id": "QPNE_shteBLK",
        "outputId": "6a47d420-8afc-4d8d-acd6-6c74b215b22e"
      },
      "outputs": [
        {
          "output_type": "execute_result",
          "data": {
            "text/plain": [
              "torch.Size([2, 3])"
            ]
          },
          "metadata": {},
          "execution_count": 21
        }
      ],
      "source": [
        "TENSOR.shape"
      ]
    },
    {
      "cell_type": "code",
      "execution_count": null,
      "metadata": {
        "colab": {
          "base_uri": "https://localhost:8080/"
        },
        "id": "W22HH2NAeHvA",
        "outputId": "8cdd1a13-8991-4141-e2af-8773646905e0"
      },
      "outputs": [
        {
          "output_type": "execute_result",
          "data": {
            "text/plain": [
              "tensor([1, 2, 3])"
            ]
          },
          "metadata": {},
          "execution_count": 22
        }
      ],
      "source": [
        "TENSOR[0]"
      ]
    },
    {
      "cell_type": "code",
      "execution_count": null,
      "metadata": {
        "colab": {
          "base_uri": "https://localhost:8080/"
        },
        "id": "FfC1ewwlet8-",
        "outputId": "2ce5d5fa-cf3a-41f5-beaa-22e9530ee147"
      },
      "outputs": [
        {
          "output_type": "execute_result",
          "data": {
            "text/plain": [
              "tensor([[2, 1, 4],\n",
              "        [1, 5, 2]])"
            ]
          },
          "metadata": {},
          "execution_count": 23
        }
      ],
      "source": [
        "TENSOR2 = torch.tensor([\n",
        "    [2,1,4],\n",
        "    [1,5,2]\n",
        "])\n",
        "TENSOR2"
      ]
    },
    {
      "cell_type": "code",
      "execution_count": null,
      "metadata": {
        "colab": {
          "base_uri": "https://localhost:8080/"
        },
        "id": "OnZX8YHNfJW7",
        "outputId": "e7293f54-79c7-41ec-e526-491defa7efc2"
      },
      "outputs": [
        {
          "output_type": "execute_result",
          "data": {
            "text/plain": [
              "2"
            ]
          },
          "metadata": {},
          "execution_count": 24
        }
      ],
      "source": [
        "TENSOR2.ndim"
      ]
    },
    {
      "cell_type": "code",
      "execution_count": null,
      "metadata": {
        "colab": {
          "base_uri": "https://localhost:8080/"
        },
        "id": "IshwqyFHCJ7g",
        "outputId": "e4fd313a-a340-4e2b-a77d-80dfaccf54f1"
      },
      "outputs": [
        {
          "output_type": "execute_result",
          "data": {
            "text/plain": [
              "torch.Size([2, 3])"
            ]
          },
          "metadata": {},
          "execution_count": 25
        }
      ],
      "source": [
        "TENSOR2.shape"
      ]
    },
    {
      "cell_type": "code",
      "execution_count": null,
      "metadata": {
        "colab": {
          "base_uri": "https://localhost:8080/"
        },
        "id": "JbXCoXQcCVXo",
        "outputId": "9f5a9db8-88ae-4003-d994-c1bc800bd685"
      },
      "outputs": [
        {
          "output_type": "execute_result",
          "data": {
            "text/plain": [
              "tensor([[2, 1, 4],\n",
              "        [1, 5, 2],\n",
              "        [7, 5, 9]])"
            ]
          },
          "metadata": {},
          "execution_count": 26
        }
      ],
      "source": [
        "TENSOR3 = torch.tensor([\n",
        "    [2,1,4],\n",
        "    [1,5,2],\n",
        "    [7,5,9]\n",
        "])\n",
        "TENSOR3"
      ]
    },
    {
      "cell_type": "code",
      "execution_count": null,
      "metadata": {
        "colab": {
          "base_uri": "https://localhost:8080/"
        },
        "id": "YaUO0YbOClOo",
        "outputId": "301ad691-27bb-49e8-ed92-be5419a8f473"
      },
      "outputs": [
        {
          "output_type": "execute_result",
          "data": {
            "text/plain": [
              "2"
            ]
          },
          "metadata": {},
          "execution_count": 27
        }
      ],
      "source": [
        "TENSOR3.ndim"
      ]
    },
    {
      "cell_type": "code",
      "execution_count": null,
      "metadata": {
        "colab": {
          "base_uri": "https://localhost:8080/"
        },
        "id": "l-2DFQhMCngy",
        "outputId": "ba58277b-d128-41e5-db36-f41cbff55318"
      },
      "outputs": [
        {
          "output_type": "execute_result",
          "data": {
            "text/plain": [
              "torch.Size([3, 3])"
            ]
          },
          "metadata": {},
          "execution_count": 28
        }
      ],
      "source": [
        "TENSOR3.shape"
      ]
    },
    {
      "cell_type": "code",
      "execution_count": null,
      "metadata": {
        "colab": {
          "base_uri": "https://localhost:8080/"
        },
        "id": "rtsY1RuzCqHp",
        "outputId": "0b262b99-deeb-4163-c23b-c703a7c658e9"
      },
      "outputs": [
        {
          "output_type": "execute_result",
          "data": {
            "text/plain": [
              "tensor([[[1, 2, 3, 2],\n",
              "         [7, 8, 9, 7],\n",
              "         [4, 5, 6, 9]]])"
            ]
          },
          "metadata": {},
          "execution_count": 29
        }
      ],
      "source": [
        "TENSOR4 = torch.tensor([[\n",
        "    [1,2,3,2],\n",
        "    [7,8,9,7],\n",
        "    [4,5,6,9]\n",
        "]])\n",
        "\n",
        "TENSOR4"
      ]
    },
    {
      "cell_type": "code",
      "execution_count": null,
      "metadata": {
        "colab": {
          "base_uri": "https://localhost:8080/"
        },
        "id": "heIyjCldEIHn",
        "outputId": "c1fa56b7-0ced-450d-e5a5-6ba0874ca9ed"
      },
      "outputs": [
        {
          "output_type": "execute_result",
          "data": {
            "text/plain": [
              "3"
            ]
          },
          "metadata": {},
          "execution_count": 30
        }
      ],
      "source": [
        "TENSOR4.ndim"
      ]
    },
    {
      "cell_type": "code",
      "execution_count": null,
      "metadata": {
        "colab": {
          "base_uri": "https://localhost:8080/"
        },
        "id": "yK2Vov-AEKNY",
        "outputId": "72761719-214c-4a40-baa7-afcc1c62e5bc"
      },
      "outputs": [
        {
          "output_type": "execute_result",
          "data": {
            "text/plain": [
              "torch.Size([1, 3, 4])"
            ]
          },
          "metadata": {},
          "execution_count": 31
        }
      ],
      "source": [
        "TENSOR4.shape"
      ]
    },
    {
      "cell_type": "code",
      "execution_count": null,
      "metadata": {
        "colab": {
          "base_uri": "https://localhost:8080/"
        },
        "id": "PBnmF883ETuX",
        "outputId": "2ba7bbf0-0dbd-4516-fa99-4c4fd0bab9dc"
      },
      "outputs": [
        {
          "output_type": "execute_result",
          "data": {
            "text/plain": [
              "tensor([[[[[[1, 2],\n",
              "            [4, 1],\n",
              "            [6, 8]]]]]])"
            ]
          },
          "metadata": {},
          "execution_count": 32
        }
      ],
      "source": [
        "TENSOR5 = torch.tensor(\n",
        "    [\n",
        "        [\n",
        "            [\n",
        "                [\n",
        "                    [\n",
        "                        [1,2],\n",
        "                        [4,1],\n",
        "                        [6,8]\n",
        "                    ]\n",
        "                ]\n",
        "            ]\n",
        "        ]\n",
        "    ]\n",
        ")\n",
        "\n",
        "TENSOR5"
      ]
    },
    {
      "cell_type": "code",
      "execution_count": null,
      "metadata": {
        "colab": {
          "base_uri": "https://localhost:8080/"
        },
        "id": "qCAnLMtgGKZn",
        "outputId": "be30703c-1824-4d3a-b712-4c53ee676e16"
      },
      "outputs": [
        {
          "output_type": "execute_result",
          "data": {
            "text/plain": [
              "6"
            ]
          },
          "metadata": {},
          "execution_count": 33
        }
      ],
      "source": [
        "TENSOR5.ndim # expected 6"
      ]
    },
    {
      "cell_type": "code",
      "execution_count": null,
      "metadata": {
        "colab": {
          "base_uri": "https://localhost:8080/"
        },
        "id": "Aox8_F-EGp4n",
        "outputId": "ae889f2d-c84b-42a4-ffba-b030dfc04d1a"
      },
      "outputs": [
        {
          "output_type": "execute_result",
          "data": {
            "text/plain": [
              "torch.Size([1, 1, 1, 1, 3, 2])"
            ]
          },
          "metadata": {},
          "execution_count": 34
        }
      ],
      "source": [
        "TENSOR5.shape #expected tensor.Size([1,1,1,1,3,2])"
      ]
    },
    {
      "cell_type": "code",
      "execution_count": null,
      "metadata": {
        "colab": {
          "base_uri": "https://localhost:8080/"
        },
        "id": "F8mlTsNmGz8-",
        "outputId": "2dd6236e-203c-49f9-94a3-4fb55854a790"
      },
      "outputs": [
        {
          "output_type": "execute_result",
          "data": {
            "text/plain": [
              "tensor([[[1, 2],\n",
              "         [4, 8],\n",
              "         [3, 9]],\n",
              "\n",
              "        [[5, 6],\n",
              "         [7, 9],\n",
              "         [4, 1]]])"
            ]
          },
          "metadata": {},
          "execution_count": 35
        }
      ],
      "source": [
        "TENSOR6 = torch.tensor(\n",
        "    [\n",
        "            [\n",
        "              [1,2],\n",
        "              [4,8],\n",
        "              [3,9]\n",
        "            ],\n",
        "            [\n",
        "              [5,6],\n",
        "              [7,9],\n",
        "              [4,1]\n",
        "            ]\n",
        "\n",
        "    ]\n",
        ")\n",
        "\n",
        "TENSOR6"
      ]
    },
    {
      "cell_type": "code",
      "execution_count": null,
      "metadata": {
        "colab": {
          "base_uri": "https://localhost:8080/"
        },
        "id": "WtkIhxXnH-9n",
        "outputId": "d963322f-dac5-4c81-89f1-a1debd75ac43"
      },
      "outputs": [
        {
          "output_type": "execute_result",
          "data": {
            "text/plain": [
              "3"
            ]
          },
          "metadata": {},
          "execution_count": 36
        }
      ],
      "source": [
        "TENSOR6.ndim"
      ]
    },
    {
      "cell_type": "code",
      "execution_count": null,
      "metadata": {
        "colab": {
          "base_uri": "https://localhost:8080/"
        },
        "id": "4y2T7u2UJBTl",
        "outputId": "e44d58cf-9457-42c4-d16f-22ac5a0622b7"
      },
      "outputs": [
        {
          "output_type": "execute_result",
          "data": {
            "text/plain": [
              "torch.Size([2, 3, 2])"
            ]
          },
          "metadata": {},
          "execution_count": 37
        }
      ],
      "source": [
        "TENSOR6.shape"
      ]
    },
    {
      "cell_type": "code",
      "execution_count": null,
      "metadata": {
        "colab": {
          "base_uri": "https://localhost:8080/"
        },
        "id": "uM22_1baK3mV",
        "outputId": "7ab3d69a-f996-4fb8-f814-344ad4ca6436"
      },
      "outputs": [
        {
          "output_type": "execute_result",
          "data": {
            "text/plain": [
              "tensor([[[[[[ 1,  2],\n",
              "            [ 4,  1],\n",
              "            [ 6,  8]],\n",
              "\n",
              "           [[ 4,  1],\n",
              "            [ 1,  5],\n",
              "            [47,  9]]],\n",
              "\n",
              "\n",
              "          [[[ 1,  2],\n",
              "            [ 4,  1],\n",
              "            [ 6,  8]],\n",
              "\n",
              "           [[ 4,  1],\n",
              "            [ 1,  5],\n",
              "            [47,  9]]],\n",
              "\n",
              "\n",
              "          [[[ 1,  2],\n",
              "            [ 4,  1],\n",
              "            [ 6,  8]],\n",
              "\n",
              "           [[ 4,  1],\n",
              "            [ 1,  5],\n",
              "            [47,  9]]]],\n",
              "\n",
              "\n",
              "\n",
              "         [[[[ 1,  2],\n",
              "            [ 4,  1],\n",
              "            [ 6,  8]],\n",
              "\n",
              "           [[ 4,  1],\n",
              "            [ 1,  5],\n",
              "            [47,  9]]],\n",
              "\n",
              "\n",
              "          [[[ 1,  2],\n",
              "            [ 4,  1],\n",
              "            [ 6,  8]],\n",
              "\n",
              "           [[ 4,  1],\n",
              "            [ 1,  5],\n",
              "            [47,  9]]],\n",
              "\n",
              "\n",
              "          [[[ 1,  2],\n",
              "            [ 4,  1],\n",
              "            [ 6,  8]],\n",
              "\n",
              "           [[ 4,  1],\n",
              "            [ 1,  5],\n",
              "            [47,  9]]]]],\n",
              "\n",
              "\n",
              "\n",
              "\n",
              "        [[[[[ 1,  2],\n",
              "            [ 4,  1],\n",
              "            [ 6,  8]],\n",
              "\n",
              "           [[ 4,  1],\n",
              "            [ 1,  5],\n",
              "            [47,  9]]],\n",
              "\n",
              "\n",
              "          [[[ 1,  2],\n",
              "            [ 4,  1],\n",
              "            [ 6,  8]],\n",
              "\n",
              "           [[ 4,  1],\n",
              "            [ 1,  5],\n",
              "            [47,  9]]],\n",
              "\n",
              "\n",
              "          [[[ 1,  2],\n",
              "            [ 4,  1],\n",
              "            [ 6,  8]],\n",
              "\n",
              "           [[ 4,  1],\n",
              "            [ 1,  5],\n",
              "            [47,  9]]]],\n",
              "\n",
              "\n",
              "\n",
              "         [[[[ 1,  2],\n",
              "            [ 4,  1],\n",
              "            [ 6,  8]],\n",
              "\n",
              "           [[ 4,  1],\n",
              "            [ 1,  5],\n",
              "            [47,  9]]],\n",
              "\n",
              "\n",
              "          [[[ 1,  2],\n",
              "            [ 4,  1],\n",
              "            [ 6,  8]],\n",
              "\n",
              "           [[ 4,  1],\n",
              "            [ 1,  5],\n",
              "            [47,  9]]],\n",
              "\n",
              "\n",
              "          [[[ 1,  2],\n",
              "            [ 4,  1],\n",
              "            [ 6,  8]],\n",
              "\n",
              "           [[ 4,  1],\n",
              "            [ 1,  5],\n",
              "            [47,  9]]]]]])"
            ]
          },
          "metadata": {},
          "execution_count": 38
        }
      ],
      "source": [
        "TENSOR7 = torch.tensor(\n",
        "    [\n",
        "        [\n",
        "            [\n",
        "                [\n",
        "                    [\n",
        "                        [1,2],\n",
        "                        [4,1],\n",
        "                        [6,8]\n",
        "                    ],\n",
        "                    [\n",
        "                        [4,1],\n",
        "                        [1,5],\n",
        "                        [47,9]\n",
        "                    ]\n",
        "                ],\n",
        "                [\n",
        "                    [\n",
        "                        [1,2],\n",
        "                        [4,1],\n",
        "                        [6,8]\n",
        "                    ],\n",
        "                    [\n",
        "                        [4,1],\n",
        "                        [1,5],\n",
        "                        [47,9]\n",
        "                    ]\n",
        "                ],\n",
        "                [\n",
        "                    [\n",
        "                        [1,2],\n",
        "                        [4,1],\n",
        "                        [6,8]\n",
        "                    ],\n",
        "                    [\n",
        "                        [4,1],\n",
        "                        [1,5],\n",
        "                        [47,9]\n",
        "                    ]\n",
        "                ]\n",
        "            ],\n",
        "            [\n",
        "                [\n",
        "                    [\n",
        "                        [1,2],\n",
        "                        [4,1],\n",
        "                        [6,8]\n",
        "                    ],\n",
        "                    [\n",
        "                        [4,1],\n",
        "                        [1,5],\n",
        "                        [47,9]\n",
        "                    ]\n",
        "                ],\n",
        "                [\n",
        "                    [\n",
        "                        [1,2],\n",
        "                        [4,1],\n",
        "                        [6,8]\n",
        "                    ],\n",
        "                    [\n",
        "                        [4,1],\n",
        "                        [1,5],\n",
        "                        [47,9]\n",
        "                    ]\n",
        "                ],\n",
        "                [\n",
        "                    [\n",
        "                        [1,2],\n",
        "                        [4,1],\n",
        "                        [6,8]\n",
        "                    ],\n",
        "                    [\n",
        "                        [4,1],\n",
        "                        [1,5],\n",
        "                        [47,9]\n",
        "                    ]\n",
        "                ]\n",
        "            ]\n",
        "        ],\n",
        "                [\n",
        "            [\n",
        "                [\n",
        "                    [\n",
        "                        [1,2],\n",
        "                        [4,1],\n",
        "                        [6,8]\n",
        "                    ],\n",
        "                    [\n",
        "                        [4,1],\n",
        "                        [1,5],\n",
        "                        [47,9]\n",
        "                    ]\n",
        "                ],\n",
        "                [\n",
        "                    [\n",
        "                        [1,2],\n",
        "                        [4,1],\n",
        "                        [6,8]\n",
        "                    ],\n",
        "                    [\n",
        "                        [4,1],\n",
        "                        [1,5],\n",
        "                        [47,9]\n",
        "                    ]\n",
        "                ],\n",
        "                [\n",
        "                    [\n",
        "                        [1,2],\n",
        "                        [4,1],\n",
        "                        [6,8]\n",
        "                    ],\n",
        "                    [\n",
        "                        [4,1],\n",
        "                        [1,5],\n",
        "                        [47,9]\n",
        "                    ]\n",
        "                ]\n",
        "            ],\n",
        "            [\n",
        "                [\n",
        "                    [\n",
        "                        [1,2],\n",
        "                        [4,1],\n",
        "                        [6,8]\n",
        "                    ],\n",
        "                    [\n",
        "                        [4,1],\n",
        "                        [1,5],\n",
        "                        [47,9]\n",
        "                    ]\n",
        "                ],\n",
        "                [\n",
        "                    [\n",
        "                        [1,2],\n",
        "                        [4,1],\n",
        "                        [6,8]\n",
        "                    ],\n",
        "                    [\n",
        "                        [4,1],\n",
        "                        [1,5],\n",
        "                        [47,9]\n",
        "                    ]\n",
        "                ],\n",
        "                [\n",
        "                    [\n",
        "                        [1,2],\n",
        "                        [4,1],\n",
        "                        [6,8]\n",
        "                    ],\n",
        "                    [\n",
        "                        [4,1],\n",
        "                        [1,5],\n",
        "                        [47,9]\n",
        "                    ]\n",
        "                ]\n",
        "            ]\n",
        "        ]\n",
        "    ]\n",
        ")\n",
        "TENSOR7"
      ]
    },
    {
      "cell_type": "code",
      "execution_count": null,
      "metadata": {
        "colab": {
          "base_uri": "https://localhost:8080/"
        },
        "id": "1dApxWVDYKpp",
        "outputId": "618308aa-f004-4837-c796-8abaa9f0e03b"
      },
      "outputs": [
        {
          "output_type": "execute_result",
          "data": {
            "text/plain": [
              "6"
            ]
          },
          "metadata": {},
          "execution_count": 39
        }
      ],
      "source": [
        "TENSOR7.ndim"
      ]
    },
    {
      "cell_type": "code",
      "execution_count": null,
      "metadata": {
        "colab": {
          "base_uri": "https://localhost:8080/"
        },
        "id": "011KGrClYMsQ",
        "outputId": "a21094d0-4b5b-4158-a01b-a513bd8ea260"
      },
      "outputs": [
        {
          "output_type": "execute_result",
          "data": {
            "text/plain": [
              "torch.Size([2, 2, 3, 2, 3, 2])"
            ]
          },
          "metadata": {},
          "execution_count": 40
        }
      ],
      "source": [
        "TENSOR7.shape"
      ]
    },
    {
      "cell_type": "markdown",
      "metadata": {
        "id": "r27E6Ic7miuS"
      },
      "source": [
        "### Random Tensors\n",
        "\n",
        "Why random tensors?\n",
        "\n",
        "Random tensors are important because the way many neural networks learn is that they start with tensors full of random numbers and then adjust those random numbers to better represent the data.\n",
        "\n",
        "`Start with random numbers -> look at data -> update random numbers -> look at data -> update random numbers`\n",
        "\n",
        "Torch random tensors = https://pytorch.org/docs/stable/generated/torch.rand.html"
      ]
    },
    {
      "cell_type": "code",
      "execution_count": null,
      "metadata": {
        "colab": {
          "base_uri": "https://localhost:8080/"
        },
        "id": "tmiPDHEGYVyw",
        "outputId": "98746111-4993-4ac1-a8af-cc97799dfd82"
      },
      "outputs": [
        {
          "output_type": "execute_result",
          "data": {
            "text/plain": [
              "tensor([[0.0160, 0.2551, 0.9102, 0.8558],\n",
              "        [0.6812, 0.5730, 0.5749, 0.8331],\n",
              "        [0.4640, 0.2258, 0.7661, 0.4874]])"
            ]
          },
          "metadata": {},
          "execution_count": 41
        }
      ],
      "source": [
        "# Create a random tensors of size (3,4)\n",
        "random_tensors = torch.rand(3, 4)\n",
        "random_tensors"
      ]
    },
    {
      "cell_type": "code",
      "execution_count": null,
      "metadata": {
        "colab": {
          "base_uri": "https://localhost:8080/"
        },
        "id": "8lvEmJyxojF6",
        "outputId": "7fc70fd3-60f4-48b9-f309-0b883c43e22c"
      },
      "outputs": [
        {
          "output_type": "execute_result",
          "data": {
            "text/plain": [
              "2"
            ]
          },
          "metadata": {},
          "execution_count": 42
        }
      ],
      "source": [
        "random_tensors.ndim"
      ]
    },
    {
      "cell_type": "code",
      "execution_count": null,
      "metadata": {
        "colab": {
          "base_uri": "https://localhost:8080/"
        },
        "id": "2Q0IRwVeoqMS",
        "outputId": "491c4775-ad19-49ea-8b6b-f278ed176f1e"
      },
      "outputs": [
        {
          "output_type": "execute_result",
          "data": {
            "text/plain": [
              "tensor([[0.9966, 0.3521, 0.8111, 0.6158, 0.7110, 0.9669, 0.1130, 0.5041],\n",
              "        [0.0667, 0.1323, 0.6992, 0.0140, 0.9048, 0.7053, 0.9616, 0.9586],\n",
              "        [0.3916, 0.0991, 0.6050, 0.8508, 0.3090, 0.3900, 0.9358, 0.8233],\n",
              "        [0.5459, 0.5050, 0.2579, 0.8662, 0.1302, 0.4428, 0.0124, 0.4773],\n",
              "        [0.2868, 0.3923, 0.6779, 0.4758, 0.0682, 0.8428, 0.1544, 0.9814],\n",
              "        [0.5454, 0.6739, 0.5846, 0.2028, 0.7854, 0.2089, 0.6250, 0.9299],\n",
              "        [0.8509, 0.0255, 0.7838, 0.4547, 0.8791, 0.4556, 0.7417, 0.7460],\n",
              "        [0.2570, 0.7981, 0.0762, 0.8109, 0.8216, 0.0741, 0.2076, 0.8409],\n",
              "        [0.4031, 0.3537, 0.3032, 0.0079, 0.1886, 0.3817, 0.0853, 0.9678],\n",
              "        [0.7926, 0.5758, 0.8539, 0.8235, 0.2765, 0.0619, 0.5861, 0.2852]])"
            ]
          },
          "metadata": {},
          "execution_count": 43
        }
      ],
      "source": [
        "random_tensors = torch.rand(10, 8)\n",
        "random_tensors"
      ]
    },
    {
      "cell_type": "code",
      "execution_count": null,
      "metadata": {
        "colab": {
          "base_uri": "https://localhost:8080/"
        },
        "id": "C2PhCTMPpGLz",
        "outputId": "75969959-51c0-422e-eeff-7090c0194c04"
      },
      "outputs": [
        {
          "output_type": "execute_result",
          "data": {
            "text/plain": [
              "2"
            ]
          },
          "metadata": {},
          "execution_count": 44
        }
      ],
      "source": [
        "random_tensors.ndim"
      ]
    },
    {
      "cell_type": "code",
      "execution_count": null,
      "metadata": {
        "colab": {
          "base_uri": "https://localhost:8080/"
        },
        "id": "0OpRsE4woyhK",
        "outputId": "79fe5378-5008-4cc8-9699-2104515883d5"
      },
      "outputs": [
        {
          "output_type": "execute_result",
          "data": {
            "text/plain": [
              "tensor([[[0.3569, 0.5505, 0.1569,  ..., 0.8784, 0.5369, 0.5435],\n",
              "         [0.5041, 0.1348, 0.9507,  ..., 0.0787, 0.4062, 0.0963],\n",
              "         [0.0295, 0.9692, 0.7344,  ..., 0.0824, 0.9303, 0.8993],\n",
              "         ...,\n",
              "         [0.7534, 0.6253, 0.7621,  ..., 0.1594, 0.2096, 0.1603],\n",
              "         [0.7839, 0.5559, 0.0813,  ..., 0.8504, 0.1762, 0.1096],\n",
              "         [0.3347, 0.4671, 0.1558,  ..., 0.1929, 0.4356, 0.5727]],\n",
              "\n",
              "        [[0.3477, 0.3417, 0.9173,  ..., 0.7531, 0.0303, 0.4437],\n",
              "         [0.6732, 0.1120, 0.0937,  ..., 0.8254, 0.3127, 0.9206],\n",
              "         [0.3072, 0.5202, 0.2249,  ..., 0.4200, 0.7621, 0.6103],\n",
              "         ...,\n",
              "         [0.1709, 0.6286, 0.8697,  ..., 0.7050, 0.1933, 0.0899],\n",
              "         [0.3851, 0.5163, 0.1728,  ..., 0.1254, 0.6661, 0.3725],\n",
              "         [0.2139, 0.8705, 0.8934,  ..., 0.8812, 0.9263, 0.6391]],\n",
              "\n",
              "        [[0.8205, 0.6196, 0.5728,  ..., 0.6823, 0.3126, 0.0435],\n",
              "         [0.4709, 0.5802, 0.7737,  ..., 0.0969, 0.6297, 0.6035],\n",
              "         [0.4731, 0.2755, 0.2267,  ..., 0.1592, 0.6208, 0.4449],\n",
              "         ...,\n",
              "         [0.3755, 0.2277, 0.0233,  ..., 0.8754, 0.5466, 0.7713],\n",
              "         [0.3212, 0.1067, 0.6411,  ..., 0.8616, 0.3116, 0.0406],\n",
              "         [0.7498, 0.2772, 0.9006,  ..., 0.3415, 0.6705, 0.1239]],\n",
              "\n",
              "        ...,\n",
              "\n",
              "        [[0.7823, 0.7997, 0.1104,  ..., 0.0649, 0.4176, 0.5233],\n",
              "         [0.9713, 0.7142, 0.2475,  ..., 0.6955, 0.9886, 0.0964],\n",
              "         [0.2511, 0.3691, 0.8028,  ..., 0.8713, 0.7754, 0.6231],\n",
              "         ...,\n",
              "         [0.6553, 0.8354, 0.2368,  ..., 0.9664, 0.0054, 0.6038],\n",
              "         [0.2915, 0.6060, 0.6512,  ..., 0.3828, 0.7039, 0.9139],\n",
              "         [0.8576, 0.7530, 0.9393,  ..., 0.6343, 0.6477, 0.9707]],\n",
              "\n",
              "        [[0.9120, 0.8368, 0.7811,  ..., 0.8054, 0.4413, 0.0165],\n",
              "         [0.4898, 0.5779, 0.9973,  ..., 0.8654, 0.9561, 0.7475],\n",
              "         [0.2101, 0.9950, 0.7566,  ..., 0.4272, 0.3080, 0.4457],\n",
              "         ...,\n",
              "         [0.7471, 0.5016, 0.4530,  ..., 0.9425, 0.7438, 0.3590],\n",
              "         [0.7359, 0.3369, 0.1278,  ..., 0.1968, 0.5480, 0.4727],\n",
              "         [0.6246, 0.2016, 0.6827,  ..., 0.2235, 0.5743, 0.3028]],\n",
              "\n",
              "        [[0.4211, 0.9780, 0.7435,  ..., 0.9773, 0.8732, 0.6004],\n",
              "         [0.7421, 0.4965, 0.6619,  ..., 0.5251, 0.6784, 0.1883],\n",
              "         [0.1612, 0.3504, 0.3051,  ..., 0.5293, 0.0681, 0.1037],\n",
              "         ...,\n",
              "         [0.6559, 0.9770, 0.0930,  ..., 0.1554, 0.1616, 0.8095],\n",
              "         [0.2516, 0.8039, 0.5496,  ..., 0.0875, 0.3057, 0.8900],\n",
              "         [0.8505, 0.4284, 0.2752,  ..., 0.1513, 0.1268, 0.5159]]])"
            ]
          },
          "metadata": {},
          "execution_count": 45
        }
      ],
      "source": [
        "random_tensors = torch.rand(10, 100, 100)\n",
        "random_tensors"
      ]
    },
    {
      "cell_type": "code",
      "execution_count": null,
      "metadata": {
        "colab": {
          "base_uri": "https://localhost:8080/"
        },
        "id": "njocHK8JpQ6K",
        "outputId": "9447602d-b127-42c5-c415-cf782408226b"
      },
      "outputs": [
        {
          "output_type": "execute_result",
          "data": {
            "text/plain": [
              "3"
            ]
          },
          "metadata": {},
          "execution_count": 46
        }
      ],
      "source": [
        "random_tensors.ndim"
      ]
    },
    {
      "cell_type": "code",
      "execution_count": null,
      "metadata": {
        "colab": {
          "base_uri": "https://localhost:8080/"
        },
        "id": "ZliHgF3ApU3S",
        "outputId": "d643a9c2-fc82-4683-acdb-47d5134415ad"
      },
      "outputs": [
        {
          "output_type": "execute_result",
          "data": {
            "text/plain": [
              "tensor([[[[[6.5135e-01, 4.6933e-01, 1.3959e-01,  ..., 8.5467e-01,\n",
              "            7.5798e-01, 2.5279e-01],\n",
              "           [8.3826e-01, 9.7371e-01, 6.2153e-01,  ..., 6.3514e-01,\n",
              "            7.2930e-01, 4.8227e-01],\n",
              "           [7.1838e-01, 6.0664e-01, 3.1236e-01,  ..., 4.8302e-01,\n",
              "            9.0600e-01, 3.9168e-01],\n",
              "           ...,\n",
              "           [7.3418e-01, 4.1151e-02, 8.7796e-01,  ..., 6.5647e-01,\n",
              "            8.3455e-02, 3.9876e-03],\n",
              "           [8.7194e-01, 4.7225e-01, 5.0627e-01,  ..., 2.2028e-01,\n",
              "            6.0455e-02, 3.7495e-01],\n",
              "           [4.7776e-01, 9.7095e-01, 6.2787e-01,  ..., 3.4651e-01,\n",
              "            9.9104e-01, 5.5199e-03]],\n",
              "\n",
              "          [[7.2755e-01, 6.7844e-01, 5.7460e-01,  ..., 3.8619e-01,\n",
              "            8.9395e-01, 4.8063e-01],\n",
              "           [8.3300e-01, 6.7645e-02, 7.3078e-01,  ..., 5.4736e-01,\n",
              "            4.5671e-01, 1.2199e-01],\n",
              "           [9.3479e-01, 2.0411e-01, 3.1555e-01,  ..., 7.4329e-01,\n",
              "            9.2328e-01, 3.1401e-01],\n",
              "           ...,\n",
              "           [9.6733e-01, 2.1812e-01, 1.9211e-01,  ..., 7.8424e-01,\n",
              "            8.6802e-01, 9.5852e-01],\n",
              "           [9.1934e-01, 7.0007e-01, 8.8930e-01,  ..., 2.6556e-01,\n",
              "            7.4930e-01, 5.0895e-01],\n",
              "           [8.1731e-01, 7.8929e-01, 3.5263e-02,  ..., 8.6891e-01,\n",
              "            9.2567e-01, 6.1440e-01]],\n",
              "\n",
              "          [[8.3132e-01, 3.8625e-01, 5.3753e-01,  ..., 7.9851e-02,\n",
              "            5.7462e-01, 5.1229e-01],\n",
              "           [2.7442e-02, 9.1344e-02, 1.5637e-01,  ..., 7.5185e-01,\n",
              "            1.1680e-01, 4.7988e-01],\n",
              "           [3.7936e-01, 7.6917e-01, 5.2279e-02,  ..., 2.8150e-01,\n",
              "            6.2519e-01, 1.4382e-02],\n",
              "           ...,\n",
              "           [5.0092e-01, 2.0505e-01, 6.0778e-01,  ..., 3.5699e-01,\n",
              "            8.4070e-01, 8.1284e-01],\n",
              "           [4.8616e-01, 6.5269e-01, 3.7711e-01,  ..., 3.9071e-01,\n",
              "            4.1588e-01, 8.7448e-01],\n",
              "           [9.2963e-01, 1.4258e-01, 2.2306e-01,  ..., 4.5741e-01,\n",
              "            7.1678e-01, 2.8381e-01]],\n",
              "\n",
              "          ...,\n",
              "\n",
              "          [[4.0505e-01, 4.8359e-01, 5.5499e-01,  ..., 5.0890e-01,\n",
              "            1.5610e-01, 1.8387e-01],\n",
              "           [7.4142e-01, 1.5912e-02, 8.9146e-01,  ..., 9.9656e-01,\n",
              "            2.3288e-02, 6.5234e-01],\n",
              "           [6.8653e-01, 3.5674e-01, 5.5961e-01,  ..., 3.0077e-02,\n",
              "            6.6792e-01, 7.9058e-01],\n",
              "           ...,\n",
              "           [5.0547e-01, 4.4719e-01, 4.8408e-01,  ..., 4.3858e-01,\n",
              "            9.9011e-01, 6.4387e-01],\n",
              "           [2.7485e-01, 2.8978e-02, 9.6070e-01,  ..., 3.9139e-01,\n",
              "            7.9892e-01, 8.2641e-01],\n",
              "           [2.0107e-01, 9.3998e-01, 4.1731e-01,  ..., 9.1503e-01,\n",
              "            6.3966e-01, 8.5844e-02]],\n",
              "\n",
              "          [[5.9619e-01, 2.9940e-01, 1.2625e-01,  ..., 5.9803e-01,\n",
              "            2.4537e-01, 5.8309e-01],\n",
              "           [3.3448e-01, 8.1746e-01, 9.4518e-01,  ..., 4.7565e-01,\n",
              "            1.9616e-01, 2.8255e-01],\n",
              "           [8.6157e-01, 9.2322e-01, 3.1912e-01,  ..., 8.1429e-01,\n",
              "            9.3210e-01, 2.6380e-01],\n",
              "           ...,\n",
              "           [8.7213e-01, 3.9820e-01, 6.7576e-01,  ..., 2.5455e-01,\n",
              "            5.6585e-01, 5.1288e-01],\n",
              "           [9.1004e-01, 8.6462e-01, 2.8010e-01,  ..., 6.6472e-01,\n",
              "            9.8699e-01, 1.9492e-01],\n",
              "           [3.2272e-02, 9.7312e-01, 5.2915e-01,  ..., 8.3616e-01,\n",
              "            6.5672e-01, 2.5459e-01]],\n",
              "\n",
              "          [[2.7849e-01, 9.3043e-01, 2.5019e-01,  ..., 4.9654e-01,\n",
              "            2.9034e-01, 6.3706e-01],\n",
              "           [1.0652e-01, 8.6349e-01, 4.9616e-01,  ..., 1.3764e-01,\n",
              "            5.4359e-01, 9.0491e-02],\n",
              "           [2.1594e-01, 6.2683e-01, 6.1856e-01,  ..., 3.2282e-01,\n",
              "            5.9351e-01, 6.8788e-01],\n",
              "           ...,\n",
              "           [5.0298e-01, 1.6383e-01, 9.4232e-01,  ..., 9.0900e-02,\n",
              "            7.9330e-01, 8.0196e-01],\n",
              "           [2.8942e-01, 6.6166e-01, 6.4698e-01,  ..., 9.8789e-01,\n",
              "            8.4244e-01, 7.2319e-01],\n",
              "           [7.1035e-01, 1.4414e-01, 2.9368e-01,  ..., 8.7004e-01,\n",
              "            9.0171e-01, 7.5418e-01]]],\n",
              "\n",
              "\n",
              "         [[[4.8692e-01, 5.9701e-02, 8.6818e-01,  ..., 8.8679e-01,\n",
              "            6.3794e-02, 3.6556e-01],\n",
              "           [8.7014e-01, 5.0995e-02, 1.3049e-01,  ..., 9.1276e-02,\n",
              "            5.1220e-01, 9.3693e-01],\n",
              "           [5.1897e-02, 7.2823e-01, 9.2717e-01,  ..., 2.3705e-01,\n",
              "            4.6103e-01, 6.3718e-01],\n",
              "           ...,\n",
              "           [9.3319e-01, 7.1231e-01, 7.2169e-01,  ..., 1.9340e-01,\n",
              "            8.7666e-01, 6.3805e-01],\n",
              "           [1.2430e-01, 3.1085e-01, 4.7280e-01,  ..., 2.2357e-01,\n",
              "            9.9417e-01, 3.9879e-01],\n",
              "           [9.4500e-01, 5.3777e-01, 5.7106e-01,  ..., 1.2320e-02,\n",
              "            1.9977e-01, 2.0516e-01]],\n",
              "\n",
              "          [[7.1026e-01, 7.8983e-01, 7.1822e-01,  ..., 1.8961e-01,\n",
              "            3.3835e-01, 4.7434e-01],\n",
              "           [6.3981e-01, 6.7002e-01, 2.9545e-03,  ..., 9.4594e-02,\n",
              "            9.2099e-01, 6.7170e-01],\n",
              "           [5.6545e-01, 7.1789e-01, 2.1241e-01,  ..., 3.7475e-01,\n",
              "            6.4334e-01, 6.8407e-01],\n",
              "           ...,\n",
              "           [4.2215e-01, 8.3087e-01, 2.9261e-01,  ..., 8.4910e-01,\n",
              "            3.0875e-01, 3.2543e-01],\n",
              "           [2.0176e-01, 5.2242e-01, 6.3243e-01,  ..., 7.8559e-01,\n",
              "            7.7173e-01, 6.4087e-01],\n",
              "           [6.9924e-01, 3.3430e-02, 6.1896e-02,  ..., 8.0175e-01,\n",
              "            1.0273e-01, 7.7185e-02]],\n",
              "\n",
              "          [[8.2002e-01, 1.2178e-02, 1.2707e-01,  ..., 3.0237e-01,\n",
              "            4.8335e-01, 3.1078e-01],\n",
              "           [5.2118e-01, 8.9327e-01, 1.3112e-01,  ..., 5.8716e-01,\n",
              "            3.0653e-01, 5.7131e-01],\n",
              "           [4.9038e-01, 2.8167e-02, 2.9514e-01,  ..., 3.6967e-01,\n",
              "            3.7372e-01, 3.9441e-01],\n",
              "           ...,\n",
              "           [6.3373e-01, 3.9724e-01, 7.6473e-01,  ..., 6.8790e-01,\n",
              "            6.3912e-01, 2.2232e-01],\n",
              "           [1.5948e-01, 1.1970e-01, 5.8797e-01,  ..., 4.4990e-01,\n",
              "            7.8095e-02, 6.8655e-01],\n",
              "           [5.5424e-01, 6.0187e-01, 7.8704e-01,  ..., 8.3494e-01,\n",
              "            9.1072e-01, 2.0092e-01]],\n",
              "\n",
              "          ...,\n",
              "\n",
              "          [[8.5556e-01, 1.2377e-01, 8.2045e-01,  ..., 8.2291e-01,\n",
              "            7.2919e-01, 4.9234e-01],\n",
              "           [4.9279e-01, 4.8717e-01, 5.7724e-01,  ..., 7.6043e-01,\n",
              "            2.4967e-01, 9.2213e-01],\n",
              "           [9.5249e-01, 8.8256e-01, 9.4473e-02,  ..., 6.5782e-01,\n",
              "            9.5136e-01, 2.1554e-01],\n",
              "           ...,\n",
              "           [4.2856e-01, 1.0475e-01, 8.7010e-01,  ..., 6.3894e-01,\n",
              "            9.3949e-01, 6.5939e-02],\n",
              "           [2.1035e-01, 1.3337e-01, 7.1917e-01,  ..., 4.2642e-01,\n",
              "            2.3971e-01, 1.1677e-01],\n",
              "           [6.4064e-01, 7.3609e-01, 8.8497e-01,  ..., 8.7886e-02,\n",
              "            4.3838e-01, 6.9440e-01]],\n",
              "\n",
              "          [[6.5298e-01, 3.7238e-01, 8.8905e-01,  ..., 7.4734e-01,\n",
              "            4.4250e-01, 1.6008e-01],\n",
              "           [3.5836e-01, 7.7002e-01, 8.2157e-01,  ..., 2.2611e-02,\n",
              "            3.7767e-01, 9.9684e-01],\n",
              "           [2.9179e-01, 6.0184e-01, 3.3680e-01,  ..., 5.6391e-01,\n",
              "            4.5395e-01, 8.7769e-02],\n",
              "           ...,\n",
              "           [8.9835e-01, 9.2067e-02, 1.8142e-01,  ..., 5.2840e-01,\n",
              "            5.8771e-01, 5.6349e-01],\n",
              "           [7.1870e-02, 6.9709e-01, 7.2362e-01,  ..., 2.3868e-01,\n",
              "            2.3216e-02, 3.6985e-01],\n",
              "           [4.0642e-01, 6.1746e-01, 2.4599e-02,  ..., 3.5517e-01,\n",
              "            5.7995e-01, 4.8777e-01]],\n",
              "\n",
              "          [[4.9918e-01, 1.9017e-01, 5.2160e-01,  ..., 5.8725e-01,\n",
              "            6.3492e-01, 1.9155e-01],\n",
              "           [6.9745e-01, 5.1310e-01, 8.2637e-01,  ..., 3.3971e-02,\n",
              "            1.3744e-01, 9.9221e-01],\n",
              "           [3.6321e-01, 6.5011e-01, 4.7433e-04,  ..., 5.2207e-01,\n",
              "            9.3433e-01, 7.9463e-01],\n",
              "           ...,\n",
              "           [3.5628e-01, 1.7768e-01, 7.7578e-01,  ..., 6.1158e-01,\n",
              "            5.3857e-01, 1.7709e-01],\n",
              "           [3.5818e-01, 9.6227e-01, 9.7113e-02,  ..., 4.4751e-01,\n",
              "            2.8881e-01, 9.9164e-01],\n",
              "           [1.0906e-01, 5.0909e-01, 6.2211e-01,  ..., 7.4693e-01,\n",
              "            2.9362e-01, 2.9153e-01]]],\n",
              "\n",
              "\n",
              "         [[[7.8130e-02, 9.4557e-01, 9.4837e-01,  ..., 4.4241e-01,\n",
              "            8.2212e-01, 7.0940e-01],\n",
              "           [3.2466e-01, 8.3109e-01, 7.9797e-01,  ..., 2.9024e-01,\n",
              "            2.3999e-01, 2.5594e-01],\n",
              "           [9.9013e-02, 1.8760e-01, 3.7035e-02,  ..., 2.4333e-01,\n",
              "            2.6456e-01, 6.4856e-01],\n",
              "           ...,\n",
              "           [1.0260e-01, 4.5196e-01, 5.0020e-01,  ..., 2.0593e-02,\n",
              "            8.2286e-02, 2.5395e-02],\n",
              "           [6.1871e-02, 3.8588e-01, 4.7340e-01,  ..., 3.6808e-01,\n",
              "            9.4350e-02, 2.1499e-01],\n",
              "           [9.4852e-01, 4.0632e-01, 1.5791e-01,  ..., 1.4663e-01,\n",
              "            5.0849e-01, 2.9379e-01]],\n",
              "\n",
              "          [[9.1413e-01, 8.9511e-01, 8.7726e-02,  ..., 5.2948e-01,\n",
              "            8.3746e-01, 4.3110e-01],\n",
              "           [1.2406e-01, 1.4270e-01, 5.9196e-01,  ..., 2.5043e-01,\n",
              "            5.7657e-01, 4.3706e-01],\n",
              "           [3.0545e-01, 5.5449e-01, 2.4395e-01,  ..., 1.6924e-01,\n",
              "            6.0948e-01, 5.7096e-01],\n",
              "           ...,\n",
              "           [9.7560e-01, 5.1915e-01, 1.0593e-01,  ..., 2.4033e-01,\n",
              "            2.6306e-01, 4.9674e-01],\n",
              "           [4.8415e-01, 5.1371e-01, 1.3887e-01,  ..., 4.3662e-01,\n",
              "            7.0651e-01, 6.8183e-01],\n",
              "           [3.7620e-01, 5.0499e-01, 4.0173e-01,  ..., 5.9751e-01,\n",
              "            9.6344e-01, 2.6429e-02]],\n",
              "\n",
              "          [[5.7514e-01, 9.2574e-01, 8.2008e-01,  ..., 5.0484e-01,\n",
              "            4.1961e-01, 2.3642e-01],\n",
              "           [5.4740e-01, 6.8567e-01, 5.1822e-01,  ..., 4.9795e-01,\n",
              "            1.2209e-01, 8.2080e-01],\n",
              "           [8.6659e-01, 7.9709e-01, 1.9842e-02,  ..., 8.8793e-01,\n",
              "            4.8736e-01, 9.1014e-01],\n",
              "           ...,\n",
              "           [7.2018e-01, 3.9989e-01, 4.9135e-01,  ..., 7.2470e-01,\n",
              "            8.7250e-01, 9.2937e-01],\n",
              "           [5.3762e-01, 7.9758e-01, 8.5919e-01,  ..., 4.8566e-01,\n",
              "            9.4544e-01, 8.8576e-01],\n",
              "           [4.3877e-01, 7.4126e-01, 7.5071e-02,  ..., 9.6410e-02,\n",
              "            8.9034e-01, 9.8057e-01]],\n",
              "\n",
              "          ...,\n",
              "\n",
              "          [[1.4163e-01, 9.9859e-01, 9.0302e-01,  ..., 7.7254e-01,\n",
              "            6.9706e-01, 4.8346e-01],\n",
              "           [9.1050e-01, 2.1585e-01, 2.2487e-01,  ..., 4.9052e-01,\n",
              "            9.6561e-01, 1.9148e-01],\n",
              "           [1.6439e-02, 2.4065e-01, 2.3558e-01,  ..., 8.9568e-01,\n",
              "            2.3198e-01, 8.7211e-01],\n",
              "           ...,\n",
              "           [9.5455e-01, 2.7350e-01, 2.6586e-01,  ..., 4.6073e-01,\n",
              "            3.3028e-01, 9.0062e-01],\n",
              "           [2.7553e-01, 3.9670e-01, 8.7512e-01,  ..., 7.1830e-02,\n",
              "            3.7553e-01, 7.3905e-01],\n",
              "           [9.7848e-01, 9.3382e-01, 8.7416e-01,  ..., 6.0434e-01,\n",
              "            3.9280e-01, 5.5980e-03]],\n",
              "\n",
              "          [[9.5719e-01, 1.1390e-01, 2.8262e-01,  ..., 5.7618e-01,\n",
              "            7.0105e-01, 2.8971e-01],\n",
              "           [4.5566e-01, 6.9577e-02, 7.4215e-01,  ..., 8.6190e-01,\n",
              "            2.0431e-01, 7.1162e-01],\n",
              "           [7.1846e-01, 7.4278e-01, 7.0625e-01,  ..., 6.3694e-01,\n",
              "            6.4457e-01, 5.8750e-01],\n",
              "           ...,\n",
              "           [9.0597e-01, 5.7478e-03, 9.4601e-01,  ..., 6.3168e-01,\n",
              "            5.1133e-01, 2.2892e-01],\n",
              "           [9.5325e-01, 4.3327e-01, 8.9184e-01,  ..., 6.5982e-01,\n",
              "            2.2217e-01, 6.5173e-01],\n",
              "           [8.0183e-01, 9.9124e-01, 6.6604e-01,  ..., 7.8992e-01,\n",
              "            3.1222e-01, 6.5414e-01]],\n",
              "\n",
              "          [[7.3572e-01, 2.6909e-02, 6.4586e-01,  ..., 1.5069e-01,\n",
              "            3.9974e-01, 4.8058e-01],\n",
              "           [3.4856e-02, 1.1887e-01, 6.5232e-01,  ..., 1.8855e-01,\n",
              "            1.0675e-01, 8.8131e-03],\n",
              "           [2.7278e-02, 4.5084e-01, 2.8313e-01,  ..., 3.3292e-01,\n",
              "            2.8962e-01, 7.6684e-01],\n",
              "           ...,\n",
              "           [5.1763e-02, 8.2600e-01, 8.4937e-02,  ..., 1.9081e-01,\n",
              "            1.3802e-01, 5.9126e-01],\n",
              "           [8.4927e-01, 4.3000e-01, 2.3600e-01,  ..., 6.9245e-01,\n",
              "            3.1058e-01, 4.5943e-01],\n",
              "           [9.0041e-01, 3.8364e-03, 5.1999e-01,  ..., 6.4356e-01,\n",
              "            4.7022e-01, 1.4429e-01]]],\n",
              "\n",
              "\n",
              "         ...,\n",
              "\n",
              "\n",
              "         [[[8.9513e-01, 7.4638e-01, 9.6854e-01,  ..., 4.6397e-01,\n",
              "            8.9739e-01, 5.6841e-01],\n",
              "           [2.8851e-01, 6.0946e-01, 7.4703e-01,  ..., 2.7230e-01,\n",
              "            9.4177e-01, 7.2342e-01],\n",
              "           [7.0420e-01, 6.3584e-01, 8.6818e-01,  ..., 8.3539e-01,\n",
              "            9.5740e-01, 6.0971e-01],\n",
              "           ...,\n",
              "           [9.9391e-01, 6.6145e-01, 4.8847e-01,  ..., 6.1036e-01,\n",
              "            9.7456e-01, 2.6332e-01],\n",
              "           [1.1233e-01, 4.8175e-01, 6.2138e-01,  ..., 1.0832e-01,\n",
              "            2.6161e-01, 7.3057e-01],\n",
              "           [4.9728e-01, 2.0787e-01, 1.7007e-01,  ..., 3.2621e-01,\n",
              "            4.1503e-02, 5.5237e-01]],\n",
              "\n",
              "          [[6.4661e-01, 9.9329e-01, 6.2619e-01,  ..., 1.9425e-01,\n",
              "            3.0958e-02, 9.5593e-01],\n",
              "           [4.8768e-01, 7.2159e-01, 5.5255e-01,  ..., 3.9531e-01,\n",
              "            7.0150e-01, 6.7747e-01],\n",
              "           [4.8756e-01, 1.5207e-01, 2.2412e-01,  ..., 9.7538e-01,\n",
              "            2.4388e-01, 8.8411e-01],\n",
              "           ...,\n",
              "           [9.6041e-01, 6.8938e-01, 6.2447e-01,  ..., 9.2374e-01,\n",
              "            5.5119e-01, 5.3591e-01],\n",
              "           [7.9688e-01, 8.4317e-01, 5.0713e-01,  ..., 3.4633e-01,\n",
              "            9.3885e-01, 3.7714e-01],\n",
              "           [9.7733e-01, 5.8360e-01, 6.2526e-01,  ..., 8.4835e-01,\n",
              "            1.2375e-01, 8.7797e-01]],\n",
              "\n",
              "          [[7.1162e-01, 1.9638e-01, 8.6253e-01,  ..., 1.7572e-01,\n",
              "            4.7330e-01, 1.7827e-01],\n",
              "           [2.6291e-01, 7.5374e-01, 7.3229e-01,  ..., 4.3173e-01,\n",
              "            3.8320e-01, 4.9513e-01],\n",
              "           [1.4477e-01, 4.9257e-01, 1.8944e-01,  ..., 8.5183e-01,\n",
              "            2.0963e-01, 4.2848e-01],\n",
              "           ...,\n",
              "           [6.1983e-01, 1.9077e-02, 1.5391e-01,  ..., 7.1208e-01,\n",
              "            2.4865e-01, 9.8331e-01],\n",
              "           [8.4150e-01, 9.4516e-01, 4.0682e-01,  ..., 7.5946e-01,\n",
              "            9.1105e-02, 3.1063e-01],\n",
              "           [5.8464e-01, 7.6059e-01, 2.0503e-02,  ..., 4.5979e-01,\n",
              "            7.0667e-01, 7.1172e-01]],\n",
              "\n",
              "          ...,\n",
              "\n",
              "          [[6.0982e-01, 5.2189e-01, 3.3320e-01,  ..., 9.3350e-01,\n",
              "            3.8848e-01, 2.3133e-01],\n",
              "           [3.2935e-01, 5.4750e-01, 3.9335e-01,  ..., 7.6071e-01,\n",
              "            7.7519e-01, 6.8394e-01],\n",
              "           [9.1186e-01, 8.9742e-01, 9.5247e-01,  ..., 1.8928e-01,\n",
              "            9.7549e-01, 3.6522e-01],\n",
              "           ...,\n",
              "           [1.0789e-02, 2.0381e-01, 9.7525e-01,  ..., 4.6230e-01,\n",
              "            6.4680e-01, 8.1819e-01],\n",
              "           [9.1781e-01, 4.0292e-01, 5.1752e-02,  ..., 2.7412e-02,\n",
              "            8.2228e-01, 5.9562e-01],\n",
              "           [4.1617e-02, 6.0358e-01, 3.5325e-02,  ..., 8.4416e-01,\n",
              "            2.2687e-01, 8.9394e-01]],\n",
              "\n",
              "          [[6.5663e-01, 5.8153e-01, 6.0494e-01,  ..., 1.0846e-01,\n",
              "            5.5186e-01, 7.5978e-02],\n",
              "           [6.5532e-01, 6.6923e-01, 8.7167e-01,  ..., 2.0811e-01,\n",
              "            2.5928e-01, 2.5064e-01],\n",
              "           [1.9190e-01, 6.0198e-01, 7.9984e-01,  ..., 1.5425e-01,\n",
              "            6.3538e-01, 1.8253e-02],\n",
              "           ...,\n",
              "           [3.1532e-01, 2.2360e-01, 3.0515e-01,  ..., 2.1914e-01,\n",
              "            1.3405e-01, 1.6849e-01],\n",
              "           [6.1737e-01, 3.8929e-01, 7.2369e-01,  ..., 6.4668e-02,\n",
              "            8.1168e-02, 9.3471e-01],\n",
              "           [5.9669e-01, 1.1661e-01, 4.2232e-01,  ..., 9.3857e-01,\n",
              "            3.9504e-01, 1.4825e-01]],\n",
              "\n",
              "          [[4.4615e-01, 4.0764e-02, 5.9854e-01,  ..., 8.2705e-01,\n",
              "            9.2145e-01, 3.8444e-01],\n",
              "           [9.6419e-01, 6.4784e-01, 5.8394e-01,  ..., 3.2408e-01,\n",
              "            8.3982e-01, 1.9434e-01],\n",
              "           [2.2954e-01, 2.3199e-01, 7.2420e-01,  ..., 4.0267e-01,\n",
              "            9.4946e-01, 5.2130e-01],\n",
              "           ...,\n",
              "           [8.4062e-01, 7.8104e-01, 5.1764e-01,  ..., 2.2528e-01,\n",
              "            5.0804e-01, 6.8306e-01],\n",
              "           [6.4406e-01, 2.8243e-01, 6.5791e-01,  ..., 9.5561e-01,\n",
              "            4.5716e-01, 7.3523e-01],\n",
              "           [9.3077e-01, 9.0965e-01, 9.6886e-01,  ..., 3.6825e-01,\n",
              "            3.8870e-01, 3.7258e-01]]],\n",
              "\n",
              "\n",
              "         [[[3.3338e-02, 1.0980e-01, 7.0131e-01,  ..., 4.3040e-03,\n",
              "            6.2303e-01, 1.4299e-01],\n",
              "           [9.5603e-01, 2.5231e-04, 3.7748e-01,  ..., 1.9338e-01,\n",
              "            4.5060e-01, 8.3361e-01],\n",
              "           [5.0676e-01, 8.7514e-01, 2.2628e-02,  ..., 3.0999e-01,\n",
              "            7.6142e-01, 4.0147e-02],\n",
              "           ...,\n",
              "           [5.4714e-01, 4.9720e-01, 9.3450e-01,  ..., 5.1685e-01,\n",
              "            4.7380e-01, 2.3460e-01],\n",
              "           [5.2130e-01, 3.5880e-01, 1.1786e-01,  ..., 9.2170e-02,\n",
              "            3.5758e-01, 3.1113e-01],\n",
              "           [1.3418e-01, 6.9813e-01, 2.8002e-01,  ..., 4.4502e-01,\n",
              "            2.6178e-01, 3.2030e-01]],\n",
              "\n",
              "          [[8.5875e-01, 4.1064e-01, 4.9586e-01,  ..., 7.4676e-01,\n",
              "            2.5699e-01, 8.3391e-02],\n",
              "           [5.1900e-01, 2.3346e-01, 5.4044e-01,  ..., 1.1891e-01,\n",
              "            5.9722e-01, 5.0944e-01],\n",
              "           [4.2999e-01, 8.3499e-01, 2.0902e-01,  ..., 3.8426e-01,\n",
              "            1.5165e-01, 1.4597e-01],\n",
              "           ...,\n",
              "           [5.2219e-02, 7.9456e-01, 6.4747e-01,  ..., 8.0844e-01,\n",
              "            2.5007e-02, 3.1520e-01],\n",
              "           [9.4685e-01, 6.3364e-01, 7.7284e-03,  ..., 7.8868e-01,\n",
              "            1.0236e-01, 5.4548e-01],\n",
              "           [8.8196e-02, 8.1092e-01, 4.6615e-01,  ..., 1.9254e-01,\n",
              "            3.8424e-01, 8.5446e-01]],\n",
              "\n",
              "          [[6.7531e-01, 8.8893e-01, 4.5760e-01,  ..., 3.5688e-01,\n",
              "            3.0418e-01, 4.2974e-01],\n",
              "           [7.7660e-01, 3.0296e-01, 8.2333e-01,  ..., 9.0311e-01,\n",
              "            1.0387e-01, 4.2318e-01],\n",
              "           [5.9227e-02, 9.5721e-01, 9.4536e-01,  ..., 2.3699e-01,\n",
              "            3.0665e-02, 9.9212e-01],\n",
              "           ...,\n",
              "           [6.2459e-01, 6.2407e-01, 2.4415e-01,  ..., 9.9937e-01,\n",
              "            5.2892e-01, 9.0231e-01],\n",
              "           [7.7980e-01, 7.2284e-01, 5.3957e-01,  ..., 4.8870e-02,\n",
              "            6.4815e-01, 8.1835e-01],\n",
              "           [8.5384e-01, 1.5680e-01, 7.0614e-01,  ..., 6.9535e-02,\n",
              "            1.5466e-01, 9.1001e-01]],\n",
              "\n",
              "          ...,\n",
              "\n",
              "          [[7.9944e-01, 1.7083e-02, 2.2224e-01,  ..., 1.6275e-01,\n",
              "            3.1787e-01, 5.4424e-02],\n",
              "           [6.7258e-02, 3.1776e-01, 6.6828e-01,  ..., 9.9559e-01,\n",
              "            8.5327e-01, 5.1166e-01],\n",
              "           [9.2351e-01, 1.3136e-01, 3.5377e-01,  ..., 3.3674e-01,\n",
              "            7.9585e-02, 1.4774e-01],\n",
              "           ...,\n",
              "           [8.4865e-01, 6.5133e-01, 9.6767e-01,  ..., 6.4184e-01,\n",
              "            3.8927e-01, 1.9924e-01],\n",
              "           [1.0279e-01, 3.4831e-01, 8.8846e-01,  ..., 6.1206e-01,\n",
              "            7.8727e-01, 2.8660e-01],\n",
              "           [2.8818e-01, 5.2490e-01, 9.4109e-01,  ..., 1.3739e-01,\n",
              "            7.8984e-01, 2.8141e-01]],\n",
              "\n",
              "          [[7.1474e-01, 2.9035e-02, 2.7808e-02,  ..., 4.3724e-01,\n",
              "            5.5216e-01, 4.9795e-01],\n",
              "           [5.0634e-01, 2.4706e-01, 9.5496e-01,  ..., 4.7808e-01,\n",
              "            1.0799e-01, 1.4424e-01],\n",
              "           [8.0930e-01, 3.4560e-01, 2.7185e-02,  ..., 2.4420e-01,\n",
              "            5.8554e-01, 4.0647e-01],\n",
              "           ...,\n",
              "           [5.0331e-01, 3.6596e-02, 6.0013e-01,  ..., 4.5327e-01,\n",
              "            9.6077e-01, 1.8151e-01],\n",
              "           [2.9638e-01, 9.6925e-01, 1.3794e-01,  ..., 9.7864e-01,\n",
              "            4.9455e-01, 5.8382e-03],\n",
              "           [2.7604e-01, 6.9756e-01, 9.0874e-01,  ..., 3.2063e-01,\n",
              "            7.1262e-01, 5.5826e-01]],\n",
              "\n",
              "          [[1.2301e-01, 5.9368e-01, 5.4810e-01,  ..., 9.3996e-01,\n",
              "            8.4930e-01, 9.0612e-01],\n",
              "           [1.5301e-01, 9.4196e-02, 5.6955e-01,  ..., 4.6084e-01,\n",
              "            2.6382e-01, 4.7771e-01],\n",
              "           [6.4550e-01, 1.9038e-01, 4.6582e-01,  ..., 1.7495e-01,\n",
              "            4.1293e-01, 6.8403e-01],\n",
              "           ...,\n",
              "           [7.2575e-01, 5.2297e-01, 7.2042e-01,  ..., 2.6670e-01,\n",
              "            9.8993e-01, 8.0052e-02],\n",
              "           [5.2826e-01, 6.6777e-01, 2.4634e-01,  ..., 6.1800e-01,\n",
              "            3.2674e-01, 8.7856e-01],\n",
              "           [2.4961e-01, 8.5938e-01, 3.0933e-01,  ..., 5.0542e-02,\n",
              "            2.1049e-01, 5.2529e-02]]],\n",
              "\n",
              "\n",
              "         [[[4.7026e-01, 6.2842e-01, 4.2377e-01,  ..., 9.3387e-01,\n",
              "            2.0626e-01, 1.0188e-01],\n",
              "           [4.1031e-01, 7.7542e-01, 9.1699e-01,  ..., 6.1818e-01,\n",
              "            4.8779e-01, 9.1943e-01],\n",
              "           [3.8991e-01, 6.3160e-01, 8.4494e-01,  ..., 1.1560e-01,\n",
              "            3.2112e-01, 8.1266e-02],\n",
              "           ...,\n",
              "           [4.5119e-01, 2.9569e-01, 5.6684e-01,  ..., 3.2573e-01,\n",
              "            5.8931e-01, 4.6793e-01],\n",
              "           [6.5589e-01, 9.1741e-02, 9.8390e-01,  ..., 5.9287e-01,\n",
              "            4.0885e-01, 2.6924e-02],\n",
              "           [8.4789e-01, 1.3394e-01, 6.9913e-01,  ..., 9.0669e-02,\n",
              "            4.9050e-01, 6.8816e-01]],\n",
              "\n",
              "          [[9.7201e-01, 6.4356e-01, 8.7264e-02,  ..., 6.1111e-01,\n",
              "            7.6889e-02, 9.4927e-01],\n",
              "           [8.0178e-01, 9.4309e-02, 4.7496e-01,  ..., 7.4882e-02,\n",
              "            9.8403e-01, 7.4903e-01],\n",
              "           [9.2834e-01, 9.5339e-01, 9.3962e-01,  ..., 4.0723e-01,\n",
              "            6.3271e-01, 2.9872e-01],\n",
              "           ...,\n",
              "           [6.6103e-01, 7.6705e-01, 5.2695e-01,  ..., 7.8000e-01,\n",
              "            8.4569e-01, 1.4952e-01],\n",
              "           [5.3264e-01, 7.5144e-01, 3.4472e-01,  ..., 2.2009e-01,\n",
              "            1.0105e-01, 5.4582e-02],\n",
              "           [4.7762e-01, 1.4292e-01, 2.5487e-01,  ..., 6.5950e-01,\n",
              "            7.8542e-01, 9.7479e-01]],\n",
              "\n",
              "          [[4.7526e-01, 7.9175e-01, 2.5912e-01,  ..., 6.7327e-01,\n",
              "            3.9755e-01, 4.8992e-01],\n",
              "           [5.7813e-01, 6.6063e-01, 2.4676e-01,  ..., 3.6345e-01,\n",
              "            5.6644e-01, 5.2775e-02],\n",
              "           [2.5416e-01, 9.4576e-01, 5.7330e-01,  ..., 7.8281e-01,\n",
              "            5.7627e-01, 5.2152e-01],\n",
              "           ...,\n",
              "           [2.2860e-01, 2.3365e-01, 3.3116e-01,  ..., 5.9438e-01,\n",
              "            1.7610e-01, 9.6568e-02],\n",
              "           [1.9000e-01, 2.6724e-02, 3.2270e-01,  ..., 8.6661e-01,\n",
              "            6.9075e-01, 3.1379e-01],\n",
              "           [8.8159e-01, 7.9526e-02, 2.9363e-01,  ..., 2.8077e-01,\n",
              "            7.0026e-01, 8.8040e-01]],\n",
              "\n",
              "          ...,\n",
              "\n",
              "          [[5.9222e-01, 1.7846e-01, 2.2242e-01,  ..., 8.8797e-01,\n",
              "            2.2747e-01, 9.0969e-01],\n",
              "           [7.8597e-01, 2.0916e-01, 9.9819e-01,  ..., 9.1573e-01,\n",
              "            3.2816e-02, 3.7542e-01],\n",
              "           [5.6638e-01, 8.4383e-01, 9.8789e-01,  ..., 9.8491e-01,\n",
              "            1.2338e-01, 2.0638e-01],\n",
              "           ...,\n",
              "           [7.6556e-01, 9.4733e-01, 5.1681e-01,  ..., 1.1748e-01,\n",
              "            9.1853e-01, 2.8987e-01],\n",
              "           [3.1680e-01, 9.7399e-01, 9.5512e-01,  ..., 7.4103e-01,\n",
              "            2.8692e-01, 6.1592e-01],\n",
              "           [2.0906e-01, 4.9968e-01, 4.0602e-01,  ..., 5.0781e-01,\n",
              "            6.0040e-01, 4.3652e-01]],\n",
              "\n",
              "          [[2.1417e-01, 2.5218e-01, 4.5980e-01,  ..., 2.0274e-01,\n",
              "            1.0903e-01, 8.8378e-01],\n",
              "           [5.2181e-01, 9.6408e-02, 5.9073e-02,  ..., 3.8415e-01,\n",
              "            1.1273e-01, 8.7905e-01],\n",
              "           [6.9821e-01, 5.3325e-01, 5.1999e-01,  ..., 9.0969e-01,\n",
              "            3.4211e-01, 7.3561e-01],\n",
              "           ...,\n",
              "           [9.0460e-01, 4.6360e-01, 2.1918e-01,  ..., 3.4192e-02,\n",
              "            7.8432e-01, 7.2733e-01],\n",
              "           [4.5426e-01, 4.3197e-01, 4.1072e-01,  ..., 2.9215e-01,\n",
              "            6.1468e-01, 8.3803e-01],\n",
              "           [2.1861e-01, 8.3738e-01, 1.3749e-01,  ..., 9.6922e-01,\n",
              "            5.1655e-01, 3.1848e-01]],\n",
              "\n",
              "          [[8.9261e-01, 3.1469e-01, 2.0370e-01,  ..., 2.8354e-01,\n",
              "            1.3377e-01, 3.5527e-01],\n",
              "           [4.9840e-01, 1.1168e-01, 2.2325e-01,  ..., 4.6063e-01,\n",
              "            4.8661e-01, 1.2383e-01],\n",
              "           [8.7325e-01, 6.5988e-01, 8.3232e-01,  ..., 2.9523e-01,\n",
              "            7.4243e-01, 4.1654e-01],\n",
              "           ...,\n",
              "           [6.5867e-01, 7.4199e-01, 8.3037e-01,  ..., 8.9624e-01,\n",
              "            3.0872e-01, 1.7024e-01],\n",
              "           [7.6030e-02, 6.4141e-01, 6.3529e-01,  ..., 5.9864e-01,\n",
              "            3.3204e-01, 8.4091e-01],\n",
              "           [7.8289e-01, 4.6831e-01, 7.7846e-02,  ..., 8.4823e-01,\n",
              "            2.7769e-01, 1.2305e-03]]]],\n",
              "\n",
              "\n",
              "\n",
              "        [[[[6.7406e-01, 3.9566e-01, 5.7524e-01,  ..., 1.7961e-01,\n",
              "            9.2429e-01, 8.9413e-01],\n",
              "           [9.3138e-01, 6.7041e-01, 2.7004e-01,  ..., 9.1979e-01,\n",
              "            3.2531e-01, 6.5498e-01],\n",
              "           [8.4795e-01, 1.8055e-01, 6.7970e-01,  ..., 2.3898e-01,\n",
              "            1.1645e-01, 3.0348e-01],\n",
              "           ...,\n",
              "           [5.8906e-01, 5.7686e-02, 2.1358e-01,  ..., 8.2383e-01,\n",
              "            9.1818e-01, 6.9368e-01],\n",
              "           [2.9039e-01, 4.3488e-01, 8.1136e-01,  ..., 6.7269e-02,\n",
              "            6.4622e-02, 7.9190e-01],\n",
              "           [5.2164e-01, 1.2774e-01, 2.4664e-01,  ..., 4.6947e-01,\n",
              "            4.9200e-02, 9.9096e-01]],\n",
              "\n",
              "          [[5.5039e-02, 4.0950e-01, 1.8182e-01,  ..., 3.1699e-02,\n",
              "            5.3478e-01, 8.9609e-01],\n",
              "           [8.9423e-02, 8.4200e-01, 4.3054e-01,  ..., 8.0710e-01,\n",
              "            2.9077e-01, 6.2667e-01],\n",
              "           [4.1395e-01, 1.4729e-01, 1.5070e-01,  ..., 2.2915e-01,\n",
              "            9.7608e-01, 5.6149e-02],\n",
              "           ...,\n",
              "           [2.0926e-01, 4.6421e-01, 7.0018e-01,  ..., 9.1598e-01,\n",
              "            8.1837e-01, 3.4365e-02],\n",
              "           [4.6212e-01, 7.2341e-01, 7.7999e-01,  ..., 2.9880e-01,\n",
              "            3.4816e-01, 5.3470e-02],\n",
              "           [1.6546e-01, 1.6357e-01, 3.1951e-01,  ..., 3.0056e-02,\n",
              "            2.0725e-01, 4.6683e-01]],\n",
              "\n",
              "          [[1.7790e-01, 9.7020e-01, 8.4456e-01,  ..., 8.5277e-01,\n",
              "            7.4915e-01, 7.1860e-01],\n",
              "           [3.1507e-01, 1.8339e-01, 7.9514e-01,  ..., 7.4917e-01,\n",
              "            4.8194e-01, 7.7622e-01],\n",
              "           [2.9676e-01, 7.7101e-01, 7.0925e-01,  ..., 4.3728e-01,\n",
              "            3.2085e-01, 3.0188e-01],\n",
              "           ...,\n",
              "           [3.2668e-01, 1.1661e-01, 1.3696e-01,  ..., 2.0122e-01,\n",
              "            3.5872e-01, 1.3052e-01],\n",
              "           [4.3567e-01, 7.0688e-01, 6.1018e-01,  ..., 9.6116e-01,\n",
              "            9.7742e-01, 1.5329e-01],\n",
              "           [6.5339e-01, 1.1801e-01, 6.3243e-01,  ..., 2.7471e-01,\n",
              "            2.3288e-01, 9.7370e-01]],\n",
              "\n",
              "          ...,\n",
              "\n",
              "          [[5.0911e-02, 2.0466e-01, 6.7310e-02,  ..., 7.3442e-01,\n",
              "            6.2041e-01, 9.6111e-01],\n",
              "           [9.8039e-01, 4.4249e-01, 1.3334e-01,  ..., 7.8961e-01,\n",
              "            2.7676e-02, 1.8154e-01],\n",
              "           [5.8108e-01, 8.2523e-01, 9.3061e-02,  ..., 7.3499e-01,\n",
              "            8.6385e-02, 4.8169e-01],\n",
              "           ...,\n",
              "           [9.9347e-02, 9.3721e-01, 2.0951e-01,  ..., 6.5711e-01,\n",
              "            9.5577e-01, 4.7050e-01],\n",
              "           [6.0629e-02, 1.4293e-02, 5.2528e-01,  ..., 7.4028e-01,\n",
              "            9.7002e-01, 7.3621e-01],\n",
              "           [9.9804e-01, 3.6709e-01, 4.8833e-01,  ..., 7.3633e-01,\n",
              "            3.5298e-01, 9.1914e-02]],\n",
              "\n",
              "          [[3.8831e-01, 1.7205e-01, 4.9541e-01,  ..., 8.6236e-01,\n",
              "            4.0579e-01, 9.2692e-01],\n",
              "           [3.1802e-01, 1.4788e-01, 4.2232e-01,  ..., 8.0538e-01,\n",
              "            4.1632e-02, 4.9616e-01],\n",
              "           [2.0887e-01, 9.3371e-01, 5.6112e-01,  ..., 3.8254e-01,\n",
              "            2.0034e-01, 3.0767e-01],\n",
              "           ...,\n",
              "           [2.7490e-01, 1.8076e-01, 3.7714e-01,  ..., 5.6899e-01,\n",
              "            6.7068e-01, 6.1772e-01],\n",
              "           [2.9926e-02, 2.2578e-01, 3.2243e-01,  ..., 6.2215e-01,\n",
              "            2.9567e-01, 5.3584e-01],\n",
              "           [6.5440e-01, 9.4696e-01, 2.2474e-01,  ..., 2.8495e-01,\n",
              "            3.0729e-01, 1.6355e-01]],\n",
              "\n",
              "          [[8.1660e-01, 1.3558e-01, 4.8711e-02,  ..., 1.7072e-01,\n",
              "            6.3924e-01, 5.6360e-02],\n",
              "           [4.5905e-01, 9.6730e-01, 1.5941e-01,  ..., 8.4197e-01,\n",
              "            7.8185e-01, 3.4575e-01],\n",
              "           [8.9503e-01, 6.4817e-01, 4.1327e-01,  ..., 5.1780e-01,\n",
              "            6.5146e-01, 8.4211e-01],\n",
              "           ...,\n",
              "           [7.2627e-02, 7.7341e-01, 8.7011e-01,  ..., 6.6305e-01,\n",
              "            4.0314e-01, 1.8539e-01],\n",
              "           [2.2456e-01, 2.0412e-01, 4.5275e-01,  ..., 2.7249e-01,\n",
              "            5.0438e-01, 6.1970e-01],\n",
              "           [8.8849e-02, 6.9477e-01, 6.9236e-01,  ..., 7.5918e-01,\n",
              "            2.9504e-01, 9.6678e-01]]],\n",
              "\n",
              "\n",
              "         [[[9.4155e-01, 2.1483e-01, 4.2914e-01,  ..., 4.6767e-01,\n",
              "            6.6349e-01, 8.2160e-03],\n",
              "           [7.6340e-02, 2.4551e-01, 9.1042e-01,  ..., 4.0876e-02,\n",
              "            4.7359e-01, 5.4022e-01],\n",
              "           [5.8345e-01, 7.8592e-01, 3.3333e-01,  ..., 1.6397e-01,\n",
              "            6.4662e-01, 7.3655e-01],\n",
              "           ...,\n",
              "           [4.1924e-01, 3.4766e-01, 2.0820e-01,  ..., 3.5168e-01,\n",
              "            3.1215e-01, 5.3403e-01],\n",
              "           [6.1759e-01, 1.6769e-02, 8.8017e-01,  ..., 5.9925e-01,\n",
              "            2.3525e-02, 6.8032e-01],\n",
              "           [9.3451e-01, 9.7263e-01, 4.9432e-01,  ..., 5.4528e-01,\n",
              "            5.9026e-01, 5.1272e-01]],\n",
              "\n",
              "          [[8.6416e-01, 9.9512e-01, 8.9670e-01,  ..., 1.1564e-01,\n",
              "            1.7295e-01, 9.8730e-01],\n",
              "           [3.2041e-01, 4.1526e-01, 8.8027e-02,  ..., 1.5579e-01,\n",
              "            8.8891e-01, 8.4067e-01],\n",
              "           [8.5073e-01, 5.0212e-01, 4.2014e-01,  ..., 5.7217e-01,\n",
              "            5.9766e-01, 8.7015e-01],\n",
              "           ...,\n",
              "           [4.6670e-01, 6.0729e-01, 6.8570e-01,  ..., 7.6339e-01,\n",
              "            3.9427e-01, 1.7741e-01],\n",
              "           [9.2948e-01, 7.0080e-01, 2.8600e-01,  ..., 7.9732e-01,\n",
              "            8.3110e-01, 6.1811e-01],\n",
              "           [5.8947e-01, 3.1250e-01, 7.3635e-01,  ..., 8.5638e-01,\n",
              "            7.8785e-01, 7.9430e-01]],\n",
              "\n",
              "          [[6.4512e-01, 6.8711e-02, 5.6121e-01,  ..., 5.3163e-01,\n",
              "            2.7735e-01, 2.9869e-01],\n",
              "           [5.7979e-01, 2.0745e-01, 3.4976e-01,  ..., 2.2108e-02,\n",
              "            6.5082e-01, 5.9999e-01],\n",
              "           [2.3943e-01, 9.3388e-01, 8.1613e-01,  ..., 1.8180e-01,\n",
              "            4.0774e-01, 6.9355e-02],\n",
              "           ...,\n",
              "           [4.6268e-01, 5.6402e-01, 8.3694e-01,  ..., 1.1856e-01,\n",
              "            4.3242e-02, 7.4808e-01],\n",
              "           [4.5211e-01, 9.0497e-01, 1.2631e-01,  ..., 5.1508e-01,\n",
              "            2.4565e-01, 1.5823e-02],\n",
              "           [3.3750e-01, 1.9615e-01, 9.6042e-01,  ..., 6.2704e-01,\n",
              "            4.3115e-01, 3.3275e-01]],\n",
              "\n",
              "          ...,\n",
              "\n",
              "          [[5.5963e-01, 4.1884e-02, 7.2263e-01,  ..., 5.0044e-01,\n",
              "            5.2443e-01, 4.4352e-02],\n",
              "           [9.5544e-01, 8.2169e-01, 1.9547e-01,  ..., 5.4553e-01,\n",
              "            3.8633e-01, 1.5908e-01],\n",
              "           [4.4979e-01, 7.1187e-01, 9.1270e-02,  ..., 7.2694e-01,\n",
              "            5.3440e-01, 9.0110e-01],\n",
              "           ...,\n",
              "           [8.6998e-01, 3.7693e-02, 7.3379e-01,  ..., 6.2497e-01,\n",
              "            3.9423e-01, 2.9938e-01],\n",
              "           [6.9656e-01, 6.7275e-01, 2.2333e-01,  ..., 3.7535e-01,\n",
              "            5.5581e-01, 6.5282e-01],\n",
              "           [5.4039e-02, 9.3606e-01, 8.3628e-01,  ..., 3.8036e-01,\n",
              "            8.9003e-01, 8.9625e-01]],\n",
              "\n",
              "          [[8.2306e-01, 4.6210e-01, 3.2132e-01,  ..., 5.6010e-01,\n",
              "            3.0047e-01, 5.2345e-01],\n",
              "           [6.8554e-01, 7.8727e-01, 6.3755e-01,  ..., 2.8789e-01,\n",
              "            8.7447e-01, 2.1969e-02],\n",
              "           [7.0680e-01, 5.9232e-01, 3.5164e-01,  ..., 5.2531e-01,\n",
              "            7.3619e-01, 5.5935e-01],\n",
              "           ...,\n",
              "           [6.8853e-01, 7.6986e-01, 4.4437e-01,  ..., 6.0454e-01,\n",
              "            6.1580e-01, 4.8267e-01],\n",
              "           [5.8480e-01, 6.9309e-01, 2.4219e-01,  ..., 3.4420e-01,\n",
              "            9.7532e-02, 7.4186e-01],\n",
              "           [2.1282e-01, 1.9176e-02, 5.9928e-01,  ..., 7.0288e-01,\n",
              "            3.8982e-02, 6.9149e-02]],\n",
              "\n",
              "          [[5.2026e-01, 2.0157e-01, 4.9309e-01,  ..., 3.5977e-01,\n",
              "            6.1470e-01, 1.0340e-02],\n",
              "           [5.8456e-01, 3.4379e-01, 3.7854e-02,  ..., 3.2671e-02,\n",
              "            4.6817e-01, 6.3624e-01],\n",
              "           [9.5916e-01, 1.7665e-01, 4.3310e-01,  ..., 3.9314e-01,\n",
              "            6.6471e-01, 9.3402e-01],\n",
              "           ...,\n",
              "           [2.2337e-01, 2.0608e-01, 5.3176e-01,  ..., 1.2667e-01,\n",
              "            8.3039e-01, 6.7450e-01],\n",
              "           [2.6644e-01, 2.2565e-01, 3.1172e-01,  ..., 5.3898e-01,\n",
              "            6.0183e-01, 7.3954e-01],\n",
              "           [1.9422e-01, 2.5291e-01, 8.6417e-01,  ..., 5.3789e-01,\n",
              "            8.6277e-02, 9.5724e-01]]],\n",
              "\n",
              "\n",
              "         [[[1.2664e-02, 8.9088e-01, 8.3466e-01,  ..., 2.0898e-01,\n",
              "            8.9129e-01, 9.2862e-02],\n",
              "           [2.0515e-01, 4.7013e-01, 4.8157e-01,  ..., 8.2950e-01,\n",
              "            2.8976e-02, 3.4212e-01],\n",
              "           [8.0748e-01, 7.4566e-01, 7.6683e-01,  ..., 6.5672e-01,\n",
              "            6.9067e-01, 3.4304e-01],\n",
              "           ...,\n",
              "           [1.1697e-01, 3.4890e-01, 1.7887e-01,  ..., 7.0597e-01,\n",
              "            9.3687e-01, 7.3203e-01],\n",
              "           [4.5544e-01, 3.0081e-01, 4.1893e-02,  ..., 6.2953e-01,\n",
              "            9.1625e-01, 3.3515e-01],\n",
              "           [5.2453e-01, 2.4603e-01, 5.1598e-02,  ..., 1.4666e-01,\n",
              "            2.6572e-01, 8.3325e-01]],\n",
              "\n",
              "          [[6.8809e-01, 8.5496e-01, 3.1534e-01,  ..., 4.1673e-01,\n",
              "            2.1212e-01, 5.7960e-01],\n",
              "           [4.8412e-01, 1.8303e-01, 9.7037e-01,  ..., 3.1965e-01,\n",
              "            9.1477e-02, 6.9375e-01],\n",
              "           [9.2507e-01, 1.3931e-01, 3.7340e-01,  ..., 7.7152e-01,\n",
              "            9.6519e-01, 5.0727e-01],\n",
              "           ...,\n",
              "           [9.4794e-01, 2.1888e-01, 6.3197e-01,  ..., 7.1735e-01,\n",
              "            6.3825e-01, 8.3157e-01],\n",
              "           [5.4358e-01, 1.3985e-01, 4.5995e-01,  ..., 4.6544e-01,\n",
              "            9.6382e-01, 6.0901e-01],\n",
              "           [5.1190e-01, 2.6983e-01, 6.5846e-01,  ..., 1.2115e-01,\n",
              "            5.2924e-01, 7.1238e-01]],\n",
              "\n",
              "          [[3.7889e-01, 6.0509e-01, 4.3669e-01,  ..., 5.4195e-02,\n",
              "            8.5338e-01, 4.2112e-01],\n",
              "           [7.8230e-01, 3.9623e-01, 2.2024e-01,  ..., 5.3801e-01,\n",
              "            5.3536e-01, 1.0049e-01],\n",
              "           [8.0594e-01, 9.9309e-01, 3.2074e-01,  ..., 3.6593e-01,\n",
              "            9.4244e-01, 9.9150e-01],\n",
              "           ...,\n",
              "           [8.3790e-01, 3.3123e-01, 1.6893e-01,  ..., 5.4332e-01,\n",
              "            5.2803e-02, 4.8809e-01],\n",
              "           [6.9109e-02, 2.0661e-01, 1.7465e-01,  ..., 4.5654e-01,\n",
              "            8.9224e-01, 5.3927e-01],\n",
              "           [1.6866e-01, 1.8274e-01, 6.6198e-01,  ..., 3.1131e-02,\n",
              "            8.9561e-01, 3.2338e-01]],\n",
              "\n",
              "          ...,\n",
              "\n",
              "          [[4.0799e-01, 2.6221e-01, 2.3361e-01,  ..., 4.7468e-01,\n",
              "            1.0629e-01, 9.1877e-01],\n",
              "           [9.3311e-01, 6.1702e-02, 1.2445e-01,  ..., 6.7050e-01,\n",
              "            2.6705e-01, 1.7766e-01],\n",
              "           [9.3217e-01, 9.8529e-01, 5.9704e-01,  ..., 7.6671e-01,\n",
              "            1.1146e-01, 1.3424e-01],\n",
              "           ...,\n",
              "           [6.8664e-01, 3.9438e-01, 2.4333e-01,  ..., 7.2915e-01,\n",
              "            5.5744e-01, 9.2398e-02],\n",
              "           [6.3108e-01, 8.0394e-01, 1.0680e-01,  ..., 7.4101e-01,\n",
              "            4.4048e-01, 2.5747e-01],\n",
              "           [1.0589e-01, 2.2106e-01, 6.3526e-01,  ..., 9.3941e-01,\n",
              "            1.2457e-01, 4.0455e-01]],\n",
              "\n",
              "          [[1.2292e-01, 7.3407e-01, 7.9648e-01,  ..., 2.1959e-01,\n",
              "            2.4340e-01, 1.8473e-01],\n",
              "           [2.6884e-01, 7.0107e-01, 9.7595e-01,  ..., 3.4371e-01,\n",
              "            6.8947e-01, 1.2634e-01],\n",
              "           [5.1224e-01, 5.1896e-01, 2.6799e-01,  ..., 6.2101e-01,\n",
              "            2.1984e-01, 9.6613e-01],\n",
              "           ...,\n",
              "           [9.6505e-01, 8.0084e-01, 7.1357e-01,  ..., 4.1552e-01,\n",
              "            9.7461e-02, 6.4447e-01],\n",
              "           [3.8735e-01, 1.6433e-01, 8.0793e-01,  ..., 3.2628e-01,\n",
              "            3.9004e-01, 7.2121e-01],\n",
              "           [3.1492e-01, 9.1465e-01, 1.5203e-01,  ..., 3.0202e-01,\n",
              "            8.2134e-01, 9.1142e-01]],\n",
              "\n",
              "          [[1.4446e-01, 5.6080e-01, 8.5742e-01,  ..., 6.1246e-01,\n",
              "            7.5113e-01, 4.4369e-01],\n",
              "           [8.5485e-01, 1.4089e-01, 3.2833e-01,  ..., 4.2313e-01,\n",
              "            5.4847e-02, 1.6480e-01],\n",
              "           [9.1422e-01, 3.0330e-01, 2.2725e-01,  ..., 7.4358e-01,\n",
              "            7.6110e-01, 8.3781e-01],\n",
              "           ...,\n",
              "           [2.5581e-01, 9.0492e-01, 8.3977e-01,  ..., 6.3003e-01,\n",
              "            5.1486e-03, 2.1957e-02],\n",
              "           [7.9437e-01, 8.1580e-01, 2.6603e-01,  ..., 6.8536e-01,\n",
              "            6.0013e-01, 9.8031e-01],\n",
              "           [4.2081e-01, 2.7096e-01, 4.4027e-02,  ..., 5.7788e-01,\n",
              "            2.5460e-01, 3.2365e-01]]],\n",
              "\n",
              "\n",
              "         ...,\n",
              "\n",
              "\n",
              "         [[[5.6441e-01, 6.5182e-01, 7.1901e-01,  ..., 9.8147e-01,\n",
              "            3.5809e-03, 3.3811e-01],\n",
              "           [7.9087e-01, 8.2872e-01, 6.6332e-01,  ..., 9.8983e-01,\n",
              "            4.4527e-01, 6.1439e-01],\n",
              "           [7.6037e-01, 3.9811e-01, 8.3132e-01,  ..., 2.2897e-01,\n",
              "            2.2159e-01, 2.2002e-01],\n",
              "           ...,\n",
              "           [9.4023e-02, 3.8773e-01, 5.1514e-01,  ..., 8.8978e-01,\n",
              "            3.9030e-01, 8.3962e-01],\n",
              "           [8.4864e-01, 8.7360e-01, 7.8031e-01,  ..., 2.8716e-01,\n",
              "            5.1907e-01, 1.6625e-01],\n",
              "           [4.8426e-01, 5.4391e-01, 8.4025e-01,  ..., 3.3957e-01,\n",
              "            7.2101e-01, 8.7753e-01]],\n",
              "\n",
              "          [[7.8710e-01, 6.2725e-01, 6.8249e-01,  ..., 1.0543e-01,\n",
              "            1.4564e-01, 2.0120e-01],\n",
              "           [4.8280e-01, 5.8720e-01, 9.9631e-01,  ..., 5.4327e-01,\n",
              "            9.6865e-01, 4.2046e-01],\n",
              "           [6.5095e-01, 2.7982e-01, 8.3644e-01,  ..., 3.3064e-02,\n",
              "            4.5668e-01, 9.2946e-01],\n",
              "           ...,\n",
              "           [1.6286e-02, 4.5307e-01, 5.9589e-01,  ..., 1.6397e-02,\n",
              "            7.0909e-01, 5.4104e-02],\n",
              "           [7.2149e-01, 3.5453e-01, 7.5687e-01,  ..., 6.4251e-01,\n",
              "            8.5887e-01, 6.9111e-01],\n",
              "           [4.9081e-02, 6.6672e-01, 5.7467e-01,  ..., 9.4195e-01,\n",
              "            5.4693e-01, 3.6543e-01]],\n",
              "\n",
              "          [[2.4922e-01, 7.9249e-01, 1.0490e-01,  ..., 9.1743e-01,\n",
              "            2.0933e-01, 2.3473e-01],\n",
              "           [9.0785e-02, 9.3875e-01, 6.2431e-01,  ..., 6.2361e-01,\n",
              "            4.6775e-01, 8.2369e-01],\n",
              "           [8.4339e-02, 7.2276e-02, 3.6933e-01,  ..., 9.9937e-01,\n",
              "            8.4193e-01, 5.9550e-01],\n",
              "           ...,\n",
              "           [8.0756e-01, 7.5014e-01, 8.6202e-02,  ..., 3.1049e-01,\n",
              "            6.6673e-01, 6.1614e-01],\n",
              "           [8.1711e-01, 1.0739e-01, 3.1177e-01,  ..., 5.8678e-01,\n",
              "            5.9581e-02, 7.9853e-01],\n",
              "           [6.9040e-01, 7.1062e-01, 6.5522e-01,  ..., 1.9934e-01,\n",
              "            7.0201e-01, 2.4047e-01]],\n",
              "\n",
              "          ...,\n",
              "\n",
              "          [[1.9078e-01, 1.4766e-01, 3.7950e-01,  ..., 9.1556e-01,\n",
              "            4.5090e-01, 6.7791e-01],\n",
              "           [9.9042e-01, 4.7836e-01, 1.4108e-01,  ..., 4.4628e-01,\n",
              "            7.9250e-01, 9.2972e-01],\n",
              "           [5.4664e-01, 2.3387e-01, 4.0542e-01,  ..., 4.5365e-01,\n",
              "            6.6219e-01, 4.5479e-01],\n",
              "           ...,\n",
              "           [3.8511e-02, 9.5270e-01, 1.4703e-01,  ..., 4.9108e-01,\n",
              "            9.7803e-01, 4.9629e-01],\n",
              "           [6.5019e-01, 9.6815e-01, 1.0501e-01,  ..., 5.0886e-01,\n",
              "            1.1901e-01, 6.8690e-02],\n",
              "           [7.1796e-01, 2.0330e-01, 7.7107e-01,  ..., 3.0263e-01,\n",
              "            7.2441e-01, 5.4512e-01]],\n",
              "\n",
              "          [[5.4285e-01, 4.7597e-01, 8.8412e-01,  ..., 6.9239e-01,\n",
              "            8.4532e-01, 5.0869e-01],\n",
              "           [2.2914e-01, 4.4456e-01, 3.8877e-01,  ..., 7.6248e-01,\n",
              "            9.8854e-01, 9.3246e-01],\n",
              "           [6.0545e-01, 4.6192e-01, 1.5560e-01,  ..., 8.0333e-01,\n",
              "            4.3461e-02, 7.3176e-01],\n",
              "           ...,\n",
              "           [9.9133e-01, 8.9547e-02, 4.1735e-01,  ..., 2.1996e-01,\n",
              "            3.1307e-01, 1.8904e-01],\n",
              "           [2.6386e-03, 9.9547e-01, 5.5199e-01,  ..., 7.6576e-02,\n",
              "            4.3722e-01, 2.8747e-01],\n",
              "           [5.8603e-01, 3.1689e-01, 5.9671e-02,  ..., 5.0620e-01,\n",
              "            4.9733e-01, 6.0073e-02]],\n",
              "\n",
              "          [[4.5305e-01, 7.6322e-01, 3.1220e-01,  ..., 3.5368e-01,\n",
              "            6.2786e-01, 2.0604e-01],\n",
              "           [6.9944e-01, 4.2425e-01, 3.3070e-01,  ..., 6.4753e-02,\n",
              "            9.9511e-01, 1.5598e-01],\n",
              "           [1.8337e-01, 4.8471e-01, 4.4855e-01,  ..., 2.8090e-01,\n",
              "            3.5751e-01, 1.4623e-01],\n",
              "           ...,\n",
              "           [4.9239e-01, 4.4083e-01, 7.2141e-01,  ..., 7.4478e-01,\n",
              "            4.5370e-01, 1.1166e-03],\n",
              "           [2.1023e-01, 6.9793e-01, 1.7855e-01,  ..., 9.6841e-03,\n",
              "            6.8635e-01, 9.1567e-01],\n",
              "           [5.5129e-01, 2.0933e-02, 5.6182e-01,  ..., 6.7089e-02,\n",
              "            8.2320e-01, 4.1989e-01]]],\n",
              "\n",
              "\n",
              "         [[[1.3740e-01, 4.5760e-01, 7.5832e-01,  ..., 8.5257e-01,\n",
              "            2.6598e-01, 2.5711e-01],\n",
              "           [7.9234e-01, 4.8913e-01, 6.4524e-01,  ..., 1.4753e-01,\n",
              "            4.3385e-01, 9.6730e-01],\n",
              "           [7.4215e-01, 5.2621e-01, 4.4971e-01,  ..., 7.5437e-01,\n",
              "            7.6161e-01, 7.4733e-01],\n",
              "           ...,\n",
              "           [9.3712e-01, 2.1317e-01, 6.9731e-01,  ..., 9.4399e-01,\n",
              "            5.4802e-01, 7.1772e-01],\n",
              "           [3.0803e-02, 3.7037e-03, 4.8399e-02,  ..., 8.8406e-01,\n",
              "            5.0528e-01, 9.7376e-01],\n",
              "           [1.9677e-01, 3.9233e-01, 2.6397e-01,  ..., 9.8635e-02,\n",
              "            2.6895e-01, 8.0304e-01]],\n",
              "\n",
              "          [[2.9439e-01, 4.8399e-01, 6.2000e-01,  ..., 4.4434e-01,\n",
              "            6.4525e-01, 3.3084e-01],\n",
              "           [7.3982e-02, 4.5648e-01, 3.7850e-01,  ..., 9.8973e-01,\n",
              "            4.1668e-01, 1.1932e-01],\n",
              "           [6.4228e-01, 3.3599e-01, 7.3815e-01,  ..., 8.9347e-01,\n",
              "            8.4488e-01, 2.9567e-01],\n",
              "           ...,\n",
              "           [6.8744e-01, 4.5822e-01, 2.7315e-02,  ..., 5.7092e-01,\n",
              "            9.7522e-01, 1.4497e-01],\n",
              "           [9.1606e-01, 2.3388e-01, 3.2789e-02,  ..., 5.5395e-03,\n",
              "            8.1887e-01, 2.0615e-01],\n",
              "           [7.6991e-01, 6.8053e-01, 9.3404e-01,  ..., 1.4157e-01,\n",
              "            4.2046e-01, 7.6172e-01]],\n",
              "\n",
              "          [[4.8428e-01, 7.3789e-01, 2.8178e-01,  ..., 5.8808e-01,\n",
              "            9.0987e-01, 2.8351e-02],\n",
              "           [2.9436e-01, 2.4492e-01, 5.1662e-01,  ..., 2.5423e-01,\n",
              "            5.6748e-01, 5.3069e-01],\n",
              "           [1.0469e-01, 4.3271e-03, 5.3968e-01,  ..., 1.6278e-01,\n",
              "            3.3912e-01, 2.9491e-01],\n",
              "           ...,\n",
              "           [9.5917e-01, 2.4192e-01, 8.9671e-01,  ..., 5.0988e-01,\n",
              "            6.7355e-01, 1.7601e-01],\n",
              "           [4.7645e-01, 5.7989e-01, 8.6718e-01,  ..., 6.8418e-02,\n",
              "            3.0055e-01, 9.4353e-01],\n",
              "           [5.9991e-01, 3.6535e-01, 5.1077e-01,  ..., 7.8852e-01,\n",
              "            2.1312e-01, 8.4887e-01]],\n",
              "\n",
              "          ...,\n",
              "\n",
              "          [[9.5052e-01, 4.5876e-01, 7.3163e-01,  ..., 4.6768e-01,\n",
              "            9.4107e-01, 8.2081e-01],\n",
              "           [5.1023e-01, 6.3897e-02, 2.7735e-01,  ..., 6.4798e-01,\n",
              "            7.5223e-01, 6.4627e-01],\n",
              "           [7.8740e-01, 8.6569e-01, 9.1271e-01,  ..., 7.6330e-01,\n",
              "            8.3580e-01, 9.9770e-01],\n",
              "           ...,\n",
              "           [2.7576e-01, 4.9923e-01, 4.6458e-02,  ..., 4.7771e-01,\n",
              "            1.8106e-01, 2.6854e-01],\n",
              "           [2.4179e-01, 7.0395e-01, 5.0540e-01,  ..., 4.1638e-01,\n",
              "            5.2481e-01, 3.1575e-01],\n",
              "           [8.3945e-01, 3.9872e-02, 5.8861e-01,  ..., 9.3825e-03,\n",
              "            4.8292e-01, 4.8303e-01]],\n",
              "\n",
              "          [[4.3984e-01, 3.0004e-01, 4.9817e-01,  ..., 6.3542e-01,\n",
              "            8.3456e-01, 8.8554e-01],\n",
              "           [9.7930e-02, 3.1953e-01, 3.9529e-01,  ..., 8.3358e-01,\n",
              "            7.9242e-01, 7.0142e-01],\n",
              "           [4.5965e-01, 4.9094e-01, 4.5430e-01,  ..., 8.7820e-01,\n",
              "            2.0092e-01, 9.2120e-01],\n",
              "           ...,\n",
              "           [5.8361e-01, 9.6538e-01, 6.7287e-01,  ..., 6.0766e-02,\n",
              "            7.5118e-01, 4.5095e-01],\n",
              "           [6.8356e-01, 1.1887e-01, 6.3326e-01,  ..., 2.0934e-02,\n",
              "            9.2637e-01, 7.0837e-01],\n",
              "           [6.4661e-01, 1.8273e-01, 4.2872e-01,  ..., 9.9621e-01,\n",
              "            2.6004e-01, 3.0360e-01]],\n",
              "\n",
              "          [[2.1456e-01, 5.6234e-01, 4.5501e-01,  ..., 2.9343e-01,\n",
              "            2.0639e-01, 4.9046e-01],\n",
              "           [3.1574e-01, 9.5456e-01, 2.7070e-01,  ..., 2.1247e-01,\n",
              "            5.1251e-01, 2.9306e-01],\n",
              "           [8.2122e-01, 9.2323e-01, 5.1340e-01,  ..., 4.8314e-01,\n",
              "            9.2496e-01, 8.2717e-01],\n",
              "           ...,\n",
              "           [4.8274e-01, 6.5351e-01, 5.2738e-01,  ..., 7.5047e-01,\n",
              "            6.9644e-01, 2.4779e-01],\n",
              "           [9.0147e-01, 6.8999e-01, 1.3907e-02,  ..., 9.2031e-01,\n",
              "            4.2471e-01, 2.3338e-01],\n",
              "           [6.0378e-01, 8.1470e-02, 8.3131e-01,  ..., 9.7509e-01,\n",
              "            8.4854e-01, 5.1836e-01]]],\n",
              "\n",
              "\n",
              "         [[[7.0574e-01, 4.7092e-01, 2.4167e-01,  ..., 7.7080e-01,\n",
              "            8.0781e-01, 7.3673e-01],\n",
              "           [9.0776e-01, 8.1617e-01, 8.8354e-01,  ..., 4.0521e-01,\n",
              "            4.5204e-01, 8.1309e-01],\n",
              "           [1.3016e-01, 2.6422e-01, 2.4497e-02,  ..., 5.8058e-01,\n",
              "            9.0515e-01, 8.1782e-02],\n",
              "           ...,\n",
              "           [4.5722e-03, 5.2855e-01, 8.7296e-01,  ..., 6.5922e-01,\n",
              "            3.3637e-01, 2.0075e-01],\n",
              "           [4.9603e-01, 4.8336e-01, 3.9599e-01,  ..., 6.0902e-01,\n",
              "            4.9049e-01, 2.1963e-01],\n",
              "           [8.0128e-01, 6.9781e-01, 2.1813e-01,  ..., 7.3732e-01,\n",
              "            8.5623e-02, 8.1417e-01]],\n",
              "\n",
              "          [[9.4933e-01, 9.8940e-01, 4.3072e-03,  ..., 9.3386e-01,\n",
              "            4.0528e-01, 8.0670e-01],\n",
              "           [7.7844e-01, 2.0341e-01, 1.9406e-01,  ..., 2.0868e-01,\n",
              "            7.6901e-01, 5.5700e-01],\n",
              "           [1.7166e-01, 9.2603e-01, 8.4404e-01,  ..., 7.5863e-01,\n",
              "            8.2560e-01, 3.7077e-01],\n",
              "           ...,\n",
              "           [3.5230e-01, 3.5465e-01, 8.9119e-01,  ..., 8.6096e-01,\n",
              "            1.2048e-01, 7.3886e-01],\n",
              "           [7.5967e-01, 8.7383e-01, 9.7543e-01,  ..., 6.0082e-01,\n",
              "            8.9412e-01, 9.1515e-01],\n",
              "           [3.2072e-01, 9.7169e-01, 9.1350e-01,  ..., 9.0510e-01,\n",
              "            7.7250e-01, 8.7891e-01]],\n",
              "\n",
              "          [[7.1945e-01, 6.9060e-01, 2.9228e-02,  ..., 2.9629e-01,\n",
              "            4.6845e-01, 1.1801e-01],\n",
              "           [9.7938e-01, 5.9103e-01, 4.8699e-01,  ..., 9.6333e-01,\n",
              "            6.1912e-01, 3.9461e-01],\n",
              "           [6.7551e-01, 5.8692e-01, 6.1091e-01,  ..., 8.3971e-01,\n",
              "            7.6184e-02, 3.9452e-04],\n",
              "           ...,\n",
              "           [8.6448e-01, 2.4146e-01, 1.6741e-01,  ..., 5.8373e-01,\n",
              "            3.6685e-01, 6.3340e-01],\n",
              "           [1.8172e-01, 8.9779e-01, 9.3362e-01,  ..., 1.2592e-01,\n",
              "            8.5254e-01, 9.8467e-01],\n",
              "           [8.0733e-01, 5.3358e-01, 6.6437e-01,  ..., 3.0447e-01,\n",
              "            4.3687e-01, 2.8425e-01]],\n",
              "\n",
              "          ...,\n",
              "\n",
              "          [[5.8849e-01, 8.8146e-01, 5.6492e-01,  ..., 7.3580e-02,\n",
              "            8.8204e-01, 2.3561e-01],\n",
              "           [5.4396e-02, 6.5806e-01, 9.8023e-01,  ..., 5.4032e-01,\n",
              "            1.1959e-01, 4.2192e-02],\n",
              "           [5.5554e-01, 8.2898e-01, 9.7138e-02,  ..., 2.4371e-01,\n",
              "            2.3708e-01, 6.1683e-01],\n",
              "           ...,\n",
              "           [3.8056e-01, 7.2247e-01, 2.7271e-01,  ..., 7.1188e-01,\n",
              "            3.9866e-01, 4.6466e-01],\n",
              "           [3.0208e-02, 6.4116e-01, 8.9707e-01,  ..., 2.5627e-01,\n",
              "            8.0246e-02, 1.3329e-01],\n",
              "           [5.4110e-01, 4.1384e-01, 3.1517e-02,  ..., 5.6311e-03,\n",
              "            5.3091e-01, 8.1759e-01]],\n",
              "\n",
              "          [[9.7370e-01, 5.9440e-03, 1.6413e-01,  ..., 9.7176e-01,\n",
              "            9.4154e-01, 6.5424e-01],\n",
              "           [1.4005e-01, 7.8286e-01, 1.4520e-01,  ..., 4.4197e-01,\n",
              "            5.1129e-01, 4.0383e-01],\n",
              "           [6.5971e-01, 4.4703e-01, 6.5921e-01,  ..., 5.4243e-01,\n",
              "            2.3514e-01, 6.8631e-01],\n",
              "           ...,\n",
              "           [7.1350e-01, 2.6278e-01, 8.0782e-01,  ..., 3.9266e-01,\n",
              "            9.5925e-01, 4.8530e-01],\n",
              "           [6.2116e-01, 3.8719e-02, 4.4826e-01,  ..., 6.0043e-01,\n",
              "            6.8619e-01, 9.0250e-01],\n",
              "           [9.7554e-01, 8.5163e-01, 5.4118e-01,  ..., 4.8520e-01,\n",
              "            6.1128e-01, 8.8226e-01]],\n",
              "\n",
              "          [[7.9341e-01, 9.1673e-01, 4.8928e-01,  ..., 2.6540e-01,\n",
              "            3.7597e-02, 2.0386e-01],\n",
              "           [6.1556e-02, 3.0426e-01, 4.3198e-01,  ..., 8.4229e-01,\n",
              "            3.1698e-01, 2.6953e-01],\n",
              "           [8.5472e-01, 2.6207e-01, 6.3978e-02,  ..., 3.3198e-01,\n",
              "            4.2077e-01, 3.8747e-02],\n",
              "           ...,\n",
              "           [7.3380e-01, 8.3923e-01, 3.5152e-01,  ..., 8.7906e-01,\n",
              "            9.2499e-01, 9.7250e-02],\n",
              "           [9.0326e-01, 9.0014e-01, 4.2787e-01,  ..., 1.3998e-01,\n",
              "            3.0745e-01, 8.8997e-01],\n",
              "           [2.2861e-01, 8.8406e-01, 4.9218e-03,  ..., 7.4595e-01,\n",
              "            9.8022e-01, 6.3296e-01]]]],\n",
              "\n",
              "\n",
              "\n",
              "        [[[[9.0943e-01, 3.3896e-01, 3.5846e-01,  ..., 4.2275e-01,\n",
              "            6.1328e-01, 7.5870e-01],\n",
              "           [3.4442e-01, 5.0417e-01, 5.1628e-01,  ..., 9.0346e-01,\n",
              "            7.3229e-01, 8.2692e-01],\n",
              "           [7.4674e-02, 8.4473e-01, 6.4216e-01,  ..., 9.9258e-01,\n",
              "            7.9672e-01, 9.3661e-02],\n",
              "           ...,\n",
              "           [3.7612e-01, 4.2213e-01, 3.9227e-01,  ..., 4.5783e-01,\n",
              "            2.4399e-01, 4.7487e-01],\n",
              "           [4.7418e-01, 2.9219e-01, 5.4329e-01,  ..., 4.9917e-01,\n",
              "            3.7676e-01, 9.9141e-01],\n",
              "           [2.4849e-01, 3.8404e-01, 3.4935e-01,  ..., 7.5418e-01,\n",
              "            5.7248e-01, 4.9869e-01]],\n",
              "\n",
              "          [[8.7978e-01, 8.7597e-02, 9.0456e-01,  ..., 3.2124e-01,\n",
              "            1.5901e-01, 5.0284e-01],\n",
              "           [7.0730e-01, 5.3576e-01, 6.7279e-01,  ..., 8.1449e-01,\n",
              "            6.4891e-01, 6.2348e-01],\n",
              "           [4.7789e-01, 1.4171e-01, 5.2083e-01,  ..., 3.6794e-01,\n",
              "            9.6550e-01, 3.7541e-01],\n",
              "           ...,\n",
              "           [2.7595e-02, 2.8822e-02, 8.5848e-01,  ..., 9.2768e-01,\n",
              "            6.4043e-02, 9.2404e-01],\n",
              "           [6.8279e-01, 6.4928e-01, 8.7010e-01,  ..., 2.7085e-01,\n",
              "            1.5665e-01, 4.5318e-01],\n",
              "           [2.7341e-01, 6.7981e-01, 3.0883e-01,  ..., 7.9528e-01,\n",
              "            8.1622e-01, 3.1491e-01]],\n",
              "\n",
              "          [[4.6081e-01, 9.6690e-01, 9.1211e-01,  ..., 2.8451e-01,\n",
              "            3.7631e-01, 2.8005e-01],\n",
              "           [7.3449e-01, 3.9433e-01, 2.4610e-01,  ..., 5.4361e-01,\n",
              "            4.5125e-01, 1.6450e-01],\n",
              "           [4.3170e-01, 1.1843e-01, 9.8339e-01,  ..., 1.8536e-01,\n",
              "            7.9286e-01, 8.2613e-01],\n",
              "           ...,\n",
              "           [7.2171e-01, 7.3677e-01, 8.2497e-01,  ..., 5.4413e-01,\n",
              "            4.1939e-02, 8.0057e-01],\n",
              "           [4.8781e-01, 2.1288e-01, 7.0958e-01,  ..., 2.9822e-01,\n",
              "            2.7526e-02, 7.9239e-01],\n",
              "           [8.2661e-01, 8.4951e-01, 9.6914e-02,  ..., 5.5522e-01,\n",
              "            4.2400e-01, 4.8063e-01]],\n",
              "\n",
              "          ...,\n",
              "\n",
              "          [[3.8705e-01, 5.2196e-01, 5.0973e-01,  ..., 5.1314e-01,\n",
              "            8.3873e-01, 2.7311e-01],\n",
              "           [5.5899e-03, 4.7186e-01, 7.3409e-01,  ..., 2.2832e-01,\n",
              "            3.1530e-01, 3.0941e-02],\n",
              "           [4.6771e-01, 7.2732e-01, 3.6175e-01,  ..., 6.9662e-03,\n",
              "            4.1032e-01, 3.1121e-01],\n",
              "           ...,\n",
              "           [7.2626e-01, 7.7575e-01, 3.3806e-01,  ..., 6.5464e-01,\n",
              "            7.4347e-01, 9.3535e-01],\n",
              "           [9.6736e-01, 3.6987e-01, 4.4720e-01,  ..., 6.9476e-02,\n",
              "            9.2375e-01, 3.2267e-01],\n",
              "           [4.6607e-01, 8.2918e-01, 9.0534e-01,  ..., 7.7692e-02,\n",
              "            5.5825e-01, 8.0614e-01]],\n",
              "\n",
              "          [[7.6251e-01, 9.9492e-01, 6.4584e-01,  ..., 9.8479e-01,\n",
              "            2.7990e-01, 7.6300e-01],\n",
              "           [6.3745e-02, 5.9666e-01, 9.4201e-01,  ..., 9.4020e-01,\n",
              "            7.4416e-01, 4.2503e-01],\n",
              "           [7.9455e-01, 9.4885e-01, 5.1190e-01,  ..., 5.9698e-01,\n",
              "            4.9892e-01, 3.9121e-01],\n",
              "           ...,\n",
              "           [4.7103e-01, 4.5180e-01, 3.9573e-01,  ..., 8.5956e-01,\n",
              "            9.5963e-01, 3.2807e-01],\n",
              "           [4.5693e-01, 7.7662e-01, 5.4497e-01,  ..., 1.3591e-01,\n",
              "            3.8863e-01, 9.7534e-01],\n",
              "           [5.2041e-01, 4.0983e-01, 8.7816e-01,  ..., 6.9539e-02,\n",
              "            2.1676e-01, 9.1002e-01]],\n",
              "\n",
              "          [[3.3375e-01, 8.2495e-02, 3.9475e-01,  ..., 4.6253e-01,\n",
              "            6.5063e-01, 1.8005e-01],\n",
              "           [7.3069e-01, 8.2250e-01, 3.4588e-01,  ..., 2.5894e-02,\n",
              "            3.3762e-01, 2.1293e-01],\n",
              "           [7.5653e-01, 8.1222e-01, 2.4329e-01,  ..., 7.2192e-01,\n",
              "            9.7364e-01, 8.8611e-01],\n",
              "           ...,\n",
              "           [7.0579e-01, 1.5517e-01, 2.2820e-01,  ..., 2.8145e-01,\n",
              "            7.6263e-01, 2.2311e-01],\n",
              "           [3.7580e-01, 1.6095e-01, 6.0187e-01,  ..., 9.1025e-01,\n",
              "            6.9287e-01, 4.1055e-02],\n",
              "           [3.2125e-01, 7.8643e-02, 3.9789e-01,  ..., 3.4638e-01,\n",
              "            5.5084e-01, 9.9275e-02]]],\n",
              "\n",
              "\n",
              "         [[[9.5537e-01, 8.5198e-01, 1.3847e-02,  ..., 8.5772e-01,\n",
              "            3.9367e-01, 8.0440e-01],\n",
              "           [4.7918e-01, 7.9185e-01, 7.5350e-01,  ..., 3.1164e-01,\n",
              "            1.2189e-01, 1.5213e-01],\n",
              "           [1.9760e-01, 9.3651e-01, 8.3058e-03,  ..., 6.4946e-01,\n",
              "            1.6323e-01, 4.8890e-01],\n",
              "           ...,\n",
              "           [3.6030e-01, 7.7106e-01, 5.8325e-01,  ..., 5.6685e-03,\n",
              "            4.0487e-01, 1.1265e-01],\n",
              "           [4.0354e-02, 2.1592e-01, 8.9569e-01,  ..., 2.0854e-01,\n",
              "            6.7654e-01, 3.2279e-01],\n",
              "           [4.3066e-01, 1.6961e-01, 7.7206e-01,  ..., 3.4213e-01,\n",
              "            5.9066e-01, 8.6032e-01]],\n",
              "\n",
              "          [[6.4834e-01, 3.1576e-01, 5.5936e-01,  ..., 9.6934e-01,\n",
              "            7.3739e-01, 3.8669e-03],\n",
              "           [9.5197e-01, 4.0562e-01, 4.4231e-01,  ..., 9.0733e-01,\n",
              "            6.0937e-01, 5.2069e-01],\n",
              "           [1.5981e-01, 9.5988e-01, 4.6962e-01,  ..., 8.5605e-01,\n",
              "            3.3163e-03, 3.0075e-01],\n",
              "           ...,\n",
              "           [5.6362e-01, 2.6194e-01, 7.9139e-01,  ..., 2.7202e-02,\n",
              "            3.7466e-01, 2.6356e-01],\n",
              "           [8.8979e-02, 6.5718e-01, 8.7274e-01,  ..., 5.7206e-01,\n",
              "            7.0590e-01, 7.8374e-01],\n",
              "           [1.9099e-01, 8.8566e-01, 9.9897e-01,  ..., 2.4017e-01,\n",
              "            5.9625e-01, 3.2530e-01]],\n",
              "\n",
              "          [[9.6711e-01, 8.3928e-02, 2.9302e-01,  ..., 5.3911e-01,\n",
              "            5.9822e-01, 9.1234e-01],\n",
              "           [7.8028e-01, 5.0081e-02, 7.1407e-01,  ..., 9.4119e-01,\n",
              "            2.2945e-01, 7.4618e-01],\n",
              "           [4.9162e-01, 6.0275e-01, 2.8077e-01,  ..., 6.1121e-01,\n",
              "            3.1302e-01, 2.6609e-01],\n",
              "           ...,\n",
              "           [1.9846e-01, 3.4273e-01, 4.2478e-01,  ..., 9.8658e-01,\n",
              "            2.4264e-01, 8.1361e-01],\n",
              "           [9.3277e-01, 1.2611e-01, 1.5370e-01,  ..., 2.4959e-01,\n",
              "            6.0156e-01, 6.4785e-01],\n",
              "           [4.4983e-01, 3.3380e-02, 5.0471e-01,  ..., 8.8838e-01,\n",
              "            6.7584e-01, 8.8456e-01]],\n",
              "\n",
              "          ...,\n",
              "\n",
              "          [[1.8105e-02, 9.8071e-01, 4.5497e-01,  ..., 6.7077e-01,\n",
              "            8.0577e-01, 1.0075e-01],\n",
              "           [6.4249e-01, 5.6497e-01, 1.9723e-01,  ..., 5.3182e-01,\n",
              "            7.4560e-01, 7.7014e-01],\n",
              "           [6.2299e-01, 1.0685e-02, 6.1020e-02,  ..., 1.4125e-01,\n",
              "            2.8141e-01, 5.3716e-01],\n",
              "           ...,\n",
              "           [3.5359e-01, 3.1682e-01, 2.6335e-01,  ..., 1.1090e-01,\n",
              "            7.9621e-02, 8.8438e-01],\n",
              "           [2.0142e-01, 4.5866e-01, 3.0183e-01,  ..., 1.2914e-01,\n",
              "            4.6771e-01, 1.3407e-01],\n",
              "           [4.0464e-01, 2.6188e-01, 5.5936e-01,  ..., 4.3375e-01,\n",
              "            3.4200e-02, 8.1487e-01]],\n",
              "\n",
              "          [[1.5463e-01, 4.5619e-01, 1.2800e-01,  ..., 8.6149e-01,\n",
              "            5.5007e-01, 1.2055e-01],\n",
              "           [8.2732e-01, 7.9709e-01, 4.9637e-01,  ..., 2.5491e-01,\n",
              "            6.6316e-01, 2.2270e-01],\n",
              "           [1.3499e-01, 8.4781e-01, 9.8215e-02,  ..., 3.2954e-01,\n",
              "            7.6770e-01, 4.4654e-01],\n",
              "           ...,\n",
              "           [8.9630e-01, 6.0386e-01, 2.1196e-01,  ..., 6.0921e-01,\n",
              "            2.2632e-01, 8.0807e-01],\n",
              "           [8.7656e-02, 3.0984e-01, 7.7880e-01,  ..., 2.8718e-02,\n",
              "            3.5833e-02, 4.7425e-01],\n",
              "           [6.7245e-01, 6.8041e-01, 9.3448e-01,  ..., 8.3186e-01,\n",
              "            7.3156e-01, 6.2712e-02]],\n",
              "\n",
              "          [[7.8673e-01, 3.6486e-01, 5.7100e-01,  ..., 9.4817e-01,\n",
              "            7.8232e-01, 1.5854e-01],\n",
              "           [7.9802e-01, 1.1546e-01, 5.1191e-01,  ..., 5.5904e-01,\n",
              "            7.3492e-01, 3.7237e-01],\n",
              "           [8.9283e-01, 7.8263e-01, 4.4331e-01,  ..., 6.1089e-02,\n",
              "            5.3456e-02, 5.8080e-01],\n",
              "           ...,\n",
              "           [7.8691e-01, 7.8081e-02, 7.3694e-01,  ..., 5.1812e-01,\n",
              "            2.8362e-01, 6.4430e-01],\n",
              "           [2.8090e-01, 7.7789e-01, 8.2626e-01,  ..., 5.4906e-01,\n",
              "            7.0673e-01, 2.8777e-01],\n",
              "           [4.0118e-01, 7.6498e-01, 8.7354e-01,  ..., 8.6748e-01,\n",
              "            7.8908e-01, 8.1878e-02]]],\n",
              "\n",
              "\n",
              "         [[[5.6400e-01, 4.7192e-01, 2.9058e-01,  ..., 8.3198e-01,\n",
              "            9.7486e-02, 1.7226e-01],\n",
              "           [6.2171e-01, 1.7537e-01, 4.0830e-01,  ..., 4.6050e-02,\n",
              "            8.5916e-01, 8.5113e-01],\n",
              "           [1.8955e-01, 1.8774e-01, 7.5970e-01,  ..., 1.0559e-01,\n",
              "            1.3438e-01, 7.1278e-01],\n",
              "           ...,\n",
              "           [3.6660e-01, 1.3324e-01, 9.8146e-01,  ..., 7.8804e-01,\n",
              "            4.0131e-01, 3.6744e-01],\n",
              "           [6.2649e-01, 6.8154e-01, 8.9271e-01,  ..., 7.9635e-01,\n",
              "            9.4905e-01, 9.8409e-01],\n",
              "           [9.0372e-01, 1.4043e-01, 9.9396e-01,  ..., 5.5127e-02,\n",
              "            6.2380e-01, 5.1994e-02]],\n",
              "\n",
              "          [[2.0451e-01, 9.6607e-01, 5.9505e-01,  ..., 3.8640e-01,\n",
              "            5.4520e-01, 5.7626e-01],\n",
              "           [7.3794e-01, 3.2914e-01, 8.2078e-01,  ..., 8.0156e-01,\n",
              "            9.0196e-01, 1.9758e-01],\n",
              "           [2.7294e-01, 4.3510e-01, 4.5714e-01,  ..., 6.1581e-01,\n",
              "            5.0020e-01, 2.2784e-01],\n",
              "           ...,\n",
              "           [1.9321e-01, 6.0972e-01, 1.3522e-01,  ..., 1.2196e-01,\n",
              "            3.4152e-01, 2.5036e-01],\n",
              "           [8.0801e-01, 3.9426e-01, 5.1824e-01,  ..., 2.0300e-01,\n",
              "            3.1569e-01, 9.1739e-01],\n",
              "           [4.8495e-01, 6.0594e-01, 9.0308e-01,  ..., 6.0365e-01,\n",
              "            3.8828e-01, 4.2958e-01]],\n",
              "\n",
              "          [[6.3156e-01, 8.9500e-02, 1.2821e-04,  ..., 1.0246e-01,\n",
              "            5.5476e-01, 7.4828e-01],\n",
              "           [3.3036e-01, 9.5407e-01, 9.7951e-01,  ..., 2.5518e-01,\n",
              "            8.9701e-01, 7.4609e-01],\n",
              "           [8.0293e-01, 8.6023e-01, 2.0218e-01,  ..., 5.6313e-01,\n",
              "            9.1430e-01, 6.4297e-01],\n",
              "           ...,\n",
              "           [2.0164e-01, 1.6995e-01, 1.0385e-01,  ..., 7.2654e-01,\n",
              "            8.2337e-01, 2.4032e-01],\n",
              "           [5.0358e-01, 4.5274e-01, 4.7361e-01,  ..., 4.0162e-01,\n",
              "            8.4124e-01, 8.0390e-01],\n",
              "           [9.9717e-01, 3.9972e-01, 8.2164e-01,  ..., 1.4315e-01,\n",
              "            5.1177e-01, 4.4536e-01]],\n",
              "\n",
              "          ...,\n",
              "\n",
              "          [[6.4861e-01, 8.2266e-02, 2.0334e-01,  ..., 2.3602e-01,\n",
              "            4.0234e-01, 5.6138e-01],\n",
              "           [2.8169e-04, 4.6374e-01, 4.9618e-01,  ..., 2.7902e-01,\n",
              "            2.6106e-01, 3.6215e-01],\n",
              "           [5.6176e-01, 6.4344e-01, 7.0872e-01,  ..., 5.5004e-01,\n",
              "            5.2038e-01, 2.7823e-01],\n",
              "           ...,\n",
              "           [8.6230e-01, 5.8528e-01, 1.0905e-01,  ..., 4.0213e-01,\n",
              "            6.1228e-02, 5.7663e-02],\n",
              "           [2.2564e-01, 1.1874e-01, 4.2074e-01,  ..., 8.5621e-01,\n",
              "            2.1980e-01, 2.0931e-01],\n",
              "           [9.3881e-01, 4.5481e-01, 6.6129e-01,  ..., 9.6111e-01,\n",
              "            4.1645e-01, 3.7655e-01]],\n",
              "\n",
              "          [[4.0201e-01, 8.4987e-01, 1.2637e-01,  ..., 8.3060e-01,\n",
              "            8.5431e-01, 7.4875e-02],\n",
              "           [1.3821e-01, 8.7953e-01, 7.1159e-01,  ..., 7.3470e-02,\n",
              "            3.5036e-01, 8.3954e-01],\n",
              "           [3.0027e-01, 6.2602e-01, 3.0681e-01,  ..., 5.3387e-01,\n",
              "            4.1855e-01, 5.7066e-01],\n",
              "           ...,\n",
              "           [1.5360e-01, 1.1423e-02, 8.6925e-01,  ..., 5.8127e-01,\n",
              "            9.7046e-01, 5.7928e-01],\n",
              "           [3.4329e-01, 5.9520e-02, 5.3305e-01,  ..., 5.4730e-01,\n",
              "            2.1756e-01, 6.2193e-01],\n",
              "           [6.5086e-01, 1.6454e-01, 6.4525e-01,  ..., 8.3029e-01,\n",
              "            9.6004e-01, 3.5729e-01]],\n",
              "\n",
              "          [[1.5871e-01, 6.0760e-01, 3.0960e-01,  ..., 9.4520e-01,\n",
              "            6.8397e-01, 2.0201e-01],\n",
              "           [6.0842e-01, 9.7091e-01, 1.0397e-01,  ..., 1.1202e-01,\n",
              "            4.8728e-01, 8.3499e-01],\n",
              "           [6.1521e-01, 7.2241e-01, 9.1912e-01,  ..., 2.4175e-01,\n",
              "            9.0054e-02, 2.3291e-01],\n",
              "           ...,\n",
              "           [8.1932e-01, 5.9056e-01, 8.8935e-01,  ..., 2.3183e-01,\n",
              "            6.5424e-01, 6.4961e-01],\n",
              "           [9.4357e-01, 1.2788e-02, 4.3514e-01,  ..., 6.7703e-01,\n",
              "            4.0744e-02, 5.4140e-02],\n",
              "           [5.1897e-01, 5.3282e-02, 6.1524e-01,  ..., 7.7309e-01,\n",
              "            2.6580e-01, 7.0770e-01]]],\n",
              "\n",
              "\n",
              "         ...,\n",
              "\n",
              "\n",
              "         [[[6.9199e-01, 5.3150e-01, 8.9937e-01,  ..., 2.5476e-01,\n",
              "            4.6648e-01, 7.1758e-01],\n",
              "           [9.1157e-01, 6.1263e-01, 5.7864e-01,  ..., 3.9418e-01,\n",
              "            6.1101e-01, 3.4858e-01],\n",
              "           [6.0230e-01, 3.3588e-01, 2.7096e-02,  ..., 5.1476e-01,\n",
              "            4.0234e-01, 3.6912e-01],\n",
              "           ...,\n",
              "           [1.4179e-01, 9.8546e-01, 4.5381e-01,  ..., 8.5901e-01,\n",
              "            4.3210e-01, 6.8067e-01],\n",
              "           [7.0936e-01, 7.6511e-01, 5.1913e-01,  ..., 8.2300e-01,\n",
              "            4.5401e-01, 8.8443e-01],\n",
              "           [9.3852e-01, 1.1032e-01, 8.8794e-01,  ..., 3.2196e-01,\n",
              "            5.7054e-01, 8.8019e-01]],\n",
              "\n",
              "          [[7.1198e-01, 7.9135e-01, 2.8854e-01,  ..., 4.7448e-01,\n",
              "            8.1142e-01, 9.0654e-01],\n",
              "           [7.6285e-01, 1.7765e-01, 4.2675e-01,  ..., 1.6079e-01,\n",
              "            1.2465e-01, 4.7687e-01],\n",
              "           [7.7139e-03, 9.4215e-01, 7.1893e-01,  ..., 8.1991e-02,\n",
              "            5.8076e-01, 3.4587e-01],\n",
              "           ...,\n",
              "           [5.3101e-01, 3.0242e-01, 8.5965e-01,  ..., 3.5176e-01,\n",
              "            6.5663e-01, 8.8997e-01],\n",
              "           [3.0847e-01, 3.8538e-01, 3.2955e-02,  ..., 4.0313e-01,\n",
              "            6.8510e-01, 1.2264e-01],\n",
              "           [4.6962e-02, 3.7381e-01, 3.6391e-01,  ..., 8.3059e-01,\n",
              "            5.3915e-01, 2.4750e-01]],\n",
              "\n",
              "          [[4.3047e-01, 9.3768e-01, 6.0001e-01,  ..., 9.4167e-01,\n",
              "            9.2400e-01, 5.9092e-01],\n",
              "           [6.9149e-01, 8.1736e-01, 3.3543e-02,  ..., 5.7970e-02,\n",
              "            7.0032e-01, 2.3740e-01],\n",
              "           [1.0834e-01, 8.0206e-01, 1.8627e-01,  ..., 3.8733e-01,\n",
              "            7.4346e-01, 7.3052e-02],\n",
              "           ...,\n",
              "           [7.8682e-01, 8.1127e-01, 7.2520e-01,  ..., 2.8911e-01,\n",
              "            4.9557e-01, 1.3166e-01],\n",
              "           [1.3122e-01, 6.9053e-01, 2.6651e-01,  ..., 3.8521e-01,\n",
              "            3.1104e-01, 3.1082e-01],\n",
              "           [8.0744e-01, 2.5267e-01, 4.5837e-01,  ..., 6.1690e-01,\n",
              "            5.5241e-01, 9.5042e-01]],\n",
              "\n",
              "          ...,\n",
              "\n",
              "          [[1.7142e-01, 6.8779e-01, 5.1727e-01,  ..., 3.1199e-01,\n",
              "            1.6122e-01, 3.9092e-01],\n",
              "           [2.8566e-01, 9.4409e-01, 7.7889e-01,  ..., 6.1241e-01,\n",
              "            6.6750e-01, 2.6590e-01],\n",
              "           [3.6577e-01, 7.3242e-01, 6.5827e-01,  ..., 1.3158e-02,\n",
              "            7.5437e-01, 6.0265e-01],\n",
              "           ...,\n",
              "           [8.2670e-01, 5.3099e-01, 7.1828e-01,  ..., 5.7530e-01,\n",
              "            8.9715e-01, 9.0203e-01],\n",
              "           [1.9238e-01, 1.9298e-01, 6.0236e-01,  ..., 9.7457e-01,\n",
              "            3.2883e-01, 6.4080e-01],\n",
              "           [4.2575e-01, 7.2176e-01, 3.5510e-02,  ..., 4.9684e-01,\n",
              "            9.4032e-01, 4.1917e-01]],\n",
              "\n",
              "          [[5.4156e-01, 6.0057e-01, 4.4970e-01,  ..., 6.2809e-01,\n",
              "            1.0528e-01, 1.8927e-01],\n",
              "           [6.0307e-01, 3.8119e-01, 1.0645e-01,  ..., 6.8166e-01,\n",
              "            9.5953e-01, 7.0772e-01],\n",
              "           [4.8141e-01, 6.0709e-01, 2.7505e-01,  ..., 3.4651e-01,\n",
              "            4.1231e-02, 2.8723e-01],\n",
              "           ...,\n",
              "           [8.8668e-01, 2.3735e-01, 7.0902e-01,  ..., 6.1885e-01,\n",
              "            6.0619e-01, 5.2949e-01],\n",
              "           [5.4680e-01, 3.8003e-02, 5.4004e-01,  ..., 8.2648e-01,\n",
              "            5.1179e-02, 2.7829e-01],\n",
              "           [9.1385e-01, 2.2012e-01, 1.0180e-01,  ..., 5.2175e-01,\n",
              "            7.8313e-01, 7.0227e-01]],\n",
              "\n",
              "          [[6.8318e-01, 8.5553e-02, 9.4491e-01,  ..., 2.3906e-01,\n",
              "            9.3734e-01, 6.4868e-02],\n",
              "           [2.0571e-01, 2.3803e-01, 5.5503e-01,  ..., 2.6805e-02,\n",
              "            6.0906e-01, 9.0533e-01],\n",
              "           [6.4942e-01, 7.0659e-02, 9.3888e-02,  ..., 5.3106e-01,\n",
              "            3.3633e-01, 5.6857e-01],\n",
              "           ...,\n",
              "           [7.4652e-01, 3.6775e-01, 6.0271e-01,  ..., 4.5390e-01,\n",
              "            9.4083e-01, 6.7605e-01],\n",
              "           [3.6500e-01, 7.4317e-01, 8.5893e-01,  ..., 7.7322e-01,\n",
              "            2.3102e-01, 3.9686e-01],\n",
              "           [1.0071e-01, 3.3219e-01, 1.2601e-01,  ..., 7.1848e-01,\n",
              "            3.0652e-01, 4.4439e-01]]],\n",
              "\n",
              "\n",
              "         [[[7.2138e-01, 1.0558e-02, 2.4208e-02,  ..., 6.4593e-01,\n",
              "            5.3837e-01, 5.0253e-01],\n",
              "           [7.1313e-01, 6.9244e-01, 6.6255e-01,  ..., 4.6167e-01,\n",
              "            9.2893e-02, 6.5003e-02],\n",
              "           [2.3374e-01, 1.9804e-01, 6.3753e-01,  ..., 6.6978e-01,\n",
              "            5.8160e-02, 5.7366e-01],\n",
              "           ...,\n",
              "           [9.0823e-01, 9.1568e-01, 1.3639e-01,  ..., 1.1213e-01,\n",
              "            5.7848e-01, 5.0727e-01],\n",
              "           [6.9250e-02, 7.1899e-02, 4.6355e-01,  ..., 7.7928e-01,\n",
              "            1.7644e-01, 2.8271e-01],\n",
              "           [3.4102e-01, 1.1025e-01, 3.1508e-01,  ..., 4.7526e-01,\n",
              "            1.3160e-01, 2.8500e-01]],\n",
              "\n",
              "          [[8.2643e-01, 4.0023e-01, 3.3570e-01,  ..., 3.8368e-01,\n",
              "            2.4511e-01, 4.1203e-01],\n",
              "           [3.9696e-01, 7.9505e-01, 7.2219e-01,  ..., 7.3995e-01,\n",
              "            8.5723e-01, 2.3898e-01],\n",
              "           [1.5362e-01, 5.8925e-01, 2.6388e-01,  ..., 1.8013e-01,\n",
              "            9.7171e-02, 9.5387e-01],\n",
              "           ...,\n",
              "           [1.5205e-01, 2.3610e-01, 4.3721e-01,  ..., 4.9391e-01,\n",
              "            7.9982e-01, 3.8634e-01],\n",
              "           [8.5387e-01, 7.6492e-01, 8.6233e-01,  ..., 2.0504e-01,\n",
              "            4.0540e-01, 2.9004e-01],\n",
              "           [5.0777e-01, 9.9246e-01, 6.1846e-01,  ..., 4.3052e-01,\n",
              "            2.2032e-01, 1.0294e-01]],\n",
              "\n",
              "          [[3.6836e-01, 9.0001e-02, 2.2826e-02,  ..., 2.6160e-01,\n",
              "            3.5066e-01, 9.4011e-01],\n",
              "           [8.2144e-01, 2.8025e-02, 4.7404e-01,  ..., 9.7212e-01,\n",
              "            5.9981e-01, 9.1700e-01],\n",
              "           [3.4422e-02, 3.3988e-01, 6.1254e-01,  ..., 5.4347e-02,\n",
              "            2.8482e-01, 1.3921e-01],\n",
              "           ...,\n",
              "           [7.2601e-01, 5.7402e-02, 1.6709e-01,  ..., 4.9941e-01,\n",
              "            2.3582e-01, 8.7222e-01],\n",
              "           [5.6848e-01, 3.3437e-01, 5.8403e-01,  ..., 2.1103e-01,\n",
              "            4.3176e-01, 2.7799e-01],\n",
              "           [4.1278e-01, 6.3983e-01, 2.4848e-01,  ..., 1.8452e-01,\n",
              "            9.5473e-01, 2.1772e-03]],\n",
              "\n",
              "          ...,\n",
              "\n",
              "          [[5.1377e-01, 6.0478e-01, 3.1644e-01,  ..., 3.8068e-01,\n",
              "            3.2897e-01, 1.6906e-01],\n",
              "           [5.3401e-01, 4.8619e-03, 6.1822e-01,  ..., 9.0411e-01,\n",
              "            3.1869e-01, 6.9328e-02],\n",
              "           [2.7280e-01, 6.1809e-01, 8.5429e-01,  ..., 1.0821e-01,\n",
              "            7.5916e-01, 5.7904e-02],\n",
              "           ...,\n",
              "           [8.2149e-01, 8.8309e-01, 2.7618e-02,  ..., 1.9953e-01,\n",
              "            3.5581e-01, 6.2498e-01],\n",
              "           [4.1064e-01, 5.0355e-01, 1.9436e-01,  ..., 3.1553e-01,\n",
              "            9.9874e-01, 5.8585e-01],\n",
              "           [5.1680e-01, 4.1928e-01, 2.5947e-01,  ..., 2.3600e-01,\n",
              "            1.0514e-01, 2.0092e-01]],\n",
              "\n",
              "          [[7.0841e-01, 1.0929e-03, 9.9999e-01,  ..., 9.1816e-02,\n",
              "            4.0542e-02, 3.6564e-01],\n",
              "           [6.7735e-02, 7.9195e-01, 1.2768e-01,  ..., 9.4904e-01,\n",
              "            7.6004e-01, 1.0113e-01],\n",
              "           [3.4318e-01, 3.0537e-01, 5.5238e-01,  ..., 4.5035e-01,\n",
              "            4.3135e-01, 6.2597e-01],\n",
              "           ...,\n",
              "           [6.7519e-01, 1.9089e-01, 1.9948e-01,  ..., 1.7737e-01,\n",
              "            3.1319e-01, 1.6999e-02],\n",
              "           [5.6215e-01, 8.2429e-01, 5.4916e-01,  ..., 4.8457e-01,\n",
              "            6.9010e-03, 8.0059e-01],\n",
              "           [1.2735e-01, 7.9746e-01, 4.3097e-01,  ..., 3.8754e-01,\n",
              "            5.6709e-01, 1.7635e-01]],\n",
              "\n",
              "          [[4.7309e-01, 1.0957e-01, 6.6218e-01,  ..., 5.6309e-01,\n",
              "            9.4761e-01, 2.3156e-01],\n",
              "           [2.0515e-01, 5.2965e-01, 5.6506e-01,  ..., 8.3631e-02,\n",
              "            3.3008e-01, 4.2499e-01],\n",
              "           [9.5411e-01, 4.1809e-01, 9.8933e-01,  ..., 4.0177e-01,\n",
              "            3.3651e-01, 9.3315e-01],\n",
              "           ...,\n",
              "           [1.1740e-01, 7.0413e-01, 9.1675e-01,  ..., 1.5390e-01,\n",
              "            5.2328e-01, 4.5501e-01],\n",
              "           [7.5471e-01, 4.5430e-01, 6.1880e-02,  ..., 9.3642e-01,\n",
              "            1.9409e-01, 4.9799e-01],\n",
              "           [4.0874e-01, 2.5520e-01, 5.1113e-01,  ..., 9.7470e-01,\n",
              "            5.2350e-01, 6.9683e-01]]],\n",
              "\n",
              "\n",
              "         [[[1.5186e-01, 5.3467e-01, 2.7743e-01,  ..., 7.1227e-01,\n",
              "            5.5471e-01, 5.1603e-01],\n",
              "           [6.6997e-02, 8.6865e-01, 6.0462e-01,  ..., 4.9950e-01,\n",
              "            5.8060e-02, 5.0001e-01],\n",
              "           [7.0600e-01, 5.4767e-01, 6.3127e-01,  ..., 9.2075e-01,\n",
              "            2.0465e-01, 1.9067e-01],\n",
              "           ...,\n",
              "           [5.2399e-01, 7.9223e-01, 6.6564e-01,  ..., 5.4665e-01,\n",
              "            1.5890e-01, 3.3788e-01],\n",
              "           [7.1074e-01, 2.6565e-01, 2.8424e-01,  ..., 8.4706e-01,\n",
              "            1.9562e-01, 6.5633e-01],\n",
              "           [8.7446e-01, 3.5132e-01, 6.3977e-01,  ..., 2.4291e-01,\n",
              "            1.2606e-01, 2.1994e-02]],\n",
              "\n",
              "          [[8.3154e-01, 2.4905e-01, 8.1821e-01,  ..., 3.8186e-01,\n",
              "            5.7883e-01, 4.2826e-01],\n",
              "           [2.0105e-01, 1.7923e-01, 8.2053e-01,  ..., 9.9726e-01,\n",
              "            6.4248e-01, 1.2795e-01],\n",
              "           [2.7081e-01, 2.1091e-01, 1.8022e-01,  ..., 9.4911e-01,\n",
              "            8.2156e-01, 2.2442e-01],\n",
              "           ...,\n",
              "           [9.3656e-01, 9.9587e-01, 6.4783e-01,  ..., 9.6330e-01,\n",
              "            4.4103e-01, 6.0434e-01],\n",
              "           [4.1087e-01, 5.4869e-01, 9.6254e-01,  ..., 7.6521e-01,\n",
              "            6.4907e-01, 5.8633e-01],\n",
              "           [2.7517e-01, 9.5902e-01, 8.5791e-01,  ..., 9.9439e-01,\n",
              "            3.2781e-01, 3.6729e-01]],\n",
              "\n",
              "          [[4.4742e-01, 2.9588e-02, 4.8315e-02,  ..., 8.2716e-02,\n",
              "            6.6789e-01, 7.2836e-01],\n",
              "           [8.1554e-01, 4.1920e-01, 4.5424e-01,  ..., 9.5476e-01,\n",
              "            8.0968e-01, 1.3589e-01],\n",
              "           [8.1379e-01, 8.2902e-01, 4.7537e-01,  ..., 5.6745e-01,\n",
              "            9.6288e-01, 2.6445e-01],\n",
              "           ...,\n",
              "           [4.3327e-01, 5.3556e-01, 3.5975e-01,  ..., 2.9878e-01,\n",
              "            4.7821e-01, 6.1331e-01],\n",
              "           [1.6036e-01, 1.7651e-01, 7.2596e-03,  ..., 4.6103e-02,\n",
              "            7.7353e-02, 1.9228e-01],\n",
              "           [2.1617e-02, 2.3085e-01, 6.9181e-01,  ..., 3.8199e-01,\n",
              "            2.1209e-01, 6.2276e-01]],\n",
              "\n",
              "          ...,\n",
              "\n",
              "          [[4.0749e-01, 5.3496e-01, 2.0440e-01,  ..., 7.8061e-01,\n",
              "            3.3143e-01, 1.0176e-01],\n",
              "           [7.4075e-02, 2.5335e-01, 7.7642e-01,  ..., 4.4925e-01,\n",
              "            8.5141e-01, 5.3730e-01],\n",
              "           [4.7007e-01, 7.4929e-01, 7.7306e-01,  ..., 4.3437e-01,\n",
              "            2.9281e-01, 8.0745e-01],\n",
              "           ...,\n",
              "           [2.9465e-02, 9.6415e-01, 5.4014e-01,  ..., 9.5642e-01,\n",
              "            1.8013e-01, 9.8969e-01],\n",
              "           [1.3791e-01, 5.4158e-01, 7.8187e-01,  ..., 2.6321e-01,\n",
              "            1.6777e-01, 8.9253e-01],\n",
              "           [6.2628e-01, 3.2238e-01, 6.3100e-01,  ..., 6.9572e-02,\n",
              "            9.1285e-01, 6.0671e-01]],\n",
              "\n",
              "          [[8.9056e-01, 3.1430e-01, 2.8902e-01,  ..., 3.9622e-01,\n",
              "            5.4131e-01, 3.3401e-01],\n",
              "           [1.8569e-01, 5.5997e-01, 8.8945e-01,  ..., 6.6886e-02,\n",
              "            2.1688e-01, 4.2408e-02],\n",
              "           [3.0094e-01, 3.9249e-01, 8.7069e-02,  ..., 2.5206e-01,\n",
              "            6.1657e-01, 4.8964e-02],\n",
              "           ...,\n",
              "           [2.1814e-01, 3.4431e-03, 6.8530e-01,  ..., 1.0149e-01,\n",
              "            9.6611e-01, 1.4421e-01],\n",
              "           [2.0738e-01, 1.0685e-01, 3.5771e-01,  ..., 7.6162e-01,\n",
              "            9.7779e-01, 7.8629e-01],\n",
              "           [9.6948e-01, 5.7983e-01, 2.5763e-01,  ..., 8.4235e-01,\n",
              "            9.7651e-01, 1.7564e-01]],\n",
              "\n",
              "          [[1.6782e-01, 5.5242e-01, 4.2135e-01,  ..., 2.1156e-01,\n",
              "            8.2706e-01, 6.5722e-02],\n",
              "           [1.5442e-01, 9.7735e-01, 2.4166e-01,  ..., 8.8180e-01,\n",
              "            6.2070e-01, 6.3345e-01],\n",
              "           [5.3910e-01, 9.7224e-01, 2.1885e-01,  ..., 8.9870e-01,\n",
              "            2.0264e-01, 1.6617e-02],\n",
              "           ...,\n",
              "           [5.1058e-01, 3.7027e-01, 6.9039e-01,  ..., 9.5512e-01,\n",
              "            5.8777e-01, 3.3914e-01],\n",
              "           [3.5887e-01, 5.3602e-01, 8.4686e-01,  ..., 8.7423e-01,\n",
              "            8.2210e-01, 3.0219e-01],\n",
              "           [7.8755e-02, 7.9565e-01, 3.6407e-01,  ..., 6.1277e-01,\n",
              "            4.2294e-01, 8.7919e-01]]]],\n",
              "\n",
              "\n",
              "\n",
              "        ...,\n",
              "\n",
              "\n",
              "\n",
              "        [[[[8.8992e-02, 8.9081e-01, 5.3532e-01,  ..., 1.6926e-01,\n",
              "            7.5177e-01, 4.9106e-02],\n",
              "           [2.7487e-03, 6.5553e-01, 3.4655e-01,  ..., 8.5829e-01,\n",
              "            4.0298e-01, 8.9003e-01],\n",
              "           [5.8420e-01, 9.9824e-01, 3.9070e-01,  ..., 7.4174e-02,\n",
              "            9.5013e-01, 6.0357e-01],\n",
              "           ...,\n",
              "           [9.9618e-01, 9.6493e-02, 2.2773e-02,  ..., 9.0958e-01,\n",
              "            9.0782e-01, 5.9272e-01],\n",
              "           [7.1388e-01, 3.1181e-01, 7.4939e-01,  ..., 8.7963e-01,\n",
              "            2.5749e-01, 9.6054e-01],\n",
              "           [9.7222e-01, 1.7753e-01, 3.9811e-01,  ..., 8.4293e-01,\n",
              "            4.6548e-01, 7.6604e-03]],\n",
              "\n",
              "          [[7.7962e-01, 6.9920e-02, 6.3400e-01,  ..., 4.9865e-01,\n",
              "            8.4349e-01, 3.2357e-01],\n",
              "           [5.4974e-01, 3.2702e-01, 2.0762e-01,  ..., 1.4099e-01,\n",
              "            1.2604e-01, 4.9172e-01],\n",
              "           [6.5358e-01, 7.2968e-01, 6.4117e-01,  ..., 6.5208e-01,\n",
              "            4.9581e-01, 5.6476e-01],\n",
              "           ...,\n",
              "           [9.0953e-01, 4.8995e-01, 7.6125e-01,  ..., 8.7705e-01,\n",
              "            5.8878e-01, 4.7718e-01],\n",
              "           [5.9186e-02, 6.0862e-01, 9.0096e-01,  ..., 7.9211e-01,\n",
              "            1.0248e-01, 9.4875e-01],\n",
              "           [8.9825e-01, 2.0304e-01, 7.3201e-01,  ..., 3.2850e-01,\n",
              "            1.0329e-01, 1.2823e-01]],\n",
              "\n",
              "          [[4.0486e-01, 9.4251e-01, 2.9489e-01,  ..., 8.1680e-01,\n",
              "            1.6330e-01, 1.6202e-01],\n",
              "           [1.2753e-01, 6.5535e-01, 6.5615e-01,  ..., 9.3287e-01,\n",
              "            4.4378e-01, 8.0006e-01],\n",
              "           [6.4453e-01, 7.1488e-01, 7.3469e-01,  ..., 2.8924e-01,\n",
              "            8.4945e-01, 2.4908e-02],\n",
              "           ...,\n",
              "           [1.7516e-01, 2.7165e-01, 2.7823e-01,  ..., 9.7199e-01,\n",
              "            4.1443e-01, 7.7436e-01],\n",
              "           [3.6220e-01, 5.8582e-01, 1.0214e-01,  ..., 2.5674e-01,\n",
              "            8.8239e-01, 9.0551e-01],\n",
              "           [7.1404e-01, 3.9274e-01, 5.1286e-01,  ..., 7.2013e-01,\n",
              "            4.0592e-01, 4.1763e-01]],\n",
              "\n",
              "          ...,\n",
              "\n",
              "          [[4.9149e-01, 6.7474e-01, 9.2128e-01,  ..., 6.9630e-01,\n",
              "            1.6434e-01, 7.4164e-01],\n",
              "           [8.5980e-02, 2.9783e-01, 8.3488e-01,  ..., 9.4288e-01,\n",
              "            7.8734e-01, 4.4731e-01],\n",
              "           [4.2781e-01, 4.5865e-01, 5.5959e-01,  ..., 7.7397e-01,\n",
              "            7.8634e-01, 7.3904e-01],\n",
              "           ...,\n",
              "           [5.0757e-01, 4.6646e-01, 5.7744e-03,  ..., 8.3532e-01,\n",
              "            8.9638e-01, 6.6288e-01],\n",
              "           [3.9305e-01, 7.1103e-01, 9.3867e-01,  ..., 6.0028e-01,\n",
              "            6.1954e-01, 4.9647e-01],\n",
              "           [3.1652e-01, 1.1710e-01, 2.0714e-01,  ..., 8.2279e-01,\n",
              "            9.7391e-01, 3.8749e-01]],\n",
              "\n",
              "          [[1.0681e-01, 4.4834e-01, 8.7815e-01,  ..., 6.7586e-01,\n",
              "            8.1196e-03, 8.9943e-01],\n",
              "           [7.1291e-01, 7.4903e-01, 7.5508e-01,  ..., 1.7263e-01,\n",
              "            1.0117e-01, 4.6003e-01],\n",
              "           [8.9193e-01, 3.9143e-01, 8.8905e-01,  ..., 2.7510e-01,\n",
              "            1.4209e-01, 4.4625e-01],\n",
              "           ...,\n",
              "           [2.7641e-01, 1.5436e-01, 5.0645e-01,  ..., 8.2058e-01,\n",
              "            5.6385e-01, 4.2075e-02],\n",
              "           [3.0541e-01, 1.0091e-01, 9.0534e-01,  ..., 3.9429e-01,\n",
              "            9.5929e-01, 8.5503e-01],\n",
              "           [2.9904e-01, 6.0223e-01, 2.5881e-01,  ..., 1.4353e-01,\n",
              "            8.5948e-01, 9.8906e-01]],\n",
              "\n",
              "          [[3.2731e-01, 3.3843e-01, 4.1961e-02,  ..., 5.3966e-01,\n",
              "            8.7981e-01, 7.7387e-01],\n",
              "           [3.2301e-01, 5.3103e-01, 4.2364e-01,  ..., 5.2293e-02,\n",
              "            7.7675e-01, 9.8082e-01],\n",
              "           [5.7688e-01, 4.0224e-01, 9.7647e-01,  ..., 8.1033e-01,\n",
              "            3.9663e-02, 6.3750e-01],\n",
              "           ...,\n",
              "           [8.8295e-01, 9.6372e-01, 2.0640e-01,  ..., 3.5139e-01,\n",
              "            2.8154e-01, 3.1744e-01],\n",
              "           [6.9981e-01, 9.9108e-01, 6.7976e-01,  ..., 1.1362e-01,\n",
              "            1.0800e-01, 1.7733e-01],\n",
              "           [6.3655e-02, 4.4844e-01, 7.3560e-01,  ..., 1.6435e-01,\n",
              "            4.5815e-01, 6.0109e-02]]],\n",
              "\n",
              "\n",
              "         [[[2.6707e-01, 4.9088e-01, 2.4338e-01,  ..., 1.6160e-01,\n",
              "            8.7887e-01, 4.6031e-01],\n",
              "           [7.2199e-01, 1.6989e-01, 2.8392e-01,  ..., 6.3200e-01,\n",
              "            1.3789e-01, 7.6720e-01],\n",
              "           [7.8975e-01, 4.9815e-01, 6.5645e-01,  ..., 8.7464e-01,\n",
              "            9.2865e-01, 4.6096e-01],\n",
              "           ...,\n",
              "           [1.5619e-01, 5.5895e-02, 8.2881e-01,  ..., 4.0012e-01,\n",
              "            9.7144e-01, 7.3513e-01],\n",
              "           [6.3114e-01, 4.4216e-01, 4.6888e-01,  ..., 7.0001e-01,\n",
              "            3.1241e-01, 8.3680e-01],\n",
              "           [9.5466e-01, 3.6926e-01, 5.4463e-01,  ..., 7.1945e-01,\n",
              "            1.2626e-01, 1.0082e-01]],\n",
              "\n",
              "          [[2.6253e-02, 8.9199e-01, 8.3031e-01,  ..., 2.4098e-01,\n",
              "            6.1248e-01, 7.3629e-01],\n",
              "           [1.6836e-01, 1.5564e-01, 2.0777e-01,  ..., 5.7126e-01,\n",
              "            7.3364e-01, 4.6236e-01],\n",
              "           [1.6208e-01, 6.9849e-01, 2.1901e-01,  ..., 1.6390e-01,\n",
              "            4.6998e-01, 6.2929e-01],\n",
              "           ...,\n",
              "           [8.7194e-01, 2.2631e-01, 3.7599e-01,  ..., 7.0425e-01,\n",
              "            7.6488e-01, 9.3730e-01],\n",
              "           [1.3356e-02, 8.3933e-01, 1.5423e-01,  ..., 8.7449e-01,\n",
              "            7.6195e-01, 6.8182e-01],\n",
              "           [3.0568e-01, 4.4494e-01, 1.5868e-01,  ..., 3.4609e-02,\n",
              "            8.7993e-01, 8.5680e-01]],\n",
              "\n",
              "          [[9.6025e-01, 3.7007e-01, 8.2200e-01,  ..., 9.2185e-01,\n",
              "            8.3489e-01, 9.5151e-01],\n",
              "           [8.9233e-01, 1.5814e-01, 4.7250e-02,  ..., 1.1102e-01,\n",
              "            4.9970e-01, 9.4351e-01],\n",
              "           [7.9997e-02, 7.9755e-01, 9.7890e-02,  ..., 9.6300e-01,\n",
              "            7.8946e-01, 3.2555e-01],\n",
              "           ...,\n",
              "           [7.6040e-01, 5.3596e-01, 7.7293e-03,  ..., 2.1381e-01,\n",
              "            2.2588e-01, 9.0203e-03],\n",
              "           [6.2030e-01, 6.9938e-01, 2.2400e-01,  ..., 5.1002e-01,\n",
              "            9.1707e-01, 3.2795e-01],\n",
              "           [9.0103e-01, 5.2606e-01, 3.2030e-01,  ..., 9.3940e-01,\n",
              "            3.4549e-01, 3.8106e-01]],\n",
              "\n",
              "          ...,\n",
              "\n",
              "          [[3.1412e-01, 7.4621e-01, 1.8315e-01,  ..., 1.7233e-01,\n",
              "            7.7596e-01, 8.0220e-01],\n",
              "           [2.7465e-01, 4.6062e-02, 2.5203e-01,  ..., 5.4025e-01,\n",
              "            3.9502e-01, 7.4514e-01],\n",
              "           [8.8840e-01, 4.7172e-01, 9.4980e-02,  ..., 1.0526e-01,\n",
              "            8.3561e-01, 2.0297e-01],\n",
              "           ...,\n",
              "           [1.0654e-02, 3.7076e-01, 2.8120e-01,  ..., 2.0371e-01,\n",
              "            7.5010e-01, 9.3894e-01],\n",
              "           [4.8969e-01, 2.2029e-01, 6.1924e-01,  ..., 8.5655e-01,\n",
              "            8.3896e-01, 3.1292e-01],\n",
              "           [8.3606e-01, 5.3301e-01, 2.9621e-01,  ..., 4.7516e-01,\n",
              "            6.7888e-02, 5.6056e-01]],\n",
              "\n",
              "          [[5.1187e-02, 1.8849e-01, 6.3819e-01,  ..., 9.4372e-02,\n",
              "            7.4009e-02, 6.9341e-01],\n",
              "           [6.0676e-01, 3.0262e-01, 9.1955e-01,  ..., 4.1221e-01,\n",
              "            9.3507e-01, 3.7536e-01],\n",
              "           [5.9805e-01, 3.7157e-01, 1.1756e-01,  ..., 4.6916e-01,\n",
              "            1.7458e-01, 6.5989e-01],\n",
              "           ...,\n",
              "           [5.7042e-01, 9.0150e-01, 8.9395e-01,  ..., 8.2252e-01,\n",
              "            3.4384e-01, 4.0298e-02],\n",
              "           [1.9862e-01, 7.0702e-01, 5.3262e-01,  ..., 8.2660e-01,\n",
              "            7.2899e-01, 4.9912e-01],\n",
              "           [6.3914e-01, 5.6513e-02, 4.5262e-01,  ..., 2.2367e-01,\n",
              "            9.2242e-01, 8.0778e-01]],\n",
              "\n",
              "          [[4.2339e-01, 4.5517e-03, 2.0731e-01,  ..., 9.5338e-01,\n",
              "            8.4873e-01, 5.3232e-01],\n",
              "           [9.1417e-01, 6.3414e-01, 7.9013e-01,  ..., 7.1794e-01,\n",
              "            9.0228e-01, 9.6749e-01],\n",
              "           [7.0425e-01, 5.7717e-01, 6.7663e-01,  ..., 9.2601e-01,\n",
              "            8.6409e-01, 2.3654e-01],\n",
              "           ...,\n",
              "           [3.1789e-01, 9.7641e-01, 1.2869e-01,  ..., 2.9470e-01,\n",
              "            6.9506e-01, 7.9301e-01],\n",
              "           [3.9659e-01, 7.6837e-01, 5.6150e-01,  ..., 1.4251e-01,\n",
              "            4.4349e-01, 6.1596e-02],\n",
              "           [3.7486e-01, 6.4003e-01, 1.8190e-01,  ..., 8.3893e-01,\n",
              "            8.8383e-01, 6.8392e-01]]],\n",
              "\n",
              "\n",
              "         [[[7.8111e-01, 4.5441e-01, 8.0621e-01,  ..., 4.7950e-01,\n",
              "            6.3874e-01, 9.9644e-01],\n",
              "           [1.4114e-01, 7.3619e-03, 4.9667e-01,  ..., 4.2275e-01,\n",
              "            2.3646e-01, 2.7322e-02],\n",
              "           [4.9762e-01, 9.1371e-01, 3.4390e-01,  ..., 1.9590e-01,\n",
              "            6.3110e-01, 7.7407e-01],\n",
              "           ...,\n",
              "           [8.1460e-02, 8.6443e-01, 7.9783e-01,  ..., 8.6456e-02,\n",
              "            1.2351e-01, 6.9006e-01],\n",
              "           [2.4001e-01, 1.3249e-01, 2.5517e-01,  ..., 2.2775e-01,\n",
              "            2.6664e-01, 7.7050e-01],\n",
              "           [4.9575e-01, 4.4454e-01, 4.3522e-01,  ..., 6.2738e-01,\n",
              "            2.1232e-01, 7.0040e-01]],\n",
              "\n",
              "          [[4.6732e-01, 6.4932e-01, 4.8327e-01,  ..., 6.1801e-01,\n",
              "            5.3637e-01, 7.0940e-01],\n",
              "           [3.9959e-01, 9.7534e-01, 8.2389e-01,  ..., 3.8318e-01,\n",
              "            6.5943e-01, 4.3522e-01],\n",
              "           [6.1410e-01, 9.7265e-01, 6.0730e-02,  ..., 8.6264e-01,\n",
              "            2.2946e-02, 4.8126e-01],\n",
              "           ...,\n",
              "           [4.2670e-01, 5.9353e-01, 7.3549e-01,  ..., 5.8218e-01,\n",
              "            5.2176e-01, 2.4304e-01],\n",
              "           [8.9535e-01, 1.4332e-01, 6.3950e-01,  ..., 6.5690e-01,\n",
              "            1.4054e-02, 7.4703e-01],\n",
              "           [2.9315e-01, 1.0675e-01, 7.6688e-01,  ..., 8.5117e-01,\n",
              "            3.5606e-01, 7.0471e-01]],\n",
              "\n",
              "          [[3.4251e-01, 9.7266e-01, 7.6277e-01,  ..., 5.9751e-01,\n",
              "            5.9545e-01, 8.7995e-01],\n",
              "           [7.2314e-01, 7.6532e-01, 3.7409e-01,  ..., 8.1107e-01,\n",
              "            5.8265e-01, 6.1186e-02],\n",
              "           [3.9731e-01, 4.3990e-01, 6.5364e-01,  ..., 4.9523e-01,\n",
              "            7.1036e-01, 5.9002e-01],\n",
              "           ...,\n",
              "           [1.5488e-01, 4.8316e-01, 9.1279e-01,  ..., 6.0143e-01,\n",
              "            2.9115e-01, 7.5431e-01],\n",
              "           [5.8304e-01, 4.6001e-01, 4.7974e-03,  ..., 9.4847e-01,\n",
              "            7.8546e-01, 9.3536e-02],\n",
              "           [9.7886e-01, 1.1547e-02, 4.5961e-01,  ..., 1.1953e-01,\n",
              "            1.6067e-01, 6.7873e-01]],\n",
              "\n",
              "          ...,\n",
              "\n",
              "          [[9.7928e-01, 6.8353e-01, 9.1241e-01,  ..., 6.3531e-01,\n",
              "            9.4709e-01, 4.1847e-01],\n",
              "           [3.0085e-01, 8.0906e-01, 6.6855e-01,  ..., 4.9921e-01,\n",
              "            6.6403e-01, 5.4978e-02],\n",
              "           [8.9214e-01, 3.1850e-01, 3.8666e-01,  ..., 4.3124e-01,\n",
              "            4.8785e-01, 4.8972e-01],\n",
              "           ...,\n",
              "           [4.4038e-01, 3.7454e-01, 1.6766e-01,  ..., 2.1823e-02,\n",
              "            1.5187e-01, 6.6667e-01],\n",
              "           [2.6240e-01, 2.7635e-01, 6.5759e-01,  ..., 9.6986e-01,\n",
              "            1.8726e-01, 2.1887e-01],\n",
              "           [8.9043e-02, 9.5961e-01, 2.3939e-01,  ..., 9.2201e-01,\n",
              "            6.5844e-01, 7.7125e-01]],\n",
              "\n",
              "          [[2.0752e-01, 2.5267e-01, 5.1205e-01,  ..., 6.5399e-02,\n",
              "            1.5401e-01, 3.9201e-01],\n",
              "           [5.0038e-01, 9.7423e-01, 6.0983e-01,  ..., 3.7472e-01,\n",
              "            9.1731e-01, 7.4137e-01],\n",
              "           [9.2993e-01, 7.3980e-01, 3.9909e-01,  ..., 5.8121e-01,\n",
              "            4.7276e-01, 8.9606e-01],\n",
              "           ...,\n",
              "           [3.8929e-01, 7.3998e-01, 8.8547e-01,  ..., 1.8208e-02,\n",
              "            7.6752e-01, 2.1358e-01],\n",
              "           [1.4422e-01, 6.9125e-01, 5.0525e-01,  ..., 2.2427e-01,\n",
              "            9.7349e-01, 4.7433e-01],\n",
              "           [5.7824e-01, 5.6005e-01, 2.9636e-01,  ..., 5.1581e-01,\n",
              "            6.4724e-01, 9.1558e-01]],\n",
              "\n",
              "          [[6.5734e-01, 5.7043e-01, 1.8582e-01,  ..., 9.0048e-01,\n",
              "            1.9247e-01, 5.0274e-02],\n",
              "           [1.8553e-01, 4.4487e-01, 3.0825e-01,  ..., 9.0452e-01,\n",
              "            9.2384e-01, 5.2785e-01],\n",
              "           [3.0816e-01, 8.3056e-01, 8.4097e-03,  ..., 9.0027e-01,\n",
              "            4.4238e-01, 9.6625e-01],\n",
              "           ...,\n",
              "           [6.7886e-01, 3.4144e-01, 4.8643e-01,  ..., 9.0170e-01,\n",
              "            9.8559e-01, 8.7835e-02],\n",
              "           [9.7037e-01, 2.0100e-01, 5.1895e-01,  ..., 7.9829e-01,\n",
              "            1.7672e-01, 6.9289e-01],\n",
              "           [5.3714e-01, 1.0231e-02, 6.5185e-01,  ..., 8.3884e-01,\n",
              "            3.2007e-02, 3.5909e-01]]],\n",
              "\n",
              "\n",
              "         ...,\n",
              "\n",
              "\n",
              "         [[[6.9322e-01, 7.4884e-01, 8.5974e-01,  ..., 3.4002e-02,\n",
              "            9.6823e-01, 3.4047e-01],\n",
              "           [1.4820e-02, 2.9886e-01, 1.8359e-01,  ..., 6.6812e-01,\n",
              "            3.5822e-01, 4.3485e-01],\n",
              "           [3.0585e-01, 4.1152e-01, 3.9805e-01,  ..., 9.6671e-02,\n",
              "            5.1163e-01, 5.0635e-01],\n",
              "           ...,\n",
              "           [7.0375e-01, 4.7061e-01, 2.3886e-01,  ..., 9.2786e-01,\n",
              "            8.4352e-01, 1.4870e-01],\n",
              "           [4.4636e-02, 3.7651e-01, 8.9055e-01,  ..., 4.4786e-02,\n",
              "            4.7202e-01, 8.8977e-01],\n",
              "           [2.3780e-01, 7.6048e-01, 8.8940e-01,  ..., 1.0999e-01,\n",
              "            2.7075e-01, 3.4694e-01]],\n",
              "\n",
              "          [[1.5870e-01, 2.9090e-01, 2.2928e-01,  ..., 3.9784e-01,\n",
              "            6.1504e-01, 5.7602e-01],\n",
              "           [8.5303e-01, 3.3290e-01, 4.8504e-01,  ..., 8.5072e-01,\n",
              "            1.5594e-01, 2.8889e-01],\n",
              "           [4.5364e-01, 9.5477e-01, 9.8424e-01,  ..., 4.6197e-01,\n",
              "            1.9497e-01, 7.8194e-02],\n",
              "           ...,\n",
              "           [3.8050e-01, 8.9474e-02, 7.3819e-01,  ..., 6.9394e-02,\n",
              "            9.1916e-02, 4.6914e-01],\n",
              "           [3.1801e-01, 9.1277e-01, 8.8041e-01,  ..., 1.2248e-01,\n",
              "            8.9462e-01, 1.7914e-01],\n",
              "           [5.1792e-01, 5.3779e-01, 2.9956e-01,  ..., 9.6365e-03,\n",
              "            7.9900e-01, 4.0527e-01]],\n",
              "\n",
              "          [[8.3956e-01, 9.2420e-01, 3.7297e-01,  ..., 3.3548e-01,\n",
              "            6.7276e-01, 8.1844e-01],\n",
              "           [5.6662e-01, 8.4388e-01, 4.2938e-01,  ..., 5.7223e-01,\n",
              "            1.6933e-01, 4.3020e-01],\n",
              "           [2.7373e-01, 5.6115e-01, 8.4462e-01,  ..., 6.4235e-01,\n",
              "            2.4821e-01, 8.1565e-01],\n",
              "           ...,\n",
              "           [5.4721e-01, 5.4631e-01, 8.5766e-02,  ..., 1.5515e-01,\n",
              "            8.1115e-01, 5.5960e-01],\n",
              "           [9.2408e-01, 6.1524e-01, 7.1888e-01,  ..., 6.5054e-01,\n",
              "            4.0754e-02, 4.6738e-01],\n",
              "           [7.8387e-01, 3.3935e-01, 8.3855e-01,  ..., 9.9975e-02,\n",
              "            4.5148e-01, 6.4071e-01]],\n",
              "\n",
              "          ...,\n",
              "\n",
              "          [[5.1352e-01, 9.7208e-02, 7.7831e-01,  ..., 9.4545e-01,\n",
              "            6.7516e-01, 7.1600e-01],\n",
              "           [9.6089e-01, 8.2624e-01, 5.5155e-01,  ..., 5.0591e-01,\n",
              "            9.9091e-01, 6.4333e-01],\n",
              "           [2.6093e-01, 6.4279e-01, 7.9197e-01,  ..., 4.7419e-02,\n",
              "            8.6966e-01, 7.2982e-01],\n",
              "           ...,\n",
              "           [2.9388e-01, 7.3019e-01, 8.3946e-01,  ..., 1.1552e-01,\n",
              "            2.7548e-01, 3.4885e-01],\n",
              "           [7.8218e-01, 4.3904e-01, 5.2752e-01,  ..., 5.6606e-01,\n",
              "            6.0955e-01, 1.4713e-02],\n",
              "           [9.6031e-01, 9.2298e-01, 6.9462e-01,  ..., 4.9072e-01,\n",
              "            5.4349e-02, 3.4184e-01]],\n",
              "\n",
              "          [[2.7944e-01, 2.7883e-01, 5.8575e-02,  ..., 7.4036e-01,\n",
              "            1.2128e-01, 9.1586e-01],\n",
              "           [6.2449e-02, 4.4389e-02, 1.5452e-01,  ..., 3.6203e-01,\n",
              "            9.4877e-01, 3.0646e-01],\n",
              "           [1.4370e-01, 7.5986e-01, 3.9900e-01,  ..., 4.7456e-01,\n",
              "            2.2745e-01, 5.9836e-01],\n",
              "           ...,\n",
              "           [7.3952e-01, 2.0343e-03, 1.5297e-02,  ..., 5.5248e-02,\n",
              "            5.1375e-01, 4.8087e-02],\n",
              "           [1.5226e-01, 7.8849e-02, 1.9294e-01,  ..., 2.5138e-01,\n",
              "            3.0895e-01, 4.2939e-01],\n",
              "           [3.5191e-01, 7.4841e-01, 4.2269e-01,  ..., 3.6788e-01,\n",
              "            7.0037e-01, 2.8110e-01]],\n",
              "\n",
              "          [[3.0106e-01, 2.7829e-01, 9.6917e-01,  ..., 4.0291e-01,\n",
              "            6.1845e-01, 5.5122e-01],\n",
              "           [6.4996e-01, 4.9574e-01, 8.2915e-01,  ..., 7.0379e-01,\n",
              "            7.4115e-01, 3.6944e-01],\n",
              "           [4.4125e-01, 3.8342e-01, 9.1975e-01,  ..., 3.3121e-01,\n",
              "            6.8503e-01, 6.4122e-02],\n",
              "           ...,\n",
              "           [5.0142e-01, 4.8210e-01, 8.0566e-01,  ..., 3.2590e-01,\n",
              "            7.4034e-01, 1.9176e-01],\n",
              "           [1.1726e-01, 8.9807e-01, 2.6655e-01,  ..., 6.7546e-01,\n",
              "            1.2545e-01, 1.1103e-01],\n",
              "           [3.0094e-01, 4.1248e-01, 2.4406e-01,  ..., 1.7668e-02,\n",
              "            2.3433e-01, 5.6198e-01]]],\n",
              "\n",
              "\n",
              "         [[[9.6081e-01, 4.2321e-01, 3.7459e-01,  ..., 5.2436e-01,\n",
              "            4.0905e-01, 5.9278e-01],\n",
              "           [4.9344e-02, 6.8099e-01, 8.0389e-01,  ..., 7.8484e-01,\n",
              "            9.2831e-01, 5.5988e-01],\n",
              "           [6.1279e-02, 5.2960e-01, 9.9773e-01,  ..., 5.5761e-01,\n",
              "            9.6868e-01, 5.0392e-01],\n",
              "           ...,\n",
              "           [4.2813e-01, 9.6807e-01, 4.2325e-02,  ..., 4.3924e-02,\n",
              "            3.6856e-01, 4.3988e-01],\n",
              "           [6.7664e-01, 3.7384e-01, 5.6273e-01,  ..., 6.4306e-01,\n",
              "            4.1182e-01, 9.1200e-01],\n",
              "           [1.7912e-01, 1.9341e-01, 1.4336e-01,  ..., 8.1699e-01,\n",
              "            3.0027e-01, 5.9229e-01]],\n",
              "\n",
              "          [[1.0327e-01, 2.0101e-01, 1.5856e-01,  ..., 4.3471e-01,\n",
              "            5.4678e-01, 5.2474e-01],\n",
              "           [1.4466e-04, 1.3766e-01, 9.8439e-01,  ..., 7.2626e-01,\n",
              "            7.2596e-01, 5.3965e-01],\n",
              "           [2.1991e-01, 9.2172e-01, 9.8457e-03,  ..., 6.7491e-01,\n",
              "            7.7985e-01, 1.1809e-01],\n",
              "           ...,\n",
              "           [5.4760e-01, 4.5285e-01, 7.5050e-01,  ..., 3.4933e-01,\n",
              "            7.6986e-01, 3.2312e-01],\n",
              "           [2.7322e-01, 1.2500e-01, 9.7930e-01,  ..., 6.2429e-01,\n",
              "            3.8317e-01, 6.6721e-01],\n",
              "           [7.6838e-01, 9.0286e-01, 5.3094e-01,  ..., 1.6563e-01,\n",
              "            8.1532e-01, 9.7481e-01]],\n",
              "\n",
              "          [[4.9541e-01, 3.4197e-01, 3.7939e-01,  ..., 1.2223e-01,\n",
              "            8.0464e-01, 7.5605e-01],\n",
              "           [7.0278e-01, 1.4746e-01, 9.7514e-01,  ..., 7.9928e-01,\n",
              "            1.3944e-01, 3.0625e-03],\n",
              "           [5.0254e-01, 1.7163e-02, 4.5852e-01,  ..., 2.4912e-01,\n",
              "            2.5349e-01, 2.0994e-01],\n",
              "           ...,\n",
              "           [5.7870e-01, 6.2126e-01, 5.4546e-01,  ..., 9.1147e-01,\n",
              "            9.5986e-02, 2.4797e-01],\n",
              "           [1.8585e-01, 2.7155e-01, 8.6348e-01,  ..., 6.1390e-01,\n",
              "            2.1591e-01, 6.3849e-01],\n",
              "           [2.4815e-01, 3.9933e-01, 5.5366e-01,  ..., 8.8537e-01,\n",
              "            9.3622e-01, 8.7873e-01]],\n",
              "\n",
              "          ...,\n",
              "\n",
              "          [[4.7313e-03, 4.7260e-01, 1.1848e-01,  ..., 4.9229e-01,\n",
              "            1.7469e-01, 7.8251e-01],\n",
              "           [2.2011e-01, 8.5687e-01, 5.0817e-01,  ..., 8.8261e-02,\n",
              "            2.8077e-01, 3.8792e-01],\n",
              "           [8.3075e-01, 1.6797e-01, 6.4451e-01,  ..., 9.1432e-01,\n",
              "            7.8945e-01, 8.2040e-01],\n",
              "           ...,\n",
              "           [7.6202e-01, 2.3508e-01, 6.2540e-01,  ..., 3.3133e-01,\n",
              "            2.7254e-01, 9.5113e-01],\n",
              "           [5.5690e-01, 7.8067e-01, 5.8337e-02,  ..., 2.1255e-01,\n",
              "            7.8924e-01, 5.0940e-01],\n",
              "           [8.7131e-01, 1.4905e-02, 1.5782e-01,  ..., 8.0921e-01,\n",
              "            9.8196e-01, 7.0637e-02]],\n",
              "\n",
              "          [[3.3239e-01, 6.8728e-01, 2.5810e-01,  ..., 8.2242e-01,\n",
              "            1.1909e-01, 1.6452e-01],\n",
              "           [4.4872e-01, 3.3397e-01, 1.9845e-01,  ..., 7.7508e-01,\n",
              "            2.4039e-01, 4.8472e-01],\n",
              "           [4.1019e-01, 1.4310e-01, 2.3189e-01,  ..., 9.1263e-02,\n",
              "            9.9040e-01, 8.2602e-02],\n",
              "           ...,\n",
              "           [5.2324e-01, 5.7000e-01, 5.5379e-01,  ..., 8.8300e-01,\n",
              "            7.5151e-01, 1.1285e-01],\n",
              "           [3.0910e-01, 1.2963e-01, 5.2253e-01,  ..., 4.8330e-01,\n",
              "            5.4920e-01, 6.7670e-01],\n",
              "           [5.4615e-01, 7.6125e-01, 4.5619e-01,  ..., 4.9679e-01,\n",
              "            6.2502e-01, 2.1755e-01]],\n",
              "\n",
              "          [[1.8835e-01, 7.6239e-01, 4.3491e-01,  ..., 9.7179e-01,\n",
              "            3.5046e-01, 4.4674e-01],\n",
              "           [1.2106e-01, 8.6368e-01, 5.5243e-01,  ..., 2.0711e-01,\n",
              "            2.0498e-01, 8.3849e-02],\n",
              "           [9.9406e-01, 4.5860e-01, 8.3673e-01,  ..., 1.9921e-01,\n",
              "            5.9495e-01, 4.3436e-01],\n",
              "           ...,\n",
              "           [5.5184e-01, 9.8810e-01, 7.9301e-02,  ..., 3.7265e-01,\n",
              "            9.2829e-01, 2.7706e-01],\n",
              "           [5.6445e-01, 3.4116e-01, 8.9575e-01,  ..., 4.1184e-01,\n",
              "            9.1898e-01, 5.9169e-02],\n",
              "           [5.5866e-01, 3.0253e-02, 2.8430e-02,  ..., 4.2513e-03,\n",
              "            5.6350e-02, 7.5180e-01]]],\n",
              "\n",
              "\n",
              "         [[[1.2257e-01, 3.3572e-01, 9.4824e-01,  ..., 9.4725e-01,\n",
              "            7.8437e-01, 2.1002e-01],\n",
              "           [1.8855e-01, 8.2883e-01, 2.3896e-01,  ..., 8.8846e-01,\n",
              "            2.8515e-01, 4.2650e-01],\n",
              "           [9.4894e-01, 2.9951e-01, 7.5199e-01,  ..., 8.6137e-01,\n",
              "            7.5027e-01, 5.4665e-01],\n",
              "           ...,\n",
              "           [4.8793e-01, 2.2231e-01, 6.1882e-01,  ..., 5.5018e-01,\n",
              "            1.0356e-01, 2.2970e-01],\n",
              "           [9.0708e-01, 4.9209e-01, 5.1412e-01,  ..., 2.0410e-01,\n",
              "            7.0851e-01, 5.2738e-01],\n",
              "           [3.0168e-01, 1.0201e-01, 5.8233e-01,  ..., 8.5746e-02,\n",
              "            2.6606e-02, 7.4298e-01]],\n",
              "\n",
              "          [[7.3009e-01, 5.9801e-02, 9.3001e-01,  ..., 4.4245e-01,\n",
              "            7.9348e-01, 2.6764e-01],\n",
              "           [5.9807e-01, 5.0520e-01, 7.3420e-01,  ..., 7.5182e-01,\n",
              "            4.7437e-01, 8.6753e-01],\n",
              "           [4.7228e-01, 1.3756e-01, 4.1290e-01,  ..., 1.2488e-01,\n",
              "            1.4000e-01, 9.5740e-01],\n",
              "           ...,\n",
              "           [9.2101e-01, 5.9814e-01, 8.6605e-01,  ..., 3.1377e-01,\n",
              "            3.4975e-01, 1.2108e-01],\n",
              "           [8.0457e-01, 3.2926e-01, 5.3082e-01,  ..., 1.1787e-01,\n",
              "            1.4844e-01, 8.6752e-01],\n",
              "           [1.6815e-01, 8.1446e-01, 5.3784e-01,  ..., 7.3249e-01,\n",
              "            4.5993e-01, 4.5521e-01]],\n",
              "\n",
              "          [[2.7144e-01, 2.0753e-01, 1.9324e-02,  ..., 4.4554e-01,\n",
              "            7.8519e-01, 5.8438e-01],\n",
              "           [5.3469e-01, 1.4161e-01, 9.5271e-01,  ..., 8.3722e-01,\n",
              "            8.4854e-01, 9.0221e-01],\n",
              "           [7.9282e-01, 8.2434e-01, 2.4901e-01,  ..., 8.2290e-01,\n",
              "            9.0922e-01, 1.6571e-01],\n",
              "           ...,\n",
              "           [4.6030e-01, 4.9684e-01, 5.8823e-01,  ..., 9.1317e-01,\n",
              "            5.5191e-01, 2.4669e-01],\n",
              "           [7.0040e-01, 4.6191e-01, 4.5716e-01,  ..., 3.2444e-01,\n",
              "            8.0115e-01, 6.3923e-01],\n",
              "           [4.9932e-01, 8.8295e-01, 2.5439e-01,  ..., 2.1951e-01,\n",
              "            5.4616e-01, 9.0617e-01]],\n",
              "\n",
              "          ...,\n",
              "\n",
              "          [[6.1673e-01, 9.2709e-01, 2.9717e-01,  ..., 7.4594e-01,\n",
              "            6.3860e-01, 8.8351e-01],\n",
              "           [7.0447e-01, 7.0010e-01, 7.4843e-01,  ..., 1.9504e-01,\n",
              "            7.3490e-01, 2.8403e-01],\n",
              "           [3.3628e-02, 3.0813e-01, 8.6744e-01,  ..., 8.6862e-01,\n",
              "            4.7438e-01, 5.0693e-01],\n",
              "           ...,\n",
              "           [3.9869e-01, 5.5327e-02, 9.3629e-01,  ..., 7.9167e-01,\n",
              "            2.7042e-01, 9.6238e-01],\n",
              "           [8.8542e-01, 6.0037e-01, 2.2669e-01,  ..., 6.7193e-01,\n",
              "            8.7888e-02, 1.1349e-01],\n",
              "           [4.5629e-01, 5.4203e-01, 5.3304e-01,  ..., 2.5477e-01,\n",
              "            9.3494e-01, 1.7760e-01]],\n",
              "\n",
              "          [[8.8507e-02, 4.6010e-01, 6.9365e-01,  ..., 6.3455e-02,\n",
              "            6.6881e-01, 6.7946e-01],\n",
              "           [1.5595e-01, 6.1686e-01, 2.5242e-01,  ..., 3.5990e-01,\n",
              "            8.1063e-01, 8.3269e-01],\n",
              "           [5.6052e-02, 2.0633e-01, 1.6131e-01,  ..., 5.4765e-01,\n",
              "            8.5675e-01, 1.5969e-01],\n",
              "           ...,\n",
              "           [3.6025e-01, 7.1037e-01, 1.6328e-01,  ..., 2.8356e-02,\n",
              "            2.2633e-01, 8.8791e-01],\n",
              "           [8.5896e-03, 5.5738e-01, 9.7717e-01,  ..., 7.4297e-01,\n",
              "            9.7333e-01, 1.8160e-01],\n",
              "           [3.3938e-02, 4.9108e-01, 4.1114e-01,  ..., 6.1650e-01,\n",
              "            2.4658e-01, 2.9227e-01]],\n",
              "\n",
              "          [[9.6014e-01, 4.0504e-01, 4.7067e-01,  ..., 9.1434e-01,\n",
              "            7.2583e-01, 2.3135e-01],\n",
              "           [7.7071e-01, 7.4076e-01, 2.4289e-02,  ..., 3.5805e-01,\n",
              "            7.8080e-01, 2.2451e-01],\n",
              "           [5.3391e-01, 1.1994e-01, 2.3845e-01,  ..., 3.6774e-01,\n",
              "            7.6434e-01, 8.4156e-02],\n",
              "           ...,\n",
              "           [3.6083e-01, 1.5918e-01, 7.8426e-01,  ..., 2.3631e-02,\n",
              "            8.1474e-01, 6.7905e-02],\n",
              "           [2.1168e-01, 6.5926e-01, 2.2980e-01,  ..., 9.4920e-01,\n",
              "            2.5274e-01, 1.6781e-01],\n",
              "           [7.4048e-02, 8.6261e-01, 5.1255e-01,  ..., 3.7841e-01,\n",
              "            1.6011e-01, 9.8702e-01]]]],\n",
              "\n",
              "\n",
              "\n",
              "        [[[[7.6271e-01, 2.3240e-01, 3.2780e-01,  ..., 7.0314e-01,\n",
              "            7.2876e-01, 3.3393e-01],\n",
              "           [2.0363e-01, 6.6436e-01, 1.2708e-01,  ..., 8.5557e-01,\n",
              "            7.3782e-01, 6.7341e-01],\n",
              "           [3.8222e-01, 5.8785e-01, 1.1788e-01,  ..., 8.0848e-01,\n",
              "            8.5704e-01, 3.5394e-02],\n",
              "           ...,\n",
              "           [3.6168e-01, 5.4880e-01, 8.5902e-01,  ..., 7.6011e-01,\n",
              "            9.5575e-01, 7.1092e-01],\n",
              "           [8.9578e-01, 3.7112e-01, 6.4857e-01,  ..., 5.4801e-01,\n",
              "            7.3674e-01, 5.6148e-01],\n",
              "           [9.8742e-01, 9.1812e-01, 5.0075e-01,  ..., 9.6564e-01,\n",
              "            8.9471e-01, 5.3408e-01]],\n",
              "\n",
              "          [[5.5353e-01, 2.5138e-02, 1.7697e-01,  ..., 3.9823e-01,\n",
              "            4.7304e-01, 2.1715e-01],\n",
              "           [2.6863e-01, 5.8141e-01, 4.0588e-01,  ..., 2.3848e-01,\n",
              "            5.1849e-01, 3.7373e-01],\n",
              "           [6.3651e-01, 2.0666e-02, 2.3244e-01,  ..., 1.7506e-02,\n",
              "            3.9820e-01, 5.3870e-01],\n",
              "           ...,\n",
              "           [9.0182e-01, 6.8826e-01, 2.5462e-01,  ..., 8.6144e-01,\n",
              "            7.2541e-01, 7.6106e-01],\n",
              "           [7.3488e-01, 5.2091e-01, 1.0468e-03,  ..., 8.3285e-01,\n",
              "            4.9423e-01, 8.7561e-01],\n",
              "           [4.1077e-02, 4.1405e-01, 3.7523e-01,  ..., 5.8507e-01,\n",
              "            9.1557e-01, 5.6261e-01]],\n",
              "\n",
              "          [[9.8766e-01, 1.6511e-01, 6.3610e-01,  ..., 8.7689e-01,\n",
              "            5.2673e-01, 6.1989e-01],\n",
              "           [9.7076e-01, 1.6540e-01, 3.2118e-01,  ..., 7.5006e-01,\n",
              "            1.0087e-01, 3.4880e-01],\n",
              "           [8.1004e-01, 5.9290e-01, 1.0901e-01,  ..., 3.3529e-01,\n",
              "            3.0083e-01, 8.3102e-01],\n",
              "           ...,\n",
              "           [8.8908e-01, 2.7225e-01, 7.9943e-01,  ..., 2.2471e-01,\n",
              "            6.6278e-01, 3.7589e-01],\n",
              "           [1.2224e-02, 4.8937e-03, 6.0491e-01,  ..., 2.1750e-02,\n",
              "            1.4154e-01, 4.6148e-01],\n",
              "           [9.8870e-02, 5.1823e-01, 4.6643e-01,  ..., 1.2561e-01,\n",
              "            6.6210e-01, 3.2988e-01]],\n",
              "\n",
              "          ...,\n",
              "\n",
              "          [[2.8947e-01, 7.9875e-01, 1.5565e-01,  ..., 7.6306e-02,\n",
              "            9.5803e-01, 9.1984e-01],\n",
              "           [2.5851e-01, 3.8777e-01, 8.1782e-01,  ..., 5.8237e-01,\n",
              "            3.1040e-02, 3.3885e-01],\n",
              "           [2.9039e-01, 8.9953e-01, 2.7366e-01,  ..., 3.9573e-01,\n",
              "            2.4786e-01, 6.6622e-01],\n",
              "           ...,\n",
              "           [4.8243e-01, 4.0419e-01, 6.3243e-02,  ..., 8.5251e-01,\n",
              "            1.1362e-01, 1.6209e-01],\n",
              "           [9.2878e-02, 5.2985e-01, 6.0129e-01,  ..., 1.0913e-01,\n",
              "            9.6740e-01, 4.7780e-01],\n",
              "           [7.6440e-01, 5.0176e-01, 9.8558e-01,  ..., 9.3434e-01,\n",
              "            6.7369e-01, 4.4474e-01]],\n",
              "\n",
              "          [[2.7455e-01, 8.8354e-01, 1.7164e-01,  ..., 1.2028e-01,\n",
              "            5.4444e-01, 7.4776e-01],\n",
              "           [5.0789e-01, 9.7855e-01, 6.1738e-01,  ..., 4.9037e-01,\n",
              "            8.4461e-02, 3.2465e-01],\n",
              "           [5.3913e-01, 8.1937e-01, 6.4053e-01,  ..., 8.7407e-01,\n",
              "            2.2525e-02, 9.9344e-01],\n",
              "           ...,\n",
              "           [9.3815e-01, 3.0483e-01, 3.0374e-02,  ..., 1.2245e-01,\n",
              "            9.7893e-01, 6.6134e-01],\n",
              "           [6.1194e-01, 2.7443e-01, 5.3606e-01,  ..., 7.2089e-01,\n",
              "            9.4763e-01, 9.5380e-01],\n",
              "           [8.0134e-01, 1.2856e-01, 2.9104e-01,  ..., 5.1779e-01,\n",
              "            7.7713e-01, 8.7495e-01]],\n",
              "\n",
              "          [[5.5738e-01, 3.9270e-02, 3.9178e-01,  ..., 2.7598e-01,\n",
              "            5.5420e-01, 9.0811e-01],\n",
              "           [9.1882e-01, 5.8627e-01, 4.8816e-01,  ..., 7.5256e-01,\n",
              "            6.1220e-01, 3.5398e-01],\n",
              "           [3.8147e-01, 4.9142e-02, 5.0397e-01,  ..., 4.7146e-01,\n",
              "            8.6532e-01, 3.7407e-01],\n",
              "           ...,\n",
              "           [5.7239e-01, 8.4749e-02, 7.3873e-01,  ..., 2.6643e-03,\n",
              "            4.3967e-01, 3.3031e-02],\n",
              "           [7.2023e-01, 9.2085e-01, 6.1415e-01,  ..., 6.4392e-01,\n",
              "            7.9564e-01, 6.3326e-01],\n",
              "           [4.3260e-01, 9.5905e-01, 3.4520e-01,  ..., 4.1204e-01,\n",
              "            4.7605e-01, 5.6662e-01]]],\n",
              "\n",
              "\n",
              "         [[[1.4180e-01, 5.3516e-01, 9.5456e-01,  ..., 9.9940e-01,\n",
              "            7.5708e-01, 4.3899e-01],\n",
              "           [2.7529e-01, 8.5441e-01, 2.1742e-01,  ..., 7.7309e-01,\n",
              "            1.3306e-01, 3.0094e-01],\n",
              "           [1.7812e-01, 6.1399e-01, 1.0880e-02,  ..., 2.7415e-01,\n",
              "            1.9293e-01, 8.6168e-01],\n",
              "           ...,\n",
              "           [7.7865e-01, 4.8998e-01, 5.9482e-01,  ..., 9.9116e-01,\n",
              "            5.0153e-01, 9.4478e-01],\n",
              "           [1.1237e-01, 9.8202e-01, 1.9825e-01,  ..., 8.9995e-01,\n",
              "            7.0146e-01, 9.3453e-01],\n",
              "           [6.1852e-01, 4.6674e-01, 2.7225e-02,  ..., 8.5534e-02,\n",
              "            9.1914e-02, 6.4335e-02]],\n",
              "\n",
              "          [[8.7693e-01, 9.2599e-01, 6.6639e-02,  ..., 7.5685e-01,\n",
              "            9.3440e-01, 9.4782e-01],\n",
              "           [1.7983e-01, 4.6668e-01, 6.2203e-01,  ..., 2.4621e-01,\n",
              "            2.8762e-02, 9.1986e-01],\n",
              "           [5.2301e-01, 1.7696e-02, 6.7941e-01,  ..., 5.3894e-01,\n",
              "            7.2504e-01, 3.0156e-01],\n",
              "           ...,\n",
              "           [7.1159e-01, 9.6288e-02, 8.9398e-01,  ..., 5.9821e-01,\n",
              "            7.7732e-01, 6.7219e-01],\n",
              "           [3.2534e-02, 5.0874e-01, 6.5594e-03,  ..., 1.4535e-01,\n",
              "            9.2557e-01, 1.6748e-01],\n",
              "           [8.4495e-01, 2.0629e-01, 1.0603e-01,  ..., 3.2482e-02,\n",
              "            8.9147e-01, 5.7214e-01]],\n",
              "\n",
              "          [[3.4931e-01, 3.2664e-01, 4.1063e-01,  ..., 2.8386e-01,\n",
              "            7.4250e-01, 3.5727e-01],\n",
              "           [2.1034e-01, 8.9805e-01, 6.7946e-01,  ..., 7.1990e-01,\n",
              "            1.7013e-01, 4.8225e-01],\n",
              "           [2.3263e-02, 3.2896e-01, 1.8407e-01,  ..., 5.2093e-01,\n",
              "            6.5786e-01, 9.3802e-01],\n",
              "           ...,\n",
              "           [9.8980e-01, 3.4824e-01, 9.7523e-01,  ..., 5.1228e-01,\n",
              "            3.2108e-01, 4.0841e-01],\n",
              "           [2.1542e-01, 6.2335e-01, 4.5921e-01,  ..., 3.8065e-01,\n",
              "            6.8237e-01, 7.1250e-01],\n",
              "           [2.5161e-01, 4.6284e-02, 4.7533e-01,  ..., 6.6755e-01,\n",
              "            8.1669e-01, 2.6796e-01]],\n",
              "\n",
              "          ...,\n",
              "\n",
              "          [[7.5933e-01, 1.2642e-02, 1.6473e-01,  ..., 1.0650e-01,\n",
              "            3.3308e-01, 6.0354e-01],\n",
              "           [9.3312e-01, 8.8994e-01, 6.3213e-01,  ..., 3.0429e-02,\n",
              "            4.9540e-02, 4.0873e-01],\n",
              "           [6.0519e-02, 5.1870e-01, 3.3916e-01,  ..., 8.8760e-01,\n",
              "            1.3565e-01, 9.8535e-01],\n",
              "           ...,\n",
              "           [1.4829e-01, 6.4277e-02, 2.9655e-02,  ..., 8.1527e-01,\n",
              "            3.4931e-01, 7.9444e-01],\n",
              "           [8.1291e-01, 3.3762e-01, 9.9494e-01,  ..., 6.1492e-01,\n",
              "            3.1584e-02, 2.5070e-01],\n",
              "           [4.9248e-01, 2.1849e-01, 5.9832e-01,  ..., 9.3117e-01,\n",
              "            2.7444e-01, 1.6083e-01]],\n",
              "\n",
              "          [[8.1956e-01, 5.5007e-01, 9.2558e-01,  ..., 5.5905e-01,\n",
              "            5.1276e-01, 3.3621e-02],\n",
              "           [4.8688e-01, 2.4539e-01, 5.2809e-01,  ..., 1.4463e-01,\n",
              "            3.7169e-01, 6.7373e-01],\n",
              "           [4.7133e-02, 3.4054e-01, 6.6424e-01,  ..., 5.6978e-01,\n",
              "            7.9117e-01, 1.0194e-01],\n",
              "           ...,\n",
              "           [9.2260e-01, 5.3290e-01, 3.8605e-01,  ..., 7.3320e-01,\n",
              "            4.0504e-01, 8.7587e-01],\n",
              "           [5.4007e-01, 8.5502e-02, 4.4660e-01,  ..., 3.2221e-01,\n",
              "            4.7269e-01, 7.6293e-01],\n",
              "           [5.1161e-02, 2.3912e-01, 5.1335e-02,  ..., 1.8244e-01,\n",
              "            1.5517e-01, 6.2772e-01]],\n",
              "\n",
              "          [[4.0883e-01, 6.0590e-01, 3.3410e-01,  ..., 3.0355e-02,\n",
              "            1.0595e-01, 2.6096e-01],\n",
              "           [8.0646e-01, 9.5944e-01, 4.7189e-01,  ..., 7.2072e-01,\n",
              "            9.5094e-01, 3.4138e-01],\n",
              "           [4.3440e-01, 2.2382e-01, 6.7221e-01,  ..., 6.4481e-02,\n",
              "            3.5555e-01, 4.5507e-01],\n",
              "           ...,\n",
              "           [9.9709e-01, 3.3148e-01, 7.7248e-01,  ..., 4.8989e-01,\n",
              "            6.0821e-01, 1.1018e-01],\n",
              "           [5.4654e-01, 4.3575e-01, 4.0771e-01,  ..., 3.5072e-01,\n",
              "            6.8133e-01, 8.3678e-01],\n",
              "           [1.6462e-01, 3.8731e-01, 5.2275e-01,  ..., 5.2169e-01,\n",
              "            9.6415e-01, 1.1772e-01]]],\n",
              "\n",
              "\n",
              "         [[[3.8321e-01, 2.6261e-01, 7.0155e-01,  ..., 1.9579e-01,\n",
              "            5.2533e-01, 2.4637e-01],\n",
              "           [6.1682e-01, 5.6896e-01, 7.6139e-01,  ..., 3.9241e-01,\n",
              "            1.4996e-01, 3.3685e-01],\n",
              "           [9.2802e-01, 7.2088e-01, 7.7870e-01,  ..., 4.8750e-01,\n",
              "            2.5986e-02, 7.6662e-01],\n",
              "           ...,\n",
              "           [5.2205e-01, 8.9537e-01, 7.1876e-01,  ..., 5.8955e-01,\n",
              "            1.8543e-01, 1.0116e-02],\n",
              "           [7.9832e-01, 3.7004e-01, 3.7688e-01,  ..., 5.7014e-01,\n",
              "            8.5485e-01, 7.3575e-01],\n",
              "           [8.3047e-01, 7.0912e-01, 9.4290e-01,  ..., 9.4557e-01,\n",
              "            7.5962e-01, 5.9690e-01]],\n",
              "\n",
              "          [[5.7110e-01, 6.5982e-02, 6.8195e-01,  ..., 2.4222e-02,\n",
              "            1.1591e-02, 9.5013e-01],\n",
              "           [3.4829e-01, 6.3393e-01, 4.3454e-01,  ..., 7.6759e-01,\n",
              "            3.3232e-01, 8.3285e-01],\n",
              "           [8.3488e-01, 1.8837e-01, 5.2285e-01,  ..., 9.7585e-01,\n",
              "            3.4211e-01, 8.6273e-01],\n",
              "           ...,\n",
              "           [2.6925e-01, 4.0986e-01, 4.0979e-01,  ..., 8.4544e-01,\n",
              "            9.6551e-01, 2.7281e-01],\n",
              "           [9.0280e-01, 9.9051e-01, 1.7549e-01,  ..., 4.5702e-01,\n",
              "            4.4481e-01, 2.6380e-01],\n",
              "           [2.8773e-01, 2.1401e-01, 3.6600e-01,  ..., 7.0111e-01,\n",
              "            1.8477e-01, 4.3344e-01]],\n",
              "\n",
              "          [[4.0266e-01, 9.6028e-01, 5.5794e-01,  ..., 5.5370e-01,\n",
              "            5.1183e-01, 2.0618e-03],\n",
              "           [8.6718e-01, 2.9942e-01, 5.9875e-01,  ..., 3.9188e-01,\n",
              "            7.2200e-01, 5.1060e-01],\n",
              "           [4.0721e-01, 6.6426e-01, 9.9484e-01,  ..., 5.9266e-01,\n",
              "            4.9537e-01, 6.2358e-01],\n",
              "           ...,\n",
              "           [4.8409e-01, 9.6173e-01, 1.5769e-01,  ..., 3.6482e-01,\n",
              "            6.2372e-01, 2.5793e-01],\n",
              "           [1.6878e-01, 3.3997e-01, 4.9949e-01,  ..., 9.9445e-01,\n",
              "            7.7653e-01, 5.0197e-01],\n",
              "           [3.6216e-01, 3.0200e-01, 5.2051e-01,  ..., 6.1776e-01,\n",
              "            7.6873e-01, 2.9987e-01]],\n",
              "\n",
              "          ...,\n",
              "\n",
              "          [[3.1132e-01, 3.1176e-01, 5.6878e-01,  ..., 4.7313e-02,\n",
              "            9.0603e-01, 2.0722e-01],\n",
              "           [8.4293e-01, 2.4970e-01, 6.7742e-02,  ..., 1.2627e-01,\n",
              "            7.8125e-01, 2.2564e-01],\n",
              "           [8.5478e-01, 6.1463e-01, 7.2577e-01,  ..., 9.5320e-02,\n",
              "            4.2073e-01, 4.1717e-01],\n",
              "           ...,\n",
              "           [1.5283e-02, 7.7787e-01, 1.9155e-01,  ..., 8.7811e-01,\n",
              "            9.0114e-01, 1.8908e-01],\n",
              "           [8.2325e-01, 8.7210e-01, 6.5840e-01,  ..., 4.8037e-02,\n",
              "            2.1668e-01, 9.0870e-01],\n",
              "           [4.5412e-01, 5.1466e-01, 4.1319e-02,  ..., 2.6035e-01,\n",
              "            3.3429e-01, 8.0721e-01]],\n",
              "\n",
              "          [[3.9840e-01, 6.4436e-01, 4.5792e-01,  ..., 4.9017e-01,\n",
              "            8.4187e-01, 8.1221e-01],\n",
              "           [7.3456e-01, 7.9426e-01, 1.9038e-01,  ..., 8.6321e-01,\n",
              "            7.9968e-01, 7.2353e-01],\n",
              "           [6.9523e-01, 2.6772e-01, 7.3879e-01,  ..., 6.8348e-01,\n",
              "            4.6971e-01, 7.5547e-01],\n",
              "           ...,\n",
              "           [6.7269e-01, 1.8485e-01, 3.7318e-01,  ..., 5.1876e-01,\n",
              "            3.4552e-01, 1.4305e-01],\n",
              "           [7.2117e-01, 9.6400e-02, 4.1196e-01,  ..., 1.2609e-01,\n",
              "            4.5323e-01, 8.1186e-01],\n",
              "           [5.1037e-01, 2.5847e-01, 3.0030e-01,  ..., 5.8504e-01,\n",
              "            7.3195e-01, 2.2905e-01]],\n",
              "\n",
              "          [[3.3747e-01, 9.1731e-01, 9.3552e-01,  ..., 9.0848e-01,\n",
              "            4.3046e-01, 7.1907e-01],\n",
              "           [6.2673e-01, 7.7357e-01, 6.3964e-03,  ..., 9.7811e-01,\n",
              "            9.4366e-01, 3.0311e-01],\n",
              "           [7.1764e-01, 1.7138e-01, 8.5775e-01,  ..., 4.7640e-01,\n",
              "            5.5603e-01, 7.2998e-01],\n",
              "           ...,\n",
              "           [7.5956e-01, 4.0504e-01, 5.5090e-01,  ..., 2.9665e-01,\n",
              "            4.0047e-01, 6.3463e-01],\n",
              "           [4.3586e-01, 7.9140e-01, 3.6938e-01,  ..., 2.5886e-01,\n",
              "            3.9745e-01, 1.5757e-01],\n",
              "           [5.9286e-01, 9.1520e-01, 3.1368e-01,  ..., 3.0263e-01,\n",
              "            9.7928e-01, 2.2656e-01]]],\n",
              "\n",
              "\n",
              "         ...,\n",
              "\n",
              "\n",
              "         [[[1.3956e-01, 5.2029e-01, 5.1115e-01,  ..., 4.5629e-01,\n",
              "            8.4604e-02, 9.8233e-01],\n",
              "           [1.4762e-01, 5.0495e-01, 7.0348e-01,  ..., 2.8986e-01,\n",
              "            2.9123e-01, 4.5548e-01],\n",
              "           [9.1483e-01, 9.7532e-01, 1.7565e-01,  ..., 2.2634e-01,\n",
              "            8.6867e-01, 1.0402e-01],\n",
              "           ...,\n",
              "           [7.2687e-01, 5.8995e-01, 8.6856e-01,  ..., 7.1649e-01,\n",
              "            6.2676e-01, 3.0585e-01],\n",
              "           [6.0961e-01, 8.4506e-01, 9.1261e-01,  ..., 6.7092e-01,\n",
              "            7.6243e-01, 7.8293e-01],\n",
              "           [2.5860e-01, 7.1731e-01, 9.2438e-01,  ..., 4.0455e-01,\n",
              "            3.9636e-02, 1.1842e-01]],\n",
              "\n",
              "          [[9.4714e-02, 2.3571e-01, 3.5818e-01,  ..., 3.7720e-01,\n",
              "            6.4553e-01, 9.3014e-02],\n",
              "           [2.7694e-02, 5.9315e-01, 5.8835e-01,  ..., 1.4147e-01,\n",
              "            5.7032e-02, 4.1624e-01],\n",
              "           [8.2799e-01, 5.0644e-01, 6.8887e-01,  ..., 6.8246e-01,\n",
              "            7.4122e-01, 3.8988e-01],\n",
              "           ...,\n",
              "           [5.6991e-01, 3.8007e-01, 5.3686e-01,  ..., 2.6847e-02,\n",
              "            1.8419e-01, 4.0468e-01],\n",
              "           [5.4495e-01, 2.4595e-01, 9.7390e-01,  ..., 2.4091e-01,\n",
              "            6.2340e-01, 1.3383e-01],\n",
              "           [4.6758e-01, 3.5769e-01, 8.9728e-01,  ..., 8.0732e-01,\n",
              "            9.1173e-02, 7.6343e-02]],\n",
              "\n",
              "          [[4.2943e-01, 1.4159e-01, 7.6533e-01,  ..., 7.1029e-01,\n",
              "            1.0459e-02, 5.4084e-01],\n",
              "           [9.6421e-01, 2.7821e-01, 8.1161e-01,  ..., 7.6392e-01,\n",
              "            9.5308e-01, 2.4532e-01],\n",
              "           [5.2573e-01, 7.4434e-02, 2.2993e-01,  ..., 8.5053e-01,\n",
              "            8.2459e-01, 4.8896e-01],\n",
              "           ...,\n",
              "           [9.8095e-02, 2.9813e-01, 8.7859e-02,  ..., 3.8633e-01,\n",
              "            7.4667e-01, 6.0936e-02],\n",
              "           [5.7275e-01, 2.7863e-01, 2.4862e-01,  ..., 1.6379e-01,\n",
              "            8.4225e-01, 5.6313e-01],\n",
              "           [1.1519e-01, 9.8560e-01, 6.6813e-01,  ..., 9.7800e-01,\n",
              "            8.9340e-01, 7.7759e-01]],\n",
              "\n",
              "          ...,\n",
              "\n",
              "          [[6.1270e-01, 7.3946e-01, 4.1156e-01,  ..., 3.0603e-01,\n",
              "            1.7749e-01, 6.9010e-01],\n",
              "           [9.6156e-01, 2.9035e-01, 3.9759e-01,  ..., 5.1730e-01,\n",
              "            2.8715e-01, 7.4198e-01],\n",
              "           [2.3148e-01, 1.4684e-01, 8.0348e-01,  ..., 8.1462e-01,\n",
              "            2.6999e-01, 9.8601e-02],\n",
              "           ...,\n",
              "           [8.3325e-01, 9.8846e-02, 1.8739e-01,  ..., 8.4668e-01,\n",
              "            5.3161e-01, 4.5643e-01],\n",
              "           [2.4538e-02, 8.8591e-01, 2.3336e-01,  ..., 8.7668e-01,\n",
              "            3.0674e-01, 2.5473e-01],\n",
              "           [8.5644e-01, 8.9122e-01, 4.7819e-01,  ..., 3.0490e-01,\n",
              "            9.3121e-01, 9.2517e-01]],\n",
              "\n",
              "          [[8.3207e-02, 6.7981e-01, 2.7242e-01,  ..., 7.8946e-01,\n",
              "            3.7668e-01, 6.0277e-01],\n",
              "           [7.7652e-01, 6.6805e-01, 7.2954e-01,  ..., 2.7705e-01,\n",
              "            5.8249e-01, 8.7742e-01],\n",
              "           [5.9474e-01, 6.7031e-02, 3.7236e-02,  ..., 6.0088e-01,\n",
              "            8.3096e-01, 3.5649e-01],\n",
              "           ...,\n",
              "           [8.2223e-01, 8.8895e-01, 7.4899e-01,  ..., 9.4015e-01,\n",
              "            2.4507e-01, 8.6607e-01],\n",
              "           [4.6465e-01, 3.1125e-01, 9.5755e-01,  ..., 2.6543e-01,\n",
              "            9.7159e-01, 3.8069e-01],\n",
              "           [9.4106e-02, 1.1742e-01, 2.1066e-01,  ..., 4.2986e-01,\n",
              "            5.4076e-01, 8.5980e-01]],\n",
              "\n",
              "          [[5.1548e-01, 8.5411e-01, 2.6763e-01,  ..., 4.7546e-01,\n",
              "            2.2734e-02, 2.2658e-01],\n",
              "           [9.3706e-01, 5.4248e-01, 2.2447e-01,  ..., 6.0296e-01,\n",
              "            3.6324e-01, 9.3756e-01],\n",
              "           [4.5673e-01, 1.1036e-01, 4.1032e-01,  ..., 9.1207e-01,\n",
              "            8.6658e-01, 8.9394e-02],\n",
              "           ...,\n",
              "           [9.1950e-01, 4.3675e-01, 5.9828e-01,  ..., 3.7430e-01,\n",
              "            8.6475e-01, 2.7992e-01],\n",
              "           [5.4488e-01, 9.0736e-02, 9.5810e-01,  ..., 1.7561e-01,\n",
              "            2.1783e-01, 4.3683e-01],\n",
              "           [8.7267e-01, 7.3808e-01, 7.5982e-01,  ..., 1.3535e-01,\n",
              "            7.0433e-01, 2.2871e-01]]],\n",
              "\n",
              "\n",
              "         [[[3.6463e-02, 8.5681e-01, 6.0101e-01,  ..., 1.1854e-01,\n",
              "            5.1814e-01, 6.4862e-01],\n",
              "           [5.1148e-01, 9.9806e-01, 9.4576e-01,  ..., 8.0789e-01,\n",
              "            6.4547e-01, 5.5314e-01],\n",
              "           [9.1513e-01, 1.5576e-01, 4.7230e-01,  ..., 7.6694e-01,\n",
              "            2.9377e-01, 8.7314e-01],\n",
              "           ...,\n",
              "           [8.6686e-01, 4.6311e-02, 3.1393e-01,  ..., 7.2083e-01,\n",
              "            9.5110e-01, 1.0535e-01],\n",
              "           [5.2119e-01, 9.1315e-01, 7.4211e-01,  ..., 9.6654e-01,\n",
              "            9.3843e-01, 9.1838e-01],\n",
              "           [2.5754e-01, 6.0423e-01, 5.0037e-01,  ..., 9.4122e-01,\n",
              "            9.2917e-01, 2.0625e-01]],\n",
              "\n",
              "          [[6.6816e-02, 6.3912e-01, 9.8646e-01,  ..., 3.5546e-01,\n",
              "            9.8709e-01, 4.7316e-01],\n",
              "           [9.0667e-01, 1.2774e-01, 1.9533e-01,  ..., 6.3787e-01,\n",
              "            8.4949e-01, 8.0828e-01],\n",
              "           [6.4998e-01, 1.2598e-01, 6.4476e-01,  ..., 8.3862e-02,\n",
              "            8.8107e-01, 7.5385e-01],\n",
              "           ...,\n",
              "           [7.4882e-02, 1.6743e-01, 6.5889e-01,  ..., 3.2355e-01,\n",
              "            1.0087e-01, 7.0182e-01],\n",
              "           [4.6640e-01, 5.5645e-01, 1.1234e-01,  ..., 6.2698e-01,\n",
              "            3.3299e-01, 7.0565e-01],\n",
              "           [4.7570e-01, 1.1421e-01, 8.8312e-01,  ..., 1.1763e-01,\n",
              "            5.8447e-01, 9.2409e-01]],\n",
              "\n",
              "          [[6.3757e-01, 7.2852e-01, 3.2602e-01,  ..., 2.5810e-01,\n",
              "            8.2276e-01, 7.0633e-02],\n",
              "           [3.3340e-01, 9.4237e-01, 4.3080e-01,  ..., 5.2271e-01,\n",
              "            4.9044e-01, 3.0417e-02],\n",
              "           [1.0684e-01, 7.6726e-01, 7.9280e-01,  ..., 3.2563e-01,\n",
              "            5.6893e-01, 2.7680e-01],\n",
              "           ...,\n",
              "           [9.4814e-01, 5.6830e-01, 7.8388e-01,  ..., 9.1538e-01,\n",
              "            4.8417e-02, 7.8129e-01],\n",
              "           [3.2182e-01, 9.1465e-01, 6.6598e-01,  ..., 9.1684e-01,\n",
              "            8.7672e-01, 7.7635e-01],\n",
              "           [1.4841e-01, 8.7143e-01, 1.4674e-02,  ..., 9.1821e-01,\n",
              "            5.7754e-01, 3.5257e-01]],\n",
              "\n",
              "          ...,\n",
              "\n",
              "          [[2.1802e-01, 9.1868e-01, 7.9792e-01,  ..., 7.5695e-01,\n",
              "            2.1065e-01, 3.8834e-02],\n",
              "           [9.0489e-01, 2.1555e-01, 2.1071e-01,  ..., 1.1923e-01,\n",
              "            9.7443e-01, 1.8840e-03],\n",
              "           [8.0233e-01, 8.0645e-01, 8.3602e-01,  ..., 2.6268e-01,\n",
              "            6.1777e-02, 2.1035e-01],\n",
              "           ...,\n",
              "           [2.3536e-02, 6.5793e-01, 8.3227e-02,  ..., 9.7055e-01,\n",
              "            6.3575e-01, 8.5066e-01],\n",
              "           [3.8118e-01, 8.4524e-03, 6.1159e-01,  ..., 3.0414e-01,\n",
              "            6.1936e-01, 5.3629e-01],\n",
              "           [2.0825e-01, 6.6901e-01, 9.7986e-01,  ..., 1.3055e-01,\n",
              "            6.3559e-01, 8.1588e-01]],\n",
              "\n",
              "          [[5.1869e-01, 7.4295e-01, 8.5412e-01,  ..., 9.3323e-01,\n",
              "            1.5091e-01, 5.0194e-01],\n",
              "           [3.3487e-01, 1.2020e-01, 3.0853e-01,  ..., 7.2032e-01,\n",
              "            9.6038e-02, 5.1412e-01],\n",
              "           [6.9133e-01, 9.9393e-01, 7.0305e-01,  ..., 6.4032e-01,\n",
              "            2.4626e-01, 5.5969e-01],\n",
              "           ...,\n",
              "           [8.6868e-01, 1.6277e-01, 5.6604e-01,  ..., 2.3605e-01,\n",
              "            9.5413e-01, 4.9816e-01],\n",
              "           [9.6387e-02, 7.5872e-01, 1.6107e-01,  ..., 3.1095e-01,\n",
              "            1.2288e-01, 4.2556e-01],\n",
              "           [4.2768e-01, 7.3805e-01, 7.9605e-02,  ..., 2.2821e-01,\n",
              "            7.3122e-01, 5.1876e-01]],\n",
              "\n",
              "          [[3.6528e-02, 7.9914e-01, 1.0286e-02,  ..., 8.6100e-01,\n",
              "            4.8520e-01, 4.9452e-02],\n",
              "           [4.6384e-01, 4.0441e-01, 1.9014e-01,  ..., 7.2629e-01,\n",
              "            5.8792e-02, 3.7689e-01],\n",
              "           [9.6904e-02, 4.4783e-01, 1.1525e-02,  ..., 4.7145e-01,\n",
              "            7.2557e-01, 5.1303e-01],\n",
              "           ...,\n",
              "           [6.4802e-01, 7.7063e-04, 9.3167e-01,  ..., 3.4887e-01,\n",
              "            2.8872e-01, 5.9835e-01],\n",
              "           [2.7874e-01, 5.3459e-02, 2.7747e-01,  ..., 8.8191e-01,\n",
              "            8.5239e-01, 7.7571e-01],\n",
              "           [5.0977e-01, 4.1929e-01, 1.9112e-01,  ..., 8.7303e-01,\n",
              "            3.7241e-01, 2.0719e-01]]],\n",
              "\n",
              "\n",
              "         [[[8.0061e-01, 7.0080e-01, 4.0197e-01,  ..., 5.3997e-01,\n",
              "            7.6328e-01, 2.6467e-01],\n",
              "           [3.8154e-01, 8.7465e-01, 3.7893e-01,  ..., 7.0627e-01,\n",
              "            1.0339e-01, 1.4046e-01],\n",
              "           [2.4366e-01, 1.8467e-01, 8.3489e-01,  ..., 1.6220e-01,\n",
              "            9.1738e-01, 9.5072e-01],\n",
              "           ...,\n",
              "           [5.9871e-01, 6.4030e-01, 9.4758e-01,  ..., 2.5884e-01,\n",
              "            5.0284e-01, 9.6555e-01],\n",
              "           [9.8623e-03, 6.4295e-02, 2.7621e-01,  ..., 4.6062e-01,\n",
              "            4.9648e-02, 1.3757e-01],\n",
              "           [9.1198e-01, 1.3960e-01, 3.7307e-01,  ..., 2.4539e-01,\n",
              "            4.0622e-01, 6.7036e-03]],\n",
              "\n",
              "          [[2.2880e-01, 6.4487e-01, 1.1566e-01,  ..., 1.5654e-01,\n",
              "            8.8876e-01, 1.9952e-01],\n",
              "           [3.9359e-01, 2.1846e-01, 1.5964e-01,  ..., 4.6597e-01,\n",
              "            5.2714e-04, 7.9236e-01],\n",
              "           [2.1039e-01, 7.0396e-01, 4.7905e-01,  ..., 5.0545e-01,\n",
              "            1.2100e-01, 5.5795e-01],\n",
              "           ...,\n",
              "           [5.0433e-01, 7.0851e-01, 5.9114e-02,  ..., 5.8134e-01,\n",
              "            1.6997e-03, 5.8213e-01],\n",
              "           [8.7698e-01, 6.1579e-01, 8.4967e-01,  ..., 3.6473e-02,\n",
              "            9.6177e-01, 5.2961e-01],\n",
              "           [3.4143e-01, 6.6654e-01, 5.1719e-01,  ..., 8.7308e-01,\n",
              "            4.8145e-01, 8.5761e-01]],\n",
              "\n",
              "          [[5.2408e-01, 9.9629e-01, 8.5939e-01,  ..., 6.1464e-01,\n",
              "            3.3804e-01, 4.1031e-01],\n",
              "           [3.3292e-01, 4.4582e-01, 2.3320e-03,  ..., 5.0252e-01,\n",
              "            7.3846e-02, 2.0789e-01],\n",
              "           [8.8890e-01, 5.8630e-01, 1.0413e-01,  ..., 9.3990e-01,\n",
              "            9.1902e-01, 8.6699e-01],\n",
              "           ...,\n",
              "           [9.6616e-01, 5.9488e-01, 8.3809e-01,  ..., 1.2998e-01,\n",
              "            5.2118e-01, 7.9292e-01],\n",
              "           [4.2952e-01, 6.6379e-01, 8.6109e-01,  ..., 1.8493e-01,\n",
              "            9.3903e-01, 2.3181e-01],\n",
              "           [6.7467e-01, 5.5093e-01, 5.8235e-01,  ..., 3.6982e-01,\n",
              "            1.9250e-01, 6.8245e-01]],\n",
              "\n",
              "          ...,\n",
              "\n",
              "          [[2.6152e-02, 5.2537e-01, 2.8083e-01,  ..., 4.6508e-01,\n",
              "            7.0837e-01, 1.8300e-01],\n",
              "           [8.7882e-01, 4.3514e-01, 4.0509e-01,  ..., 4.1735e-01,\n",
              "            7.8976e-03, 6.1185e-01],\n",
              "           [4.1686e-01, 3.5567e-01, 9.2907e-01,  ..., 8.1955e-01,\n",
              "            4.3720e-01, 4.4021e-01],\n",
              "           ...,\n",
              "           [6.4222e-01, 1.7399e-01, 9.2228e-01,  ..., 9.0311e-01,\n",
              "            7.5822e-01, 4.9838e-01],\n",
              "           [9.4923e-01, 2.3635e-01, 2.4485e-01,  ..., 1.8466e-01,\n",
              "            2.5030e-01, 6.6463e-01],\n",
              "           [4.5917e-01, 1.8878e-02, 2.8233e-01,  ..., 4.7729e-01,\n",
              "            3.0841e-01, 9.3198e-01]],\n",
              "\n",
              "          [[2.2155e-01, 8.5215e-01, 2.8344e-01,  ..., 4.9947e-01,\n",
              "            7.7152e-03, 3.3288e-01],\n",
              "           [7.8803e-01, 2.2814e-02, 5.8201e-02,  ..., 2.7117e-01,\n",
              "            9.1573e-02, 8.4170e-01],\n",
              "           [6.4363e-01, 2.5459e-01, 5.9560e-01,  ..., 4.1093e-01,\n",
              "            8.9254e-01, 3.0710e-01],\n",
              "           ...,\n",
              "           [4.0069e-01, 1.7742e-01, 8.8832e-01,  ..., 5.7187e-01,\n",
              "            8.9763e-01, 8.5267e-01],\n",
              "           [9.5171e-01, 4.7375e-01, 2.9711e-03,  ..., 6.3564e-01,\n",
              "            3.6056e-01, 6.0503e-01],\n",
              "           [8.8701e-01, 4.1172e-01, 6.4965e-01,  ..., 7.8138e-01,\n",
              "            9.8776e-01, 2.1940e-01]],\n",
              "\n",
              "          [[4.4394e-01, 7.0688e-01, 4.8636e-01,  ..., 6.1810e-01,\n",
              "            2.7035e-01, 3.1341e-02],\n",
              "           [3.3316e-01, 1.0230e-01, 6.5692e-01,  ..., 8.6684e-01,\n",
              "            8.9618e-01, 3.7958e-01],\n",
              "           [7.8326e-03, 7.5916e-01, 6.4197e-01,  ..., 5.1663e-01,\n",
              "            4.5912e-01, 4.0040e-01],\n",
              "           ...,\n",
              "           [9.9862e-01, 6.1478e-01, 9.4600e-01,  ..., 3.7654e-01,\n",
              "            5.5518e-01, 7.0253e-01],\n",
              "           [5.1001e-01, 2.5125e-01, 3.6668e-01,  ..., 8.8488e-01,\n",
              "            5.5841e-01, 1.0267e-01],\n",
              "           [6.1244e-01, 4.3740e-01, 4.3167e-01,  ..., 6.3821e-01,\n",
              "            8.9896e-02, 4.8040e-01]]]],\n",
              "\n",
              "\n",
              "\n",
              "        [[[[9.5258e-01, 7.6045e-01, 8.9987e-01,  ..., 2.7061e-02,\n",
              "            4.0755e-01, 9.8705e-04],\n",
              "           [6.0284e-01, 6.3441e-01, 7.7889e-01,  ..., 6.3703e-02,\n",
              "            6.2340e-01, 1.0588e-02],\n",
              "           [1.3550e-01, 4.6353e-01, 7.0370e-01,  ..., 2.4441e-01,\n",
              "            8.4720e-01, 5.5555e-01],\n",
              "           ...,\n",
              "           [4.4499e-02, 9.7001e-01, 3.3154e-02,  ..., 4.8398e-01,\n",
              "            1.7550e-01, 3.2085e-02],\n",
              "           [2.4745e-01, 5.3720e-01, 7.3232e-01,  ..., 8.4737e-01,\n",
              "            5.1802e-01, 4.1544e-01],\n",
              "           [7.9478e-01, 3.9112e-02, 8.4883e-01,  ..., 4.4987e-01,\n",
              "            6.0332e-01, 4.7206e-01]],\n",
              "\n",
              "          [[7.4556e-01, 7.3151e-02, 4.0831e-01,  ..., 3.7779e-01,\n",
              "            3.9762e-01, 5.0792e-01],\n",
              "           [2.2681e-01, 4.0274e-01, 4.0235e-01,  ..., 3.8722e-01,\n",
              "            9.5714e-01, 5.1823e-01],\n",
              "           [9.3381e-01, 4.8630e-01, 4.1229e-01,  ..., 4.5296e-01,\n",
              "            8.2727e-01, 4.4990e-01],\n",
              "           ...,\n",
              "           [9.3105e-01, 3.4438e-01, 3.1345e-01,  ..., 2.7846e-01,\n",
              "            5.8491e-01, 6.1000e-01],\n",
              "           [3.6082e-01, 2.4397e-01, 2.7251e-01,  ..., 7.9661e-01,\n",
              "            5.6326e-01, 6.2539e-01],\n",
              "           [1.5535e-01, 3.8318e-01, 5.0943e-01,  ..., 3.5469e-01,\n",
              "            9.5604e-01, 4.0246e-01]],\n",
              "\n",
              "          [[1.9512e-01, 1.0776e-01, 9.2909e-01,  ..., 2.0690e-01,\n",
              "            9.1489e-01, 6.2697e-01],\n",
              "           [1.5800e-01, 5.0427e-01, 4.0530e-02,  ..., 2.8090e-01,\n",
              "            8.3613e-01, 2.6018e-01],\n",
              "           [8.8891e-01, 9.7634e-01, 5.2832e-01,  ..., 9.3051e-01,\n",
              "            3.2578e-01, 7.8037e-01],\n",
              "           ...,\n",
              "           [8.4351e-01, 5.5735e-01, 1.2745e-01,  ..., 7.0829e-02,\n",
              "            1.2810e-01, 5.5033e-01],\n",
              "           [3.9541e-01, 2.5361e-01, 1.6316e-01,  ..., 8.2230e-01,\n",
              "            2.7302e-01, 7.8392e-01],\n",
              "           [5.7537e-01, 5.5688e-01, 1.6840e-01,  ..., 9.1724e-01,\n",
              "            6.1209e-01, 7.7137e-01]],\n",
              "\n",
              "          ...,\n",
              "\n",
              "          [[2.3319e-02, 1.3428e-01, 8.8272e-01,  ..., 9.6816e-01,\n",
              "            6.7850e-01, 9.6700e-01],\n",
              "           [7.8816e-01, 3.5734e-01, 2.6237e-01,  ..., 9.0535e-01,\n",
              "            8.0995e-01, 5.0618e-01],\n",
              "           [5.2089e-01, 7.6179e-01, 5.1273e-01,  ..., 5.7832e-01,\n",
              "            4.8788e-01, 3.3279e-01],\n",
              "           ...,\n",
              "           [5.2430e-01, 2.3325e-01, 9.8928e-01,  ..., 4.7511e-01,\n",
              "            2.4393e-01, 6.3651e-01],\n",
              "           [2.4889e-01, 9.3752e-01, 9.9039e-01,  ..., 2.3800e-01,\n",
              "            5.9511e-01, 5.4058e-01],\n",
              "           [9.6269e-01, 5.9266e-01, 7.7868e-01,  ..., 2.7423e-01,\n",
              "            4.3932e-01, 6.5817e-01]],\n",
              "\n",
              "          [[5.8083e-02, 5.6071e-02, 3.2717e-01,  ..., 4.0726e-01,\n",
              "            2.3918e-01, 7.6484e-01],\n",
              "           [2.9197e-01, 3.0547e-01, 8.1470e-01,  ..., 5.6538e-02,\n",
              "            6.3333e-01, 2.9627e-01],\n",
              "           [9.9908e-02, 7.1918e-01, 6.5314e-01,  ..., 5.2180e-01,\n",
              "            9.5617e-01, 5.0695e-01],\n",
              "           ...,\n",
              "           [7.3069e-01, 9.3612e-01, 2.0373e-01,  ..., 6.5666e-01,\n",
              "            8.3263e-01, 4.5667e-02],\n",
              "           [3.7488e-01, 8.8078e-02, 9.4375e-01,  ..., 1.1784e-01,\n",
              "            2.3902e-01, 4.3439e-01],\n",
              "           [7.7657e-01, 7.7800e-01, 8.5422e-01,  ..., 1.3609e-01,\n",
              "            2.3844e-01, 6.1707e-01]],\n",
              "\n",
              "          [[8.2032e-01, 3.1491e-01, 3.8247e-01,  ..., 2.2321e-01,\n",
              "            2.0854e-01, 3.6730e-01],\n",
              "           [9.7642e-01, 7.5011e-01, 8.5495e-02,  ..., 6.9447e-01,\n",
              "            9.5291e-01, 2.7201e-01],\n",
              "           [1.2360e-01, 3.0271e-01, 5.1642e-01,  ..., 3.2490e-01,\n",
              "            4.5081e-01, 3.6959e-01],\n",
              "           ...,\n",
              "           [7.9730e-01, 8.1601e-01, 3.9337e-01,  ..., 3.4120e-01,\n",
              "            5.5015e-01, 2.3185e-01],\n",
              "           [2.3068e-01, 7.1331e-01, 2.3752e-01,  ..., 7.5774e-01,\n",
              "            9.1829e-01, 8.3703e-02],\n",
              "           [6.0491e-01, 4.0571e-01, 9.2077e-02,  ..., 3.1322e-01,\n",
              "            4.2819e-02, 8.9611e-01]]],\n",
              "\n",
              "\n",
              "         [[[9.0369e-01, 4.8189e-01, 3.5876e-01,  ..., 4.1860e-01,\n",
              "            1.0227e-01, 4.6293e-01],\n",
              "           [2.8111e-01, 2.6494e-01, 8.2825e-01,  ..., 6.6307e-01,\n",
              "            6.6757e-01, 6.1590e-01],\n",
              "           [3.6375e-01, 7.0385e-01, 7.4440e-01,  ..., 1.8056e-01,\n",
              "            6.5285e-01, 1.9964e-01],\n",
              "           ...,\n",
              "           [4.1764e-01, 9.0626e-01, 1.1853e-01,  ..., 7.5574e-01,\n",
              "            9.3346e-01, 8.0858e-01],\n",
              "           [8.9802e-01, 3.8446e-01, 7.3094e-02,  ..., 1.5533e-01,\n",
              "            2.1230e-01, 5.0635e-01],\n",
              "           [1.9307e-01, 5.7326e-01, 4.7915e-01,  ..., 6.6406e-01,\n",
              "            6.3812e-01, 5.1421e-01]],\n",
              "\n",
              "          [[5.0780e-01, 7.4963e-01, 4.5285e-01,  ..., 5.9209e-01,\n",
              "            9.2957e-01, 7.3769e-01],\n",
              "           [7.4988e-01, 5.1495e-03, 4.7580e-01,  ..., 2.6336e-01,\n",
              "            6.5346e-01, 2.7225e-01],\n",
              "           [2.0129e-02, 5.9915e-01, 4.1759e-01,  ..., 6.7730e-01,\n",
              "            4.2250e-01, 5.2523e-01],\n",
              "           ...,\n",
              "           [7.4982e-01, 7.0381e-01, 4.7855e-01,  ..., 8.3948e-01,\n",
              "            8.7473e-01, 4.1196e-01],\n",
              "           [4.5915e-01, 8.8491e-01, 1.4979e-01,  ..., 3.3309e-01,\n",
              "            5.4122e-01, 6.1103e-01],\n",
              "           [5.4943e-01, 5.4842e-01, 4.1523e-01,  ..., 8.4564e-02,\n",
              "            4.8699e-03, 4.4393e-02]],\n",
              "\n",
              "          [[3.9384e-01, 4.7651e-01, 6.8752e-01,  ..., 4.5024e-01,\n",
              "            9.1242e-01, 8.0719e-01],\n",
              "           [1.2365e-01, 6.8883e-01, 1.0756e-01,  ..., 5.6682e-01,\n",
              "            6.7606e-02, 2.2692e-01],\n",
              "           [3.2527e-01, 8.9895e-01, 3.8875e-01,  ..., 7.9163e-01,\n",
              "            3.4870e-01, 1.7969e-01],\n",
              "           ...,\n",
              "           [8.6273e-01, 5.6713e-01, 5.7230e-01,  ..., 7.6579e-01,\n",
              "            9.6096e-01, 7.3296e-01],\n",
              "           [2.2899e-01, 3.5700e-01, 3.6606e-01,  ..., 6.5069e-01,\n",
              "            5.2384e-01, 6.6110e-01],\n",
              "           [1.4198e-01, 5.4176e-01, 3.1457e-01,  ..., 2.2320e-01,\n",
              "            8.1804e-01, 8.4671e-01]],\n",
              "\n",
              "          ...,\n",
              "\n",
              "          [[4.5965e-01, 1.5949e-01, 9.4666e-03,  ..., 5.5606e-01,\n",
              "            3.2112e-01, 8.5360e-01],\n",
              "           [7.9885e-01, 9.2861e-01, 5.3655e-01,  ..., 6.3147e-01,\n",
              "            2.5004e-01, 7.6390e-01],\n",
              "           [1.9670e-01, 4.3618e-01, 3.2439e-01,  ..., 1.9363e-01,\n",
              "            1.6862e-01, 1.7750e-01],\n",
              "           ...,\n",
              "           [3.1457e-01, 8.6835e-01, 3.0017e-01,  ..., 9.9611e-01,\n",
              "            5.9674e-01, 7.7577e-01],\n",
              "           [3.9290e-01, 7.3391e-01, 4.0998e-01,  ..., 9.8373e-01,\n",
              "            1.2008e-01, 3.6422e-01],\n",
              "           [9.1628e-01, 6.0405e-02, 8.4335e-01,  ..., 1.6706e-01,\n",
              "            6.3275e-01, 3.6600e-01]],\n",
              "\n",
              "          [[1.5480e-01, 1.8789e-01, 8.0516e-01,  ..., 5.5361e-01,\n",
              "            7.8801e-01, 6.0234e-02],\n",
              "           [1.1316e-01, 6.4879e-01, 7.9431e-01,  ..., 4.5845e-01,\n",
              "            9.7284e-01, 5.9538e-01],\n",
              "           [2.0594e-01, 2.5826e-01, 8.3875e-01,  ..., 2.7034e-01,\n",
              "            4.0034e-02, 3.0843e-01],\n",
              "           ...,\n",
              "           [3.6929e-01, 8.7749e-01, 8.7266e-01,  ..., 5.0738e-01,\n",
              "            5.2263e-01, 3.7205e-01],\n",
              "           [7.1422e-01, 7.8017e-01, 1.6512e-01,  ..., 1.5546e-01,\n",
              "            2.1812e-01, 8.9720e-01],\n",
              "           [3.0802e-01, 3.5416e-01, 2.9672e-01,  ..., 7.5247e-02,\n",
              "            1.1175e-01, 5.6994e-01]],\n",
              "\n",
              "          [[3.2307e-01, 7.1454e-02, 8.8359e-01,  ..., 8.5512e-01,\n",
              "            4.3240e-01, 1.7276e-01],\n",
              "           [4.3419e-01, 9.7345e-01, 1.9835e-01,  ..., 3.5660e-01,\n",
              "            2.9627e-01, 1.4048e-01],\n",
              "           [5.1854e-01, 4.8914e-01, 3.4421e-01,  ..., 1.1421e-01,\n",
              "            3.1586e-01, 9.8722e-01],\n",
              "           ...,\n",
              "           [3.6848e-01, 1.6528e-01, 6.7249e-01,  ..., 4.5487e-01,\n",
              "            4.1711e-01, 4.8141e-01],\n",
              "           [2.3199e-01, 2.6569e-01, 5.4014e-01,  ..., 6.8331e-01,\n",
              "            6.1920e-01, 7.0240e-01],\n",
              "           [6.8271e-02, 1.0083e-01, 7.5970e-01,  ..., 6.4891e-01,\n",
              "            1.3146e-01, 1.5263e-01]]],\n",
              "\n",
              "\n",
              "         [[[9.2176e-01, 6.5797e-01, 2.6780e-01,  ..., 1.0304e-01,\n",
              "            6.0977e-02, 4.1375e-01],\n",
              "           [5.0334e-01, 4.6729e-01, 5.2715e-01,  ..., 1.6628e-01,\n",
              "            4.9408e-01, 4.8533e-01],\n",
              "           [7.8047e-02, 7.8213e-01, 7.4333e-01,  ..., 6.7591e-01,\n",
              "            1.0179e-01, 7.0761e-01],\n",
              "           ...,\n",
              "           [2.2057e-01, 9.6793e-01, 1.2789e-01,  ..., 3.3678e-01,\n",
              "            7.3867e-01, 7.4934e-01],\n",
              "           [6.2508e-01, 2.7185e-01, 9.8827e-01,  ..., 1.4608e-01,\n",
              "            3.1114e-01, 4.8248e-01],\n",
              "           [7.9521e-01, 9.2024e-01, 6.2787e-01,  ..., 2.7146e-01,\n",
              "            4.4307e-01, 9.6425e-01]],\n",
              "\n",
              "          [[1.6703e-01, 9.4987e-01, 6.3236e-02,  ..., 8.1004e-01,\n",
              "            2.8776e-01, 9.3790e-01],\n",
              "           [2.7875e-01, 3.2845e-01, 6.2516e-01,  ..., 3.3129e-01,\n",
              "            4.6340e-01, 2.2234e-01],\n",
              "           [7.7197e-01, 2.5444e-01, 2.5905e-02,  ..., 4.8274e-02,\n",
              "            2.1065e-01, 1.2245e-01],\n",
              "           ...,\n",
              "           [7.6399e-01, 1.5912e-01, 5.2127e-01,  ..., 5.8842e-01,\n",
              "            5.2696e-02, 2.3483e-01],\n",
              "           [5.9358e-01, 3.9721e-01, 8.3026e-02,  ..., 3.7827e-01,\n",
              "            9.4016e-02, 4.7428e-01],\n",
              "           [8.2908e-01, 5.5088e-01, 4.8103e-01,  ..., 3.7614e-01,\n",
              "            9.6008e-01, 8.8904e-01]],\n",
              "\n",
              "          [[1.2571e-01, 1.6566e-03, 2.1912e-01,  ..., 6.6397e-01,\n",
              "            3.9148e-03, 7.0353e-01],\n",
              "           [4.6443e-01, 7.1843e-01, 1.8723e-01,  ..., 8.4140e-01,\n",
              "            4.4261e-01, 6.5776e-01],\n",
              "           [9.4754e-01, 1.1205e-01, 6.1233e-01,  ..., 4.7834e-01,\n",
              "            9.5121e-01, 2.8142e-01],\n",
              "           ...,\n",
              "           [4.1367e-01, 8.7805e-01, 5.1362e-01,  ..., 6.3682e-01,\n",
              "            8.3048e-01, 3.4864e-01],\n",
              "           [6.5679e-01, 8.7891e-01, 3.7704e-01,  ..., 3.4759e-02,\n",
              "            4.3645e-01, 4.4214e-01],\n",
              "           [8.5627e-01, 6.9227e-01, 7.2816e-01,  ..., 2.3325e-01,\n",
              "            2.6002e-01, 8.1221e-01]],\n",
              "\n",
              "          ...,\n",
              "\n",
              "          [[3.3008e-01, 5.4533e-01, 6.6204e-01,  ..., 5.8266e-01,\n",
              "            4.2116e-02, 8.9968e-01],\n",
              "           [1.1903e-01, 8.2116e-01, 4.2631e-01,  ..., 8.7535e-01,\n",
              "            9.4129e-01, 9.7849e-01],\n",
              "           [6.2867e-01, 6.5677e-01, 6.9877e-01,  ..., 9.5992e-01,\n",
              "            1.3259e-01, 8.1511e-01],\n",
              "           ...,\n",
              "           [4.1051e-01, 2.4650e-01, 1.1812e-01,  ..., 2.0988e-01,\n",
              "            2.9866e-02, 7.3597e-01],\n",
              "           [5.6444e-01, 5.3503e-01, 6.4002e-01,  ..., 7.3328e-02,\n",
              "            9.2675e-01, 4.0076e-01],\n",
              "           [5.3006e-01, 1.6060e-01, 6.3369e-01,  ..., 9.0791e-01,\n",
              "            8.0449e-01, 5.8826e-01]],\n",
              "\n",
              "          [[5.2288e-02, 7.3703e-01, 7.2846e-01,  ..., 6.8879e-01,\n",
              "            6.5870e-01, 8.9497e-01],\n",
              "           [5.6583e-01, 6.6120e-01, 3.4994e-01,  ..., 2.7740e-01,\n",
              "            5.7576e-01, 6.5166e-01],\n",
              "           [7.7931e-01, 2.6527e-01, 1.8874e-01,  ..., 7.2146e-01,\n",
              "            5.7770e-01, 4.3182e-01],\n",
              "           ...,\n",
              "           [1.3288e-01, 7.5870e-01, 1.4591e-02,  ..., 6.4330e-01,\n",
              "            4.0133e-02, 7.1464e-01],\n",
              "           [2.7803e-01, 7.7050e-01, 4.2965e-01,  ..., 1.7378e-01,\n",
              "            2.5003e-01, 9.0399e-01],\n",
              "           [4.2716e-01, 7.2185e-01, 6.6788e-01,  ..., 8.1904e-01,\n",
              "            5.5223e-01, 9.0464e-01]],\n",
              "\n",
              "          [[7.2460e-01, 8.5047e-01, 7.4036e-01,  ..., 1.1352e-01,\n",
              "            4.2573e-01, 2.8173e-01],\n",
              "           [9.3763e-01, 7.9587e-01, 3.2586e-01,  ..., 5.3713e-02,\n",
              "            9.4239e-01, 1.9388e-01],\n",
              "           [2.2465e-01, 1.0424e-01, 3.5889e-01,  ..., 4.8547e-01,\n",
              "            3.4054e-01, 3.8143e-01],\n",
              "           ...,\n",
              "           [7.0970e-01, 7.4136e-01, 3.2820e-01,  ..., 1.3262e-01,\n",
              "            6.8087e-01, 4.3935e-01],\n",
              "           [5.0483e-01, 8.5621e-01, 7.7457e-01,  ..., 9.8187e-01,\n",
              "            1.7595e-01, 4.6994e-01],\n",
              "           [4.3115e-03, 6.5716e-01, 2.0637e-01,  ..., 5.7249e-01,\n",
              "            1.5707e-01, 4.3263e-01]]],\n",
              "\n",
              "\n",
              "         ...,\n",
              "\n",
              "\n",
              "         [[[6.6976e-01, 7.7314e-01, 1.3716e-01,  ..., 4.6934e-01,\n",
              "            7.3548e-02, 2.0819e-01],\n",
              "           [9.7645e-02, 2.6882e-01, 8.2145e-01,  ..., 3.7487e-01,\n",
              "            7.1497e-01, 1.4855e-01],\n",
              "           [2.4394e-01, 3.9533e-01, 5.2419e-01,  ..., 6.7763e-01,\n",
              "            1.8701e-01, 7.0596e-01],\n",
              "           ...,\n",
              "           [4.8808e-01, 5.1427e-02, 2.2909e-02,  ..., 5.3446e-02,\n",
              "            7.3517e-01, 5.5657e-01],\n",
              "           [2.2860e-01, 1.1217e-01, 1.9954e-02,  ..., 1.9258e-01,\n",
              "            1.9947e-01, 2.7984e-01],\n",
              "           [2.1518e-01, 5.4830e-01, 3.3511e-01,  ..., 2.6718e-01,\n",
              "            2.7496e-01, 9.1261e-01]],\n",
              "\n",
              "          [[9.6489e-02, 9.1336e-02, 1.6051e-01,  ..., 8.6780e-01,\n",
              "            2.2019e-01, 3.3384e-01],\n",
              "           [6.5689e-01, 6.2419e-02, 9.0935e-02,  ..., 1.0666e-01,\n",
              "            3.2922e-01, 8.2482e-01],\n",
              "           [8.6396e-01, 9.5237e-01, 8.5803e-01,  ..., 4.2407e-01,\n",
              "            2.0945e-01, 8.2827e-01],\n",
              "           ...,\n",
              "           [8.3523e-01, 5.8343e-01, 2.8907e-01,  ..., 4.9067e-01,\n",
              "            4.2895e-01, 8.4323e-01],\n",
              "           [7.3326e-01, 4.5275e-01, 9.8677e-01,  ..., 1.1952e-01,\n",
              "            5.4511e-01, 6.9368e-01],\n",
              "           [7.9675e-01, 5.1832e-01, 7.6474e-02,  ..., 7.0221e-01,\n",
              "            4.0003e-01, 5.8787e-01]],\n",
              "\n",
              "          [[5.6933e-02, 7.3174e-02, 1.8552e-01,  ..., 8.2068e-01,\n",
              "            6.1979e-02, 3.4060e-01],\n",
              "           [8.3851e-02, 3.5699e-01, 2.4032e-01,  ..., 6.5371e-01,\n",
              "            8.6163e-01, 4.8541e-01],\n",
              "           [4.4868e-01, 5.0103e-01, 6.2061e-01,  ..., 1.3788e-01,\n",
              "            6.3958e-01, 8.0661e-01],\n",
              "           ...,\n",
              "           [7.2274e-01, 6.4918e-01, 4.2928e-01,  ..., 8.1095e-01,\n",
              "            5.5651e-01, 4.3991e-01],\n",
              "           [4.3141e-01, 3.9447e-01, 1.2315e-01,  ..., 5.2793e-01,\n",
              "            3.6443e-01, 4.5313e-01],\n",
              "           [2.3410e-01, 9.3927e-01, 6.9593e-01,  ..., 1.2968e-01,\n",
              "            6.2634e-01, 4.5076e-01]],\n",
              "\n",
              "          ...,\n",
              "\n",
              "          [[2.2614e-01, 7.9180e-01, 6.3911e-01,  ..., 4.1943e-01,\n",
              "            6.6232e-01, 1.1077e-01],\n",
              "           [1.1148e-01, 1.7331e-01, 2.3994e-01,  ..., 4.5922e-01,\n",
              "            7.4252e-01, 5.2656e-01],\n",
              "           [4.2290e-01, 2.7752e-02, 3.3569e-01,  ..., 5.3362e-01,\n",
              "            9.4639e-01, 9.4429e-01],\n",
              "           ...,\n",
              "           [8.6593e-01, 8.0708e-01, 5.0017e-01,  ..., 2.0359e-01,\n",
              "            3.3547e-01, 7.6159e-01],\n",
              "           [5.7546e-01, 7.6863e-01, 9.7127e-01,  ..., 4.4172e-01,\n",
              "            7.0534e-01, 6.8303e-01],\n",
              "           [9.7852e-01, 7.6780e-01, 4.2313e-02,  ..., 9.5622e-01,\n",
              "            3.0306e-01, 6.9949e-01]],\n",
              "\n",
              "          [[9.9285e-01, 6.6660e-01, 5.8348e-01,  ..., 7.8109e-01,\n",
              "            6.3132e-01, 8.9590e-02],\n",
              "           [2.8222e-01, 6.0850e-01, 3.9399e-02,  ..., 6.1993e-01,\n",
              "            1.9835e-01, 7.5753e-01],\n",
              "           [5.0380e-01, 5.0690e-01, 9.8543e-01,  ..., 9.8308e-01,\n",
              "            7.8991e-01, 5.6632e-01],\n",
              "           ...,\n",
              "           [3.8807e-02, 8.4002e-01, 3.9611e-01,  ..., 7.1115e-01,\n",
              "            8.9959e-01, 1.0000e-01],\n",
              "           [9.6446e-01, 1.1628e-01, 6.7295e-02,  ..., 1.6238e-01,\n",
              "            6.7845e-01, 8.6477e-02],\n",
              "           [7.0240e-01, 9.5654e-01, 2.5510e-01,  ..., 8.4548e-01,\n",
              "            4.4096e-01, 8.3003e-01]],\n",
              "\n",
              "          [[8.0072e-01, 1.9288e-01, 1.3420e-01,  ..., 3.6533e-01,\n",
              "            4.0266e-01, 1.5739e-01],\n",
              "           [3.5776e-02, 2.1421e-01, 2.1387e-01,  ..., 1.9581e-01,\n",
              "            9.9358e-01, 9.0724e-02],\n",
              "           [4.7386e-01, 3.5981e-01, 7.8936e-01,  ..., 1.9178e-01,\n",
              "            4.5752e-01, 7.7751e-01],\n",
              "           ...,\n",
              "           [9.4064e-01, 9.9193e-02, 7.4135e-02,  ..., 5.7823e-01,\n",
              "            8.8118e-01, 9.7024e-01],\n",
              "           [2.8358e-01, 9.7591e-01, 1.7819e-01,  ..., 7.1593e-01,\n",
              "            6.1598e-01, 7.0422e-01],\n",
              "           [6.9843e-01, 2.7230e-01, 2.5401e-01,  ..., 8.2252e-01,\n",
              "            3.5145e-01, 4.1090e-01]]],\n",
              "\n",
              "\n",
              "         [[[7.0788e-01, 2.6284e-02, 9.4600e-01,  ..., 5.7421e-01,\n",
              "            9.0282e-01, 2.2627e-01],\n",
              "           [7.5404e-01, 4.0741e-02, 9.9625e-01,  ..., 2.6908e-01,\n",
              "            4.7330e-01, 5.7679e-01],\n",
              "           [1.4801e-01, 3.0332e-01, 8.8195e-01,  ..., 4.6104e-01,\n",
              "            4.2657e-02, 3.2120e-01],\n",
              "           ...,\n",
              "           [7.2194e-01, 8.6449e-02, 1.6477e-01,  ..., 9.5702e-01,\n",
              "            7.6103e-01, 3.0615e-01],\n",
              "           [8.6366e-01, 6.6600e-02, 2.0808e-01,  ..., 7.3261e-01,\n",
              "            2.8334e-01, 3.9482e-01],\n",
              "           [4.4478e-01, 1.0903e-01, 9.9472e-02,  ..., 8.8353e-01,\n",
              "            3.7042e-01, 4.9349e-01]],\n",
              "\n",
              "          [[8.6462e-02, 9.5033e-01, 8.6253e-01,  ..., 5.3082e-01,\n",
              "            2.8630e-02, 1.8928e-01],\n",
              "           [2.5328e-01, 6.0950e-01, 2.2137e-01,  ..., 5.0923e-02,\n",
              "            7.0145e-01, 2.1559e-01],\n",
              "           [8.8312e-01, 4.7079e-01, 4.9078e-01,  ..., 4.4520e-01,\n",
              "            4.0464e-01, 1.2060e-01],\n",
              "           ...,\n",
              "           [9.2564e-01, 2.0914e-01, 4.8736e-01,  ..., 7.1967e-01,\n",
              "            1.9331e-01, 6.8990e-01],\n",
              "           [1.9538e-01, 2.5994e-01, 6.1324e-01,  ..., 4.4216e-01,\n",
              "            7.7621e-02, 7.8274e-01],\n",
              "           [3.6348e-01, 3.1698e-01, 3.2127e-01,  ..., 5.0237e-01,\n",
              "            1.4557e-02, 4.4659e-01]],\n",
              "\n",
              "          [[7.9290e-01, 1.1814e-01, 4.8321e-01,  ..., 3.5118e-01,\n",
              "            4.0884e-01, 9.0609e-01],\n",
              "           [4.4118e-01, 3.2752e-01, 3.5090e-01,  ..., 2.3753e-01,\n",
              "            3.4886e-01, 3.4065e-01],\n",
              "           [6.4361e-01, 7.0951e-01, 1.2852e-01,  ..., 1.5514e-01,\n",
              "            2.3209e-01, 1.9244e-01],\n",
              "           ...,\n",
              "           [8.1616e-01, 7.2332e-01, 3.8007e-01,  ..., 9.3741e-01,\n",
              "            5.3296e-01, 2.9609e-02],\n",
              "           [3.3643e-02, 6.2689e-02, 5.2018e-01,  ..., 1.5053e-01,\n",
              "            6.3012e-01, 3.5142e-01],\n",
              "           [9.9204e-01, 9.9821e-01, 8.4061e-01,  ..., 7.7524e-01,\n",
              "            8.6726e-01, 5.3190e-01]],\n",
              "\n",
              "          ...,\n",
              "\n",
              "          [[9.9746e-01, 2.2490e-01, 6.2548e-01,  ..., 5.9425e-01,\n",
              "            3.0081e-01, 2.9157e-01],\n",
              "           [5.0662e-01, 4.0424e-01, 4.7918e-01,  ..., 1.2588e-01,\n",
              "            1.5065e-01, 7.3775e-01],\n",
              "           [3.7554e-01, 8.5223e-01, 2.9921e-01,  ..., 1.3652e-01,\n",
              "            5.2836e-01, 4.8652e-01],\n",
              "           ...,\n",
              "           [6.2242e-01, 8.8519e-01, 5.9040e-01,  ..., 4.6045e-01,\n",
              "            4.3657e-01, 5.2652e-01],\n",
              "           [8.1236e-01, 2.0581e-01, 3.2302e-01,  ..., 1.8614e-01,\n",
              "            5.9489e-01, 3.5063e-02],\n",
              "           [7.8989e-01, 4.7255e-01, 3.5289e-01,  ..., 7.0914e-02,\n",
              "            7.4421e-01, 8.1214e-01]],\n",
              "\n",
              "          [[8.3339e-01, 2.0494e-03, 5.5004e-01,  ..., 1.8262e-01,\n",
              "            1.1588e-01, 5.5726e-01],\n",
              "           [5.3203e-01, 5.6129e-02, 4.1946e-01,  ..., 6.8333e-01,\n",
              "            7.9086e-01, 8.4291e-01],\n",
              "           [6.6944e-01, 3.5963e-01, 2.4938e-01,  ..., 7.1946e-01,\n",
              "            8.3637e-01, 7.1877e-01],\n",
              "           ...,\n",
              "           [6.0037e-01, 6.7071e-02, 3.8522e-02,  ..., 5.0861e-01,\n",
              "            4.6361e-01, 3.6311e-01],\n",
              "           [4.0586e-01, 7.5530e-01, 2.1153e-01,  ..., 1.8600e-01,\n",
              "            6.2191e-02, 3.0134e-01],\n",
              "           [3.3019e-01, 6.3968e-01, 3.4835e-01,  ..., 6.7338e-01,\n",
              "            2.1892e-01, 2.3642e-01]],\n",
              "\n",
              "          [[6.4226e-01, 2.1364e-01, 9.5224e-01,  ..., 1.1802e-01,\n",
              "            7.1964e-01, 6.9314e-01],\n",
              "           [1.1849e-01, 8.6898e-02, 3.7054e-01,  ..., 1.2088e-01,\n",
              "            9.8191e-01, 1.7051e-01],\n",
              "           [2.8512e-01, 5.9693e-01, 7.6981e-01,  ..., 8.9267e-01,\n",
              "            4.0300e-01, 4.2055e-01],\n",
              "           ...,\n",
              "           [9.1770e-01, 4.1808e-01, 2.6568e-01,  ..., 1.6297e-01,\n",
              "            3.0074e-02, 2.9600e-01],\n",
              "           [5.9826e-01, 9.1996e-01, 4.2470e-01,  ..., 4.2492e-01,\n",
              "            8.0945e-01, 3.3987e-02],\n",
              "           [2.5799e-02, 2.2172e-01, 9.9181e-01,  ..., 2.7952e-01,\n",
              "            2.4340e-01, 1.2641e-01]]],\n",
              "\n",
              "\n",
              "         [[[6.3211e-01, 5.7247e-01, 4.4189e-01,  ..., 6.7620e-01,\n",
              "            6.5096e-01, 4.7055e-01],\n",
              "           [7.5763e-01, 1.9325e-01, 7.0858e-01,  ..., 7.2607e-01,\n",
              "            8.4318e-03, 4.3907e-01],\n",
              "           [4.0592e-01, 7.9131e-01, 1.2695e-01,  ..., 9.1908e-01,\n",
              "            7.6105e-01, 6.6862e-01],\n",
              "           ...,\n",
              "           [8.6188e-01, 1.4723e-01, 1.7187e-01,  ..., 2.0866e-01,\n",
              "            4.8124e-01, 3.2739e-01],\n",
              "           [9.3656e-01, 4.6362e-01, 1.9965e-01,  ..., 2.1083e-01,\n",
              "            1.6625e-01, 4.5284e-01],\n",
              "           [4.9731e-01, 7.2216e-01, 1.6704e-01,  ..., 7.6636e-01,\n",
              "            3.5127e-01, 7.3252e-01]],\n",
              "\n",
              "          [[9.6942e-01, 9.5615e-01, 3.4660e-01,  ..., 1.0647e-01,\n",
              "            4.9974e-01, 2.5040e-01],\n",
              "           [1.5426e-01, 4.9525e-01, 5.4521e-02,  ..., 9.1123e-01,\n",
              "            2.6185e-01, 5.7639e-01],\n",
              "           [6.2141e-01, 6.4167e-01, 5.5156e-01,  ..., 6.6223e-01,\n",
              "            4.9653e-01, 7.0287e-01],\n",
              "           ...,\n",
              "           [8.9855e-01, 9.4940e-01, 3.6547e-02,  ..., 6.5896e-01,\n",
              "            7.2709e-01, 2.9056e-03],\n",
              "           [6.2835e-01, 6.2567e-01, 6.9169e-01,  ..., 2.6145e-01,\n",
              "            5.5395e-01, 3.9383e-01],\n",
              "           [2.5335e-01, 5.3966e-01, 6.9792e-01,  ..., 2.4087e-01,\n",
              "            9.8522e-01, 9.9069e-01]],\n",
              "\n",
              "          [[7.2647e-01, 7.8820e-01, 8.6663e-01,  ..., 3.7903e-01,\n",
              "            9.6689e-01, 8.6974e-02],\n",
              "           [2.5691e-01, 2.6991e-01, 3.4245e-01,  ..., 3.4081e-01,\n",
              "            7.4672e-01, 2.1542e-01],\n",
              "           [1.8496e-01, 5.7980e-01, 9.2533e-01,  ..., 1.7465e-02,\n",
              "            5.5479e-01, 6.1793e-01],\n",
              "           ...,\n",
              "           [8.3344e-01, 3.9107e-01, 3.5900e-01,  ..., 5.6611e-01,\n",
              "            3.5466e-01, 9.9136e-01],\n",
              "           [4.1356e-01, 7.6347e-01, 7.5349e-01,  ..., 6.8200e-01,\n",
              "            5.9333e-01, 6.2359e-01],\n",
              "           [6.4266e-01, 1.9478e-01, 4.7657e-02,  ..., 6.9726e-01,\n",
              "            9.0629e-02, 8.5060e-01]],\n",
              "\n",
              "          ...,\n",
              "\n",
              "          [[2.2946e-01, 8.7720e-01, 2.9468e-01,  ..., 9.7645e-01,\n",
              "            9.6743e-01, 7.7026e-01],\n",
              "           [3.0066e-01, 4.2975e-01, 5.3738e-01,  ..., 2.5760e-01,\n",
              "            1.6792e-01, 5.1975e-01],\n",
              "           [7.7036e-01, 9.7932e-01, 1.0997e-01,  ..., 1.8761e-01,\n",
              "            2.5107e-01, 9.3285e-01],\n",
              "           ...,\n",
              "           [4.3639e-01, 5.5203e-01, 4.2567e-01,  ..., 9.8012e-01,\n",
              "            1.2886e-01, 7.7631e-01],\n",
              "           [5.3122e-02, 3.2754e-01, 3.1265e-01,  ..., 1.9892e-01,\n",
              "            4.5235e-01, 5.2689e-01],\n",
              "           [2.8963e-01, 9.0549e-01, 4.1996e-01,  ..., 7.0396e-01,\n",
              "            5.3014e-01, 2.1027e-01]],\n",
              "\n",
              "          [[3.7420e-01, 5.7937e-02, 8.4986e-01,  ..., 3.6738e-01,\n",
              "            3.4239e-01, 4.1680e-02],\n",
              "           [7.4544e-01, 7.9583e-01, 4.6053e-01,  ..., 8.0994e-03,\n",
              "            4.8690e-01, 3.8565e-01],\n",
              "           [4.8520e-01, 4.1886e-01, 9.6576e-01,  ..., 9.1515e-01,\n",
              "            6.5660e-01, 4.8005e-01],\n",
              "           ...,\n",
              "           [7.8072e-01, 6.9294e-02, 5.2825e-01,  ..., 1.6859e-01,\n",
              "            1.7341e-01, 9.4510e-01],\n",
              "           [2.8002e-01, 3.0472e-02, 5.5281e-01,  ..., 2.8205e-01,\n",
              "            5.8924e-01, 2.5430e-01],\n",
              "           [5.3125e-01, 3.2720e-01, 7.8761e-01,  ..., 9.7523e-01,\n",
              "            1.0893e-01, 8.5184e-01]],\n",
              "\n",
              "          [[7.9430e-01, 1.4589e-01, 9.3245e-01,  ..., 1.8586e-01,\n",
              "            2.4740e-01, 2.5313e-01],\n",
              "           [4.2373e-01, 9.4384e-01, 6.8224e-01,  ..., 7.9753e-01,\n",
              "            5.3702e-01, 6.8137e-01],\n",
              "           [6.7299e-01, 5.9831e-01, 3.0606e-01,  ..., 5.9832e-01,\n",
              "            6.4628e-02, 9.7561e-02],\n",
              "           ...,\n",
              "           [2.5955e-01, 5.5901e-01, 3.8846e-02,  ..., 4.1322e-01,\n",
              "            6.7601e-01, 3.6317e-01],\n",
              "           [5.5242e-01, 7.6825e-01, 5.9079e-03,  ..., 2.8355e-01,\n",
              "            9.2223e-01, 4.9699e-01],\n",
              "           [8.5749e-01, 1.5428e-01, 3.0677e-02,  ..., 6.2754e-01,\n",
              "            8.5633e-01, 9.9535e-01]]]]])"
            ]
          },
          "metadata": {},
          "execution_count": 47
        }
      ],
      "source": [
        "random_tensors = torch.rand(10, 10, 10, 10, 10)\n",
        "random_tensors"
      ]
    },
    {
      "cell_type": "code",
      "execution_count": null,
      "metadata": {
        "colab": {
          "base_uri": "https://localhost:8080/"
        },
        "id": "aArQ8b8EqUSi",
        "outputId": "827e4856-7f23-4ef3-d8fc-f998605cbc7f"
      },
      "outputs": [
        {
          "output_type": "execute_result",
          "data": {
            "text/plain": [
              "5"
            ]
          },
          "metadata": {},
          "execution_count": 48
        }
      ],
      "source": [
        "random_tensors.ndim"
      ]
    },
    {
      "cell_type": "code",
      "execution_count": null,
      "metadata": {
        "colab": {
          "base_uri": "https://localhost:8080/"
        },
        "id": "b9kE4qWLrwAL",
        "outputId": "12538247-9d35-4e00-b18e-78daea8b0f85"
      },
      "outputs": [
        {
          "output_type": "execute_result",
          "data": {
            "text/plain": [
              "torch.Size([10, 10, 10, 10, 10])"
            ]
          },
          "metadata": {},
          "execution_count": 49
        }
      ],
      "source": [
        "random_tensors.shape"
      ]
    },
    {
      "cell_type": "code",
      "execution_count": null,
      "metadata": {
        "colab": {
          "base_uri": "https://localhost:8080/"
        },
        "id": "T9G6-BQequnR",
        "outputId": "b6bc78ce-f6df-42c4-8ae8-361471bb9c7c"
      },
      "outputs": [
        {
          "output_type": "execute_result",
          "data": {
            "text/plain": [
              "(torch.Size([224, 224, 3]), 3)"
            ]
          },
          "metadata": {},
          "execution_count": 50
        }
      ],
      "source": [
        "# Create a random tensor with similar shape to an image tensor\n",
        "random_image_tensor = torch.rand(size=(224, 224, 3)) # height, width, colour channels (R, G, B)\n",
        "random_image_tensor.shape, random_image_tensor.ndim"
      ]
    },
    {
      "cell_type": "code",
      "execution_count": null,
      "metadata": {
        "colab": {
          "base_uri": "https://localhost:8080/"
        },
        "id": "K9TuV4yvrJej",
        "outputId": "63f484d0-b9a7-4a17-e882-d0899c8ea4f2"
      },
      "outputs": [
        {
          "output_type": "execute_result",
          "data": {
            "text/plain": [
              "tensor([[[0.1319, 0.9856, 0.4166],\n",
              "         [0.5539, 0.1591, 0.2057],\n",
              "         [0.1117, 0.8236, 0.1594],\n",
              "         ...,\n",
              "         [0.3235, 0.7658, 0.0590],\n",
              "         [0.1472, 0.2476, 0.6100],\n",
              "         [0.0641, 0.1482, 0.9446]],\n",
              "\n",
              "        [[0.7351, 0.0996, 0.2253],\n",
              "         [0.3091, 0.0736, 0.1439],\n",
              "         [0.6947, 0.5199, 0.5858],\n",
              "         ...,\n",
              "         [0.5050, 0.8844, 0.5576],\n",
              "         [0.6373, 0.6658, 0.8820],\n",
              "         [0.8759, 0.1205, 0.2625]],\n",
              "\n",
              "        [[0.4865, 0.6677, 0.2449],\n",
              "         [0.6517, 0.9582, 0.7843],\n",
              "         [0.0192, 0.8989, 0.5133],\n",
              "         ...,\n",
              "         [0.6570, 0.1133, 0.7915],\n",
              "         [0.1626, 0.5725, 0.2173],\n",
              "         [0.7775, 0.3962, 0.7995]],\n",
              "\n",
              "        ...,\n",
              "\n",
              "        [[0.4538, 0.9146, 0.9122],\n",
              "         [0.3644, 0.9204, 0.4333],\n",
              "         [0.6585, 0.6790, 0.4118],\n",
              "         ...,\n",
              "         [0.0576, 0.4423, 0.3367],\n",
              "         [0.7208, 0.8979, 0.2872],\n",
              "         [0.2088, 0.2272, 0.8646]],\n",
              "\n",
              "        [[0.5082, 0.2734, 0.5771],\n",
              "         [0.7411, 0.8590, 0.4911],\n",
              "         [0.0593, 0.3529, 0.4755],\n",
              "         ...,\n",
              "         [0.4879, 0.8956, 0.0313],\n",
              "         [0.4299, 0.7116, 0.1410],\n",
              "         [0.8533, 0.1965, 0.7814]],\n",
              "\n",
              "        [[0.8263, 0.1416, 0.1157],\n",
              "         [0.2873, 0.7701, 0.3942],\n",
              "         [0.2264, 0.8034, 0.2789],\n",
              "         ...,\n",
              "         [0.2455, 0.0957, 0.3308],\n",
              "         [0.9209, 0.9459, 0.7406],\n",
              "         [0.8823, 0.0529, 0.7057]]])"
            ]
          },
          "metadata": {},
          "execution_count": 51
        }
      ],
      "source": [
        "itensor = torch.rand(224, 224, 3)\n",
        "itensor"
      ]
    },
    {
      "cell_type": "code",
      "execution_count": null,
      "metadata": {
        "colab": {
          "base_uri": "https://localhost:8080/"
        },
        "id": "gD4LH8MGtNBg",
        "outputId": "283389ee-75d5-40d9-aabd-cda02510b1e4"
      },
      "outputs": [
        {
          "output_type": "execute_result",
          "data": {
            "text/plain": [
              "3"
            ]
          },
          "metadata": {},
          "execution_count": 52
        }
      ],
      "source": [
        "itensor.ndim"
      ]
    },
    {
      "cell_type": "markdown",
      "metadata": {
        "id": "InxlIvbzvuSn"
      },
      "source": [
        "## Zeros and ones"
      ]
    },
    {
      "cell_type": "code",
      "execution_count": null,
      "metadata": {
        "colab": {
          "base_uri": "https://localhost:8080/"
        },
        "id": "RZES2crItTDA",
        "outputId": "cb32b48b-0236-4684-d7d5-dc5495f307bd"
      },
      "outputs": [
        {
          "output_type": "execute_result",
          "data": {
            "text/plain": [
              "tensor([[0., 0., 0., 0.],\n",
              "        [0., 0., 0., 0.],\n",
              "        [0., 0., 0., 0.]])"
            ]
          },
          "metadata": {},
          "execution_count": 53
        }
      ],
      "source": [
        "# Create a tensor of all zeros\n",
        "zeros = torch.zeros(size=(3,4))\n",
        "zeros"
      ]
    },
    {
      "cell_type": "code",
      "execution_count": null,
      "metadata": {
        "colab": {
          "base_uri": "https://localhost:8080/"
        },
        "id": "D_KQGBSOv6rn",
        "outputId": "edc6802f-c61f-4ef3-b5bd-f601d0407ce5"
      },
      "outputs": [
        {
          "output_type": "execute_result",
          "data": {
            "text/plain": [
              "tensor([[0.6639, 0.6956, 0.2701, 0.2381],\n",
              "        [0.9182, 0.1797, 0.1304, 0.0825],\n",
              "        [0.6163, 0.7122, 0.5463, 0.8034]])"
            ]
          },
          "metadata": {},
          "execution_count": 54
        }
      ],
      "source": [
        "new_random_tensor = torch.rand(3,4)\n",
        "new_random_tensor"
      ]
    },
    {
      "cell_type": "code",
      "execution_count": null,
      "metadata": {
        "colab": {
          "base_uri": "https://localhost:8080/"
        },
        "id": "gSQdQQTpwRG2",
        "outputId": "5d0404d7-c3f7-41f8-ef9c-b2b8c8804e75"
      },
      "outputs": [
        {
          "output_type": "execute_result",
          "data": {
            "text/plain": [
              "tensor([[0., 0., 0., 0.],\n",
              "        [0., 0., 0., 0.],\n",
              "        [0., 0., 0., 0.]])"
            ]
          },
          "metadata": {},
          "execution_count": 55
        }
      ],
      "source": [
        "zeros * new_random_tensor"
      ]
    },
    {
      "cell_type": "code",
      "execution_count": null,
      "metadata": {
        "colab": {
          "base_uri": "https://localhost:8080/"
        },
        "id": "cPfrsl0SwZ6-",
        "outputId": "c1953995-a45b-4f0a-9fa8-ada69a1baca4"
      },
      "outputs": [
        {
          "output_type": "execute_result",
          "data": {
            "text/plain": [
              "tensor([[1., 1., 1., 1.],\n",
              "        [1., 1., 1., 1.],\n",
              "        [1., 1., 1., 1.]])"
            ]
          },
          "metadata": {},
          "execution_count": 56
        }
      ],
      "source": [
        "# Create a tensor of all ones\n",
        "ones = torch.ones(size=(3,4))\n",
        "ones"
      ]
    },
    {
      "cell_type": "code",
      "execution_count": null,
      "metadata": {
        "colab": {
          "base_uri": "https://localhost:8080/"
        },
        "id": "LmyPc2bAw_O3",
        "outputId": "d871b11c-104f-4b15-8651-3d8093e3bbae"
      },
      "outputs": [
        {
          "output_type": "execute_result",
          "data": {
            "text/plain": [
              "torch.float32"
            ]
          },
          "metadata": {},
          "execution_count": 57
        }
      ],
      "source": [
        "ones.dtype"
      ]
    },
    {
      "cell_type": "markdown",
      "metadata": {
        "id": "wrWxGAmmylHa"
      },
      "source": [
        "## Creating a range of tensors and tensors-like\n",
        "\n",
        "`torch.arange()` : https://pytorch.org/docs/stable/generated/torch.arange.html"
      ]
    },
    {
      "cell_type": "code",
      "execution_count": null,
      "metadata": {
        "colab": {
          "base_uri": "https://localhost:8080/"
        },
        "id": "PGLDUrUGxB2m",
        "outputId": "19c3f428-c100-4d7b-f654-ca61523aa92d"
      },
      "outputs": [
        {
          "output_type": "execute_result",
          "data": {
            "text/plain": [
              "tensor([ 1,  2,  3,  4,  5,  6,  7,  8,  9, 10])"
            ]
          },
          "metadata": {},
          "execution_count": 58
        }
      ],
      "source": [
        "# Use torch.range(1,11)\n",
        "# Depreciated message:::>>>> UserWarning: torch.range is deprecated and will be removed in a future release because its behavior is inconsistent with Python's range builtin. Instead, use torch.arange, which produces values in [start, end).\n",
        "\n",
        "one_to_ten = torch.arange(1,11)\n",
        "one_to_ten"
      ]
    },
    {
      "cell_type": "code",
      "execution_count": null,
      "metadata": {
        "colab": {
          "base_uri": "https://localhost:8080/"
        },
        "id": "1Db2EP_Gy88t",
        "outputId": "cd40696b-5b7f-4e29-c244-a2bdf0199d09"
      },
      "outputs": [
        {
          "output_type": "execute_result",
          "data": {
            "text/plain": [
              "tensor([ 0, 10, 20, 30, 40, 50, 60, 70, 80, 90])"
            ]
          },
          "metadata": {},
          "execution_count": 59
        }
      ],
      "source": [
        "zero_to_hundred = torch.arange(start=0, end=100, step=10)\n",
        "zero_to_hundred"
      ]
    },
    {
      "cell_type": "code",
      "execution_count": null,
      "metadata": {
        "colab": {
          "base_uri": "https://localhost:8080/"
        },
        "id": "_1pwiJHKz-2m",
        "outputId": "80f6a80b-f15f-4743-8d62-a8e644b06f39"
      },
      "outputs": [
        {
          "output_type": "execute_result",
          "data": {
            "text/plain": [
              "tensor([0, 0, 0, 0, 0, 0, 0, 0, 0, 0])"
            ]
          },
          "metadata": {},
          "execution_count": 60
        }
      ],
      "source": [
        "# Creating tensors like\n",
        "# when we have to define a tensor shape from a pre-defined tensor and overwrite with zeros\n",
        "new_tensor_from_zero_to_hundred_tensor = torch.zeros_like(input=zero_to_hundred)\n",
        "new_tensor_from_zero_to_hundred_tensor"
      ]
    },
    {
      "cell_type": "markdown",
      "metadata": {
        "id": "1YhJRcjsxZKm"
      },
      "source": [
        "## Tensor Datatypes\n",
        "\n",
        "**Note:** Tensor datatypes is one the 3 big errors you'll run into with PyTorch && Deep Learning:\n",
        "\n",
        "1.   Tensors not right datatype\n",
        "2.   Tensors not right shape\n",
        "3.   Tensors not on the right device\n",
        "\n",
        "\n",
        "Precision in computing: https://en.wikipedia.org/wiki/Precision_(computer_science)\n",
        "\n"
      ]
    },
    {
      "cell_type": "code",
      "execution_count": null,
      "metadata": {
        "colab": {
          "base_uri": "https://localhost:8080/"
        },
        "id": "69Ic01AdyapK",
        "outputId": "ef4a7df9-ead8-47ae-8c9e-dc1753301e8e"
      },
      "outputs": [
        {
          "output_type": "execute_result",
          "data": {
            "text/plain": [
              "tensor([5, 8, 1, 6, 2, 9])"
            ]
          },
          "metadata": {},
          "execution_count": 61
        }
      ],
      "source": [
        "# default tensor datatype - default tensor datatype is depends on input input of the given tensor\n",
        "\n",
        "# here i will set `int` numbers for the tensor, so the default datatype of the tensor will be `int64`\n",
        "# so the default is `int64` for int numbers\n",
        "default_datatype_tensor = torch.tensor([5,8,1,6,2,9])\n",
        "\n",
        "default_datatype_tensor"
      ]
    },
    {
      "cell_type": "code",
      "execution_count": null,
      "metadata": {
        "colab": {
          "base_uri": "https://localhost:8080/"
        },
        "id": "cr-DQ2MVyp17",
        "outputId": "83e9be71-94cf-44a2-c1b3-d81798fbb7f9"
      },
      "outputs": [
        {
          "output_type": "execute_result",
          "data": {
            "text/plain": [
              "torch.int64"
            ]
          },
          "metadata": {},
          "execution_count": 62
        }
      ],
      "source": [
        "default_datatype_tensor.dtype"
      ]
    },
    {
      "cell_type": "code",
      "execution_count": null,
      "metadata": {
        "colab": {
          "base_uri": "https://localhost:8080/"
        },
        "id": "P_ovVGQ_z3mc",
        "outputId": "c8974097-05d2-4ec7-8339-60b0240e7cb5"
      },
      "outputs": [
        {
          "output_type": "execute_result",
          "data": {
            "text/plain": [
              "tensor([3.1000, 4.9000, 6.4000, 0.5000])"
            ]
          },
          "metadata": {},
          "execution_count": 63
        }
      ],
      "source": [
        "# here i will set `float` numbers for the tensor, so the default datatype would be `float32`\n",
        "# so the default is `float32` for int numbers\n",
        "default_datatype_tensor = torch.tensor([3.1,4.9,6.4,.5])\n",
        "\n",
        "default_datatype_tensor"
      ]
    },
    {
      "cell_type": "code",
      "execution_count": null,
      "metadata": {
        "colab": {
          "base_uri": "https://localhost:8080/"
        },
        "id": "-T7qAD3n0ii2",
        "outputId": "2cd54d1b-7f6d-471a-dde3-81d8de40f5c2"
      },
      "outputs": [
        {
          "output_type": "execute_result",
          "data": {
            "text/plain": [
              "torch.float32"
            ]
          },
          "metadata": {},
          "execution_count": 64
        }
      ],
      "source": [
        "default_datatype_tensor.dtype"
      ]
    },
    {
      "cell_type": "code",
      "execution_count": null,
      "metadata": {
        "colab": {
          "base_uri": "https://localhost:8080/"
        },
        "id": "Y1pVnAzQ1BV2",
        "outputId": "0d69580e-099c-4707-fe35-6b77df0c7add"
      },
      "outputs": [
        {
          "output_type": "execute_result",
          "data": {
            "text/plain": [
              "tensor([3., 2., 4.])"
            ]
          },
          "metadata": {},
          "execution_count": 65
        }
      ],
      "source": [
        "# Float 32 tensor\n",
        "float_32_tensor = torch.tensor([3.0, 2.0, 4.0], dtype=torch.float32) # defined `float32`\n",
        "\n",
        "float_32_tensor"
      ]
    },
    {
      "cell_type": "code",
      "execution_count": null,
      "metadata": {
        "colab": {
          "base_uri": "https://localhost:8080/"
        },
        "id": "Kcoykb-Ix2Fm",
        "outputId": "a17e5336-a149-46be-afe8-6452c893ef67"
      },
      "outputs": [
        {
          "output_type": "execute_result",
          "data": {
            "text/plain": [
              "torch.float32"
            ]
          },
          "metadata": {},
          "execution_count": 66
        }
      ],
      "source": [
        "float_32_tensor.dtype"
      ]
    },
    {
      "cell_type": "code",
      "execution_count": null,
      "metadata": {
        "colab": {
          "base_uri": "https://localhost:8080/"
        },
        "id": "TA_TLsv5x39T",
        "outputId": "7a779487-67ea-4d0f-9b5f-6896e7b79b99"
      },
      "outputs": [
        {
          "output_type": "execute_result",
          "data": {
            "text/plain": [
              "tensor([4, 2, 4, 7])"
            ]
          },
          "metadata": {},
          "execution_count": 67
        }
      ],
      "source": [
        "# set float numbers but later define the datatype your want to sent with the tensor\n",
        "int64_tensor = torch.tensor([4.1,2,4,7], dtype=torch.int64)\n",
        "int64_tensor"
      ]
    },
    {
      "cell_type": "code",
      "execution_count": null,
      "metadata": {
        "colab": {
          "base_uri": "https://localhost:8080/"
        },
        "id": "t0UruqRr3zDe",
        "outputId": "fc97ff1f-8c82-4fc9-af61-ff73bb22281c"
      },
      "outputs": [
        {
          "output_type": "execute_result",
          "data": {
            "text/plain": [
              "torch.int64"
            ]
          },
          "metadata": {},
          "execution_count": 68
        }
      ],
      "source": [
        "int64_tensor.dtype"
      ]
    },
    {
      "cell_type": "code",
      "execution_count": null,
      "metadata": {
        "colab": {
          "base_uri": "https://localhost:8080/"
        },
        "id": "6CZLJ2cF36xu",
        "outputId": "5a968338-3813-4468-f09e-030a5acec574"
      },
      "outputs": [
        {
          "output_type": "execute_result",
          "data": {
            "text/plain": [
              "tensor([7.3000, 1.0000, 9.0000, 4.2000])"
            ]
          },
          "metadata": {},
          "execution_count": 69
        }
      ],
      "source": [
        "#\n",
        "float_32_tensor = torch.tensor([7.3,1,9,4.2], dtype=None # what datatype is the tensor (e.g. float32. float16)\n",
        "                                                        )\n",
        "float_32_tensor"
      ]
    },
    {
      "cell_type": "code",
      "execution_count": null,
      "metadata": {
        "colab": {
          "base_uri": "https://localhost:8080/"
        },
        "id": "V6RqW-8R5ElX",
        "outputId": "2df8d564-8d2d-40be-c83c-e0553accaaff"
      },
      "outputs": [
        {
          "output_type": "execute_result",
          "data": {
            "text/plain": [
              "torch.float32"
            ]
          },
          "metadata": {},
          "execution_count": 70
        }
      ],
      "source": [
        "float_32_tensor.dtype"
      ]
    },
    {
      "cell_type": "code",
      "execution_count": null,
      "metadata": {
        "colab": {
          "base_uri": "https://localhost:8080/"
        },
        "id": "EjbYwfST5K3Z",
        "outputId": "8d0a4d4d-a712-4be5-f686-8fb71ad56dcb"
      },
      "outputs": [
        {
          "output_type": "execute_result",
          "data": {
            "text/plain": [
              "tensor([4.1000, 7.5000, 7.8000])"
            ]
          },
          "metadata": {},
          "execution_count": 71
        }
      ],
      "source": [
        "# with more parameters\n",
        "float_32_tensor = torch.tensor([4.1,7.5,7.8],\n",
        "                               dtype = None, # set  datatypes:  e.g. float16, float32 :> available datatypes: https://pytorch.org/docs/stable/tensors.html || https://en.wikipedia.org/wiki/Precision_(computer_science)\n",
        "                               device = None, # what device is your tensor on e.g. 'cpu' or 'cuda' mean gpu\n",
        "                               requires_grad = False # whether or not to track gradients with this tensors operations\n",
        "                               )\n",
        "float_32_tensor"
      ]
    },
    {
      "cell_type": "code",
      "execution_count": null,
      "metadata": {
        "colab": {
          "base_uri": "https://localhost:8080/"
        },
        "id": "1eWQ8I2h5_rv",
        "outputId": "79259517-25c4-417c-f010-2290930d048a"
      },
      "outputs": [
        {
          "output_type": "execute_result",
          "data": {
            "text/plain": [
              "tensor([4.1016, 7.5000, 7.8008], dtype=torch.float16)"
            ]
          },
          "metadata": {},
          "execution_count": 72
        }
      ],
      "source": [
        "# converted the datatype 'float_32' to 'float_16' of a tensor\n",
        "\n",
        "# how might we change the datatype of the tensor\n",
        "float16_tensor = float_32_tensor.type(torch.float16)\n",
        "float16_tensor"
      ]
    },
    {
      "cell_type": "markdown",
      "source": [
        "# Excercise (DataTypes)"
      ],
      "metadata": {
        "id": "NN45b5QS3aIF"
      }
    },
    {
      "cell_type": "code",
      "execution_count": null,
      "metadata": {
        "colab": {
          "base_uri": "https://localhost:8080/"
        },
        "id": "IM0UYSqm9o0X",
        "outputId": "88dff4f7-1a8f-41d6-8e02-91c276165241"
      },
      "outputs": [
        {
          "output_type": "execute_result",
          "data": {
            "text/plain": [
              "tensor([ True, False, False,  True, False,  True,  True])"
            ]
          },
          "metadata": {},
          "execution_count": 73
        }
      ],
      "source": [
        "# boolean data types\n",
        "boolean_tensor = torch.tensor([1,0,0,1,0,1,1], dtype=torch.bool)\n",
        "\n",
        "boolean_tensor"
      ]
    },
    {
      "cell_type": "code",
      "execution_count": null,
      "metadata": {
        "colab": {
          "base_uri": "https://localhost:8080/"
        },
        "id": "tEjhDUAcAs7H",
        "outputId": "f3c85586-8709-4e03-816d-5c79a6643dfc"
      },
      "outputs": [
        {
          "output_type": "execute_result",
          "data": {
            "text/plain": [
              "torch.bool"
            ]
          },
          "metadata": {},
          "execution_count": 74
        }
      ],
      "source": [
        "boolean_tensor.dtype"
      ]
    },
    {
      "cell_type": "code",
      "execution_count": null,
      "metadata": {
        "colab": {
          "base_uri": "https://localhost:8080/"
        },
        "id": "fP36Jo6wAvDm",
        "outputId": "5ca09c62-80f4-4090-8b57-61417457aaf1"
      },
      "outputs": [
        {
          "output_type": "execute_result",
          "data": {
            "text/plain": [
              "tensor([[ 2.2000, 18.6000],\n",
              "        [ 7.2000, 13.4000]])"
            ]
          },
          "metadata": {},
          "execution_count": 75
        }
      ],
      "source": [
        "# requires_grad = True\n",
        "MY_TENSOR = torch.tensor([[1.1, 9.3], [3.6, 6.7]], requires_grad=True)\n",
        "\n",
        "OUT = MY_TENSOR.pow(2).sum()\n",
        "OUT.backward()\n",
        "MY_TENSOR.grad"
      ]
    },
    {
      "cell_type": "markdown",
      "source": [
        "## Tensor Views\n",
        "PyTorch allows a tensor to be a `View` of an existing tensor. View tensor shares the same underlying data with its base tensor. Supporting `View` avoids explicit data copy, thus allows us to do fast and memory efficient reshaping, slicing and element-wise operations.\n",
        "\n",
        "For example, to get a view of an existing tensor `first_tensor`, you can call `t.view(...)`.\n",
        "\n",
        "\n",
        "**Source:** https://pytorch.org/docs/stable/tensor_view.html#tensor-view-doc"
      ],
      "metadata": {
        "id": "vqbYBO1oM5eZ"
      }
    },
    {
      "cell_type": "code",
      "execution_count": null,
      "metadata": {
        "id": "JBvZq7X9LJ9o",
        "colab": {
          "base_uri": "https://localhost:8080/"
        },
        "outputId": "62e105f7-b459-4d46-e4da-0eab61a67987"
      },
      "outputs": [
        {
          "output_type": "execute_result",
          "data": {
            "text/plain": [
              "tensor([[0.8912, 0.6526, 0.6819, 0.8979],\n",
              "        [0.2016, 0.4027, 0.4531, 0.1546],\n",
              "        [0.0200, 0.1206, 0.3146, 0.2706],\n",
              "        [0.4275, 0.1275, 0.3710, 0.6446]])"
            ]
          },
          "metadata": {},
          "execution_count": 76
        }
      ],
      "source": [
        "# example\n",
        "first_tensor = torch.rand(4,4)\n",
        "first_tensor"
      ]
    },
    {
      "cell_type": "code",
      "source": [
        "second_tensor = first_tensor.view(2,8)\n",
        "second_tensor"
      ],
      "metadata": {
        "colab": {
          "base_uri": "https://localhost:8080/"
        },
        "id": "2FE7YjiqNOLo",
        "outputId": "31cbead4-2fc1-4839-b28b-d190ba98efe8"
      },
      "execution_count": null,
      "outputs": [
        {
          "output_type": "execute_result",
          "data": {
            "text/plain": [
              "tensor([[0.8912, 0.6526, 0.6819, 0.8979, 0.2016, 0.4027, 0.4531, 0.1546],\n",
              "        [0.0200, 0.1206, 0.3146, 0.2706, 0.4275, 0.1275, 0.3710, 0.6446]])"
            ]
          },
          "metadata": {},
          "execution_count": 77
        }
      ]
    },
    {
      "cell_type": "code",
      "source": [
        "# check if the two tensors sharing the same data\n",
        "\n",
        "# using `first_tensor.storage()` you will get deprecated message, To access UntypedStorage directly, use tensor.untyped_storage() instead of tensor.storage()\n",
        "first_tensor.untyped_storage().data_ptr() == second_tensor.untyped_storage().data_ptr() # `first_tensor` and `second_tensor` share the same underlying data"
      ],
      "metadata": {
        "colab": {
          "base_uri": "https://localhost:8080/"
        },
        "id": "kz5er5aGNZpg",
        "outputId": "f3c6d71a-2946-4b99-924d-b25815a1648c"
      },
      "execution_count": null,
      "outputs": [
        {
          "output_type": "execute_result",
          "data": {
            "text/plain": [
              "True"
            ]
          },
          "metadata": {},
          "execution_count": 78
        }
      ]
    },
    {
      "cell_type": "code",
      "source": [
        "# Modifying view tensor(e.g.`second_tensor`) changes base tensor(e.g. `first_tensor`) as well\n",
        "\n",
        "# first extract value of given indices\n",
        "second_tensor[0][0]\n",
        "\n",
        "# updating value\n",
        "second_tensor[0][0] = 0.401\n",
        "\n",
        "# check whether the value of the first_tensor is updated or not\n",
        "first_tensor[0][0]\n",
        "\n",
        "# print the whole tensor\n",
        "first_tensor\n",
        "\n",
        "#    Note:** Since views share underlying data with its base tensor, if you edit the data in the view, it will be reflected in the base tensor as well.\n",
        "\n"
      ],
      "metadata": {
        "colab": {
          "base_uri": "https://localhost:8080/"
        },
        "id": "NTPuvSBnOpBA",
        "outputId": "8682734c-1985-4dd8-ef36-610b1e275b7f"
      },
      "execution_count": null,
      "outputs": [
        {
          "output_type": "execute_result",
          "data": {
            "text/plain": [
              "tensor([[0.4010, 0.6526, 0.6819, 0.8979],\n",
              "        [0.2016, 0.4027, 0.4531, 0.1546],\n",
              "        [0.0200, 0.1206, 0.3146, 0.2706],\n",
              "        [0.4275, 0.1275, 0.3710, 0.6446]])"
            ]
          },
          "metadata": {},
          "execution_count": 79
        }
      ]
    },
    {
      "cell_type": "markdown",
      "source": [
        "Typically a PyTorch op returns a new tensor as output, e.g. `add()`. But in case of view ops, outputs are views of input tensors to avoid unnecessary data copy. No data movement occurs when creating a view, view tensor just changes the way it interprets the same data. Taking a view of contiguous tensor could potentially produce a non-contiguous tensor. Users should pay additional attention as contiguity might have implicit performance impact. `transpose()` is a common example.\n",
        "\n",
        "**Source:** https://pytorch.org/docs/stable/tensor_view.html#tensor-views"
      ],
      "metadata": {
        "id": "haPTOiiQSMf9"
      }
    },
    {
      "cell_type": "code",
      "source": [
        "first_tensor.is_contiguous()"
      ],
      "metadata": {
        "colab": {
          "base_uri": "https://localhost:8080/"
        },
        "id": "rOIZ-YAkQukQ",
        "outputId": "a90ba8bd-731c-4045-ccc0-3fe757117276"
      },
      "execution_count": null,
      "outputs": [
        {
          "output_type": "execute_result",
          "data": {
            "text/plain": [
              "True"
            ]
          },
          "metadata": {},
          "execution_count": 80
        }
      ]
    },
    {
      "cell_type": "code",
      "source": [
        "second_tensor.is_contiguous()"
      ],
      "metadata": {
        "colab": {
          "base_uri": "https://localhost:8080/"
        },
        "id": "OopIaXLOS34A",
        "outputId": "5ff89f6d-b6c5-4c49-c668-a835fb37d75a"
      },
      "execution_count": null,
      "outputs": [
        {
          "output_type": "execute_result",
          "data": {
            "text/plain": [
              "True"
            ]
          },
          "metadata": {},
          "execution_count": 81
        }
      ]
    },
    {
      "cell_type": "code",
      "source": [
        "# create new base tensor\n",
        "base_tensor = torch.tensor([[0,1],[2,3]])\n",
        "print(base_tensor.is_contiguous())\n",
        "base_tensor"
      ],
      "metadata": {
        "colab": {
          "base_uri": "https://localhost:8080/"
        },
        "id": "JRwqpH6nS9Z6",
        "outputId": "6391cfe2-f024-4993-bc66-dea428d66440"
      },
      "execution_count": null,
      "outputs": [
        {
          "output_type": "stream",
          "name": "stdout",
          "text": [
            "True\n"
          ]
        },
        {
          "output_type": "execute_result",
          "data": {
            "text/plain": [
              "tensor([[0, 1],\n",
              "        [2, 3]])"
            ]
          },
          "metadata": {},
          "execution_count": 82
        }
      ]
    },
    {
      "cell_type": "code",
      "source": [
        "view_tensor = base_tensor.transpose(0,1) # `view_tensor` if a view of `base_tensor`. No data movement happened here\n",
        "view_tensor"
      ],
      "metadata": {
        "colab": {
          "base_uri": "https://localhost:8080/"
        },
        "id": "ZotPEpDPTU3o",
        "outputId": "ed485081-6883-43aa-ac5e-fc9df77adb6e"
      },
      "execution_count": null,
      "outputs": [
        {
          "output_type": "execute_result",
          "data": {
            "text/plain": [
              "tensor([[0, 2],\n",
              "        [1, 3]])"
            ]
          },
          "metadata": {},
          "execution_count": 83
        }
      ]
    },
    {
      "cell_type": "code",
      "source": [
        "# `view_tensor`(transpose) might be non-contiguous\n",
        "# so, let's check whether it's right or not\n",
        "view_tensor.is_contiguous()"
      ],
      "metadata": {
        "colab": {
          "base_uri": "https://localhost:8080/"
        },
        "id": "haczZbJXTaog",
        "outputId": "36da7066-f9aa-45f8-fcda-0f4cd81c8acb"
      },
      "execution_count": null,
      "outputs": [
        {
          "output_type": "execute_result",
          "data": {
            "text/plain": [
              "False"
            ]
          },
          "metadata": {},
          "execution_count": 84
        }
      ]
    },
    {
      "cell_type": "code",
      "source": [
        "# To get contiguous tensor, call `.contiguous()` to enfore\n",
        "# copying data when `view_tensor` is not contiguous\n",
        "copy_tensor = view_tensor.contiguous()\n",
        "copy_tensor\n",
        "\n",
        "# check now, if `copy_tensor` is contiguous or not\n",
        "copy_tensor.is_contiguous()"
      ],
      "metadata": {
        "colab": {
          "base_uri": "https://localhost:8080/"
        },
        "id": "Eo9KwJv5U-lN",
        "outputId": "5d52d01d-b202-47e1-b524-41ca6412f635"
      },
      "execution_count": null,
      "outputs": [
        {
          "output_type": "execute_result",
          "data": {
            "text/plain": [
              "True"
            ]
          },
          "metadata": {},
          "execution_count": 85
        }
      ]
    },
    {
      "cell_type": "markdown",
      "source": [
        "## Arithmetic Operations"
      ],
      "metadata": {
        "id": "3DbHkuDJ27_H"
      }
    },
    {
      "cell_type": "code",
      "source": [
        "# multiplication with two different datatypes or with same datatype but different bits(e.g. 16 or 32 or 64)\n",
        "\n",
        "float_16_tensor = torch.tensor([1.1,5.3,6.9], dtype=torch.float16)\n",
        "\n",
        "float_16_tensor"
      ],
      "metadata": {
        "id": "7wvaXS5TVWrY",
        "colab": {
          "base_uri": "https://localhost:8080/"
        },
        "outputId": "c01b4d20-e6a0-4406-9ecd-35dfe3de8f3c"
      },
      "execution_count": null,
      "outputs": [
        {
          "output_type": "execute_result",
          "data": {
            "text/plain": [
              "tensor([1.0996, 5.3008, 6.8984], dtype=torch.float16)"
            ]
          },
          "metadata": {},
          "execution_count": 86
        }
      ]
    },
    {
      "cell_type": "code",
      "source": [
        "flotat_32_tensor = torch.tensor([4.7, 4.1,8.3], dtype=torch.float32)\n",
        "\n",
        "float_32_tensor"
      ],
      "metadata": {
        "colab": {
          "base_uri": "https://localhost:8080/"
        },
        "id": "ykm8aLKs4VQy",
        "outputId": "12b7ebe7-0138-4aca-ba98-0c610bead41e"
      },
      "execution_count": null,
      "outputs": [
        {
          "output_type": "execute_result",
          "data": {
            "text/plain": [
              "tensor([4.1000, 7.5000, 7.8000])"
            ]
          },
          "metadata": {},
          "execution_count": 87
        }
      ]
    },
    {
      "cell_type": "code",
      "source": [
        "float_16_tensor * float_32_tensor"
      ],
      "metadata": {
        "colab": {
          "base_uri": "https://localhost:8080/"
        },
        "id": "9__BoNdc4tR8",
        "outputId": "ad241131-823c-402d-a33e-0677208c31e8"
      },
      "execution_count": null,
      "outputs": [
        {
          "output_type": "execute_result",
          "data": {
            "text/plain": [
              "tensor([ 4.5084, 39.7559, 53.8078])"
            ]
          },
          "metadata": {},
          "execution_count": 88
        }
      ]
    },
    {
      "cell_type": "code",
      "source": [
        "int_32_tensor = torch.tensor([5,8,3], dtype=torch.int32)\n",
        "int_32_tensor"
      ],
      "metadata": {
        "colab": {
          "base_uri": "https://localhost:8080/"
        },
        "id": "PqvD8Q_m41-4",
        "outputId": "8d76cf16-5a62-42a1-d5da-c8ab2f453a26"
      },
      "execution_count": null,
      "outputs": [
        {
          "output_type": "execute_result",
          "data": {
            "text/plain": [
              "tensor([5, 8, 3], dtype=torch.int32)"
            ]
          },
          "metadata": {},
          "execution_count": 89
        }
      ]
    },
    {
      "cell_type": "code",
      "source": [
        "int_32_tensor * float_32_tensor"
      ],
      "metadata": {
        "colab": {
          "base_uri": "https://localhost:8080/"
        },
        "id": "xkFXd7f35fD9",
        "outputId": "269730af-9642-4960-803f-658cf20cf03e"
      },
      "execution_count": null,
      "outputs": [
        {
          "output_type": "execute_result",
          "data": {
            "text/plain": [
              "tensor([20.5000, 60.0000, 23.4000])"
            ]
          },
          "metadata": {},
          "execution_count": 90
        }
      ]
    },
    {
      "cell_type": "code",
      "source": [
        "int_64_tensor = torch.tensor([2,7,9], dtype=torch.int64)\n",
        "int_64_tensor"
      ],
      "metadata": {
        "colab": {
          "base_uri": "https://localhost:8080/"
        },
        "id": "nrIQ_VxQ5jmG",
        "outputId": "fd658407-38bd-4bde-e9c8-7c09e99c020f"
      },
      "execution_count": null,
      "outputs": [
        {
          "output_type": "execute_result",
          "data": {
            "text/plain": [
              "tensor([2, 7, 9])"
            ]
          },
          "metadata": {},
          "execution_count": 91
        }
      ]
    },
    {
      "cell_type": "code",
      "source": [
        "float_32_tensor * int_64_tensor"
      ],
      "metadata": {
        "colab": {
          "base_uri": "https://localhost:8080/"
        },
        "id": "fJmXW4YO6Col",
        "outputId": "475eb501-35b5-4f63-a5e4-53e6bdae2f97"
      },
      "execution_count": null,
      "outputs": [
        {
          "output_type": "execute_result",
          "data": {
            "text/plain": [
              "tensor([ 8.2000, 52.5000, 70.2000])"
            ]
          },
          "metadata": {},
          "execution_count": 92
        }
      ]
    },
    {
      "cell_type": "code",
      "source": [
        "long_tensor = torch.tensor([4,6,9], dtype=torch.long)\n",
        "long_tensor"
      ],
      "metadata": {
        "colab": {
          "base_uri": "https://localhost:8080/"
        },
        "id": "njjfl_CF6IHG",
        "outputId": "443ece4f-357b-4478-f052-65cf9df0d47f"
      },
      "execution_count": null,
      "outputs": [
        {
          "output_type": "execute_result",
          "data": {
            "text/plain": [
              "tensor([4, 6, 9])"
            ]
          },
          "metadata": {},
          "execution_count": 93
        }
      ]
    },
    {
      "cell_type": "code",
      "source": [
        "long_tensor * float_32_tensor"
      ],
      "metadata": {
        "colab": {
          "base_uri": "https://localhost:8080/"
        },
        "id": "m_CXAQ2n6ltN",
        "outputId": "23885b61-0d9d-4386-9fa2-0838d149f2fd"
      },
      "execution_count": null,
      "outputs": [
        {
          "output_type": "execute_result",
          "data": {
            "text/plain": [
              "tensor([16.4000, 45.0000, 70.2000])"
            ]
          },
          "metadata": {},
          "execution_count": 94
        }
      ]
    },
    {
      "cell_type": "markdown",
      "source": [
        "## Getting information from tensors (tensor attributes)\n",
        "1.   Tensors not right datatype - to do that get datatype from a tensor, can use `tensor.dtype`\n",
        "2.   Tensors not right shape - to get shape from a tensor, can use `tensor.shape`\n",
        "3.   Tensors not on the right device - to get device from a tensor, can use `tensor.device`"
      ],
      "metadata": {
        "id": "9eK6c9JA-Qlp"
      }
    },
    {
      "cell_type": "code",
      "source": [
        "# Create a tensor\n",
        "some_tensor = torch.rand(3,4)\n",
        "some_tensor"
      ],
      "metadata": {
        "colab": {
          "base_uri": "https://localhost:8080/"
        },
        "id": "5n37UBXp7nnx",
        "outputId": "d34a9c97-9386-4a1d-ad37-1e5ac4447497"
      },
      "execution_count": null,
      "outputs": [
        {
          "output_type": "execute_result",
          "data": {
            "text/plain": [
              "tensor([[0.5559, 0.8261, 0.2269, 0.6167],\n",
              "        [0.0237, 0.4741, 0.4810, 0.7374],\n",
              "        [0.5160, 0.5757, 0.6280, 0.0631]])"
            ]
          },
          "metadata": {},
          "execution_count": 95
        }
      ]
    },
    {
      "cell_type": "code",
      "source": [
        "# Find out details anout some tensor\n",
        "print(some_tensor)\n",
        "print(f\"DataType of tensor: {some_tensor.dtype}\")\n",
        "print(f\"Shape of tensor: {some_tensor.shape}\") # there are two way to get shape or size of a tensor, 1. with attribute (e.g. some_tensor.shape) 2. with function (e.g. some_tensor.size())\n",
        "print(f\"Device of tensor is on: {some_tensor.device}\")"
      ],
      "metadata": {
        "colab": {
          "base_uri": "https://localhost:8080/"
        },
        "id": "RWp4NcmB-aVX",
        "outputId": "cb65674b-9948-4f96-d3c0-090cc49121c1"
      },
      "execution_count": null,
      "outputs": [
        {
          "output_type": "stream",
          "name": "stdout",
          "text": [
            "tensor([[0.5559, 0.8261, 0.2269, 0.6167],\n",
            "        [0.0237, 0.4741, 0.4810, 0.7374],\n",
            "        [0.5160, 0.5757, 0.6280, 0.0631]])\n",
            "DataType of tensor: torch.float32\n",
            "Shape of tensor: torch.Size([3, 4])\n",
            "Device of tensor is on: cpu\n"
          ]
        }
      ]
    },
    {
      "cell_type": "code",
      "source": [
        "check = torch.rand(3,4)\n",
        "check"
      ],
      "metadata": {
        "colab": {
          "base_uri": "https://localhost:8080/"
        },
        "id": "smMcW8lV_gp-",
        "outputId": "7ee61b0b-d8fb-47bc-9bf9-6dc923c2ab75"
      },
      "execution_count": null,
      "outputs": [
        {
          "output_type": "execute_result",
          "data": {
            "text/plain": [
              "tensor([[0.2289, 0.1786, 0.8862, 0.8252],\n",
              "        [0.4579, 0.5534, 0.8003, 0.3172],\n",
              "        [0.0937, 0.3911, 0.3381, 0.5244]])"
            ]
          },
          "metadata": {},
          "execution_count": 97
        }
      ]
    },
    {
      "cell_type": "code",
      "source": [
        "check.dtype\n"
      ],
      "metadata": {
        "colab": {
          "base_uri": "https://localhost:8080/"
        },
        "id": "_Tyjip5KBIVH",
        "outputId": "6b36a75b-fed1-4243-9e7f-2b96c7e0b58e"
      },
      "execution_count": null,
      "outputs": [
        {
          "output_type": "execute_result",
          "data": {
            "text/plain": [
              "torch.float32"
            ]
          },
          "metadata": {},
          "execution_count": 98
        }
      ]
    },
    {
      "cell_type": "code",
      "source": [
        "deck = check.type(torch.float16)\n",
        "deck.dtype"
      ],
      "metadata": {
        "colab": {
          "base_uri": "https://localhost:8080/"
        },
        "id": "-5baBnedBJ9u",
        "outputId": "c8d7a91a-fea8-4e3d-a8ff-7c523b07e398"
      },
      "execution_count": null,
      "outputs": [
        {
          "output_type": "execute_result",
          "data": {
            "text/plain": [
              "torch.float16"
            ]
          },
          "metadata": {},
          "execution_count": 99
        }
      ]
    },
    {
      "cell_type": "code",
      "source": [
        "deck"
      ],
      "metadata": {
        "colab": {
          "base_uri": "https://localhost:8080/"
        },
        "id": "tf3qUA-lBR79",
        "outputId": "dc4e202b-6a1a-4241-b489-ecf2fc59a587"
      },
      "execution_count": null,
      "outputs": [
        {
          "output_type": "execute_result",
          "data": {
            "text/plain": [
              "tensor([[0.2289, 0.1786, 0.8862, 0.8252],\n",
              "        [0.4580, 0.5532, 0.8003, 0.3171],\n",
              "        [0.0937, 0.3911, 0.3381, 0.5244]], dtype=torch.float16)"
            ]
          },
          "metadata": {},
          "execution_count": 100
        }
      ]
    },
    {
      "cell_type": "markdown",
      "source": [
        "### Manipulating Tensors (tensor operations)\n",
        "\n",
        "Tensor operations include:\n",
        "* Addition\n",
        "* Subtraction\n",
        "* Multiplication (element-wise)\n",
        "* Division\n",
        "* Matrix Multiplication"
      ],
      "metadata": {
        "id": "8hOWuHDlCGKG"
      }
    },
    {
      "cell_type": "code",
      "source": [
        "# Create a tensor and add 10 to it\n",
        "tensor = torch.tensor([1,2,3])\n",
        "tensor + 10"
      ],
      "metadata": {
        "colab": {
          "base_uri": "https://localhost:8080/"
        },
        "id": "ecgEXNdaBtZO",
        "outputId": "17901592-4e4b-49b1-a3da-ae7207e549e1"
      },
      "execution_count": null,
      "outputs": [
        {
          "output_type": "execute_result",
          "data": {
            "text/plain": [
              "tensor([11, 12, 13])"
            ]
          },
          "metadata": {},
          "execution_count": 101
        }
      ]
    },
    {
      "cell_type": "code",
      "source": [
        "# Subtract 10\n",
        "tensor - 10"
      ],
      "metadata": {
        "colab": {
          "base_uri": "https://localhost:8080/"
        },
        "id": "Xrhzjp2vDABi",
        "outputId": "a91a2573-0bab-4482-c0fa-fd3fc28d5b0a"
      },
      "execution_count": null,
      "outputs": [
        {
          "output_type": "execute_result",
          "data": {
            "text/plain": [
              "tensor([-9, -8, -7])"
            ]
          },
          "metadata": {},
          "execution_count": 102
        }
      ]
    },
    {
      "cell_type": "code",
      "source": [
        "# Multiply tensor by 10\n",
        "tensor * 10"
      ],
      "metadata": {
        "colab": {
          "base_uri": "https://localhost:8080/"
        },
        "id": "j1zd57FBCrSa",
        "outputId": "a1d16b7d-7fb0-4525-8cc6-7b1c94158599"
      },
      "execution_count": null,
      "outputs": [
        {
          "output_type": "execute_result",
          "data": {
            "text/plain": [
              "tensor([10, 20, 30])"
            ]
          },
          "metadata": {},
          "execution_count": 103
        }
      ]
    },
    {
      "cell_type": "code",
      "source": [
        "tensor"
      ],
      "metadata": {
        "colab": {
          "base_uri": "https://localhost:8080/"
        },
        "id": "fIWcST7gC1Fe",
        "outputId": "34bb2ace-918e-4cb5-a57a-10693a263f1e"
      },
      "execution_count": null,
      "outputs": [
        {
          "output_type": "execute_result",
          "data": {
            "text/plain": [
              "tensor([1, 2, 3])"
            ]
          },
          "metadata": {},
          "execution_count": 104
        }
      ]
    },
    {
      "cell_type": "code",
      "source": [
        "# Try out PyTorch in-built functions\n",
        "torch.mul(tensor, 10)"
      ],
      "metadata": {
        "colab": {
          "base_uri": "https://localhost:8080/"
        },
        "id": "uUlPU5FzC60w",
        "outputId": "587205b6-422f-4930-9eeb-f443019fb334"
      },
      "execution_count": null,
      "outputs": [
        {
          "output_type": "execute_result",
          "data": {
            "text/plain": [
              "tensor([10, 20, 30])"
            ]
          },
          "metadata": {},
          "execution_count": 105
        }
      ]
    },
    {
      "cell_type": "code",
      "source": [
        "torch.add(tensor,10)"
      ],
      "metadata": {
        "colab": {
          "base_uri": "https://localhost:8080/"
        },
        "id": "bujKYw3aDQJn",
        "outputId": "e3bdac9f-bb6b-4946-9707-0581d6ba1afa"
      },
      "execution_count": null,
      "outputs": [
        {
          "output_type": "execute_result",
          "data": {
            "text/plain": [
              "tensor([11, 12, 13])"
            ]
          },
          "metadata": {},
          "execution_count": 106
        }
      ]
    },
    {
      "cell_type": "markdown",
      "source": [
        "### Matrix multiplication (Part #1)\n",
        "\n",
        "Two main ways of performing multiplication in neural networks and deep learning.\n",
        "\n",
        "1. Element-wise Multiplication\n",
        "2. Matrix Multiplication (dot prouct)\n",
        "\n",
        "More information on multiplying matrices - https://www.mathsisfun.com/algebra/matrix-multiplying.html#"
      ],
      "metadata": {
        "id": "Hsg8A5klEgyU"
      }
    },
    {
      "cell_type": "code",
      "source": [
        "# Element wise multiplication\n",
        "print(tensor, \"*\", tensor)\n",
        "print(f\"Equals: {tensor * tensor}\")"
      ],
      "metadata": {
        "colab": {
          "base_uri": "https://localhost:8080/"
        },
        "id": "CVxqU1yvDYDo",
        "outputId": "299eebb5-2a6a-47d0-99ba-6d209310fb7a"
      },
      "execution_count": null,
      "outputs": [
        {
          "output_type": "stream",
          "name": "stdout",
          "text": [
            "tensor([1, 2, 3]) * tensor([1, 2, 3])\n",
            "Equals: tensor([1, 4, 9])\n"
          ]
        }
      ]
    },
    {
      "cell_type": "code",
      "source": [
        "# Matrix Multiplication by torch\n",
        "torch.matmul(tensor, tensor)"
      ],
      "metadata": {
        "colab": {
          "base_uri": "https://localhost:8080/"
        },
        "id": "yH-CEAF2PvmZ",
        "outputId": "6395c74a-02d5-4ce9-8a22-458a4a898921"
      },
      "execution_count": null,
      "outputs": [
        {
          "output_type": "execute_result",
          "data": {
            "text/plain": [
              "tensor(14)"
            ]
          },
          "metadata": {},
          "execution_count": 108
        }
      ]
    },
    {
      "cell_type": "code",
      "source": [
        "# Matrix Multiplication by hand\n",
        "1*1 + 2*2 + 3*3"
      ],
      "metadata": {
        "colab": {
          "base_uri": "https://localhost:8080/"
        },
        "id": "43eZNeXZQXsE",
        "outputId": "0118e53f-97ad-4cca-cf90-9e0cef5e01cc"
      },
      "execution_count": null,
      "outputs": [
        {
          "output_type": "execute_result",
          "data": {
            "text/plain": [
              "14"
            ]
          },
          "metadata": {},
          "execution_count": 109
        }
      ]
    },
    {
      "cell_type": "code",
      "source": [
        "%%time\n",
        "value = 0\n",
        "for i in range(len(tensor)):\n",
        "  value += tensor[0] * tensor[0]\n",
        "print(value)"
      ],
      "metadata": {
        "colab": {
          "base_uri": "https://localhost:8080/"
        },
        "id": "3CcVBUt0Q2Ej",
        "outputId": "1ae293e8-fd7c-450f-a78d-31a9be41f708"
      },
      "execution_count": null,
      "outputs": [
        {
          "output_type": "stream",
          "name": "stdout",
          "text": [
            "tensor(3)\n",
            "CPU times: user 2.73 ms, sys: 0 ns, total: 2.73 ms\n",
            "Wall time: 4.81 ms\n"
          ]
        }
      ]
    },
    {
      "cell_type": "code",
      "source": [
        "%%time\n",
        "torch.matmul(tensor, tensor)"
      ],
      "metadata": {
        "id": "g0FTLjlrRZqT",
        "colab": {
          "base_uri": "https://localhost:8080/"
        },
        "outputId": "c7ef2414-8746-418f-9b00-3a031913723c"
      },
      "execution_count": null,
      "outputs": [
        {
          "output_type": "stream",
          "name": "stdout",
          "text": [
            "CPU times: user 66 µs, sys: 11 µs, total: 77 µs\n",
            "Wall time: 80.8 µs\n"
          ]
        },
        {
          "output_type": "execute_result",
          "data": {
            "text/plain": [
              "tensor(14)"
            ]
          },
          "metadata": {},
          "execution_count": 111
        }
      ]
    },
    {
      "cell_type": "markdown",
      "source": [
        "### Matrix Multiplication (Part #2)\n",
        "\n",
        "There are two main rules that performing matrix multiplication needs to stisfy:\n",
        "1.  The **inner dimensions** must match:\n",
        "    *   `(3,2) @ (3,2)` won't work\n",
        "    *   `(2,3) @ (3,2)` will work\n",
        "    *   `(3,2) @ (2,3)` will work\n",
        "\n",
        "    ***Note:*** `@` is a attribute in tensor for multiplying two tensor whereas `tensor.matmul()` is a function. e.g. `tensor1 @ tensor2` `==` `torch.matmul(tensor1, tensor2)`\n",
        "2.  The resulting matrix has the shape of the **outer dimensions**:\n",
        "    *   `(2,3) @ (3,2)` -> `(2,2)`\n",
        "    *   `(3,2) @ (2,3)` -> `(3,3)`\n",
        "\n",
        "#### One of the main errors in matrix multiplication is shape error"
      ],
      "metadata": {
        "id": "KD9D692wfsY-"
      }
    },
    {
      "cell_type": "code",
      "source": [
        "torch.matmul(torch.rand(3,2), torch.rand(3,2)) # error occurs"
      ],
      "metadata": {
        "colab": {
          "base_uri": "https://localhost:8080/",
          "height": 144
        },
        "id": "MG5CwIXhe_Ba",
        "outputId": "8143e8e4-bfd1-4ac3-a4c7-5014a1c3abea"
      },
      "execution_count": null,
      "outputs": [
        {
          "output_type": "error",
          "ename": "RuntimeError",
          "evalue": "mat1 and mat2 shapes cannot be multiplied (3x2 and 3x2)",
          "traceback": [
            "\u001b[0;31m---------------------------------------------------------------------------\u001b[0m",
            "\u001b[0;31mRuntimeError\u001b[0m                              Traceback (most recent call last)",
            "\u001b[0;32m<ipython-input-112-2ce3796d01ab>\u001b[0m in \u001b[0;36m<cell line: 1>\u001b[0;34m()\u001b[0m\n\u001b[0;32m----> 1\u001b[0;31m \u001b[0mtorch\u001b[0m\u001b[0;34m.\u001b[0m\u001b[0mmatmul\u001b[0m\u001b[0;34m(\u001b[0m\u001b[0mtorch\u001b[0m\u001b[0;34m.\u001b[0m\u001b[0mrand\u001b[0m\u001b[0;34m(\u001b[0m\u001b[0;36m3\u001b[0m\u001b[0;34m,\u001b[0m\u001b[0;36m2\u001b[0m\u001b[0;34m)\u001b[0m\u001b[0;34m,\u001b[0m \u001b[0mtorch\u001b[0m\u001b[0;34m.\u001b[0m\u001b[0mrand\u001b[0m\u001b[0;34m(\u001b[0m\u001b[0;36m3\u001b[0m\u001b[0;34m,\u001b[0m\u001b[0;36m2\u001b[0m\u001b[0;34m)\u001b[0m\u001b[0;34m)\u001b[0m \u001b[0;31m# error occurs\u001b[0m\u001b[0;34m\u001b[0m\u001b[0;34m\u001b[0m\u001b[0m\n\u001b[0m",
            "\u001b[0;31mRuntimeError\u001b[0m: mat1 and mat2 shapes cannot be multiplied (3x2 and 3x2)"
          ]
        }
      ]
    },
    {
      "cell_type": "code",
      "source": [
        "torch.matmul(torch.rand(2,3), torch.rand(3,2))"
      ],
      "metadata": {
        "id": "idsqlxdbi0y1"
      },
      "execution_count": null,
      "outputs": []
    },
    {
      "cell_type": "code",
      "source": [
        "torch.matmul(torch.rand(3,2), torch.rand(2,3))"
      ],
      "metadata": {
        "id": "lSDSJAIVki07"
      },
      "execution_count": null,
      "outputs": []
    },
    {
      "cell_type": "code",
      "source": [
        "torch.matmul(torch.rand(4,5), torch.rand(5,4))"
      ],
      "metadata": {
        "id": "d6iOTamHk59s"
      },
      "execution_count": null,
      "outputs": []
    },
    {
      "cell_type": "code",
      "source": [
        "torch.matmul(torch.rand(10,4), torch.rand(4, 5))"
      ],
      "metadata": {
        "id": "KGOYvozhllNE"
      },
      "execution_count": null,
      "outputs": []
    },
    {
      "cell_type": "code",
      "source": [
        "# if inner dimension match but different outer dimension\n",
        "torch.matmul(torch.rand(10,4), torch.rand(4, 6))"
      ],
      "metadata": {
        "id": "xk8l3FA4lxRb"
      },
      "execution_count": null,
      "outputs": []
    },
    {
      "cell_type": "markdown",
      "source": [
        "### One of the most common errors in deep learning: shape errors"
      ],
      "metadata": {
        "id": "lOSBAtQwoN9O"
      }
    },
    {
      "cell_type": "markdown",
      "source": [
        "### Matrix Multiplication (Part #3: Dealing with tensor shape errors)\n"
      ],
      "metadata": {
        "id": "klE0pJe33pUZ"
      }
    },
    {
      "cell_type": "code",
      "source": [
        "# Shapes for matrix multiplication\n",
        "tensor_A = torch.tensor([[1,2],\n",
        "                         [3,4],\n",
        "                         [5,6]])\n",
        "tensor_B = torch.tensor([[7,10],\n",
        "                         [8,11],\n",
        "                         [9,12]])\n",
        "\n",
        "#torch.mm(tensor_A, tensor_B) # torch.mm is the same as torch.matmul (it's as an alias for writing less code)\n",
        "torch.matmul(tensor_A, tensor_B)"
      ],
      "metadata": {
        "id": "kgYxeIih39of"
      },
      "execution_count": null,
      "outputs": []
    },
    {
      "cell_type": "code",
      "source": [
        "tensor_A.shape, tensor_B.shape"
      ],
      "metadata": {
        "id": "ma0K8fI64WRI"
      },
      "execution_count": null,
      "outputs": []
    },
    {
      "cell_type": "markdown",
      "source": [
        "To fix our tensor shape issues, we can manipulate the shape of one of our tensors using **transpose**.\n",
        "\n",
        "**Note:** A **transpose** switches the axes or dimensions of a given tensor"
      ],
      "metadata": {
        "id": "epP9UNsn5S4K"
      }
    },
    {
      "cell_type": "code",
      "source": [
        "tensor_B, tensor_B.shape"
      ],
      "metadata": {
        "id": "YTytkZMh6NBn"
      },
      "execution_count": null,
      "outputs": []
    },
    {
      "cell_type": "code",
      "source": [
        "tensor_B.t() # transpose via function"
      ],
      "metadata": {
        "id": "HKlFUDpc_sRe"
      },
      "execution_count": null,
      "outputs": []
    },
    {
      "cell_type": "code",
      "source": [
        "tensor_B.T, tensor_B.T.shape #tranpose via attribute"
      ],
      "metadata": {
        "id": "zHor28N15LLi"
      },
      "execution_count": null,
      "outputs": []
    },
    {
      "cell_type": "code",
      "source": [
        "# second approach to make transpose through function\n",
        "torch.transpose(tensor_B, 0, 1) # reference:: https://pytorch.org/docs/stable/generated/torch.transpose.html"
      ],
      "metadata": {
        "id": "x9Ku3HOT57sS"
      },
      "execution_count": null,
      "outputs": []
    },
    {
      "cell_type": "code",
      "source": [
        "# The matrix multiplication operation works when tensorB is transposed\n",
        "print(f\"Original shapes: tensor_A = {tensor_A.shape}, tensor_B = {tensor_B.shape}\")\n",
        "print(f\"New shapes: tensor_A = {tensor_A.shape} (same as above), tensor_B.T = {tensor_B.T.shape}\")\n",
        "print(f\"Multiplying: {tensor_A.shape} @ {tensor_B.T.shape} <- inner dimensions must match\")\n",
        "print(f\"Output: \\n\")\n",
        "output = torch.matmul(tensor_A, tensor_B.T)\n",
        "print(output)\n",
        "print(f\"\\nOutput shape: {output.shape}\")"
      ],
      "metadata": {
        "id": "Hp5HQ2Fy59SI"
      },
      "execution_count": null,
      "outputs": []
    },
    {
      "cell_type": "markdown",
      "source": [
        "# Finding the min, max, mean, sum etc (tensor aggregation)"
      ],
      "metadata": {
        "id": "Y75g8h6vf8SQ"
      }
    },
    {
      "cell_type": "code",
      "source": [
        "# Create a tensor\n",
        "x = torch.arange(0, 100, 10)\n",
        "x, x.dtype"
      ],
      "metadata": {
        "id": "DCvyY-gf7hyn"
      },
      "execution_count": null,
      "outputs": []
    },
    {
      "cell_type": "code",
      "source": [
        "# Find the min\n",
        "torch.min(x), x.min()"
      ],
      "metadata": {
        "id": "UOcc4dI4_hNZ"
      },
      "execution_count": null,
      "outputs": []
    },
    {
      "cell_type": "code",
      "source": [
        "# Find the max\n",
        "torch.max(x), x.max()"
      ],
      "metadata": {
        "id": "inBdt7SBgn94"
      },
      "execution_count": null,
      "outputs": []
    },
    {
      "cell_type": "code",
      "source": [
        "# Find the mean **note: the torch.mean() function requires a tensor of float32 datatype to work\n",
        "torch.mean(x.type(torch.float32)), x.type(torch.float32).mean()"
      ],
      "metadata": {
        "id": "8AF_seXIgsJA"
      },
      "execution_count": null,
      "outputs": []
    },
    {
      "cell_type": "code",
      "source": [
        "# Find the sum\n",
        "torch.sum(x), x.sum()"
      ],
      "metadata": {
        "id": "UYoG5ZO-hOpw"
      },
      "execution_count": null,
      "outputs": []
    },
    {
      "cell_type": "markdown",
      "source": [
        "# Finding the positional min and max of tensors"
      ],
      "metadata": {
        "id": "KmRNRSILlDLy"
      }
    },
    {
      "cell_type": "code",
      "source": [
        "x = torch.arange(1, 100, 10)\n",
        "x"
      ],
      "metadata": {
        "id": "sKm1Abp_jLZ1"
      },
      "execution_count": null,
      "outputs": []
    },
    {
      "cell_type": "code",
      "source": [
        "# Find the position in tensor that has the minimum value with `argmin()` -> returns index position of target tensor where the minimum value occurs.\n",
        "x.argmin()"
      ],
      "metadata": {
        "id": "bX4l_JEaleTx"
      },
      "execution_count": null,
      "outputs": []
    },
    {
      "cell_type": "code",
      "source": [
        "# check the value of the position\n",
        "print(f\"x.argmin().item() = {x.argmin().item()}\\n\")\n",
        "x[x.argmin().item()]"
      ],
      "metadata": {
        "id": "v_P29b0plrH4"
      },
      "execution_count": null,
      "outputs": []
    },
    {
      "cell_type": "code",
      "source": [
        "# Find the position in tensor that has the maximum value with `argmax()`\n",
        "x.argmax()"
      ],
      "metadata": {
        "id": "Db5o-MLml3W5"
      },
      "execution_count": null,
      "outputs": []
    },
    {
      "cell_type": "code",
      "source": [
        "# check the value of the position\n",
        "print(f\"x.armax().item() = {x.argmax().item()}\\n\")\n",
        "x[x.argmax().item()]"
      ],
      "metadata": {
        "id": "Nd3AtMXtm7wX"
      },
      "execution_count": null,
      "outputs": []
    },
    {
      "cell_type": "markdown",
      "source": [
        "# Reshaping, viewing, stacking, squeezing and unsqueezing tensors\n",
        "\n",
        "* Reshaping - reshapes an input tensor to a defined shape\n",
        "* View - Return a view of an input tensor of certain shape but keep the same memory as the original tensor\n",
        "* Stacking - Combine multiple tensors on top of each other (vstack) or side by side (hstack)\n",
        "    * stack - https://pytorch.org/docs/stable/generated/torch.stack.html\n",
        "    * vstack - https://pytorch.org/docs/stable/generated/torch.vstack.html\n",
        "    * hstack - https://pytorch.org/docs/stable/generated/torch.hstack.html\n",
        "* Squeeze - removes all `1` dimensions from a tensor\n",
        "* Unsqueeze - add a `1` dimension to a target tensor\n",
        "* Permute - Return a view of the input with dimension permuted (swapped) in a certain way"
      ],
      "metadata": {
        "id": "Cqweg4gfng23"
      }
    },
    {
      "cell_type": "code",
      "source": [
        "#Let's create a tensor\n",
        "\n",
        "import torch\n",
        "x = torch.arange(1., 10)\n",
        "x, x.shape"
      ],
      "metadata": {
        "id": "jKKiKUHRnkL6"
      },
      "execution_count": null,
      "outputs": []
    },
    {
      "cell_type": "code",
      "source": [
        "# Add an extra dimension\n",
        "x_reshaped = x.reshape(1, 7)\n",
        "x_reshaped, x_reshaped.shape"
      ],
      "metadata": {
        "id": "U-urDARjqSvk"
      },
      "execution_count": null,
      "outputs": []
    },
    {
      "cell_type": "code",
      "source": [
        "x_reshaped = x.reshape(1, 9)\n",
        "x_reshaped, x_reshaped.shape"
      ],
      "metadata": {
        "id": "BiQIGFq3ql1E"
      },
      "execution_count": null,
      "outputs": []
    },
    {
      "cell_type": "code",
      "source": [
        "x_reshaped = x.reshape(2, 9)\n",
        "x_reshaped, x_reshaped.shape"
      ],
      "metadata": {
        "id": "mk_pkarBq117"
      },
      "execution_count": null,
      "outputs": []
    },
    {
      "cell_type": "code",
      "source": [
        "x_reshaped = x.reshape(0, 9)\n",
        "x_reshaped, x_reshaped.shape"
      ],
      "metadata": {
        "id": "hmE_SDfUq9ue"
      },
      "execution_count": null,
      "outputs": []
    },
    {
      "cell_type": "code",
      "source": [
        "x_reshaped = x.reshape(9, 1)\n",
        "x_reshaped, x_reshaped.shape"
      ],
      "metadata": {
        "id": "FO3m_SyrrNu8"
      },
      "execution_count": null,
      "outputs": []
    },
    {
      "cell_type": "code",
      "source": [
        "# exercise\n",
        "y = torch.arange(1., 15)\n",
        "y, y.shape"
      ],
      "metadata": {
        "id": "tSm9mWvUrP0K"
      },
      "execution_count": null,
      "outputs": []
    },
    {
      "cell_type": "code",
      "source": [
        "y_reshaped = y.reshape(2,7) # here,, 2x7 or 7x2 (any other combination of two number) = size of the y tensor(which is 14) *required to match\n",
        "y_reshaped, y_reshaped.shape"
      ],
      "metadata": {
        "id": "KkG3As81tJE8"
      },
      "execution_count": null,
      "outputs": []
    },
    {
      "cell_type": "code",
      "source": [
        "# Change the view\n",
        "z = x.view(1, 9)\n",
        "z, z.shape"
      ],
      "metadata": {
        "id": "I5JFBRoIr6JT"
      },
      "execution_count": null,
      "outputs": []
    },
    {
      "cell_type": "code",
      "source": [
        "# Change z changes x (because a view of a tensor shares the same memory as the original input)\n",
        "z[:, 0] = 5\n",
        "z, x"
      ],
      "metadata": {
        "id": "nVP7W8-ptF5r"
      },
      "execution_count": null,
      "outputs": []
    },
    {
      "cell_type": "code",
      "source": [
        "# Stack tensors on top of each other\n",
        "x_stacked = torch.stack([x, x, x, x], dim=0)\n",
        "x_stacked"
      ],
      "metadata": {
        "id": "_gH4mMeztYwS"
      },
      "execution_count": null,
      "outputs": []
    },
    {
      "cell_type": "code",
      "source": [
        "x_stacked = torch.stack([x, x, x, x], dim=1)\n",
        "x_stacked"
      ],
      "metadata": {
        "id": "QdOrXdZnt2zJ"
      },
      "execution_count": null,
      "outputs": []
    },
    {
      "cell_type": "code",
      "source": [
        "x_stacked = torch.stack([x, x, x, x], dim=2)\n",
        "x_stacked"
      ],
      "metadata": {
        "id": "_LNpsjGSuDtq"
      },
      "execution_count": null,
      "outputs": []
    },
    {
      "cell_type": "markdown",
      "source": [
        "# Squeezing, unsqueezing and permuting tensors\n",
        "`torch.squeeze()` - removes all single dimensions from a target tensor\n",
        "\n",
        "For example, if input is of shape: (A×1×B×C×1×D)(A×1×B×C×1×D) then the input.squeeze() will be of shape: (A×B×C×D)(A×B×C×D).\n",
        "\n",
        "When dim is given, a squeeze operation is done only in the given dimension(s). If input is of shape: (A×1×B)(A×1×B), squeeze(input, 0) leaves the tensor unchanged, but squeeze(input, 1) will squeeze the tensor to the shape (A×B)(A×B).\n",
        "\n",
        "**note:** *The returned tensor shares the storage with the input tensor, so changing the contents of one will change the contents of the other.*\n",
        "\n",
        "source: https://pytorch.org/docs/stable/generated/torch.squeeze.html"
      ],
      "metadata": {
        "id": "o-CwtfPW1YCU"
      }
    },
    {
      "cell_type": "code",
      "source": [
        "a_reshaped = x_reshaped.reshape(1,9)\n",
        "a_reshaped"
      ],
      "metadata": {
        "id": "qiP5hK26uxQK"
      },
      "execution_count": null,
      "outputs": []
    },
    {
      "cell_type": "code",
      "source": [
        "a_reshaped.shape"
      ],
      "metadata": {
        "id": "Coqrq4zQ2gXR"
      },
      "execution_count": null,
      "outputs": []
    },
    {
      "cell_type": "code",
      "source": [
        "a_reshaped.squeeze()"
      ],
      "metadata": {
        "id": "RTPHyvVJ28gq"
      },
      "execution_count": null,
      "outputs": []
    },
    {
      "cell_type": "code",
      "source": [
        "a_reshaped.squeeze().shape"
      ],
      "metadata": {
        "id": "wdpeUFQU3DYZ"
      },
      "execution_count": null,
      "outputs": []
    },
    {
      "cell_type": "code",
      "source": [
        "#  removes all of the 1 from the input tensor\n",
        "eg_tensor = torch.rand(3,1,4,2,6, 1, 8)\n",
        "eg_tensor"
      ],
      "metadata": {
        "id": "uL7iXSqv3Nd5"
      },
      "execution_count": null,
      "outputs": []
    },
    {
      "cell_type": "code",
      "source": [
        "eg_tensor.shape"
      ],
      "metadata": {
        "id": "WJcxa_FU4jaY"
      },
      "execution_count": null,
      "outputs": []
    },
    {
      "cell_type": "code",
      "source": [
        "eg_tensor_squeezed = eg_tensor.squeeze()"
      ],
      "metadata": {
        "id": "7UZZbQhP4xeY"
      },
      "execution_count": null,
      "outputs": []
    },
    {
      "cell_type": "code",
      "source": [
        "eg_tensor_squeezed.shape  ## eg_tensor().squeeze() removes all of the 1 from the input tensor"
      ],
      "metadata": {
        "id": "R7DBmlnN42_Y"
      },
      "execution_count": null,
      "outputs": []
    },
    {
      "cell_type": "code",
      "source": [
        "print(f\"Previous tensor: {eg_tensor}\")\n",
        "print(f\"Previous shape: {eg_tensor.shape}\")\n",
        "\n",
        "print(f\"New tensor: {eg_tensor.squeeze()}\")\n",
        "print(f\"New shape: {eg_tensor.squeeze().shape}\")"
      ],
      "metadata": {
        "id": "gwqW8pNj5sqq"
      },
      "execution_count": null,
      "outputs": []
    },
    {
      "cell_type": "code",
      "source": [
        "# torch.unsqueeze() - adds a single dimension to a target tensor at a specific dim(dimension)\n",
        "print(f\"Previous target: {eg_tensor_squeezed}\")\n",
        "print(f\"Previous shape:{eg_tensor_squeezed.shape}\")\n",
        "\n",
        "eg_tensor_unsqueezed = eg_tensor_squeezed.unsqueeze(dim=0)\n",
        "\n",
        "print(f\"New tensor: {eg_tensor_unsqueezed}\")\n",
        "print(f\"New shape: {eg_tensor_unsqueezed.shape}\")"
      ],
      "metadata": {
        "id": "166cEVic6pcH"
      },
      "execution_count": null,
      "outputs": []
    },
    {
      "cell_type": "code",
      "source": [
        "# exercise with `my_tensor.squeeze()`\n",
        "\n",
        "# create tensor\n",
        "my_tensor = torch.tensor(\n",
        "    [\n",
        "        [\n",
        "            [1, 2],\n",
        "            [3, 4],\n",
        "            [5, 6]\n",
        "        ]\n",
        "    ]\n",
        ")\n",
        "my_tensor"
      ],
      "metadata": {
        "id": "Fpzh1iN25MOk"
      },
      "execution_count": null,
      "outputs": []
    },
    {
      "cell_type": "code",
      "source": [
        "my_tensor.shape, my_tensor.ndim"
      ],
      "metadata": {
        "id": "tp1bTUDJ5XO6"
      },
      "execution_count": null,
      "outputs": []
    },
    {
      "cell_type": "code",
      "source": [
        "print(f\"Previous tensor:\\n {my_tensor}\")\n",
        "print(f\"Previous shape: {my_tensor.shape}\")\n",
        "print(f\"Previous dimension: {my_tensor.ndim}\")\n",
        "\n",
        "my_tensor_squeezed = my_tensor.squeeze()\n",
        "\n",
        "print(f\"\\nLater tensor:\\n {my_tensor_squeezed}\")\n",
        "print(f\"Later shape: {my_tensor_squeezed.shape}\")\n",
        "print(f\"Later dimension: {my_tensor_squeezed.ndim}\")"
      ],
      "metadata": {
        "id": "3XGKQArT43nh"
      },
      "execution_count": null,
      "outputs": []
    },
    {
      "cell_type": "code",
      "source": [
        "# exercise with my_tensor_squeezed.unsqueeze()\n",
        "\n",
        "print(f\"Previous tensor:\\n {my_tensor_squeezed}\")\n",
        "print(f\"Previous shape: {my_tensor_squeezed.shape}\")\n",
        "print(f\"Previous dimension: {my_tensor_squeezed.ndim}\")\n",
        "\n",
        "my_tensor_unsqueezed = my_tensor_squeezed.unsqueeze(dim=0)\n",
        "\n",
        "print(f\"\\nLater tensor:\\n {my_tensor_unsqueezed}\")\n",
        "print(f\"Later shape: {my_tensor_unsqueezed.shape}\")\n",
        "print(f\"Later dimension: {my_tensor_unsqueezed.ndim}\")"
      ],
      "metadata": {
        "id": "FTjEMeU75lt6"
      },
      "execution_count": null,
      "outputs": []
    },
    {
      "cell_type": "code",
      "source": [
        "# torch.permute - rearrage the dimensions of a target tensor in a specified order\n",
        "# permute is use for work with image data\n",
        "\n",
        "x_original = torch.rand(size=(224, 224, 3)) # [height, widht, colour_channels]\n",
        "\n",
        "# Permute the original tensor to rearrange the axis (or dim) order\n",
        "x_permuted = x_original.permute(2, 0, 1) # shifts axis 0->1, 1->2, 2->0\n",
        "print(f\"Previous shape: {x_original.shape}\")\n",
        "print(f\"New shape: {x_permuted.shape}\") # [colour_channels, height, width]"
      ],
      "metadata": {
        "id": "QqWjYPk8_fA1"
      },
      "execution_count": null,
      "outputs": []
    },
    {
      "cell_type": "code",
      "source": [
        "x_original[0, 0, 0], x_permuted[0, 0, 0]"
      ],
      "metadata": {
        "id": "Bee0xhyVE0iH"
      },
      "execution_count": null,
      "outputs": []
    },
    {
      "cell_type": "code",
      "source": [
        "x_original[0, 0, 0] = .4507\n",
        "x_permuted[0, 0, 0]"
      ],
      "metadata": {
        "id": "j-VMVjIfHIOD"
      },
      "execution_count": null,
      "outputs": []
    },
    {
      "cell_type": "markdown",
      "source": [
        "# Indexing (selecting data from tensors)\n",
        "\n",
        "Indexing with PyTorch is similar to index with NumPy"
      ],
      "metadata": {
        "id": "61PCZelpI7wt"
      }
    },
    {
      "cell_type": "code",
      "source": [
        "# Create a tensor\n",
        "\n",
        "import torch\n",
        "x = torch.arange(1, 10).reshape(1, 3, 3)\n",
        "x, x.shape, x.ndim"
      ],
      "metadata": {
        "colab": {
          "base_uri": "https://localhost:8080/"
        },
        "id": "BoRqnfZXH7RV",
        "outputId": "7da824be-df67-4714-aabe-80217b6a31fc"
      },
      "execution_count": null,
      "outputs": [
        {
          "output_type": "execute_result",
          "data": {
            "text/plain": [
              "(tensor([[[1, 2, 3],\n",
              "          [4, 5, 6],\n",
              "          [7, 8, 9]]]),\n",
              " torch.Size([1, 3, 3]),\n",
              " 3)"
            ]
          },
          "metadata": {},
          "execution_count": 114
        }
      ]
    },
    {
      "cell_type": "code",
      "source": [
        "# Let's index on our new tensor\n",
        "x[0]"
      ],
      "metadata": {
        "colab": {
          "base_uri": "https://localhost:8080/"
        },
        "id": "4uAznmPwJfLD",
        "outputId": "d18c7ac8-5943-4a4e-e8c7-a39850f9d320"
      },
      "execution_count": null,
      "outputs": [
        {
          "output_type": "execute_result",
          "data": {
            "text/plain": [
              "tensor([[1, 2, 3],\n",
              "        [4, 5, 6],\n",
              "        [7, 8, 9]])"
            ]
          },
          "metadata": {},
          "execution_count": 115
        }
      ]
    },
    {
      "cell_type": "code",
      "source": [
        "# Let's index on the middke brcket (dim=1)\n",
        "x[0][0]  # \"x[0, 0]\" is same as \"x[0][0]\""
      ],
      "metadata": {
        "colab": {
          "base_uri": "https://localhost:8080/"
        },
        "id": "_jqyzK5TJ077",
        "outputId": "bbf3e493-9f30-41e1-877d-3d78d966b4fc"
      },
      "execution_count": null,
      "outputs": [
        {
          "output_type": "execute_result",
          "data": {
            "text/plain": [
              "tensor([1, 2, 3])"
            ]
          },
          "metadata": {},
          "execution_count": 116
        }
      ]
    },
    {
      "cell_type": "code",
      "source": [
        "# Let's index on the most inner bracket (last dimension)\n",
        "x[0][0][0]"
      ],
      "metadata": {
        "colab": {
          "base_uri": "https://localhost:8080/"
        },
        "id": "2jUc1_pwKJ3d",
        "outputId": "d1d4e754-25a7-433b-d7ec-f6c29c73c706"
      },
      "execution_count": null,
      "outputs": [
        {
          "output_type": "execute_result",
          "data": {
            "text/plain": [
              "tensor(1)"
            ]
          },
          "metadata": {},
          "execution_count": 117
        }
      ]
    },
    {
      "cell_type": "code",
      "source": [
        "x[0][1][1]"
      ],
      "metadata": {
        "colab": {
          "base_uri": "https://localhost:8080/"
        },
        "id": "z9LROPu8KlYz",
        "outputId": "8612bf54-a6ee-4b3c-dab2-8f6eea231fc5"
      },
      "execution_count": null,
      "outputs": [
        {
          "output_type": "execute_result",
          "data": {
            "text/plain": [
              "tensor(5)"
            ]
          },
          "metadata": {},
          "execution_count": 118
        }
      ]
    },
    {
      "cell_type": "code",
      "source": [
        "# challange to find number 9 from the \"x\" tensor\n",
        "x[0][2][2]"
      ],
      "metadata": {
        "colab": {
          "base_uri": "https://localhost:8080/"
        },
        "id": "wfhKpFuILA-d",
        "outputId": "5bf63cc8-3353-49b6-d85b-1cc9fdd1fa33"
      },
      "execution_count": null,
      "outputs": [
        {
          "output_type": "execute_result",
          "data": {
            "text/plain": [
              "tensor(9)"
            ]
          },
          "metadata": {},
          "execution_count": 119
        }
      ]
    },
    {
      "cell_type": "code",
      "source": [
        "# \":\" to select \"all\" of a target dimension\n",
        "x[:, 0]"
      ],
      "metadata": {
        "colab": {
          "base_uri": "https://localhost:8080/"
        },
        "id": "307e8EZbLd58",
        "outputId": "6badbb39-bf74-4b77-90f7-20579318a6b6"
      },
      "execution_count": null,
      "outputs": [
        {
          "output_type": "execute_result",
          "data": {
            "text/plain": [
              "tensor([[1, 2, 3]])"
            ]
          },
          "metadata": {},
          "execution_count": 120
        }
      ]
    },
    {
      "cell_type": "code",
      "source": [
        "x[0,2,1]"
      ],
      "metadata": {
        "id": "hESm3TrWLyds",
        "colab": {
          "base_uri": "https://localhost:8080/"
        },
        "outputId": "d7a2e5d5-c1b8-4968-fa30-74c23e906eaa"
      },
      "execution_count": null,
      "outputs": [
        {
          "output_type": "execute_result",
          "data": {
            "text/plain": [
              "tensor(8)"
            ]
          },
          "metadata": {},
          "execution_count": 121
        }
      ]
    },
    {
      "cell_type": "code",
      "source": [
        "t = torch.rand(5, 3, 6, 2)\n",
        "t"
      ],
      "metadata": {
        "colab": {
          "base_uri": "https://localhost:8080/"
        },
        "id": "S0mpyo3zyK3n",
        "outputId": "2589358f-0921-48e9-97ae-ffa1bc97565e"
      },
      "execution_count": null,
      "outputs": [
        {
          "output_type": "execute_result",
          "data": {
            "text/plain": [
              "tensor([[[[9.3650e-01, 4.7256e-02],\n",
              "          [1.9659e-01, 2.4272e-02],\n",
              "          [8.3763e-01, 6.6038e-01],\n",
              "          [9.1828e-01, 5.0169e-01],\n",
              "          [1.8556e-01, 9.1524e-01],\n",
              "          [7.6120e-02, 4.4406e-01]],\n",
              "\n",
              "         [[9.1738e-01, 6.1814e-02],\n",
              "          [8.4004e-01, 2.9585e-01],\n",
              "          [1.9423e-02, 1.4711e-01],\n",
              "          [7.1301e-01, 9.5757e-01],\n",
              "          [4.2250e-01, 1.1947e-01],\n",
              "          [3.7732e-01, 9.3229e-01]],\n",
              "\n",
              "         [[1.6923e-01, 9.7764e-02],\n",
              "          [7.7895e-01, 7.4869e-01],\n",
              "          [5.3451e-01, 6.3639e-01],\n",
              "          [3.1024e-01, 5.6626e-01],\n",
              "          [5.7500e-01, 1.6582e-01],\n",
              "          [9.2496e-01, 8.5855e-01]]],\n",
              "\n",
              "\n",
              "        [[[3.1164e-01, 2.0974e-01],\n",
              "          [8.2507e-01, 1.7019e-01],\n",
              "          [1.3887e-01, 2.4704e-01],\n",
              "          [1.2298e-01, 1.1111e-01],\n",
              "          [6.2295e-01, 2.1117e-02],\n",
              "          [8.3446e-01, 2.0670e-01]],\n",
              "\n",
              "         [[3.2238e-01, 1.3072e-01],\n",
              "          [1.7209e-01, 3.5187e-01],\n",
              "          [5.5809e-01, 3.9483e-01],\n",
              "          [6.4163e-01, 8.0571e-02],\n",
              "          [3.6786e-01, 1.5355e-01],\n",
              "          [1.4284e-02, 8.1942e-01]],\n",
              "\n",
              "         [[3.4912e-01, 1.0735e-01],\n",
              "          [7.7229e-01, 6.5049e-01],\n",
              "          [6.0928e-02, 2.1444e-01],\n",
              "          [7.1848e-01, 8.3825e-01],\n",
              "          [3.0057e-01, 1.1283e-01],\n",
              "          [8.4511e-01, 9.6362e-02]]],\n",
              "\n",
              "\n",
              "        [[[7.6222e-01, 1.0110e-01],\n",
              "          [1.0976e-01, 2.2667e-01],\n",
              "          [2.4537e-01, 4.1985e-01],\n",
              "          [3.2625e-01, 1.3845e-01],\n",
              "          [7.1359e-01, 2.4310e-02],\n",
              "          [5.9458e-01, 9.7372e-01]],\n",
              "\n",
              "         [[9.2775e-01, 3.1155e-01],\n",
              "          [8.4125e-01, 7.2779e-01],\n",
              "          [6.1280e-01, 6.3655e-01],\n",
              "          [3.3941e-01, 9.4617e-01],\n",
              "          [5.7346e-01, 2.4540e-01],\n",
              "          [1.3231e-01, 2.1220e-01]],\n",
              "\n",
              "         [[6.5013e-01, 2.5426e-01],\n",
              "          [9.9541e-01, 9.9561e-01],\n",
              "          [7.2539e-01, 8.8941e-01],\n",
              "          [2.2176e-01, 5.8841e-01],\n",
              "          [8.5283e-01, 8.6286e-01],\n",
              "          [5.3936e-01, 8.2433e-01]]],\n",
              "\n",
              "\n",
              "        [[[6.5933e-01, 6.9045e-01],\n",
              "          [1.0360e-01, 4.8554e-01],\n",
              "          [4.0679e-01, 5.3960e-01],\n",
              "          [1.4579e-01, 4.7523e-01],\n",
              "          [7.9612e-01, 1.2042e-01],\n",
              "          [8.7910e-02, 9.3604e-01]],\n",
              "\n",
              "         [[4.8917e-01, 4.5719e-01],\n",
              "          [9.2234e-01, 2.7849e-01],\n",
              "          [2.7700e-01, 7.4138e-01],\n",
              "          [8.6717e-01, 6.6624e-01],\n",
              "          [1.6156e-01, 9.6692e-01],\n",
              "          [7.5186e-01, 9.5977e-01]],\n",
              "\n",
              "         [[6.6704e-04, 4.5498e-01],\n",
              "          [9.4612e-01, 4.2330e-01],\n",
              "          [6.1124e-01, 3.9780e-01],\n",
              "          [6.6434e-01, 5.3173e-01],\n",
              "          [9.8116e-01, 1.3675e-01],\n",
              "          [2.5492e-01, 8.0782e-02]]],\n",
              "\n",
              "\n",
              "        [[[3.0338e-01, 1.5176e-01],\n",
              "          [8.1289e-01, 6.0682e-01],\n",
              "          [9.9816e-01, 9.9511e-01],\n",
              "          [7.4023e-01, 1.9100e-02],\n",
              "          [7.8913e-01, 5.7529e-01],\n",
              "          [1.7243e-01, 1.0033e-01]],\n",
              "\n",
              "         [[6.3975e-01, 2.4307e-01],\n",
              "          [1.6473e-01, 3.1111e-01],\n",
              "          [8.5395e-01, 8.4323e-01],\n",
              "          [6.9283e-01, 1.1321e-01],\n",
              "          [5.6591e-01, 4.6914e-01],\n",
              "          [9.3596e-01, 3.8019e-01]],\n",
              "\n",
              "         [[8.2340e-01, 1.1169e-02],\n",
              "          [8.0473e-01, 4.8558e-01],\n",
              "          [3.6695e-01, 1.1875e-01],\n",
              "          [7.1260e-01, 5.8486e-01],\n",
              "          [6.3889e-01, 8.2524e-01],\n",
              "          [7.4464e-01, 6.5118e-01]]]])"
            ]
          },
          "metadata": {},
          "execution_count": 122
        }
      ]
    },
    {
      "cell_type": "code",
      "source": [
        "t.ndim, t.shape"
      ],
      "metadata": {
        "colab": {
          "base_uri": "https://localhost:8080/"
        },
        "id": "pgZjBSLYzO4u",
        "outputId": "f6311b85-69ae-4d5c-fb22-0bc0a8200325"
      },
      "execution_count": null,
      "outputs": [
        {
          "output_type": "execute_result",
          "data": {
            "text/plain": [
              "(4, torch.Size([5, 3, 6, 2]))"
            ]
          },
          "metadata": {},
          "execution_count": 123
        }
      ]
    },
    {
      "cell_type": "code",
      "source": [
        "t[4]"
      ],
      "metadata": {
        "colab": {
          "base_uri": "https://localhost:8080/"
        },
        "id": "HAPgGCI-zUiF",
        "outputId": "d46dcdc2-3397-4091-9150-9e6013cce315"
      },
      "execution_count": null,
      "outputs": [
        {
          "output_type": "execute_result",
          "data": {
            "text/plain": [
              "tensor([[[0.3034, 0.1518],\n",
              "         [0.8129, 0.6068],\n",
              "         [0.9982, 0.9951],\n",
              "         [0.7402, 0.0191],\n",
              "         [0.7891, 0.5753],\n",
              "         [0.1724, 0.1003]],\n",
              "\n",
              "        [[0.6397, 0.2431],\n",
              "         [0.1647, 0.3111],\n",
              "         [0.8539, 0.8432],\n",
              "         [0.6928, 0.1132],\n",
              "         [0.5659, 0.4691],\n",
              "         [0.9360, 0.3802]],\n",
              "\n",
              "        [[0.8234, 0.0112],\n",
              "         [0.8047, 0.4856],\n",
              "         [0.3669, 0.1187],\n",
              "         [0.7126, 0.5849],\n",
              "         [0.6389, 0.8252],\n",
              "         [0.7446, 0.6512]]])"
            ]
          },
          "metadata": {},
          "execution_count": 124
        }
      ]
    },
    {
      "cell_type": "code",
      "source": [
        "t.shape"
      ],
      "metadata": {
        "colab": {
          "base_uri": "https://localhost:8080/"
        },
        "id": "ylYRgp_K2Viu",
        "outputId": "cc0cab42-c2e3-4741-83a5-1238df6056ff"
      },
      "execution_count": null,
      "outputs": [
        {
          "output_type": "execute_result",
          "data": {
            "text/plain": [
              "torch.Size([5, 3, 6, 2])"
            ]
          },
          "metadata": {},
          "execution_count": 125
        }
      ]
    },
    {
      "cell_type": "code",
      "source": [
        "t"
      ],
      "metadata": {
        "colab": {
          "base_uri": "https://localhost:8080/"
        },
        "id": "Dh5xIfz0zqCl",
        "outputId": "1d6858de-6b9a-4992-8716-af332057fa42"
      },
      "execution_count": null,
      "outputs": [
        {
          "output_type": "execute_result",
          "data": {
            "text/plain": [
              "tensor([[[[9.3650e-01, 4.7256e-02],\n",
              "          [1.9659e-01, 2.4272e-02],\n",
              "          [8.3763e-01, 6.6038e-01],\n",
              "          [9.1828e-01, 5.0169e-01],\n",
              "          [1.8556e-01, 9.1524e-01],\n",
              "          [7.6120e-02, 4.4406e-01]],\n",
              "\n",
              "         [[9.1738e-01, 6.1814e-02],\n",
              "          [8.4004e-01, 2.9585e-01],\n",
              "          [1.9423e-02, 1.4711e-01],\n",
              "          [7.1301e-01, 9.5757e-01],\n",
              "          [4.2250e-01, 1.1947e-01],\n",
              "          [3.7732e-01, 9.3229e-01]],\n",
              "\n",
              "         [[1.6923e-01, 9.7764e-02],\n",
              "          [7.7895e-01, 7.4869e-01],\n",
              "          [5.3451e-01, 6.3639e-01],\n",
              "          [3.1024e-01, 5.6626e-01],\n",
              "          [5.7500e-01, 1.6582e-01],\n",
              "          [9.2496e-01, 8.5855e-01]]],\n",
              "\n",
              "\n",
              "        [[[3.1164e-01, 2.0974e-01],\n",
              "          [8.2507e-01, 1.7019e-01],\n",
              "          [1.3887e-01, 2.4704e-01],\n",
              "          [1.2298e-01, 1.1111e-01],\n",
              "          [6.2295e-01, 2.1117e-02],\n",
              "          [8.3446e-01, 2.0670e-01]],\n",
              "\n",
              "         [[3.2238e-01, 1.3072e-01],\n",
              "          [1.7209e-01, 3.5187e-01],\n",
              "          [5.5809e-01, 3.9483e-01],\n",
              "          [6.4163e-01, 8.0571e-02],\n",
              "          [3.6786e-01, 1.5355e-01],\n",
              "          [1.4284e-02, 8.1942e-01]],\n",
              "\n",
              "         [[3.4912e-01, 1.0735e-01],\n",
              "          [7.7229e-01, 6.5049e-01],\n",
              "          [6.0928e-02, 2.1444e-01],\n",
              "          [7.1848e-01, 8.3825e-01],\n",
              "          [3.0057e-01, 1.1283e-01],\n",
              "          [8.4511e-01, 9.6362e-02]]],\n",
              "\n",
              "\n",
              "        [[[7.6222e-01, 1.0110e-01],\n",
              "          [1.0976e-01, 2.2667e-01],\n",
              "          [2.4537e-01, 4.1985e-01],\n",
              "          [3.2625e-01, 1.3845e-01],\n",
              "          [7.1359e-01, 2.4310e-02],\n",
              "          [5.9458e-01, 9.7372e-01]],\n",
              "\n",
              "         [[9.2775e-01, 3.1155e-01],\n",
              "          [8.4125e-01, 7.2779e-01],\n",
              "          [6.1280e-01, 6.3655e-01],\n",
              "          [3.3941e-01, 9.4617e-01],\n",
              "          [5.7346e-01, 2.4540e-01],\n",
              "          [1.3231e-01, 2.1220e-01]],\n",
              "\n",
              "         [[6.5013e-01, 2.5426e-01],\n",
              "          [9.9541e-01, 9.9561e-01],\n",
              "          [7.2539e-01, 8.8941e-01],\n",
              "          [2.2176e-01, 5.8841e-01],\n",
              "          [8.5283e-01, 8.6286e-01],\n",
              "          [5.3936e-01, 8.2433e-01]]],\n",
              "\n",
              "\n",
              "        [[[6.5933e-01, 6.9045e-01],\n",
              "          [1.0360e-01, 4.8554e-01],\n",
              "          [4.0679e-01, 5.3960e-01],\n",
              "          [1.4579e-01, 4.7523e-01],\n",
              "          [7.9612e-01, 1.2042e-01],\n",
              "          [8.7910e-02, 9.3604e-01]],\n",
              "\n",
              "         [[4.8917e-01, 4.5719e-01],\n",
              "          [9.2234e-01, 2.7849e-01],\n",
              "          [2.7700e-01, 7.4138e-01],\n",
              "          [8.6717e-01, 6.6624e-01],\n",
              "          [1.6156e-01, 9.6692e-01],\n",
              "          [7.5186e-01, 9.5977e-01]],\n",
              "\n",
              "         [[6.6704e-04, 4.5498e-01],\n",
              "          [9.4612e-01, 4.2330e-01],\n",
              "          [6.1124e-01, 3.9780e-01],\n",
              "          [6.6434e-01, 5.3173e-01],\n",
              "          [9.8116e-01, 1.3675e-01],\n",
              "          [2.5492e-01, 8.0782e-02]]],\n",
              "\n",
              "\n",
              "        [[[3.0338e-01, 1.5176e-01],\n",
              "          [8.1289e-01, 6.0682e-01],\n",
              "          [9.9816e-01, 9.9511e-01],\n",
              "          [7.4023e-01, 1.9100e-02],\n",
              "          [7.8913e-01, 5.7529e-01],\n",
              "          [1.7243e-01, 1.0033e-01]],\n",
              "\n",
              "         [[6.3975e-01, 2.4307e-01],\n",
              "          [1.6473e-01, 3.1111e-01],\n",
              "          [8.5395e-01, 8.4323e-01],\n",
              "          [6.9283e-01, 1.1321e-01],\n",
              "          [5.6591e-01, 4.6914e-01],\n",
              "          [9.3596e-01, 3.8019e-01]],\n",
              "\n",
              "         [[8.2340e-01, 1.1169e-02],\n",
              "          [8.0473e-01, 4.8558e-01],\n",
              "          [3.6695e-01, 1.1875e-01],\n",
              "          [7.1260e-01, 5.8486e-01],\n",
              "          [6.3889e-01, 8.2524e-01],\n",
              "          [7.4464e-01, 6.5118e-01]]]])"
            ]
          },
          "metadata": {},
          "execution_count": 126
        }
      ]
    },
    {
      "cell_type": "code",
      "source": [
        "t[0]"
      ],
      "metadata": {
        "colab": {
          "base_uri": "https://localhost:8080/"
        },
        "id": "XzjkOKcB1lJl",
        "outputId": "ee309d5b-ea27-446f-a0f9-f72410ca0adf"
      },
      "execution_count": null,
      "outputs": [
        {
          "output_type": "execute_result",
          "data": {
            "text/plain": [
              "tensor([[[0.9365, 0.0473],\n",
              "         [0.1966, 0.0243],\n",
              "         [0.8376, 0.6604],\n",
              "         [0.9183, 0.5017],\n",
              "         [0.1856, 0.9152],\n",
              "         [0.0761, 0.4441]],\n",
              "\n",
              "        [[0.9174, 0.0618],\n",
              "         [0.8400, 0.2959],\n",
              "         [0.0194, 0.1471],\n",
              "         [0.7130, 0.9576],\n",
              "         [0.4225, 0.1195],\n",
              "         [0.3773, 0.9323]],\n",
              "\n",
              "        [[0.1692, 0.0978],\n",
              "         [0.7790, 0.7487],\n",
              "         [0.5345, 0.6364],\n",
              "         [0.3102, 0.5663],\n",
              "         [0.5750, 0.1658],\n",
              "         [0.9250, 0.8585]]])"
            ]
          },
          "metadata": {},
          "execution_count": 127
        }
      ]
    },
    {
      "cell_type": "code",
      "source": [
        "t[1]"
      ],
      "metadata": {
        "colab": {
          "base_uri": "https://localhost:8080/"
        },
        "id": "mbVgxQgQ296e",
        "outputId": "ba90883c-36b2-4538-9eea-70a08426efe2"
      },
      "execution_count": null,
      "outputs": [
        {
          "output_type": "execute_result",
          "data": {
            "text/plain": [
              "tensor([[[0.3116, 0.2097],\n",
              "         [0.8251, 0.1702],\n",
              "         [0.1389, 0.2470],\n",
              "         [0.1230, 0.1111],\n",
              "         [0.6230, 0.0211],\n",
              "         [0.8345, 0.2067]],\n",
              "\n",
              "        [[0.3224, 0.1307],\n",
              "         [0.1721, 0.3519],\n",
              "         [0.5581, 0.3948],\n",
              "         [0.6416, 0.0806],\n",
              "         [0.3679, 0.1535],\n",
              "         [0.0143, 0.8194]],\n",
              "\n",
              "        [[0.3491, 0.1073],\n",
              "         [0.7723, 0.6505],\n",
              "         [0.0609, 0.2144],\n",
              "         [0.7185, 0.8382],\n",
              "         [0.3006, 0.1128],\n",
              "         [0.8451, 0.0964]]])"
            ]
          },
          "metadata": {},
          "execution_count": 128
        }
      ]
    },
    {
      "cell_type": "code",
      "source": [
        "t[2]"
      ],
      "metadata": {
        "colab": {
          "base_uri": "https://localhost:8080/"
        },
        "id": "GVzpS4613kaE",
        "outputId": "f27dfa6f-94db-42a4-822a-e571ee2dfcf2"
      },
      "execution_count": null,
      "outputs": [
        {
          "output_type": "execute_result",
          "data": {
            "text/plain": [
              "tensor([[[0.7622, 0.1011],\n",
              "         [0.1098, 0.2267],\n",
              "         [0.2454, 0.4199],\n",
              "         [0.3262, 0.1384],\n",
              "         [0.7136, 0.0243],\n",
              "         [0.5946, 0.9737]],\n",
              "\n",
              "        [[0.9278, 0.3116],\n",
              "         [0.8412, 0.7278],\n",
              "         [0.6128, 0.6366],\n",
              "         [0.3394, 0.9462],\n",
              "         [0.5735, 0.2454],\n",
              "         [0.1323, 0.2122]],\n",
              "\n",
              "        [[0.6501, 0.2543],\n",
              "         [0.9954, 0.9956],\n",
              "         [0.7254, 0.8894],\n",
              "         [0.2218, 0.5884],\n",
              "         [0.8528, 0.8629],\n",
              "         [0.5394, 0.8243]]])"
            ]
          },
          "metadata": {},
          "execution_count": 129
        }
      ]
    },
    {
      "cell_type": "code",
      "source": [
        "t[3]"
      ],
      "metadata": {
        "colab": {
          "base_uri": "https://localhost:8080/"
        },
        "id": "paSny3OR3_ak",
        "outputId": "2bc4ada7-b6f0-4a91-a846-a69623749ff3"
      },
      "execution_count": null,
      "outputs": [
        {
          "output_type": "execute_result",
          "data": {
            "text/plain": [
              "tensor([[[6.5933e-01, 6.9045e-01],\n",
              "         [1.0360e-01, 4.8554e-01],\n",
              "         [4.0679e-01, 5.3960e-01],\n",
              "         [1.4579e-01, 4.7523e-01],\n",
              "         [7.9612e-01, 1.2042e-01],\n",
              "         [8.7910e-02, 9.3604e-01]],\n",
              "\n",
              "        [[4.8917e-01, 4.5719e-01],\n",
              "         [9.2234e-01, 2.7849e-01],\n",
              "         [2.7700e-01, 7.4138e-01],\n",
              "         [8.6717e-01, 6.6624e-01],\n",
              "         [1.6156e-01, 9.6692e-01],\n",
              "         [7.5186e-01, 9.5977e-01]],\n",
              "\n",
              "        [[6.6704e-04, 4.5498e-01],\n",
              "         [9.4612e-01, 4.2330e-01],\n",
              "         [6.1124e-01, 3.9780e-01],\n",
              "         [6.6434e-01, 5.3173e-01],\n",
              "         [9.8116e-01, 1.3675e-01],\n",
              "         [2.5492e-01, 8.0782e-02]]])"
            ]
          },
          "metadata": {},
          "execution_count": 130
        }
      ]
    },
    {
      "cell_type": "code",
      "source": [
        "t[3][2]"
      ],
      "metadata": {
        "colab": {
          "base_uri": "https://localhost:8080/"
        },
        "id": "4Wa3Miqq4BUc",
        "outputId": "59640c45-1d2a-4d08-9f27-13f6e97fde69"
      },
      "execution_count": null,
      "outputs": [
        {
          "output_type": "execute_result",
          "data": {
            "text/plain": [
              "tensor([[6.6704e-04, 4.5498e-01],\n",
              "        [9.4612e-01, 4.2330e-01],\n",
              "        [6.1124e-01, 3.9780e-01],\n",
              "        [6.6434e-01, 5.3173e-01],\n",
              "        [9.8116e-01, 1.3675e-01],\n",
              "        [2.5492e-01, 8.0782e-02]])"
            ]
          },
          "metadata": {},
          "execution_count": 131
        }
      ]
    },
    {
      "cell_type": "code",
      "source": [
        "t[3][2][5], t[3, 2, 5]"
      ],
      "metadata": {
        "colab": {
          "base_uri": "https://localhost:8080/"
        },
        "id": "LpTQgt_s4Oj0",
        "outputId": "2d0ed3a6-6ce0-4f20-ef8e-267215355718"
      },
      "execution_count": null,
      "outputs": [
        {
          "output_type": "execute_result",
          "data": {
            "text/plain": [
              "(tensor([0.2549, 0.0808]), tensor([0.2549, 0.0808]))"
            ]
          },
          "metadata": {},
          "execution_count": 132
        }
      ]
    },
    {
      "cell_type": "code",
      "source": [
        "t[3][2][5][1], t[3, 2, 5, 1]"
      ],
      "metadata": {
        "colab": {
          "base_uri": "https://localhost:8080/"
        },
        "id": "QgnMsBKO4bwr",
        "outputId": "fb55b79a-35bb-4e5a-d7e6-4e0652bfeb1e"
      },
      "execution_count": null,
      "outputs": [
        {
          "output_type": "execute_result",
          "data": {
            "text/plain": [
              "(tensor(0.0808), tensor(0.0808))"
            ]
          },
          "metadata": {},
          "execution_count": 133
        }
      ]
    },
    {
      "cell_type": "code",
      "source": [
        "t[:, 2, 5, 1]"
      ],
      "metadata": {
        "colab": {
          "base_uri": "https://localhost:8080/"
        },
        "id": "t_oHoQmY4nJj",
        "outputId": "0bdcbfe9-4795-4870-9467-6614b25fde9a"
      },
      "execution_count": null,
      "outputs": [
        {
          "output_type": "execute_result",
          "data": {
            "text/plain": [
              "tensor([0.8585, 0.0964, 0.8243, 0.0808, 0.6512])"
            ]
          },
          "metadata": {},
          "execution_count": 134
        }
      ]
    },
    {
      "cell_type": "code",
      "source": [
        "t[:3, 2, 5, 1]"
      ],
      "metadata": {
        "colab": {
          "base_uri": "https://localhost:8080/"
        },
        "id": "Ya2_WL-J6MPE",
        "outputId": "44875d2c-d327-495e-b9bf-0ce5ca5fdadf"
      },
      "execution_count": null,
      "outputs": [
        {
          "output_type": "execute_result",
          "data": {
            "text/plain": [
              "tensor([0.8585, 0.0964, 0.8243])"
            ]
          },
          "metadata": {},
          "execution_count": 135
        }
      ]
    },
    {
      "cell_type": "code",
      "source": [
        "t[3:, 2, 5, 1]"
      ],
      "metadata": {
        "colab": {
          "base_uri": "https://localhost:8080/"
        },
        "id": "uG50Km5-7Mra",
        "outputId": "043549d3-dbe1-46f4-8eed-f14e0c52337c"
      },
      "execution_count": null,
      "outputs": [
        {
          "output_type": "execute_result",
          "data": {
            "text/plain": [
              "tensor([0.0808, 0.6512])"
            ]
          },
          "metadata": {},
          "execution_count": 136
        }
      ]
    },
    {
      "cell_type": "code",
      "source": [
        "x"
      ],
      "metadata": {
        "colab": {
          "base_uri": "https://localhost:8080/"
        },
        "id": "fk43G2Ec-80C",
        "outputId": "0385f275-2bf8-4e17-c659-e2ec085cf59d"
      },
      "execution_count": null,
      "outputs": [
        {
          "output_type": "execute_result",
          "data": {
            "text/plain": [
              "tensor([[[1, 2, 3],\n",
              "         [4, 5, 6],\n",
              "         [7, 8, 9]]])"
            ]
          },
          "metadata": {},
          "execution_count": 137
        }
      ]
    },
    {
      "cell_type": "code",
      "source": [
        "# Get all values of 0th and 1st dimensions but only index 1 of 2nd dimension\n",
        "x[:, :, 1]"
      ],
      "metadata": {
        "colab": {
          "base_uri": "https://localhost:8080/"
        },
        "id": "M0CdmKpo8qQl",
        "outputId": "1cc2d7b1-fcdb-44b8-d4a1-9198fb9de75f"
      },
      "execution_count": null,
      "outputs": [
        {
          "output_type": "execute_result",
          "data": {
            "text/plain": [
              "tensor([[2, 5, 8]])"
            ]
          },
          "metadata": {},
          "execution_count": 138
        }
      ]
    },
    {
      "cell_type": "code",
      "source": [
        "# Get all values of the 0th dimension but only the 1 index value of 1st and 2nd dimension\n",
        "x[:, 1, 1]"
      ],
      "metadata": {
        "colab": {
          "base_uri": "https://localhost:8080/"
        },
        "id": "jXKAfO0z-ZdR",
        "outputId": "ba698798-a2cc-4ccc-f8e9-8e74a3083354"
      },
      "execution_count": null,
      "outputs": [
        {
          "output_type": "execute_result",
          "data": {
            "text/plain": [
              "tensor([5])"
            ]
          },
          "metadata": {},
          "execution_count": 139
        }
      ]
    },
    {
      "cell_type": "code",
      "source": [
        "# Get index 0 of 0th and first dimension and all values of 2nd dimension\n",
        "x[0, 0, :]"
      ],
      "metadata": {
        "colab": {
          "base_uri": "https://localhost:8080/"
        },
        "id": "dtDEEa9q-dnq",
        "outputId": "6ee3f63f-1229-4de2-81a4-8e3b770726ce"
      },
      "execution_count": null,
      "outputs": [
        {
          "output_type": "execute_result",
          "data": {
            "text/plain": [
              "tensor([1, 2, 3])"
            ]
          },
          "metadata": {},
          "execution_count": 140
        }
      ]
    },
    {
      "cell_type": "code",
      "source": [
        "# Index on x to return 9\n",
        "x[0, 2, 2]"
      ],
      "metadata": {
        "colab": {
          "base_uri": "https://localhost:8080/"
        },
        "id": "ckdoFPY9Ckqx",
        "outputId": "019e69ac-5e9d-4d41-aba9-666fe8cb525c"
      },
      "execution_count": null,
      "outputs": [
        {
          "output_type": "execute_result",
          "data": {
            "text/plain": [
              "tensor(9)"
            ]
          },
          "metadata": {},
          "execution_count": 141
        }
      ]
    },
    {
      "cell_type": "code",
      "source": [
        "# Index on x to return `3,6,9`\n",
        "x[:, :, 2]"
      ],
      "metadata": {
        "colab": {
          "base_uri": "https://localhost:8080/"
        },
        "id": "7l1apz2zC_uo",
        "outputId": "feb73c51-499b-4636-9afe-c177e1f7cb09"
      },
      "execution_count": null,
      "outputs": [
        {
          "output_type": "execute_result",
          "data": {
            "text/plain": [
              "tensor([[3, 6, 9]])"
            ]
          },
          "metadata": {},
          "execution_count": 142
        }
      ]
    },
    {
      "cell_type": "markdown",
      "source": [
        "# PyTorch tensors and NumPy\n",
        "\n",
        "NumPy is a popular scientific Python numerical computing library\n",
        "\n",
        "And because of this, PyTorch has functionality to interact with it.\n",
        "\n",
        "* Data in NumPy, want int PyTorch tensor -> `torch.from_numpy(ndarray)`\n",
        "* PyTorch tensor -> NumPy -> `torch.Tensor.numpy()`\n",
        "\n",
        "**learn more:** https://pytorch.org/tutorials/beginner/examples_tensor/polynomial_numpy.html"
      ],
      "metadata": {
        "id": "mpM955EGzU8L"
      }
    },
    {
      "cell_type": "code",
      "source": [
        "# NumPy array to tensor\n",
        "import torch\n",
        "import numpy as np\n",
        "\n",
        "array = np.arange(1.0, 8.0)\n",
        "tensor = torch.from_numpy(array) # warning: when converting from numpy -> pytorch, pytorch reflects numpy's default datatype of float64 unless specified otherwise\n",
        "array, tensor"
      ],
      "metadata": {
        "colab": {
          "base_uri": "https://localhost:8080/"
        },
        "id": "ezqm7qayy7tG",
        "outputId": "2602341b-a7d0-42df-afeb-910fd9efd8e0"
      },
      "execution_count": null,
      "outputs": [
        {
          "output_type": "execute_result",
          "data": {
            "text/plain": [
              "(array([1., 2., 3., 4., 5., 6., 7.]),\n",
              " tensor([1., 2., 3., 4., 5., 6., 7.], dtype=torch.float64))"
            ]
          },
          "metadata": {},
          "execution_count": 1
        }
      ]
    },
    {
      "cell_type": "code",
      "source": [
        "array.dtype # NumPy default datatype"
      ],
      "metadata": {
        "colab": {
          "base_uri": "https://localhost:8080/"
        },
        "id": "Df_Mk0VF0rd_",
        "outputId": "42563e08-d65b-4a97-b5d8-701fb17029bb"
      },
      "execution_count": null,
      "outputs": [
        {
          "output_type": "execute_result",
          "data": {
            "text/plain": [
              "dtype('float64')"
            ]
          },
          "metadata": {},
          "execution_count": 2
        }
      ]
    },
    {
      "cell_type": "code",
      "source": [
        "torch.arange(1.0, 8.0).dtype # torch default datatype"
      ],
      "metadata": {
        "colab": {
          "base_uri": "https://localhost:8080/"
        },
        "id": "ATw6qEmz0g4q",
        "outputId": "18a1bd45-c08d-48a7-fd40-fd494d420769"
      },
      "execution_count": null,
      "outputs": [
        {
          "output_type": "execute_result",
          "data": {
            "text/plain": [
              "torch.float32"
            ]
          },
          "metadata": {},
          "execution_count": 3
        }
      ]
    },
    {
      "cell_type": "code",
      "source": [
        "# here we convert the datatype `float64` to `float32`\n",
        "\n",
        "tensor = torch.from_numpy(array).type(torch.float32)\n",
        "array, tensor, array.dtype, tensor.dtype"
      ],
      "metadata": {
        "colab": {
          "base_uri": "https://localhost:8080/"
        },
        "id": "TKs0W6861lVc",
        "outputId": "a29b261a-f82d-4baf-d1fc-ee78dacb6d2a"
      },
      "execution_count": null,
      "outputs": [
        {
          "output_type": "execute_result",
          "data": {
            "text/plain": [
              "(array([1., 2., 3., 4., 5., 6., 7.]),\n",
              " tensor([1., 2., 3., 4., 5., 6., 7.]),\n",
              " dtype('float64'),\n",
              " torch.float32)"
            ]
          },
          "metadata": {},
          "execution_count": 4
        }
      ]
    },
    {
      "cell_type": "code",
      "source": [
        "# Change the value of the `array`, what will this do to `tensor`?\n",
        "array = array + 1\n",
        "array, tensor"
      ],
      "metadata": {
        "colab": {
          "base_uri": "https://localhost:8080/"
        },
        "id": "tDzLuwUn2IRS",
        "outputId": "d90e6d3a-87c5-4703-ad12-12038c6ccb7e"
      },
      "execution_count": null,
      "outputs": [
        {
          "output_type": "execute_result",
          "data": {
            "text/plain": [
              "(array([2., 3., 4., 5., 6., 7., 8.]), tensor([1., 2., 3., 4., 5., 6., 7.]))"
            ]
          },
          "metadata": {},
          "execution_count": 5
        }
      ]
    },
    {
      "cell_type": "code",
      "source": [
        "# Tensor to NumPy array\n",
        "tensor = torch.ones(7)\n",
        "numpy_tensor = tensor.numpy()\n",
        "tensor, numpy_tensor"
      ],
      "metadata": {
        "colab": {
          "base_uri": "https://localhost:8080/"
        },
        "id": "l_CQ30nxChTO",
        "outputId": "990785e5-1855-4340-e796-1d0af2a81f53"
      },
      "execution_count": null,
      "outputs": [
        {
          "output_type": "execute_result",
          "data": {
            "text/plain": [
              "(tensor([1., 1., 1., 1., 1., 1., 1.]),\n",
              " array([1., 1., 1., 1., 1., 1., 1.], dtype=float32))"
            ]
          },
          "metadata": {},
          "execution_count": 6
        }
      ]
    },
    {
      "cell_type": "code",
      "source": [
        "numpy_tensor.dtype"
      ],
      "metadata": {
        "colab": {
          "base_uri": "https://localhost:8080/"
        },
        "id": "KRXJoEwWFROQ",
        "outputId": "b7155291-bf2c-4e37-a9ad-556ff9e5e082"
      },
      "execution_count": null,
      "outputs": [
        {
          "output_type": "execute_result",
          "data": {
            "text/plain": [
              "dtype('float32')"
            ]
          },
          "metadata": {},
          "execution_count": 7
        }
      ]
    },
    {
      "cell_type": "code",
      "source": [
        "# Change the value of the `tensor`, what will this do to `numpy_tensor`\n",
        "tensor = tensor + 1\n",
        "tensor, numpy_tensor"
      ],
      "metadata": {
        "colab": {
          "base_uri": "https://localhost:8080/"
        },
        "id": "Al467OhbIyYF",
        "outputId": "18f8a247-f9a2-4527-d7d3-0da799ebc9d7"
      },
      "execution_count": null,
      "outputs": [
        {
          "output_type": "execute_result",
          "data": {
            "text/plain": [
              "(tensor([2., 2., 2., 2., 2., 2., 2.]),\n",
              " array([1., 1., 1., 1., 1., 1., 1.], dtype=float32))"
            ]
          },
          "metadata": {},
          "execution_count": 8
        }
      ]
    },
    {
      "cell_type": "markdown",
      "source": [
        "# Reproducibility (trying to take random out of random)\n",
        "\n",
        "In short how a neural network learns:\n",
        "\n",
        "`start with random numbers -> tensor operations -> update random numbers to try and make them better representations of the data -> again -> again -> again...`\n",
        "\n",
        "To reduce the randomness in neural networks and PyTorch comes the concept of a **random seed**.\n",
        "\n",
        "Essentially what the random seed does is \"flavour\" the randomness.\n",
        "\n",
        "**Learn more:** https://pytorch.org/docs/stable/notes/randomness.html"
      ],
      "metadata": {
        "id": "gfp4L-Hvznxl"
      }
    },
    {
      "cell_type": "code",
      "source": [
        "import torch\n",
        "\n",
        "# Create two random tensors\n",
        "random_tensor_A = torch.rand(3, 4)\n",
        "random_tensor_B = torch.rand(3, 4)\n",
        "\n",
        "print(random_tensor_A)\n",
        "print(random_tensor_B)\n",
        "print(random_tensor_A == random_tensor_B)"
      ],
      "metadata": {
        "id": "r38L67m5K9N2",
        "colab": {
          "base_uri": "https://localhost:8080/"
        },
        "outputId": "3478d806-67aa-431e-d59f-e9894c0d6745"
      },
      "execution_count": 1,
      "outputs": [
        {
          "output_type": "stream",
          "name": "stdout",
          "text": [
            "tensor([[0.9075, 0.5952, 0.0436, 0.3709],\n",
            "        [0.1993, 0.8297, 0.6283, 0.1790],\n",
            "        [0.5418, 0.7446, 0.9434, 0.4316]])\n",
            "tensor([[0.3899, 0.7503, 0.9085, 0.5861],\n",
            "        [0.4427, 0.3833, 0.0407, 0.4726],\n",
            "        [0.2094, 0.3874, 0.1444, 0.5798]])\n",
            "tensor([[False, False, False, False],\n",
            "        [False, False, False, False],\n",
            "        [False, False, False, False]])\n"
          ]
        }
      ]
    },
    {
      "cell_type": "code",
      "source": [
        "# Let's make some random but reproducible tensors\n",
        "import torch\n",
        "\n",
        "# Set the random seed\n",
        "RANDOM_SEED = 42\n",
        "torch.manual_seed(RANDOM_SEED)\n",
        "random_tensor_C = torch.rand(3, 4)\n",
        "\n",
        "torch.manual_seed(RANDOM_SEED)\n",
        "random_tensor_D = torch.rand(3, 4)\n",
        "\n",
        "print(random_tensor_C)\n",
        "print(random_tensor_D)\n",
        "print(random_tensor_C == random_tensor_D)"
      ],
      "metadata": {
        "colab": {
          "base_uri": "https://localhost:8080/"
        },
        "id": "eh97ARFdzjR9",
        "outputId": "033b8bc4-38dc-4929-c89b-2798e904b84b"
      },
      "execution_count": 2,
      "outputs": [
        {
          "output_type": "stream",
          "name": "stdout",
          "text": [
            "tensor([[0.8823, 0.9150, 0.3829, 0.9593],\n",
            "        [0.3904, 0.6009, 0.2566, 0.7936],\n",
            "        [0.9408, 0.1332, 0.9346, 0.5936]])\n",
            "tensor([[0.8823, 0.9150, 0.3829, 0.9593],\n",
            "        [0.3904, 0.6009, 0.2566, 0.7936],\n",
            "        [0.9408, 0.1332, 0.9346, 0.5936]])\n",
            "tensor([[True, True, True, True],\n",
            "        [True, True, True, True],\n",
            "        [True, True, True, True]])\n"
          ]
        }
      ]
    },
    {
      "cell_type": "markdown",
      "source": [
        "# Running tensors and PyTorch objects on the GPUs (and making faster computations)\n",
        "\n",
        "GPUs = faster computation on numbers, thanks to CUDA + NVIDIA hardware + PyTorch working behind the scenes to make everything hunky dory (good).\n",
        "\n",
        "**Which GPU(s) to Get for Deep Learning: My Experience and Advice for Using GPUs in Deep Learning::->** https://timdettmers.com/2023/01/30/which-gpu-for-deep-learning/"
      ],
      "metadata": {
        "id": "7T9Bhnix_hmu"
      }
    },
    {
      "cell_type": "code",
      "source": [
        "!nvidia-smi"
      ],
      "metadata": {
        "id": "-xqiqzKx7Pt6",
        "colab": {
          "base_uri": "https://localhost:8080/"
        },
        "outputId": "10552b14-c5c1-459e-cb44-e94923116902"
      },
      "execution_count": 1,
      "outputs": [
        {
          "output_type": "stream",
          "name": "stdout",
          "text": [
            "Wed Apr 24 17:27:46 2024       \n",
            "+---------------------------------------------------------------------------------------+\n",
            "| NVIDIA-SMI 535.104.05             Driver Version: 535.104.05   CUDA Version: 12.2     |\n",
            "|-----------------------------------------+----------------------+----------------------+\n",
            "| GPU  Name                 Persistence-M | Bus-Id        Disp.A | Volatile Uncorr. ECC |\n",
            "| Fan  Temp   Perf          Pwr:Usage/Cap |         Memory-Usage | GPU-Util  Compute M. |\n",
            "|                                         |                      |               MIG M. |\n",
            "|=========================================+======================+======================|\n",
            "|   0  Tesla T4                       Off | 00000000:00:04.0 Off |                    0 |\n",
            "| N/A   52C    P8              10W /  70W |      0MiB / 15360MiB |      0%      Default |\n",
            "|                                         |                      |                  N/A |\n",
            "+-----------------------------------------+----------------------+----------------------+\n",
            "                                                                                         \n",
            "+---------------------------------------------------------------------------------------+\n",
            "| Processes:                                                                            |\n",
            "|  GPU   GI   CI        PID   Type   Process name                            GPU Memory |\n",
            "|        ID   ID                                                             Usage      |\n",
            "|=======================================================================================|\n",
            "|  No running processes found                                                           |\n",
            "+---------------------------------------------------------------------------------------+\n"
          ]
        }
      ]
    },
    {
      "cell_type": "markdown",
      "source": [
        "## 1. Check for GPU access with PyTorch"
      ],
      "metadata": {
        "id": "F2eaWC_lJ76M"
      }
    },
    {
      "cell_type": "code",
      "source": [
        "# Check for GPU access with PyTorch\n",
        "\n",
        "import torch\n",
        "torch.cuda.is_available()"
      ],
      "metadata": {
        "colab": {
          "base_uri": "https://localhost:8080/"
        },
        "id": "sy5LKwi5JipE",
        "outputId": "87bef74f-476e-41c4-8a97-f870cf458b48"
      },
      "execution_count": 2,
      "outputs": [
        {
          "output_type": "execute_result",
          "data": {
            "text/plain": [
              "True"
            ]
          },
          "metadata": {},
          "execution_count": 2
        }
      ]
    },
    {
      "cell_type": "markdown",
      "source": [
        "For PyTorch since it's capable of running compute on the GPU or CPU, it's best practice to setup device agnostic code: https://pytorch.org/docs/stable/notes/cuda.html\n",
        "\n",
        "**e.g:** run on GPU if available, else default to CPU"
      ],
      "metadata": {
        "id": "6H2r0Jx9M9lD"
      }
    },
    {
      "cell_type": "code",
      "source": [
        "# Setup device agnostic code || https://pytorch.org/docs/stable/notes/cuda.html\n",
        "device = \"cuda\" if torch.cuda.is_available() else \"cpu\"\n",
        "device"
      ],
      "metadata": {
        "colab": {
          "base_uri": "https://localhost:8080/",
          "height": 35
        },
        "id": "dtRAwKniKSQV",
        "outputId": "6ba6f70f-b5c6-486c-a807-07584459647b"
      },
      "execution_count": 4,
      "outputs": [
        {
          "output_type": "execute_result",
          "data": {
            "text/plain": [
              "'cuda'"
            ],
            "application/vnd.google.colaboratory.intrinsic+json": {
              "type": "string"
            }
          },
          "metadata": {},
          "execution_count": 4
        }
      ]
    },
    {
      "cell_type": "code",
      "source": [
        "# Count the number of devices\n",
        "torch.cuda.device_count()"
      ],
      "metadata": {
        "colab": {
          "base_uri": "https://localhost:8080/"
        },
        "id": "gwrEW5DeKn1b",
        "outputId": "52a9fc65-7a95-4240-c101-9b5a34efd980"
      },
      "execution_count": 5,
      "outputs": [
        {
          "output_type": "execute_result",
          "data": {
            "text/plain": [
              "1"
            ]
          },
          "metadata": {},
          "execution_count": 5
        }
      ]
    },
    {
      "cell_type": "markdown",
      "source": [
        "## 3. Putting tensors (and models) on the GPU\n",
        "\n",
        "The reason we want our tensors/models on the GPU is becaue using GPU results in faster computations."
      ],
      "metadata": {
        "id": "WUDkOT3sNj1P"
      }
    },
    {
      "cell_type": "code",
      "source": [
        "# Create a tensor (default on the GPU)\n",
        "tensor = torch.tensor([1, 2, 3], device = \"cpu\")\n",
        "\n",
        "# Tensor not on GPU\n",
        "print(tensor, tensor.device)"
      ],
      "metadata": {
        "colab": {
          "base_uri": "https://localhost:8080/"
        },
        "id": "ihb_P5dMK2q8",
        "outputId": "d85ea2d7-4fa5-4136-dc0b-247be43dccd2"
      },
      "execution_count": 6,
      "outputs": [
        {
          "output_type": "stream",
          "name": "stdout",
          "text": [
            "tensor([1, 2, 3]) cpu\n"
          ]
        }
      ]
    },
    {
      "cell_type": "code",
      "source": [
        "# even if we don't declare before\n",
        "tensor = torch.tensor([1, 2, 3])\n",
        "\n",
        "# Tensor not on GPU\n",
        "print(tensor, tensor.device) # expected output device is `cpu` because we already write a condition before for the set-uping device"
      ],
      "metadata": {
        "colab": {
          "base_uri": "https://localhost:8080/"
        },
        "id": "qofEnAL1OLzA",
        "outputId": "93a06c80-efde-4d99-9da2-1c027b5028f5"
      },
      "execution_count": 8,
      "outputs": [
        {
          "output_type": "stream",
          "name": "stdout",
          "text": [
            "tensor([1, 2, 3]) cpu\n"
          ]
        }
      ]
    },
    {
      "cell_type": "code",
      "source": [
        "# Move tensor to GPU (if available)\n",
        "tensor_on_gpu = tensor.to(device)\n",
        "tensor_on_gpu"
      ],
      "metadata": {
        "colab": {
          "base_uri": "https://localhost:8080/"
        },
        "id": "exKju5ThOXVD",
        "outputId": "2bceb7f9-f036-4e31-8e66-3a9fe9dab112"
      },
      "execution_count": 9,
      "outputs": [
        {
          "output_type": "execute_result",
          "data": {
            "text/plain": [
              "tensor([1, 2, 3], device='cuda:0')"
            ]
          },
          "metadata": {},
          "execution_count": 9
        }
      ]
    },
    {
      "cell_type": "markdown",
      "source": [
        "### 4. Moving tensors back to the CPU"
      ],
      "metadata": {
        "id": "KWiFCLH6PdI8"
      }
    },
    {
      "cell_type": "code",
      "source": [
        "# If tensor is on GPU, can't transform it to NumPy\n",
        "tensor_on_gpu.numpy()"
      ],
      "metadata": {
        "colab": {
          "base_uri": "https://localhost:8080/",
          "height": 162
        },
        "id": "LDQtkHFyPKqE",
        "outputId": "8c328447-a022-4e90-b86b-ea8dcab0ed52"
      },
      "execution_count": 11,
      "outputs": [
        {
          "output_type": "error",
          "ename": "TypeError",
          "evalue": "can't convert cuda:0 device type tensor to numpy. Use Tensor.cpu() to copy the tensor to host memory first.",
          "traceback": [
            "\u001b[0;31m---------------------------------------------------------------------------\u001b[0m",
            "\u001b[0;31mTypeError\u001b[0m                                 Traceback (most recent call last)",
            "\u001b[0;32m<ipython-input-11-b7da913938a5>\u001b[0m in \u001b[0;36m<cell line: 2>\u001b[0;34m()\u001b[0m\n\u001b[1;32m      1\u001b[0m \u001b[0;31m# If tensor is on GPU, can't transform it to NumPy\u001b[0m\u001b[0;34m\u001b[0m\u001b[0;34m\u001b[0m\u001b[0m\n\u001b[0;32m----> 2\u001b[0;31m \u001b[0mtensor_on_gpu\u001b[0m\u001b[0;34m.\u001b[0m\u001b[0mnumpy\u001b[0m\u001b[0;34m(\u001b[0m\u001b[0;34m)\u001b[0m\u001b[0;34m\u001b[0m\u001b[0;34m\u001b[0m\u001b[0m\n\u001b[0m",
            "\u001b[0;31mTypeError\u001b[0m: can't convert cuda:0 device type tensor to numpy. Use Tensor.cpu() to copy the tensor to host memory first."
          ]
        }
      ]
    },
    {
      "cell_type": "code",
      "source": [
        "# To fix the GPU tensor with NumPy issue, we can first get it to the CPU\n",
        "tensor_back_on_cpu = tensor_on_gpu.cpu().numpy()\n",
        "tensor_back_on_cpu"
      ],
      "metadata": {
        "colab": {
          "base_uri": "https://localhost:8080/"
        },
        "id": "EAKc5-wCPrlr",
        "outputId": "345d282a-fb36-464e-99a9-33315a99166a"
      },
      "execution_count": 12,
      "outputs": [
        {
          "output_type": "execute_result",
          "data": {
            "text/plain": [
              "array([1, 2, 3])"
            ]
          },
          "metadata": {},
          "execution_count": 12
        }
      ]
    },
    {
      "cell_type": "code",
      "source": [
        "tensor_on_gpu"
      ],
      "metadata": {
        "colab": {
          "base_uri": "https://localhost:8080/"
        },
        "id": "3yGoXX8xQI9D",
        "outputId": "f1ec8a2c-97c3-42d4-dd38-eb6831484ff9"
      },
      "execution_count": 13,
      "outputs": [
        {
          "output_type": "execute_result",
          "data": {
            "text/plain": [
              "tensor([1, 2, 3], device='cuda:0')"
            ]
          },
          "metadata": {},
          "execution_count": 13
        }
      ]
    },
    {
      "cell_type": "code",
      "source": [],
      "metadata": {
        "id": "6i0xq3uzQQfZ"
      },
      "execution_count": null,
      "outputs": []
    }
  ],
  "metadata": {
    "colab": {
      "provenance": [],
      "gpuType": "T4"
    },
    "kernelspec": {
      "display_name": "Python 3",
      "name": "python3"
    },
    "language_info": {
      "name": "python"
    },
    "accelerator": "GPU"
  },
  "nbformat": 4,
  "nbformat_minor": 0
}