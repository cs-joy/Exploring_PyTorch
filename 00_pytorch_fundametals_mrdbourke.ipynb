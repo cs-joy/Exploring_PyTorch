{
  "nbformat": 4,
  "nbformat_minor": 0,
  "metadata": {
    "colab": {
      "provenance": []
    },
    "kernelspec": {
      "name": "python3",
      "display_name": "Python 3"
    },
    "language_info": {
      "name": "python"
    }
  },
  "cells": [
    {
      "cell_type": "markdown",
      "source": [
        "### PyTorch Fundamentals"
      ],
      "metadata": {
        "id": "-buiuu7sCwy3"
      }
    },
    {
      "cell_type": "code",
      "source": [
        "import torch\n",
        "import pandas as pd\n",
        "import numpy as np\n",
        "import matplotlib.pyplot as plt\n",
        "print(torch.__version__)"
      ],
      "metadata": {
        "colab": {
          "base_uri": "https://localhost:8080/"
        },
        "id": "7bFyap-6C3Tr",
        "outputId": "d0661d4e-6ef0-443a-a466-f470fc0ae994"
      },
      "execution_count": 57,
      "outputs": [
        {
          "output_type": "stream",
          "name": "stdout",
          "text": [
            "2.2.1+cu121\n"
          ]
        }
      ]
    },
    {
      "cell_type": "markdown",
      "source": [
        "### Introduction to Tensors\n",
        "\n",
        "### Creating tensors\n",
        "\n",
        "PyTorch tensors are created using `torch.Tensor()` = https://pytorch.org/docs/stable/tensors.html"
      ],
      "metadata": {
        "id": "uElvucnwEP3M"
      }
    },
    {
      "cell_type": "code",
      "source": [
        "# scalar\n",
        "scalar = torch.tensor(7)\n",
        "scalar"
      ],
      "metadata": {
        "colab": {
          "base_uri": "https://localhost:8080/"
        },
        "id": "p8OA0B6eEQ4q",
        "outputId": "838340a2-5568-40f7-9443-db525426c107"
      },
      "execution_count": 58,
      "outputs": [
        {
          "output_type": "execute_result",
          "data": {
            "text/plain": [
              "tensor(7)"
            ]
          },
          "metadata": {},
          "execution_count": 58
        }
      ]
    },
    {
      "cell_type": "code",
      "source": [
        "# number of dimension : https://pytorch.org/docs/stable/generated/torch.Tensor.ndim.html\n",
        "\n",
        "scalar.ndim"
      ],
      "metadata": {
        "colab": {
          "base_uri": "https://localhost:8080/"
        },
        "id": "v0_irmvAEhH6",
        "outputId": "11ebf846-c838-4fb1-9850-12b5221310d3"
      },
      "execution_count": 59,
      "outputs": [
        {
          "output_type": "execute_result",
          "data": {
            "text/plain": [
              "0"
            ]
          },
          "metadata": {},
          "execution_count": 59
        }
      ]
    },
    {
      "cell_type": "code",
      "source": [
        "# Get tensor back as Python int\n",
        "\n",
        "scalar.item()"
      ],
      "metadata": {
        "colab": {
          "base_uri": "https://localhost:8080/"
        },
        "id": "R024mjQ6HVxv",
        "outputId": "b10ce439-bf41-46cc-afad-0413a3def54f"
      },
      "execution_count": 60,
      "outputs": [
        {
          "output_type": "execute_result",
          "data": {
            "text/plain": [
              "7"
            ]
          },
          "metadata": {},
          "execution_count": 60
        }
      ]
    },
    {
      "cell_type": "code",
      "source": [
        "# Vector\n",
        "vector = torch.tensor([7, 7])\n",
        "vector"
      ],
      "metadata": {
        "colab": {
          "base_uri": "https://localhost:8080/"
        },
        "id": "MtmlilZeHjUj",
        "outputId": "ed591f59-0e7c-4f40-9476-e5d8ddaf9fa1"
      },
      "execution_count": 61,
      "outputs": [
        {
          "output_type": "execute_result",
          "data": {
            "text/plain": [
              "tensor([7, 7])"
            ]
          },
          "metadata": {},
          "execution_count": 61
        }
      ]
    },
    {
      "cell_type": "code",
      "source": [
        "vector.ndim"
      ],
      "metadata": {
        "colab": {
          "base_uri": "https://localhost:8080/"
        },
        "id": "4iWK1VoKorqW",
        "outputId": "3106eb9d-f8a6-440d-c42d-a88afab3f4e1"
      },
      "execution_count": 62,
      "outputs": [
        {
          "output_type": "execute_result",
          "data": {
            "text/plain": [
              "1"
            ]
          },
          "metadata": {},
          "execution_count": 62
        }
      ]
    },
    {
      "cell_type": "code",
      "source": [
        "vector.shape"
      ],
      "metadata": {
        "colab": {
          "base_uri": "https://localhost:8080/"
        },
        "id": "-arbdcU8pvtk",
        "outputId": "c7701670-f3a8-4485-abcf-b36d77d68fba"
      },
      "execution_count": 63,
      "outputs": [
        {
          "output_type": "execute_result",
          "data": {
            "text/plain": [
              "torch.Size([2])"
            ]
          },
          "metadata": {},
          "execution_count": 63
        }
      ]
    },
    {
      "cell_type": "code",
      "source": [
        "# MATRIX\n",
        "MATRIX = torch.tensor([[2,4],\n",
        "                       [1,3]])\n",
        "MATRIX"
      ],
      "metadata": {
        "colab": {
          "base_uri": "https://localhost:8080/"
        },
        "id": "aXgWyyKdpxv1",
        "outputId": "200d277c-de45-4e28-8425-d76f54d243b4"
      },
      "execution_count": 64,
      "outputs": [
        {
          "output_type": "execute_result",
          "data": {
            "text/plain": [
              "tensor([[2, 4],\n",
              "        [1, 3]])"
            ]
          },
          "metadata": {},
          "execution_count": 64
        }
      ]
    },
    {
      "cell_type": "code",
      "source": [
        "MATRIX.ndim"
      ],
      "metadata": {
        "colab": {
          "base_uri": "https://localhost:8080/"
        },
        "id": "VSWWiuxKqGGv",
        "outputId": "56f77745-aceb-4533-c022-d781544b3105"
      },
      "execution_count": 65,
      "outputs": [
        {
          "output_type": "execute_result",
          "data": {
            "text/plain": [
              "2"
            ]
          },
          "metadata": {},
          "execution_count": 65
        }
      ]
    },
    {
      "cell_type": "code",
      "source": [
        "MATRIX[0]"
      ],
      "metadata": {
        "colab": {
          "base_uri": "https://localhost:8080/"
        },
        "id": "ete9DTOvqO3F",
        "outputId": "db535ca0-b045-4e1d-fe05-9b053a6e2c20"
      },
      "execution_count": 66,
      "outputs": [
        {
          "output_type": "execute_result",
          "data": {
            "text/plain": [
              "tensor([2, 4])"
            ]
          },
          "metadata": {},
          "execution_count": 66
        }
      ]
    },
    {
      "cell_type": "code",
      "source": [
        "MATRIX.shape"
      ],
      "metadata": {
        "colab": {
          "base_uri": "https://localhost:8080/"
        },
        "id": "Pr9wKm7jqRk9",
        "outputId": "6c4d997d-94e0-410e-ce73-f4a61522b193"
      },
      "execution_count": 67,
      "outputs": [
        {
          "output_type": "execute_result",
          "data": {
            "text/plain": [
              "torch.Size([2, 2])"
            ]
          },
          "metadata": {},
          "execution_count": 67
        }
      ]
    },
    {
      "cell_type": "code",
      "source": [
        "# Tensor\n",
        "TENSOR = torch.tensor([[[1,3,9],\n",
        "                        [2,4,6],\n",
        "                        [5,9,7]]])\n",
        "TENSOR"
      ],
      "metadata": {
        "colab": {
          "base_uri": "https://localhost:8080/"
        },
        "id": "V1hr5cVHqYjN",
        "outputId": "dcc5fcf9-c99d-4184-f73e-6218ce376163"
      },
      "execution_count": 68,
      "outputs": [
        {
          "output_type": "execute_result",
          "data": {
            "text/plain": [
              "tensor([[[1, 3, 9],\n",
              "         [2, 4, 6],\n",
              "         [5, 9, 7]]])"
            ]
          },
          "metadata": {},
          "execution_count": 68
        }
      ]
    },
    {
      "cell_type": "code",
      "source": [
        "TENSOR.ndim"
      ],
      "metadata": {
        "colab": {
          "base_uri": "https://localhost:8080/"
        },
        "id": "DphY4MK8sUl-",
        "outputId": "8fe7e6be-5254-4f90-86ab-f2b629c15cb7"
      },
      "execution_count": 69,
      "outputs": [
        {
          "output_type": "execute_result",
          "data": {
            "text/plain": [
              "3"
            ]
          },
          "metadata": {},
          "execution_count": 69
        }
      ]
    },
    {
      "cell_type": "code",
      "source": [
        "TENSOR.shape"
      ],
      "metadata": {
        "colab": {
          "base_uri": "https://localhost:8080/"
        },
        "id": "j-0f9M-usalk",
        "outputId": "341700e5-9c0a-4dd2-80f4-446b1ff6f0d1"
      },
      "execution_count": 70,
      "outputs": [
        {
          "output_type": "execute_result",
          "data": {
            "text/plain": [
              "torch.Size([1, 3, 3])"
            ]
          },
          "metadata": {},
          "execution_count": 70
        }
      ]
    },
    {
      "cell_type": "code",
      "source": [
        "TENSOR[0]"
      ],
      "metadata": {
        "colab": {
          "base_uri": "https://localhost:8080/"
        },
        "id": "uvVm4l_kssNN",
        "outputId": "cb04df87-cf09-4c4c-efed-0dbbd943fdc9"
      },
      "execution_count": 71,
      "outputs": [
        {
          "output_type": "execute_result",
          "data": {
            "text/plain": [
              "tensor([[1, 3, 9],\n",
              "        [2, 4, 6],\n",
              "        [5, 9, 7]])"
            ]
          },
          "metadata": {},
          "execution_count": 71
        }
      ]
    },
    {
      "cell_type": "code",
      "source": [
        "MY_TENSOR = torch.tensor([[[\n",
        "                              [1,3,9,4], # <0\n",
        "                              [2,4,8,6], # <1\n",
        "#                              [4,1,6,3]  # <2\n",
        "#                              ^ ^ ^ ^\n",
        "#                              0 1 2 3\n",
        "                            ]]])\n",
        "MY_TENSOR"
      ],
      "metadata": {
        "colab": {
          "base_uri": "https://localhost:8080/"
        },
        "id": "JpPIPxWTtAnO",
        "outputId": "01f3c54d-900f-44bb-c844-dbf2d549ae6f"
      },
      "execution_count": 72,
      "outputs": [
        {
          "output_type": "execute_result",
          "data": {
            "text/plain": [
              "tensor([[[[1, 3, 9, 4],\n",
              "          [2, 4, 8, 6]]]])"
            ]
          },
          "metadata": {},
          "execution_count": 72
        }
      ]
    },
    {
      "cell_type": "code",
      "source": [
        "MY_TENSOR.ndim"
      ],
      "metadata": {
        "colab": {
          "base_uri": "https://localhost:8080/"
        },
        "id": "HvqUSXvluX58",
        "outputId": "bc7181e1-a6be-4d7c-b993-5dc858fdcc1c"
      },
      "execution_count": 73,
      "outputs": [
        {
          "output_type": "execute_result",
          "data": {
            "text/plain": [
              "4"
            ]
          },
          "metadata": {},
          "execution_count": 73
        }
      ]
    },
    {
      "cell_type": "code",
      "source": [
        "MY_TENSOR.shape"
      ],
      "metadata": {
        "colab": {
          "base_uri": "https://localhost:8080/"
        },
        "id": "Q085jgdXua90",
        "outputId": "fbd24de9-276d-4640-f149-fa3794577841"
      },
      "execution_count": 74,
      "outputs": [
        {
          "output_type": "execute_result",
          "data": {
            "text/plain": [
              "torch.Size([1, 1, 2, 4])"
            ]
          },
          "metadata": {},
          "execution_count": 74
        }
      ]
    },
    {
      "cell_type": "markdown",
      "source": [
        "## Tensor Exercise"
      ],
      "metadata": {
        "id": "0VYUu8xVdlEy"
      }
    },
    {
      "cell_type": "code",
      "source": [
        "TENSOR = torch.tensor([[1,2,3], [4,5,6]])\n",
        "TENSOR"
      ],
      "metadata": {
        "colab": {
          "base_uri": "https://localhost:8080/"
        },
        "id": "wXenZTtEdqy6",
        "outputId": "1a7a3268-40a3-4b40-8f47-1020494c1423"
      },
      "execution_count": 75,
      "outputs": [
        {
          "output_type": "execute_result",
          "data": {
            "text/plain": [
              "tensor([[1, 2, 3],\n",
              "        [4, 5, 6]])"
            ]
          },
          "metadata": {},
          "execution_count": 75
        }
      ]
    },
    {
      "cell_type": "code",
      "source": [
        "TENSOR.ndim"
      ],
      "metadata": {
        "colab": {
          "base_uri": "https://localhost:8080/"
        },
        "id": "phOp45vkd25v",
        "outputId": "0f1684ab-846d-447c-9c01-4b57708a469c"
      },
      "execution_count": 76,
      "outputs": [
        {
          "output_type": "execute_result",
          "data": {
            "text/plain": [
              "2"
            ]
          },
          "metadata": {},
          "execution_count": 76
        }
      ]
    },
    {
      "cell_type": "code",
      "source": [
        "TENSOR.shape"
      ],
      "metadata": {
        "colab": {
          "base_uri": "https://localhost:8080/"
        },
        "id": "QPNE_shteBLK",
        "outputId": "2b767f8f-197e-4205-d0b4-fbdfa8a8ae85"
      },
      "execution_count": 77,
      "outputs": [
        {
          "output_type": "execute_result",
          "data": {
            "text/plain": [
              "torch.Size([2, 3])"
            ]
          },
          "metadata": {},
          "execution_count": 77
        }
      ]
    },
    {
      "cell_type": "code",
      "source": [
        "TENSOR[0]"
      ],
      "metadata": {
        "colab": {
          "base_uri": "https://localhost:8080/"
        },
        "id": "W22HH2NAeHvA",
        "outputId": "f9ccc3c9-04ef-4881-943e-d49871255471"
      },
      "execution_count": 78,
      "outputs": [
        {
          "output_type": "execute_result",
          "data": {
            "text/plain": [
              "tensor([1, 2, 3])"
            ]
          },
          "metadata": {},
          "execution_count": 78
        }
      ]
    },
    {
      "cell_type": "code",
      "source": [
        "TENSOR2 = torch.tensor([\n",
        "    [2,1,4],\n",
        "    [1,5,2]\n",
        "])\n",
        "TENSOR2"
      ],
      "metadata": {
        "id": "FfC1ewwlet8-",
        "colab": {
          "base_uri": "https://localhost:8080/"
        },
        "outputId": "63637fa9-bffc-463a-a82d-021999e7f79f"
      },
      "execution_count": 79,
      "outputs": [
        {
          "output_type": "execute_result",
          "data": {
            "text/plain": [
              "tensor([[2, 1, 4],\n",
              "        [1, 5, 2]])"
            ]
          },
          "metadata": {},
          "execution_count": 79
        }
      ]
    },
    {
      "cell_type": "code",
      "source": [
        "TENSOR2.ndim"
      ],
      "metadata": {
        "id": "OnZX8YHNfJW7",
        "colab": {
          "base_uri": "https://localhost:8080/"
        },
        "outputId": "198b9023-302e-4e0a-fbdb-a18a4e636a9b"
      },
      "execution_count": 80,
      "outputs": [
        {
          "output_type": "execute_result",
          "data": {
            "text/plain": [
              "2"
            ]
          },
          "metadata": {},
          "execution_count": 80
        }
      ]
    },
    {
      "cell_type": "code",
      "source": [
        "TENSOR2.shape"
      ],
      "metadata": {
        "colab": {
          "base_uri": "https://localhost:8080/"
        },
        "id": "IshwqyFHCJ7g",
        "outputId": "d04ce1d6-1d58-4200-de8d-38e550f8b824"
      },
      "execution_count": 81,
      "outputs": [
        {
          "output_type": "execute_result",
          "data": {
            "text/plain": [
              "torch.Size([2, 3])"
            ]
          },
          "metadata": {},
          "execution_count": 81
        }
      ]
    },
    {
      "cell_type": "code",
      "source": [
        "TENSOR3 = torch.tensor([\n",
        "    [2,1,4],\n",
        "    [1,5,2],\n",
        "    [7,5,9]\n",
        "])\n",
        "TENSOR3"
      ],
      "metadata": {
        "colab": {
          "base_uri": "https://localhost:8080/"
        },
        "id": "JbXCoXQcCVXo",
        "outputId": "6605bdae-e05b-4a6c-a7da-b35def69660b"
      },
      "execution_count": 82,
      "outputs": [
        {
          "output_type": "execute_result",
          "data": {
            "text/plain": [
              "tensor([[2, 1, 4],\n",
              "        [1, 5, 2],\n",
              "        [7, 5, 9]])"
            ]
          },
          "metadata": {},
          "execution_count": 82
        }
      ]
    },
    {
      "cell_type": "code",
      "source": [
        "TENSOR3.ndim"
      ],
      "metadata": {
        "colab": {
          "base_uri": "https://localhost:8080/"
        },
        "id": "YaUO0YbOClOo",
        "outputId": "2c895900-c0fe-41ff-acb7-70ea9e2e6e92"
      },
      "execution_count": 83,
      "outputs": [
        {
          "output_type": "execute_result",
          "data": {
            "text/plain": [
              "2"
            ]
          },
          "metadata": {},
          "execution_count": 83
        }
      ]
    },
    {
      "cell_type": "code",
      "source": [
        "TENSOR3.shape"
      ],
      "metadata": {
        "colab": {
          "base_uri": "https://localhost:8080/"
        },
        "id": "l-2DFQhMCngy",
        "outputId": "84ef7f6f-8123-429b-a8a4-2f41cf344b2c"
      },
      "execution_count": 84,
      "outputs": [
        {
          "output_type": "execute_result",
          "data": {
            "text/plain": [
              "torch.Size([3, 3])"
            ]
          },
          "metadata": {},
          "execution_count": 84
        }
      ]
    },
    {
      "cell_type": "code",
      "source": [
        "TENSOR4 = torch.tensor([[\n",
        "    [1,2,3,2],\n",
        "    [7,8,9,7],\n",
        "    [4,5,6,9]\n",
        "]])\n",
        "\n",
        "TENSOR4"
      ],
      "metadata": {
        "colab": {
          "base_uri": "https://localhost:8080/"
        },
        "id": "rtsY1RuzCqHp",
        "outputId": "cae576d7-e853-45be-efa9-f1406b5be842"
      },
      "execution_count": 85,
      "outputs": [
        {
          "output_type": "execute_result",
          "data": {
            "text/plain": [
              "tensor([[[1, 2, 3, 2],\n",
              "         [7, 8, 9, 7],\n",
              "         [4, 5, 6, 9]]])"
            ]
          },
          "metadata": {},
          "execution_count": 85
        }
      ]
    },
    {
      "cell_type": "code",
      "source": [
        "TENSOR4.ndim"
      ],
      "metadata": {
        "colab": {
          "base_uri": "https://localhost:8080/"
        },
        "id": "heIyjCldEIHn",
        "outputId": "8d965bef-02e7-491d-bd28-0112eebf2086"
      },
      "execution_count": 86,
      "outputs": [
        {
          "output_type": "execute_result",
          "data": {
            "text/plain": [
              "3"
            ]
          },
          "metadata": {},
          "execution_count": 86
        }
      ]
    },
    {
      "cell_type": "code",
      "source": [
        "TENSOR4.shape"
      ],
      "metadata": {
        "colab": {
          "base_uri": "https://localhost:8080/"
        },
        "id": "yK2Vov-AEKNY",
        "outputId": "3c8a66fa-df6c-4d2b-c54d-e2e5850b38e3"
      },
      "execution_count": 87,
      "outputs": [
        {
          "output_type": "execute_result",
          "data": {
            "text/plain": [
              "torch.Size([1, 3, 4])"
            ]
          },
          "metadata": {},
          "execution_count": 87
        }
      ]
    },
    {
      "cell_type": "code",
      "source": [
        "TENSOR5 = torch.tensor(\n",
        "    [\n",
        "        [\n",
        "            [\n",
        "                [\n",
        "                    [\n",
        "                        [1,2],\n",
        "                        [4,1],\n",
        "                        [6,8]\n",
        "                    ]\n",
        "                ]\n",
        "            ]\n",
        "        ]\n",
        "    ]\n",
        ")\n",
        "\n",
        "TENSOR5"
      ],
      "metadata": {
        "colab": {
          "base_uri": "https://localhost:8080/"
        },
        "id": "PBnmF883ETuX",
        "outputId": "6c62eab9-87fe-430a-cbdc-0512384b8eb8"
      },
      "execution_count": 88,
      "outputs": [
        {
          "output_type": "execute_result",
          "data": {
            "text/plain": [
              "tensor([[[[[[1, 2],\n",
              "            [4, 1],\n",
              "            [6, 8]]]]]])"
            ]
          },
          "metadata": {},
          "execution_count": 88
        }
      ]
    },
    {
      "cell_type": "code",
      "source": [
        "TENSOR5.ndim # expected 6"
      ],
      "metadata": {
        "colab": {
          "base_uri": "https://localhost:8080/"
        },
        "id": "qCAnLMtgGKZn",
        "outputId": "668a567f-2e46-4ae4-b216-f7521084693c"
      },
      "execution_count": 89,
      "outputs": [
        {
          "output_type": "execute_result",
          "data": {
            "text/plain": [
              "6"
            ]
          },
          "metadata": {},
          "execution_count": 89
        }
      ]
    },
    {
      "cell_type": "code",
      "source": [
        "TENSOR5.shape #expected tensor.Size([1,1,1,1,3,2])"
      ],
      "metadata": {
        "colab": {
          "base_uri": "https://localhost:8080/"
        },
        "id": "Aox8_F-EGp4n",
        "outputId": "1f3cf441-cc5d-4946-9a8e-f464035e239f"
      },
      "execution_count": 90,
      "outputs": [
        {
          "output_type": "execute_result",
          "data": {
            "text/plain": [
              "torch.Size([1, 1, 1, 1, 3, 2])"
            ]
          },
          "metadata": {},
          "execution_count": 90
        }
      ]
    },
    {
      "cell_type": "code",
      "source": [
        "TENSOR6 = torch.tensor(\n",
        "    [\n",
        "            [\n",
        "              [1,2],\n",
        "              [4,8],\n",
        "              [3,9]\n",
        "            ],\n",
        "            [\n",
        "              [5,6],\n",
        "              [7,9],\n",
        "              [4,1]\n",
        "            ]\n",
        "\n",
        "    ]\n",
        ")\n",
        "\n",
        "TENSOR6"
      ],
      "metadata": {
        "colab": {
          "base_uri": "https://localhost:8080/"
        },
        "id": "F8mlTsNmGz8-",
        "outputId": "cb640f06-1834-4178-9a29-46fe04204023"
      },
      "execution_count": 91,
      "outputs": [
        {
          "output_type": "execute_result",
          "data": {
            "text/plain": [
              "tensor([[[1, 2],\n",
              "         [4, 8],\n",
              "         [3, 9]],\n",
              "\n",
              "        [[5, 6],\n",
              "         [7, 9],\n",
              "         [4, 1]]])"
            ]
          },
          "metadata": {},
          "execution_count": 91
        }
      ]
    },
    {
      "cell_type": "code",
      "source": [
        "TENSOR6.ndim"
      ],
      "metadata": {
        "colab": {
          "base_uri": "https://localhost:8080/"
        },
        "id": "WtkIhxXnH-9n",
        "outputId": "0419b600-743e-441e-e707-0eb99a132063"
      },
      "execution_count": 92,
      "outputs": [
        {
          "output_type": "execute_result",
          "data": {
            "text/plain": [
              "3"
            ]
          },
          "metadata": {},
          "execution_count": 92
        }
      ]
    },
    {
      "cell_type": "code",
      "source": [
        "TENSOR6.shape"
      ],
      "metadata": {
        "colab": {
          "base_uri": "https://localhost:8080/"
        },
        "id": "4y2T7u2UJBTl",
        "outputId": "f56b7649-7625-414e-86d5-a2a361ad5a2f"
      },
      "execution_count": 93,
      "outputs": [
        {
          "output_type": "execute_result",
          "data": {
            "text/plain": [
              "torch.Size([2, 3, 2])"
            ]
          },
          "metadata": {},
          "execution_count": 93
        }
      ]
    },
    {
      "cell_type": "code",
      "source": [
        "TENSOR7 = torch.tensor(\n",
        "    [\n",
        "        [\n",
        "            [\n",
        "                [\n",
        "                    [\n",
        "                        [1,2],\n",
        "                        [4,1],\n",
        "                        [6,8]\n",
        "                    ],\n",
        "                    [\n",
        "                        [4,1],\n",
        "                        [1,5],\n",
        "                        [47,9]\n",
        "                    ]\n",
        "                ],\n",
        "                [\n",
        "                    [\n",
        "                        [1,2],\n",
        "                        [4,1],\n",
        "                        [6,8]\n",
        "                    ],\n",
        "                    [\n",
        "                        [4,1],\n",
        "                        [1,5],\n",
        "                        [47,9]\n",
        "                    ]\n",
        "                ],\n",
        "                [\n",
        "                    [\n",
        "                        [1,2],\n",
        "                        [4,1],\n",
        "                        [6,8]\n",
        "                    ],\n",
        "                    [\n",
        "                        [4,1],\n",
        "                        [1,5],\n",
        "                        [47,9]\n",
        "                    ]\n",
        "                ]\n",
        "            ],\n",
        "            [\n",
        "                [\n",
        "                    [\n",
        "                        [1,2],\n",
        "                        [4,1],\n",
        "                        [6,8]\n",
        "                    ],\n",
        "                    [\n",
        "                        [4,1],\n",
        "                        [1,5],\n",
        "                        [47,9]\n",
        "                    ]\n",
        "                ],\n",
        "                [\n",
        "                    [\n",
        "                        [1,2],\n",
        "                        [4,1],\n",
        "                        [6,8]\n",
        "                    ],\n",
        "                    [\n",
        "                        [4,1],\n",
        "                        [1,5],\n",
        "                        [47,9]\n",
        "                    ]\n",
        "                ],\n",
        "                [\n",
        "                    [\n",
        "                        [1,2],\n",
        "                        [4,1],\n",
        "                        [6,8]\n",
        "                    ],\n",
        "                    [\n",
        "                        [4,1],\n",
        "                        [1,5],\n",
        "                        [47,9]\n",
        "                    ]\n",
        "                ]\n",
        "            ]\n",
        "        ],\n",
        "                [\n",
        "            [\n",
        "                [\n",
        "                    [\n",
        "                        [1,2],\n",
        "                        [4,1],\n",
        "                        [6,8]\n",
        "                    ],\n",
        "                    [\n",
        "                        [4,1],\n",
        "                        [1,5],\n",
        "                        [47,9]\n",
        "                    ]\n",
        "                ],\n",
        "                [\n",
        "                    [\n",
        "                        [1,2],\n",
        "                        [4,1],\n",
        "                        [6,8]\n",
        "                    ],\n",
        "                    [\n",
        "                        [4,1],\n",
        "                        [1,5],\n",
        "                        [47,9]\n",
        "                    ]\n",
        "                ],\n",
        "                [\n",
        "                    [\n",
        "                        [1,2],\n",
        "                        [4,1],\n",
        "                        [6,8]\n",
        "                    ],\n",
        "                    [\n",
        "                        [4,1],\n",
        "                        [1,5],\n",
        "                        [47,9]\n",
        "                    ]\n",
        "                ]\n",
        "            ],\n",
        "            [\n",
        "                [\n",
        "                    [\n",
        "                        [1,2],\n",
        "                        [4,1],\n",
        "                        [6,8]\n",
        "                    ],\n",
        "                    [\n",
        "                        [4,1],\n",
        "                        [1,5],\n",
        "                        [47,9]\n",
        "                    ]\n",
        "                ],\n",
        "                [\n",
        "                    [\n",
        "                        [1,2],\n",
        "                        [4,1],\n",
        "                        [6,8]\n",
        "                    ],\n",
        "                    [\n",
        "                        [4,1],\n",
        "                        [1,5],\n",
        "                        [47,9]\n",
        "                    ]\n",
        "                ],\n",
        "                [\n",
        "                    [\n",
        "                        [1,2],\n",
        "                        [4,1],\n",
        "                        [6,8]\n",
        "                    ],\n",
        "                    [\n",
        "                        [4,1],\n",
        "                        [1,5],\n",
        "                        [47,9]\n",
        "                    ]\n",
        "                ]\n",
        "            ]\n",
        "        ]\n",
        "    ]\n",
        ")\n",
        "TENSOR7"
      ],
      "metadata": {
        "colab": {
          "base_uri": "https://localhost:8080/"
        },
        "id": "uM22_1baK3mV",
        "outputId": "de00b33b-5e91-4465-ae78-2fa24d318927"
      },
      "execution_count": 113,
      "outputs": [
        {
          "output_type": "execute_result",
          "data": {
            "text/plain": [
              "tensor([[[[[[ 1,  2],\n",
              "            [ 4,  1],\n",
              "            [ 6,  8]],\n",
              "\n",
              "           [[ 4,  1],\n",
              "            [ 1,  5],\n",
              "            [47,  9]]],\n",
              "\n",
              "\n",
              "          [[[ 1,  2],\n",
              "            [ 4,  1],\n",
              "            [ 6,  8]],\n",
              "\n",
              "           [[ 4,  1],\n",
              "            [ 1,  5],\n",
              "            [47,  9]]],\n",
              "\n",
              "\n",
              "          [[[ 1,  2],\n",
              "            [ 4,  1],\n",
              "            [ 6,  8]],\n",
              "\n",
              "           [[ 4,  1],\n",
              "            [ 1,  5],\n",
              "            [47,  9]]]],\n",
              "\n",
              "\n",
              "\n",
              "         [[[[ 1,  2],\n",
              "            [ 4,  1],\n",
              "            [ 6,  8]],\n",
              "\n",
              "           [[ 4,  1],\n",
              "            [ 1,  5],\n",
              "            [47,  9]]],\n",
              "\n",
              "\n",
              "          [[[ 1,  2],\n",
              "            [ 4,  1],\n",
              "            [ 6,  8]],\n",
              "\n",
              "           [[ 4,  1],\n",
              "            [ 1,  5],\n",
              "            [47,  9]]],\n",
              "\n",
              "\n",
              "          [[[ 1,  2],\n",
              "            [ 4,  1],\n",
              "            [ 6,  8]],\n",
              "\n",
              "           [[ 4,  1],\n",
              "            [ 1,  5],\n",
              "            [47,  9]]]]],\n",
              "\n",
              "\n",
              "\n",
              "\n",
              "        [[[[[ 1,  2],\n",
              "            [ 4,  1],\n",
              "            [ 6,  8]],\n",
              "\n",
              "           [[ 4,  1],\n",
              "            [ 1,  5],\n",
              "            [47,  9]]],\n",
              "\n",
              "\n",
              "          [[[ 1,  2],\n",
              "            [ 4,  1],\n",
              "            [ 6,  8]],\n",
              "\n",
              "           [[ 4,  1],\n",
              "            [ 1,  5],\n",
              "            [47,  9]]],\n",
              "\n",
              "\n",
              "          [[[ 1,  2],\n",
              "            [ 4,  1],\n",
              "            [ 6,  8]],\n",
              "\n",
              "           [[ 4,  1],\n",
              "            [ 1,  5],\n",
              "            [47,  9]]]],\n",
              "\n",
              "\n",
              "\n",
              "         [[[[ 1,  2],\n",
              "            [ 4,  1],\n",
              "            [ 6,  8]],\n",
              "\n",
              "           [[ 4,  1],\n",
              "            [ 1,  5],\n",
              "            [47,  9]]],\n",
              "\n",
              "\n",
              "          [[[ 1,  2],\n",
              "            [ 4,  1],\n",
              "            [ 6,  8]],\n",
              "\n",
              "           [[ 4,  1],\n",
              "            [ 1,  5],\n",
              "            [47,  9]]],\n",
              "\n",
              "\n",
              "          [[[ 1,  2],\n",
              "            [ 4,  1],\n",
              "            [ 6,  8]],\n",
              "\n",
              "           [[ 4,  1],\n",
              "            [ 1,  5],\n",
              "            [47,  9]]]]]])"
            ]
          },
          "metadata": {},
          "execution_count": 113
        }
      ]
    },
    {
      "cell_type": "code",
      "source": [
        "TENSOR7.ndim"
      ],
      "metadata": {
        "colab": {
          "base_uri": "https://localhost:8080/"
        },
        "id": "1dApxWVDYKpp",
        "outputId": "e5aec486-0fc6-4a59-9b84-b0a7c4184ce4"
      },
      "execution_count": 114,
      "outputs": [
        {
          "output_type": "execute_result",
          "data": {
            "text/plain": [
              "6"
            ]
          },
          "metadata": {},
          "execution_count": 114
        }
      ]
    },
    {
      "cell_type": "code",
      "source": [
        "TENSOR7.shape"
      ],
      "metadata": {
        "colab": {
          "base_uri": "https://localhost:8080/"
        },
        "id": "011KGrClYMsQ",
        "outputId": "922d311b-2d0b-4940-ab9c-512cb0f532a1"
      },
      "execution_count": 115,
      "outputs": [
        {
          "output_type": "execute_result",
          "data": {
            "text/plain": [
              "torch.Size([2, 2, 3, 2, 3, 2])"
            ]
          },
          "metadata": {},
          "execution_count": 115
        }
      ]
    },
    {
      "cell_type": "code",
      "source": [],
      "metadata": {
        "id": "tmiPDHEGYVyw"
      },
      "execution_count": null,
      "outputs": []
    }
  ]
}