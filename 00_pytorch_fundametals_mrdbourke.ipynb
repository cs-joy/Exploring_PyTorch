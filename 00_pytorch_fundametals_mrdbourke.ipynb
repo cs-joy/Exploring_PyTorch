{
  "cells": [
    {
      "cell_type": "markdown",
      "metadata": {
        "id": "-buiuu7sCwy3"
      },
      "source": [
        "### PyTorch Fundamentals"
      ]
    },
    {
      "cell_type": "code",
      "execution_count": 1,
      "metadata": {
        "colab": {
          "base_uri": "https://localhost:8080/"
        },
        "id": "7bFyap-6C3Tr",
        "outputId": "377e1086-1b41-477a-f6f8-35a6282246fc"
      },
      "outputs": [
        {
          "output_type": "stream",
          "name": "stdout",
          "text": [
            "2.2.1+cu121\n"
          ]
        }
      ],
      "source": [
        "import torch\n",
        "import pandas as pd\n",
        "import numpy as np\n",
        "import matplotlib.pyplot as plt\n",
        "print(torch.__version__)"
      ]
    },
    {
      "cell_type": "markdown",
      "metadata": {
        "id": "uElvucnwEP3M"
      },
      "source": [
        "### Introduction to Tensors\n",
        "\n",
        "### Creating tensors\n",
        "\n",
        "PyTorch tensors are created using `torch.Tensor()` = https://pytorch.org/docs/stable/tensors.html"
      ]
    },
    {
      "cell_type": "code",
      "execution_count": 2,
      "metadata": {
        "colab": {
          "base_uri": "https://localhost:8080/"
        },
        "id": "p8OA0B6eEQ4q",
        "outputId": "8399096b-2b66-4300-b580-4843ac170a4e"
      },
      "outputs": [
        {
          "output_type": "execute_result",
          "data": {
            "text/plain": [
              "tensor(7)"
            ]
          },
          "metadata": {},
          "execution_count": 2
        }
      ],
      "source": [
        "# scalar\n",
        "scalar = torch.tensor(7)\n",
        "scalar"
      ]
    },
    {
      "cell_type": "code",
      "execution_count": 3,
      "metadata": {
        "colab": {
          "base_uri": "https://localhost:8080/"
        },
        "id": "v0_irmvAEhH6",
        "outputId": "42aca2d9-315c-46c3-e7c0-9ce1e91c3f49"
      },
      "outputs": [
        {
          "output_type": "execute_result",
          "data": {
            "text/plain": [
              "0"
            ]
          },
          "metadata": {},
          "execution_count": 3
        }
      ],
      "source": [
        "# number of dimension : https://pytorch.org/docs/stable/generated/torch.Tensor.ndim.html\n",
        "\n",
        "scalar.ndim"
      ]
    },
    {
      "cell_type": "code",
      "execution_count": 4,
      "metadata": {
        "colab": {
          "base_uri": "https://localhost:8080/"
        },
        "id": "R024mjQ6HVxv",
        "outputId": "39b99ff3-7568-466e-e0fa-c4007993cf4b"
      },
      "outputs": [
        {
          "output_type": "execute_result",
          "data": {
            "text/plain": [
              "7"
            ]
          },
          "metadata": {},
          "execution_count": 4
        }
      ],
      "source": [
        "# Get tensor back as Python int\n",
        "\n",
        "scalar.item()"
      ]
    },
    {
      "cell_type": "code",
      "execution_count": 5,
      "metadata": {
        "colab": {
          "base_uri": "https://localhost:8080/"
        },
        "id": "MtmlilZeHjUj",
        "outputId": "759de97d-63b4-473c-ab9c-db879e77c4b2"
      },
      "outputs": [
        {
          "output_type": "execute_result",
          "data": {
            "text/plain": [
              "tensor([7, 7])"
            ]
          },
          "metadata": {},
          "execution_count": 5
        }
      ],
      "source": [
        "# Vector\n",
        "vector = torch.tensor([7, 7])\n",
        "vector"
      ]
    },
    {
      "cell_type": "code",
      "execution_count": 6,
      "metadata": {
        "colab": {
          "base_uri": "https://localhost:8080/"
        },
        "id": "4iWK1VoKorqW",
        "outputId": "bb275de8-b294-450f-e9cf-b3445fbb02f5"
      },
      "outputs": [
        {
          "output_type": "execute_result",
          "data": {
            "text/plain": [
              "1"
            ]
          },
          "metadata": {},
          "execution_count": 6
        }
      ],
      "source": [
        "vector.ndim"
      ]
    },
    {
      "cell_type": "code",
      "execution_count": 7,
      "metadata": {
        "colab": {
          "base_uri": "https://localhost:8080/"
        },
        "id": "-arbdcU8pvtk",
        "outputId": "9a2a36e6-bc2d-4b8b-b4e5-d11bdaeb2fcb"
      },
      "outputs": [
        {
          "output_type": "execute_result",
          "data": {
            "text/plain": [
              "torch.Size([2])"
            ]
          },
          "metadata": {},
          "execution_count": 7
        }
      ],
      "source": [
        "vector.shape"
      ]
    },
    {
      "cell_type": "code",
      "execution_count": 8,
      "metadata": {
        "colab": {
          "base_uri": "https://localhost:8080/"
        },
        "id": "aXgWyyKdpxv1",
        "outputId": "093c9ee6-6032-4f99-d414-7a64628f65d8"
      },
      "outputs": [
        {
          "output_type": "execute_result",
          "data": {
            "text/plain": [
              "tensor([[2, 4],\n",
              "        [1, 3]])"
            ]
          },
          "metadata": {},
          "execution_count": 8
        }
      ],
      "source": [
        "# MATRIX\n",
        "MATRIX = torch.tensor([[2,4],\n",
        "                       [1,3]])\n",
        "MATRIX"
      ]
    },
    {
      "cell_type": "code",
      "execution_count": 9,
      "metadata": {
        "colab": {
          "base_uri": "https://localhost:8080/"
        },
        "id": "VSWWiuxKqGGv",
        "outputId": "00607ecd-0d2d-434d-9728-76381345a510"
      },
      "outputs": [
        {
          "output_type": "execute_result",
          "data": {
            "text/plain": [
              "2"
            ]
          },
          "metadata": {},
          "execution_count": 9
        }
      ],
      "source": [
        "MATRIX.ndim"
      ]
    },
    {
      "cell_type": "code",
      "execution_count": 10,
      "metadata": {
        "colab": {
          "base_uri": "https://localhost:8080/"
        },
        "id": "ete9DTOvqO3F",
        "outputId": "9fb6ce55-a817-4e66-c1f4-683db0fffe6d"
      },
      "outputs": [
        {
          "output_type": "execute_result",
          "data": {
            "text/plain": [
              "tensor([2, 4])"
            ]
          },
          "metadata": {},
          "execution_count": 10
        }
      ],
      "source": [
        "MATRIX[0]"
      ]
    },
    {
      "cell_type": "code",
      "execution_count": 11,
      "metadata": {
        "colab": {
          "base_uri": "https://localhost:8080/"
        },
        "id": "Pr9wKm7jqRk9",
        "outputId": "507c96c4-3317-4e55-9e61-26f5860902c5"
      },
      "outputs": [
        {
          "output_type": "execute_result",
          "data": {
            "text/plain": [
              "torch.Size([2, 2])"
            ]
          },
          "metadata": {},
          "execution_count": 11
        }
      ],
      "source": [
        "MATRIX.shape"
      ]
    },
    {
      "cell_type": "code",
      "execution_count": 12,
      "metadata": {
        "colab": {
          "base_uri": "https://localhost:8080/"
        },
        "id": "V1hr5cVHqYjN",
        "outputId": "db86018f-461d-42c2-d8ed-f5a0b080c4c6"
      },
      "outputs": [
        {
          "output_type": "execute_result",
          "data": {
            "text/plain": [
              "tensor([[[1, 3, 9],\n",
              "         [2, 4, 6],\n",
              "         [5, 9, 7]]])"
            ]
          },
          "metadata": {},
          "execution_count": 12
        }
      ],
      "source": [
        "# Tensor\n",
        "TENSOR = torch.tensor([[[1,3,9],\n",
        "                        [2,4,6],\n",
        "                        [5,9,7]]])\n",
        "TENSOR"
      ]
    },
    {
      "cell_type": "code",
      "execution_count": 13,
      "metadata": {
        "colab": {
          "base_uri": "https://localhost:8080/"
        },
        "id": "DphY4MK8sUl-",
        "outputId": "10e4a9f8-bc6a-42ef-b3eb-07d010bfb5ef"
      },
      "outputs": [
        {
          "output_type": "execute_result",
          "data": {
            "text/plain": [
              "3"
            ]
          },
          "metadata": {},
          "execution_count": 13
        }
      ],
      "source": [
        "TENSOR.ndim"
      ]
    },
    {
      "cell_type": "code",
      "execution_count": 14,
      "metadata": {
        "colab": {
          "base_uri": "https://localhost:8080/"
        },
        "id": "j-0f9M-usalk",
        "outputId": "5c6d5dff-cfaa-4ec3-b6c8-dc327819c591"
      },
      "outputs": [
        {
          "output_type": "execute_result",
          "data": {
            "text/plain": [
              "torch.Size([1, 3, 3])"
            ]
          },
          "metadata": {},
          "execution_count": 14
        }
      ],
      "source": [
        "TENSOR.shape"
      ]
    },
    {
      "cell_type": "code",
      "execution_count": 15,
      "metadata": {
        "colab": {
          "base_uri": "https://localhost:8080/"
        },
        "id": "uvVm4l_kssNN",
        "outputId": "e6cc20c4-e8bc-4191-fe2a-ebd8760fcb4d"
      },
      "outputs": [
        {
          "output_type": "execute_result",
          "data": {
            "text/plain": [
              "tensor([[1, 3, 9],\n",
              "        [2, 4, 6],\n",
              "        [5, 9, 7]])"
            ]
          },
          "metadata": {},
          "execution_count": 15
        }
      ],
      "source": [
        "TENSOR[0]"
      ]
    },
    {
      "cell_type": "code",
      "execution_count": 16,
      "metadata": {
        "colab": {
          "base_uri": "https://localhost:8080/"
        },
        "id": "JpPIPxWTtAnO",
        "outputId": "4b1e0fd1-5659-49df-802a-94618b76858a"
      },
      "outputs": [
        {
          "output_type": "execute_result",
          "data": {
            "text/plain": [
              "tensor([[[[1, 3, 9, 4],\n",
              "          [2, 4, 8, 6]]]])"
            ]
          },
          "metadata": {},
          "execution_count": 16
        }
      ],
      "source": [
        "MY_TENSOR = torch.tensor([[[\n",
        "                              [1,3,9,4], # <0\n",
        "                              [2,4,8,6], # <1\n",
        "#                              [4,1,6,3]  # <2\n",
        "#                              ^ ^ ^ ^\n",
        "#                              0 1 2 3\n",
        "                            ]]])\n",
        "MY_TENSOR"
      ]
    },
    {
      "cell_type": "code",
      "execution_count": 17,
      "metadata": {
        "colab": {
          "base_uri": "https://localhost:8080/"
        },
        "id": "HvqUSXvluX58",
        "outputId": "b78780ae-e4d9-441f-b79a-00a569562c53"
      },
      "outputs": [
        {
          "output_type": "execute_result",
          "data": {
            "text/plain": [
              "4"
            ]
          },
          "metadata": {},
          "execution_count": 17
        }
      ],
      "source": [
        "MY_TENSOR.ndim"
      ]
    },
    {
      "cell_type": "code",
      "execution_count": 18,
      "metadata": {
        "colab": {
          "base_uri": "https://localhost:8080/"
        },
        "id": "Q085jgdXua90",
        "outputId": "b4cc008d-8bf2-483d-bb7a-a312f3ca1a27"
      },
      "outputs": [
        {
          "output_type": "execute_result",
          "data": {
            "text/plain": [
              "torch.Size([1, 1, 2, 4])"
            ]
          },
          "metadata": {},
          "execution_count": 18
        }
      ],
      "source": [
        "MY_TENSOR.shape"
      ]
    },
    {
      "cell_type": "markdown",
      "metadata": {
        "id": "0VYUu8xVdlEy"
      },
      "source": [
        "## Tensor Exercise"
      ]
    },
    {
      "cell_type": "code",
      "execution_count": 19,
      "metadata": {
        "colab": {
          "base_uri": "https://localhost:8080/"
        },
        "id": "wXenZTtEdqy6",
        "outputId": "ca4dcb48-2445-42c0-b7ae-720587c5fa28"
      },
      "outputs": [
        {
          "output_type": "execute_result",
          "data": {
            "text/plain": [
              "tensor([[1, 2, 3],\n",
              "        [4, 5, 6]])"
            ]
          },
          "metadata": {},
          "execution_count": 19
        }
      ],
      "source": [
        "TENSOR = torch.tensor([[1,2,3], [4,5,6]])\n",
        "TENSOR"
      ]
    },
    {
      "cell_type": "code",
      "execution_count": 20,
      "metadata": {
        "colab": {
          "base_uri": "https://localhost:8080/"
        },
        "id": "phOp45vkd25v",
        "outputId": "b7b046c4-17a2-4d54-a6d1-d4c8750f80f1"
      },
      "outputs": [
        {
          "output_type": "execute_result",
          "data": {
            "text/plain": [
              "2"
            ]
          },
          "metadata": {},
          "execution_count": 20
        }
      ],
      "source": [
        "TENSOR.ndim"
      ]
    },
    {
      "cell_type": "code",
      "execution_count": 21,
      "metadata": {
        "colab": {
          "base_uri": "https://localhost:8080/"
        },
        "id": "QPNE_shteBLK",
        "outputId": "8c448aaf-398e-40fb-da5c-a985debd41fa"
      },
      "outputs": [
        {
          "output_type": "execute_result",
          "data": {
            "text/plain": [
              "torch.Size([2, 3])"
            ]
          },
          "metadata": {},
          "execution_count": 21
        }
      ],
      "source": [
        "TENSOR.shape"
      ]
    },
    {
      "cell_type": "code",
      "execution_count": 22,
      "metadata": {
        "colab": {
          "base_uri": "https://localhost:8080/"
        },
        "id": "W22HH2NAeHvA",
        "outputId": "25f4c575-29ea-4d83-bc14-21ceb7d12ba9"
      },
      "outputs": [
        {
          "output_type": "execute_result",
          "data": {
            "text/plain": [
              "tensor([1, 2, 3])"
            ]
          },
          "metadata": {},
          "execution_count": 22
        }
      ],
      "source": [
        "TENSOR[0]"
      ]
    },
    {
      "cell_type": "code",
      "execution_count": 23,
      "metadata": {
        "colab": {
          "base_uri": "https://localhost:8080/"
        },
        "id": "FfC1ewwlet8-",
        "outputId": "6654d1b6-df31-415d-e3e2-2eda871a4ff7"
      },
      "outputs": [
        {
          "output_type": "execute_result",
          "data": {
            "text/plain": [
              "tensor([[2, 1, 4],\n",
              "        [1, 5, 2]])"
            ]
          },
          "metadata": {},
          "execution_count": 23
        }
      ],
      "source": [
        "TENSOR2 = torch.tensor([\n",
        "    [2,1,4],\n",
        "    [1,5,2]\n",
        "])\n",
        "TENSOR2"
      ]
    },
    {
      "cell_type": "code",
      "execution_count": 24,
      "metadata": {
        "colab": {
          "base_uri": "https://localhost:8080/"
        },
        "id": "OnZX8YHNfJW7",
        "outputId": "ed9db4b3-ed87-4f14-e75b-f04388dafe02"
      },
      "outputs": [
        {
          "output_type": "execute_result",
          "data": {
            "text/plain": [
              "2"
            ]
          },
          "metadata": {},
          "execution_count": 24
        }
      ],
      "source": [
        "TENSOR2.ndim"
      ]
    },
    {
      "cell_type": "code",
      "execution_count": 25,
      "metadata": {
        "colab": {
          "base_uri": "https://localhost:8080/"
        },
        "id": "IshwqyFHCJ7g",
        "outputId": "560861e3-a7c1-440a-841a-347b19e34643"
      },
      "outputs": [
        {
          "output_type": "execute_result",
          "data": {
            "text/plain": [
              "torch.Size([2, 3])"
            ]
          },
          "metadata": {},
          "execution_count": 25
        }
      ],
      "source": [
        "TENSOR2.shape"
      ]
    },
    {
      "cell_type": "code",
      "execution_count": 26,
      "metadata": {
        "colab": {
          "base_uri": "https://localhost:8080/"
        },
        "id": "JbXCoXQcCVXo",
        "outputId": "4e9af78c-0391-4542-8c45-82aa3e42fe2a"
      },
      "outputs": [
        {
          "output_type": "execute_result",
          "data": {
            "text/plain": [
              "tensor([[2, 1, 4],\n",
              "        [1, 5, 2],\n",
              "        [7, 5, 9]])"
            ]
          },
          "metadata": {},
          "execution_count": 26
        }
      ],
      "source": [
        "TENSOR3 = torch.tensor([\n",
        "    [2,1,4],\n",
        "    [1,5,2],\n",
        "    [7,5,9]\n",
        "])\n",
        "TENSOR3"
      ]
    },
    {
      "cell_type": "code",
      "execution_count": 27,
      "metadata": {
        "colab": {
          "base_uri": "https://localhost:8080/"
        },
        "id": "YaUO0YbOClOo",
        "outputId": "921d9b84-4b0a-4ce6-c826-a131fd49da67"
      },
      "outputs": [
        {
          "output_type": "execute_result",
          "data": {
            "text/plain": [
              "2"
            ]
          },
          "metadata": {},
          "execution_count": 27
        }
      ],
      "source": [
        "TENSOR3.ndim"
      ]
    },
    {
      "cell_type": "code",
      "execution_count": 28,
      "metadata": {
        "colab": {
          "base_uri": "https://localhost:8080/"
        },
        "id": "l-2DFQhMCngy",
        "outputId": "546d4aa5-d459-4e2a-8854-5069cd1e5cb3"
      },
      "outputs": [
        {
          "output_type": "execute_result",
          "data": {
            "text/plain": [
              "torch.Size([3, 3])"
            ]
          },
          "metadata": {},
          "execution_count": 28
        }
      ],
      "source": [
        "TENSOR3.shape"
      ]
    },
    {
      "cell_type": "code",
      "execution_count": 29,
      "metadata": {
        "colab": {
          "base_uri": "https://localhost:8080/"
        },
        "id": "rtsY1RuzCqHp",
        "outputId": "65622564-981f-4b16-a0ea-b5fa36d80038"
      },
      "outputs": [
        {
          "output_type": "execute_result",
          "data": {
            "text/plain": [
              "tensor([[[1, 2, 3, 2],\n",
              "         [7, 8, 9, 7],\n",
              "         [4, 5, 6, 9]]])"
            ]
          },
          "metadata": {},
          "execution_count": 29
        }
      ],
      "source": [
        "TENSOR4 = torch.tensor([[\n",
        "    [1,2,3,2],\n",
        "    [7,8,9,7],\n",
        "    [4,5,6,9]\n",
        "]])\n",
        "\n",
        "TENSOR4"
      ]
    },
    {
      "cell_type": "code",
      "execution_count": 30,
      "metadata": {
        "colab": {
          "base_uri": "https://localhost:8080/"
        },
        "id": "heIyjCldEIHn",
        "outputId": "3213acb5-cb28-412e-81a8-467eec00e95e"
      },
      "outputs": [
        {
          "output_type": "execute_result",
          "data": {
            "text/plain": [
              "3"
            ]
          },
          "metadata": {},
          "execution_count": 30
        }
      ],
      "source": [
        "TENSOR4.ndim"
      ]
    },
    {
      "cell_type": "code",
      "execution_count": 31,
      "metadata": {
        "colab": {
          "base_uri": "https://localhost:8080/"
        },
        "id": "yK2Vov-AEKNY",
        "outputId": "d6bf3a42-9a91-4ec0-d822-718298e768b4"
      },
      "outputs": [
        {
          "output_type": "execute_result",
          "data": {
            "text/plain": [
              "torch.Size([1, 3, 4])"
            ]
          },
          "metadata": {},
          "execution_count": 31
        }
      ],
      "source": [
        "TENSOR4.shape"
      ]
    },
    {
      "cell_type": "code",
      "execution_count": 32,
      "metadata": {
        "colab": {
          "base_uri": "https://localhost:8080/"
        },
        "id": "PBnmF883ETuX",
        "outputId": "4346a44c-1874-4c14-ffda-4f0fc45c708e"
      },
      "outputs": [
        {
          "output_type": "execute_result",
          "data": {
            "text/plain": [
              "tensor([[[[[[1, 2],\n",
              "            [4, 1],\n",
              "            [6, 8]]]]]])"
            ]
          },
          "metadata": {},
          "execution_count": 32
        }
      ],
      "source": [
        "TENSOR5 = torch.tensor(\n",
        "    [\n",
        "        [\n",
        "            [\n",
        "                [\n",
        "                    [\n",
        "                        [1,2],\n",
        "                        [4,1],\n",
        "                        [6,8]\n",
        "                    ]\n",
        "                ]\n",
        "            ]\n",
        "        ]\n",
        "    ]\n",
        ")\n",
        "\n",
        "TENSOR5"
      ]
    },
    {
      "cell_type": "code",
      "execution_count": 33,
      "metadata": {
        "colab": {
          "base_uri": "https://localhost:8080/"
        },
        "id": "qCAnLMtgGKZn",
        "outputId": "833ec660-034e-403c-ed36-b8bb0c8bf7e2"
      },
      "outputs": [
        {
          "output_type": "execute_result",
          "data": {
            "text/plain": [
              "6"
            ]
          },
          "metadata": {},
          "execution_count": 33
        }
      ],
      "source": [
        "TENSOR5.ndim # expected 6"
      ]
    },
    {
      "cell_type": "code",
      "execution_count": 34,
      "metadata": {
        "colab": {
          "base_uri": "https://localhost:8080/"
        },
        "id": "Aox8_F-EGp4n",
        "outputId": "d1a0095d-76c7-45e0-cb4b-2733d2467883"
      },
      "outputs": [
        {
          "output_type": "execute_result",
          "data": {
            "text/plain": [
              "torch.Size([1, 1, 1, 1, 3, 2])"
            ]
          },
          "metadata": {},
          "execution_count": 34
        }
      ],
      "source": [
        "TENSOR5.shape #expected tensor.Size([1,1,1,1,3,2])"
      ]
    },
    {
      "cell_type": "code",
      "execution_count": 35,
      "metadata": {
        "colab": {
          "base_uri": "https://localhost:8080/"
        },
        "id": "F8mlTsNmGz8-",
        "outputId": "d7e878d0-6be9-46ec-f6a5-76a4ef92f4b4"
      },
      "outputs": [
        {
          "output_type": "execute_result",
          "data": {
            "text/plain": [
              "tensor([[[1, 2],\n",
              "         [4, 8],\n",
              "         [3, 9]],\n",
              "\n",
              "        [[5, 6],\n",
              "         [7, 9],\n",
              "         [4, 1]]])"
            ]
          },
          "metadata": {},
          "execution_count": 35
        }
      ],
      "source": [
        "TENSOR6 = torch.tensor(\n",
        "    [\n",
        "            [\n",
        "              [1,2],\n",
        "              [4,8],\n",
        "              [3,9]\n",
        "            ],\n",
        "            [\n",
        "              [5,6],\n",
        "              [7,9],\n",
        "              [4,1]\n",
        "            ]\n",
        "\n",
        "    ]\n",
        ")\n",
        "\n",
        "TENSOR6"
      ]
    },
    {
      "cell_type": "code",
      "execution_count": 36,
      "metadata": {
        "colab": {
          "base_uri": "https://localhost:8080/"
        },
        "id": "WtkIhxXnH-9n",
        "outputId": "154c4f1c-9536-4810-f0f5-ac2748b1fed4"
      },
      "outputs": [
        {
          "output_type": "execute_result",
          "data": {
            "text/plain": [
              "3"
            ]
          },
          "metadata": {},
          "execution_count": 36
        }
      ],
      "source": [
        "TENSOR6.ndim"
      ]
    },
    {
      "cell_type": "code",
      "execution_count": 37,
      "metadata": {
        "colab": {
          "base_uri": "https://localhost:8080/"
        },
        "id": "4y2T7u2UJBTl",
        "outputId": "bf926738-6513-4f90-dd22-df4985c498e3"
      },
      "outputs": [
        {
          "output_type": "execute_result",
          "data": {
            "text/plain": [
              "torch.Size([2, 3, 2])"
            ]
          },
          "metadata": {},
          "execution_count": 37
        }
      ],
      "source": [
        "TENSOR6.shape"
      ]
    },
    {
      "cell_type": "code",
      "execution_count": 38,
      "metadata": {
        "colab": {
          "base_uri": "https://localhost:8080/"
        },
        "id": "uM22_1baK3mV",
        "outputId": "20e0ba5f-f1ed-4b1f-a377-989203158d2f"
      },
      "outputs": [
        {
          "output_type": "execute_result",
          "data": {
            "text/plain": [
              "tensor([[[[[[ 1,  2],\n",
              "            [ 4,  1],\n",
              "            [ 6,  8]],\n",
              "\n",
              "           [[ 4,  1],\n",
              "            [ 1,  5],\n",
              "            [47,  9]]],\n",
              "\n",
              "\n",
              "          [[[ 1,  2],\n",
              "            [ 4,  1],\n",
              "            [ 6,  8]],\n",
              "\n",
              "           [[ 4,  1],\n",
              "            [ 1,  5],\n",
              "            [47,  9]]],\n",
              "\n",
              "\n",
              "          [[[ 1,  2],\n",
              "            [ 4,  1],\n",
              "            [ 6,  8]],\n",
              "\n",
              "           [[ 4,  1],\n",
              "            [ 1,  5],\n",
              "            [47,  9]]]],\n",
              "\n",
              "\n",
              "\n",
              "         [[[[ 1,  2],\n",
              "            [ 4,  1],\n",
              "            [ 6,  8]],\n",
              "\n",
              "           [[ 4,  1],\n",
              "            [ 1,  5],\n",
              "            [47,  9]]],\n",
              "\n",
              "\n",
              "          [[[ 1,  2],\n",
              "            [ 4,  1],\n",
              "            [ 6,  8]],\n",
              "\n",
              "           [[ 4,  1],\n",
              "            [ 1,  5],\n",
              "            [47,  9]]],\n",
              "\n",
              "\n",
              "          [[[ 1,  2],\n",
              "            [ 4,  1],\n",
              "            [ 6,  8]],\n",
              "\n",
              "           [[ 4,  1],\n",
              "            [ 1,  5],\n",
              "            [47,  9]]]]],\n",
              "\n",
              "\n",
              "\n",
              "\n",
              "        [[[[[ 1,  2],\n",
              "            [ 4,  1],\n",
              "            [ 6,  8]],\n",
              "\n",
              "           [[ 4,  1],\n",
              "            [ 1,  5],\n",
              "            [47,  9]]],\n",
              "\n",
              "\n",
              "          [[[ 1,  2],\n",
              "            [ 4,  1],\n",
              "            [ 6,  8]],\n",
              "\n",
              "           [[ 4,  1],\n",
              "            [ 1,  5],\n",
              "            [47,  9]]],\n",
              "\n",
              "\n",
              "          [[[ 1,  2],\n",
              "            [ 4,  1],\n",
              "            [ 6,  8]],\n",
              "\n",
              "           [[ 4,  1],\n",
              "            [ 1,  5],\n",
              "            [47,  9]]]],\n",
              "\n",
              "\n",
              "\n",
              "         [[[[ 1,  2],\n",
              "            [ 4,  1],\n",
              "            [ 6,  8]],\n",
              "\n",
              "           [[ 4,  1],\n",
              "            [ 1,  5],\n",
              "            [47,  9]]],\n",
              "\n",
              "\n",
              "          [[[ 1,  2],\n",
              "            [ 4,  1],\n",
              "            [ 6,  8]],\n",
              "\n",
              "           [[ 4,  1],\n",
              "            [ 1,  5],\n",
              "            [47,  9]]],\n",
              "\n",
              "\n",
              "          [[[ 1,  2],\n",
              "            [ 4,  1],\n",
              "            [ 6,  8]],\n",
              "\n",
              "           [[ 4,  1],\n",
              "            [ 1,  5],\n",
              "            [47,  9]]]]]])"
            ]
          },
          "metadata": {},
          "execution_count": 38
        }
      ],
      "source": [
        "TENSOR7 = torch.tensor(\n",
        "    [\n",
        "        [\n",
        "            [\n",
        "                [\n",
        "                    [\n",
        "                        [1,2],\n",
        "                        [4,1],\n",
        "                        [6,8]\n",
        "                    ],\n",
        "                    [\n",
        "                        [4,1],\n",
        "                        [1,5],\n",
        "                        [47,9]\n",
        "                    ]\n",
        "                ],\n",
        "                [\n",
        "                    [\n",
        "                        [1,2],\n",
        "                        [4,1],\n",
        "                        [6,8]\n",
        "                    ],\n",
        "                    [\n",
        "                        [4,1],\n",
        "                        [1,5],\n",
        "                        [47,9]\n",
        "                    ]\n",
        "                ],\n",
        "                [\n",
        "                    [\n",
        "                        [1,2],\n",
        "                        [4,1],\n",
        "                        [6,8]\n",
        "                    ],\n",
        "                    [\n",
        "                        [4,1],\n",
        "                        [1,5],\n",
        "                        [47,9]\n",
        "                    ]\n",
        "                ]\n",
        "            ],\n",
        "            [\n",
        "                [\n",
        "                    [\n",
        "                        [1,2],\n",
        "                        [4,1],\n",
        "                        [6,8]\n",
        "                    ],\n",
        "                    [\n",
        "                        [4,1],\n",
        "                        [1,5],\n",
        "                        [47,9]\n",
        "                    ]\n",
        "                ],\n",
        "                [\n",
        "                    [\n",
        "                        [1,2],\n",
        "                        [4,1],\n",
        "                        [6,8]\n",
        "                    ],\n",
        "                    [\n",
        "                        [4,1],\n",
        "                        [1,5],\n",
        "                        [47,9]\n",
        "                    ]\n",
        "                ],\n",
        "                [\n",
        "                    [\n",
        "                        [1,2],\n",
        "                        [4,1],\n",
        "                        [6,8]\n",
        "                    ],\n",
        "                    [\n",
        "                        [4,1],\n",
        "                        [1,5],\n",
        "                        [47,9]\n",
        "                    ]\n",
        "                ]\n",
        "            ]\n",
        "        ],\n",
        "                [\n",
        "            [\n",
        "                [\n",
        "                    [\n",
        "                        [1,2],\n",
        "                        [4,1],\n",
        "                        [6,8]\n",
        "                    ],\n",
        "                    [\n",
        "                        [4,1],\n",
        "                        [1,5],\n",
        "                        [47,9]\n",
        "                    ]\n",
        "                ],\n",
        "                [\n",
        "                    [\n",
        "                        [1,2],\n",
        "                        [4,1],\n",
        "                        [6,8]\n",
        "                    ],\n",
        "                    [\n",
        "                        [4,1],\n",
        "                        [1,5],\n",
        "                        [47,9]\n",
        "                    ]\n",
        "                ],\n",
        "                [\n",
        "                    [\n",
        "                        [1,2],\n",
        "                        [4,1],\n",
        "                        [6,8]\n",
        "                    ],\n",
        "                    [\n",
        "                        [4,1],\n",
        "                        [1,5],\n",
        "                        [47,9]\n",
        "                    ]\n",
        "                ]\n",
        "            ],\n",
        "            [\n",
        "                [\n",
        "                    [\n",
        "                        [1,2],\n",
        "                        [4,1],\n",
        "                        [6,8]\n",
        "                    ],\n",
        "                    [\n",
        "                        [4,1],\n",
        "                        [1,5],\n",
        "                        [47,9]\n",
        "                    ]\n",
        "                ],\n",
        "                [\n",
        "                    [\n",
        "                        [1,2],\n",
        "                        [4,1],\n",
        "                        [6,8]\n",
        "                    ],\n",
        "                    [\n",
        "                        [4,1],\n",
        "                        [1,5],\n",
        "                        [47,9]\n",
        "                    ]\n",
        "                ],\n",
        "                [\n",
        "                    [\n",
        "                        [1,2],\n",
        "                        [4,1],\n",
        "                        [6,8]\n",
        "                    ],\n",
        "                    [\n",
        "                        [4,1],\n",
        "                        [1,5],\n",
        "                        [47,9]\n",
        "                    ]\n",
        "                ]\n",
        "            ]\n",
        "        ]\n",
        "    ]\n",
        ")\n",
        "TENSOR7"
      ]
    },
    {
      "cell_type": "code",
      "execution_count": 39,
      "metadata": {
        "colab": {
          "base_uri": "https://localhost:8080/"
        },
        "id": "1dApxWVDYKpp",
        "outputId": "b7201e20-d9a0-40f6-f182-5c5ca024dcfa"
      },
      "outputs": [
        {
          "output_type": "execute_result",
          "data": {
            "text/plain": [
              "6"
            ]
          },
          "metadata": {},
          "execution_count": 39
        }
      ],
      "source": [
        "TENSOR7.ndim"
      ]
    },
    {
      "cell_type": "code",
      "execution_count": 40,
      "metadata": {
        "colab": {
          "base_uri": "https://localhost:8080/"
        },
        "id": "011KGrClYMsQ",
        "outputId": "b9693253-bac6-437a-9176-0e2a286ad1e0"
      },
      "outputs": [
        {
          "output_type": "execute_result",
          "data": {
            "text/plain": [
              "torch.Size([2, 2, 3, 2, 3, 2])"
            ]
          },
          "metadata": {},
          "execution_count": 40
        }
      ],
      "source": [
        "TENSOR7.shape"
      ]
    },
    {
      "cell_type": "markdown",
      "metadata": {
        "id": "r27E6Ic7miuS"
      },
      "source": [
        "### Random Tensors\n",
        "\n",
        "Why random tensors?\n",
        "\n",
        "Random tensors are important because the way many neural networks learn is that they start with tensors full of random numbers and then adjust those random numbers to better represent the data.\n",
        "\n",
        "`Start with random numbers -> look at data -> update random numbers -> look at data -> update random numbers`\n",
        "\n",
        "Torch random tensors = https://pytorch.org/docs/stable/generated/torch.rand.html"
      ]
    },
    {
      "cell_type": "code",
      "execution_count": 41,
      "metadata": {
        "colab": {
          "base_uri": "https://localhost:8080/"
        },
        "id": "tmiPDHEGYVyw",
        "outputId": "5c5b5b92-a2c0-4b73-e398-18f029c5438a"
      },
      "outputs": [
        {
          "output_type": "execute_result",
          "data": {
            "text/plain": [
              "tensor([[0.6877, 0.8168, 0.5291, 0.8306],\n",
              "        [0.5964, 0.1718, 0.0364, 0.7685],\n",
              "        [0.4173, 0.8082, 0.9488, 0.3509]])"
            ]
          },
          "metadata": {},
          "execution_count": 41
        }
      ],
      "source": [
        "# Create a random tensors of size (3,4)\n",
        "random_tensors = torch.rand(3, 4)\n",
        "random_tensors"
      ]
    },
    {
      "cell_type": "code",
      "execution_count": 42,
      "metadata": {
        "colab": {
          "base_uri": "https://localhost:8080/"
        },
        "id": "8lvEmJyxojF6",
        "outputId": "fca64294-219d-4072-ee0c-ee2d67a97be7"
      },
      "outputs": [
        {
          "output_type": "execute_result",
          "data": {
            "text/plain": [
              "2"
            ]
          },
          "metadata": {},
          "execution_count": 42
        }
      ],
      "source": [
        "random_tensors.ndim"
      ]
    },
    {
      "cell_type": "code",
      "execution_count": 43,
      "metadata": {
        "colab": {
          "base_uri": "https://localhost:8080/"
        },
        "id": "2Q0IRwVeoqMS",
        "outputId": "42b8a70e-ba87-4f93-a767-fd98bded4535"
      },
      "outputs": [
        {
          "output_type": "execute_result",
          "data": {
            "text/plain": [
              "tensor([[0.9527, 0.1472, 0.1003, 0.8875, 0.5196, 0.0139, 0.7032, 0.3350],\n",
              "        [0.6991, 0.0631, 0.2206, 0.0782, 0.6035, 0.0065, 0.2624, 0.7943],\n",
              "        [0.6772, 0.6007, 0.9491, 0.6079, 0.2274, 0.5019, 0.6414, 0.1097],\n",
              "        [0.5003, 0.9155, 0.4998, 0.8757, 0.3700, 0.2231, 0.0427, 0.3691],\n",
              "        [0.0880, 0.9128, 0.4001, 0.2344, 0.5629, 0.6454, 0.1341, 0.0415],\n",
              "        [0.1357, 0.5165, 0.9959, 0.0912, 0.3346, 0.8965, 0.9643, 0.4861],\n",
              "        [0.6640, 0.5459, 0.7222, 0.7276, 0.0710, 0.6125, 0.3477, 0.5629],\n",
              "        [0.2523, 0.7847, 0.2762, 0.4484, 0.8090, 0.3889, 0.7283, 0.0476],\n",
              "        [0.0560, 0.4578, 0.6408, 0.1838, 0.6381, 0.7178, 0.4496, 0.3657],\n",
              "        [0.3618, 0.6165, 0.4674, 0.3587, 0.4949, 0.6572, 0.6092, 0.8843]])"
            ]
          },
          "metadata": {},
          "execution_count": 43
        }
      ],
      "source": [
        "random_tensors = torch.rand(10, 8)\n",
        "random_tensors"
      ]
    },
    {
      "cell_type": "code",
      "execution_count": 44,
      "metadata": {
        "colab": {
          "base_uri": "https://localhost:8080/"
        },
        "id": "C2PhCTMPpGLz",
        "outputId": "ec9cb8b0-9c0e-42a3-f90c-6bf8ec6baf1e"
      },
      "outputs": [
        {
          "output_type": "execute_result",
          "data": {
            "text/plain": [
              "2"
            ]
          },
          "metadata": {},
          "execution_count": 44
        }
      ],
      "source": [
        "random_tensors.ndim"
      ]
    },
    {
      "cell_type": "code",
      "execution_count": 45,
      "metadata": {
        "colab": {
          "base_uri": "https://localhost:8080/"
        },
        "id": "0OpRsE4woyhK",
        "outputId": "019733b6-4c68-4ff2-aaa5-4730f6aa59ec"
      },
      "outputs": [
        {
          "output_type": "execute_result",
          "data": {
            "text/plain": [
              "tensor([[[0.0395, 0.6591, 0.4777,  ..., 0.2252, 0.0169, 0.2507],\n",
              "         [0.3652, 0.0069, 0.5695,  ..., 0.5090, 0.9337, 0.6168],\n",
              "         [0.4742, 0.3927, 0.6433,  ..., 0.9681, 0.0795, 0.0178],\n",
              "         ...,\n",
              "         [0.6636, 0.4165, 0.6202,  ..., 0.4661, 0.3468, 0.7002],\n",
              "         [0.5041, 0.9343, 0.6820,  ..., 0.7374, 0.6603, 0.9131],\n",
              "         [0.8428, 0.3732, 0.8954,  ..., 0.6173, 0.0251, 0.9563]],\n",
              "\n",
              "        [[0.3799, 0.4599, 0.6312,  ..., 0.8066, 0.3590, 0.0468],\n",
              "         [0.9995, 0.4274, 0.4740,  ..., 0.6793, 0.4107, 0.8580],\n",
              "         [0.5248, 0.4499, 0.7373,  ..., 0.0626, 0.3408, 0.6288],\n",
              "         ...,\n",
              "         [0.4493, 0.0676, 0.0645,  ..., 0.2178, 0.3427, 0.9370],\n",
              "         [0.7910, 0.0856, 0.2428,  ..., 0.5288, 0.7833, 0.7312],\n",
              "         [0.3785, 0.5959, 0.9851,  ..., 0.6181, 0.8067, 0.8879]],\n",
              "\n",
              "        [[0.5860, 0.3625, 0.3741,  ..., 0.4199, 0.0922, 0.1674],\n",
              "         [0.1172, 0.3932, 0.5827,  ..., 0.1802, 0.0711, 0.4565],\n",
              "         [0.0397, 0.3228, 0.2800,  ..., 0.6742, 0.4612, 0.5079],\n",
              "         ...,\n",
              "         [0.4240, 0.2730, 0.0341,  ..., 0.7309, 0.0022, 0.7983],\n",
              "         [0.6399, 0.0336, 0.8967,  ..., 0.8091, 0.4480, 0.4598],\n",
              "         [0.2926, 0.6108, 0.8532,  ..., 0.6772, 0.5257, 0.6464]],\n",
              "\n",
              "        ...,\n",
              "\n",
              "        [[0.5842, 0.2998, 0.6104,  ..., 0.6750, 0.3055, 0.5881],\n",
              "         [0.4890, 0.1998, 0.5664,  ..., 0.6684, 0.2339, 0.1699],\n",
              "         [0.6433, 0.8980, 0.9151,  ..., 0.0376, 0.6477, 0.4443],\n",
              "         ...,\n",
              "         [0.4451, 0.1907, 0.7615,  ..., 0.9784, 0.6614, 0.9638],\n",
              "         [0.2410, 0.2638, 0.0866,  ..., 0.3675, 0.0774, 0.2617],\n",
              "         [0.0297, 0.6909, 0.3677,  ..., 0.8300, 0.7388, 0.6578]],\n",
              "\n",
              "        [[0.3582, 0.1638, 0.8426,  ..., 0.5360, 0.2706, 0.0543],\n",
              "         [0.3040, 0.4291, 0.4501,  ..., 0.0145, 0.3634, 0.2071],\n",
              "         [0.2246, 0.8843, 0.5396,  ..., 0.9738, 0.7673, 0.5978],\n",
              "         ...,\n",
              "         [0.3027, 0.6159, 0.9776,  ..., 0.9507, 0.5438, 0.1387],\n",
              "         [0.8694, 0.0948, 0.6450,  ..., 0.5558, 0.1723, 0.9996],\n",
              "         [0.4730, 0.9454, 0.3839,  ..., 0.5512, 0.9813, 0.9557]],\n",
              "\n",
              "        [[0.4101, 0.5508, 0.6335,  ..., 0.8121, 0.6420, 0.7494],\n",
              "         [0.2339, 0.2466, 0.5564,  ..., 0.5669, 0.6050, 0.2882],\n",
              "         [0.4524, 0.8624, 0.6908,  ..., 0.2281, 0.6541, 0.0601],\n",
              "         ...,\n",
              "         [0.3961, 0.6109, 0.0401,  ..., 0.9796, 0.1715, 0.0029],\n",
              "         [0.4095, 0.3674, 0.1267,  ..., 0.9099, 0.1672, 0.5033],\n",
              "         [0.1059, 0.3115, 0.9974,  ..., 0.8173, 0.9400, 0.3654]]])"
            ]
          },
          "metadata": {},
          "execution_count": 45
        }
      ],
      "source": [
        "random_tensors = torch.rand(10, 100, 100)\n",
        "random_tensors"
      ]
    },
    {
      "cell_type": "code",
      "execution_count": 46,
      "metadata": {
        "colab": {
          "base_uri": "https://localhost:8080/"
        },
        "id": "njocHK8JpQ6K",
        "outputId": "be886332-feae-45b4-967d-ac5b05a0f4b2"
      },
      "outputs": [
        {
          "output_type": "execute_result",
          "data": {
            "text/plain": [
              "3"
            ]
          },
          "metadata": {},
          "execution_count": 46
        }
      ],
      "source": [
        "random_tensors.ndim"
      ]
    },
    {
      "cell_type": "code",
      "execution_count": 47,
      "metadata": {
        "colab": {
          "base_uri": "https://localhost:8080/"
        },
        "id": "ZliHgF3ApU3S",
        "outputId": "1628cd45-6cba-4926-856d-493d9f5fbf92"
      },
      "outputs": [
        {
          "output_type": "execute_result",
          "data": {
            "text/plain": [
              "tensor([[[[[9.8387e-01, 4.0714e-01, 7.7389e-01,  ..., 4.9270e-03,\n",
              "            3.0799e-01, 5.1205e-01],\n",
              "           [2.3343e-01, 3.5702e-01, 7.6783e-01,  ..., 7.7426e-01,\n",
              "            3.2994e-02, 6.4043e-01],\n",
              "           [7.9255e-01, 7.6943e-01, 6.4641e-01,  ..., 7.1132e-01,\n",
              "            4.8322e-01, 9.4951e-01],\n",
              "           ...,\n",
              "           [7.7165e-01, 1.8643e-01, 7.7013e-01,  ..., 9.7420e-01,\n",
              "            3.1091e-01, 9.7014e-01],\n",
              "           [2.4313e-01, 6.2849e-01, 3.2862e-01,  ..., 6.5060e-01,\n",
              "            1.7824e-01, 4.1927e-01],\n",
              "           [6.2839e-01, 3.2727e-01, 5.0617e-01,  ..., 6.6812e-01,\n",
              "            4.7295e-01, 9.5179e-01]],\n",
              "\n",
              "          [[8.4369e-01, 7.5995e-01, 2.3178e-01,  ..., 7.0524e-01,\n",
              "            8.4660e-01, 6.3005e-01],\n",
              "           [6.2020e-01, 6.9034e-01, 9.6067e-01,  ..., 7.1514e-01,\n",
              "            9.1220e-01, 6.1098e-01],\n",
              "           [8.1081e-01, 6.3782e-01, 8.0880e-02,  ..., 7.4954e-01,\n",
              "            1.4425e-01, 6.5778e-01],\n",
              "           ...,\n",
              "           [6.8883e-01, 6.6076e-01, 6.0112e-01,  ..., 7.9545e-01,\n",
              "            9.5098e-01, 8.4240e-01],\n",
              "           [7.9493e-01, 3.4752e-01, 7.0102e-01,  ..., 5.3804e-01,\n",
              "            7.7893e-01, 3.9453e-01],\n",
              "           [2.5631e-01, 5.1679e-01, 1.2486e-01,  ..., 5.2590e-01,\n",
              "            2.9831e-01, 7.4683e-01]],\n",
              "\n",
              "          [[7.3397e-01, 2.4038e-01, 2.1351e-01,  ..., 8.9372e-01,\n",
              "            9.0054e-01, 3.7074e-01],\n",
              "           [5.1286e-01, 8.1057e-01, 2.0323e-01,  ..., 2.8132e-01,\n",
              "            6.9356e-01, 4.3433e-01],\n",
              "           [6.9872e-02, 9.2362e-01, 2.7717e-01,  ..., 7.8438e-01,\n",
              "            7.5232e-01, 6.4627e-01],\n",
              "           ...,\n",
              "           [1.7212e-01, 3.6460e-01, 3.9101e-01,  ..., 3.1206e-01,\n",
              "            5.2103e-01, 1.5033e-01],\n",
              "           [4.4060e-01, 9.2571e-01, 9.2192e-01,  ..., 3.8114e-01,\n",
              "            6.7963e-02, 4.2274e-01],\n",
              "           [8.0108e-01, 7.4691e-01, 3.5759e-01,  ..., 3.7081e-02,\n",
              "            5.6168e-01, 8.3013e-02]],\n",
              "\n",
              "          ...,\n",
              "\n",
              "          [[8.9435e-01, 5.4723e-01, 6.8504e-01,  ..., 7.1343e-01,\n",
              "            6.3337e-02, 9.4110e-01],\n",
              "           [6.4129e-01, 2.6861e-02, 2.7340e-01,  ..., 5.2889e-02,\n",
              "            5.7326e-01, 5.7462e-01],\n",
              "           [3.6864e-01, 1.8857e-01, 9.8097e-01,  ..., 8.3297e-01,\n",
              "            1.4510e-01, 7.2068e-01],\n",
              "           ...,\n",
              "           [7.4887e-01, 7.6449e-01, 8.6309e-01,  ..., 7.7494e-03,\n",
              "            7.9258e-01, 8.9713e-01],\n",
              "           [1.0634e-01, 1.6289e-01, 8.0958e-02,  ..., 2.9709e-01,\n",
              "            9.5635e-02, 6.6118e-01],\n",
              "           [9.3955e-01, 1.4761e-01, 2.4089e-01,  ..., 1.0792e-01,\n",
              "            1.7336e-01, 7.1856e-01]],\n",
              "\n",
              "          [[5.1031e-03, 4.2792e-01, 9.6611e-01,  ..., 4.0366e-02,\n",
              "            5.6523e-01, 6.6252e-01],\n",
              "           [7.0761e-01, 6.4329e-01, 4.5781e-01,  ..., 6.2589e-01,\n",
              "            5.0545e-01, 5.1001e-01],\n",
              "           [8.4978e-01, 8.5853e-01, 9.3151e-01,  ..., 7.5135e-01,\n",
              "            5.2370e-01, 7.2637e-01],\n",
              "           ...,\n",
              "           [9.1508e-01, 7.0800e-01, 1.5929e-01,  ..., 5.8214e-01,\n",
              "            7.4575e-02, 5.1127e-01],\n",
              "           [1.0060e-01, 1.4977e-01, 6.8897e-01,  ..., 6.4730e-01,\n",
              "            1.7528e-02, 7.1653e-01],\n",
              "           [4.5279e-01, 1.0060e-01, 3.1677e-01,  ..., 1.0765e-01,\n",
              "            5.8453e-01, 2.7576e-01]],\n",
              "\n",
              "          [[2.1539e-01, 9.8919e-01, 7.1688e-02,  ..., 6.8585e-01,\n",
              "            2.1302e-03, 7.3432e-01],\n",
              "           [3.5546e-01, 6.3341e-01, 1.4575e-01,  ..., 2.8437e-01,\n",
              "            3.5067e-01, 5.3012e-02],\n",
              "           [1.4851e-01, 3.6790e-01, 4.4213e-01,  ..., 6.0246e-01,\n",
              "            2.1558e-01, 6.7899e-01],\n",
              "           ...,\n",
              "           [7.5194e-01, 4.9041e-01, 8.0691e-01,  ..., 8.1883e-01,\n",
              "            4.1883e-01, 7.0921e-01],\n",
              "           [9.6860e-01, 4.0219e-01, 4.7330e-01,  ..., 9.6127e-01,\n",
              "            4.5040e-01, 4.5969e-01],\n",
              "           [3.6170e-01, 2.3945e-01, 8.7897e-01,  ..., 2.8006e-01,\n",
              "            7.2201e-02, 1.5968e-01]]],\n",
              "\n",
              "\n",
              "         [[[3.4919e-02, 7.9856e-01, 6.8427e-01,  ..., 1.0568e-02,\n",
              "            3.7553e-01, 5.4497e-01],\n",
              "           [8.5953e-01, 5.2812e-01, 2.2954e-01,  ..., 3.6643e-01,\n",
              "            4.9032e-01, 2.1167e-01],\n",
              "           [6.6363e-01, 9.0911e-02, 6.5964e-02,  ..., 5.3955e-01,\n",
              "            6.4954e-02, 9.9534e-01],\n",
              "           ...,\n",
              "           [2.6726e-01, 4.0963e-01, 6.2902e-01,  ..., 1.7020e-01,\n",
              "            7.0064e-02, 8.1330e-02],\n",
              "           [1.5973e-01, 5.3120e-01, 9.6142e-01,  ..., 3.7676e-01,\n",
              "            5.6804e-01, 9.0637e-02],\n",
              "           [3.0112e-01, 8.4938e-02, 8.5484e-01,  ..., 6.3587e-01,\n",
              "            5.6166e-01, 8.4365e-01]],\n",
              "\n",
              "          [[7.7783e-01, 8.7593e-01, 1.8675e-01,  ..., 3.2994e-01,\n",
              "            5.2373e-01, 8.1376e-01],\n",
              "           [1.0555e-01, 2.9570e-01, 9.6456e-02,  ..., 3.4481e-01,\n",
              "            5.1010e-01, 4.7367e-01],\n",
              "           [2.8684e-01, 4.3540e-01, 8.2121e-01,  ..., 3.0965e-01,\n",
              "            1.2653e-01, 8.9415e-01],\n",
              "           ...,\n",
              "           [7.4927e-01, 7.0007e-01, 3.7433e-01,  ..., 6.1352e-01,\n",
              "            3.5796e-01, 1.5315e-01],\n",
              "           [2.4874e-01, 9.5048e-01, 1.8080e-01,  ..., 4.4406e-01,\n",
              "            6.5560e-01, 2.4351e-01],\n",
              "           [9.6477e-01, 3.1290e-01, 5.5328e-01,  ..., 3.0464e-01,\n",
              "            8.7501e-01, 2.4984e-01]],\n",
              "\n",
              "          [[7.2695e-01, 8.8560e-01, 5.1655e-01,  ..., 8.2067e-01,\n",
              "            3.1499e-01, 1.0997e-01],\n",
              "           [5.9845e-01, 8.1964e-01, 2.4730e-04,  ..., 9.3448e-01,\n",
              "            9.1050e-01, 8.2655e-01],\n",
              "           [6.4244e-01, 5.7438e-02, 9.0935e-01,  ..., 7.9851e-01,\n",
              "            2.4900e-01, 9.8043e-01],\n",
              "           ...,\n",
              "           [9.3024e-01, 8.2821e-03, 3.2962e-01,  ..., 7.8337e-01,\n",
              "            9.9512e-01, 8.3245e-01],\n",
              "           [5.9282e-01, 1.7967e-01, 7.5646e-02,  ..., 3.5471e-02,\n",
              "            3.0883e-01, 7.5678e-01],\n",
              "           [7.0243e-01, 2.8022e-01, 9.1561e-01,  ..., 7.8800e-01,\n",
              "            8.3428e-01, 7.2252e-01]],\n",
              "\n",
              "          ...,\n",
              "\n",
              "          [[1.1633e-01, 7.1734e-01, 4.4861e-01,  ..., 4.6722e-01,\n",
              "            8.2920e-01, 2.4348e-01],\n",
              "           [6.6985e-01, 1.4007e-01, 7.9409e-01,  ..., 6.9399e-01,\n",
              "            3.4556e-01, 5.1356e-01],\n",
              "           [4.9191e-01, 6.9226e-01, 3.5086e-01,  ..., 3.6244e-01,\n",
              "            5.4663e-01, 1.9449e-01],\n",
              "           ...,\n",
              "           [1.2199e-01, 9.4941e-01, 6.2509e-01,  ..., 7.5390e-01,\n",
              "            1.8443e-01, 2.5097e-01],\n",
              "           [6.4850e-01, 5.9604e-01, 5.8048e-01,  ..., 5.1507e-01,\n",
              "            4.0099e-01, 5.3798e-01],\n",
              "           [4.0511e-01, 7.1543e-01, 6.0382e-01,  ..., 8.8831e-01,\n",
              "            2.7845e-01, 2.3526e-01]],\n",
              "\n",
              "          [[6.6967e-02, 5.9957e-01, 1.9290e-02,  ..., 7.7706e-03,\n",
              "            8.7315e-01, 8.1834e-01],\n",
              "           [3.2917e-02, 2.2789e-01, 7.5169e-01,  ..., 1.6679e-01,\n",
              "            3.5187e-01, 2.9756e-01],\n",
              "           [2.9813e-01, 8.0017e-01, 2.7516e-01,  ..., 3.8594e-01,\n",
              "            2.1395e-01, 5.5487e-01],\n",
              "           ...,\n",
              "           [4.4711e-01, 8.8141e-01, 4.1548e-01,  ..., 4.8527e-01,\n",
              "            4.6590e-01, 2.6759e-01],\n",
              "           [1.9481e-01, 6.4264e-01, 2.0621e-01,  ..., 4.8638e-02,\n",
              "            5.4046e-01, 3.2795e-01],\n",
              "           [3.1308e-01, 1.5701e-01, 8.1961e-01,  ..., 3.3463e-01,\n",
              "            1.3505e-01, 4.2406e-01]],\n",
              "\n",
              "          [[6.0043e-02, 7.2802e-01, 8.3265e-01,  ..., 5.3590e-01,\n",
              "            6.2303e-01, 9.3441e-01],\n",
              "           [8.1400e-01, 7.9410e-01, 4.3413e-01,  ..., 6.7071e-01,\n",
              "            3.8458e-01, 5.3926e-01],\n",
              "           [7.1479e-02, 4.8401e-01, 1.0237e-01,  ..., 9.9029e-01,\n",
              "            7.8366e-01, 3.9435e-01],\n",
              "           ...,\n",
              "           [4.6267e-02, 1.9504e-01, 7.3242e-01,  ..., 7.7948e-01,\n",
              "            6.4001e-01, 8.9620e-01],\n",
              "           [2.6230e-01, 1.0559e-01, 8.4510e-01,  ..., 6.2261e-01,\n",
              "            2.2963e-01, 3.1150e-01],\n",
              "           [2.5006e-02, 3.0383e-01, 6.3017e-01,  ..., 2.6720e-01,\n",
              "            9.1797e-01, 2.8918e-01]]],\n",
              "\n",
              "\n",
              "         [[[6.9063e-01, 7.3721e-01, 4.5851e-01,  ..., 2.0328e-01,\n",
              "            5.0133e-01, 1.8234e-01],\n",
              "           [1.6393e-01, 8.7692e-01, 6.3146e-01,  ..., 6.4591e-01,\n",
              "            9.1678e-01, 9.4144e-01],\n",
              "           [6.0416e-01, 8.4060e-01, 4.6483e-01,  ..., 6.2922e-01,\n",
              "            9.4490e-02, 5.2530e-01],\n",
              "           ...,\n",
              "           [1.1177e-01, 8.3777e-01, 1.2788e-02,  ..., 9.2016e-03,\n",
              "            6.4192e-01, 3.2351e-01],\n",
              "           [8.6818e-01, 7.0127e-01, 6.0358e-01,  ..., 2.0553e-01,\n",
              "            6.5429e-01, 3.4831e-01],\n",
              "           [4.1720e-01, 1.9952e-02, 1.9396e-01,  ..., 2.1668e-01,\n",
              "            9.8360e-01, 1.3555e-01]],\n",
              "\n",
              "          [[5.2911e-01, 9.8053e-01, 6.1814e-01,  ..., 7.4045e-01,\n",
              "            2.0237e-01, 8.8983e-01],\n",
              "           [5.4012e-01, 7.1321e-01, 3.1135e-01,  ..., 4.8836e-01,\n",
              "            1.0285e-01, 8.5672e-01],\n",
              "           [9.6783e-02, 1.1660e-02, 3.1062e-01,  ..., 8.2697e-01,\n",
              "            5.3393e-01, 1.6153e-01],\n",
              "           ...,\n",
              "           [9.4039e-01, 5.9199e-01, 4.9867e-01,  ..., 5.1276e-01,\n",
              "            9.3842e-01, 7.4340e-01],\n",
              "           [9.3705e-02, 1.6653e-01, 7.8853e-01,  ..., 8.6396e-01,\n",
              "            6.8669e-01, 7.4825e-01],\n",
              "           [1.6639e-01, 4.5405e-01, 4.9506e-01,  ..., 2.5526e-02,\n",
              "            1.1303e-03, 6.4196e-01]],\n",
              "\n",
              "          [[1.2807e-01, 7.0149e-01, 5.3113e-01,  ..., 2.2133e-01,\n",
              "            5.0528e-02, 8.6890e-01],\n",
              "           [2.8210e-01, 9.7117e-01, 7.2965e-01,  ..., 1.7610e-01,\n",
              "            9.9244e-01, 1.9472e-01],\n",
              "           [1.3597e-01, 8.0299e-01, 1.8790e-01,  ..., 7.2291e-01,\n",
              "            5.4465e-02, 6.5675e-01],\n",
              "           ...,\n",
              "           [2.7638e-01, 6.3128e-01, 1.2063e-01,  ..., 1.7607e-01,\n",
              "            2.5066e-01, 6.2460e-01],\n",
              "           [2.0016e-02, 1.5373e-01, 9.0608e-01,  ..., 5.8498e-01,\n",
              "            9.7278e-01, 8.8609e-01],\n",
              "           [1.7102e-01, 3.4603e-02, 1.0673e-01,  ..., 8.7436e-01,\n",
              "            3.1645e-01, 6.8447e-01]],\n",
              "\n",
              "          ...,\n",
              "\n",
              "          [[5.5426e-01, 7.4641e-01, 4.4824e-01,  ..., 9.6120e-01,\n",
              "            1.2584e-01, 5.0530e-01],\n",
              "           [9.2787e-01, 1.3432e-01, 2.2422e-01,  ..., 6.5271e-01,\n",
              "            3.5672e-01, 8.2544e-02],\n",
              "           [8.0116e-01, 3.9126e-01, 7.1721e-02,  ..., 2.4823e-01,\n",
              "            7.4819e-01, 6.3616e-01],\n",
              "           ...,\n",
              "           [9.2515e-01, 1.7170e-01, 9.4317e-01,  ..., 7.0336e-01,\n",
              "            1.1612e-01, 4.4285e-01],\n",
              "           [3.8619e-01, 1.9428e-01, 4.6232e-01,  ..., 4.1398e-01,\n",
              "            9.2730e-01, 1.4265e-01],\n",
              "           [4.4063e-02, 9.5116e-01, 5.3951e-01,  ..., 4.8315e-01,\n",
              "            6.9654e-01, 4.5067e-02]],\n",
              "\n",
              "          [[9.4536e-01, 3.2660e-02, 5.9160e-01,  ..., 5.6086e-01,\n",
              "            4.9768e-01, 1.2395e-01],\n",
              "           [6.8667e-01, 4.0910e-01, 6.6291e-01,  ..., 7.3794e-01,\n",
              "            4.4602e-04, 7.5828e-01],\n",
              "           [5.3312e-01, 1.1511e-01, 6.5618e-01,  ..., 7.5297e-01,\n",
              "            6.6973e-01, 4.1929e-02],\n",
              "           ...,\n",
              "           [8.7103e-02, 5.6191e-01, 9.3616e-01,  ..., 6.8513e-01,\n",
              "            6.1751e-01, 7.1339e-01],\n",
              "           [4.1664e-01, 3.6333e-01, 8.7719e-02,  ..., 5.4640e-01,\n",
              "            6.4957e-01, 1.6505e-01],\n",
              "           [3.5992e-01, 5.8243e-01, 3.5442e-01,  ..., 3.6642e-01,\n",
              "            9.1248e-01, 9.2446e-01]],\n",
              "\n",
              "          [[5.7305e-01, 7.5887e-01, 5.3659e-01,  ..., 3.4608e-01,\n",
              "            2.9161e-01, 9.1586e-01],\n",
              "           [2.0304e-01, 3.2703e-01, 1.4593e-01,  ..., 9.1567e-01,\n",
              "            4.9569e-01, 3.3967e-01],\n",
              "           [8.3105e-01, 3.3897e-01, 8.8378e-02,  ..., 7.8255e-01,\n",
              "            6.2014e-01, 7.9759e-01],\n",
              "           ...,\n",
              "           [4.7404e-01, 1.5716e-01, 7.3168e-01,  ..., 6.7290e-03,\n",
              "            5.9682e-01, 4.8429e-01],\n",
              "           [6.3659e-01, 6.4560e-01, 1.5659e-01,  ..., 3.5277e-01,\n",
              "            2.4712e-01, 9.0674e-01],\n",
              "           [7.1347e-01, 6.1776e-01, 2.7069e-01,  ..., 5.4756e-01,\n",
              "            1.5356e-01, 9.3272e-01]]],\n",
              "\n",
              "\n",
              "         ...,\n",
              "\n",
              "\n",
              "         [[[8.9406e-01, 9.2557e-01, 6.4183e-01,  ..., 7.3191e-02,\n",
              "            4.7361e-01, 9.9104e-01],\n",
              "           [9.4717e-01, 9.9012e-01, 2.3125e-01,  ..., 6.3012e-01,\n",
              "            1.4301e-01, 8.4769e-02],\n",
              "           [9.4199e-01, 6.4528e-02, 3.8052e-01,  ..., 7.1433e-01,\n",
              "            6.9346e-01, 5.1859e-01],\n",
              "           ...,\n",
              "           [5.5520e-02, 7.3367e-01, 6.5893e-01,  ..., 1.1536e-01,\n",
              "            1.9312e-01, 5.4134e-01],\n",
              "           [4.0561e-01, 1.1299e-01, 8.4015e-01,  ..., 8.2944e-01,\n",
              "            5.9791e-01, 1.2735e-01],\n",
              "           [5.7085e-01, 6.5075e-01, 1.3291e-01,  ..., 4.2809e-01,\n",
              "            2.5664e-01, 6.7306e-02]],\n",
              "\n",
              "          [[1.4564e-01, 9.7867e-02, 1.3827e-01,  ..., 2.4398e-01,\n",
              "            2.8514e-01, 2.5088e-01],\n",
              "           [3.7676e-01, 8.2380e-02, 2.8141e-01,  ..., 6.5902e-01,\n",
              "            2.5555e-01, 5.1833e-01],\n",
              "           [8.6933e-01, 6.4811e-01, 9.4541e-01,  ..., 8.6875e-01,\n",
              "            8.7723e-01, 4.9720e-01],\n",
              "           ...,\n",
              "           [2.1026e-01, 5.0565e-02, 6.8864e-01,  ..., 3.4675e-01,\n",
              "            5.1798e-01, 9.7818e-01],\n",
              "           [4.9566e-01, 6.4202e-01, 8.8836e-01,  ..., 7.1165e-01,\n",
              "            7.2733e-01, 3.9203e-01],\n",
              "           [5.4138e-01, 4.3287e-01, 7.0616e-01,  ..., 6.0034e-01,\n",
              "            9.6354e-01, 3.3541e-01]],\n",
              "\n",
              "          [[4.0167e-01, 2.1790e-01, 2.3177e-01,  ..., 9.3709e-01,\n",
              "            7.4702e-01, 1.8563e-01],\n",
              "           [8.9815e-02, 9.8075e-02, 8.3009e-01,  ..., 7.3905e-01,\n",
              "            6.6555e-01, 3.8775e-01],\n",
              "           [4.2169e-01, 1.5886e-03, 7.1865e-02,  ..., 3.0809e-01,\n",
              "            5.7639e-01, 3.6808e-01],\n",
              "           ...,\n",
              "           [5.4235e-01, 9.7512e-01, 4.9272e-01,  ..., 6.7828e-01,\n",
              "            9.8597e-02, 4.6196e-01],\n",
              "           [5.3660e-01, 6.7137e-01, 5.9327e-01,  ..., 3.4724e-01,\n",
              "            8.8407e-01, 8.6861e-01],\n",
              "           [8.9984e-01, 7.6203e-01, 9.8091e-01,  ..., 4.3347e-01,\n",
              "            6.6508e-01, 4.7066e-02]],\n",
              "\n",
              "          ...,\n",
              "\n",
              "          [[1.9801e-01, 3.7992e-01, 8.4187e-01,  ..., 4.7898e-01,\n",
              "            3.8062e-01, 7.5287e-01],\n",
              "           [1.1132e-02, 8.2519e-01, 9.4663e-01,  ..., 9.4583e-01,\n",
              "            9.0947e-03, 4.3901e-01],\n",
              "           [4.9269e-01, 1.5459e-01, 5.9640e-01,  ..., 8.2404e-01,\n",
              "            7.8177e-01, 2.0130e-01],\n",
              "           ...,\n",
              "           [4.9428e-01, 2.6493e-02, 8.3047e-01,  ..., 7.1424e-01,\n",
              "            4.1113e-01, 8.9277e-01],\n",
              "           [8.9615e-01, 9.3560e-01, 2.5556e-01,  ..., 7.1745e-01,\n",
              "            6.4173e-01, 8.6134e-01],\n",
              "           [2.0334e-01, 5.5223e-01, 9.4886e-01,  ..., 6.6856e-02,\n",
              "            9.9662e-01, 3.3323e-01]],\n",
              "\n",
              "          [[1.8824e-01, 1.9863e-01, 5.8318e-01,  ..., 4.8265e-01,\n",
              "            5.3670e-01, 5.6635e-01],\n",
              "           [5.7201e-01, 1.6991e-01, 3.5925e-01,  ..., 9.0643e-02,\n",
              "            7.3141e-01, 5.2686e-01],\n",
              "           [7.2727e-01, 7.2509e-01, 1.4146e-01,  ..., 8.0189e-01,\n",
              "            8.9384e-01, 4.7387e-01],\n",
              "           ...,\n",
              "           [1.9316e-01, 9.4158e-01, 9.2178e-01,  ..., 6.9655e-01,\n",
              "            2.1632e-01, 6.2651e-02],\n",
              "           [4.9662e-01, 7.5634e-01, 8.1159e-01,  ..., 2.9676e-02,\n",
              "            1.8655e-01, 1.7811e-01],\n",
              "           [8.6785e-01, 9.0625e-01, 1.6601e-01,  ..., 2.5334e-01,\n",
              "            7.8758e-01, 8.9696e-01]],\n",
              "\n",
              "          [[9.4279e-01, 2.4650e-01, 6.3667e-01,  ..., 5.2918e-01,\n",
              "            9.2502e-01, 8.3589e-01],\n",
              "           [6.5010e-01, 7.3313e-01, 1.4719e-01,  ..., 4.5313e-01,\n",
              "            8.6865e-01, 7.6776e-01],\n",
              "           [2.5233e-02, 9.9419e-01, 6.2761e-01,  ..., 3.3208e-01,\n",
              "            7.1904e-01, 5.4893e-01],\n",
              "           ...,\n",
              "           [5.6601e-01, 7.2194e-01, 7.5141e-01,  ..., 4.1782e-01,\n",
              "            5.1959e-01, 5.2010e-01],\n",
              "           [9.8883e-01, 6.1118e-02, 3.6962e-01,  ..., 4.9609e-01,\n",
              "            3.7666e-02, 5.0115e-01],\n",
              "           [8.5950e-01, 9.8652e-01, 5.1890e-01,  ..., 4.5752e-01,\n",
              "            8.9725e-01, 7.0141e-02]]],\n",
              "\n",
              "\n",
              "         [[[5.2970e-01, 8.3319e-01, 7.6154e-01,  ..., 6.8915e-01,\n",
              "            7.0813e-01, 1.0279e-02],\n",
              "           [9.6070e-01, 5.4133e-01, 4.6790e-01,  ..., 2.1505e-01,\n",
              "            1.3102e-01, 2.9443e-01],\n",
              "           [1.3132e-01, 9.9928e-01, 6.5553e-01,  ..., 8.1590e-01,\n",
              "            5.3232e-01, 6.7953e-01],\n",
              "           ...,\n",
              "           [2.3918e-01, 9.0497e-01, 4.1144e-01,  ..., 2.7468e-01,\n",
              "            2.5559e-01, 2.3049e-02],\n",
              "           [5.1869e-01, 8.6040e-01, 4.3605e-01,  ..., 4.5678e-01,\n",
              "            8.9150e-01, 5.9822e-02],\n",
              "           [9.8670e-01, 3.2447e-01, 7.0776e-01,  ..., 5.0493e-01,\n",
              "            1.9260e-01, 4.0912e-01]],\n",
              "\n",
              "          [[5.0525e-01, 5.5836e-01, 5.8559e-01,  ..., 6.2603e-01,\n",
              "            1.7613e-01, 5.5572e-01],\n",
              "           [4.4794e-01, 8.7257e-01, 3.4100e-01,  ..., 6.2268e-01,\n",
              "            1.3410e-01, 2.8949e-01],\n",
              "           [8.8938e-01, 3.2498e-01, 3.7197e-01,  ..., 5.0366e-01,\n",
              "            4.4598e-01, 8.2609e-01],\n",
              "           ...,\n",
              "           [6.3301e-01, 4.1760e-01, 7.6628e-01,  ..., 3.8714e-01,\n",
              "            4.7257e-01, 2.7148e-01],\n",
              "           [1.0298e-01, 9.7417e-01, 7.8535e-01,  ..., 7.5214e-01,\n",
              "            6.1744e-01, 8.9766e-01],\n",
              "           [1.2991e-01, 5.5664e-01, 6.0993e-01,  ..., 1.8871e-01,\n",
              "            9.8934e-01, 9.5277e-01]],\n",
              "\n",
              "          [[1.5203e-01, 8.0979e-01, 8.0095e-01,  ..., 1.0299e-02,\n",
              "            6.7100e-01, 6.0489e-01],\n",
              "           [3.9167e-01, 4.2498e-01, 6.4291e-01,  ..., 4.6274e-02,\n",
              "            2.2396e-01, 1.0520e-01],\n",
              "           [4.4924e-01, 8.2712e-01, 7.4580e-01,  ..., 2.4020e-02,\n",
              "            2.7913e-01, 4.4525e-01],\n",
              "           ...,\n",
              "           [9.6720e-01, 9.7129e-01, 5.8291e-01,  ..., 9.2832e-02,\n",
              "            4.0980e-01, 5.8498e-01],\n",
              "           [2.4976e-01, 6.1865e-01, 9.2145e-01,  ..., 9.2779e-01,\n",
              "            8.9833e-01, 2.6908e-01],\n",
              "           [3.9822e-01, 6.8751e-01, 3.3691e-01,  ..., 8.8711e-01,\n",
              "            2.2686e-01, 2.2035e-02]],\n",
              "\n",
              "          ...,\n",
              "\n",
              "          [[6.5299e-01, 9.8786e-01, 7.7012e-01,  ..., 9.0728e-01,\n",
              "            1.1889e-01, 6.2359e-01],\n",
              "           [2.5209e-02, 7.5499e-01, 2.8077e-01,  ..., 7.1435e-01,\n",
              "            4.2377e-01, 7.4137e-01],\n",
              "           [7.7173e-01, 4.1945e-01, 1.3630e-01,  ..., 9.6794e-01,\n",
              "            4.4029e-01, 1.5319e-02],\n",
              "           ...,\n",
              "           [2.4753e-01, 9.7130e-01, 1.7852e-01,  ..., 4.6912e-01,\n",
              "            8.5101e-01, 7.3591e-01],\n",
              "           [5.2264e-01, 7.7684e-01, 5.7024e-01,  ..., 3.7401e-01,\n",
              "            7.9016e-01, 3.7525e-01],\n",
              "           [7.2040e-01, 9.8705e-01, 7.3194e-01,  ..., 9.5366e-01,\n",
              "            6.2161e-01, 1.0061e-01]],\n",
              "\n",
              "          [[9.7450e-01, 1.5214e-01, 9.1675e-01,  ..., 8.0987e-01,\n",
              "            4.5626e-01, 1.8637e-01],\n",
              "           [8.9278e-01, 7.7239e-02, 9.8779e-01,  ..., 5.2488e-01,\n",
              "            8.3920e-01, 7.5343e-01],\n",
              "           [5.6941e-01, 4.2460e-01, 3.8321e-01,  ..., 2.0919e-01,\n",
              "            4.7555e-01, 5.8956e-01],\n",
              "           ...,\n",
              "           [3.4530e-01, 6.7809e-01, 2.6727e-01,  ..., 3.4625e-01,\n",
              "            8.4533e-01, 5.5378e-01],\n",
              "           [3.3185e-01, 1.0842e-01, 4.6236e-01,  ..., 6.8216e-01,\n",
              "            2.3788e-01, 8.6689e-01],\n",
              "           [6.3922e-01, 5.2246e-01, 4.1500e-01,  ..., 3.1867e-01,\n",
              "            2.1739e-01, 7.2037e-01]],\n",
              "\n",
              "          [[8.4863e-01, 3.0117e-01, 7.2612e-01,  ..., 8.2712e-01,\n",
              "            1.0351e-01, 9.3082e-01],\n",
              "           [4.0839e-01, 2.3997e-01, 3.9430e-01,  ..., 7.9899e-01,\n",
              "            2.4153e-01, 8.5492e-01],\n",
              "           [5.1090e-01, 4.2123e-01, 3.1445e-01,  ..., 4.0176e-01,\n",
              "            7.6645e-01, 6.9929e-02],\n",
              "           ...,\n",
              "           [8.2616e-01, 5.7567e-01, 4.2068e-01,  ..., 4.1253e-02,\n",
              "            2.8303e-01, 4.5413e-01],\n",
              "           [3.5405e-01, 2.0853e-01, 4.4791e-01,  ..., 2.6795e-01,\n",
              "            5.3587e-01, 5.1106e-01],\n",
              "           [4.3485e-01, 5.8202e-01, 1.7416e-01,  ..., 6.4406e-02,\n",
              "            5.8545e-01, 6.9116e-01]]],\n",
              "\n",
              "\n",
              "         [[[8.7140e-01, 8.9053e-01, 9.9840e-01,  ..., 7.2523e-01,\n",
              "            5.7693e-01, 1.8386e-01],\n",
              "           [1.4903e-01, 7.3739e-01, 5.1114e-01,  ..., 1.7534e-01,\n",
              "            4.8131e-01, 2.2474e-01],\n",
              "           [2.4802e-01, 5.8572e-01, 4.3550e-01,  ..., 3.2645e-01,\n",
              "            9.0277e-01, 1.3725e-02],\n",
              "           ...,\n",
              "           [4.4578e-01, 1.8411e-01, 1.6133e-01,  ..., 7.2769e-01,\n",
              "            1.2315e-01, 6.0354e-01],\n",
              "           [6.2182e-01, 2.9625e-02, 7.5964e-01,  ..., 3.1449e-01,\n",
              "            9.9421e-01, 7.7366e-01],\n",
              "           [4.8692e-01, 4.4102e-01, 5.6857e-01,  ..., 9.6680e-01,\n",
              "            7.0656e-01, 4.0757e-01]],\n",
              "\n",
              "          [[7.2008e-01, 4.8939e-01, 5.4682e-01,  ..., 8.0732e-02,\n",
              "            9.5014e-01, 5.6887e-01],\n",
              "           [4.6059e-01, 3.4221e-01, 5.0160e-01,  ..., 8.6974e-01,\n",
              "            2.4408e-01, 9.9248e-01],\n",
              "           [2.0030e-01, 4.6467e-01, 3.3763e-01,  ..., 2.9718e-01,\n",
              "            6.3315e-01, 9.1770e-01],\n",
              "           ...,\n",
              "           [3.3005e-01, 6.3315e-01, 8.6547e-01,  ..., 7.6852e-01,\n",
              "            7.1124e-01, 2.8894e-02],\n",
              "           [6.1723e-01, 5.8899e-01, 8.2228e-01,  ..., 9.4936e-01,\n",
              "            9.1501e-01, 4.6193e-01],\n",
              "           [5.9537e-01, 6.6017e-01, 8.0048e-01,  ..., 5.7020e-01,\n",
              "            6.1477e-01, 7.8897e-01]],\n",
              "\n",
              "          [[5.3904e-01, 2.3778e-01, 8.3179e-01,  ..., 4.4326e-02,\n",
              "            1.0664e-01, 2.6056e-01],\n",
              "           [8.7736e-01, 2.2274e-01, 5.1249e-01,  ..., 2.2887e-01,\n",
              "            2.6488e-01, 7.7339e-01],\n",
              "           [8.3639e-01, 3.6175e-01, 8.3248e-01,  ..., 2.7386e-01,\n",
              "            3.4075e-01, 4.8616e-01],\n",
              "           ...,\n",
              "           [1.8307e-01, 6.0668e-01, 1.2812e-01,  ..., 6.9234e-01,\n",
              "            6.4891e-01, 2.9647e-01],\n",
              "           [1.4134e-01, 2.1145e-01, 9.9623e-01,  ..., 9.3912e-01,\n",
              "            2.9640e-01, 7.7360e-01],\n",
              "           [9.0552e-01, 5.8895e-02, 5.9613e-01,  ..., 6.4500e-01,\n",
              "            1.3895e-01, 7.0277e-02]],\n",
              "\n",
              "          ...,\n",
              "\n",
              "          [[6.2910e-01, 3.4860e-01, 9.4421e-01,  ..., 1.4080e-01,\n",
              "            3.3294e-01, 6.9512e-01],\n",
              "           [3.2168e-01, 2.7031e-01, 6.9208e-01,  ..., 9.6915e-01,\n",
              "            6.7868e-01, 6.6969e-01],\n",
              "           [1.7407e-01, 7.1495e-01, 7.5473e-01,  ..., 1.9160e-01,\n",
              "            4.1359e-01, 3.7760e-01],\n",
              "           ...,\n",
              "           [6.1975e-02, 2.6165e-01, 7.2106e-01,  ..., 7.3927e-01,\n",
              "            7.8194e-01, 9.6954e-01],\n",
              "           [4.1446e-01, 4.5574e-01, 5.2671e-01,  ..., 3.8939e-01,\n",
              "            6.8131e-01, 8.6905e-01],\n",
              "           [4.7235e-01, 2.9836e-01, 2.2256e-02,  ..., 8.8372e-01,\n",
              "            1.4462e-01, 1.8954e-01]],\n",
              "\n",
              "          [[9.3321e-01, 9.9632e-01, 1.6626e-02,  ..., 9.8153e-01,\n",
              "            8.9637e-01, 2.7406e-01],\n",
              "           [9.4391e-02, 1.9015e-01, 3.2121e-01,  ..., 8.3861e-01,\n",
              "            5.3603e-01, 8.9599e-01],\n",
              "           [7.7730e-01, 9.7638e-01, 6.6951e-01,  ..., 5.9327e-01,\n",
              "            1.7591e-01, 6.7381e-01],\n",
              "           ...,\n",
              "           [8.2622e-01, 3.3002e-01, 7.6312e-01,  ..., 1.6822e-01,\n",
              "            3.7216e-01, 8.9605e-01],\n",
              "           [5.0790e-01, 5.5084e-01, 1.8393e-01,  ..., 5.3934e-01,\n",
              "            1.4429e-02, 5.7912e-01],\n",
              "           [9.5777e-01, 1.6023e-01, 9.1862e-01,  ..., 5.4910e-01,\n",
              "            2.5845e-02, 9.1046e-01]],\n",
              "\n",
              "          [[6.7946e-01, 8.8090e-01, 6.9738e-01,  ..., 9.6628e-01,\n",
              "            5.4326e-01, 1.2788e-01],\n",
              "           [9.6931e-01, 1.9306e-01, 9.1830e-01,  ..., 6.6154e-01,\n",
              "            1.0349e-01, 7.7123e-01],\n",
              "           [9.3636e-01, 8.5754e-01, 9.0734e-01,  ..., 3.9018e-01,\n",
              "            6.7220e-02, 7.6674e-01],\n",
              "           ...,\n",
              "           [1.3723e-01, 9.7352e-01, 9.0891e-01,  ..., 8.4085e-01,\n",
              "            5.4597e-02, 1.4969e-01],\n",
              "           [5.2435e-02, 7.0152e-01, 8.4213e-01,  ..., 2.9276e-01,\n",
              "            8.7962e-01, 9.9066e-01],\n",
              "           [1.5224e-01, 7.8890e-01, 6.4929e-01,  ..., 8.9904e-02,\n",
              "            1.6612e-01, 6.9877e-01]]]],\n",
              "\n",
              "\n",
              "\n",
              "        [[[[3.3144e-02, 5.4257e-01, 3.9725e-01,  ..., 5.0910e-01,\n",
              "            4.6542e-01, 5.1815e-02],\n",
              "           [2.9782e-01, 2.3545e-01, 3.0881e-01,  ..., 5.1471e-01,\n",
              "            7.9429e-01, 6.2917e-01],\n",
              "           [5.8838e-01, 8.9602e-01, 7.9574e-01,  ..., 4.8212e-01,\n",
              "            1.8882e-01, 7.3039e-01],\n",
              "           ...,\n",
              "           [6.0938e-01, 6.3726e-01, 7.4850e-01,  ..., 3.8637e-01,\n",
              "            8.4497e-01, 2.8110e-01],\n",
              "           [5.5975e-01, 8.8138e-01, 7.2169e-02,  ..., 7.9939e-02,\n",
              "            5.4997e-01, 7.6023e-01],\n",
              "           [3.6693e-01, 3.5446e-01, 6.0099e-01,  ..., 4.1046e-01,\n",
              "            9.6654e-01, 3.0692e-01]],\n",
              "\n",
              "          [[8.9326e-01, 9.4438e-01, 6.5846e-01,  ..., 4.9639e-01,\n",
              "            7.3503e-01, 6.3373e-01],\n",
              "           [3.5559e-01, 6.1179e-01, 9.4461e-01,  ..., 5.7969e-01,\n",
              "            8.3380e-01, 8.1419e-01],\n",
              "           [4.3462e-01, 6.4980e-01, 4.5683e-01,  ..., 2.9412e-01,\n",
              "            4.2386e-01, 6.5901e-01],\n",
              "           ...,\n",
              "           [1.7663e-01, 1.3294e-01, 4.7647e-01,  ..., 7.0053e-01,\n",
              "            3.5737e-01, 4.2715e-01],\n",
              "           [6.0941e-01, 8.7481e-01, 1.2042e-01,  ..., 3.9214e-01,\n",
              "            3.1837e-01, 2.5617e-01],\n",
              "           [3.5015e-01, 6.0493e-01, 8.0958e-01,  ..., 6.6992e-01,\n",
              "            5.1837e-01, 9.6224e-01]],\n",
              "\n",
              "          [[6.1560e-02, 3.5361e-01, 6.6438e-01,  ..., 7.9429e-01,\n",
              "            5.6209e-01, 4.8668e-01],\n",
              "           [6.2645e-01, 6.3205e-01, 2.5253e-01,  ..., 8.6598e-01,\n",
              "            5.6740e-01, 2.9143e-01],\n",
              "           [1.1800e-01, 8.2375e-01, 7.1636e-01,  ..., 6.2037e-01,\n",
              "            8.3515e-01, 1.1206e-01],\n",
              "           ...,\n",
              "           [3.3605e-01, 2.8356e-01, 2.7827e-01,  ..., 6.5061e-01,\n",
              "            9.4573e-01, 4.2157e-01],\n",
              "           [5.6527e-01, 1.6402e-01, 2.1416e-01,  ..., 5.7679e-01,\n",
              "            7.2283e-01, 3.8931e-01],\n",
              "           [2.1673e-01, 6.1200e-01, 6.1970e-01,  ..., 4.9546e-01,\n",
              "            5.5178e-01, 6.1526e-01]],\n",
              "\n",
              "          ...,\n",
              "\n",
              "          [[1.7707e-01, 5.6707e-01, 8.4648e-01,  ..., 3.0084e-01,\n",
              "            9.3082e-01, 9.5649e-02],\n",
              "           [2.7170e-01, 3.6456e-01, 8.6076e-03,  ..., 8.7105e-01,\n",
              "            4.1873e-01, 6.8453e-01],\n",
              "           [8.5069e-01, 5.8922e-01, 2.2267e-01,  ..., 2.5984e-01,\n",
              "            1.1865e-01, 7.0017e-01],\n",
              "           ...,\n",
              "           [6.8292e-01, 9.5052e-01, 7.6049e-01,  ..., 8.2385e-01,\n",
              "            4.4798e-01, 5.2362e-01],\n",
              "           [6.9233e-01, 5.0588e-01, 7.9261e-01,  ..., 9.2748e-01,\n",
              "            6.4721e-01, 4.8611e-01],\n",
              "           [6.9362e-01, 7.6071e-01, 7.5635e-01,  ..., 4.8259e-01,\n",
              "            7.2815e-01, 4.7642e-01]],\n",
              "\n",
              "          [[9.2494e-01, 9.8497e-01, 9.3514e-01,  ..., 3.9781e-01,\n",
              "            4.9665e-01, 7.3997e-01],\n",
              "           [1.9051e-01, 7.6234e-01, 1.2268e-01,  ..., 6.3093e-01,\n",
              "            8.1184e-01, 7.5770e-01],\n",
              "           [2.7453e-01, 8.9377e-01, 8.5392e-01,  ..., 7.7762e-02,\n",
              "            7.4188e-01, 4.0342e-02],\n",
              "           ...,\n",
              "           [8.3486e-01, 7.4163e-01, 1.0254e-01,  ..., 6.6912e-01,\n",
              "            4.7985e-01, 7.7602e-01],\n",
              "           [5.5106e-01, 9.1101e-01, 1.5198e-01,  ..., 2.5340e-01,\n",
              "            5.9440e-01, 5.6827e-01],\n",
              "           [7.5286e-02, 8.3456e-01, 4.9500e-01,  ..., 1.0603e-01,\n",
              "            1.5604e-02, 6.1709e-01]],\n",
              "\n",
              "          [[6.6706e-01, 9.3180e-01, 3.9524e-01,  ..., 6.9308e-01,\n",
              "            3.0705e-01, 7.0473e-01],\n",
              "           [4.6527e-01, 6.1298e-01, 3.4761e-03,  ..., 5.3158e-01,\n",
              "            5.6051e-01, 6.4290e-01],\n",
              "           [4.1682e-01, 7.2348e-01, 7.7799e-01,  ..., 4.6206e-02,\n",
              "            6.7600e-01, 4.8220e-02],\n",
              "           ...,\n",
              "           [3.3914e-01, 4.7444e-01, 7.4856e-02,  ..., 4.0738e-01,\n",
              "            6.0467e-01, 5.3440e-01],\n",
              "           [8.7239e-01, 3.4180e-01, 7.4505e-01,  ..., 2.4755e-01,\n",
              "            1.2875e-01, 4.0045e-01],\n",
              "           [2.1403e-01, 9.1273e-02, 9.0881e-01,  ..., 6.3836e-01,\n",
              "            5.5016e-01, 3.1047e-01]]],\n",
              "\n",
              "\n",
              "         [[[6.9588e-02, 4.4546e-01, 7.8351e-02,  ..., 3.0480e-01,\n",
              "            9.9969e-02, 9.9906e-01],\n",
              "           [8.1909e-01, 8.4154e-01, 2.7133e-01,  ..., 4.4038e-01,\n",
              "            3.9806e-01, 5.5260e-01],\n",
              "           [8.6865e-01, 7.0582e-01, 2.3446e-01,  ..., 1.6464e-01,\n",
              "            9.3096e-01, 4.4109e-01],\n",
              "           ...,\n",
              "           [7.4794e-01, 5.2663e-01, 4.7675e-01,  ..., 5.7816e-01,\n",
              "            4.7460e-01, 4.5760e-02],\n",
              "           [7.6400e-01, 3.2658e-01, 9.4373e-01,  ..., 3.0044e-01,\n",
              "            4.7407e-01, 8.8035e-01],\n",
              "           [2.6455e-01, 7.5032e-02, 4.3168e-01,  ..., 8.6433e-01,\n",
              "            4.8347e-01, 9.0049e-01]],\n",
              "\n",
              "          [[5.0196e-01, 9.9342e-01, 5.8402e-01,  ..., 4.3921e-01,\n",
              "            7.1949e-01, 8.8912e-01],\n",
              "           [3.5060e-01, 9.3318e-01, 2.6023e-01,  ..., 9.9730e-01,\n",
              "            9.3756e-01, 6.9200e-01],\n",
              "           [8.5374e-01, 7.2556e-01, 9.8414e-01,  ..., 6.9827e-01,\n",
              "            9.1913e-01, 5.1674e-01],\n",
              "           ...,\n",
              "           [5.4216e-01, 1.0656e-01, 8.1425e-01,  ..., 5.6191e-01,\n",
              "            8.1638e-01, 8.6932e-01],\n",
              "           [1.0838e-01, 8.3505e-01, 5.2443e-01,  ..., 9.1892e-01,\n",
              "            8.4464e-01, 8.8043e-01],\n",
              "           [4.4021e-01, 2.0847e-01, 6.8743e-01,  ..., 4.7104e-01,\n",
              "            6.5882e-01, 3.6098e-01]],\n",
              "\n",
              "          [[2.6124e-01, 6.5365e-01, 4.2803e-01,  ..., 5.7671e-01,\n",
              "            9.8895e-01, 8.8063e-01],\n",
              "           [7.2763e-01, 6.2963e-01, 1.3630e-01,  ..., 8.4088e-01,\n",
              "            5.0747e-02, 9.2069e-01],\n",
              "           [2.9577e-01, 5.7659e-01, 3.9324e-01,  ..., 3.6111e-01,\n",
              "            5.2561e-01, 3.4768e-01],\n",
              "           ...,\n",
              "           [3.9096e-01, 3.0301e-01, 5.2102e-01,  ..., 8.5703e-01,\n",
              "            4.2874e-01, 5.9574e-01],\n",
              "           [8.8171e-01, 6.5880e-01, 3.0955e-01,  ..., 5.8334e-01,\n",
              "            8.1140e-01, 4.4868e-01],\n",
              "           [3.4064e-01, 9.6480e-01, 4.2100e-01,  ..., 8.1271e-01,\n",
              "            9.4480e-01, 5.9991e-01]],\n",
              "\n",
              "          ...,\n",
              "\n",
              "          [[8.6275e-01, 7.6392e-01, 1.3498e-01,  ..., 4.8723e-01,\n",
              "            9.5762e-01, 2.3504e-01],\n",
              "           [8.3971e-01, 6.1020e-01, 6.9783e-01,  ..., 3.8282e-01,\n",
              "            8.2534e-01, 1.4580e-01],\n",
              "           [1.3222e-01, 9.3296e-01, 8.2561e-01,  ..., 3.4487e-01,\n",
              "            1.9196e-01, 1.5251e-01],\n",
              "           ...,\n",
              "           [7.9753e-01, 9.7210e-01, 8.6019e-01,  ..., 1.4603e-02,\n",
              "            1.3450e-01, 4.1042e-01],\n",
              "           [1.8989e-01, 6.6087e-01, 3.5038e-01,  ..., 4.3920e-01,\n",
              "            4.6314e-01, 5.6904e-01],\n",
              "           [3.7157e-01, 2.4420e-01, 2.8158e-01,  ..., 2.6719e-01,\n",
              "            7.5760e-02, 8.0750e-01]],\n",
              "\n",
              "          [[6.6403e-01, 8.0142e-01, 1.4308e-02,  ..., 2.6452e-01,\n",
              "            5.1312e-01, 2.2391e-01],\n",
              "           [1.4498e-01, 6.5917e-03, 4.1231e-01,  ..., 8.1514e-02,\n",
              "            1.8221e-01, 7.9943e-01],\n",
              "           [6.2896e-01, 7.6339e-01, 5.0608e-01,  ..., 3.5362e-01,\n",
              "            4.5596e-01, 7.8160e-01],\n",
              "           ...,\n",
              "           [2.0748e-01, 5.7543e-01, 1.3808e-01,  ..., 8.5271e-01,\n",
              "            3.8428e-01, 1.6009e-01],\n",
              "           [1.4827e-01, 8.1606e-01, 2.6814e-01,  ..., 9.6887e-01,\n",
              "            6.7283e-01, 8.6254e-01],\n",
              "           [8.1543e-01, 5.2636e-01, 7.4508e-01,  ..., 3.0811e-02,\n",
              "            3.1383e-01, 3.1177e-01]],\n",
              "\n",
              "          [[1.4644e-01, 7.1870e-01, 4.4423e-01,  ..., 3.8017e-01,\n",
              "            7.1173e-01, 6.8935e-01],\n",
              "           [2.0120e-01, 2.8758e-01, 9.6286e-01,  ..., 6.7801e-01,\n",
              "            9.3071e-01, 5.8773e-01],\n",
              "           [2.2791e-01, 7.1554e-01, 5.4228e-01,  ..., 1.2347e-01,\n",
              "            8.1300e-01, 3.1544e-01],\n",
              "           ...,\n",
              "           [2.2849e-02, 2.6272e-01, 4.2151e-01,  ..., 3.7669e-01,\n",
              "            4.4252e-01, 2.6175e-01],\n",
              "           [2.1581e-01, 1.4542e-01, 2.9053e-01,  ..., 8.9451e-01,\n",
              "            3.8496e-01, 5.4757e-01],\n",
              "           [2.7425e-01, 6.5734e-01, 2.9135e-01,  ..., 2.1231e-01,\n",
              "            5.7727e-01, 3.7999e-01]]],\n",
              "\n",
              "\n",
              "         [[[1.9978e-01, 4.0176e-01, 9.2644e-01,  ..., 9.3887e-02,\n",
              "            7.1856e-01, 6.5398e-01],\n",
              "           [8.5405e-01, 4.9107e-01, 2.4663e-01,  ..., 8.8062e-01,\n",
              "            7.8797e-01, 6.5741e-01],\n",
              "           [1.2942e-01, 9.6336e-01, 5.2718e-01,  ..., 6.7832e-01,\n",
              "            9.9622e-01, 6.5294e-01],\n",
              "           ...,\n",
              "           [8.8427e-01, 6.1130e-01, 7.1968e-02,  ..., 7.9270e-02,\n",
              "            1.5711e-01, 7.7100e-01],\n",
              "           [1.2766e-01, 1.9197e-02, 4.4117e-01,  ..., 3.5802e-01,\n",
              "            4.9239e-01, 3.2165e-02],\n",
              "           [9.0692e-01, 8.0948e-03, 1.3715e-01,  ..., 1.6949e-02,\n",
              "            2.5743e-01, 9.1528e-02]],\n",
              "\n",
              "          [[7.9346e-01, 8.4108e-01, 9.1610e-01,  ..., 4.9131e-01,\n",
              "            8.2604e-01, 3.0979e-01],\n",
              "           [7.2076e-01, 2.1231e-01, 8.1665e-01,  ..., 8.9372e-01,\n",
              "            1.9473e-01, 1.7048e-01],\n",
              "           [1.7059e-01, 9.5247e-01, 2.2789e-01,  ..., 2.7648e-01,\n",
              "            1.8374e-01, 2.3963e-01],\n",
              "           ...,\n",
              "           [7.8390e-01, 3.1370e-01, 7.4247e-02,  ..., 7.7759e-01,\n",
              "            8.5247e-01, 8.8578e-01],\n",
              "           [5.7297e-01, 6.6031e-01, 8.6027e-01,  ..., 8.5498e-01,\n",
              "            2.6076e-01, 7.5418e-01],\n",
              "           [2.8777e-01, 2.3067e-01, 1.0030e-01,  ..., 1.9516e-02,\n",
              "            6.8143e-01, 9.9866e-01]],\n",
              "\n",
              "          [[8.5176e-01, 7.3943e-01, 8.3764e-02,  ..., 5.9463e-02,\n",
              "            5.1420e-01, 2.6120e-01],\n",
              "           [1.9451e-01, 7.2398e-01, 9.6871e-01,  ..., 5.6680e-01,\n",
              "            5.6737e-01, 7.0819e-01],\n",
              "           [6.4579e-01, 6.8280e-01, 5.1741e-01,  ..., 9.4945e-01,\n",
              "            1.9302e-01, 2.2210e-01],\n",
              "           ...,\n",
              "           [8.2304e-01, 9.5672e-01, 4.1286e-01,  ..., 2.2770e-01,\n",
              "            9.8137e-01, 8.6732e-01],\n",
              "           [4.2643e-01, 8.8253e-01, 1.8546e-01,  ..., 3.9995e-01,\n",
              "            9.5500e-01, 7.6648e-01],\n",
              "           [6.0303e-01, 5.2431e-01, 5.1405e-01,  ..., 3.5091e-01,\n",
              "            2.5280e-02, 9.0360e-01]],\n",
              "\n",
              "          ...,\n",
              "\n",
              "          [[5.2681e-01, 7.4946e-01, 8.6233e-01,  ..., 7.6031e-01,\n",
              "            3.5857e-01, 6.0515e-01],\n",
              "           [4.1434e-01, 5.8123e-01, 4.9448e-01,  ..., 7.4772e-01,\n",
              "            6.7762e-01, 6.4058e-01],\n",
              "           [5.8657e-02, 1.8068e-01, 4.0321e-01,  ..., 4.0590e-01,\n",
              "            4.9125e-01, 5.7691e-03],\n",
              "           ...,\n",
              "           [4.5786e-01, 2.7803e-02, 3.3427e-01,  ..., 2.6032e-01,\n",
              "            1.5340e-01, 4.2994e-02],\n",
              "           [9.7860e-01, 7.4381e-02, 5.3224e-01,  ..., 7.4219e-01,\n",
              "            5.0113e-01, 3.0092e-02],\n",
              "           [8.3194e-01, 7.7966e-01, 4.8320e-01,  ..., 4.6817e-01,\n",
              "            8.5733e-01, 3.4018e-01]],\n",
              "\n",
              "          [[3.7839e-01, 4.7642e-01, 5.1924e-01,  ..., 4.1637e-01,\n",
              "            7.7288e-02, 5.5537e-01],\n",
              "           [3.3947e-01, 8.7254e-02, 9.7197e-01,  ..., 4.6414e-01,\n",
              "            4.8341e-01, 9.2459e-01],\n",
              "           [3.1948e-01, 5.4718e-01, 6.4414e-01,  ..., 2.3160e-01,\n",
              "            1.2720e-01, 8.6194e-02],\n",
              "           ...,\n",
              "           [1.5055e-01, 6.7619e-01, 9.9009e-01,  ..., 8.3748e-01,\n",
              "            3.4590e-01, 3.6110e-01],\n",
              "           [7.9108e-01, 4.5186e-02, 8.3107e-01,  ..., 4.8280e-01,\n",
              "            4.5550e-01, 4.7092e-01],\n",
              "           [9.3786e-01, 8.7240e-01, 1.4973e-01,  ..., 2.0880e-01,\n",
              "            9.8640e-01, 1.6277e-01]],\n",
              "\n",
              "          [[2.0717e-01, 7.2998e-01, 1.7552e-01,  ..., 1.5976e-01,\n",
              "            9.2325e-01, 4.2156e-01],\n",
              "           [9.3935e-01, 8.2942e-01, 8.0523e-01,  ..., 8.1062e-01,\n",
              "            2.7416e-01, 8.4405e-01],\n",
              "           [8.3000e-01, 9.8042e-01, 1.8814e-01,  ..., 1.8193e-01,\n",
              "            1.2592e-01, 9.1379e-01],\n",
              "           ...,\n",
              "           [7.3201e-01, 8.5951e-01, 1.2388e-01,  ..., 4.7970e-01,\n",
              "            6.8512e-01, 3.5277e-01],\n",
              "           [6.8402e-01, 3.3051e-01, 2.7068e-01,  ..., 7.6961e-02,\n",
              "            5.8639e-03, 5.6804e-01],\n",
              "           [8.7188e-01, 5.9927e-01, 8.3337e-01,  ..., 7.8371e-01,\n",
              "            4.3686e-01, 5.8587e-01]]],\n",
              "\n",
              "\n",
              "         ...,\n",
              "\n",
              "\n",
              "         [[[4.7540e-01, 2.2414e-02, 8.9921e-01,  ..., 5.6966e-01,\n",
              "            2.7523e-01, 9.9148e-01],\n",
              "           [5.0111e-01, 1.2115e-01, 8.6600e-01,  ..., 1.7349e-01,\n",
              "            2.1464e-01, 9.2188e-01],\n",
              "           [4.9744e-01, 1.8632e-01, 7.0549e-01,  ..., 5.5487e-01,\n",
              "            1.6366e-01, 3.0514e-01],\n",
              "           ...,\n",
              "           [2.2695e-01, 2.8347e-01, 6.2547e-01,  ..., 4.8766e-01,\n",
              "            4.8649e-01, 4.4389e-01],\n",
              "           [2.1851e-01, 7.3551e-01, 5.4945e-01,  ..., 7.8645e-01,\n",
              "            3.0616e-01, 6.6880e-01],\n",
              "           [3.7492e-01, 1.4087e-01, 9.4747e-01,  ..., 9.3730e-02,\n",
              "            6.5898e-02, 7.7223e-01]],\n",
              "\n",
              "          [[2.3335e-01, 7.3569e-01, 6.1391e-01,  ..., 6.6200e-01,\n",
              "            1.4168e-01, 1.9495e-01],\n",
              "           [4.0424e-01, 6.2409e-01, 7.6441e-01,  ..., 3.4167e-01,\n",
              "            7.4374e-01, 5.4212e-01],\n",
              "           [2.4395e-01, 4.3588e-01, 8.3506e-02,  ..., 7.7472e-02,\n",
              "            2.9554e-02, 5.9530e-01],\n",
              "           ...,\n",
              "           [1.8625e-01, 9.9291e-02, 1.2028e-02,  ..., 1.8821e-01,\n",
              "            2.4456e-01, 3.4860e-01],\n",
              "           [6.9622e-01, 1.0213e-02, 6.5708e-02,  ..., 9.7904e-01,\n",
              "            2.8014e-01, 4.2679e-01],\n",
              "           [1.3598e-01, 3.3142e-01, 1.9372e-02,  ..., 7.1287e-02,\n",
              "            1.6040e-01, 1.6509e-01]],\n",
              "\n",
              "          [[4.2783e-01, 5.0039e-02, 1.9980e-02,  ..., 4.1510e-01,\n",
              "            2.7956e-01, 5.8205e-02],\n",
              "           [6.3367e-01, 9.6118e-01, 4.9656e-01,  ..., 3.5946e-01,\n",
              "            5.9209e-01, 8.8313e-01],\n",
              "           [8.1992e-01, 7.0794e-01, 7.3737e-01,  ..., 8.0385e-02,\n",
              "            2.3848e-01, 9.0363e-01],\n",
              "           ...,\n",
              "           [2.6734e-01, 3.3130e-01, 2.3691e-01,  ..., 6.4031e-01,\n",
              "            1.2379e-01, 2.8205e-01],\n",
              "           [9.4734e-01, 9.3054e-01, 8.6721e-01,  ..., 6.0437e-01,\n",
              "            1.3755e-01, 4.3694e-01],\n",
              "           [2.3219e-01, 8.9302e-01, 6.1309e-01,  ..., 2.6145e-01,\n",
              "            2.4788e-01, 2.7855e-01]],\n",
              "\n",
              "          ...,\n",
              "\n",
              "          [[5.0285e-01, 2.6659e-01, 1.7750e-01,  ..., 1.1261e-01,\n",
              "            2.5337e-01, 4.0718e-01],\n",
              "           [8.9869e-01, 6.5837e-01, 4.1940e-01,  ..., 9.5468e-01,\n",
              "            4.6828e-01, 1.4281e-01],\n",
              "           [2.3937e-01, 2.0162e-01, 5.8762e-02,  ..., 7.8111e-01,\n",
              "            7.2104e-01, 1.3966e-01],\n",
              "           ...,\n",
              "           [2.0860e-02, 3.1140e-01, 9.9749e-02,  ..., 8.4528e-01,\n",
              "            6.2092e-01, 5.7542e-02],\n",
              "           [7.7393e-01, 7.5472e-01, 2.8264e-01,  ..., 6.9630e-01,\n",
              "            5.4806e-01, 7.1060e-01],\n",
              "           [3.0852e-01, 8.7432e-01, 4.4214e-01,  ..., 9.5156e-01,\n",
              "            3.4277e-01, 5.7786e-01]],\n",
              "\n",
              "          [[7.0460e-01, 9.0724e-01, 8.6366e-01,  ..., 6.3153e-01,\n",
              "            9.4036e-01, 1.9597e-01],\n",
              "           [3.1235e-01, 2.5273e-01, 3.9046e-01,  ..., 7.3468e-01,\n",
              "            9.3008e-01, 9.5516e-01],\n",
              "           [6.9520e-01, 3.2269e-01, 8.9045e-01,  ..., 8.7410e-01,\n",
              "            8.6672e-01, 6.7692e-01],\n",
              "           ...,\n",
              "           [1.3611e-01, 9.7554e-01, 6.1577e-01,  ..., 9.5299e-01,\n",
              "            3.2683e-01, 2.7029e-02],\n",
              "           [1.5028e-01, 9.8575e-02, 2.8491e-01,  ..., 6.3958e-01,\n",
              "            7.1067e-01, 4.1500e-01],\n",
              "           [7.5623e-01, 1.8507e-01, 7.4970e-01,  ..., 1.0331e-01,\n",
              "            3.9528e-01, 3.7621e-01]],\n",
              "\n",
              "          [[5.7888e-01, 8.7785e-01, 4.9184e-01,  ..., 2.4126e-01,\n",
              "            7.4326e-01, 5.4032e-01],\n",
              "           [4.6644e-01, 7.5935e-01, 5.5085e-01,  ..., 5.9194e-01,\n",
              "            9.7853e-01, 2.1513e-01],\n",
              "           [9.5449e-02, 3.5725e-01, 7.2402e-01,  ..., 3.9743e-01,\n",
              "            2.5943e-01, 9.7192e-01],\n",
              "           ...,\n",
              "           [7.6643e-01, 8.1530e-01, 1.9426e-01,  ..., 5.8627e-01,\n",
              "            4.7597e-01, 5.3475e-01],\n",
              "           [7.1116e-01, 6.4988e-01, 6.3889e-02,  ..., 5.7413e-01,\n",
              "            1.1652e-01, 5.7888e-01],\n",
              "           [9.6188e-01, 1.5181e-01, 9.7666e-01,  ..., 5.1883e-01,\n",
              "            8.4297e-01, 4.2042e-01]]],\n",
              "\n",
              "\n",
              "         [[[3.2845e-02, 5.5497e-01, 7.9603e-01,  ..., 2.1715e-01,\n",
              "            8.3591e-01, 2.6386e-01],\n",
              "           [4.5155e-01, 3.9181e-01, 9.7631e-01,  ..., 1.8291e-01,\n",
              "            7.1236e-01, 8.5821e-01],\n",
              "           [4.0572e-02, 9.6072e-02, 7.4316e-02,  ..., 4.2072e-01,\n",
              "            2.9891e-01, 3.6456e-01],\n",
              "           ...,\n",
              "           [5.3385e-02, 4.5504e-01, 4.4233e-01,  ..., 9.8378e-01,\n",
              "            3.7668e-01, 3.0142e-01],\n",
              "           [8.8835e-01, 9.3179e-01, 6.1830e-01,  ..., 3.6766e-01,\n",
              "            1.0929e-01, 4.3719e-01],\n",
              "           [6.3243e-01, 8.4480e-01, 6.6017e-01,  ..., 7.3206e-01,\n",
              "            1.1669e-01, 5.0922e-01]],\n",
              "\n",
              "          [[4.1822e-01, 2.6906e-01, 4.7665e-01,  ..., 5.6928e-01,\n",
              "            6.6499e-01, 9.2232e-01],\n",
              "           [3.1808e-01, 5.6011e-01, 1.0606e-01,  ..., 5.3278e-01,\n",
              "            2.8388e-01, 4.0075e-01],\n",
              "           [5.2517e-01, 1.1829e-01, 9.0381e-01,  ..., 7.1951e-02,\n",
              "            2.1510e-01, 3.5226e-01],\n",
              "           ...,\n",
              "           [2.3942e-01, 4.4252e-01, 5.7817e-01,  ..., 3.5894e-01,\n",
              "            4.1210e-01, 2.6876e-01],\n",
              "           [4.6579e-02, 3.8446e-01, 1.2455e-01,  ..., 3.6400e-01,\n",
              "            2.5228e-01, 8.8023e-01],\n",
              "           [7.0111e-01, 2.9575e-01, 2.5976e-01,  ..., 2.9846e-01,\n",
              "            5.6427e-01, 7.8331e-01]],\n",
              "\n",
              "          [[7.4280e-02, 3.4011e-01, 5.2995e-01,  ..., 1.9836e-01,\n",
              "            4.7088e-01, 1.6547e-01],\n",
              "           [4.4453e-01, 4.0976e-01, 9.5021e-01,  ..., 7.1640e-01,\n",
              "            2.0503e-01, 6.4864e-01],\n",
              "           [3.5727e-01, 1.2535e-01, 8.3998e-03,  ..., 5.9162e-01,\n",
              "            5.9092e-01, 2.9734e-01],\n",
              "           ...,\n",
              "           [4.6064e-01, 2.2342e-01, 6.8010e-01,  ..., 5.8901e-01,\n",
              "            7.9389e-01, 8.2922e-01],\n",
              "           [1.6588e-01, 3.7076e-01, 8.6464e-02,  ..., 5.7860e-01,\n",
              "            7.0946e-01, 1.2574e-01],\n",
              "           [3.3794e-01, 7.8498e-01, 5.7890e-01,  ..., 4.0178e-01,\n",
              "            4.9657e-01, 3.9276e-01]],\n",
              "\n",
              "          ...,\n",
              "\n",
              "          [[5.4008e-01, 4.3042e-01, 7.3035e-01,  ..., 6.3695e-01,\n",
              "            1.1494e-01, 7.5746e-01],\n",
              "           [3.6093e-01, 5.2489e-01, 9.1658e-01,  ..., 4.4949e-01,\n",
              "            6.2839e-01, 8.5573e-02],\n",
              "           [7.4709e-01, 5.2803e-01, 4.0338e-03,  ..., 8.6543e-01,\n",
              "            5.0800e-01, 5.8855e-01],\n",
              "           ...,\n",
              "           [7.1399e-01, 6.3743e-01, 7.7864e-01,  ..., 9.5762e-01,\n",
              "            9.7611e-01, 5.2748e-01],\n",
              "           [2.3652e-02, 1.4377e-01, 7.3890e-01,  ..., 8.5974e-01,\n",
              "            3.8347e-01, 9.6482e-01],\n",
              "           [5.9878e-01, 7.5954e-01, 4.1381e-01,  ..., 1.8815e-01,\n",
              "            7.6011e-02, 1.6804e-01]],\n",
              "\n",
              "          [[9.8545e-01, 5.1327e-01, 4.7354e-01,  ..., 6.2036e-01,\n",
              "            7.4666e-02, 7.9466e-03],\n",
              "           [2.5093e-01, 5.5708e-01, 2.8600e-01,  ..., 3.1448e-01,\n",
              "            6.8513e-01, 3.7862e-02],\n",
              "           [1.9595e-01, 8.7602e-02, 5.6610e-01,  ..., 6.6885e-01,\n",
              "            3.5456e-01, 7.4852e-01],\n",
              "           ...,\n",
              "           [7.4636e-01, 2.1867e-01, 4.6046e-01,  ..., 4.2138e-01,\n",
              "            2.3699e-01, 9.9965e-02],\n",
              "           [2.2687e-01, 4.3876e-01, 6.8700e-02,  ..., 7.1240e-01,\n",
              "            2.0748e-02, 3.3143e-01],\n",
              "           [4.7638e-01, 4.7735e-01, 1.0110e-01,  ..., 4.5977e-01,\n",
              "            3.6386e-01, 8.4866e-01]],\n",
              "\n",
              "          [[2.4903e-01, 4.0104e-01, 5.0919e-01,  ..., 8.8543e-02,\n",
              "            6.7028e-02, 5.0617e-01],\n",
              "           [1.8930e-01, 5.0492e-01, 4.2915e-01,  ..., 6.1916e-01,\n",
              "            1.9473e-01, 5.2061e-01],\n",
              "           [1.6731e-01, 8.7630e-01, 1.3921e-01,  ..., 4.8201e-01,\n",
              "            2.1462e-01, 9.2396e-01],\n",
              "           ...,\n",
              "           [9.2208e-01, 4.5089e-01, 8.5451e-01,  ..., 6.5598e-02,\n",
              "            4.3472e-01, 3.5468e-01],\n",
              "           [7.8810e-01, 3.9818e-01, 1.0789e-01,  ..., 5.7534e-01,\n",
              "            2.0914e-01, 3.7437e-01],\n",
              "           [8.5795e-01, 1.2467e-01, 2.1745e-01,  ..., 1.3702e-01,\n",
              "            3.7548e-01, 3.3597e-01]]],\n",
              "\n",
              "\n",
              "         [[[6.4662e-02, 6.5548e-01, 3.3386e-01,  ..., 4.3433e-01,\n",
              "            9.3143e-01, 5.4424e-01],\n",
              "           [6.3394e-01, 8.6982e-01, 2.9509e-01,  ..., 6.2284e-01,\n",
              "            9.8870e-01, 8.4653e-01],\n",
              "           [1.6422e-01, 7.4552e-01, 8.3170e-02,  ..., 4.7633e-01,\n",
              "            2.4143e-02, 9.5392e-02],\n",
              "           ...,\n",
              "           [4.7778e-01, 1.8500e-01, 5.1331e-01,  ..., 8.7279e-01,\n",
              "            8.8715e-01, 4.8339e-01],\n",
              "           [5.2944e-01, 6.8581e-01, 5.3158e-01,  ..., 8.6241e-01,\n",
              "            3.3424e-01, 4.5795e-01],\n",
              "           [7.7423e-01, 2.7316e-01, 7.2976e-01,  ..., 4.4512e-01,\n",
              "            9.5849e-01, 8.7179e-01]],\n",
              "\n",
              "          [[6.9754e-01, 7.6479e-01, 6.6227e-01,  ..., 1.9655e-01,\n",
              "            2.1290e-01, 4.5748e-03],\n",
              "           [1.1896e-01, 1.9601e-01, 7.8568e-01,  ..., 8.5735e-01,\n",
              "            9.3196e-01, 8.0990e-01],\n",
              "           [7.3110e-01, 2.5748e-01, 3.0040e-01,  ..., 6.5471e-01,\n",
              "            3.2294e-01, 9.0252e-01],\n",
              "           ...,\n",
              "           [8.0772e-01, 3.0624e-01, 1.3410e-01,  ..., 1.0302e-01,\n",
              "            3.1449e-03, 3.9465e-01],\n",
              "           [3.0747e-01, 5.9282e-01, 9.5205e-01,  ..., 3.1780e-01,\n",
              "            8.9238e-01, 1.9176e-01],\n",
              "           [5.3696e-03, 4.7633e-01, 5.9593e-01,  ..., 6.7412e-01,\n",
              "            9.2291e-01, 1.6869e-01]],\n",
              "\n",
              "          [[7.4535e-01, 3.8173e-01, 4.9938e-01,  ..., 8.6799e-01,\n",
              "            7.3742e-01, 5.2316e-02],\n",
              "           [3.3504e-01, 5.0488e-01, 4.8507e-01,  ..., 6.0518e-01,\n",
              "            2.7760e-01, 2.8105e-01],\n",
              "           [4.3397e-01, 7.6208e-01, 5.4059e-01,  ..., 7.1304e-01,\n",
              "            3.1048e-01, 6.4135e-02],\n",
              "           ...,\n",
              "           [4.5436e-01, 5.9362e-01, 9.7583e-01,  ..., 2.6503e-01,\n",
              "            4.9810e-01, 8.9266e-01],\n",
              "           [8.5141e-01, 2.1477e-01, 8.4365e-02,  ..., 6.7926e-01,\n",
              "            4.8506e-01, 9.4987e-01],\n",
              "           [1.1545e-01, 5.7511e-02, 7.9385e-01,  ..., 2.7837e-01,\n",
              "            7.1753e-01, 4.2062e-01]],\n",
              "\n",
              "          ...,\n",
              "\n",
              "          [[7.8844e-01, 9.1782e-01, 2.8003e-01,  ..., 2.7309e-01,\n",
              "            7.5231e-01, 2.5415e-01],\n",
              "           [5.5973e-01, 7.3013e-01, 8.9461e-01,  ..., 8.4840e-01,\n",
              "            7.8067e-01, 2.0792e-01],\n",
              "           [7.7145e-01, 1.7621e-01, 9.8623e-01,  ..., 8.6614e-01,\n",
              "            5.4521e-01, 1.6696e-01],\n",
              "           ...,\n",
              "           [5.2208e-01, 3.0246e-01, 4.1604e-01,  ..., 1.7404e-01,\n",
              "            7.4013e-01, 1.8587e-01],\n",
              "           [9.6313e-01, 9.2263e-01, 8.3836e-02,  ..., 1.6192e-01,\n",
              "            3.0757e-01, 1.7776e-01],\n",
              "           [6.3504e-01, 5.1555e-02, 6.0192e-01,  ..., 9.5825e-01,\n",
              "            8.6426e-02, 5.1577e-02]],\n",
              "\n",
              "          [[5.3906e-01, 1.3162e-01, 8.4346e-02,  ..., 7.6544e-01,\n",
              "            2.3000e-01, 5.4872e-01],\n",
              "           [8.2174e-01, 9.9687e-01, 3.0518e-01,  ..., 6.3959e-01,\n",
              "            2.1538e-01, 2.6801e-01],\n",
              "           [5.7725e-01, 6.7343e-01, 5.2263e-01,  ..., 4.4345e-01,\n",
              "            3.9844e-02, 3.9114e-01],\n",
              "           ...,\n",
              "           [6.0786e-01, 4.8465e-01, 5.6234e-01,  ..., 5.1489e-01,\n",
              "            6.1179e-02, 4.8386e-01],\n",
              "           [1.6393e-02, 5.3308e-01, 4.2103e-01,  ..., 1.1195e-01,\n",
              "            3.7609e-01, 9.5485e-01],\n",
              "           [8.6641e-01, 9.6316e-01, 4.1896e-01,  ..., 6.6255e-01,\n",
              "            3.6714e-01, 1.1988e-01]],\n",
              "\n",
              "          [[6.3488e-02, 5.8150e-01, 9.9006e-01,  ..., 9.6011e-01,\n",
              "            5.1725e-01, 3.4106e-01],\n",
              "           [7.2477e-01, 1.3677e-01, 7.3694e-01,  ..., 9.5146e-01,\n",
              "            9.6487e-01, 8.1601e-01],\n",
              "           [8.5518e-01, 4.6241e-01, 1.6898e-01,  ..., 8.4992e-01,\n",
              "            5.6946e-01, 5.7920e-01],\n",
              "           ...,\n",
              "           [6.9781e-01, 8.3806e-01, 8.4332e-01,  ..., 1.0598e-01,\n",
              "            2.0263e-01, 9.1745e-01],\n",
              "           [3.0981e-01, 2.5366e-01, 9.4112e-01,  ..., 3.4781e-01,\n",
              "            3.0704e-01, 3.4613e-01],\n",
              "           [8.5020e-01, 6.5822e-01, 9.0999e-02,  ..., 6.7082e-02,\n",
              "            1.1457e-01, 1.7351e-01]]]],\n",
              "\n",
              "\n",
              "\n",
              "        [[[[3.0616e-01, 2.3656e-02, 2.9384e-01,  ..., 7.3965e-01,\n",
              "            2.7147e-01, 5.5513e-01],\n",
              "           [3.3208e-01, 2.3959e-01, 4.2254e-01,  ..., 4.7656e-01,\n",
              "            2.5281e-01, 9.9915e-01],\n",
              "           [3.3272e-01, 8.2314e-02, 9.9786e-01,  ..., 5.2605e-02,\n",
              "            5.0100e-01, 6.6619e-01],\n",
              "           ...,\n",
              "           [3.3912e-01, 3.1914e-01, 5.9070e-01,  ..., 6.9063e-02,\n",
              "            7.7573e-01, 3.4184e-01],\n",
              "           [7.6586e-01, 9.0332e-01, 8.5912e-01,  ..., 1.9771e-01,\n",
              "            7.7498e-01, 7.4413e-01],\n",
              "           [8.0268e-01, 6.9439e-01, 9.0732e-01,  ..., 6.2453e-01,\n",
              "            1.6873e-01, 8.6733e-01]],\n",
              "\n",
              "          [[6.5565e-01, 7.3003e-01, 8.8373e-01,  ..., 4.2792e-01,\n",
              "            5.7669e-01, 9.7848e-01],\n",
              "           [4.1532e-01, 4.8358e-01, 5.9548e-02,  ..., 5.3819e-01,\n",
              "            3.3269e-01, 2.3664e-02],\n",
              "           [5.8159e-02, 1.0077e-01, 7.0843e-01,  ..., 2.8553e-02,\n",
              "            9.3543e-01, 5.4524e-01],\n",
              "           ...,\n",
              "           [5.6161e-01, 9.6681e-01, 8.0905e-01,  ..., 4.1683e-01,\n",
              "            5.6569e-01, 5.2901e-01],\n",
              "           [3.9846e-01, 8.7581e-01, 7.2303e-01,  ..., 3.2067e-01,\n",
              "            3.6440e-02, 8.1953e-01],\n",
              "           [7.0986e-01, 7.3031e-01, 1.2285e-02,  ..., 3.1276e-01,\n",
              "            2.9641e-01, 2.5322e-01]],\n",
              "\n",
              "          [[8.5173e-01, 8.3072e-01, 8.3272e-01,  ..., 4.9217e-01,\n",
              "            2.1918e-01, 2.6738e-01],\n",
              "           [8.9609e-01, 5.4155e-01, 9.4586e-01,  ..., 4.1794e-01,\n",
              "            7.8566e-01, 3.9951e-01],\n",
              "           [1.6178e-01, 7.0759e-01, 3.3622e-01,  ..., 9.3704e-02,\n",
              "            3.9658e-01, 6.8949e-01],\n",
              "           ...,\n",
              "           [2.4419e-02, 2.8106e-01, 2.9093e-01,  ..., 1.3802e-01,\n",
              "            8.2101e-01, 1.8588e-01],\n",
              "           [2.9841e-01, 5.0273e-01, 7.1943e-01,  ..., 7.9545e-01,\n",
              "            7.8670e-01, 6.4901e-01],\n",
              "           [9.9161e-03, 3.9850e-01, 4.4098e-01,  ..., 2.5047e-01,\n",
              "            5.0490e-01, 8.6872e-01]],\n",
              "\n",
              "          ...,\n",
              "\n",
              "          [[4.1281e-01, 8.0279e-02, 1.9829e-01,  ..., 3.6688e-01,\n",
              "            7.8826e-01, 9.8104e-02],\n",
              "           [3.7934e-01, 5.5827e-01, 9.2987e-01,  ..., 5.2457e-01,\n",
              "            7.0460e-01, 4.0719e-01],\n",
              "           [2.2460e-01, 6.4431e-01, 1.5809e-01,  ..., 2.7480e-02,\n",
              "            5.6775e-01, 1.2191e-01],\n",
              "           ...,\n",
              "           [6.4234e-01, 7.4937e-01, 7.9155e-01,  ..., 7.2972e-01,\n",
              "            4.3325e-01, 8.9011e-01],\n",
              "           [1.0024e-01, 4.8821e-01, 5.7146e-01,  ..., 5.3019e-01,\n",
              "            9.1616e-01, 3.9961e-02],\n",
              "           [5.8995e-01, 3.3715e-01, 7.7745e-01,  ..., 1.9576e-01,\n",
              "            4.9161e-01, 9.8129e-02]],\n",
              "\n",
              "          [[4.4229e-01, 2.8939e-01, 8.6747e-01,  ..., 7.4339e-01,\n",
              "            9.5675e-01, 9.5172e-02],\n",
              "           [5.3619e-01, 9.5104e-01, 9.5581e-01,  ..., 2.6677e-01,\n",
              "            5.3255e-01, 9.3135e-01],\n",
              "           [5.3452e-01, 6.2492e-01, 9.6739e-01,  ..., 8.1037e-02,\n",
              "            6.5343e-01, 5.1456e-01],\n",
              "           ...,\n",
              "           [5.6725e-01, 5.5705e-01, 6.3850e-01,  ..., 1.5993e-01,\n",
              "            3.9758e-01, 9.6451e-01],\n",
              "           [5.0173e-01, 2.6505e-01, 6.7272e-02,  ..., 8.1871e-01,\n",
              "            2.7374e-01, 4.7383e-01],\n",
              "           [5.8238e-01, 2.7341e-04, 7.3692e-01,  ..., 8.5596e-01,\n",
              "            1.3256e-01, 3.5926e-01]],\n",
              "\n",
              "          [[1.0948e-01, 6.4478e-01, 9.4411e-01,  ..., 2.1468e-01,\n",
              "            8.6807e-01, 6.5389e-01],\n",
              "           [1.2936e-01, 2.4192e-01, 3.5450e-01,  ..., 7.1442e-01,\n",
              "            2.6325e-01, 8.6132e-01],\n",
              "           [5.3529e-01, 3.8477e-01, 5.8010e-01,  ..., 8.7434e-01,\n",
              "            4.3202e-02, 3.3872e-01],\n",
              "           ...,\n",
              "           [9.3813e-01, 9.3819e-01, 8.7017e-01,  ..., 2.4226e-01,\n",
              "            2.5102e-01, 6.2229e-01],\n",
              "           [5.0780e-01, 2.9026e-01, 7.0023e-01,  ..., 1.9755e-01,\n",
              "            9.8508e-02, 9.6560e-01],\n",
              "           [9.3118e-01, 2.4935e-01, 8.6735e-01,  ..., 9.8305e-01,\n",
              "            8.8231e-01, 8.7573e-02]]],\n",
              "\n",
              "\n",
              "         [[[6.0077e-01, 2.9799e-01, 6.2248e-02,  ..., 6.8504e-01,\n",
              "            3.5265e-01, 1.0524e-01],\n",
              "           [8.3162e-01, 4.9396e-01, 4.9244e-01,  ..., 2.9214e-01,\n",
              "            9.0572e-01, 1.8557e-01],\n",
              "           [8.9083e-01, 7.5788e-01, 8.6792e-01,  ..., 8.9717e-01,\n",
              "            1.4172e-01, 8.3001e-01],\n",
              "           ...,\n",
              "           [9.9977e-02, 8.5298e-01, 3.8889e-02,  ..., 3.6757e-01,\n",
              "            5.5205e-01, 5.3905e-01],\n",
              "           [4.6653e-01, 3.6365e-01, 7.9397e-02,  ..., 7.9532e-01,\n",
              "            1.1682e-01, 6.5070e-01],\n",
              "           [4.8324e-01, 3.1145e-01, 3.9191e-01,  ..., 8.3611e-01,\n",
              "            8.5580e-01, 6.5204e-01]],\n",
              "\n",
              "          [[9.4899e-02, 8.1416e-01, 8.5672e-01,  ..., 5.8326e-01,\n",
              "            5.4969e-01, 5.0375e-01],\n",
              "           [8.9585e-01, 4.3337e-01, 7.5929e-01,  ..., 2.6528e-01,\n",
              "            4.1598e-02, 8.4140e-01],\n",
              "           [8.8546e-01, 2.4889e-01, 9.2840e-01,  ..., 9.3463e-01,\n",
              "            2.7319e-01, 2.8766e-02],\n",
              "           ...,\n",
              "           [6.3508e-01, 1.6634e-01, 5.1662e-01,  ..., 2.2865e-01,\n",
              "            1.6104e-01, 8.4613e-01],\n",
              "           [9.8059e-01, 8.8761e-01, 7.9165e-01,  ..., 1.8842e-01,\n",
              "            9.8909e-01, 1.2037e-01],\n",
              "           [1.6821e-01, 2.2678e-01, 1.3086e-02,  ..., 3.1602e-01,\n",
              "            4.7434e-01, 7.2214e-01]],\n",
              "\n",
              "          [[4.4689e-01, 3.5693e-01, 7.8992e-01,  ..., 8.2323e-01,\n",
              "            7.5998e-01, 7.4957e-01],\n",
              "           [9.6637e-01, 4.2453e-01, 8.6486e-01,  ..., 2.4736e-01,\n",
              "            4.1234e-02, 2.1484e-01],\n",
              "           [8.6514e-01, 1.3729e-01, 8.7601e-01,  ..., 4.8936e-01,\n",
              "            6.4775e-01, 2.4472e-01],\n",
              "           ...,\n",
              "           [1.5363e-01, 9.6740e-01, 6.8988e-02,  ..., 4.3285e-01,\n",
              "            5.8656e-01, 4.4647e-01],\n",
              "           [6.3774e-01, 7.9847e-01, 6.3635e-01,  ..., 3.7989e-01,\n",
              "            6.3786e-01, 6.3800e-01],\n",
              "           [9.6739e-01, 7.2601e-01, 5.2191e-01,  ..., 4.4422e-01,\n",
              "            9.5879e-01, 8.4294e-01]],\n",
              "\n",
              "          ...,\n",
              "\n",
              "          [[7.7137e-01, 3.7940e-01, 4.3345e-01,  ..., 6.2169e-01,\n",
              "            3.7339e-01, 1.0542e-01],\n",
              "           [8.4357e-01, 6.4447e-01, 6.2338e-01,  ..., 8.9825e-01,\n",
              "            4.2931e-01, 7.0967e-01],\n",
              "           [3.9387e-04, 4.1573e-02, 4.2363e-02,  ..., 1.1891e-01,\n",
              "            6.3932e-01, 5.3888e-02],\n",
              "           ...,\n",
              "           [7.1802e-02, 8.2718e-01, 2.7090e-01,  ..., 7.3586e-01,\n",
              "            1.9591e-01, 5.9535e-01],\n",
              "           [1.5473e-01, 3.2898e-01, 3.0095e-01,  ..., 2.4992e-02,\n",
              "            7.6028e-01, 8.8888e-01],\n",
              "           [3.7314e-01, 1.7127e-01, 1.5442e-01,  ..., 6.1826e-01,\n",
              "            5.0916e-01, 3.4993e-02]],\n",
              "\n",
              "          [[9.3419e-01, 1.2612e-01, 9.0278e-01,  ..., 9.4134e-01,\n",
              "            2.8706e-01, 1.9722e-01],\n",
              "           [5.0561e-01, 5.5220e-02, 4.9441e-01,  ..., 7.4220e-01,\n",
              "            8.3772e-01, 5.4275e-01],\n",
              "           [1.4279e-01, 6.8770e-01, 6.6970e-01,  ..., 3.2073e-01,\n",
              "            9.8009e-02, 1.0090e-01],\n",
              "           ...,\n",
              "           [1.5412e-01, 7.5805e-02, 8.8615e-01,  ..., 1.4489e-01,\n",
              "            1.5368e-01, 2.0354e-01],\n",
              "           [6.4290e-01, 7.9574e-01, 4.5904e-01,  ..., 9.7746e-01,\n",
              "            6.7503e-01, 7.2238e-02],\n",
              "           [3.0318e-02, 6.8687e-01, 5.2117e-01,  ..., 1.2501e-01,\n",
              "            1.3267e-01, 7.9973e-01]],\n",
              "\n",
              "          [[3.7633e-01, 6.4218e-01, 6.1149e-01,  ..., 4.4095e-02,\n",
              "            4.1036e-01, 9.9722e-01],\n",
              "           [8.3893e-01, 9.3163e-01, 5.4155e-02,  ..., 3.9665e-02,\n",
              "            2.1839e-01, 5.1972e-01],\n",
              "           [2.3921e-01, 6.1305e-02, 5.6203e-01,  ..., 2.0230e-01,\n",
              "            9.5693e-01, 4.4529e-01],\n",
              "           ...,\n",
              "           [8.4938e-01, 5.2228e-01, 7.5998e-01,  ..., 7.2602e-01,\n",
              "            7.7326e-01, 5.9263e-01],\n",
              "           [2.1794e-01, 7.8427e-01, 1.4172e-01,  ..., 5.8908e-01,\n",
              "            9.9780e-02, 2.7879e-01],\n",
              "           [5.3419e-01, 7.4479e-01, 6.6642e-01,  ..., 4.5536e-01,\n",
              "            4.7935e-01, 1.6775e-01]]],\n",
              "\n",
              "\n",
              "         [[[7.5196e-01, 6.0413e-01, 8.3673e-02,  ..., 5.4877e-01,\n",
              "            2.9824e-01, 6.7124e-01],\n",
              "           [1.7396e-01, 7.2996e-01, 9.8211e-01,  ..., 3.5070e-01,\n",
              "            6.5403e-01, 1.0234e-01],\n",
              "           [7.7141e-01, 5.8354e-01, 5.3152e-01,  ..., 6.3263e-01,\n",
              "            8.9379e-01, 2.4148e-01],\n",
              "           ...,\n",
              "           [7.0710e-01, 3.1617e-02, 1.2339e-01,  ..., 5.2881e-01,\n",
              "            1.4985e-01, 2.3281e-01],\n",
              "           [9.3362e-01, 8.7459e-01, 1.0174e-01,  ..., 1.4230e-01,\n",
              "            6.0018e-01, 9.9288e-01],\n",
              "           [8.8126e-01, 8.1750e-02, 7.6935e-01,  ..., 9.2215e-01,\n",
              "            4.0183e-01, 3.4054e-01]],\n",
              "\n",
              "          [[2.3456e-01, 6.9378e-01, 9.0841e-01,  ..., 2.4268e-01,\n",
              "            7.3441e-02, 3.2796e-01],\n",
              "           [4.0283e-02, 5.7055e-01, 7.5777e-02,  ..., 6.9053e-01,\n",
              "            5.1280e-01, 9.6245e-01],\n",
              "           [8.7425e-01, 7.6948e-01, 9.3029e-01,  ..., 4.0435e-01,\n",
              "            3.2708e-01, 1.4387e-01],\n",
              "           ...,\n",
              "           [9.8557e-01, 2.6531e-01, 7.0116e-01,  ..., 6.5536e-01,\n",
              "            3.1213e-01, 7.6264e-01],\n",
              "           [8.9615e-02, 4.9065e-01, 8.1883e-01,  ..., 8.6525e-01,\n",
              "            3.3682e-01, 5.1624e-01],\n",
              "           [5.5910e-01, 4.2430e-01, 6.6007e-01,  ..., 8.2045e-01,\n",
              "            3.5558e-01, 4.8325e-01]],\n",
              "\n",
              "          [[4.0885e-01, 3.3072e-01, 6.2049e-01,  ..., 3.2840e-01,\n",
              "            9.8245e-01, 4.1933e-01],\n",
              "           [5.4321e-01, 9.1089e-01, 9.8705e-01,  ..., 4.7446e-01,\n",
              "            9.6233e-01, 3.9106e-01],\n",
              "           [6.1049e-01, 6.7787e-01, 4.7682e-01,  ..., 6.6536e-02,\n",
              "            6.1528e-01, 6.6325e-01],\n",
              "           ...,\n",
              "           [4.1155e-01, 1.7918e-01, 2.0541e-01,  ..., 7.3981e-01,\n",
              "            3.8088e-01, 8.9617e-01],\n",
              "           [3.9928e-01, 9.1718e-01, 9.9696e-01,  ..., 5.8466e-01,\n",
              "            7.9168e-01, 3.7673e-01],\n",
              "           [1.2887e-01, 3.1803e-01, 9.4799e-01,  ..., 6.7528e-01,\n",
              "            6.3298e-01, 4.9800e-01]],\n",
              "\n",
              "          ...,\n",
              "\n",
              "          [[5.1295e-01, 4.0672e-01, 5.6634e-01,  ..., 1.7012e-01,\n",
              "            2.0376e-01, 1.0638e-01],\n",
              "           [9.7406e-01, 3.5747e-01, 3.8195e-01,  ..., 3.5788e-01,\n",
              "            7.4018e-01, 4.6518e-01],\n",
              "           [3.6444e-01, 2.0494e-01, 8.3036e-01,  ..., 6.7912e-01,\n",
              "            3.2357e-01, 2.5892e-01],\n",
              "           ...,\n",
              "           [3.0123e-01, 8.4153e-01, 9.3089e-02,  ..., 9.9395e-01,\n",
              "            7.2937e-01, 1.7407e-01],\n",
              "           [1.2359e-01, 1.2640e-01, 8.5333e-01,  ..., 2.9442e-01,\n",
              "            3.1081e-02, 6.6216e-01],\n",
              "           [4.9785e-01, 2.3292e-01, 2.0660e-01,  ..., 8.9327e-01,\n",
              "            2.1381e-02, 4.3047e-01]],\n",
              "\n",
              "          [[7.7965e-02, 8.9822e-01, 3.5918e-01,  ..., 4.3123e-01,\n",
              "            3.6366e-01, 5.2782e-01],\n",
              "           [8.9049e-01, 4.1606e-01, 2.6077e-01,  ..., 6.3089e-01,\n",
              "            5.0292e-01, 8.6806e-01],\n",
              "           [9.7772e-01, 7.0109e-01, 2.9109e-03,  ..., 4.2045e-01,\n",
              "            8.5373e-01, 9.0207e-01],\n",
              "           ...,\n",
              "           [9.3794e-02, 1.8783e-01, 9.0589e-01,  ..., 6.0369e-01,\n",
              "            7.3700e-02, 2.9177e-02],\n",
              "           [6.9685e-01, 6.6535e-01, 9.3262e-01,  ..., 5.2752e-01,\n",
              "            4.8414e-01, 3.4781e-01],\n",
              "           [9.5058e-01, 5.9323e-01, 7.8009e-01,  ..., 4.8005e-02,\n",
              "            3.7905e-01, 1.6336e-01]],\n",
              "\n",
              "          [[3.4238e-01, 1.1872e-01, 4.3508e-01,  ..., 2.7471e-01,\n",
              "            1.6040e-01, 2.6473e-01],\n",
              "           [5.9123e-01, 3.8747e-01, 1.8239e-01,  ..., 6.3213e-01,\n",
              "            7.8303e-01, 4.9720e-01],\n",
              "           [7.6787e-01, 8.4600e-01, 1.5999e-01,  ..., 6.2831e-03,\n",
              "            8.0101e-01, 9.0637e-01],\n",
              "           ...,\n",
              "           [5.7190e-01, 6.3913e-01, 6.8207e-01,  ..., 2.0734e-01,\n",
              "            7.6298e-01, 4.7548e-01],\n",
              "           [4.5339e-01, 5.7354e-02, 2.3942e-01,  ..., 3.2843e-01,\n",
              "            8.8889e-01, 1.2963e-01],\n",
              "           [2.4825e-01, 3.6582e-02, 4.0148e-01,  ..., 1.0974e-01,\n",
              "            2.2663e-01, 1.4978e-01]]],\n",
              "\n",
              "\n",
              "         ...,\n",
              "\n",
              "\n",
              "         [[[9.1130e-01, 6.2687e-01, 1.9885e-01,  ..., 2.7682e-01,\n",
              "            4.6166e-01, 2.2768e-01],\n",
              "           [3.8828e-01, 8.5632e-01, 2.4886e-01,  ..., 2.0564e-01,\n",
              "            1.0433e-01, 8.4767e-01],\n",
              "           [2.2083e-01, 6.2137e-01, 8.0970e-01,  ..., 7.1669e-01,\n",
              "            1.1625e-01, 8.9511e-01],\n",
              "           ...,\n",
              "           [4.7969e-01, 4.0632e-01, 3.2565e-01,  ..., 8.9279e-01,\n",
              "            2.5986e-01, 1.7729e-02],\n",
              "           [2.1456e-01, 8.8297e-01, 7.4392e-01,  ..., 3.6433e-02,\n",
              "            8.1655e-01, 1.3084e-01],\n",
              "           [5.9596e-01, 1.4567e-01, 3.5099e-01,  ..., 9.0731e-01,\n",
              "            1.8261e-01, 6.6965e-01]],\n",
              "\n",
              "          [[6.0661e-02, 9.8190e-01, 4.3370e-01,  ..., 9.5067e-01,\n",
              "            7.2525e-01, 7.8598e-01],\n",
              "           [7.2704e-01, 8.9480e-02, 4.3520e-01,  ..., 5.6454e-01,\n",
              "            7.7349e-01, 4.6587e-01],\n",
              "           [2.8999e-01, 3.0871e-01, 9.0374e-01,  ..., 8.1125e-01,\n",
              "            1.2818e-01, 3.1985e-01],\n",
              "           ...,\n",
              "           [5.0606e-01, 4.9566e-01, 6.4492e-01,  ..., 5.4838e-01,\n",
              "            8.3147e-01, 5.4013e-01],\n",
              "           [4.0093e-01, 9.3591e-01, 8.1554e-01,  ..., 5.4746e-01,\n",
              "            4.5831e-01, 7.9451e-01],\n",
              "           [9.8296e-01, 4.4483e-01, 6.5853e-01,  ..., 6.4656e-01,\n",
              "            7.9122e-01, 3.8113e-01]],\n",
              "\n",
              "          [[3.5337e-01, 2.2458e-01, 8.8453e-01,  ..., 1.3874e-01,\n",
              "            8.5316e-02, 5.4687e-01],\n",
              "           [5.3842e-01, 9.1849e-01, 9.3356e-01,  ..., 2.1640e-01,\n",
              "            2.7977e-02, 3.2561e-01],\n",
              "           [1.0885e-01, 6.9138e-02, 3.5136e-01,  ..., 3.8310e-01,\n",
              "            9.9688e-01, 6.4687e-01],\n",
              "           ...,\n",
              "           [4.3121e-01, 4.8383e-02, 3.6949e-01,  ..., 7.3989e-01,\n",
              "            7.2292e-01, 1.0096e-01],\n",
              "           [7.4788e-01, 3.5814e-01, 2.4430e-01,  ..., 1.5426e-01,\n",
              "            3.5223e-01, 2.4824e-01],\n",
              "           [5.7485e-01, 6.5296e-01, 5.0778e-01,  ..., 9.0676e-01,\n",
              "            5.2295e-01, 1.8137e-01]],\n",
              "\n",
              "          ...,\n",
              "\n",
              "          [[6.7284e-01, 4.3923e-01, 5.3720e-01,  ..., 1.6507e-01,\n",
              "            2.1476e-01, 1.3096e-01],\n",
              "           [1.5861e-01, 5.7067e-01, 1.4491e-01,  ..., 3.9197e-01,\n",
              "            9.7666e-01, 4.9418e-01],\n",
              "           [2.5109e-01, 5.4415e-01, 6.8571e-02,  ..., 3.2956e-01,\n",
              "            6.6659e-01, 3.8868e-01],\n",
              "           ...,\n",
              "           [5.1111e-01, 1.5275e-01, 2.0903e-01,  ..., 3.2137e-02,\n",
              "            9.5922e-01, 6.1601e-01],\n",
              "           [6.5283e-01, 3.1747e-01, 8.5511e-01,  ..., 5.1012e-01,\n",
              "            9.7361e-01, 1.7772e-02],\n",
              "           [8.5503e-01, 4.3244e-01, 4.8246e-02,  ..., 4.5274e-01,\n",
              "            3.2548e-01, 8.8070e-01]],\n",
              "\n",
              "          [[5.8837e-01, 7.1410e-02, 6.1356e-01,  ..., 8.5484e-01,\n",
              "            6.0391e-01, 4.3976e-01],\n",
              "           [8.2424e-01, 1.3974e-01, 8.7625e-01,  ..., 6.1389e-01,\n",
              "            1.6129e-01, 9.4856e-01],\n",
              "           [4.5177e-01, 6.1323e-01, 6.0374e-01,  ..., 7.6779e-01,\n",
              "            3.4345e-01, 7.6852e-01],\n",
              "           ...,\n",
              "           [9.8439e-01, 7.7372e-01, 7.6897e-01,  ..., 2.5251e-02,\n",
              "            6.9114e-01, 2.0873e-01],\n",
              "           [3.7263e-01, 1.1883e-01, 6.4129e-01,  ..., 2.4294e-01,\n",
              "            5.5377e-01, 5.3023e-01],\n",
              "           [6.0671e-01, 5.1141e-01, 6.9534e-03,  ..., 7.8983e-01,\n",
              "            4.2004e-01, 6.5702e-01]],\n",
              "\n",
              "          [[5.1739e-01, 6.1305e-01, 5.1352e-01,  ..., 6.7599e-01,\n",
              "            5.5286e-01, 9.4278e-01],\n",
              "           [8.2293e-01, 1.5728e-01, 7.2135e-01,  ..., 8.6833e-01,\n",
              "            5.2780e-01, 5.8355e-01],\n",
              "           [1.0695e-01, 1.9008e-02, 9.6283e-01,  ..., 5.9942e-01,\n",
              "            7.7485e-01, 4.9027e-02],\n",
              "           ...,\n",
              "           [2.9728e-01, 2.4494e-01, 8.7282e-01,  ..., 9.8080e-01,\n",
              "            6.5481e-01, 6.7703e-01],\n",
              "           [4.6344e-01, 1.8715e-01, 2.4515e-01,  ..., 6.2193e-02,\n",
              "            1.6781e-01, 2.4069e-01],\n",
              "           [8.8077e-01, 7.5605e-01, 3.2573e-01,  ..., 8.0361e-01,\n",
              "            9.8820e-01, 7.2532e-01]]],\n",
              "\n",
              "\n",
              "         [[[6.7638e-01, 5.9505e-01, 5.8513e-01,  ..., 5.0986e-01,\n",
              "            3.6636e-01, 6.3037e-01],\n",
              "           [9.1013e-01, 9.1032e-01, 2.8610e-01,  ..., 5.3233e-01,\n",
              "            3.6323e-01, 1.6385e-01],\n",
              "           [7.3288e-01, 6.4101e-01, 3.4923e-01,  ..., 5.6877e-01,\n",
              "            8.5475e-01, 3.6510e-01],\n",
              "           ...,\n",
              "           [3.0480e-01, 9.2319e-01, 2.2495e-01,  ..., 1.1702e-01,\n",
              "            2.0313e-01, 5.6739e-01],\n",
              "           [8.4986e-02, 6.7027e-01, 5.4478e-01,  ..., 4.4274e-01,\n",
              "            2.3447e-02, 5.6321e-01],\n",
              "           [2.2900e-01, 9.2803e-01, 4.2163e-01,  ..., 2.8795e-01,\n",
              "            6.8855e-01, 5.9661e-01]],\n",
              "\n",
              "          [[7.1715e-01, 4.6550e-01, 4.3992e-01,  ..., 1.3269e-01,\n",
              "            2.0470e-01, 1.3576e-01],\n",
              "           [6.9999e-01, 4.7105e-01, 9.7337e-01,  ..., 5.2617e-01,\n",
              "            1.4919e-01, 7.2459e-01],\n",
              "           [4.8844e-01, 8.2725e-01, 6.2514e-01,  ..., 9.7931e-01,\n",
              "            4.6517e-01, 1.1492e-01],\n",
              "           ...,\n",
              "           [4.5311e-01, 5.5582e-01, 3.3805e-01,  ..., 7.1370e-01,\n",
              "            5.8893e-01, 1.0567e-01],\n",
              "           [6.0491e-01, 9.2813e-01, 2.3883e-01,  ..., 6.3740e-01,\n",
              "            4.6505e-02, 8.1220e-02],\n",
              "           [8.3856e-01, 1.0141e-01, 2.6624e-01,  ..., 4.3726e-01,\n",
              "            7.5265e-01, 7.3193e-01]],\n",
              "\n",
              "          [[3.4183e-01, 3.6996e-01, 2.3178e-01,  ..., 9.4895e-02,\n",
              "            2.2627e-01, 9.9956e-01],\n",
              "           [4.1437e-01, 8.9331e-01, 5.4539e-01,  ..., 8.3858e-01,\n",
              "            4.9788e-01, 1.3258e-01],\n",
              "           [4.2084e-01, 6.5663e-01, 6.1002e-01,  ..., 8.2036e-02,\n",
              "            3.0420e-02, 2.4952e-01],\n",
              "           ...,\n",
              "           [3.4121e-01, 7.7640e-01, 1.8080e-01,  ..., 7.3147e-01,\n",
              "            7.6191e-01, 8.3802e-01],\n",
              "           [3.5426e-01, 2.0822e-01, 7.6441e-01,  ..., 7.6471e-01,\n",
              "            8.2632e-01, 2.9869e-01],\n",
              "           [9.7616e-01, 8.2177e-01, 6.3089e-01,  ..., 3.2252e-01,\n",
              "            4.9874e-01, 8.4130e-01]],\n",
              "\n",
              "          ...,\n",
              "\n",
              "          [[1.9015e-01, 3.0730e-01, 9.4699e-01,  ..., 9.4756e-01,\n",
              "            3.0570e-01, 3.1037e-01],\n",
              "           [6.6171e-01, 6.6840e-01, 9.3371e-01,  ..., 1.2968e-01,\n",
              "            7.6704e-01, 8.6963e-01],\n",
              "           [1.4425e-01, 3.4075e-01, 3.0591e-01,  ..., 5.3321e-02,\n",
              "            7.2726e-01, 2.0722e-01],\n",
              "           ...,\n",
              "           [6.1128e-02, 6.8060e-01, 4.8629e-01,  ..., 9.9125e-01,\n",
              "            4.9762e-01, 8.3130e-01],\n",
              "           [9.3471e-01, 9.1304e-01, 5.0475e-01,  ..., 1.3548e-01,\n",
              "            3.6510e-01, 7.7019e-01],\n",
              "           [9.8000e-01, 4.9878e-01, 7.3539e-01,  ..., 7.8069e-02,\n",
              "            1.0645e-01, 7.3869e-01]],\n",
              "\n",
              "          [[7.1206e-01, 8.4194e-01, 8.3390e-01,  ..., 6.5732e-01,\n",
              "            7.9325e-01, 2.1624e-01],\n",
              "           [2.9116e-02, 3.3153e-02, 8.7221e-01,  ..., 6.9297e-01,\n",
              "            2.2324e-01, 4.7156e-01],\n",
              "           [6.0674e-01, 9.6025e-01, 9.8560e-01,  ..., 5.6983e-01,\n",
              "            8.4324e-01, 7.1216e-01],\n",
              "           ...,\n",
              "           [7.3150e-01, 5.3171e-01, 6.8797e-01,  ..., 3.8780e-01,\n",
              "            7.4838e-01, 6.5911e-01],\n",
              "           [2.5710e-01, 2.1768e-01, 9.5365e-01,  ..., 3.3984e-01,\n",
              "            4.7216e-01, 6.8684e-01],\n",
              "           [9.7526e-01, 8.9319e-01, 2.9509e-01,  ..., 8.4857e-01,\n",
              "            4.3680e-01, 7.3938e-01]],\n",
              "\n",
              "          [[4.5954e-01, 6.5005e-01, 4.4876e-01,  ..., 6.4437e-01,\n",
              "            3.1036e-01, 4.7459e-02],\n",
              "           [8.3634e-01, 7.7034e-01, 2.7482e-01,  ..., 5.7913e-01,\n",
              "            5.8635e-01, 4.0089e-02],\n",
              "           [5.2155e-01, 1.3494e-02, 8.4056e-01,  ..., 4.5071e-01,\n",
              "            1.9128e-01, 4.4746e-01],\n",
              "           ...,\n",
              "           [1.0799e-02, 7.7139e-01, 5.6722e-01,  ..., 7.7172e-01,\n",
              "            2.9182e-01, 9.4938e-01],\n",
              "           [4.8671e-01, 8.0041e-01, 8.5328e-01,  ..., 2.2886e-01,\n",
              "            4.7977e-01, 9.1719e-01],\n",
              "           [7.1172e-02, 7.9611e-01, 4.5439e-01,  ..., 6.6724e-01,\n",
              "            4.6048e-01, 9.0517e-01]]],\n",
              "\n",
              "\n",
              "         [[[1.8066e-01, 3.6092e-01, 6.3840e-01,  ..., 4.3112e-01,\n",
              "            9.0359e-01, 9.3759e-01],\n",
              "           [8.4962e-01, 9.9362e-01, 6.1286e-01,  ..., 7.4344e-01,\n",
              "            4.4051e-01, 1.3923e-01],\n",
              "           [3.5713e-02, 9.7355e-03, 9.9781e-01,  ..., 9.6255e-01,\n",
              "            5.0948e-01, 9.7977e-01],\n",
              "           ...,\n",
              "           [6.4050e-01, 6.9337e-01, 4.4124e-01,  ..., 9.9123e-01,\n",
              "            2.8319e-01, 8.4182e-01],\n",
              "           [3.2601e-01, 9.8866e-01, 8.3737e-02,  ..., 4.6182e-01,\n",
              "            7.7992e-01, 9.2758e-01],\n",
              "           [2.2640e-01, 1.0120e-01, 2.0485e-01,  ..., 4.5608e-01,\n",
              "            4.5931e-01, 9.1115e-01]],\n",
              "\n",
              "          [[3.3709e-01, 7.6043e-01, 1.3624e-01,  ..., 4.8544e-02,\n",
              "            2.1602e-01, 7.3863e-01],\n",
              "           [6.0509e-01, 7.8392e-01, 6.2741e-01,  ..., 5.8070e-03,\n",
              "            6.9116e-01, 8.5807e-01],\n",
              "           [1.1519e-01, 1.2779e-01, 4.5122e-01,  ..., 5.8705e-01,\n",
              "            1.5892e-02, 7.3724e-01],\n",
              "           ...,\n",
              "           [8.3108e-01, 7.1146e-01, 7.4740e-01,  ..., 3.3059e-01,\n",
              "            2.1603e-01, 1.7457e-01],\n",
              "           [3.1449e-01, 9.9909e-01, 3.2173e-01,  ..., 7.3148e-02,\n",
              "            9.7798e-01, 6.1233e-01],\n",
              "           [4.7718e-01, 3.2262e-01, 2.7316e-01,  ..., 4.2751e-02,\n",
              "            6.5948e-01, 7.2336e-01]],\n",
              "\n",
              "          [[6.0773e-01, 4.5850e-01, 3.0631e-01,  ..., 9.3008e-01,\n",
              "            6.0268e-01, 6.4270e-03],\n",
              "           [2.7740e-01, 5.6559e-01, 5.7579e-01,  ..., 9.4341e-01,\n",
              "            7.7248e-01, 6.2275e-01],\n",
              "           [9.5447e-01, 3.4879e-03, 5.6878e-01,  ..., 3.3489e-01,\n",
              "            8.1147e-01, 9.0761e-01],\n",
              "           ...,\n",
              "           [2.1348e-01, 1.8840e-01, 1.8202e-01,  ..., 1.6797e-01,\n",
              "            5.6022e-01, 5.5172e-02],\n",
              "           [8.3011e-01, 1.8234e-01, 7.3202e-02,  ..., 4.0802e-01,\n",
              "            9.6264e-01, 1.9483e-01],\n",
              "           [5.4273e-01, 6.6828e-01, 5.0926e-01,  ..., 1.7274e-01,\n",
              "            7.6210e-01, 3.0680e-01]],\n",
              "\n",
              "          ...,\n",
              "\n",
              "          [[7.4220e-01, 5.1612e-01, 2.3857e-01,  ..., 1.3271e-01,\n",
              "            7.3029e-01, 5.9990e-01],\n",
              "           [3.0083e-01, 8.6940e-01, 3.9514e-01,  ..., 9.5724e-01,\n",
              "            7.7914e-01, 7.2183e-01],\n",
              "           [7.0484e-01, 1.8474e-01, 4.4016e-01,  ..., 2.8820e-01,\n",
              "            7.1443e-01, 1.8061e-01],\n",
              "           ...,\n",
              "           [1.8137e-01, 3.4702e-01, 8.4894e-01,  ..., 5.8092e-01,\n",
              "            8.0222e-01, 8.4269e-01],\n",
              "           [1.7438e-01, 7.8819e-01, 8.1480e-01,  ..., 5.1747e-02,\n",
              "            5.0881e-01, 1.0715e-01],\n",
              "           [7.9874e-01, 4.5467e-01, 1.9120e-01,  ..., 4.3841e-01,\n",
              "            8.8729e-02, 6.1870e-01]],\n",
              "\n",
              "          [[1.2920e-01, 3.6343e-01, 8.8241e-01,  ..., 1.8515e-01,\n",
              "            2.6355e-01, 4.5705e-04],\n",
              "           [5.8717e-01, 1.4206e-01, 5.1801e-01,  ..., 1.4424e-01,\n",
              "            1.5792e-02, 3.3376e-01],\n",
              "           [5.7567e-01, 3.7034e-01, 8.4398e-01,  ..., 7.7274e-01,\n",
              "            4.1166e-01, 5.1788e-01],\n",
              "           ...,\n",
              "           [4.2499e-01, 6.8268e-01, 9.7112e-01,  ..., 7.2877e-01,\n",
              "            9.1181e-02, 1.0674e-01],\n",
              "           [3.6845e-01, 7.5485e-01, 6.0323e-01,  ..., 6.0249e-01,\n",
              "            6.9181e-01, 8.4543e-01],\n",
              "           [8.4939e-01, 2.4117e-01, 9.2619e-01,  ..., 7.4703e-01,\n",
              "            5.2621e-01, 4.4308e-01]],\n",
              "\n",
              "          [[8.9615e-01, 8.6992e-01, 9.0150e-01,  ..., 9.6406e-01,\n",
              "            6.0151e-01, 1.7965e-02],\n",
              "           [3.6685e-01, 6.3701e-02, 8.1880e-01,  ..., 7.4764e-01,\n",
              "            7.0452e-01, 8.0367e-01],\n",
              "           [3.4680e-02, 4.9276e-01, 4.9661e-01,  ..., 4.5487e-01,\n",
              "            8.8172e-01, 6.9493e-01],\n",
              "           ...,\n",
              "           [9.2414e-01, 6.2397e-01, 8.6270e-01,  ..., 5.9497e-01,\n",
              "            8.5195e-01, 6.4672e-01],\n",
              "           [2.4722e-01, 2.5199e-01, 9.5673e-01,  ..., 6.5185e-01,\n",
              "            9.5209e-01, 2.8744e-01],\n",
              "           [2.9785e-01, 8.8756e-01, 7.7200e-01,  ..., 8.6105e-01,\n",
              "            6.0910e-01, 4.1569e-01]]]],\n",
              "\n",
              "\n",
              "\n",
              "        ...,\n",
              "\n",
              "\n",
              "\n",
              "        [[[[6.4799e-01, 1.5309e-01, 4.0228e-01,  ..., 5.7927e-01,\n",
              "            1.3296e-01, 5.8482e-01],\n",
              "           [4.0956e-01, 5.5641e-01, 9.9785e-01,  ..., 6.6041e-01,\n",
              "            7.7314e-01, 4.8081e-02],\n",
              "           [5.0857e-01, 3.5950e-01, 1.5136e-01,  ..., 3.1113e-02,\n",
              "            5.6571e-01, 6.0841e-01],\n",
              "           ...,\n",
              "           [5.3274e-01, 1.0276e-02, 4.1472e-01,  ..., 2.9306e-01,\n",
              "            2.8138e-01, 4.4684e-01],\n",
              "           [5.0121e-01, 2.0349e-01, 2.5233e-01,  ..., 1.9565e-01,\n",
              "            9.6407e-01, 4.1799e-01],\n",
              "           [3.0790e-02, 6.3439e-01, 7.9585e-01,  ..., 6.0866e-01,\n",
              "            4.5960e-01, 5.4263e-01]],\n",
              "\n",
              "          [[3.4950e-01, 8.9218e-01, 7.4677e-01,  ..., 9.1445e-01,\n",
              "            1.6421e-01, 3.8230e-01],\n",
              "           [3.5098e-02, 7.8451e-01, 8.4790e-01,  ..., 1.7453e-01,\n",
              "            7.4128e-01, 1.3123e-01],\n",
              "           [5.3122e-01, 6.3735e-01, 5.0299e-01,  ..., 3.9176e-01,\n",
              "            9.0549e-01, 2.8331e-02],\n",
              "           ...,\n",
              "           [9.7910e-01, 3.0664e-01, 7.5165e-01,  ..., 8.0542e-01,\n",
              "            3.4293e-01, 8.6968e-01],\n",
              "           [8.3372e-01, 6.2910e-01, 7.5167e-01,  ..., 7.5154e-01,\n",
              "            7.7270e-01, 4.8239e-01],\n",
              "           [3.8332e-01, 2.6720e-01, 5.8426e-01,  ..., 4.8851e-01,\n",
              "            3.9919e-01, 5.1709e-01]],\n",
              "\n",
              "          [[4.8090e-01, 4.1926e-01, 7.1296e-01,  ..., 6.2938e-01,\n",
              "            7.9130e-01, 2.3365e-01],\n",
              "           [1.6598e-02, 8.9569e-01, 2.5287e-03,  ..., 6.3865e-01,\n",
              "            3.5324e-01, 7.5720e-01],\n",
              "           [8.2821e-03, 3.7472e-02, 7.6325e-01,  ..., 3.5359e-01,\n",
              "            4.0938e-01, 3.8041e-01],\n",
              "           ...,\n",
              "           [7.9346e-01, 1.2953e-01, 8.6403e-01,  ..., 8.8587e-01,\n",
              "            4.8733e-01, 1.0737e-01],\n",
              "           [3.1984e-01, 8.4501e-02, 8.5164e-01,  ..., 4.4382e-01,\n",
              "            1.1552e-01, 3.4467e-01],\n",
              "           [4.5735e-01, 8.9151e-01, 8.6943e-01,  ..., 6.3962e-01,\n",
              "            5.8516e-01, 3.4173e-01]],\n",
              "\n",
              "          ...,\n",
              "\n",
              "          [[4.6278e-01, 4.6192e-01, 8.5647e-01,  ..., 1.3422e-01,\n",
              "            8.9247e-01, 4.6746e-01],\n",
              "           [1.6998e-01, 1.6760e-01, 9.6714e-01,  ..., 7.2502e-01,\n",
              "            2.4857e-01, 6.9109e-01],\n",
              "           [6.5247e-01, 2.3059e-01, 8.7579e-01,  ..., 3.6127e-01,\n",
              "            5.4338e-01, 5.7492e-01],\n",
              "           ...,\n",
              "           [5.2239e-01, 5.6886e-01, 4.6864e-02,  ..., 3.9421e-01,\n",
              "            9.5447e-01, 6.6070e-01],\n",
              "           [9.0943e-01, 9.2507e-01, 9.1465e-01,  ..., 1.0495e-01,\n",
              "            4.0917e-01, 3.5565e-01],\n",
              "           [1.4026e-01, 3.6661e-01, 3.8551e-01,  ..., 8.8906e-01,\n",
              "            7.1805e-01, 7.9141e-01]],\n",
              "\n",
              "          [[1.0115e-01, 3.7812e-01, 1.7532e-01,  ..., 3.6168e-03,\n",
              "            4.5581e-01, 9.0145e-02],\n",
              "           [7.6722e-01, 1.0410e-01, 6.3107e-01,  ..., 8.0763e-01,\n",
              "            3.2810e-02, 6.8740e-01],\n",
              "           [7.5738e-01, 5.6444e-01, 3.9117e-01,  ..., 1.7229e-01,\n",
              "            4.6912e-01, 9.1112e-01],\n",
              "           ...,\n",
              "           [7.2329e-01, 3.7910e-01, 4.1217e-01,  ..., 1.7710e-01,\n",
              "            9.9817e-01, 2.8348e-01],\n",
              "           [4.5293e-01, 8.9902e-01, 5.2295e-01,  ..., 7.2222e-01,\n",
              "            7.8332e-01, 5.0132e-01],\n",
              "           [2.3486e-01, 5.3775e-01, 7.4184e-01,  ..., 7.9890e-01,\n",
              "            2.7355e-01, 1.8640e-02]],\n",
              "\n",
              "          [[5.4928e-01, 1.9167e-01, 6.0580e-01,  ..., 3.7363e-01,\n",
              "            1.3625e-01, 8.9397e-01],\n",
              "           [8.0967e-01, 5.7116e-01, 5.9204e-02,  ..., 1.3022e-01,\n",
              "            8.8041e-02, 9.1030e-01],\n",
              "           [2.1983e-02, 4.2419e-01, 7.3531e-01,  ..., 1.8956e-01,\n",
              "            9.9104e-01, 4.9030e-01],\n",
              "           ...,\n",
              "           [6.3217e-01, 1.7748e-01, 1.9758e-02,  ..., 6.5786e-01,\n",
              "            2.9737e-01, 9.5591e-01],\n",
              "           [3.6892e-01, 2.8474e-01, 5.6871e-01,  ..., 9.9296e-01,\n",
              "            6.9180e-01, 8.0866e-01],\n",
              "           [1.9556e-01, 6.6080e-01, 6.9308e-01,  ..., 3.9816e-02,\n",
              "            3.7241e-01, 7.3520e-01]]],\n",
              "\n",
              "\n",
              "         [[[9.5956e-01, 2.2994e-01, 1.9571e-01,  ..., 8.8730e-01,\n",
              "            9.8616e-01, 1.7922e-01],\n",
              "           [6.3413e-01, 5.7702e-01, 5.2650e-01,  ..., 8.7149e-01,\n",
              "            2.8893e-02, 9.1747e-02],\n",
              "           [8.7198e-01, 2.3209e-01, 2.1750e-01,  ..., 1.5353e-01,\n",
              "            6.3592e-01, 7.0610e-02],\n",
              "           ...,\n",
              "           [1.5118e-01, 9.7658e-01, 7.2448e-01,  ..., 6.6868e-02,\n",
              "            6.7525e-01, 5.5093e-01],\n",
              "           [8.5892e-01, 2.3724e-01, 1.3981e-02,  ..., 8.7285e-02,\n",
              "            2.1849e-01, 2.0555e-01],\n",
              "           [5.2447e-01, 2.0522e-01, 2.5107e-01,  ..., 2.5954e-01,\n",
              "            2.1642e-01, 7.2906e-01]],\n",
              "\n",
              "          [[3.2655e-01, 7.7919e-01, 8.8649e-01,  ..., 2.9790e-01,\n",
              "            8.1789e-02, 4.4222e-01],\n",
              "           [6.6566e-01, 4.5198e-01, 1.0960e-01,  ..., 9.0167e-01,\n",
              "            6.7287e-01, 9.4612e-01],\n",
              "           [2.2835e-01, 5.4230e-01, 7.8604e-01,  ..., 3.5684e-01,\n",
              "            3.6812e-01, 9.3038e-01],\n",
              "           ...,\n",
              "           [1.7661e-01, 3.1515e-01, 5.5141e-02,  ..., 3.8569e-01,\n",
              "            5.6694e-01, 5.6831e-01],\n",
              "           [7.9399e-01, 5.8596e-01, 7.0061e-01,  ..., 7.5196e-02,\n",
              "            7.5058e-01, 6.9666e-01],\n",
              "           [8.2765e-01, 5.8276e-01, 4.4014e-01,  ..., 9.6378e-01,\n",
              "            4.0275e-02, 6.4941e-01]],\n",
              "\n",
              "          [[4.3287e-01, 2.4247e-01, 1.4877e-01,  ..., 9.4179e-01,\n",
              "            1.0675e-01, 8.9317e-02],\n",
              "           [4.2823e-02, 5.4483e-01, 5.2220e-01,  ..., 2.7988e-01,\n",
              "            5.9600e-01, 7.8391e-02],\n",
              "           [8.3316e-01, 6.6688e-02, 3.3437e-01,  ..., 2.1874e-01,\n",
              "            3.6490e-01, 2.0976e-01],\n",
              "           ...,\n",
              "           [8.6528e-01, 2.4101e-01, 1.5430e-01,  ..., 8.6587e-01,\n",
              "            2.7714e-01, 1.5546e-01],\n",
              "           [1.2247e-01, 5.9846e-01, 4.8011e-01,  ..., 4.8077e-01,\n",
              "            8.6057e-01, 7.3228e-01],\n",
              "           [9.0876e-01, 1.9367e-01, 9.8650e-01,  ..., 4.0296e-02,\n",
              "            3.7209e-01, 3.9602e-01]],\n",
              "\n",
              "          ...,\n",
              "\n",
              "          [[8.6787e-01, 6.5366e-02, 7.9853e-01,  ..., 5.3914e-01,\n",
              "            9.9603e-01, 9.3790e-01],\n",
              "           [2.2212e-01, 6.8191e-01, 1.1407e-01,  ..., 1.3117e-01,\n",
              "            3.3838e-01, 5.0058e-01],\n",
              "           [1.6723e-01, 3.6109e-01, 6.2913e-02,  ..., 7.9460e-01,\n",
              "            2.1309e-01, 4.0112e-01],\n",
              "           ...,\n",
              "           [4.1444e-03, 6.7991e-01, 2.9999e-01,  ..., 4.9606e-01,\n",
              "            9.5677e-01, 3.4138e-01],\n",
              "           [9.3688e-01, 1.0869e-02, 5.1127e-01,  ..., 6.2480e-01,\n",
              "            7.8309e-01, 6.5919e-01],\n",
              "           [5.3559e-01, 6.0841e-01, 1.7455e-01,  ..., 4.5189e-01,\n",
              "            4.4794e-01, 7.3233e-01]],\n",
              "\n",
              "          [[6.2480e-01, 5.2659e-02, 2.1875e-01,  ..., 7.5638e-01,\n",
              "            2.8193e-01, 7.7859e-01],\n",
              "           [4.8827e-01, 3.0338e-01, 9.3221e-01,  ..., 7.5520e-01,\n",
              "            1.8040e-01, 5.5508e-01],\n",
              "           [9.0071e-02, 8.7609e-02, 2.1734e-01,  ..., 9.5943e-01,\n",
              "            9.3009e-01, 2.0621e-01],\n",
              "           ...,\n",
              "           [7.0208e-01, 4.7620e-01, 9.6272e-01,  ..., 3.7173e-01,\n",
              "            8.5334e-01, 2.7002e-01],\n",
              "           [5.5527e-01, 1.4656e-01, 1.8249e-01,  ..., 8.4920e-01,\n",
              "            7.9867e-01, 6.0536e-01],\n",
              "           [5.5001e-01, 5.8626e-01, 7.5725e-01,  ..., 4.5661e-01,\n",
              "            2.2213e-01, 2.3909e-01]],\n",
              "\n",
              "          [[3.7237e-01, 5.9938e-01, 5.8407e-02,  ..., 5.9204e-01,\n",
              "            1.8923e-01, 3.8168e-02],\n",
              "           [6.2601e-01, 6.4860e-01, 8.3192e-01,  ..., 8.9331e-01,\n",
              "            5.7561e-01, 9.9384e-01],\n",
              "           [9.9311e-03, 1.8923e-01, 6.5467e-02,  ..., 2.1047e-01,\n",
              "            3.0420e-01, 6.9841e-01],\n",
              "           ...,\n",
              "           [5.4111e-01, 2.2737e-01, 9.5544e-02,  ..., 9.4185e-01,\n",
              "            5.4620e-01, 6.2620e-01],\n",
              "           [3.5793e-01, 4.2071e-01, 2.8474e-01,  ..., 1.7217e-01,\n",
              "            6.1427e-01, 6.0101e-01],\n",
              "           [6.0679e-02, 5.8239e-01, 8.1301e-01,  ..., 8.6530e-01,\n",
              "            9.9126e-01, 4.4017e-02]]],\n",
              "\n",
              "\n",
              "         [[[6.4469e-01, 9.8278e-02, 4.3631e-02,  ..., 3.4482e-01,\n",
              "            5.9853e-02, 7.6609e-01],\n",
              "           [4.5828e-01, 4.4139e-01, 8.0021e-01,  ..., 3.6235e-01,\n",
              "            9.1095e-01, 5.1577e-01],\n",
              "           [1.7664e-01, 6.5127e-01, 6.5636e-01,  ..., 7.2763e-01,\n",
              "            9.8322e-01, 7.9130e-01],\n",
              "           ...,\n",
              "           [6.1286e-01, 3.9347e-01, 7.2078e-01,  ..., 4.9262e-01,\n",
              "            2.0087e-02, 6.5069e-01],\n",
              "           [9.4415e-01, 8.6351e-01, 1.9084e-02,  ..., 5.3098e-01,\n",
              "            7.0636e-01, 9.0741e-01],\n",
              "           [4.6371e-01, 6.0009e-01, 5.7610e-01,  ..., 7.5409e-01,\n",
              "            2.9130e-01, 8.0718e-01]],\n",
              "\n",
              "          [[9.3886e-01, 7.2592e-01, 9.8028e-01,  ..., 1.2755e-01,\n",
              "            5.7896e-01, 2.0781e-01],\n",
              "           [4.3013e-02, 6.0148e-02, 6.4513e-01,  ..., 5.5190e-01,\n",
              "            5.4594e-02, 5.2673e-01],\n",
              "           [5.0551e-01, 1.6385e-01, 5.6026e-01,  ..., 7.3458e-01,\n",
              "            5.7493e-01, 3.0689e-01],\n",
              "           ...,\n",
              "           [3.3587e-02, 9.3725e-01, 5.9232e-01,  ..., 5.8603e-02,\n",
              "            4.0965e-01, 4.0853e-01],\n",
              "           [5.9236e-01, 5.3172e-02, 1.4091e-01,  ..., 3.2029e-01,\n",
              "            7.1141e-01, 8.7588e-01],\n",
              "           [1.0782e-01, 7.8798e-01, 5.2140e-02,  ..., 3.6188e-02,\n",
              "            1.9054e-01, 8.7622e-01]],\n",
              "\n",
              "          [[8.2194e-01, 1.2483e-01, 1.9300e-01,  ..., 1.1249e-02,\n",
              "            3.3623e-01, 9.6089e-01],\n",
              "           [4.7251e-01, 1.3737e-01, 3.3078e-01,  ..., 2.2117e-02,\n",
              "            2.3121e-01, 5.4405e-01],\n",
              "           [5.6256e-01, 4.4552e-01, 4.2448e-01,  ..., 9.7787e-02,\n",
              "            7.6429e-01, 5.0538e-01],\n",
              "           ...,\n",
              "           [8.0230e-01, 4.6027e-01, 8.5768e-01,  ..., 6.4308e-01,\n",
              "            3.6356e-01, 5.5932e-02],\n",
              "           [6.3859e-01, 8.5044e-01, 9.9978e-01,  ..., 8.2713e-01,\n",
              "            3.7925e-01, 5.6539e-01],\n",
              "           [8.2303e-01, 8.9380e-01, 9.1504e-01,  ..., 2.8919e-01,\n",
              "            1.3372e-02, 3.1922e-01]],\n",
              "\n",
              "          ...,\n",
              "\n",
              "          [[3.0376e-01, 4.7141e-01, 6.4853e-02,  ..., 1.4935e-01,\n",
              "            5.6209e-01, 1.0600e-01],\n",
              "           [9.4225e-01, 7.0345e-01, 4.3105e-01,  ..., 2.1320e-01,\n",
              "            7.0348e-01, 6.7698e-01],\n",
              "           [4.8985e-01, 2.3122e-01, 6.7620e-01,  ..., 6.5661e-01,\n",
              "            9.8626e-01, 8.8110e-01],\n",
              "           ...,\n",
              "           [4.0538e-01, 3.0577e-02, 8.8401e-02,  ..., 6.0391e-01,\n",
              "            3.5595e-01, 4.9763e-02],\n",
              "           [1.0170e-01, 5.2267e-01, 5.6409e-01,  ..., 7.5454e-01,\n",
              "            1.0096e-01, 4.5315e-03],\n",
              "           [7.3755e-01, 2.4400e-01, 3.9707e-01,  ..., 1.3951e-01,\n",
              "            3.5457e-01, 6.8054e-01]],\n",
              "\n",
              "          [[6.9477e-01, 9.1862e-01, 2.5123e-01,  ..., 3.4887e-04,\n",
              "            6.4397e-01, 3.5684e-01],\n",
              "           [3.1594e-01, 1.7022e-02, 1.0496e-01,  ..., 1.7977e-01,\n",
              "            9.0562e-01, 6.1352e-01],\n",
              "           [7.5954e-01, 6.6453e-01, 4.9839e-01,  ..., 5.0766e-01,\n",
              "            2.4838e-01, 7.5032e-01],\n",
              "           ...,\n",
              "           [6.7751e-02, 4.7386e-01, 1.7852e-01,  ..., 6.7697e-01,\n",
              "            4.8591e-01, 5.0033e-01],\n",
              "           [2.6022e-01, 7.7487e-01, 7.3507e-01,  ..., 4.9122e-01,\n",
              "            3.1936e-01, 6.1741e-01],\n",
              "           [4.6410e-01, 9.8865e-01, 5.4395e-01,  ..., 6.8808e-01,\n",
              "            7.8022e-01, 5.9208e-02]],\n",
              "\n",
              "          [[5.1520e-02, 7.3250e-01, 6.8540e-01,  ..., 8.3404e-01,\n",
              "            4.1260e-01, 3.0830e-01],\n",
              "           [6.9115e-01, 6.3050e-01, 2.4194e-01,  ..., 1.2292e-01,\n",
              "            7.1609e-01, 6.7723e-01],\n",
              "           [2.1451e-01, 4.7217e-01, 2.7159e-02,  ..., 8.0759e-01,\n",
              "            5.0394e-01, 6.2741e-01],\n",
              "           ...,\n",
              "           [8.6399e-01, 9.2288e-01, 5.4036e-01,  ..., 5.0055e-01,\n",
              "            3.6379e-01, 1.6324e-01],\n",
              "           [6.1101e-01, 6.0057e-01, 2.2492e-02,  ..., 5.9317e-01,\n",
              "            5.7383e-01, 9.7709e-01],\n",
              "           [8.7507e-02, 1.5749e-01, 8.1588e-01,  ..., 5.6052e-01,\n",
              "            6.0483e-01, 1.4168e-01]]],\n",
              "\n",
              "\n",
              "         ...,\n",
              "\n",
              "\n",
              "         [[[1.9187e-01, 9.6377e-02, 5.4578e-01,  ..., 8.5037e-01,\n",
              "            2.8119e-01, 3.2444e-02],\n",
              "           [1.1073e-01, 2.0836e-01, 4.8845e-01,  ..., 7.1163e-01,\n",
              "            5.7436e-01, 5.9194e-01],\n",
              "           [4.4191e-01, 6.1928e-01, 9.4157e-01,  ..., 7.8741e-02,\n",
              "            4.3173e-02, 5.8693e-01],\n",
              "           ...,\n",
              "           [8.7938e-01, 1.0140e-01, 1.9840e-01,  ..., 3.0876e-01,\n",
              "            9.6997e-01, 4.6566e-01],\n",
              "           [6.7470e-01, 4.7905e-01, 4.6267e-02,  ..., 1.9887e-01,\n",
              "            1.9413e-01, 8.0821e-01],\n",
              "           [8.2555e-01, 2.5441e-01, 5.9643e-01,  ..., 3.5251e-01,\n",
              "            5.9651e-01, 1.5554e-01]],\n",
              "\n",
              "          [[7.2812e-01, 5.3678e-02, 7.6627e-01,  ..., 8.8318e-01,\n",
              "            7.0316e-01, 5.1487e-01],\n",
              "           [5.0566e-01, 9.1564e-01, 6.6209e-01,  ..., 2.2094e-01,\n",
              "            4.1439e-01, 9.0816e-01],\n",
              "           [8.9021e-01, 4.3466e-02, 2.6269e-01,  ..., 7.6312e-01,\n",
              "            5.4020e-01, 1.2123e-01],\n",
              "           ...,\n",
              "           [1.1889e-01, 2.0276e-02, 3.0852e-01,  ..., 7.5944e-01,\n",
              "            8.3837e-01, 9.9238e-01],\n",
              "           [2.3019e-01, 4.2320e-01, 3.8919e-01,  ..., 9.5378e-01,\n",
              "            1.3251e-02, 3.4180e-01],\n",
              "           [2.1052e-01, 4.6810e-01, 3.7032e-01,  ..., 5.9041e-01,\n",
              "            6.3726e-01, 7.9057e-02]],\n",
              "\n",
              "          [[5.3608e-01, 5.2748e-01, 9.0126e-01,  ..., 8.2715e-01,\n",
              "            5.0813e-01, 7.6242e-01],\n",
              "           [6.8436e-01, 8.7945e-01, 6.8049e-01,  ..., 9.1647e-01,\n",
              "            3.7182e-01, 1.9020e-01],\n",
              "           [4.9421e-01, 2.4831e-01, 1.3886e-01,  ..., 3.6120e-02,\n",
              "            2.1982e-01, 8.8288e-01],\n",
              "           ...,\n",
              "           [3.8789e-01, 6.2469e-01, 9.5152e-01,  ..., 6.8501e-01,\n",
              "            7.0300e-01, 9.9782e-01],\n",
              "           [7.3511e-01, 2.8089e-01, 6.4189e-01,  ..., 4.1672e-01,\n",
              "            8.5856e-01, 8.6317e-01],\n",
              "           [4.4198e-02, 3.8742e-01, 5.7732e-01,  ..., 3.4184e-01,\n",
              "            9.2886e-01, 5.4992e-01]],\n",
              "\n",
              "          ...,\n",
              "\n",
              "          [[7.9833e-01, 7.8897e-01, 4.0794e-01,  ..., 9.2788e-02,\n",
              "            4.1351e-01, 9.5541e-01],\n",
              "           [7.2950e-01, 3.2179e-01, 4.6575e-02,  ..., 6.4736e-01,\n",
              "            8.9553e-01, 1.3790e-01],\n",
              "           [4.9395e-01, 9.7171e-02, 5.1260e-01,  ..., 1.2877e-01,\n",
              "            8.9353e-01, 9.2560e-01],\n",
              "           ...,\n",
              "           [7.2487e-02, 3.7984e-01, 6.2681e-01,  ..., 4.6805e-01,\n",
              "            5.0276e-01, 5.8594e-01],\n",
              "           [9.5172e-01, 2.6450e-01, 3.8602e-01,  ..., 5.0098e-01,\n",
              "            8.6029e-01, 2.9650e-01],\n",
              "           [9.5927e-01, 8.8694e-01, 2.4101e-01,  ..., 1.5368e-01,\n",
              "            5.8641e-01, 1.3317e-01]],\n",
              "\n",
              "          [[8.5006e-01, 6.2040e-01, 2.6539e-01,  ..., 9.8989e-01,\n",
              "            8.1946e-01, 7.2564e-01],\n",
              "           [4.4743e-01, 9.8520e-01, 3.3674e-01,  ..., 1.7083e-01,\n",
              "            6.3528e-01, 6.2422e-01],\n",
              "           [5.2816e-01, 8.0191e-01, 1.2344e-01,  ..., 8.3360e-01,\n",
              "            2.2198e-01, 4.1690e-02],\n",
              "           ...,\n",
              "           [5.2281e-01, 9.2000e-01, 8.8014e-01,  ..., 7.1572e-01,\n",
              "            3.5123e-01, 5.1468e-01],\n",
              "           [9.5567e-01, 2.0474e-03, 6.7734e-01,  ..., 6.2442e-01,\n",
              "            5.9162e-01, 6.9072e-01],\n",
              "           [9.9230e-02, 4.2902e-01, 6.4521e-03,  ..., 1.2082e-01,\n",
              "            1.2126e-01, 3.6120e-02]],\n",
              "\n",
              "          [[8.7716e-01, 9.7926e-01, 2.3513e-01,  ..., 6.4810e-02,\n",
              "            7.5563e-02, 4.1234e-01],\n",
              "           [7.9850e-01, 3.6298e-01, 9.0902e-01,  ..., 5.4680e-01,\n",
              "            7.4692e-01, 8.0528e-01],\n",
              "           [5.8864e-01, 6.4429e-01, 6.9171e-01,  ..., 1.0756e-01,\n",
              "            7.7595e-01, 8.8462e-01],\n",
              "           ...,\n",
              "           [8.8287e-01, 9.3106e-01, 1.0727e-01,  ..., 8.4565e-01,\n",
              "            2.6163e-01, 9.3311e-01],\n",
              "           [8.6743e-01, 1.9071e-01, 9.5485e-01,  ..., 2.7873e-02,\n",
              "            9.3208e-02, 8.6727e-01],\n",
              "           [9.2744e-01, 4.5902e-01, 2.8606e-01,  ..., 6.7329e-01,\n",
              "            7.1076e-01, 9.7415e-01]]],\n",
              "\n",
              "\n",
              "         [[[1.1683e-01, 9.9570e-01, 7.1551e-01,  ..., 4.6991e-01,\n",
              "            9.9640e-01, 4.5858e-01],\n",
              "           [2.7753e-01, 6.9018e-02, 4.3598e-01,  ..., 6.3753e-01,\n",
              "            1.3157e-01, 3.2190e-01],\n",
              "           [2.0494e-01, 3.6677e-01, 3.2061e-01,  ..., 9.4291e-01,\n",
              "            6.5149e-01, 7.7095e-01],\n",
              "           ...,\n",
              "           [8.2075e-01, 4.7961e-01, 1.0652e-01,  ..., 6.7024e-01,\n",
              "            9.0896e-01, 4.1221e-01],\n",
              "           [2.2801e-01, 8.8960e-02, 7.2359e-01,  ..., 3.9778e-01,\n",
              "            7.2401e-01, 2.2750e-01],\n",
              "           [3.5807e-01, 6.8302e-01, 3.9462e-01,  ..., 9.0543e-02,\n",
              "            6.6957e-01, 9.1004e-01]],\n",
              "\n",
              "          [[3.4757e-01, 9.6965e-01, 2.0705e-01,  ..., 6.6337e-01,\n",
              "            4.5992e-01, 1.2716e-01],\n",
              "           [2.2069e-01, 9.0181e-02, 6.5441e-01,  ..., 6.4378e-01,\n",
              "            8.5212e-01, 4.0304e-01],\n",
              "           [3.4509e-01, 3.3831e-01, 5.3753e-01,  ..., 7.8032e-01,\n",
              "            4.3407e-01, 1.4119e-01],\n",
              "           ...,\n",
              "           [6.3520e-01, 6.8062e-01, 8.6000e-01,  ..., 6.7301e-01,\n",
              "            4.1912e-01, 2.4085e-01],\n",
              "           [2.6059e-01, 7.3072e-01, 7.0617e-01,  ..., 2.2533e-01,\n",
              "            5.4861e-01, 5.3276e-01],\n",
              "           [2.2198e-01, 7.9524e-01, 9.3431e-01,  ..., 9.9606e-01,\n",
              "            3.2453e-01, 5.4448e-01]],\n",
              "\n",
              "          [[8.4221e-01, 1.3928e-01, 9.3245e-02,  ..., 3.9112e-01,\n",
              "            2.2091e-01, 9.8073e-01],\n",
              "           [9.3697e-01, 2.9634e-01, 5.0273e-01,  ..., 7.8412e-01,\n",
              "            8.1070e-01, 9.7368e-03],\n",
              "           [9.0295e-01, 6.3984e-01, 7.7053e-01,  ..., 3.9551e-01,\n",
              "            7.0269e-02, 4.0249e-01],\n",
              "           ...,\n",
              "           [9.4949e-01, 6.4996e-01, 2.2679e-02,  ..., 7.9481e-01,\n",
              "            9.5812e-01, 6.3899e-01],\n",
              "           [9.1779e-01, 8.5667e-03, 1.7274e-01,  ..., 9.0874e-01,\n",
              "            6.1702e-03, 7.8010e-01],\n",
              "           [4.5408e-01, 5.5048e-01, 9.5185e-01,  ..., 5.9028e-01,\n",
              "            2.6397e-01, 7.4156e-01]],\n",
              "\n",
              "          ...,\n",
              "\n",
              "          [[7.5583e-01, 3.3800e-01, 1.6599e-02,  ..., 5.9645e-01,\n",
              "            2.5249e-01, 2.0612e-01],\n",
              "           [5.2394e-01, 3.2652e-01, 2.5453e-01,  ..., 1.6939e-01,\n",
              "            5.8792e-01, 6.1109e-01],\n",
              "           [1.2221e-01, 9.0363e-01, 4.9319e-02,  ..., 8.6469e-01,\n",
              "            5.9515e-01, 5.0594e-01],\n",
              "           ...,\n",
              "           [2.2669e-01, 2.1014e-03, 5.2620e-01,  ..., 4.1563e-01,\n",
              "            5.2829e-01, 1.3622e-01],\n",
              "           [5.2168e-02, 7.9134e-01, 1.6322e-01,  ..., 1.9672e-01,\n",
              "            7.6416e-01, 9.3397e-01],\n",
              "           [8.8606e-01, 2.9999e-01, 6.4293e-01,  ..., 2.9446e-01,\n",
              "            4.9662e-01, 7.5502e-01]],\n",
              "\n",
              "          [[8.1219e-01, 8.5187e-01, 2.0372e-01,  ..., 3.0946e-01,\n",
              "            6.6129e-01, 3.1157e-01],\n",
              "           [7.0857e-01, 2.2190e-01, 4.3052e-01,  ..., 9.4706e-01,\n",
              "            1.9052e-02, 4.3739e-01],\n",
              "           [7.7614e-01, 6.9661e-01, 3.5517e-01,  ..., 4.5861e-01,\n",
              "            6.1301e-01, 4.2956e-01],\n",
              "           ...,\n",
              "           [2.8805e-01, 6.2375e-01, 6.6103e-02,  ..., 4.8146e-01,\n",
              "            6.0477e-01, 6.5129e-01],\n",
              "           [5.5625e-01, 1.6801e-01, 4.4423e-01,  ..., 3.0120e-02,\n",
              "            1.4454e-01, 2.1654e-01],\n",
              "           [8.8875e-01, 1.7938e-01, 6.0413e-01,  ..., 3.9137e-02,\n",
              "            4.6121e-01, 4.5309e-01]],\n",
              "\n",
              "          [[7.6256e-01, 4.8268e-01, 9.7747e-01,  ..., 1.7648e-01,\n",
              "            9.4168e-01, 5.4990e-01],\n",
              "           [1.6826e-01, 1.6279e-01, 2.3308e-01,  ..., 3.4195e-01,\n",
              "            9.2107e-01, 9.1761e-01],\n",
              "           [4.5504e-01, 1.7002e-01, 1.5882e-01,  ..., 5.2143e-01,\n",
              "            8.0167e-01, 6.7259e-01],\n",
              "           ...,\n",
              "           [2.6577e-01, 5.7454e-01, 4.4427e-01,  ..., 5.3279e-01,\n",
              "            4.4081e-01, 1.9842e-01],\n",
              "           [9.0072e-01, 6.5772e-01, 6.6175e-01,  ..., 1.2802e-01,\n",
              "            9.9814e-01, 5.7972e-01],\n",
              "           [8.7126e-01, 5.4901e-01, 6.4687e-01,  ..., 2.5730e-01,\n",
              "            3.7306e-01, 5.4616e-01]]],\n",
              "\n",
              "\n",
              "         [[[3.5566e-01, 1.8127e-01, 1.0878e-01,  ..., 5.1865e-01,\n",
              "            4.0366e-01, 6.0068e-01],\n",
              "           [9.8114e-01, 6.0544e-01, 8.9934e-01,  ..., 9.2331e-02,\n",
              "            8.9506e-01, 6.2827e-01],\n",
              "           [8.9692e-01, 8.3805e-01, 8.6237e-01,  ..., 3.5209e-01,\n",
              "            7.3111e-01, 3.7498e-01],\n",
              "           ...,\n",
              "           [6.5914e-01, 2.0961e-01, 1.9067e-01,  ..., 1.5986e-01,\n",
              "            8.8863e-01, 9.5400e-01],\n",
              "           [9.5321e-01, 7.1172e-02, 5.4797e-01,  ..., 8.6039e-01,\n",
              "            7.3581e-01, 6.1385e-01],\n",
              "           [4.2371e-01, 5.9765e-01, 8.0081e-01,  ..., 1.3027e-02,\n",
              "            9.7722e-01, 9.5836e-01]],\n",
              "\n",
              "          [[6.2497e-01, 7.9429e-01, 3.1742e-02,  ..., 1.9768e-01,\n",
              "            4.8616e-01, 3.9574e-01],\n",
              "           [5.6792e-01, 2.2443e-01, 7.9654e-01,  ..., 9.2472e-01,\n",
              "            3.7666e-01, 4.6409e-01],\n",
              "           [3.5926e-01, 6.5949e-01, 9.5517e-01,  ..., 5.4043e-01,\n",
              "            9.1677e-02, 7.6248e-01],\n",
              "           ...,\n",
              "           [9.1895e-01, 1.8149e-01, 1.3377e-01,  ..., 4.3161e-01,\n",
              "            7.6242e-01, 4.8117e-01],\n",
              "           [7.5370e-01, 2.5016e-01, 8.7424e-01,  ..., 7.9341e-01,\n",
              "            2.5281e-01, 9.1351e-01],\n",
              "           [1.4886e-01, 9.8750e-02, 2.9171e-01,  ..., 7.2746e-01,\n",
              "            7.4560e-01, 8.3122e-01]],\n",
              "\n",
              "          [[7.0944e-01, 1.2851e-01, 3.4052e-01,  ..., 3.5008e-01,\n",
              "            6.5456e-01, 7.5809e-01],\n",
              "           [8.1010e-01, 1.3117e-01, 7.0798e-01,  ..., 9.7518e-01,\n",
              "            4.8864e-01, 8.6824e-01],\n",
              "           [1.8888e-01, 8.4590e-01, 2.8504e-01,  ..., 4.8468e-01,\n",
              "            6.3759e-01, 5.2329e-01],\n",
              "           ...,\n",
              "           [3.9248e-01, 2.3376e-01, 9.5406e-01,  ..., 5.2419e-02,\n",
              "            2.8800e-01, 4.9914e-01],\n",
              "           [8.8179e-01, 2.8707e-01, 5.8466e-01,  ..., 8.7385e-01,\n",
              "            2.5573e-01, 9.1260e-01],\n",
              "           [9.1971e-01, 5.2663e-01, 3.1962e-01,  ..., 4.2492e-01,\n",
              "            9.2411e-01, 9.3354e-01]],\n",
              "\n",
              "          ...,\n",
              "\n",
              "          [[5.7621e-01, 3.6500e-01, 9.5250e-01,  ..., 3.4234e-03,\n",
              "            9.0430e-01, 6.9912e-01],\n",
              "           [7.0321e-01, 2.1032e-01, 4.3781e-01,  ..., 4.6172e-01,\n",
              "            6.9538e-03, 6.8964e-01],\n",
              "           [1.2882e-01, 4.5879e-02, 2.1359e-01,  ..., 8.9214e-01,\n",
              "            2.3468e-01, 9.9564e-02],\n",
              "           ...,\n",
              "           [2.4481e-01, 8.7090e-01, 3.9739e-01,  ..., 4.5798e-01,\n",
              "            1.8134e-01, 5.3024e-02],\n",
              "           [1.8434e-02, 5.0278e-01, 9.8027e-02,  ..., 6.0832e-01,\n",
              "            1.5702e-01, 6.7270e-01],\n",
              "           [2.0143e-01, 7.5339e-01, 6.5622e-01,  ..., 9.1457e-01,\n",
              "            8.4837e-01, 7.0540e-01]],\n",
              "\n",
              "          [[2.3677e-01, 7.5992e-01, 6.4000e-01,  ..., 9.2228e-01,\n",
              "            1.4902e-01, 4.8262e-01],\n",
              "           [1.5078e-01, 6.9882e-01, 8.8897e-01,  ..., 4.7435e-01,\n",
              "            7.2026e-01, 6.8976e-01],\n",
              "           [5.7268e-01, 1.5508e-01, 2.8509e-01,  ..., 6.5739e-01,\n",
              "            5.2596e-01, 3.0326e-01],\n",
              "           ...,\n",
              "           [7.7470e-01, 5.8024e-02, 9.2805e-01,  ..., 4.5341e-03,\n",
              "            6.4631e-01, 8.6429e-01],\n",
              "           [7.2634e-01, 7.0078e-01, 3.0245e-01,  ..., 3.9614e-01,\n",
              "            6.3796e-01, 2.1390e-01],\n",
              "           [1.8554e-01, 6.3257e-01, 2.3506e-01,  ..., 6.0895e-01,\n",
              "            3.1840e-01, 2.1156e-01]],\n",
              "\n",
              "          [[9.5532e-01, 8.9161e-01, 1.4531e-01,  ..., 2.7377e-01,\n",
              "            7.4663e-01, 8.3148e-01],\n",
              "           [8.0012e-01, 2.1776e-01, 1.2922e-01,  ..., 5.5952e-01,\n",
              "            6.9946e-01, 3.0680e-02],\n",
              "           [1.2583e-01, 2.9780e-02, 5.6908e-02,  ..., 6.7227e-01,\n",
              "            9.7480e-01, 6.1799e-02],\n",
              "           ...,\n",
              "           [2.0488e-01, 9.4600e-02, 1.4454e-01,  ..., 8.3916e-01,\n",
              "            1.1082e-01, 9.8354e-01],\n",
              "           [5.3213e-01, 4.9459e-01, 1.0331e-01,  ..., 4.2448e-01,\n",
              "            2.8799e-01, 6.7264e-01],\n",
              "           [7.2443e-02, 5.8058e-01, 9.4497e-01,  ..., 9.4622e-01,\n",
              "            7.3852e-01, 7.6128e-01]]]],\n",
              "\n",
              "\n",
              "\n",
              "        [[[[2.0781e-01, 2.1588e-01, 4.9635e-01,  ..., 6.3792e-01,\n",
              "            6.8632e-01, 9.5285e-01],\n",
              "           [9.9431e-01, 8.0813e-01, 3.1998e-01,  ..., 8.9488e-01,\n",
              "            6.7776e-01, 6.2718e-01],\n",
              "           [8.3403e-01, 1.9252e-01, 9.3236e-01,  ..., 9.3721e-01,\n",
              "            8.1976e-02, 4.2292e-01],\n",
              "           ...,\n",
              "           [7.1097e-01, 7.5065e-01, 7.7324e-02,  ..., 6.3998e-01,\n",
              "            4.2970e-01, 5.2917e-01],\n",
              "           [2.7505e-01, 6.8634e-01, 9.9143e-01,  ..., 3.7454e-01,\n",
              "            5.5291e-01, 6.5303e-01],\n",
              "           [4.4724e-01, 8.7997e-02, 1.6713e-01,  ..., 7.5085e-01,\n",
              "            4.6791e-01, 6.6194e-01]],\n",
              "\n",
              "          [[1.1395e-01, 2.2758e-02, 9.0984e-01,  ..., 7.1830e-01,\n",
              "            4.8159e-01, 2.7276e-01],\n",
              "           [1.0371e-01, 7.6704e-01, 6.3587e-01,  ..., 9.1152e-01,\n",
              "            6.5858e-01, 8.1896e-01],\n",
              "           [3.8859e-01, 7.6449e-01, 1.8208e-01,  ..., 1.7858e-01,\n",
              "            4.1455e-01, 6.5806e-01],\n",
              "           ...,\n",
              "           [4.5358e-01, 9.0354e-01, 5.1082e-01,  ..., 2.3017e-01,\n",
              "            5.0394e-01, 5.4965e-01],\n",
              "           [7.4086e-01, 4.7761e-01, 7.9019e-01,  ..., 3.5000e-01,\n",
              "            4.1563e-01, 7.9742e-01],\n",
              "           [2.2957e-01, 8.3510e-01, 7.4176e-01,  ..., 5.4778e-01,\n",
              "            6.2943e-01, 8.7290e-01]],\n",
              "\n",
              "          [[6.2635e-02, 9.3708e-01, 1.3688e-01,  ..., 1.5880e-02,\n",
              "            6.8775e-01, 1.0374e-01],\n",
              "           [5.0282e-01, 3.4917e-01, 6.4029e-01,  ..., 8.6959e-01,\n",
              "            9.5034e-01, 7.6111e-01],\n",
              "           [7.0787e-01, 3.5476e-01, 8.6369e-01,  ..., 5.4382e-01,\n",
              "            8.9748e-01, 3.5193e-01],\n",
              "           ...,\n",
              "           [1.4253e-01, 2.9416e-02, 5.5889e-01,  ..., 4.8457e-01,\n",
              "            9.8087e-01, 8.8059e-02],\n",
              "           [6.2389e-01, 4.6669e-01, 9.1248e-01,  ..., 2.0854e-01,\n",
              "            9.4263e-01, 8.7853e-01],\n",
              "           [4.2938e-01, 6.2864e-01, 6.5707e-01,  ..., 6.4870e-01,\n",
              "            9.8562e-02, 1.6943e-01]],\n",
              "\n",
              "          ...,\n",
              "\n",
              "          [[2.5622e-01, 3.7563e-01, 2.4455e-02,  ..., 1.4217e-01,\n",
              "            3.8622e-01, 5.5613e-01],\n",
              "           [9.9605e-01, 7.3258e-01, 3.7537e-01,  ..., 7.3839e-01,\n",
              "            5.5696e-01, 7.3673e-02],\n",
              "           [4.9926e-02, 9.7344e-01, 3.1719e-01,  ..., 6.0902e-01,\n",
              "            5.0469e-01, 4.0589e-01],\n",
              "           ...,\n",
              "           [1.9562e-01, 5.9413e-01, 7.6384e-01,  ..., 3.7183e-01,\n",
              "            2.6571e-02, 7.8145e-01],\n",
              "           [3.5200e-01, 3.7875e-01, 4.0974e-02,  ..., 3.6144e-01,\n",
              "            2.7210e-01, 4.1980e-01],\n",
              "           [8.6614e-01, 8.3816e-01, 9.5353e-01,  ..., 9.4952e-01,\n",
              "            2.8303e-01, 9.1634e-01]],\n",
              "\n",
              "          [[5.6223e-01, 5.0743e-01, 1.8669e-01,  ..., 8.1705e-01,\n",
              "            7.6513e-01, 3.4490e-01],\n",
              "           [5.4125e-01, 5.5948e-01, 9.4579e-01,  ..., 4.6846e-01,\n",
              "            2.7098e-01, 6.1404e-01],\n",
              "           [1.8968e-01, 6.7830e-01, 3.2456e-01,  ..., 9.2575e-01,\n",
              "            1.3922e-01, 3.5721e-01],\n",
              "           ...,\n",
              "           [6.3862e-02, 9.2161e-01, 8.1493e-01,  ..., 4.3499e-01,\n",
              "            4.5894e-01, 6.0918e-01],\n",
              "           [1.4739e-01, 3.6617e-01, 6.4438e-01,  ..., 2.6533e-01,\n",
              "            1.4004e-02, 3.6754e-01],\n",
              "           [5.3504e-01, 6.2667e-01, 7.9685e-01,  ..., 4.1049e-01,\n",
              "            5.0745e-01, 1.1570e-02]],\n",
              "\n",
              "          [[9.0979e-02, 9.6010e-01, 2.7699e-01,  ..., 6.1973e-01,\n",
              "            8.6358e-01, 6.7844e-01],\n",
              "           [7.1508e-02, 9.5888e-01, 9.9465e-01,  ..., 8.1404e-01,\n",
              "            5.9117e-01, 8.1578e-01],\n",
              "           [5.1183e-02, 7.6658e-01, 1.5863e-01,  ..., 7.5932e-01,\n",
              "            8.6671e-03, 5.2949e-01],\n",
              "           ...,\n",
              "           [1.2639e-02, 3.1014e-02, 9.9974e-01,  ..., 2.5728e-01,\n",
              "            2.1585e-01, 6.0042e-01],\n",
              "           [6.0688e-01, 4.5956e-01, 2.5966e-01,  ..., 4.0637e-01,\n",
              "            4.0781e-01, 3.6954e-01],\n",
              "           [6.2809e-01, 2.5247e-01, 9.8632e-01,  ..., 6.3942e-01,\n",
              "            8.8848e-01, 1.7151e-02]]],\n",
              "\n",
              "\n",
              "         [[[5.0126e-01, 1.5258e-01, 8.9225e-01,  ..., 3.8649e-01,\n",
              "            5.9296e-01, 1.2260e-01],\n",
              "           [6.2622e-01, 2.6766e-01, 4.4850e-01,  ..., 1.5686e-01,\n",
              "            1.9883e-02, 1.0888e-01],\n",
              "           [8.2019e-01, 5.6635e-01, 2.8333e-01,  ..., 9.2889e-02,\n",
              "            8.2163e-01, 5.7332e-01],\n",
              "           ...,\n",
              "           [6.9040e-01, 5.1603e-01, 7.4456e-01,  ..., 7.2144e-01,\n",
              "            4.8167e-01, 9.3532e-01],\n",
              "           [8.0334e-01, 7.9301e-01, 8.5799e-01,  ..., 5.4183e-01,\n",
              "            8.0439e-01, 7.6137e-01],\n",
              "           [1.7882e-01, 4.6218e-01, 8.5041e-01,  ..., 4.8219e-01,\n",
              "            1.0930e-01, 3.3289e-01]],\n",
              "\n",
              "          [[5.9161e-02, 4.8231e-01, 3.2635e-01,  ..., 2.9120e-01,\n",
              "            4.1101e-01, 1.2260e-01],\n",
              "           [8.6963e-01, 2.5400e-02, 2.8604e-01,  ..., 3.7784e-01,\n",
              "            3.0427e-02, 9.2665e-01],\n",
              "           [8.7185e-01, 3.6824e-01, 1.1591e-01,  ..., 2.9799e-01,\n",
              "            7.4802e-01, 8.6447e-02],\n",
              "           ...,\n",
              "           [1.4620e-01, 1.5836e-01, 1.0127e-02,  ..., 1.1439e-01,\n",
              "            8.3125e-03, 8.1430e-01],\n",
              "           [5.9428e-01, 2.5627e-01, 3.5657e-01,  ..., 6.6796e-02,\n",
              "            9.7435e-01, 7.3780e-01],\n",
              "           [4.5994e-01, 3.6468e-01, 8.5696e-01,  ..., 9.2742e-01,\n",
              "            7.3416e-01, 6.4391e-01]],\n",
              "\n",
              "          [[6.2871e-01, 4.5036e-01, 8.2591e-01,  ..., 3.7029e-01,\n",
              "            5.7529e-01, 9.5840e-01],\n",
              "           [5.5321e-01, 5.6351e-02, 6.6603e-01,  ..., 2.7595e-01,\n",
              "            9.4472e-02, 3.9579e-01],\n",
              "           [4.9190e-01, 4.0111e-01, 2.3131e-01,  ..., 6.6166e-01,\n",
              "            2.5602e-01, 8.4880e-01],\n",
              "           ...,\n",
              "           [7.0717e-01, 5.0045e-01, 6.5324e-01,  ..., 4.6575e-02,\n",
              "            1.6425e-01, 4.6635e-01],\n",
              "           [4.3854e-01, 7.2586e-01, 9.7776e-02,  ..., 9.9795e-01,\n",
              "            7.5844e-01, 5.4301e-01],\n",
              "           [5.8512e-01, 9.8554e-01, 5.3349e-01,  ..., 2.9025e-01,\n",
              "            3.3527e-01, 1.0428e-02]],\n",
              "\n",
              "          ...,\n",
              "\n",
              "          [[4.6557e-01, 9.8079e-02, 7.5904e-01,  ..., 6.4445e-01,\n",
              "            9.8904e-01, 4.0972e-01],\n",
              "           [4.2062e-03, 7.0999e-01, 6.5029e-01,  ..., 1.0869e-02,\n",
              "            3.8713e-02, 8.0228e-01],\n",
              "           [9.0591e-01, 3.9403e-01, 1.4476e-01,  ..., 7.1890e-01,\n",
              "            5.9391e-01, 1.1047e-01],\n",
              "           ...,\n",
              "           [8.9489e-03, 2.9132e-01, 4.1948e-01,  ..., 9.2702e-01,\n",
              "            5.5795e-01, 8.0161e-01],\n",
              "           [1.4853e-01, 3.6531e-01, 3.3527e-02,  ..., 7.2622e-01,\n",
              "            9.2452e-01, 5.9747e-01],\n",
              "           [4.4042e-02, 7.9644e-01, 5.1635e-01,  ..., 8.0291e-01,\n",
              "            3.4177e-01, 5.8127e-01]],\n",
              "\n",
              "          [[7.2905e-01, 5.5610e-01, 9.9818e-01,  ..., 4.7718e-01,\n",
              "            5.9039e-01, 5.4867e-01],\n",
              "           [6.8902e-02, 2.1730e-01, 4.4418e-01,  ..., 3.1737e-01,\n",
              "            3.2639e-01, 7.8037e-01],\n",
              "           [3.9411e-01, 2.1355e-01, 5.2070e-01,  ..., 8.0503e-01,\n",
              "            1.7725e-01, 7.0311e-01],\n",
              "           ...,\n",
              "           [1.9058e-01, 6.7250e-01, 2.3526e-01,  ..., 2.0879e-01,\n",
              "            5.2949e-01, 6.6212e-01],\n",
              "           [3.3123e-01, 9.9476e-01, 1.0854e-01,  ..., 9.0486e-01,\n",
              "            3.4466e-01, 1.3075e-01],\n",
              "           [9.3778e-01, 4.3342e-01, 8.8191e-01,  ..., 9.9712e-01,\n",
              "            2.0030e-01, 5.4687e-01]],\n",
              "\n",
              "          [[6.7389e-01, 1.0846e-01, 6.8635e-01,  ..., 3.8118e-01,\n",
              "            4.4312e-01, 3.6751e-01],\n",
              "           [5.5427e-01, 4.1858e-01, 1.5787e-01,  ..., 6.9488e-01,\n",
              "            2.6949e-01, 8.2033e-01],\n",
              "           [1.1062e-01, 7.8919e-01, 6.5738e-01,  ..., 7.0304e-03,\n",
              "            6.2695e-01, 6.1882e-01],\n",
              "           ...,\n",
              "           [6.4608e-01, 2.8416e-01, 3.6820e-01,  ..., 5.1473e-02,\n",
              "            1.1710e-01, 2.2558e-01],\n",
              "           [7.6258e-01, 5.3475e-01, 3.4984e-01,  ..., 4.2731e-01,\n",
              "            6.0300e-01, 3.0106e-01],\n",
              "           [6.5203e-01, 3.6694e-01, 5.8227e-01,  ..., 3.2748e-02,\n",
              "            2.0897e-01, 9.8214e-01]]],\n",
              "\n",
              "\n",
              "         [[[6.5555e-02, 4.3065e-01, 5.3171e-01,  ..., 9.2802e-01,\n",
              "            1.9324e-01, 6.8383e-01],\n",
              "           [3.6169e-01, 7.7844e-01, 5.5234e-01,  ..., 5.1206e-01,\n",
              "            8.4750e-01, 2.4925e-01],\n",
              "           [3.7741e-01, 1.7567e-01, 6.1638e-01,  ..., 8.5194e-01,\n",
              "            9.3603e-01, 4.1010e-01],\n",
              "           ...,\n",
              "           [9.7347e-02, 5.9621e-01, 2.9011e-02,  ..., 9.6003e-02,\n",
              "            1.0327e-01, 1.7951e-01],\n",
              "           [1.2245e-01, 2.0598e-01, 5.2414e-02,  ..., 3.5433e-01,\n",
              "            8.8817e-01, 6.9577e-01],\n",
              "           [9.5918e-01, 3.3503e-02, 2.6476e-02,  ..., 5.3609e-01,\n",
              "            8.9905e-01, 9.5295e-01]],\n",
              "\n",
              "          [[6.5587e-01, 5.0607e-01, 1.2110e-01,  ..., 9.3703e-01,\n",
              "            4.8925e-01, 1.9829e-02],\n",
              "           [5.3712e-01, 5.5255e-02, 4.4027e-01,  ..., 9.7538e-01,\n",
              "            1.7651e-01, 1.7883e-01],\n",
              "           [9.5957e-01, 2.9010e-01, 3.6646e-01,  ..., 5.5052e-01,\n",
              "            1.1532e-01, 8.4246e-01],\n",
              "           ...,\n",
              "           [7.1846e-01, 1.3679e-01, 7.1219e-01,  ..., 8.5564e-01,\n",
              "            1.0394e-01, 8.0004e-01],\n",
              "           [7.6959e-01, 4.0836e-01, 2.4760e-01,  ..., 6.1801e-01,\n",
              "            2.8008e-01, 6.4287e-01],\n",
              "           [5.4079e-01, 4.2776e-01, 3.9829e-02,  ..., 5.5200e-01,\n",
              "            7.3006e-01, 5.3788e-01]],\n",
              "\n",
              "          [[7.3329e-01, 7.8916e-01, 9.1945e-01,  ..., 7.0817e-01,\n",
              "            3.3527e-01, 2.6082e-01],\n",
              "           [6.0105e-01, 1.4091e-01, 2.0535e-01,  ..., 3.0883e-01,\n",
              "            6.6207e-01, 7.3543e-01],\n",
              "           [2.7025e-01, 9.0449e-01, 9.2140e-01,  ..., 6.6399e-01,\n",
              "            2.0976e-01, 7.7154e-01],\n",
              "           ...,\n",
              "           [9.3357e-01, 1.7604e-01, 7.1126e-02,  ..., 8.8255e-01,\n",
              "            2.2106e-01, 2.1600e-01],\n",
              "           [3.4232e-01, 8.9237e-01, 5.1380e-02,  ..., 3.3034e-01,\n",
              "            3.4527e-01, 2.9995e-01],\n",
              "           [6.0623e-01, 4.4004e-01, 5.4548e-02,  ..., 5.8642e-01,\n",
              "            3.0626e-01, 1.3728e-01]],\n",
              "\n",
              "          ...,\n",
              "\n",
              "          [[2.7639e-01, 3.5970e-01, 5.7706e-02,  ..., 5.1079e-01,\n",
              "            4.2493e-02, 8.8470e-02],\n",
              "           [8.8049e-01, 2.2655e-01, 3.2610e-01,  ..., 8.5430e-01,\n",
              "            6.1737e-01, 5.0707e-01],\n",
              "           [4.5986e-01, 2.5216e-01, 4.6383e-01,  ..., 1.1944e-02,\n",
              "            7.7286e-01, 9.1411e-01],\n",
              "           ...,\n",
              "           [6.5538e-01, 7.0912e-01, 1.0136e-01,  ..., 2.3919e-01,\n",
              "            8.3901e-01, 5.9172e-01],\n",
              "           [9.5614e-01, 9.7387e-01, 6.5355e-01,  ..., 9.0668e-01,\n",
              "            6.9317e-02, 6.3857e-01],\n",
              "           [7.3031e-01, 4.1541e-01, 3.4628e-01,  ..., 7.1668e-01,\n",
              "            2.9289e-01, 8.7731e-01]],\n",
              "\n",
              "          [[3.3236e-01, 9.5647e-01, 4.9748e-01,  ..., 1.7380e-01,\n",
              "            3.5078e-01, 4.9663e-01],\n",
              "           [1.8674e-01, 1.1072e-01, 8.1284e-01,  ..., 9.3616e-01,\n",
              "            9.6571e-01, 2.7087e-02],\n",
              "           [2.7757e-01, 8.1812e-01, 2.9692e-01,  ..., 6.9190e-01,\n",
              "            4.5442e-01, 6.8932e-01],\n",
              "           ...,\n",
              "           [8.2317e-01, 1.9193e-01, 6.1356e-01,  ..., 5.6579e-01,\n",
              "            6.9999e-01, 3.7006e-01],\n",
              "           [8.6614e-02, 3.0007e-01, 4.0884e-01,  ..., 4.1452e-02,\n",
              "            9.3470e-01, 8.5943e-01],\n",
              "           [2.1787e-01, 4.2883e-01, 1.3381e-02,  ..., 9.5922e-01,\n",
              "            8.2309e-01, 5.6890e-01]],\n",
              "\n",
              "          [[2.6874e-01, 1.8156e-01, 9.4601e-01,  ..., 2.5491e-01,\n",
              "            5.1036e-01, 9.5203e-01],\n",
              "           [3.3837e-01, 8.4874e-01, 2.5481e-01,  ..., 4.8673e-01,\n",
              "            3.6298e-01, 9.6649e-02],\n",
              "           [2.6021e-02, 4.0641e-01, 2.5560e-02,  ..., 9.8037e-01,\n",
              "            8.2253e-01, 8.6210e-01],\n",
              "           ...,\n",
              "           [4.1783e-01, 6.1485e-01, 4.5895e-02,  ..., 7.7410e-01,\n",
              "            2.3032e-01, 8.6382e-02],\n",
              "           [4.4923e-01, 8.1825e-01, 8.3479e-01,  ..., 3.7716e-01,\n",
              "            4.7064e-01, 6.2382e-01],\n",
              "           [1.4470e-01, 6.6119e-01, 9.3576e-01,  ..., 2.3532e-01,\n",
              "            1.0493e-01, 9.3057e-01]]],\n",
              "\n",
              "\n",
              "         ...,\n",
              "\n",
              "\n",
              "         [[[4.8829e-01, 3.2936e-01, 6.3702e-01,  ..., 2.8465e-01,\n",
              "            7.5109e-01, 1.6996e-01],\n",
              "           [8.5939e-01, 1.2717e-01, 4.0844e-01,  ..., 1.2812e-01,\n",
              "            7.9671e-01, 5.8104e-01],\n",
              "           [8.8885e-01, 6.6360e-01, 7.2471e-02,  ..., 4.1261e-01,\n",
              "            8.8677e-01, 1.4895e-01],\n",
              "           ...,\n",
              "           [4.8734e-01, 5.6384e-01, 1.3641e-01,  ..., 8.1690e-01,\n",
              "            9.6889e-01, 7.7431e-01],\n",
              "           [3.3542e-01, 7.6193e-01, 3.5564e-01,  ..., 2.2960e-01,\n",
              "            1.3164e-01, 2.2419e-01],\n",
              "           [1.9404e-01, 4.0926e-02, 8.4093e-01,  ..., 7.9378e-01,\n",
              "            2.6496e-02, 4.5350e-01]],\n",
              "\n",
              "          [[3.2887e-01, 2.3296e-01, 4.1259e-01,  ..., 7.8482e-01,\n",
              "            9.7231e-01, 9.7486e-01],\n",
              "           [3.1260e-01, 9.4036e-01, 9.2512e-01,  ..., 2.6876e-01,\n",
              "            2.1107e-01, 9.4848e-01],\n",
              "           [7.9537e-01, 7.1382e-01, 8.2775e-02,  ..., 4.6127e-01,\n",
              "            3.7477e-01, 9.4126e-01],\n",
              "           ...,\n",
              "           [7.0146e-01, 7.7665e-01, 1.9512e-01,  ..., 1.7719e-01,\n",
              "            2.0499e-01, 4.5803e-01],\n",
              "           [8.3324e-01, 1.5365e-02, 5.3832e-01,  ..., 5.1259e-01,\n",
              "            7.1260e-01, 8.7076e-01],\n",
              "           [8.4268e-01, 4.1775e-01, 5.1945e-01,  ..., 3.6165e-01,\n",
              "            4.5550e-01, 2.9762e-01]],\n",
              "\n",
              "          [[2.0925e-01, 3.5634e-01, 2.8885e-01,  ..., 1.4323e-01,\n",
              "            2.0867e-01, 6.4513e-02],\n",
              "           [7.8159e-01, 4.2425e-01, 4.2191e-01,  ..., 8.1788e-01,\n",
              "            4.8438e-01, 3.3081e-02],\n",
              "           [9.1485e-01, 7.7207e-01, 4.1469e-01,  ..., 4.7369e-01,\n",
              "            1.8722e-01, 4.9081e-01],\n",
              "           ...,\n",
              "           [1.7418e-01, 1.1408e-02, 9.4002e-01,  ..., 9.8933e-02,\n",
              "            4.1196e-01, 3.3404e-01],\n",
              "           [1.6433e-01, 3.2852e-01, 8.9567e-02,  ..., 1.4815e-01,\n",
              "            8.6898e-01, 1.5329e-01],\n",
              "           [3.0000e-01, 5.0015e-01, 8.8846e-01,  ..., 6.4209e-01,\n",
              "            4.2305e-01, 3.3206e-01]],\n",
              "\n",
              "          ...,\n",
              "\n",
              "          [[1.6510e-01, 3.7108e-01, 5.8099e-01,  ..., 2.3459e-01,\n",
              "            2.1092e-01, 7.8228e-01],\n",
              "           [2.4421e-01, 6.9373e-01, 7.0878e-01,  ..., 5.7162e-01,\n",
              "            3.8658e-01, 2.8772e-02],\n",
              "           [2.5259e-01, 7.8544e-01, 2.7414e-01,  ..., 4.1097e-01,\n",
              "            3.5480e-01, 6.6277e-01],\n",
              "           ...,\n",
              "           [9.1448e-02, 4.7932e-01, 5.8038e-01,  ..., 9.0165e-01,\n",
              "            4.3169e-01, 9.4180e-01],\n",
              "           [7.7365e-02, 9.6993e-01, 2.0173e-01,  ..., 6.0350e-01,\n",
              "            4.4084e-01, 9.8450e-01],\n",
              "           [2.8088e-01, 7.5237e-01, 1.6912e-01,  ..., 6.6107e-01,\n",
              "            8.9237e-01, 4.7005e-02]],\n",
              "\n",
              "          [[7.1179e-01, 5.1425e-01, 8.1989e-01,  ..., 6.9736e-01,\n",
              "            1.8057e-01, 4.1688e-01],\n",
              "           [8.7774e-01, 9.2776e-01, 2.4882e-01,  ..., 6.8486e-01,\n",
              "            8.8985e-01, 6.1168e-01],\n",
              "           [1.5513e-01, 8.8683e-01, 2.6755e-01,  ..., 1.9192e-02,\n",
              "            2.6936e-01, 7.0654e-01],\n",
              "           ...,\n",
              "           [3.1318e-01, 4.7483e-01, 5.3318e-01,  ..., 1.1876e-01,\n",
              "            7.8242e-01, 3.0613e-01],\n",
              "           [7.3623e-01, 8.3114e-02, 2.6353e-01,  ..., 5.8426e-01,\n",
              "            2.8469e-01, 1.9005e-01],\n",
              "           [4.5123e-01, 9.5755e-01, 2.8161e-01,  ..., 8.9193e-01,\n",
              "            1.4672e-01, 2.9388e-01]],\n",
              "\n",
              "          [[2.7478e-01, 3.6621e-01, 5.2568e-01,  ..., 6.0246e-01,\n",
              "            2.7646e-02, 9.2648e-01],\n",
              "           [9.2234e-01, 3.6341e-01, 2.1241e-01,  ..., 2.6894e-01,\n",
              "            8.0013e-01, 3.8213e-01],\n",
              "           [2.4669e-01, 8.0758e-01, 7.0719e-01,  ..., 1.8831e-01,\n",
              "            2.2640e-01, 1.9169e-01],\n",
              "           ...,\n",
              "           [1.1576e-01, 4.7075e-01, 4.3788e-01,  ..., 4.7000e-01,\n",
              "            2.4781e-01, 2.7387e-01],\n",
              "           [4.0157e-01, 9.5887e-01, 9.5870e-01,  ..., 6.5292e-01,\n",
              "            4.8583e-01, 2.7049e-01],\n",
              "           [3.5739e-01, 4.2343e-02, 2.0227e-01,  ..., 6.5078e-01,\n",
              "            3.7149e-01, 1.0855e-01]]],\n",
              "\n",
              "\n",
              "         [[[3.9898e-01, 8.2934e-01, 7.0952e-01,  ..., 7.1382e-01,\n",
              "            1.0540e-01, 2.2417e-01],\n",
              "           [2.2249e-01, 1.5240e-01, 7.5150e-01,  ..., 7.3511e-01,\n",
              "            2.1501e-01, 1.7076e-01],\n",
              "           [3.5141e-01, 8.3543e-01, 5.6326e-01,  ..., 5.6394e-01,\n",
              "            9.5977e-01, 8.7410e-01],\n",
              "           ...,\n",
              "           [2.5699e-01, 1.9006e-01, 2.4687e-01,  ..., 2.4868e-03,\n",
              "            1.7390e-01, 7.3947e-01],\n",
              "           [8.8769e-01, 6.8833e-01, 7.8633e-01,  ..., 9.6148e-01,\n",
              "            4.5444e-01, 7.8154e-01],\n",
              "           [8.4104e-02, 2.9114e-01, 9.6348e-01,  ..., 8.2362e-01,\n",
              "            5.4150e-01, 3.0395e-01]],\n",
              "\n",
              "          [[4.2806e-02, 1.1818e-02, 8.9098e-01,  ..., 6.3382e-01,\n",
              "            2.1910e-01, 5.9399e-01],\n",
              "           [4.7528e-01, 8.2050e-01, 6.0392e-01,  ..., 7.7040e-01,\n",
              "            2.8165e-01, 7.1702e-01],\n",
              "           [7.7753e-01, 2.9990e-01, 4.4765e-01,  ..., 8.4659e-01,\n",
              "            8.8816e-02, 2.0034e-01],\n",
              "           ...,\n",
              "           [2.7614e-01, 1.8026e-01, 4.6540e-03,  ..., 5.6883e-01,\n",
              "            7.2047e-01, 5.7124e-01],\n",
              "           [9.3895e-01, 5.9567e-01, 2.8130e-02,  ..., 1.1649e-03,\n",
              "            1.5093e-01, 7.7259e-01],\n",
              "           [2.5034e-01, 3.7538e-03, 9.8896e-01,  ..., 9.8546e-01,\n",
              "            2.3955e-01, 4.1056e-01]],\n",
              "\n",
              "          [[7.2698e-01, 3.9712e-01, 1.4596e-01,  ..., 3.8721e-01,\n",
              "            4.0095e-01, 7.3711e-02],\n",
              "           [6.9997e-01, 6.9645e-01, 4.8675e-01,  ..., 9.5265e-01,\n",
              "            3.7343e-01, 7.0102e-01],\n",
              "           [6.3561e-02, 9.0739e-01, 9.9084e-01,  ..., 7.1223e-01,\n",
              "            1.8178e-01, 6.0701e-01],\n",
              "           ...,\n",
              "           [7.1323e-01, 7.2177e-01, 7.1763e-01,  ..., 5.1220e-01,\n",
              "            9.3176e-01, 4.8665e-01],\n",
              "           [7.0495e-02, 4.5973e-01, 3.8938e-02,  ..., 4.4282e-01,\n",
              "            9.4857e-01, 4.4933e-02],\n",
              "           [2.9645e-01, 5.9650e-01, 2.1109e-01,  ..., 2.3558e-01,\n",
              "            2.6055e-01, 4.6090e-01]],\n",
              "\n",
              "          ...,\n",
              "\n",
              "          [[1.3328e-01, 8.4721e-01, 2.1099e-01,  ..., 7.1007e-01,\n",
              "            8.5167e-01, 6.0293e-01],\n",
              "           [3.6117e-01, 3.3465e-01, 9.8968e-01,  ..., 6.7021e-01,\n",
              "            8.7589e-01, 5.2191e-01],\n",
              "           [5.1002e-01, 5.6340e-01, 1.4873e-01,  ..., 9.2760e-01,\n",
              "            3.4374e-01, 9.6149e-01],\n",
              "           ...,\n",
              "           [9.2107e-01, 2.5662e-01, 9.3617e-01,  ..., 7.1324e-01,\n",
              "            1.8107e-01, 1.4634e-01],\n",
              "           [4.5133e-01, 5.1547e-01, 6.0684e-02,  ..., 5.8583e-01,\n",
              "            3.5642e-01, 5.7002e-01],\n",
              "           [7.6927e-01, 9.8479e-02, 6.6516e-01,  ..., 9.4994e-01,\n",
              "            8.8502e-01, 3.8373e-01]],\n",
              "\n",
              "          [[4.4345e-01, 7.5178e-01, 4.6092e-01,  ..., 5.2382e-01,\n",
              "            9.8964e-01, 9.5616e-01],\n",
              "           [7.8957e-01, 3.2471e-01, 1.8824e-01,  ..., 2.4126e-01,\n",
              "            7.5164e-01, 1.0098e-01],\n",
              "           [1.6877e-02, 4.1268e-01, 1.9096e-01,  ..., 3.7255e-01,\n",
              "            9.1419e-01, 5.9570e-01],\n",
              "           ...,\n",
              "           [3.6561e-02, 8.6208e-01, 5.9194e-01,  ..., 7.3030e-01,\n",
              "            7.0560e-01, 1.1480e-01],\n",
              "           [4.9371e-01, 3.7603e-01, 2.9944e-01,  ..., 1.9702e-01,\n",
              "            8.4628e-02, 9.7417e-01],\n",
              "           [2.0905e-01, 5.9793e-01, 8.4687e-01,  ..., 9.9131e-01,\n",
              "            2.3783e-01, 2.4303e-01]],\n",
              "\n",
              "          [[2.3939e-01, 3.4360e-01, 7.2993e-02,  ..., 4.0209e-01,\n",
              "            6.7905e-01, 7.1679e-01],\n",
              "           [6.5378e-01, 3.8639e-01, 9.2932e-01,  ..., 5.5843e-01,\n",
              "            1.1043e-01, 1.7091e-01],\n",
              "           [8.2212e-01, 2.3042e-01, 9.4473e-02,  ..., 5.2180e-01,\n",
              "            2.1525e-02, 8.7348e-01],\n",
              "           ...,\n",
              "           [5.2200e-01, 6.3564e-01, 9.4208e-01,  ..., 5.5268e-01,\n",
              "            9.1481e-01, 1.7159e-01],\n",
              "           [5.7850e-01, 2.1267e-01, 1.7215e-01,  ..., 6.1693e-02,\n",
              "            1.5339e-01, 7.7969e-01],\n",
              "           [2.6241e-01, 5.8523e-02, 5.3868e-01,  ..., 4.9328e-03,\n",
              "            7.8915e-01, 4.0090e-01]]],\n",
              "\n",
              "\n",
              "         [[[1.3743e-02, 4.1934e-01, 5.2059e-01,  ..., 5.5586e-01,\n",
              "            8.1721e-01, 5.9009e-01],\n",
              "           [8.9356e-01, 1.0956e-01, 1.3802e-01,  ..., 5.9762e-02,\n",
              "            2.2930e-01, 1.3155e-01],\n",
              "           [3.2654e-01, 4.8745e-01, 1.4066e-01,  ..., 7.2968e-01,\n",
              "            2.4276e-01, 6.4205e-01],\n",
              "           ...,\n",
              "           [8.2372e-01, 7.9165e-01, 9.8737e-01,  ..., 6.8194e-01,\n",
              "            3.7447e-01, 1.1977e-01],\n",
              "           [2.9282e-01, 6.5617e-01, 1.4588e-01,  ..., 1.8209e-01,\n",
              "            3.6778e-01, 9.6858e-01],\n",
              "           [3.1747e-02, 7.7575e-01, 1.4997e-01,  ..., 9.5739e-01,\n",
              "            9.8126e-01, 7.1848e-01]],\n",
              "\n",
              "          [[1.2834e-01, 4.3504e-03, 8.9089e-01,  ..., 6.7232e-01,\n",
              "            5.9990e-01, 9.0282e-02],\n",
              "           [7.8731e-02, 7.0785e-01, 2.2929e-01,  ..., 8.1224e-01,\n",
              "            3.9295e-01, 9.0326e-01],\n",
              "           [9.5750e-01, 3.2689e-01, 2.9927e-02,  ..., 2.5695e-01,\n",
              "            9.5126e-01, 7.8478e-01],\n",
              "           ...,\n",
              "           [6.2470e-01, 3.7332e-01, 7.8846e-01,  ..., 4.6334e-01,\n",
              "            7.5649e-01, 3.2837e-01],\n",
              "           [9.3422e-01, 2.3280e-01, 2.8555e-01,  ..., 7.7325e-01,\n",
              "            3.8709e-01, 1.0228e-01],\n",
              "           [5.6825e-01, 3.3402e-01, 2.6226e-02,  ..., 7.6823e-01,\n",
              "            6.9158e-01, 1.8989e-01]],\n",
              "\n",
              "          [[7.7732e-01, 2.5467e-01, 6.9983e-01,  ..., 6.6784e-01,\n",
              "            8.0762e-01, 8.8076e-01],\n",
              "           [8.6974e-01, 4.5186e-01, 2.5334e-01,  ..., 6.0262e-01,\n",
              "            3.1501e-01, 8.6997e-01],\n",
              "           [7.2798e-01, 6.7012e-01, 2.6630e-01,  ..., 8.8311e-01,\n",
              "            8.2966e-01, 2.1537e-01],\n",
              "           ...,\n",
              "           [3.3359e-01, 2.6085e-01, 7.1632e-01,  ..., 7.4469e-01,\n",
              "            7.4763e-01, 1.7172e-01],\n",
              "           [5.2343e-01, 7.9068e-01, 9.4432e-01,  ..., 6.8964e-02,\n",
              "            8.5444e-01, 1.2955e-01],\n",
              "           [1.0821e-01, 3.0255e-01, 6.4923e-01,  ..., 7.2054e-02,\n",
              "            2.7346e-01, 9.0291e-01]],\n",
              "\n",
              "          ...,\n",
              "\n",
              "          [[9.0124e-01, 3.4920e-01, 4.5816e-01,  ..., 3.5542e-01,\n",
              "            4.6436e-01, 1.8367e-01],\n",
              "           [9.5657e-01, 9.5838e-01, 3.1214e-01,  ..., 1.6075e-01,\n",
              "            4.8263e-01, 5.4022e-01],\n",
              "           [9.4888e-01, 6.9921e-01, 6.1520e-01,  ..., 2.7660e-01,\n",
              "            3.1703e-01, 1.7447e-01],\n",
              "           ...,\n",
              "           [4.6724e-01, 6.1501e-01, 5.9818e-01,  ..., 6.0328e-01,\n",
              "            8.3390e-01, 4.9859e-01],\n",
              "           [1.9342e-01, 3.0089e-01, 1.2118e-01,  ..., 6.7088e-02,\n",
              "            2.2948e-01, 1.8178e-01],\n",
              "           [3.6679e-01, 3.5956e-01, 3.6481e-01,  ..., 1.9555e-01,\n",
              "            9.2547e-01, 7.9528e-01]],\n",
              "\n",
              "          [[6.7381e-01, 6.0624e-01, 1.6143e-01,  ..., 5.2047e-01,\n",
              "            9.3842e-01, 2.7214e-02],\n",
              "           [4.6270e-01, 3.3218e-01, 4.4055e-01,  ..., 5.3647e-02,\n",
              "            9.9671e-01, 9.1272e-02],\n",
              "           [1.3167e-01, 8.3948e-02, 9.1857e-01,  ..., 2.2909e-01,\n",
              "            5.8759e-01, 7.9915e-01],\n",
              "           ...,\n",
              "           [6.0687e-01, 1.3069e-01, 1.1831e-01,  ..., 2.1835e-01,\n",
              "            8.6694e-01, 1.0060e-01],\n",
              "           [2.4359e-01, 3.2974e-01, 7.0569e-01,  ..., 4.9158e-01,\n",
              "            8.4257e-01, 3.7903e-01],\n",
              "           [1.4619e-01, 2.5185e-01, 8.3103e-01,  ..., 7.0067e-02,\n",
              "            7.3578e-02, 9.1085e-01]],\n",
              "\n",
              "          [[1.0074e-01, 3.4165e-01, 2.6931e-01,  ..., 4.4754e-01,\n",
              "            2.5993e-01, 2.7054e-02],\n",
              "           [6.9715e-01, 6.1570e-01, 2.2898e-01,  ..., 7.4760e-01,\n",
              "            1.0856e-01, 7.4879e-01],\n",
              "           [5.3957e-01, 2.4909e-01, 6.0033e-01,  ..., 2.0847e-01,\n",
              "            7.3154e-01, 2.0530e-01],\n",
              "           ...,\n",
              "           [7.5966e-01, 4.3846e-01, 4.7134e-01,  ..., 6.0079e-01,\n",
              "            3.8399e-01, 9.7195e-01],\n",
              "           [9.1505e-03, 5.3710e-01, 2.3237e-01,  ..., 4.2413e-02,\n",
              "            5.0066e-01, 6.2477e-01],\n",
              "           [1.1072e-02, 4.8612e-01, 8.8718e-01,  ..., 8.5159e-01,\n",
              "            4.1818e-01, 2.7823e-01]]]],\n",
              "\n",
              "\n",
              "\n",
              "        [[[[5.8913e-01, 6.0600e-01, 1.7707e-01,  ..., 8.8688e-01,\n",
              "            5.9096e-02, 3.3371e-01],\n",
              "           [4.7411e-01, 1.5449e-01, 5.5840e-01,  ..., 7.4845e-01,\n",
              "            3.7483e-01, 1.4740e-01],\n",
              "           [6.9816e-01, 6.7774e-02, 8.5095e-01,  ..., 1.7652e-02,\n",
              "            1.1632e-01, 6.1344e-01],\n",
              "           ...,\n",
              "           [6.1090e-01, 2.3488e-02, 8.0932e-01,  ..., 1.4739e-03,\n",
              "            3.5855e-01, 4.7954e-01],\n",
              "           [5.0936e-01, 2.9673e-01, 3.6677e-01,  ..., 2.3686e-01,\n",
              "            2.7816e-01, 8.2648e-01],\n",
              "           [7.9854e-02, 9.6500e-01, 5.8715e-01,  ..., 9.9761e-01,\n",
              "            6.5099e-01, 1.6691e-01]],\n",
              "\n",
              "          [[4.2178e-01, 5.2809e-01, 7.3758e-01,  ..., 9.0888e-01,\n",
              "            8.3152e-01, 2.1818e-01],\n",
              "           [2.4930e-01, 7.6426e-01, 4.7418e-01,  ..., 3.3986e-02,\n",
              "            8.8438e-02, 8.0224e-01],\n",
              "           [7.1099e-01, 8.4836e-01, 1.6597e-01,  ..., 1.7100e-01,\n",
              "            9.4542e-01, 5.9817e-02],\n",
              "           ...,\n",
              "           [7.9381e-01, 5.6456e-01, 4.1817e-02,  ..., 9.7236e-01,\n",
              "            3.7404e-01, 4.2196e-01],\n",
              "           [9.9759e-01, 7.6376e-01, 9.0166e-01,  ..., 5.8572e-01,\n",
              "            9.9082e-01, 5.5941e-02],\n",
              "           [5.5749e-01, 7.0122e-01, 7.4967e-01,  ..., 1.1174e-01,\n",
              "            3.7753e-01, 1.4773e-01]],\n",
              "\n",
              "          [[2.7151e-01, 8.2657e-01, 7.2073e-01,  ..., 7.3590e-01,\n",
              "            6.2861e-01, 4.3634e-01],\n",
              "           [2.3698e-01, 5.5226e-01, 2.6734e-01,  ..., 8.5609e-01,\n",
              "            4.8488e-01, 7.3353e-01],\n",
              "           [8.6167e-01, 4.1150e-01, 1.9090e-01,  ..., 1.8225e-01,\n",
              "            7.4341e-01, 2.8062e-01],\n",
              "           ...,\n",
              "           [3.6567e-01, 1.6645e-01, 8.2004e-01,  ..., 5.3578e-01,\n",
              "            2.2460e-01, 2.9298e-01],\n",
              "           [2.7853e-01, 4.3180e-01, 2.1514e-01,  ..., 7.1355e-01,\n",
              "            8.9663e-02, 5.8268e-01],\n",
              "           [2.3078e-01, 3.1436e-01, 9.9853e-01,  ..., 2.8630e-01,\n",
              "            7.4001e-01, 4.5154e-01]],\n",
              "\n",
              "          ...,\n",
              "\n",
              "          [[9.0044e-01, 5.0992e-01, 4.4239e-01,  ..., 8.0952e-02,\n",
              "            4.1933e-01, 7.7109e-01],\n",
              "           [2.8171e-01, 4.5027e-01, 9.8902e-01,  ..., 2.8982e-01,\n",
              "            5.0255e-01, 6.1390e-01],\n",
              "           [1.3202e-01, 7.3837e-02, 3.2898e-02,  ..., 3.6221e-01,\n",
              "            9.5390e-01, 9.6460e-01],\n",
              "           ...,\n",
              "           [4.1153e-01, 2.4029e-01, 6.7533e-01,  ..., 9.6679e-01,\n",
              "            1.0818e-01, 1.9742e-01],\n",
              "           [4.1865e-01, 3.3630e-01, 6.0353e-01,  ..., 5.1907e-02,\n",
              "            8.8907e-01, 5.1690e-01],\n",
              "           [6.8173e-01, 3.3423e-01, 2.4223e-01,  ..., 6.4530e-02,\n",
              "            2.6016e-01, 9.6162e-01]],\n",
              "\n",
              "          [[1.7575e-01, 3.0753e-01, 3.3347e-01,  ..., 2.8271e-01,\n",
              "            2.5608e-02, 5.9465e-01],\n",
              "           [5.6006e-01, 1.5560e-01, 4.0629e-01,  ..., 7.6710e-01,\n",
              "            1.7396e-01, 8.7260e-01],\n",
              "           [1.8041e-01, 6.6269e-01, 9.5791e-01,  ..., 5.6127e-01,\n",
              "            4.0838e-02, 2.1985e-01],\n",
              "           ...,\n",
              "           [9.4605e-01, 5.7596e-01, 9.0218e-01,  ..., 6.3762e-02,\n",
              "            5.2573e-01, 1.4140e-01],\n",
              "           [7.9328e-01, 1.8224e-01, 7.7728e-01,  ..., 5.3881e-01,\n",
              "            1.1140e-01, 1.2680e-01],\n",
              "           [4.4019e-01, 6.1564e-01, 7.4062e-01,  ..., 3.7858e-01,\n",
              "            5.5427e-01, 8.8910e-01]],\n",
              "\n",
              "          [[5.0281e-01, 7.2843e-01, 1.4317e-02,  ..., 4.9654e-01,\n",
              "            7.7176e-01, 3.7334e-01],\n",
              "           [6.7608e-01, 6.1875e-01, 5.3203e-01,  ..., 7.9587e-01,\n",
              "            5.9505e-01, 5.5067e-01],\n",
              "           [5.6798e-01, 9.9700e-01, 1.4690e-01,  ..., 8.0527e-01,\n",
              "            8.5407e-01, 9.7558e-01],\n",
              "           ...,\n",
              "           [5.2813e-01, 5.0340e-01, 1.0493e-01,  ..., 7.7719e-01,\n",
              "            4.8432e-02, 2.5231e-02],\n",
              "           [5.3949e-01, 1.3629e-01, 5.9086e-01,  ..., 8.4387e-01,\n",
              "            6.4361e-01, 9.8981e-01],\n",
              "           [2.6746e-01, 3.9283e-02, 3.4414e-01,  ..., 3.4260e-01,\n",
              "            4.7944e-01, 4.0490e-01]]],\n",
              "\n",
              "\n",
              "         [[[3.8639e-01, 4.4137e-01, 4.4530e-01,  ..., 8.4926e-01,\n",
              "            9.5577e-01, 1.0343e-01],\n",
              "           [7.0251e-01, 9.3739e-01, 3.3389e-01,  ..., 2.0031e-02,\n",
              "            2.0430e-01, 2.5462e-02],\n",
              "           [3.1642e-01, 1.9620e-01, 1.5992e-01,  ..., 7.1480e-01,\n",
              "            6.3806e-01, 7.9692e-01],\n",
              "           ...,\n",
              "           [2.6207e-01, 4.2280e-01, 9.3243e-01,  ..., 9.5913e-01,\n",
              "            6.3414e-01, 7.8960e-01],\n",
              "           [7.4443e-01, 3.3961e-01, 2.9361e-01,  ..., 5.1684e-01,\n",
              "            4.4745e-01, 4.0490e-01],\n",
              "           [1.8200e-01, 9.4951e-01, 3.8761e-01,  ..., 4.6669e-01,\n",
              "            7.0184e-01, 1.2010e-01]],\n",
              "\n",
              "          [[5.3007e-01, 2.6372e-01, 7.9020e-02,  ..., 7.8964e-01,\n",
              "            9.7015e-01, 2.7825e-02],\n",
              "           [7.6421e-01, 6.1499e-01, 9.4240e-01,  ..., 4.7148e-01,\n",
              "            3.7961e-01, 7.1956e-01],\n",
              "           [7.3009e-01, 5.2839e-01, 7.9611e-01,  ..., 4.5696e-01,\n",
              "            3.4994e-01, 4.0575e-01],\n",
              "           ...,\n",
              "           [5.5592e-01, 3.0391e-01, 1.5695e-01,  ..., 7.5139e-01,\n",
              "            1.4377e-01, 5.7063e-01],\n",
              "           [3.5272e-01, 7.4609e-01, 1.6892e-01,  ..., 1.4589e-02,\n",
              "            7.8781e-01, 1.4224e-01],\n",
              "           [6.9516e-01, 4.3700e-01, 9.9317e-02,  ..., 8.9493e-01,\n",
              "            7.4075e-01, 7.9118e-01]],\n",
              "\n",
              "          [[2.4670e-01, 9.9910e-02, 2.1060e-01,  ..., 7.3093e-01,\n",
              "            5.7482e-01, 9.7331e-01],\n",
              "           [9.6969e-01, 9.4211e-01, 8.2200e-01,  ..., 3.7603e-01,\n",
              "            3.3683e-01, 5.1520e-01],\n",
              "           [2.1100e-01, 8.3039e-01, 2.2817e-02,  ..., 8.4221e-02,\n",
              "            9.1250e-01, 2.5015e-01],\n",
              "           ...,\n",
              "           [1.1482e-01, 2.4851e-01, 8.7598e-01,  ..., 9.6406e-01,\n",
              "            3.2245e-01, 3.8501e-02],\n",
              "           [1.4335e-01, 9.1753e-01, 3.4919e-01,  ..., 2.8955e-01,\n",
              "            2.3268e-01, 2.3889e-01],\n",
              "           [8.7590e-01, 9.5588e-01, 5.0948e-01,  ..., 4.8464e-01,\n",
              "            7.1127e-01, 4.6725e-02]],\n",
              "\n",
              "          ...,\n",
              "\n",
              "          [[9.2293e-01, 4.3554e-01, 6.9718e-01,  ..., 9.2538e-01,\n",
              "            1.6461e-01, 5.8286e-01],\n",
              "           [3.8835e-01, 8.5698e-01, 1.2669e-01,  ..., 7.9281e-01,\n",
              "            4.8856e-01, 3.9795e-01],\n",
              "           [6.7778e-01, 5.8525e-01, 7.0684e-01,  ..., 7.1003e-01,\n",
              "            3.8847e-01, 4.1867e-01],\n",
              "           ...,\n",
              "           [9.1781e-01, 4.1451e-01, 4.9566e-01,  ..., 2.1875e-01,\n",
              "            5.1381e-01, 5.4857e-01],\n",
              "           [1.7928e-01, 1.0959e-01, 8.3488e-01,  ..., 9.2416e-01,\n",
              "            6.7804e-01, 7.1589e-01],\n",
              "           [1.3130e-01, 8.5096e-01, 8.3745e-01,  ..., 9.4513e-01,\n",
              "            5.3119e-01, 3.1711e-01]],\n",
              "\n",
              "          [[3.0618e-01, 8.5537e-01, 2.2967e-01,  ..., 3.8275e-01,\n",
              "            9.3892e-01, 2.9108e-01],\n",
              "           [1.2215e-03, 9.4516e-01, 2.0831e-01,  ..., 4.1869e-01,\n",
              "            3.1423e-01, 7.6618e-01],\n",
              "           [8.1285e-01, 1.3791e-01, 5.0515e-01,  ..., 8.7413e-02,\n",
              "            3.9576e-01, 3.4754e-01],\n",
              "           ...,\n",
              "           [4.3730e-01, 4.2553e-01, 8.2945e-01,  ..., 7.7949e-01,\n",
              "            9.3856e-01, 9.7153e-01],\n",
              "           [3.9952e-01, 2.9720e-01, 6.4484e-01,  ..., 6.3694e-02,\n",
              "            4.1475e-01, 7.9792e-01],\n",
              "           [5.4111e-01, 2.4651e-01, 1.9814e-01,  ..., 8.4647e-01,\n",
              "            3.3738e-01, 9.1155e-01]],\n",
              "\n",
              "          [[7.8922e-01, 7.5972e-01, 4.1572e-01,  ..., 4.7662e-01,\n",
              "            8.4529e-01, 8.8976e-01],\n",
              "           [5.1472e-01, 3.2917e-02, 7.1377e-01,  ..., 4.3848e-01,\n",
              "            6.1214e-01, 6.2568e-01],\n",
              "           [6.1253e-01, 6.6059e-01, 6.6810e-01,  ..., 5.8073e-01,\n",
              "            9.7296e-01, 6.7211e-01],\n",
              "           ...,\n",
              "           [5.0953e-01, 1.0903e-01, 6.6072e-02,  ..., 7.7906e-01,\n",
              "            5.7270e-01, 8.7505e-01],\n",
              "           [7.7183e-01, 3.2493e-01, 3.5597e-02,  ..., 1.6227e-02,\n",
              "            5.7976e-01, 4.7583e-01],\n",
              "           [4.9286e-01, 5.3860e-01, 3.6325e-01,  ..., 5.4147e-01,\n",
              "            7.4358e-01, 6.9804e-01]]],\n",
              "\n",
              "\n",
              "         [[[3.3924e-01, 9.8866e-01, 7.2249e-01,  ..., 9.3049e-01,\n",
              "            5.0843e-01, 8.8312e-01],\n",
              "           [7.5026e-01, 4.1943e-01, 3.9618e-01,  ..., 5.1364e-01,\n",
              "            4.9869e-01, 1.2513e-01],\n",
              "           [2.5622e-02, 3.2912e-01, 4.0724e-01,  ..., 9.8747e-01,\n",
              "            3.3525e-02, 7.0103e-01],\n",
              "           ...,\n",
              "           [5.6909e-01, 4.0651e-02, 3.5593e-03,  ..., 4.2649e-01,\n",
              "            6.5190e-01, 1.4234e-01],\n",
              "           [8.7457e-01, 7.3759e-01, 5.4701e-01,  ..., 4.1269e-01,\n",
              "            9.3527e-02, 7.8095e-01],\n",
              "           [3.0608e-01, 2.9530e-01, 6.9671e-01,  ..., 9.7237e-01,\n",
              "            7.4389e-01, 2.7230e-01]],\n",
              "\n",
              "          [[6.1905e-01, 9.0863e-01, 2.5217e-01,  ..., 6.0880e-01,\n",
              "            5.6188e-01, 8.9519e-01],\n",
              "           [7.0690e-01, 1.8090e-01, 8.6888e-02,  ..., 4.2488e-01,\n",
              "            2.5197e-01, 4.3620e-01],\n",
              "           [4.4458e-01, 8.6846e-01, 7.1252e-01,  ..., 8.3501e-01,\n",
              "            8.1229e-01, 1.7136e-01],\n",
              "           ...,\n",
              "           [9.3565e-01, 7.3668e-01, 1.9842e-01,  ..., 7.5659e-01,\n",
              "            8.4434e-01, 7.0537e-01],\n",
              "           [8.3528e-01, 5.1241e-01, 3.2176e-01,  ..., 5.3631e-01,\n",
              "            4.8004e-01, 6.7292e-01],\n",
              "           [5.3282e-01, 3.4785e-01, 4.7264e-01,  ..., 3.9120e-01,\n",
              "            3.1330e-01, 2.2246e-01]],\n",
              "\n",
              "          [[4.0788e-01, 1.8900e-01, 2.8580e-01,  ..., 9.0033e-01,\n",
              "            6.3730e-01, 4.3331e-01],\n",
              "           [1.0357e-01, 5.7017e-02, 7.2882e-01,  ..., 2.5494e-01,\n",
              "            1.8044e-02, 7.1487e-01],\n",
              "           [5.5994e-01, 4.1349e-01, 1.6046e-01,  ..., 2.1556e-01,\n",
              "            4.8260e-01, 5.5832e-04],\n",
              "           ...,\n",
              "           [7.3927e-02, 7.7637e-01, 1.6389e-02,  ..., 4.6270e-01,\n",
              "            7.4078e-01, 6.6794e-01],\n",
              "           [4.8296e-01, 2.7297e-01, 9.5126e-01,  ..., 4.6183e-01,\n",
              "            3.4402e-01, 9.6298e-01],\n",
              "           [5.7306e-01, 7.4406e-01, 3.0765e-01,  ..., 3.1271e-01,\n",
              "            9.1394e-01, 2.0404e-01]],\n",
              "\n",
              "          ...,\n",
              "\n",
              "          [[3.2519e-02, 4.9960e-01, 8.7976e-02,  ..., 5.1301e-01,\n",
              "            1.6629e-01, 9.3054e-01],\n",
              "           [9.1200e-02, 4.3152e-01, 9.1722e-01,  ..., 6.8691e-01,\n",
              "            7.1760e-01, 5.7129e-01],\n",
              "           [7.7786e-01, 5.2869e-01, 1.0677e-01,  ..., 6.8091e-01,\n",
              "            6.1409e-01, 9.4833e-01],\n",
              "           ...,\n",
              "           [8.5108e-02, 2.9013e-01, 9.0458e-01,  ..., 5.0176e-01,\n",
              "            8.0334e-01, 5.8595e-02],\n",
              "           [2.0050e-01, 9.2699e-01, 6.6714e-02,  ..., 1.5307e-01,\n",
              "            9.9400e-01, 1.5252e-01],\n",
              "           [7.0618e-01, 6.9400e-01, 8.2126e-01,  ..., 8.8560e-01,\n",
              "            9.6697e-01, 5.7357e-01]],\n",
              "\n",
              "          [[8.2396e-01, 5.7278e-01, 5.5674e-01,  ..., 6.0417e-01,\n",
              "            2.1925e-01, 9.3449e-01],\n",
              "           [7.9375e-01, 8.4276e-01, 9.8266e-02,  ..., 5.2075e-01,\n",
              "            8.1866e-02, 8.2230e-01],\n",
              "           [5.0934e-01, 2.0916e-01, 2.3055e-01,  ..., 9.7558e-01,\n",
              "            5.4470e-01, 2.4986e-01],\n",
              "           ...,\n",
              "           [4.6939e-01, 9.7078e-01, 1.2846e-01,  ..., 6.6506e-01,\n",
              "            3.9088e-01, 9.0455e-01],\n",
              "           [8.8600e-01, 3.0087e-01, 7.3112e-01,  ..., 3.2554e-02,\n",
              "            8.0629e-01, 9.0417e-01],\n",
              "           [9.0416e-01, 5.6716e-01, 8.3950e-01,  ..., 1.5285e-01,\n",
              "            1.0184e-01, 4.1603e-01]],\n",
              "\n",
              "          [[8.9189e-01, 2.7609e-01, 2.1323e-01,  ..., 7.9802e-01,\n",
              "            8.1323e-01, 1.6709e-01],\n",
              "           [5.0527e-01, 7.2299e-01, 2.8349e-01,  ..., 7.9640e-01,\n",
              "            9.3182e-02, 4.2811e-01],\n",
              "           [9.8078e-01, 4.5943e-01, 6.1266e-01,  ..., 3.1089e-01,\n",
              "            6.1967e-01, 5.4963e-01],\n",
              "           ...,\n",
              "           [8.0662e-01, 6.9413e-01, 6.2053e-01,  ..., 6.8709e-01,\n",
              "            9.2944e-01, 3.5368e-01],\n",
              "           [4.2313e-01, 8.7964e-01, 3.2827e-01,  ..., 8.3200e-01,\n",
              "            8.1723e-01, 7.4908e-01],\n",
              "           [8.2896e-01, 4.6614e-01, 8.4807e-02,  ..., 5.7051e-01,\n",
              "            4.6623e-01, 4.3723e-01]]],\n",
              "\n",
              "\n",
              "         ...,\n",
              "\n",
              "\n",
              "         [[[7.9627e-01, 3.3334e-01, 2.3782e-01,  ..., 3.4418e-03,\n",
              "            1.6192e-01, 3.1478e-01],\n",
              "           [2.4749e-01, 7.8874e-01, 7.2459e-01,  ..., 6.8410e-01,\n",
              "            3.1419e-01, 5.2266e-01],\n",
              "           [5.6587e-01, 4.4841e-01, 9.0570e-01,  ..., 8.3128e-01,\n",
              "            5.0211e-02, 4.1262e-01],\n",
              "           ...,\n",
              "           [8.8586e-01, 2.1819e-01, 4.2126e-03,  ..., 2.4886e-01,\n",
              "            1.7912e-02, 1.1258e-01],\n",
              "           [9.7410e-01, 5.8708e-01, 3.6728e-01,  ..., 3.1656e-01,\n",
              "            3.8254e-01, 6.8664e-01],\n",
              "           [5.8810e-01, 7.7150e-01, 8.6780e-01,  ..., 7.3252e-01,\n",
              "            6.1863e-01, 5.1611e-01]],\n",
              "\n",
              "          [[5.6967e-01, 2.6237e-01, 6.4948e-01,  ..., 4.6111e-01,\n",
              "            6.1094e-01, 5.0682e-01],\n",
              "           [9.0597e-01, 5.6763e-01, 4.0320e-02,  ..., 1.2016e-01,\n",
              "            2.0250e-01, 4.2082e-01],\n",
              "           [1.4537e-01, 1.7786e-01, 5.3719e-01,  ..., 1.7899e-03,\n",
              "            8.2160e-01, 2.6396e-01],\n",
              "           ...,\n",
              "           [9.2016e-01, 1.5550e-01, 6.7381e-01,  ..., 6.6988e-02,\n",
              "            5.7703e-01, 5.7666e-01],\n",
              "           [2.4381e-01, 9.6087e-01, 3.7878e-01,  ..., 1.3099e-01,\n",
              "            3.9642e-01, 7.1064e-01],\n",
              "           [3.2243e-01, 5.9548e-01, 6.1691e-01,  ..., 8.7035e-01,\n",
              "            2.3594e-01, 8.5280e-01]],\n",
              "\n",
              "          [[5.4908e-02, 5.2246e-01, 9.2118e-01,  ..., 9.6531e-01,\n",
              "            2.1896e-01, 7.8045e-02],\n",
              "           [3.6641e-01, 3.0369e-01, 1.1237e-01,  ..., 1.9126e-03,\n",
              "            9.4994e-01, 5.5063e-01],\n",
              "           [2.6916e-01, 2.5664e-01, 6.9092e-01,  ..., 3.0283e-01,\n",
              "            1.2378e-02, 2.1514e-01],\n",
              "           ...,\n",
              "           [2.0960e-01, 7.8953e-02, 8.2037e-01,  ..., 1.5355e-01,\n",
              "            2.3833e-01, 9.3589e-01],\n",
              "           [5.7046e-01, 2.1909e-01, 3.3663e-01,  ..., 3.1274e-01,\n",
              "            7.9653e-02, 7.2156e-01],\n",
              "           [6.7940e-01, 9.0616e-01, 4.5334e-01,  ..., 4.2364e-02,\n",
              "            2.0011e-02, 6.7024e-01]],\n",
              "\n",
              "          ...,\n",
              "\n",
              "          [[3.3772e-01, 4.7676e-01, 2.6589e-01,  ..., 6.6915e-01,\n",
              "            5.7423e-01, 3.3546e-02],\n",
              "           [5.4568e-01, 6.2176e-01, 2.2430e-01,  ..., 4.5776e-01,\n",
              "            6.1076e-01, 3.0163e-01],\n",
              "           [1.3550e-01, 2.4859e-01, 3.9395e-01,  ..., 4.3505e-01,\n",
              "            8.5657e-01, 4.0414e-02],\n",
              "           ...,\n",
              "           [7.2893e-01, 7.1703e-01, 9.4632e-01,  ..., 8.4596e-01,\n",
              "            4.0622e-01, 2.1609e-02],\n",
              "           [9.7800e-01, 5.0196e-01, 3.7961e-01,  ..., 6.8565e-01,\n",
              "            4.3756e-01, 8.5606e-01],\n",
              "           [4.5102e-01, 2.1025e-01, 1.9439e-01,  ..., 4.1517e-01,\n",
              "            1.1302e-01, 2.9271e-01]],\n",
              "\n",
              "          [[9.9478e-01, 5.8951e-01, 9.3348e-02,  ..., 7.5242e-01,\n",
              "            8.2917e-01, 6.9424e-01],\n",
              "           [5.9256e-01, 2.6432e-01, 7.9938e-01,  ..., 4.2149e-01,\n",
              "            9.3247e-01, 5.1122e-01],\n",
              "           [2.4261e-01, 8.6467e-01, 2.5907e-01,  ..., 1.4552e-01,\n",
              "            8.4857e-01, 9.6055e-01],\n",
              "           ...,\n",
              "           [8.4368e-01, 3.9181e-01, 7.6908e-01,  ..., 6.9139e-01,\n",
              "            7.0678e-02, 2.9357e-01],\n",
              "           [8.0950e-01, 6.1286e-01, 1.5287e-01,  ..., 9.9309e-01,\n",
              "            3.8039e-01, 1.9133e-01],\n",
              "           [1.0225e-01, 3.5350e-01, 2.7062e-02,  ..., 4.5337e-01,\n",
              "            3.6297e-02, 1.3466e-03]],\n",
              "\n",
              "          [[5.3194e-01, 3.5238e-01, 9.2579e-01,  ..., 2.2470e-01,\n",
              "            3.9126e-01, 1.5891e-01],\n",
              "           [2.1396e-01, 2.7362e-02, 7.1393e-02,  ..., 8.7673e-01,\n",
              "            3.3817e-01, 9.5223e-01],\n",
              "           [7.4279e-01, 2.1877e-01, 7.9924e-01,  ..., 1.0686e-01,\n",
              "            3.0446e-02, 3.8456e-01],\n",
              "           ...,\n",
              "           [6.0433e-01, 8.4658e-01, 3.6231e-01,  ..., 4.0922e-01,\n",
              "            9.6093e-01, 3.4100e-01],\n",
              "           [2.6596e-01, 3.4458e-01, 2.9153e-01,  ..., 2.5681e-02,\n",
              "            5.2254e-01, 6.2370e-01],\n",
              "           [3.1729e-01, 5.7208e-02, 6.9910e-01,  ..., 8.5080e-02,\n",
              "            9.3245e-01, 1.7907e-01]]],\n",
              "\n",
              "\n",
              "         [[[8.5025e-01, 3.3966e-01, 4.1824e-02,  ..., 8.4581e-01,\n",
              "            6.3610e-01, 3.3008e-01],\n",
              "           [9.3226e-01, 4.6182e-02, 5.8857e-01,  ..., 1.4798e-01,\n",
              "            7.8285e-01, 3.4241e-01],\n",
              "           [4.3306e-01, 7.3279e-01, 1.4978e-01,  ..., 1.6521e-01,\n",
              "            8.0762e-01, 5.1776e-01],\n",
              "           ...,\n",
              "           [2.9075e-01, 1.6767e-01, 4.9795e-01,  ..., 4.1173e-01,\n",
              "            1.0685e-01, 8.3968e-01],\n",
              "           [8.7950e-01, 4.8716e-02, 6.0427e-01,  ..., 5.2543e-02,\n",
              "            8.3743e-01, 2.6049e-01],\n",
              "           [7.8884e-01, 4.7649e-01, 8.3222e-01,  ..., 6.0525e-01,\n",
              "            2.5166e-01, 1.5224e-01]],\n",
              "\n",
              "          [[5.3743e-01, 6.7177e-01, 7.7601e-01,  ..., 7.4406e-02,\n",
              "            1.4092e-01, 4.2990e-01],\n",
              "           [1.6446e-01, 7.1332e-01, 7.6217e-01,  ..., 9.0912e-01,\n",
              "            7.0445e-01, 6.9205e-01],\n",
              "           [4.8361e-01, 2.8853e-01, 3.9775e-01,  ..., 3.7765e-01,\n",
              "            1.0197e-01, 5.8236e-01],\n",
              "           ...,\n",
              "           [1.3484e-01, 5.4828e-01, 1.8805e-01,  ..., 3.3681e-01,\n",
              "            6.2287e-01, 4.0412e-01],\n",
              "           [5.8249e-01, 3.7371e-01, 9.8809e-02,  ..., 9.3358e-01,\n",
              "            2.3851e-01, 7.0487e-01],\n",
              "           [3.8573e-01, 3.6413e-01, 5.6253e-01,  ..., 3.3387e-01,\n",
              "            1.0431e-01, 7.6622e-01]],\n",
              "\n",
              "          [[6.0185e-01, 3.3052e-01, 8.5072e-02,  ..., 5.8141e-01,\n",
              "            9.4562e-01, 8.7501e-01],\n",
              "           [4.2755e-01, 5.9588e-01, 1.0544e-01,  ..., 8.3181e-01,\n",
              "            2.6967e-01, 8.1525e-03],\n",
              "           [5.2460e-01, 5.9341e-01, 2.5097e-01,  ..., 2.3281e-01,\n",
              "            6.7759e-01, 3.4932e-01],\n",
              "           ...,\n",
              "           [7.6481e-01, 2.5727e-01, 3.6425e-01,  ..., 5.2594e-01,\n",
              "            9.6246e-01, 9.7191e-01],\n",
              "           [8.1015e-01, 3.5089e-01, 3.0582e-01,  ..., 6.7256e-01,\n",
              "            6.4926e-01, 2.1528e-01],\n",
              "           [6.8134e-01, 8.3011e-03, 4.4639e-01,  ..., 3.0799e-01,\n",
              "            3.1073e-01, 6.1453e-01]],\n",
              "\n",
              "          ...,\n",
              "\n",
              "          [[7.4398e-01, 6.2122e-01, 2.2764e-01,  ..., 5.2444e-01,\n",
              "            8.7117e-01, 1.0108e-01],\n",
              "           [7.1163e-01, 5.7671e-01, 9.0638e-01,  ..., 1.0728e-01,\n",
              "            2.4352e-01, 8.7803e-01],\n",
              "           [9.3757e-01, 4.1627e-01, 4.1430e-01,  ..., 8.5817e-01,\n",
              "            4.4692e-02, 7.2308e-01],\n",
              "           ...,\n",
              "           [8.7045e-01, 8.2137e-01, 4.8032e-01,  ..., 2.4458e-01,\n",
              "            9.7848e-01, 4.6318e-01],\n",
              "           [1.0805e-01, 8.9473e-01, 6.8627e-01,  ..., 1.6322e-01,\n",
              "            9.4580e-01, 9.3836e-01],\n",
              "           [6.3658e-01, 9.5110e-01, 5.7530e-01,  ..., 5.6966e-02,\n",
              "            3.2199e-01, 4.6902e-01]],\n",
              "\n",
              "          [[2.0306e-01, 2.8624e-01, 6.7833e-01,  ..., 4.7716e-02,\n",
              "            3.1110e-02, 6.3699e-01],\n",
              "           [5.3782e-01, 4.9571e-01, 9.7401e-02,  ..., 2.6285e-01,\n",
              "            7.9654e-01, 1.8659e-01],\n",
              "           [4.7436e-01, 8.8772e-01, 5.6770e-01,  ..., 7.1109e-01,\n",
              "            8.1730e-01, 4.3554e-01],\n",
              "           ...,\n",
              "           [6.3148e-01, 3.2823e-01, 1.0437e-01,  ..., 3.2034e-01,\n",
              "            3.7719e-01, 8.5253e-01],\n",
              "           [6.9075e-01, 2.9449e-01, 2.0660e-01,  ..., 4.8200e-01,\n",
              "            7.0762e-01, 6.3613e-01],\n",
              "           [9.6560e-02, 9.6535e-01, 1.6328e-01,  ..., 1.9705e-01,\n",
              "            2.8671e-01, 4.6435e-01]],\n",
              "\n",
              "          [[1.0002e-01, 6.5467e-01, 7.8978e-01,  ..., 9.5261e-02,\n",
              "            7.9960e-01, 8.2059e-01],\n",
              "           [7.4587e-01, 8.3416e-01, 4.7834e-01,  ..., 1.1738e-01,\n",
              "            6.8599e-01, 8.4902e-02],\n",
              "           [1.4315e-01, 8.3472e-01, 4.1278e-01,  ..., 5.8218e-01,\n",
              "            3.9562e-01, 9.4407e-01],\n",
              "           ...,\n",
              "           [1.6043e-01, 6.4964e-01, 7.7657e-01,  ..., 5.0075e-01,\n",
              "            8.4294e-01, 2.8812e-01],\n",
              "           [2.7208e-02, 2.8907e-01, 9.5789e-03,  ..., 1.3918e-01,\n",
              "            6.5751e-01, 9.5927e-01],\n",
              "           [8.6750e-01, 9.7059e-01, 4.7916e-01,  ..., 3.1880e-01,\n",
              "            6.7939e-01, 1.8999e-01]]],\n",
              "\n",
              "\n",
              "         [[[6.5035e-01, 7.7358e-01, 6.0115e-01,  ..., 5.6839e-01,\n",
              "            7.8680e-02, 5.1846e-01],\n",
              "           [8.0833e-01, 9.9894e-01, 5.9514e-01,  ..., 2.2999e-02,\n",
              "            7.8086e-01, 8.5860e-01],\n",
              "           [6.8737e-01, 3.8430e-01, 5.1520e-01,  ..., 9.9667e-01,\n",
              "            5.1646e-01, 8.0190e-01],\n",
              "           ...,\n",
              "           [1.9693e-01, 9.9596e-01, 9.4565e-01,  ..., 3.5593e-01,\n",
              "            9.7971e-01, 1.5953e-01],\n",
              "           [5.7374e-01, 8.1066e-02, 2.3045e-01,  ..., 5.6925e-02,\n",
              "            9.3929e-01, 1.8497e-01],\n",
              "           [2.6553e-01, 3.3766e-02, 1.5549e-01,  ..., 3.8461e-01,\n",
              "            8.2929e-01, 6.5227e-01]],\n",
              "\n",
              "          [[9.6724e-01, 7.6535e-01, 6.9683e-01,  ..., 5.7329e-01,\n",
              "            3.5832e-01, 4.6101e-01],\n",
              "           [3.2709e-01, 1.9411e-02, 5.7528e-01,  ..., 7.5403e-01,\n",
              "            5.3912e-01, 3.6530e-01],\n",
              "           [8.2785e-01, 7.5604e-01, 7.3491e-01,  ..., 6.9787e-02,\n",
              "            3.8850e-01, 8.4717e-01],\n",
              "           ...,\n",
              "           [5.7155e-01, 5.9071e-01, 5.5324e-01,  ..., 2.8292e-01,\n",
              "            7.6574e-01, 5.1803e-01],\n",
              "           [5.8305e-01, 1.3765e-01, 3.3305e-01,  ..., 4.2262e-01,\n",
              "            7.8100e-01, 3.5601e-01],\n",
              "           [9.1334e-01, 4.2859e-01, 1.4983e-01,  ..., 1.5373e-01,\n",
              "            5.4119e-01, 6.6552e-02]],\n",
              "\n",
              "          [[3.8229e-01, 2.5647e-01, 6.2721e-01,  ..., 5.2821e-01,\n",
              "            2.9685e-01, 9.9101e-01],\n",
              "           [7.8260e-01, 7.4154e-01, 6.6596e-01,  ..., 5.6227e-01,\n",
              "            6.8327e-01, 5.4346e-01],\n",
              "           [6.9178e-01, 4.2153e-01, 8.7159e-01,  ..., 4.4172e-01,\n",
              "            2.6584e-02, 6.8528e-01],\n",
              "           ...,\n",
              "           [5.1319e-01, 1.2127e-01, 3.7682e-01,  ..., 1.5133e-01,\n",
              "            3.7076e-01, 6.1632e-01],\n",
              "           [8.4461e-01, 2.4507e-01, 7.5608e-01,  ..., 7.5063e-01,\n",
              "            6.4068e-01, 4.9312e-01],\n",
              "           [2.6247e-01, 9.3239e-01, 4.9497e-01,  ..., 1.6847e-01,\n",
              "            4.0803e-01, 3.4858e-01]],\n",
              "\n",
              "          ...,\n",
              "\n",
              "          [[9.5160e-01, 9.3479e-01, 4.9637e-01,  ..., 2.9851e-02,\n",
              "            6.2788e-01, 2.8020e-01],\n",
              "           [2.4505e-01, 3.2579e-01, 8.8560e-01,  ..., 1.5553e-01,\n",
              "            7.4415e-01, 1.2661e-02],\n",
              "           [6.5323e-01, 5.8219e-01, 7.0395e-01,  ..., 4.9718e-01,\n",
              "            2.3106e-01, 9.7722e-01],\n",
              "           ...,\n",
              "           [9.0941e-01, 2.0775e-01, 2.9165e-01,  ..., 1.6221e-01,\n",
              "            1.6813e-01, 8.2510e-01],\n",
              "           [5.2087e-01, 9.8121e-01, 9.4473e-01,  ..., 4.2071e-01,\n",
              "            4.4115e-01, 8.4705e-01],\n",
              "           [1.4001e-01, 6.6099e-01, 1.9006e-02,  ..., 4.9468e-01,\n",
              "            4.6323e-01, 9.3763e-01]],\n",
              "\n",
              "          [[9.8423e-01, 1.7370e-01, 4.2295e-01,  ..., 5.2860e-01,\n",
              "            9.4625e-01, 4.1269e-01],\n",
              "           [1.3042e-01, 4.0123e-01, 5.4141e-01,  ..., 5.2709e-01,\n",
              "            6.5835e-01, 4.2961e-01],\n",
              "           [1.3143e-01, 9.5450e-01, 5.2968e-01,  ..., 6.9350e-01,\n",
              "            9.8803e-01, 8.3418e-01],\n",
              "           ...,\n",
              "           [6.5442e-01, 9.5016e-01, 8.3549e-01,  ..., 3.4577e-01,\n",
              "            6.2823e-01, 1.5117e-01],\n",
              "           [3.1086e-02, 8.9852e-01, 7.3827e-02,  ..., 4.5896e-01,\n",
              "            9.4935e-01, 3.0005e-01],\n",
              "           [7.3008e-02, 9.8372e-01, 6.7639e-01,  ..., 8.9065e-01,\n",
              "            3.1458e-01, 8.6077e-02]],\n",
              "\n",
              "          [[2.9471e-01, 4.8398e-01, 4.7872e-01,  ..., 1.5515e-01,\n",
              "            8.0912e-01, 9.2573e-01],\n",
              "           [4.4154e-01, 7.2926e-01, 9.2935e-01,  ..., 3.5912e-01,\n",
              "            2.2492e-01, 6.9430e-01],\n",
              "           [3.6557e-01, 9.0308e-01, 7.0981e-01,  ..., 5.9696e-01,\n",
              "            5.9271e-01, 3.3233e-01],\n",
              "           ...,\n",
              "           [3.3601e-02, 6.5263e-01, 5.7957e-01,  ..., 8.3583e-01,\n",
              "            5.0114e-01, 4.1359e-01],\n",
              "           [9.8831e-01, 1.9697e-01, 4.1742e-01,  ..., 5.2445e-01,\n",
              "            5.1693e-01, 2.9418e-01],\n",
              "           [5.2555e-03, 9.0080e-01, 7.5664e-02,  ..., 1.4622e-02,\n",
              "            9.0296e-01, 2.6643e-01]]]]])"
            ]
          },
          "metadata": {},
          "execution_count": 47
        }
      ],
      "source": [
        "random_tensors = torch.rand(10, 10, 10, 10, 10)\n",
        "random_tensors"
      ]
    },
    {
      "cell_type": "code",
      "execution_count": 48,
      "metadata": {
        "colab": {
          "base_uri": "https://localhost:8080/"
        },
        "id": "aArQ8b8EqUSi",
        "outputId": "68ebcfcb-9853-497c-c4c5-50d75dcc06f7"
      },
      "outputs": [
        {
          "output_type": "execute_result",
          "data": {
            "text/plain": [
              "5"
            ]
          },
          "metadata": {},
          "execution_count": 48
        }
      ],
      "source": [
        "random_tensors.ndim"
      ]
    },
    {
      "cell_type": "code",
      "execution_count": 49,
      "metadata": {
        "colab": {
          "base_uri": "https://localhost:8080/"
        },
        "id": "b9kE4qWLrwAL",
        "outputId": "b3efc346-d792-475b-c633-20de6b3c4b45"
      },
      "outputs": [
        {
          "output_type": "execute_result",
          "data": {
            "text/plain": [
              "torch.Size([10, 10, 10, 10, 10])"
            ]
          },
          "metadata": {},
          "execution_count": 49
        }
      ],
      "source": [
        "random_tensors.shape"
      ]
    },
    {
      "cell_type": "code",
      "execution_count": 50,
      "metadata": {
        "colab": {
          "base_uri": "https://localhost:8080/"
        },
        "id": "T9G6-BQequnR",
        "outputId": "11585eee-70f7-4719-f7ec-fa3460929f18"
      },
      "outputs": [
        {
          "output_type": "execute_result",
          "data": {
            "text/plain": [
              "(torch.Size([224, 224, 3]), 3)"
            ]
          },
          "metadata": {},
          "execution_count": 50
        }
      ],
      "source": [
        "# Create a random tensor with similar shape to an image tensor\n",
        "random_image_tensor = torch.rand(size=(224, 224, 3)) # height, width, colour channels (R, G, B)\n",
        "random_image_tensor.shape, random_image_tensor.ndim"
      ]
    },
    {
      "cell_type": "code",
      "execution_count": 51,
      "metadata": {
        "colab": {
          "base_uri": "https://localhost:8080/"
        },
        "id": "K9TuV4yvrJej",
        "outputId": "4e4c4135-1a93-4df9-8c80-5a917fd728ed"
      },
      "outputs": [
        {
          "output_type": "execute_result",
          "data": {
            "text/plain": [
              "tensor([[[0.6565, 0.9436, 0.3133],\n",
              "         [0.8771, 0.2922, 0.6794],\n",
              "         [0.4719, 0.0086, 0.5719],\n",
              "         ...,\n",
              "         [0.5986, 0.0302, 0.4222],\n",
              "         [0.9094, 0.0724, 0.9912],\n",
              "         [0.2158, 0.2404, 0.0052]],\n",
              "\n",
              "        [[0.9575, 0.7736, 0.2296],\n",
              "         [0.7208, 0.1672, 0.7315],\n",
              "         [0.7814, 0.0721, 0.2650],\n",
              "         ...,\n",
              "         [0.1300, 0.8731, 0.9514],\n",
              "         [0.6911, 0.5623, 0.3959],\n",
              "         [0.2889, 0.7389, 0.5659]],\n",
              "\n",
              "        [[0.3126, 0.6054, 0.7285],\n",
              "         [0.7344, 0.3970, 0.8645],\n",
              "         [0.4762, 0.8312, 0.8713],\n",
              "         ...,\n",
              "         [0.4490, 0.1620, 0.6872],\n",
              "         [0.3587, 0.6766, 0.1070],\n",
              "         [0.7494, 0.2850, 0.8806]],\n",
              "\n",
              "        ...,\n",
              "\n",
              "        [[0.4602, 0.8708, 0.1184],\n",
              "         [0.2877, 0.7985, 0.2793],\n",
              "         [0.9733, 0.4503, 0.0105],\n",
              "         ...,\n",
              "         [0.0101, 0.4819, 0.6221],\n",
              "         [0.1878, 0.2236, 0.8181],\n",
              "         [0.8885, 0.2390, 0.8241]],\n",
              "\n",
              "        [[0.1284, 0.6425, 0.3945],\n",
              "         [0.9595, 0.7998, 0.7853],\n",
              "         [0.3679, 0.0115, 0.9673],\n",
              "         ...,\n",
              "         [0.2732, 0.1538, 0.3595],\n",
              "         [0.3182, 0.9033, 0.5474],\n",
              "         [0.2545, 0.7937, 0.5809]],\n",
              "\n",
              "        [[0.9645, 0.6516, 0.1251],\n",
              "         [0.4754, 0.0203, 0.7797],\n",
              "         [0.3489, 0.1819, 0.0952],\n",
              "         ...,\n",
              "         [0.7591, 0.9853, 0.0017],\n",
              "         [0.7775, 0.1442, 0.9589],\n",
              "         [0.8257, 0.5680, 0.9539]]])"
            ]
          },
          "metadata": {},
          "execution_count": 51
        }
      ],
      "source": [
        "itensor = torch.rand(224, 224, 3)\n",
        "itensor"
      ]
    },
    {
      "cell_type": "code",
      "execution_count": 52,
      "metadata": {
        "colab": {
          "base_uri": "https://localhost:8080/"
        },
        "id": "gD4LH8MGtNBg",
        "outputId": "2a1375f7-ba02-49b3-d455-fe801646d8b9"
      },
      "outputs": [
        {
          "output_type": "execute_result",
          "data": {
            "text/plain": [
              "3"
            ]
          },
          "metadata": {},
          "execution_count": 52
        }
      ],
      "source": [
        "itensor.ndim"
      ]
    },
    {
      "cell_type": "markdown",
      "metadata": {
        "id": "InxlIvbzvuSn"
      },
      "source": [
        "## Zeros and ones"
      ]
    },
    {
      "cell_type": "code",
      "execution_count": 53,
      "metadata": {
        "colab": {
          "base_uri": "https://localhost:8080/"
        },
        "id": "RZES2crItTDA",
        "outputId": "ba06f071-2822-461c-fe23-f1862e2dbd4a"
      },
      "outputs": [
        {
          "output_type": "execute_result",
          "data": {
            "text/plain": [
              "tensor([[0., 0., 0., 0.],\n",
              "        [0., 0., 0., 0.],\n",
              "        [0., 0., 0., 0.]])"
            ]
          },
          "metadata": {},
          "execution_count": 53
        }
      ],
      "source": [
        "# Create a tensor of all zeros\n",
        "zeros = torch.zeros(size=(3,4))\n",
        "zeros"
      ]
    },
    {
      "cell_type": "code",
      "execution_count": 54,
      "metadata": {
        "colab": {
          "base_uri": "https://localhost:8080/"
        },
        "id": "D_KQGBSOv6rn",
        "outputId": "919b7360-a058-4343-ee55-a7e824460c6b"
      },
      "outputs": [
        {
          "output_type": "execute_result",
          "data": {
            "text/plain": [
              "tensor([[0.9688, 0.1942, 0.5978, 0.7060],\n",
              "        [0.1687, 0.3925, 0.8846, 0.3926],\n",
              "        [0.4332, 0.9865, 0.1488, 0.3468]])"
            ]
          },
          "metadata": {},
          "execution_count": 54
        }
      ],
      "source": [
        "new_random_tensor = torch.rand(3,4)\n",
        "new_random_tensor"
      ]
    },
    {
      "cell_type": "code",
      "execution_count": 55,
      "metadata": {
        "colab": {
          "base_uri": "https://localhost:8080/"
        },
        "id": "gSQdQQTpwRG2",
        "outputId": "9486f3e9-eb75-4539-c3a4-de02d64dff8c"
      },
      "outputs": [
        {
          "output_type": "execute_result",
          "data": {
            "text/plain": [
              "tensor([[0., 0., 0., 0.],\n",
              "        [0., 0., 0., 0.],\n",
              "        [0., 0., 0., 0.]])"
            ]
          },
          "metadata": {},
          "execution_count": 55
        }
      ],
      "source": [
        "zeros * new_random_tensor"
      ]
    },
    {
      "cell_type": "code",
      "execution_count": 56,
      "metadata": {
        "colab": {
          "base_uri": "https://localhost:8080/"
        },
        "id": "cPfrsl0SwZ6-",
        "outputId": "46b364ea-8499-45bb-ab28-29183d2e0c57"
      },
      "outputs": [
        {
          "output_type": "execute_result",
          "data": {
            "text/plain": [
              "tensor([[1., 1., 1., 1.],\n",
              "        [1., 1., 1., 1.],\n",
              "        [1., 1., 1., 1.]])"
            ]
          },
          "metadata": {},
          "execution_count": 56
        }
      ],
      "source": [
        "# Create a tensor of all ones\n",
        "ones = torch.ones(size=(3,4))\n",
        "ones"
      ]
    },
    {
      "cell_type": "code",
      "execution_count": 57,
      "metadata": {
        "colab": {
          "base_uri": "https://localhost:8080/"
        },
        "id": "LmyPc2bAw_O3",
        "outputId": "fc75f54f-cda4-4587-975a-db8ce01d4718"
      },
      "outputs": [
        {
          "output_type": "execute_result",
          "data": {
            "text/plain": [
              "torch.float32"
            ]
          },
          "metadata": {},
          "execution_count": 57
        }
      ],
      "source": [
        "ones.dtype"
      ]
    },
    {
      "cell_type": "markdown",
      "metadata": {
        "id": "wrWxGAmmylHa"
      },
      "source": [
        "## Creating a range of tensors and tensors-like\n",
        "\n",
        "`torch.arange()` : https://pytorch.org/docs/stable/generated/torch.arange.html"
      ]
    },
    {
      "cell_type": "code",
      "execution_count": 58,
      "metadata": {
        "colab": {
          "base_uri": "https://localhost:8080/"
        },
        "id": "PGLDUrUGxB2m",
        "outputId": "88227a8d-5e87-4c06-d2d1-ff94a02e882a"
      },
      "outputs": [
        {
          "output_type": "execute_result",
          "data": {
            "text/plain": [
              "tensor([ 1,  2,  3,  4,  5,  6,  7,  8,  9, 10])"
            ]
          },
          "metadata": {},
          "execution_count": 58
        }
      ],
      "source": [
        "# Use torch.range(1,11)\n",
        "# Depreciated message:::>>>> UserWarning: torch.range is deprecated and will be removed in a future release because its behavior is inconsistent with Python's range builtin. Instead, use torch.arange, which produces values in [start, end).\n",
        "\n",
        "one_to_ten = torch.arange(1,11)\n",
        "one_to_ten"
      ]
    },
    {
      "cell_type": "code",
      "execution_count": 59,
      "metadata": {
        "colab": {
          "base_uri": "https://localhost:8080/"
        },
        "id": "1Db2EP_Gy88t",
        "outputId": "509c9154-3221-4c65-e975-aab4160a53ee"
      },
      "outputs": [
        {
          "output_type": "execute_result",
          "data": {
            "text/plain": [
              "tensor([ 0, 10, 20, 30, 40, 50, 60, 70, 80, 90])"
            ]
          },
          "metadata": {},
          "execution_count": 59
        }
      ],
      "source": [
        "zero_to_hundred = torch.arange(start=0, end=100, step=10)\n",
        "zero_to_hundred"
      ]
    },
    {
      "cell_type": "code",
      "execution_count": 60,
      "metadata": {
        "colab": {
          "base_uri": "https://localhost:8080/"
        },
        "id": "_1pwiJHKz-2m",
        "outputId": "01b22336-746d-48f7-d456-479c42b69c40"
      },
      "outputs": [
        {
          "output_type": "execute_result",
          "data": {
            "text/plain": [
              "tensor([0, 0, 0, 0, 0, 0, 0, 0, 0, 0])"
            ]
          },
          "metadata": {},
          "execution_count": 60
        }
      ],
      "source": [
        "# Creating tensors like\n",
        "# when we have to define a tensor shape from a pre-defined tensor and overwrite with zeros\n",
        "new_tensor_from_zero_to_hundred_tensor = torch.zeros_like(input=zero_to_hundred)\n",
        "new_tensor_from_zero_to_hundred_tensor"
      ]
    },
    {
      "cell_type": "markdown",
      "metadata": {
        "id": "1YhJRcjsxZKm"
      },
      "source": [
        "## Tensor Datatypes\n",
        "\n",
        "**Note:** Tensor datatypes is one the 3 big errors you'll run into with PyTorch && Deep Learning:\n",
        "\n",
        "1.   Tensors not right datatype\n",
        "2.   Tensors not right shape\n",
        "3.   Tensors not on the right device\n",
        "\n",
        "\n",
        "Precision in computing: https://en.wikipedia.org/wiki/Precision_(computer_science)\n",
        "\n"
      ]
    },
    {
      "cell_type": "code",
      "execution_count": 61,
      "metadata": {
        "colab": {
          "base_uri": "https://localhost:8080/"
        },
        "id": "69Ic01AdyapK",
        "outputId": "bc99e412-6ad9-45be-8761-8f51b2ea71f3"
      },
      "outputs": [
        {
          "output_type": "execute_result",
          "data": {
            "text/plain": [
              "tensor([5, 8, 1, 6, 2, 9])"
            ]
          },
          "metadata": {},
          "execution_count": 61
        }
      ],
      "source": [
        "# default tensor datatype - default tensor datatype is depends on input input of the given tensor\n",
        "\n",
        "# here i will set `int` numbers for the tensor, so the default datatype of the tensor will be `int64`\n",
        "# so the default is `int64` for int numbers\n",
        "default_datatype_tensor = torch.tensor([5,8,1,6,2,9])\n",
        "\n",
        "default_datatype_tensor"
      ]
    },
    {
      "cell_type": "code",
      "execution_count": 62,
      "metadata": {
        "colab": {
          "base_uri": "https://localhost:8080/"
        },
        "id": "cr-DQ2MVyp17",
        "outputId": "c05d3ae9-e57a-4d4f-9a24-56aa5838e947"
      },
      "outputs": [
        {
          "output_type": "execute_result",
          "data": {
            "text/plain": [
              "torch.int64"
            ]
          },
          "metadata": {},
          "execution_count": 62
        }
      ],
      "source": [
        "default_datatype_tensor.dtype"
      ]
    },
    {
      "cell_type": "code",
      "execution_count": 63,
      "metadata": {
        "colab": {
          "base_uri": "https://localhost:8080/"
        },
        "id": "P_ovVGQ_z3mc",
        "outputId": "85b937ce-caff-4ab4-dad9-45d79975ba01"
      },
      "outputs": [
        {
          "output_type": "execute_result",
          "data": {
            "text/plain": [
              "tensor([3.1000, 4.9000, 6.4000, 0.5000])"
            ]
          },
          "metadata": {},
          "execution_count": 63
        }
      ],
      "source": [
        "# here i will set `float` numbers for the tensor, so the default datatype would be `float32`\n",
        "# so the default is `float32` for int numbers\n",
        "default_datatype_tensor = torch.tensor([3.1,4.9,6.4,.5])\n",
        "\n",
        "default_datatype_tensor"
      ]
    },
    {
      "cell_type": "code",
      "execution_count": 64,
      "metadata": {
        "colab": {
          "base_uri": "https://localhost:8080/"
        },
        "id": "-T7qAD3n0ii2",
        "outputId": "dad27a3d-6758-48f8-a0cd-f22a420ae9dc"
      },
      "outputs": [
        {
          "output_type": "execute_result",
          "data": {
            "text/plain": [
              "torch.float32"
            ]
          },
          "metadata": {},
          "execution_count": 64
        }
      ],
      "source": [
        "default_datatype_tensor.dtype"
      ]
    },
    {
      "cell_type": "code",
      "execution_count": 65,
      "metadata": {
        "colab": {
          "base_uri": "https://localhost:8080/"
        },
        "id": "Y1pVnAzQ1BV2",
        "outputId": "4ccdc44d-d786-417d-edfa-ecd7012ceaed"
      },
      "outputs": [
        {
          "output_type": "execute_result",
          "data": {
            "text/plain": [
              "tensor([3., 2., 4.])"
            ]
          },
          "metadata": {},
          "execution_count": 65
        }
      ],
      "source": [
        "# Float 32 tensor\n",
        "float_32_tensor = torch.tensor([3.0, 2.0, 4.0], dtype=torch.float32) # defined `float32`\n",
        "\n",
        "float_32_tensor"
      ]
    },
    {
      "cell_type": "code",
      "execution_count": 66,
      "metadata": {
        "colab": {
          "base_uri": "https://localhost:8080/"
        },
        "id": "Kcoykb-Ix2Fm",
        "outputId": "6b7b5116-bc21-48fb-fe8c-084b4cf6c4d9"
      },
      "outputs": [
        {
          "output_type": "execute_result",
          "data": {
            "text/plain": [
              "torch.float32"
            ]
          },
          "metadata": {},
          "execution_count": 66
        }
      ],
      "source": [
        "float_32_tensor.dtype"
      ]
    },
    {
      "cell_type": "code",
      "execution_count": 67,
      "metadata": {
        "colab": {
          "base_uri": "https://localhost:8080/"
        },
        "id": "TA_TLsv5x39T",
        "outputId": "f6e8dc95-6c7b-4738-e3ea-23548c906e89"
      },
      "outputs": [
        {
          "output_type": "execute_result",
          "data": {
            "text/plain": [
              "tensor([4, 2, 4, 7])"
            ]
          },
          "metadata": {},
          "execution_count": 67
        }
      ],
      "source": [
        "# set float numbers but later define the datatype your want to sent with the tensor\n",
        "int64_tensor = torch.tensor([4.1,2,4,7], dtype=torch.int64)\n",
        "int64_tensor"
      ]
    },
    {
      "cell_type": "code",
      "execution_count": 68,
      "metadata": {
        "colab": {
          "base_uri": "https://localhost:8080/"
        },
        "id": "t0UruqRr3zDe",
        "outputId": "f221b8ff-3264-4d39-feee-6f2e39e00222"
      },
      "outputs": [
        {
          "output_type": "execute_result",
          "data": {
            "text/plain": [
              "torch.int64"
            ]
          },
          "metadata": {},
          "execution_count": 68
        }
      ],
      "source": [
        "int64_tensor.dtype"
      ]
    },
    {
      "cell_type": "code",
      "execution_count": 69,
      "metadata": {
        "colab": {
          "base_uri": "https://localhost:8080/"
        },
        "id": "6CZLJ2cF36xu",
        "outputId": "03c4d36e-c664-4957-81fc-6ccc8e10b336"
      },
      "outputs": [
        {
          "output_type": "execute_result",
          "data": {
            "text/plain": [
              "tensor([7.3000, 1.0000, 9.0000, 4.2000])"
            ]
          },
          "metadata": {},
          "execution_count": 69
        }
      ],
      "source": [
        "#\n",
        "float_32_tensor = torch.tensor([7.3,1,9,4.2], dtype=None # what datatype is the tensor (e.g. float32. float16)\n",
        "                                                        )\n",
        "float_32_tensor"
      ]
    },
    {
      "cell_type": "code",
      "execution_count": 70,
      "metadata": {
        "colab": {
          "base_uri": "https://localhost:8080/"
        },
        "id": "V6RqW-8R5ElX",
        "outputId": "536f0fb5-cd0c-44a7-fbe4-7209f808fdf5"
      },
      "outputs": [
        {
          "output_type": "execute_result",
          "data": {
            "text/plain": [
              "torch.float32"
            ]
          },
          "metadata": {},
          "execution_count": 70
        }
      ],
      "source": [
        "float_32_tensor.dtype"
      ]
    },
    {
      "cell_type": "code",
      "execution_count": 71,
      "metadata": {
        "colab": {
          "base_uri": "https://localhost:8080/"
        },
        "id": "EjbYwfST5K3Z",
        "outputId": "2c81e0c0-45e1-4b30-86a1-63375af4a01a"
      },
      "outputs": [
        {
          "output_type": "execute_result",
          "data": {
            "text/plain": [
              "tensor([4.1000, 7.5000, 7.8000])"
            ]
          },
          "metadata": {},
          "execution_count": 71
        }
      ],
      "source": [
        "# with more parameters\n",
        "float_32_tensor = torch.tensor([4.1,7.5,7.8],\n",
        "                               dtype = None, # set  datatypes:  e.g. float16, float32 :> available datatypes: https://pytorch.org/docs/stable/tensors.html || https://en.wikipedia.org/wiki/Precision_(computer_science)\n",
        "                               device = None, # what device is your tensor on e.g. 'cpu' or 'cuda' mean gpu\n",
        "                               requires_grad = False # whether or not to track gradients with this tensors operations\n",
        "                               )\n",
        "float_32_tensor"
      ]
    },
    {
      "cell_type": "code",
      "execution_count": 72,
      "metadata": {
        "colab": {
          "base_uri": "https://localhost:8080/"
        },
        "id": "1eWQ8I2h5_rv",
        "outputId": "336b9403-957a-417d-c370-6b5bc94cb227"
      },
      "outputs": [
        {
          "output_type": "execute_result",
          "data": {
            "text/plain": [
              "tensor([4.1016, 7.5000, 7.8008], dtype=torch.float16)"
            ]
          },
          "metadata": {},
          "execution_count": 72
        }
      ],
      "source": [
        "# converted the datatype 'float_32' to 'float_16' of a tensor\n",
        "\n",
        "# how might we change the datatype of the tensor\n",
        "float16_tensor = float_32_tensor.type(torch.float16)\n",
        "float16_tensor"
      ]
    },
    {
      "cell_type": "code",
      "execution_count": 73,
      "metadata": {
        "colab": {
          "base_uri": "https://localhost:8080/"
        },
        "id": "IM0UYSqm9o0X",
        "outputId": "18e5d71b-4cad-4799-a04a-34bb871669bd"
      },
      "outputs": [
        {
          "output_type": "execute_result",
          "data": {
            "text/plain": [
              "tensor([ True, False, False,  True, False,  True,  True])"
            ]
          },
          "metadata": {},
          "execution_count": 73
        }
      ],
      "source": [
        "### Excercise (DataTypes)\n",
        "\n",
        "# boolean data types\n",
        "boolean_tensor = torch.tensor([1,0,0,1,0,1,1], dtype=torch.bool)\n",
        "\n",
        "boolean_tensor"
      ]
    },
    {
      "cell_type": "code",
      "execution_count": 74,
      "metadata": {
        "colab": {
          "base_uri": "https://localhost:8080/"
        },
        "id": "tEjhDUAcAs7H",
        "outputId": "3a3eed3d-e8a0-4322-9320-b19b5c1d8d58"
      },
      "outputs": [
        {
          "output_type": "execute_result",
          "data": {
            "text/plain": [
              "torch.bool"
            ]
          },
          "metadata": {},
          "execution_count": 74
        }
      ],
      "source": [
        "boolean_tensor.dtype"
      ]
    },
    {
      "cell_type": "code",
      "execution_count": 75,
      "metadata": {
        "colab": {
          "base_uri": "https://localhost:8080/"
        },
        "id": "fP36Jo6wAvDm",
        "outputId": "c88fea04-b648-4a18-8531-ee4ad0890865"
      },
      "outputs": [
        {
          "output_type": "execute_result",
          "data": {
            "text/plain": [
              "tensor([[ 2.2000, 18.6000],\n",
              "        [ 7.2000, 13.4000]])"
            ]
          },
          "metadata": {},
          "execution_count": 75
        }
      ],
      "source": [
        "# requires_grad = True\n",
        "MY_TENSOR = torch.tensor([[1.1, 9.3], [3.6, 6.7]], requires_grad=True)\n",
        "\n",
        "OUT = MY_TENSOR.pow(2).sum()\n",
        "OUT.backward()\n",
        "MY_TENSOR.grad"
      ]
    },
    {
      "cell_type": "markdown",
      "source": [
        "## Tensor Views\n",
        "PyTorch allows a tensor to be a `View` of an existing tensor. View tensor shares the same underlying data with its base tensor. Supporting `View` avoids explicit data copy, thus allows us to do fast and memory efficient reshaping, slicing and element-wise operations.\n",
        "\n",
        "For example, to get a view of an existing tensor `first_tensor`, you can call `t.view(...)`.\n",
        "\n",
        "\n",
        "**Source:** https://pytorch.org/docs/stable/tensor_view.html#tensor-view-doc"
      ],
      "metadata": {
        "id": "vqbYBO1oM5eZ"
      }
    },
    {
      "cell_type": "code",
      "execution_count": 76,
      "metadata": {
        "id": "JBvZq7X9LJ9o",
        "colab": {
          "base_uri": "https://localhost:8080/"
        },
        "outputId": "489f276d-0b8a-4048-fa71-c04411a9cc58"
      },
      "outputs": [
        {
          "output_type": "execute_result",
          "data": {
            "text/plain": [
              "tensor([[0.3965, 0.1059, 0.0498, 0.5192],\n",
              "        [0.4244, 0.3572, 0.9717, 0.2418],\n",
              "        [0.4284, 0.1308, 0.1899, 0.9524],\n",
              "        [0.0273, 0.5565, 0.5814, 0.4956]])"
            ]
          },
          "metadata": {},
          "execution_count": 76
        }
      ],
      "source": [
        "# example\n",
        "first_tensor = torch.rand(4,4)\n",
        "first_tensor"
      ]
    },
    {
      "cell_type": "code",
      "source": [
        "second_tensor = first_tensor.view(2,8)\n",
        "second_tensor"
      ],
      "metadata": {
        "colab": {
          "base_uri": "https://localhost:8080/"
        },
        "id": "2FE7YjiqNOLo",
        "outputId": "5855847b-f546-4df3-a97f-9d7d9689edfe"
      },
      "execution_count": 77,
      "outputs": [
        {
          "output_type": "execute_result",
          "data": {
            "text/plain": [
              "tensor([[0.3965, 0.1059, 0.0498, 0.5192, 0.4244, 0.3572, 0.9717, 0.2418],\n",
              "        [0.4284, 0.1308, 0.1899, 0.9524, 0.0273, 0.5565, 0.5814, 0.4956]])"
            ]
          },
          "metadata": {},
          "execution_count": 77
        }
      ]
    },
    {
      "cell_type": "code",
      "source": [
        "# check if the two tensors sharing the same data\n",
        "\n",
        "# using `first_tensor.storage()` you will get deprecated message,\n",
        "first_tensor.storage().data_ptr() == second_tensor.storage().data_ptr() # `first_tensor` and `second_tensor` share the same underlying data"
      ],
      "metadata": {
        "colab": {
          "base_uri": "https://localhost:8080/"
        },
        "id": "kz5er5aGNZpg",
        "outputId": "d739f31e-b1e8-44fb-ee38-24572140d30e"
      },
      "execution_count": 78,
      "outputs": [
        {
          "output_type": "stream",
          "name": "stderr",
          "text": [
            "<ipython-input-78-b48ea378aafa>:4: UserWarning: TypedStorage is deprecated. It will be removed in the future and UntypedStorage will be the only storage class. This should only matter to you if you are using storages directly.  To access UntypedStorage directly, use tensor.untyped_storage() instead of tensor.storage()\n",
            "  first_tensor.storage().data_ptr() == second_tensor.storage().data_ptr() # `first_tensor` and `second_tensor` share the same underlying data\n"
          ]
        },
        {
          "output_type": "execute_result",
          "data": {
            "text/plain": [
              "True"
            ]
          },
          "metadata": {},
          "execution_count": 78
        }
      ]
    },
    {
      "cell_type": "code",
      "source": [
        "# Modifying view tensor(e.g.`second_tensor`) changes base tensor(e.g. `first_tensor`) as well\n",
        "\n",
        "# first extract value of given indices\n",
        "second_tensor[0][0]\n",
        "\n",
        "# updating value\n",
        "second_tensor[0][0] = 0.401\n",
        "\n",
        "# check whether the value of the first_tensor is updated or not\n",
        "first_tensor[0][0]\n",
        "\n",
        "# print the whole tensor\n",
        "first_tensor\n",
        "\n",
        "#    Note:** Since views share underlying data with its base tensor, if you edit the data in the view, it will be reflected in the base tensor as well.\n",
        "\n"
      ],
      "metadata": {
        "colab": {
          "base_uri": "https://localhost:8080/"
        },
        "id": "NTPuvSBnOpBA",
        "outputId": "7e0e27d0-5d61-4146-81f5-cc7fdf39b114"
      },
      "execution_count": 79,
      "outputs": [
        {
          "output_type": "execute_result",
          "data": {
            "text/plain": [
              "tensor([[0.4010, 0.1059, 0.0498, 0.5192],\n",
              "        [0.4244, 0.3572, 0.9717, 0.2418],\n",
              "        [0.4284, 0.1308, 0.1899, 0.9524],\n",
              "        [0.0273, 0.5565, 0.5814, 0.4956]])"
            ]
          },
          "metadata": {},
          "execution_count": 79
        }
      ]
    },
    {
      "cell_type": "markdown",
      "source": [
        "Typically a PyTorch op returns a new tensor as output, e.g. `add()`. But in case of view ops, outputs are views of input tensors to avoid unnecessary data copy. No data movement occurs when creating a view, view tensor just changes the way it interprets the same data. Taking a view of contiguous tensor could potentially produce a non-contiguous tensor. Users should pay additional attention as contiguity might have implicit performance impact. `transpose()` is a common example.\n",
        "\n",
        "**Source:** https://pytorch.org/docs/stable/tensor_view.html#tensor-views"
      ],
      "metadata": {
        "id": "haPTOiiQSMf9"
      }
    },
    {
      "cell_type": "code",
      "source": [
        "first_tensor.is_contiguous()"
      ],
      "metadata": {
        "colab": {
          "base_uri": "https://localhost:8080/"
        },
        "id": "rOIZ-YAkQukQ",
        "outputId": "9bc06b09-46da-47b4-e9d8-0251bde1ea91"
      },
      "execution_count": 80,
      "outputs": [
        {
          "output_type": "execute_result",
          "data": {
            "text/plain": [
              "True"
            ]
          },
          "metadata": {},
          "execution_count": 80
        }
      ]
    },
    {
      "cell_type": "code",
      "source": [
        "second_tensor.is_contiguous()"
      ],
      "metadata": {
        "colab": {
          "base_uri": "https://localhost:8080/"
        },
        "id": "OopIaXLOS34A",
        "outputId": "819949fc-f3cd-4378-c047-000be3643414"
      },
      "execution_count": 81,
      "outputs": [
        {
          "output_type": "execute_result",
          "data": {
            "text/plain": [
              "True"
            ]
          },
          "metadata": {},
          "execution_count": 81
        }
      ]
    },
    {
      "cell_type": "code",
      "source": [
        "# create new base tensor\n",
        "base_tensor = torch.tensor([[0,1],[2,3]])\n",
        "print(base_tensor.is_contiguous())\n",
        "base_tensor"
      ],
      "metadata": {
        "colab": {
          "base_uri": "https://localhost:8080/"
        },
        "id": "JRwqpH6nS9Z6",
        "outputId": "25808bbc-47c0-4bbd-8aea-9762dbf33b84"
      },
      "execution_count": 82,
      "outputs": [
        {
          "output_type": "stream",
          "name": "stdout",
          "text": [
            "True\n"
          ]
        },
        {
          "output_type": "execute_result",
          "data": {
            "text/plain": [
              "tensor([[0, 1],\n",
              "        [2, 3]])"
            ]
          },
          "metadata": {},
          "execution_count": 82
        }
      ]
    },
    {
      "cell_type": "code",
      "source": [
        "view_tensor = base_tensor.transpose(0,1) # `view_tensor` if a view of `base_tensor`. No data movement happened here\n",
        "view_tensor"
      ],
      "metadata": {
        "colab": {
          "base_uri": "https://localhost:8080/"
        },
        "id": "ZotPEpDPTU3o",
        "outputId": "0cd7868a-184b-4e64-fc70-7eb62d83f8a1"
      },
      "execution_count": 83,
      "outputs": [
        {
          "output_type": "execute_result",
          "data": {
            "text/plain": [
              "tensor([[0, 2],\n",
              "        [1, 3]])"
            ]
          },
          "metadata": {},
          "execution_count": 83
        }
      ]
    },
    {
      "cell_type": "code",
      "source": [
        "# `view_tensor`(transpose) might be non-contiguous\n",
        "# so, let's check whether it's right or not\n",
        "view_tensor.is_contiguous()"
      ],
      "metadata": {
        "colab": {
          "base_uri": "https://localhost:8080/"
        },
        "id": "haczZbJXTaog",
        "outputId": "f4d7e4f7-5fe7-45d1-cb70-2d010e54f40d"
      },
      "execution_count": 84,
      "outputs": [
        {
          "output_type": "execute_result",
          "data": {
            "text/plain": [
              "False"
            ]
          },
          "metadata": {},
          "execution_count": 84
        }
      ]
    },
    {
      "cell_type": "code",
      "source": [
        "# To get contiguous tensor, call `.contiguous()` to enfore\n",
        "# copying data when `view_tensor` is not contiguous\n",
        "copy_tensor = view_tensor.contiguous()\n",
        "copy_tensor\n",
        "\n",
        "# check now, if `copy_tensor` is contiguous or not\n",
        "copy_tensor.is_contiguous()"
      ],
      "metadata": {
        "colab": {
          "base_uri": "https://localhost:8080/"
        },
        "id": "Eo9KwJv5U-lN",
        "outputId": "39ca2ec2-a637-488c-b1f8-4cdd4dc1dd07"
      },
      "execution_count": 88,
      "outputs": [
        {
          "output_type": "execute_result",
          "data": {
            "text/plain": [
              "True"
            ]
          },
          "metadata": {},
          "execution_count": 88
        }
      ]
    },
    {
      "cell_type": "code",
      "source": [],
      "metadata": {
        "id": "7wvaXS5TVWrY"
      },
      "execution_count": null,
      "outputs": []
    }
  ],
  "metadata": {
    "colab": {
      "provenance": []
    },
    "kernelspec": {
      "display_name": "Python 3",
      "name": "python3"
    },
    "language_info": {
      "name": "python"
    }
  },
  "nbformat": 4,
  "nbformat_minor": 0
}