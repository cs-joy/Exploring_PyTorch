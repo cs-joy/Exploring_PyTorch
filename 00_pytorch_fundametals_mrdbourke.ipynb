{
  "cells": [
    {
      "cell_type": "markdown",
      "metadata": {
        "id": "-buiuu7sCwy3"
      },
      "source": [
        "### PyTorch Fundamentals"
      ]
    },
    {
      "cell_type": "code",
      "execution_count": 179,
      "metadata": {
        "colab": {
          "base_uri": "https://localhost:8080/"
        },
        "id": "7bFyap-6C3Tr",
        "outputId": "e0046ce9-f6c2-4857-a1be-ae54a91f916c"
      },
      "outputs": [
        {
          "output_type": "stream",
          "name": "stdout",
          "text": [
            "2.2.1+cu121\n"
          ]
        }
      ],
      "source": [
        "import torch\n",
        "import pandas as pd\n",
        "import numpy as np\n",
        "import matplotlib.pyplot as plt\n",
        "print(torch.__version__)"
      ]
    },
    {
      "cell_type": "markdown",
      "metadata": {
        "id": "uElvucnwEP3M"
      },
      "source": [
        "### Introduction to Tensors\n",
        "\n",
        "### Creating tensors\n",
        "\n",
        "PyTorch tensors are created using `torch.Tensor()` = https://pytorch.org/docs/stable/tensors.html"
      ]
    },
    {
      "cell_type": "code",
      "execution_count": 180,
      "metadata": {
        "colab": {
          "base_uri": "https://localhost:8080/"
        },
        "id": "p8OA0B6eEQ4q",
        "outputId": "ce2e0ffa-d6e1-457d-81d1-1083ae766be5"
      },
      "outputs": [
        {
          "output_type": "execute_result",
          "data": {
            "text/plain": [
              "tensor(7)"
            ]
          },
          "metadata": {},
          "execution_count": 180
        }
      ],
      "source": [
        "# scalar\n",
        "scalar = torch.tensor(7)\n",
        "scalar"
      ]
    },
    {
      "cell_type": "code",
      "execution_count": 181,
      "metadata": {
        "colab": {
          "base_uri": "https://localhost:8080/"
        },
        "id": "v0_irmvAEhH6",
        "outputId": "c6cca4e0-ace1-47d3-aa9e-6f5eb777a988"
      },
      "outputs": [
        {
          "output_type": "execute_result",
          "data": {
            "text/plain": [
              "0"
            ]
          },
          "metadata": {},
          "execution_count": 181
        }
      ],
      "source": [
        "# number of dimension : https://pytorch.org/docs/stable/generated/torch.Tensor.ndim.html\n",
        "\n",
        "scalar.ndim"
      ]
    },
    {
      "cell_type": "code",
      "execution_count": 182,
      "metadata": {
        "colab": {
          "base_uri": "https://localhost:8080/"
        },
        "id": "R024mjQ6HVxv",
        "outputId": "242600c5-1ddd-499a-e565-d9fc603b4f59"
      },
      "outputs": [
        {
          "output_type": "execute_result",
          "data": {
            "text/plain": [
              "7"
            ]
          },
          "metadata": {},
          "execution_count": 182
        }
      ],
      "source": [
        "# Get tensor back as Python int\n",
        "\n",
        "scalar.item()"
      ]
    },
    {
      "cell_type": "code",
      "execution_count": 183,
      "metadata": {
        "colab": {
          "base_uri": "https://localhost:8080/"
        },
        "id": "MtmlilZeHjUj",
        "outputId": "f0888d12-8025-4809-c7e9-6675ae0e185b"
      },
      "outputs": [
        {
          "output_type": "execute_result",
          "data": {
            "text/plain": [
              "tensor([7, 7])"
            ]
          },
          "metadata": {},
          "execution_count": 183
        }
      ],
      "source": [
        "# Vector\n",
        "vector = torch.tensor([7, 7])\n",
        "vector"
      ]
    },
    {
      "cell_type": "code",
      "execution_count": 184,
      "metadata": {
        "colab": {
          "base_uri": "https://localhost:8080/"
        },
        "id": "4iWK1VoKorqW",
        "outputId": "e36df33a-50fe-4f18-b770-78e6c20d177a"
      },
      "outputs": [
        {
          "output_type": "execute_result",
          "data": {
            "text/plain": [
              "1"
            ]
          },
          "metadata": {},
          "execution_count": 184
        }
      ],
      "source": [
        "vector.ndim"
      ]
    },
    {
      "cell_type": "code",
      "execution_count": 185,
      "metadata": {
        "colab": {
          "base_uri": "https://localhost:8080/"
        },
        "id": "-arbdcU8pvtk",
        "outputId": "c450f64a-3c6f-42fc-b90d-22a8a69fcc15"
      },
      "outputs": [
        {
          "output_type": "execute_result",
          "data": {
            "text/plain": [
              "torch.Size([2])"
            ]
          },
          "metadata": {},
          "execution_count": 185
        }
      ],
      "source": [
        "vector.shape"
      ]
    },
    {
      "cell_type": "code",
      "execution_count": 186,
      "metadata": {
        "colab": {
          "base_uri": "https://localhost:8080/"
        },
        "id": "aXgWyyKdpxv1",
        "outputId": "4e2fc7a1-181a-4772-8bc2-53a162c0dcef"
      },
      "outputs": [
        {
          "output_type": "execute_result",
          "data": {
            "text/plain": [
              "tensor([[2, 4],\n",
              "        [1, 3]])"
            ]
          },
          "metadata": {},
          "execution_count": 186
        }
      ],
      "source": [
        "# MATRIX\n",
        "MATRIX = torch.tensor([[2,4],\n",
        "                       [1,3]])\n",
        "MATRIX"
      ]
    },
    {
      "cell_type": "code",
      "execution_count": 187,
      "metadata": {
        "colab": {
          "base_uri": "https://localhost:8080/"
        },
        "id": "VSWWiuxKqGGv",
        "outputId": "eecfbe31-768a-41fb-f4e4-65c3276c208a"
      },
      "outputs": [
        {
          "output_type": "execute_result",
          "data": {
            "text/plain": [
              "2"
            ]
          },
          "metadata": {},
          "execution_count": 187
        }
      ],
      "source": [
        "MATRIX.ndim"
      ]
    },
    {
      "cell_type": "code",
      "execution_count": 188,
      "metadata": {
        "colab": {
          "base_uri": "https://localhost:8080/"
        },
        "id": "ete9DTOvqO3F",
        "outputId": "62aa0678-9606-4849-d317-9bbf07304c28"
      },
      "outputs": [
        {
          "output_type": "execute_result",
          "data": {
            "text/plain": [
              "tensor([2, 4])"
            ]
          },
          "metadata": {},
          "execution_count": 188
        }
      ],
      "source": [
        "MATRIX[0]"
      ]
    },
    {
      "cell_type": "code",
      "execution_count": 189,
      "metadata": {
        "colab": {
          "base_uri": "https://localhost:8080/"
        },
        "id": "Pr9wKm7jqRk9",
        "outputId": "436a1c8d-413d-4104-a7b5-e3d5ab23b4a0"
      },
      "outputs": [
        {
          "output_type": "execute_result",
          "data": {
            "text/plain": [
              "torch.Size([2, 2])"
            ]
          },
          "metadata": {},
          "execution_count": 189
        }
      ],
      "source": [
        "MATRIX.shape"
      ]
    },
    {
      "cell_type": "code",
      "execution_count": 190,
      "metadata": {
        "colab": {
          "base_uri": "https://localhost:8080/"
        },
        "id": "V1hr5cVHqYjN",
        "outputId": "1fc1a678-ff2c-4072-d7a5-6b7022abf4b6"
      },
      "outputs": [
        {
          "output_type": "execute_result",
          "data": {
            "text/plain": [
              "tensor([[[1, 3, 9],\n",
              "         [2, 4, 6],\n",
              "         [5, 9, 7]]])"
            ]
          },
          "metadata": {},
          "execution_count": 190
        }
      ],
      "source": [
        "# Tensor\n",
        "TENSOR = torch.tensor([[[1,3,9],\n",
        "                        [2,4,6],\n",
        "                        [5,9,7]]])\n",
        "TENSOR"
      ]
    },
    {
      "cell_type": "code",
      "execution_count": 191,
      "metadata": {
        "colab": {
          "base_uri": "https://localhost:8080/"
        },
        "id": "DphY4MK8sUl-",
        "outputId": "6eec9e35-eae7-4fc6-8823-09072a9569f2"
      },
      "outputs": [
        {
          "output_type": "execute_result",
          "data": {
            "text/plain": [
              "3"
            ]
          },
          "metadata": {},
          "execution_count": 191
        }
      ],
      "source": [
        "TENSOR.ndim"
      ]
    },
    {
      "cell_type": "code",
      "execution_count": 192,
      "metadata": {
        "colab": {
          "base_uri": "https://localhost:8080/"
        },
        "id": "j-0f9M-usalk",
        "outputId": "5258da1e-5ea4-430c-fc24-5c044bed907c"
      },
      "outputs": [
        {
          "output_type": "execute_result",
          "data": {
            "text/plain": [
              "torch.Size([1, 3, 3])"
            ]
          },
          "metadata": {},
          "execution_count": 192
        }
      ],
      "source": [
        "TENSOR.shape"
      ]
    },
    {
      "cell_type": "code",
      "execution_count": 193,
      "metadata": {
        "colab": {
          "base_uri": "https://localhost:8080/"
        },
        "id": "uvVm4l_kssNN",
        "outputId": "61363aa9-3248-438a-d7a9-e15524483fa7"
      },
      "outputs": [
        {
          "output_type": "execute_result",
          "data": {
            "text/plain": [
              "tensor([[1, 3, 9],\n",
              "        [2, 4, 6],\n",
              "        [5, 9, 7]])"
            ]
          },
          "metadata": {},
          "execution_count": 193
        }
      ],
      "source": [
        "TENSOR[0]"
      ]
    },
    {
      "cell_type": "code",
      "execution_count": 194,
      "metadata": {
        "colab": {
          "base_uri": "https://localhost:8080/"
        },
        "id": "JpPIPxWTtAnO",
        "outputId": "95868e25-6b00-4aef-cbeb-ece7bb8c7d0c"
      },
      "outputs": [
        {
          "output_type": "execute_result",
          "data": {
            "text/plain": [
              "tensor([[[[1, 3, 9, 4],\n",
              "          [2, 4, 8, 6]]]])"
            ]
          },
          "metadata": {},
          "execution_count": 194
        }
      ],
      "source": [
        "MY_TENSOR = torch.tensor([[[\n",
        "                              [1,3,9,4], # <0\n",
        "                              [2,4,8,6], # <1\n",
        "#                              [4,1,6,3]  # <2\n",
        "#                              ^ ^ ^ ^\n",
        "#                              0 1 2 3\n",
        "                            ]]])\n",
        "MY_TENSOR"
      ]
    },
    {
      "cell_type": "code",
      "execution_count": 195,
      "metadata": {
        "colab": {
          "base_uri": "https://localhost:8080/"
        },
        "id": "HvqUSXvluX58",
        "outputId": "50bd022a-c9b2-47c2-ed2c-a357503cc1c4"
      },
      "outputs": [
        {
          "output_type": "execute_result",
          "data": {
            "text/plain": [
              "4"
            ]
          },
          "metadata": {},
          "execution_count": 195
        }
      ],
      "source": [
        "MY_TENSOR.ndim"
      ]
    },
    {
      "cell_type": "code",
      "execution_count": 196,
      "metadata": {
        "colab": {
          "base_uri": "https://localhost:8080/"
        },
        "id": "Q085jgdXua90",
        "outputId": "44452107-9512-41e1-bc5c-3a26b9da58c5"
      },
      "outputs": [
        {
          "output_type": "execute_result",
          "data": {
            "text/plain": [
              "torch.Size([1, 1, 2, 4])"
            ]
          },
          "metadata": {},
          "execution_count": 196
        }
      ],
      "source": [
        "MY_TENSOR.shape"
      ]
    },
    {
      "cell_type": "markdown",
      "metadata": {
        "id": "0VYUu8xVdlEy"
      },
      "source": [
        "## Tensor Exercise"
      ]
    },
    {
      "cell_type": "code",
      "execution_count": 197,
      "metadata": {
        "colab": {
          "base_uri": "https://localhost:8080/"
        },
        "id": "wXenZTtEdqy6",
        "outputId": "aad094de-b42a-428a-dd9e-5009e981239a"
      },
      "outputs": [
        {
          "output_type": "execute_result",
          "data": {
            "text/plain": [
              "tensor([[1, 2, 3],\n",
              "        [4, 5, 6]])"
            ]
          },
          "metadata": {},
          "execution_count": 197
        }
      ],
      "source": [
        "TENSOR = torch.tensor([[1,2,3], [4,5,6]])\n",
        "TENSOR"
      ]
    },
    {
      "cell_type": "code",
      "execution_count": 198,
      "metadata": {
        "colab": {
          "base_uri": "https://localhost:8080/"
        },
        "id": "phOp45vkd25v",
        "outputId": "9f7ff5e0-b106-46a3-db43-9b08fbf27a68"
      },
      "outputs": [
        {
          "output_type": "execute_result",
          "data": {
            "text/plain": [
              "2"
            ]
          },
          "metadata": {},
          "execution_count": 198
        }
      ],
      "source": [
        "TENSOR.ndim"
      ]
    },
    {
      "cell_type": "code",
      "execution_count": 199,
      "metadata": {
        "colab": {
          "base_uri": "https://localhost:8080/"
        },
        "id": "QPNE_shteBLK",
        "outputId": "8e276722-fa1e-4c4d-d6e1-98850c938d99"
      },
      "outputs": [
        {
          "output_type": "execute_result",
          "data": {
            "text/plain": [
              "torch.Size([2, 3])"
            ]
          },
          "metadata": {},
          "execution_count": 199
        }
      ],
      "source": [
        "TENSOR.shape"
      ]
    },
    {
      "cell_type": "code",
      "execution_count": 200,
      "metadata": {
        "colab": {
          "base_uri": "https://localhost:8080/"
        },
        "id": "W22HH2NAeHvA",
        "outputId": "99683401-99b1-4ef0-c4bd-20c7cbddc317"
      },
      "outputs": [
        {
          "output_type": "execute_result",
          "data": {
            "text/plain": [
              "tensor([1, 2, 3])"
            ]
          },
          "metadata": {},
          "execution_count": 200
        }
      ],
      "source": [
        "TENSOR[0]"
      ]
    },
    {
      "cell_type": "code",
      "execution_count": 201,
      "metadata": {
        "colab": {
          "base_uri": "https://localhost:8080/"
        },
        "id": "FfC1ewwlet8-",
        "outputId": "18d36002-70d1-4d07-a72e-024b68c12d8e"
      },
      "outputs": [
        {
          "output_type": "execute_result",
          "data": {
            "text/plain": [
              "tensor([[2, 1, 4],\n",
              "        [1, 5, 2]])"
            ]
          },
          "metadata": {},
          "execution_count": 201
        }
      ],
      "source": [
        "TENSOR2 = torch.tensor([\n",
        "    [2,1,4],\n",
        "    [1,5,2]\n",
        "])\n",
        "TENSOR2"
      ]
    },
    {
      "cell_type": "code",
      "execution_count": 202,
      "metadata": {
        "colab": {
          "base_uri": "https://localhost:8080/"
        },
        "id": "OnZX8YHNfJW7",
        "outputId": "50a03178-959f-4488-8b00-03996d563aad"
      },
      "outputs": [
        {
          "output_type": "execute_result",
          "data": {
            "text/plain": [
              "2"
            ]
          },
          "metadata": {},
          "execution_count": 202
        }
      ],
      "source": [
        "TENSOR2.ndim"
      ]
    },
    {
      "cell_type": "code",
      "execution_count": 203,
      "metadata": {
        "colab": {
          "base_uri": "https://localhost:8080/"
        },
        "id": "IshwqyFHCJ7g",
        "outputId": "5252907c-86f3-43e5-fc33-ef570d5d9b64"
      },
      "outputs": [
        {
          "output_type": "execute_result",
          "data": {
            "text/plain": [
              "torch.Size([2, 3])"
            ]
          },
          "metadata": {},
          "execution_count": 203
        }
      ],
      "source": [
        "TENSOR2.shape"
      ]
    },
    {
      "cell_type": "code",
      "execution_count": 204,
      "metadata": {
        "colab": {
          "base_uri": "https://localhost:8080/"
        },
        "id": "JbXCoXQcCVXo",
        "outputId": "22848d09-696f-4d94-e8c1-27d8a64f4535"
      },
      "outputs": [
        {
          "output_type": "execute_result",
          "data": {
            "text/plain": [
              "tensor([[2, 1, 4],\n",
              "        [1, 5, 2],\n",
              "        [7, 5, 9]])"
            ]
          },
          "metadata": {},
          "execution_count": 204
        }
      ],
      "source": [
        "TENSOR3 = torch.tensor([\n",
        "    [2,1,4],\n",
        "    [1,5,2],\n",
        "    [7,5,9]\n",
        "])\n",
        "TENSOR3"
      ]
    },
    {
      "cell_type": "code",
      "execution_count": 205,
      "metadata": {
        "colab": {
          "base_uri": "https://localhost:8080/"
        },
        "id": "YaUO0YbOClOo",
        "outputId": "cc1f7533-eedc-434d-e1d6-5d60d4c6c0d9"
      },
      "outputs": [
        {
          "output_type": "execute_result",
          "data": {
            "text/plain": [
              "2"
            ]
          },
          "metadata": {},
          "execution_count": 205
        }
      ],
      "source": [
        "TENSOR3.ndim"
      ]
    },
    {
      "cell_type": "code",
      "execution_count": 206,
      "metadata": {
        "colab": {
          "base_uri": "https://localhost:8080/"
        },
        "id": "l-2DFQhMCngy",
        "outputId": "e12b92d4-045f-4c01-cb38-735d29d368ea"
      },
      "outputs": [
        {
          "output_type": "execute_result",
          "data": {
            "text/plain": [
              "torch.Size([3, 3])"
            ]
          },
          "metadata": {},
          "execution_count": 206
        }
      ],
      "source": [
        "TENSOR3.shape"
      ]
    },
    {
      "cell_type": "code",
      "execution_count": 207,
      "metadata": {
        "colab": {
          "base_uri": "https://localhost:8080/"
        },
        "id": "rtsY1RuzCqHp",
        "outputId": "6043c08d-4197-4ff0-91d4-e9d1bf344559"
      },
      "outputs": [
        {
          "output_type": "execute_result",
          "data": {
            "text/plain": [
              "tensor([[[1, 2, 3, 2],\n",
              "         [7, 8, 9, 7],\n",
              "         [4, 5, 6, 9]]])"
            ]
          },
          "metadata": {},
          "execution_count": 207
        }
      ],
      "source": [
        "TENSOR4 = torch.tensor([[\n",
        "    [1,2,3,2],\n",
        "    [7,8,9,7],\n",
        "    [4,5,6,9]\n",
        "]])\n",
        "\n",
        "TENSOR4"
      ]
    },
    {
      "cell_type": "code",
      "execution_count": 208,
      "metadata": {
        "colab": {
          "base_uri": "https://localhost:8080/"
        },
        "id": "heIyjCldEIHn",
        "outputId": "cd7fc69d-32e9-4db2-ee91-1f07f9fcaa76"
      },
      "outputs": [
        {
          "output_type": "execute_result",
          "data": {
            "text/plain": [
              "3"
            ]
          },
          "metadata": {},
          "execution_count": 208
        }
      ],
      "source": [
        "TENSOR4.ndim"
      ]
    },
    {
      "cell_type": "code",
      "execution_count": 209,
      "metadata": {
        "colab": {
          "base_uri": "https://localhost:8080/"
        },
        "id": "yK2Vov-AEKNY",
        "outputId": "78f936d5-9728-4794-9d28-ae1d618804ac"
      },
      "outputs": [
        {
          "output_type": "execute_result",
          "data": {
            "text/plain": [
              "torch.Size([1, 3, 4])"
            ]
          },
          "metadata": {},
          "execution_count": 209
        }
      ],
      "source": [
        "TENSOR4.shape"
      ]
    },
    {
      "cell_type": "code",
      "execution_count": 210,
      "metadata": {
        "colab": {
          "base_uri": "https://localhost:8080/"
        },
        "id": "PBnmF883ETuX",
        "outputId": "42e42a29-5838-4f53-f93c-ae696798c860"
      },
      "outputs": [
        {
          "output_type": "execute_result",
          "data": {
            "text/plain": [
              "tensor([[[[[[1, 2],\n",
              "            [4, 1],\n",
              "            [6, 8]]]]]])"
            ]
          },
          "metadata": {},
          "execution_count": 210
        }
      ],
      "source": [
        "TENSOR5 = torch.tensor(\n",
        "    [\n",
        "        [\n",
        "            [\n",
        "                [\n",
        "                    [\n",
        "                        [1,2],\n",
        "                        [4,1],\n",
        "                        [6,8]\n",
        "                    ]\n",
        "                ]\n",
        "            ]\n",
        "        ]\n",
        "    ]\n",
        ")\n",
        "\n",
        "TENSOR5"
      ]
    },
    {
      "cell_type": "code",
      "execution_count": 211,
      "metadata": {
        "colab": {
          "base_uri": "https://localhost:8080/"
        },
        "id": "qCAnLMtgGKZn",
        "outputId": "29914f21-b195-4b9b-e29b-f3fbff465c85"
      },
      "outputs": [
        {
          "output_type": "execute_result",
          "data": {
            "text/plain": [
              "6"
            ]
          },
          "metadata": {},
          "execution_count": 211
        }
      ],
      "source": [
        "TENSOR5.ndim # expected 6"
      ]
    },
    {
      "cell_type": "code",
      "execution_count": 212,
      "metadata": {
        "colab": {
          "base_uri": "https://localhost:8080/"
        },
        "id": "Aox8_F-EGp4n",
        "outputId": "510857b0-9116-413e-b251-fb6c47a65d62"
      },
      "outputs": [
        {
          "output_type": "execute_result",
          "data": {
            "text/plain": [
              "torch.Size([1, 1, 1, 1, 3, 2])"
            ]
          },
          "metadata": {},
          "execution_count": 212
        }
      ],
      "source": [
        "TENSOR5.shape #expected tensor.Size([1,1,1,1,3,2])"
      ]
    },
    {
      "cell_type": "code",
      "execution_count": 213,
      "metadata": {
        "colab": {
          "base_uri": "https://localhost:8080/"
        },
        "id": "F8mlTsNmGz8-",
        "outputId": "8d794f6a-477f-40ba-d37a-d644342d36e4"
      },
      "outputs": [
        {
          "output_type": "execute_result",
          "data": {
            "text/plain": [
              "tensor([[[1, 2],\n",
              "         [4, 8],\n",
              "         [3, 9]],\n",
              "\n",
              "        [[5, 6],\n",
              "         [7, 9],\n",
              "         [4, 1]]])"
            ]
          },
          "metadata": {},
          "execution_count": 213
        }
      ],
      "source": [
        "TENSOR6 = torch.tensor(\n",
        "    [\n",
        "            [\n",
        "              [1,2],\n",
        "              [4,8],\n",
        "              [3,9]\n",
        "            ],\n",
        "            [\n",
        "              [5,6],\n",
        "              [7,9],\n",
        "              [4,1]\n",
        "            ]\n",
        "\n",
        "    ]\n",
        ")\n",
        "\n",
        "TENSOR6"
      ]
    },
    {
      "cell_type": "code",
      "execution_count": 214,
      "metadata": {
        "colab": {
          "base_uri": "https://localhost:8080/"
        },
        "id": "WtkIhxXnH-9n",
        "outputId": "b54c6767-e63d-4864-cc1f-f9766be18d6a"
      },
      "outputs": [
        {
          "output_type": "execute_result",
          "data": {
            "text/plain": [
              "3"
            ]
          },
          "metadata": {},
          "execution_count": 214
        }
      ],
      "source": [
        "TENSOR6.ndim"
      ]
    },
    {
      "cell_type": "code",
      "execution_count": 215,
      "metadata": {
        "colab": {
          "base_uri": "https://localhost:8080/"
        },
        "id": "4y2T7u2UJBTl",
        "outputId": "46b7473b-06dc-4eff-d5b5-b44d62631f14"
      },
      "outputs": [
        {
          "output_type": "execute_result",
          "data": {
            "text/plain": [
              "torch.Size([2, 3, 2])"
            ]
          },
          "metadata": {},
          "execution_count": 215
        }
      ],
      "source": [
        "TENSOR6.shape"
      ]
    },
    {
      "cell_type": "code",
      "execution_count": 216,
      "metadata": {
        "colab": {
          "base_uri": "https://localhost:8080/"
        },
        "id": "uM22_1baK3mV",
        "outputId": "d1c56985-289e-4eef-833d-ef5d7fcb73f9"
      },
      "outputs": [
        {
          "output_type": "execute_result",
          "data": {
            "text/plain": [
              "tensor([[[[[[ 1,  2],\n",
              "            [ 4,  1],\n",
              "            [ 6,  8]],\n",
              "\n",
              "           [[ 4,  1],\n",
              "            [ 1,  5],\n",
              "            [47,  9]]],\n",
              "\n",
              "\n",
              "          [[[ 1,  2],\n",
              "            [ 4,  1],\n",
              "            [ 6,  8]],\n",
              "\n",
              "           [[ 4,  1],\n",
              "            [ 1,  5],\n",
              "            [47,  9]]],\n",
              "\n",
              "\n",
              "          [[[ 1,  2],\n",
              "            [ 4,  1],\n",
              "            [ 6,  8]],\n",
              "\n",
              "           [[ 4,  1],\n",
              "            [ 1,  5],\n",
              "            [47,  9]]]],\n",
              "\n",
              "\n",
              "\n",
              "         [[[[ 1,  2],\n",
              "            [ 4,  1],\n",
              "            [ 6,  8]],\n",
              "\n",
              "           [[ 4,  1],\n",
              "            [ 1,  5],\n",
              "            [47,  9]]],\n",
              "\n",
              "\n",
              "          [[[ 1,  2],\n",
              "            [ 4,  1],\n",
              "            [ 6,  8]],\n",
              "\n",
              "           [[ 4,  1],\n",
              "            [ 1,  5],\n",
              "            [47,  9]]],\n",
              "\n",
              "\n",
              "          [[[ 1,  2],\n",
              "            [ 4,  1],\n",
              "            [ 6,  8]],\n",
              "\n",
              "           [[ 4,  1],\n",
              "            [ 1,  5],\n",
              "            [47,  9]]]]],\n",
              "\n",
              "\n",
              "\n",
              "\n",
              "        [[[[[ 1,  2],\n",
              "            [ 4,  1],\n",
              "            [ 6,  8]],\n",
              "\n",
              "           [[ 4,  1],\n",
              "            [ 1,  5],\n",
              "            [47,  9]]],\n",
              "\n",
              "\n",
              "          [[[ 1,  2],\n",
              "            [ 4,  1],\n",
              "            [ 6,  8]],\n",
              "\n",
              "           [[ 4,  1],\n",
              "            [ 1,  5],\n",
              "            [47,  9]]],\n",
              "\n",
              "\n",
              "          [[[ 1,  2],\n",
              "            [ 4,  1],\n",
              "            [ 6,  8]],\n",
              "\n",
              "           [[ 4,  1],\n",
              "            [ 1,  5],\n",
              "            [47,  9]]]],\n",
              "\n",
              "\n",
              "\n",
              "         [[[[ 1,  2],\n",
              "            [ 4,  1],\n",
              "            [ 6,  8]],\n",
              "\n",
              "           [[ 4,  1],\n",
              "            [ 1,  5],\n",
              "            [47,  9]]],\n",
              "\n",
              "\n",
              "          [[[ 1,  2],\n",
              "            [ 4,  1],\n",
              "            [ 6,  8]],\n",
              "\n",
              "           [[ 4,  1],\n",
              "            [ 1,  5],\n",
              "            [47,  9]]],\n",
              "\n",
              "\n",
              "          [[[ 1,  2],\n",
              "            [ 4,  1],\n",
              "            [ 6,  8]],\n",
              "\n",
              "           [[ 4,  1],\n",
              "            [ 1,  5],\n",
              "            [47,  9]]]]]])"
            ]
          },
          "metadata": {},
          "execution_count": 216
        }
      ],
      "source": [
        "TENSOR7 = torch.tensor(\n",
        "    [\n",
        "        [\n",
        "            [\n",
        "                [\n",
        "                    [\n",
        "                        [1,2],\n",
        "                        [4,1],\n",
        "                        [6,8]\n",
        "                    ],\n",
        "                    [\n",
        "                        [4,1],\n",
        "                        [1,5],\n",
        "                        [47,9]\n",
        "                    ]\n",
        "                ],\n",
        "                [\n",
        "                    [\n",
        "                        [1,2],\n",
        "                        [4,1],\n",
        "                        [6,8]\n",
        "                    ],\n",
        "                    [\n",
        "                        [4,1],\n",
        "                        [1,5],\n",
        "                        [47,9]\n",
        "                    ]\n",
        "                ],\n",
        "                [\n",
        "                    [\n",
        "                        [1,2],\n",
        "                        [4,1],\n",
        "                        [6,8]\n",
        "                    ],\n",
        "                    [\n",
        "                        [4,1],\n",
        "                        [1,5],\n",
        "                        [47,9]\n",
        "                    ]\n",
        "                ]\n",
        "            ],\n",
        "            [\n",
        "                [\n",
        "                    [\n",
        "                        [1,2],\n",
        "                        [4,1],\n",
        "                        [6,8]\n",
        "                    ],\n",
        "                    [\n",
        "                        [4,1],\n",
        "                        [1,5],\n",
        "                        [47,9]\n",
        "                    ]\n",
        "                ],\n",
        "                [\n",
        "                    [\n",
        "                        [1,2],\n",
        "                        [4,1],\n",
        "                        [6,8]\n",
        "                    ],\n",
        "                    [\n",
        "                        [4,1],\n",
        "                        [1,5],\n",
        "                        [47,9]\n",
        "                    ]\n",
        "                ],\n",
        "                [\n",
        "                    [\n",
        "                        [1,2],\n",
        "                        [4,1],\n",
        "                        [6,8]\n",
        "                    ],\n",
        "                    [\n",
        "                        [4,1],\n",
        "                        [1,5],\n",
        "                        [47,9]\n",
        "                    ]\n",
        "                ]\n",
        "            ]\n",
        "        ],\n",
        "                [\n",
        "            [\n",
        "                [\n",
        "                    [\n",
        "                        [1,2],\n",
        "                        [4,1],\n",
        "                        [6,8]\n",
        "                    ],\n",
        "                    [\n",
        "                        [4,1],\n",
        "                        [1,5],\n",
        "                        [47,9]\n",
        "                    ]\n",
        "                ],\n",
        "                [\n",
        "                    [\n",
        "                        [1,2],\n",
        "                        [4,1],\n",
        "                        [6,8]\n",
        "                    ],\n",
        "                    [\n",
        "                        [4,1],\n",
        "                        [1,5],\n",
        "                        [47,9]\n",
        "                    ]\n",
        "                ],\n",
        "                [\n",
        "                    [\n",
        "                        [1,2],\n",
        "                        [4,1],\n",
        "                        [6,8]\n",
        "                    ],\n",
        "                    [\n",
        "                        [4,1],\n",
        "                        [1,5],\n",
        "                        [47,9]\n",
        "                    ]\n",
        "                ]\n",
        "            ],\n",
        "            [\n",
        "                [\n",
        "                    [\n",
        "                        [1,2],\n",
        "                        [4,1],\n",
        "                        [6,8]\n",
        "                    ],\n",
        "                    [\n",
        "                        [4,1],\n",
        "                        [1,5],\n",
        "                        [47,9]\n",
        "                    ]\n",
        "                ],\n",
        "                [\n",
        "                    [\n",
        "                        [1,2],\n",
        "                        [4,1],\n",
        "                        [6,8]\n",
        "                    ],\n",
        "                    [\n",
        "                        [4,1],\n",
        "                        [1,5],\n",
        "                        [47,9]\n",
        "                    ]\n",
        "                ],\n",
        "                [\n",
        "                    [\n",
        "                        [1,2],\n",
        "                        [4,1],\n",
        "                        [6,8]\n",
        "                    ],\n",
        "                    [\n",
        "                        [4,1],\n",
        "                        [1,5],\n",
        "                        [47,9]\n",
        "                    ]\n",
        "                ]\n",
        "            ]\n",
        "        ]\n",
        "    ]\n",
        ")\n",
        "TENSOR7"
      ]
    },
    {
      "cell_type": "code",
      "execution_count": 217,
      "metadata": {
        "colab": {
          "base_uri": "https://localhost:8080/"
        },
        "id": "1dApxWVDYKpp",
        "outputId": "81d7feb7-1460-48d8-bfd6-4ee129b71429"
      },
      "outputs": [
        {
          "output_type": "execute_result",
          "data": {
            "text/plain": [
              "6"
            ]
          },
          "metadata": {},
          "execution_count": 217
        }
      ],
      "source": [
        "TENSOR7.ndim"
      ]
    },
    {
      "cell_type": "code",
      "execution_count": 218,
      "metadata": {
        "colab": {
          "base_uri": "https://localhost:8080/"
        },
        "id": "011KGrClYMsQ",
        "outputId": "52672827-ee50-4dec-aa02-3488d0b34f39"
      },
      "outputs": [
        {
          "output_type": "execute_result",
          "data": {
            "text/plain": [
              "torch.Size([2, 2, 3, 2, 3, 2])"
            ]
          },
          "metadata": {},
          "execution_count": 218
        }
      ],
      "source": [
        "TENSOR7.shape"
      ]
    },
    {
      "cell_type": "markdown",
      "metadata": {
        "id": "r27E6Ic7miuS"
      },
      "source": [
        "### Random Tensors\n",
        "\n",
        "Why random tensors?\n",
        "\n",
        "Random tensors are important because the way many neural networks learn is that they start with tensors full of random numbers and then adjust those random numbers to better represent the data.\n",
        "\n",
        "`Start with random numbers -> look at data -> update random numbers -> look at data -> update random numbers`\n",
        "\n",
        "Torch random tensors = https://pytorch.org/docs/stable/generated/torch.rand.html"
      ]
    },
    {
      "cell_type": "code",
      "execution_count": 219,
      "metadata": {
        "colab": {
          "base_uri": "https://localhost:8080/"
        },
        "id": "tmiPDHEGYVyw",
        "outputId": "3d6eb930-8d31-4de5-9dc8-efcaa1caa6b4"
      },
      "outputs": [
        {
          "output_type": "execute_result",
          "data": {
            "text/plain": [
              "tensor([[0.7336, 0.0585, 0.5013, 0.2042],\n",
              "        [0.0610, 0.5153, 0.6158, 0.1807],\n",
              "        [0.5620, 0.2285, 0.1948, 0.9420]])"
            ]
          },
          "metadata": {},
          "execution_count": 219
        }
      ],
      "source": [
        "# Create a random tensors of size (3,4)\n",
        "random_tensors = torch.rand(3, 4)\n",
        "random_tensors"
      ]
    },
    {
      "cell_type": "code",
      "execution_count": 220,
      "metadata": {
        "colab": {
          "base_uri": "https://localhost:8080/"
        },
        "id": "8lvEmJyxojF6",
        "outputId": "884ca611-a095-4d76-e727-238203dbda0c"
      },
      "outputs": [
        {
          "output_type": "execute_result",
          "data": {
            "text/plain": [
              "2"
            ]
          },
          "metadata": {},
          "execution_count": 220
        }
      ],
      "source": [
        "random_tensors.ndim"
      ]
    },
    {
      "cell_type": "code",
      "execution_count": 221,
      "metadata": {
        "colab": {
          "base_uri": "https://localhost:8080/"
        },
        "id": "2Q0IRwVeoqMS",
        "outputId": "9551b239-6804-4fd9-9de3-4a0bd15179c6"
      },
      "outputs": [
        {
          "output_type": "execute_result",
          "data": {
            "text/plain": [
              "tensor([[0.2518, 0.4704, 0.6594, 0.1813, 0.5273, 0.8654, 0.6075, 0.7589],\n",
              "        [0.6602, 0.7535, 0.1121, 0.7659, 0.0062, 0.7023, 0.1586, 0.0979],\n",
              "        [0.0245, 0.7005, 0.1240, 0.1138, 0.5568, 0.9242, 0.1463, 0.9023],\n",
              "        [0.0449, 0.5193, 0.3286, 0.3257, 0.6485, 0.8534, 0.1151, 0.1895],\n",
              "        [0.0296, 0.8291, 0.7594, 0.9548, 0.2354, 0.3072, 0.0643, 0.4677],\n",
              "        [0.0080, 0.8589, 0.9985, 0.5918, 0.9175, 0.9192, 0.9002, 0.7950],\n",
              "        [0.8022, 0.7022, 0.4207, 0.9120, 0.5460, 0.4210, 0.8435, 0.1302],\n",
              "        [0.6778, 0.0816, 0.5339, 0.8851, 0.5827, 0.2154, 0.5562, 0.3318],\n",
              "        [0.3630, 0.0430, 0.3665, 0.7507, 0.9603, 0.4612, 0.7521, 0.2218],\n",
              "        [0.5570, 0.6175, 0.9644, 0.1483, 0.6464, 0.8627, 0.7204, 0.5762]])"
            ]
          },
          "metadata": {},
          "execution_count": 221
        }
      ],
      "source": [
        "random_tensors = torch.rand(10, 8)\n",
        "random_tensors"
      ]
    },
    {
      "cell_type": "code",
      "execution_count": 222,
      "metadata": {
        "colab": {
          "base_uri": "https://localhost:8080/"
        },
        "id": "C2PhCTMPpGLz",
        "outputId": "ae5a2ea6-fa83-41bf-c754-1c2d535816dc"
      },
      "outputs": [
        {
          "output_type": "execute_result",
          "data": {
            "text/plain": [
              "2"
            ]
          },
          "metadata": {},
          "execution_count": 222
        }
      ],
      "source": [
        "random_tensors.ndim"
      ]
    },
    {
      "cell_type": "code",
      "execution_count": 223,
      "metadata": {
        "colab": {
          "base_uri": "https://localhost:8080/"
        },
        "id": "0OpRsE4woyhK",
        "outputId": "caf28f2f-a3e4-4761-b5d5-8cf8258f4c3e"
      },
      "outputs": [
        {
          "output_type": "execute_result",
          "data": {
            "text/plain": [
              "tensor([[[0.3679, 0.4200, 0.1373,  ..., 0.7654, 0.6510, 0.2853],\n",
              "         [0.7393, 0.2596, 0.8038,  ..., 0.4930, 0.4642, 0.3857],\n",
              "         [0.9838, 0.0348, 0.7235,  ..., 0.8533, 0.9302, 0.0305],\n",
              "         ...,\n",
              "         [0.2281, 0.3153, 0.1625,  ..., 0.7783, 0.9356, 0.5437],\n",
              "         [0.3606, 0.6873, 0.1995,  ..., 0.1566, 0.5326, 0.4853],\n",
              "         [0.4016, 0.3357, 0.7271,  ..., 0.4811, 0.1786, 0.2592]],\n",
              "\n",
              "        [[0.1016, 0.0582, 0.4125,  ..., 0.7202, 0.9011, 0.4977],\n",
              "         [0.5262, 0.7128, 0.5996,  ..., 0.1689, 0.5487, 0.5454],\n",
              "         [0.3792, 0.3196, 0.4783,  ..., 0.2716, 0.1871, 0.5991],\n",
              "         ...,\n",
              "         [0.6524, 0.3276, 0.9414,  ..., 0.7525, 0.4674, 0.9640],\n",
              "         [0.6333, 0.2974, 0.0055,  ..., 0.3238, 0.2490, 0.7400],\n",
              "         [0.7784, 0.5737, 0.9009,  ..., 0.4196, 0.2296, 0.8445]],\n",
              "\n",
              "        [[0.8089, 0.8610, 0.8277,  ..., 0.2697, 0.7477, 0.9764],\n",
              "         [0.0984, 0.9863, 0.2809,  ..., 0.2330, 0.4419, 0.9076],\n",
              "         [0.9117, 0.7985, 0.3038,  ..., 0.8108, 0.3764, 0.6464],\n",
              "         ...,\n",
              "         [0.1986, 0.4018, 0.6548,  ..., 0.1153, 0.7049, 0.5270],\n",
              "         [0.3288, 0.2008, 0.3117,  ..., 0.3045, 0.5314, 0.4580],\n",
              "         [0.9140, 0.9953, 0.9236,  ..., 0.6135, 0.9574, 0.9927]],\n",
              "\n",
              "        ...,\n",
              "\n",
              "        [[0.7509, 0.8966, 0.9004,  ..., 0.7848, 0.3691, 0.7461],\n",
              "         [0.1314, 0.9631, 0.7463,  ..., 0.9129, 0.0403, 0.3992],\n",
              "         [0.2847, 0.7837, 0.3419,  ..., 0.8626, 0.7046, 0.9964],\n",
              "         ...,\n",
              "         [0.7928, 0.4564, 0.1690,  ..., 0.2769, 0.5021, 0.2820],\n",
              "         [0.1171, 0.7791, 0.1091,  ..., 0.2290, 0.2122, 0.0962],\n",
              "         [0.0637, 0.9629, 0.0463,  ..., 0.3766, 0.6854, 0.2906]],\n",
              "\n",
              "        [[0.0047, 0.9000, 0.3805,  ..., 0.8779, 0.6379, 0.0695],\n",
              "         [0.2663, 0.3353, 0.1658,  ..., 0.0520, 0.2718, 0.2002],\n",
              "         [0.5139, 0.6434, 0.1726,  ..., 0.6078, 0.5280, 0.3642],\n",
              "         ...,\n",
              "         [0.3020, 0.5801, 0.5074,  ..., 0.3446, 0.4773, 0.5942],\n",
              "         [0.8691, 0.1393, 0.3740,  ..., 0.7305, 0.4897, 0.9908],\n",
              "         [0.6992, 0.5135, 0.5303,  ..., 0.8589, 0.4281, 0.0195]],\n",
              "\n",
              "        [[0.5227, 0.2329, 0.1258,  ..., 0.3148, 0.1298, 0.5628],\n",
              "         [0.9366, 0.5930, 0.2163,  ..., 0.5766, 0.2567, 0.2861],\n",
              "         [0.9387, 0.4937, 0.2258,  ..., 0.5109, 0.4572, 0.0439],\n",
              "         ...,\n",
              "         [0.6628, 0.9365, 0.3006,  ..., 0.1541, 0.6490, 0.7966],\n",
              "         [0.1325, 0.7758, 0.7547,  ..., 0.9139, 0.8698, 0.6007],\n",
              "         [0.6883, 0.8229, 0.7840,  ..., 0.0841, 0.1989, 0.3142]]])"
            ]
          },
          "metadata": {},
          "execution_count": 223
        }
      ],
      "source": [
        "random_tensors = torch.rand(10, 100, 100)\n",
        "random_tensors"
      ]
    },
    {
      "cell_type": "code",
      "execution_count": 224,
      "metadata": {
        "colab": {
          "base_uri": "https://localhost:8080/"
        },
        "id": "njocHK8JpQ6K",
        "outputId": "d76e5ed7-e375-4295-938f-0c3edec31571"
      },
      "outputs": [
        {
          "output_type": "execute_result",
          "data": {
            "text/plain": [
              "3"
            ]
          },
          "metadata": {},
          "execution_count": 224
        }
      ],
      "source": [
        "random_tensors.ndim"
      ]
    },
    {
      "cell_type": "code",
      "execution_count": 225,
      "metadata": {
        "colab": {
          "base_uri": "https://localhost:8080/"
        },
        "id": "ZliHgF3ApU3S",
        "outputId": "29a08455-f223-4fd5-c2b2-75b81f8e771d"
      },
      "outputs": [
        {
          "output_type": "execute_result",
          "data": {
            "text/plain": [
              "tensor([[[[[5.3572e-01, 5.0518e-01, 9.1844e-01,  ..., 1.9845e-01,\n",
              "            4.4356e-01, 9.3506e-02],\n",
              "           [5.4642e-01, 1.0688e-01, 7.3162e-01,  ..., 8.3750e-01,\n",
              "            6.6163e-01, 9.7744e-01],\n",
              "           [2.7302e-01, 1.3735e-02, 6.9221e-01,  ..., 2.5785e-01,\n",
              "            4.8765e-01, 4.6947e-01],\n",
              "           ...,\n",
              "           [3.6048e-01, 1.5438e-01, 7.0866e-02,  ..., 7.3972e-01,\n",
              "            3.2898e-01, 4.3083e-01],\n",
              "           [3.5181e-01, 9.1051e-01, 9.5799e-01,  ..., 2.2089e-01,\n",
              "            8.3007e-01, 7.4127e-01],\n",
              "           [3.8198e-02, 7.8719e-01, 5.3391e-01,  ..., 4.1317e-01,\n",
              "            8.6445e-01, 5.3228e-01]],\n",
              "\n",
              "          [[3.6940e-02, 9.5070e-01, 1.7376e-01,  ..., 5.2115e-01,\n",
              "            8.5867e-01, 7.2492e-01],\n",
              "           [3.1440e-01, 3.7485e-01, 6.6842e-01,  ..., 7.6160e-03,\n",
              "            2.5749e-01, 8.7092e-01],\n",
              "           [6.6001e-01, 4.1195e-01, 8.0061e-01,  ..., 2.6164e-01,\n",
              "            8.9735e-01, 2.5941e-01],\n",
              "           ...,\n",
              "           [6.0994e-01, 6.8348e-01, 6.5814e-02,  ..., 3.9626e-01,\n",
              "            6.3540e-01, 7.0996e-01],\n",
              "           [7.0726e-01, 5.1274e-02, 4.7536e-01,  ..., 5.3336e-01,\n",
              "            1.0560e-01, 2.5297e-02],\n",
              "           [9.1211e-01, 2.6160e-01, 7.5545e-01,  ..., 8.7047e-02,\n",
              "            5.7517e-02, 4.2057e-01]],\n",
              "\n",
              "          [[1.2506e-01, 3.6227e-02, 3.9295e-01,  ..., 5.3265e-01,\n",
              "            1.0100e-01, 7.8341e-01],\n",
              "           [5.2845e-01, 9.2914e-01, 9.3358e-01,  ..., 3.3733e-01,\n",
              "            1.5205e-01, 3.5641e-01],\n",
              "           [5.8370e-01, 5.1111e-01, 4.2270e-02,  ..., 2.0967e-01,\n",
              "            6.7265e-01, 2.0427e-01],\n",
              "           ...,\n",
              "           [4.3896e-01, 5.9005e-01, 6.8868e-01,  ..., 9.7655e-01,\n",
              "            5.1433e-01, 5.3091e-01],\n",
              "           [4.8135e-01, 3.5075e-01, 8.8194e-01,  ..., 2.7544e-01,\n",
              "            4.1635e-01, 3.0007e-01],\n",
              "           [2.4924e-01, 5.2159e-01, 4.5518e-01,  ..., 8.1748e-01,\n",
              "            8.4890e-01, 9.8732e-01]],\n",
              "\n",
              "          ...,\n",
              "\n",
              "          [[2.5511e-01, 3.5561e-01, 2.0777e-01,  ..., 1.7051e-01,\n",
              "            4.6944e-01, 7.7797e-01],\n",
              "           [5.8507e-01, 7.0143e-01, 2.6596e-01,  ..., 8.0083e-01,\n",
              "            7.2936e-01, 1.3038e-01],\n",
              "           [2.5969e-02, 5.0210e-01, 5.1320e-01,  ..., 5.8016e-02,\n",
              "            2.1109e-01, 9.4721e-01],\n",
              "           ...,\n",
              "           [8.8740e-01, 4.6018e-01, 7.4144e-01,  ..., 5.8543e-01,\n",
              "            7.5340e-01, 2.8891e-01],\n",
              "           [7.2690e-01, 5.2141e-01, 2.8515e-01,  ..., 2.8170e-01,\n",
              "            1.9065e-01, 9.4147e-01],\n",
              "           [7.0190e-01, 5.0514e-01, 6.9498e-01,  ..., 5.2385e-01,\n",
              "            1.0698e-01, 8.0980e-01]],\n",
              "\n",
              "          [[7.4496e-01, 8.4394e-01, 2.1868e-01,  ..., 5.7196e-01,\n",
              "            4.1451e-01, 9.9963e-01],\n",
              "           [2.1524e-01, 8.7639e-02, 1.9915e-01,  ..., 3.6961e-01,\n",
              "            8.7318e-01, 5.8617e-03],\n",
              "           [4.2155e-01, 4.6117e-02, 1.1418e-01,  ..., 6.4689e-01,\n",
              "            7.2419e-02, 3.8895e-01],\n",
              "           ...,\n",
              "           [8.5860e-01, 2.0783e-01, 3.1342e-01,  ..., 4.3187e-01,\n",
              "            7.9696e-01, 6.6284e-01],\n",
              "           [6.5945e-01, 5.8699e-01, 5.2306e-01,  ..., 3.8941e-01,\n",
              "            3.9937e-01, 1.2162e-01],\n",
              "           [2.1802e-01, 8.6888e-01, 2.4385e-01,  ..., 6.4710e-01,\n",
              "            1.0618e-01, 8.8082e-02]],\n",
              "\n",
              "          [[9.0614e-01, 3.6406e-01, 7.0004e-01,  ..., 8.6485e-01,\n",
              "            7.9914e-01, 8.4102e-01],\n",
              "           [4.4066e-01, 1.6045e-02, 5.4113e-02,  ..., 6.6652e-01,\n",
              "            9.1258e-01, 5.5683e-01],\n",
              "           [7.7350e-01, 6.1797e-01, 8.0163e-01,  ..., 2.0136e-01,\n",
              "            4.9338e-01, 7.9416e-01],\n",
              "           ...,\n",
              "           [5.8857e-01, 8.3535e-01, 9.2651e-01,  ..., 1.1857e-01,\n",
              "            3.9206e-01, 6.1243e-01],\n",
              "           [2.4939e-01, 9.1489e-01, 4.5661e-01,  ..., 7.5771e-01,\n",
              "            2.0784e-01, 5.4669e-01],\n",
              "           [6.5441e-01, 2.8793e-01, 3.5274e-01,  ..., 2.4139e-01,\n",
              "            4.2348e-01, 4.3115e-01]]],\n",
              "\n",
              "\n",
              "         [[[5.2935e-01, 2.5064e-01, 9.6386e-01,  ..., 2.1587e-02,\n",
              "            9.9544e-01, 7.6452e-01],\n",
              "           [6.3602e-01, 4.3807e-01, 5.7281e-01,  ..., 8.2230e-01,\n",
              "            2.9828e-01, 1.6076e-02],\n",
              "           [7.2350e-01, 2.3041e-01, 9.2990e-01,  ..., 7.0595e-01,\n",
              "            4.5378e-01, 1.4997e-01],\n",
              "           ...,\n",
              "           [4.6023e-01, 4.4605e-01, 2.2248e-01,  ..., 4.5565e-01,\n",
              "            7.5180e-01, 7.0712e-01],\n",
              "           [4.0596e-01, 1.6841e-01, 5.5535e-01,  ..., 6.4593e-01,\n",
              "            1.7748e-01, 6.2541e-01],\n",
              "           [2.0192e-01, 3.1183e-01, 2.2684e-02,  ..., 7.6832e-01,\n",
              "            6.0128e-01, 1.3702e-01]],\n",
              "\n",
              "          [[2.0214e-01, 3.1473e-01, 8.9864e-02,  ..., 3.3125e-01,\n",
              "            3.1930e-01, 2.6784e-01],\n",
              "           [1.9956e-01, 8.7055e-01, 4.3740e-01,  ..., 4.3120e-01,\n",
              "            7.6226e-01, 1.6307e-01],\n",
              "           [3.7777e-01, 5.9170e-01, 4.2902e-01,  ..., 4.0545e-01,\n",
              "            5.0410e-01, 8.3065e-01],\n",
              "           ...,\n",
              "           [7.5576e-01, 7.6949e-01, 4.0695e-01,  ..., 7.0224e-01,\n",
              "            9.2630e-01, 1.9275e-01],\n",
              "           [1.9693e-01, 2.0311e-01, 6.8414e-04,  ..., 6.2505e-01,\n",
              "            6.1900e-01, 2.8581e-01],\n",
              "           [6.8843e-01, 1.4701e-01, 7.7082e-01,  ..., 9.5304e-01,\n",
              "            9.9935e-01, 4.4185e-01]],\n",
              "\n",
              "          [[2.0200e-01, 2.6493e-01, 1.7951e-01,  ..., 4.4005e-01,\n",
              "            6.4556e-01, 4.4771e-01],\n",
              "           [2.8621e-02, 9.8752e-02, 6.0770e-02,  ..., 2.4679e-02,\n",
              "            3.3062e-01, 5.7976e-02],\n",
              "           [7.6489e-01, 7.8663e-01, 7.6098e-01,  ..., 9.1148e-01,\n",
              "            4.2586e-01, 9.1845e-01],\n",
              "           ...,\n",
              "           [5.2188e-01, 8.3802e-01, 9.5955e-01,  ..., 2.4330e-01,\n",
              "            8.2830e-01, 6.3913e-01],\n",
              "           [3.5541e-01, 6.9178e-02, 3.6214e-01,  ..., 3.7275e-01,\n",
              "            8.6537e-01, 6.6076e-01],\n",
              "           [3.3666e-01, 2.6545e-03, 1.0932e-01,  ..., 2.6413e-01,\n",
              "            1.8680e-01, 9.4169e-01]],\n",
              "\n",
              "          ...,\n",
              "\n",
              "          [[2.9552e-01, 9.2575e-01, 9.9201e-01,  ..., 8.1974e-01,\n",
              "            5.8723e-01, 8.6394e-02],\n",
              "           [3.3085e-01, 5.8503e-01, 6.1654e-01,  ..., 8.3134e-01,\n",
              "            9.9494e-01, 9.9540e-01],\n",
              "           [9.0868e-01, 5.0511e-01, 9.8925e-01,  ..., 1.8253e-01,\n",
              "            1.8194e-01, 1.8593e-02],\n",
              "           ...,\n",
              "           [3.8690e-01, 9.6091e-01, 4.0147e-01,  ..., 8.0479e-01,\n",
              "            9.8022e-01, 6.6537e-01],\n",
              "           [1.9549e-01, 8.7556e-01, 4.1368e-01,  ..., 9.0330e-01,\n",
              "            9.0302e-01, 6.8167e-01],\n",
              "           [5.9881e-01, 6.9790e-01, 4.1192e-01,  ..., 3.1985e-01,\n",
              "            2.8736e-02, 3.6215e-01]],\n",
              "\n",
              "          [[1.5369e-01, 8.6807e-01, 4.3886e-01,  ..., 5.4330e-01,\n",
              "            9.1159e-02, 3.7344e-01],\n",
              "           [5.8523e-01, 4.0378e-01, 9.3487e-01,  ..., 4.9146e-03,\n",
              "            7.7673e-01, 7.4654e-01],\n",
              "           [6.1760e-01, 6.4921e-01, 3.5078e-01,  ..., 9.3106e-01,\n",
              "            3.7228e-01, 1.4538e-01],\n",
              "           ...,\n",
              "           [2.5100e-01, 3.0694e-01, 2.8194e-01,  ..., 5.8726e-01,\n",
              "            3.3000e-01, 7.3864e-01],\n",
              "           [1.4951e-01, 6.0313e-01, 2.3625e-01,  ..., 6.4794e-01,\n",
              "            3.6048e-01, 3.1789e-01],\n",
              "           [4.1495e-01, 8.3884e-02, 3.5128e-01,  ..., 4.8868e-01,\n",
              "            6.0639e-01, 3.0974e-01]],\n",
              "\n",
              "          [[1.4056e-02, 1.9106e-01, 4.0660e-01,  ..., 7.0695e-01,\n",
              "            8.9766e-01, 7.6577e-01],\n",
              "           [5.2119e-02, 9.9161e-02, 1.9718e-02,  ..., 9.2747e-01,\n",
              "            4.7492e-01, 1.3392e-01],\n",
              "           [1.1888e-01, 6.2807e-01, 9.1805e-01,  ..., 2.6756e-01,\n",
              "            9.5965e-01, 6.0623e-01],\n",
              "           ...,\n",
              "           [6.2318e-01, 9.1274e-01, 3.0030e-01,  ..., 5.1658e-01,\n",
              "            7.6758e-01, 2.5541e-01],\n",
              "           [7.7829e-01, 7.0963e-01, 8.0001e-04,  ..., 2.5197e-01,\n",
              "            3.0342e-01, 1.6435e-01],\n",
              "           [4.1194e-01, 2.5169e-01, 7.8254e-01,  ..., 7.3039e-01,\n",
              "            7.9529e-01, 6.8819e-01]]],\n",
              "\n",
              "\n",
              "         [[[5.4873e-01, 1.8623e-02, 9.3658e-01,  ..., 2.6771e-02,\n",
              "            6.6256e-01, 3.8443e-01],\n",
              "           [6.8788e-01, 7.5833e-01, 3.9020e-01,  ..., 4.3054e-01,\n",
              "            3.2450e-01, 7.4514e-01],\n",
              "           [2.8154e-01, 7.5808e-01, 6.0908e-01,  ..., 7.4829e-01,\n",
              "            7.5982e-01, 6.3718e-01],\n",
              "           ...,\n",
              "           [5.2258e-01, 7.9870e-01, 2.9424e-01,  ..., 4.5284e-01,\n",
              "            7.8851e-01, 2.4507e-01],\n",
              "           [5.6192e-01, 4.8765e-01, 9.4831e-01,  ..., 5.6127e-01,\n",
              "            3.1755e-01, 2.3812e-01],\n",
              "           [5.5386e-01, 8.1785e-01, 2.0635e-01,  ..., 3.2293e-01,\n",
              "            1.5004e-01, 2.9355e-02]],\n",
              "\n",
              "          [[5.2011e-01, 6.3770e-01, 2.4307e-01,  ..., 1.2584e-01,\n",
              "            8.3631e-01, 1.4245e-01],\n",
              "           [8.0014e-01, 7.4254e-01, 4.8953e-02,  ..., 9.6763e-01,\n",
              "            6.8725e-02, 1.3982e-01],\n",
              "           [1.9869e-01, 6.3427e-01, 7.5811e-01,  ..., 4.7656e-01,\n",
              "            9.0458e-01, 5.9362e-01],\n",
              "           ...,\n",
              "           [8.8312e-01, 3.3633e-01, 9.1105e-01,  ..., 9.3265e-01,\n",
              "            2.9847e-01, 8.8713e-01],\n",
              "           [4.8880e-01, 9.3575e-02, 1.3479e-01,  ..., 4.3995e-01,\n",
              "            6.1343e-01, 5.2464e-01],\n",
              "           [8.2795e-02, 7.2602e-01, 7.4707e-01,  ..., 1.2025e-02,\n",
              "            5.6315e-01, 8.5956e-01]],\n",
              "\n",
              "          [[3.9278e-01, 4.1206e-01, 7.6791e-01,  ..., 8.5120e-01,\n",
              "            8.1160e-01, 1.5748e-01],\n",
              "           [1.6855e-01, 3.5978e-01, 4.5472e-01,  ..., 8.9166e-01,\n",
              "            5.2643e-01, 3.4708e-01],\n",
              "           [7.2396e-02, 6.3668e-01, 3.1481e-02,  ..., 5.4372e-01,\n",
              "            7.1094e-01, 9.7928e-01],\n",
              "           ...,\n",
              "           [2.3611e-01, 6.6597e-01, 7.8858e-01,  ..., 1.8039e-01,\n",
              "            3.6427e-01, 6.8558e-01],\n",
              "           [5.8432e-01, 8.9646e-01, 1.4572e-01,  ..., 4.2508e-01,\n",
              "            9.1273e-01, 9.8027e-01],\n",
              "           [2.7300e-01, 3.1152e-01, 6.8732e-01,  ..., 8.9050e-01,\n",
              "            8.0881e-01, 7.8813e-01]],\n",
              "\n",
              "          ...,\n",
              "\n",
              "          [[8.3032e-01, 4.3803e-01, 4.5251e-01,  ..., 5.3833e-01,\n",
              "            9.1538e-01, 8.2315e-01],\n",
              "           [8.2400e-01, 5.4977e-02, 4.0832e-01,  ..., 3.1893e-01,\n",
              "            3.2652e-01, 4.8842e-01],\n",
              "           [1.8385e-01, 4.2583e-02, 8.3842e-01,  ..., 5.1397e-01,\n",
              "            3.0765e-01, 6.3924e-02],\n",
              "           ...,\n",
              "           [1.7691e-01, 3.2207e-02, 4.3828e-01,  ..., 3.5385e-01,\n",
              "            4.4292e-01, 4.5757e-02],\n",
              "           [6.9963e-01, 5.7276e-01, 3.6722e-01,  ..., 9.4582e-01,\n",
              "            7.5582e-01, 3.8103e-01],\n",
              "           [1.5237e-01, 1.0874e-01, 4.3741e-01,  ..., 5.2024e-01,\n",
              "            6.6842e-01, 6.4430e-01]],\n",
              "\n",
              "          [[9.5620e-01, 6.8474e-02, 8.0440e-01,  ..., 3.8127e-01,\n",
              "            1.9563e-01, 8.2363e-01],\n",
              "           [7.6171e-01, 5.0819e-01, 3.9944e-01,  ..., 8.1982e-01,\n",
              "            1.3344e-01, 5.5540e-01],\n",
              "           [6.5678e-01, 6.3478e-01, 5.6757e-01,  ..., 5.9499e-01,\n",
              "            1.7694e-01, 3.1193e-01],\n",
              "           ...,\n",
              "           [1.2060e-01, 4.3633e-01, 7.5776e-01,  ..., 8.0146e-01,\n",
              "            5.8804e-01, 8.0854e-01],\n",
              "           [2.2741e-01, 7.0817e-01, 1.9559e-01,  ..., 9.5559e-01,\n",
              "            5.9070e-01, 9.5779e-01],\n",
              "           [3.1045e-01, 2.7770e-01, 6.8356e-01,  ..., 1.1371e-01,\n",
              "            5.1173e-01, 2.7997e-01]],\n",
              "\n",
              "          [[3.1492e-01, 2.9861e-01, 1.3741e-01,  ..., 3.8916e-01,\n",
              "            7.6299e-01, 5.3693e-01],\n",
              "           [5.6129e-01, 6.2248e-01, 4.2853e-01,  ..., 9.5831e-01,\n",
              "            9.2976e-01, 3.9854e-01],\n",
              "           [2.9901e-01, 2.1066e-01, 1.5535e-01,  ..., 9.2996e-01,\n",
              "            9.1724e-01, 5.6724e-01],\n",
              "           ...,\n",
              "           [7.7797e-01, 6.2120e-01, 9.5833e-02,  ..., 1.0097e-01,\n",
              "            5.6273e-01, 7.6070e-01],\n",
              "           [7.0760e-02, 3.2650e-01, 9.2589e-02,  ..., 1.4557e-01,\n",
              "            2.5604e-01, 8.0004e-01],\n",
              "           [1.7653e-01, 7.6046e-01, 5.1808e-01,  ..., 3.0057e-01,\n",
              "            5.9790e-01, 6.5092e-01]]],\n",
              "\n",
              "\n",
              "         ...,\n",
              "\n",
              "\n",
              "         [[[5.3695e-01, 8.4750e-01, 2.6036e-01,  ..., 6.0727e-02,\n",
              "            4.6804e-01, 2.3972e-01],\n",
              "           [7.2639e-01, 2.1460e-01, 1.8837e-01,  ..., 8.5266e-02,\n",
              "            7.0824e-01, 3.0203e-01],\n",
              "           [6.8520e-01, 7.6055e-01, 1.7691e-03,  ..., 1.8776e-01,\n",
              "            5.9864e-01, 8.6705e-01],\n",
              "           ...,\n",
              "           [7.0267e-01, 5.1083e-01, 1.8050e-01,  ..., 5.0265e-01,\n",
              "            6.9452e-01, 4.3467e-01],\n",
              "           [8.5210e-01, 3.4035e-01, 5.8951e-01,  ..., 2.5972e-01,\n",
              "            5.7854e-01, 1.8496e-01],\n",
              "           [3.2484e-01, 4.2173e-02, 1.9690e-01,  ..., 5.1308e-01,\n",
              "            4.3804e-01, 2.8273e-01]],\n",
              "\n",
              "          [[1.8320e-01, 8.4677e-03, 3.1753e-01,  ..., 3.0478e-01,\n",
              "            4.8220e-01, 9.9709e-01],\n",
              "           [8.7977e-02, 4.8278e-02, 5.3975e-01,  ..., 1.6003e-01,\n",
              "            6.5780e-01, 8.7659e-01],\n",
              "           [8.0804e-01, 5.8222e-01, 7.6037e-01,  ..., 1.7551e-01,\n",
              "            7.0069e-01, 7.8633e-01],\n",
              "           ...,\n",
              "           [6.7401e-01, 9.7883e-01, 7.0536e-02,  ..., 3.0252e-01,\n",
              "            5.2366e-03, 6.8745e-02],\n",
              "           [5.5228e-01, 4.8292e-01, 3.2209e-01,  ..., 2.7368e-01,\n",
              "            5.3173e-01, 4.7967e-01],\n",
              "           [6.5370e-01, 2.0167e-01, 3.1713e-01,  ..., 1.4523e-01,\n",
              "            9.9962e-02, 9.0383e-02]],\n",
              "\n",
              "          [[4.4180e-02, 6.0306e-02, 1.6858e-01,  ..., 9.0047e-01,\n",
              "            8.4104e-01, 7.2026e-01],\n",
              "           [1.3921e-02, 8.2560e-01, 6.7260e-01,  ..., 6.4914e-02,\n",
              "            3.4120e-01, 7.6404e-02],\n",
              "           [9.7646e-01, 5.5865e-02, 8.6073e-02,  ..., 6.0683e-02,\n",
              "            8.9710e-01, 1.9145e-01],\n",
              "           ...,\n",
              "           [8.6048e-01, 2.5882e-02, 8.3981e-02,  ..., 5.2110e-02,\n",
              "            6.4901e-01, 8.4469e-01],\n",
              "           [4.8356e-01, 4.2749e-01, 8.5347e-01,  ..., 8.6828e-01,\n",
              "            7.9365e-01, 1.2497e-01],\n",
              "           [7.6457e-01, 4.9977e-01, 7.2538e-01,  ..., 5.9316e-01,\n",
              "            2.4380e-02, 6.3744e-01]],\n",
              "\n",
              "          ...,\n",
              "\n",
              "          [[7.0914e-01, 3.8865e-01, 6.9586e-01,  ..., 3.1180e-01,\n",
              "            5.7504e-01, 6.7946e-01],\n",
              "           [2.8978e-01, 6.3095e-01, 6.7944e-01,  ..., 7.3828e-01,\n",
              "            4.8618e-01, 3.6392e-02],\n",
              "           [8.1606e-01, 7.4867e-01, 1.6897e-01,  ..., 9.1908e-01,\n",
              "            8.3230e-01, 3.9763e-01],\n",
              "           ...,\n",
              "           [7.0437e-01, 1.6032e-01, 3.5043e-01,  ..., 4.8550e-01,\n",
              "            3.1610e-02, 9.5432e-02],\n",
              "           [8.3747e-01, 8.0857e-01, 4.7022e-01,  ..., 1.2942e-02,\n",
              "            3.6849e-01, 4.1786e-01],\n",
              "           [4.9612e-01, 9.9495e-01, 1.9877e-01,  ..., 1.2325e-01,\n",
              "            8.1879e-01, 6.7440e-01]],\n",
              "\n",
              "          [[5.5467e-01, 9.8460e-01, 8.1858e-01,  ..., 3.4811e-01,\n",
              "            9.3671e-01, 8.7488e-01],\n",
              "           [2.9729e-01, 8.1271e-01, 6.8722e-01,  ..., 1.0187e-01,\n",
              "            9.9335e-01, 6.6113e-01],\n",
              "           [7.0875e-01, 4.2951e-01, 9.2343e-03,  ..., 3.9190e-01,\n",
              "            4.7599e-01, 7.0815e-01],\n",
              "           ...,\n",
              "           [5.6239e-01, 8.2054e-01, 4.9238e-01,  ..., 2.8828e-02,\n",
              "            9.5229e-01, 8.2502e-01],\n",
              "           [7.1686e-01, 1.8866e-01, 4.2583e-02,  ..., 5.5111e-01,\n",
              "            3.5872e-01, 9.9118e-01],\n",
              "           [4.5137e-01, 7.3811e-01, 2.2397e-02,  ..., 7.0919e-01,\n",
              "            8.0269e-01, 6.1521e-01]],\n",
              "\n",
              "          [[4.1388e-01, 9.7665e-01, 8.9776e-01,  ..., 2.0194e-01,\n",
              "            8.0437e-01, 2.6530e-03],\n",
              "           [2.1412e-02, 6.7983e-01, 4.5856e-01,  ..., 6.5290e-01,\n",
              "            6.2464e-01, 7.5939e-01],\n",
              "           [4.3760e-01, 3.2546e-01, 8.5767e-01,  ..., 5.8143e-01,\n",
              "            9.7957e-01, 4.5839e-01],\n",
              "           ...,\n",
              "           [4.2864e-01, 8.0289e-01, 2.4737e-01,  ..., 1.7455e-01,\n",
              "            2.2533e-01, 3.8258e-01],\n",
              "           [8.1476e-01, 1.2760e-01, 8.8787e-01,  ..., 9.1482e-01,\n",
              "            7.9124e-01, 3.7984e-01],\n",
              "           [6.3302e-01, 7.7892e-01, 8.5718e-01,  ..., 6.2338e-01,\n",
              "            2.3954e-01, 2.0596e-01]]],\n",
              "\n",
              "\n",
              "         [[[5.1109e-01, 6.7384e-01, 6.9508e-01,  ..., 7.6213e-01,\n",
              "            2.7109e-01, 7.3914e-01],\n",
              "           [1.5458e-01, 5.3010e-01, 7.2849e-01,  ..., 7.3237e-01,\n",
              "            2.7052e-01, 2.1077e-01],\n",
              "           [9.8727e-01, 2.2482e-01, 3.4042e-01,  ..., 3.8743e-02,\n",
              "            4.5179e-01, 8.0276e-01],\n",
              "           ...,\n",
              "           [8.8171e-01, 7.7183e-01, 5.0106e-01,  ..., 8.8333e-01,\n",
              "            3.8486e-01, 3.0631e-01],\n",
              "           [6.1082e-01, 5.0035e-01, 7.4732e-01,  ..., 7.8237e-01,\n",
              "            8.3811e-01, 5.5605e-01],\n",
              "           [4.6606e-02, 6.1790e-01, 1.4893e-01,  ..., 1.3116e-01,\n",
              "            7.7916e-01, 8.3398e-01]],\n",
              "\n",
              "          [[6.2184e-01, 8.5779e-01, 1.1458e-01,  ..., 9.3667e-01,\n",
              "            2.8920e-01, 1.6635e-01],\n",
              "           [1.6202e-01, 3.0901e-01, 5.9343e-01,  ..., 1.3620e-01,\n",
              "            1.8851e-01, 1.7321e-01],\n",
              "           [4.9131e-01, 8.2761e-01, 5.7029e-01,  ..., 5.2981e-01,\n",
              "            8.0667e-01, 5.4276e-01],\n",
              "           ...,\n",
              "           [5.1948e-02, 2.4126e-01, 2.9919e-01,  ..., 8.6299e-01,\n",
              "            6.8992e-01, 2.2825e-01],\n",
              "           [8.6507e-02, 5.0024e-01, 9.1882e-01,  ..., 8.1026e-01,\n",
              "            3.7832e-03, 9.3323e-01],\n",
              "           [2.6242e-01, 5.9774e-01, 1.7708e-01,  ..., 7.9354e-02,\n",
              "            6.1188e-01, 9.9003e-01]],\n",
              "\n",
              "          [[7.6020e-01, 2.0985e-01, 2.7390e-01,  ..., 1.5602e-02,\n",
              "            9.0967e-01, 5.2434e-01],\n",
              "           [2.1793e-01, 8.5251e-01, 2.5613e-01,  ..., 8.0036e-01,\n",
              "            2.7125e-01, 7.1268e-01],\n",
              "           [3.0844e-01, 9.8740e-01, 9.2484e-01,  ..., 5.4121e-01,\n",
              "            2.6077e-01, 1.0555e-01],\n",
              "           ...,\n",
              "           [3.3618e-01, 3.9878e-01, 6.8061e-01,  ..., 5.3530e-01,\n",
              "            6.4082e-01, 2.7399e-02],\n",
              "           [4.3820e-01, 4.5092e-01, 2.5570e-01,  ..., 2.1453e-01,\n",
              "            4.2226e-01, 8.5500e-01],\n",
              "           [1.2426e-01, 8.2236e-01, 8.6039e-01,  ..., 4.3190e-01,\n",
              "            1.6812e-01, 3.4629e-01]],\n",
              "\n",
              "          ...,\n",
              "\n",
              "          [[3.0137e-01, 6.8319e-01, 2.0490e-01,  ..., 5.8785e-01,\n",
              "            8.5087e-02, 9.5315e-01],\n",
              "           [2.3417e-01, 2.7217e-01, 2.0976e-01,  ..., 6.6059e-01,\n",
              "            3.0318e-01, 9.5804e-01],\n",
              "           [6.9068e-01, 3.6984e-01, 9.7482e-01,  ..., 3.4595e-01,\n",
              "            9.9416e-01, 3.0260e-02],\n",
              "           ...,\n",
              "           [7.8146e-02, 5.8102e-01, 6.0923e-02,  ..., 4.1629e-01,\n",
              "            1.4437e-01, 1.9322e-01],\n",
              "           [1.5354e-01, 3.1806e-01, 7.7621e-01,  ..., 6.1533e-01,\n",
              "            4.2924e-03, 1.5053e-02],\n",
              "           [1.7167e-01, 9.7282e-01, 5.9864e-01,  ..., 7.1273e-01,\n",
              "            2.5270e-02, 4.8874e-01]],\n",
              "\n",
              "          [[4.3616e-02, 9.9411e-01, 1.9946e-01,  ..., 6.4646e-01,\n",
              "            2.6257e-01, 7.9381e-01],\n",
              "           [4.7350e-01, 4.0632e-03, 5.6230e-01,  ..., 9.1460e-01,\n",
              "            7.0164e-01, 3.1841e-01],\n",
              "           [5.8713e-01, 4.2068e-01, 4.9830e-01,  ..., 5.7686e-01,\n",
              "            3.7687e-01, 5.8793e-01],\n",
              "           ...,\n",
              "           [3.3209e-01, 7.2512e-01, 2.5611e-01,  ..., 5.3612e-01,\n",
              "            6.4250e-01, 2.4467e-01],\n",
              "           [3.2914e-01, 8.4545e-01, 4.1169e-01,  ..., 3.3529e-01,\n",
              "            8.9505e-01, 1.7770e-01],\n",
              "           [5.5755e-01, 6.6880e-01, 9.1138e-01,  ..., 8.2017e-01,\n",
              "            3.2766e-01, 4.1852e-01]],\n",
              "\n",
              "          [[1.2292e-01, 8.7164e-01, 8.4199e-01,  ..., 6.2612e-01,\n",
              "            3.6414e-01, 7.2087e-01],\n",
              "           [6.7513e-01, 3.5846e-01, 4.3455e-01,  ..., 7.5881e-01,\n",
              "            6.3088e-01, 2.1457e-01],\n",
              "           [5.2107e-01, 6.9076e-01, 3.7524e-01,  ..., 2.9357e-02,\n",
              "            2.5647e-01, 4.4915e-01],\n",
              "           ...,\n",
              "           [5.2956e-01, 8.1786e-02, 7.5592e-01,  ..., 8.8195e-03,\n",
              "            3.0749e-01, 9.8102e-01],\n",
              "           [8.1435e-01, 4.8372e-01, 6.4765e-02,  ..., 4.0882e-01,\n",
              "            2.8195e-01, 2.3518e-01],\n",
              "           [7.0528e-01, 6.2331e-02, 9.3532e-03,  ..., 5.2751e-01,\n",
              "            4.3594e-01, 1.7367e-01]]],\n",
              "\n",
              "\n",
              "         [[[7.8792e-01, 1.9475e-01, 2.3396e-02,  ..., 5.7295e-01,\n",
              "            6.2342e-01, 4.3791e-01],\n",
              "           [3.7045e-01, 1.6624e-01, 4.8562e-01,  ..., 3.3751e-01,\n",
              "            4.5093e-01, 1.8972e-01],\n",
              "           [4.3778e-01, 6.1591e-01, 6.7259e-01,  ..., 2.7404e-01,\n",
              "            3.0414e-01, 9.8451e-01],\n",
              "           ...,\n",
              "           [4.8858e-01, 9.0101e-01, 4.8654e-01,  ..., 8.7315e-01,\n",
              "            5.0442e-01, 5.9906e-01],\n",
              "           [4.1051e-01, 9.0026e-01, 1.5360e-01,  ..., 5.1166e-01,\n",
              "            9.7681e-01, 8.3859e-01],\n",
              "           [3.4090e-01, 4.7135e-01, 9.6042e-01,  ..., 5.5421e-01,\n",
              "            1.4722e-03, 9.5665e-01]],\n",
              "\n",
              "          [[3.8839e-01, 5.6294e-01, 3.2891e-01,  ..., 1.7160e-01,\n",
              "            1.4033e-01, 9.0323e-02],\n",
              "           [4.6286e-01, 9.6264e-01, 7.9904e-01,  ..., 4.8524e-01,\n",
              "            7.2738e-01, 7.0471e-03],\n",
              "           [6.9763e-01, 9.5542e-01, 4.2912e-01,  ..., 4.5167e-01,\n",
              "            7.2182e-01, 2.2250e-01],\n",
              "           ...,\n",
              "           [5.3874e-01, 2.4504e-01, 6.1707e-01,  ..., 4.6214e-01,\n",
              "            6.3552e-01, 4.5462e-01],\n",
              "           [9.9101e-02, 8.9100e-01, 8.6047e-01,  ..., 8.7996e-01,\n",
              "            3.2990e-01, 5.7332e-01],\n",
              "           [4.0602e-01, 3.3997e-01, 9.8066e-01,  ..., 7.5382e-01,\n",
              "            6.8737e-01, 3.2174e-01]],\n",
              "\n",
              "          [[1.7124e-01, 2.9810e-01, 7.6158e-02,  ..., 7.3790e-01,\n",
              "            4.8268e-01, 9.2313e-01],\n",
              "           [9.5202e-01, 4.3676e-01, 2.0634e-01,  ..., 9.9063e-01,\n",
              "            2.3468e-01, 8.9249e-01],\n",
              "           [6.4615e-01, 3.1371e-01, 5.6918e-01,  ..., 1.9967e-01,\n",
              "            8.8214e-02, 3.5903e-01],\n",
              "           ...,\n",
              "           [7.5289e-01, 6.6381e-01, 3.9099e-01,  ..., 2.1506e-01,\n",
              "            4.3492e-01, 1.9629e-01],\n",
              "           [7.5662e-01, 3.1835e-01, 6.6282e-01,  ..., 8.8257e-01,\n",
              "            1.9113e-01, 7.5157e-01],\n",
              "           [4.5345e-01, 1.4444e-01, 3.8187e-01,  ..., 4.4125e-01,\n",
              "            3.9011e-01, 2.2919e-01]],\n",
              "\n",
              "          ...,\n",
              "\n",
              "          [[5.6398e-01, 6.9903e-02, 6.8203e-01,  ..., 7.6970e-01,\n",
              "            9.9095e-02, 4.9866e-01],\n",
              "           [3.4264e-01, 9.1381e-01, 6.9820e-01,  ..., 3.1461e-01,\n",
              "            7.0081e-01, 6.0353e-01],\n",
              "           [1.2003e-01, 9.6956e-01, 9.2713e-01,  ..., 6.9959e-01,\n",
              "            9.9224e-01, 7.5618e-01],\n",
              "           ...,\n",
              "           [2.0246e-02, 9.7212e-02, 2.8663e-01,  ..., 3.0243e-01,\n",
              "            5.6729e-01, 8.9874e-01],\n",
              "           [1.9649e-01, 5.2928e-01, 4.9784e-01,  ..., 9.3015e-01,\n",
              "            6.3320e-01, 1.8903e-01],\n",
              "           [8.2022e-01, 3.8740e-01, 6.3232e-01,  ..., 2.1237e-01,\n",
              "            4.3287e-01, 1.0572e-01]],\n",
              "\n",
              "          [[2.0046e-01, 2.5027e-01, 3.8012e-01,  ..., 8.3267e-01,\n",
              "            8.6721e-01, 2.9312e-02],\n",
              "           [9.4859e-01, 5.1055e-01, 2.0109e-01,  ..., 1.6009e-01,\n",
              "            9.3813e-01, 2.2849e-01],\n",
              "           [5.6212e-01, 7.1307e-01, 7.2540e-01,  ..., 9.2159e-01,\n",
              "            1.7815e-01, 9.1407e-02],\n",
              "           ...,\n",
              "           [1.0572e-01, 3.4432e-01, 9.8608e-01,  ..., 2.6912e-01,\n",
              "            8.1320e-01, 1.1462e-01],\n",
              "           [5.2806e-01, 8.8682e-01, 6.8316e-01,  ..., 3.2862e-01,\n",
              "            1.4032e-01, 7.9362e-01],\n",
              "           [3.0279e-01, 5.4681e-01, 8.3261e-01,  ..., 4.7706e-01,\n",
              "            6.7279e-01, 4.7853e-01]],\n",
              "\n",
              "          [[7.2835e-01, 8.3064e-01, 7.0847e-01,  ..., 2.1223e-01,\n",
              "            1.8320e-01, 3.0635e-01],\n",
              "           [3.8419e-01, 9.5704e-01, 7.7274e-01,  ..., 4.7919e-01,\n",
              "            8.4631e-01, 1.8977e-01],\n",
              "           [2.5638e-01, 1.6810e-01, 3.8126e-01,  ..., 3.0435e-01,\n",
              "            9.3201e-01, 1.3946e-01],\n",
              "           ...,\n",
              "           [9.3893e-01, 8.3485e-01, 6.3798e-02,  ..., 9.6646e-01,\n",
              "            5.5825e-01, 1.0584e-01],\n",
              "           [7.6267e-01, 7.5355e-01, 9.7901e-01,  ..., 5.5333e-01,\n",
              "            8.4467e-01, 6.7027e-01],\n",
              "           [6.3289e-01, 8.2758e-01, 3.2867e-01,  ..., 5.0849e-01,\n",
              "            4.7105e-01, 9.4759e-01]]]],\n",
              "\n",
              "\n",
              "\n",
              "        [[[[3.6666e-01, 3.3594e-01, 2.0248e-01,  ..., 8.1396e-02,\n",
              "            8.0373e-01, 3.3806e-01],\n",
              "           [8.6432e-01, 1.4605e-01, 7.2019e-01,  ..., 4.8165e-01,\n",
              "            3.1578e-01, 9.5857e-01],\n",
              "           [7.2413e-01, 7.0098e-01, 7.9506e-01,  ..., 8.6648e-01,\n",
              "            8.7313e-01, 7.3454e-01],\n",
              "           ...,\n",
              "           [2.5495e-01, 5.3000e-01, 4.8378e-03,  ..., 1.4045e-01,\n",
              "            7.7569e-01, 7.9822e-01],\n",
              "           [5.7447e-01, 1.4306e-01, 6.5544e-01,  ..., 9.6215e-01,\n",
              "            2.2943e-02, 8.7686e-02],\n",
              "           [9.6520e-01, 4.8346e-01, 3.0161e-01,  ..., 7.0770e-02,\n",
              "            1.1802e-01, 8.5404e-02]],\n",
              "\n",
              "          [[7.3214e-01, 8.0760e-01, 8.6486e-01,  ..., 6.0251e-01,\n",
              "            5.8997e-01, 6.0501e-01],\n",
              "           [5.8688e-01, 3.1896e-01, 5.6457e-01,  ..., 3.6588e-01,\n",
              "            9.5139e-02, 4.9517e-01],\n",
              "           [4.2551e-01, 4.0171e-01, 5.6673e-01,  ..., 7.5518e-01,\n",
              "            6.5093e-01, 2.9975e-01],\n",
              "           ...,\n",
              "           [5.1588e-01, 3.7670e-01, 8.1227e-01,  ..., 6.1998e-01,\n",
              "            4.7148e-01, 8.9921e-01],\n",
              "           [5.0632e-01, 5.6904e-01, 2.6489e-01,  ..., 9.4347e-01,\n",
              "            6.7170e-01, 5.1791e-01],\n",
              "           [4.3320e-01, 9.3063e-01, 6.3954e-01,  ..., 7.1866e-01,\n",
              "            7.8787e-01, 6.1183e-01]],\n",
              "\n",
              "          [[3.3538e-01, 8.1946e-01, 6.1957e-01,  ..., 5.5940e-01,\n",
              "            8.7495e-01, 2.2721e-01],\n",
              "           [2.7121e-01, 2.3861e-01, 3.0786e-01,  ..., 8.7327e-01,\n",
              "            9.8884e-01, 4.5344e-01],\n",
              "           [6.3175e-01, 6.0082e-01, 4.7338e-01,  ..., 6.1824e-01,\n",
              "            9.3056e-01, 5.7722e-01],\n",
              "           ...,\n",
              "           [2.3245e-01, 7.6412e-01, 4.7618e-01,  ..., 8.5964e-01,\n",
              "            4.7235e-01, 9.2239e-01],\n",
              "           [2.7874e-01, 3.7843e-01, 9.9930e-01,  ..., 3.1137e-01,\n",
              "            4.4592e-01, 3.2301e-01],\n",
              "           [8.1425e-01, 7.5832e-01, 1.9014e-01,  ..., 3.9109e-01,\n",
              "            7.9682e-01, 2.6470e-01]],\n",
              "\n",
              "          ...,\n",
              "\n",
              "          [[6.1774e-01, 9.4830e-01, 2.6213e-01,  ..., 8.9287e-01,\n",
              "            7.0697e-01, 2.9298e-01],\n",
              "           [4.6393e-01, 1.2068e-01, 8.3408e-01,  ..., 3.1125e-01,\n",
              "            5.4106e-02, 5.6258e-01],\n",
              "           [2.5620e-01, 8.7125e-01, 2.4147e-01,  ..., 7.7537e-02,\n",
              "            5.4106e-01, 3.8680e-02],\n",
              "           ...,\n",
              "           [4.3403e-01, 8.6056e-01, 1.9942e-01,  ..., 4.3611e-01,\n",
              "            5.5283e-02, 1.8386e-01],\n",
              "           [4.1076e-01, 2.3048e-01, 2.4317e-01,  ..., 8.4564e-01,\n",
              "            8.0005e-02, 4.2647e-01],\n",
              "           [1.0739e-01, 6.9465e-01, 5.4323e-01,  ..., 9.5250e-01,\n",
              "            6.1955e-01, 5.3418e-01]],\n",
              "\n",
              "          [[8.4297e-01, 2.4350e-02, 4.2871e-01,  ..., 5.7597e-01,\n",
              "            2.8397e-01, 9.9486e-01],\n",
              "           [8.5603e-01, 4.6287e-01, 4.6479e-01,  ..., 9.8105e-01,\n",
              "            9.8283e-01, 3.2266e-01],\n",
              "           [4.7238e-01, 8.7902e-02, 3.6685e-01,  ..., 7.9473e-01,\n",
              "            6.7827e-01, 8.0350e-01],\n",
              "           ...,\n",
              "           [7.7870e-02, 6.8450e-01, 7.1794e-01,  ..., 4.9565e-01,\n",
              "            9.8136e-01, 1.9533e-01],\n",
              "           [3.4141e-01, 8.4254e-01, 4.3942e-01,  ..., 9.3389e-01,\n",
              "            6.2563e-01, 4.4866e-01],\n",
              "           [3.2462e-01, 3.9184e-01, 4.9653e-01,  ..., 4.6376e-01,\n",
              "            4.3208e-01, 1.1827e-01]],\n",
              "\n",
              "          [[5.1994e-01, 9.0942e-01, 8.2257e-01,  ..., 9.4719e-01,\n",
              "            4.9839e-02, 2.2055e-01],\n",
              "           [1.5955e-01, 2.7456e-01, 5.9535e-01,  ..., 9.5683e-03,\n",
              "            9.1482e-01, 9.4964e-01],\n",
              "           [7.0106e-01, 2.8036e-01, 3.5777e-01,  ..., 9.0787e-01,\n",
              "            1.3857e-02, 1.6432e-01],\n",
              "           ...,\n",
              "           [5.8708e-01, 7.0033e-01, 5.2994e-01,  ..., 2.8707e-01,\n",
              "            4.5675e-01, 3.2810e-01],\n",
              "           [9.9838e-01, 4.0190e-01, 6.6519e-01,  ..., 3.9168e-01,\n",
              "            2.5038e-01, 2.8296e-01],\n",
              "           [4.8837e-01, 3.8602e-01, 4.0097e-01,  ..., 4.1365e-02,\n",
              "            9.2313e-01, 1.7076e-01]]],\n",
              "\n",
              "\n",
              "         [[[2.4406e-01, 4.8826e-01, 7.0048e-01,  ..., 8.8028e-01,\n",
              "            1.6154e-01, 9.0387e-03],\n",
              "           [2.8744e-01, 3.4341e-01, 9.5371e-01,  ..., 3.0225e-01,\n",
              "            9.9784e-01, 7.6720e-01],\n",
              "           [1.2880e-02, 1.5216e-01, 8.8051e-01,  ..., 3.3706e-01,\n",
              "            3.3208e-01, 8.3572e-01],\n",
              "           ...,\n",
              "           [4.7555e-02, 3.3521e-01, 2.6214e-02,  ..., 8.8781e-01,\n",
              "            3.5992e-01, 2.3886e-01],\n",
              "           [1.7688e-01, 9.6891e-01, 2.9360e-01,  ..., 4.3104e-01,\n",
              "            3.6782e-01, 8.6375e-01],\n",
              "           [7.9097e-01, 7.7816e-01, 6.0178e-01,  ..., 9.7466e-02,\n",
              "            5.2824e-01, 3.9197e-01]],\n",
              "\n",
              "          [[6.7679e-01, 2.5933e-01, 6.8733e-01,  ..., 6.3683e-01,\n",
              "            1.4272e-01, 4.7225e-01],\n",
              "           [2.4770e-01, 5.1766e-01, 2.1228e-01,  ..., 2.9682e-01,\n",
              "            9.3360e-01, 5.9453e-01],\n",
              "           [1.0782e-02, 2.4150e-01, 4.6313e-02,  ..., 2.8284e-01,\n",
              "            1.9395e-02, 7.2201e-01],\n",
              "           ...,\n",
              "           [4.4125e-01, 8.7910e-01, 1.5361e-01,  ..., 5.6162e-01,\n",
              "            1.4893e-01, 7.1390e-01],\n",
              "           [1.1703e-01, 1.0257e-01, 7.8015e-01,  ..., 1.1098e-01,\n",
              "            7.0813e-01, 6.8945e-01],\n",
              "           [9.3307e-02, 4.7221e-01, 4.2702e-01,  ..., 6.4875e-01,\n",
              "            5.0659e-01, 9.2255e-01]],\n",
              "\n",
              "          [[1.4354e-02, 4.2749e-01, 9.4597e-01,  ..., 5.3539e-01,\n",
              "            6.3076e-01, 2.4443e-01],\n",
              "           [3.7292e-02, 4.9694e-01, 4.7715e-01,  ..., 7.0025e-01,\n",
              "            1.7329e-01, 2.0722e-01],\n",
              "           [2.4741e-01, 6.4384e-01, 7.5212e-01,  ..., 8.9639e-01,\n",
              "            4.5029e-01, 1.8763e-01],\n",
              "           ...,\n",
              "           [9.2600e-01, 8.2616e-01, 7.7765e-01,  ..., 8.8529e-02,\n",
              "            4.7796e-01, 4.7783e-01],\n",
              "           [5.1552e-01, 9.9103e-01, 3.1301e-01,  ..., 5.0056e-01,\n",
              "            6.2973e-01, 7.1276e-01],\n",
              "           [7.9096e-01, 2.3228e-01, 4.4608e-01,  ..., 9.6026e-01,\n",
              "            4.0549e-01, 4.8156e-01]],\n",
              "\n",
              "          ...,\n",
              "\n",
              "          [[1.9224e-01, 6.7412e-01, 8.8551e-01,  ..., 5.9203e-02,\n",
              "            1.3506e-01, 8.8791e-01],\n",
              "           [8.8147e-01, 1.5876e-01, 7.3425e-01,  ..., 7.5861e-02,\n",
              "            8.1329e-01, 3.8146e-01],\n",
              "           [2.2604e-01, 9.6829e-01, 6.7298e-01,  ..., 1.7172e-01,\n",
              "            2.8159e-01, 5.7084e-01],\n",
              "           ...,\n",
              "           [1.8311e-01, 3.9711e-02, 1.0214e-01,  ..., 8.5486e-01,\n",
              "            3.4268e-01, 9.5358e-01],\n",
              "           [8.0586e-01, 2.0078e-01, 4.5599e-01,  ..., 6.7627e-01,\n",
              "            6.8778e-01, 5.1011e-01],\n",
              "           [9.6427e-01, 5.0065e-01, 2.9153e-01,  ..., 3.2576e-01,\n",
              "            4.1795e-01, 8.0519e-01]],\n",
              "\n",
              "          [[4.7234e-01, 3.4063e-01, 2.5825e-01,  ..., 9.4192e-01,\n",
              "            1.7046e-01, 3.9417e-01],\n",
              "           [2.9462e-01, 3.2540e-01, 6.5452e-01,  ..., 1.4867e-01,\n",
              "            2.8212e-01, 1.5551e-02],\n",
              "           [1.3570e-01, 7.8450e-01, 7.1031e-01,  ..., 7.3106e-02,\n",
              "            9.3674e-01, 7.2599e-01],\n",
              "           ...,\n",
              "           [8.3021e-01, 3.8071e-01, 7.1015e-01,  ..., 9.5767e-01,\n",
              "            2.0477e-01, 5.6781e-01],\n",
              "           [7.0034e-01, 4.1104e-02, 7.7786e-02,  ..., 2.0087e-02,\n",
              "            2.2027e-01, 7.2427e-01],\n",
              "           [4.1055e-01, 7.5431e-01, 1.7358e-01,  ..., 7.3249e-01,\n",
              "            3.8197e-01, 1.0200e-01]],\n",
              "\n",
              "          [[9.6358e-01, 2.4931e-01, 2.9822e-01,  ..., 2.8923e-01,\n",
              "            7.3788e-01, 8.0651e-01],\n",
              "           [1.4845e-02, 8.3502e-01, 7.9748e-01,  ..., 2.6148e-01,\n",
              "            7.7858e-01, 8.8723e-01],\n",
              "           [8.3152e-01, 9.9445e-02, 3.0048e-01,  ..., 8.2712e-01,\n",
              "            1.5860e-01, 9.8897e-01],\n",
              "           ...,\n",
              "           [9.5225e-01, 9.5727e-01, 7.4235e-01,  ..., 2.4728e-01,\n",
              "            6.3827e-01, 2.6547e-01],\n",
              "           [7.7203e-01, 5.9542e-01, 3.1627e-01,  ..., 8.1631e-01,\n",
              "            1.9910e-01, 1.3497e-01],\n",
              "           [8.7733e-01, 9.0473e-02, 7.4328e-01,  ..., 4.5014e-01,\n",
              "            1.6898e-03, 1.0682e-01]]],\n",
              "\n",
              "\n",
              "         [[[5.6487e-01, 1.3316e-01, 7.2224e-01,  ..., 9.8209e-01,\n",
              "            2.0070e-02, 7.2201e-01],\n",
              "           [6.3773e-01, 4.7449e-01, 4.1318e-01,  ..., 5.6284e-01,\n",
              "            8.1093e-01, 2.2856e-01],\n",
              "           [2.8596e-01, 1.9834e-02, 9.6120e-01,  ..., 8.9927e-01,\n",
              "            4.0548e-01, 5.4485e-01],\n",
              "           ...,\n",
              "           [7.5806e-01, 3.2302e-01, 7.4565e-01,  ..., 6.5040e-01,\n",
              "            1.0636e-01, 1.3056e-01],\n",
              "           [4.1858e-01, 9.5797e-01, 2.9028e-01,  ..., 3.5222e-01,\n",
              "            4.9507e-01, 9.0310e-01],\n",
              "           [8.9515e-01, 8.8350e-01, 4.6794e-01,  ..., 6.9343e-01,\n",
              "            7.0099e-01, 3.9112e-01]],\n",
              "\n",
              "          [[6.3732e-01, 6.2558e-01, 7.3810e-01,  ..., 5.0972e-01,\n",
              "            3.1226e-02, 5.7318e-01],\n",
              "           [7.5744e-01, 4.4798e-01, 5.6948e-01,  ..., 4.5558e-01,\n",
              "            8.7668e-01, 9.7594e-01],\n",
              "           [5.5486e-01, 4.6133e-01, 5.8884e-01,  ..., 8.9862e-01,\n",
              "            9.6890e-01, 4.2252e-01],\n",
              "           ...,\n",
              "           [6.7162e-01, 7.4164e-01, 7.0732e-01,  ..., 3.0655e-01,\n",
              "            2.5682e-01, 6.4452e-01],\n",
              "           [7.2688e-01, 7.5429e-01, 3.7603e-01,  ..., 5.7119e-01,\n",
              "            9.5635e-01, 7.2907e-01],\n",
              "           [7.7174e-01, 1.8236e-01, 1.5236e-01,  ..., 3.7391e-01,\n",
              "            1.2339e-01, 6.0527e-01]],\n",
              "\n",
              "          [[1.8356e-01, 3.5833e-01, 4.8958e-01,  ..., 9.1864e-01,\n",
              "            1.6646e-01, 4.6791e-01],\n",
              "           [5.0217e-01, 6.1155e-01, 2.4363e-01,  ..., 5.1920e-01,\n",
              "            7.2846e-01, 4.3605e-01],\n",
              "           [5.3946e-01, 7.3949e-01, 1.0885e-02,  ..., 7.3566e-01,\n",
              "            8.4853e-01, 3.0924e-01],\n",
              "           ...,\n",
              "           [7.7713e-01, 6.9603e-01, 7.5610e-01,  ..., 1.5856e-01,\n",
              "            3.7647e-03, 7.8461e-01],\n",
              "           [4.1272e-01, 1.4728e-01, 9.2942e-01,  ..., 2.3126e-01,\n",
              "            2.8220e-01, 6.6087e-02],\n",
              "           [5.8042e-01, 9.0756e-01, 5.8402e-01,  ..., 9.3117e-01,\n",
              "            8.9550e-01, 1.3075e-01]],\n",
              "\n",
              "          ...,\n",
              "\n",
              "          [[9.0068e-01, 1.9276e-01, 6.9642e-01,  ..., 1.9631e-01,\n",
              "            6.6516e-01, 8.9404e-02],\n",
              "           [9.4772e-02, 5.5320e-02, 5.0501e-01,  ..., 5.7398e-01,\n",
              "            2.3308e-01, 3.8705e-01],\n",
              "           [9.1611e-01, 1.1786e-01, 3.0020e-01,  ..., 5.3640e-01,\n",
              "            6.2807e-01, 7.4180e-01],\n",
              "           ...,\n",
              "           [4.6894e-01, 5.3380e-01, 1.1318e-01,  ..., 6.7836e-01,\n",
              "            8.7945e-01, 4.6573e-01],\n",
              "           [2.1164e-01, 1.5359e-01, 2.3465e-01,  ..., 4.8181e-02,\n",
              "            6.3789e-01, 8.7408e-01],\n",
              "           [1.2439e-01, 2.8906e-01, 2.5554e-01,  ..., 6.8485e-01,\n",
              "            4.5180e-01, 7.9912e-01]],\n",
              "\n",
              "          [[6.8997e-01, 7.0925e-01, 8.7488e-02,  ..., 3.7790e-01,\n",
              "            6.7282e-01, 7.5050e-01],\n",
              "           [7.0985e-03, 4.4361e-01, 1.5618e-01,  ..., 5.9864e-01,\n",
              "            1.8631e-01, 5.8415e-01],\n",
              "           [1.1214e-01, 4.5283e-01, 6.2019e-01,  ..., 1.6078e-01,\n",
              "            1.0287e-01, 4.7851e-01],\n",
              "           ...,\n",
              "           [2.2694e-01, 5.2453e-01, 7.7583e-01,  ..., 6.4364e-01,\n",
              "            7.5501e-01, 9.5859e-01],\n",
              "           [5.5128e-01, 9.8827e-01, 6.5847e-01,  ..., 7.6026e-01,\n",
              "            8.5868e-01, 9.4152e-01],\n",
              "           [2.3436e-01, 4.0429e-01, 2.6797e-01,  ..., 8.3063e-01,\n",
              "            5.0757e-01, 3.6058e-01]],\n",
              "\n",
              "          [[1.7689e-01, 3.8717e-01, 7.1664e-02,  ..., 8.0595e-01,\n",
              "            9.3072e-01, 5.6404e-01],\n",
              "           [3.9458e-01, 4.2903e-01, 2.5753e-01,  ..., 8.6593e-02,\n",
              "            9.2137e-01, 5.0739e-01],\n",
              "           [4.5217e-01, 9.2036e-01, 5.3504e-01,  ..., 6.8587e-01,\n",
              "            8.8432e-02, 5.6725e-01],\n",
              "           ...,\n",
              "           [1.5092e-01, 3.0953e-01, 5.6612e-01,  ..., 3.8389e-01,\n",
              "            1.5287e-01, 3.9503e-02],\n",
              "           [7.4946e-01, 4.3900e-01, 8.9386e-01,  ..., 9.1655e-01,\n",
              "            6.6608e-01, 2.4398e-01],\n",
              "           [1.5355e-01, 4.5378e-01, 1.0996e-01,  ..., 8.5854e-01,\n",
              "            3.0019e-01, 7.1752e-01]]],\n",
              "\n",
              "\n",
              "         ...,\n",
              "\n",
              "\n",
              "         [[[1.2016e-01, 8.2429e-01, 3.9682e-01,  ..., 4.5012e-01,\n",
              "            9.5472e-01, 9.7087e-01],\n",
              "           [3.7582e-01, 9.3898e-01, 3.8123e-01,  ..., 4.3764e-01,\n",
              "            3.1775e-01, 6.7519e-01],\n",
              "           [9.9362e-01, 8.0805e-01, 7.7988e-01,  ..., 8.8246e-03,\n",
              "            7.2347e-01, 5.4054e-01],\n",
              "           ...,\n",
              "           [2.1443e-01, 5.9476e-01, 3.7564e-01,  ..., 2.2796e-01,\n",
              "            8.7469e-01, 8.4530e-01],\n",
              "           [9.3591e-01, 4.7320e-01, 6.6126e-01,  ..., 3.7936e-01,\n",
              "            8.2932e-01, 1.1270e-01],\n",
              "           [5.2321e-01, 5.3318e-01, 9.6684e-01,  ..., 8.3596e-01,\n",
              "            4.5885e-01, 3.8350e-01]],\n",
              "\n",
              "          [[8.8389e-01, 9.4954e-01, 2.1632e-01,  ..., 4.1889e-01,\n",
              "            9.3388e-01, 7.3231e-01],\n",
              "           [9.2084e-01, 8.8844e-01, 8.3627e-01,  ..., 1.3145e-01,\n",
              "            2.5913e-01, 6.4094e-01],\n",
              "           [9.2925e-01, 5.1596e-01, 8.2114e-01,  ..., 5.6668e-01,\n",
              "            6.9274e-02, 8.4491e-01],\n",
              "           ...,\n",
              "           [4.2359e-01, 7.0312e-01, 5.1431e-01,  ..., 5.4146e-01,\n",
              "            8.5411e-01, 8.0215e-01],\n",
              "           [6.8438e-01, 4.0284e-01, 2.4809e-01,  ..., 3.7677e-01,\n",
              "            6.2061e-01, 8.4146e-01],\n",
              "           [7.9641e-02, 2.3814e-01, 8.8360e-01,  ..., 5.8459e-02,\n",
              "            8.0855e-01, 8.3999e-01]],\n",
              "\n",
              "          [[5.9920e-01, 7.2255e-01, 1.7648e-01,  ..., 2.8437e-01,\n",
              "            6.0525e-01, 6.9933e-01],\n",
              "           [4.7054e-01, 2.2513e-01, 2.5616e-01,  ..., 7.6809e-01,\n",
              "            3.2354e-01, 8.4976e-02],\n",
              "           [8.3661e-01, 3.1890e-01, 5.9203e-03,  ..., 7.8343e-01,\n",
              "            6.8254e-01, 6.1097e-01],\n",
              "           ...,\n",
              "           [6.1505e-01, 9.4720e-01, 6.5336e-01,  ..., 6.0943e-01,\n",
              "            9.9321e-02, 2.5554e-01],\n",
              "           [6.8962e-01, 2.2353e-01, 4.7719e-02,  ..., 1.3126e-01,\n",
              "            4.3213e-01, 5.5164e-01],\n",
              "           [2.6325e-01, 4.6603e-01, 8.3042e-01,  ..., 9.3515e-02,\n",
              "            7.3423e-01, 6.2175e-01]],\n",
              "\n",
              "          ...,\n",
              "\n",
              "          [[8.0834e-01, 9.8140e-01, 5.2370e-01,  ..., 6.8400e-01,\n",
              "            6.4283e-01, 5.4077e-01],\n",
              "           [6.8783e-01, 9.0216e-02, 2.4324e-01,  ..., 9.4800e-01,\n",
              "            1.9629e-01, 3.2586e-01],\n",
              "           [4.4867e-01, 7.1008e-01, 6.1048e-01,  ..., 7.7715e-02,\n",
              "            5.1758e-01, 9.7869e-01],\n",
              "           ...,\n",
              "           [1.7010e-01, 7.4682e-01, 4.8138e-02,  ..., 6.1063e-01,\n",
              "            9.5228e-01, 2.3753e-01],\n",
              "           [7.9610e-01, 8.5562e-01, 9.4873e-01,  ..., 2.4575e-01,\n",
              "            3.3081e-01, 7.3242e-02],\n",
              "           [5.6191e-01, 1.6155e-01, 5.5059e-01,  ..., 4.4958e-01,\n",
              "            5.3282e-01, 4.6864e-01]],\n",
              "\n",
              "          [[2.5167e-01, 9.6869e-01, 5.1133e-01,  ..., 6.4297e-01,\n",
              "            4.1005e-01, 9.2206e-01],\n",
              "           [3.7885e-01, 2.9699e-01, 4.8355e-01,  ..., 5.2934e-01,\n",
              "            8.3570e-01, 1.0470e-01],\n",
              "           [3.8219e-01, 3.5706e-01, 6.0086e-01,  ..., 1.0711e-01,\n",
              "            6.6473e-01, 4.9006e-01],\n",
              "           ...,\n",
              "           [6.5970e-01, 1.0172e-01, 6.4122e-01,  ..., 4.6485e-01,\n",
              "            1.8891e-01, 2.3856e-01],\n",
              "           [2.2595e-01, 3.4076e-02, 3.5019e-02,  ..., 5.6466e-01,\n",
              "            7.7605e-01, 7.9544e-01],\n",
              "           [9.7906e-01, 3.9086e-01, 4.3984e-01,  ..., 9.4037e-01,\n",
              "            1.9881e-01, 5.1343e-01]],\n",
              "\n",
              "          [[7.4690e-01, 6.9180e-01, 2.0216e-01,  ..., 3.8188e-01,\n",
              "            9.8039e-01, 1.8594e-01],\n",
              "           [4.4867e-01, 5.4783e-01, 9.4936e-01,  ..., 6.3223e-01,\n",
              "            5.2374e-01, 4.7188e-01],\n",
              "           [1.3815e-01, 4.2829e-01, 7.7284e-01,  ..., 3.9650e-01,\n",
              "            4.1049e-01, 2.5945e-01],\n",
              "           ...,\n",
              "           [4.5415e-01, 7.7188e-01, 2.3376e-01,  ..., 5.0540e-01,\n",
              "            5.6559e-01, 6.6724e-01],\n",
              "           [6.8252e-01, 5.5299e-01, 3.1942e-01,  ..., 7.0445e-01,\n",
              "            3.7327e-01, 6.8785e-01],\n",
              "           [1.7818e-01, 1.5356e-01, 1.2741e-01,  ..., 4.2779e-01,\n",
              "            7.7572e-01, 6.7635e-01]]],\n",
              "\n",
              "\n",
              "         [[[9.8704e-01, 6.0465e-01, 3.6332e-01,  ..., 3.8528e-01,\n",
              "            6.6247e-01, 4.3132e-01],\n",
              "           [8.3849e-01, 6.3567e-01, 1.1440e-01,  ..., 1.8256e-02,\n",
              "            3.8816e-01, 7.9522e-01],\n",
              "           [3.5258e-02, 1.7087e-01, 6.1864e-02,  ..., 5.0445e-01,\n",
              "            9.1984e-01, 6.3673e-01],\n",
              "           ...,\n",
              "           [8.6567e-03, 4.5443e-01, 8.1552e-01,  ..., 5.0906e-01,\n",
              "            8.6925e-01, 4.1816e-01],\n",
              "           [7.5440e-01, 6.0011e-01, 6.5776e-03,  ..., 3.8964e-01,\n",
              "            8.8606e-01, 5.2576e-01],\n",
              "           [1.1112e-01, 7.8209e-01, 8.7378e-01,  ..., 3.2724e-01,\n",
              "            4.5757e-01, 6.6249e-01]],\n",
              "\n",
              "          [[3.0431e-01, 4.6460e-01, 9.5110e-01,  ..., 6.6206e-01,\n",
              "            7.9085e-01, 6.3942e-01],\n",
              "           [8.0927e-01, 2.7144e-01, 1.3164e-01,  ..., 5.0337e-02,\n",
              "            5.9021e-01, 1.4811e-01],\n",
              "           [8.4120e-01, 3.0219e-01, 3.4509e-01,  ..., 3.4743e-01,\n",
              "            8.6481e-01, 2.2083e-01],\n",
              "           ...,\n",
              "           [1.5592e-01, 8.1153e-01, 3.9221e-01,  ..., 9.9633e-01,\n",
              "            6.8320e-01, 6.0204e-01],\n",
              "           [5.0996e-01, 4.3401e-01, 9.4327e-01,  ..., 7.9043e-01,\n",
              "            5.8437e-01, 2.5442e-01],\n",
              "           [9.2740e-01, 6.3021e-01, 5.2903e-02,  ..., 1.6528e-01,\n",
              "            9.5844e-01, 7.1668e-01]],\n",
              "\n",
              "          [[7.3227e-01, 7.0032e-01, 8.1620e-01,  ..., 7.0532e-01,\n",
              "            5.6216e-01, 7.2852e-02],\n",
              "           [6.6912e-01, 8.9782e-01, 6.1502e-01,  ..., 8.0886e-03,\n",
              "            2.7298e-01, 2.4832e-02],\n",
              "           [1.2802e-01, 6.3302e-01, 1.6857e-01,  ..., 2.5633e-02,\n",
              "            6.2077e-01, 4.3640e-01],\n",
              "           ...,\n",
              "           [7.6839e-01, 1.4934e-01, 7.2803e-01,  ..., 2.0545e-01,\n",
              "            6.5369e-01, 7.9126e-01],\n",
              "           [6.7379e-01, 7.3248e-01, 7.9288e-01,  ..., 5.8183e-01,\n",
              "            4.8828e-01, 4.7010e-01],\n",
              "           [8.7382e-01, 1.2284e-01, 6.4238e-01,  ..., 3.7026e-01,\n",
              "            2.6496e-01, 3.0725e-01]],\n",
              "\n",
              "          ...,\n",
              "\n",
              "          [[3.0195e-01, 6.0013e-02, 3.9288e-01,  ..., 4.2654e-01,\n",
              "            2.4173e-01, 7.7842e-01],\n",
              "           [5.7412e-01, 2.0495e-01, 9.6832e-01,  ..., 4.1009e-02,\n",
              "            5.2649e-01, 9.5340e-01],\n",
              "           [1.7438e-01, 7.8515e-02, 2.3725e-01,  ..., 5.3139e-01,\n",
              "            6.1681e-01, 9.7369e-01],\n",
              "           ...,\n",
              "           [5.7505e-01, 7.2322e-01, 1.7903e-01,  ..., 5.7239e-01,\n",
              "            3.1776e-01, 1.4315e-01],\n",
              "           [2.7992e-01, 3.4819e-01, 3.3727e-01,  ..., 6.5660e-01,\n",
              "            6.1923e-01, 1.4069e-01],\n",
              "           [3.9382e-01, 5.2606e-01, 8.2558e-01,  ..., 2.9895e-01,\n",
              "            4.7150e-02, 9.9624e-01]],\n",
              "\n",
              "          [[8.2336e-01, 2.6807e-01, 6.9062e-01,  ..., 8.8699e-01,\n",
              "            8.0064e-01, 5.5426e-01],\n",
              "           [6.3871e-01, 6.3249e-01, 4.4069e-01,  ..., 9.2890e-01,\n",
              "            9.6873e-01, 1.6835e-01],\n",
              "           [6.4763e-01, 3.9319e-01, 5.8268e-01,  ..., 4.2252e-01,\n",
              "            1.9440e-01, 2.5595e-01],\n",
              "           ...,\n",
              "           [6.9443e-01, 7.8014e-02, 2.2532e-01,  ..., 8.8442e-01,\n",
              "            2.1314e-01, 2.3675e-01],\n",
              "           [3.0474e-01, 2.2081e-01, 3.0211e-01,  ..., 7.5394e-01,\n",
              "            3.9771e-01, 8.1628e-01],\n",
              "           [1.0315e-01, 2.2910e-01, 5.8595e-01,  ..., 5.5881e-01,\n",
              "            4.3757e-01, 8.5058e-01]],\n",
              "\n",
              "          [[6.9187e-01, 8.1234e-02, 3.6407e-01,  ..., 2.1990e-02,\n",
              "            5.2422e-01, 6.5359e-01],\n",
              "           [5.1031e-01, 3.2190e-01, 2.5717e-01,  ..., 3.5385e-01,\n",
              "            6.5750e-01, 3.4253e-01],\n",
              "           [6.9819e-01, 2.2332e-02, 4.7716e-01,  ..., 1.3300e-01,\n",
              "            4.4386e-01, 2.7968e-01],\n",
              "           ...,\n",
              "           [5.7183e-01, 6.3087e-01, 4.7339e-01,  ..., 8.8183e-01,\n",
              "            4.7046e-01, 2.7251e-01],\n",
              "           [2.3578e-02, 6.4217e-01, 1.7412e-01,  ..., 8.6634e-02,\n",
              "            1.6773e-01, 6.4623e-01],\n",
              "           [8.5710e-01, 3.4530e-01, 6.5154e-01,  ..., 9.0093e-02,\n",
              "            8.0175e-01, 5.2100e-01]]],\n",
              "\n",
              "\n",
              "         [[[4.4238e-01, 1.3408e-01, 6.8230e-01,  ..., 7.5932e-01,\n",
              "            4.1911e-01, 6.7948e-02],\n",
              "           [3.6618e-01, 8.5299e-01, 4.6861e-01,  ..., 9.1400e-01,\n",
              "            5.5766e-01, 4.6591e-01],\n",
              "           [5.3041e-01, 7.4457e-02, 7.4939e-01,  ..., 2.7132e-01,\n",
              "            9.2393e-01, 1.5860e-01],\n",
              "           ...,\n",
              "           [4.2290e-02, 7.8909e-01, 4.0216e-01,  ..., 2.1783e-01,\n",
              "            4.8136e-01, 4.9607e-01],\n",
              "           [4.1439e-01, 6.4541e-01, 6.1136e-01,  ..., 5.3926e-02,\n",
              "            9.9815e-01, 6.8684e-01],\n",
              "           [6.8825e-02, 6.8537e-01, 9.8211e-01,  ..., 3.4244e-01,\n",
              "            5.2260e-01, 2.6152e-01]],\n",
              "\n",
              "          [[4.4053e-01, 3.7645e-01, 1.5337e-01,  ..., 1.7584e-01,\n",
              "            1.7232e-01, 6.6187e-01],\n",
              "           [9.0261e-01, 2.2053e-01, 1.3586e-01,  ..., 8.9054e-01,\n",
              "            6.7680e-01, 2.8505e-01],\n",
              "           [7.7688e-02, 3.8774e-01, 2.0236e-01,  ..., 8.7907e-01,\n",
              "            4.6428e-01, 3.9471e-01],\n",
              "           ...,\n",
              "           [7.9900e-01, 3.5351e-01, 4.5149e-01,  ..., 9.9316e-01,\n",
              "            3.7632e-01, 4.4148e-01],\n",
              "           [8.2003e-01, 1.2596e-01, 3.4803e-01,  ..., 1.5961e-01,\n",
              "            9.2711e-01, 8.9642e-01],\n",
              "           [4.5686e-02, 5.9631e-02, 3.5950e-01,  ..., 6.7378e-01,\n",
              "            3.5446e-01, 7.4479e-02]],\n",
              "\n",
              "          [[5.7839e-01, 1.1604e-01, 5.6646e-01,  ..., 1.1926e-01,\n",
              "            2.5596e-01, 7.4954e-01],\n",
              "           [7.8502e-02, 7.6109e-01, 9.8814e-01,  ..., 2.9246e-01,\n",
              "            3.6781e-01, 8.3097e-01],\n",
              "           [2.1843e-01, 8.2933e-03, 8.8529e-01,  ..., 8.4105e-01,\n",
              "            9.5896e-01, 6.6927e-01],\n",
              "           ...,\n",
              "           [4.5215e-01, 7.5333e-01, 4.4509e-01,  ..., 4.8842e-01,\n",
              "            3.3979e-01, 4.3912e-01],\n",
              "           [3.0481e-01, 5.5594e-01, 1.9811e-01,  ..., 1.7135e-01,\n",
              "            5.9950e-01, 3.1402e-01],\n",
              "           [1.7053e-02, 5.5780e-01, 7.4313e-01,  ..., 4.6292e-01,\n",
              "            7.4397e-01, 4.7569e-01]],\n",
              "\n",
              "          ...,\n",
              "\n",
              "          [[5.8491e-01, 2.4908e-01, 3.7393e-01,  ..., 7.0931e-02,\n",
              "            1.3289e-01, 1.7023e-01],\n",
              "           [3.5759e-01, 8.5624e-01, 6.1169e-01,  ..., 3.0069e-01,\n",
              "            9.1232e-01, 4.0424e-02],\n",
              "           [5.3191e-04, 3.2880e-01, 1.5154e-01,  ..., 1.9073e-01,\n",
              "            8.8103e-01, 1.0614e-01],\n",
              "           ...,\n",
              "           [6.9996e-01, 8.0451e-01, 6.9472e-01,  ..., 3.7766e-01,\n",
              "            4.3387e-01, 2.5804e-01],\n",
              "           [1.7373e-01, 8.1949e-01, 7.5254e-01,  ..., 2.4725e-01,\n",
              "            2.5597e-01, 1.9190e-01],\n",
              "           [8.4204e-01, 3.3604e-01, 8.6541e-01,  ..., 6.6567e-01,\n",
              "            5.7014e-01, 7.7823e-01]],\n",
              "\n",
              "          [[2.6515e-01, 1.9039e-01, 8.6776e-01,  ..., 2.3288e-01,\n",
              "            6.0863e-01, 1.2762e-01],\n",
              "           [5.4793e-01, 8.5814e-01, 9.0148e-01,  ..., 4.4195e-01,\n",
              "            4.2430e-02, 9.6849e-01],\n",
              "           [6.1825e-01, 4.3644e-01, 6.0941e-01,  ..., 1.2859e-01,\n",
              "            6.2940e-02, 3.4102e-01],\n",
              "           ...,\n",
              "           [3.2852e-03, 3.5533e-01, 5.9988e-01,  ..., 4.7105e-02,\n",
              "            2.2043e-01, 9.4207e-01],\n",
              "           [2.4168e-01, 9.3087e-01, 4.7210e-01,  ..., 3.5402e-02,\n",
              "            2.9266e-01, 9.3390e-01],\n",
              "           [1.4960e-02, 6.9903e-03, 9.4544e-01,  ..., 6.0579e-01,\n",
              "            1.2848e-01, 2.5475e-01]],\n",
              "\n",
              "          [[4.4026e-01, 4.3224e-01, 5.0875e-01,  ..., 5.1075e-01,\n",
              "            9.1000e-02, 2.4810e-01],\n",
              "           [4.3233e-02, 3.2458e-01, 9.7603e-01,  ..., 7.3024e-01,\n",
              "            2.7730e-01, 2.5465e-01],\n",
              "           [4.9944e-01, 6.0238e-01, 8.6815e-01,  ..., 2.5213e-01,\n",
              "            7.8218e-01, 3.7510e-01],\n",
              "           ...,\n",
              "           [1.9772e-01, 1.2942e-01, 1.4458e-01,  ..., 1.3126e-01,\n",
              "            7.7834e-01, 9.8860e-01],\n",
              "           [2.6078e-01, 6.4994e-01, 2.1866e-01,  ..., 7.5268e-01,\n",
              "            9.3229e-01, 8.8741e-01],\n",
              "           [4.8146e-01, 7.9148e-01, 5.3649e-01,  ..., 4.1653e-01,\n",
              "            6.5827e-01, 6.7051e-01]]]],\n",
              "\n",
              "\n",
              "\n",
              "        [[[[7.2394e-01, 7.0529e-01, 7.3142e-01,  ..., 7.4207e-01,\n",
              "            8.3050e-01, 3.2686e-01],\n",
              "           [6.3395e-01, 4.7985e-01, 8.0304e-01,  ..., 6.1331e-01,\n",
              "            6.9460e-01, 7.2161e-01],\n",
              "           [8.7028e-01, 1.8127e-01, 3.1736e-01,  ..., 5.2086e-01,\n",
              "            6.8228e-01, 9.9590e-02],\n",
              "           ...,\n",
              "           [4.9732e-01, 5.3745e-01, 6.3897e-01,  ..., 8.8407e-01,\n",
              "            8.9106e-01, 2.8627e-01],\n",
              "           [4.7878e-01, 2.7490e-02, 6.9027e-02,  ..., 5.5973e-01,\n",
              "            7.1420e-01, 1.3902e-01],\n",
              "           [8.4953e-01, 6.8159e-01, 9.8727e-01,  ..., 9.7172e-02,\n",
              "            8.5534e-01, 1.3006e-02]],\n",
              "\n",
              "          [[6.4434e-01, 4.2941e-01, 8.0963e-01,  ..., 3.5101e-01,\n",
              "            7.3835e-01, 2.5596e-02],\n",
              "           [1.1151e-01, 6.6218e-01, 3.4131e-01,  ..., 4.1411e-02,\n",
              "            6.8359e-01, 1.5752e-02],\n",
              "           [1.3005e-01, 6.9100e-01, 3.6969e-01,  ..., 7.9704e-02,\n",
              "            9.3691e-02, 7.3252e-01],\n",
              "           ...,\n",
              "           [1.9799e-02, 8.8580e-01, 6.2694e-01,  ..., 5.3280e-01,\n",
              "            6.6023e-01, 2.0499e-01],\n",
              "           [4.2707e-01, 5.2532e-01, 7.9462e-01,  ..., 7.7863e-01,\n",
              "            7.4738e-01, 1.8452e-01],\n",
              "           [7.8734e-01, 9.2682e-02, 4.5839e-01,  ..., 4.2033e-01,\n",
              "            6.7322e-01, 4.1120e-01]],\n",
              "\n",
              "          [[2.2891e-01, 6.8640e-01, 8.3916e-01,  ..., 3.8420e-01,\n",
              "            4.1349e-01, 4.2093e-01],\n",
              "           [7.8536e-01, 8.8623e-01, 5.8521e-01,  ..., 9.5169e-01,\n",
              "            5.1270e-01, 7.9731e-01],\n",
              "           [7.3178e-01, 3.8847e-01, 3.7633e-01,  ..., 7.8013e-01,\n",
              "            4.4155e-01, 7.3584e-01],\n",
              "           ...,\n",
              "           [1.7694e-01, 6.4154e-01, 3.7360e-01,  ..., 4.8001e-01,\n",
              "            5.0178e-01, 7.3062e-01],\n",
              "           [4.6666e-01, 7.6828e-01, 7.1093e-01,  ..., 4.2636e-01,\n",
              "            4.5133e-01, 3.0544e-01],\n",
              "           [7.7939e-01, 7.0622e-01, 1.7103e-01,  ..., 8.9283e-01,\n",
              "            2.9833e-01, 8.7365e-01]],\n",
              "\n",
              "          ...,\n",
              "\n",
              "          [[4.3779e-01, 6.8505e-02, 1.1840e-01,  ..., 3.9608e-01,\n",
              "            6.2673e-01, 1.5667e-02],\n",
              "           [9.7341e-01, 8.6105e-01, 9.6468e-01,  ..., 5.0061e-01,\n",
              "            9.5651e-01, 4.4187e-02],\n",
              "           [4.7283e-02, 2.1367e-01, 6.6578e-01,  ..., 2.8206e-01,\n",
              "            1.5931e-01, 1.1278e-01],\n",
              "           ...,\n",
              "           [1.6053e-01, 4.1606e-01, 1.1019e-01,  ..., 9.4425e-01,\n",
              "            1.3535e-01, 4.3117e-01],\n",
              "           [7.8996e-01, 7.8517e-01, 8.2137e-01,  ..., 5.6976e-01,\n",
              "            2.7515e-01, 5.7518e-01],\n",
              "           [7.5615e-01, 7.2446e-01, 7.9736e-01,  ..., 6.9931e-01,\n",
              "            8.3089e-01, 6.2706e-01]],\n",
              "\n",
              "          [[3.2032e-01, 6.2394e-01, 4.8753e-01,  ..., 8.7401e-01,\n",
              "            1.1716e-01, 7.5961e-01],\n",
              "           [1.5173e-01, 8.0940e-01, 9.7903e-01,  ..., 5.0529e-01,\n",
              "            6.1644e-01, 7.2797e-01],\n",
              "           [1.1646e-01, 7.8232e-01, 2.6089e-01,  ..., 4.4142e-01,\n",
              "            7.4701e-01, 9.1958e-01],\n",
              "           ...,\n",
              "           [4.3911e-01, 4.1184e-01, 2.5310e-01,  ..., 2.6322e-01,\n",
              "            4.8821e-02, 9.9742e-01],\n",
              "           [4.8926e-01, 4.0803e-01, 5.9777e-01,  ..., 9.0869e-01,\n",
              "            7.4742e-01, 5.0902e-01],\n",
              "           [3.2009e-01, 4.4893e-01, 6.9253e-01,  ..., 3.5702e-01,\n",
              "            4.4444e-01, 4.0366e-01]],\n",
              "\n",
              "          [[9.6763e-01, 1.3002e-01, 2.7727e-01,  ..., 3.1870e-01,\n",
              "            2.9824e-01, 4.3946e-01],\n",
              "           [9.3488e-01, 7.6596e-01, 9.3115e-01,  ..., 2.9929e-01,\n",
              "            2.3583e-01, 5.0832e-01],\n",
              "           [1.3230e-02, 9.6244e-01, 7.0054e-01,  ..., 6.2813e-01,\n",
              "            8.5166e-01, 1.7033e-01],\n",
              "           ...,\n",
              "           [6.3311e-01, 1.3533e-01, 5.2831e-01,  ..., 8.3629e-01,\n",
              "            3.4428e-03, 9.3356e-01],\n",
              "           [5.5762e-01, 7.9268e-01, 2.1253e-01,  ..., 5.0513e-01,\n",
              "            8.2305e-01, 9.0179e-01],\n",
              "           [7.2714e-01, 4.5073e-01, 3.9813e-01,  ..., 1.5628e-01,\n",
              "            6.7495e-01, 7.1533e-01]]],\n",
              "\n",
              "\n",
              "         [[[3.3684e-01, 1.1907e-01, 5.7951e-01,  ..., 7.6053e-01,\n",
              "            8.4661e-01, 1.8713e-01],\n",
              "           [9.0176e-02, 8.5009e-01, 7.0756e-01,  ..., 3.3731e-01,\n",
              "            2.1869e-01, 7.1534e-01],\n",
              "           [5.9871e-01, 3.0663e-01, 2.4176e-01,  ..., 7.8100e-01,\n",
              "            6.1573e-02, 8.2594e-01],\n",
              "           ...,\n",
              "           [9.9335e-01, 3.3487e-01, 2.6348e-01,  ..., 9.0819e-01,\n",
              "            8.1720e-01, 7.7041e-01],\n",
              "           [6.0013e-01, 5.2574e-01, 2.6254e-01,  ..., 3.0922e-01,\n",
              "            7.7880e-01, 1.1727e-01],\n",
              "           [6.9158e-01, 2.1209e-02, 4.6040e-01,  ..., 9.2429e-01,\n",
              "            5.5238e-01, 3.2355e-01]],\n",
              "\n",
              "          [[5.8115e-01, 1.3373e-01, 6.5677e-01,  ..., 8.1785e-01,\n",
              "            4.8435e-01, 3.0245e-01],\n",
              "           [2.9241e-01, 7.1826e-01, 1.7390e-01,  ..., 1.8880e-01,\n",
              "            5.2100e-01, 5.6590e-01],\n",
              "           [6.1820e-01, 7.3833e-01, 1.3394e-01,  ..., 8.6301e-01,\n",
              "            2.4989e-01, 4.0147e-01],\n",
              "           ...,\n",
              "           [9.6390e-01, 8.1569e-01, 2.3699e-01,  ..., 9.5635e-01,\n",
              "            9.3667e-01, 2.7127e-01],\n",
              "           [6.4783e-01, 8.0720e-01, 5.2558e-01,  ..., 2.1315e-01,\n",
              "            2.6647e-01, 1.2816e-01],\n",
              "           [2.2862e-01, 5.7385e-01, 5.4070e-01,  ..., 3.3518e-01,\n",
              "            3.2489e-01, 5.2700e-01]],\n",
              "\n",
              "          [[5.0750e-01, 1.3702e-02, 6.7391e-01,  ..., 5.0911e-01,\n",
              "            9.1459e-01, 6.9040e-01],\n",
              "           [6.4900e-01, 7.8693e-01, 2.1783e-01,  ..., 4.8383e-01,\n",
              "            8.2073e-01, 4.1250e-02],\n",
              "           [4.2320e-01, 3.1962e-01, 1.8105e-01,  ..., 3.2825e-01,\n",
              "            6.2354e-01, 7.4136e-01],\n",
              "           ...,\n",
              "           [6.8668e-01, 2.2588e-01, 7.7534e-02,  ..., 4.1710e-01,\n",
              "            6.3620e-01, 2.9843e-01],\n",
              "           [4.4360e-02, 9.8230e-01, 9.5421e-01,  ..., 5.1630e-01,\n",
              "            7.2768e-01, 9.9743e-02],\n",
              "           [1.0501e-02, 6.3715e-01, 5.9919e-02,  ..., 4.0537e-01,\n",
              "            5.0548e-01, 7.6124e-01]],\n",
              "\n",
              "          ...,\n",
              "\n",
              "          [[3.5933e-01, 5.2379e-01, 3.8462e-01,  ..., 5.3846e-01,\n",
              "            3.7445e-01, 9.2000e-01],\n",
              "           [4.6819e-01, 3.4208e-01, 7.5647e-02,  ..., 1.4380e-01,\n",
              "            6.3514e-01, 9.7012e-01],\n",
              "           [9.1236e-02, 4.0394e-01, 6.1495e-01,  ..., 7.4693e-01,\n",
              "            7.5630e-01, 2.9387e-01],\n",
              "           ...,\n",
              "           [6.4066e-01, 9.9603e-01, 6.5812e-01,  ..., 2.1439e-01,\n",
              "            1.1086e-01, 1.5972e-01],\n",
              "           [3.1578e-01, 3.2279e-01, 6.6630e-01,  ..., 4.8674e-01,\n",
              "            6.5985e-01, 9.8102e-01],\n",
              "           [8.0862e-01, 6.6261e-01, 9.1188e-01,  ..., 4.2170e-01,\n",
              "            5.0456e-01, 2.3393e-01]],\n",
              "\n",
              "          [[4.3814e-01, 3.4312e-01, 7.5685e-01,  ..., 4.6589e-01,\n",
              "            7.0416e-02, 4.4905e-01],\n",
              "           [4.7325e-01, 9.1278e-01, 5.8148e-01,  ..., 8.5172e-01,\n",
              "            9.0297e-01, 1.0513e-01],\n",
              "           [2.7164e-01, 8.6554e-01, 2.0640e-01,  ..., 6.8923e-02,\n",
              "            7.0359e-01, 6.0990e-01],\n",
              "           ...,\n",
              "           [9.4286e-02, 3.2033e-01, 5.1301e-01,  ..., 3.0251e-02,\n",
              "            9.2779e-01, 3.3310e-02],\n",
              "           [9.0347e-01, 7.8824e-01, 4.5486e-01,  ..., 8.4358e-01,\n",
              "            2.4424e-01, 3.5742e-01],\n",
              "           [1.3396e-01, 7.7867e-01, 9.2892e-01,  ..., 3.4750e-01,\n",
              "            4.1093e-01, 5.4884e-01]],\n",
              "\n",
              "          [[3.3800e-01, 2.6605e-02, 4.0962e-01,  ..., 4.1876e-01,\n",
              "            4.5834e-01, 9.8918e-01],\n",
              "           [3.3092e-02, 2.5762e-01, 2.8390e-01,  ..., 6.8471e-01,\n",
              "            1.4300e-01, 1.0921e-01],\n",
              "           [6.6598e-01, 8.5651e-01, 2.6621e-01,  ..., 3.2258e-02,\n",
              "            8.5184e-01, 7.5932e-01],\n",
              "           ...,\n",
              "           [6.4105e-01, 9.1663e-01, 6.1446e-01,  ..., 8.9478e-01,\n",
              "            9.0941e-01, 6.8367e-01],\n",
              "           [2.2805e-02, 7.0247e-01, 2.6699e-01,  ..., 3.1183e-01,\n",
              "            8.5146e-01, 9.1453e-01],\n",
              "           [5.8980e-02, 3.1311e-02, 2.7526e-01,  ..., 9.9779e-02,\n",
              "            2.6502e-01, 8.6673e-01]]],\n",
              "\n",
              "\n",
              "         [[[4.0958e-01, 8.3453e-02, 4.9382e-01,  ..., 7.7191e-01,\n",
              "            2.4827e-01, 7.1154e-01],\n",
              "           [6.3608e-01, 3.6001e-01, 5.7604e-01,  ..., 4.8111e-01,\n",
              "            5.6873e-01, 3.6370e-01],\n",
              "           [8.4769e-01, 5.3129e-01, 5.9662e-01,  ..., 8.6547e-01,\n",
              "            4.5252e-02, 2.4339e-01],\n",
              "           ...,\n",
              "           [1.3972e-02, 8.2400e-01, 1.3955e-01,  ..., 7.3240e-01,\n",
              "            3.5196e-01, 3.9205e-01],\n",
              "           [6.9172e-01, 4.9240e-01, 4.7675e-01,  ..., 7.9980e-01,\n",
              "            9.1547e-01, 3.6259e-02],\n",
              "           [1.7289e-01, 5.3122e-01, 9.8697e-01,  ..., 2.5940e-01,\n",
              "            1.4476e-01, 4.9139e-01]],\n",
              "\n",
              "          [[4.5813e-01, 2.5791e-01, 5.2001e-01,  ..., 2.4936e-02,\n",
              "            5.7179e-01, 8.3185e-01],\n",
              "           [4.5515e-01, 8.4117e-01, 3.8493e-01,  ..., 6.7554e-01,\n",
              "            4.1952e-01, 9.4783e-01],\n",
              "           [3.1672e-02, 5.5403e-01, 5.2515e-01,  ..., 1.4218e-01,\n",
              "            1.6475e-01, 4.1448e-01],\n",
              "           ...,\n",
              "           [2.9712e-01, 5.2521e-01, 6.5137e-01,  ..., 1.3967e-01,\n",
              "            7.0551e-01, 4.4839e-01],\n",
              "           [5.7506e-01, 3.6726e-01, 4.4621e-01,  ..., 1.2499e-01,\n",
              "            3.7118e-01, 3.5661e-02],\n",
              "           [1.5077e-01, 8.3214e-01, 5.4545e-01,  ..., 1.3980e-01,\n",
              "            6.4692e-01, 7.7808e-01]],\n",
              "\n",
              "          [[2.7949e-01, 9.8668e-01, 5.8626e-01,  ..., 9.4234e-01,\n",
              "            1.1424e-01, 4.9976e-01],\n",
              "           [4.5395e-01, 9.9930e-01, 1.3516e-01,  ..., 9.6776e-01,\n",
              "            7.8572e-01, 8.1824e-01],\n",
              "           [9.8614e-01, 9.4180e-01, 2.5014e-01,  ..., 5.1669e-01,\n",
              "            8.0272e-01, 7.9173e-01],\n",
              "           ...,\n",
              "           [5.1186e-01, 1.9808e-01, 7.3571e-01,  ..., 5.7303e-01,\n",
              "            8.9488e-01, 9.3203e-01],\n",
              "           [4.2864e-01, 4.6634e-01, 2.6146e-01,  ..., 8.7775e-01,\n",
              "            4.8978e-01, 1.7500e-01],\n",
              "           [9.9119e-01, 1.0619e-01, 2.2987e-01,  ..., 1.0911e-01,\n",
              "            8.2663e-01, 8.4991e-02]],\n",
              "\n",
              "          ...,\n",
              "\n",
              "          [[3.8551e-01, 6.4573e-02, 3.8494e-02,  ..., 2.0418e-01,\n",
              "            8.7675e-02, 7.6648e-01],\n",
              "           [1.2947e-01, 8.0961e-01, 8.1487e-03,  ..., 5.6756e-01,\n",
              "            5.7146e-01, 4.1773e-01],\n",
              "           [5.6039e-01, 8.5788e-01, 6.6814e-01,  ..., 2.9888e-01,\n",
              "            6.3509e-02, 7.3523e-01],\n",
              "           ...,\n",
              "           [3.2232e-01, 7.4384e-01, 7.3054e-01,  ..., 1.1875e-01,\n",
              "            4.0642e-01, 8.8586e-01],\n",
              "           [4.2121e-01, 1.9395e-01, 2.7091e-01,  ..., 7.6026e-01,\n",
              "            5.6076e-01, 4.5437e-01],\n",
              "           [1.5490e-01, 6.7586e-01, 4.6299e-01,  ..., 9.6738e-01,\n",
              "            2.1337e-01, 8.5250e-01]],\n",
              "\n",
              "          [[2.4169e-01, 1.0618e-02, 5.9034e-01,  ..., 9.8562e-01,\n",
              "            9.1962e-01, 7.4703e-01],\n",
              "           [5.1587e-01, 5.6024e-01, 2.7895e-01,  ..., 4.3125e-01,\n",
              "            2.4041e-02, 5.1590e-01],\n",
              "           [9.5949e-03, 5.0492e-01, 4.6450e-01,  ..., 4.0329e-04,\n",
              "            6.2928e-01, 3.9770e-01],\n",
              "           ...,\n",
              "           [2.6161e-01, 5.4480e-01, 8.3095e-01,  ..., 2.9364e-01,\n",
              "            8.1347e-01, 4.3782e-02],\n",
              "           [6.8190e-01, 1.2773e-01, 7.9310e-01,  ..., 9.4485e-01,\n",
              "            9.6190e-01, 9.0988e-01],\n",
              "           [4.2074e-01, 4.9593e-01, 2.0655e-01,  ..., 1.7399e-02,\n",
              "            3.1021e-01, 7.8696e-01]],\n",
              "\n",
              "          [[6.7220e-01, 6.7109e-01, 2.2224e-01,  ..., 6.9368e-03,\n",
              "            8.1723e-01, 5.8408e-01],\n",
              "           [9.1143e-01, 7.8844e-01, 8.5622e-01,  ..., 5.7664e-01,\n",
              "            3.4937e-01, 4.9435e-01],\n",
              "           [6.9033e-01, 7.3673e-01, 1.6681e-01,  ..., 7.7441e-03,\n",
              "            6.5500e-01, 2.6273e-01],\n",
              "           ...,\n",
              "           [7.0270e-01, 5.3500e-01, 4.6700e-01,  ..., 7.0277e-01,\n",
              "            2.3349e-01, 5.1467e-01],\n",
              "           [5.8539e-01, 3.0854e-01, 1.8039e-01,  ..., 8.1269e-01,\n",
              "            6.5704e-01, 7.7923e-01],\n",
              "           [7.9709e-01, 5.8218e-01, 7.7045e-01,  ..., 2.0701e-01,\n",
              "            9.7494e-01, 7.4520e-01]]],\n",
              "\n",
              "\n",
              "         ...,\n",
              "\n",
              "\n",
              "         [[[1.8632e-01, 3.9973e-01, 8.1419e-01,  ..., 3.0213e-01,\n",
              "            8.3683e-01, 6.0097e-01],\n",
              "           [1.4769e-01, 3.9529e-02, 9.5416e-01,  ..., 1.8573e-01,\n",
              "            8.2316e-01, 3.8290e-01],\n",
              "           [3.4485e-01, 1.3666e-01, 5.6757e-01,  ..., 6.2176e-01,\n",
              "            6.1852e-01, 1.9256e-01],\n",
              "           ...,\n",
              "           [5.3970e-01, 6.2434e-01, 9.3376e-01,  ..., 2.1261e-01,\n",
              "            4.0666e-01, 7.6172e-01],\n",
              "           [4.4731e-01, 9.7950e-01, 8.4559e-01,  ..., 7.5208e-01,\n",
              "            7.2158e-01, 2.9772e-01],\n",
              "           [3.6066e-01, 1.1275e-02, 1.2110e-01,  ..., 8.0697e-02,\n",
              "            5.2255e-01, 2.6970e-01]],\n",
              "\n",
              "          [[8.3329e-01, 3.3859e-01, 1.8851e-01,  ..., 1.3327e-01,\n",
              "            6.8473e-01, 6.6262e-01],\n",
              "           [3.4134e-01, 6.4224e-02, 5.2127e-01,  ..., 8.2301e-01,\n",
              "            9.6268e-01, 8.1008e-01],\n",
              "           [6.3185e-01, 1.6131e-01, 6.8421e-01,  ..., 8.7159e-02,\n",
              "            1.5005e-01, 9.1799e-01],\n",
              "           ...,\n",
              "           [4.8667e-01, 9.6313e-01, 7.9876e-01,  ..., 4.4064e-01,\n",
              "            4.0805e-01, 8.8001e-01],\n",
              "           [5.6752e-01, 6.9184e-01, 7.7953e-01,  ..., 1.2043e-01,\n",
              "            8.3917e-01, 7.9862e-01],\n",
              "           [3.8298e-01, 1.1660e-01, 5.5353e-02,  ..., 4.2509e-01,\n",
              "            7.3430e-01, 7.4296e-01]],\n",
              "\n",
              "          [[7.8518e-01, 3.3367e-01, 1.1958e-02,  ..., 7.6030e-01,\n",
              "            8.2383e-02, 2.7477e-01],\n",
              "           [9.6584e-01, 9.5313e-01, 6.4686e-01,  ..., 1.3325e-01,\n",
              "            1.0619e-01, 8.8163e-01],\n",
              "           [3.4897e-01, 2.0268e-01, 8.9289e-01,  ..., 7.4652e-01,\n",
              "            3.1182e-01, 2.7695e-01],\n",
              "           ...,\n",
              "           [3.4195e-01, 5.0960e-01, 6.0340e-01,  ..., 5.1171e-01,\n",
              "            1.1793e-01, 4.1325e-01],\n",
              "           [2.2576e-01, 9.8178e-02, 3.2820e-02,  ..., 4.7027e-01,\n",
              "            2.5700e-03, 8.9014e-01],\n",
              "           [9.1004e-01, 2.2465e-01, 5.8724e-01,  ..., 8.9777e-01,\n",
              "            7.8806e-01, 6.0202e-01]],\n",
              "\n",
              "          ...,\n",
              "\n",
              "          [[2.8594e-01, 5.9600e-01, 2.8794e-01,  ..., 3.2481e-01,\n",
              "            2.7923e-01, 8.7472e-03],\n",
              "           [8.8838e-01, 5.2188e-01, 4.4590e-01,  ..., 9.6405e-02,\n",
              "            9.1462e-01, 9.4201e-01],\n",
              "           [4.5880e-01, 4.5272e-01, 8.5649e-01,  ..., 8.2341e-01,\n",
              "            8.6289e-01, 8.5097e-01],\n",
              "           ...,\n",
              "           [9.7211e-01, 6.1361e-01, 6.1484e-01,  ..., 8.9742e-01,\n",
              "            3.7583e-01, 1.6418e-01],\n",
              "           [2.5613e-01, 7.3752e-01, 6.5100e-01,  ..., 8.7911e-01,\n",
              "            3.3387e-01, 5.1780e-01],\n",
              "           [9.1213e-02, 7.0049e-01, 9.1224e-01,  ..., 7.9014e-01,\n",
              "            8.1598e-01, 6.4774e-01]],\n",
              "\n",
              "          [[4.2573e-01, 3.1230e-01, 1.8278e-02,  ..., 5.0006e-01,\n",
              "            8.5299e-02, 3.0387e-01],\n",
              "           [5.8104e-01, 5.1700e-02, 9.9386e-01,  ..., 5.6551e-01,\n",
              "            8.5252e-01, 4.9717e-01],\n",
              "           [7.0694e-01, 2.0795e-01, 2.9245e-01,  ..., 1.9091e-01,\n",
              "            1.0761e-01, 9.6965e-01],\n",
              "           ...,\n",
              "           [1.4520e-01, 1.0155e-01, 9.5699e-01,  ..., 2.4894e-01,\n",
              "            7.8272e-01, 3.8532e-01],\n",
              "           [9.1327e-01, 6.0288e-01, 2.8901e-01,  ..., 5.0223e-01,\n",
              "            7.4397e-02, 3.2389e-01],\n",
              "           [7.4846e-01, 9.0663e-01, 7.9076e-01,  ..., 9.7935e-01,\n",
              "            6.1115e-01, 5.5903e-01]],\n",
              "\n",
              "          [[7.6242e-01, 1.9278e-01, 8.1513e-02,  ..., 8.1624e-01,\n",
              "            7.7857e-01, 6.1339e-01],\n",
              "           [6.4860e-01, 9.6516e-01, 4.1570e-01,  ..., 3.3326e-02,\n",
              "            4.3555e-01, 1.9716e-01],\n",
              "           [6.6847e-04, 9.1918e-02, 1.1554e-01,  ..., 8.1232e-01,\n",
              "            1.8281e-01, 4.3649e-01],\n",
              "           ...,\n",
              "           [3.8186e-01, 6.0877e-01, 3.3852e-01,  ..., 9.2829e-01,\n",
              "            1.0920e-01, 2.8532e-01],\n",
              "           [2.8783e-01, 8.0615e-01, 8.4468e-01,  ..., 1.3884e-01,\n",
              "            3.7117e-01, 1.1066e-01],\n",
              "           [6.7396e-01, 8.5316e-01, 8.9233e-01,  ..., 4.0603e-01,\n",
              "            1.2242e-01, 2.8787e-01]]],\n",
              "\n",
              "\n",
              "         [[[3.4235e-01, 1.9952e-01, 1.6032e-01,  ..., 7.0909e-01,\n",
              "            6.3612e-01, 2.5194e-01],\n",
              "           [3.1792e-01, 2.9516e-01, 6.1023e-01,  ..., 1.5814e-02,\n",
              "            6.4746e-01, 6.8229e-01],\n",
              "           [8.1831e-01, 7.3249e-01, 4.4689e-02,  ..., 6.4245e-01,\n",
              "            9.4038e-01, 8.3427e-02],\n",
              "           ...,\n",
              "           [7.7039e-01, 8.8665e-01, 3.4761e-01,  ..., 1.1510e-01,\n",
              "            6.9393e-01, 9.9467e-01],\n",
              "           [4.6360e-01, 2.7745e-01, 4.6743e-01,  ..., 3.7660e-01,\n",
              "            6.2913e-01, 4.2349e-01],\n",
              "           [1.8844e-01, 3.2216e-01, 9.2511e-01,  ..., 3.5393e-02,\n",
              "            7.9523e-03, 7.3497e-01]],\n",
              "\n",
              "          [[5.2079e-01, 9.8376e-02, 4.4868e-01,  ..., 1.0268e-01,\n",
              "            4.6376e-02, 9.2667e-01],\n",
              "           [1.3498e-01, 2.0451e-02, 3.2640e-01,  ..., 4.6712e-01,\n",
              "            7.8017e-01, 1.9582e-01],\n",
              "           [8.0144e-01, 5.8000e-01, 4.0058e-01,  ..., 7.5099e-01,\n",
              "            9.8574e-01, 1.6522e-01],\n",
              "           ...,\n",
              "           [6.3490e-01, 3.0119e-01, 3.9122e-01,  ..., 1.1663e-01,\n",
              "            6.2837e-01, 9.7193e-01],\n",
              "           [6.2319e-01, 3.5017e-01, 3.7426e-01,  ..., 8.3816e-01,\n",
              "            7.3193e-01, 3.6648e-01],\n",
              "           [6.7072e-01, 3.6972e-01, 1.3049e-01,  ..., 2.1228e-01,\n",
              "            1.0225e-02, 5.1445e-01]],\n",
              "\n",
              "          [[7.4979e-01, 1.4471e-01, 4.2062e-01,  ..., 7.2361e-01,\n",
              "            1.9725e-01, 8.5183e-01],\n",
              "           [8.2766e-01, 1.5900e-01, 3.0493e-02,  ..., 7.9536e-01,\n",
              "            7.4073e-02, 8.4436e-01],\n",
              "           [9.5173e-01, 2.8473e-01, 3.0162e-01,  ..., 6.4968e-01,\n",
              "            7.6509e-01, 9.2596e-01],\n",
              "           ...,\n",
              "           [2.7794e-01, 8.4034e-01, 9.9545e-01,  ..., 3.5067e-01,\n",
              "            1.0932e-01, 7.2492e-01],\n",
              "           [1.1089e-01, 4.3481e-01, 8.3870e-01,  ..., 6.2642e-01,\n",
              "            3.0602e-01, 8.1417e-01],\n",
              "           [1.7824e-01, 2.7394e-01, 6.1216e-01,  ..., 5.6329e-01,\n",
              "            4.1456e-01, 4.3027e-01]],\n",
              "\n",
              "          ...,\n",
              "\n",
              "          [[5.8735e-01, 9.2083e-01, 9.8399e-01,  ..., 8.1488e-01,\n",
              "            7.3192e-01, 1.1453e-02],\n",
              "           [2.6230e-01, 3.2830e-01, 1.1445e-01,  ..., 6.0828e-01,\n",
              "            8.1790e-01, 9.3743e-01],\n",
              "           [9.9116e-01, 8.9323e-01, 3.5922e-01,  ..., 4.7990e-02,\n",
              "            3.2302e-01, 6.6167e-02],\n",
              "           ...,\n",
              "           [9.9985e-01, 1.5283e-01, 3.2874e-01,  ..., 6.0866e-01,\n",
              "            8.4585e-01, 6.6899e-01],\n",
              "           [1.1767e-01, 2.4188e-01, 9.1925e-01,  ..., 1.7396e-01,\n",
              "            1.5950e-01, 1.6184e-01],\n",
              "           [5.3888e-01, 7.3832e-02, 2.7181e-01,  ..., 6.0682e-01,\n",
              "            5.6565e-01, 1.2328e-01]],\n",
              "\n",
              "          [[8.6684e-01, 6.2343e-01, 1.7379e-01,  ..., 4.7053e-01,\n",
              "            1.9734e-01, 4.7377e-01],\n",
              "           [2.3326e-01, 9.2388e-01, 1.5018e-01,  ..., 1.7306e-01,\n",
              "            9.1274e-01, 1.9723e-01],\n",
              "           [8.1967e-01, 1.3502e-01, 4.9291e-01,  ..., 1.4135e-01,\n",
              "            2.6704e-01, 5.0148e-01],\n",
              "           ...,\n",
              "           [4.1667e-01, 2.4496e-01, 4.1776e-01,  ..., 3.4083e-01,\n",
              "            4.4743e-01, 3.2265e-01],\n",
              "           [6.9750e-01, 2.9628e-01, 8.0812e-01,  ..., 7.9075e-01,\n",
              "            1.7074e-01, 7.1473e-01],\n",
              "           [6.2338e-01, 8.2974e-01, 7.5392e-01,  ..., 6.6634e-01,\n",
              "            5.2281e-01, 5.0829e-01]],\n",
              "\n",
              "          [[6.4886e-01, 6.4770e-01, 9.5541e-01,  ..., 2.4445e-01,\n",
              "            8.4754e-01, 4.0871e-01],\n",
              "           [5.0502e-02, 3.0855e-01, 6.7635e-01,  ..., 3.7192e-01,\n",
              "            4.6184e-01, 3.6603e-01],\n",
              "           [1.0254e-01, 2.5839e-01, 8.5851e-01,  ..., 2.9639e-01,\n",
              "            3.9562e-01, 9.3301e-01],\n",
              "           ...,\n",
              "           [3.4829e-01, 1.4055e-01, 4.3288e-02,  ..., 6.7440e-01,\n",
              "            1.3395e-01, 7.9232e-01],\n",
              "           [4.0883e-01, 7.8527e-01, 4.9706e-01,  ..., 5.5850e-01,\n",
              "            8.2231e-01, 2.7286e-01],\n",
              "           [8.7991e-01, 3.6405e-01, 6.0529e-01,  ..., 7.2257e-01,\n",
              "            4.3588e-01, 7.2970e-01]]],\n",
              "\n",
              "\n",
              "         [[[3.8954e-01, 8.8555e-01, 2.2219e-01,  ..., 6.1759e-01,\n",
              "            6.3321e-01, 1.9347e-02],\n",
              "           [3.9809e-01, 7.0855e-01, 5.0954e-01,  ..., 5.5785e-01,\n",
              "            5.3450e-01, 4.8319e-01],\n",
              "           [9.5879e-01, 2.3644e-01, 2.2010e-01,  ..., 1.6182e-01,\n",
              "            2.9536e-01, 2.9732e-01],\n",
              "           ...,\n",
              "           [2.8866e-01, 6.1284e-01, 8.8313e-01,  ..., 2.7720e-01,\n",
              "            9.9869e-01, 8.4464e-01],\n",
              "           [9.7272e-01, 5.2730e-01, 9.8134e-01,  ..., 6.4230e-01,\n",
              "            3.7115e-01, 5.5326e-01],\n",
              "           [6.9804e-01, 6.6220e-01, 3.2773e-01,  ..., 1.6540e-01,\n",
              "            8.4785e-02, 8.3483e-01]],\n",
              "\n",
              "          [[6.7495e-01, 2.3043e-01, 7.0285e-01,  ..., 7.5274e-01,\n",
              "            4.6510e-01, 3.5684e-01],\n",
              "           [2.0158e-02, 8.2852e-02, 9.6006e-01,  ..., 9.5761e-01,\n",
              "            5.8660e-01, 2.6273e-01],\n",
              "           [7.4144e-01, 8.5116e-02, 1.3943e-02,  ..., 3.4703e-01,\n",
              "            3.2555e-01, 7.6193e-01],\n",
              "           ...,\n",
              "           [1.1361e-01, 1.0480e-01, 9.0047e-02,  ..., 7.8814e-01,\n",
              "            2.8216e-01, 6.6889e-01],\n",
              "           [6.3437e-01, 4.7679e-01, 8.8749e-01,  ..., 4.1137e-01,\n",
              "            6.5503e-01, 4.7767e-01],\n",
              "           [5.4388e-01, 9.7994e-01, 7.8975e-02,  ..., 5.1463e-02,\n",
              "            9.2595e-01, 9.2499e-01]],\n",
              "\n",
              "          [[8.2429e-02, 1.5776e-01, 4.7920e-01,  ..., 4.0151e-01,\n",
              "            2.8335e-01, 3.4777e-01],\n",
              "           [3.9168e-01, 8.4360e-01, 8.8215e-01,  ..., 8.3702e-01,\n",
              "            3.0891e-01, 5.3686e-01],\n",
              "           [6.1345e-01, 6.3284e-01, 9.0487e-01,  ..., 2.2933e-01,\n",
              "            9.1222e-01, 9.0692e-01],\n",
              "           ...,\n",
              "           [3.2126e-01, 8.5259e-01, 6.6823e-01,  ..., 9.6818e-01,\n",
              "            1.5457e-01, 7.8329e-01],\n",
              "           [6.7007e-01, 2.0915e-01, 9.4786e-01,  ..., 6.2303e-01,\n",
              "            2.7254e-01, 8.7353e-01],\n",
              "           [6.2559e-01, 9.5958e-01, 6.6139e-01,  ..., 8.6614e-01,\n",
              "            5.7265e-01, 5.1114e-01]],\n",
              "\n",
              "          ...,\n",
              "\n",
              "          [[1.2604e-01, 1.2904e-04, 8.4957e-02,  ..., 8.1290e-01,\n",
              "            8.5807e-01, 9.4070e-01],\n",
              "           [5.0226e-01, 8.5353e-01, 4.6941e-01,  ..., 4.3429e-01,\n",
              "            6.5104e-01, 2.3253e-01],\n",
              "           [9.6460e-01, 7.2352e-01, 1.3818e-01,  ..., 6.5129e-01,\n",
              "            1.3107e-02, 5.3512e-02],\n",
              "           ...,\n",
              "           [2.8710e-01, 2.7857e-03, 9.2383e-02,  ..., 1.8258e-01,\n",
              "            9.7091e-01, 9.5467e-01],\n",
              "           [6.8964e-01, 3.4099e-01, 9.5520e-01,  ..., 4.4235e-01,\n",
              "            1.2262e-01, 1.9181e-02],\n",
              "           [6.5142e-01, 3.5759e-01, 8.7394e-01,  ..., 2.4265e-01,\n",
              "            6.4442e-01, 5.7712e-01]],\n",
              "\n",
              "          [[2.2792e-01, 9.8547e-01, 6.5925e-02,  ..., 5.3406e-01,\n",
              "            8.9219e-01, 2.8366e-01],\n",
              "           [1.6978e-01, 8.5296e-01, 1.2729e-01,  ..., 7.2492e-01,\n",
              "            5.9379e-01, 5.6210e-01],\n",
              "           [8.5691e-01, 4.0461e-01, 7.9595e-01,  ..., 3.4585e-01,\n",
              "            6.6655e-01, 6.5736e-01],\n",
              "           ...,\n",
              "           [3.8873e-01, 7.4821e-01, 8.5892e-01,  ..., 1.6039e-01,\n",
              "            6.9351e-01, 3.5523e-01],\n",
              "           [8.3223e-01, 9.8778e-01, 7.3924e-01,  ..., 6.4722e-01,\n",
              "            3.4402e-03, 9.8311e-02],\n",
              "           [5.6535e-01, 7.1451e-01, 3.1789e-01,  ..., 5.7480e-01,\n",
              "            9.8970e-01, 6.9800e-01]],\n",
              "\n",
              "          [[5.0343e-01, 4.2399e-01, 3.8081e-01,  ..., 7.0790e-01,\n",
              "            3.9254e-01, 1.1869e-01],\n",
              "           [3.2267e-01, 3.4168e-01, 7.0695e-01,  ..., 5.0301e-01,\n",
              "            3.9390e-01, 4.1024e-01],\n",
              "           [1.9148e-01, 2.8672e-02, 9.1033e-01,  ..., 2.2634e-02,\n",
              "            3.4323e-01, 3.2283e-01],\n",
              "           ...,\n",
              "           [3.3098e-01, 7.9154e-02, 2.2095e-01,  ..., 2.7453e-01,\n",
              "            6.7265e-01, 1.3971e-01],\n",
              "           [7.6711e-01, 3.8790e-01, 4.4669e-02,  ..., 8.0871e-02,\n",
              "            7.9475e-01, 3.3332e-01],\n",
              "           [8.3704e-01, 5.2544e-01, 5.8890e-01,  ..., 8.2471e-01,\n",
              "            2.6640e-01, 3.7387e-01]]]],\n",
              "\n",
              "\n",
              "\n",
              "        ...,\n",
              "\n",
              "\n",
              "\n",
              "        [[[[3.5466e-01, 8.0404e-01, 6.5806e-01,  ..., 6.0128e-01,\n",
              "            5.2474e-01, 2.2446e-01],\n",
              "           [5.9707e-01, 9.1230e-01, 9.3077e-01,  ..., 7.8517e-04,\n",
              "            6.6057e-01, 8.6883e-01],\n",
              "           [9.7516e-01, 9.7872e-01, 9.3419e-01,  ..., 4.0915e-01,\n",
              "            5.8908e-01, 2.1093e-01],\n",
              "           ...,\n",
              "           [9.4753e-01, 7.5433e-01, 9.4654e-01,  ..., 1.3553e-01,\n",
              "            4.1054e-01, 5.5401e-01],\n",
              "           [5.7928e-01, 2.2674e-01, 6.2065e-01,  ..., 1.5575e-01,\n",
              "            2.9396e-01, 5.2979e-01],\n",
              "           [1.6661e-01, 6.8801e-01, 4.5247e-01,  ..., 5.5510e-01,\n",
              "            8.2578e-01, 4.8964e-01]],\n",
              "\n",
              "          [[7.1546e-01, 9.6222e-01, 4.1919e-01,  ..., 4.9133e-01,\n",
              "            9.3949e-01, 1.5470e-01],\n",
              "           [7.1970e-01, 2.7170e-01, 3.9967e-01,  ..., 5.0777e-01,\n",
              "            4.3679e-01, 3.7313e-01],\n",
              "           [4.9437e-01, 8.2249e-01, 8.5080e-02,  ..., 8.5912e-01,\n",
              "            5.9354e-01, 6.4404e-02],\n",
              "           ...,\n",
              "           [8.2137e-01, 6.9985e-01, 3.0294e-01,  ..., 8.9103e-02,\n",
              "            8.1102e-01, 8.7603e-01],\n",
              "           [8.4457e-02, 1.8017e-01, 5.7330e-01,  ..., 6.7996e-01,\n",
              "            5.3859e-01, 8.0044e-01],\n",
              "           [1.6314e-01, 3.3905e-01, 4.7626e-01,  ..., 7.4026e-01,\n",
              "            8.6637e-01, 1.1701e-01]],\n",
              "\n",
              "          [[3.0224e-01, 9.7320e-01, 1.7990e-01,  ..., 6.9419e-01,\n",
              "            8.8328e-01, 4.7034e-01],\n",
              "           [2.4798e-01, 3.3715e-01, 8.4848e-02,  ..., 8.7939e-01,\n",
              "            2.7999e-01, 9.9029e-01],\n",
              "           [8.0004e-01, 1.7519e-01, 5.7263e-01,  ..., 5.9042e-01,\n",
              "            7.1699e-01, 7.8542e-01],\n",
              "           ...,\n",
              "           [3.1777e-01, 7.2605e-01, 2.3766e-01,  ..., 6.7901e-02,\n",
              "            8.2806e-02, 9.3021e-01],\n",
              "           [9.0265e-01, 5.2933e-01, 3.4044e-01,  ..., 8.2412e-01,\n",
              "            7.9913e-01, 6.9897e-01],\n",
              "           [9.0607e-01, 9.3276e-01, 5.1691e-01,  ..., 7.9887e-01,\n",
              "            9.0321e-01, 6.5908e-01]],\n",
              "\n",
              "          ...,\n",
              "\n",
              "          [[1.7928e-01, 6.3471e-01, 4.7918e-01,  ..., 2.8745e-01,\n",
              "            5.3393e-01, 6.9415e-01],\n",
              "           [1.9350e-01, 1.7012e-01, 5.0805e-01,  ..., 9.5926e-01,\n",
              "            8.8952e-01, 4.6373e-01],\n",
              "           [5.0702e-01, 4.1274e-03, 5.6152e-02,  ..., 9.4025e-01,\n",
              "            5.3275e-01, 2.2454e-01],\n",
              "           ...,\n",
              "           [5.9572e-01, 7.1724e-01, 4.5718e-01,  ..., 7.2813e-01,\n",
              "            3.8101e-01, 3.3856e-01],\n",
              "           [4.2663e-01, 9.8913e-01, 4.7465e-01,  ..., 3.0890e-02,\n",
              "            9.0521e-01, 8.7031e-02],\n",
              "           [1.7570e-01, 9.6676e-01, 5.6835e-01,  ..., 6.3287e-01,\n",
              "            5.8787e-01, 9.5085e-01]],\n",
              "\n",
              "          [[6.3837e-01, 5.9577e-01, 2.0606e-02,  ..., 9.5879e-01,\n",
              "            8.8813e-01, 4.4920e-01],\n",
              "           [8.8478e-01, 9.8950e-01, 3.4307e-02,  ..., 5.9031e-02,\n",
              "            1.9557e-01, 4.1766e-01],\n",
              "           [5.0539e-01, 4.5058e-01, 1.8496e-01,  ..., 8.8902e-01,\n",
              "            7.6269e-01, 8.5119e-02],\n",
              "           ...,\n",
              "           [1.1240e-01, 2.9336e-01, 2.2203e-01,  ..., 6.7299e-01,\n",
              "            2.3026e-02, 7.9740e-01],\n",
              "           [2.8157e-01, 8.8912e-01, 9.0692e-01,  ..., 8.5010e-01,\n",
              "            3.1862e-01, 6.3861e-02],\n",
              "           [4.7001e-01, 2.2760e-01, 7.0041e-01,  ..., 8.6859e-01,\n",
              "            6.2359e-01, 9.2106e-03]],\n",
              "\n",
              "          [[7.8774e-03, 7.3689e-01, 1.9283e-01,  ..., 1.4500e-01,\n",
              "            9.1714e-01, 9.5139e-01],\n",
              "           [4.8172e-01, 1.1134e-01, 4.6202e-01,  ..., 2.5791e-02,\n",
              "            1.5490e-02, 4.0317e-01],\n",
              "           [8.4660e-02, 3.3396e-01, 7.1469e-01,  ..., 1.6586e-01,\n",
              "            2.8858e-01, 6.9434e-01],\n",
              "           ...,\n",
              "           [3.5751e-01, 9.9899e-01, 5.2570e-01,  ..., 3.2097e-01,\n",
              "            7.5615e-01, 8.1471e-01],\n",
              "           [6.0093e-02, 4.9659e-01, 3.5500e-01,  ..., 4.6454e-02,\n",
              "            9.0461e-01, 2.6318e-01],\n",
              "           [6.9768e-01, 4.1960e-01, 4.8393e-01,  ..., 1.6917e-01,\n",
              "            7.1626e-01, 2.5907e-01]]],\n",
              "\n",
              "\n",
              "         [[[8.1602e-01, 1.3798e-01, 9.7689e-02,  ..., 1.8307e-01,\n",
              "            8.9938e-01, 4.5570e-01],\n",
              "           [7.9639e-01, 4.0291e-01, 8.2881e-01,  ..., 7.3413e-01,\n",
              "            8.9311e-01, 7.8685e-01],\n",
              "           [2.4398e-01, 9.0024e-01, 4.6601e-01,  ..., 3.7599e-01,\n",
              "            5.2997e-01, 4.8433e-01],\n",
              "           ...,\n",
              "           [7.3668e-02, 6.2639e-02, 7.2974e-01,  ..., 8.4310e-01,\n",
              "            5.2439e-01, 1.4004e-01],\n",
              "           [1.6696e-01, 5.2447e-01, 1.1330e-01,  ..., 1.6989e-01,\n",
              "            9.8212e-01, 1.7759e-01],\n",
              "           [8.3104e-02, 9.8378e-01, 3.6586e-01,  ..., 8.4906e-01,\n",
              "            8.3225e-01, 1.0917e-01]],\n",
              "\n",
              "          [[7.7559e-01, 3.6756e-01, 4.1523e-01,  ..., 7.7580e-01,\n",
              "            9.0837e-01, 8.6744e-01],\n",
              "           [9.2715e-01, 1.4332e-01, 9.0094e-01,  ..., 8.2106e-01,\n",
              "            5.4777e-01, 9.1223e-01],\n",
              "           [3.4165e-01, 1.4348e-01, 1.0647e-01,  ..., 5.9976e-01,\n",
              "            5.0712e-02, 1.3254e-02],\n",
              "           ...,\n",
              "           [9.3985e-01, 4.3505e-01, 7.1505e-01,  ..., 5.3698e-01,\n",
              "            9.3341e-01, 3.2652e-01],\n",
              "           [9.5264e-01, 3.5177e-01, 9.5801e-01,  ..., 7.5449e-01,\n",
              "            4.4913e-01, 8.3417e-01],\n",
              "           [5.7657e-01, 6.0374e-01, 7.2091e-01,  ..., 8.5631e-01,\n",
              "            8.6383e-01, 6.3132e-02]],\n",
              "\n",
              "          [[1.1924e-01, 6.3975e-01, 9.5529e-01,  ..., 5.1171e-01,\n",
              "            3.9481e-01, 7.9141e-01],\n",
              "           [2.8304e-01, 8.0665e-01, 9.5157e-01,  ..., 3.8901e-01,\n",
              "            3.4331e-01, 6.6539e-01],\n",
              "           [5.9642e-01, 1.0342e-01, 3.9002e-01,  ..., 2.7960e-01,\n",
              "            7.4264e-01, 4.4017e-01],\n",
              "           ...,\n",
              "           [8.6759e-01, 6.3834e-01, 9.1704e-01,  ..., 7.2730e-01,\n",
              "            4.6944e-01, 8.6505e-01],\n",
              "           [7.5572e-02, 4.6241e-01, 7.1381e-01,  ..., 3.4033e-01,\n",
              "            8.6358e-01, 2.7650e-01],\n",
              "           [8.7449e-01, 5.8223e-01, 1.8038e-01,  ..., 5.3146e-01,\n",
              "            8.5552e-01, 1.5400e-02]],\n",
              "\n",
              "          ...,\n",
              "\n",
              "          [[1.6911e-01, 1.3182e-01, 6.7415e-01,  ..., 9.8945e-01,\n",
              "            5.2357e-01, 9.8598e-01],\n",
              "           [1.9088e-01, 1.3177e-01, 7.2172e-01,  ..., 7.8150e-01,\n",
              "            5.8508e-02, 4.1748e-01],\n",
              "           [3.1336e-01, 8.6352e-02, 8.0275e-01,  ..., 1.4878e-01,\n",
              "            9.8108e-01, 7.3386e-01],\n",
              "           ...,\n",
              "           [5.4186e-01, 3.3191e-02, 5.9120e-01,  ..., 6.7700e-01,\n",
              "            2.1602e-01, 8.3153e-01],\n",
              "           [3.1887e-01, 2.6959e-01, 3.6340e-01,  ..., 4.4059e-01,\n",
              "            8.9757e-01, 1.6602e-02],\n",
              "           [2.5382e-01, 5.6833e-01, 1.8603e-01,  ..., 5.5611e-01,\n",
              "            2.1438e-01, 1.3538e-01]],\n",
              "\n",
              "          [[6.5954e-02, 6.7250e-01, 6.3818e-01,  ..., 4.2379e-01,\n",
              "            3.6129e-01, 5.0860e-02],\n",
              "           [7.9544e-01, 2.5445e-02, 9.6557e-01,  ..., 1.7602e-01,\n",
              "            2.0516e-01, 9.8729e-01],\n",
              "           [8.0884e-01, 8.6946e-01, 4.4927e-01,  ..., 7.1340e-02,\n",
              "            2.0204e-02, 6.2923e-01],\n",
              "           ...,\n",
              "           [1.3140e-01, 8.6746e-01, 3.5376e-01,  ..., 3.7754e-01,\n",
              "            2.0713e-01, 8.2258e-02],\n",
              "           [2.2260e-01, 5.9260e-01, 7.4274e-01,  ..., 7.0772e-01,\n",
              "            5.9458e-01, 6.4719e-01],\n",
              "           [2.6844e-02, 1.1617e-01, 9.4807e-01,  ..., 4.7808e-02,\n",
              "            1.1230e-01, 2.5617e-01]],\n",
              "\n",
              "          [[6.8222e-01, 2.5585e-01, 1.8908e-01,  ..., 9.7755e-03,\n",
              "            6.0566e-01, 4.2388e-01],\n",
              "           [2.0784e-01, 5.5045e-01, 7.0888e-01,  ..., 7.1910e-01,\n",
              "            1.7870e-01, 3.4097e-01],\n",
              "           [2.0308e-01, 3.8886e-01, 8.3579e-01,  ..., 7.8423e-01,\n",
              "            6.4050e-01, 5.1743e-02],\n",
              "           ...,\n",
              "           [8.7758e-01, 4.1568e-01, 4.1394e-01,  ..., 1.8981e-01,\n",
              "            2.9656e-01, 3.0718e-01],\n",
              "           [9.1449e-01, 1.0981e-01, 9.5708e-01,  ..., 5.6561e-02,\n",
              "            9.5755e-01, 3.1029e-01],\n",
              "           [3.7063e-01, 6.7474e-01, 8.6942e-01,  ..., 8.1814e-01,\n",
              "            5.5491e-01, 5.0587e-01]]],\n",
              "\n",
              "\n",
              "         [[[6.3275e-01, 9.0440e-01, 6.4544e-01,  ..., 6.1205e-01,\n",
              "            2.9457e-01, 6.3214e-01],\n",
              "           [2.1615e-01, 1.5800e-02, 3.2191e-01,  ..., 1.1975e-01,\n",
              "            5.8599e-01, 9.4209e-01],\n",
              "           [9.0856e-01, 6.7667e-02, 2.8892e-01,  ..., 6.8515e-01,\n",
              "            1.7562e-01, 8.8367e-01],\n",
              "           ...,\n",
              "           [3.9370e-01, 4.1613e-01, 6.7863e-01,  ..., 5.2779e-02,\n",
              "            8.9079e-01, 7.9716e-01],\n",
              "           [7.5943e-01, 1.1618e-01, 8.3151e-01,  ..., 5.5122e-01,\n",
              "            8.2402e-01, 2.1184e-01],\n",
              "           [9.5008e-01, 6.6550e-01, 4.2029e-02,  ..., 9.0819e-01,\n",
              "            5.5228e-01, 6.4751e-01]],\n",
              "\n",
              "          [[6.0356e-01, 2.4396e-01, 7.5684e-02,  ..., 9.8346e-01,\n",
              "            6.4150e-01, 3.8563e-01],\n",
              "           [7.5552e-01, 3.1350e-01, 3.2561e-01,  ..., 7.4205e-01,\n",
              "            4.6299e-01, 9.8344e-01],\n",
              "           [4.9688e-01, 1.5599e-01, 8.9688e-01,  ..., 9.1524e-01,\n",
              "            1.1863e-01, 7.6070e-01],\n",
              "           ...,\n",
              "           [1.4929e-01, 4.0696e-01, 6.9648e-01,  ..., 2.5606e-01,\n",
              "            4.3886e-01, 1.9065e-01],\n",
              "           [2.8791e-02, 2.4697e-01, 6.1678e-01,  ..., 7.9166e-01,\n",
              "            7.2267e-01, 6.9043e-01],\n",
              "           [4.4222e-01, 2.6017e-01, 6.9934e-01,  ..., 7.9129e-01,\n",
              "            7.8210e-01, 6.0382e-01]],\n",
              "\n",
              "          [[4.6872e-02, 8.5593e-01, 4.9544e-01,  ..., 2.1586e-01,\n",
              "            5.5821e-01, 5.0181e-01],\n",
              "           [7.6347e-01, 6.2203e-01, 5.6476e-01,  ..., 2.9081e-01,\n",
              "            7.5407e-01, 9.7740e-01],\n",
              "           [5.1864e-01, 5.5793e-01, 7.6478e-01,  ..., 7.1527e-01,\n",
              "            1.3271e-01, 9.8655e-01],\n",
              "           ...,\n",
              "           [3.4247e-01, 4.4709e-01, 8.2713e-01,  ..., 3.0096e-01,\n",
              "            9.2115e-01, 4.3644e-01],\n",
              "           [7.0400e-01, 1.3987e-01, 5.9074e-02,  ..., 9.6927e-01,\n",
              "            8.2041e-01, 4.3879e-01],\n",
              "           [5.8144e-02, 7.7394e-01, 1.5698e-01,  ..., 9.0194e-01,\n",
              "            2.1984e-01, 6.2671e-01]],\n",
              "\n",
              "          ...,\n",
              "\n",
              "          [[5.0383e-01, 3.0616e-01, 1.4686e-01,  ..., 4.1404e-02,\n",
              "            3.3743e-01, 1.1045e-01],\n",
              "           [5.4094e-01, 4.5913e-01, 1.9394e-01,  ..., 6.7172e-01,\n",
              "            5.5078e-01, 2.9813e-01],\n",
              "           [2.0121e-02, 7.4913e-01, 3.5236e-01,  ..., 7.7536e-01,\n",
              "            4.3764e-01, 8.0421e-01],\n",
              "           ...,\n",
              "           [4.6131e-01, 5.6287e-01, 2.3970e-01,  ..., 3.3729e-02,\n",
              "            7.4513e-01, 3.1629e-01],\n",
              "           [5.8973e-01, 2.5600e-01, 1.9500e-02,  ..., 5.0977e-01,\n",
              "            3.1723e-01, 4.1198e-01],\n",
              "           [6.1472e-01, 7.6394e-01, 4.0873e-01,  ..., 7.5496e-01,\n",
              "            5.3692e-01, 3.9622e-01]],\n",
              "\n",
              "          [[3.0257e-01, 6.9641e-01, 7.2392e-01,  ..., 5.6991e-01,\n",
              "            7.5235e-01, 7.1984e-01],\n",
              "           [9.3689e-01, 8.4965e-01, 9.8355e-01,  ..., 3.3539e-01,\n",
              "            9.8589e-01, 3.6904e-02],\n",
              "           [3.2817e-01, 1.9899e-01, 3.1436e-01,  ..., 5.0373e-01,\n",
              "            1.3643e-01, 9.4148e-01],\n",
              "           ...,\n",
              "           [7.1470e-01, 3.4569e-01, 2.6779e-01,  ..., 1.3038e-01,\n",
              "            1.1648e-01, 3.6197e-01],\n",
              "           [9.3778e-01, 7.8566e-01, 5.5265e-01,  ..., 9.1699e-01,\n",
              "            7.8321e-01, 5.0087e-01],\n",
              "           [3.8142e-02, 7.9758e-02, 5.6733e-01,  ..., 4.4725e-01,\n",
              "            4.0227e-01, 8.4678e-02]],\n",
              "\n",
              "          [[7.3013e-01, 2.0062e-02, 8.7574e-02,  ..., 4.5708e-01,\n",
              "            5.5331e-01, 8.6006e-01],\n",
              "           [3.5919e-01, 2.7174e-01, 4.8859e-01,  ..., 5.4801e-01,\n",
              "            7.9818e-01, 8.9289e-02],\n",
              "           [3.8640e-01, 7.0467e-01, 8.8298e-01,  ..., 1.9678e-01,\n",
              "            5.6233e-02, 5.8524e-01],\n",
              "           ...,\n",
              "           [9.4874e-01, 1.2119e-01, 2.4984e-01,  ..., 8.2271e-01,\n",
              "            1.5850e-01, 8.2526e-01],\n",
              "           [8.1680e-01, 8.0937e-01, 9.4933e-01,  ..., 4.2364e-01,\n",
              "            9.1708e-01, 1.5356e-01],\n",
              "           [5.3730e-01, 9.4037e-01, 5.8240e-01,  ..., 1.9092e-01,\n",
              "            1.5140e-01, 8.1743e-01]]],\n",
              "\n",
              "\n",
              "         ...,\n",
              "\n",
              "\n",
              "         [[[8.0499e-01, 7.9318e-01, 4.7649e-01,  ..., 1.1448e-01,\n",
              "            8.8827e-01, 4.5550e-01],\n",
              "           [4.2351e-02, 1.1749e-01, 7.2243e-01,  ..., 7.3252e-01,\n",
              "            4.6175e-01, 1.6408e-01],\n",
              "           [9.5905e-01, 4.9326e-01, 5.7861e-01,  ..., 9.5561e-01,\n",
              "            3.2330e-01, 4.9858e-01],\n",
              "           ...,\n",
              "           [1.6149e-01, 7.9019e-01, 1.1761e-02,  ..., 7.6995e-01,\n",
              "            6.1908e-01, 4.9265e-01],\n",
              "           [4.3639e-01, 7.2584e-01, 2.4152e-01,  ..., 4.8367e-01,\n",
              "            4.4372e-01, 8.0167e-01],\n",
              "           [4.3762e-01, 3.9388e-01, 1.6196e-01,  ..., 3.6116e-01,\n",
              "            4.6380e-01, 1.6897e-01]],\n",
              "\n",
              "          [[5.7854e-01, 7.7497e-01, 8.7163e-01,  ..., 7.2939e-01,\n",
              "            5.8433e-02, 6.9051e-01],\n",
              "           [6.5658e-01, 3.7245e-01, 7.4064e-01,  ..., 1.3564e-01,\n",
              "            4.9014e-01, 2.0700e-01],\n",
              "           [8.9919e-01, 1.9011e-01, 4.9517e-01,  ..., 4.7123e-01,\n",
              "            8.5553e-01, 6.1612e-01],\n",
              "           ...,\n",
              "           [1.6937e-01, 8.0275e-01, 8.6753e-01,  ..., 7.2517e-01,\n",
              "            6.5720e-01, 7.6829e-02],\n",
              "           [6.7119e-01, 3.6852e-02, 9.5398e-01,  ..., 6.8746e-02,\n",
              "            9.1169e-01, 3.3739e-01],\n",
              "           [4.1128e-01, 3.2741e-01, 1.5120e-01,  ..., 8.4005e-01,\n",
              "            4.7842e-01, 3.0652e-01]],\n",
              "\n",
              "          [[9.0352e-03, 5.3858e-01, 7.0601e-01,  ..., 2.7376e-01,\n",
              "            1.6299e-01, 7.5860e-01],\n",
              "           [4.9963e-01, 4.6635e-01, 5.3263e-01,  ..., 3.1990e-01,\n",
              "            1.5696e-01, 2.0574e-01],\n",
              "           [5.5035e-01, 9.7987e-01, 7.7723e-01,  ..., 1.5519e-01,\n",
              "            2.1869e-01, 1.4066e-01],\n",
              "           ...,\n",
              "           [8.8605e-01, 5.6545e-01, 4.9739e-01,  ..., 3.4648e-01,\n",
              "            1.8307e-01, 5.7905e-01],\n",
              "           [9.8700e-01, 3.0392e-01, 9.8029e-01,  ..., 6.5307e-01,\n",
              "            9.9384e-01, 2.1056e-01],\n",
              "           [8.1573e-01, 8.3197e-01, 1.9085e-01,  ..., 4.6132e-01,\n",
              "            4.8004e-01, 4.5474e-01]],\n",
              "\n",
              "          ...,\n",
              "\n",
              "          [[6.3565e-01, 7.2850e-01, 8.3957e-01,  ..., 8.6804e-01,\n",
              "            7.3067e-01, 4.5161e-01],\n",
              "           [9.6404e-01, 4.1765e-01, 7.4357e-01,  ..., 1.5296e-01,\n",
              "            8.1468e-01, 1.6088e-01],\n",
              "           [2.0628e-01, 8.5690e-01, 3.1173e-02,  ..., 4.2062e-01,\n",
              "            1.2501e-01, 6.3576e-01],\n",
              "           ...,\n",
              "           [2.7261e-01, 3.3365e-01, 2.5830e-01,  ..., 4.2974e-01,\n",
              "            3.7316e-01, 9.0863e-01],\n",
              "           [4.3853e-01, 4.0763e-01, 9.7036e-01,  ..., 8.1099e-01,\n",
              "            2.2169e-01, 9.6557e-01],\n",
              "           [9.5928e-02, 6.7627e-01, 8.0396e-01,  ..., 2.7105e-01,\n",
              "            2.0509e-01, 7.0876e-01]],\n",
              "\n",
              "          [[4.1203e-01, 5.2418e-01, 5.1103e-01,  ..., 7.0115e-03,\n",
              "            4.9612e-01, 4.4525e-01],\n",
              "           [9.2337e-01, 5.0408e-01, 1.0372e-01,  ..., 7.9532e-01,\n",
              "            8.1592e-01, 4.0681e-01],\n",
              "           [7.1398e-01, 2.8374e-01, 9.9245e-01,  ..., 8.7443e-01,\n",
              "            5.0257e-01, 7.9488e-01],\n",
              "           ...,\n",
              "           [2.4385e-02, 7.0223e-01, 3.5529e-01,  ..., 9.7291e-01,\n",
              "            7.4670e-01, 8.7643e-01],\n",
              "           [4.3753e-01, 8.4635e-01, 1.0690e-01,  ..., 2.7359e-01,\n",
              "            4.4866e-01, 5.5951e-01],\n",
              "           [2.5644e-01, 3.8318e-01, 8.9645e-01,  ..., 9.8847e-01,\n",
              "            8.0581e-01, 7.8295e-01]],\n",
              "\n",
              "          [[6.4679e-01, 2.4352e-01, 5.4898e-01,  ..., 3.4727e-01,\n",
              "            7.8396e-01, 1.2158e-02],\n",
              "           [2.1630e-01, 7.9525e-01, 1.8545e-01,  ..., 6.0491e-01,\n",
              "            9.8293e-01, 7.0174e-01],\n",
              "           [6.8879e-02, 7.9086e-01, 3.7605e-01,  ..., 4.9927e-01,\n",
              "            9.2387e-01, 4.2826e-01],\n",
              "           ...,\n",
              "           [9.9203e-01, 3.3002e-01, 7.2773e-03,  ..., 9.0492e-01,\n",
              "            6.9339e-02, 2.1389e-01],\n",
              "           [5.0179e-01, 3.2131e-01, 3.5850e-01,  ..., 4.8772e-01,\n",
              "            9.6591e-01, 8.8221e-01],\n",
              "           [6.3034e-01, 8.4641e-01, 6.1763e-01,  ..., 5.5380e-02,\n",
              "            9.7480e-01, 2.9171e-01]]],\n",
              "\n",
              "\n",
              "         [[[5.4631e-01, 3.9155e-01, 5.6269e-01,  ..., 4.3298e-01,\n",
              "            3.7193e-01, 7.9274e-01],\n",
              "           [1.8504e-01, 1.1853e-01, 1.1342e-01,  ..., 6.0930e-01,\n",
              "            8.4689e-01, 8.9094e-01],\n",
              "           [9.6739e-01, 7.4476e-02, 6.5737e-02,  ..., 8.7787e-01,\n",
              "            9.3756e-01, 9.4899e-01],\n",
              "           ...,\n",
              "           [4.3101e-01, 2.6952e-01, 7.9108e-01,  ..., 1.0032e-01,\n",
              "            6.4228e-01, 6.6854e-01],\n",
              "           [9.0248e-01, 3.8909e-01, 6.6308e-01,  ..., 9.3374e-01,\n",
              "            9.0832e-01, 1.5885e-01],\n",
              "           [5.3446e-01, 9.6437e-01, 4.4570e-02,  ..., 7.8873e-01,\n",
              "            4.0477e-02, 3.7261e-01]],\n",
              "\n",
              "          [[7.5321e-01, 5.0863e-01, 5.9388e-01,  ..., 3.8125e-01,\n",
              "            6.1815e-01, 4.5326e-01],\n",
              "           [9.1803e-04, 7.7564e-01, 6.7632e-02,  ..., 3.5622e-01,\n",
              "            7.7194e-01, 5.1918e-01],\n",
              "           [2.4480e-02, 4.4051e-01, 4.0817e-01,  ..., 3.2946e-01,\n",
              "            5.7450e-01, 3.6646e-01],\n",
              "           ...,\n",
              "           [9.4694e-01, 7.6025e-01, 6.2624e-01,  ..., 6.0881e-01,\n",
              "            3.1628e-01, 6.7624e-01],\n",
              "           [8.7032e-01, 2.0567e-01, 3.0350e-01,  ..., 2.8008e-01,\n",
              "            3.1110e-01, 3.4477e-01],\n",
              "           [2.0989e-01, 9.3876e-02, 2.5401e-01,  ..., 6.6201e-01,\n",
              "            4.1587e-01, 9.2254e-01]],\n",
              "\n",
              "          [[6.6060e-01, 9.8921e-01, 3.8680e-01,  ..., 2.3326e-01,\n",
              "            7.9762e-01, 8.7778e-01],\n",
              "           [6.6420e-01, 3.9177e-01, 3.5352e-01,  ..., 6.5990e-01,\n",
              "            4.5808e-01, 4.2900e-01],\n",
              "           [9.6066e-01, 5.6278e-01, 7.6055e-01,  ..., 4.9567e-02,\n",
              "            2.3256e-01, 8.5091e-01],\n",
              "           ...,\n",
              "           [7.6514e-01, 5.5835e-01, 3.1264e-01,  ..., 3.4259e-01,\n",
              "            6.9226e-01, 3.4982e-01],\n",
              "           [6.2155e-01, 5.7504e-01, 1.8926e-01,  ..., 4.7797e-01,\n",
              "            4.1091e-01, 3.1923e-02],\n",
              "           [7.3795e-01, 2.4832e-01, 6.4552e-01,  ..., 9.5563e-01,\n",
              "            2.3738e-01, 9.8003e-02]],\n",
              "\n",
              "          ...,\n",
              "\n",
              "          [[7.4213e-01, 9.1526e-01, 2.0345e-01,  ..., 6.2424e-02,\n",
              "            4.6057e-01, 9.9575e-02],\n",
              "           [3.3108e-01, 6.3845e-01, 8.5221e-01,  ..., 6.1147e-01,\n",
              "            5.4483e-02, 4.2356e-01],\n",
              "           [4.0979e-01, 8.8845e-01, 1.7425e-01,  ..., 6.1574e-01,\n",
              "            8.0680e-01, 3.6707e-01],\n",
              "           ...,\n",
              "           [5.8996e-01, 3.8261e-01, 5.5566e-01,  ..., 5.5281e-01,\n",
              "            2.4322e-01, 3.7200e-01],\n",
              "           [5.0533e-01, 2.7590e-01, 5.4998e-01,  ..., 1.4351e-01,\n",
              "            9.5892e-01, 6.7133e-01],\n",
              "           [5.9744e-01, 1.1100e-01, 1.4291e-01,  ..., 4.3650e-01,\n",
              "            8.6068e-01, 5.8699e-01]],\n",
              "\n",
              "          [[7.6455e-01, 6.7639e-01, 7.4251e-01,  ..., 7.8773e-01,\n",
              "            2.0770e-02, 1.8119e-01],\n",
              "           [2.6821e-01, 1.1169e-01, 1.6590e-01,  ..., 8.6157e-01,\n",
              "            3.1631e-02, 9.7589e-01],\n",
              "           [6.0989e-01, 4.9795e-01, 4.4814e-01,  ..., 6.7568e-01,\n",
              "            6.5935e-01, 5.0939e-01],\n",
              "           ...,\n",
              "           [1.0512e-01, 1.4424e-02, 5.9330e-01,  ..., 1.4235e-01,\n",
              "            5.6752e-01, 6.5205e-01],\n",
              "           [5.0237e-01, 7.8422e-01, 4.6422e-01,  ..., 4.9282e-01,\n",
              "            8.5072e-01, 3.9263e-01],\n",
              "           [9.4421e-01, 7.0075e-01, 8.4634e-01,  ..., 1.1606e-01,\n",
              "            8.6951e-01, 4.9104e-01]],\n",
              "\n",
              "          [[1.9216e-01, 9.0720e-01, 9.9485e-01,  ..., 2.7559e-01,\n",
              "            3.0097e-01, 2.1530e-01],\n",
              "           [5.2915e-01, 8.5252e-01, 6.9847e-01,  ..., 7.1837e-02,\n",
              "            6.2146e-01, 2.4802e-01],\n",
              "           [1.8008e-01, 7.9769e-01, 6.6729e-01,  ..., 9.3394e-01,\n",
              "            7.1447e-02, 4.6993e-01],\n",
              "           ...,\n",
              "           [8.7040e-01, 8.5788e-01, 1.5649e-01,  ..., 8.8595e-01,\n",
              "            9.3357e-01, 6.4184e-02],\n",
              "           [2.7041e-01, 5.2052e-01, 6.8634e-01,  ..., 4.5053e-01,\n",
              "            4.5840e-01, 1.0458e-01],\n",
              "           [4.2939e-01, 6.1176e-01, 6.5770e-01,  ..., 1.1509e-01,\n",
              "            9.7790e-01, 8.8109e-02]]],\n",
              "\n",
              "\n",
              "         [[[5.0545e-01, 4.9833e-01, 5.1751e-01,  ..., 3.2422e-01,\n",
              "            1.5832e-02, 5.2012e-01],\n",
              "           [1.2288e-01, 8.8824e-01, 6.3258e-01,  ..., 9.6581e-01,\n",
              "            2.8621e-01, 4.6021e-01],\n",
              "           [9.3423e-01, 8.9459e-02, 5.6107e-01,  ..., 8.0752e-01,\n",
              "            1.7607e-01, 1.1834e-02],\n",
              "           ...,\n",
              "           [5.4798e-01, 1.8768e-01, 2.6096e-01,  ..., 2.2312e-01,\n",
              "            2.4655e-01, 1.9577e-01],\n",
              "           [2.6553e-01, 3.6231e-02, 8.8460e-01,  ..., 4.6102e-02,\n",
              "            8.5390e-01, 3.9350e-01],\n",
              "           [3.5824e-01, 3.4779e-01, 1.6647e-01,  ..., 7.5866e-01,\n",
              "            5.2580e-01, 9.5109e-01]],\n",
              "\n",
              "          [[3.0973e-01, 3.4577e-01, 3.1979e-01,  ..., 4.6092e-01,\n",
              "            1.7756e-01, 6.4766e-02],\n",
              "           [3.5870e-01, 8.6232e-01, 7.0436e-01,  ..., 4.5412e-01,\n",
              "            9.9966e-01, 4.2076e-01],\n",
              "           [9.0033e-01, 8.6477e-01, 5.4369e-01,  ..., 1.5030e-02,\n",
              "            7.0383e-01, 8.0436e-01],\n",
              "           ...,\n",
              "           [5.4086e-01, 9.3390e-01, 4.3755e-01,  ..., 5.1873e-01,\n",
              "            2.9663e-01, 9.7339e-02],\n",
              "           [1.9395e-01, 2.7420e-01, 9.4904e-01,  ..., 9.2581e-01,\n",
              "            9.2662e-01, 7.6654e-01],\n",
              "           [4.2866e-01, 9.8341e-01, 6.6784e-01,  ..., 8.8128e-01,\n",
              "            1.1992e-01, 1.2142e-01]],\n",
              "\n",
              "          [[3.0432e-01, 1.4795e-01, 4.4951e-01,  ..., 4.0626e-01,\n",
              "            3.9676e-01, 4.5249e-01],\n",
              "           [3.5804e-01, 2.9512e-02, 9.2430e-01,  ..., 2.9428e-01,\n",
              "            4.2890e-01, 2.3727e-01],\n",
              "           [4.4432e-01, 3.7096e-01, 3.1773e-01,  ..., 9.9452e-01,\n",
              "            3.6320e-01, 1.5965e-01],\n",
              "           ...,\n",
              "           [5.4528e-01, 1.5464e-01, 8.2913e-01,  ..., 7.2556e-01,\n",
              "            5.6667e-01, 9.8353e-01],\n",
              "           [8.7287e-01, 5.5173e-01, 4.7757e-01,  ..., 4.5711e-01,\n",
              "            8.3750e-01, 9.1898e-01],\n",
              "           [5.4931e-01, 4.5708e-01, 4.6566e-01,  ..., 9.0613e-01,\n",
              "            7.3192e-01, 1.9853e-01]],\n",
              "\n",
              "          ...,\n",
              "\n",
              "          [[1.9858e-01, 3.9990e-02, 8.6738e-01,  ..., 3.6063e-01,\n",
              "            6.2396e-01, 1.0401e-01],\n",
              "           [2.2775e-01, 2.3947e-01, 8.3622e-01,  ..., 9.6368e-01,\n",
              "            5.6674e-01, 3.6464e-01],\n",
              "           [9.5562e-01, 5.6436e-01, 6.4755e-01,  ..., 6.9106e-02,\n",
              "            2.6399e-01, 3.2428e-01],\n",
              "           ...,\n",
              "           [4.6460e-02, 7.0036e-01, 6.5588e-01,  ..., 2.8697e-01,\n",
              "            1.4989e-01, 3.9807e-01],\n",
              "           [8.9854e-01, 7.9617e-01, 9.2716e-01,  ..., 9.2349e-01,\n",
              "            5.0096e-01, 6.1836e-01],\n",
              "           [2.6339e-01, 1.1251e-01, 9.6168e-01,  ..., 2.9940e-01,\n",
              "            1.0726e-01, 4.9754e-01]],\n",
              "\n",
              "          [[5.6592e-01, 7.5670e-02, 5.2424e-01,  ..., 2.6235e-01,\n",
              "            1.4095e-01, 2.2748e-01],\n",
              "           [6.8092e-01, 2.0094e-03, 6.6660e-02,  ..., 9.8107e-02,\n",
              "            2.6043e-01, 3.4207e-01],\n",
              "           [2.3894e-01, 1.5126e-01, 5.1026e-01,  ..., 8.6637e-01,\n",
              "            2.3460e-01, 8.2297e-01],\n",
              "           ...,\n",
              "           [8.2130e-01, 6.9592e-01, 5.8776e-03,  ..., 4.7409e-02,\n",
              "            9.8851e-01, 6.1769e-03],\n",
              "           [9.8767e-01, 1.8976e-01, 5.1818e-02,  ..., 1.2331e-01,\n",
              "            8.8707e-01, 9.0704e-01],\n",
              "           [6.9959e-01, 5.7013e-01, 2.5628e-01,  ..., 8.4402e-01,\n",
              "            3.9600e-01, 3.4907e-01]],\n",
              "\n",
              "          [[2.5076e-01, 1.4459e-01, 8.6916e-01,  ..., 3.6396e-01,\n",
              "            1.3640e-01, 5.3259e-01],\n",
              "           [3.6235e-01, 5.9149e-01, 9.3452e-02,  ..., 3.9690e-01,\n",
              "            5.9104e-01, 6.6844e-02],\n",
              "           [3.2083e-01, 4.6392e-01, 3.7608e-01,  ..., 1.3105e-01,\n",
              "            1.6106e-01, 8.6476e-01],\n",
              "           ...,\n",
              "           [6.1498e-01, 3.2031e-01, 8.3883e-01,  ..., 6.8962e-01,\n",
              "            3.3408e-01, 5.1461e-01],\n",
              "           [6.6204e-01, 1.9655e-01, 9.7716e-02,  ..., 5.3810e-01,\n",
              "            2.0549e-02, 2.9101e-01],\n",
              "           [3.4629e-01, 5.2246e-01, 8.8501e-01,  ..., 2.9149e-01,\n",
              "            6.5278e-01, 4.4428e-03]]]],\n",
              "\n",
              "\n",
              "\n",
              "        [[[[7.5965e-01, 1.8133e-01, 9.8016e-01,  ..., 2.0787e-01,\n",
              "            4.9630e-01, 1.9901e-01],\n",
              "           [9.1008e-01, 9.6281e-01, 8.9797e-01,  ..., 2.8252e-01,\n",
              "            6.9347e-01, 5.9349e-01],\n",
              "           [9.3377e-01, 9.9435e-01, 2.6086e-02,  ..., 5.7221e-01,\n",
              "            5.0939e-01, 3.6200e-01],\n",
              "           ...,\n",
              "           [9.9631e-01, 9.1462e-01, 7.9638e-01,  ..., 5.0005e-01,\n",
              "            6.3963e-01, 1.1788e-01],\n",
              "           [6.8892e-01, 5.6236e-01, 8.9882e-01,  ..., 8.6397e-01,\n",
              "            7.1238e-01, 8.2738e-01],\n",
              "           [6.5193e-01, 3.6592e-01, 2.5965e-01,  ..., 1.8542e-01,\n",
              "            7.8501e-01, 2.4316e-01]],\n",
              "\n",
              "          [[2.8826e-01, 8.7835e-01, 7.0932e-01,  ..., 6.6002e-01,\n",
              "            6.0778e-01, 9.9826e-01],\n",
              "           [8.3658e-01, 4.9544e-01, 2.2984e-01,  ..., 9.7046e-01,\n",
              "            5.0739e-01, 7.0600e-01],\n",
              "           [3.0164e-01, 5.6377e-01, 4.8353e-01,  ..., 5.6098e-01,\n",
              "            2.1199e-01, 6.7331e-01],\n",
              "           ...,\n",
              "           [8.9329e-01, 1.6531e-02, 3.4958e-01,  ..., 1.9504e-01,\n",
              "            6.8603e-01, 2.4052e-01],\n",
              "           [5.3542e-02, 6.1014e-02, 3.3236e-01,  ..., 7.7752e-01,\n",
              "            6.5358e-01, 3.0328e-01],\n",
              "           [9.3154e-01, 3.6575e-01, 6.4373e-01,  ..., 2.8621e-01,\n",
              "            1.4029e-01, 2.7911e-01]],\n",
              "\n",
              "          [[1.6334e-01, 1.1994e-01, 4.7248e-01,  ..., 6.8282e-01,\n",
              "            1.0834e-01, 7.9310e-01],\n",
              "           [2.7873e-01, 4.0024e-01, 7.3135e-01,  ..., 9.1123e-01,\n",
              "            2.9430e-01, 3.4132e-01],\n",
              "           [7.4280e-01, 2.5646e-01, 1.1797e-01,  ..., 5.4956e-01,\n",
              "            1.1497e-01, 7.6577e-01],\n",
              "           ...,\n",
              "           [3.7105e-01, 1.3459e-01, 3.5401e-01,  ..., 9.6799e-01,\n",
              "            9.3357e-01, 9.9566e-01],\n",
              "           [3.9765e-01, 6.8980e-01, 6.1562e-01,  ..., 6.5357e-01,\n",
              "            3.6387e-02, 6.5845e-01],\n",
              "           [2.5436e-01, 2.9471e-01, 8.6440e-01,  ..., 4.3428e-01,\n",
              "            9.4396e-01, 1.4951e-01]],\n",
              "\n",
              "          ...,\n",
              "\n",
              "          [[2.8951e-02, 7.7996e-01, 8.1090e-02,  ..., 4.8892e-01,\n",
              "            2.7207e-02, 6.6084e-01],\n",
              "           [9.6742e-01, 4.1955e-01, 8.1249e-01,  ..., 4.8874e-01,\n",
              "            7.0896e-01, 3.9562e-01],\n",
              "           [9.0929e-01, 6.9130e-01, 1.6239e-01,  ..., 2.3599e-01,\n",
              "            9.4305e-01, 1.6697e-01],\n",
              "           ...,\n",
              "           [3.1321e-01, 1.1474e-01, 8.7044e-01,  ..., 9.4605e-01,\n",
              "            6.7309e-01, 1.0576e-01],\n",
              "           [7.7279e-01, 8.0805e-01, 8.4305e-03,  ..., 1.6599e-01,\n",
              "            4.7499e-01, 3.9931e-01],\n",
              "           [4.7405e-02, 2.7177e-01, 2.4538e-01,  ..., 7.7242e-01,\n",
              "            3.2752e-01, 6.6029e-02]],\n",
              "\n",
              "          [[6.0318e-01, 2.8490e-01, 1.8407e-01,  ..., 8.0046e-01,\n",
              "            2.2178e-01, 7.0860e-01],\n",
              "           [5.2481e-01, 6.2075e-01, 4.7432e-01,  ..., 3.1008e-01,\n",
              "            4.9510e-01, 8.9921e-01],\n",
              "           [2.5879e-01, 3.2100e-01, 3.7795e-01,  ..., 3.2364e-01,\n",
              "            9.6985e-01, 8.5733e-02],\n",
              "           ...,\n",
              "           [4.5424e-01, 8.8954e-02, 7.9361e-02,  ..., 8.1477e-01,\n",
              "            8.6563e-02, 1.9019e-01],\n",
              "           [9.0240e-02, 2.8315e-01, 4.3728e-01,  ..., 3.1037e-01,\n",
              "            1.9498e-01, 3.4386e-01],\n",
              "           [4.0864e-01, 9.6285e-01, 7.3911e-01,  ..., 9.2911e-02,\n",
              "            2.4123e-02, 8.1664e-01]],\n",
              "\n",
              "          [[1.0399e-01, 4.3363e-01, 9.5551e-01,  ..., 1.7249e-01,\n",
              "            2.0284e-01, 4.6358e-01],\n",
              "           [2.6403e-01, 9.2075e-02, 3.7454e-01,  ..., 9.8177e-01,\n",
              "            1.7039e-01, 2.1173e-01],\n",
              "           [5.1812e-01, 1.4031e-01, 5.6777e-02,  ..., 9.2698e-01,\n",
              "            9.1583e-01, 1.1261e-01],\n",
              "           ...,\n",
              "           [4.7157e-01, 1.9122e-01, 6.9773e-03,  ..., 7.4210e-01,\n",
              "            4.0805e-01, 2.9372e-01],\n",
              "           [9.6833e-01, 1.6686e-01, 2.1590e-01,  ..., 4.9444e-01,\n",
              "            2.6493e-01, 8.7393e-01],\n",
              "           [7.4132e-01, 8.5515e-03, 1.7605e-01,  ..., 2.6386e-01,\n",
              "            2.4507e-01, 3.2505e-01]]],\n",
              "\n",
              "\n",
              "         [[[6.0928e-01, 6.4764e-01, 7.5332e-01,  ..., 6.2574e-02,\n",
              "            4.1276e-01, 8.2341e-01],\n",
              "           [5.4376e-01, 4.7423e-01, 9.6680e-01,  ..., 4.6476e-02,\n",
              "            2.7589e-01, 1.6755e-01],\n",
              "           [6.2511e-02, 7.3165e-01, 1.3328e-02,  ..., 2.5868e-01,\n",
              "            9.8768e-01, 1.8290e-01],\n",
              "           ...,\n",
              "           [2.1366e-01, 7.6730e-01, 1.5473e-01,  ..., 2.9580e-01,\n",
              "            6.3042e-01, 5.0884e-01],\n",
              "           [4.5910e-01, 1.2605e-01, 7.0944e-01,  ..., 1.2173e-01,\n",
              "            7.1907e-01, 3.9949e-01],\n",
              "           [5.8393e-01, 1.0779e-01, 4.2505e-01,  ..., 4.9102e-01,\n",
              "            1.2438e-01, 7.2345e-01]],\n",
              "\n",
              "          [[6.7738e-01, 7.2784e-01, 7.5122e-01,  ..., 6.7712e-01,\n",
              "            5.0380e-01, 8.1965e-01],\n",
              "           [5.1376e-01, 2.3397e-02, 4.1626e-01,  ..., 4.2674e-01,\n",
              "            1.4148e-01, 5.8173e-01],\n",
              "           [6.9239e-01, 3.2172e-01, 4.8768e-01,  ..., 3.9354e-01,\n",
              "            5.5427e-01, 9.1580e-01],\n",
              "           ...,\n",
              "           [1.7707e-01, 5.3249e-01, 2.7033e-01,  ..., 1.0770e-02,\n",
              "            5.8338e-01, 5.1874e-01],\n",
              "           [8.3557e-01, 5.4867e-01, 8.3947e-01,  ..., 4.7409e-01,\n",
              "            1.7471e-01, 4.6910e-02],\n",
              "           [2.6208e-01, 2.5239e-01, 9.8194e-01,  ..., 6.9989e-01,\n",
              "            5.4224e-01, 6.4867e-01]],\n",
              "\n",
              "          [[9.9769e-01, 2.1658e-01, 4.7408e-01,  ..., 4.1771e-01,\n",
              "            2.9872e-01, 6.7079e-01],\n",
              "           [7.8471e-01, 1.2458e-02, 3.8517e-01,  ..., 2.5324e-01,\n",
              "            4.7683e-02, 3.6772e-01],\n",
              "           [3.4535e-01, 7.3665e-01, 6.9154e-02,  ..., 1.9720e-01,\n",
              "            2.7832e-01, 3.3369e-02],\n",
              "           ...,\n",
              "           [8.6737e-01, 1.1244e-01, 7.1068e-01,  ..., 8.9090e-01,\n",
              "            4.1218e-01, 4.8397e-01],\n",
              "           [7.0931e-02, 1.3164e-01, 3.2321e-01,  ..., 7.6929e-01,\n",
              "            8.3961e-01, 8.1115e-02],\n",
              "           [6.0024e-01, 8.2164e-01, 5.8397e-02,  ..., 7.6128e-01,\n",
              "            2.7626e-01, 8.1310e-02]],\n",
              "\n",
              "          ...,\n",
              "\n",
              "          [[6.9677e-01, 9.3634e-01, 3.5323e-01,  ..., 1.1961e-01,\n",
              "            1.1800e-01, 8.4543e-01],\n",
              "           [1.8286e-01, 7.1604e-01, 7.4948e-01,  ..., 4.2147e-01,\n",
              "            8.0713e-01, 8.1713e-01],\n",
              "           [2.2004e-01, 8.9935e-01, 7.6929e-01,  ..., 2.3708e-01,\n",
              "            8.3176e-01, 6.0193e-01],\n",
              "           ...,\n",
              "           [4.5774e-01, 4.1508e-01, 4.9351e-01,  ..., 7.0966e-01,\n",
              "            9.7107e-01, 4.3664e-02],\n",
              "           [4.5935e-01, 1.3271e-01, 2.8570e-01,  ..., 6.3987e-01,\n",
              "            2.9886e-01, 1.2596e-01],\n",
              "           [6.2031e-01, 4.2528e-01, 7.1048e-01,  ..., 3.1107e-02,\n",
              "            2.1077e-01, 7.3184e-01]],\n",
              "\n",
              "          [[1.5706e-01, 5.1204e-01, 9.0056e-01,  ..., 5.3696e-01,\n",
              "            3.9373e-01, 9.7615e-01],\n",
              "           [6.7811e-01, 1.1386e-01, 6.5958e-01,  ..., 2.4191e-01,\n",
              "            7.6918e-01, 1.0557e-02],\n",
              "           [4.4066e-01, 3.8305e-01, 5.3945e-01,  ..., 4.6133e-01,\n",
              "            1.7944e-01, 9.2865e-01],\n",
              "           ...,\n",
              "           [1.9941e-01, 2.5989e-01, 4.5351e-01,  ..., 8.7920e-01,\n",
              "            1.1531e-01, 5.3511e-01],\n",
              "           [3.9273e-02, 5.4719e-01, 6.3900e-01,  ..., 2.9572e-01,\n",
              "            2.2809e-02, 3.0278e-03],\n",
              "           [5.7320e-02, 5.8839e-01, 7.4531e-01,  ..., 6.2889e-01,\n",
              "            8.7661e-01, 9.1091e-02]],\n",
              "\n",
              "          [[8.2582e-01, 8.3238e-01, 8.4331e-01,  ..., 1.0990e-01,\n",
              "            7.6611e-01, 3.3445e-01],\n",
              "           [4.6887e-01, 8.5454e-01, 1.4249e-01,  ..., 3.9983e-02,\n",
              "            1.6561e-01, 1.1756e-01],\n",
              "           [3.2886e-01, 8.8763e-01, 9.0518e-01,  ..., 7.5282e-02,\n",
              "            2.0925e-01, 7.6378e-01],\n",
              "           ...,\n",
              "           [6.6444e-01, 4.0506e-01, 2.2074e-01,  ..., 6.2302e-01,\n",
              "            4.4567e-01, 9.7435e-02],\n",
              "           [6.7985e-01, 9.3716e-02, 5.4969e-01,  ..., 3.6322e-01,\n",
              "            1.7009e-02, 6.7019e-01],\n",
              "           [5.8361e-01, 3.2861e-01, 4.3316e-01,  ..., 1.4954e-01,\n",
              "            6.2489e-01, 9.5499e-01]]],\n",
              "\n",
              "\n",
              "         [[[4.0550e-01, 4.4296e-01, 9.8114e-01,  ..., 4.5974e-02,\n",
              "            9.6653e-01, 4.8671e-01],\n",
              "           [5.0318e-01, 6.8955e-01, 4.5697e-01,  ..., 3.0149e-01,\n",
              "            7.1036e-01, 8.2135e-01],\n",
              "           [3.3346e-01, 7.6670e-01, 9.2608e-01,  ..., 6.2489e-01,\n",
              "            4.0565e-01, 2.2579e-01],\n",
              "           ...,\n",
              "           [7.0601e-01, 8.3793e-03, 3.9208e-01,  ..., 7.7377e-01,\n",
              "            4.4934e-01, 3.1807e-01],\n",
              "           [2.1422e-01, 8.1107e-01, 6.9842e-02,  ..., 6.7443e-01,\n",
              "            8.3637e-01, 1.7846e-01],\n",
              "           [2.0180e-01, 8.3030e-02, 9.7183e-01,  ..., 7.9853e-01,\n",
              "            8.2296e-01, 5.4183e-02]],\n",
              "\n",
              "          [[2.6421e-01, 7.5783e-01, 8.5666e-01,  ..., 5.3356e-01,\n",
              "            6.5610e-01, 7.2730e-01],\n",
              "           [7.4272e-01, 3.0054e-02, 7.0080e-01,  ..., 5.3422e-01,\n",
              "            1.6510e-01, 7.2539e-02],\n",
              "           [6.2814e-01, 9.9008e-02, 6.4959e-01,  ..., 6.4965e-01,\n",
              "            5.1525e-01, 3.8232e-01],\n",
              "           ...,\n",
              "           [7.6312e-01, 1.1791e-01, 7.9511e-01,  ..., 5.7915e-02,\n",
              "            7.9767e-01, 5.5187e-01],\n",
              "           [3.4196e-01, 7.6312e-01, 6.6246e-01,  ..., 4.8204e-01,\n",
              "            9.6936e-01, 8.5817e-01],\n",
              "           [5.1322e-01, 6.4854e-01, 6.9473e-01,  ..., 5.9478e-01,\n",
              "            1.1623e-01, 7.5615e-01]],\n",
              "\n",
              "          [[6.9009e-01, 8.9108e-01, 8.1294e-01,  ..., 5.7069e-01,\n",
              "            8.7397e-01, 7.5760e-01],\n",
              "           [3.3566e-01, 5.1336e-02, 1.2178e-01,  ..., 2.9357e-01,\n",
              "            7.5801e-01, 9.6286e-01],\n",
              "           [7.9448e-01, 2.3243e-01, 8.0864e-01,  ..., 2.9754e-01,\n",
              "            9.7445e-01, 3.5203e-01],\n",
              "           ...,\n",
              "           [7.5911e-01, 6.7076e-01, 3.4366e-01,  ..., 7.6043e-02,\n",
              "            6.0399e-01, 4.4130e-01],\n",
              "           [2.2085e-01, 5.9183e-01, 3.5573e-01,  ..., 9.2271e-01,\n",
              "            7.9963e-01, 6.7240e-01],\n",
              "           [1.1829e-01, 8.6122e-01, 6.2227e-01,  ..., 6.4100e-01,\n",
              "            6.7224e-01, 4.6065e-01]],\n",
              "\n",
              "          ...,\n",
              "\n",
              "          [[5.2604e-01, 4.6463e-01, 7.2878e-03,  ..., 2.3725e-01,\n",
              "            4.7358e-01, 1.6394e-01],\n",
              "           [7.0288e-01, 3.0179e-01, 6.0046e-01,  ..., 6.7662e-01,\n",
              "            2.0099e-01, 8.5521e-01],\n",
              "           [9.6944e-01, 1.9209e-01, 8.5070e-02,  ..., 5.0243e-01,\n",
              "            6.9164e-01, 1.0521e-01],\n",
              "           ...,\n",
              "           [4.0677e-01, 2.8278e-01, 5.9956e-02,  ..., 1.2780e-02,\n",
              "            5.4489e-01, 9.4985e-01],\n",
              "           [2.8269e-01, 1.0128e-01, 8.4874e-01,  ..., 9.7552e-01,\n",
              "            9.6300e-01, 2.1317e-01],\n",
              "           [8.4880e-01, 1.3036e-01, 8.8499e-02,  ..., 8.2298e-01,\n",
              "            5.8727e-01, 4.1040e-01]],\n",
              "\n",
              "          [[4.8711e-01, 3.6746e-01, 6.1907e-01,  ..., 9.5602e-01,\n",
              "            5.6136e-01, 3.5626e-01],\n",
              "           [1.3013e-01, 1.4774e-01, 8.3409e-01,  ..., 4.3624e-01,\n",
              "            4.3147e-02, 9.8166e-01],\n",
              "           [2.9432e-01, 8.1895e-01, 2.0882e-01,  ..., 6.4725e-02,\n",
              "            4.6411e-01, 8.0656e-01],\n",
              "           ...,\n",
              "           [7.6930e-01, 8.6177e-01, 3.4824e-01,  ..., 2.7325e-01,\n",
              "            7.4525e-01, 2.9814e-01],\n",
              "           [9.4048e-01, 7.8650e-01, 2.7364e-01,  ..., 2.1619e-01,\n",
              "            5.7727e-01, 9.0478e-01],\n",
              "           [4.2214e-01, 8.0232e-01, 3.0853e-02,  ..., 7.5735e-01,\n",
              "            2.4666e-01, 2.4507e-01]],\n",
              "\n",
              "          [[5.0580e-01, 9.7329e-02, 9.2523e-01,  ..., 1.0675e-02,\n",
              "            5.4206e-01, 4.6072e-01],\n",
              "           [3.4256e-01, 5.1656e-01, 6.9476e-01,  ..., 2.8909e-01,\n",
              "            8.9647e-01, 1.8466e-01],\n",
              "           [2.9231e-03, 4.0852e-01, 1.5230e-01,  ..., 7.5774e-01,\n",
              "            8.3813e-01, 6.0100e-01],\n",
              "           ...,\n",
              "           [2.7841e-02, 9.0262e-01, 8.9890e-01,  ..., 3.3028e-01,\n",
              "            6.0236e-02, 2.6916e-01],\n",
              "           [3.8745e-01, 1.9907e-01, 8.7686e-01,  ..., 3.3923e-01,\n",
              "            6.5402e-01, 8.8452e-01],\n",
              "           [5.0660e-01, 5.9189e-01, 9.8405e-01,  ..., 1.6668e-01,\n",
              "            7.3402e-01, 3.6638e-01]]],\n",
              "\n",
              "\n",
              "         ...,\n",
              "\n",
              "\n",
              "         [[[7.9654e-01, 1.2593e-01, 9.6461e-01,  ..., 4.9163e-01,\n",
              "            4.3145e-01, 8.1305e-01],\n",
              "           [8.8994e-01, 2.3705e-01, 1.8165e-01,  ..., 6.9078e-01,\n",
              "            9.4786e-01, 5.2008e-01],\n",
              "           [7.5555e-01, 9.6797e-01, 3.1855e-01,  ..., 5.0992e-02,\n",
              "            5.9739e-02, 9.2918e-01],\n",
              "           ...,\n",
              "           [8.2775e-01, 8.8641e-01, 4.6544e-01,  ..., 1.8328e-01,\n",
              "            4.1834e-01, 9.6693e-02],\n",
              "           [9.7091e-01, 4.0266e-01, 6.0234e-01,  ..., 3.0658e-01,\n",
              "            5.0812e-01, 1.7163e-01],\n",
              "           [9.7351e-02, 3.6327e-02, 6.8431e-01,  ..., 5.7618e-01,\n",
              "            4.6266e-01, 3.4245e-01]],\n",
              "\n",
              "          [[3.2208e-01, 8.2281e-01, 1.0382e-01,  ..., 3.3377e-01,\n",
              "            3.0797e-02, 3.5032e-01],\n",
              "           [1.6720e-01, 8.9425e-01, 2.1146e-01,  ..., 7.6143e-01,\n",
              "            5.5196e-01, 3.6121e-01],\n",
              "           [8.5874e-02, 3.5013e-01, 9.9022e-01,  ..., 4.9585e-01,\n",
              "            7.2775e-01, 7.4957e-01],\n",
              "           ...,\n",
              "           [9.2357e-01, 6.7786e-01, 8.2095e-01,  ..., 7.4197e-02,\n",
              "            5.8080e-01, 7.9437e-01],\n",
              "           [5.0402e-01, 2.3091e-02, 5.8031e-01,  ..., 2.8545e-01,\n",
              "            3.6053e-01, 8.5885e-01],\n",
              "           [5.1892e-01, 2.1019e-01, 6.1700e-01,  ..., 9.1034e-01,\n",
              "            1.2668e-01, 6.7824e-01]],\n",
              "\n",
              "          [[2.3875e-01, 1.4940e-01, 5.2548e-01,  ..., 5.2798e-01,\n",
              "            8.9284e-01, 5.0016e-01],\n",
              "           [1.4271e-01, 6.3196e-01, 7.0830e-01,  ..., 8.1681e-01,\n",
              "            1.6702e-01, 8.0425e-01],\n",
              "           [8.1241e-01, 3.6544e-01, 3.3420e-01,  ..., 3.7721e-01,\n",
              "            7.1212e-01, 5.9034e-01],\n",
              "           ...,\n",
              "           [2.5048e-01, 6.1167e-01, 6.6674e-01,  ..., 5.2734e-01,\n",
              "            6.6030e-01, 1.6973e-01],\n",
              "           [7.2728e-01, 5.1526e-01, 8.6547e-01,  ..., 5.8554e-01,\n",
              "            8.0122e-01, 7.0138e-01],\n",
              "           [4.4935e-01, 3.7493e-01, 9.0392e-01,  ..., 1.3553e-01,\n",
              "            2.8696e-01, 7.6000e-01]],\n",
              "\n",
              "          ...,\n",
              "\n",
              "          [[6.7029e-01, 7.6411e-01, 1.2849e-01,  ..., 7.7518e-01,\n",
              "            5.5154e-01, 9.1617e-01],\n",
              "           [5.5010e-02, 6.8303e-01, 7.3659e-01,  ..., 6.7668e-01,\n",
              "            1.1901e-02, 7.2196e-01],\n",
              "           [6.2175e-01, 6.1810e-01, 5.7536e-01,  ..., 9.8906e-01,\n",
              "            4.9569e-01, 5.2039e-01],\n",
              "           ...,\n",
              "           [4.4968e-01, 3.1569e-01, 3.9469e-01,  ..., 8.3689e-01,\n",
              "            9.7389e-01, 4.9040e-01],\n",
              "           [9.8929e-01, 2.3273e-01, 9.8951e-01,  ..., 4.7310e-02,\n",
              "            2.7675e-01, 8.4586e-02],\n",
              "           [8.0840e-01, 4.2200e-03, 6.6062e-01,  ..., 3.9475e-01,\n",
              "            7.6424e-01, 3.7652e-01]],\n",
              "\n",
              "          [[4.3922e-01, 6.9565e-01, 5.8593e-01,  ..., 1.4936e-01,\n",
              "            5.9823e-01, 9.4923e-01],\n",
              "           [4.3733e-01, 9.4791e-01, 3.3394e-01,  ..., 6.8107e-01,\n",
              "            5.6649e-02, 9.3417e-01],\n",
              "           [3.6672e-01, 3.4726e-01, 7.6150e-01,  ..., 6.6534e-01,\n",
              "            3.4017e-01, 4.0101e-01],\n",
              "           ...,\n",
              "           [1.3019e-01, 2.8491e-01, 8.8791e-01,  ..., 2.1916e-01,\n",
              "            3.2886e-01, 6.6912e-01],\n",
              "           [8.8299e-01, 2.2160e-01, 7.9636e-01,  ..., 4.3615e-01,\n",
              "            9.6234e-02, 6.8331e-01],\n",
              "           [9.2139e-01, 7.1117e-02, 2.3469e-01,  ..., 7.6055e-01,\n",
              "            7.4123e-01, 6.9041e-01]],\n",
              "\n",
              "          [[8.2345e-01, 4.9519e-01, 6.5953e-01,  ..., 5.1366e-01,\n",
              "            1.3167e-01, 5.1201e-01],\n",
              "           [7.8495e-01, 3.9349e-01, 3.7626e-02,  ..., 4.1084e-01,\n",
              "            7.8617e-01, 9.8856e-01],\n",
              "           [1.7246e-01, 4.5864e-01, 4.3756e-01,  ..., 4.1306e-01,\n",
              "            5.8441e-01, 7.0108e-01],\n",
              "           ...,\n",
              "           [2.2243e-01, 9.8954e-03, 4.1193e-02,  ..., 2.1242e-01,\n",
              "            8.0992e-02, 5.9903e-01],\n",
              "           [9.6274e-01, 9.6870e-01, 7.0436e-01,  ..., 1.8529e-01,\n",
              "            2.0372e-01, 5.2408e-01],\n",
              "           [8.1534e-01, 2.7853e-01, 8.6289e-01,  ..., 3.3640e-01,\n",
              "            3.5864e-01, 3.0843e-01]]],\n",
              "\n",
              "\n",
              "         [[[2.7278e-01, 3.5154e-01, 2.5317e-01,  ..., 7.7736e-01,\n",
              "            8.9381e-01, 8.2921e-01],\n",
              "           [5.3900e-01, 3.9221e-01, 4.6951e-02,  ..., 2.5442e-01,\n",
              "            3.2442e-01, 6.8120e-01],\n",
              "           [1.8954e-01, 2.4970e-01, 2.7764e-01,  ..., 7.2088e-01,\n",
              "            7.7631e-01, 7.8326e-02],\n",
              "           ...,\n",
              "           [3.9264e-01, 8.6284e-01, 2.4096e-01,  ..., 1.3311e-01,\n",
              "            9.8367e-01, 8.0625e-01],\n",
              "           [6.2900e-01, 8.8332e-01, 9.4349e-01,  ..., 4.6798e-01,\n",
              "            8.9663e-01, 2.9661e-01],\n",
              "           [9.3151e-01, 2.5347e-01, 4.7962e-01,  ..., 1.4065e-02,\n",
              "            4.4314e-01, 2.6314e-01]],\n",
              "\n",
              "          [[5.9639e-01, 6.1856e-01, 9.5406e-01,  ..., 1.8997e-01,\n",
              "            9.8949e-01, 1.4561e-01],\n",
              "           [1.4057e-01, 6.9059e-01, 2.8842e-01,  ..., 8.3172e-04,\n",
              "            4.3068e-01, 3.5945e-01],\n",
              "           [8.0395e-01, 3.3156e-01, 8.1657e-01,  ..., 8.0614e-01,\n",
              "            8.4705e-01, 3.2306e-02],\n",
              "           ...,\n",
              "           [4.6981e-01, 7.6079e-01, 4.2477e-02,  ..., 8.5566e-01,\n",
              "            1.7571e-01, 7.6101e-01],\n",
              "           [5.2658e-01, 2.0486e-01, 4.1320e-01,  ..., 9.8880e-01,\n",
              "            1.1778e-01, 7.6889e-01],\n",
              "           [4.5177e-01, 8.9905e-01, 9.3321e-01,  ..., 7.4624e-01,\n",
              "            8.5767e-01, 1.2665e-01]],\n",
              "\n",
              "          [[7.1378e-01, 9.7049e-01, 9.6647e-01,  ..., 7.4411e-01,\n",
              "            5.8540e-01, 7.2818e-01],\n",
              "           [4.5140e-01, 5.3161e-01, 9.2737e-01,  ..., 6.9443e-01,\n",
              "            3.3201e-01, 4.7377e-01],\n",
              "           [9.9202e-01, 8.8971e-01, 4.7339e-01,  ..., 2.6433e-01,\n",
              "            9.5478e-01, 3.1132e-01],\n",
              "           ...,\n",
              "           [1.7066e-02, 6.6461e-01, 9.2038e-01,  ..., 7.6613e-01,\n",
              "            6.0965e-01, 5.8462e-01],\n",
              "           [1.2629e-01, 9.2230e-01, 1.2452e-01,  ..., 2.9821e-01,\n",
              "            7.4158e-01, 4.5507e-01],\n",
              "           [7.6910e-01, 1.8032e-01, 4.8342e-01,  ..., 5.8782e-01,\n",
              "            5.1553e-01, 1.5703e-01]],\n",
              "\n",
              "          ...,\n",
              "\n",
              "          [[4.2396e-02, 6.7486e-01, 6.3596e-01,  ..., 6.8400e-01,\n",
              "            8.2022e-01, 7.7415e-01],\n",
              "           [7.2079e-01, 3.2284e-01, 8.5529e-01,  ..., 8.7148e-01,\n",
              "            6.5076e-01, 1.5449e-01],\n",
              "           [1.1765e-02, 9.4518e-01, 5.3483e-01,  ..., 3.3864e-01,\n",
              "            7.7001e-01, 5.0980e-01],\n",
              "           ...,\n",
              "           [1.3438e-01, 6.2766e-01, 9.5517e-01,  ..., 8.0406e-01,\n",
              "            1.8751e-01, 1.3394e-01],\n",
              "           [1.0233e-01, 6.6080e-01, 1.7971e-01,  ..., 1.7113e-01,\n",
              "            5.9797e-01, 5.6254e-01],\n",
              "           [4.5286e-01, 1.9913e-01, 3.2607e-01,  ..., 2.7642e-01,\n",
              "            3.1815e-01, 9.3149e-01]],\n",
              "\n",
              "          [[9.1969e-02, 3.8642e-01, 2.7287e-01,  ..., 5.5003e-02,\n",
              "            5.8008e-01, 9.4455e-01],\n",
              "           [2.1638e-01, 3.8823e-01, 5.0044e-01,  ..., 6.9235e-02,\n",
              "            5.8132e-01, 5.7706e-01],\n",
              "           [6.5901e-01, 6.4621e-01, 5.7121e-01,  ..., 9.1013e-01,\n",
              "            2.3553e-03, 6.8032e-01],\n",
              "           ...,\n",
              "           [3.7051e-01, 6.8964e-01, 9.3893e-01,  ..., 3.2360e-01,\n",
              "            2.8489e-01, 8.6927e-01],\n",
              "           [1.7778e-01, 7.2049e-01, 4.8069e-01,  ..., 2.9626e-01,\n",
              "            5.9773e-01, 6.6935e-02],\n",
              "           [8.7273e-01, 1.9217e-01, 8.1223e-01,  ..., 7.0453e-01,\n",
              "            9.9905e-01, 2.3038e-01]],\n",
              "\n",
              "          [[7.8784e-01, 8.2326e-01, 3.5187e-01,  ..., 9.8083e-01,\n",
              "            1.1068e-02, 4.3371e-01],\n",
              "           [3.8460e-01, 8.5500e-01, 6.1121e-02,  ..., 2.6295e-01,\n",
              "            7.7124e-01, 9.1107e-01],\n",
              "           [9.9799e-01, 1.8656e-01, 5.7295e-01,  ..., 4.8097e-01,\n",
              "            1.9347e-01, 8.7158e-01],\n",
              "           ...,\n",
              "           [6.7329e-01, 5.5236e-01, 6.2738e-01,  ..., 5.1716e-02,\n",
              "            8.0910e-01, 8.8180e-01],\n",
              "           [1.8439e-01, 2.5538e-01, 3.6066e-01,  ..., 6.7844e-01,\n",
              "            6.1290e-01, 7.3563e-01],\n",
              "           [3.5535e-01, 5.2278e-01, 4.5585e-01,  ..., 7.4030e-01,\n",
              "            8.2354e-01, 1.5461e-01]]],\n",
              "\n",
              "\n",
              "         [[[9.6286e-01, 7.7972e-01, 7.3331e-01,  ..., 4.4119e-01,\n",
              "            1.3536e-02, 2.2976e-01],\n",
              "           [4.7286e-01, 4.4304e-01, 4.6279e-01,  ..., 7.3695e-01,\n",
              "            2.4462e-01, 8.7292e-01],\n",
              "           [4.0639e-01, 3.4149e-02, 2.7392e-01,  ..., 7.3248e-04,\n",
              "            3.8948e-01, 2.8437e-01],\n",
              "           ...,\n",
              "           [6.3074e-01, 3.3744e-01, 2.8002e-01,  ..., 9.8783e-01,\n",
              "            8.2129e-01, 7.9352e-01],\n",
              "           [8.1282e-01, 8.8430e-01, 2.4795e-01,  ..., 7.9296e-02,\n",
              "            7.2014e-01, 9.5835e-01],\n",
              "           [5.7001e-02, 7.1311e-01, 9.6827e-01,  ..., 1.4126e-02,\n",
              "            7.1901e-01, 1.6156e-01]],\n",
              "\n",
              "          [[1.1701e-01, 8.2814e-01, 3.9040e-01,  ..., 2.3395e-01,\n",
              "            5.4215e-01, 8.8047e-01],\n",
              "           [3.1739e-01, 1.4473e-01, 7.5456e-01,  ..., 5.5128e-01,\n",
              "            7.7305e-02, 6.5899e-01],\n",
              "           [2.3544e-02, 3.8444e-01, 7.8280e-01,  ..., 1.6916e-01,\n",
              "            7.7614e-02, 2.1648e-01],\n",
              "           ...,\n",
              "           [6.4900e-01, 2.6810e-01, 4.7199e-01,  ..., 4.5533e-01,\n",
              "            4.3663e-01, 7.2272e-01],\n",
              "           [7.3378e-01, 6.6794e-01, 7.3479e-01,  ..., 1.4939e-01,\n",
              "            2.1069e-01, 8.4159e-01],\n",
              "           [9.1638e-01, 6.9741e-01, 4.4908e-01,  ..., 7.7351e-01,\n",
              "            5.5084e-01, 3.6424e-01]],\n",
              "\n",
              "          [[6.2703e-01, 4.8127e-01, 7.1003e-01,  ..., 8.2271e-01,\n",
              "            2.9091e-01, 1.1068e-01],\n",
              "           [3.6348e-01, 5.4418e-02, 3.3019e-01,  ..., 9.5215e-01,\n",
              "            1.1552e-01, 9.3518e-01],\n",
              "           [6.4016e-01, 7.1940e-01, 6.6311e-01,  ..., 3.1301e-01,\n",
              "            5.4671e-01, 5.9652e-02],\n",
              "           ...,\n",
              "           [8.4546e-01, 3.8341e-01, 4.5831e-01,  ..., 8.9412e-01,\n",
              "            3.8060e-01, 9.0297e-01],\n",
              "           [7.1032e-01, 3.1125e-01, 5.4581e-01,  ..., 7.6446e-01,\n",
              "            9.5771e-01, 4.5482e-01],\n",
              "           [7.9311e-01, 9.8369e-01, 2.1307e-02,  ..., 8.2233e-01,\n",
              "            6.2351e-01, 8.4259e-01]],\n",
              "\n",
              "          ...,\n",
              "\n",
              "          [[5.6075e-01, 7.2253e-01, 3.9330e-01,  ..., 3.9809e-01,\n",
              "            9.9877e-01, 7.9435e-01],\n",
              "           [3.8387e-01, 8.3936e-01, 7.1664e-01,  ..., 4.9677e-01,\n",
              "            2.6701e-01, 3.9112e-01],\n",
              "           [5.2372e-01, 2.0308e-01, 5.2903e-01,  ..., 9.0768e-01,\n",
              "            6.2485e-01, 9.3042e-01],\n",
              "           ...,\n",
              "           [9.3512e-01, 3.6862e-01, 1.1188e-01,  ..., 7.5649e-01,\n",
              "            4.7137e-01, 7.1297e-01],\n",
              "           [2.7678e-02, 9.4836e-01, 9.0365e-01,  ..., 4.0148e-02,\n",
              "            3.2347e-02, 3.7054e-02],\n",
              "           [7.2656e-01, 5.5385e-01, 5.3841e-01,  ..., 2.4675e-01,\n",
              "            5.6296e-02, 9.2684e-01]],\n",
              "\n",
              "          [[4.6503e-01, 5.8667e-01, 3.9586e-01,  ..., 9.5050e-01,\n",
              "            9.1770e-01, 7.4699e-01],\n",
              "           [3.3604e-01, 2.2963e-01, 6.7800e-01,  ..., 5.6692e-01,\n",
              "            6.3287e-01, 1.2390e-01],\n",
              "           [2.7499e-01, 7.0086e-01, 4.4862e-01,  ..., 4.1534e-01,\n",
              "            9.2832e-01, 2.4779e-03],\n",
              "           ...,\n",
              "           [1.1862e-01, 2.7810e-01, 9.9573e-01,  ..., 2.2715e-01,\n",
              "            2.8001e-01, 3.0084e-01],\n",
              "           [3.1663e-01, 7.8938e-01, 4.8344e-01,  ..., 7.9996e-01,\n",
              "            9.2485e-01, 9.6928e-01],\n",
              "           [1.7526e-01, 2.4112e-01, 6.9977e-01,  ..., 5.3535e-03,\n",
              "            8.1056e-01, 4.6100e-01]],\n",
              "\n",
              "          [[8.4596e-01, 5.9112e-01, 8.8518e-01,  ..., 7.4111e-01,\n",
              "            9.2370e-01, 1.7824e-01],\n",
              "           [7.8582e-01, 1.2598e-01, 2.6990e-01,  ..., 1.1390e-01,\n",
              "            7.7092e-01, 3.1397e-01],\n",
              "           [2.5608e-01, 5.1080e-01, 6.5429e-01,  ..., 7.4845e-01,\n",
              "            8.5879e-01, 7.3216e-01],\n",
              "           ...,\n",
              "           [9.9851e-01, 3.5968e-01, 8.5401e-01,  ..., 8.6991e-01,\n",
              "            1.5698e-01, 1.5934e-01],\n",
              "           [3.7836e-02, 6.5534e-01, 1.5413e-03,  ..., 3.0054e-01,\n",
              "            5.5261e-01, 1.9210e-01],\n",
              "           [6.0520e-02, 9.5680e-01, 7.1078e-01,  ..., 7.5390e-02,\n",
              "            2.3301e-02, 3.4910e-01]]]],\n",
              "\n",
              "\n",
              "\n",
              "        [[[[9.3868e-01, 3.5647e-01, 9.8890e-02,  ..., 8.4851e-01,\n",
              "            1.6697e-01, 6.5948e-01],\n",
              "           [9.2438e-01, 3.2246e-02, 5.6472e-02,  ..., 9.3526e-01,\n",
              "            9.7114e-01, 7.2285e-01],\n",
              "           [5.7237e-01, 6.9290e-01, 1.9659e-01,  ..., 2.7704e-01,\n",
              "            5.1314e-02, 2.2519e-01],\n",
              "           ...,\n",
              "           [3.8135e-01, 6.2296e-01, 4.6296e-01,  ..., 1.6248e-01,\n",
              "            2.9293e-01, 8.6741e-01],\n",
              "           [6.4579e-01, 3.3258e-01, 7.5883e-02,  ..., 2.2594e-01,\n",
              "            8.5518e-01, 3.5522e-01],\n",
              "           [5.0349e-01, 4.6151e-01, 5.1544e-01,  ..., 1.6021e-01,\n",
              "            9.8783e-01, 1.2825e-01]],\n",
              "\n",
              "          [[5.9902e-01, 9.6048e-01, 2.5958e-01,  ..., 5.8853e-01,\n",
              "            3.7187e-01, 2.5353e-01],\n",
              "           [7.5552e-01, 4.2803e-01, 7.2246e-01,  ..., 3.7320e-01,\n",
              "            7.4563e-01, 8.0939e-01],\n",
              "           [4.3015e-01, 8.4589e-01, 2.0296e-01,  ..., 1.2290e-01,\n",
              "            8.6251e-01, 6.7959e-01],\n",
              "           ...,\n",
              "           [5.5815e-01, 4.8820e-01, 2.3020e-02,  ..., 6.8718e-01,\n",
              "            8.1943e-01, 6.6630e-02],\n",
              "           [2.1571e-01, 7.0541e-01, 8.4171e-01,  ..., 7.9134e-01,\n",
              "            9.3766e-01, 8.4431e-01],\n",
              "           [3.4307e-02, 8.0075e-01, 6.9805e-01,  ..., 9.2038e-01,\n",
              "            1.0884e-01, 5.9455e-01]],\n",
              "\n",
              "          [[7.4216e-01, 7.6688e-01, 6.4466e-02,  ..., 6.0299e-01,\n",
              "            1.0256e-01, 2.9946e-01],\n",
              "           [3.3423e-01, 5.8471e-01, 3.3999e-01,  ..., 3.6820e-01,\n",
              "            6.3640e-01, 1.4506e-01],\n",
              "           [3.6609e-01, 5.8818e-01, 8.2153e-01,  ..., 1.4683e-01,\n",
              "            8.2510e-01, 5.2321e-01],\n",
              "           ...,\n",
              "           [5.7258e-01, 1.9085e-01, 4.6761e-01,  ..., 4.3616e-01,\n",
              "            1.6169e-01, 3.6690e-01],\n",
              "           [9.1256e-01, 2.0309e-01, 2.1379e-01,  ..., 7.8294e-01,\n",
              "            2.1755e-02, 3.8984e-01],\n",
              "           [2.4958e-01, 9.1352e-02, 7.3098e-01,  ..., 2.5280e-02,\n",
              "            7.6121e-01, 8.9878e-01]],\n",
              "\n",
              "          ...,\n",
              "\n",
              "          [[2.9350e-01, 8.7528e-01, 5.5676e-01,  ..., 6.0892e-01,\n",
              "            9.6382e-01, 1.9211e-01],\n",
              "           [3.3543e-01, 9.7521e-01, 8.1673e-01,  ..., 3.2302e-01,\n",
              "            2.5841e-02, 9.8935e-01],\n",
              "           [5.5102e-01, 4.7858e-01, 4.0570e-01,  ..., 6.2608e-02,\n",
              "            7.1008e-01, 3.1251e-01],\n",
              "           ...,\n",
              "           [2.5753e-02, 2.3825e-02, 7.9914e-01,  ..., 7.1831e-01,\n",
              "            5.0360e-01, 3.5700e-01],\n",
              "           [8.1673e-01, 6.2396e-01, 3.2212e-01,  ..., 5.6374e-01,\n",
              "            7.5512e-01, 9.7913e-02],\n",
              "           [7.3565e-01, 6.4029e-01, 2.4989e-01,  ..., 7.6253e-01,\n",
              "            2.8774e-01, 6.1957e-01]],\n",
              "\n",
              "          [[7.2254e-01, 6.7398e-01, 5.3528e-01,  ..., 3.4639e-01,\n",
              "            1.3688e-01, 4.4516e-01],\n",
              "           [5.9113e-01, 4.6833e-01, 5.8101e-01,  ..., 9.2006e-01,\n",
              "            8.5447e-01, 6.5375e-01],\n",
              "           [4.8103e-01, 6.5279e-01, 6.8286e-01,  ..., 1.4025e-01,\n",
              "            9.7666e-01, 9.2447e-01],\n",
              "           ...,\n",
              "           [2.5689e-01, 5.7961e-01, 2.9260e-01,  ..., 3.2893e-01,\n",
              "            2.6053e-01, 3.2043e-01],\n",
              "           [8.1165e-01, 4.8938e-01, 8.3314e-01,  ..., 8.5751e-01,\n",
              "            1.8688e-01, 4.1564e-01],\n",
              "           [9.2625e-01, 1.7890e-01, 6.8644e-01,  ..., 3.0449e-01,\n",
              "            3.9265e-01, 2.1260e-01]],\n",
              "\n",
              "          [[6.8181e-01, 6.6965e-01, 1.2557e-01,  ..., 3.3622e-01,\n",
              "            8.0134e-01, 9.3247e-01],\n",
              "           [4.6775e-01, 7.9839e-01, 3.3243e-01,  ..., 2.8928e-01,\n",
              "            6.6901e-01, 2.1495e-01],\n",
              "           [2.2744e-01, 1.4805e-01, 9.5886e-01,  ..., 9.8305e-01,\n",
              "            9.4221e-01, 2.1085e-01],\n",
              "           ...,\n",
              "           [7.1676e-01, 1.9255e-01, 6.3558e-01,  ..., 2.3518e-01,\n",
              "            2.5759e-01, 3.4203e-01],\n",
              "           [4.2495e-01, 4.7355e-01, 7.4202e-01,  ..., 7.3896e-01,\n",
              "            2.7382e-01, 7.1307e-01],\n",
              "           [9.2559e-01, 7.7456e-01, 6.6706e-01,  ..., 8.4379e-02,\n",
              "            7.1123e-01, 2.4249e-02]]],\n",
              "\n",
              "\n",
              "         [[[2.5460e-02, 6.6234e-01, 5.9344e-01,  ..., 1.7765e-01,\n",
              "            2.2916e-01, 6.5388e-01],\n",
              "           [8.5140e-01, 4.1309e-01, 9.3600e-01,  ..., 1.3273e-01,\n",
              "            8.2752e-01, 3.4217e-02],\n",
              "           [7.1767e-01, 7.8840e-01, 8.3951e-01,  ..., 8.3462e-01,\n",
              "            1.3948e-01, 6.6929e-01],\n",
              "           ...,\n",
              "           [6.0578e-01, 6.9138e-01, 6.5289e-01,  ..., 3.4428e-01,\n",
              "            7.0057e-01, 5.1944e-01],\n",
              "           [5.5957e-01, 8.1211e-01, 8.0928e-01,  ..., 9.6842e-01,\n",
              "            4.2584e-01, 1.6528e-01],\n",
              "           [1.2569e-01, 8.7840e-01, 9.0202e-01,  ..., 8.0115e-01,\n",
              "            4.8207e-01, 4.5832e-02]],\n",
              "\n",
              "          [[6.4031e-01, 6.4428e-01, 3.7794e-01,  ..., 4.5352e-01,\n",
              "            5.8108e-01, 6.2656e-01],\n",
              "           [9.4273e-01, 1.7462e-01, 3.4569e-01,  ..., 7.2601e-01,\n",
              "            5.5526e-01, 5.3720e-01],\n",
              "           [5.5396e-02, 1.7875e-01, 5.2977e-01,  ..., 6.7192e-01,\n",
              "            2.0513e-01, 4.7520e-01],\n",
              "           ...,\n",
              "           [3.9194e-01, 1.2453e-01, 8.9139e-01,  ..., 2.8274e-01,\n",
              "            6.2456e-01, 8.2093e-02],\n",
              "           [2.7438e-01, 5.1995e-01, 9.8781e-01,  ..., 3.7811e-01,\n",
              "            9.7060e-01, 5.5554e-01],\n",
              "           [3.4249e-01, 5.2298e-01, 7.0719e-02,  ..., 2.7898e-01,\n",
              "            9.6508e-01, 5.3821e-01]],\n",
              "\n",
              "          [[1.8882e-01, 9.5504e-01, 1.9247e-01,  ..., 7.8640e-01,\n",
              "            3.7952e-01, 9.7752e-01],\n",
              "           [2.1441e-01, 9.4310e-01, 5.9799e-01,  ..., 8.4466e-02,\n",
              "            4.2057e-01, 9.5206e-01],\n",
              "           [6.1284e-01, 8.8597e-01, 6.6573e-01,  ..., 6.0981e-01,\n",
              "            1.1423e-01, 2.1728e-01],\n",
              "           ...,\n",
              "           [6.2417e-02, 3.2352e-01, 2.6804e-01,  ..., 3.6832e-01,\n",
              "            8.9874e-01, 6.9765e-01],\n",
              "           [3.8199e-01, 2.2617e-01, 2.9846e-03,  ..., 3.3386e-01,\n",
              "            2.6097e-02, 9.1444e-01],\n",
              "           [2.2724e-01, 1.2794e-01, 5.2621e-01,  ..., 6.6331e-01,\n",
              "            8.3786e-01, 5.9800e-01]],\n",
              "\n",
              "          ...,\n",
              "\n",
              "          [[6.8428e-01, 3.3555e-01, 2.6673e-01,  ..., 1.4544e-01,\n",
              "            1.0215e-01, 4.8371e-01],\n",
              "           [9.4866e-01, 9.9571e-01, 3.9069e-01,  ..., 8.7534e-01,\n",
              "            9.2108e-01, 9.5168e-01],\n",
              "           [7.9531e-01, 3.2119e-01, 2.6644e-01,  ..., 2.0394e-01,\n",
              "            6.4778e-01, 7.8651e-01],\n",
              "           ...,\n",
              "           [7.6781e-01, 2.7437e-01, 5.0156e-01,  ..., 2.2884e-01,\n",
              "            1.8144e-01, 8.3145e-01],\n",
              "           [2.2686e-01, 7.0539e-01, 9.7047e-02,  ..., 3.2889e-01,\n",
              "            4.4227e-01, 6.2215e-01],\n",
              "           [7.3176e-03, 3.0008e-02, 5.8392e-01,  ..., 9.6887e-01,\n",
              "            2.9627e-01, 8.9585e-01]],\n",
              "\n",
              "          [[8.4531e-01, 5.0236e-01, 9.4156e-01,  ..., 1.0493e-01,\n",
              "            3.0670e-01, 2.8387e-01],\n",
              "           [8.4232e-01, 5.5276e-01, 4.8853e-01,  ..., 1.8090e-01,\n",
              "            7.8180e-01, 2.0565e-03],\n",
              "           [6.6057e-02, 4.1198e-01, 3.5321e-01,  ..., 4.2906e-01,\n",
              "            3.9977e-01, 1.3935e-01],\n",
              "           ...,\n",
              "           [5.4551e-01, 1.6806e-01, 3.2100e-01,  ..., 3.9329e-01,\n",
              "            3.8678e-01, 3.6795e-01],\n",
              "           [3.4931e-01, 7.7692e-01, 2.6408e-01,  ..., 7.6050e-01,\n",
              "            5.2018e-02, 2.0442e-01],\n",
              "           [3.9366e-01, 6.1252e-01, 3.3940e-01,  ..., 9.5366e-02,\n",
              "            9.2319e-01, 9.0634e-01]],\n",
              "\n",
              "          [[1.0299e-02, 8.2115e-01, 5.1927e-01,  ..., 8.6564e-01,\n",
              "            3.5069e-01, 1.4748e-01],\n",
              "           [1.4259e-01, 9.0255e-01, 5.7117e-01,  ..., 9.6832e-01,\n",
              "            8.2824e-01, 5.0882e-01],\n",
              "           [5.9318e-01, 2.5883e-01, 7.8882e-01,  ..., 1.8632e-01,\n",
              "            5.2406e-01, 4.1892e-01],\n",
              "           ...,\n",
              "           [2.8505e-01, 6.3372e-01, 6.6454e-01,  ..., 7.3291e-02,\n",
              "            3.4494e-01, 2.3216e-02],\n",
              "           [9.8154e-01, 4.9431e-01, 2.4991e-01,  ..., 7.7358e-01,\n",
              "            3.6214e-01, 9.7655e-01],\n",
              "           [5.2398e-01, 1.1864e-01, 2.6423e-01,  ..., 2.3088e-02,\n",
              "            3.4753e-01, 7.6284e-01]]],\n",
              "\n",
              "\n",
              "         [[[9.0029e-02, 8.4620e-01, 5.2829e-01,  ..., 5.3718e-01,\n",
              "            5.8449e-01, 2.5336e-02],\n",
              "           [5.8863e-01, 5.4487e-01, 3.8234e-01,  ..., 4.4536e-01,\n",
              "            4.1615e-01, 2.7789e-01],\n",
              "           [3.1872e-01, 1.2352e-01, 5.6513e-01,  ..., 6.8298e-01,\n",
              "            1.8675e-02, 8.2767e-01],\n",
              "           ...,\n",
              "           [5.5139e-01, 3.0882e-01, 5.3245e-01,  ..., 5.6541e-01,\n",
              "            2.1264e-01, 8.4395e-01],\n",
              "           [2.2615e-01, 8.3441e-01, 6.5906e-01,  ..., 4.2177e-01,\n",
              "            2.6328e-01, 3.9832e-01],\n",
              "           [8.0070e-01, 3.7084e-01, 1.6537e-01,  ..., 5.3226e-01,\n",
              "            6.2376e-01, 8.4478e-02]],\n",
              "\n",
              "          [[3.9217e-01, 9.3864e-01, 1.0619e-01,  ..., 5.0526e-01,\n",
              "            3.8785e-02, 9.1893e-01],\n",
              "           [3.2478e-01, 8.2721e-01, 7.5427e-01,  ..., 6.3212e-01,\n",
              "            6.2811e-02, 8.0329e-01],\n",
              "           [7.0837e-01, 8.4096e-01, 4.8947e-01,  ..., 3.3795e-01,\n",
              "            4.0528e-01, 8.3027e-01],\n",
              "           ...,\n",
              "           [6.4445e-01, 1.2983e-01, 1.4810e-01,  ..., 4.0794e-01,\n",
              "            8.3285e-01, 5.9146e-01],\n",
              "           [8.6538e-01, 9.6861e-01, 3.6699e-01,  ..., 4.2269e-01,\n",
              "            7.8037e-01, 2.3258e-01],\n",
              "           [9.1628e-01, 5.5006e-01, 3.6238e-03,  ..., 5.5122e-01,\n",
              "            8.7937e-01, 7.5300e-01]],\n",
              "\n",
              "          [[1.5841e-01, 5.8912e-01, 7.8193e-01,  ..., 6.4976e-01,\n",
              "            1.6311e-01, 4.0715e-01],\n",
              "           [2.5938e-01, 7.6822e-02, 8.5274e-01,  ..., 4.4192e-01,\n",
              "            1.6283e-01, 8.7331e-01],\n",
              "           [8.6477e-01, 5.1902e-01, 3.2504e-01,  ..., 6.4767e-01,\n",
              "            3.7296e-01, 9.1849e-01],\n",
              "           ...,\n",
              "           [8.5215e-01, 3.4162e-01, 4.0046e-01,  ..., 1.1391e-01,\n",
              "            6.3326e-01, 2.7154e-01],\n",
              "           [5.2350e-01, 4.5286e-01, 6.5944e-01,  ..., 4.9773e-01,\n",
              "            5.2616e-01, 4.3750e-01],\n",
              "           [1.9026e-01, 9.5058e-01, 8.5307e-01,  ..., 1.1964e-01,\n",
              "            4.0270e-01, 5.6410e-01]],\n",
              "\n",
              "          ...,\n",
              "\n",
              "          [[8.9125e-01, 1.1389e-01, 6.3348e-01,  ..., 1.2401e-01,\n",
              "            6.4391e-01, 5.5544e-01],\n",
              "           [7.3737e-01, 6.5768e-01, 8.5078e-01,  ..., 1.6135e-01,\n",
              "            6.5200e-02, 6.0452e-01],\n",
              "           [2.5286e-01, 1.1258e-01, 6.1832e-01,  ..., 9.1469e-01,\n",
              "            5.4930e-01, 7.1386e-01],\n",
              "           ...,\n",
              "           [9.3130e-01, 6.0029e-01, 1.3622e-01,  ..., 7.3598e-01,\n",
              "            9.2750e-01, 3.1821e-01],\n",
              "           [5.6556e-01, 3.1962e-01, 9.9888e-01,  ..., 8.4846e-02,\n",
              "            6.3623e-01, 4.8663e-01],\n",
              "           [1.5311e-01, 9.2827e-01, 3.6448e-01,  ..., 9.6251e-01,\n",
              "            3.2577e-02, 6.4004e-01]],\n",
              "\n",
              "          [[2.7508e-01, 6.4751e-01, 2.1492e-01,  ..., 6.9199e-01,\n",
              "            5.4674e-01, 6.6643e-01],\n",
              "           [1.4225e-01, 8.8562e-01, 8.2092e-01,  ..., 6.4186e-01,\n",
              "            2.1382e-01, 7.9329e-01],\n",
              "           [2.5751e-01, 8.2317e-01, 8.0434e-01,  ..., 4.1892e-01,\n",
              "            2.9154e-01, 5.1181e-01],\n",
              "           ...,\n",
              "           [6.1533e-01, 2.6501e-01, 7.0736e-01,  ..., 7.8628e-02,\n",
              "            3.7389e-01, 1.7730e-01],\n",
              "           [6.7817e-01, 6.8745e-02, 7.3644e-01,  ..., 1.4425e-01,\n",
              "            1.8011e-01, 6.9177e-01],\n",
              "           [8.2530e-02, 4.7208e-01, 5.0000e-01,  ..., 9.9944e-01,\n",
              "            1.4183e-02, 2.7106e-01]],\n",
              "\n",
              "          [[7.1881e-01, 1.6331e-01, 2.6375e-01,  ..., 2.1044e-01,\n",
              "            7.7781e-01, 8.2940e-01],\n",
              "           [4.3398e-01, 2.9782e-01, 4.6485e-01,  ..., 5.8838e-01,\n",
              "            1.9129e-01, 2.8719e-01],\n",
              "           [8.7805e-01, 9.1721e-01, 4.9310e-01,  ..., 6.0212e-02,\n",
              "            9.1182e-01, 2.6294e-01],\n",
              "           ...,\n",
              "           [6.1937e-01, 4.0548e-01, 3.2767e-01,  ..., 5.0946e-01,\n",
              "            4.1708e-01, 1.4564e-01],\n",
              "           [9.8314e-01, 6.8459e-01, 7.4006e-01,  ..., 4.4151e-01,\n",
              "            1.9052e-01, 1.9170e-01],\n",
              "           [7.6970e-01, 2.6359e-01, 3.5849e-01,  ..., 3.1213e-02,\n",
              "            6.8602e-01, 4.1792e-01]]],\n",
              "\n",
              "\n",
              "         ...,\n",
              "\n",
              "\n",
              "         [[[1.5149e-01, 6.8111e-01, 8.2196e-01,  ..., 4.5209e-01,\n",
              "            3.9977e-01, 9.6728e-01],\n",
              "           [1.2226e-02, 6.4157e-01, 4.6562e-01,  ..., 8.5482e-01,\n",
              "            8.3470e-01, 3.4055e-01],\n",
              "           [4.1139e-01, 2.6917e-01, 7.8718e-01,  ..., 4.1501e-01,\n",
              "            1.1913e-01, 1.9942e-01],\n",
              "           ...,\n",
              "           [8.5820e-01, 8.4740e-01, 6.6266e-01,  ..., 4.3949e-01,\n",
              "            6.1853e-01, 2.5066e-01],\n",
              "           [4.4566e-01, 6.9643e-01, 9.9418e-01,  ..., 8.0514e-01,\n",
              "            3.4738e-01, 9.9808e-01],\n",
              "           [5.0259e-01, 5.1336e-01, 4.3040e-01,  ..., 8.4355e-01,\n",
              "            1.5129e-01, 2.0744e-01]],\n",
              "\n",
              "          [[1.2260e-01, 5.2558e-01, 9.1846e-01,  ..., 7.2929e-01,\n",
              "            1.6565e-01, 3.8853e-01],\n",
              "           [5.9324e-01, 6.4725e-01, 7.6887e-01,  ..., 5.1287e-01,\n",
              "            7.9825e-01, 5.9458e-01],\n",
              "           [2.6267e-02, 5.3297e-01, 6.4247e-01,  ..., 3.3995e-01,\n",
              "            2.7054e-01, 2.7061e-01],\n",
              "           ...,\n",
              "           [7.3229e-02, 8.5823e-01, 9.0192e-01,  ..., 9.0140e-01,\n",
              "            4.2726e-01, 7.0336e-01],\n",
              "           [9.0358e-01, 9.5582e-02, 1.9582e-01,  ..., 9.3133e-01,\n",
              "            8.0242e-01, 9.0460e-01],\n",
              "           [2.0822e-01, 8.2903e-01, 9.9630e-01,  ..., 4.1706e-01,\n",
              "            4.5080e-01, 6.3896e-01]],\n",
              "\n",
              "          [[8.8961e-01, 6.1314e-01, 2.4523e-01,  ..., 4.7196e-01,\n",
              "            4.2703e-01, 9.4763e-01],\n",
              "           [7.3318e-01, 3.2047e-01, 8.5676e-01,  ..., 1.8741e-01,\n",
              "            8.8822e-01, 1.0608e-01],\n",
              "           [3.7336e-02, 1.4402e-02, 7.2989e-01,  ..., 2.4009e-01,\n",
              "            9.1628e-01, 7.2918e-01],\n",
              "           ...,\n",
              "           [5.8543e-01, 3.7146e-01, 7.2358e-01,  ..., 6.8868e-01,\n",
              "            4.2679e-01, 8.3160e-01],\n",
              "           [4.4383e-01, 7.8920e-01, 2.7535e-01,  ..., 8.9434e-01,\n",
              "            9.0781e-01, 1.1203e-01],\n",
              "           [9.1676e-01, 9.8559e-01, 5.5469e-01,  ..., 8.0299e-01,\n",
              "            3.5701e-01, 3.5662e-01]],\n",
              "\n",
              "          ...,\n",
              "\n",
              "          [[7.9987e-01, 7.1141e-01, 8.2557e-01,  ..., 9.2591e-01,\n",
              "            1.9948e-01, 6.0121e-02],\n",
              "           [3.7544e-01, 9.7691e-01, 8.5077e-01,  ..., 9.1260e-02,\n",
              "            1.5790e-01, 5.7049e-01],\n",
              "           [6.6085e-02, 8.0686e-01, 8.1494e-01,  ..., 4.6664e-01,\n",
              "            4.6821e-01, 4.7739e-01],\n",
              "           ...,\n",
              "           [9.6491e-01, 2.8817e-01, 6.7446e-02,  ..., 2.5418e-01,\n",
              "            8.5461e-01, 1.6462e-01],\n",
              "           [5.0564e-01, 2.1470e-01, 4.2309e-01,  ..., 4.6880e-01,\n",
              "            3.6812e-01, 5.5748e-01],\n",
              "           [3.1258e-01, 5.1972e-01, 9.1478e-01,  ..., 3.3576e-01,\n",
              "            5.7565e-01, 7.0227e-01]],\n",
              "\n",
              "          [[3.3940e-02, 8.4712e-01, 9.7114e-01,  ..., 6.9953e-01,\n",
              "            8.5911e-01, 5.1987e-01],\n",
              "           [9.0511e-01, 5.9192e-03, 3.9224e-01,  ..., 2.5933e-01,\n",
              "            8.3847e-01, 6.0757e-01],\n",
              "           [7.8007e-02, 9.5439e-01, 8.4952e-01,  ..., 2.7434e-01,\n",
              "            3.9678e-01, 7.4444e-01],\n",
              "           ...,\n",
              "           [1.1607e-01, 2.7113e-01, 9.3131e-01,  ..., 1.8498e-01,\n",
              "            9.5056e-01, 7.1056e-01],\n",
              "           [9.4773e-01, 1.0466e-02, 4.6296e-02,  ..., 8.1075e-01,\n",
              "            4.4279e-01, 9.7376e-01],\n",
              "           [1.0316e-01, 4.6202e-01, 6.4862e-01,  ..., 5.8557e-01,\n",
              "            4.8682e-01, 6.4795e-01]],\n",
              "\n",
              "          [[3.1925e-01, 3.1100e-01, 5.1598e-01,  ..., 9.6237e-01,\n",
              "            8.8362e-01, 4.4847e-02],\n",
              "           [2.1383e-01, 7.6210e-01, 1.8202e-01,  ..., 9.9675e-01,\n",
              "            9.2112e-02, 4.4210e-01],\n",
              "           [2.0724e-01, 1.2185e-01, 7.8929e-01,  ..., 9.0340e-01,\n",
              "            7.9520e-01, 2.7768e-01],\n",
              "           ...,\n",
              "           [5.6709e-01, 4.9548e-01, 4.0592e-01,  ..., 3.9283e-01,\n",
              "            7.7745e-01, 8.6304e-01],\n",
              "           [2.5991e-01, 6.3333e-01, 1.4186e-02,  ..., 3.6556e-01,\n",
              "            6.1969e-01, 1.0961e-01],\n",
              "           [6.7272e-01, 7.0746e-01, 8.3145e-01,  ..., 3.3299e-01,\n",
              "            4.5481e-01, 5.0716e-01]]],\n",
              "\n",
              "\n",
              "         [[[1.4564e-01, 9.1724e-01, 8.3681e-01,  ..., 7.5438e-03,\n",
              "            7.2639e-01, 6.7796e-01],\n",
              "           [9.0683e-01, 5.3044e-01, 4.4366e-01,  ..., 2.7993e-01,\n",
              "            9.3817e-01, 3.9229e-01],\n",
              "           [1.4898e-02, 4.0148e-03, 7.7825e-01,  ..., 6.3244e-01,\n",
              "            7.9358e-02, 7.0099e-02],\n",
              "           ...,\n",
              "           [9.1505e-01, 3.3309e-01, 1.3454e-01,  ..., 4.2362e-02,\n",
              "            1.6522e-01, 4.0757e-02],\n",
              "           [8.6007e-01, 2.4446e-01, 6.3213e-01,  ..., 5.6378e-01,\n",
              "            4.1847e-01, 9.7872e-01],\n",
              "           [2.0713e-01, 3.0616e-01, 8.8119e-02,  ..., 7.7669e-01,\n",
              "            6.7442e-02, 1.4791e-01]],\n",
              "\n",
              "          [[7.8785e-01, 8.5774e-01, 1.9089e-01,  ..., 5.2261e-01,\n",
              "            2.2281e-02, 4.4386e-01],\n",
              "           [7.0925e-01, 7.9236e-01, 5.1149e-01,  ..., 6.8693e-02,\n",
              "            4.2573e-01, 3.7755e-02],\n",
              "           [6.4605e-01, 3.6566e-01, 3.3390e-01,  ..., 4.2210e-01,\n",
              "            1.3727e-01, 8.8433e-01],\n",
              "           ...,\n",
              "           [3.4419e-01, 9.8957e-01, 6.2536e-01,  ..., 6.0807e-01,\n",
              "            7.3788e-01, 9.6654e-01],\n",
              "           [2.6496e-02, 9.5291e-01, 1.7898e-01,  ..., 5.1100e-01,\n",
              "            7.3174e-02, 3.3216e-01],\n",
              "           [3.1532e-01, 5.3823e-01, 5.1794e-01,  ..., 8.3016e-02,\n",
              "            3.3493e-01, 6.4389e-01]],\n",
              "\n",
              "          [[4.4869e-01, 3.3665e-01, 5.6976e-01,  ..., 3.1643e-01,\n",
              "            5.8375e-02, 6.9765e-02],\n",
              "           [6.9756e-01, 7.1350e-01, 4.8316e-01,  ..., 5.6421e-01,\n",
              "            1.0894e-02, 7.3480e-01],\n",
              "           [6.4528e-01, 5.3129e-01, 1.6249e-01,  ..., 2.1986e-01,\n",
              "            4.4723e-01, 4.2815e-01],\n",
              "           ...,\n",
              "           [8.3508e-01, 7.2590e-02, 4.4083e-01,  ..., 1.3240e-01,\n",
              "            7.3030e-01, 6.4510e-01],\n",
              "           [3.4486e-01, 8.0233e-01, 3.4478e-02,  ..., 1.3729e-01,\n",
              "            6.3923e-01, 6.9087e-01],\n",
              "           [6.4490e-01, 5.0467e-01, 2.5762e-01,  ..., 2.9881e-01,\n",
              "            2.9478e-01, 8.5931e-02]],\n",
              "\n",
              "          ...,\n",
              "\n",
              "          [[7.8104e-01, 2.7912e-01, 8.2269e-01,  ..., 8.6541e-01,\n",
              "            8.9434e-01, 8.5168e-01],\n",
              "           [2.6137e-01, 7.2947e-01, 3.3369e-01,  ..., 2.9444e-02,\n",
              "            2.8206e-01, 2.1775e-01],\n",
              "           [6.3565e-01, 6.2702e-01, 7.5222e-01,  ..., 2.0210e-01,\n",
              "            3.3386e-01, 7.0335e-01],\n",
              "           ...,\n",
              "           [9.5701e-01, 3.7088e-01, 5.2876e-01,  ..., 7.3587e-03,\n",
              "            3.7932e-01, 7.1100e-01],\n",
              "           [6.8246e-01, 8.5125e-01, 9.5871e-01,  ..., 4.6341e-01,\n",
              "            1.8200e-01, 8.4643e-01],\n",
              "           [1.0918e-01, 9.4368e-01, 9.8254e-01,  ..., 3.2737e-01,\n",
              "            2.2575e-01, 3.2143e-01]],\n",
              "\n",
              "          [[6.8138e-02, 4.6581e-01, 9.6349e-01,  ..., 9.4518e-01,\n",
              "            1.6265e-01, 1.8513e-01],\n",
              "           [2.0152e-01, 1.5355e-01, 8.0157e-01,  ..., 1.6421e-02,\n",
              "            5.2529e-01, 3.2592e-01],\n",
              "           [2.4458e-01, 8.7652e-01, 1.7515e-01,  ..., 8.2031e-01,\n",
              "            9.9922e-01, 4.8736e-01],\n",
              "           ...,\n",
              "           [7.6055e-01, 7.3258e-01, 6.2575e-02,  ..., 4.1683e-01,\n",
              "            3.6399e-01, 9.2547e-01],\n",
              "           [1.3583e-01, 9.2587e-01, 5.2779e-01,  ..., 8.8673e-01,\n",
              "            1.6562e-03, 5.2297e-01],\n",
              "           [1.1483e-01, 4.5136e-01, 6.1418e-03,  ..., 3.2644e-01,\n",
              "            6.0788e-01, 1.8286e-01]],\n",
              "\n",
              "          [[9.3344e-01, 9.6338e-01, 3.5822e-01,  ..., 6.3276e-01,\n",
              "            6.7054e-01, 3.4545e-01],\n",
              "           [3.1897e-01, 6.9618e-01, 8.2371e-01,  ..., 1.3192e-01,\n",
              "            7.2087e-01, 9.0007e-01],\n",
              "           [5.5446e-02, 4.1381e-01, 3.4523e-01,  ..., 8.3248e-01,\n",
              "            2.8120e-01, 5.7108e-01],\n",
              "           ...,\n",
              "           [1.1411e-02, 3.2528e-01, 2.2683e-01,  ..., 4.1887e-01,\n",
              "            8.5412e-01, 9.5262e-02],\n",
              "           [1.6023e-01, 7.1948e-01, 7.9147e-01,  ..., 3.0360e-01,\n",
              "            2.7695e-01, 1.5647e-01],\n",
              "           [4.4278e-01, 1.7283e-01, 9.6570e-01,  ..., 7.1882e-01,\n",
              "            3.6200e-01, 7.5974e-01]]],\n",
              "\n",
              "\n",
              "         [[[4.1064e-01, 7.9535e-01, 5.9395e-01,  ..., 4.3717e-01,\n",
              "            9.4000e-01, 9.0583e-01],\n",
              "           [6.5521e-01, 9.6981e-01, 5.1120e-01,  ..., 1.3360e-01,\n",
              "            3.9176e-01, 9.9080e-01],\n",
              "           [2.5230e-01, 3.6098e-01, 7.2771e-01,  ..., 5.5064e-01,\n",
              "            7.7664e-01, 1.8762e-01],\n",
              "           ...,\n",
              "           [9.6355e-01, 8.5230e-01, 2.3783e-01,  ..., 6.2880e-01,\n",
              "            7.1889e-01, 6.0091e-01],\n",
              "           [6.5848e-01, 8.0494e-01, 3.5386e-01,  ..., 8.2691e-01,\n",
              "            2.1142e-01, 8.8595e-01],\n",
              "           [2.6686e-01, 6.2153e-01, 8.6937e-01,  ..., 6.5050e-01,\n",
              "            9.0904e-01, 8.4193e-01]],\n",
              "\n",
              "          [[9.4453e-01, 9.7189e-01, 6.3084e-01,  ..., 3.6054e-01,\n",
              "            9.0086e-01, 3.0944e-01],\n",
              "           [5.5924e-01, 9.5615e-01, 1.1393e-01,  ..., 9.0219e-01,\n",
              "            3.4881e-01, 3.3612e-01],\n",
              "           [1.3811e-01, 3.5722e-01, 3.4742e-01,  ..., 3.6718e-01,\n",
              "            9.2848e-01, 9.0652e-01],\n",
              "           ...,\n",
              "           [5.7437e-01, 6.0522e-01, 3.7013e-01,  ..., 1.7938e-02,\n",
              "            2.4097e-01, 9.8225e-01],\n",
              "           [4.1560e-02, 9.9226e-01, 3.7142e-01,  ..., 3.9004e-01,\n",
              "            6.1070e-01, 6.1410e-02],\n",
              "           [3.8227e-01, 6.5526e-02, 7.8219e-01,  ..., 5.9385e-01,\n",
              "            8.2323e-01, 3.3261e-01]],\n",
              "\n",
              "          [[1.9478e-01, 4.5788e-01, 5.9010e-01,  ..., 8.9772e-01,\n",
              "            7.6079e-01, 6.3384e-01],\n",
              "           [1.6514e-01, 6.8953e-01, 6.7097e-01,  ..., 1.3358e-01,\n",
              "            3.5582e-01, 4.4167e-01],\n",
              "           [6.5806e-01, 2.1287e-02, 8.4983e-01,  ..., 6.9828e-01,\n",
              "            3.5553e-01, 8.4138e-01],\n",
              "           ...,\n",
              "           [3.4764e-01, 8.2619e-02, 5.7038e-01,  ..., 1.3048e-01,\n",
              "            6.8228e-01, 1.4921e-01],\n",
              "           [5.2490e-01, 1.3838e-01, 1.4438e-01,  ..., 5.5349e-01,\n",
              "            8.9937e-01, 1.2580e-02],\n",
              "           [3.2754e-01, 6.9351e-01, 1.9199e-01,  ..., 8.9706e-01,\n",
              "            3.8240e-01, 9.5401e-01]],\n",
              "\n",
              "          ...,\n",
              "\n",
              "          [[9.3224e-01, 4.3548e-02, 6.0823e-02,  ..., 7.4699e-01,\n",
              "            8.2315e-01, 3.8337e-01],\n",
              "           [9.4769e-01, 3.0080e-01, 2.0521e-01,  ..., 9.1152e-01,\n",
              "            3.4993e-01, 5.1602e-01],\n",
              "           [7.8476e-01, 5.7924e-02, 9.9958e-01,  ..., 5.4007e-01,\n",
              "            3.1615e-02, 4.8096e-01],\n",
              "           ...,\n",
              "           [8.4550e-01, 7.7143e-01, 3.6566e-01,  ..., 4.3423e-01,\n",
              "            1.2971e-02, 2.8809e-01],\n",
              "           [3.7960e-01, 9.9121e-01, 8.0130e-01,  ..., 2.9814e-01,\n",
              "            2.1837e-01, 9.1893e-01],\n",
              "           [7.9345e-01, 4.0444e-01, 6.7104e-01,  ..., 7.1969e-01,\n",
              "            1.5533e-01, 8.6217e-01]],\n",
              "\n",
              "          [[7.2059e-01, 1.4222e-01, 5.6419e-01,  ..., 9.2326e-01,\n",
              "            5.0505e-01, 1.6569e-01],\n",
              "           [8.1821e-01, 5.2705e-01, 2.8118e-01,  ..., 3.6641e-01,\n",
              "            1.9642e-01, 3.0707e-01],\n",
              "           [7.3675e-01, 1.4690e-01, 8.5345e-01,  ..., 9.4174e-01,\n",
              "            8.7562e-01, 7.3802e-01],\n",
              "           ...,\n",
              "           [3.2756e-01, 4.7818e-01, 5.3786e-01,  ..., 3.7016e-01,\n",
              "            9.7924e-01, 2.2730e-02],\n",
              "           [8.3673e-01, 7.6304e-02, 7.9083e-01,  ..., 7.7538e-01,\n",
              "            5.9544e-01, 6.0255e-01],\n",
              "           [7.6513e-02, 4.0101e-01, 3.6182e-02,  ..., 6.5554e-01,\n",
              "            9.9708e-02, 3.4758e-01]],\n",
              "\n",
              "          [[4.2353e-01, 7.6404e-01, 9.0900e-01,  ..., 3.3809e-01,\n",
              "            5.0601e-01, 6.3669e-01],\n",
              "           [1.9757e-01, 9.1663e-01, 7.0184e-01,  ..., 3.0060e-01,\n",
              "            8.3893e-01, 2.7035e-01],\n",
              "           [2.0806e-01, 1.3740e-01, 1.5413e-01,  ..., 6.1249e-01,\n",
              "            9.9414e-01, 4.1111e-01],\n",
              "           ...,\n",
              "           [3.3455e-01, 4.7362e-01, 2.2464e-02,  ..., 2.3204e-01,\n",
              "            7.9051e-01, 8.7652e-01],\n",
              "           [4.0192e-02, 7.6071e-01, 8.8670e-01,  ..., 1.9023e-01,\n",
              "            2.7847e-01, 7.0917e-01],\n",
              "           [2.2087e-01, 2.3366e-02, 7.5001e-01,  ..., 3.5447e-01,\n",
              "            6.9541e-01, 7.9035e-01]]]]])"
            ]
          },
          "metadata": {},
          "execution_count": 225
        }
      ],
      "source": [
        "random_tensors = torch.rand(10, 10, 10, 10, 10)\n",
        "random_tensors"
      ]
    },
    {
      "cell_type": "code",
      "execution_count": 226,
      "metadata": {
        "colab": {
          "base_uri": "https://localhost:8080/"
        },
        "id": "aArQ8b8EqUSi",
        "outputId": "2fd6fb21-3e28-4a61-cbf8-2c0aa42ef5f5"
      },
      "outputs": [
        {
          "output_type": "execute_result",
          "data": {
            "text/plain": [
              "5"
            ]
          },
          "metadata": {},
          "execution_count": 226
        }
      ],
      "source": [
        "random_tensors.ndim"
      ]
    },
    {
      "cell_type": "code",
      "execution_count": 227,
      "metadata": {
        "colab": {
          "base_uri": "https://localhost:8080/"
        },
        "id": "b9kE4qWLrwAL",
        "outputId": "0dbc31d0-b1c0-47b3-b517-9657af16b802"
      },
      "outputs": [
        {
          "output_type": "execute_result",
          "data": {
            "text/plain": [
              "torch.Size([10, 10, 10, 10, 10])"
            ]
          },
          "metadata": {},
          "execution_count": 227
        }
      ],
      "source": [
        "random_tensors.shape"
      ]
    },
    {
      "cell_type": "code",
      "execution_count": 228,
      "metadata": {
        "colab": {
          "base_uri": "https://localhost:8080/"
        },
        "id": "T9G6-BQequnR",
        "outputId": "8c8591ff-3769-4564-a3f2-6055d465db7f"
      },
      "outputs": [
        {
          "output_type": "execute_result",
          "data": {
            "text/plain": [
              "(torch.Size([224, 224, 3]), 3)"
            ]
          },
          "metadata": {},
          "execution_count": 228
        }
      ],
      "source": [
        "# Create a random tensor with similar shape to an image tensor\n",
        "random_image_tensor = torch.rand(size=(224, 224, 3)) # height, width, colour channels (R, G, B)\n",
        "random_image_tensor.shape, random_image_tensor.ndim"
      ]
    },
    {
      "cell_type": "code",
      "execution_count": 229,
      "metadata": {
        "colab": {
          "base_uri": "https://localhost:8080/"
        },
        "id": "K9TuV4yvrJej",
        "outputId": "0eb5c189-2400-444d-ff6d-6c97260601eb"
      },
      "outputs": [
        {
          "output_type": "execute_result",
          "data": {
            "text/plain": [
              "tensor([[[9.4037e-01, 3.0578e-01, 3.5901e-01],\n",
              "         [1.8111e-01, 9.6310e-01, 7.5763e-01],\n",
              "         [4.3820e-01, 8.3890e-01, 6.5805e-01],\n",
              "         ...,\n",
              "         [9.9604e-01, 5.1360e-01, 6.3094e-01],\n",
              "         [8.1795e-01, 8.2174e-01, 7.0644e-01],\n",
              "         [9.7566e-01, 2.7503e-01, 6.9437e-01]],\n",
              "\n",
              "        [[1.1709e-01, 8.4539e-01, 4.6973e-01],\n",
              "         [3.3311e-01, 1.5888e-01, 2.9426e-01],\n",
              "         [2.3976e-02, 3.0422e-01, 5.6047e-01],\n",
              "         ...,\n",
              "         [1.5653e-01, 9.2567e-01, 7.2124e-01],\n",
              "         [2.5229e-01, 5.3212e-01, 8.8175e-01],\n",
              "         [7.2128e-01, 1.6441e-01, 7.0169e-01]],\n",
              "\n",
              "        [[2.0885e-01, 4.1764e-01, 6.3318e-01],\n",
              "         [8.9341e-01, 6.7612e-01, 2.7409e-01],\n",
              "         [6.8881e-01, 4.9899e-01, 8.9146e-02],\n",
              "         ...,\n",
              "         [7.1326e-01, 3.0541e-04, 8.4942e-01],\n",
              "         [7.5708e-01, 2.3438e-01, 9.3249e-01],\n",
              "         [7.8272e-01, 4.8620e-01, 7.0576e-01]],\n",
              "\n",
              "        ...,\n",
              "\n",
              "        [[9.8890e-01, 2.7387e-01, 7.5433e-01],\n",
              "         [7.7983e-01, 1.2758e-01, 6.4084e-01],\n",
              "         [7.0673e-04, 6.4810e-01, 1.5030e-01],\n",
              "         ...,\n",
              "         [2.2135e-01, 4.7864e-01, 3.3129e-01],\n",
              "         [4.7633e-01, 8.5151e-01, 4.5851e-01],\n",
              "         [6.1487e-01, 9.6727e-01, 2.2126e-01]],\n",
              "\n",
              "        [[3.0215e-01, 8.4466e-02, 7.3459e-01],\n",
              "         [9.9528e-01, 5.0739e-02, 3.0584e-01],\n",
              "         [7.7641e-01, 5.7256e-01, 2.3972e-01],\n",
              "         ...,\n",
              "         [7.8751e-01, 2.5581e-01, 3.3650e-01],\n",
              "         [1.8564e-01, 3.2021e-02, 9.9588e-01],\n",
              "         [6.5903e-01, 5.0027e-01, 8.9344e-01]],\n",
              "\n",
              "        [[5.4947e-01, 4.7653e-01, 6.1846e-02],\n",
              "         [3.2274e-01, 2.6380e-02, 6.4646e-01],\n",
              "         [7.7661e-01, 1.2858e-01, 4.1102e-03],\n",
              "         ...,\n",
              "         [7.2326e-01, 1.5811e-02, 4.0312e-01],\n",
              "         [8.2783e-01, 8.1575e-01, 9.4465e-01],\n",
              "         [2.7844e-01, 3.3486e-01, 1.8699e-01]]])"
            ]
          },
          "metadata": {},
          "execution_count": 229
        }
      ],
      "source": [
        "itensor = torch.rand(224, 224, 3)\n",
        "itensor"
      ]
    },
    {
      "cell_type": "code",
      "execution_count": 230,
      "metadata": {
        "colab": {
          "base_uri": "https://localhost:8080/"
        },
        "id": "gD4LH8MGtNBg",
        "outputId": "542368ca-c8fa-44e1-b3f5-ef64c351dc87"
      },
      "outputs": [
        {
          "output_type": "execute_result",
          "data": {
            "text/plain": [
              "3"
            ]
          },
          "metadata": {},
          "execution_count": 230
        }
      ],
      "source": [
        "itensor.ndim"
      ]
    },
    {
      "cell_type": "markdown",
      "metadata": {
        "id": "InxlIvbzvuSn"
      },
      "source": [
        "## Zeros and ones"
      ]
    },
    {
      "cell_type": "code",
      "execution_count": 231,
      "metadata": {
        "colab": {
          "base_uri": "https://localhost:8080/"
        },
        "id": "RZES2crItTDA",
        "outputId": "b23d57e6-8883-4132-ba49-0090b8c171b9"
      },
      "outputs": [
        {
          "output_type": "execute_result",
          "data": {
            "text/plain": [
              "tensor([[0., 0., 0., 0.],\n",
              "        [0., 0., 0., 0.],\n",
              "        [0., 0., 0., 0.]])"
            ]
          },
          "metadata": {},
          "execution_count": 231
        }
      ],
      "source": [
        "# Create a tensor of all zeros\n",
        "zeros = torch.zeros(size=(3,4))\n",
        "zeros"
      ]
    },
    {
      "cell_type": "code",
      "execution_count": 232,
      "metadata": {
        "colab": {
          "base_uri": "https://localhost:8080/"
        },
        "id": "D_KQGBSOv6rn",
        "outputId": "14c0d287-dd79-4ab9-92eb-7d3a27e6bb39"
      },
      "outputs": [
        {
          "output_type": "execute_result",
          "data": {
            "text/plain": [
              "tensor([[0.9311, 0.2779, 0.5279, 0.8379],\n",
              "        [0.6942, 0.3269, 0.1104, 0.7362],\n",
              "        [0.3482, 0.8545, 0.2467, 0.9603]])"
            ]
          },
          "metadata": {},
          "execution_count": 232
        }
      ],
      "source": [
        "new_random_tensor = torch.rand(3,4)\n",
        "new_random_tensor"
      ]
    },
    {
      "cell_type": "code",
      "execution_count": 233,
      "metadata": {
        "colab": {
          "base_uri": "https://localhost:8080/"
        },
        "id": "gSQdQQTpwRG2",
        "outputId": "7c3393cd-75e7-430d-863b-94299bfc3280"
      },
      "outputs": [
        {
          "output_type": "execute_result",
          "data": {
            "text/plain": [
              "tensor([[0., 0., 0., 0.],\n",
              "        [0., 0., 0., 0.],\n",
              "        [0., 0., 0., 0.]])"
            ]
          },
          "metadata": {},
          "execution_count": 233
        }
      ],
      "source": [
        "zeros * new_random_tensor"
      ]
    },
    {
      "cell_type": "code",
      "execution_count": 234,
      "metadata": {
        "colab": {
          "base_uri": "https://localhost:8080/"
        },
        "id": "cPfrsl0SwZ6-",
        "outputId": "bbdf4610-4b91-4571-ac0e-dc25a5db72eb"
      },
      "outputs": [
        {
          "output_type": "execute_result",
          "data": {
            "text/plain": [
              "tensor([[1., 1., 1., 1.],\n",
              "        [1., 1., 1., 1.],\n",
              "        [1., 1., 1., 1.]])"
            ]
          },
          "metadata": {},
          "execution_count": 234
        }
      ],
      "source": [
        "# Create a tensor of all ones\n",
        "ones = torch.ones(size=(3,4))\n",
        "ones"
      ]
    },
    {
      "cell_type": "code",
      "execution_count": 235,
      "metadata": {
        "colab": {
          "base_uri": "https://localhost:8080/"
        },
        "id": "LmyPc2bAw_O3",
        "outputId": "f1a1d157-587f-485c-a257-170c19e37c3f"
      },
      "outputs": [
        {
          "output_type": "execute_result",
          "data": {
            "text/plain": [
              "torch.float32"
            ]
          },
          "metadata": {},
          "execution_count": 235
        }
      ],
      "source": [
        "ones.dtype"
      ]
    },
    {
      "cell_type": "markdown",
      "metadata": {
        "id": "wrWxGAmmylHa"
      },
      "source": [
        "## Creating a range of tensors and tensors-like\n",
        "\n",
        "`torch.arange()` : https://pytorch.org/docs/stable/generated/torch.arange.html"
      ]
    },
    {
      "cell_type": "code",
      "execution_count": 236,
      "metadata": {
        "colab": {
          "base_uri": "https://localhost:8080/"
        },
        "id": "PGLDUrUGxB2m",
        "outputId": "7e50f293-732e-460c-930c-d0c52552847f"
      },
      "outputs": [
        {
          "output_type": "execute_result",
          "data": {
            "text/plain": [
              "tensor([ 1,  2,  3,  4,  5,  6,  7,  8,  9, 10])"
            ]
          },
          "metadata": {},
          "execution_count": 236
        }
      ],
      "source": [
        "# Use torch.range(1,11)\n",
        "# Depreciated message:::>>>> UserWarning: torch.range is deprecated and will be removed in a future release because its behavior is inconsistent with Python's range builtin. Instead, use torch.arange, which produces values in [start, end).\n",
        "\n",
        "one_to_ten = torch.arange(1,11)\n",
        "one_to_ten"
      ]
    },
    {
      "cell_type": "code",
      "execution_count": 237,
      "metadata": {
        "colab": {
          "base_uri": "https://localhost:8080/"
        },
        "id": "1Db2EP_Gy88t",
        "outputId": "bb4fcc72-4b63-4191-8a57-1b48aba9f138"
      },
      "outputs": [
        {
          "output_type": "execute_result",
          "data": {
            "text/plain": [
              "tensor([ 0, 10, 20, 30, 40, 50, 60, 70, 80, 90])"
            ]
          },
          "metadata": {},
          "execution_count": 237
        }
      ],
      "source": [
        "zero_to_hundred = torch.arange(start=0, end=100, step=10)\n",
        "zero_to_hundred"
      ]
    },
    {
      "cell_type": "code",
      "execution_count": 238,
      "metadata": {
        "colab": {
          "base_uri": "https://localhost:8080/"
        },
        "id": "_1pwiJHKz-2m",
        "outputId": "b99de8aa-858f-4d10-edec-055abf95b36d"
      },
      "outputs": [
        {
          "output_type": "execute_result",
          "data": {
            "text/plain": [
              "tensor([0, 0, 0, 0, 0, 0, 0, 0, 0, 0])"
            ]
          },
          "metadata": {},
          "execution_count": 238
        }
      ],
      "source": [
        "# Creating tensors like\n",
        "# when we have to define a tensor shape from a pre-defined tensor and overwrite with zeros\n",
        "new_tensor_from_zero_to_hundred_tensor = torch.zeros_like(input=zero_to_hundred)\n",
        "new_tensor_from_zero_to_hundred_tensor"
      ]
    },
    {
      "cell_type": "markdown",
      "metadata": {
        "id": "1YhJRcjsxZKm"
      },
      "source": [
        "## Tensor Datatypes\n",
        "\n",
        "**Note:** Tensor datatypes is one the 3 big errors you'll run into with PyTorch && Deep Learning:\n",
        "\n",
        "1.   Tensors not right datatype\n",
        "2.   Tensors not right shape\n",
        "3.   Tensors not on the right device\n",
        "\n",
        "\n",
        "Precision in computing: https://en.wikipedia.org/wiki/Precision_(computer_science)\n",
        "\n"
      ]
    },
    {
      "cell_type": "code",
      "execution_count": 239,
      "metadata": {
        "colab": {
          "base_uri": "https://localhost:8080/"
        },
        "id": "69Ic01AdyapK",
        "outputId": "df82a968-730d-49ef-d6e7-7a05d178b27d"
      },
      "outputs": [
        {
          "output_type": "execute_result",
          "data": {
            "text/plain": [
              "tensor([5, 8, 1, 6, 2, 9])"
            ]
          },
          "metadata": {},
          "execution_count": 239
        }
      ],
      "source": [
        "# default tensor datatype - default tensor datatype is depends on input input of the given tensor\n",
        "\n",
        "# here i will set `int` numbers for the tensor, so the default datatype of the tensor will be `int64`\n",
        "# so the default is `int64` for int numbers\n",
        "default_datatype_tensor = torch.tensor([5,8,1,6,2,9])\n",
        "\n",
        "default_datatype_tensor"
      ]
    },
    {
      "cell_type": "code",
      "execution_count": 240,
      "metadata": {
        "colab": {
          "base_uri": "https://localhost:8080/"
        },
        "id": "cr-DQ2MVyp17",
        "outputId": "b065dd32-d92f-4dfc-b800-b4abe19c52ea"
      },
      "outputs": [
        {
          "output_type": "execute_result",
          "data": {
            "text/plain": [
              "torch.int64"
            ]
          },
          "metadata": {},
          "execution_count": 240
        }
      ],
      "source": [
        "default_datatype_tensor.dtype"
      ]
    },
    {
      "cell_type": "code",
      "execution_count": 241,
      "metadata": {
        "colab": {
          "base_uri": "https://localhost:8080/"
        },
        "id": "P_ovVGQ_z3mc",
        "outputId": "9ece3037-393a-4f59-d689-41bb8d5030e1"
      },
      "outputs": [
        {
          "output_type": "execute_result",
          "data": {
            "text/plain": [
              "tensor([3.1000, 4.9000, 6.4000, 0.5000])"
            ]
          },
          "metadata": {},
          "execution_count": 241
        }
      ],
      "source": [
        "# here i will set `float` numbers for the tensor, so the default datatype would be `float32`\n",
        "# so the default is `float32` for int numbers\n",
        "default_datatype_tensor = torch.tensor([3.1,4.9,6.4,.5])\n",
        "\n",
        "default_datatype_tensor"
      ]
    },
    {
      "cell_type": "code",
      "execution_count": 242,
      "metadata": {
        "colab": {
          "base_uri": "https://localhost:8080/"
        },
        "id": "-T7qAD3n0ii2",
        "outputId": "1fb8255c-06ac-47fd-a8d9-3e03262e3cd1"
      },
      "outputs": [
        {
          "output_type": "execute_result",
          "data": {
            "text/plain": [
              "torch.float32"
            ]
          },
          "metadata": {},
          "execution_count": 242
        }
      ],
      "source": [
        "default_datatype_tensor.dtype"
      ]
    },
    {
      "cell_type": "code",
      "execution_count": 243,
      "metadata": {
        "colab": {
          "base_uri": "https://localhost:8080/"
        },
        "id": "Y1pVnAzQ1BV2",
        "outputId": "961716bf-136f-4f16-d277-8f3fa4598eb4"
      },
      "outputs": [
        {
          "output_type": "execute_result",
          "data": {
            "text/plain": [
              "tensor([3., 2., 4.])"
            ]
          },
          "metadata": {},
          "execution_count": 243
        }
      ],
      "source": [
        "# Float 32 tensor\n",
        "float_32_tensor = torch.tensor([3.0, 2.0, 4.0], dtype=torch.float32) # defined `float32`\n",
        "\n",
        "float_32_tensor"
      ]
    },
    {
      "cell_type": "code",
      "execution_count": 244,
      "metadata": {
        "colab": {
          "base_uri": "https://localhost:8080/"
        },
        "id": "Kcoykb-Ix2Fm",
        "outputId": "7bb05f25-7331-415b-e83f-e4b9b6150b19"
      },
      "outputs": [
        {
          "output_type": "execute_result",
          "data": {
            "text/plain": [
              "torch.float32"
            ]
          },
          "metadata": {},
          "execution_count": 244
        }
      ],
      "source": [
        "float_32_tensor.dtype"
      ]
    },
    {
      "cell_type": "code",
      "execution_count": 245,
      "metadata": {
        "colab": {
          "base_uri": "https://localhost:8080/"
        },
        "id": "TA_TLsv5x39T",
        "outputId": "a3ae09bd-f3be-4ce8-dd12-374399adc36b"
      },
      "outputs": [
        {
          "output_type": "execute_result",
          "data": {
            "text/plain": [
              "tensor([4, 2, 4, 7])"
            ]
          },
          "metadata": {},
          "execution_count": 245
        }
      ],
      "source": [
        "# set float numbers but later define the datatype your want to sent with the tensor\n",
        "int64_tensor = torch.tensor([4.1,2,4,7], dtype=torch.int64)\n",
        "int64_tensor"
      ]
    },
    {
      "cell_type": "code",
      "execution_count": 246,
      "metadata": {
        "colab": {
          "base_uri": "https://localhost:8080/"
        },
        "id": "t0UruqRr3zDe",
        "outputId": "56421b14-a112-4959-d29d-6d6f7b70892e"
      },
      "outputs": [
        {
          "output_type": "execute_result",
          "data": {
            "text/plain": [
              "torch.int64"
            ]
          },
          "metadata": {},
          "execution_count": 246
        }
      ],
      "source": [
        "int64_tensor.dtype"
      ]
    },
    {
      "cell_type": "code",
      "execution_count": 247,
      "metadata": {
        "colab": {
          "base_uri": "https://localhost:8080/"
        },
        "id": "6CZLJ2cF36xu",
        "outputId": "1ea9e067-50cf-4be6-bf68-4128016764f7"
      },
      "outputs": [
        {
          "output_type": "execute_result",
          "data": {
            "text/plain": [
              "tensor([7.3000, 1.0000, 9.0000, 4.2000])"
            ]
          },
          "metadata": {},
          "execution_count": 247
        }
      ],
      "source": [
        "#\n",
        "float_32_tensor = torch.tensor([7.3,1,9,4.2], dtype=None # what datatype is the tensor (e.g. float32. float16)\n",
        "                                                        )\n",
        "float_32_tensor"
      ]
    },
    {
      "cell_type": "code",
      "execution_count": 248,
      "metadata": {
        "colab": {
          "base_uri": "https://localhost:8080/"
        },
        "id": "V6RqW-8R5ElX",
        "outputId": "021ff06a-9f9c-4a3c-c0d4-e80c57ded517"
      },
      "outputs": [
        {
          "output_type": "execute_result",
          "data": {
            "text/plain": [
              "torch.float32"
            ]
          },
          "metadata": {},
          "execution_count": 248
        }
      ],
      "source": [
        "float_32_tensor.dtype"
      ]
    },
    {
      "cell_type": "code",
      "execution_count": 249,
      "metadata": {
        "colab": {
          "base_uri": "https://localhost:8080/"
        },
        "id": "EjbYwfST5K3Z",
        "outputId": "1f54106b-e610-46c3-b996-05e98eb3d0af"
      },
      "outputs": [
        {
          "output_type": "execute_result",
          "data": {
            "text/plain": [
              "tensor([4.1000, 7.5000, 7.8000])"
            ]
          },
          "metadata": {},
          "execution_count": 249
        }
      ],
      "source": [
        "# with more parameters\n",
        "float_32_tensor = torch.tensor([4.1,7.5,7.8],\n",
        "                               dtype = None, # set  datatypes:  e.g. float16, float32 :> available datatypes: https://pytorch.org/docs/stable/tensors.html || https://en.wikipedia.org/wiki/Precision_(computer_science)\n",
        "                               device = None, # what device is your tensor on e.g. 'cpu' or 'cuda' mean gpu\n",
        "                               requires_grad = False # whether or not to track gradients with this tensors operations\n",
        "                               )\n",
        "float_32_tensor"
      ]
    },
    {
      "cell_type": "code",
      "execution_count": 250,
      "metadata": {
        "colab": {
          "base_uri": "https://localhost:8080/"
        },
        "id": "1eWQ8I2h5_rv",
        "outputId": "83173300-02e4-47c3-c962-7a8853958350"
      },
      "outputs": [
        {
          "output_type": "execute_result",
          "data": {
            "text/plain": [
              "tensor([4.1016, 7.5000, 7.8008], dtype=torch.float16)"
            ]
          },
          "metadata": {},
          "execution_count": 250
        }
      ],
      "source": [
        "# converted the datatype 'float_32' to 'float_16' of a tensor\n",
        "\n",
        "# how might we change the datatype of the tensor\n",
        "float16_tensor = float_32_tensor.type(torch.float16)\n",
        "float16_tensor"
      ]
    },
    {
      "cell_type": "markdown",
      "source": [
        "# Excercise (DataTypes)"
      ],
      "metadata": {
        "id": "NN45b5QS3aIF"
      }
    },
    {
      "cell_type": "code",
      "execution_count": 251,
      "metadata": {
        "colab": {
          "base_uri": "https://localhost:8080/"
        },
        "id": "IM0UYSqm9o0X",
        "outputId": "947bbac5-f713-4725-ac9d-8d91a57d48ba"
      },
      "outputs": [
        {
          "output_type": "execute_result",
          "data": {
            "text/plain": [
              "tensor([ True, False, False,  True, False,  True,  True])"
            ]
          },
          "metadata": {},
          "execution_count": 251
        }
      ],
      "source": [
        "# boolean data types\n",
        "boolean_tensor = torch.tensor([1,0,0,1,0,1,1], dtype=torch.bool)\n",
        "\n",
        "boolean_tensor"
      ]
    },
    {
      "cell_type": "code",
      "execution_count": 252,
      "metadata": {
        "colab": {
          "base_uri": "https://localhost:8080/"
        },
        "id": "tEjhDUAcAs7H",
        "outputId": "d3f7236b-d426-40ef-9d67-26499f53f21c"
      },
      "outputs": [
        {
          "output_type": "execute_result",
          "data": {
            "text/plain": [
              "torch.bool"
            ]
          },
          "metadata": {},
          "execution_count": 252
        }
      ],
      "source": [
        "boolean_tensor.dtype"
      ]
    },
    {
      "cell_type": "code",
      "execution_count": 253,
      "metadata": {
        "colab": {
          "base_uri": "https://localhost:8080/"
        },
        "id": "fP36Jo6wAvDm",
        "outputId": "95a6a712-4027-468b-d5f9-3aa7eb5340c5"
      },
      "outputs": [
        {
          "output_type": "execute_result",
          "data": {
            "text/plain": [
              "tensor([[ 2.2000, 18.6000],\n",
              "        [ 7.2000, 13.4000]])"
            ]
          },
          "metadata": {},
          "execution_count": 253
        }
      ],
      "source": [
        "# requires_grad = True\n",
        "MY_TENSOR = torch.tensor([[1.1, 9.3], [3.6, 6.7]], requires_grad=True)\n",
        "\n",
        "OUT = MY_TENSOR.pow(2).sum()\n",
        "OUT.backward()\n",
        "MY_TENSOR.grad"
      ]
    },
    {
      "cell_type": "markdown",
      "source": [
        "## Tensor Views\n",
        "PyTorch allows a tensor to be a `View` of an existing tensor. View tensor shares the same underlying data with its base tensor. Supporting `View` avoids explicit data copy, thus allows us to do fast and memory efficient reshaping, slicing and element-wise operations.\n",
        "\n",
        "For example, to get a view of an existing tensor `first_tensor`, you can call `t.view(...)`.\n",
        "\n",
        "\n",
        "**Source:** https://pytorch.org/docs/stable/tensor_view.html#tensor-view-doc"
      ],
      "metadata": {
        "id": "vqbYBO1oM5eZ"
      }
    },
    {
      "cell_type": "code",
      "execution_count": 254,
      "metadata": {
        "id": "JBvZq7X9LJ9o",
        "colab": {
          "base_uri": "https://localhost:8080/"
        },
        "outputId": "f04207b8-bec5-4a75-fd8e-f31588deddb1"
      },
      "outputs": [
        {
          "output_type": "execute_result",
          "data": {
            "text/plain": [
              "tensor([[0.9960, 0.1021, 0.6673, 0.2132],\n",
              "        [0.0924, 0.3938, 0.3517, 0.5495],\n",
              "        [0.4905, 0.1555, 0.9534, 0.5184],\n",
              "        [0.0725, 0.8246, 0.6689, 0.4116]])"
            ]
          },
          "metadata": {},
          "execution_count": 254
        }
      ],
      "source": [
        "# example\n",
        "first_tensor = torch.rand(4,4)\n",
        "first_tensor"
      ]
    },
    {
      "cell_type": "code",
      "source": [
        "second_tensor = first_tensor.view(2,8)\n",
        "second_tensor"
      ],
      "metadata": {
        "colab": {
          "base_uri": "https://localhost:8080/"
        },
        "id": "2FE7YjiqNOLo",
        "outputId": "4ffbc03a-8ded-434b-a0a5-3555142fec3f"
      },
      "execution_count": 255,
      "outputs": [
        {
          "output_type": "execute_result",
          "data": {
            "text/plain": [
              "tensor([[0.9960, 0.1021, 0.6673, 0.2132, 0.0924, 0.3938, 0.3517, 0.5495],\n",
              "        [0.4905, 0.1555, 0.9534, 0.5184, 0.0725, 0.8246, 0.6689, 0.4116]])"
            ]
          },
          "metadata": {},
          "execution_count": 255
        }
      ]
    },
    {
      "cell_type": "code",
      "source": [
        "# check if the two tensors sharing the same data\n",
        "\n",
        "# using `first_tensor.storage()` you will get deprecated message, To access UntypedStorage directly, use tensor.untyped_storage() instead of tensor.storage()\n",
        "first_tensor.untyped_storage().data_ptr() == second_tensor.untyped_storage().data_ptr() # `first_tensor` and `second_tensor` share the same underlying data"
      ],
      "metadata": {
        "colab": {
          "base_uri": "https://localhost:8080/"
        },
        "id": "kz5er5aGNZpg",
        "outputId": "9e94090f-3f78-4c37-ecde-23d79e70ee7a"
      },
      "execution_count": 256,
      "outputs": [
        {
          "output_type": "execute_result",
          "data": {
            "text/plain": [
              "True"
            ]
          },
          "metadata": {},
          "execution_count": 256
        }
      ]
    },
    {
      "cell_type": "code",
      "source": [
        "# Modifying view tensor(e.g.`second_tensor`) changes base tensor(e.g. `first_tensor`) as well\n",
        "\n",
        "# first extract value of given indices\n",
        "second_tensor[0][0]\n",
        "\n",
        "# updating value\n",
        "second_tensor[0][0] = 0.401\n",
        "\n",
        "# check whether the value of the first_tensor is updated or not\n",
        "first_tensor[0][0]\n",
        "\n",
        "# print the whole tensor\n",
        "first_tensor\n",
        "\n",
        "#    Note:** Since views share underlying data with its base tensor, if you edit the data in the view, it will be reflected in the base tensor as well.\n",
        "\n"
      ],
      "metadata": {
        "colab": {
          "base_uri": "https://localhost:8080/"
        },
        "id": "NTPuvSBnOpBA",
        "outputId": "8bd5021b-743a-40cc-ed51-39c582490431"
      },
      "execution_count": 257,
      "outputs": [
        {
          "output_type": "execute_result",
          "data": {
            "text/plain": [
              "tensor([[0.4010, 0.1021, 0.6673, 0.2132],\n",
              "        [0.0924, 0.3938, 0.3517, 0.5495],\n",
              "        [0.4905, 0.1555, 0.9534, 0.5184],\n",
              "        [0.0725, 0.8246, 0.6689, 0.4116]])"
            ]
          },
          "metadata": {},
          "execution_count": 257
        }
      ]
    },
    {
      "cell_type": "markdown",
      "source": [
        "Typically a PyTorch op returns a new tensor as output, e.g. `add()`. But in case of view ops, outputs are views of input tensors to avoid unnecessary data copy. No data movement occurs when creating a view, view tensor just changes the way it interprets the same data. Taking a view of contiguous tensor could potentially produce a non-contiguous tensor. Users should pay additional attention as contiguity might have implicit performance impact. `transpose()` is a common example.\n",
        "\n",
        "**Source:** https://pytorch.org/docs/stable/tensor_view.html#tensor-views"
      ],
      "metadata": {
        "id": "haPTOiiQSMf9"
      }
    },
    {
      "cell_type": "code",
      "source": [
        "first_tensor.is_contiguous()"
      ],
      "metadata": {
        "colab": {
          "base_uri": "https://localhost:8080/"
        },
        "id": "rOIZ-YAkQukQ",
        "outputId": "ee721fe9-edf6-45ab-e9bc-0393fbd4ddbb"
      },
      "execution_count": 258,
      "outputs": [
        {
          "output_type": "execute_result",
          "data": {
            "text/plain": [
              "True"
            ]
          },
          "metadata": {},
          "execution_count": 258
        }
      ]
    },
    {
      "cell_type": "code",
      "source": [
        "second_tensor.is_contiguous()"
      ],
      "metadata": {
        "colab": {
          "base_uri": "https://localhost:8080/"
        },
        "id": "OopIaXLOS34A",
        "outputId": "81953cc2-8962-482b-bbaf-01c00250dfcb"
      },
      "execution_count": 259,
      "outputs": [
        {
          "output_type": "execute_result",
          "data": {
            "text/plain": [
              "True"
            ]
          },
          "metadata": {},
          "execution_count": 259
        }
      ]
    },
    {
      "cell_type": "code",
      "source": [
        "# create new base tensor\n",
        "base_tensor = torch.tensor([[0,1],[2,3]])\n",
        "print(base_tensor.is_contiguous())\n",
        "base_tensor"
      ],
      "metadata": {
        "colab": {
          "base_uri": "https://localhost:8080/"
        },
        "id": "JRwqpH6nS9Z6",
        "outputId": "66ca6575-4037-4d0b-b13a-9bf3d70161e5"
      },
      "execution_count": 260,
      "outputs": [
        {
          "output_type": "stream",
          "name": "stdout",
          "text": [
            "True\n"
          ]
        },
        {
          "output_type": "execute_result",
          "data": {
            "text/plain": [
              "tensor([[0, 1],\n",
              "        [2, 3]])"
            ]
          },
          "metadata": {},
          "execution_count": 260
        }
      ]
    },
    {
      "cell_type": "code",
      "source": [
        "view_tensor = base_tensor.transpose(0,1) # `view_tensor` if a view of `base_tensor`. No data movement happened here\n",
        "view_tensor"
      ],
      "metadata": {
        "colab": {
          "base_uri": "https://localhost:8080/"
        },
        "id": "ZotPEpDPTU3o",
        "outputId": "a4ca144a-3ee2-4951-9b56-91469cccfdeb"
      },
      "execution_count": 261,
      "outputs": [
        {
          "output_type": "execute_result",
          "data": {
            "text/plain": [
              "tensor([[0, 2],\n",
              "        [1, 3]])"
            ]
          },
          "metadata": {},
          "execution_count": 261
        }
      ]
    },
    {
      "cell_type": "code",
      "source": [
        "# `view_tensor`(transpose) might be non-contiguous\n",
        "# so, let's check whether it's right or not\n",
        "view_tensor.is_contiguous()"
      ],
      "metadata": {
        "colab": {
          "base_uri": "https://localhost:8080/"
        },
        "id": "haczZbJXTaog",
        "outputId": "e5a3ae61-fc0b-4c85-f076-4622eabdae08"
      },
      "execution_count": 262,
      "outputs": [
        {
          "output_type": "execute_result",
          "data": {
            "text/plain": [
              "False"
            ]
          },
          "metadata": {},
          "execution_count": 262
        }
      ]
    },
    {
      "cell_type": "code",
      "source": [
        "# To get contiguous tensor, call `.contiguous()` to enfore\n",
        "# copying data when `view_tensor` is not contiguous\n",
        "copy_tensor = view_tensor.contiguous()\n",
        "copy_tensor\n",
        "\n",
        "# check now, if `copy_tensor` is contiguous or not\n",
        "copy_tensor.is_contiguous()"
      ],
      "metadata": {
        "colab": {
          "base_uri": "https://localhost:8080/"
        },
        "id": "Eo9KwJv5U-lN",
        "outputId": "c493685f-af2b-42f0-eb37-be4716b4024b"
      },
      "execution_count": 263,
      "outputs": [
        {
          "output_type": "execute_result",
          "data": {
            "text/plain": [
              "True"
            ]
          },
          "metadata": {},
          "execution_count": 263
        }
      ]
    },
    {
      "cell_type": "markdown",
      "source": [
        "## Arithmetic Operations"
      ],
      "metadata": {
        "id": "3DbHkuDJ27_H"
      }
    },
    {
      "cell_type": "code",
      "source": [
        "# multiplication with two different datatypes or with same datatype but different bits(e.g. 16 or 32 or 64)\n",
        "\n",
        "float_16_tensor = torch.tensor([1.1,5.3,6.9], dtype=torch.float16)\n",
        "\n",
        "float_16_tensor"
      ],
      "metadata": {
        "id": "7wvaXS5TVWrY",
        "colab": {
          "base_uri": "https://localhost:8080/"
        },
        "outputId": "fd3c12d3-2565-4650-dc8f-a02b87002e18"
      },
      "execution_count": 264,
      "outputs": [
        {
          "output_type": "execute_result",
          "data": {
            "text/plain": [
              "tensor([1.0996, 5.3008, 6.8984], dtype=torch.float16)"
            ]
          },
          "metadata": {},
          "execution_count": 264
        }
      ]
    },
    {
      "cell_type": "code",
      "source": [
        "flotat_32_tensor = torch.tensor([4.7, 4.1,8.3], dtype=torch.float32)\n",
        "\n",
        "float_32_tensor"
      ],
      "metadata": {
        "colab": {
          "base_uri": "https://localhost:8080/"
        },
        "id": "ykm8aLKs4VQy",
        "outputId": "d7c54153-4da8-461c-cf91-da757eeae2c1"
      },
      "execution_count": 265,
      "outputs": [
        {
          "output_type": "execute_result",
          "data": {
            "text/plain": [
              "tensor([4.1000, 7.5000, 7.8000])"
            ]
          },
          "metadata": {},
          "execution_count": 265
        }
      ]
    },
    {
      "cell_type": "code",
      "source": [
        "float_16_tensor * float_32_tensor"
      ],
      "metadata": {
        "colab": {
          "base_uri": "https://localhost:8080/"
        },
        "id": "9__BoNdc4tR8",
        "outputId": "9120e0b9-6a7a-444e-b731-6ee28c963f34"
      },
      "execution_count": 266,
      "outputs": [
        {
          "output_type": "execute_result",
          "data": {
            "text/plain": [
              "tensor([ 4.5084, 39.7559, 53.8078])"
            ]
          },
          "metadata": {},
          "execution_count": 266
        }
      ]
    },
    {
      "cell_type": "code",
      "source": [
        "int_32_tensor = torch.tensor([5,8,3], dtype=torch.int32)\n",
        "int_32_tensor"
      ],
      "metadata": {
        "colab": {
          "base_uri": "https://localhost:8080/"
        },
        "id": "PqvD8Q_m41-4",
        "outputId": "43da8b28-88c5-4439-8e2f-6e1d6fd1a076"
      },
      "execution_count": 267,
      "outputs": [
        {
          "output_type": "execute_result",
          "data": {
            "text/plain": [
              "tensor([5, 8, 3], dtype=torch.int32)"
            ]
          },
          "metadata": {},
          "execution_count": 267
        }
      ]
    },
    {
      "cell_type": "code",
      "source": [
        "int_32_tensor * float_32_tensor"
      ],
      "metadata": {
        "colab": {
          "base_uri": "https://localhost:8080/"
        },
        "id": "xkFXd7f35fD9",
        "outputId": "568fccc9-6830-405f-e33d-f9f63b908f80"
      },
      "execution_count": 268,
      "outputs": [
        {
          "output_type": "execute_result",
          "data": {
            "text/plain": [
              "tensor([20.5000, 60.0000, 23.4000])"
            ]
          },
          "metadata": {},
          "execution_count": 268
        }
      ]
    },
    {
      "cell_type": "code",
      "source": [
        "int_64_tensor = torch.tensor([2,7,9], dtype=torch.int64)\n",
        "int_64_tensor"
      ],
      "metadata": {
        "colab": {
          "base_uri": "https://localhost:8080/"
        },
        "id": "nrIQ_VxQ5jmG",
        "outputId": "3da45f21-c143-40de-db2e-bce60f34b76e"
      },
      "execution_count": 269,
      "outputs": [
        {
          "output_type": "execute_result",
          "data": {
            "text/plain": [
              "tensor([2, 7, 9])"
            ]
          },
          "metadata": {},
          "execution_count": 269
        }
      ]
    },
    {
      "cell_type": "code",
      "source": [
        "float_32_tensor * int_64_tensor"
      ],
      "metadata": {
        "colab": {
          "base_uri": "https://localhost:8080/"
        },
        "id": "fJmXW4YO6Col",
        "outputId": "2529af82-6bef-42ac-cf0e-a2012225d147"
      },
      "execution_count": 270,
      "outputs": [
        {
          "output_type": "execute_result",
          "data": {
            "text/plain": [
              "tensor([ 8.2000, 52.5000, 70.2000])"
            ]
          },
          "metadata": {},
          "execution_count": 270
        }
      ]
    },
    {
      "cell_type": "code",
      "source": [
        "long_tensor = torch.tensor([4,6,9], dtype=torch.long)\n",
        "long_tensor"
      ],
      "metadata": {
        "colab": {
          "base_uri": "https://localhost:8080/"
        },
        "id": "njjfl_CF6IHG",
        "outputId": "2895ff0d-2053-4452-97fc-47e63a3add10"
      },
      "execution_count": 271,
      "outputs": [
        {
          "output_type": "execute_result",
          "data": {
            "text/plain": [
              "tensor([4, 6, 9])"
            ]
          },
          "metadata": {},
          "execution_count": 271
        }
      ]
    },
    {
      "cell_type": "code",
      "source": [
        "long_tensor * float_32_tensor"
      ],
      "metadata": {
        "colab": {
          "base_uri": "https://localhost:8080/"
        },
        "id": "m_CXAQ2n6ltN",
        "outputId": "565edd69-586d-4e1f-c7b4-a358615d7495"
      },
      "execution_count": 272,
      "outputs": [
        {
          "output_type": "execute_result",
          "data": {
            "text/plain": [
              "tensor([16.4000, 45.0000, 70.2000])"
            ]
          },
          "metadata": {},
          "execution_count": 272
        }
      ]
    },
    {
      "cell_type": "markdown",
      "source": [
        "## Getting information from tensors (tensor attributes)\n",
        "1.   Tensors not right datatype - to do that get datatype from a tensor, can use `tensor.dtype`\n",
        "2.   Tensors not right shape - to get shape from a tensor, can use `tensor.shape`\n",
        "3.   Tensors not on the right device - to get device from a tensor, can use `tensor.device`"
      ],
      "metadata": {
        "id": "9eK6c9JA-Qlp"
      }
    },
    {
      "cell_type": "code",
      "source": [
        "# Create a tensor\n",
        "some_tensor = torch.rand(3,4)\n",
        "some_tensor"
      ],
      "metadata": {
        "colab": {
          "base_uri": "https://localhost:8080/"
        },
        "id": "5n37UBXp7nnx",
        "outputId": "4994ff26-404b-47a2-8771-437c945cacb3"
      },
      "execution_count": 273,
      "outputs": [
        {
          "output_type": "execute_result",
          "data": {
            "text/plain": [
              "tensor([[0.1777, 0.3542, 0.5945, 0.8096],\n",
              "        [0.3554, 0.9859, 0.6526, 0.7719],\n",
              "        [0.0978, 0.7567, 0.2150, 0.9262]])"
            ]
          },
          "metadata": {},
          "execution_count": 273
        }
      ]
    },
    {
      "cell_type": "code",
      "source": [
        "# Find out details anout some tensor\n",
        "print(some_tensor)\n",
        "print(f\"DataType of tensor: {some_tensor.dtype}\")\n",
        "print(f\"Shape of tensor: {some_tensor.shape}\") # there are two way to get shape or size of a tensor, 1. with attribute (e.g. some_tensor.shape) 2. with function (e.g. some_tensor.size())\n",
        "print(f\"Device of tensor is on: {some_tensor.device}\")"
      ],
      "metadata": {
        "colab": {
          "base_uri": "https://localhost:8080/"
        },
        "id": "RWp4NcmB-aVX",
        "outputId": "ce3e0457-82f5-4f81-ad13-eda8c9d8a417"
      },
      "execution_count": 274,
      "outputs": [
        {
          "output_type": "stream",
          "name": "stdout",
          "text": [
            "tensor([[0.1777, 0.3542, 0.5945, 0.8096],\n",
            "        [0.3554, 0.9859, 0.6526, 0.7719],\n",
            "        [0.0978, 0.7567, 0.2150, 0.9262]])\n",
            "DataType of tensor: torch.float32\n",
            "Shape of tensor: torch.Size([3, 4])\n",
            "Device of tensor is on: cpu\n"
          ]
        }
      ]
    },
    {
      "cell_type": "code",
      "source": [
        "check = torch.rand(3,4)\n",
        "check"
      ],
      "metadata": {
        "colab": {
          "base_uri": "https://localhost:8080/"
        },
        "id": "smMcW8lV_gp-",
        "outputId": "3023388d-511b-4221-8c0d-f210f1d7c232"
      },
      "execution_count": 275,
      "outputs": [
        {
          "output_type": "execute_result",
          "data": {
            "text/plain": [
              "tensor([[0.3956, 0.7402, 0.4247, 0.2169],\n",
              "        [0.5307, 0.1062, 0.7074, 0.5772],\n",
              "        [0.1120, 0.4379, 0.5117, 0.5108]])"
            ]
          },
          "metadata": {},
          "execution_count": 275
        }
      ]
    },
    {
      "cell_type": "code",
      "source": [
        "check.dtype\n"
      ],
      "metadata": {
        "colab": {
          "base_uri": "https://localhost:8080/"
        },
        "id": "_Tyjip5KBIVH",
        "outputId": "12fbd7ce-af22-4ecb-c33c-7e96da0f0bbd"
      },
      "execution_count": 276,
      "outputs": [
        {
          "output_type": "execute_result",
          "data": {
            "text/plain": [
              "torch.float32"
            ]
          },
          "metadata": {},
          "execution_count": 276
        }
      ]
    },
    {
      "cell_type": "code",
      "source": [
        "deck = check.type(torch.float16)\n",
        "deck.dtype"
      ],
      "metadata": {
        "colab": {
          "base_uri": "https://localhost:8080/"
        },
        "id": "-5baBnedBJ9u",
        "outputId": "a05522a1-f614-4c0c-e780-260148d532fd"
      },
      "execution_count": 277,
      "outputs": [
        {
          "output_type": "execute_result",
          "data": {
            "text/plain": [
              "torch.float16"
            ]
          },
          "metadata": {},
          "execution_count": 277
        }
      ]
    },
    {
      "cell_type": "code",
      "source": [
        "deck"
      ],
      "metadata": {
        "colab": {
          "base_uri": "https://localhost:8080/"
        },
        "id": "tf3qUA-lBR79",
        "outputId": "8bff0452-74ef-4c7f-cd7b-e25dcb06aa07"
      },
      "execution_count": 278,
      "outputs": [
        {
          "output_type": "execute_result",
          "data": {
            "text/plain": [
              "tensor([[0.3955, 0.7402, 0.4248, 0.2169],\n",
              "        [0.5308, 0.1062, 0.7075, 0.5771],\n",
              "        [0.1121, 0.4377, 0.5117, 0.5107]], dtype=torch.float16)"
            ]
          },
          "metadata": {},
          "execution_count": 278
        }
      ]
    },
    {
      "cell_type": "markdown",
      "source": [
        "### Manipulating Tensors (tensor operations)\n",
        "\n",
        "Tensor operations include:\n",
        "* Addition\n",
        "* Subtraction\n",
        "* Multiplication (element-wise)\n",
        "* Division\n",
        "* Matrix Multiplication"
      ],
      "metadata": {
        "id": "8hOWuHDlCGKG"
      }
    },
    {
      "cell_type": "code",
      "source": [
        "# Create a tensor and add 10 to it\n",
        "tensor = torch.tensor([1,2,3])\n",
        "tensor + 10"
      ],
      "metadata": {
        "colab": {
          "base_uri": "https://localhost:8080/"
        },
        "id": "ecgEXNdaBtZO",
        "outputId": "9418eb76-e079-46fa-dc9a-21bb3a46a0b6"
      },
      "execution_count": 279,
      "outputs": [
        {
          "output_type": "execute_result",
          "data": {
            "text/plain": [
              "tensor([11, 12, 13])"
            ]
          },
          "metadata": {},
          "execution_count": 279
        }
      ]
    },
    {
      "cell_type": "code",
      "source": [
        "# Subtract 10\n",
        "tensor - 10"
      ],
      "metadata": {
        "colab": {
          "base_uri": "https://localhost:8080/"
        },
        "id": "Xrhzjp2vDABi",
        "outputId": "6122364d-1fb1-4d33-8301-5ce5fea7e0ae"
      },
      "execution_count": 280,
      "outputs": [
        {
          "output_type": "execute_result",
          "data": {
            "text/plain": [
              "tensor([-9, -8, -7])"
            ]
          },
          "metadata": {},
          "execution_count": 280
        }
      ]
    },
    {
      "cell_type": "code",
      "source": [
        "# Multiply tensor by 10\n",
        "tensor * 10"
      ],
      "metadata": {
        "colab": {
          "base_uri": "https://localhost:8080/"
        },
        "id": "j1zd57FBCrSa",
        "outputId": "c601ab0d-6c0e-41c0-b5c2-4c048cd16fe0"
      },
      "execution_count": 281,
      "outputs": [
        {
          "output_type": "execute_result",
          "data": {
            "text/plain": [
              "tensor([10, 20, 30])"
            ]
          },
          "metadata": {},
          "execution_count": 281
        }
      ]
    },
    {
      "cell_type": "code",
      "source": [
        "tensor"
      ],
      "metadata": {
        "colab": {
          "base_uri": "https://localhost:8080/"
        },
        "id": "fIWcST7gC1Fe",
        "outputId": "fa019838-33fc-4459-f104-9f41bb57241c"
      },
      "execution_count": 282,
      "outputs": [
        {
          "output_type": "execute_result",
          "data": {
            "text/plain": [
              "tensor([1, 2, 3])"
            ]
          },
          "metadata": {},
          "execution_count": 282
        }
      ]
    },
    {
      "cell_type": "code",
      "source": [
        "# Try out PyTorch in-built functions\n",
        "torch.mul(tensor, 10)"
      ],
      "metadata": {
        "colab": {
          "base_uri": "https://localhost:8080/"
        },
        "id": "uUlPU5FzC60w",
        "outputId": "243392f3-0332-49f5-c7d0-e51f019f42e1"
      },
      "execution_count": 283,
      "outputs": [
        {
          "output_type": "execute_result",
          "data": {
            "text/plain": [
              "tensor([10, 20, 30])"
            ]
          },
          "metadata": {},
          "execution_count": 283
        }
      ]
    },
    {
      "cell_type": "code",
      "source": [
        "torch.add(tensor,10)"
      ],
      "metadata": {
        "colab": {
          "base_uri": "https://localhost:8080/"
        },
        "id": "bujKYw3aDQJn",
        "outputId": "4082bc8a-9702-4200-e9ee-28bd5bc6c78a"
      },
      "execution_count": 284,
      "outputs": [
        {
          "output_type": "execute_result",
          "data": {
            "text/plain": [
              "tensor([11, 12, 13])"
            ]
          },
          "metadata": {},
          "execution_count": 284
        }
      ]
    },
    {
      "cell_type": "markdown",
      "source": [
        "### Matrix multiplication (Part #1)\n",
        "\n",
        "Two main ways of performing multiplication in neural networks and deep learning.\n",
        "\n",
        "1. Element-wise Multiplication\n",
        "2. Matrix Multiplication (dot prouct)\n",
        "\n",
        "More information on multiplying matrices - https://www.mathsisfun.com/algebra/matrix-multiplying.html#"
      ],
      "metadata": {
        "id": "Hsg8A5klEgyU"
      }
    },
    {
      "cell_type": "code",
      "source": [
        "# Element wise multiplication\n",
        "print(tensor, \"*\", tensor)\n",
        "print(f\"Equals: {tensor * tensor}\")"
      ],
      "metadata": {
        "colab": {
          "base_uri": "https://localhost:8080/"
        },
        "id": "CVxqU1yvDYDo",
        "outputId": "6f261cb3-b53d-47ed-b95c-53168afb2d27"
      },
      "execution_count": 285,
      "outputs": [
        {
          "output_type": "stream",
          "name": "stdout",
          "text": [
            "tensor([1, 2, 3]) * tensor([1, 2, 3])\n",
            "Equals: tensor([1, 4, 9])\n"
          ]
        }
      ]
    },
    {
      "cell_type": "code",
      "source": [
        "# Matrix Multiplication by torch\n",
        "torch.matmul(tensor, tensor)"
      ],
      "metadata": {
        "colab": {
          "base_uri": "https://localhost:8080/"
        },
        "id": "yH-CEAF2PvmZ",
        "outputId": "730b72f7-3433-4608-f343-b67ec6a000d8"
      },
      "execution_count": 286,
      "outputs": [
        {
          "output_type": "execute_result",
          "data": {
            "text/plain": [
              "tensor(14)"
            ]
          },
          "metadata": {},
          "execution_count": 286
        }
      ]
    },
    {
      "cell_type": "code",
      "source": [
        "# Matrix Multiplication by hand\n",
        "1*1 + 2*2 + 3*3"
      ],
      "metadata": {
        "colab": {
          "base_uri": "https://localhost:8080/"
        },
        "id": "43eZNeXZQXsE",
        "outputId": "1134aa46-59db-473f-b630-ca136647d2a8"
      },
      "execution_count": 287,
      "outputs": [
        {
          "output_type": "execute_result",
          "data": {
            "text/plain": [
              "14"
            ]
          },
          "metadata": {},
          "execution_count": 287
        }
      ]
    },
    {
      "cell_type": "code",
      "source": [
        "%%time\n",
        "value = 0\n",
        "for i in range(len(tensor)):\n",
        "  value += tensor[0] * tensor[0]\n",
        "print(value)"
      ],
      "metadata": {
        "colab": {
          "base_uri": "https://localhost:8080/"
        },
        "id": "3CcVBUt0Q2Ej",
        "outputId": "31ba49d2-56db-41f2-acdc-0452e77ac4e6"
      },
      "execution_count": 288,
      "outputs": [
        {
          "output_type": "stream",
          "name": "stdout",
          "text": [
            "tensor(3)\n",
            "CPU times: user 1.83 ms, sys: 0 ns, total: 1.83 ms\n",
            "Wall time: 2.85 ms\n"
          ]
        }
      ]
    },
    {
      "cell_type": "code",
      "source": [
        "%%time\n",
        "torch.matmul(tensor, tensor)"
      ],
      "metadata": {
        "id": "g0FTLjlrRZqT",
        "colab": {
          "base_uri": "https://localhost:8080/"
        },
        "outputId": "2c73decc-c3b0-42f5-e399-fa1f24fb2fcd"
      },
      "execution_count": 289,
      "outputs": [
        {
          "output_type": "stream",
          "name": "stdout",
          "text": [
            "CPU times: user 100 µs, sys: 0 ns, total: 100 µs\n",
            "Wall time: 105 µs\n"
          ]
        },
        {
          "output_type": "execute_result",
          "data": {
            "text/plain": [
              "tensor(14)"
            ]
          },
          "metadata": {},
          "execution_count": 289
        }
      ]
    },
    {
      "cell_type": "markdown",
      "source": [
        "### Matrix Multiplication (Part #2)\n",
        "\n",
        "There are two main rules that performing matrix multiplication needs to stisfy:\n",
        "1.  The **inner dimensions** must match:\n",
        "    *   `(3,2) @ (3,2)` won't work\n",
        "    *   `(2,3) @ (3,2)` will work\n",
        "    *   `(3,2) @ (2,3)` will work\n",
        "\n",
        "    ***Note:*** `@` is a attribute in tensor for multiplying two tensor whereas `tensor.matmul()` is a function. e.g. `tensor1 @ tensor2` `==` `torch.matmul(tensor1, tensor2)`\n",
        "2.  The resulting matrix has the shape of the **outer dimensions**:\n",
        "    *   `(2,3) @ (3,2)` -> `(2,2)`\n",
        "    *   `(3,2) @ (2,3)` -> `(3,3)`\n",
        "\n",
        "#### One of the main errors in matrix multiplication is shape error"
      ],
      "metadata": {
        "id": "KD9D692wfsY-"
      }
    },
    {
      "cell_type": "code",
      "source": [
        "torch.matmul(torch.rand(3,2), torch.rand(3,2)) # error occurs"
      ],
      "metadata": {
        "colab": {
          "base_uri": "https://localhost:8080/",
          "height": 144
        },
        "id": "MG5CwIXhe_Ba",
        "outputId": "5953d688-fc5d-4934-8e84-34aa8d21a21a"
      },
      "execution_count": 290,
      "outputs": [
        {
          "output_type": "error",
          "ename": "RuntimeError",
          "evalue": "mat1 and mat2 shapes cannot be multiplied (3x2 and 3x2)",
          "traceback": [
            "\u001b[0;31m---------------------------------------------------------------------------\u001b[0m",
            "\u001b[0;31mRuntimeError\u001b[0m                              Traceback (most recent call last)",
            "\u001b[0;32m<ipython-input-290-2ce3796d01ab>\u001b[0m in \u001b[0;36m<cell line: 1>\u001b[0;34m()\u001b[0m\n\u001b[0;32m----> 1\u001b[0;31m \u001b[0mtorch\u001b[0m\u001b[0;34m.\u001b[0m\u001b[0mmatmul\u001b[0m\u001b[0;34m(\u001b[0m\u001b[0mtorch\u001b[0m\u001b[0;34m.\u001b[0m\u001b[0mrand\u001b[0m\u001b[0;34m(\u001b[0m\u001b[0;36m3\u001b[0m\u001b[0;34m,\u001b[0m\u001b[0;36m2\u001b[0m\u001b[0;34m)\u001b[0m\u001b[0;34m,\u001b[0m \u001b[0mtorch\u001b[0m\u001b[0;34m.\u001b[0m\u001b[0mrand\u001b[0m\u001b[0;34m(\u001b[0m\u001b[0;36m3\u001b[0m\u001b[0;34m,\u001b[0m\u001b[0;36m2\u001b[0m\u001b[0;34m)\u001b[0m\u001b[0;34m)\u001b[0m \u001b[0;31m# error occurs\u001b[0m\u001b[0;34m\u001b[0m\u001b[0;34m\u001b[0m\u001b[0m\n\u001b[0m",
            "\u001b[0;31mRuntimeError\u001b[0m: mat1 and mat2 shapes cannot be multiplied (3x2 and 3x2)"
          ]
        }
      ]
    },
    {
      "cell_type": "code",
      "source": [
        "torch.matmul(torch.rand(2,3), torch.rand(3,2))"
      ],
      "metadata": {
        "id": "idsqlxdbi0y1",
        "colab": {
          "base_uri": "https://localhost:8080/"
        },
        "outputId": "7c3e06f0-5a1e-4956-f32e-ad77ba5920e5"
      },
      "execution_count": 291,
      "outputs": [
        {
          "output_type": "execute_result",
          "data": {
            "text/plain": [
              "tensor([[0.5228, 0.2683],\n",
              "        [0.4645, 0.2174]])"
            ]
          },
          "metadata": {},
          "execution_count": 291
        }
      ]
    },
    {
      "cell_type": "code",
      "source": [
        "torch.matmul(torch.rand(3,2), torch.rand(2,3))"
      ],
      "metadata": {
        "id": "lSDSJAIVki07",
        "colab": {
          "base_uri": "https://localhost:8080/"
        },
        "outputId": "89f8b8b0-98e4-4c90-9896-d5edaa231dc5"
      },
      "execution_count": 292,
      "outputs": [
        {
          "output_type": "execute_result",
          "data": {
            "text/plain": [
              "tensor([[0.3010, 0.7565, 0.7506],\n",
              "        [0.1790, 0.3208, 0.3774],\n",
              "        [0.2773, 0.3599, 0.5115]])"
            ]
          },
          "metadata": {},
          "execution_count": 292
        }
      ]
    },
    {
      "cell_type": "code",
      "source": [
        "torch.matmul(torch.rand(4,5), torch.rand(5,4))"
      ],
      "metadata": {
        "id": "d6iOTamHk59s",
        "colab": {
          "base_uri": "https://localhost:8080/"
        },
        "outputId": "6ec9242b-92ef-444e-f2be-8c4e4580a4ef"
      },
      "execution_count": 293,
      "outputs": [
        {
          "output_type": "execute_result",
          "data": {
            "text/plain": [
              "tensor([[0.7175, 1.2712, 0.9796, 0.3543],\n",
              "        [1.2868, 1.3543, 1.5265, 0.7105],\n",
              "        [1.6233, 1.3780, 1.7439, 0.9837],\n",
              "        [1.0914, 0.8472, 0.7275, 0.7565]])"
            ]
          },
          "metadata": {},
          "execution_count": 293
        }
      ]
    },
    {
      "cell_type": "code",
      "source": [
        "torch.matmul(torch.rand(10,4), torch.rand(4, 5))"
      ],
      "metadata": {
        "id": "KGOYvozhllNE",
        "colab": {
          "base_uri": "https://localhost:8080/"
        },
        "outputId": "02191ea0-f2a0-4d29-f6c3-2ee823bc0b09"
      },
      "execution_count": 294,
      "outputs": [
        {
          "output_type": "execute_result",
          "data": {
            "text/plain": [
              "tensor([[0.6413, 0.3666, 0.8605, 0.3063, 0.2865],\n",
              "        [0.8382, 0.4616, 0.6116, 0.3690, 0.2914],\n",
              "        [1.5386, 0.9746, 1.1781, 0.3965, 0.5460],\n",
              "        [0.4923, 0.9836, 0.8727, 0.3581, 0.2143],\n",
              "        [0.3666, 0.4217, 1.1480, 0.6203, 0.2476],\n",
              "        [0.8472, 1.2165, 1.7952, 0.6936, 0.4401],\n",
              "        [1.1468, 0.3684, 0.4518, 0.3317, 0.3541],\n",
              "        [1.0752, 0.9899, 1.3261, 0.8488, 0.4309],\n",
              "        [1.0249, 0.7910, 0.8975, 0.5276, 0.3668],\n",
              "        [1.1087, 1.1425, 0.9998, 0.2105, 0.3975]])"
            ]
          },
          "metadata": {},
          "execution_count": 294
        }
      ]
    },
    {
      "cell_type": "code",
      "source": [
        "# if inner dimension match but different outer dimension\n",
        "torch.matmul(torch.rand(10,4), torch.rand(4, 6))"
      ],
      "metadata": {
        "id": "xk8l3FA4lxRb",
        "colab": {
          "base_uri": "https://localhost:8080/"
        },
        "outputId": "ac0baa8e-cc0c-461b-faa4-1defdf70f068"
      },
      "execution_count": 295,
      "outputs": [
        {
          "output_type": "execute_result",
          "data": {
            "text/plain": [
              "tensor([[1.2067, 0.7024, 1.0209, 1.2129, 0.7690, 0.8362],\n",
              "        [1.0927, 0.4975, 1.0449, 1.0973, 0.6689, 0.5595],\n",
              "        [1.9868, 0.7720, 1.2807, 1.8024, 1.3878, 1.2785],\n",
              "        [0.9477, 0.5623, 0.8657, 0.9825, 0.4426, 0.4235],\n",
              "        [1.5266, 0.8317, 1.4144, 1.5308, 1.2431, 1.3580],\n",
              "        [1.1375, 0.3417, 0.5884, 0.9548, 1.0482, 1.0298],\n",
              "        [1.1837, 0.8546, 1.5226, 1.3513, 0.7896, 0.9057],\n",
              "        [1.7514, 0.7080, 1.0428, 1.5822, 1.1176, 1.0232],\n",
              "        [1.1204, 0.7540, 1.1231, 1.1861, 0.7942, 0.9453],\n",
              "        [1.5481, 0.7815, 1.3874, 1.5322, 1.1873, 1.2258]])"
            ]
          },
          "metadata": {},
          "execution_count": 295
        }
      ]
    },
    {
      "cell_type": "markdown",
      "source": [
        "### One of the most common errors in deep learning: shape errors"
      ],
      "metadata": {
        "id": "lOSBAtQwoN9O"
      }
    },
    {
      "cell_type": "markdown",
      "source": [
        "### Matrix Multiplication (Part #3: Dealing with tensor shape errors)\n"
      ],
      "metadata": {
        "id": "klE0pJe33pUZ"
      }
    },
    {
      "cell_type": "code",
      "source": [
        "# Shapes for matrix multiplication\n",
        "tensor_A = torch.tensor([[1,2],\n",
        "                         [3,4],\n",
        "                         [5,6]])\n",
        "tensor_B = torch.tensor([[7,10],\n",
        "                         [8,11],\n",
        "                         [9,12]])\n",
        "\n",
        "#torch.mm(tensor_A, tensor_B) # torch.mm is the same as torch.matmul (it's as an alias for writing less code)\n",
        "torch.matmul(tensor_A, tensor_B)"
      ],
      "metadata": {
        "colab": {
          "base_uri": "https://localhost:8080/",
          "height": 180
        },
        "id": "kgYxeIih39of",
        "outputId": "8e0d80e4-a6c3-47ed-c6ed-cc4aa128c28b"
      },
      "execution_count": 296,
      "outputs": [
        {
          "output_type": "error",
          "ename": "RuntimeError",
          "evalue": "mat1 and mat2 shapes cannot be multiplied (3x2 and 3x2)",
          "traceback": [
            "\u001b[0;31m---------------------------------------------------------------------------\u001b[0m",
            "\u001b[0;31mRuntimeError\u001b[0m                              Traceback (most recent call last)",
            "\u001b[0;32m<ipython-input-296-d405c4ee3609>\u001b[0m in \u001b[0;36m<cell line: 10>\u001b[0;34m()\u001b[0m\n\u001b[1;32m      8\u001b[0m \u001b[0;34m\u001b[0m\u001b[0m\n\u001b[1;32m      9\u001b[0m \u001b[0;31m#torch.mm(tensor_A, tensor_B) # torch.mm is the same as torch.matmul (it's as an alias for writing less code)\u001b[0m\u001b[0;34m\u001b[0m\u001b[0;34m\u001b[0m\u001b[0m\n\u001b[0;32m---> 10\u001b[0;31m \u001b[0mtorch\u001b[0m\u001b[0;34m.\u001b[0m\u001b[0mmatmul\u001b[0m\u001b[0;34m(\u001b[0m\u001b[0mtensor_A\u001b[0m\u001b[0;34m,\u001b[0m \u001b[0mtensor_B\u001b[0m\u001b[0;34m)\u001b[0m\u001b[0;34m\u001b[0m\u001b[0;34m\u001b[0m\u001b[0m\n\u001b[0m",
            "\u001b[0;31mRuntimeError\u001b[0m: mat1 and mat2 shapes cannot be multiplied (3x2 and 3x2)"
          ]
        }
      ]
    },
    {
      "cell_type": "code",
      "source": [
        "tensor_A.shape, tensor_B.shape"
      ],
      "metadata": {
        "id": "ma0K8fI64WRI",
        "colab": {
          "base_uri": "https://localhost:8080/"
        },
        "outputId": "03605b44-8d7c-41d6-ff9a-48d93a11aade"
      },
      "execution_count": 297,
      "outputs": [
        {
          "output_type": "execute_result",
          "data": {
            "text/plain": [
              "(torch.Size([3, 2]), torch.Size([3, 2]))"
            ]
          },
          "metadata": {},
          "execution_count": 297
        }
      ]
    },
    {
      "cell_type": "markdown",
      "source": [
        "To fix our tensor shape issues, we can manipulate the shape of one of our tensors using **transpose**.\n",
        "\n",
        "**Note:** A **transpose** switches the axes or dimensions of a given tensor"
      ],
      "metadata": {
        "id": "epP9UNsn5S4K"
      }
    },
    {
      "cell_type": "code",
      "source": [
        "tensor_B, tensor_B.shape"
      ],
      "metadata": {
        "id": "YTytkZMh6NBn",
        "colab": {
          "base_uri": "https://localhost:8080/"
        },
        "outputId": "0d3c4165-ee0d-4fbb-c15b-27a0b0bf5ccc"
      },
      "execution_count": 298,
      "outputs": [
        {
          "output_type": "execute_result",
          "data": {
            "text/plain": [
              "(tensor([[ 7, 10],\n",
              "         [ 8, 11],\n",
              "         [ 9, 12]]),\n",
              " torch.Size([3, 2]))"
            ]
          },
          "metadata": {},
          "execution_count": 298
        }
      ]
    },
    {
      "cell_type": "code",
      "source": [
        "tensor_B.t() # transpose via function"
      ],
      "metadata": {
        "id": "HKlFUDpc_sRe",
        "colab": {
          "base_uri": "https://localhost:8080/"
        },
        "outputId": "934c96ab-9f48-4821-e739-27d53512d540"
      },
      "execution_count": 299,
      "outputs": [
        {
          "output_type": "execute_result",
          "data": {
            "text/plain": [
              "tensor([[ 7,  8,  9],\n",
              "        [10, 11, 12]])"
            ]
          },
          "metadata": {},
          "execution_count": 299
        }
      ]
    },
    {
      "cell_type": "code",
      "source": [
        "tensor_B.T, tensor_B.T.shape #tranpose via attribute"
      ],
      "metadata": {
        "colab": {
          "base_uri": "https://localhost:8080/"
        },
        "id": "zHor28N15LLi",
        "outputId": "c217fe6e-03d4-4571-8078-5804b604b3bb"
      },
      "execution_count": 300,
      "outputs": [
        {
          "output_type": "execute_result",
          "data": {
            "text/plain": [
              "(tensor([[ 7,  8,  9],\n",
              "         [10, 11, 12]]),\n",
              " torch.Size([2, 3]))"
            ]
          },
          "metadata": {},
          "execution_count": 300
        }
      ]
    },
    {
      "cell_type": "code",
      "source": [
        "# second approach to make transpose through function\n",
        "torch.transpose(tensor_B, 0, 1) # reference:: https://pytorch.org/docs/stable/generated/torch.transpose.html"
      ],
      "metadata": {
        "colab": {
          "base_uri": "https://localhost:8080/"
        },
        "id": "x9Ku3HOT57sS",
        "outputId": "5a5ecc1d-b816-404b-ce64-b4a1535e8a14"
      },
      "execution_count": 301,
      "outputs": [
        {
          "output_type": "execute_result",
          "data": {
            "text/plain": [
              "tensor([[ 7,  8,  9],\n",
              "        [10, 11, 12]])"
            ]
          },
          "metadata": {},
          "execution_count": 301
        }
      ]
    },
    {
      "cell_type": "code",
      "source": [
        "# The matrix multiplication operation works when tensorB is transposed\n",
        "print(f\"Original shapes: tensor_A = {tensor_A.shape}, tensor_B = {tensor_B.shape}\")\n",
        "print(f\"New shapes: tensor_A = {tensor_A.shape} (same as above), tensor_B.T = {tensor_B.T.shape}\")\n",
        "print(f\"Multiplying: {tensor_A.shape} @ {tensor_B.T.shape} <- inner dimensions must match\")\n",
        "print(f\"Output: \\n\")\n",
        "output = torch.matmul(tensor_A, tensor_B.T)\n",
        "print(output)\n",
        "print(f\"\\nOutput shape: {output.shape}\")"
      ],
      "metadata": {
        "colab": {
          "base_uri": "https://localhost:8080/"
        },
        "id": "Hp5HQ2Fy59SI",
        "outputId": "1d55b71a-bc06-4e28-f30b-fa43fc4c2afa"
      },
      "execution_count": 302,
      "outputs": [
        {
          "output_type": "stream",
          "name": "stdout",
          "text": [
            "Original shapes: tensor_A = torch.Size([3, 2]), tensor_B = torch.Size([3, 2])\n",
            "New shapes: tensor_A = torch.Size([3, 2]) (same as above), tensor_B.T = torch.Size([2, 3])\n",
            "Multiplying: torch.Size([3, 2]) @ torch.Size([2, 3]) <- inner dimensions must match\n",
            "Output: \n",
            "\n",
            "tensor([[ 27,  30,  33],\n",
            "        [ 61,  68,  75],\n",
            "        [ 95, 106, 117]])\n",
            "\n",
            "Output shape: torch.Size([3, 3])\n"
          ]
        }
      ]
    },
    {
      "cell_type": "markdown",
      "source": [
        "# Finding the min, max, mean, sum etc (tensor aggregation)"
      ],
      "metadata": {
        "id": "Y75g8h6vf8SQ"
      }
    },
    {
      "cell_type": "code",
      "source": [
        "# Create a tensor\n",
        "x = torch.arange(0, 100, 10)\n",
        "x, x.dtype"
      ],
      "metadata": {
        "id": "DCvyY-gf7hyn",
        "colab": {
          "base_uri": "https://localhost:8080/"
        },
        "outputId": "2340c599-36e1-4df6-b8cc-5253259f0a20"
      },
      "execution_count": 303,
      "outputs": [
        {
          "output_type": "execute_result",
          "data": {
            "text/plain": [
              "(tensor([ 0, 10, 20, 30, 40, 50, 60, 70, 80, 90]), torch.int64)"
            ]
          },
          "metadata": {},
          "execution_count": 303
        }
      ]
    },
    {
      "cell_type": "code",
      "source": [
        "# Find the min\n",
        "torch.min(x), x.min()"
      ],
      "metadata": {
        "id": "UOcc4dI4_hNZ",
        "colab": {
          "base_uri": "https://localhost:8080/"
        },
        "outputId": "c5aaeb90-a026-464e-856b-3695656d872a"
      },
      "execution_count": 304,
      "outputs": [
        {
          "output_type": "execute_result",
          "data": {
            "text/plain": [
              "(tensor(0), tensor(0))"
            ]
          },
          "metadata": {},
          "execution_count": 304
        }
      ]
    },
    {
      "cell_type": "code",
      "source": [
        "# Find the max\n",
        "torch.max(x), x.max()"
      ],
      "metadata": {
        "colab": {
          "base_uri": "https://localhost:8080/"
        },
        "id": "inBdt7SBgn94",
        "outputId": "89de5962-c64b-4543-abf8-2e99d5428433"
      },
      "execution_count": 305,
      "outputs": [
        {
          "output_type": "execute_result",
          "data": {
            "text/plain": [
              "(tensor(90), tensor(90))"
            ]
          },
          "metadata": {},
          "execution_count": 305
        }
      ]
    },
    {
      "cell_type": "code",
      "source": [
        "# Find the mean **note: the torch.mean() function requires a tensor of float32 datatype to work\n",
        "torch.mean(x.type(torch.float32)), x.type(torch.float32).mean()"
      ],
      "metadata": {
        "colab": {
          "base_uri": "https://localhost:8080/"
        },
        "id": "8AF_seXIgsJA",
        "outputId": "d4d242fd-4543-4b0e-fb13-6149ba8ca3ca"
      },
      "execution_count": 306,
      "outputs": [
        {
          "output_type": "execute_result",
          "data": {
            "text/plain": [
              "(tensor(45.), tensor(45.))"
            ]
          },
          "metadata": {},
          "execution_count": 306
        }
      ]
    },
    {
      "cell_type": "code",
      "source": [
        "# Find the sum\n",
        "torch.sum(x), x.sum()"
      ],
      "metadata": {
        "colab": {
          "base_uri": "https://localhost:8080/"
        },
        "id": "UYoG5ZO-hOpw",
        "outputId": "49645b5e-3e87-4d2f-c41f-73fef90c179a"
      },
      "execution_count": 307,
      "outputs": [
        {
          "output_type": "execute_result",
          "data": {
            "text/plain": [
              "(tensor(450), tensor(450))"
            ]
          },
          "metadata": {},
          "execution_count": 307
        }
      ]
    },
    {
      "cell_type": "markdown",
      "source": [
        "# Finding the positional min and max of tensors"
      ],
      "metadata": {
        "id": "KmRNRSILlDLy"
      }
    },
    {
      "cell_type": "code",
      "source": [
        "x = torch.arange(1, 100, 10)\n",
        "x"
      ],
      "metadata": {
        "colab": {
          "base_uri": "https://localhost:8080/"
        },
        "id": "sKm1Abp_jLZ1",
        "outputId": "ee1bc0bc-4e9e-4be6-964f-7caa8b555543"
      },
      "execution_count": 308,
      "outputs": [
        {
          "output_type": "execute_result",
          "data": {
            "text/plain": [
              "tensor([ 1, 11, 21, 31, 41, 51, 61, 71, 81, 91])"
            ]
          },
          "metadata": {},
          "execution_count": 308
        }
      ]
    },
    {
      "cell_type": "code",
      "source": [
        "# Find the position in tensor that has the minimum value with `argmin()` -> returns index position of target tensor where the minimum value occurs.\n",
        "x.argmin()"
      ],
      "metadata": {
        "colab": {
          "base_uri": "https://localhost:8080/"
        },
        "id": "bX4l_JEaleTx",
        "outputId": "6d9fd3bc-15bc-4da6-a7b7-289d3b5f7d59"
      },
      "execution_count": 309,
      "outputs": [
        {
          "output_type": "execute_result",
          "data": {
            "text/plain": [
              "tensor(0)"
            ]
          },
          "metadata": {},
          "execution_count": 309
        }
      ]
    },
    {
      "cell_type": "code",
      "source": [
        "# check the value of the position\n",
        "print(f\"x.argmin().item() = {x.argmin().item()}\\n\")\n",
        "x[x.argmin().item()]"
      ],
      "metadata": {
        "colab": {
          "base_uri": "https://localhost:8080/"
        },
        "id": "v_P29b0plrH4",
        "outputId": "e75a6268-ec20-4b16-a63c-a0bef0516851"
      },
      "execution_count": 310,
      "outputs": [
        {
          "output_type": "stream",
          "name": "stdout",
          "text": [
            "x.argmin().item() = 0\n",
            "\n"
          ]
        },
        {
          "output_type": "execute_result",
          "data": {
            "text/plain": [
              "tensor(1)"
            ]
          },
          "metadata": {},
          "execution_count": 310
        }
      ]
    },
    {
      "cell_type": "code",
      "source": [
        "# Find the position in tensor that has the maximum value with `argmax()`\n",
        "x.argmax()"
      ],
      "metadata": {
        "colab": {
          "base_uri": "https://localhost:8080/"
        },
        "id": "Db5o-MLml3W5",
        "outputId": "17763f23-2c76-4852-d0d4-84276fbac9de"
      },
      "execution_count": 311,
      "outputs": [
        {
          "output_type": "execute_result",
          "data": {
            "text/plain": [
              "tensor(9)"
            ]
          },
          "metadata": {},
          "execution_count": 311
        }
      ]
    },
    {
      "cell_type": "code",
      "source": [
        "# check the value of the position\n",
        "print(f\"x.armax().item() = {x.argmax().item()}\\n\")\n",
        "x[x.argmax().item()]"
      ],
      "metadata": {
        "colab": {
          "base_uri": "https://localhost:8080/"
        },
        "id": "Nd3AtMXtm7wX",
        "outputId": "5f0b1aa1-7b1a-4325-afa3-22f47e15069b"
      },
      "execution_count": 312,
      "outputs": [
        {
          "output_type": "stream",
          "name": "stdout",
          "text": [
            "x.armax().item() = 9\n",
            "\n"
          ]
        },
        {
          "output_type": "execute_result",
          "data": {
            "text/plain": [
              "tensor(91)"
            ]
          },
          "metadata": {},
          "execution_count": 312
        }
      ]
    },
    {
      "cell_type": "markdown",
      "source": [
        "# Reshaping, viewing, stacking, squeezing and unsqueezing tensors\n",
        "\n",
        "* Reshaping - reshapes an input tensor to a defined shape\n",
        "* View - Return a view of an input tensor of certain shape but keep the same memory as the original tensor\n",
        "* Stacking - Combine multiple tensors on top of each other (vstack) or side by side (hstack)\n",
        "    * stack - https://pytorch.org/docs/stable/generated/torch.stack.html\n",
        "    * vstack - https://pytorch.org/docs/stable/generated/torch.vstack.html\n",
        "    * hstack - https://pytorch.org/docs/stable/generated/torch.hstack.html\n",
        "* Squeeze - removes all `1` dimensions from a tensor\n",
        "* Unsqueeze - add a `1` dimension to a target tensor\n",
        "* Permute - Return a view of the input with dimension permuted (swapped) in a certain way"
      ],
      "metadata": {
        "id": "Cqweg4gfng23"
      }
    },
    {
      "cell_type": "code",
      "source": [
        "#Let's create a tensor\n",
        "\n",
        "import torch\n",
        "x = torch.arange(1., 10)\n",
        "x, x.shape"
      ],
      "metadata": {
        "id": "jKKiKUHRnkL6",
        "colab": {
          "base_uri": "https://localhost:8080/"
        },
        "outputId": "ba6432cd-8b53-4d50-f037-b34e48823df4"
      },
      "execution_count": 313,
      "outputs": [
        {
          "output_type": "execute_result",
          "data": {
            "text/plain": [
              "(tensor([1., 2., 3., 4., 5., 6., 7., 8., 9.]), torch.Size([9]))"
            ]
          },
          "metadata": {},
          "execution_count": 313
        }
      ]
    },
    {
      "cell_type": "code",
      "source": [
        "# Add an extra dimension\n",
        "x_reshaped = x.reshape(1, 7)\n",
        "x_reshaped, x_reshaped.shape"
      ],
      "metadata": {
        "colab": {
          "base_uri": "https://localhost:8080/",
          "height": 180
        },
        "id": "U-urDARjqSvk",
        "outputId": "7f0ed4e7-32d2-4b44-f4b5-fdb311b902a5"
      },
      "execution_count": 314,
      "outputs": [
        {
          "output_type": "error",
          "ename": "RuntimeError",
          "evalue": "shape '[1, 7]' is invalid for input of size 9",
          "traceback": [
            "\u001b[0;31m---------------------------------------------------------------------------\u001b[0m",
            "\u001b[0;31mRuntimeError\u001b[0m                              Traceback (most recent call last)",
            "\u001b[0;32m<ipython-input-314-719095e0e3fc>\u001b[0m in \u001b[0;36m<cell line: 2>\u001b[0;34m()\u001b[0m\n\u001b[1;32m      1\u001b[0m \u001b[0;31m# Add an extra dimension\u001b[0m\u001b[0;34m\u001b[0m\u001b[0;34m\u001b[0m\u001b[0m\n\u001b[0;32m----> 2\u001b[0;31m \u001b[0mx_reshaped\u001b[0m \u001b[0;34m=\u001b[0m \u001b[0mx\u001b[0m\u001b[0;34m.\u001b[0m\u001b[0mreshape\u001b[0m\u001b[0;34m(\u001b[0m\u001b[0;36m1\u001b[0m\u001b[0;34m,\u001b[0m \u001b[0;36m7\u001b[0m\u001b[0;34m)\u001b[0m\u001b[0;34m\u001b[0m\u001b[0;34m\u001b[0m\u001b[0m\n\u001b[0m\u001b[1;32m      3\u001b[0m \u001b[0mx_reshaped\u001b[0m\u001b[0;34m,\u001b[0m \u001b[0mx_reshaped\u001b[0m\u001b[0;34m.\u001b[0m\u001b[0mshape\u001b[0m\u001b[0;34m\u001b[0m\u001b[0;34m\u001b[0m\u001b[0m\n",
            "\u001b[0;31mRuntimeError\u001b[0m: shape '[1, 7]' is invalid for input of size 9"
          ]
        }
      ]
    },
    {
      "cell_type": "code",
      "source": [
        "x_reshaped = x.reshape(1, 9)\n",
        "x_reshaped, x_reshaped.shape"
      ],
      "metadata": {
        "colab": {
          "base_uri": "https://localhost:8080/"
        },
        "id": "BiQIGFq3ql1E",
        "outputId": "2ea0f395-e2ab-4050-a1ca-ec067f76f7f5"
      },
      "execution_count": 315,
      "outputs": [
        {
          "output_type": "execute_result",
          "data": {
            "text/plain": [
              "(tensor([[1., 2., 3., 4., 5., 6., 7., 8., 9.]]), torch.Size([1, 9]))"
            ]
          },
          "metadata": {},
          "execution_count": 315
        }
      ]
    },
    {
      "cell_type": "code",
      "source": [
        "x_reshaped = x.reshape(2, 9)\n",
        "x_reshaped, x_reshaped.shape"
      ],
      "metadata": {
        "colab": {
          "base_uri": "https://localhost:8080/",
          "height": 162
        },
        "id": "mk_pkarBq117",
        "outputId": "a1734329-0417-4884-8ef8-bead5e7fe3e9"
      },
      "execution_count": 316,
      "outputs": [
        {
          "output_type": "error",
          "ename": "RuntimeError",
          "evalue": "shape '[2, 9]' is invalid for input of size 9",
          "traceback": [
            "\u001b[0;31m---------------------------------------------------------------------------\u001b[0m",
            "\u001b[0;31mRuntimeError\u001b[0m                              Traceback (most recent call last)",
            "\u001b[0;32m<ipython-input-316-48124b44f44c>\u001b[0m in \u001b[0;36m<cell line: 1>\u001b[0;34m()\u001b[0m\n\u001b[0;32m----> 1\u001b[0;31m \u001b[0mx_reshaped\u001b[0m \u001b[0;34m=\u001b[0m \u001b[0mx\u001b[0m\u001b[0;34m.\u001b[0m\u001b[0mreshape\u001b[0m\u001b[0;34m(\u001b[0m\u001b[0;36m2\u001b[0m\u001b[0;34m,\u001b[0m \u001b[0;36m9\u001b[0m\u001b[0;34m)\u001b[0m\u001b[0;34m\u001b[0m\u001b[0;34m\u001b[0m\u001b[0m\n\u001b[0m\u001b[1;32m      2\u001b[0m \u001b[0mx_reshaped\u001b[0m\u001b[0;34m,\u001b[0m \u001b[0mx_reshaped\u001b[0m\u001b[0;34m.\u001b[0m\u001b[0mshape\u001b[0m\u001b[0;34m\u001b[0m\u001b[0;34m\u001b[0m\u001b[0m\n",
            "\u001b[0;31mRuntimeError\u001b[0m: shape '[2, 9]' is invalid for input of size 9"
          ]
        }
      ]
    },
    {
      "cell_type": "code",
      "source": [
        "x_reshaped = x.reshape(0, 9)\n",
        "x_reshaped, x_reshaped.shape"
      ],
      "metadata": {
        "id": "hmE_SDfUq9ue"
      },
      "execution_count": null,
      "outputs": []
    },
    {
      "cell_type": "code",
      "source": [
        "x_reshaped = x.reshape(9, 1)\n",
        "x_reshaped, x_reshaped.shape"
      ],
      "metadata": {
        "id": "FO3m_SyrrNu8"
      },
      "execution_count": null,
      "outputs": []
    },
    {
      "cell_type": "code",
      "source": [
        "# exercise\n",
        "y = torch.arange(1., 15)\n",
        "y, y.shape"
      ],
      "metadata": {
        "id": "tSm9mWvUrP0K"
      },
      "execution_count": null,
      "outputs": []
    },
    {
      "cell_type": "code",
      "source": [
        "y_reshaped = y.reshape(2,7) # here,, 2x7 or 7x2 (any other combination of two number) = size of the y tensor(which is 14) *required to match\n",
        "y_reshaped, y_reshaped.shape"
      ],
      "metadata": {
        "id": "KkG3As81tJE8",
        "colab": {
          "base_uri": "https://localhost:8080/"
        },
        "outputId": "64d8764f-ad80-4050-fe61-cacf8145bf6f"
      },
      "execution_count": 317,
      "outputs": [
        {
          "output_type": "execute_result",
          "data": {
            "text/plain": [
              "(tensor([[ 1.,  2.,  3.,  4.,  5.,  6.,  7.],\n",
              "         [ 8.,  9., 10., 11., 12., 13., 14.]]),\n",
              " torch.Size([2, 7]))"
            ]
          },
          "metadata": {},
          "execution_count": 317
        }
      ]
    },
    {
      "cell_type": "code",
      "source": [
        "# Change the view\n",
        "z = x.view(1, 9)\n",
        "z, z.shape"
      ],
      "metadata": {
        "colab": {
          "base_uri": "https://localhost:8080/"
        },
        "id": "I5JFBRoIr6JT",
        "outputId": "4582d5e6-41c7-4cf4-e425-c439b6612654"
      },
      "execution_count": 318,
      "outputs": [
        {
          "output_type": "execute_result",
          "data": {
            "text/plain": [
              "(tensor([[1., 2., 3., 4., 5., 6., 7., 8., 9.]]), torch.Size([1, 9]))"
            ]
          },
          "metadata": {},
          "execution_count": 318
        }
      ]
    },
    {
      "cell_type": "code",
      "source": [
        "# Change z changes x (because a view of a tensor shares the same memory as the original input)\n",
        "z[:, 0] = 5\n",
        "z, x"
      ],
      "metadata": {
        "colab": {
          "base_uri": "https://localhost:8080/"
        },
        "id": "nVP7W8-ptF5r",
        "outputId": "34155877-7557-4e22-ec2c-988ebded8bb3"
      },
      "execution_count": 319,
      "outputs": [
        {
          "output_type": "execute_result",
          "data": {
            "text/plain": [
              "(tensor([[5., 2., 3., 4., 5., 6., 7., 8., 9.]]),\n",
              " tensor([5., 2., 3., 4., 5., 6., 7., 8., 9.]))"
            ]
          },
          "metadata": {},
          "execution_count": 319
        }
      ]
    },
    {
      "cell_type": "code",
      "source": [
        "# Stack tensors on top of each other\n",
        "x_stacked = torch.stack([x, x, x, x], dim=0)\n",
        "x_stacked"
      ],
      "metadata": {
        "colab": {
          "base_uri": "https://localhost:8080/"
        },
        "id": "_gH4mMeztYwS",
        "outputId": "0d10685f-714a-4800-83ad-d9647cba574b"
      },
      "execution_count": 320,
      "outputs": [
        {
          "output_type": "execute_result",
          "data": {
            "text/plain": [
              "tensor([[5., 2., 3., 4., 5., 6., 7., 8., 9.],\n",
              "        [5., 2., 3., 4., 5., 6., 7., 8., 9.],\n",
              "        [5., 2., 3., 4., 5., 6., 7., 8., 9.],\n",
              "        [5., 2., 3., 4., 5., 6., 7., 8., 9.]])"
            ]
          },
          "metadata": {},
          "execution_count": 320
        }
      ]
    },
    {
      "cell_type": "code",
      "source": [
        "x_stacked = torch.stack([x, x, x, x], dim=1)\n",
        "x_stacked"
      ],
      "metadata": {
        "colab": {
          "base_uri": "https://localhost:8080/"
        },
        "id": "QdOrXdZnt2zJ",
        "outputId": "d739f66e-32d0-461b-f519-b56bca250eb2"
      },
      "execution_count": 321,
      "outputs": [
        {
          "output_type": "execute_result",
          "data": {
            "text/plain": [
              "tensor([[5., 5., 5., 5.],\n",
              "        [2., 2., 2., 2.],\n",
              "        [3., 3., 3., 3.],\n",
              "        [4., 4., 4., 4.],\n",
              "        [5., 5., 5., 5.],\n",
              "        [6., 6., 6., 6.],\n",
              "        [7., 7., 7., 7.],\n",
              "        [8., 8., 8., 8.],\n",
              "        [9., 9., 9., 9.]])"
            ]
          },
          "metadata": {},
          "execution_count": 321
        }
      ]
    },
    {
      "cell_type": "code",
      "source": [
        "x_stacked = torch.stack([x, x, x, x], dim=2)\n",
        "x_stacked"
      ],
      "metadata": {
        "colab": {
          "base_uri": "https://localhost:8080/",
          "height": 162
        },
        "id": "_LNpsjGSuDtq",
        "outputId": "dbf6c680-7cb0-4404-f733-0d7d69f1e475"
      },
      "execution_count": 322,
      "outputs": [
        {
          "output_type": "error",
          "ename": "IndexError",
          "evalue": "Dimension out of range (expected to be in range of [-2, 1], but got 2)",
          "traceback": [
            "\u001b[0;31m---------------------------------------------------------------------------\u001b[0m",
            "\u001b[0;31mIndexError\u001b[0m                                Traceback (most recent call last)",
            "\u001b[0;32m<ipython-input-322-c3fffde45383>\u001b[0m in \u001b[0;36m<cell line: 1>\u001b[0;34m()\u001b[0m\n\u001b[0;32m----> 1\u001b[0;31m \u001b[0mx_stacked\u001b[0m \u001b[0;34m=\u001b[0m \u001b[0mtorch\u001b[0m\u001b[0;34m.\u001b[0m\u001b[0mstack\u001b[0m\u001b[0;34m(\u001b[0m\u001b[0;34m[\u001b[0m\u001b[0mx\u001b[0m\u001b[0;34m,\u001b[0m \u001b[0mx\u001b[0m\u001b[0;34m,\u001b[0m \u001b[0mx\u001b[0m\u001b[0;34m,\u001b[0m \u001b[0mx\u001b[0m\u001b[0;34m]\u001b[0m\u001b[0;34m,\u001b[0m \u001b[0mdim\u001b[0m\u001b[0;34m=\u001b[0m\u001b[0;36m2\u001b[0m\u001b[0;34m)\u001b[0m\u001b[0;34m\u001b[0m\u001b[0;34m\u001b[0m\u001b[0m\n\u001b[0m\u001b[1;32m      2\u001b[0m \u001b[0mx_stacked\u001b[0m\u001b[0;34m\u001b[0m\u001b[0;34m\u001b[0m\u001b[0m\n",
            "\u001b[0;31mIndexError\u001b[0m: Dimension out of range (expected to be in range of [-2, 1], but got 2)"
          ]
        }
      ]
    },
    {
      "cell_type": "markdown",
      "source": [
        "# Squeezing, unsqueezing and permuting tensors\n",
        "`torch.squeeze()` - removes all single dimensions from a target tensor\n",
        "\n",
        "For example, if input is of shape: (A×1×B×C×1×D)(A×1×B×C×1×D) then the input.squeeze() will be of shape: (A×B×C×D)(A×B×C×D).\n",
        "\n",
        "When dim is given, a squeeze operation is done only in the given dimension(s). If input is of shape: (A×1×B)(A×1×B), squeeze(input, 0) leaves the tensor unchanged, but squeeze(input, 1) will squeeze the tensor to the shape (A×B)(A×B).\n",
        "\n",
        "**note:** *The returned tensor shares the storage with the input tensor, so changing the contents of one will change the contents of the other.*\n",
        "\n",
        "source: https://pytorch.org/docs/stable/generated/torch.squeeze.html"
      ],
      "metadata": {
        "id": "o-CwtfPW1YCU"
      }
    },
    {
      "cell_type": "code",
      "source": [
        "a_reshaped = x_reshaped.reshape(1,9)\n",
        "a_reshaped"
      ],
      "metadata": {
        "id": "qiP5hK26uxQK"
      },
      "execution_count": null,
      "outputs": []
    },
    {
      "cell_type": "code",
      "source": [
        "a_reshaped.shape"
      ],
      "metadata": {
        "colab": {
          "base_uri": "https://localhost:8080/"
        },
        "id": "Coqrq4zQ2gXR",
        "outputId": "3bd0cd78-c3c7-498e-f4e5-45464b070829"
      },
      "execution_count": 323,
      "outputs": [
        {
          "output_type": "execute_result",
          "data": {
            "text/plain": [
              "torch.Size([1, 9])"
            ]
          },
          "metadata": {},
          "execution_count": 323
        }
      ]
    },
    {
      "cell_type": "code",
      "source": [
        "a_reshaped.squeeze()"
      ],
      "metadata": {
        "colab": {
          "base_uri": "https://localhost:8080/"
        },
        "id": "RTPHyvVJ28gq",
        "outputId": "4d9ca321-a1d9-4c97-b746-0f80704bb2cc"
      },
      "execution_count": 324,
      "outputs": [
        {
          "output_type": "execute_result",
          "data": {
            "text/plain": [
              "tensor([5., 2., 3., 4., 5., 6., 7., 8., 9.])"
            ]
          },
          "metadata": {},
          "execution_count": 324
        }
      ]
    },
    {
      "cell_type": "code",
      "source": [
        "a_reshaped.squeeze().shape"
      ],
      "metadata": {
        "colab": {
          "base_uri": "https://localhost:8080/"
        },
        "id": "wdpeUFQU3DYZ",
        "outputId": "1139d6bf-c21a-4a37-f034-b437f5c73741"
      },
      "execution_count": 325,
      "outputs": [
        {
          "output_type": "execute_result",
          "data": {
            "text/plain": [
              "torch.Size([9])"
            ]
          },
          "metadata": {},
          "execution_count": 325
        }
      ]
    },
    {
      "cell_type": "code",
      "source": [
        "#  removes all of the 1 from the input tensor\n",
        "eg_tensor = torch.rand(3,1,4,2,6, 1, 8)\n",
        "eg_tensor"
      ],
      "metadata": {
        "colab": {
          "base_uri": "https://localhost:8080/"
        },
        "id": "uL7iXSqv3Nd5",
        "outputId": "2d7a5fed-c3d6-4431-f45b-fbd3c8fbd7e9"
      },
      "execution_count": 326,
      "outputs": [
        {
          "output_type": "execute_result",
          "data": {
            "text/plain": [
              "tensor([[[[[[[4.5412e-01, 6.2239e-01, 9.2387e-01,  ..., 8.8782e-01,\n",
              "              5.5923e-01, 4.4748e-01]],\n",
              "\n",
              "            [[1.5281e-01, 8.7269e-01, 3.8815e-01,  ..., 1.5923e-01,\n",
              "              2.8127e-01, 9.6764e-01]],\n",
              "\n",
              "            [[7.3377e-01, 5.9014e-01, 3.3150e-01,  ..., 4.2262e-01,\n",
              "              5.2518e-01, 4.5322e-01]],\n",
              "\n",
              "            [[7.1227e-01, 2.7569e-01, 6.2408e-01,  ..., 6.7718e-01,\n",
              "              2.6227e-01, 1.7994e-01]],\n",
              "\n",
              "            [[3.5661e-02, 3.7577e-01, 2.3761e-01,  ..., 7.8902e-01,\n",
              "              8.6207e-01, 8.2930e-01]],\n",
              "\n",
              "            [[6.8461e-01, 7.7481e-01, 7.7046e-01,  ..., 1.5377e-01,\n",
              "              4.5443e-01, 3.2902e-01]]],\n",
              "\n",
              "\n",
              "           [[[9.7856e-01, 4.6083e-01, 3.2024e-01,  ..., 7.2285e-01,\n",
              "              8.5437e-01, 4.9992e-01]],\n",
              "\n",
              "            [[7.0010e-01, 3.0996e-01, 6.1939e-01,  ..., 3.2384e-01,\n",
              "              3.1408e-01, 8.3881e-01]],\n",
              "\n",
              "            [[9.0624e-01, 6.6793e-01, 4.0128e-01,  ..., 9.1426e-01,\n",
              "              9.5592e-01, 1.3458e-01]],\n",
              "\n",
              "            [[6.9467e-01, 7.5709e-01, 5.3009e-01,  ..., 4.8532e-01,\n",
              "              1.6864e-01, 4.5913e-01]],\n",
              "\n",
              "            [[1.4708e-01, 9.9886e-01, 1.7581e-02,  ..., 1.0508e-01,\n",
              "              6.1256e-01, 6.5294e-01]],\n",
              "\n",
              "            [[1.1951e-01, 1.0083e-01, 9.7005e-02,  ..., 2.7937e-01,\n",
              "              9.4373e-01, 2.3159e-01]]]],\n",
              "\n",
              "\n",
              "\n",
              "          [[[[4.6623e-01, 9.8785e-01, 1.1699e-01,  ..., 2.3351e-01,\n",
              "              8.8282e-01, 3.5192e-01]],\n",
              "\n",
              "            [[5.4215e-01, 4.4938e-01, 2.4290e-01,  ..., 1.0014e-01,\n",
              "              3.3143e-01, 6.1412e-01]],\n",
              "\n",
              "            [[1.6885e-01, 7.3088e-01, 7.1403e-01,  ..., 8.9530e-01,\n",
              "              9.1461e-01, 3.7047e-01]],\n",
              "\n",
              "            [[6.7404e-01, 7.8608e-02, 6.5887e-01,  ..., 8.2317e-01,\n",
              "              1.7773e-01, 7.7425e-01]],\n",
              "\n",
              "            [[8.9641e-01, 6.2869e-02, 1.9816e-01,  ..., 1.6147e-01,\n",
              "              9.0533e-01, 9.5482e-01]],\n",
              "\n",
              "            [[4.6856e-01, 1.5122e-01, 5.7290e-01,  ..., 5.7585e-01,\n",
              "              2.6019e-01, 4.5480e-02]]],\n",
              "\n",
              "\n",
              "           [[[9.3244e-01, 1.6014e-01, 3.5478e-01,  ..., 5.9235e-01,\n",
              "              1.4543e-01, 7.0944e-01]],\n",
              "\n",
              "            [[9.9557e-01, 4.4467e-01, 8.8904e-01,  ..., 9.4193e-01,\n",
              "              6.6093e-01, 1.0311e-02]],\n",
              "\n",
              "            [[8.5131e-01, 3.8823e-01, 7.5814e-01,  ..., 7.3130e-01,\n",
              "              3.7631e-01, 8.9142e-01]],\n",
              "\n",
              "            [[3.2573e-01, 3.1752e-01, 9.4590e-01,  ..., 4.2403e-01,\n",
              "              1.0711e-01, 4.0320e-01]],\n",
              "\n",
              "            [[5.1721e-02, 8.5635e-01, 5.2032e-01,  ..., 9.4685e-01,\n",
              "              9.6990e-01, 8.7521e-01]],\n",
              "\n",
              "            [[9.3400e-01, 5.5921e-01, 2.1791e-01,  ..., 5.7888e-01,\n",
              "              7.8353e-01, 4.9723e-01]]]],\n",
              "\n",
              "\n",
              "\n",
              "          [[[[8.9698e-01, 1.8647e-01, 5.3688e-02,  ..., 7.5830e-01,\n",
              "              3.5904e-01, 5.4840e-01]],\n",
              "\n",
              "            [[3.0479e-01, 8.0270e-01, 4.2091e-01,  ..., 9.6870e-01,\n",
              "              1.8779e-01, 9.7685e-01]],\n",
              "\n",
              "            [[7.6504e-01, 4.3915e-01, 2.9206e-01,  ..., 9.8436e-01,\n",
              "              4.3752e-01, 4.2212e-01]],\n",
              "\n",
              "            [[2.4318e-01, 8.4924e-01, 2.9720e-01,  ..., 7.1234e-02,\n",
              "              8.1714e-01, 9.6099e-01]],\n",
              "\n",
              "            [[3.2443e-01, 8.7923e-01, 2.8792e-01,  ..., 3.2824e-01,\n",
              "              5.8072e-01, 1.1827e-01]],\n",
              "\n",
              "            [[8.0031e-01, 7.3502e-01, 6.7677e-01,  ..., 2.2476e-01,\n",
              "              2.9705e-03, 6.3985e-01]]],\n",
              "\n",
              "\n",
              "           [[[8.9462e-01, 9.5207e-01, 2.6094e-01,  ..., 1.9064e-01,\n",
              "              3.7992e-02, 2.9962e-02]],\n",
              "\n",
              "            [[8.2392e-01, 5.8478e-04, 4.1023e-01,  ..., 5.9584e-01,\n",
              "              6.5919e-01, 6.3435e-01]],\n",
              "\n",
              "            [[8.9750e-02, 1.9739e-01, 8.3958e-01,  ..., 7.5593e-01,\n",
              "              7.5611e-01, 9.3625e-01]],\n",
              "\n",
              "            [[4.1905e-01, 3.2433e-01, 8.3097e-01,  ..., 7.7365e-01,\n",
              "              8.7274e-01, 6.8173e-01]],\n",
              "\n",
              "            [[3.2516e-01, 8.3366e-01, 8.9580e-01,  ..., 6.4635e-01,\n",
              "              6.0109e-01, 1.3919e-02]],\n",
              "\n",
              "            [[5.2273e-01, 6.1194e-01, 6.2022e-02,  ..., 7.8223e-01,\n",
              "              6.3537e-01, 5.3000e-01]]]],\n",
              "\n",
              "\n",
              "\n",
              "          [[[[6.4869e-01, 1.2876e-01, 9.1127e-01,  ..., 7.9926e-01,\n",
              "              6.2723e-02, 7.1945e-01]],\n",
              "\n",
              "            [[8.7463e-01, 5.6403e-01, 6.3847e-01,  ..., 3.1323e-01,\n",
              "              9.9719e-01, 8.4764e-01]],\n",
              "\n",
              "            [[8.7630e-02, 6.0413e-01, 2.3207e-01,  ..., 2.0569e-01,\n",
              "              2.5052e-01, 7.9743e-01]],\n",
              "\n",
              "            [[3.6667e-01, 9.7365e-01, 7.4697e-02,  ..., 7.0228e-01,\n",
              "              7.3491e-01, 8.4676e-01]],\n",
              "\n",
              "            [[2.4399e-01, 4.6243e-01, 2.4776e-01,  ..., 1.4912e-01,\n",
              "              9.3931e-01, 3.8699e-01]],\n",
              "\n",
              "            [[7.7010e-01, 4.6518e-01, 2.7034e-01,  ..., 5.1491e-01,\n",
              "              1.0500e-01, 7.2301e-01]]],\n",
              "\n",
              "\n",
              "           [[[7.3388e-01, 8.9099e-01, 8.4829e-01,  ..., 8.1403e-01,\n",
              "              2.2305e-01, 2.8970e-01]],\n",
              "\n",
              "            [[4.3896e-01, 9.0851e-02, 4.1036e-01,  ..., 2.7072e-01,\n",
              "              5.4120e-01, 4.3446e-02]],\n",
              "\n",
              "            [[3.8107e-01, 7.5245e-02, 5.9366e-01,  ..., 5.4392e-01,\n",
              "              9.9279e-01, 8.7194e-01]],\n",
              "\n",
              "            [[1.4506e-01, 1.6627e-01, 5.1925e-01,  ..., 6.2344e-02,\n",
              "              9.6559e-01, 2.7447e-01]],\n",
              "\n",
              "            [[1.5067e-01, 6.7456e-02, 8.7168e-02,  ..., 5.8960e-01,\n",
              "              9.9157e-01, 7.7326e-01]],\n",
              "\n",
              "            [[1.0865e-01, 3.5132e-01, 8.7823e-01,  ..., 2.9930e-01,\n",
              "              9.8124e-01, 6.5009e-01]]]]]],\n",
              "\n",
              "\n",
              "\n",
              "\n",
              "\n",
              "        [[[[[[4.5215e-01, 3.1167e-01, 9.6230e-01,  ..., 6.4199e-01,\n",
              "              3.7986e-01, 8.6463e-02]],\n",
              "\n",
              "            [[2.5455e-01, 8.8755e-01, 7.7855e-01,  ..., 3.9130e-01,\n",
              "              1.8611e-01, 9.4082e-01]],\n",
              "\n",
              "            [[6.3877e-01, 4.9713e-01, 2.2327e-01,  ..., 3.3384e-01,\n",
              "              1.0166e-01, 3.7031e-02]],\n",
              "\n",
              "            [[2.0915e-02, 1.8979e-01, 5.3669e-01,  ..., 5.6244e-01,\n",
              "              5.9689e-01, 1.2489e-01]],\n",
              "\n",
              "            [[7.2698e-01, 4.3267e-01, 1.1493e-02,  ..., 1.8661e-01,\n",
              "              7.8666e-02, 1.2279e-01]],\n",
              "\n",
              "            [[3.8172e-01, 1.6861e-01, 3.2910e-01,  ..., 1.3457e-01,\n",
              "              3.8574e-02, 7.6681e-01]]],\n",
              "\n",
              "\n",
              "           [[[1.7776e-01, 9.7441e-01, 4.5635e-01,  ..., 1.8551e-01,\n",
              "              3.8015e-01, 8.2098e-01]],\n",
              "\n",
              "            [[2.7829e-01, 9.5703e-01, 5.0610e-02,  ..., 9.8062e-01,\n",
              "              1.0280e-02, 3.4472e-01]],\n",
              "\n",
              "            [[5.6716e-01, 9.2048e-01, 1.2082e-01,  ..., 8.1140e-01,\n",
              "              8.1457e-01, 3.3329e-01]],\n",
              "\n",
              "            [[7.6998e-01, 3.3044e-02, 6.2236e-01,  ..., 6.0037e-01,\n",
              "              5.7324e-02, 7.7184e-02]],\n",
              "\n",
              "            [[5.5512e-01, 6.1555e-01, 2.5400e-03,  ..., 3.7444e-01,\n",
              "              8.1940e-01, 9.9105e-01]],\n",
              "\n",
              "            [[1.3484e-01, 4.2892e-01, 8.6618e-01,  ..., 3.3292e-01,\n",
              "              3.5170e-01, 8.8908e-01]]]],\n",
              "\n",
              "\n",
              "\n",
              "          [[[[8.3315e-01, 7.5582e-01, 1.0151e-01,  ..., 5.1641e-01,\n",
              "              7.3204e-02, 6.6448e-01]],\n",
              "\n",
              "            [[2.9930e-01, 7.7536e-01, 1.7398e-01,  ..., 4.4836e-01,\n",
              "              2.4018e-01, 2.1267e-01]],\n",
              "\n",
              "            [[7.3967e-01, 1.4558e-01, 9.7924e-02,  ..., 4.3558e-02,\n",
              "              9.3458e-01, 5.1535e-01]],\n",
              "\n",
              "            [[4.6754e-01, 9.4994e-01, 1.5294e-01,  ..., 1.1653e-01,\n",
              "              4.2543e-01, 8.6478e-01]],\n",
              "\n",
              "            [[7.3699e-01, 9.3446e-01, 1.8871e-01,  ..., 6.2400e-01,\n",
              "              2.3111e-01, 1.5172e-01]],\n",
              "\n",
              "            [[6.9628e-01, 2.1853e-01, 9.4878e-01,  ..., 9.7767e-01,\n",
              "              3.2812e-01, 2.7992e-01]]],\n",
              "\n",
              "\n",
              "           [[[3.7937e-01, 9.0365e-01, 7.6389e-01,  ..., 1.7449e-01,\n",
              "              2.5477e-01, 7.3977e-01]],\n",
              "\n",
              "            [[8.7089e-02, 9.0989e-01, 1.5644e-01,  ..., 2.2515e-02,\n",
              "              6.1546e-01, 6.3032e-01]],\n",
              "\n",
              "            [[5.9414e-01, 7.4100e-01, 4.8576e-01,  ..., 9.5950e-01,\n",
              "              1.8685e-01, 2.3199e-01]],\n",
              "\n",
              "            [[1.8157e-01, 7.4602e-01, 2.1296e-01,  ..., 6.7942e-01,\n",
              "              1.6578e-01, 6.0284e-01]],\n",
              "\n",
              "            [[3.5852e-01, 4.4268e-01, 2.8347e-01,  ..., 4.8866e-01,\n",
              "              8.1409e-01, 5.1592e-01]],\n",
              "\n",
              "            [[2.9948e-01, 5.0291e-01, 8.0627e-01,  ..., 4.4864e-01,\n",
              "              9.9678e-01, 4.7543e-01]]]],\n",
              "\n",
              "\n",
              "\n",
              "          [[[[7.6831e-01, 1.9358e-02, 9.7860e-01,  ..., 3.0593e-01,\n",
              "              7.2422e-01, 3.8152e-01]],\n",
              "\n",
              "            [[9.4101e-01, 2.9514e-01, 2.0925e-01,  ..., 2.3818e-01,\n",
              "              3.3335e-01, 2.9478e-02]],\n",
              "\n",
              "            [[7.9845e-01, 4.5851e-01, 6.9768e-01,  ..., 1.5027e-01,\n",
              "              1.1366e-02, 7.4935e-01]],\n",
              "\n",
              "            [[9.9334e-01, 1.6104e-02, 6.7229e-02,  ..., 2.0575e-01,\n",
              "              9.6315e-01, 8.0886e-01]],\n",
              "\n",
              "            [[8.0011e-01, 4.1474e-01, 6.6273e-01,  ..., 2.9157e-01,\n",
              "              7.8811e-01, 9.5846e-01]],\n",
              "\n",
              "            [[1.5565e-01, 8.5263e-01, 2.9315e-01,  ..., 9.8293e-01,\n",
              "              8.3526e-01, 1.6252e-01]]],\n",
              "\n",
              "\n",
              "           [[[8.3275e-01, 8.7880e-01, 1.6323e-01,  ..., 5.6812e-01,\n",
              "              8.0804e-01, 7.1983e-01]],\n",
              "\n",
              "            [[2.1333e-01, 3.9469e-01, 3.6862e-01,  ..., 1.9792e-01,\n",
              "              3.8085e-01, 5.3296e-01]],\n",
              "\n",
              "            [[7.6702e-01, 6.0869e-01, 4.7239e-01,  ..., 8.7194e-01,\n",
              "              6.3408e-02, 2.4869e-01]],\n",
              "\n",
              "            [[8.1923e-01, 1.8595e-01, 5.8666e-01,  ..., 4.0888e-01,\n",
              "              5.7675e-01, 9.7529e-01]],\n",
              "\n",
              "            [[5.7840e-01, 5.6851e-01, 7.4038e-01,  ..., 4.3980e-01,\n",
              "              4.4411e-01, 9.5557e-01]],\n",
              "\n",
              "            [[5.6508e-01, 2.1986e-01, 9.6909e-01,  ..., 3.5139e-02,\n",
              "              7.6780e-02, 5.3112e-01]]]],\n",
              "\n",
              "\n",
              "\n",
              "          [[[[8.0318e-01, 8.4908e-01, 2.4390e-01,  ..., 9.6286e-01,\n",
              "              6.3813e-01, 4.4169e-01]],\n",
              "\n",
              "            [[2.4228e-01, 2.1360e-01, 8.0161e-01,  ..., 7.3655e-01,\n",
              "              6.6583e-02, 7.5298e-01]],\n",
              "\n",
              "            [[4.2378e-01, 5.3320e-01, 5.1020e-01,  ..., 2.8157e-01,\n",
              "              2.8727e-02, 4.9113e-01]],\n",
              "\n",
              "            [[1.3026e-01, 3.0186e-01, 5.7630e-01,  ..., 4.8105e-01,\n",
              "              1.4905e-01, 7.4444e-01]],\n",
              "\n",
              "            [[6.3354e-01, 2.8241e-02, 3.1784e-01,  ..., 4.5915e-01,\n",
              "              5.9567e-01, 6.9806e-02]],\n",
              "\n",
              "            [[6.7743e-01, 8.3741e-01, 1.2307e-01,  ..., 4.6371e-02,\n",
              "              7.2061e-01, 6.4577e-01]]],\n",
              "\n",
              "\n",
              "           [[[1.9154e-01, 4.1199e-01, 3.0859e-01,  ..., 3.8695e-01,\n",
              "              2.3466e-01, 2.6784e-01]],\n",
              "\n",
              "            [[1.8620e-01, 2.1909e-01, 4.3489e-02,  ..., 2.2136e-01,\n",
              "              7.5977e-01, 2.5920e-01]],\n",
              "\n",
              "            [[2.3241e-01, 2.9650e-01, 6.8027e-01,  ..., 9.9220e-02,\n",
              "              2.0837e-01, 5.9245e-01]],\n",
              "\n",
              "            [[4.6030e-01, 7.7511e-01, 3.8750e-01,  ..., 5.0872e-01,\n",
              "              6.3678e-01, 8.9018e-01]],\n",
              "\n",
              "            [[5.0465e-01, 3.2643e-02, 8.3022e-01,  ..., 7.8447e-01,\n",
              "              2.0427e-01, 1.5545e-01]],\n",
              "\n",
              "            [[2.1808e-01, 1.7607e-01, 1.4647e-01,  ..., 4.4791e-01,\n",
              "              6.8865e-01, 5.0541e-02]]]]]],\n",
              "\n",
              "\n",
              "\n",
              "\n",
              "\n",
              "        [[[[[[8.3973e-01, 7.0487e-02, 3.8311e-01,  ..., 1.1259e-01,\n",
              "              6.6303e-01, 6.7192e-01]],\n",
              "\n",
              "            [[1.8735e-01, 6.6812e-01, 5.8569e-01,  ..., 9.1974e-02,\n",
              "              5.4249e-01, 7.8111e-01]],\n",
              "\n",
              "            [[9.5843e-01, 8.5187e-01, 2.2977e-01,  ..., 4.3598e-01,\n",
              "              9.9183e-01, 9.5405e-01]],\n",
              "\n",
              "            [[3.5737e-01, 4.8249e-01, 6.7888e-01,  ..., 3.4454e-01,\n",
              "              9.3452e-01, 5.1703e-01]],\n",
              "\n",
              "            [[4.4178e-01, 1.2556e-01, 7.6004e-01,  ..., 7.4256e-01,\n",
              "              3.8363e-01, 6.6486e-01]],\n",
              "\n",
              "            [[4.1987e-01, 7.3477e-01, 6.8169e-01,  ..., 3.4263e-01,\n",
              "              7.3879e-01, 6.8967e-01]]],\n",
              "\n",
              "\n",
              "           [[[6.7959e-01, 9.3007e-01, 1.7837e-01,  ..., 6.4170e-01,\n",
              "              9.5070e-01, 2.2194e-01]],\n",
              "\n",
              "            [[1.2855e-01, 9.9801e-01, 7.5195e-01,  ..., 8.8065e-01,\n",
              "              7.5071e-01, 6.2158e-01]],\n",
              "\n",
              "            [[7.3283e-01, 4.3457e-01, 1.0648e-01,  ..., 6.4844e-01,\n",
              "              1.0374e-01, 6.0863e-01]],\n",
              "\n",
              "            [[3.8216e-01, 8.7366e-01, 8.1222e-01,  ..., 9.3472e-01,\n",
              "              2.8276e-01, 3.4600e-01]],\n",
              "\n",
              "            [[9.3992e-01, 8.6204e-01, 8.7493e-01,  ..., 6.3514e-01,\n",
              "              2.5993e-01, 7.3339e-02]],\n",
              "\n",
              "            [[3.8292e-01, 9.3262e-01, 5.9100e-01,  ..., 4.5815e-01,\n",
              "              1.5874e-01, 2.0524e-01]]]],\n",
              "\n",
              "\n",
              "\n",
              "          [[[[8.8887e-01, 5.4139e-01, 7.0663e-02,  ..., 1.2385e-01,\n",
              "              9.6720e-01, 1.5865e-01]],\n",
              "\n",
              "            [[3.6266e-02, 5.0479e-01, 3.4398e-01,  ..., 2.1592e-01,\n",
              "              9.8771e-01, 6.3459e-01]],\n",
              "\n",
              "            [[2.6127e-01, 6.5434e-01, 5.5338e-01,  ..., 9.6140e-01,\n",
              "              6.8558e-01, 5.7037e-01]],\n",
              "\n",
              "            [[1.0079e-01, 2.2097e-01, 8.7178e-01,  ..., 1.2880e-01,\n",
              "              3.7504e-01, 3.7989e-01]],\n",
              "\n",
              "            [[1.1923e-01, 4.4484e-01, 4.1275e-01,  ..., 3.6063e-02,\n",
              "              2.2006e-01, 2.2392e-01]],\n",
              "\n",
              "            [[2.0867e-01, 3.6801e-01, 6.7320e-01,  ..., 7.9379e-01,\n",
              "              9.4085e-01, 2.3100e-01]]],\n",
              "\n",
              "\n",
              "           [[[6.3929e-01, 5.8816e-02, 7.5177e-01,  ..., 8.8949e-01,\n",
              "              6.3758e-01, 5.2656e-01]],\n",
              "\n",
              "            [[3.7843e-01, 1.5531e-02, 2.1861e-01,  ..., 6.1638e-01,\n",
              "              2.4456e-01, 5.1696e-01]],\n",
              "\n",
              "            [[8.0724e-01, 3.5868e-02, 8.4968e-01,  ..., 2.7660e-01,\n",
              "              4.4383e-01, 3.7742e-01]],\n",
              "\n",
              "            [[4.2084e-01, 6.8731e-01, 5.1736e-02,  ..., 9.9007e-01,\n",
              "              8.3141e-01, 7.0196e-01]],\n",
              "\n",
              "            [[7.2544e-01, 8.3258e-01, 8.1406e-01,  ..., 5.9339e-01,\n",
              "              8.2534e-01, 1.7631e-01]],\n",
              "\n",
              "            [[1.9168e-01, 5.4803e-01, 2.0724e-01,  ..., 7.9505e-01,\n",
              "              5.3544e-01, 7.3681e-01]]]],\n",
              "\n",
              "\n",
              "\n",
              "          [[[[4.9420e-01, 3.0776e-01, 5.9236e-01,  ..., 8.5995e-01,\n",
              "              7.8091e-01, 9.4428e-01]],\n",
              "\n",
              "            [[1.3632e-01, 5.4268e-01, 9.9044e-01,  ..., 7.7746e-01,\n",
              "              5.3868e-01, 5.3911e-01]],\n",
              "\n",
              "            [[3.8290e-01, 1.7144e-01, 5.4424e-01,  ..., 9.6744e-01,\n",
              "              2.7901e-01, 1.2426e-01]],\n",
              "\n",
              "            [[6.5629e-01, 4.2909e-01, 2.9946e-01,  ..., 4.0180e-01,\n",
              "              5.2461e-01, 6.7546e-01]],\n",
              "\n",
              "            [[8.5446e-01, 2.8896e-03, 7.4606e-01,  ..., 3.0854e-01,\n",
              "              1.6259e-02, 8.2601e-01]],\n",
              "\n",
              "            [[5.7391e-01, 9.5045e-01, 2.0451e-01,  ..., 5.3414e-01,\n",
              "              7.2914e-01, 3.0228e-01]]],\n",
              "\n",
              "\n",
              "           [[[8.4371e-01, 6.5519e-01, 3.0500e-01,  ..., 7.3815e-01,\n",
              "              6.6410e-01, 1.3194e-01]],\n",
              "\n",
              "            [[8.7095e-01, 6.3959e-01, 6.7817e-01,  ..., 7.0092e-01,\n",
              "              1.4191e-01, 4.6605e-01]],\n",
              "\n",
              "            [[9.3262e-01, 3.7455e-01, 2.2454e-01,  ..., 2.6550e-02,\n",
              "              5.3743e-01, 9.9565e-01]],\n",
              "\n",
              "            [[9.1983e-01, 1.7875e-01, 7.4119e-01,  ..., 4.1937e-01,\n",
              "              1.4157e-01, 8.7963e-01]],\n",
              "\n",
              "            [[5.1844e-01, 1.8683e-01, 4.7290e-01,  ..., 7.2582e-01,\n",
              "              1.8121e-01, 4.9955e-01]],\n",
              "\n",
              "            [[1.4018e-01, 8.0791e-01, 9.4407e-01,  ..., 4.6181e-01,\n",
              "              4.2463e-01, 6.9492e-01]]]],\n",
              "\n",
              "\n",
              "\n",
              "          [[[[4.6097e-02, 3.6546e-01, 1.5231e-01,  ..., 5.8465e-01,\n",
              "              5.1537e-01, 8.0161e-02]],\n",
              "\n",
              "            [[1.8024e-01, 4.2950e-01, 1.6076e-01,  ..., 9.9613e-01,\n",
              "              9.3922e-01, 9.1581e-01]],\n",
              "\n",
              "            [[3.2432e-01, 5.7548e-01, 1.0555e-02,  ..., 5.3314e-01,\n",
              "              4.4670e-02, 6.5157e-01]],\n",
              "\n",
              "            [[4.3153e-01, 8.4840e-01, 2.0324e-01,  ..., 1.1876e-02,\n",
              "              5.9747e-02, 8.6022e-01]],\n",
              "\n",
              "            [[5.7411e-01, 2.7179e-01, 5.0667e-01,  ..., 7.3830e-01,\n",
              "              7.7582e-01, 6.4209e-01]],\n",
              "\n",
              "            [[1.8183e-01, 2.9266e-01, 3.2030e-01,  ..., 8.3527e-01,\n",
              "              1.4926e-02, 8.5059e-01]]],\n",
              "\n",
              "\n",
              "           [[[7.6251e-01, 3.7555e-01, 9.4084e-01,  ..., 5.4079e-01,\n",
              "              5.4116e-01, 9.8713e-01]],\n",
              "\n",
              "            [[8.4857e-01, 8.0147e-01, 9.5953e-01,  ..., 6.8733e-01,\n",
              "              2.0690e-01, 3.2702e-01]],\n",
              "\n",
              "            [[4.8585e-01, 1.9287e-01, 7.9468e-01,  ..., 3.3595e-01,\n",
              "              9.7897e-01, 2.4528e-01]],\n",
              "\n",
              "            [[5.5587e-01, 9.2675e-01, 1.3306e-01,  ..., 2.2607e-01,\n",
              "              9.0092e-01, 8.5510e-01]],\n",
              "\n",
              "            [[4.3132e-01, 1.0231e-01, 7.4435e-01,  ..., 2.5022e-01,\n",
              "              9.6622e-01, 4.9207e-01]],\n",
              "\n",
              "            [[4.0489e-01, 2.6434e-01, 7.1887e-01,  ..., 6.4457e-01,\n",
              "              3.2416e-01, 8.5713e-01]]]]]]])"
            ]
          },
          "metadata": {},
          "execution_count": 326
        }
      ]
    },
    {
      "cell_type": "code",
      "source": [
        "eg_tensor.shape"
      ],
      "metadata": {
        "colab": {
          "base_uri": "https://localhost:8080/"
        },
        "id": "WJcxa_FU4jaY",
        "outputId": "8f58fa82-3680-4160-f0ec-5a0b117ee2e6"
      },
      "execution_count": 327,
      "outputs": [
        {
          "output_type": "execute_result",
          "data": {
            "text/plain": [
              "torch.Size([3, 1, 4, 2, 6, 1, 8])"
            ]
          },
          "metadata": {},
          "execution_count": 327
        }
      ]
    },
    {
      "cell_type": "code",
      "source": [
        "eg_tensor_squeezed = eg_tensor.squeeze()"
      ],
      "metadata": {
        "id": "7UZZbQhP4xeY"
      },
      "execution_count": 328,
      "outputs": []
    },
    {
      "cell_type": "code",
      "source": [
        "eg_tensor_squeezed.shape  ## eg_tensor().squeeze() removes all of the 1 from the input tensor"
      ],
      "metadata": {
        "colab": {
          "base_uri": "https://localhost:8080/"
        },
        "id": "R7DBmlnN42_Y",
        "outputId": "4ec9c4f8-f85a-42d8-8678-037127c4750d"
      },
      "execution_count": 329,
      "outputs": [
        {
          "output_type": "execute_result",
          "data": {
            "text/plain": [
              "torch.Size([3, 4, 2, 6, 8])"
            ]
          },
          "metadata": {},
          "execution_count": 329
        }
      ]
    },
    {
      "cell_type": "code",
      "source": [
        "print(f\"Previous tensor: {eg_tensor}\")\n",
        "print(f\"Previous shape: {eg_tensor.shape}\")\n",
        "\n",
        "print(f\"New tensor: {eg_tensor.squeeze()}\")\n",
        "print(f\"New shape: {eg_tensor.squeeze().shape}\")"
      ],
      "metadata": {
        "colab": {
          "base_uri": "https://localhost:8080/"
        },
        "id": "gwqW8pNj5sqq",
        "outputId": "262185fb-75fa-439f-b1ec-544dc95e3a9b"
      },
      "execution_count": 330,
      "outputs": [
        {
          "output_type": "stream",
          "name": "stdout",
          "text": [
            "Previous tensor: tensor([[[[[[[4.5412e-01, 6.2239e-01, 9.2387e-01,  ..., 8.8782e-01,\n",
            "              5.5923e-01, 4.4748e-01]],\n",
            "\n",
            "            [[1.5281e-01, 8.7269e-01, 3.8815e-01,  ..., 1.5923e-01,\n",
            "              2.8127e-01, 9.6764e-01]],\n",
            "\n",
            "            [[7.3377e-01, 5.9014e-01, 3.3150e-01,  ..., 4.2262e-01,\n",
            "              5.2518e-01, 4.5322e-01]],\n",
            "\n",
            "            [[7.1227e-01, 2.7569e-01, 6.2408e-01,  ..., 6.7718e-01,\n",
            "              2.6227e-01, 1.7994e-01]],\n",
            "\n",
            "            [[3.5661e-02, 3.7577e-01, 2.3761e-01,  ..., 7.8902e-01,\n",
            "              8.6207e-01, 8.2930e-01]],\n",
            "\n",
            "            [[6.8461e-01, 7.7481e-01, 7.7046e-01,  ..., 1.5377e-01,\n",
            "              4.5443e-01, 3.2902e-01]]],\n",
            "\n",
            "\n",
            "           [[[9.7856e-01, 4.6083e-01, 3.2024e-01,  ..., 7.2285e-01,\n",
            "              8.5437e-01, 4.9992e-01]],\n",
            "\n",
            "            [[7.0010e-01, 3.0996e-01, 6.1939e-01,  ..., 3.2384e-01,\n",
            "              3.1408e-01, 8.3881e-01]],\n",
            "\n",
            "            [[9.0624e-01, 6.6793e-01, 4.0128e-01,  ..., 9.1426e-01,\n",
            "              9.5592e-01, 1.3458e-01]],\n",
            "\n",
            "            [[6.9467e-01, 7.5709e-01, 5.3009e-01,  ..., 4.8532e-01,\n",
            "              1.6864e-01, 4.5913e-01]],\n",
            "\n",
            "            [[1.4708e-01, 9.9886e-01, 1.7581e-02,  ..., 1.0508e-01,\n",
            "              6.1256e-01, 6.5294e-01]],\n",
            "\n",
            "            [[1.1951e-01, 1.0083e-01, 9.7005e-02,  ..., 2.7937e-01,\n",
            "              9.4373e-01, 2.3159e-01]]]],\n",
            "\n",
            "\n",
            "\n",
            "          [[[[4.6623e-01, 9.8785e-01, 1.1699e-01,  ..., 2.3351e-01,\n",
            "              8.8282e-01, 3.5192e-01]],\n",
            "\n",
            "            [[5.4215e-01, 4.4938e-01, 2.4290e-01,  ..., 1.0014e-01,\n",
            "              3.3143e-01, 6.1412e-01]],\n",
            "\n",
            "            [[1.6885e-01, 7.3088e-01, 7.1403e-01,  ..., 8.9530e-01,\n",
            "              9.1461e-01, 3.7047e-01]],\n",
            "\n",
            "            [[6.7404e-01, 7.8608e-02, 6.5887e-01,  ..., 8.2317e-01,\n",
            "              1.7773e-01, 7.7425e-01]],\n",
            "\n",
            "            [[8.9641e-01, 6.2869e-02, 1.9816e-01,  ..., 1.6147e-01,\n",
            "              9.0533e-01, 9.5482e-01]],\n",
            "\n",
            "            [[4.6856e-01, 1.5122e-01, 5.7290e-01,  ..., 5.7585e-01,\n",
            "              2.6019e-01, 4.5480e-02]]],\n",
            "\n",
            "\n",
            "           [[[9.3244e-01, 1.6014e-01, 3.5478e-01,  ..., 5.9235e-01,\n",
            "              1.4543e-01, 7.0944e-01]],\n",
            "\n",
            "            [[9.9557e-01, 4.4467e-01, 8.8904e-01,  ..., 9.4193e-01,\n",
            "              6.6093e-01, 1.0311e-02]],\n",
            "\n",
            "            [[8.5131e-01, 3.8823e-01, 7.5814e-01,  ..., 7.3130e-01,\n",
            "              3.7631e-01, 8.9142e-01]],\n",
            "\n",
            "            [[3.2573e-01, 3.1752e-01, 9.4590e-01,  ..., 4.2403e-01,\n",
            "              1.0711e-01, 4.0320e-01]],\n",
            "\n",
            "            [[5.1721e-02, 8.5635e-01, 5.2032e-01,  ..., 9.4685e-01,\n",
            "              9.6990e-01, 8.7521e-01]],\n",
            "\n",
            "            [[9.3400e-01, 5.5921e-01, 2.1791e-01,  ..., 5.7888e-01,\n",
            "              7.8353e-01, 4.9723e-01]]]],\n",
            "\n",
            "\n",
            "\n",
            "          [[[[8.9698e-01, 1.8647e-01, 5.3688e-02,  ..., 7.5830e-01,\n",
            "              3.5904e-01, 5.4840e-01]],\n",
            "\n",
            "            [[3.0479e-01, 8.0270e-01, 4.2091e-01,  ..., 9.6870e-01,\n",
            "              1.8779e-01, 9.7685e-01]],\n",
            "\n",
            "            [[7.6504e-01, 4.3915e-01, 2.9206e-01,  ..., 9.8436e-01,\n",
            "              4.3752e-01, 4.2212e-01]],\n",
            "\n",
            "            [[2.4318e-01, 8.4924e-01, 2.9720e-01,  ..., 7.1234e-02,\n",
            "              8.1714e-01, 9.6099e-01]],\n",
            "\n",
            "            [[3.2443e-01, 8.7923e-01, 2.8792e-01,  ..., 3.2824e-01,\n",
            "              5.8072e-01, 1.1827e-01]],\n",
            "\n",
            "            [[8.0031e-01, 7.3502e-01, 6.7677e-01,  ..., 2.2476e-01,\n",
            "              2.9705e-03, 6.3985e-01]]],\n",
            "\n",
            "\n",
            "           [[[8.9462e-01, 9.5207e-01, 2.6094e-01,  ..., 1.9064e-01,\n",
            "              3.7992e-02, 2.9962e-02]],\n",
            "\n",
            "            [[8.2392e-01, 5.8478e-04, 4.1023e-01,  ..., 5.9584e-01,\n",
            "              6.5919e-01, 6.3435e-01]],\n",
            "\n",
            "            [[8.9750e-02, 1.9739e-01, 8.3958e-01,  ..., 7.5593e-01,\n",
            "              7.5611e-01, 9.3625e-01]],\n",
            "\n",
            "            [[4.1905e-01, 3.2433e-01, 8.3097e-01,  ..., 7.7365e-01,\n",
            "              8.7274e-01, 6.8173e-01]],\n",
            "\n",
            "            [[3.2516e-01, 8.3366e-01, 8.9580e-01,  ..., 6.4635e-01,\n",
            "              6.0109e-01, 1.3919e-02]],\n",
            "\n",
            "            [[5.2273e-01, 6.1194e-01, 6.2022e-02,  ..., 7.8223e-01,\n",
            "              6.3537e-01, 5.3000e-01]]]],\n",
            "\n",
            "\n",
            "\n",
            "          [[[[6.4869e-01, 1.2876e-01, 9.1127e-01,  ..., 7.9926e-01,\n",
            "              6.2723e-02, 7.1945e-01]],\n",
            "\n",
            "            [[8.7463e-01, 5.6403e-01, 6.3847e-01,  ..., 3.1323e-01,\n",
            "              9.9719e-01, 8.4764e-01]],\n",
            "\n",
            "            [[8.7630e-02, 6.0413e-01, 2.3207e-01,  ..., 2.0569e-01,\n",
            "              2.5052e-01, 7.9743e-01]],\n",
            "\n",
            "            [[3.6667e-01, 9.7365e-01, 7.4697e-02,  ..., 7.0228e-01,\n",
            "              7.3491e-01, 8.4676e-01]],\n",
            "\n",
            "            [[2.4399e-01, 4.6243e-01, 2.4776e-01,  ..., 1.4912e-01,\n",
            "              9.3931e-01, 3.8699e-01]],\n",
            "\n",
            "            [[7.7010e-01, 4.6518e-01, 2.7034e-01,  ..., 5.1491e-01,\n",
            "              1.0500e-01, 7.2301e-01]]],\n",
            "\n",
            "\n",
            "           [[[7.3388e-01, 8.9099e-01, 8.4829e-01,  ..., 8.1403e-01,\n",
            "              2.2305e-01, 2.8970e-01]],\n",
            "\n",
            "            [[4.3896e-01, 9.0851e-02, 4.1036e-01,  ..., 2.7072e-01,\n",
            "              5.4120e-01, 4.3446e-02]],\n",
            "\n",
            "            [[3.8107e-01, 7.5245e-02, 5.9366e-01,  ..., 5.4392e-01,\n",
            "              9.9279e-01, 8.7194e-01]],\n",
            "\n",
            "            [[1.4506e-01, 1.6627e-01, 5.1925e-01,  ..., 6.2344e-02,\n",
            "              9.6559e-01, 2.7447e-01]],\n",
            "\n",
            "            [[1.5067e-01, 6.7456e-02, 8.7168e-02,  ..., 5.8960e-01,\n",
            "              9.9157e-01, 7.7326e-01]],\n",
            "\n",
            "            [[1.0865e-01, 3.5132e-01, 8.7823e-01,  ..., 2.9930e-01,\n",
            "              9.8124e-01, 6.5009e-01]]]]]],\n",
            "\n",
            "\n",
            "\n",
            "\n",
            "\n",
            "        [[[[[[4.5215e-01, 3.1167e-01, 9.6230e-01,  ..., 6.4199e-01,\n",
            "              3.7986e-01, 8.6463e-02]],\n",
            "\n",
            "            [[2.5455e-01, 8.8755e-01, 7.7855e-01,  ..., 3.9130e-01,\n",
            "              1.8611e-01, 9.4082e-01]],\n",
            "\n",
            "            [[6.3877e-01, 4.9713e-01, 2.2327e-01,  ..., 3.3384e-01,\n",
            "              1.0166e-01, 3.7031e-02]],\n",
            "\n",
            "            [[2.0915e-02, 1.8979e-01, 5.3669e-01,  ..., 5.6244e-01,\n",
            "              5.9689e-01, 1.2489e-01]],\n",
            "\n",
            "            [[7.2698e-01, 4.3267e-01, 1.1493e-02,  ..., 1.8661e-01,\n",
            "              7.8666e-02, 1.2279e-01]],\n",
            "\n",
            "            [[3.8172e-01, 1.6861e-01, 3.2910e-01,  ..., 1.3457e-01,\n",
            "              3.8574e-02, 7.6681e-01]]],\n",
            "\n",
            "\n",
            "           [[[1.7776e-01, 9.7441e-01, 4.5635e-01,  ..., 1.8551e-01,\n",
            "              3.8015e-01, 8.2098e-01]],\n",
            "\n",
            "            [[2.7829e-01, 9.5703e-01, 5.0610e-02,  ..., 9.8062e-01,\n",
            "              1.0280e-02, 3.4472e-01]],\n",
            "\n",
            "            [[5.6716e-01, 9.2048e-01, 1.2082e-01,  ..., 8.1140e-01,\n",
            "              8.1457e-01, 3.3329e-01]],\n",
            "\n",
            "            [[7.6998e-01, 3.3044e-02, 6.2236e-01,  ..., 6.0037e-01,\n",
            "              5.7324e-02, 7.7184e-02]],\n",
            "\n",
            "            [[5.5512e-01, 6.1555e-01, 2.5400e-03,  ..., 3.7444e-01,\n",
            "              8.1940e-01, 9.9105e-01]],\n",
            "\n",
            "            [[1.3484e-01, 4.2892e-01, 8.6618e-01,  ..., 3.3292e-01,\n",
            "              3.5170e-01, 8.8908e-01]]]],\n",
            "\n",
            "\n",
            "\n",
            "          [[[[8.3315e-01, 7.5582e-01, 1.0151e-01,  ..., 5.1641e-01,\n",
            "              7.3204e-02, 6.6448e-01]],\n",
            "\n",
            "            [[2.9930e-01, 7.7536e-01, 1.7398e-01,  ..., 4.4836e-01,\n",
            "              2.4018e-01, 2.1267e-01]],\n",
            "\n",
            "            [[7.3967e-01, 1.4558e-01, 9.7924e-02,  ..., 4.3558e-02,\n",
            "              9.3458e-01, 5.1535e-01]],\n",
            "\n",
            "            [[4.6754e-01, 9.4994e-01, 1.5294e-01,  ..., 1.1653e-01,\n",
            "              4.2543e-01, 8.6478e-01]],\n",
            "\n",
            "            [[7.3699e-01, 9.3446e-01, 1.8871e-01,  ..., 6.2400e-01,\n",
            "              2.3111e-01, 1.5172e-01]],\n",
            "\n",
            "            [[6.9628e-01, 2.1853e-01, 9.4878e-01,  ..., 9.7767e-01,\n",
            "              3.2812e-01, 2.7992e-01]]],\n",
            "\n",
            "\n",
            "           [[[3.7937e-01, 9.0365e-01, 7.6389e-01,  ..., 1.7449e-01,\n",
            "              2.5477e-01, 7.3977e-01]],\n",
            "\n",
            "            [[8.7089e-02, 9.0989e-01, 1.5644e-01,  ..., 2.2515e-02,\n",
            "              6.1546e-01, 6.3032e-01]],\n",
            "\n",
            "            [[5.9414e-01, 7.4100e-01, 4.8576e-01,  ..., 9.5950e-01,\n",
            "              1.8685e-01, 2.3199e-01]],\n",
            "\n",
            "            [[1.8157e-01, 7.4602e-01, 2.1296e-01,  ..., 6.7942e-01,\n",
            "              1.6578e-01, 6.0284e-01]],\n",
            "\n",
            "            [[3.5852e-01, 4.4268e-01, 2.8347e-01,  ..., 4.8866e-01,\n",
            "              8.1409e-01, 5.1592e-01]],\n",
            "\n",
            "            [[2.9948e-01, 5.0291e-01, 8.0627e-01,  ..., 4.4864e-01,\n",
            "              9.9678e-01, 4.7543e-01]]]],\n",
            "\n",
            "\n",
            "\n",
            "          [[[[7.6831e-01, 1.9358e-02, 9.7860e-01,  ..., 3.0593e-01,\n",
            "              7.2422e-01, 3.8152e-01]],\n",
            "\n",
            "            [[9.4101e-01, 2.9514e-01, 2.0925e-01,  ..., 2.3818e-01,\n",
            "              3.3335e-01, 2.9478e-02]],\n",
            "\n",
            "            [[7.9845e-01, 4.5851e-01, 6.9768e-01,  ..., 1.5027e-01,\n",
            "              1.1366e-02, 7.4935e-01]],\n",
            "\n",
            "            [[9.9334e-01, 1.6104e-02, 6.7229e-02,  ..., 2.0575e-01,\n",
            "              9.6315e-01, 8.0886e-01]],\n",
            "\n",
            "            [[8.0011e-01, 4.1474e-01, 6.6273e-01,  ..., 2.9157e-01,\n",
            "              7.8811e-01, 9.5846e-01]],\n",
            "\n",
            "            [[1.5565e-01, 8.5263e-01, 2.9315e-01,  ..., 9.8293e-01,\n",
            "              8.3526e-01, 1.6252e-01]]],\n",
            "\n",
            "\n",
            "           [[[8.3275e-01, 8.7880e-01, 1.6323e-01,  ..., 5.6812e-01,\n",
            "              8.0804e-01, 7.1983e-01]],\n",
            "\n",
            "            [[2.1333e-01, 3.9469e-01, 3.6862e-01,  ..., 1.9792e-01,\n",
            "              3.8085e-01, 5.3296e-01]],\n",
            "\n",
            "            [[7.6702e-01, 6.0869e-01, 4.7239e-01,  ..., 8.7194e-01,\n",
            "              6.3408e-02, 2.4869e-01]],\n",
            "\n",
            "            [[8.1923e-01, 1.8595e-01, 5.8666e-01,  ..., 4.0888e-01,\n",
            "              5.7675e-01, 9.7529e-01]],\n",
            "\n",
            "            [[5.7840e-01, 5.6851e-01, 7.4038e-01,  ..., 4.3980e-01,\n",
            "              4.4411e-01, 9.5557e-01]],\n",
            "\n",
            "            [[5.6508e-01, 2.1986e-01, 9.6909e-01,  ..., 3.5139e-02,\n",
            "              7.6780e-02, 5.3112e-01]]]],\n",
            "\n",
            "\n",
            "\n",
            "          [[[[8.0318e-01, 8.4908e-01, 2.4390e-01,  ..., 9.6286e-01,\n",
            "              6.3813e-01, 4.4169e-01]],\n",
            "\n",
            "            [[2.4228e-01, 2.1360e-01, 8.0161e-01,  ..., 7.3655e-01,\n",
            "              6.6583e-02, 7.5298e-01]],\n",
            "\n",
            "            [[4.2378e-01, 5.3320e-01, 5.1020e-01,  ..., 2.8157e-01,\n",
            "              2.8727e-02, 4.9113e-01]],\n",
            "\n",
            "            [[1.3026e-01, 3.0186e-01, 5.7630e-01,  ..., 4.8105e-01,\n",
            "              1.4905e-01, 7.4444e-01]],\n",
            "\n",
            "            [[6.3354e-01, 2.8241e-02, 3.1784e-01,  ..., 4.5915e-01,\n",
            "              5.9567e-01, 6.9806e-02]],\n",
            "\n",
            "            [[6.7743e-01, 8.3741e-01, 1.2307e-01,  ..., 4.6371e-02,\n",
            "              7.2061e-01, 6.4577e-01]]],\n",
            "\n",
            "\n",
            "           [[[1.9154e-01, 4.1199e-01, 3.0859e-01,  ..., 3.8695e-01,\n",
            "              2.3466e-01, 2.6784e-01]],\n",
            "\n",
            "            [[1.8620e-01, 2.1909e-01, 4.3489e-02,  ..., 2.2136e-01,\n",
            "              7.5977e-01, 2.5920e-01]],\n",
            "\n",
            "            [[2.3241e-01, 2.9650e-01, 6.8027e-01,  ..., 9.9220e-02,\n",
            "              2.0837e-01, 5.9245e-01]],\n",
            "\n",
            "            [[4.6030e-01, 7.7511e-01, 3.8750e-01,  ..., 5.0872e-01,\n",
            "              6.3678e-01, 8.9018e-01]],\n",
            "\n",
            "            [[5.0465e-01, 3.2643e-02, 8.3022e-01,  ..., 7.8447e-01,\n",
            "              2.0427e-01, 1.5545e-01]],\n",
            "\n",
            "            [[2.1808e-01, 1.7607e-01, 1.4647e-01,  ..., 4.4791e-01,\n",
            "              6.8865e-01, 5.0541e-02]]]]]],\n",
            "\n",
            "\n",
            "\n",
            "\n",
            "\n",
            "        [[[[[[8.3973e-01, 7.0487e-02, 3.8311e-01,  ..., 1.1259e-01,\n",
            "              6.6303e-01, 6.7192e-01]],\n",
            "\n",
            "            [[1.8735e-01, 6.6812e-01, 5.8569e-01,  ..., 9.1974e-02,\n",
            "              5.4249e-01, 7.8111e-01]],\n",
            "\n",
            "            [[9.5843e-01, 8.5187e-01, 2.2977e-01,  ..., 4.3598e-01,\n",
            "              9.9183e-01, 9.5405e-01]],\n",
            "\n",
            "            [[3.5737e-01, 4.8249e-01, 6.7888e-01,  ..., 3.4454e-01,\n",
            "              9.3452e-01, 5.1703e-01]],\n",
            "\n",
            "            [[4.4178e-01, 1.2556e-01, 7.6004e-01,  ..., 7.4256e-01,\n",
            "              3.8363e-01, 6.6486e-01]],\n",
            "\n",
            "            [[4.1987e-01, 7.3477e-01, 6.8169e-01,  ..., 3.4263e-01,\n",
            "              7.3879e-01, 6.8967e-01]]],\n",
            "\n",
            "\n",
            "           [[[6.7959e-01, 9.3007e-01, 1.7837e-01,  ..., 6.4170e-01,\n",
            "              9.5070e-01, 2.2194e-01]],\n",
            "\n",
            "            [[1.2855e-01, 9.9801e-01, 7.5195e-01,  ..., 8.8065e-01,\n",
            "              7.5071e-01, 6.2158e-01]],\n",
            "\n",
            "            [[7.3283e-01, 4.3457e-01, 1.0648e-01,  ..., 6.4844e-01,\n",
            "              1.0374e-01, 6.0863e-01]],\n",
            "\n",
            "            [[3.8216e-01, 8.7366e-01, 8.1222e-01,  ..., 9.3472e-01,\n",
            "              2.8276e-01, 3.4600e-01]],\n",
            "\n",
            "            [[9.3992e-01, 8.6204e-01, 8.7493e-01,  ..., 6.3514e-01,\n",
            "              2.5993e-01, 7.3339e-02]],\n",
            "\n",
            "            [[3.8292e-01, 9.3262e-01, 5.9100e-01,  ..., 4.5815e-01,\n",
            "              1.5874e-01, 2.0524e-01]]]],\n",
            "\n",
            "\n",
            "\n",
            "          [[[[8.8887e-01, 5.4139e-01, 7.0663e-02,  ..., 1.2385e-01,\n",
            "              9.6720e-01, 1.5865e-01]],\n",
            "\n",
            "            [[3.6266e-02, 5.0479e-01, 3.4398e-01,  ..., 2.1592e-01,\n",
            "              9.8771e-01, 6.3459e-01]],\n",
            "\n",
            "            [[2.6127e-01, 6.5434e-01, 5.5338e-01,  ..., 9.6140e-01,\n",
            "              6.8558e-01, 5.7037e-01]],\n",
            "\n",
            "            [[1.0079e-01, 2.2097e-01, 8.7178e-01,  ..., 1.2880e-01,\n",
            "              3.7504e-01, 3.7989e-01]],\n",
            "\n",
            "            [[1.1923e-01, 4.4484e-01, 4.1275e-01,  ..., 3.6063e-02,\n",
            "              2.2006e-01, 2.2392e-01]],\n",
            "\n",
            "            [[2.0867e-01, 3.6801e-01, 6.7320e-01,  ..., 7.9379e-01,\n",
            "              9.4085e-01, 2.3100e-01]]],\n",
            "\n",
            "\n",
            "           [[[6.3929e-01, 5.8816e-02, 7.5177e-01,  ..., 8.8949e-01,\n",
            "              6.3758e-01, 5.2656e-01]],\n",
            "\n",
            "            [[3.7843e-01, 1.5531e-02, 2.1861e-01,  ..., 6.1638e-01,\n",
            "              2.4456e-01, 5.1696e-01]],\n",
            "\n",
            "            [[8.0724e-01, 3.5868e-02, 8.4968e-01,  ..., 2.7660e-01,\n",
            "              4.4383e-01, 3.7742e-01]],\n",
            "\n",
            "            [[4.2084e-01, 6.8731e-01, 5.1736e-02,  ..., 9.9007e-01,\n",
            "              8.3141e-01, 7.0196e-01]],\n",
            "\n",
            "            [[7.2544e-01, 8.3258e-01, 8.1406e-01,  ..., 5.9339e-01,\n",
            "              8.2534e-01, 1.7631e-01]],\n",
            "\n",
            "            [[1.9168e-01, 5.4803e-01, 2.0724e-01,  ..., 7.9505e-01,\n",
            "              5.3544e-01, 7.3681e-01]]]],\n",
            "\n",
            "\n",
            "\n",
            "          [[[[4.9420e-01, 3.0776e-01, 5.9236e-01,  ..., 8.5995e-01,\n",
            "              7.8091e-01, 9.4428e-01]],\n",
            "\n",
            "            [[1.3632e-01, 5.4268e-01, 9.9044e-01,  ..., 7.7746e-01,\n",
            "              5.3868e-01, 5.3911e-01]],\n",
            "\n",
            "            [[3.8290e-01, 1.7144e-01, 5.4424e-01,  ..., 9.6744e-01,\n",
            "              2.7901e-01, 1.2426e-01]],\n",
            "\n",
            "            [[6.5629e-01, 4.2909e-01, 2.9946e-01,  ..., 4.0180e-01,\n",
            "              5.2461e-01, 6.7546e-01]],\n",
            "\n",
            "            [[8.5446e-01, 2.8896e-03, 7.4606e-01,  ..., 3.0854e-01,\n",
            "              1.6259e-02, 8.2601e-01]],\n",
            "\n",
            "            [[5.7391e-01, 9.5045e-01, 2.0451e-01,  ..., 5.3414e-01,\n",
            "              7.2914e-01, 3.0228e-01]]],\n",
            "\n",
            "\n",
            "           [[[8.4371e-01, 6.5519e-01, 3.0500e-01,  ..., 7.3815e-01,\n",
            "              6.6410e-01, 1.3194e-01]],\n",
            "\n",
            "            [[8.7095e-01, 6.3959e-01, 6.7817e-01,  ..., 7.0092e-01,\n",
            "              1.4191e-01, 4.6605e-01]],\n",
            "\n",
            "            [[9.3262e-01, 3.7455e-01, 2.2454e-01,  ..., 2.6550e-02,\n",
            "              5.3743e-01, 9.9565e-01]],\n",
            "\n",
            "            [[9.1983e-01, 1.7875e-01, 7.4119e-01,  ..., 4.1937e-01,\n",
            "              1.4157e-01, 8.7963e-01]],\n",
            "\n",
            "            [[5.1844e-01, 1.8683e-01, 4.7290e-01,  ..., 7.2582e-01,\n",
            "              1.8121e-01, 4.9955e-01]],\n",
            "\n",
            "            [[1.4018e-01, 8.0791e-01, 9.4407e-01,  ..., 4.6181e-01,\n",
            "              4.2463e-01, 6.9492e-01]]]],\n",
            "\n",
            "\n",
            "\n",
            "          [[[[4.6097e-02, 3.6546e-01, 1.5231e-01,  ..., 5.8465e-01,\n",
            "              5.1537e-01, 8.0161e-02]],\n",
            "\n",
            "            [[1.8024e-01, 4.2950e-01, 1.6076e-01,  ..., 9.9613e-01,\n",
            "              9.3922e-01, 9.1581e-01]],\n",
            "\n",
            "            [[3.2432e-01, 5.7548e-01, 1.0555e-02,  ..., 5.3314e-01,\n",
            "              4.4670e-02, 6.5157e-01]],\n",
            "\n",
            "            [[4.3153e-01, 8.4840e-01, 2.0324e-01,  ..., 1.1876e-02,\n",
            "              5.9747e-02, 8.6022e-01]],\n",
            "\n",
            "            [[5.7411e-01, 2.7179e-01, 5.0667e-01,  ..., 7.3830e-01,\n",
            "              7.7582e-01, 6.4209e-01]],\n",
            "\n",
            "            [[1.8183e-01, 2.9266e-01, 3.2030e-01,  ..., 8.3527e-01,\n",
            "              1.4926e-02, 8.5059e-01]]],\n",
            "\n",
            "\n",
            "           [[[7.6251e-01, 3.7555e-01, 9.4084e-01,  ..., 5.4079e-01,\n",
            "              5.4116e-01, 9.8713e-01]],\n",
            "\n",
            "            [[8.4857e-01, 8.0147e-01, 9.5953e-01,  ..., 6.8733e-01,\n",
            "              2.0690e-01, 3.2702e-01]],\n",
            "\n",
            "            [[4.8585e-01, 1.9287e-01, 7.9468e-01,  ..., 3.3595e-01,\n",
            "              9.7897e-01, 2.4528e-01]],\n",
            "\n",
            "            [[5.5587e-01, 9.2675e-01, 1.3306e-01,  ..., 2.2607e-01,\n",
            "              9.0092e-01, 8.5510e-01]],\n",
            "\n",
            "            [[4.3132e-01, 1.0231e-01, 7.4435e-01,  ..., 2.5022e-01,\n",
            "              9.6622e-01, 4.9207e-01]],\n",
            "\n",
            "            [[4.0489e-01, 2.6434e-01, 7.1887e-01,  ..., 6.4457e-01,\n",
            "              3.2416e-01, 8.5713e-01]]]]]]])\n",
            "Previous shape: torch.Size([3, 1, 4, 2, 6, 1, 8])\n",
            "New tensor: tensor([[[[[4.5412e-01, 6.2239e-01, 9.2387e-01,  ..., 8.8782e-01,\n",
            "            5.5923e-01, 4.4748e-01],\n",
            "           [1.5281e-01, 8.7269e-01, 3.8815e-01,  ..., 1.5923e-01,\n",
            "            2.8127e-01, 9.6764e-01],\n",
            "           [7.3377e-01, 5.9014e-01, 3.3150e-01,  ..., 4.2262e-01,\n",
            "            5.2518e-01, 4.5322e-01],\n",
            "           [7.1227e-01, 2.7569e-01, 6.2408e-01,  ..., 6.7718e-01,\n",
            "            2.6227e-01, 1.7994e-01],\n",
            "           [3.5661e-02, 3.7577e-01, 2.3761e-01,  ..., 7.8902e-01,\n",
            "            8.6207e-01, 8.2930e-01],\n",
            "           [6.8461e-01, 7.7481e-01, 7.7046e-01,  ..., 1.5377e-01,\n",
            "            4.5443e-01, 3.2902e-01]],\n",
            "\n",
            "          [[9.7856e-01, 4.6083e-01, 3.2024e-01,  ..., 7.2285e-01,\n",
            "            8.5437e-01, 4.9992e-01],\n",
            "           [7.0010e-01, 3.0996e-01, 6.1939e-01,  ..., 3.2384e-01,\n",
            "            3.1408e-01, 8.3881e-01],\n",
            "           [9.0624e-01, 6.6793e-01, 4.0128e-01,  ..., 9.1426e-01,\n",
            "            9.5592e-01, 1.3458e-01],\n",
            "           [6.9467e-01, 7.5709e-01, 5.3009e-01,  ..., 4.8532e-01,\n",
            "            1.6864e-01, 4.5913e-01],\n",
            "           [1.4708e-01, 9.9886e-01, 1.7581e-02,  ..., 1.0508e-01,\n",
            "            6.1256e-01, 6.5294e-01],\n",
            "           [1.1951e-01, 1.0083e-01, 9.7005e-02,  ..., 2.7937e-01,\n",
            "            9.4373e-01, 2.3159e-01]]],\n",
            "\n",
            "\n",
            "         [[[4.6623e-01, 9.8785e-01, 1.1699e-01,  ..., 2.3351e-01,\n",
            "            8.8282e-01, 3.5192e-01],\n",
            "           [5.4215e-01, 4.4938e-01, 2.4290e-01,  ..., 1.0014e-01,\n",
            "            3.3143e-01, 6.1412e-01],\n",
            "           [1.6885e-01, 7.3088e-01, 7.1403e-01,  ..., 8.9530e-01,\n",
            "            9.1461e-01, 3.7047e-01],\n",
            "           [6.7404e-01, 7.8608e-02, 6.5887e-01,  ..., 8.2317e-01,\n",
            "            1.7773e-01, 7.7425e-01],\n",
            "           [8.9641e-01, 6.2869e-02, 1.9816e-01,  ..., 1.6147e-01,\n",
            "            9.0533e-01, 9.5482e-01],\n",
            "           [4.6856e-01, 1.5122e-01, 5.7290e-01,  ..., 5.7585e-01,\n",
            "            2.6019e-01, 4.5480e-02]],\n",
            "\n",
            "          [[9.3244e-01, 1.6014e-01, 3.5478e-01,  ..., 5.9235e-01,\n",
            "            1.4543e-01, 7.0944e-01],\n",
            "           [9.9557e-01, 4.4467e-01, 8.8904e-01,  ..., 9.4193e-01,\n",
            "            6.6093e-01, 1.0311e-02],\n",
            "           [8.5131e-01, 3.8823e-01, 7.5814e-01,  ..., 7.3130e-01,\n",
            "            3.7631e-01, 8.9142e-01],\n",
            "           [3.2573e-01, 3.1752e-01, 9.4590e-01,  ..., 4.2403e-01,\n",
            "            1.0711e-01, 4.0320e-01],\n",
            "           [5.1721e-02, 8.5635e-01, 5.2032e-01,  ..., 9.4685e-01,\n",
            "            9.6990e-01, 8.7521e-01],\n",
            "           [9.3400e-01, 5.5921e-01, 2.1791e-01,  ..., 5.7888e-01,\n",
            "            7.8353e-01, 4.9723e-01]]],\n",
            "\n",
            "\n",
            "         [[[8.9698e-01, 1.8647e-01, 5.3688e-02,  ..., 7.5830e-01,\n",
            "            3.5904e-01, 5.4840e-01],\n",
            "           [3.0479e-01, 8.0270e-01, 4.2091e-01,  ..., 9.6870e-01,\n",
            "            1.8779e-01, 9.7685e-01],\n",
            "           [7.6504e-01, 4.3915e-01, 2.9206e-01,  ..., 9.8436e-01,\n",
            "            4.3752e-01, 4.2212e-01],\n",
            "           [2.4318e-01, 8.4924e-01, 2.9720e-01,  ..., 7.1234e-02,\n",
            "            8.1714e-01, 9.6099e-01],\n",
            "           [3.2443e-01, 8.7923e-01, 2.8792e-01,  ..., 3.2824e-01,\n",
            "            5.8072e-01, 1.1827e-01],\n",
            "           [8.0031e-01, 7.3502e-01, 6.7677e-01,  ..., 2.2476e-01,\n",
            "            2.9705e-03, 6.3985e-01]],\n",
            "\n",
            "          [[8.9462e-01, 9.5207e-01, 2.6094e-01,  ..., 1.9064e-01,\n",
            "            3.7992e-02, 2.9962e-02],\n",
            "           [8.2392e-01, 5.8478e-04, 4.1023e-01,  ..., 5.9584e-01,\n",
            "            6.5919e-01, 6.3435e-01],\n",
            "           [8.9750e-02, 1.9739e-01, 8.3958e-01,  ..., 7.5593e-01,\n",
            "            7.5611e-01, 9.3625e-01],\n",
            "           [4.1905e-01, 3.2433e-01, 8.3097e-01,  ..., 7.7365e-01,\n",
            "            8.7274e-01, 6.8173e-01],\n",
            "           [3.2516e-01, 8.3366e-01, 8.9580e-01,  ..., 6.4635e-01,\n",
            "            6.0109e-01, 1.3919e-02],\n",
            "           [5.2273e-01, 6.1194e-01, 6.2022e-02,  ..., 7.8223e-01,\n",
            "            6.3537e-01, 5.3000e-01]]],\n",
            "\n",
            "\n",
            "         [[[6.4869e-01, 1.2876e-01, 9.1127e-01,  ..., 7.9926e-01,\n",
            "            6.2723e-02, 7.1945e-01],\n",
            "           [8.7463e-01, 5.6403e-01, 6.3847e-01,  ..., 3.1323e-01,\n",
            "            9.9719e-01, 8.4764e-01],\n",
            "           [8.7630e-02, 6.0413e-01, 2.3207e-01,  ..., 2.0569e-01,\n",
            "            2.5052e-01, 7.9743e-01],\n",
            "           [3.6667e-01, 9.7365e-01, 7.4697e-02,  ..., 7.0228e-01,\n",
            "            7.3491e-01, 8.4676e-01],\n",
            "           [2.4399e-01, 4.6243e-01, 2.4776e-01,  ..., 1.4912e-01,\n",
            "            9.3931e-01, 3.8699e-01],\n",
            "           [7.7010e-01, 4.6518e-01, 2.7034e-01,  ..., 5.1491e-01,\n",
            "            1.0500e-01, 7.2301e-01]],\n",
            "\n",
            "          [[7.3388e-01, 8.9099e-01, 8.4829e-01,  ..., 8.1403e-01,\n",
            "            2.2305e-01, 2.8970e-01],\n",
            "           [4.3896e-01, 9.0851e-02, 4.1036e-01,  ..., 2.7072e-01,\n",
            "            5.4120e-01, 4.3446e-02],\n",
            "           [3.8107e-01, 7.5245e-02, 5.9366e-01,  ..., 5.4392e-01,\n",
            "            9.9279e-01, 8.7194e-01],\n",
            "           [1.4506e-01, 1.6627e-01, 5.1925e-01,  ..., 6.2344e-02,\n",
            "            9.6559e-01, 2.7447e-01],\n",
            "           [1.5067e-01, 6.7456e-02, 8.7168e-02,  ..., 5.8960e-01,\n",
            "            9.9157e-01, 7.7326e-01],\n",
            "           [1.0865e-01, 3.5132e-01, 8.7823e-01,  ..., 2.9930e-01,\n",
            "            9.8124e-01, 6.5009e-01]]]],\n",
            "\n",
            "\n",
            "\n",
            "        [[[[4.5215e-01, 3.1167e-01, 9.6230e-01,  ..., 6.4199e-01,\n",
            "            3.7986e-01, 8.6463e-02],\n",
            "           [2.5455e-01, 8.8755e-01, 7.7855e-01,  ..., 3.9130e-01,\n",
            "            1.8611e-01, 9.4082e-01],\n",
            "           [6.3877e-01, 4.9713e-01, 2.2327e-01,  ..., 3.3384e-01,\n",
            "            1.0166e-01, 3.7031e-02],\n",
            "           [2.0915e-02, 1.8979e-01, 5.3669e-01,  ..., 5.6244e-01,\n",
            "            5.9689e-01, 1.2489e-01],\n",
            "           [7.2698e-01, 4.3267e-01, 1.1493e-02,  ..., 1.8661e-01,\n",
            "            7.8666e-02, 1.2279e-01],\n",
            "           [3.8172e-01, 1.6861e-01, 3.2910e-01,  ..., 1.3457e-01,\n",
            "            3.8574e-02, 7.6681e-01]],\n",
            "\n",
            "          [[1.7776e-01, 9.7441e-01, 4.5635e-01,  ..., 1.8551e-01,\n",
            "            3.8015e-01, 8.2098e-01],\n",
            "           [2.7829e-01, 9.5703e-01, 5.0610e-02,  ..., 9.8062e-01,\n",
            "            1.0280e-02, 3.4472e-01],\n",
            "           [5.6716e-01, 9.2048e-01, 1.2082e-01,  ..., 8.1140e-01,\n",
            "            8.1457e-01, 3.3329e-01],\n",
            "           [7.6998e-01, 3.3044e-02, 6.2236e-01,  ..., 6.0037e-01,\n",
            "            5.7324e-02, 7.7184e-02],\n",
            "           [5.5512e-01, 6.1555e-01, 2.5400e-03,  ..., 3.7444e-01,\n",
            "            8.1940e-01, 9.9105e-01],\n",
            "           [1.3484e-01, 4.2892e-01, 8.6618e-01,  ..., 3.3292e-01,\n",
            "            3.5170e-01, 8.8908e-01]]],\n",
            "\n",
            "\n",
            "         [[[8.3315e-01, 7.5582e-01, 1.0151e-01,  ..., 5.1641e-01,\n",
            "            7.3204e-02, 6.6448e-01],\n",
            "           [2.9930e-01, 7.7536e-01, 1.7398e-01,  ..., 4.4836e-01,\n",
            "            2.4018e-01, 2.1267e-01],\n",
            "           [7.3967e-01, 1.4558e-01, 9.7924e-02,  ..., 4.3558e-02,\n",
            "            9.3458e-01, 5.1535e-01],\n",
            "           [4.6754e-01, 9.4994e-01, 1.5294e-01,  ..., 1.1653e-01,\n",
            "            4.2543e-01, 8.6478e-01],\n",
            "           [7.3699e-01, 9.3446e-01, 1.8871e-01,  ..., 6.2400e-01,\n",
            "            2.3111e-01, 1.5172e-01],\n",
            "           [6.9628e-01, 2.1853e-01, 9.4878e-01,  ..., 9.7767e-01,\n",
            "            3.2812e-01, 2.7992e-01]],\n",
            "\n",
            "          [[3.7937e-01, 9.0365e-01, 7.6389e-01,  ..., 1.7449e-01,\n",
            "            2.5477e-01, 7.3977e-01],\n",
            "           [8.7089e-02, 9.0989e-01, 1.5644e-01,  ..., 2.2515e-02,\n",
            "            6.1546e-01, 6.3032e-01],\n",
            "           [5.9414e-01, 7.4100e-01, 4.8576e-01,  ..., 9.5950e-01,\n",
            "            1.8685e-01, 2.3199e-01],\n",
            "           [1.8157e-01, 7.4602e-01, 2.1296e-01,  ..., 6.7942e-01,\n",
            "            1.6578e-01, 6.0284e-01],\n",
            "           [3.5852e-01, 4.4268e-01, 2.8347e-01,  ..., 4.8866e-01,\n",
            "            8.1409e-01, 5.1592e-01],\n",
            "           [2.9948e-01, 5.0291e-01, 8.0627e-01,  ..., 4.4864e-01,\n",
            "            9.9678e-01, 4.7543e-01]]],\n",
            "\n",
            "\n",
            "         [[[7.6831e-01, 1.9358e-02, 9.7860e-01,  ..., 3.0593e-01,\n",
            "            7.2422e-01, 3.8152e-01],\n",
            "           [9.4101e-01, 2.9514e-01, 2.0925e-01,  ..., 2.3818e-01,\n",
            "            3.3335e-01, 2.9478e-02],\n",
            "           [7.9845e-01, 4.5851e-01, 6.9768e-01,  ..., 1.5027e-01,\n",
            "            1.1366e-02, 7.4935e-01],\n",
            "           [9.9334e-01, 1.6104e-02, 6.7229e-02,  ..., 2.0575e-01,\n",
            "            9.6315e-01, 8.0886e-01],\n",
            "           [8.0011e-01, 4.1474e-01, 6.6273e-01,  ..., 2.9157e-01,\n",
            "            7.8811e-01, 9.5846e-01],\n",
            "           [1.5565e-01, 8.5263e-01, 2.9315e-01,  ..., 9.8293e-01,\n",
            "            8.3526e-01, 1.6252e-01]],\n",
            "\n",
            "          [[8.3275e-01, 8.7880e-01, 1.6323e-01,  ..., 5.6812e-01,\n",
            "            8.0804e-01, 7.1983e-01],\n",
            "           [2.1333e-01, 3.9469e-01, 3.6862e-01,  ..., 1.9792e-01,\n",
            "            3.8085e-01, 5.3296e-01],\n",
            "           [7.6702e-01, 6.0869e-01, 4.7239e-01,  ..., 8.7194e-01,\n",
            "            6.3408e-02, 2.4869e-01],\n",
            "           [8.1923e-01, 1.8595e-01, 5.8666e-01,  ..., 4.0888e-01,\n",
            "            5.7675e-01, 9.7529e-01],\n",
            "           [5.7840e-01, 5.6851e-01, 7.4038e-01,  ..., 4.3980e-01,\n",
            "            4.4411e-01, 9.5557e-01],\n",
            "           [5.6508e-01, 2.1986e-01, 9.6909e-01,  ..., 3.5139e-02,\n",
            "            7.6780e-02, 5.3112e-01]]],\n",
            "\n",
            "\n",
            "         [[[8.0318e-01, 8.4908e-01, 2.4390e-01,  ..., 9.6286e-01,\n",
            "            6.3813e-01, 4.4169e-01],\n",
            "           [2.4228e-01, 2.1360e-01, 8.0161e-01,  ..., 7.3655e-01,\n",
            "            6.6583e-02, 7.5298e-01],\n",
            "           [4.2378e-01, 5.3320e-01, 5.1020e-01,  ..., 2.8157e-01,\n",
            "            2.8727e-02, 4.9113e-01],\n",
            "           [1.3026e-01, 3.0186e-01, 5.7630e-01,  ..., 4.8105e-01,\n",
            "            1.4905e-01, 7.4444e-01],\n",
            "           [6.3354e-01, 2.8241e-02, 3.1784e-01,  ..., 4.5915e-01,\n",
            "            5.9567e-01, 6.9806e-02],\n",
            "           [6.7743e-01, 8.3741e-01, 1.2307e-01,  ..., 4.6371e-02,\n",
            "            7.2061e-01, 6.4577e-01]],\n",
            "\n",
            "          [[1.9154e-01, 4.1199e-01, 3.0859e-01,  ..., 3.8695e-01,\n",
            "            2.3466e-01, 2.6784e-01],\n",
            "           [1.8620e-01, 2.1909e-01, 4.3489e-02,  ..., 2.2136e-01,\n",
            "            7.5977e-01, 2.5920e-01],\n",
            "           [2.3241e-01, 2.9650e-01, 6.8027e-01,  ..., 9.9220e-02,\n",
            "            2.0837e-01, 5.9245e-01],\n",
            "           [4.6030e-01, 7.7511e-01, 3.8750e-01,  ..., 5.0872e-01,\n",
            "            6.3678e-01, 8.9018e-01],\n",
            "           [5.0465e-01, 3.2643e-02, 8.3022e-01,  ..., 7.8447e-01,\n",
            "            2.0427e-01, 1.5545e-01],\n",
            "           [2.1808e-01, 1.7607e-01, 1.4647e-01,  ..., 4.4791e-01,\n",
            "            6.8865e-01, 5.0541e-02]]]],\n",
            "\n",
            "\n",
            "\n",
            "        [[[[8.3973e-01, 7.0487e-02, 3.8311e-01,  ..., 1.1259e-01,\n",
            "            6.6303e-01, 6.7192e-01],\n",
            "           [1.8735e-01, 6.6812e-01, 5.8569e-01,  ..., 9.1974e-02,\n",
            "            5.4249e-01, 7.8111e-01],\n",
            "           [9.5843e-01, 8.5187e-01, 2.2977e-01,  ..., 4.3598e-01,\n",
            "            9.9183e-01, 9.5405e-01],\n",
            "           [3.5737e-01, 4.8249e-01, 6.7888e-01,  ..., 3.4454e-01,\n",
            "            9.3452e-01, 5.1703e-01],\n",
            "           [4.4178e-01, 1.2556e-01, 7.6004e-01,  ..., 7.4256e-01,\n",
            "            3.8363e-01, 6.6486e-01],\n",
            "           [4.1987e-01, 7.3477e-01, 6.8169e-01,  ..., 3.4263e-01,\n",
            "            7.3879e-01, 6.8967e-01]],\n",
            "\n",
            "          [[6.7959e-01, 9.3007e-01, 1.7837e-01,  ..., 6.4170e-01,\n",
            "            9.5070e-01, 2.2194e-01],\n",
            "           [1.2855e-01, 9.9801e-01, 7.5195e-01,  ..., 8.8065e-01,\n",
            "            7.5071e-01, 6.2158e-01],\n",
            "           [7.3283e-01, 4.3457e-01, 1.0648e-01,  ..., 6.4844e-01,\n",
            "            1.0374e-01, 6.0863e-01],\n",
            "           [3.8216e-01, 8.7366e-01, 8.1222e-01,  ..., 9.3472e-01,\n",
            "            2.8276e-01, 3.4600e-01],\n",
            "           [9.3992e-01, 8.6204e-01, 8.7493e-01,  ..., 6.3514e-01,\n",
            "            2.5993e-01, 7.3339e-02],\n",
            "           [3.8292e-01, 9.3262e-01, 5.9100e-01,  ..., 4.5815e-01,\n",
            "            1.5874e-01, 2.0524e-01]]],\n",
            "\n",
            "\n",
            "         [[[8.8887e-01, 5.4139e-01, 7.0663e-02,  ..., 1.2385e-01,\n",
            "            9.6720e-01, 1.5865e-01],\n",
            "           [3.6266e-02, 5.0479e-01, 3.4398e-01,  ..., 2.1592e-01,\n",
            "            9.8771e-01, 6.3459e-01],\n",
            "           [2.6127e-01, 6.5434e-01, 5.5338e-01,  ..., 9.6140e-01,\n",
            "            6.8558e-01, 5.7037e-01],\n",
            "           [1.0079e-01, 2.2097e-01, 8.7178e-01,  ..., 1.2880e-01,\n",
            "            3.7504e-01, 3.7989e-01],\n",
            "           [1.1923e-01, 4.4484e-01, 4.1275e-01,  ..., 3.6063e-02,\n",
            "            2.2006e-01, 2.2392e-01],\n",
            "           [2.0867e-01, 3.6801e-01, 6.7320e-01,  ..., 7.9379e-01,\n",
            "            9.4085e-01, 2.3100e-01]],\n",
            "\n",
            "          [[6.3929e-01, 5.8816e-02, 7.5177e-01,  ..., 8.8949e-01,\n",
            "            6.3758e-01, 5.2656e-01],\n",
            "           [3.7843e-01, 1.5531e-02, 2.1861e-01,  ..., 6.1638e-01,\n",
            "            2.4456e-01, 5.1696e-01],\n",
            "           [8.0724e-01, 3.5868e-02, 8.4968e-01,  ..., 2.7660e-01,\n",
            "            4.4383e-01, 3.7742e-01],\n",
            "           [4.2084e-01, 6.8731e-01, 5.1736e-02,  ..., 9.9007e-01,\n",
            "            8.3141e-01, 7.0196e-01],\n",
            "           [7.2544e-01, 8.3258e-01, 8.1406e-01,  ..., 5.9339e-01,\n",
            "            8.2534e-01, 1.7631e-01],\n",
            "           [1.9168e-01, 5.4803e-01, 2.0724e-01,  ..., 7.9505e-01,\n",
            "            5.3544e-01, 7.3681e-01]]],\n",
            "\n",
            "\n",
            "         [[[4.9420e-01, 3.0776e-01, 5.9236e-01,  ..., 8.5995e-01,\n",
            "            7.8091e-01, 9.4428e-01],\n",
            "           [1.3632e-01, 5.4268e-01, 9.9044e-01,  ..., 7.7746e-01,\n",
            "            5.3868e-01, 5.3911e-01],\n",
            "           [3.8290e-01, 1.7144e-01, 5.4424e-01,  ..., 9.6744e-01,\n",
            "            2.7901e-01, 1.2426e-01],\n",
            "           [6.5629e-01, 4.2909e-01, 2.9946e-01,  ..., 4.0180e-01,\n",
            "            5.2461e-01, 6.7546e-01],\n",
            "           [8.5446e-01, 2.8896e-03, 7.4606e-01,  ..., 3.0854e-01,\n",
            "            1.6259e-02, 8.2601e-01],\n",
            "           [5.7391e-01, 9.5045e-01, 2.0451e-01,  ..., 5.3414e-01,\n",
            "            7.2914e-01, 3.0228e-01]],\n",
            "\n",
            "          [[8.4371e-01, 6.5519e-01, 3.0500e-01,  ..., 7.3815e-01,\n",
            "            6.6410e-01, 1.3194e-01],\n",
            "           [8.7095e-01, 6.3959e-01, 6.7817e-01,  ..., 7.0092e-01,\n",
            "            1.4191e-01, 4.6605e-01],\n",
            "           [9.3262e-01, 3.7455e-01, 2.2454e-01,  ..., 2.6550e-02,\n",
            "            5.3743e-01, 9.9565e-01],\n",
            "           [9.1983e-01, 1.7875e-01, 7.4119e-01,  ..., 4.1937e-01,\n",
            "            1.4157e-01, 8.7963e-01],\n",
            "           [5.1844e-01, 1.8683e-01, 4.7290e-01,  ..., 7.2582e-01,\n",
            "            1.8121e-01, 4.9955e-01],\n",
            "           [1.4018e-01, 8.0791e-01, 9.4407e-01,  ..., 4.6181e-01,\n",
            "            4.2463e-01, 6.9492e-01]]],\n",
            "\n",
            "\n",
            "         [[[4.6097e-02, 3.6546e-01, 1.5231e-01,  ..., 5.8465e-01,\n",
            "            5.1537e-01, 8.0161e-02],\n",
            "           [1.8024e-01, 4.2950e-01, 1.6076e-01,  ..., 9.9613e-01,\n",
            "            9.3922e-01, 9.1581e-01],\n",
            "           [3.2432e-01, 5.7548e-01, 1.0555e-02,  ..., 5.3314e-01,\n",
            "            4.4670e-02, 6.5157e-01],\n",
            "           [4.3153e-01, 8.4840e-01, 2.0324e-01,  ..., 1.1876e-02,\n",
            "            5.9747e-02, 8.6022e-01],\n",
            "           [5.7411e-01, 2.7179e-01, 5.0667e-01,  ..., 7.3830e-01,\n",
            "            7.7582e-01, 6.4209e-01],\n",
            "           [1.8183e-01, 2.9266e-01, 3.2030e-01,  ..., 8.3527e-01,\n",
            "            1.4926e-02, 8.5059e-01]],\n",
            "\n",
            "          [[7.6251e-01, 3.7555e-01, 9.4084e-01,  ..., 5.4079e-01,\n",
            "            5.4116e-01, 9.8713e-01],\n",
            "           [8.4857e-01, 8.0147e-01, 9.5953e-01,  ..., 6.8733e-01,\n",
            "            2.0690e-01, 3.2702e-01],\n",
            "           [4.8585e-01, 1.9287e-01, 7.9468e-01,  ..., 3.3595e-01,\n",
            "            9.7897e-01, 2.4528e-01],\n",
            "           [5.5587e-01, 9.2675e-01, 1.3306e-01,  ..., 2.2607e-01,\n",
            "            9.0092e-01, 8.5510e-01],\n",
            "           [4.3132e-01, 1.0231e-01, 7.4435e-01,  ..., 2.5022e-01,\n",
            "            9.6622e-01, 4.9207e-01],\n",
            "           [4.0489e-01, 2.6434e-01, 7.1887e-01,  ..., 6.4457e-01,\n",
            "            3.2416e-01, 8.5713e-01]]]]])\n",
            "New shape: torch.Size([3, 4, 2, 6, 8])\n"
          ]
        }
      ]
    },
    {
      "cell_type": "code",
      "source": [
        "# torch.unsqueeze() - adds a single dimension to a target tensor at a specific dim(dimension)\n",
        "print(f\"Previous target: {eg_tensor_squeezed}\")\n",
        "print(f\"Previous shape:{eg_tensor_squeezed.shape}\")\n",
        "\n",
        "eg_tensor_unsqueezed = eg_tensor_squeezed.unsqueeze(dim=0)\n",
        "\n",
        "print(f\"New tensor: {eg_tensor_unsqueezed}\")\n",
        "print(f\"New shape: {eg_tensor_unsqueezed.shape}\")"
      ],
      "metadata": {
        "colab": {
          "base_uri": "https://localhost:8080/"
        },
        "id": "166cEVic6pcH",
        "outputId": "bba32213-199b-4f6b-8b68-6595c813d9ad"
      },
      "execution_count": 331,
      "outputs": [
        {
          "output_type": "stream",
          "name": "stdout",
          "text": [
            "Previous target: tensor([[[[[4.5412e-01, 6.2239e-01, 9.2387e-01,  ..., 8.8782e-01,\n",
            "            5.5923e-01, 4.4748e-01],\n",
            "           [1.5281e-01, 8.7269e-01, 3.8815e-01,  ..., 1.5923e-01,\n",
            "            2.8127e-01, 9.6764e-01],\n",
            "           [7.3377e-01, 5.9014e-01, 3.3150e-01,  ..., 4.2262e-01,\n",
            "            5.2518e-01, 4.5322e-01],\n",
            "           [7.1227e-01, 2.7569e-01, 6.2408e-01,  ..., 6.7718e-01,\n",
            "            2.6227e-01, 1.7994e-01],\n",
            "           [3.5661e-02, 3.7577e-01, 2.3761e-01,  ..., 7.8902e-01,\n",
            "            8.6207e-01, 8.2930e-01],\n",
            "           [6.8461e-01, 7.7481e-01, 7.7046e-01,  ..., 1.5377e-01,\n",
            "            4.5443e-01, 3.2902e-01]],\n",
            "\n",
            "          [[9.7856e-01, 4.6083e-01, 3.2024e-01,  ..., 7.2285e-01,\n",
            "            8.5437e-01, 4.9992e-01],\n",
            "           [7.0010e-01, 3.0996e-01, 6.1939e-01,  ..., 3.2384e-01,\n",
            "            3.1408e-01, 8.3881e-01],\n",
            "           [9.0624e-01, 6.6793e-01, 4.0128e-01,  ..., 9.1426e-01,\n",
            "            9.5592e-01, 1.3458e-01],\n",
            "           [6.9467e-01, 7.5709e-01, 5.3009e-01,  ..., 4.8532e-01,\n",
            "            1.6864e-01, 4.5913e-01],\n",
            "           [1.4708e-01, 9.9886e-01, 1.7581e-02,  ..., 1.0508e-01,\n",
            "            6.1256e-01, 6.5294e-01],\n",
            "           [1.1951e-01, 1.0083e-01, 9.7005e-02,  ..., 2.7937e-01,\n",
            "            9.4373e-01, 2.3159e-01]]],\n",
            "\n",
            "\n",
            "         [[[4.6623e-01, 9.8785e-01, 1.1699e-01,  ..., 2.3351e-01,\n",
            "            8.8282e-01, 3.5192e-01],\n",
            "           [5.4215e-01, 4.4938e-01, 2.4290e-01,  ..., 1.0014e-01,\n",
            "            3.3143e-01, 6.1412e-01],\n",
            "           [1.6885e-01, 7.3088e-01, 7.1403e-01,  ..., 8.9530e-01,\n",
            "            9.1461e-01, 3.7047e-01],\n",
            "           [6.7404e-01, 7.8608e-02, 6.5887e-01,  ..., 8.2317e-01,\n",
            "            1.7773e-01, 7.7425e-01],\n",
            "           [8.9641e-01, 6.2869e-02, 1.9816e-01,  ..., 1.6147e-01,\n",
            "            9.0533e-01, 9.5482e-01],\n",
            "           [4.6856e-01, 1.5122e-01, 5.7290e-01,  ..., 5.7585e-01,\n",
            "            2.6019e-01, 4.5480e-02]],\n",
            "\n",
            "          [[9.3244e-01, 1.6014e-01, 3.5478e-01,  ..., 5.9235e-01,\n",
            "            1.4543e-01, 7.0944e-01],\n",
            "           [9.9557e-01, 4.4467e-01, 8.8904e-01,  ..., 9.4193e-01,\n",
            "            6.6093e-01, 1.0311e-02],\n",
            "           [8.5131e-01, 3.8823e-01, 7.5814e-01,  ..., 7.3130e-01,\n",
            "            3.7631e-01, 8.9142e-01],\n",
            "           [3.2573e-01, 3.1752e-01, 9.4590e-01,  ..., 4.2403e-01,\n",
            "            1.0711e-01, 4.0320e-01],\n",
            "           [5.1721e-02, 8.5635e-01, 5.2032e-01,  ..., 9.4685e-01,\n",
            "            9.6990e-01, 8.7521e-01],\n",
            "           [9.3400e-01, 5.5921e-01, 2.1791e-01,  ..., 5.7888e-01,\n",
            "            7.8353e-01, 4.9723e-01]]],\n",
            "\n",
            "\n",
            "         [[[8.9698e-01, 1.8647e-01, 5.3688e-02,  ..., 7.5830e-01,\n",
            "            3.5904e-01, 5.4840e-01],\n",
            "           [3.0479e-01, 8.0270e-01, 4.2091e-01,  ..., 9.6870e-01,\n",
            "            1.8779e-01, 9.7685e-01],\n",
            "           [7.6504e-01, 4.3915e-01, 2.9206e-01,  ..., 9.8436e-01,\n",
            "            4.3752e-01, 4.2212e-01],\n",
            "           [2.4318e-01, 8.4924e-01, 2.9720e-01,  ..., 7.1234e-02,\n",
            "            8.1714e-01, 9.6099e-01],\n",
            "           [3.2443e-01, 8.7923e-01, 2.8792e-01,  ..., 3.2824e-01,\n",
            "            5.8072e-01, 1.1827e-01],\n",
            "           [8.0031e-01, 7.3502e-01, 6.7677e-01,  ..., 2.2476e-01,\n",
            "            2.9705e-03, 6.3985e-01]],\n",
            "\n",
            "          [[8.9462e-01, 9.5207e-01, 2.6094e-01,  ..., 1.9064e-01,\n",
            "            3.7992e-02, 2.9962e-02],\n",
            "           [8.2392e-01, 5.8478e-04, 4.1023e-01,  ..., 5.9584e-01,\n",
            "            6.5919e-01, 6.3435e-01],\n",
            "           [8.9750e-02, 1.9739e-01, 8.3958e-01,  ..., 7.5593e-01,\n",
            "            7.5611e-01, 9.3625e-01],\n",
            "           [4.1905e-01, 3.2433e-01, 8.3097e-01,  ..., 7.7365e-01,\n",
            "            8.7274e-01, 6.8173e-01],\n",
            "           [3.2516e-01, 8.3366e-01, 8.9580e-01,  ..., 6.4635e-01,\n",
            "            6.0109e-01, 1.3919e-02],\n",
            "           [5.2273e-01, 6.1194e-01, 6.2022e-02,  ..., 7.8223e-01,\n",
            "            6.3537e-01, 5.3000e-01]]],\n",
            "\n",
            "\n",
            "         [[[6.4869e-01, 1.2876e-01, 9.1127e-01,  ..., 7.9926e-01,\n",
            "            6.2723e-02, 7.1945e-01],\n",
            "           [8.7463e-01, 5.6403e-01, 6.3847e-01,  ..., 3.1323e-01,\n",
            "            9.9719e-01, 8.4764e-01],\n",
            "           [8.7630e-02, 6.0413e-01, 2.3207e-01,  ..., 2.0569e-01,\n",
            "            2.5052e-01, 7.9743e-01],\n",
            "           [3.6667e-01, 9.7365e-01, 7.4697e-02,  ..., 7.0228e-01,\n",
            "            7.3491e-01, 8.4676e-01],\n",
            "           [2.4399e-01, 4.6243e-01, 2.4776e-01,  ..., 1.4912e-01,\n",
            "            9.3931e-01, 3.8699e-01],\n",
            "           [7.7010e-01, 4.6518e-01, 2.7034e-01,  ..., 5.1491e-01,\n",
            "            1.0500e-01, 7.2301e-01]],\n",
            "\n",
            "          [[7.3388e-01, 8.9099e-01, 8.4829e-01,  ..., 8.1403e-01,\n",
            "            2.2305e-01, 2.8970e-01],\n",
            "           [4.3896e-01, 9.0851e-02, 4.1036e-01,  ..., 2.7072e-01,\n",
            "            5.4120e-01, 4.3446e-02],\n",
            "           [3.8107e-01, 7.5245e-02, 5.9366e-01,  ..., 5.4392e-01,\n",
            "            9.9279e-01, 8.7194e-01],\n",
            "           [1.4506e-01, 1.6627e-01, 5.1925e-01,  ..., 6.2344e-02,\n",
            "            9.6559e-01, 2.7447e-01],\n",
            "           [1.5067e-01, 6.7456e-02, 8.7168e-02,  ..., 5.8960e-01,\n",
            "            9.9157e-01, 7.7326e-01],\n",
            "           [1.0865e-01, 3.5132e-01, 8.7823e-01,  ..., 2.9930e-01,\n",
            "            9.8124e-01, 6.5009e-01]]]],\n",
            "\n",
            "\n",
            "\n",
            "        [[[[4.5215e-01, 3.1167e-01, 9.6230e-01,  ..., 6.4199e-01,\n",
            "            3.7986e-01, 8.6463e-02],\n",
            "           [2.5455e-01, 8.8755e-01, 7.7855e-01,  ..., 3.9130e-01,\n",
            "            1.8611e-01, 9.4082e-01],\n",
            "           [6.3877e-01, 4.9713e-01, 2.2327e-01,  ..., 3.3384e-01,\n",
            "            1.0166e-01, 3.7031e-02],\n",
            "           [2.0915e-02, 1.8979e-01, 5.3669e-01,  ..., 5.6244e-01,\n",
            "            5.9689e-01, 1.2489e-01],\n",
            "           [7.2698e-01, 4.3267e-01, 1.1493e-02,  ..., 1.8661e-01,\n",
            "            7.8666e-02, 1.2279e-01],\n",
            "           [3.8172e-01, 1.6861e-01, 3.2910e-01,  ..., 1.3457e-01,\n",
            "            3.8574e-02, 7.6681e-01]],\n",
            "\n",
            "          [[1.7776e-01, 9.7441e-01, 4.5635e-01,  ..., 1.8551e-01,\n",
            "            3.8015e-01, 8.2098e-01],\n",
            "           [2.7829e-01, 9.5703e-01, 5.0610e-02,  ..., 9.8062e-01,\n",
            "            1.0280e-02, 3.4472e-01],\n",
            "           [5.6716e-01, 9.2048e-01, 1.2082e-01,  ..., 8.1140e-01,\n",
            "            8.1457e-01, 3.3329e-01],\n",
            "           [7.6998e-01, 3.3044e-02, 6.2236e-01,  ..., 6.0037e-01,\n",
            "            5.7324e-02, 7.7184e-02],\n",
            "           [5.5512e-01, 6.1555e-01, 2.5400e-03,  ..., 3.7444e-01,\n",
            "            8.1940e-01, 9.9105e-01],\n",
            "           [1.3484e-01, 4.2892e-01, 8.6618e-01,  ..., 3.3292e-01,\n",
            "            3.5170e-01, 8.8908e-01]]],\n",
            "\n",
            "\n",
            "         [[[8.3315e-01, 7.5582e-01, 1.0151e-01,  ..., 5.1641e-01,\n",
            "            7.3204e-02, 6.6448e-01],\n",
            "           [2.9930e-01, 7.7536e-01, 1.7398e-01,  ..., 4.4836e-01,\n",
            "            2.4018e-01, 2.1267e-01],\n",
            "           [7.3967e-01, 1.4558e-01, 9.7924e-02,  ..., 4.3558e-02,\n",
            "            9.3458e-01, 5.1535e-01],\n",
            "           [4.6754e-01, 9.4994e-01, 1.5294e-01,  ..., 1.1653e-01,\n",
            "            4.2543e-01, 8.6478e-01],\n",
            "           [7.3699e-01, 9.3446e-01, 1.8871e-01,  ..., 6.2400e-01,\n",
            "            2.3111e-01, 1.5172e-01],\n",
            "           [6.9628e-01, 2.1853e-01, 9.4878e-01,  ..., 9.7767e-01,\n",
            "            3.2812e-01, 2.7992e-01]],\n",
            "\n",
            "          [[3.7937e-01, 9.0365e-01, 7.6389e-01,  ..., 1.7449e-01,\n",
            "            2.5477e-01, 7.3977e-01],\n",
            "           [8.7089e-02, 9.0989e-01, 1.5644e-01,  ..., 2.2515e-02,\n",
            "            6.1546e-01, 6.3032e-01],\n",
            "           [5.9414e-01, 7.4100e-01, 4.8576e-01,  ..., 9.5950e-01,\n",
            "            1.8685e-01, 2.3199e-01],\n",
            "           [1.8157e-01, 7.4602e-01, 2.1296e-01,  ..., 6.7942e-01,\n",
            "            1.6578e-01, 6.0284e-01],\n",
            "           [3.5852e-01, 4.4268e-01, 2.8347e-01,  ..., 4.8866e-01,\n",
            "            8.1409e-01, 5.1592e-01],\n",
            "           [2.9948e-01, 5.0291e-01, 8.0627e-01,  ..., 4.4864e-01,\n",
            "            9.9678e-01, 4.7543e-01]]],\n",
            "\n",
            "\n",
            "         [[[7.6831e-01, 1.9358e-02, 9.7860e-01,  ..., 3.0593e-01,\n",
            "            7.2422e-01, 3.8152e-01],\n",
            "           [9.4101e-01, 2.9514e-01, 2.0925e-01,  ..., 2.3818e-01,\n",
            "            3.3335e-01, 2.9478e-02],\n",
            "           [7.9845e-01, 4.5851e-01, 6.9768e-01,  ..., 1.5027e-01,\n",
            "            1.1366e-02, 7.4935e-01],\n",
            "           [9.9334e-01, 1.6104e-02, 6.7229e-02,  ..., 2.0575e-01,\n",
            "            9.6315e-01, 8.0886e-01],\n",
            "           [8.0011e-01, 4.1474e-01, 6.6273e-01,  ..., 2.9157e-01,\n",
            "            7.8811e-01, 9.5846e-01],\n",
            "           [1.5565e-01, 8.5263e-01, 2.9315e-01,  ..., 9.8293e-01,\n",
            "            8.3526e-01, 1.6252e-01]],\n",
            "\n",
            "          [[8.3275e-01, 8.7880e-01, 1.6323e-01,  ..., 5.6812e-01,\n",
            "            8.0804e-01, 7.1983e-01],\n",
            "           [2.1333e-01, 3.9469e-01, 3.6862e-01,  ..., 1.9792e-01,\n",
            "            3.8085e-01, 5.3296e-01],\n",
            "           [7.6702e-01, 6.0869e-01, 4.7239e-01,  ..., 8.7194e-01,\n",
            "            6.3408e-02, 2.4869e-01],\n",
            "           [8.1923e-01, 1.8595e-01, 5.8666e-01,  ..., 4.0888e-01,\n",
            "            5.7675e-01, 9.7529e-01],\n",
            "           [5.7840e-01, 5.6851e-01, 7.4038e-01,  ..., 4.3980e-01,\n",
            "            4.4411e-01, 9.5557e-01],\n",
            "           [5.6508e-01, 2.1986e-01, 9.6909e-01,  ..., 3.5139e-02,\n",
            "            7.6780e-02, 5.3112e-01]]],\n",
            "\n",
            "\n",
            "         [[[8.0318e-01, 8.4908e-01, 2.4390e-01,  ..., 9.6286e-01,\n",
            "            6.3813e-01, 4.4169e-01],\n",
            "           [2.4228e-01, 2.1360e-01, 8.0161e-01,  ..., 7.3655e-01,\n",
            "            6.6583e-02, 7.5298e-01],\n",
            "           [4.2378e-01, 5.3320e-01, 5.1020e-01,  ..., 2.8157e-01,\n",
            "            2.8727e-02, 4.9113e-01],\n",
            "           [1.3026e-01, 3.0186e-01, 5.7630e-01,  ..., 4.8105e-01,\n",
            "            1.4905e-01, 7.4444e-01],\n",
            "           [6.3354e-01, 2.8241e-02, 3.1784e-01,  ..., 4.5915e-01,\n",
            "            5.9567e-01, 6.9806e-02],\n",
            "           [6.7743e-01, 8.3741e-01, 1.2307e-01,  ..., 4.6371e-02,\n",
            "            7.2061e-01, 6.4577e-01]],\n",
            "\n",
            "          [[1.9154e-01, 4.1199e-01, 3.0859e-01,  ..., 3.8695e-01,\n",
            "            2.3466e-01, 2.6784e-01],\n",
            "           [1.8620e-01, 2.1909e-01, 4.3489e-02,  ..., 2.2136e-01,\n",
            "            7.5977e-01, 2.5920e-01],\n",
            "           [2.3241e-01, 2.9650e-01, 6.8027e-01,  ..., 9.9220e-02,\n",
            "            2.0837e-01, 5.9245e-01],\n",
            "           [4.6030e-01, 7.7511e-01, 3.8750e-01,  ..., 5.0872e-01,\n",
            "            6.3678e-01, 8.9018e-01],\n",
            "           [5.0465e-01, 3.2643e-02, 8.3022e-01,  ..., 7.8447e-01,\n",
            "            2.0427e-01, 1.5545e-01],\n",
            "           [2.1808e-01, 1.7607e-01, 1.4647e-01,  ..., 4.4791e-01,\n",
            "            6.8865e-01, 5.0541e-02]]]],\n",
            "\n",
            "\n",
            "\n",
            "        [[[[8.3973e-01, 7.0487e-02, 3.8311e-01,  ..., 1.1259e-01,\n",
            "            6.6303e-01, 6.7192e-01],\n",
            "           [1.8735e-01, 6.6812e-01, 5.8569e-01,  ..., 9.1974e-02,\n",
            "            5.4249e-01, 7.8111e-01],\n",
            "           [9.5843e-01, 8.5187e-01, 2.2977e-01,  ..., 4.3598e-01,\n",
            "            9.9183e-01, 9.5405e-01],\n",
            "           [3.5737e-01, 4.8249e-01, 6.7888e-01,  ..., 3.4454e-01,\n",
            "            9.3452e-01, 5.1703e-01],\n",
            "           [4.4178e-01, 1.2556e-01, 7.6004e-01,  ..., 7.4256e-01,\n",
            "            3.8363e-01, 6.6486e-01],\n",
            "           [4.1987e-01, 7.3477e-01, 6.8169e-01,  ..., 3.4263e-01,\n",
            "            7.3879e-01, 6.8967e-01]],\n",
            "\n",
            "          [[6.7959e-01, 9.3007e-01, 1.7837e-01,  ..., 6.4170e-01,\n",
            "            9.5070e-01, 2.2194e-01],\n",
            "           [1.2855e-01, 9.9801e-01, 7.5195e-01,  ..., 8.8065e-01,\n",
            "            7.5071e-01, 6.2158e-01],\n",
            "           [7.3283e-01, 4.3457e-01, 1.0648e-01,  ..., 6.4844e-01,\n",
            "            1.0374e-01, 6.0863e-01],\n",
            "           [3.8216e-01, 8.7366e-01, 8.1222e-01,  ..., 9.3472e-01,\n",
            "            2.8276e-01, 3.4600e-01],\n",
            "           [9.3992e-01, 8.6204e-01, 8.7493e-01,  ..., 6.3514e-01,\n",
            "            2.5993e-01, 7.3339e-02],\n",
            "           [3.8292e-01, 9.3262e-01, 5.9100e-01,  ..., 4.5815e-01,\n",
            "            1.5874e-01, 2.0524e-01]]],\n",
            "\n",
            "\n",
            "         [[[8.8887e-01, 5.4139e-01, 7.0663e-02,  ..., 1.2385e-01,\n",
            "            9.6720e-01, 1.5865e-01],\n",
            "           [3.6266e-02, 5.0479e-01, 3.4398e-01,  ..., 2.1592e-01,\n",
            "            9.8771e-01, 6.3459e-01],\n",
            "           [2.6127e-01, 6.5434e-01, 5.5338e-01,  ..., 9.6140e-01,\n",
            "            6.8558e-01, 5.7037e-01],\n",
            "           [1.0079e-01, 2.2097e-01, 8.7178e-01,  ..., 1.2880e-01,\n",
            "            3.7504e-01, 3.7989e-01],\n",
            "           [1.1923e-01, 4.4484e-01, 4.1275e-01,  ..., 3.6063e-02,\n",
            "            2.2006e-01, 2.2392e-01],\n",
            "           [2.0867e-01, 3.6801e-01, 6.7320e-01,  ..., 7.9379e-01,\n",
            "            9.4085e-01, 2.3100e-01]],\n",
            "\n",
            "          [[6.3929e-01, 5.8816e-02, 7.5177e-01,  ..., 8.8949e-01,\n",
            "            6.3758e-01, 5.2656e-01],\n",
            "           [3.7843e-01, 1.5531e-02, 2.1861e-01,  ..., 6.1638e-01,\n",
            "            2.4456e-01, 5.1696e-01],\n",
            "           [8.0724e-01, 3.5868e-02, 8.4968e-01,  ..., 2.7660e-01,\n",
            "            4.4383e-01, 3.7742e-01],\n",
            "           [4.2084e-01, 6.8731e-01, 5.1736e-02,  ..., 9.9007e-01,\n",
            "            8.3141e-01, 7.0196e-01],\n",
            "           [7.2544e-01, 8.3258e-01, 8.1406e-01,  ..., 5.9339e-01,\n",
            "            8.2534e-01, 1.7631e-01],\n",
            "           [1.9168e-01, 5.4803e-01, 2.0724e-01,  ..., 7.9505e-01,\n",
            "            5.3544e-01, 7.3681e-01]]],\n",
            "\n",
            "\n",
            "         [[[4.9420e-01, 3.0776e-01, 5.9236e-01,  ..., 8.5995e-01,\n",
            "            7.8091e-01, 9.4428e-01],\n",
            "           [1.3632e-01, 5.4268e-01, 9.9044e-01,  ..., 7.7746e-01,\n",
            "            5.3868e-01, 5.3911e-01],\n",
            "           [3.8290e-01, 1.7144e-01, 5.4424e-01,  ..., 9.6744e-01,\n",
            "            2.7901e-01, 1.2426e-01],\n",
            "           [6.5629e-01, 4.2909e-01, 2.9946e-01,  ..., 4.0180e-01,\n",
            "            5.2461e-01, 6.7546e-01],\n",
            "           [8.5446e-01, 2.8896e-03, 7.4606e-01,  ..., 3.0854e-01,\n",
            "            1.6259e-02, 8.2601e-01],\n",
            "           [5.7391e-01, 9.5045e-01, 2.0451e-01,  ..., 5.3414e-01,\n",
            "            7.2914e-01, 3.0228e-01]],\n",
            "\n",
            "          [[8.4371e-01, 6.5519e-01, 3.0500e-01,  ..., 7.3815e-01,\n",
            "            6.6410e-01, 1.3194e-01],\n",
            "           [8.7095e-01, 6.3959e-01, 6.7817e-01,  ..., 7.0092e-01,\n",
            "            1.4191e-01, 4.6605e-01],\n",
            "           [9.3262e-01, 3.7455e-01, 2.2454e-01,  ..., 2.6550e-02,\n",
            "            5.3743e-01, 9.9565e-01],\n",
            "           [9.1983e-01, 1.7875e-01, 7.4119e-01,  ..., 4.1937e-01,\n",
            "            1.4157e-01, 8.7963e-01],\n",
            "           [5.1844e-01, 1.8683e-01, 4.7290e-01,  ..., 7.2582e-01,\n",
            "            1.8121e-01, 4.9955e-01],\n",
            "           [1.4018e-01, 8.0791e-01, 9.4407e-01,  ..., 4.6181e-01,\n",
            "            4.2463e-01, 6.9492e-01]]],\n",
            "\n",
            "\n",
            "         [[[4.6097e-02, 3.6546e-01, 1.5231e-01,  ..., 5.8465e-01,\n",
            "            5.1537e-01, 8.0161e-02],\n",
            "           [1.8024e-01, 4.2950e-01, 1.6076e-01,  ..., 9.9613e-01,\n",
            "            9.3922e-01, 9.1581e-01],\n",
            "           [3.2432e-01, 5.7548e-01, 1.0555e-02,  ..., 5.3314e-01,\n",
            "            4.4670e-02, 6.5157e-01],\n",
            "           [4.3153e-01, 8.4840e-01, 2.0324e-01,  ..., 1.1876e-02,\n",
            "            5.9747e-02, 8.6022e-01],\n",
            "           [5.7411e-01, 2.7179e-01, 5.0667e-01,  ..., 7.3830e-01,\n",
            "            7.7582e-01, 6.4209e-01],\n",
            "           [1.8183e-01, 2.9266e-01, 3.2030e-01,  ..., 8.3527e-01,\n",
            "            1.4926e-02, 8.5059e-01]],\n",
            "\n",
            "          [[7.6251e-01, 3.7555e-01, 9.4084e-01,  ..., 5.4079e-01,\n",
            "            5.4116e-01, 9.8713e-01],\n",
            "           [8.4857e-01, 8.0147e-01, 9.5953e-01,  ..., 6.8733e-01,\n",
            "            2.0690e-01, 3.2702e-01],\n",
            "           [4.8585e-01, 1.9287e-01, 7.9468e-01,  ..., 3.3595e-01,\n",
            "            9.7897e-01, 2.4528e-01],\n",
            "           [5.5587e-01, 9.2675e-01, 1.3306e-01,  ..., 2.2607e-01,\n",
            "            9.0092e-01, 8.5510e-01],\n",
            "           [4.3132e-01, 1.0231e-01, 7.4435e-01,  ..., 2.5022e-01,\n",
            "            9.6622e-01, 4.9207e-01],\n",
            "           [4.0489e-01, 2.6434e-01, 7.1887e-01,  ..., 6.4457e-01,\n",
            "            3.2416e-01, 8.5713e-01]]]]])\n",
            "Previous shape:torch.Size([3, 4, 2, 6, 8])\n",
            "New tensor: tensor([[[[[[4.5412e-01, 6.2239e-01, 9.2387e-01,  ..., 8.8782e-01,\n",
            "             5.5923e-01, 4.4748e-01],\n",
            "            [1.5281e-01, 8.7269e-01, 3.8815e-01,  ..., 1.5923e-01,\n",
            "             2.8127e-01, 9.6764e-01],\n",
            "            [7.3377e-01, 5.9014e-01, 3.3150e-01,  ..., 4.2262e-01,\n",
            "             5.2518e-01, 4.5322e-01],\n",
            "            [7.1227e-01, 2.7569e-01, 6.2408e-01,  ..., 6.7718e-01,\n",
            "             2.6227e-01, 1.7994e-01],\n",
            "            [3.5661e-02, 3.7577e-01, 2.3761e-01,  ..., 7.8902e-01,\n",
            "             8.6207e-01, 8.2930e-01],\n",
            "            [6.8461e-01, 7.7481e-01, 7.7046e-01,  ..., 1.5377e-01,\n",
            "             4.5443e-01, 3.2902e-01]],\n",
            "\n",
            "           [[9.7856e-01, 4.6083e-01, 3.2024e-01,  ..., 7.2285e-01,\n",
            "             8.5437e-01, 4.9992e-01],\n",
            "            [7.0010e-01, 3.0996e-01, 6.1939e-01,  ..., 3.2384e-01,\n",
            "             3.1408e-01, 8.3881e-01],\n",
            "            [9.0624e-01, 6.6793e-01, 4.0128e-01,  ..., 9.1426e-01,\n",
            "             9.5592e-01, 1.3458e-01],\n",
            "            [6.9467e-01, 7.5709e-01, 5.3009e-01,  ..., 4.8532e-01,\n",
            "             1.6864e-01, 4.5913e-01],\n",
            "            [1.4708e-01, 9.9886e-01, 1.7581e-02,  ..., 1.0508e-01,\n",
            "             6.1256e-01, 6.5294e-01],\n",
            "            [1.1951e-01, 1.0083e-01, 9.7005e-02,  ..., 2.7937e-01,\n",
            "             9.4373e-01, 2.3159e-01]]],\n",
            "\n",
            "\n",
            "          [[[4.6623e-01, 9.8785e-01, 1.1699e-01,  ..., 2.3351e-01,\n",
            "             8.8282e-01, 3.5192e-01],\n",
            "            [5.4215e-01, 4.4938e-01, 2.4290e-01,  ..., 1.0014e-01,\n",
            "             3.3143e-01, 6.1412e-01],\n",
            "            [1.6885e-01, 7.3088e-01, 7.1403e-01,  ..., 8.9530e-01,\n",
            "             9.1461e-01, 3.7047e-01],\n",
            "            [6.7404e-01, 7.8608e-02, 6.5887e-01,  ..., 8.2317e-01,\n",
            "             1.7773e-01, 7.7425e-01],\n",
            "            [8.9641e-01, 6.2869e-02, 1.9816e-01,  ..., 1.6147e-01,\n",
            "             9.0533e-01, 9.5482e-01],\n",
            "            [4.6856e-01, 1.5122e-01, 5.7290e-01,  ..., 5.7585e-01,\n",
            "             2.6019e-01, 4.5480e-02]],\n",
            "\n",
            "           [[9.3244e-01, 1.6014e-01, 3.5478e-01,  ..., 5.9235e-01,\n",
            "             1.4543e-01, 7.0944e-01],\n",
            "            [9.9557e-01, 4.4467e-01, 8.8904e-01,  ..., 9.4193e-01,\n",
            "             6.6093e-01, 1.0311e-02],\n",
            "            [8.5131e-01, 3.8823e-01, 7.5814e-01,  ..., 7.3130e-01,\n",
            "             3.7631e-01, 8.9142e-01],\n",
            "            [3.2573e-01, 3.1752e-01, 9.4590e-01,  ..., 4.2403e-01,\n",
            "             1.0711e-01, 4.0320e-01],\n",
            "            [5.1721e-02, 8.5635e-01, 5.2032e-01,  ..., 9.4685e-01,\n",
            "             9.6990e-01, 8.7521e-01],\n",
            "            [9.3400e-01, 5.5921e-01, 2.1791e-01,  ..., 5.7888e-01,\n",
            "             7.8353e-01, 4.9723e-01]]],\n",
            "\n",
            "\n",
            "          [[[8.9698e-01, 1.8647e-01, 5.3688e-02,  ..., 7.5830e-01,\n",
            "             3.5904e-01, 5.4840e-01],\n",
            "            [3.0479e-01, 8.0270e-01, 4.2091e-01,  ..., 9.6870e-01,\n",
            "             1.8779e-01, 9.7685e-01],\n",
            "            [7.6504e-01, 4.3915e-01, 2.9206e-01,  ..., 9.8436e-01,\n",
            "             4.3752e-01, 4.2212e-01],\n",
            "            [2.4318e-01, 8.4924e-01, 2.9720e-01,  ..., 7.1234e-02,\n",
            "             8.1714e-01, 9.6099e-01],\n",
            "            [3.2443e-01, 8.7923e-01, 2.8792e-01,  ..., 3.2824e-01,\n",
            "             5.8072e-01, 1.1827e-01],\n",
            "            [8.0031e-01, 7.3502e-01, 6.7677e-01,  ..., 2.2476e-01,\n",
            "             2.9705e-03, 6.3985e-01]],\n",
            "\n",
            "           [[8.9462e-01, 9.5207e-01, 2.6094e-01,  ..., 1.9064e-01,\n",
            "             3.7992e-02, 2.9962e-02],\n",
            "            [8.2392e-01, 5.8478e-04, 4.1023e-01,  ..., 5.9584e-01,\n",
            "             6.5919e-01, 6.3435e-01],\n",
            "            [8.9750e-02, 1.9739e-01, 8.3958e-01,  ..., 7.5593e-01,\n",
            "             7.5611e-01, 9.3625e-01],\n",
            "            [4.1905e-01, 3.2433e-01, 8.3097e-01,  ..., 7.7365e-01,\n",
            "             8.7274e-01, 6.8173e-01],\n",
            "            [3.2516e-01, 8.3366e-01, 8.9580e-01,  ..., 6.4635e-01,\n",
            "             6.0109e-01, 1.3919e-02],\n",
            "            [5.2273e-01, 6.1194e-01, 6.2022e-02,  ..., 7.8223e-01,\n",
            "             6.3537e-01, 5.3000e-01]]],\n",
            "\n",
            "\n",
            "          [[[6.4869e-01, 1.2876e-01, 9.1127e-01,  ..., 7.9926e-01,\n",
            "             6.2723e-02, 7.1945e-01],\n",
            "            [8.7463e-01, 5.6403e-01, 6.3847e-01,  ..., 3.1323e-01,\n",
            "             9.9719e-01, 8.4764e-01],\n",
            "            [8.7630e-02, 6.0413e-01, 2.3207e-01,  ..., 2.0569e-01,\n",
            "             2.5052e-01, 7.9743e-01],\n",
            "            [3.6667e-01, 9.7365e-01, 7.4697e-02,  ..., 7.0228e-01,\n",
            "             7.3491e-01, 8.4676e-01],\n",
            "            [2.4399e-01, 4.6243e-01, 2.4776e-01,  ..., 1.4912e-01,\n",
            "             9.3931e-01, 3.8699e-01],\n",
            "            [7.7010e-01, 4.6518e-01, 2.7034e-01,  ..., 5.1491e-01,\n",
            "             1.0500e-01, 7.2301e-01]],\n",
            "\n",
            "           [[7.3388e-01, 8.9099e-01, 8.4829e-01,  ..., 8.1403e-01,\n",
            "             2.2305e-01, 2.8970e-01],\n",
            "            [4.3896e-01, 9.0851e-02, 4.1036e-01,  ..., 2.7072e-01,\n",
            "             5.4120e-01, 4.3446e-02],\n",
            "            [3.8107e-01, 7.5245e-02, 5.9366e-01,  ..., 5.4392e-01,\n",
            "             9.9279e-01, 8.7194e-01],\n",
            "            [1.4506e-01, 1.6627e-01, 5.1925e-01,  ..., 6.2344e-02,\n",
            "             9.6559e-01, 2.7447e-01],\n",
            "            [1.5067e-01, 6.7456e-02, 8.7168e-02,  ..., 5.8960e-01,\n",
            "             9.9157e-01, 7.7326e-01],\n",
            "            [1.0865e-01, 3.5132e-01, 8.7823e-01,  ..., 2.9930e-01,\n",
            "             9.8124e-01, 6.5009e-01]]]],\n",
            "\n",
            "\n",
            "\n",
            "         [[[[4.5215e-01, 3.1167e-01, 9.6230e-01,  ..., 6.4199e-01,\n",
            "             3.7986e-01, 8.6463e-02],\n",
            "            [2.5455e-01, 8.8755e-01, 7.7855e-01,  ..., 3.9130e-01,\n",
            "             1.8611e-01, 9.4082e-01],\n",
            "            [6.3877e-01, 4.9713e-01, 2.2327e-01,  ..., 3.3384e-01,\n",
            "             1.0166e-01, 3.7031e-02],\n",
            "            [2.0915e-02, 1.8979e-01, 5.3669e-01,  ..., 5.6244e-01,\n",
            "             5.9689e-01, 1.2489e-01],\n",
            "            [7.2698e-01, 4.3267e-01, 1.1493e-02,  ..., 1.8661e-01,\n",
            "             7.8666e-02, 1.2279e-01],\n",
            "            [3.8172e-01, 1.6861e-01, 3.2910e-01,  ..., 1.3457e-01,\n",
            "             3.8574e-02, 7.6681e-01]],\n",
            "\n",
            "           [[1.7776e-01, 9.7441e-01, 4.5635e-01,  ..., 1.8551e-01,\n",
            "             3.8015e-01, 8.2098e-01],\n",
            "            [2.7829e-01, 9.5703e-01, 5.0610e-02,  ..., 9.8062e-01,\n",
            "             1.0280e-02, 3.4472e-01],\n",
            "            [5.6716e-01, 9.2048e-01, 1.2082e-01,  ..., 8.1140e-01,\n",
            "             8.1457e-01, 3.3329e-01],\n",
            "            [7.6998e-01, 3.3044e-02, 6.2236e-01,  ..., 6.0037e-01,\n",
            "             5.7324e-02, 7.7184e-02],\n",
            "            [5.5512e-01, 6.1555e-01, 2.5400e-03,  ..., 3.7444e-01,\n",
            "             8.1940e-01, 9.9105e-01],\n",
            "            [1.3484e-01, 4.2892e-01, 8.6618e-01,  ..., 3.3292e-01,\n",
            "             3.5170e-01, 8.8908e-01]]],\n",
            "\n",
            "\n",
            "          [[[8.3315e-01, 7.5582e-01, 1.0151e-01,  ..., 5.1641e-01,\n",
            "             7.3204e-02, 6.6448e-01],\n",
            "            [2.9930e-01, 7.7536e-01, 1.7398e-01,  ..., 4.4836e-01,\n",
            "             2.4018e-01, 2.1267e-01],\n",
            "            [7.3967e-01, 1.4558e-01, 9.7924e-02,  ..., 4.3558e-02,\n",
            "             9.3458e-01, 5.1535e-01],\n",
            "            [4.6754e-01, 9.4994e-01, 1.5294e-01,  ..., 1.1653e-01,\n",
            "             4.2543e-01, 8.6478e-01],\n",
            "            [7.3699e-01, 9.3446e-01, 1.8871e-01,  ..., 6.2400e-01,\n",
            "             2.3111e-01, 1.5172e-01],\n",
            "            [6.9628e-01, 2.1853e-01, 9.4878e-01,  ..., 9.7767e-01,\n",
            "             3.2812e-01, 2.7992e-01]],\n",
            "\n",
            "           [[3.7937e-01, 9.0365e-01, 7.6389e-01,  ..., 1.7449e-01,\n",
            "             2.5477e-01, 7.3977e-01],\n",
            "            [8.7089e-02, 9.0989e-01, 1.5644e-01,  ..., 2.2515e-02,\n",
            "             6.1546e-01, 6.3032e-01],\n",
            "            [5.9414e-01, 7.4100e-01, 4.8576e-01,  ..., 9.5950e-01,\n",
            "             1.8685e-01, 2.3199e-01],\n",
            "            [1.8157e-01, 7.4602e-01, 2.1296e-01,  ..., 6.7942e-01,\n",
            "             1.6578e-01, 6.0284e-01],\n",
            "            [3.5852e-01, 4.4268e-01, 2.8347e-01,  ..., 4.8866e-01,\n",
            "             8.1409e-01, 5.1592e-01],\n",
            "            [2.9948e-01, 5.0291e-01, 8.0627e-01,  ..., 4.4864e-01,\n",
            "             9.9678e-01, 4.7543e-01]]],\n",
            "\n",
            "\n",
            "          [[[7.6831e-01, 1.9358e-02, 9.7860e-01,  ..., 3.0593e-01,\n",
            "             7.2422e-01, 3.8152e-01],\n",
            "            [9.4101e-01, 2.9514e-01, 2.0925e-01,  ..., 2.3818e-01,\n",
            "             3.3335e-01, 2.9478e-02],\n",
            "            [7.9845e-01, 4.5851e-01, 6.9768e-01,  ..., 1.5027e-01,\n",
            "             1.1366e-02, 7.4935e-01],\n",
            "            [9.9334e-01, 1.6104e-02, 6.7229e-02,  ..., 2.0575e-01,\n",
            "             9.6315e-01, 8.0886e-01],\n",
            "            [8.0011e-01, 4.1474e-01, 6.6273e-01,  ..., 2.9157e-01,\n",
            "             7.8811e-01, 9.5846e-01],\n",
            "            [1.5565e-01, 8.5263e-01, 2.9315e-01,  ..., 9.8293e-01,\n",
            "             8.3526e-01, 1.6252e-01]],\n",
            "\n",
            "           [[8.3275e-01, 8.7880e-01, 1.6323e-01,  ..., 5.6812e-01,\n",
            "             8.0804e-01, 7.1983e-01],\n",
            "            [2.1333e-01, 3.9469e-01, 3.6862e-01,  ..., 1.9792e-01,\n",
            "             3.8085e-01, 5.3296e-01],\n",
            "            [7.6702e-01, 6.0869e-01, 4.7239e-01,  ..., 8.7194e-01,\n",
            "             6.3408e-02, 2.4869e-01],\n",
            "            [8.1923e-01, 1.8595e-01, 5.8666e-01,  ..., 4.0888e-01,\n",
            "             5.7675e-01, 9.7529e-01],\n",
            "            [5.7840e-01, 5.6851e-01, 7.4038e-01,  ..., 4.3980e-01,\n",
            "             4.4411e-01, 9.5557e-01],\n",
            "            [5.6508e-01, 2.1986e-01, 9.6909e-01,  ..., 3.5139e-02,\n",
            "             7.6780e-02, 5.3112e-01]]],\n",
            "\n",
            "\n",
            "          [[[8.0318e-01, 8.4908e-01, 2.4390e-01,  ..., 9.6286e-01,\n",
            "             6.3813e-01, 4.4169e-01],\n",
            "            [2.4228e-01, 2.1360e-01, 8.0161e-01,  ..., 7.3655e-01,\n",
            "             6.6583e-02, 7.5298e-01],\n",
            "            [4.2378e-01, 5.3320e-01, 5.1020e-01,  ..., 2.8157e-01,\n",
            "             2.8727e-02, 4.9113e-01],\n",
            "            [1.3026e-01, 3.0186e-01, 5.7630e-01,  ..., 4.8105e-01,\n",
            "             1.4905e-01, 7.4444e-01],\n",
            "            [6.3354e-01, 2.8241e-02, 3.1784e-01,  ..., 4.5915e-01,\n",
            "             5.9567e-01, 6.9806e-02],\n",
            "            [6.7743e-01, 8.3741e-01, 1.2307e-01,  ..., 4.6371e-02,\n",
            "             7.2061e-01, 6.4577e-01]],\n",
            "\n",
            "           [[1.9154e-01, 4.1199e-01, 3.0859e-01,  ..., 3.8695e-01,\n",
            "             2.3466e-01, 2.6784e-01],\n",
            "            [1.8620e-01, 2.1909e-01, 4.3489e-02,  ..., 2.2136e-01,\n",
            "             7.5977e-01, 2.5920e-01],\n",
            "            [2.3241e-01, 2.9650e-01, 6.8027e-01,  ..., 9.9220e-02,\n",
            "             2.0837e-01, 5.9245e-01],\n",
            "            [4.6030e-01, 7.7511e-01, 3.8750e-01,  ..., 5.0872e-01,\n",
            "             6.3678e-01, 8.9018e-01],\n",
            "            [5.0465e-01, 3.2643e-02, 8.3022e-01,  ..., 7.8447e-01,\n",
            "             2.0427e-01, 1.5545e-01],\n",
            "            [2.1808e-01, 1.7607e-01, 1.4647e-01,  ..., 4.4791e-01,\n",
            "             6.8865e-01, 5.0541e-02]]]],\n",
            "\n",
            "\n",
            "\n",
            "         [[[[8.3973e-01, 7.0487e-02, 3.8311e-01,  ..., 1.1259e-01,\n",
            "             6.6303e-01, 6.7192e-01],\n",
            "            [1.8735e-01, 6.6812e-01, 5.8569e-01,  ..., 9.1974e-02,\n",
            "             5.4249e-01, 7.8111e-01],\n",
            "            [9.5843e-01, 8.5187e-01, 2.2977e-01,  ..., 4.3598e-01,\n",
            "             9.9183e-01, 9.5405e-01],\n",
            "            [3.5737e-01, 4.8249e-01, 6.7888e-01,  ..., 3.4454e-01,\n",
            "             9.3452e-01, 5.1703e-01],\n",
            "            [4.4178e-01, 1.2556e-01, 7.6004e-01,  ..., 7.4256e-01,\n",
            "             3.8363e-01, 6.6486e-01],\n",
            "            [4.1987e-01, 7.3477e-01, 6.8169e-01,  ..., 3.4263e-01,\n",
            "             7.3879e-01, 6.8967e-01]],\n",
            "\n",
            "           [[6.7959e-01, 9.3007e-01, 1.7837e-01,  ..., 6.4170e-01,\n",
            "             9.5070e-01, 2.2194e-01],\n",
            "            [1.2855e-01, 9.9801e-01, 7.5195e-01,  ..., 8.8065e-01,\n",
            "             7.5071e-01, 6.2158e-01],\n",
            "            [7.3283e-01, 4.3457e-01, 1.0648e-01,  ..., 6.4844e-01,\n",
            "             1.0374e-01, 6.0863e-01],\n",
            "            [3.8216e-01, 8.7366e-01, 8.1222e-01,  ..., 9.3472e-01,\n",
            "             2.8276e-01, 3.4600e-01],\n",
            "            [9.3992e-01, 8.6204e-01, 8.7493e-01,  ..., 6.3514e-01,\n",
            "             2.5993e-01, 7.3339e-02],\n",
            "            [3.8292e-01, 9.3262e-01, 5.9100e-01,  ..., 4.5815e-01,\n",
            "             1.5874e-01, 2.0524e-01]]],\n",
            "\n",
            "\n",
            "          [[[8.8887e-01, 5.4139e-01, 7.0663e-02,  ..., 1.2385e-01,\n",
            "             9.6720e-01, 1.5865e-01],\n",
            "            [3.6266e-02, 5.0479e-01, 3.4398e-01,  ..., 2.1592e-01,\n",
            "             9.8771e-01, 6.3459e-01],\n",
            "            [2.6127e-01, 6.5434e-01, 5.5338e-01,  ..., 9.6140e-01,\n",
            "             6.8558e-01, 5.7037e-01],\n",
            "            [1.0079e-01, 2.2097e-01, 8.7178e-01,  ..., 1.2880e-01,\n",
            "             3.7504e-01, 3.7989e-01],\n",
            "            [1.1923e-01, 4.4484e-01, 4.1275e-01,  ..., 3.6063e-02,\n",
            "             2.2006e-01, 2.2392e-01],\n",
            "            [2.0867e-01, 3.6801e-01, 6.7320e-01,  ..., 7.9379e-01,\n",
            "             9.4085e-01, 2.3100e-01]],\n",
            "\n",
            "           [[6.3929e-01, 5.8816e-02, 7.5177e-01,  ..., 8.8949e-01,\n",
            "             6.3758e-01, 5.2656e-01],\n",
            "            [3.7843e-01, 1.5531e-02, 2.1861e-01,  ..., 6.1638e-01,\n",
            "             2.4456e-01, 5.1696e-01],\n",
            "            [8.0724e-01, 3.5868e-02, 8.4968e-01,  ..., 2.7660e-01,\n",
            "             4.4383e-01, 3.7742e-01],\n",
            "            [4.2084e-01, 6.8731e-01, 5.1736e-02,  ..., 9.9007e-01,\n",
            "             8.3141e-01, 7.0196e-01],\n",
            "            [7.2544e-01, 8.3258e-01, 8.1406e-01,  ..., 5.9339e-01,\n",
            "             8.2534e-01, 1.7631e-01],\n",
            "            [1.9168e-01, 5.4803e-01, 2.0724e-01,  ..., 7.9505e-01,\n",
            "             5.3544e-01, 7.3681e-01]]],\n",
            "\n",
            "\n",
            "          [[[4.9420e-01, 3.0776e-01, 5.9236e-01,  ..., 8.5995e-01,\n",
            "             7.8091e-01, 9.4428e-01],\n",
            "            [1.3632e-01, 5.4268e-01, 9.9044e-01,  ..., 7.7746e-01,\n",
            "             5.3868e-01, 5.3911e-01],\n",
            "            [3.8290e-01, 1.7144e-01, 5.4424e-01,  ..., 9.6744e-01,\n",
            "             2.7901e-01, 1.2426e-01],\n",
            "            [6.5629e-01, 4.2909e-01, 2.9946e-01,  ..., 4.0180e-01,\n",
            "             5.2461e-01, 6.7546e-01],\n",
            "            [8.5446e-01, 2.8896e-03, 7.4606e-01,  ..., 3.0854e-01,\n",
            "             1.6259e-02, 8.2601e-01],\n",
            "            [5.7391e-01, 9.5045e-01, 2.0451e-01,  ..., 5.3414e-01,\n",
            "             7.2914e-01, 3.0228e-01]],\n",
            "\n",
            "           [[8.4371e-01, 6.5519e-01, 3.0500e-01,  ..., 7.3815e-01,\n",
            "             6.6410e-01, 1.3194e-01],\n",
            "            [8.7095e-01, 6.3959e-01, 6.7817e-01,  ..., 7.0092e-01,\n",
            "             1.4191e-01, 4.6605e-01],\n",
            "            [9.3262e-01, 3.7455e-01, 2.2454e-01,  ..., 2.6550e-02,\n",
            "             5.3743e-01, 9.9565e-01],\n",
            "            [9.1983e-01, 1.7875e-01, 7.4119e-01,  ..., 4.1937e-01,\n",
            "             1.4157e-01, 8.7963e-01],\n",
            "            [5.1844e-01, 1.8683e-01, 4.7290e-01,  ..., 7.2582e-01,\n",
            "             1.8121e-01, 4.9955e-01],\n",
            "            [1.4018e-01, 8.0791e-01, 9.4407e-01,  ..., 4.6181e-01,\n",
            "             4.2463e-01, 6.9492e-01]]],\n",
            "\n",
            "\n",
            "          [[[4.6097e-02, 3.6546e-01, 1.5231e-01,  ..., 5.8465e-01,\n",
            "             5.1537e-01, 8.0161e-02],\n",
            "            [1.8024e-01, 4.2950e-01, 1.6076e-01,  ..., 9.9613e-01,\n",
            "             9.3922e-01, 9.1581e-01],\n",
            "            [3.2432e-01, 5.7548e-01, 1.0555e-02,  ..., 5.3314e-01,\n",
            "             4.4670e-02, 6.5157e-01],\n",
            "            [4.3153e-01, 8.4840e-01, 2.0324e-01,  ..., 1.1876e-02,\n",
            "             5.9747e-02, 8.6022e-01],\n",
            "            [5.7411e-01, 2.7179e-01, 5.0667e-01,  ..., 7.3830e-01,\n",
            "             7.7582e-01, 6.4209e-01],\n",
            "            [1.8183e-01, 2.9266e-01, 3.2030e-01,  ..., 8.3527e-01,\n",
            "             1.4926e-02, 8.5059e-01]],\n",
            "\n",
            "           [[7.6251e-01, 3.7555e-01, 9.4084e-01,  ..., 5.4079e-01,\n",
            "             5.4116e-01, 9.8713e-01],\n",
            "            [8.4857e-01, 8.0147e-01, 9.5953e-01,  ..., 6.8733e-01,\n",
            "             2.0690e-01, 3.2702e-01],\n",
            "            [4.8585e-01, 1.9287e-01, 7.9468e-01,  ..., 3.3595e-01,\n",
            "             9.7897e-01, 2.4528e-01],\n",
            "            [5.5587e-01, 9.2675e-01, 1.3306e-01,  ..., 2.2607e-01,\n",
            "             9.0092e-01, 8.5510e-01],\n",
            "            [4.3132e-01, 1.0231e-01, 7.4435e-01,  ..., 2.5022e-01,\n",
            "             9.6622e-01, 4.9207e-01],\n",
            "            [4.0489e-01, 2.6434e-01, 7.1887e-01,  ..., 6.4457e-01,\n",
            "             3.2416e-01, 8.5713e-01]]]]]])\n",
            "New shape: torch.Size([1, 3, 4, 2, 6, 8])\n"
          ]
        }
      ]
    },
    {
      "cell_type": "code",
      "source": [
        "# exercise with `my_tensor.squeeze()`\n",
        "\n",
        "# create tensor\n",
        "my_tensor = torch.tensor(\n",
        "    [\n",
        "        [\n",
        "            [1, 2],\n",
        "            [3, 4],\n",
        "            [5, 6]\n",
        "        ]\n",
        "    ]\n",
        ")\n",
        "my_tensor"
      ],
      "metadata": {
        "colab": {
          "base_uri": "https://localhost:8080/"
        },
        "id": "Fpzh1iN25MOk",
        "outputId": "5073aa1c-3981-4854-e034-a06fb5ae0a1d"
      },
      "execution_count": 332,
      "outputs": [
        {
          "output_type": "execute_result",
          "data": {
            "text/plain": [
              "tensor([[[1, 2],\n",
              "         [3, 4],\n",
              "         [5, 6]]])"
            ]
          },
          "metadata": {},
          "execution_count": 332
        }
      ]
    },
    {
      "cell_type": "code",
      "source": [
        "my_tensor.shape, my_tensor.ndim"
      ],
      "metadata": {
        "colab": {
          "base_uri": "https://localhost:8080/"
        },
        "id": "tp1bTUDJ5XO6",
        "outputId": "1c3566cf-28fe-4382-8b20-ee4cc39d06dd"
      },
      "execution_count": 333,
      "outputs": [
        {
          "output_type": "execute_result",
          "data": {
            "text/plain": [
              "(torch.Size([1, 3, 2]), 3)"
            ]
          },
          "metadata": {},
          "execution_count": 333
        }
      ]
    },
    {
      "cell_type": "code",
      "source": [
        "print(f\"Previous tensor:\\n {my_tensor}\")\n",
        "print(f\"Previous shape: {my_tensor.shape}\")\n",
        "print(f\"Previous dimension: {my_tensor.ndim}\")\n",
        "\n",
        "my_tensor_squeezed = my_tensor.squeeze()\n",
        "\n",
        "print(f\"\\nLater tensor:\\n {my_tensor_squeezed}\")\n",
        "print(f\"Later shape: {my_tensor_squeezed.shape}\")\n",
        "print(f\"Later dimension: {my_tensor_squeezed.ndim}\")"
      ],
      "metadata": {
        "colab": {
          "base_uri": "https://localhost:8080/"
        },
        "id": "3XGKQArT43nh",
        "outputId": "eb5a6baf-8485-414e-cd46-dae829b6eb34"
      },
      "execution_count": 334,
      "outputs": [
        {
          "output_type": "stream",
          "name": "stdout",
          "text": [
            "Previous tensor:\n",
            " tensor([[[1, 2],\n",
            "         [3, 4],\n",
            "         [5, 6]]])\n",
            "Previous shape: torch.Size([1, 3, 2])\n",
            "Previous dimension: 3\n",
            "\n",
            "Later tensor:\n",
            " tensor([[1, 2],\n",
            "        [3, 4],\n",
            "        [5, 6]])\n",
            "Later shape: torch.Size([3, 2])\n",
            "Later dimension: 2\n"
          ]
        }
      ]
    },
    {
      "cell_type": "code",
      "source": [
        "# exercise with my_tensor_squeezed.unsqueeze()\n",
        "\n",
        "print(f\"Previous tensor:\\n {my_tensor_squeezed}\")\n",
        "print(f\"Previous shape: {my_tensor_squeezed.shape}\")\n",
        "print(f\"Previous dimension: {my_tensor_squeezed.ndim}\")\n",
        "\n",
        "my_tensor_unsqueezed = my_tensor_squeezed.unsqueeze(dim=0)\n",
        "\n",
        "print(f\"\\nLater tensor:\\n {my_tensor_unsqueezed}\")\n",
        "print(f\"Later shape: {my_tensor_unsqueezed.shape}\")\n",
        "print(f\"Later dimension: {my_tensor_unsqueezed.ndim}\")"
      ],
      "metadata": {
        "colab": {
          "base_uri": "https://localhost:8080/"
        },
        "id": "FTjEMeU75lt6",
        "outputId": "73e82c6c-bb9f-4540-bd54-243ccd00645a"
      },
      "execution_count": 335,
      "outputs": [
        {
          "output_type": "stream",
          "name": "stdout",
          "text": [
            "Previous tensor:\n",
            " tensor([[1, 2],\n",
            "        [3, 4],\n",
            "        [5, 6]])\n",
            "Previous shape: torch.Size([3, 2])\n",
            "Previous dimension: 2\n",
            "\n",
            "Later tensor:\n",
            " tensor([[[1, 2],\n",
            "         [3, 4],\n",
            "         [5, 6]]])\n",
            "Later shape: torch.Size([1, 3, 2])\n",
            "Later dimension: 3\n"
          ]
        }
      ]
    },
    {
      "cell_type": "code",
      "source": [
        "# torch.permute - rearrage the dimensions of a target tensor in a specified order\n",
        "# permute is use for work with image data\n",
        "\n",
        "x_original = torch.rand(size=(224, 224, 3)) # [height, widht, colour_channels]\n",
        "\n",
        "# Permute the original tensor to rearrange the axis (or dim) order\n",
        "x_permuted = x_original.permute(2, 0, 1) # shifts axis 0->1, 1->2, 2->0\n",
        "print(f\"Previous shape: {x_original.shape}\")\n",
        "print(f\"New shape: {x_permuted.shape}\") # [colour_channels, height, width]"
      ],
      "metadata": {
        "colab": {
          "base_uri": "https://localhost:8080/"
        },
        "id": "QqWjYPk8_fA1",
        "outputId": "ba8690b9-662a-4eb7-b6e7-eecb278507fe"
      },
      "execution_count": 336,
      "outputs": [
        {
          "output_type": "stream",
          "name": "stdout",
          "text": [
            "Previous shape: torch.Size([224, 224, 3])\n",
            "New shape: torch.Size([3, 224, 224])\n"
          ]
        }
      ]
    },
    {
      "cell_type": "code",
      "source": [
        "x_original[0, 0, 0], x_permuted[0, 0, 0]"
      ],
      "metadata": {
        "colab": {
          "base_uri": "https://localhost:8080/"
        },
        "id": "Bee0xhyVE0iH",
        "outputId": "2a7f3ad8-4086-433f-ba31-4d4218314c7f"
      },
      "execution_count": 340,
      "outputs": [
        {
          "output_type": "execute_result",
          "data": {
            "text/plain": [
              "(tensor(0.3701), tensor(0.3701))"
            ]
          },
          "metadata": {},
          "execution_count": 340
        }
      ]
    },
    {
      "cell_type": "code",
      "source": [
        "x_original[0, 0, 0] = .4507\n",
        "x_permuted[0, 0, 0]"
      ],
      "metadata": {
        "colab": {
          "base_uri": "https://localhost:8080/"
        },
        "id": "j-VMVjIfHIOD",
        "outputId": "54d13049-5b2e-4523-97eb-dafb3d770a4d"
      },
      "execution_count": 341,
      "outputs": [
        {
          "output_type": "execute_result",
          "data": {
            "text/plain": [
              "tensor(0.4507)"
            ]
          },
          "metadata": {},
          "execution_count": 341
        }
      ]
    },
    {
      "cell_type": "code",
      "source": [],
      "metadata": {
        "id": "BoRqnfZXH7RV"
      },
      "execution_count": null,
      "outputs": []
    }
  ],
  "metadata": {
    "colab": {
      "provenance": []
    },
    "kernelspec": {
      "display_name": "Python 3",
      "name": "python3"
    },
    "language_info": {
      "name": "python"
    }
  },
  "nbformat": 4,
  "nbformat_minor": 0
}