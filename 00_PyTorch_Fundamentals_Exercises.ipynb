{
  "nbformat": 4,
  "nbformat_minor": 0,
  "metadata": {
    "colab": {
      "provenance": []
    },
    "kernelspec": {
      "name": "python3",
      "display_name": "Python 3"
    },
    "language_info": {
      "name": "python"
    }
  },
  "cells": [
    {
      "cell_type": "markdown",
      "source": [
        "# Exercises"
      ],
      "metadata": {
        "id": "JYsG56_TSwi2"
      }
    },
    {
      "cell_type": "markdown",
      "source": [
        "## 1. Documentation reading\n",
        "A big part of deep learning (and learning to code in general) is getting familiar with the documentation of a certain framework you're using. We'll be using the PyTorch documentation a lot throughout the rest of this course. So I'd recommend spending 10-minutes reading the following (it's okay if you don't get some things for now, the focus is not yet full understanding, it's awareness):\n",
        "\n",
        "* The documentation on [`torch.Tensor`](https://pytorch.org/docs/stable/tensors.html)\n",
        "* The documentation on [`torch.cuda`](https://pytorch.org/docs/stable/cuda.html)"
      ],
      "metadata": {
        "id": "inVZ-P9iSqui"
      }
    },
    {
      "cell_type": "code",
      "source": [
        "import torch"
      ],
      "metadata": {
        "id": "h6HOaM8IrM34"
      },
      "execution_count": 1,
      "outputs": []
    },
    {
      "cell_type": "code",
      "source": [
        "# default float datatype is `float32`\n",
        "\n",
        "default_float_datatype_tensor = torch.tensor([0.5, 0.1, 0.7, 0.3])\n",
        "default_float_datatype_tensor, default_float_datatype_tensor.dtype"
      ],
      "metadata": {
        "colab": {
          "base_uri": "https://localhost:8080/"
        },
        "id": "B5HR5iD30MoK",
        "outputId": "424946c3-99f7-4141-91fc-38b71bb8bef4"
      },
      "execution_count": 2,
      "outputs": [
        {
          "output_type": "execute_result",
          "data": {
            "text/plain": [
              "(tensor([0.5000, 0.1000, 0.7000, 0.3000]), torch.float32)"
            ]
          },
          "metadata": {},
          "execution_count": 2
        }
      ]
    },
    {
      "cell_type": "code",
      "execution_count": 3,
      "metadata": {
        "colab": {
          "base_uri": "https://localhost:8080/"
        },
        "id": "vC3I0vLQM0Km",
        "outputId": "3a5e944f-ab78-4435-f36a-3e1cd3cfefe2"
      },
      "outputs": [
        {
          "output_type": "execute_result",
          "data": {
            "text/plain": [
              "(tensor([4., 7., 8.]), torch.float32)"
            ]
          },
          "metadata": {},
          "execution_count": 3
        }
      ],
      "source": [
        "# torch.Tensor\n",
        "\n",
        "## Data Types\n",
        "\n",
        "# float32 datatype\n",
        "# create tensor\n",
        "float_32_tensor = torch.tensor([4, 7, 8], dtype=torch.float) # `torch.float` or, `torch.float32`\n",
        "float_32_tensor, float_32_tensor.dtype"
      ]
    },
    {
      "cell_type": "code",
      "source": [
        "float_32Tensor = torch.tensor([1, 2, 3], dtype=torch.float32)\n",
        "float_32Tensor"
      ],
      "metadata": {
        "id": "BaWDfSYyUE8u",
        "colab": {
          "base_uri": "https://localhost:8080/"
        },
        "outputId": "c24b3181-2e21-495c-cce4-0bf2aceb00d3"
      },
      "execution_count": 4,
      "outputs": [
        {
          "output_type": "execute_result",
          "data": {
            "text/plain": [
              "tensor([1., 2., 3.])"
            ]
          },
          "metadata": {},
          "execution_count": 4
        }
      ]
    },
    {
      "cell_type": "code",
      "source": [
        "# float64 datatype\n",
        "float_64_tensor = torch.tensor([1, 4, 2], dtype=torch.float64) # `torch.float64` or, `torch.double`\n",
        "float_64_tensor, float_64_tensor.dtype"
      ],
      "metadata": {
        "id": "-HGbyZzVtBRf",
        "colab": {
          "base_uri": "https://localhost:8080/"
        },
        "outputId": "1434235c-1ab9-4103-a4b0-dc35fcbbf122"
      },
      "execution_count": 5,
      "outputs": [
        {
          "output_type": "execute_result",
          "data": {
            "text/plain": [
              "(tensor([1., 4., 2.], dtype=torch.float64), torch.float64)"
            ]
          },
          "metadata": {},
          "execution_count": 5
        }
      ]
    },
    {
      "cell_type": "code",
      "source": [
        "float_64Tensor = torch.tensor([6, 9, 2], dtype=torch.double)\n",
        "float_64Tensor, float_64Tensor.dtype"
      ],
      "metadata": {
        "colab": {
          "base_uri": "https://localhost:8080/"
        },
        "id": "zXJ_xdZxBxn5",
        "outputId": "d3c8faf9-1cc7-4e03-9c4f-451488438757"
      },
      "execution_count": 6,
      "outputs": [
        {
          "output_type": "execute_result",
          "data": {
            "text/plain": [
              "(tensor([6., 9., 2.], dtype=torch.float64), torch.float64)"
            ]
          },
          "metadata": {},
          "execution_count": 6
        }
      ]
    },
    {
      "cell_type": "code",
      "source": [
        "'''\n",
        "1. Sometimes referred to as binary16: uses 1 sign, 5 exponent, and 10 significand bits. Useful when precision is important at the expense of range.\n",
        "'''\n",
        "\n",
        "# 1. float16 datatype\n",
        "float_16_tensor = torch.tensor([7, 3, 4], dtype=torch.float16)\n",
        "float_16_tensor, float_16_tensor.dtype"
      ],
      "metadata": {
        "colab": {
          "base_uri": "https://localhost:8080/"
        },
        "id": "9WyXy3ozCB3k",
        "outputId": "345571fa-bfcb-4574-b9b3-211f86612831"
      },
      "execution_count": 7,
      "outputs": [
        {
          "output_type": "execute_result",
          "data": {
            "text/plain": [
              "(tensor([7., 3., 4.], dtype=torch.float16), torch.float16)"
            ]
          },
          "metadata": {},
          "execution_count": 7
        }
      ]
    },
    {
      "cell_type": "code",
      "source": [
        "#\n",
        "float_16Tensor = torch.tensor([8, 2, 6], dtype=torch.half)\n",
        "float_16Tensor, float_16Tensor.dtype"
      ],
      "metadata": {
        "colab": {
          "base_uri": "https://localhost:8080/"
        },
        "id": "gwZM33lZDkTo",
        "outputId": "5143dd90-77a3-4a31-de80-15ecec376155"
      },
      "execution_count": 8,
      "outputs": [
        {
          "output_type": "execute_result",
          "data": {
            "text/plain": [
              "(tensor([8., 2., 6.], dtype=torch.float16), torch.float16)"
            ]
          },
          "metadata": {},
          "execution_count": 8
        }
      ]
    },
    {
      "cell_type": "code",
      "source": [
        "'''\n",
        "Sometimes referred to as Brain Floating Point: uses 1 sign, 8 exponent, and 7 significand bits. Useful when range is important, since it has the same number of exponent bits as float32\n",
        "'''\n",
        "\n",
        "# 2. float16 datatype\n",
        "float_16_tensor = torch.tensor([7, 3, 4], dtype=torch.bfloat16)\n",
        "float_16_tensor, float_16_tensor.dtype"
      ],
      "metadata": {
        "colab": {
          "base_uri": "https://localhost:8080/"
        },
        "id": "LwY1f2rD3cFy",
        "outputId": "3ff552e0-c784-4f40-c28e-a8ab2c1410a2"
      },
      "execution_count": 9,
      "outputs": [
        {
          "output_type": "execute_result",
          "data": {
            "text/plain": [
              "(tensor([7., 3., 4.], dtype=torch.bfloat16), torch.bfloat16)"
            ]
          },
          "metadata": {},
          "execution_count": 9
        }
      ]
    },
    {
      "cell_type": "code",
      "source": [
        "# default integer datatype is `int64`\n",
        "default_int_datatype_tensor = torch.tensor([6,1,9])\n",
        "default_int_datatype_tensor, default_int_datatype_tensor.dtype"
      ],
      "metadata": {
        "colab": {
          "base_uri": "https://localhost:8080/"
        },
        "id": "TS5Agqo90qFc",
        "outputId": "4bf81971-e978-4d42-c186-6d1ccd295101"
      },
      "execution_count": 10,
      "outputs": [
        {
          "output_type": "execute_result",
          "data": {
            "text/plain": [
              "(tensor([6, 1, 9]), torch.int64)"
            ]
          },
          "metadata": {},
          "execution_count": 10
        }
      ]
    },
    {
      "cell_type": "code",
      "source": [
        "# integers(signed) datatypes\n",
        "int_8_tensor = torch.tensor([4,8,1], dtype=torch.int8)\n",
        "int_8_tensor, int_8_tensor.dtype"
      ],
      "metadata": {
        "colab": {
          "base_uri": "https://localhost:8080/"
        },
        "id": "AfE3G02FJt25",
        "outputId": "1a9b2c8c-f555-43f0-e9d6-4e3d4ac20fbb"
      },
      "execution_count": 11,
      "outputs": [
        {
          "output_type": "execute_result",
          "data": {
            "text/plain": [
              "(tensor([4, 8, 1], dtype=torch.int8), torch.int8)"
            ]
          },
          "metadata": {},
          "execution_count": 11
        }
      ]
    },
    {
      "cell_type": "code",
      "source": [
        "int_16_tensor = torch.tensor([6,8,2], dtype=torch.int16)\n",
        "int_16_tensor, int_16_tensor.dtype"
      ],
      "metadata": {
        "colab": {
          "base_uri": "https://localhost:8080/"
        },
        "id": "Hq8BQ0nunhua",
        "outputId": "d575aaa1-3146-470d-c147-6c2f873adca4"
      },
      "execution_count": 12,
      "outputs": [
        {
          "output_type": "execute_result",
          "data": {
            "text/plain": [
              "(tensor([6, 8, 2], dtype=torch.int16), torch.int16)"
            ]
          },
          "metadata": {},
          "execution_count": 12
        }
      ]
    },
    {
      "cell_type": "code",
      "source": [
        "int_16_or_short_tensor = torch.tensor([7,1,9], dtype=torch.short)\n",
        "int_16_or_short_tensor, int_16_or_short_tensor.dtype"
      ],
      "metadata": {
        "colab": {
          "base_uri": "https://localhost:8080/"
        },
        "id": "ZLtd9T0Ln7L0",
        "outputId": "c51a936e-42b3-493d-b27f-cffee260e2d4"
      },
      "execution_count": 13,
      "outputs": [
        {
          "output_type": "execute_result",
          "data": {
            "text/plain": [
              "(tensor([7, 1, 9], dtype=torch.int16), torch.int16)"
            ]
          },
          "metadata": {},
          "execution_count": 13
        }
      ]
    },
    {
      "cell_type": "code",
      "source": [
        "# 32bit integers (signed)\n",
        "int_32_tensor = torch.tensor([6,3,9], dtype=torch.int32)\n",
        "int_32_tensor, int_32_tensor.dtype"
      ],
      "metadata": {
        "colab": {
          "base_uri": "https://localhost:8080/"
        },
        "id": "tB9sT2atoRr8",
        "outputId": "ac9d2228-e77b-497d-d429-aaa86538d89a"
      },
      "execution_count": 14,
      "outputs": [
        {
          "output_type": "execute_result",
          "data": {
            "text/plain": [
              "(tensor([6, 3, 9], dtype=torch.int32), torch.int32)"
            ]
          },
          "metadata": {},
          "execution_count": 14
        }
      ]
    },
    {
      "cell_type": "code",
      "source": [
        "int32Tensor = torch.tensor([6,1,9], dtype=torch.int)\n",
        "int32Tensor, int32Tensor.dtype"
      ],
      "metadata": {
        "colab": {
          "base_uri": "https://localhost:8080/"
        },
        "id": "IyFrWjq_p25L",
        "outputId": "f5d04518-ee70-49d4-9e5a-794e4e486fe6"
      },
      "execution_count": 15,
      "outputs": [
        {
          "output_type": "execute_result",
          "data": {
            "text/plain": [
              "(tensor([6, 1, 9], dtype=torch.int32), torch.int32)"
            ]
          },
          "metadata": {},
          "execution_count": 15
        }
      ]
    },
    {
      "cell_type": "code",
      "source": [
        "int_64_Tensor = torch.tensor([7,1,8], dtype=torch.int64)\n",
        "int_64_Tensor, int_64_Tensor.dtype"
      ],
      "metadata": {
        "colab": {
          "base_uri": "https://localhost:8080/"
        },
        "id": "3isl2Uo7zE8y",
        "outputId": "8a7415e2-670b-4c6a-bbac-aa3e334057d6"
      },
      "execution_count": 16,
      "outputs": [
        {
          "output_type": "execute_result",
          "data": {
            "text/plain": [
              "(tensor([7, 1, 8]), torch.int64)"
            ]
          },
          "metadata": {},
          "execution_count": 16
        }
      ]
    },
    {
      "cell_type": "code",
      "source": [
        "int_64_or_long_Tensor = torch.tensor([7,1,8], dtype=torch.long)\n",
        "int_64_or_long_Tensor, int_64_or_long_Tensor.dtype"
      ],
      "metadata": {
        "colab": {
          "base_uri": "https://localhost:8080/"
        },
        "id": "4rOd-2FHzTeU",
        "outputId": "bfea6336-781e-43aa-a909-22f724ecf54a"
      },
      "execution_count": 17,
      "outputs": [
        {
          "output_type": "execute_result",
          "data": {
            "text/plain": [
              "(tensor([7, 1, 8]), torch.int64)"
            ]
          },
          "metadata": {},
          "execution_count": 17
        }
      ]
    },
    {
      "cell_type": "code",
      "source": [
        "# boolean datatype\n",
        "boolean_tensor = torch.tensor([1,0,1,0,1], dtype=torch.bool)\n",
        "boolean_tensor, boolean_tensor.dtype"
      ],
      "metadata": {
        "colab": {
          "base_uri": "https://localhost:8080/"
        },
        "id": "614MUQ9Czu1L",
        "outputId": "76faa4d9-6aba-4924-9e35-c39dbf564ca6"
      },
      "execution_count": 18,
      "outputs": [
        {
          "output_type": "execute_result",
          "data": {
            "text/plain": [
              "(tensor([ True, False,  True, False,  True]), torch.bool)"
            ]
          },
          "metadata": {},
          "execution_count": 18
        }
      ]
    },
    {
      "cell_type": "code",
      "source": [
        "## backward compatibility\n",
        "# 32-bit floating point\n",
        "x = torch.FloatTensor([1,8,5])\n",
        "x, x.dtype"
      ],
      "metadata": {
        "colab": {
          "base_uri": "https://localhost:8080/"
        },
        "id": "XjbMp9an1jTz",
        "outputId": "da8f2c87-6c31-4fc2-d006-c60d033ae492"
      },
      "execution_count": 19,
      "outputs": [
        {
          "output_type": "execute_result",
          "data": {
            "text/plain": [
              "(tensor([1., 8., 5.]), torch.float32)"
            ]
          },
          "metadata": {},
          "execution_count": 19
        }
      ]
    },
    {
      "cell_type": "code",
      "source": [
        "# converting datatype (float32 to float64)\n",
        "\n",
        "# 1.\n",
        "y = x.type(torch.DoubleTensor)\n",
        "y, y.dtype"
      ],
      "metadata": {
        "colab": {
          "base_uri": "https://localhost:8080/"
        },
        "id": "XVwVm8bU-dwc",
        "outputId": "f85e0b24-b60f-4719-9879-f463f6d5dcf9"
      },
      "execution_count": 20,
      "outputs": [
        {
          "output_type": "execute_result",
          "data": {
            "text/plain": [
              "(tensor([1., 8., 5.], dtype=torch.float64), torch.float64)"
            ]
          },
          "metadata": {},
          "execution_count": 20
        }
      ]
    },
    {
      "cell_type": "code",
      "source": [
        "# 2.\n",
        "z = x.type(torch.float64)\n",
        "z, z.dtype"
      ],
      "metadata": {
        "colab": {
          "base_uri": "https://localhost:8080/"
        },
        "id": "BMapolzt_bu0",
        "outputId": "4305db72-b8d7-4416-ed95-df61cc840596"
      },
      "execution_count": 21,
      "outputs": [
        {
          "output_type": "execute_result",
          "data": {
            "text/plain": [
              "(tensor([1., 8., 5.], dtype=torch.float64), torch.float64)"
            ]
          },
          "metadata": {},
          "execution_count": 21
        }
      ]
    },
    {
      "cell_type": "code",
      "source": [
        "# 3.\n",
        "w = x.type(torch.double)\n",
        "w, w.dtype"
      ],
      "metadata": {
        "colab": {
          "base_uri": "https://localhost:8080/"
        },
        "id": "_cxej9T5A_L9",
        "outputId": "41da9acd-45f3-45a7-9ee7-66d6abc035ba"
      },
      "execution_count": 22,
      "outputs": [
        {
          "output_type": "execute_result",
          "data": {
            "text/plain": [
              "(tensor([1., 8., 5.], dtype=torch.float64), torch.float64)"
            ]
          },
          "metadata": {},
          "execution_count": 22
        }
      ]
    },
    {
      "cell_type": "code",
      "source": [
        "# 64-bit floating point\n",
        "a = torch.DoubleTensor([7,1,5,4])\n",
        "a"
      ],
      "metadata": {
        "colab": {
          "base_uri": "https://localhost:8080/"
        },
        "id": "cj6sKOzQBIpL",
        "outputId": "14361b64-5a2d-4cfb-edac-4569a4b5df7e"
      },
      "execution_count": 23,
      "outputs": [
        {
          "output_type": "execute_result",
          "data": {
            "text/plain": [
              "tensor([7., 1., 5., 4.], dtype=torch.float64)"
            ]
          },
          "metadata": {},
          "execution_count": 23
        }
      ]
    },
    {
      "cell_type": "code",
      "source": [
        "# 16-bit floating point\n",
        "b = torch.HalfTensor([4,7,1])\n",
        "b"
      ],
      "metadata": {
        "colab": {
          "base_uri": "https://localhost:8080/"
        },
        "id": "0vNc6rbYBaMy",
        "outputId": "e5be0d66-7d06-409a-fe2e-791cda55e1f4"
      },
      "execution_count": 24,
      "outputs": [
        {
          "output_type": "execute_result",
          "data": {
            "text/plain": [
              "tensor([4., 7., 1.], dtype=torch.float16)"
            ]
          },
          "metadata": {},
          "execution_count": 24
        }
      ]
    },
    {
      "cell_type": "code",
      "source": [
        "# 16-bit floating point\n",
        "c = torch.BFloat16Tensor([5,8,4])\n",
        "c"
      ],
      "metadata": {
        "colab": {
          "base_uri": "https://localhost:8080/"
        },
        "id": "UFpeT5I6Baiu",
        "outputId": "6ad2bf47-2b85-4a5e-98e9-1dfc53ed37bf"
      },
      "execution_count": 25,
      "outputs": [
        {
          "output_type": "execute_result",
          "data": {
            "text/plain": [
              "tensor([5., 8., 4.], dtype=torch.bfloat16)"
            ]
          },
          "metadata": {},
          "execution_count": 25
        }
      ]
    },
    {
      "cell_type": "code",
      "source": [
        "# 8-bit integer (unsigned)\n",
        "d = torch.ByteTensor([1,2,3])\n",
        "d"
      ],
      "metadata": {
        "colab": {
          "base_uri": "https://localhost:8080/"
        },
        "id": "aHD3TuGjBat0",
        "outputId": "97457c13-9499-444e-e591-7ea728f1fcab"
      },
      "execution_count": 26,
      "outputs": [
        {
          "output_type": "execute_result",
          "data": {
            "text/plain": [
              "tensor([1, 2, 3], dtype=torch.uint8)"
            ]
          },
          "metadata": {},
          "execution_count": 26
        }
      ]
    },
    {
      "cell_type": "code",
      "source": [
        "# 8-bit integer (signed)\n",
        "e = torch.CharTensor([3,5,4])\n",
        "e"
      ],
      "metadata": {
        "colab": {
          "base_uri": "https://localhost:8080/"
        },
        "id": "8yScJemeBbnU",
        "outputId": "4aa81556-76e8-4f78-ac40-7160756a2af7"
      },
      "execution_count": 27,
      "outputs": [
        {
          "output_type": "execute_result",
          "data": {
            "text/plain": [
              "tensor([3, 5, 4], dtype=torch.int8)"
            ]
          },
          "metadata": {},
          "execution_count": 27
        }
      ]
    },
    {
      "cell_type": "code",
      "source": [
        "# 16-bit integer (signed)\n",
        "f = torch.ShortTensor([5,7,9])\n",
        "f"
      ],
      "metadata": {
        "colab": {
          "base_uri": "https://localhost:8080/"
        },
        "id": "Rr02mupzBhTc",
        "outputId": "af78d183-2a69-4fb1-ef78-40094fd5fd79"
      },
      "execution_count": 28,
      "outputs": [
        {
          "output_type": "execute_result",
          "data": {
            "text/plain": [
              "tensor([5, 7, 9], dtype=torch.int16)"
            ]
          },
          "metadata": {},
          "execution_count": 28
        }
      ]
    },
    {
      "cell_type": "code",
      "source": [
        "# 32-bit integer (signed)\n",
        "g = torch.IntTensor([6,1,5])\n",
        "g"
      ],
      "metadata": {
        "colab": {
          "base_uri": "https://localhost:8080/"
        },
        "id": "LRDbjRd2BiaL",
        "outputId": "9a04766c-2898-4e53-a645-4d123f2a45e7"
      },
      "execution_count": 29,
      "outputs": [
        {
          "output_type": "execute_result",
          "data": {
            "text/plain": [
              "tensor([6, 1, 5], dtype=torch.int32)"
            ]
          },
          "metadata": {},
          "execution_count": 29
        }
      ]
    },
    {
      "cell_type": "code",
      "source": [
        "# 64-bit integer (signed)\n",
        "h = torch.LongTensor([5,2,9])\n",
        "h"
      ],
      "metadata": {
        "colab": {
          "base_uri": "https://localhost:8080/"
        },
        "id": "FB2N2KCIBi7X",
        "outputId": "68155fa2-4bcf-4018-98f0-531a5c872de4"
      },
      "execution_count": 30,
      "outputs": [
        {
          "output_type": "execute_result",
          "data": {
            "text/plain": [
              "tensor([5, 2, 9])"
            ]
          },
          "metadata": {},
          "execution_count": 30
        }
      ]
    },
    {
      "cell_type": "code",
      "source": [
        "# Boolean\n",
        "i = torch.BoolTensor([0,1,0])\n",
        "i, i.dtype"
      ],
      "metadata": {
        "colab": {
          "base_uri": "https://localhost:8080/"
        },
        "id": "42xDhOOTBzYL",
        "outputId": "2b0798f8-1bbd-4b23-a689-e395c39afd4b"
      },
      "execution_count": 31,
      "outputs": [
        {
          "output_type": "execute_result",
          "data": {
            "text/plain": [
              "(tensor([False,  True, False]), torch.bool)"
            ]
          },
          "metadata": {},
          "execution_count": 31
        }
      ]
    },
    {
      "cell_type": "code",
      "source": [
        "# factory function - `torch.empty()`\n",
        "k = torch.empty(size=(3,3),dtype=torch.float16)\n",
        "k, k.ndim, k.shape"
      ],
      "metadata": {
        "colab": {
          "base_uri": "https://localhost:8080/"
        },
        "id": "j1PwGiskEdDv",
        "outputId": "2dde9229-f840-466e-ce5e-af5b980520e3"
      },
      "execution_count": 32,
      "outputs": [
        {
          "output_type": "execute_result",
          "data": {
            "text/plain": [
              "(tensor([[-2.1680e-01, -1.2002e+00,  1.9338e+02],\n",
              "         [ 0.0000e+00,  1.2969e+00, -1.2012e+00],\n",
              "         [ 1.9338e+02,  0.0000e+00,  4.7684e-06]], dtype=torch.float16),\n",
              " 2,\n",
              " torch.Size([3, 3]))"
            ]
          },
          "metadata": {},
          "execution_count": 32
        }
      ]
    },
    {
      "cell_type": "code",
      "source": [
        "# initializing and basic operations\n",
        "m = torch.tensor([\n",
        "    [1., -1.],\n",
        "    [1., -1.]\n",
        "])\n",
        "m"
      ],
      "metadata": {
        "id": "Num9gyO7FeiF",
        "colab": {
          "base_uri": "https://localhost:8080/"
        },
        "outputId": "3cbaf335-6c0b-4e52-fd41-da284d079e49"
      },
      "execution_count": 33,
      "outputs": [
        {
          "output_type": "execute_result",
          "data": {
            "text/plain": [
              "tensor([[ 1., -1.],\n",
              "        [ 1., -1.]])"
            ]
          },
          "metadata": {},
          "execution_count": 33
        }
      ]
    },
    {
      "cell_type": "code",
      "source": [
        "import numpy as np\n",
        "\n",
        "from_numpy = torch.tensor(\n",
        "    np.array([\n",
        "        [1, 2, 3],\n",
        "        [4, 5, 6]\n",
        "    ])\n",
        ")\n",
        "from_numpy"
      ],
      "metadata": {
        "colab": {
          "base_uri": "https://localhost:8080/"
        },
        "id": "cq7xtS69kiaH",
        "outputId": "7c303ae2-60b8-4375-f03c-ecb94c8a814b"
      },
      "execution_count": 34,
      "outputs": [
        {
          "output_type": "execute_result",
          "data": {
            "text/plain": [
              "tensor([[1, 2, 3],\n",
              "        [4, 5, 6]])"
            ]
          },
          "metadata": {},
          "execution_count": 34
        }
      ]
    },
    {
      "cell_type": "code",
      "source": [
        "check = torch.tensor([1, 2, 3], dtype=torch.float16)\n",
        "check.requires_grad_()"
      ],
      "metadata": {
        "colab": {
          "base_uri": "https://localhost:8080/"
        },
        "id": "fSQP13Otk282",
        "outputId": "5279b1ed-f550-4f80-ea7b-509ae37ca285"
      },
      "execution_count": 35,
      "outputs": [
        {
          "output_type": "execute_result",
          "data": {
            "text/plain": [
              "tensor([1., 2., 3.], dtype=torch.float16, requires_grad=True)"
            ]
          },
          "metadata": {},
          "execution_count": 35
        }
      ]
    },
    {
      "cell_type": "code",
      "source": [
        "# another method\n",
        "check2 = torch.tensor([1.0, 4.1, 9.2])\n",
        "check2.detach_(), check2.dtype"
      ],
      "metadata": {
        "colab": {
          "base_uri": "https://localhost:8080/"
        },
        "id": "VGL32mgcldOG",
        "outputId": "dd3fc0a0-4c6d-4d31-bebb-bfd4d8df5b40"
      },
      "execution_count": 36,
      "outputs": [
        {
          "output_type": "execute_result",
          "data": {
            "text/plain": [
              "(tensor([1.0000, 4.1000, 9.2000]), torch.float32)"
            ]
          },
          "metadata": {},
          "execution_count": 36
        }
      ]
    },
    {
      "cell_type": "code",
      "source": [
        "y = torch.tensor(check2) # To copy construct from a tensor, it is recommended to use sourceTensor.clone().detach() or sourceTensor.clone().detach().requires_grad_(True), rather than torch.tensor(sourceTensor).\n",
        "y"
      ],
      "metadata": {
        "colab": {
          "base_uri": "https://localhost:8080/"
        },
        "id": "qDjThkgql7JW",
        "outputId": "a0aa94b0-53a5-4030-e9c6-e8868378125b"
      },
      "execution_count": 37,
      "outputs": [
        {
          "output_type": "stream",
          "name": "stderr",
          "text": [
            "<ipython-input-37-94b980d24cc2>:1: UserWarning: To copy construct from a tensor, it is recommended to use sourceTensor.clone().detach() or sourceTensor.clone().detach().requires_grad_(True), rather than torch.tensor(sourceTensor).\n",
            "  y = torch.tensor(check2) # To copy construct from a tensor, it is recommended to use sourceTensor.clone().detach() or sourceTensor.clone().detach().requires_grad_(True), rather than torch.tensor(sourceTensor).\n"
          ]
        },
        {
          "output_type": "execute_result",
          "data": {
            "text/plain": [
              "tensor([1.0000, 4.1000, 9.2000])"
            ]
          },
          "metadata": {},
          "execution_count": 37
        }
      ]
    },
    {
      "cell_type": "code",
      "source": [
        "#\n",
        "TENSOR_X = torch.tensor([2.1, 6.4, 3.9], requires_grad=True)\n",
        "\n",
        "TENSOR_Y = TENSOR_X.detach()\n",
        "\n",
        "TENSOR_Y.requires_grad_()"
      ],
      "metadata": {
        "colab": {
          "base_uri": "https://localhost:8080/"
        },
        "id": "jXImePCwmzf3",
        "outputId": "c37242fd-748f-4e67-f1fb-99ba7ad537a9"
      },
      "execution_count": 38,
      "outputs": [
        {
          "output_type": "execute_result",
          "data": {
            "text/plain": [
              "tensor([2.1000, 6.4000, 3.9000], requires_grad=True)"
            ]
          },
          "metadata": {},
          "execution_count": 38
        }
      ]
    },
    {
      "cell_type": "code",
      "source": [
        "checkTensor = torch.Tensor([1, 2, 3])\n",
        "checkTensor, checkTensor.dtype"
      ],
      "metadata": {
        "id": "1IY6bYx3oBBV",
        "colab": {
          "base_uri": "https://localhost:8080/"
        },
        "outputId": "8b9fe8e2-0306-4c21-b8b1-638f44aaf3aa"
      },
      "execution_count": 39,
      "outputs": [
        {
          "output_type": "execute_result",
          "data": {
            "text/plain": [
              "(tensor([1., 2., 3.]), torch.float32)"
            ]
          },
          "metadata": {},
          "execution_count": 39
        }
      ]
    },
    {
      "cell_type": "markdown",
      "source": [
        "# Tensor class reference\n",
        "```\n",
        "class     torch.Tensor\n",
        "```\n",
        "There are a few main ways to create a tensor, depending on your use case.\n",
        "\n",
        "1. To create a tensor with pre-existing data, use `torch.tensor()`.\n",
        "\n",
        "2. To create a tensor with specific size, use `torch.*` tensor creation ops (see [Creation Ops](https://pytorch.org/docs/stable/torch.html#tensor-creation-ops)).\n",
        "\n",
        "3. To create a tensor with the same size (and similar types) as another tensor, use `torch.*_like` tensor creation ops (see [Creation Ops](https://pytorch.org/docs/stable/torch.html#tensor-creation-ops)).\n",
        "\n",
        "4. To create a tensor with similar type but different size as another tensor, use `tensor.new_*` creation ops.\n",
        "\n"
      ],
      "metadata": {
        "id": "br0TuEbJEnMl"
      }
    },
    {
      "cell_type": "code",
      "source": [
        "# 1\n",
        "first_tensor = torch.tensor([6, 3, 2])\n",
        "first_tensor"
      ],
      "metadata": {
        "id": "BHis4qVmpvJs",
        "colab": {
          "base_uri": "https://localhost:8080/"
        },
        "outputId": "72d5ab0d-5f50-45c6-f6d3-8cb8cb3532d8"
      },
      "execution_count": 40,
      "outputs": [
        {
          "output_type": "execute_result",
          "data": {
            "text/plain": [
              "tensor([6, 3, 2])"
            ]
          },
          "metadata": {},
          "execution_count": 40
        }
      ]
    },
    {
      "cell_type": "code",
      "source": [
        "# 2 torch.*\n",
        "\n",
        "# 2.1 - torch.zeros(dimension or size)\n",
        "second_tensor = torch.zeros(3, 4)\n",
        "second_tensor"
      ],
      "metadata": {
        "colab": {
          "base_uri": "https://localhost:8080/"
        },
        "id": "roO6smUwFT6S",
        "outputId": "c73eaad5-a141-4ec0-f71d-ad4f1be789e7"
      },
      "execution_count": 41,
      "outputs": [
        {
          "output_type": "execute_result",
          "data": {
            "text/plain": [
              "tensor([[0., 0., 0., 0.],\n",
              "        [0., 0., 0., 0.],\n",
              "        [0., 0., 0., 0.]])"
            ]
          },
          "metadata": {},
          "execution_count": 41
        }
      ]
    },
    {
      "cell_type": "code",
      "source": [
        "# 2.2 torch.zeros_like(source_tensor)\n",
        "source_tensor = torch.tensor([[3, 4, 6], [1, 8, 3]])\n",
        "\n",
        "third_tensor = torch.zeros_like(source_tensor)\n",
        "third_tensor"
      ],
      "metadata": {
        "colab": {
          "base_uri": "https://localhost:8080/"
        },
        "id": "PJkW2xOLHm2J",
        "outputId": "06bec36c-b79a-4823-db1c-78b5355c8f03"
      },
      "execution_count": 42,
      "outputs": [
        {
          "output_type": "execute_result",
          "data": {
            "text/plain": [
              "tensor([[0, 0, 0],\n",
              "        [0, 0, 0]])"
            ]
          },
          "metadata": {},
          "execution_count": 42
        }
      ]
    },
    {
      "cell_type": "code",
      "source": [
        "# 2.3 torch.ones(dimension)\n",
        "ones_tensor = torch.ones(5,8)\n",
        "ones_tensor"
      ],
      "metadata": {
        "colab": {
          "base_uri": "https://localhost:8080/"
        },
        "id": "lxnTlCLkmjfV",
        "outputId": "310d8c20-5fc4-4efe-d412-62c9c3256be0"
      },
      "execution_count": 43,
      "outputs": [
        {
          "output_type": "execute_result",
          "data": {
            "text/plain": [
              "tensor([[1., 1., 1., 1., 1., 1., 1., 1.],\n",
              "        [1., 1., 1., 1., 1., 1., 1., 1.],\n",
              "        [1., 1., 1., 1., 1., 1., 1., 1.],\n",
              "        [1., 1., 1., 1., 1., 1., 1., 1.],\n",
              "        [1., 1., 1., 1., 1., 1., 1., 1.]])"
            ]
          },
          "metadata": {},
          "execution_count": 43
        }
      ]
    },
    {
      "cell_type": "code",
      "source": [
        "# 2.4 torch.ones_like(source_tensor)\n",
        "source_tensor = torch.tensor([[3, 6, 7], [9,5,8]])\n",
        "ones_like_tensor = torch.ones_like(source_tensor)\n",
        "print(f\"source_tensor = \\n{source_tensor}\")\n",
        "print(f\"ones_like_tensor = \\n{ones_like_tensor}\")"
      ],
      "metadata": {
        "colab": {
          "base_uri": "https://localhost:8080/"
        },
        "id": "PMY0YzwEo0KB",
        "outputId": "a6b3af28-82c9-4e89-8b4b-0359a6ff02f4"
      },
      "execution_count": 44,
      "outputs": [
        {
          "output_type": "stream",
          "name": "stdout",
          "text": [
            "source_tensor = \n",
            "tensor([[3, 6, 7],\n",
            "        [9, 5, 8]])\n",
            "ones_like_tensor = \n",
            "tensor([[1, 1, 1],\n",
            "        [1, 1, 1]])\n"
          ]
        }
      ]
    },
    {
      "cell_type": "code",
      "source": [
        "# 2.5 torch.arange(start, end, step) - returns a 1-D tensor of size [end - start / step]\n",
        "arange_tensor = torch.arange(1, 15, 2)\n",
        "arange_tensor"
      ],
      "metadata": {
        "colab": {
          "base_uri": "https://localhost:8080/"
        },
        "id": "-FpJIdLmo4Im",
        "outputId": "9793752f-17bb-4335-8db1-998e328136c5"
      },
      "execution_count": 45,
      "outputs": [
        {
          "output_type": "execute_result",
          "data": {
            "text/plain": [
              "tensor([ 1,  3,  5,  7,  9, 11, 13])"
            ]
          },
          "metadata": {},
          "execution_count": 45
        }
      ]
    },
    {
      "cell_type": "code",
      "source": [
        "# 2.6 torch.linspace(start, end, step) - Creates a one-dimensional tensor of size steps whose values are evenly spaced from start to end, inclusive.\n",
        "linspace_tensor = torch.linspace(60, 100, 14)\n",
        "linspace_tensor"
      ],
      "metadata": {
        "colab": {
          "base_uri": "https://localhost:8080/"
        },
        "id": "hJ2hpBIGpFt2",
        "outputId": "354d06f1-7323-40ec-b8fd-fc65da8db012"
      },
      "execution_count": 46,
      "outputs": [
        {
          "output_type": "execute_result",
          "data": {
            "text/plain": [
              "tensor([ 60.0000,  63.0769,  66.1538,  69.2308,  72.3077,  75.3846,  78.4615,\n",
              "         81.5385,  84.6154,  87.6923,  90.7692,  93.8462,  96.9231, 100.0000])"
            ]
          },
          "metadata": {},
          "execution_count": 46
        }
      ]
    },
    {
      "cell_type": "code",
      "source": [
        "# 2.7 torch.logspace(start, end, step, base) - Creates a one-dimensional tensor of size steps whose values are evenly spaced from base start base_start to base_end base end, inclusive, on a logarithmic scale with base base.\n",
        "logspace_tensor = torch.logspace(3, 9, 5) # by default base=10.0\n",
        "logspace_tensor"
      ],
      "metadata": {
        "colab": {
          "base_uri": "https://localhost:8080/"
        },
        "id": "-arR1AKnpG7Y",
        "outputId": "65d9e2bd-87d7-466b-e630-b32610721c41"
      },
      "execution_count": 47,
      "outputs": [
        {
          "output_type": "execute_result",
          "data": {
            "text/plain": [
              "tensor([1.0000e+03, 3.1623e+04, 1.0000e+06, 3.1623e+07, 1.0000e+09])"
            ]
          },
          "metadata": {},
          "execution_count": 47
        }
      ]
    },
    {
      "cell_type": "code",
      "source": [
        "'''\n",
        "calculation for getting the values of the return Tensor,\n",
        "value = base ** (start + i * (end-start) / (steps-1)),   where `i` is the index of the value in the sequence, ranging from 0 to `steps-1`\n",
        "'''\n",
        "\n",
        "logspace_tensor = torch.logspace(0, 2, 10)\n",
        "logspace_tensor"
      ],
      "metadata": {
        "colab": {
          "base_uri": "https://localhost:8080/"
        },
        "id": "oT4GEVIzpHWb",
        "outputId": "78dcb787-a64d-4db9-ebed-eca177cca93d"
      },
      "execution_count": 48,
      "outputs": [
        {
          "output_type": "execute_result",
          "data": {
            "text/plain": [
              "tensor([  1.0000,   1.6681,   2.7826,   4.6416,   7.7426,  12.9155,  21.5443,\n",
              "         35.9381,  59.9484, 100.0000])"
            ]
          },
          "metadata": {},
          "execution_count": 48
        }
      ]
    },
    {
      "cell_type": "code",
      "source": [
        "exploring_logspace = torch.logspace(start=0.1, end=1.0, steps=1)\n",
        "exploring_logspace"
      ],
      "metadata": {
        "id": "eS9AgMYopHqP",
        "colab": {
          "base_uri": "https://localhost:8080/"
        },
        "outputId": "44f1430f-c0d5-4390-aea8-d8fe747a8898"
      },
      "execution_count": 49,
      "outputs": [
        {
          "output_type": "execute_result",
          "data": {
            "text/plain": [
              "tensor([1.2589])"
            ]
          },
          "metadata": {},
          "execution_count": 49
        }
      ]
    },
    {
      "cell_type": "code",
      "source": [
        "exploring_logspace = torch.logspace(start=0.1, end=1.0, steps=2)\n",
        "exploring_logspace"
      ],
      "metadata": {
        "id": "GZIwFxC-pH8Y",
        "colab": {
          "base_uri": "https://localhost:8080/"
        },
        "outputId": "0bbe963b-0e90-4dfb-c724-464915684aeb"
      },
      "execution_count": 50,
      "outputs": [
        {
          "output_type": "execute_result",
          "data": {
            "text/plain": [
              "tensor([ 1.2589, 10.0000])"
            ]
          },
          "metadata": {},
          "execution_count": 50
        }
      ]
    },
    {
      "cell_type": "code",
      "source": [
        "exploring_logspace = torch.logspace(start=0.1, end=1.0, steps=3)\n",
        "exploring_logspace"
      ],
      "metadata": {
        "id": "dXIcI7nzpINW",
        "colab": {
          "base_uri": "https://localhost:8080/"
        },
        "outputId": "6eb099cf-6eb6-4aae-f902-f965f2dfe8cc"
      },
      "execution_count": 51,
      "outputs": [
        {
          "output_type": "execute_result",
          "data": {
            "text/plain": [
              "tensor([ 1.2589,  3.5481, 10.0000])"
            ]
          },
          "metadata": {},
          "execution_count": 51
        }
      ]
    },
    {
      "cell_type": "code",
      "source": [
        "exploring_logspace = torch.logspace(start=0.1, end=1.0, steps=4)\n",
        "exploring_logspace"
      ],
      "metadata": {
        "id": "pJ5QFJi2pImF",
        "colab": {
          "base_uri": "https://localhost:8080/"
        },
        "outputId": "cba88687-0556-46d9-aa4e-35d848b078cb"
      },
      "execution_count": 52,
      "outputs": [
        {
          "output_type": "execute_result",
          "data": {
            "text/plain": [
              "tensor([ 1.2589,  2.5119,  5.0119, 10.0000])"
            ]
          },
          "metadata": {},
          "execution_count": 52
        }
      ]
    },
    {
      "cell_type": "code",
      "source": [
        "exploring_logspace = torch.logspace(start=0.1, end=1.0, steps=5)\n",
        "exploring_logspace"
      ],
      "metadata": {
        "id": "8eOrZGTfpJL5",
        "colab": {
          "base_uri": "https://localhost:8080/"
        },
        "outputId": "a4f4d9dd-e3d6-442e-de88-9e4ef2e72e49"
      },
      "execution_count": 53,
      "outputs": [
        {
          "output_type": "execute_result",
          "data": {
            "text/plain": [
              "tensor([ 1.2589,  2.1135,  3.5481,  5.9566, 10.0000])"
            ]
          },
          "metadata": {},
          "execution_count": 53
        }
      ]
    },
    {
      "cell_type": "code",
      "source": [
        "'''\n",
        "calculation of `torch.logspace(start=0.1, end=1.0, steps=10)`\n",
        "\n",
        "values of the return tensor are:\n",
        "\n",
        "1st_value  = base ** (start + (steps - 10) * (end - start / steps - 1))\n",
        "2nd_value  = base ** (start + (steps - 9) * (end - start / steps - 1))\n",
        "3rd_value  = base ** (start + (steps - 8) * (end - start / steps - 1))\n",
        "4th_value  = base ** (start + (steps - 7) * (end - start / steps - 1))\n",
        "5th_value  = base ** (start + (steps - 6) * (end - start / steps - 1))\n",
        "6th_value  = base ** (start + (steps - 5) * (end - start / steps - 1))\n",
        "7th_value  = base ** (start + (steps - 4) * (end - start / steps - 1))\n",
        "6th_value  = base ** (start + (steps - 3) * (end - start / steps - 1))\n",
        "8th_value  = base ** (start + (steps - 2) * (end - start / steps - 1))\n",
        "10th_value = base ** (start + (steps - 1) * (end - start / steps - 1))\n",
        "\n",
        "notice: for user defined purposes if we mention `i` instead of (steps - 10, 9, 8, 7, 6, 5, 4, 3, 2, 1) that means the index of the `i` will be start `0` to `steps - 1`\n",
        "        as for this example 0 to 9 because `steps = 10`\n",
        "'''\n",
        "\n",
        "\n",
        "exploring_logspace = torch.logspace(start=0.1, end=1.0, steps=10)\n",
        "exploring_logspace"
      ],
      "metadata": {
        "id": "2X6TwoGvpJrN",
        "colab": {
          "base_uri": "https://localhost:8080/"
        },
        "outputId": "0a27749d-cd14-4e3d-c62e-a666947a4443"
      },
      "execution_count": 61,
      "outputs": [
        {
          "output_type": "execute_result",
          "data": {
            "text/plain": [
              "tensor([ 1.2589,  1.5849,  1.9953,  2.5119,  3.1623,  3.9811,  5.0119,  6.3096,\n",
              "         7.9433, 10.0000])"
            ]
          },
          "metadata": {},
          "execution_count": 61
        }
      ]
    },
    {
      "cell_type": "code",
      "source": [],
      "metadata": {
        "id": "GEMQPVQpVJ_Z"
      },
      "execution_count": 60,
      "outputs": []
    },
    {
      "cell_type": "code",
      "source": [],
      "metadata": {
        "id": "6aQLYMiAVKDO"
      },
      "execution_count": 60,
      "outputs": []
    },
    {
      "cell_type": "code",
      "source": [],
      "metadata": {
        "id": "XeMzeyslVKIz"
      },
      "execution_count": 60,
      "outputs": []
    },
    {
      "cell_type": "code",
      "source": [],
      "metadata": {
        "id": "4fYUmLVUVKLX"
      },
      "execution_count": 57,
      "outputs": []
    },
    {
      "cell_type": "code",
      "source": [],
      "metadata": {
        "id": "k46XgHQwVKN2"
      },
      "execution_count": 57,
      "outputs": []
    },
    {
      "cell_type": "code",
      "source": [],
      "metadata": {
        "id": "zKyqERiCVKP3"
      },
      "execution_count": 57,
      "outputs": []
    },
    {
      "cell_type": "code",
      "source": [],
      "metadata": {
        "id": "9DTD4nXfVKSQ"
      },
      "execution_count": 57,
      "outputs": []
    },
    {
      "cell_type": "code",
      "source": [],
      "metadata": {
        "id": "eUBaOsg7VKUz"
      },
      "execution_count": 57,
      "outputs": []
    },
    {
      "cell_type": "code",
      "source": [],
      "metadata": {
        "id": "V8xyYA6IVKW8"
      },
      "execution_count": 57,
      "outputs": []
    },
    {
      "cell_type": "code",
      "source": [],
      "metadata": {
        "id": "PvKURH9PVKZP"
      },
      "execution_count": 57,
      "outputs": []
    },
    {
      "cell_type": "code",
      "source": [],
      "metadata": {
        "id": "1Th7pdYaVKbx"
      },
      "execution_count": 57,
      "outputs": []
    },
    {
      "cell_type": "code",
      "source": [],
      "metadata": {
        "id": "SEzggEWyVKeM"
      },
      "execution_count": 57,
      "outputs": []
    },
    {
      "cell_type": "code",
      "source": [],
      "metadata": {
        "id": "80rdMHQ5VKgw"
      },
      "execution_count": 57,
      "outputs": []
    },
    {
      "cell_type": "code",
      "source": [],
      "metadata": {
        "id": "uDgcMimPVKjG"
      },
      "execution_count": 57,
      "outputs": []
    },
    {
      "cell_type": "code",
      "source": [],
      "metadata": {
        "id": "W1cY5YjtVKl8"
      },
      "execution_count": 57,
      "outputs": []
    },
    {
      "cell_type": "markdown",
      "source": [
        "# Indexing, Slicing, Joining, Mutating Ops["
      ],
      "metadata": {
        "id": "rU_tqcJ6bwBV"
      }
    },
    {
      "cell_type": "code",
      "source": [],
      "metadata": {
        "id": "BQfMwXMKo3au"
      },
      "execution_count": 57,
      "outputs": []
    },
    {
      "cell_type": "code",
      "source": [],
      "metadata": {
        "id": "vz9HZM2eW-1i"
      },
      "execution_count": 57,
      "outputs": []
    }
  ]
}