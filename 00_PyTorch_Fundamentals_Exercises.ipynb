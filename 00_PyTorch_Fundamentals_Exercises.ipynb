{
  "nbformat": 4,
  "nbformat_minor": 0,
  "metadata": {
    "colab": {
      "provenance": []
    },
    "kernelspec": {
      "name": "python3",
      "display_name": "Python 3"
    },
    "language_info": {
      "name": "python"
    }
  },
  "cells": [
    {
      "cell_type": "markdown",
      "source": [
        "# Exercises"
      ],
      "metadata": {
        "id": "JYsG56_TSwi2"
      }
    },
    {
      "cell_type": "markdown",
      "source": [
        "## 1. Documentation reading\n",
        "A big part of deep learning (and learning to code in general) is getting familiar with the documentation of a certain framework you're using. We'll be using the PyTorch documentation a lot throughout the rest of this course. So I'd recommend spending 10-minutes reading the following (it's okay if you don't get some things for now, the focus is not yet full understanding, it's awareness):\n",
        "\n",
        "* The documentation on [`torch.Tensor`](https://pytorch.org/docs/stable/tensors.html)\n",
        "* The documentation on [`torch.cuda`](https://pytorch.org/docs/stable/cuda.html)*italicized text*"
      ],
      "metadata": {
        "id": "inVZ-P9iSqui"
      }
    },
    {
      "cell_type": "code",
      "source": [
        "import torch"
      ],
      "metadata": {
        "id": "h6HOaM8IrM34"
      },
      "execution_count": 38,
      "outputs": []
    },
    {
      "cell_type": "code",
      "source": [
        "# default float datatype is `float32`\n",
        "\n",
        "default_float_datatype_tensor = torch.tensor([0.5, 0.1, 0.7, 0.3])\n",
        "default_float_datatype_tensor, default_float_datatype_tensor.dtype"
      ],
      "metadata": {
        "colab": {
          "base_uri": "https://localhost:8080/"
        },
        "id": "B5HR5iD30MoK",
        "outputId": "0055b0d1-1cbe-43d8-f2fa-724fdc61538d"
      },
      "execution_count": 39,
      "outputs": [
        {
          "output_type": "execute_result",
          "data": {
            "text/plain": [
              "(tensor([0.5000, 0.1000, 0.7000, 0.3000]), torch.float32)"
            ]
          },
          "metadata": {},
          "execution_count": 39
        }
      ]
    },
    {
      "cell_type": "code",
      "execution_count": 40,
      "metadata": {
        "colab": {
          "base_uri": "https://localhost:8080/"
        },
        "id": "vC3I0vLQM0Km",
        "outputId": "893f466c-29b2-404d-9ed1-739ed3afb4fc"
      },
      "outputs": [
        {
          "output_type": "execute_result",
          "data": {
            "text/plain": [
              "(tensor([4., 7., 8.]), torch.float32)"
            ]
          },
          "metadata": {},
          "execution_count": 40
        }
      ],
      "source": [
        "# torch.Tensor\n",
        "\n",
        "## Data Types\n",
        "\n",
        "# float32 datatype\n",
        "# create tensor\n",
        "float_32_tensor = torch.tensor([4, 7, 8], dtype=torch.float) # `torch.float` or, `torch.float32`\n",
        "float_32_tensor, float_32_tensor.dtype"
      ]
    },
    {
      "cell_type": "code",
      "source": [
        "float_32Tensor = torch.tensor([1, 2, 3], dtype=torch.float32)\n",
        "float_32Tensor"
      ],
      "metadata": {
        "id": "BaWDfSYyUE8u",
        "colab": {
          "base_uri": "https://localhost:8080/"
        },
        "outputId": "e2d8012d-f4d2-4c18-f83f-f33e938199c9"
      },
      "execution_count": 41,
      "outputs": [
        {
          "output_type": "execute_result",
          "data": {
            "text/plain": [
              "tensor([1., 2., 3.])"
            ]
          },
          "metadata": {},
          "execution_count": 41
        }
      ]
    },
    {
      "cell_type": "code",
      "source": [
        "# float64 datatype\n",
        "float_64_tensor = torch.tensor([1, 4, 2], dtype=torch.float64) # `torch.float64` or, `torch.double`\n",
        "float_64_tensor, float_64_tensor.dtype"
      ],
      "metadata": {
        "id": "-HGbyZzVtBRf",
        "colab": {
          "base_uri": "https://localhost:8080/"
        },
        "outputId": "d6846b51-4cd4-451d-ef4b-9fcb5d3513a4"
      },
      "execution_count": 42,
      "outputs": [
        {
          "output_type": "execute_result",
          "data": {
            "text/plain": [
              "(tensor([1., 4., 2.], dtype=torch.float64), torch.float64)"
            ]
          },
          "metadata": {},
          "execution_count": 42
        }
      ]
    },
    {
      "cell_type": "code",
      "source": [
        "float_64Tensor = torch.tensor([6, 9, 2], dtype=torch.double)\n",
        "float_64Tensor, float_64Tensor.dtype"
      ],
      "metadata": {
        "colab": {
          "base_uri": "https://localhost:8080/"
        },
        "id": "zXJ_xdZxBxn5",
        "outputId": "d89c8529-ba41-4652-c9d6-7b6ed5d7d9a9"
      },
      "execution_count": 43,
      "outputs": [
        {
          "output_type": "execute_result",
          "data": {
            "text/plain": [
              "(tensor([6., 9., 2.], dtype=torch.float64), torch.float64)"
            ]
          },
          "metadata": {},
          "execution_count": 43
        }
      ]
    },
    {
      "cell_type": "code",
      "source": [
        "'''\n",
        "1. Sometimes referred to as binary16: uses 1 sign, 5 exponent, and 10 significand bits. Useful when precision is important at the expense of range.\n",
        "'''\n",
        "\n",
        "# 1. float16 datatype\n",
        "float_16_tensor = torch.tensor([7, 3, 4], dtype=torch.float16)\n",
        "float_16_tensor, float_16_tensor.dtype"
      ],
      "metadata": {
        "colab": {
          "base_uri": "https://localhost:8080/"
        },
        "id": "9WyXy3ozCB3k",
        "outputId": "d767bd49-93a5-4902-99ce-84a64647caa3"
      },
      "execution_count": 44,
      "outputs": [
        {
          "output_type": "execute_result",
          "data": {
            "text/plain": [
              "(tensor([7., 3., 4.], dtype=torch.float16), torch.float16)"
            ]
          },
          "metadata": {},
          "execution_count": 44
        }
      ]
    },
    {
      "cell_type": "code",
      "source": [
        "#\n",
        "float_16Tensor = torch.tensor([8, 2, 6], dtype=torch.half)\n",
        "float_16Tensor, float_16Tensor.dtype"
      ],
      "metadata": {
        "colab": {
          "base_uri": "https://localhost:8080/"
        },
        "id": "gwZM33lZDkTo",
        "outputId": "353eafb6-b69d-4d72-f8fc-44a3caa0f74a"
      },
      "execution_count": 45,
      "outputs": [
        {
          "output_type": "execute_result",
          "data": {
            "text/plain": [
              "(tensor([8., 2., 6.], dtype=torch.float16), torch.float16)"
            ]
          },
          "metadata": {},
          "execution_count": 45
        }
      ]
    },
    {
      "cell_type": "code",
      "source": [
        "'''\n",
        "Sometimes referred to as Brain Floating Point: uses 1 sign, 8 exponent, and 7 significand bits. Useful when range is important, since it has the same number of exponent bits as float32\n",
        "'''\n",
        "\n",
        "# 2. float16 datatype\n",
        "float_16_tensor = torch.tensor([7, 3, 4], dtype=torch.bfloat16)\n",
        "float_16_tensor, float_16_tensor.dtype"
      ],
      "metadata": {
        "colab": {
          "base_uri": "https://localhost:8080/"
        },
        "id": "LwY1f2rD3cFy",
        "outputId": "6bac8475-5e49-4644-f9bd-7543c30034fc"
      },
      "execution_count": 46,
      "outputs": [
        {
          "output_type": "execute_result",
          "data": {
            "text/plain": [
              "(tensor([7., 3., 4.], dtype=torch.bfloat16), torch.bfloat16)"
            ]
          },
          "metadata": {},
          "execution_count": 46
        }
      ]
    },
    {
      "cell_type": "code",
      "source": [
        "# default integer datatype is `int64`\n",
        "default_int_datatype_tensor = torch.tensor([6,1,9])\n",
        "default_int_datatype_tensor, default_int_datatype_tensor.dtype"
      ],
      "metadata": {
        "colab": {
          "base_uri": "https://localhost:8080/"
        },
        "id": "TS5Agqo90qFc",
        "outputId": "7ab68af5-dab6-44f3-b09c-c7da57a9f4eb"
      },
      "execution_count": 47,
      "outputs": [
        {
          "output_type": "execute_result",
          "data": {
            "text/plain": [
              "(tensor([6, 1, 9]), torch.int64)"
            ]
          },
          "metadata": {},
          "execution_count": 47
        }
      ]
    },
    {
      "cell_type": "code",
      "source": [
        "# integers(signed) datatypes\n",
        "int_8_tensor = torch.tensor([4,8,1], dtype=torch.int8)\n",
        "int_8_tensor, int_8_tensor.dtype"
      ],
      "metadata": {
        "colab": {
          "base_uri": "https://localhost:8080/"
        },
        "id": "AfE3G02FJt25",
        "outputId": "76d12000-7172-415d-bdec-dc0b37d1d540"
      },
      "execution_count": 48,
      "outputs": [
        {
          "output_type": "execute_result",
          "data": {
            "text/plain": [
              "(tensor([4, 8, 1], dtype=torch.int8), torch.int8)"
            ]
          },
          "metadata": {},
          "execution_count": 48
        }
      ]
    },
    {
      "cell_type": "code",
      "source": [
        "int_16_tensor = torch.tensor([6,8,2], dtype=torch.int16)\n",
        "int_16_tensor, int_16_tensor.dtype"
      ],
      "metadata": {
        "colab": {
          "base_uri": "https://localhost:8080/"
        },
        "id": "Hq8BQ0nunhua",
        "outputId": "e9efd583-a68e-486e-f221-5f0bca2218ab"
      },
      "execution_count": 49,
      "outputs": [
        {
          "output_type": "execute_result",
          "data": {
            "text/plain": [
              "(tensor([6, 8, 2], dtype=torch.int16), torch.int16)"
            ]
          },
          "metadata": {},
          "execution_count": 49
        }
      ]
    },
    {
      "cell_type": "code",
      "source": [
        "int_16_or_short_tensor = torch.tensor([7,1,9], dtype=torch.short)\n",
        "int_16_or_short_tensor, int_16_or_short_tensor.dtype"
      ],
      "metadata": {
        "colab": {
          "base_uri": "https://localhost:8080/"
        },
        "id": "ZLtd9T0Ln7L0",
        "outputId": "33741ba8-6798-4fcb-be90-5cfe11477ebd"
      },
      "execution_count": 50,
      "outputs": [
        {
          "output_type": "execute_result",
          "data": {
            "text/plain": [
              "(tensor([7, 1, 9], dtype=torch.int16), torch.int16)"
            ]
          },
          "metadata": {},
          "execution_count": 50
        }
      ]
    },
    {
      "cell_type": "code",
      "source": [
        "# 32bit integers (signed)\n",
        "int_32_tensor = torch.tensor([6,3,9], dtype=torch.int32)\n",
        "int_32_tensor, int_32_tensor.dtype"
      ],
      "metadata": {
        "colab": {
          "base_uri": "https://localhost:8080/"
        },
        "id": "tB9sT2atoRr8",
        "outputId": "59fe1ce9-4799-4686-d747-c59d869ea749"
      },
      "execution_count": 51,
      "outputs": [
        {
          "output_type": "execute_result",
          "data": {
            "text/plain": [
              "(tensor([6, 3, 9], dtype=torch.int32), torch.int32)"
            ]
          },
          "metadata": {},
          "execution_count": 51
        }
      ]
    },
    {
      "cell_type": "code",
      "source": [
        "int32Tensor = torch.tensor([6,1,9], dtype=torch.int)\n",
        "int32Tensor, int32Tensor.dtype"
      ],
      "metadata": {
        "colab": {
          "base_uri": "https://localhost:8080/"
        },
        "id": "IyFrWjq_p25L",
        "outputId": "2c11c415-8b37-40f1-d5f6-7108878651a9"
      },
      "execution_count": 52,
      "outputs": [
        {
          "output_type": "execute_result",
          "data": {
            "text/plain": [
              "(tensor([6, 1, 9], dtype=torch.int32), torch.int32)"
            ]
          },
          "metadata": {},
          "execution_count": 52
        }
      ]
    },
    {
      "cell_type": "code",
      "source": [
        "int_64_Tensor = torch.tensor([7,1,8], dtype=torch.int64)\n",
        "int_64_Tensor, int_64_Tensor.dtype"
      ],
      "metadata": {
        "colab": {
          "base_uri": "https://localhost:8080/"
        },
        "id": "3isl2Uo7zE8y",
        "outputId": "34757767-b1a0-4ae1-993c-87d1355fa0a4"
      },
      "execution_count": 53,
      "outputs": [
        {
          "output_type": "execute_result",
          "data": {
            "text/plain": [
              "(tensor([7, 1, 8]), torch.int64)"
            ]
          },
          "metadata": {},
          "execution_count": 53
        }
      ]
    },
    {
      "cell_type": "code",
      "source": [
        "int_64_or_long_Tensor = torch.tensor([7,1,8], dtype=torch.long)\n",
        "int_64_or_long_Tensor, int_64_or_long_Tensor.dtype"
      ],
      "metadata": {
        "colab": {
          "base_uri": "https://localhost:8080/"
        },
        "id": "4rOd-2FHzTeU",
        "outputId": "aed356f9-26cc-4dc7-859c-478b4cf4d922"
      },
      "execution_count": 54,
      "outputs": [
        {
          "output_type": "execute_result",
          "data": {
            "text/plain": [
              "(tensor([7, 1, 8]), torch.int64)"
            ]
          },
          "metadata": {},
          "execution_count": 54
        }
      ]
    },
    {
      "cell_type": "code",
      "source": [
        "# boolean datatype\n",
        "boolean_tensor = torch.tensor([1,0,1,0,1], dtype=torch.bool)\n",
        "boolean_tensor, boolean_tensor.dtype"
      ],
      "metadata": {
        "colab": {
          "base_uri": "https://localhost:8080/"
        },
        "id": "614MUQ9Czu1L",
        "outputId": "59bae5f9-1cb5-4161-944f-35c26b7b7342"
      },
      "execution_count": 55,
      "outputs": [
        {
          "output_type": "execute_result",
          "data": {
            "text/plain": [
              "(tensor([ True, False,  True, False,  True]), torch.bool)"
            ]
          },
          "metadata": {},
          "execution_count": 55
        }
      ]
    },
    {
      "cell_type": "code",
      "source": [
        "## backward compatibility\n",
        "# 32-bit floating point\n",
        "x = torch.FloatTensor([1,8,5])\n",
        "x, x.dtype"
      ],
      "metadata": {
        "colab": {
          "base_uri": "https://localhost:8080/"
        },
        "id": "XjbMp9an1jTz",
        "outputId": "7f0b1d3d-c7a1-43ea-bc51-9ac6026dd5c5"
      },
      "execution_count": 57,
      "outputs": [
        {
          "output_type": "execute_result",
          "data": {
            "text/plain": [
              "(tensor([1., 8., 5.]), torch.float32)"
            ]
          },
          "metadata": {},
          "execution_count": 57
        }
      ]
    },
    {
      "cell_type": "code",
      "source": [
        "# converting datatype (float32 to float64)\n",
        "\n",
        "# 1.\n",
        "y = x.type(torch.DoubleTensor)\n",
        "y, y.dtype"
      ],
      "metadata": {
        "colab": {
          "base_uri": "https://localhost:8080/"
        },
        "id": "XVwVm8bU-dwc",
        "outputId": "cab96958-b6c6-454c-8f9d-d3a9bd272c73"
      },
      "execution_count": 60,
      "outputs": [
        {
          "output_type": "execute_result",
          "data": {
            "text/plain": [
              "(tensor([1., 8., 5.], dtype=torch.float64), torch.float64)"
            ]
          },
          "metadata": {},
          "execution_count": 60
        }
      ]
    },
    {
      "cell_type": "code",
      "source": [
        "# 2.\n",
        "z = x.type(torch.float64)\n",
        "z, z.dtype"
      ],
      "metadata": {
        "colab": {
          "base_uri": "https://localhost:8080/"
        },
        "id": "BMapolzt_bu0",
        "outputId": "58758eb7-ca02-4d96-9f51-e35a72a67567"
      },
      "execution_count": 62,
      "outputs": [
        {
          "output_type": "execute_result",
          "data": {
            "text/plain": [
              "(tensor([1., 8., 5.], dtype=torch.float64), torch.float64)"
            ]
          },
          "metadata": {},
          "execution_count": 62
        }
      ]
    },
    {
      "cell_type": "code",
      "source": [
        "# 3.\n",
        "w = x.type(torch.double)\n",
        "w, w.dtype"
      ],
      "metadata": {
        "colab": {
          "base_uri": "https://localhost:8080/"
        },
        "id": "_cxej9T5A_L9",
        "outputId": "979c582b-35e5-4963-ff34-6560a9c60823"
      },
      "execution_count": 63,
      "outputs": [
        {
          "output_type": "execute_result",
          "data": {
            "text/plain": [
              "(tensor([1., 8., 5.], dtype=torch.float64), torch.float64)"
            ]
          },
          "metadata": {},
          "execution_count": 63
        }
      ]
    },
    {
      "cell_type": "code",
      "source": [
        "# 64-bit floating point\n",
        "a = torch.DoubleTensor([7,1,5,4])\n",
        "a"
      ],
      "metadata": {
        "colab": {
          "base_uri": "https://localhost:8080/"
        },
        "id": "cj6sKOzQBIpL",
        "outputId": "b71f9c0b-4454-4e07-a85a-01a970c3c2b1"
      },
      "execution_count": 64,
      "outputs": [
        {
          "output_type": "execute_result",
          "data": {
            "text/plain": [
              "tensor([7., 1., 5., 4.], dtype=torch.float64)"
            ]
          },
          "metadata": {},
          "execution_count": 64
        }
      ]
    },
    {
      "cell_type": "code",
      "source": [
        "# 16-bit floating point\n",
        "b = torch.HalfTensor([4,7,1])\n",
        "b"
      ],
      "metadata": {
        "colab": {
          "base_uri": "https://localhost:8080/"
        },
        "id": "0vNc6rbYBaMy",
        "outputId": "d4ac2b98-d7cc-4145-ed02-12b374eeba62"
      },
      "execution_count": 65,
      "outputs": [
        {
          "output_type": "execute_result",
          "data": {
            "text/plain": [
              "tensor([4., 7., 1.], dtype=torch.float16)"
            ]
          },
          "metadata": {},
          "execution_count": 65
        }
      ]
    },
    {
      "cell_type": "code",
      "source": [
        "# 16-bit floating point\n",
        "c = torch.BFloat16Tensor([5,8,4])\n",
        "c"
      ],
      "metadata": {
        "colab": {
          "base_uri": "https://localhost:8080/"
        },
        "id": "UFpeT5I6Baiu",
        "outputId": "a4e0ae18-802d-4867-9979-78feb2abe5b5"
      },
      "execution_count": 66,
      "outputs": [
        {
          "output_type": "execute_result",
          "data": {
            "text/plain": [
              "tensor([5., 8., 4.], dtype=torch.bfloat16)"
            ]
          },
          "metadata": {},
          "execution_count": 66
        }
      ]
    },
    {
      "cell_type": "code",
      "source": [
        "# 8-bit integer (unsigned)\n",
        "d = torch.ByteTensor([1,2,3])\n",
        "d"
      ],
      "metadata": {
        "colab": {
          "base_uri": "https://localhost:8080/"
        },
        "id": "aHD3TuGjBat0",
        "outputId": "23544cb2-b51a-46eb-836d-b2e7871470e9"
      },
      "execution_count": 69,
      "outputs": [
        {
          "output_type": "execute_result",
          "data": {
            "text/plain": [
              "tensor([1, 2, 3], dtype=torch.uint8)"
            ]
          },
          "metadata": {},
          "execution_count": 69
        }
      ]
    },
    {
      "cell_type": "code",
      "source": [
        "# 8-bit integer (signed)\n",
        "e = torch.CharTensor([3,5,4])\n",
        "e"
      ],
      "metadata": {
        "colab": {
          "base_uri": "https://localhost:8080/"
        },
        "id": "8yScJemeBbnU",
        "outputId": "f36b4b2d-157f-4468-b6ce-e5b0800b2bf9"
      },
      "execution_count": 70,
      "outputs": [
        {
          "output_type": "execute_result",
          "data": {
            "text/plain": [
              "tensor([3, 5, 4], dtype=torch.int8)"
            ]
          },
          "metadata": {},
          "execution_count": 70
        }
      ]
    },
    {
      "cell_type": "code",
      "source": [
        "# 16-bit integer (signed)\n",
        "f = torch.ShortTensor([5,7,9])\n",
        "f"
      ],
      "metadata": {
        "colab": {
          "base_uri": "https://localhost:8080/"
        },
        "id": "Rr02mupzBhTc",
        "outputId": "42b1b8fd-d3a8-4111-ba09-409aa89ae2d3"
      },
      "execution_count": 71,
      "outputs": [
        {
          "output_type": "execute_result",
          "data": {
            "text/plain": [
              "tensor([5, 7, 9], dtype=torch.int16)"
            ]
          },
          "metadata": {},
          "execution_count": 71
        }
      ]
    },
    {
      "cell_type": "code",
      "source": [
        "# 32-bit integer (signed)\n",
        "g = torch.IntTensor([6,1,5])\n",
        "g"
      ],
      "metadata": {
        "colab": {
          "base_uri": "https://localhost:8080/"
        },
        "id": "LRDbjRd2BiaL",
        "outputId": "b83b5a4f-3f20-4668-d13c-c094ad60222c"
      },
      "execution_count": 72,
      "outputs": [
        {
          "output_type": "execute_result",
          "data": {
            "text/plain": [
              "tensor([6, 1, 5], dtype=torch.int32)"
            ]
          },
          "metadata": {},
          "execution_count": 72
        }
      ]
    },
    {
      "cell_type": "code",
      "source": [
        "# 64-bit integer (signed)\n",
        "h = torch.LongTensor([5,2,9])\n",
        "h"
      ],
      "metadata": {
        "colab": {
          "base_uri": "https://localhost:8080/"
        },
        "id": "FB2N2KCIBi7X",
        "outputId": "42b1f1b1-a02c-4a3d-90df-77c63b6ed965"
      },
      "execution_count": 74,
      "outputs": [
        {
          "output_type": "execute_result",
          "data": {
            "text/plain": [
              "tensor([5, 2, 9])"
            ]
          },
          "metadata": {},
          "execution_count": 74
        }
      ]
    },
    {
      "cell_type": "code",
      "source": [
        "# Boolean\n",
        "i = torch.BoolTensor([0,1,0])\n",
        "i, i.dtype"
      ],
      "metadata": {
        "colab": {
          "base_uri": "https://localhost:8080/"
        },
        "id": "42xDhOOTBzYL",
        "outputId": "7b34fe73-34ca-4eea-ce59-563982888867"
      },
      "execution_count": 77,
      "outputs": [
        {
          "output_type": "execute_result",
          "data": {
            "text/plain": [
              "(tensor([False,  True, False]), torch.bool)"
            ]
          },
          "metadata": {},
          "execution_count": 77
        }
      ]
    },
    {
      "cell_type": "code",
      "source": [
        "# factory function - `torch.empty()`\n",
        "k = torch.empty(size=(3,3),dtype=torch.float16)\n",
        "k, k.ndim, k.shape"
      ],
      "metadata": {
        "colab": {
          "base_uri": "https://localhost:8080/"
        },
        "id": "j1PwGiskEdDv",
        "outputId": "17b983dc-80f0-41de-f6ac-5b21f2d8e947"
      },
      "execution_count": 80,
      "outputs": [
        {
          "output_type": "execute_result",
          "data": {
            "text/plain": [
              "(tensor([[ 1.2112e-04, -2.4605e-04,  2.7050e+02],\n",
              "         [ 0.0000e+00,         nan, -2.4152e-04],\n",
              "         [ 2.7050e+02,  0.0000e+00,  4.7684e-06]], dtype=torch.float16),\n",
              " 2,\n",
              " torch.Size([3, 3]))"
            ]
          },
          "metadata": {},
          "execution_count": 80
        }
      ]
    },
    {
      "cell_type": "code",
      "source": [],
      "metadata": {
        "id": "Num9gyO7FeiF"
      },
      "execution_count": null,
      "outputs": []
    }
  ]
}