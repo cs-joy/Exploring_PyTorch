{
  "nbformat": 4,
  "nbformat_minor": 0,
  "metadata": {
    "colab": {
      "provenance": []
    },
    "kernelspec": {
      "name": "python3",
      "display_name": "Python 3"
    },
    "language_info": {
      "name": "python"
    }
  },
  "cells": [
    {
      "cell_type": "markdown",
      "source": [
        "# Exercises"
      ],
      "metadata": {
        "id": "JYsG56_TSwi2"
      }
    },
    {
      "cell_type": "markdown",
      "source": [
        "## 1. Documentation reading\n",
        "A big part of deep learning (and learning to code in general) is getting familiar with the documentation of a certain framework you're using. We'll be using the PyTorch documentation a lot throughout the rest of this course. So I'd recommend spending 10-minutes reading the following (it's okay if you don't get some things for now, the focus is not yet full understanding, it's awareness):\n",
        "\n",
        "* The documentation on [`torch.Tensor`](https://pytorch.org/docs/stable/tensors.html)\n",
        "* The documentation on [`torch.cuda`](https://pytorch.org/docs/stable/cuda.html)"
      ],
      "metadata": {
        "id": "inVZ-P9iSqui"
      }
    },
    {
      "cell_type": "code",
      "source": [
        "import torch"
      ],
      "metadata": {
        "id": "h6HOaM8IrM34"
      },
      "execution_count": 64,
      "outputs": []
    },
    {
      "cell_type": "code",
      "source": [
        "# default float datatype is `float32`\n",
        "\n",
        "default_float_datatype_tensor = torch.tensor([0.5, 0.1, 0.7, 0.3])\n",
        "default_float_datatype_tensor, default_float_datatype_tensor.dtype"
      ],
      "metadata": {
        "colab": {
          "base_uri": "https://localhost:8080/"
        },
        "id": "B5HR5iD30MoK",
        "outputId": "7d9f528b-aa83-4352-e3ff-518f903b2096"
      },
      "execution_count": 65,
      "outputs": [
        {
          "output_type": "execute_result",
          "data": {
            "text/plain": [
              "(tensor([0.5000, 0.1000, 0.7000, 0.3000]), torch.float32)"
            ]
          },
          "metadata": {},
          "execution_count": 65
        }
      ]
    },
    {
      "cell_type": "code",
      "execution_count": 66,
      "metadata": {
        "colab": {
          "base_uri": "https://localhost:8080/"
        },
        "id": "vC3I0vLQM0Km",
        "outputId": "17659958-6547-4e60-decb-3e66bb5c149d"
      },
      "outputs": [
        {
          "output_type": "execute_result",
          "data": {
            "text/plain": [
              "(tensor([4., 7., 8.]), torch.float32)"
            ]
          },
          "metadata": {},
          "execution_count": 66
        }
      ],
      "source": [
        "# torch.Tensor\n",
        "\n",
        "## Data Types\n",
        "\n",
        "# float32 datatype\n",
        "# create tensor\n",
        "float_32_tensor = torch.tensor([4, 7, 8], dtype=torch.float) # `torch.float` or, `torch.float32`\n",
        "float_32_tensor, float_32_tensor.dtype"
      ]
    },
    {
      "cell_type": "code",
      "source": [
        "float_32Tensor = torch.tensor([1, 2, 3], dtype=torch.float32)\n",
        "float_32Tensor"
      ],
      "metadata": {
        "id": "BaWDfSYyUE8u",
        "colab": {
          "base_uri": "https://localhost:8080/"
        },
        "outputId": "fdfce6b8-b29c-4684-fac1-94257b869229"
      },
      "execution_count": 67,
      "outputs": [
        {
          "output_type": "execute_result",
          "data": {
            "text/plain": [
              "tensor([1., 2., 3.])"
            ]
          },
          "metadata": {},
          "execution_count": 67
        }
      ]
    },
    {
      "cell_type": "code",
      "source": [
        "# float64 datatype\n",
        "float_64_tensor = torch.tensor([1, 4, 2], dtype=torch.float64) # `torch.float64` or, `torch.double`\n",
        "float_64_tensor, float_64_tensor.dtype"
      ],
      "metadata": {
        "id": "-HGbyZzVtBRf",
        "colab": {
          "base_uri": "https://localhost:8080/"
        },
        "outputId": "527e8942-104a-498a-d4cc-d1158f69928d"
      },
      "execution_count": 68,
      "outputs": [
        {
          "output_type": "execute_result",
          "data": {
            "text/plain": [
              "(tensor([1., 4., 2.], dtype=torch.float64), torch.float64)"
            ]
          },
          "metadata": {},
          "execution_count": 68
        }
      ]
    },
    {
      "cell_type": "code",
      "source": [
        "float_64Tensor = torch.tensor([6, 9, 2], dtype=torch.double)\n",
        "float_64Tensor, float_64Tensor.dtype"
      ],
      "metadata": {
        "colab": {
          "base_uri": "https://localhost:8080/"
        },
        "id": "zXJ_xdZxBxn5",
        "outputId": "70d93c8a-b3dd-409c-90bf-b1c0d60c51c9"
      },
      "execution_count": 69,
      "outputs": [
        {
          "output_type": "execute_result",
          "data": {
            "text/plain": [
              "(tensor([6., 9., 2.], dtype=torch.float64), torch.float64)"
            ]
          },
          "metadata": {},
          "execution_count": 69
        }
      ]
    },
    {
      "cell_type": "code",
      "source": [
        "'''\n",
        "1. Sometimes referred to as binary16: uses 1 sign, 5 exponent, and 10 significand bits. Useful when precision is important at the expense of range.\n",
        "'''\n",
        "\n",
        "# 1. float16 datatype\n",
        "float_16_tensor = torch.tensor([7, 3, 4], dtype=torch.float16)\n",
        "float_16_tensor, float_16_tensor.dtype"
      ],
      "metadata": {
        "colab": {
          "base_uri": "https://localhost:8080/"
        },
        "id": "9WyXy3ozCB3k",
        "outputId": "322da853-c44a-49aa-bc03-8bddd4c311aa"
      },
      "execution_count": 70,
      "outputs": [
        {
          "output_type": "execute_result",
          "data": {
            "text/plain": [
              "(tensor([7., 3., 4.], dtype=torch.float16), torch.float16)"
            ]
          },
          "metadata": {},
          "execution_count": 70
        }
      ]
    },
    {
      "cell_type": "code",
      "source": [
        "#\n",
        "float_16Tensor = torch.tensor([8, 2, 6], dtype=torch.half)\n",
        "float_16Tensor, float_16Tensor.dtype"
      ],
      "metadata": {
        "colab": {
          "base_uri": "https://localhost:8080/"
        },
        "id": "gwZM33lZDkTo",
        "outputId": "8a545116-3416-4ad8-e650-55bff4a1e700"
      },
      "execution_count": 71,
      "outputs": [
        {
          "output_type": "execute_result",
          "data": {
            "text/plain": [
              "(tensor([8., 2., 6.], dtype=torch.float16), torch.float16)"
            ]
          },
          "metadata": {},
          "execution_count": 71
        }
      ]
    },
    {
      "cell_type": "code",
      "source": [
        "'''\n",
        "Sometimes referred to as Brain Floating Point: uses 1 sign, 8 exponent, and 7 significand bits. Useful when range is important, since it has the same number of exponent bits as float32\n",
        "'''\n",
        "\n",
        "# 2. float16 datatype\n",
        "float_16_tensor = torch.tensor([7, 3, 4], dtype=torch.bfloat16)\n",
        "float_16_tensor, float_16_tensor.dtype"
      ],
      "metadata": {
        "colab": {
          "base_uri": "https://localhost:8080/"
        },
        "id": "LwY1f2rD3cFy",
        "outputId": "4f2ae25f-7309-41f1-cedc-ac1284556ca9"
      },
      "execution_count": 72,
      "outputs": [
        {
          "output_type": "execute_result",
          "data": {
            "text/plain": [
              "(tensor([7., 3., 4.], dtype=torch.bfloat16), torch.bfloat16)"
            ]
          },
          "metadata": {},
          "execution_count": 72
        }
      ]
    },
    {
      "cell_type": "code",
      "source": [
        "# default integer datatype is `int64`\n",
        "default_int_datatype_tensor = torch.tensor([6,1,9])\n",
        "default_int_datatype_tensor, default_int_datatype_tensor.dtype"
      ],
      "metadata": {
        "colab": {
          "base_uri": "https://localhost:8080/"
        },
        "id": "TS5Agqo90qFc",
        "outputId": "a5a55867-558d-4391-af4e-32e071efaf49"
      },
      "execution_count": 73,
      "outputs": [
        {
          "output_type": "execute_result",
          "data": {
            "text/plain": [
              "(tensor([6, 1, 9]), torch.int64)"
            ]
          },
          "metadata": {},
          "execution_count": 73
        }
      ]
    },
    {
      "cell_type": "code",
      "source": [
        "# integers(signed) datatypes\n",
        "int_8_tensor = torch.tensor([4,8,1], dtype=torch.int8)\n",
        "int_8_tensor, int_8_tensor.dtype"
      ],
      "metadata": {
        "colab": {
          "base_uri": "https://localhost:8080/"
        },
        "id": "AfE3G02FJt25",
        "outputId": "e251b5f7-d491-4d81-85ed-b9cf8b8f112a"
      },
      "execution_count": 74,
      "outputs": [
        {
          "output_type": "execute_result",
          "data": {
            "text/plain": [
              "(tensor([4, 8, 1], dtype=torch.int8), torch.int8)"
            ]
          },
          "metadata": {},
          "execution_count": 74
        }
      ]
    },
    {
      "cell_type": "code",
      "source": [
        "int_16_tensor = torch.tensor([6,8,2], dtype=torch.int16)\n",
        "int_16_tensor, int_16_tensor.dtype"
      ],
      "metadata": {
        "colab": {
          "base_uri": "https://localhost:8080/"
        },
        "id": "Hq8BQ0nunhua",
        "outputId": "8097f28f-7274-4537-8e83-4b69f3c7a393"
      },
      "execution_count": 75,
      "outputs": [
        {
          "output_type": "execute_result",
          "data": {
            "text/plain": [
              "(tensor([6, 8, 2], dtype=torch.int16), torch.int16)"
            ]
          },
          "metadata": {},
          "execution_count": 75
        }
      ]
    },
    {
      "cell_type": "code",
      "source": [
        "int_16_or_short_tensor = torch.tensor([7,1,9], dtype=torch.short)\n",
        "int_16_or_short_tensor, int_16_or_short_tensor.dtype"
      ],
      "metadata": {
        "colab": {
          "base_uri": "https://localhost:8080/"
        },
        "id": "ZLtd9T0Ln7L0",
        "outputId": "4fe79403-bb1e-4db3-d8d5-1e091728bd41"
      },
      "execution_count": 76,
      "outputs": [
        {
          "output_type": "execute_result",
          "data": {
            "text/plain": [
              "(tensor([7, 1, 9], dtype=torch.int16), torch.int16)"
            ]
          },
          "metadata": {},
          "execution_count": 76
        }
      ]
    },
    {
      "cell_type": "code",
      "source": [
        "# 32bit integers (signed)\n",
        "int_32_tensor = torch.tensor([6,3,9], dtype=torch.int32)\n",
        "int_32_tensor, int_32_tensor.dtype"
      ],
      "metadata": {
        "colab": {
          "base_uri": "https://localhost:8080/"
        },
        "id": "tB9sT2atoRr8",
        "outputId": "79c20cc7-261f-4263-c33a-d8006ba31f09"
      },
      "execution_count": 77,
      "outputs": [
        {
          "output_type": "execute_result",
          "data": {
            "text/plain": [
              "(tensor([6, 3, 9], dtype=torch.int32), torch.int32)"
            ]
          },
          "metadata": {},
          "execution_count": 77
        }
      ]
    },
    {
      "cell_type": "code",
      "source": [
        "int32Tensor = torch.tensor([6,1,9], dtype=torch.int)\n",
        "int32Tensor, int32Tensor.dtype"
      ],
      "metadata": {
        "colab": {
          "base_uri": "https://localhost:8080/"
        },
        "id": "IyFrWjq_p25L",
        "outputId": "06a9972a-29a2-44c5-e412-a7a9986a4c4f"
      },
      "execution_count": 78,
      "outputs": [
        {
          "output_type": "execute_result",
          "data": {
            "text/plain": [
              "(tensor([6, 1, 9], dtype=torch.int32), torch.int32)"
            ]
          },
          "metadata": {},
          "execution_count": 78
        }
      ]
    },
    {
      "cell_type": "code",
      "source": [
        "int_64_Tensor = torch.tensor([7,1,8], dtype=torch.int64)\n",
        "int_64_Tensor, int_64_Tensor.dtype"
      ],
      "metadata": {
        "colab": {
          "base_uri": "https://localhost:8080/"
        },
        "id": "3isl2Uo7zE8y",
        "outputId": "75936bfe-988d-46f0-f5de-c1f764fb4b4f"
      },
      "execution_count": 79,
      "outputs": [
        {
          "output_type": "execute_result",
          "data": {
            "text/plain": [
              "(tensor([7, 1, 8]), torch.int64)"
            ]
          },
          "metadata": {},
          "execution_count": 79
        }
      ]
    },
    {
      "cell_type": "code",
      "source": [
        "int_64_or_long_Tensor = torch.tensor([7,1,8], dtype=torch.long)\n",
        "int_64_or_long_Tensor, int_64_or_long_Tensor.dtype"
      ],
      "metadata": {
        "colab": {
          "base_uri": "https://localhost:8080/"
        },
        "id": "4rOd-2FHzTeU",
        "outputId": "ff1737a0-0431-4d3c-b0d7-c7e150c89c1d"
      },
      "execution_count": 80,
      "outputs": [
        {
          "output_type": "execute_result",
          "data": {
            "text/plain": [
              "(tensor([7, 1, 8]), torch.int64)"
            ]
          },
          "metadata": {},
          "execution_count": 80
        }
      ]
    },
    {
      "cell_type": "code",
      "source": [
        "# boolean datatype\n",
        "boolean_tensor = torch.tensor([1,0,1,0,1], dtype=torch.bool)\n",
        "boolean_tensor, boolean_tensor.dtype"
      ],
      "metadata": {
        "colab": {
          "base_uri": "https://localhost:8080/"
        },
        "id": "614MUQ9Czu1L",
        "outputId": "e749e9d9-7a1a-4f13-ba4f-98f4de14b6d3"
      },
      "execution_count": 81,
      "outputs": [
        {
          "output_type": "execute_result",
          "data": {
            "text/plain": [
              "(tensor([ True, False,  True, False,  True]), torch.bool)"
            ]
          },
          "metadata": {},
          "execution_count": 81
        }
      ]
    },
    {
      "cell_type": "code",
      "source": [
        "## backward compatibility\n",
        "# 32-bit floating point\n",
        "x = torch.FloatTensor([1,8,5])\n",
        "x, x.dtype"
      ],
      "metadata": {
        "colab": {
          "base_uri": "https://localhost:8080/"
        },
        "id": "XjbMp9an1jTz",
        "outputId": "23ea8bb2-063c-48f3-a53a-198a2a142428"
      },
      "execution_count": 82,
      "outputs": [
        {
          "output_type": "execute_result",
          "data": {
            "text/plain": [
              "(tensor([1., 8., 5.]), torch.float32)"
            ]
          },
          "metadata": {},
          "execution_count": 82
        }
      ]
    },
    {
      "cell_type": "code",
      "source": [
        "# converting datatype (float32 to float64)\n",
        "\n",
        "# 1.\n",
        "y = x.type(torch.DoubleTensor)\n",
        "y, y.dtype"
      ],
      "metadata": {
        "colab": {
          "base_uri": "https://localhost:8080/"
        },
        "id": "XVwVm8bU-dwc",
        "outputId": "9185821c-7b11-4b94-842d-a0f7afbd2c9c"
      },
      "execution_count": 83,
      "outputs": [
        {
          "output_type": "execute_result",
          "data": {
            "text/plain": [
              "(tensor([1., 8., 5.], dtype=torch.float64), torch.float64)"
            ]
          },
          "metadata": {},
          "execution_count": 83
        }
      ]
    },
    {
      "cell_type": "code",
      "source": [
        "# 2.\n",
        "z = x.type(torch.float64)\n",
        "z, z.dtype"
      ],
      "metadata": {
        "colab": {
          "base_uri": "https://localhost:8080/"
        },
        "id": "BMapolzt_bu0",
        "outputId": "43af8f90-7ef1-4dc3-9564-d221f801a896"
      },
      "execution_count": 84,
      "outputs": [
        {
          "output_type": "execute_result",
          "data": {
            "text/plain": [
              "(tensor([1., 8., 5.], dtype=torch.float64), torch.float64)"
            ]
          },
          "metadata": {},
          "execution_count": 84
        }
      ]
    },
    {
      "cell_type": "code",
      "source": [
        "# 3.\n",
        "w = x.type(torch.double)\n",
        "w, w.dtype"
      ],
      "metadata": {
        "colab": {
          "base_uri": "https://localhost:8080/"
        },
        "id": "_cxej9T5A_L9",
        "outputId": "b9e2ef79-5af3-4501-a9df-9175cc09162e"
      },
      "execution_count": 85,
      "outputs": [
        {
          "output_type": "execute_result",
          "data": {
            "text/plain": [
              "(tensor([1., 8., 5.], dtype=torch.float64), torch.float64)"
            ]
          },
          "metadata": {},
          "execution_count": 85
        }
      ]
    },
    {
      "cell_type": "code",
      "source": [
        "# 64-bit floating point\n",
        "a = torch.DoubleTensor([7,1,5,4])\n",
        "a"
      ],
      "metadata": {
        "colab": {
          "base_uri": "https://localhost:8080/"
        },
        "id": "cj6sKOzQBIpL",
        "outputId": "f0902b1e-96b8-4300-aad0-621d19db53c5"
      },
      "execution_count": 86,
      "outputs": [
        {
          "output_type": "execute_result",
          "data": {
            "text/plain": [
              "tensor([7., 1., 5., 4.], dtype=torch.float64)"
            ]
          },
          "metadata": {},
          "execution_count": 86
        }
      ]
    },
    {
      "cell_type": "code",
      "source": [
        "# 16-bit floating point\n",
        "b = torch.HalfTensor([4,7,1])\n",
        "b"
      ],
      "metadata": {
        "colab": {
          "base_uri": "https://localhost:8080/"
        },
        "id": "0vNc6rbYBaMy",
        "outputId": "5b88e5ca-20bf-438d-a322-20d7b97f8ac5"
      },
      "execution_count": 87,
      "outputs": [
        {
          "output_type": "execute_result",
          "data": {
            "text/plain": [
              "tensor([4., 7., 1.], dtype=torch.float16)"
            ]
          },
          "metadata": {},
          "execution_count": 87
        }
      ]
    },
    {
      "cell_type": "code",
      "source": [
        "# 16-bit floating point\n",
        "c = torch.BFloat16Tensor([5,8,4])\n",
        "c"
      ],
      "metadata": {
        "colab": {
          "base_uri": "https://localhost:8080/"
        },
        "id": "UFpeT5I6Baiu",
        "outputId": "801b2c19-84ae-4c63-8ae5-eee47e18c500"
      },
      "execution_count": 88,
      "outputs": [
        {
          "output_type": "execute_result",
          "data": {
            "text/plain": [
              "tensor([5., 8., 4.], dtype=torch.bfloat16)"
            ]
          },
          "metadata": {},
          "execution_count": 88
        }
      ]
    },
    {
      "cell_type": "code",
      "source": [
        "# 8-bit integer (unsigned)\n",
        "d = torch.ByteTensor([1,2,3])\n",
        "d"
      ],
      "metadata": {
        "colab": {
          "base_uri": "https://localhost:8080/"
        },
        "id": "aHD3TuGjBat0",
        "outputId": "b7cabcb5-b103-4738-ced8-578130ecaf1c"
      },
      "execution_count": 89,
      "outputs": [
        {
          "output_type": "execute_result",
          "data": {
            "text/plain": [
              "tensor([1, 2, 3], dtype=torch.uint8)"
            ]
          },
          "metadata": {},
          "execution_count": 89
        }
      ]
    },
    {
      "cell_type": "code",
      "source": [
        "# 8-bit integer (signed)\n",
        "e = torch.CharTensor([3,5,4])\n",
        "e"
      ],
      "metadata": {
        "colab": {
          "base_uri": "https://localhost:8080/"
        },
        "id": "8yScJemeBbnU",
        "outputId": "098d297e-a873-4700-fccf-e12f87c35478"
      },
      "execution_count": 90,
      "outputs": [
        {
          "output_type": "execute_result",
          "data": {
            "text/plain": [
              "tensor([3, 5, 4], dtype=torch.int8)"
            ]
          },
          "metadata": {},
          "execution_count": 90
        }
      ]
    },
    {
      "cell_type": "code",
      "source": [
        "# 16-bit integer (signed)\n",
        "f = torch.ShortTensor([5,7,9])\n",
        "f"
      ],
      "metadata": {
        "colab": {
          "base_uri": "https://localhost:8080/"
        },
        "id": "Rr02mupzBhTc",
        "outputId": "492a1dec-bca8-429e-9adb-d2f44c5763da"
      },
      "execution_count": 91,
      "outputs": [
        {
          "output_type": "execute_result",
          "data": {
            "text/plain": [
              "tensor([5, 7, 9], dtype=torch.int16)"
            ]
          },
          "metadata": {},
          "execution_count": 91
        }
      ]
    },
    {
      "cell_type": "code",
      "source": [
        "# 32-bit integer (signed)\n",
        "g = torch.IntTensor([6,1,5])\n",
        "g"
      ],
      "metadata": {
        "colab": {
          "base_uri": "https://localhost:8080/"
        },
        "id": "LRDbjRd2BiaL",
        "outputId": "bad75bcb-34c3-46d8-a81f-e7fdf241ba36"
      },
      "execution_count": 92,
      "outputs": [
        {
          "output_type": "execute_result",
          "data": {
            "text/plain": [
              "tensor([6, 1, 5], dtype=torch.int32)"
            ]
          },
          "metadata": {},
          "execution_count": 92
        }
      ]
    },
    {
      "cell_type": "code",
      "source": [
        "# 64-bit integer (signed)\n",
        "h = torch.LongTensor([5,2,9])\n",
        "h"
      ],
      "metadata": {
        "colab": {
          "base_uri": "https://localhost:8080/"
        },
        "id": "FB2N2KCIBi7X",
        "outputId": "687bfbb0-3904-4fa5-9e87-57dd5c06b855"
      },
      "execution_count": 93,
      "outputs": [
        {
          "output_type": "execute_result",
          "data": {
            "text/plain": [
              "tensor([5, 2, 9])"
            ]
          },
          "metadata": {},
          "execution_count": 93
        }
      ]
    },
    {
      "cell_type": "code",
      "source": [
        "# Boolean\n",
        "i = torch.BoolTensor([0,1,0])\n",
        "i, i.dtype"
      ],
      "metadata": {
        "colab": {
          "base_uri": "https://localhost:8080/"
        },
        "id": "42xDhOOTBzYL",
        "outputId": "3c6bbe3e-e513-428d-d736-6205d93a2127"
      },
      "execution_count": 94,
      "outputs": [
        {
          "output_type": "execute_result",
          "data": {
            "text/plain": [
              "(tensor([False,  True, False]), torch.bool)"
            ]
          },
          "metadata": {},
          "execution_count": 94
        }
      ]
    },
    {
      "cell_type": "code",
      "source": [
        "# factory function - `torch.empty()`\n",
        "k = torch.empty(size=(3,3),dtype=torch.float16)\n",
        "k, k.ndim, k.shape"
      ],
      "metadata": {
        "colab": {
          "base_uri": "https://localhost:8080/"
        },
        "id": "j1PwGiskEdDv",
        "outputId": "13ea4641-afcf-4706-bb0c-cdd316b6d2ee"
      },
      "execution_count": 95,
      "outputs": [
        {
          "output_type": "execute_result",
          "data": {
            "text/plain": [
              "(tensor([[6.5565e-06, 0.0000e+00, 5.9605e-07],\n",
              "         [0.0000e+00, 6.2585e-06, 0.0000e+00],\n",
              "         [1.9073e-06, 0.0000e+00, 3.6359e-06]], dtype=torch.float16),\n",
              " 2,\n",
              " torch.Size([3, 3]))"
            ]
          },
          "metadata": {},
          "execution_count": 95
        }
      ]
    },
    {
      "cell_type": "code",
      "source": [
        "# initializing and basic operations\n",
        "m = torch.tensor([\n",
        "    [1., -1.],\n",
        "    [1., -1.]\n",
        "])\n",
        "m"
      ],
      "metadata": {
        "id": "Num9gyO7FeiF",
        "colab": {
          "base_uri": "https://localhost:8080/"
        },
        "outputId": "0889017a-e006-4816-8105-736775a52d19"
      },
      "execution_count": 96,
      "outputs": [
        {
          "output_type": "execute_result",
          "data": {
            "text/plain": [
              "tensor([[ 1., -1.],\n",
              "        [ 1., -1.]])"
            ]
          },
          "metadata": {},
          "execution_count": 96
        }
      ]
    },
    {
      "cell_type": "code",
      "source": [
        "import numpy as np\n",
        "\n",
        "from_numpy = torch.tensor(\n",
        "    np.array([\n",
        "        [1, 2, 3],\n",
        "        [4, 5, 6]\n",
        "    ])\n",
        ")\n",
        "from_numpy"
      ],
      "metadata": {
        "colab": {
          "base_uri": "https://localhost:8080/"
        },
        "id": "cq7xtS69kiaH",
        "outputId": "14d938fe-0bed-4ddf-ab2d-f34f04b9b6c0"
      },
      "execution_count": 97,
      "outputs": [
        {
          "output_type": "execute_result",
          "data": {
            "text/plain": [
              "tensor([[1, 2, 3],\n",
              "        [4, 5, 6]])"
            ]
          },
          "metadata": {},
          "execution_count": 97
        }
      ]
    },
    {
      "cell_type": "code",
      "source": [
        "check = torch.tensor([1, 2, 3], dtype=torch.float16)\n",
        "check.requires_grad_()"
      ],
      "metadata": {
        "colab": {
          "base_uri": "https://localhost:8080/"
        },
        "id": "fSQP13Otk282",
        "outputId": "61283d3b-b11c-4aed-b99f-2027b97416b2"
      },
      "execution_count": 98,
      "outputs": [
        {
          "output_type": "execute_result",
          "data": {
            "text/plain": [
              "tensor([1., 2., 3.], dtype=torch.float16, requires_grad=True)"
            ]
          },
          "metadata": {},
          "execution_count": 98
        }
      ]
    },
    {
      "cell_type": "code",
      "source": [
        "# another method\n",
        "check2 = torch.tensor([1.0, 4.1, 9.2])\n",
        "check2.detach_(), check2.dtype"
      ],
      "metadata": {
        "colab": {
          "base_uri": "https://localhost:8080/"
        },
        "id": "VGL32mgcldOG",
        "outputId": "11af2e59-dc44-4c34-d9dc-163a2dca23a3"
      },
      "execution_count": 99,
      "outputs": [
        {
          "output_type": "execute_result",
          "data": {
            "text/plain": [
              "(tensor([1.0000, 4.1000, 9.2000]), torch.float32)"
            ]
          },
          "metadata": {},
          "execution_count": 99
        }
      ]
    },
    {
      "cell_type": "code",
      "source": [
        "y = torch.tensor(check2) # To copy construct from a tensor, it is recommended to use sourceTensor.clone().detach() or sourceTensor.clone().detach().requires_grad_(True), rather than torch.tensor(sourceTensor).\n",
        "y"
      ],
      "metadata": {
        "colab": {
          "base_uri": "https://localhost:8080/"
        },
        "id": "qDjThkgql7JW",
        "outputId": "fba3d8a4-eec6-4aa5-d15e-613c20656ef0"
      },
      "execution_count": 100,
      "outputs": [
        {
          "output_type": "stream",
          "name": "stderr",
          "text": [
            "<ipython-input-100-94b980d24cc2>:1: UserWarning: To copy construct from a tensor, it is recommended to use sourceTensor.clone().detach() or sourceTensor.clone().detach().requires_grad_(True), rather than torch.tensor(sourceTensor).\n",
            "  y = torch.tensor(check2) # To copy construct from a tensor, it is recommended to use sourceTensor.clone().detach() or sourceTensor.clone().detach().requires_grad_(True), rather than torch.tensor(sourceTensor).\n"
          ]
        },
        {
          "output_type": "execute_result",
          "data": {
            "text/plain": [
              "tensor([1.0000, 4.1000, 9.2000])"
            ]
          },
          "metadata": {},
          "execution_count": 100
        }
      ]
    },
    {
      "cell_type": "code",
      "source": [
        "#\n",
        "TENSOR_X = torch.tensor([2.1, 6.4, 3.9], requires_grad=True)\n",
        "\n",
        "TENSOR_Y = TENSOR_X.detach()\n",
        "\n",
        "TENSOR_Y.requires_grad_()"
      ],
      "metadata": {
        "colab": {
          "base_uri": "https://localhost:8080/"
        },
        "id": "jXImePCwmzf3",
        "outputId": "993a5ccc-74ca-40b4-a632-d3811b28a188"
      },
      "execution_count": 101,
      "outputs": [
        {
          "output_type": "execute_result",
          "data": {
            "text/plain": [
              "tensor([2.1000, 6.4000, 3.9000], requires_grad=True)"
            ]
          },
          "metadata": {},
          "execution_count": 101
        }
      ]
    },
    {
      "cell_type": "code",
      "source": [
        "checkTensor = torch.Tensor([1, 2, 3])\n",
        "checkTensor, checkTensor.dtype"
      ],
      "metadata": {
        "id": "1IY6bYx3oBBV",
        "colab": {
          "base_uri": "https://localhost:8080/"
        },
        "outputId": "9ff72c19-f8b0-4c19-ad25-a822991b73d0"
      },
      "execution_count": 102,
      "outputs": [
        {
          "output_type": "execute_result",
          "data": {
            "text/plain": [
              "(tensor([1., 2., 3.]), torch.float32)"
            ]
          },
          "metadata": {},
          "execution_count": 102
        }
      ]
    },
    {
      "cell_type": "markdown",
      "source": [
        "# Tensor class reference\n",
        "```\n",
        "class     torch.Tensor\n",
        "```\n",
        "There are a few main ways to create a tensor, depending on your use case.\n",
        "\n",
        "1. To create a tensor with pre-existing data, use `torch.tensor()`.\n",
        "\n",
        "2. To create a tensor with specific size, use `torch.*` tensor creation ops (see [Creation Ops](https://pytorch.org/docs/stable/torch.html#tensor-creation-ops)).\n",
        "\n",
        "3. To create a tensor with the same size (and similar types) as another tensor, use `torch.*_like` tensor creation ops (see [Creation Ops](https://pytorch.org/docs/stable/torch.html#tensor-creation-ops)).\n",
        "\n",
        "4. To create a tensor with similar type but different size as another tensor, use `tensor.new_*` creation ops.\n",
        "\n"
      ],
      "metadata": {
        "id": "br0TuEbJEnMl"
      }
    },
    {
      "cell_type": "code",
      "source": [
        "# 1\n",
        "first_tensor = torch.tensor([6, 3, 2])\n",
        "first_tensor"
      ],
      "metadata": {
        "id": "BHis4qVmpvJs",
        "colab": {
          "base_uri": "https://localhost:8080/"
        },
        "outputId": "4b6f3f66-297d-4a33-86f8-35dda935c36b"
      },
      "execution_count": 103,
      "outputs": [
        {
          "output_type": "execute_result",
          "data": {
            "text/plain": [
              "tensor([6, 3, 2])"
            ]
          },
          "metadata": {},
          "execution_count": 103
        }
      ]
    },
    {
      "cell_type": "code",
      "source": [
        "# 2 torch.*\n",
        "\n",
        "# 2.1 - torch.zeros(dimension or size)\n",
        "second_tensor = torch.zeros(3, 4)\n",
        "second_tensor"
      ],
      "metadata": {
        "colab": {
          "base_uri": "https://localhost:8080/"
        },
        "id": "roO6smUwFT6S",
        "outputId": "6fee4788-1016-47a3-fa1e-b734d6129544"
      },
      "execution_count": 104,
      "outputs": [
        {
          "output_type": "execute_result",
          "data": {
            "text/plain": [
              "tensor([[0., 0., 0., 0.],\n",
              "        [0., 0., 0., 0.],\n",
              "        [0., 0., 0., 0.]])"
            ]
          },
          "metadata": {},
          "execution_count": 104
        }
      ]
    },
    {
      "cell_type": "code",
      "source": [
        "# 2.2 torch.zeros_like(source_tensor)\n",
        "source_tensor = torch.tensor([[3, 4, 6], [1, 8, 3]])\n",
        "\n",
        "third_tensor = torch.zeros_like(source_tensor)\n",
        "third_tensor"
      ],
      "metadata": {
        "colab": {
          "base_uri": "https://localhost:8080/"
        },
        "id": "PJkW2xOLHm2J",
        "outputId": "1f92ad07-9334-4b7b-e4ce-1d3dc92b9fc2"
      },
      "execution_count": 105,
      "outputs": [
        {
          "output_type": "execute_result",
          "data": {
            "text/plain": [
              "tensor([[0, 0, 0],\n",
              "        [0, 0, 0]])"
            ]
          },
          "metadata": {},
          "execution_count": 105
        }
      ]
    },
    {
      "cell_type": "code",
      "source": [
        "# 2.3 torch.ones(dimension)\n",
        "ones_tensor = torch.ones(5,8)\n",
        "ones_tensor"
      ],
      "metadata": {
        "colab": {
          "base_uri": "https://localhost:8080/"
        },
        "id": "lxnTlCLkmjfV",
        "outputId": "697f9985-1397-4629-8c12-18cbbb57e2f8"
      },
      "execution_count": 106,
      "outputs": [
        {
          "output_type": "execute_result",
          "data": {
            "text/plain": [
              "tensor([[1., 1., 1., 1., 1., 1., 1., 1.],\n",
              "        [1., 1., 1., 1., 1., 1., 1., 1.],\n",
              "        [1., 1., 1., 1., 1., 1., 1., 1.],\n",
              "        [1., 1., 1., 1., 1., 1., 1., 1.],\n",
              "        [1., 1., 1., 1., 1., 1., 1., 1.]])"
            ]
          },
          "metadata": {},
          "execution_count": 106
        }
      ]
    },
    {
      "cell_type": "code",
      "source": [
        "# 2.4 torch.ones_like(source_tensor)\n",
        "source_tensor = torch.tensor([[3, 6, 7], [9,5,8]])\n",
        "ones_like_tensor = torch.ones_like(source_tensor)\n",
        "print(f\"source_tensor = \\n{source_tensor}\")\n",
        "print(f\"ones_like_tensor = \\n{ones_like_tensor}\")"
      ],
      "metadata": {
        "colab": {
          "base_uri": "https://localhost:8080/"
        },
        "id": "PMY0YzwEo0KB",
        "outputId": "dfe70777-be49-4475-b0a4-551c2e560171"
      },
      "execution_count": 107,
      "outputs": [
        {
          "output_type": "stream",
          "name": "stdout",
          "text": [
            "source_tensor = \n",
            "tensor([[3, 6, 7],\n",
            "        [9, 5, 8]])\n",
            "ones_like_tensor = \n",
            "tensor([[1, 1, 1],\n",
            "        [1, 1, 1]])\n"
          ]
        }
      ]
    },
    {
      "cell_type": "code",
      "source": [
        "# 2.5 torch.arange(start, end, step) - returns a 1-D tensor of size [end - start / step]\n",
        "arange_tensor = torch.arange(1, 15, 2)\n",
        "arange_tensor"
      ],
      "metadata": {
        "colab": {
          "base_uri": "https://localhost:8080/"
        },
        "id": "-FpJIdLmo4Im",
        "outputId": "3579bc2f-50c1-496c-90b9-8214fffcb31a"
      },
      "execution_count": 108,
      "outputs": [
        {
          "output_type": "execute_result",
          "data": {
            "text/plain": [
              "tensor([ 1,  3,  5,  7,  9, 11, 13])"
            ]
          },
          "metadata": {},
          "execution_count": 108
        }
      ]
    },
    {
      "cell_type": "code",
      "source": [
        "# 2.6 torch.linspace(start, end, step) - Creates a one-dimensional tensor of size steps whose values are evenly spaced from start to end, inclusive.\n",
        "linspace_tensor = torch.linspace(60, 100, 14)\n",
        "linspace_tensor"
      ],
      "metadata": {
        "colab": {
          "base_uri": "https://localhost:8080/"
        },
        "id": "hJ2hpBIGpFt2",
        "outputId": "becfc99c-49ce-4af3-ab4b-390afc0e4b33"
      },
      "execution_count": 109,
      "outputs": [
        {
          "output_type": "execute_result",
          "data": {
            "text/plain": [
              "tensor([ 60.0000,  63.0769,  66.1538,  69.2308,  72.3077,  75.3846,  78.4615,\n",
              "         81.5385,  84.6154,  87.6923,  90.7692,  93.8462,  96.9231, 100.0000])"
            ]
          },
          "metadata": {},
          "execution_count": 109
        }
      ]
    },
    {
      "cell_type": "code",
      "source": [
        "# 2.7 torch.logspace(start, end, step, base) - Creates a one-dimensional tensor of size steps whose values are evenly spaced from base start base_start to base_end base end, inclusive, on a logarithmic scale with base base.\n",
        "logspace_tensor = torch.logspace(3, 9, 5) # by default base=10.0\n",
        "logspace_tensor"
      ],
      "metadata": {
        "colab": {
          "base_uri": "https://localhost:8080/"
        },
        "id": "-arR1AKnpG7Y",
        "outputId": "946c1755-2782-49fa-f711-91262591efbc"
      },
      "execution_count": 110,
      "outputs": [
        {
          "output_type": "execute_result",
          "data": {
            "text/plain": [
              "tensor([1.0000e+03, 3.1623e+04, 1.0000e+06, 3.1623e+07, 1.0000e+09])"
            ]
          },
          "metadata": {},
          "execution_count": 110
        }
      ]
    },
    {
      "cell_type": "code",
      "source": [
        "'''\n",
        "calculation for getting the values of the return Tensor,\n",
        "value = base ** (start + i * (end-start) / (steps-1)),   where `i` is the index of the value in the sequence, ranging from 0 to `steps-1`\n",
        "'''\n",
        "\n",
        "logspace_tensor = torch.logspace(0, 2, 10)\n",
        "logspace_tensor"
      ],
      "metadata": {
        "colab": {
          "base_uri": "https://localhost:8080/"
        },
        "id": "oT4GEVIzpHWb",
        "outputId": "c5518fd6-d106-4f81-d1af-0e74d479b4d4"
      },
      "execution_count": 111,
      "outputs": [
        {
          "output_type": "execute_result",
          "data": {
            "text/plain": [
              "tensor([  1.0000,   1.6681,   2.7826,   4.6416,   7.7426,  12.9155,  21.5443,\n",
              "         35.9381,  59.9484, 100.0000])"
            ]
          },
          "metadata": {},
          "execution_count": 111
        }
      ]
    },
    {
      "cell_type": "code",
      "source": [
        "exploring_logspace = torch.logspace(start=0.1, end=1.0, steps=1)\n",
        "exploring_logspace"
      ],
      "metadata": {
        "id": "eS9AgMYopHqP",
        "colab": {
          "base_uri": "https://localhost:8080/"
        },
        "outputId": "53c310a6-385a-4b9d-a30d-6a382047369a"
      },
      "execution_count": 114,
      "outputs": [
        {
          "output_type": "execute_result",
          "data": {
            "text/plain": [
              "tensor([1.2589])"
            ]
          },
          "metadata": {},
          "execution_count": 114
        }
      ]
    },
    {
      "cell_type": "code",
      "source": [
        "exploring_logspace = torch.logspace(start=0.1, end=1.0, steps=2)\n",
        "exploring_logspace"
      ],
      "metadata": {
        "id": "GZIwFxC-pH8Y",
        "colab": {
          "base_uri": "https://localhost:8080/"
        },
        "outputId": "65e9eed1-699c-45de-d9ea-512ede301bac"
      },
      "execution_count": 115,
      "outputs": [
        {
          "output_type": "execute_result",
          "data": {
            "text/plain": [
              "tensor([ 1.2589, 10.0000])"
            ]
          },
          "metadata": {},
          "execution_count": 115
        }
      ]
    },
    {
      "cell_type": "code",
      "source": [
        "exploring_logspace = torch.logspace(start=0.1, end=1.0, steps=3)\n",
        "exploring_logspace"
      ],
      "metadata": {
        "id": "dXIcI7nzpINW",
        "colab": {
          "base_uri": "https://localhost:8080/"
        },
        "outputId": "bb44ca3c-db51-4bcb-bd72-4911ef3bc7b0"
      },
      "execution_count": 116,
      "outputs": [
        {
          "output_type": "execute_result",
          "data": {
            "text/plain": [
              "tensor([ 1.2589,  3.5481, 10.0000])"
            ]
          },
          "metadata": {},
          "execution_count": 116
        }
      ]
    },
    {
      "cell_type": "code",
      "source": [
        "exploring_logspace = torch.logspace(start=0.1, end=1.0, steps=4)\n",
        "exploring_logspace"
      ],
      "metadata": {
        "id": "pJ5QFJi2pImF",
        "colab": {
          "base_uri": "https://localhost:8080/"
        },
        "outputId": "b0115d75-9bcf-48b5-ce6b-dbdde003f8fe"
      },
      "execution_count": 117,
      "outputs": [
        {
          "output_type": "execute_result",
          "data": {
            "text/plain": [
              "tensor([ 1.2589,  2.5119,  5.0119, 10.0000])"
            ]
          },
          "metadata": {},
          "execution_count": 117
        }
      ]
    },
    {
      "cell_type": "code",
      "source": [
        "exploring_logspace = torch.logspace(start=0.1, end=1.0, steps=5)\n",
        "exploring_logspace"
      ],
      "metadata": {
        "id": "8eOrZGTfpJL5",
        "colab": {
          "base_uri": "https://localhost:8080/"
        },
        "outputId": "4b2ec7a3-b7b4-4fb3-84b2-19e0cc0ddcce"
      },
      "execution_count": 134,
      "outputs": [
        {
          "output_type": "execute_result",
          "data": {
            "text/plain": [
              "tensor([ 1.2589,  2.1135,  3.5481,  5.9566, 10.0000])"
            ]
          },
          "metadata": {},
          "execution_count": 134
        }
      ]
    },
    {
      "cell_type": "code",
      "source": [
        "0.9 / 4"
      ],
      "metadata": {
        "id": "2X6TwoGvpJrN",
        "colab": {
          "base_uri": "https://localhost:8080/"
        },
        "outputId": "839d4530-1388-44d1-911a-3cc025436858"
      },
      "execution_count": 127,
      "outputs": [
        {
          "output_type": "execute_result",
          "data": {
            "text/plain": [
              "0.225"
            ]
          },
          "metadata": {},
          "execution_count": 127
        }
      ]
    },
    {
      "cell_type": "code",
      "source": [
        "0.225 * 2"
      ],
      "metadata": {
        "colab": {
          "base_uri": "https://localhost:8080/"
        },
        "id": "GEMQPVQpVJ_Z",
        "outputId": "d8ab587e-df95-46fe-e791-ff1f8a4fd3a0"
      },
      "execution_count": 131,
      "outputs": [
        {
          "output_type": "execute_result",
          "data": {
            "text/plain": [
              "0.45"
            ]
          },
          "metadata": {},
          "execution_count": 131
        }
      ]
    },
    {
      "cell_type": "code",
      "source": [
        "0.45+0.1"
      ],
      "metadata": {
        "colab": {
          "base_uri": "https://localhost:8080/"
        },
        "id": "6aQLYMiAVKDO",
        "outputId": "e8776a0a-9319-4e33-efd3-0adc2cafb244"
      },
      "execution_count": 132,
      "outputs": [
        {
          "output_type": "execute_result",
          "data": {
            "text/plain": [
              "0.55"
            ]
          },
          "metadata": {},
          "execution_count": 132
        }
      ]
    },
    {
      "cell_type": "code",
      "source": [
        "10 ** 0.55"
      ],
      "metadata": {
        "colab": {
          "base_uri": "https://localhost:8080/"
        },
        "id": "XeMzeyslVKIz",
        "outputId": "49e3faf3-dc42-418b-9741-7ae5cb0d7f33"
      },
      "execution_count": 133,
      "outputs": [
        {
          "output_type": "execute_result",
          "data": {
            "text/plain": [
              "3.548133892335755"
            ]
          },
          "metadata": {},
          "execution_count": 133
        }
      ]
    },
    {
      "cell_type": "code",
      "source": [],
      "metadata": {
        "id": "4fYUmLVUVKLX"
      },
      "execution_count": null,
      "outputs": []
    },
    {
      "cell_type": "code",
      "source": [],
      "metadata": {
        "id": "k46XgHQwVKN2"
      },
      "execution_count": null,
      "outputs": []
    },
    {
      "cell_type": "code",
      "source": [],
      "metadata": {
        "id": "zKyqERiCVKP3"
      },
      "execution_count": null,
      "outputs": []
    },
    {
      "cell_type": "code",
      "source": [],
      "metadata": {
        "id": "9DTD4nXfVKSQ"
      },
      "execution_count": null,
      "outputs": []
    },
    {
      "cell_type": "code",
      "source": [],
      "metadata": {
        "id": "eUBaOsg7VKUz"
      },
      "execution_count": null,
      "outputs": []
    },
    {
      "cell_type": "code",
      "source": [],
      "metadata": {
        "id": "V8xyYA6IVKW8"
      },
      "execution_count": null,
      "outputs": []
    },
    {
      "cell_type": "code",
      "source": [],
      "metadata": {
        "id": "PvKURH9PVKZP"
      },
      "execution_count": null,
      "outputs": []
    },
    {
      "cell_type": "code",
      "source": [],
      "metadata": {
        "id": "1Th7pdYaVKbx"
      },
      "execution_count": null,
      "outputs": []
    },
    {
      "cell_type": "code",
      "source": [],
      "metadata": {
        "id": "SEzggEWyVKeM"
      },
      "execution_count": null,
      "outputs": []
    },
    {
      "cell_type": "code",
      "source": [],
      "metadata": {
        "id": "80rdMHQ5VKgw"
      },
      "execution_count": null,
      "outputs": []
    },
    {
      "cell_type": "code",
      "source": [],
      "metadata": {
        "id": "uDgcMimPVKjG"
      },
      "execution_count": null,
      "outputs": []
    },
    {
      "cell_type": "code",
      "source": [],
      "metadata": {
        "id": "W1cY5YjtVKl8"
      },
      "execution_count": null,
      "outputs": []
    },
    {
      "cell_type": "markdown",
      "source": [
        "# Indexing, Slicing, Joining, Mutating Ops["
      ],
      "metadata": {
        "id": "rU_tqcJ6bwBV"
      }
    },
    {
      "cell_type": "code",
      "source": [],
      "metadata": {
        "id": "BQfMwXMKo3au"
      },
      "execution_count": 112,
      "outputs": []
    },
    {
      "cell_type": "code",
      "source": [],
      "metadata": {
        "id": "vz9HZM2eW-1i"
      },
      "execution_count": 112,
      "outputs": []
    }
  ]
}