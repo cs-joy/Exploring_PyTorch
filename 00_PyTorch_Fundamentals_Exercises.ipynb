{
  "nbformat": 4,
  "nbformat_minor": 0,
  "metadata": {
    "colab": {
      "provenance": [],
      "gpuType": "T4"
    },
    "kernelspec": {
      "name": "python3",
      "display_name": "Python 3"
    },
    "language_info": {
      "name": "python"
    },
    "accelerator": "GPU"
  },
  "cells": [
    {
      "cell_type": "markdown",
      "source": [
        "# Exercises"
      ],
      "metadata": {
        "id": "JYsG56_TSwi2"
      }
    },
    {
      "cell_type": "markdown",
      "source": [
        "## 1. Documentation reading\n",
        "A big part of deep learning (and learning to code in general) is getting familiar with the documentation of a certain framework you're using. We'll be using the PyTorch documentation a lot throughout the rest of this course. So I'd recommend spending 10-minutes reading the following (it's okay if you don't get some things for now, the focus is not yet full understanding, it's awareness):\n",
        "\n",
        "* The documentation on [`torch.Tensor`](https://pytorch.org/docs/stable/tensors.html)\n",
        "* The documentation on [`torch.cuda`](https://pytorch.org/docs/stable/cuda.html)"
      ],
      "metadata": {
        "id": "inVZ-P9iSqui"
      }
    },
    {
      "cell_type": "code",
      "source": [
        "import torch"
      ],
      "metadata": {
        "id": "h6HOaM8IrM34"
      },
      "execution_count": 2,
      "outputs": []
    },
    {
      "cell_type": "code",
      "source": [
        "# default float datatype is `float32`\n",
        "\n",
        "default_float_datatype_tensor = torch.tensor([0.5, 0.1, 0.7, 0.3])\n",
        "default_float_datatype_tensor, default_float_datatype_tensor.dtype"
      ],
      "metadata": {
        "colab": {
          "base_uri": "https://localhost:8080/"
        },
        "id": "B5HR5iD30MoK",
        "outputId": "3700b93a-fa6f-40f2-b0ac-5cc774f97e47"
      },
      "execution_count": 3,
      "outputs": [
        {
          "output_type": "execute_result",
          "data": {
            "text/plain": [
              "(tensor([0.5000, 0.1000, 0.7000, 0.3000]), torch.float32)"
            ]
          },
          "metadata": {},
          "execution_count": 3
        }
      ]
    },
    {
      "cell_type": "code",
      "execution_count": 4,
      "metadata": {
        "colab": {
          "base_uri": "https://localhost:8080/"
        },
        "id": "vC3I0vLQM0Km",
        "outputId": "d876e1f9-be5c-4489-80cb-9bcd1ca9003e"
      },
      "outputs": [
        {
          "output_type": "execute_result",
          "data": {
            "text/plain": [
              "(tensor([4., 7., 8.]), torch.float32)"
            ]
          },
          "metadata": {},
          "execution_count": 4
        }
      ],
      "source": [
        "# torch.Tensor\n",
        "\n",
        "## Data Types\n",
        "\n",
        "# float32 datatype\n",
        "# create tensor\n",
        "float_32_tensor = torch.tensor([4, 7, 8], dtype=torch.float) # `torch.float` or, `torch.float32`\n",
        "float_32_tensor, float_32_tensor.dtype"
      ]
    },
    {
      "cell_type": "code",
      "source": [
        "float_32Tensor = torch.tensor([1, 2, 3], dtype=torch.float32)\n",
        "float_32Tensor"
      ],
      "metadata": {
        "id": "BaWDfSYyUE8u",
        "colab": {
          "base_uri": "https://localhost:8080/"
        },
        "outputId": "e5a46a63-bd00-4047-8e11-48391f51b5b2"
      },
      "execution_count": 5,
      "outputs": [
        {
          "output_type": "execute_result",
          "data": {
            "text/plain": [
              "tensor([1., 2., 3.])"
            ]
          },
          "metadata": {},
          "execution_count": 5
        }
      ]
    },
    {
      "cell_type": "code",
      "source": [
        "# float64 datatype\n",
        "float_64_tensor = torch.tensor([1, 4, 2], dtype=torch.float64) # `torch.float64` or, `torch.double`\n",
        "float_64_tensor, float_64_tensor.dtype"
      ],
      "metadata": {
        "id": "-HGbyZzVtBRf",
        "colab": {
          "base_uri": "https://localhost:8080/"
        },
        "outputId": "591ec5b3-7411-40c5-e4c5-c01aa601996f"
      },
      "execution_count": 6,
      "outputs": [
        {
          "output_type": "execute_result",
          "data": {
            "text/plain": [
              "(tensor([1., 4., 2.], dtype=torch.float64), torch.float64)"
            ]
          },
          "metadata": {},
          "execution_count": 6
        }
      ]
    },
    {
      "cell_type": "code",
      "source": [
        "float_64Tensor = torch.tensor([6, 9, 2], dtype=torch.double)\n",
        "float_64Tensor, float_64Tensor.dtype"
      ],
      "metadata": {
        "colab": {
          "base_uri": "https://localhost:8080/"
        },
        "id": "zXJ_xdZxBxn5",
        "outputId": "aecd1c77-eebc-4232-f8f0-a99f3ae84476"
      },
      "execution_count": 7,
      "outputs": [
        {
          "output_type": "execute_result",
          "data": {
            "text/plain": [
              "(tensor([6., 9., 2.], dtype=torch.float64), torch.float64)"
            ]
          },
          "metadata": {},
          "execution_count": 7
        }
      ]
    },
    {
      "cell_type": "code",
      "source": [
        "'''\n",
        "1. Sometimes referred to as binary16: uses 1 sign, 5 exponent, and 10 significand bits. Useful when precision is important at the expense of range.\n",
        "'''\n",
        "\n",
        "# 1. float16 datatype\n",
        "float_16_tensor = torch.tensor([7, 3, 4], dtype=torch.float16)\n",
        "float_16_tensor, float_16_tensor.dtype"
      ],
      "metadata": {
        "colab": {
          "base_uri": "https://localhost:8080/"
        },
        "id": "9WyXy3ozCB3k",
        "outputId": "0d978013-7aaf-4780-fd99-3f6c5de9d832"
      },
      "execution_count": 8,
      "outputs": [
        {
          "output_type": "execute_result",
          "data": {
            "text/plain": [
              "(tensor([7., 3., 4.], dtype=torch.float16), torch.float16)"
            ]
          },
          "metadata": {},
          "execution_count": 8
        }
      ]
    },
    {
      "cell_type": "code",
      "source": [
        "#\n",
        "float_16Tensor = torch.tensor([8, 2, 6], dtype=torch.half)\n",
        "float_16Tensor, float_16Tensor.dtype"
      ],
      "metadata": {
        "colab": {
          "base_uri": "https://localhost:8080/"
        },
        "id": "gwZM33lZDkTo",
        "outputId": "2c1327c3-d195-438f-cbd3-ec4de12da9b3"
      },
      "execution_count": 9,
      "outputs": [
        {
          "output_type": "execute_result",
          "data": {
            "text/plain": [
              "(tensor([8., 2., 6.], dtype=torch.float16), torch.float16)"
            ]
          },
          "metadata": {},
          "execution_count": 9
        }
      ]
    },
    {
      "cell_type": "code",
      "source": [
        "'''\n",
        "Sometimes referred to as Brain Floating Point: uses 1 sign, 8 exponent, and 7 significand bits. Useful when range is important, since it has the same number of exponent bits as float32\n",
        "'''\n",
        "\n",
        "# 2. float16 datatype\n",
        "float_16_tensor = torch.tensor([7, 3, 4], dtype=torch.bfloat16)\n",
        "float_16_tensor, float_16_tensor.dtype"
      ],
      "metadata": {
        "colab": {
          "base_uri": "https://localhost:8080/"
        },
        "id": "LwY1f2rD3cFy",
        "outputId": "961b5a55-b24e-4af0-844f-195b18a0fc05"
      },
      "execution_count": 10,
      "outputs": [
        {
          "output_type": "execute_result",
          "data": {
            "text/plain": [
              "(tensor([7., 3., 4.], dtype=torch.bfloat16), torch.bfloat16)"
            ]
          },
          "metadata": {},
          "execution_count": 10
        }
      ]
    },
    {
      "cell_type": "code",
      "source": [
        "# default integer datatype is `int64`\n",
        "default_int_datatype_tensor = torch.tensor([6,1,9])\n",
        "default_int_datatype_tensor, default_int_datatype_tensor.dtype"
      ],
      "metadata": {
        "colab": {
          "base_uri": "https://localhost:8080/"
        },
        "id": "TS5Agqo90qFc",
        "outputId": "e588c389-8014-43a5-fad7-31440af196c5"
      },
      "execution_count": 11,
      "outputs": [
        {
          "output_type": "execute_result",
          "data": {
            "text/plain": [
              "(tensor([6, 1, 9]), torch.int64)"
            ]
          },
          "metadata": {},
          "execution_count": 11
        }
      ]
    },
    {
      "cell_type": "code",
      "source": [
        "# integers(signed) datatypes\n",
        "int_8_tensor = torch.tensor([4,8,1], dtype=torch.int8)\n",
        "int_8_tensor, int_8_tensor.dtype"
      ],
      "metadata": {
        "colab": {
          "base_uri": "https://localhost:8080/"
        },
        "id": "AfE3G02FJt25",
        "outputId": "f580a4e9-9540-402f-8e96-dddf81cc8a41"
      },
      "execution_count": 12,
      "outputs": [
        {
          "output_type": "execute_result",
          "data": {
            "text/plain": [
              "(tensor([4, 8, 1], dtype=torch.int8), torch.int8)"
            ]
          },
          "metadata": {},
          "execution_count": 12
        }
      ]
    },
    {
      "cell_type": "code",
      "source": [
        "int_16_tensor = torch.tensor([6,8,2], dtype=torch.int16)\n",
        "int_16_tensor, int_16_tensor.dtype"
      ],
      "metadata": {
        "colab": {
          "base_uri": "https://localhost:8080/"
        },
        "id": "Hq8BQ0nunhua",
        "outputId": "5ba75797-fa3d-4807-b0ec-363922266e5f"
      },
      "execution_count": 13,
      "outputs": [
        {
          "output_type": "execute_result",
          "data": {
            "text/plain": [
              "(tensor([6, 8, 2], dtype=torch.int16), torch.int16)"
            ]
          },
          "metadata": {},
          "execution_count": 13
        }
      ]
    },
    {
      "cell_type": "code",
      "source": [
        "int_16_or_short_tensor = torch.tensor([7,1,9], dtype=torch.short)\n",
        "int_16_or_short_tensor, int_16_or_short_tensor.dtype"
      ],
      "metadata": {
        "colab": {
          "base_uri": "https://localhost:8080/"
        },
        "id": "ZLtd9T0Ln7L0",
        "outputId": "e334bb65-284f-4d13-fb76-8c85c4349b6a"
      },
      "execution_count": 14,
      "outputs": [
        {
          "output_type": "execute_result",
          "data": {
            "text/plain": [
              "(tensor([7, 1, 9], dtype=torch.int16), torch.int16)"
            ]
          },
          "metadata": {},
          "execution_count": 14
        }
      ]
    },
    {
      "cell_type": "code",
      "source": [
        "# 32bit integers (signed)\n",
        "int_32_tensor = torch.tensor([6,3,9], dtype=torch.int32)\n",
        "int_32_tensor, int_32_tensor.dtype"
      ],
      "metadata": {
        "colab": {
          "base_uri": "https://localhost:8080/"
        },
        "id": "tB9sT2atoRr8",
        "outputId": "09e9ad08-ae74-47ef-dc11-5d9c43e79db5"
      },
      "execution_count": 15,
      "outputs": [
        {
          "output_type": "execute_result",
          "data": {
            "text/plain": [
              "(tensor([6, 3, 9], dtype=torch.int32), torch.int32)"
            ]
          },
          "metadata": {},
          "execution_count": 15
        }
      ]
    },
    {
      "cell_type": "code",
      "source": [
        "int32Tensor = torch.tensor([6,1,9], dtype=torch.int)\n",
        "int32Tensor, int32Tensor.dtype"
      ],
      "metadata": {
        "colab": {
          "base_uri": "https://localhost:8080/"
        },
        "id": "IyFrWjq_p25L",
        "outputId": "5a4fe78b-e695-4bcf-a1c6-8680fe181bf3"
      },
      "execution_count": 16,
      "outputs": [
        {
          "output_type": "execute_result",
          "data": {
            "text/plain": [
              "(tensor([6, 1, 9], dtype=torch.int32), torch.int32)"
            ]
          },
          "metadata": {},
          "execution_count": 16
        }
      ]
    },
    {
      "cell_type": "code",
      "source": [
        "int_64_Tensor = torch.tensor([7,1,8], dtype=torch.int64)\n",
        "int_64_Tensor, int_64_Tensor.dtype"
      ],
      "metadata": {
        "colab": {
          "base_uri": "https://localhost:8080/"
        },
        "id": "3isl2Uo7zE8y",
        "outputId": "febaa4e9-fdce-4ac8-adaf-62d1f109e03b"
      },
      "execution_count": 17,
      "outputs": [
        {
          "output_type": "execute_result",
          "data": {
            "text/plain": [
              "(tensor([7, 1, 8]), torch.int64)"
            ]
          },
          "metadata": {},
          "execution_count": 17
        }
      ]
    },
    {
      "cell_type": "code",
      "source": [
        "int_64_or_long_Tensor = torch.tensor([7,1,8], dtype=torch.long)\n",
        "int_64_or_long_Tensor, int_64_or_long_Tensor.dtype"
      ],
      "metadata": {
        "colab": {
          "base_uri": "https://localhost:8080/"
        },
        "id": "4rOd-2FHzTeU",
        "outputId": "a01a0329-52de-4390-89fc-06bdd455bf05"
      },
      "execution_count": 18,
      "outputs": [
        {
          "output_type": "execute_result",
          "data": {
            "text/plain": [
              "(tensor([7, 1, 8]), torch.int64)"
            ]
          },
          "metadata": {},
          "execution_count": 18
        }
      ]
    },
    {
      "cell_type": "code",
      "source": [
        "# boolean datatype\n",
        "boolean_tensor = torch.tensor([1,0,1,0,1], dtype=torch.bool)\n",
        "boolean_tensor, boolean_tensor.dtype"
      ],
      "metadata": {
        "colab": {
          "base_uri": "https://localhost:8080/"
        },
        "id": "614MUQ9Czu1L",
        "outputId": "30fbe4a3-5fd3-4e5f-98c3-67d73099463e"
      },
      "execution_count": 19,
      "outputs": [
        {
          "output_type": "execute_result",
          "data": {
            "text/plain": [
              "(tensor([ True, False,  True, False,  True]), torch.bool)"
            ]
          },
          "metadata": {},
          "execution_count": 19
        }
      ]
    },
    {
      "cell_type": "code",
      "source": [
        "## backward compatibility\n",
        "# 32-bit floating point\n",
        "x = torch.FloatTensor([1,8,5])\n",
        "x, x.dtype"
      ],
      "metadata": {
        "colab": {
          "base_uri": "https://localhost:8080/"
        },
        "id": "XjbMp9an1jTz",
        "outputId": "4b5f645d-6c72-4957-f1f3-edbbce06efc9"
      },
      "execution_count": 20,
      "outputs": [
        {
          "output_type": "execute_result",
          "data": {
            "text/plain": [
              "(tensor([1., 8., 5.]), torch.float32)"
            ]
          },
          "metadata": {},
          "execution_count": 20
        }
      ]
    },
    {
      "cell_type": "code",
      "source": [
        "# converting datatype (float32 to float64)\n",
        "\n",
        "# 1.\n",
        "y = x.type(torch.DoubleTensor)\n",
        "y, y.dtype"
      ],
      "metadata": {
        "colab": {
          "base_uri": "https://localhost:8080/"
        },
        "id": "XVwVm8bU-dwc",
        "outputId": "4c0471b0-7e31-483d-c962-9801f4ed6abc"
      },
      "execution_count": 21,
      "outputs": [
        {
          "output_type": "execute_result",
          "data": {
            "text/plain": [
              "(tensor([1., 8., 5.], dtype=torch.float64), torch.float64)"
            ]
          },
          "metadata": {},
          "execution_count": 21
        }
      ]
    },
    {
      "cell_type": "code",
      "source": [
        "# 2.\n",
        "z = x.type(torch.float64)\n",
        "z, z.dtype"
      ],
      "metadata": {
        "colab": {
          "base_uri": "https://localhost:8080/"
        },
        "id": "BMapolzt_bu0",
        "outputId": "1075f8f6-dcef-4dec-d0a8-8f2a572458ae"
      },
      "execution_count": 22,
      "outputs": [
        {
          "output_type": "execute_result",
          "data": {
            "text/plain": [
              "(tensor([1., 8., 5.], dtype=torch.float64), torch.float64)"
            ]
          },
          "metadata": {},
          "execution_count": 22
        }
      ]
    },
    {
      "cell_type": "code",
      "source": [
        "# 3.\n",
        "w = x.type(torch.double)\n",
        "w, w.dtype"
      ],
      "metadata": {
        "colab": {
          "base_uri": "https://localhost:8080/"
        },
        "id": "_cxej9T5A_L9",
        "outputId": "36ad46e0-c252-48a5-dd04-a3df0fc78e07"
      },
      "execution_count": 23,
      "outputs": [
        {
          "output_type": "execute_result",
          "data": {
            "text/plain": [
              "(tensor([1., 8., 5.], dtype=torch.float64), torch.float64)"
            ]
          },
          "metadata": {},
          "execution_count": 23
        }
      ]
    },
    {
      "cell_type": "code",
      "source": [
        "# 64-bit floating point\n",
        "a = torch.DoubleTensor([7,1,5,4])\n",
        "a"
      ],
      "metadata": {
        "colab": {
          "base_uri": "https://localhost:8080/"
        },
        "id": "cj6sKOzQBIpL",
        "outputId": "8f136b29-6517-41fd-9c4e-722f34b22590"
      },
      "execution_count": 24,
      "outputs": [
        {
          "output_type": "execute_result",
          "data": {
            "text/plain": [
              "tensor([7., 1., 5., 4.], dtype=torch.float64)"
            ]
          },
          "metadata": {},
          "execution_count": 24
        }
      ]
    },
    {
      "cell_type": "code",
      "source": [
        "# 16-bit floating point\n",
        "b = torch.HalfTensor([4,7,1])\n",
        "b"
      ],
      "metadata": {
        "colab": {
          "base_uri": "https://localhost:8080/"
        },
        "id": "0vNc6rbYBaMy",
        "outputId": "f2d96fed-192b-4a3d-d55b-2245f53d2929"
      },
      "execution_count": 25,
      "outputs": [
        {
          "output_type": "execute_result",
          "data": {
            "text/plain": [
              "tensor([4., 7., 1.], dtype=torch.float16)"
            ]
          },
          "metadata": {},
          "execution_count": 25
        }
      ]
    },
    {
      "cell_type": "code",
      "source": [
        "# 16-bit floating point\n",
        "c = torch.BFloat16Tensor([5,8,4])\n",
        "c"
      ],
      "metadata": {
        "colab": {
          "base_uri": "https://localhost:8080/"
        },
        "id": "UFpeT5I6Baiu",
        "outputId": "97157aea-f921-48fa-d671-f92b6a4eba69"
      },
      "execution_count": 26,
      "outputs": [
        {
          "output_type": "execute_result",
          "data": {
            "text/plain": [
              "tensor([5., 8., 4.], dtype=torch.bfloat16)"
            ]
          },
          "metadata": {},
          "execution_count": 26
        }
      ]
    },
    {
      "cell_type": "code",
      "source": [
        "# 8-bit integer (unsigned)\n",
        "d = torch.ByteTensor([1,2,3])\n",
        "d"
      ],
      "metadata": {
        "colab": {
          "base_uri": "https://localhost:8080/"
        },
        "id": "aHD3TuGjBat0",
        "outputId": "38282a79-be46-43c6-eda5-a3c05623958d"
      },
      "execution_count": 27,
      "outputs": [
        {
          "output_type": "execute_result",
          "data": {
            "text/plain": [
              "tensor([1, 2, 3], dtype=torch.uint8)"
            ]
          },
          "metadata": {},
          "execution_count": 27
        }
      ]
    },
    {
      "cell_type": "code",
      "source": [
        "# 8-bit integer (signed)\n",
        "e = torch.CharTensor([3,5,4])\n",
        "e"
      ],
      "metadata": {
        "colab": {
          "base_uri": "https://localhost:8080/"
        },
        "id": "8yScJemeBbnU",
        "outputId": "01262f73-fc9f-476c-fbb6-1bb84d242d4a"
      },
      "execution_count": 28,
      "outputs": [
        {
          "output_type": "execute_result",
          "data": {
            "text/plain": [
              "tensor([3, 5, 4], dtype=torch.int8)"
            ]
          },
          "metadata": {},
          "execution_count": 28
        }
      ]
    },
    {
      "cell_type": "code",
      "source": [
        "# 16-bit integer (signed)\n",
        "f = torch.ShortTensor([5,7,9])\n",
        "f"
      ],
      "metadata": {
        "colab": {
          "base_uri": "https://localhost:8080/"
        },
        "id": "Rr02mupzBhTc",
        "outputId": "e2a4cfbc-81ff-4099-d39e-9d4edb918b6d"
      },
      "execution_count": 29,
      "outputs": [
        {
          "output_type": "execute_result",
          "data": {
            "text/plain": [
              "tensor([5, 7, 9], dtype=torch.int16)"
            ]
          },
          "metadata": {},
          "execution_count": 29
        }
      ]
    },
    {
      "cell_type": "code",
      "source": [
        "# 32-bit integer (signed)\n",
        "g = torch.IntTensor([6,1,5])\n",
        "g"
      ],
      "metadata": {
        "colab": {
          "base_uri": "https://localhost:8080/"
        },
        "id": "LRDbjRd2BiaL",
        "outputId": "7354b7d8-b11e-4939-c55a-5813ca8729ad"
      },
      "execution_count": 30,
      "outputs": [
        {
          "output_type": "execute_result",
          "data": {
            "text/plain": [
              "tensor([6, 1, 5], dtype=torch.int32)"
            ]
          },
          "metadata": {},
          "execution_count": 30
        }
      ]
    },
    {
      "cell_type": "code",
      "source": [
        "# 64-bit integer (signed)\n",
        "h = torch.LongTensor([5,2,9])\n",
        "h"
      ],
      "metadata": {
        "colab": {
          "base_uri": "https://localhost:8080/"
        },
        "id": "FB2N2KCIBi7X",
        "outputId": "91c64291-bcf1-4c5e-b5a6-3301ac22ee28"
      },
      "execution_count": 31,
      "outputs": [
        {
          "output_type": "execute_result",
          "data": {
            "text/plain": [
              "tensor([5, 2, 9])"
            ]
          },
          "metadata": {},
          "execution_count": 31
        }
      ]
    },
    {
      "cell_type": "code",
      "source": [
        "# Boolean\n",
        "i = torch.BoolTensor([0,1,0])\n",
        "i, i.dtype"
      ],
      "metadata": {
        "colab": {
          "base_uri": "https://localhost:8080/"
        },
        "id": "42xDhOOTBzYL",
        "outputId": "cbb8a6cc-f9a3-47c6-90db-4aa68841af67"
      },
      "execution_count": 32,
      "outputs": [
        {
          "output_type": "execute_result",
          "data": {
            "text/plain": [
              "(tensor([False,  True, False]), torch.bool)"
            ]
          },
          "metadata": {},
          "execution_count": 32
        }
      ]
    },
    {
      "cell_type": "code",
      "source": [
        "# factory function - `torch.empty()`\n",
        "k = torch.empty(size=(3,3),dtype=torch.float16)\n",
        "k, k.ndim, k.shape"
      ],
      "metadata": {
        "colab": {
          "base_uri": "https://localhost:8080/"
        },
        "id": "j1PwGiskEdDv",
        "outputId": "a55b1f2b-b4ab-458d-c628-40f2ce2da2d6"
      },
      "execution_count": 33,
      "outputs": [
        {
          "output_type": "execute_result",
          "data": {
            "text/plain": [
              "(tensor([[ 3.4668e-02, -2.7990e-04,  1.3938e+02],\n",
              "         [ 0.0000e+00,  8.3160e-04, -2.7370e-04],\n",
              "         [ 1.3938e+02,  0.0000e+00,  4.7684e-06]], dtype=torch.float16),\n",
              " 2,\n",
              " torch.Size([3, 3]))"
            ]
          },
          "metadata": {},
          "execution_count": 33
        }
      ]
    },
    {
      "cell_type": "code",
      "source": [
        "# initializing and basic operations\n",
        "m = torch.tensor([\n",
        "    [1., -1.],\n",
        "    [1., -1.]\n",
        "])\n",
        "m"
      ],
      "metadata": {
        "id": "Num9gyO7FeiF",
        "colab": {
          "base_uri": "https://localhost:8080/"
        },
        "outputId": "fd8e6bde-5987-43de-cb14-f3f8cd9af8e7"
      },
      "execution_count": 34,
      "outputs": [
        {
          "output_type": "execute_result",
          "data": {
            "text/plain": [
              "tensor([[ 1., -1.],\n",
              "        [ 1., -1.]])"
            ]
          },
          "metadata": {},
          "execution_count": 34
        }
      ]
    },
    {
      "cell_type": "code",
      "source": [
        "import numpy as np\n",
        "\n",
        "from_numpy = torch.tensor(\n",
        "    np.array([\n",
        "        [1, 2, 3],\n",
        "        [4, 5, 6]\n",
        "    ])\n",
        ")\n",
        "from_numpy"
      ],
      "metadata": {
        "colab": {
          "base_uri": "https://localhost:8080/"
        },
        "id": "cq7xtS69kiaH",
        "outputId": "74b14f38-68a4-4a0d-af91-a8e6b3426e9d"
      },
      "execution_count": 35,
      "outputs": [
        {
          "output_type": "execute_result",
          "data": {
            "text/plain": [
              "tensor([[1, 2, 3],\n",
              "        [4, 5, 6]])"
            ]
          },
          "metadata": {},
          "execution_count": 35
        }
      ]
    },
    {
      "cell_type": "code",
      "source": [
        "check = torch.tensor([1, 2, 3], dtype=torch.float16)\n",
        "check.requires_grad_()"
      ],
      "metadata": {
        "colab": {
          "base_uri": "https://localhost:8080/"
        },
        "id": "fSQP13Otk282",
        "outputId": "bce41201-3177-408a-f33d-f4777e9ad38c"
      },
      "execution_count": 36,
      "outputs": [
        {
          "output_type": "execute_result",
          "data": {
            "text/plain": [
              "tensor([1., 2., 3.], dtype=torch.float16, requires_grad=True)"
            ]
          },
          "metadata": {},
          "execution_count": 36
        }
      ]
    },
    {
      "cell_type": "code",
      "source": [
        "# another method\n",
        "check2 = torch.tensor([1.0, 4.1, 9.2])\n",
        "check2.detach_(), check2.dtype"
      ],
      "metadata": {
        "colab": {
          "base_uri": "https://localhost:8080/"
        },
        "id": "VGL32mgcldOG",
        "outputId": "f776dc72-88f6-4275-bfbe-ade98d261656"
      },
      "execution_count": 37,
      "outputs": [
        {
          "output_type": "execute_result",
          "data": {
            "text/plain": [
              "(tensor([1.0000, 4.1000, 9.2000]), torch.float32)"
            ]
          },
          "metadata": {},
          "execution_count": 37
        }
      ]
    },
    {
      "cell_type": "code",
      "source": [
        "y = torch.tensor(check2) # To copy construct from a tensor, it is recommended to use sourceTensor.clone().detach() or sourceTensor.clone().detach().requires_grad_(True), rather than torch.tensor(sourceTensor).\n",
        "y"
      ],
      "metadata": {
        "colab": {
          "base_uri": "https://localhost:8080/"
        },
        "id": "qDjThkgql7JW",
        "outputId": "a6583d17-53e9-4b51-f654-d06680591dbe"
      },
      "execution_count": 38,
      "outputs": [
        {
          "output_type": "stream",
          "name": "stderr",
          "text": [
            "<ipython-input-38-94b980d24cc2>:1: UserWarning: To copy construct from a tensor, it is recommended to use sourceTensor.clone().detach() or sourceTensor.clone().detach().requires_grad_(True), rather than torch.tensor(sourceTensor).\n",
            "  y = torch.tensor(check2) # To copy construct from a tensor, it is recommended to use sourceTensor.clone().detach() or sourceTensor.clone().detach().requires_grad_(True), rather than torch.tensor(sourceTensor).\n"
          ]
        },
        {
          "output_type": "execute_result",
          "data": {
            "text/plain": [
              "tensor([1.0000, 4.1000, 9.2000])"
            ]
          },
          "metadata": {},
          "execution_count": 38
        }
      ]
    },
    {
      "cell_type": "code",
      "source": [
        "#\n",
        "TENSOR_X = torch.tensor([2.1, 6.4, 3.9], requires_grad=True)\n",
        "\n",
        "TENSOR_Y = TENSOR_X.detach()\n",
        "\n",
        "TENSOR_Y.requires_grad_()"
      ],
      "metadata": {
        "colab": {
          "base_uri": "https://localhost:8080/"
        },
        "id": "jXImePCwmzf3",
        "outputId": "6db31e97-0b01-43d2-ff95-17a0778f6e98"
      },
      "execution_count": 39,
      "outputs": [
        {
          "output_type": "execute_result",
          "data": {
            "text/plain": [
              "tensor([2.1000, 6.4000, 3.9000], requires_grad=True)"
            ]
          },
          "metadata": {},
          "execution_count": 39
        }
      ]
    },
    {
      "cell_type": "code",
      "source": [
        "checkTensor = torch.Tensor([1, 2, 3])\n",
        "checkTensor, checkTensor.dtype"
      ],
      "metadata": {
        "id": "1IY6bYx3oBBV",
        "colab": {
          "base_uri": "https://localhost:8080/"
        },
        "outputId": "6e937fb0-93af-46f4-f557-3562ec44dc76"
      },
      "execution_count": 40,
      "outputs": [
        {
          "output_type": "execute_result",
          "data": {
            "text/plain": [
              "(tensor([1., 2., 3.]), torch.float32)"
            ]
          },
          "metadata": {},
          "execution_count": 40
        }
      ]
    },
    {
      "cell_type": "markdown",
      "source": [
        "# Tensor class reference\n",
        "```\n",
        "class     torch.Tensor\n",
        "```\n",
        "There are a few main ways to create a tensor, depending on your use case.\n",
        "\n",
        "1. To create a tensor with pre-existing data, use `torch.tensor()`.\n",
        "\n",
        "2. To create a tensor with specific size, use `torch.*` tensor creation ops (see [Creation Ops](https://pytorch.org/docs/stable/torch.html#tensor-creation-ops)).\n",
        "\n",
        "3. To create a tensor with the same size (and similar types) as another tensor, use `torch.*_like` tensor creation ops (see [Creation Ops](https://pytorch.org/docs/stable/torch.html#tensor-creation-ops)).\n",
        "\n",
        "4. To create a tensor with similar type but different size as another tensor, use `tensor.new_*` creation ops.\n",
        "\n"
      ],
      "metadata": {
        "id": "br0TuEbJEnMl"
      }
    },
    {
      "cell_type": "code",
      "source": [
        "# 1\n",
        "first_tensor = torch.tensor([6, 3, 2])\n",
        "first_tensor"
      ],
      "metadata": {
        "id": "BHis4qVmpvJs",
        "colab": {
          "base_uri": "https://localhost:8080/"
        },
        "outputId": "490493cc-e51b-4f05-a256-8c1dfd7b581b"
      },
      "execution_count": 41,
      "outputs": [
        {
          "output_type": "execute_result",
          "data": {
            "text/plain": [
              "tensor([6, 3, 2])"
            ]
          },
          "metadata": {},
          "execution_count": 41
        }
      ]
    },
    {
      "cell_type": "code",
      "source": [
        "# 2 torch.*\n",
        "\n",
        "# 2.1 - torch.zeros(dimension or size)\n",
        "second_tensor = torch.zeros(3, 4)\n",
        "second_tensor"
      ],
      "metadata": {
        "colab": {
          "base_uri": "https://localhost:8080/"
        },
        "id": "roO6smUwFT6S",
        "outputId": "8b77f3f2-32eb-4ee4-fa3f-95595d4f795d"
      },
      "execution_count": 42,
      "outputs": [
        {
          "output_type": "execute_result",
          "data": {
            "text/plain": [
              "tensor([[0., 0., 0., 0.],\n",
              "        [0., 0., 0., 0.],\n",
              "        [0., 0., 0., 0.]])"
            ]
          },
          "metadata": {},
          "execution_count": 42
        }
      ]
    },
    {
      "cell_type": "code",
      "source": [
        "# 2.2 torch.zeros_like(source_tensor)\n",
        "source_tensor = torch.tensor([[3, 4, 6], [1, 8, 3]])\n",
        "\n",
        "third_tensor = torch.zeros_like(source_tensor)\n",
        "third_tensor"
      ],
      "metadata": {
        "colab": {
          "base_uri": "https://localhost:8080/"
        },
        "id": "PJkW2xOLHm2J",
        "outputId": "a872f6ae-3858-46eb-8674-509ea72f2b1b"
      },
      "execution_count": 43,
      "outputs": [
        {
          "output_type": "execute_result",
          "data": {
            "text/plain": [
              "tensor([[0, 0, 0],\n",
              "        [0, 0, 0]])"
            ]
          },
          "metadata": {},
          "execution_count": 43
        }
      ]
    },
    {
      "cell_type": "code",
      "source": [
        "# 2.3 torch.ones(dimension)\n",
        "ones_tensor = torch.ones(5,8)\n",
        "ones_tensor"
      ],
      "metadata": {
        "colab": {
          "base_uri": "https://localhost:8080/"
        },
        "id": "lxnTlCLkmjfV",
        "outputId": "cc019d52-f150-48b1-d6c9-305733ae7721"
      },
      "execution_count": 44,
      "outputs": [
        {
          "output_type": "execute_result",
          "data": {
            "text/plain": [
              "tensor([[1., 1., 1., 1., 1., 1., 1., 1.],\n",
              "        [1., 1., 1., 1., 1., 1., 1., 1.],\n",
              "        [1., 1., 1., 1., 1., 1., 1., 1.],\n",
              "        [1., 1., 1., 1., 1., 1., 1., 1.],\n",
              "        [1., 1., 1., 1., 1., 1., 1., 1.]])"
            ]
          },
          "metadata": {},
          "execution_count": 44
        }
      ]
    },
    {
      "cell_type": "code",
      "source": [
        "# 2.4 torch.ones_like(source_tensor)\n",
        "source_tensor = torch.tensor([[3, 6, 7], [9,5,8]])\n",
        "ones_like_tensor = torch.ones_like(source_tensor)\n",
        "print(f\"source_tensor = \\n{source_tensor}\")\n",
        "print(f\"ones_like_tensor = \\n{ones_like_tensor}\")"
      ],
      "metadata": {
        "colab": {
          "base_uri": "https://localhost:8080/"
        },
        "id": "PMY0YzwEo0KB",
        "outputId": "caedfd49-7399-49fa-8b0f-c634a021fd8e"
      },
      "execution_count": 45,
      "outputs": [
        {
          "output_type": "stream",
          "name": "stdout",
          "text": [
            "source_tensor = \n",
            "tensor([[3, 6, 7],\n",
            "        [9, 5, 8]])\n",
            "ones_like_tensor = \n",
            "tensor([[1, 1, 1],\n",
            "        [1, 1, 1]])\n"
          ]
        }
      ]
    },
    {
      "cell_type": "code",
      "source": [
        "# 2.5 torch.arange(start, end, step) - returns a 1-D tensor of size [end - start / step]\n",
        "arange_tensor = torch.arange(1, 15, 2)\n",
        "arange_tensor"
      ],
      "metadata": {
        "colab": {
          "base_uri": "https://localhost:8080/"
        },
        "id": "-FpJIdLmo4Im",
        "outputId": "0dfb4688-49de-4960-c6f5-b93bfb1b24f8"
      },
      "execution_count": 46,
      "outputs": [
        {
          "output_type": "execute_result",
          "data": {
            "text/plain": [
              "tensor([ 1,  3,  5,  7,  9, 11, 13])"
            ]
          },
          "metadata": {},
          "execution_count": 46
        }
      ]
    },
    {
      "cell_type": "code",
      "source": [
        "# 2.6 torch.linspace(start, end, step) - Creates a one-dimensional tensor of size steps whose values are evenly spaced from start to end, inclusive.\n",
        "linspace_tensor = torch.linspace(60, 100, 14)\n",
        "linspace_tensor"
      ],
      "metadata": {
        "colab": {
          "base_uri": "https://localhost:8080/"
        },
        "id": "hJ2hpBIGpFt2",
        "outputId": "30a0e93d-e28f-4c5b-b4db-e7089bcd937d"
      },
      "execution_count": 47,
      "outputs": [
        {
          "output_type": "execute_result",
          "data": {
            "text/plain": [
              "tensor([ 60.0000,  63.0769,  66.1538,  69.2308,  72.3077,  75.3846,  78.4615,\n",
              "         81.5385,  84.6154,  87.6923,  90.7692,  93.8462,  96.9231, 100.0000])"
            ]
          },
          "metadata": {},
          "execution_count": 47
        }
      ]
    },
    {
      "cell_type": "code",
      "source": [
        "# 2.7 torch.logspace(start, end, step, base) - Creates a one-dimensional tensor of size steps whose values are evenly spaced from base start base_start to base_end base end, inclusive, on a logarithmic scale with base base.\n",
        "logspace_tensor = torch.logspace(3, 9, 5) # by default base=10.0\n",
        "logspace_tensor"
      ],
      "metadata": {
        "colab": {
          "base_uri": "https://localhost:8080/"
        },
        "id": "-arR1AKnpG7Y",
        "outputId": "09c00d52-3d35-4b4d-e475-bb9a07800b26"
      },
      "execution_count": 48,
      "outputs": [
        {
          "output_type": "execute_result",
          "data": {
            "text/plain": [
              "tensor([1.0000e+03, 3.1623e+04, 1.0000e+06, 3.1623e+07, 1.0000e+09])"
            ]
          },
          "metadata": {},
          "execution_count": 48
        }
      ]
    },
    {
      "cell_type": "code",
      "source": [
        "'''\n",
        "calculation for getting the values of the return Tensor,\n",
        "value = base ** (start + i * (end-start) / (steps-1)),   where `i` is the index of the value in the sequence, ranging from 0 to `steps-1`\n",
        "'''\n",
        "\n",
        "logspace_tensor = torch.logspace(0, 2, 10)\n",
        "logspace_tensor"
      ],
      "metadata": {
        "colab": {
          "base_uri": "https://localhost:8080/"
        },
        "id": "oT4GEVIzpHWb",
        "outputId": "1fe144e5-76a7-4af3-a212-e7b5fcde0535"
      },
      "execution_count": 49,
      "outputs": [
        {
          "output_type": "execute_result",
          "data": {
            "text/plain": [
              "tensor([  1.0000,   1.6681,   2.7826,   4.6416,   7.7426,  12.9155,  21.5443,\n",
              "         35.9381,  59.9484, 100.0000])"
            ]
          },
          "metadata": {},
          "execution_count": 49
        }
      ]
    },
    {
      "cell_type": "code",
      "source": [
        "exploring_logspace = torch.logspace(start=0.1, end=1.0, steps=1)\n",
        "exploring_logspace"
      ],
      "metadata": {
        "id": "eS9AgMYopHqP",
        "colab": {
          "base_uri": "https://localhost:8080/"
        },
        "outputId": "5b654f31-17d8-44c5-acc6-c1652503e911"
      },
      "execution_count": 50,
      "outputs": [
        {
          "output_type": "execute_result",
          "data": {
            "text/plain": [
              "tensor([1.2589])"
            ]
          },
          "metadata": {},
          "execution_count": 50
        }
      ]
    },
    {
      "cell_type": "code",
      "source": [
        "exploring_logspace = torch.logspace(start=0.1, end=1.0, steps=2)\n",
        "exploring_logspace"
      ],
      "metadata": {
        "id": "GZIwFxC-pH8Y",
        "colab": {
          "base_uri": "https://localhost:8080/"
        },
        "outputId": "ff615473-c24b-4c7d-f747-2a5af5b1204b"
      },
      "execution_count": 51,
      "outputs": [
        {
          "output_type": "execute_result",
          "data": {
            "text/plain": [
              "tensor([ 1.2589, 10.0000])"
            ]
          },
          "metadata": {},
          "execution_count": 51
        }
      ]
    },
    {
      "cell_type": "code",
      "source": [
        "exploring_logspace = torch.logspace(start=0.1, end=1.0, steps=3)\n",
        "exploring_logspace"
      ],
      "metadata": {
        "id": "dXIcI7nzpINW",
        "colab": {
          "base_uri": "https://localhost:8080/"
        },
        "outputId": "4515c855-5364-4752-8e78-5968e4936869"
      },
      "execution_count": 52,
      "outputs": [
        {
          "output_type": "execute_result",
          "data": {
            "text/plain": [
              "tensor([ 1.2589,  3.5481, 10.0000])"
            ]
          },
          "metadata": {},
          "execution_count": 52
        }
      ]
    },
    {
      "cell_type": "code",
      "source": [
        "exploring_logspace = torch.logspace(start=0.1, end=1.0, steps=4)\n",
        "exploring_logspace"
      ],
      "metadata": {
        "id": "pJ5QFJi2pImF",
        "colab": {
          "base_uri": "https://localhost:8080/"
        },
        "outputId": "93c7e59d-8fe8-4342-c7d0-a7a4b762543c"
      },
      "execution_count": 53,
      "outputs": [
        {
          "output_type": "execute_result",
          "data": {
            "text/plain": [
              "tensor([ 1.2589,  2.5119,  5.0119, 10.0000])"
            ]
          },
          "metadata": {},
          "execution_count": 53
        }
      ]
    },
    {
      "cell_type": "code",
      "source": [
        "exploring_logspace = torch.logspace(start=0.1, end=1.0, steps=5)\n",
        "exploring_logspace"
      ],
      "metadata": {
        "id": "8eOrZGTfpJL5",
        "colab": {
          "base_uri": "https://localhost:8080/"
        },
        "outputId": "d26afc73-b0ce-471b-ae3d-45d491eb8864"
      },
      "execution_count": 54,
      "outputs": [
        {
          "output_type": "execute_result",
          "data": {
            "text/plain": [
              "tensor([ 1.2589,  2.1135,  3.5481,  5.9566, 10.0000])"
            ]
          },
          "metadata": {},
          "execution_count": 54
        }
      ]
    },
    {
      "cell_type": "code",
      "source": [
        "'''\n",
        "calculation of `torch.logspace(start=0.1, end=1.0, steps=10)`\n",
        "\n",
        "values of the return tensor are:\n",
        "\n",
        "1st_value  = base ** (start + (steps - 10) * (end - start / steps - 1)) [equivalent of (base ** start), if you put those values in the equation you will understand why it's equivalent with `base ** start`]\n",
        "2nd_value  = base ** (start + (steps - 9) * (end - start / steps - 1))\n",
        "3rd_value  = base ** (start + (steps - 8) * (end - start / steps - 1))\n",
        "4th_value  = base ** (start + (steps - 7) * (end - start / steps - 1))\n",
        "5th_value  = base ** (start + (steps - 6) * (end - start / steps - 1))\n",
        "6th_value  = base ** (start + (steps - 5) * (end - start / steps - 1))\n",
        "7th_value  = base ** (start + (steps - 4) * (end - start / steps - 1))\n",
        "6th_value  = base ** (start + (steps - 3) * (end - start / steps - 1))\n",
        "8th_value  = base ** (start + (steps - 2) * (end - start / steps - 1))\n",
        "10th_value = base ** (start + (steps - 1) * (end - start / steps - 1)) [equivalent of (base ** end), if you put those values in the equation you will understand why it's equivalent with `base ** end`]\n",
        "\n",
        "notice: for user defined purposes if we mention `i` instead of (steps - 10, 9, 8, 7, 6, 5, 4, 3, 2, 1) that means the index of the `i` will be start `0` to `steps - 1`\n",
        "        as for this example 0 to 9 because `steps = 10`\n",
        "\n",
        "source: https://pytorch.org/docs/stable/generated/torch.logspace.html#torch.logspace\n",
        "'''\n",
        "\n",
        "\n",
        "exploring_logspace = torch.logspace(start=0.1, end=1.0, steps=10)\n",
        "exploring_logspace"
      ],
      "metadata": {
        "id": "2X6TwoGvpJrN",
        "colab": {
          "base_uri": "https://localhost:8080/"
        },
        "outputId": "31754bc3-beff-4ba2-83a5-92e8589e62da"
      },
      "execution_count": 55,
      "outputs": [
        {
          "output_type": "execute_result",
          "data": {
            "text/plain": [
              "tensor([ 1.2589,  1.5849,  1.9953,  2.5119,  3.1623,  3.9811,  5.0119,  6.3096,\n",
              "         7.9433, 10.0000])"
            ]
          },
          "metadata": {},
          "execution_count": 55
        }
      ]
    },
    {
      "cell_type": "code",
      "source": [
        "# 2.8 torch.eye() -> Returns a 2-D tensor with ones on the diagonal and zeros elsewhere.\n",
        "eye_tensor = torch.eye(5) # paramers of eye() are, 1. n (which will be a int number) -> the number of rows 2. m (which will be a int number) -> the number of columns with default being n\n",
        "eye_tensor, eye_tensor.shape, eye_tensor.ndim"
      ],
      "metadata": {
        "id": "GEMQPVQpVJ_Z",
        "colab": {
          "base_uri": "https://localhost:8080/"
        },
        "outputId": "c31729dc-8a1a-41ac-9df1-6149e15cee17"
      },
      "execution_count": 56,
      "outputs": [
        {
          "output_type": "execute_result",
          "data": {
            "text/plain": [
              "(tensor([[1., 0., 0., 0., 0.],\n",
              "         [0., 1., 0., 0., 0.],\n",
              "         [0., 0., 1., 0., 0.],\n",
              "         [0., 0., 0., 1., 0.],\n",
              "         [0., 0., 0., 0., 1.]]),\n",
              " torch.Size([5, 5]),\n",
              " 2)"
            ]
          },
          "metadata": {},
          "execution_count": 56
        }
      ]
    },
    {
      "cell_type": "code",
      "source": [
        "eye_tensor = torch.eye(8, 8)\n",
        "eye_tensor, eye_tensor.shape, eye_tensor.ndim"
      ],
      "metadata": {
        "id": "6aQLYMiAVKDO",
        "colab": {
          "base_uri": "https://localhost:8080/"
        },
        "outputId": "aadea08e-274a-4f96-cac6-7c39d4248ed1"
      },
      "execution_count": 57,
      "outputs": [
        {
          "output_type": "execute_result",
          "data": {
            "text/plain": [
              "(tensor([[1., 0., 0., 0., 0., 0., 0., 0.],\n",
              "         [0., 1., 0., 0., 0., 0., 0., 0.],\n",
              "         [0., 0., 1., 0., 0., 0., 0., 0.],\n",
              "         [0., 0., 0., 1., 0., 0., 0., 0.],\n",
              "         [0., 0., 0., 0., 1., 0., 0., 0.],\n",
              "         [0., 0., 0., 0., 0., 1., 0., 0.],\n",
              "         [0., 0., 0., 0., 0., 0., 1., 0.],\n",
              "         [0., 0., 0., 0., 0., 0., 0., 1.]]),\n",
              " torch.Size([8, 8]),\n",
              " 2)"
            ]
          },
          "metadata": {},
          "execution_count": 57
        }
      ]
    },
    {
      "cell_type": "code",
      "source": [
        "# 2.9 - torch.empty(size of the tensor) -> Return a tensor filled with uninitialized data.\n",
        "empty_tensor = torch.empty((3, 4))\n",
        "empty_tensor"
      ],
      "metadata": {
        "id": "XeMzeyslVKIz",
        "colab": {
          "base_uri": "https://localhost:8080/"
        },
        "outputId": "40528dad-d2ad-4fb6-e0d9-8e389b54182a"
      },
      "execution_count": 58,
      "outputs": [
        {
          "output_type": "execute_result",
          "data": {
            "text/plain": [
              "tensor([[-2.3456e-31,  3.1696e-41, -2.3468e-31,  3.1696e-41],\n",
              "        [ 1.1210e-43,  0.0000e+00,  8.9683e-44,  0.0000e+00],\n",
              "        [ 2.1108e-33,  3.1700e-41,  0.0000e+00,  0.0000e+00]])"
            ]
          },
          "metadata": {},
          "execution_count": 58
        }
      ]
    },
    {
      "cell_type": "code",
      "source": [
        "# 3.0 - torch.empty_like(input_tensor) -> Returns an uninitialized tensor with the same size as input.\n",
        "input_tensor = torch.empty((3, 4), dtype=torch.int32)\n",
        "\n",
        "empty_like_tensor = torch.empty_like(input_tensor)\n",
        "empty_like_tensor"
      ],
      "metadata": {
        "id": "4fYUmLVUVKLX",
        "colab": {
          "base_uri": "https://localhost:8080/"
        },
        "outputId": "83ae0e6a-9891-4522-e59c-9ba930ebbc64"
      },
      "execution_count": 59,
      "outputs": [
        {
          "output_type": "execute_result",
          "data": {
            "text/plain": [
              "tensor([[  395050384,       32370, -1936331312,       22619],\n",
              "        [          0,           0,           0,           0],\n",
              "        [          0,           5,   845505073,  1714905444]],\n",
              "       dtype=torch.int32)"
            ]
          },
          "metadata": {},
          "execution_count": 59
        }
      ]
    },
    {
      "cell_type": "code",
      "source": [
        "# 3.1 ->"
      ],
      "metadata": {
        "id": "k46XgHQwVKN2"
      },
      "execution_count": 60,
      "outputs": []
    },
    {
      "cell_type": "code",
      "source": [
        "x = torch.rand(3, 100)\n",
        "x, x.shape, x.ndim"
      ],
      "metadata": {
        "id": "zKyqERiCVKP3",
        "colab": {
          "base_uri": "https://localhost:8080/"
        },
        "outputId": "46b39e12-304e-481f-eade-ff899a1950ad"
      },
      "execution_count": 61,
      "outputs": [
        {
          "output_type": "execute_result",
          "data": {
            "text/plain": [
              "(tensor([[0.2225, 0.8272, 0.8495, 0.2230, 0.1300, 0.6622, 0.2589, 0.7612, 0.2594,\n",
              "          0.5193, 0.0385, 0.7154, 0.3667, 0.7194, 0.0328, 0.5778, 0.1596, 0.5522,\n",
              "          0.5075, 0.8634, 0.0450, 0.8129, 0.5704, 0.3377, 0.3761, 0.7073, 0.9595,\n",
              "          0.2742, 0.3896, 0.6634, 0.2268, 0.5888, 0.6690, 0.8060, 0.5898, 0.5103,\n",
              "          0.1133, 0.3719, 0.5008, 0.4044, 0.9761, 0.7954, 0.0099, 0.5582, 0.9315,\n",
              "          0.1823, 0.2614, 0.8251, 0.3622, 0.4618, 0.7223, 0.5109, 0.8507, 0.8715,\n",
              "          0.7895, 0.9193, 0.8150, 0.9633, 0.9000, 0.8655, 0.2940, 0.2677, 0.8190,\n",
              "          0.0250, 0.0623, 0.0918, 0.2613, 0.0157, 0.1205, 0.1962, 0.2237, 0.9418,\n",
              "          0.2600, 0.4928, 0.4695, 0.4622, 0.7844, 0.3673, 0.8923, 0.0583, 0.5771,\n",
              "          0.9902, 0.1939, 0.3486, 0.1887, 0.6599, 0.9314, 0.8730, 0.5603, 0.9759,\n",
              "          0.3326, 0.2863, 0.3238, 0.7568, 0.6609, 0.4485, 0.2311, 0.3893, 0.1209,\n",
              "          0.0891],\n",
              "         [0.0450, 0.5896, 0.7386, 0.0456, 0.4534, 0.8285, 0.9387, 0.4965, 0.3332,\n",
              "          0.6116, 0.3565, 0.4213, 0.2766, 0.3064, 0.8379, 0.4608, 0.8643, 0.0435,\n",
              "          0.6457, 0.0359, 0.1663, 0.3339, 0.5747, 0.0586, 0.8614, 0.3377, 0.2861,\n",
              "          0.7588, 0.1260, 0.5873, 0.0982, 0.2601, 0.0635, 0.8079, 0.5805, 0.4985,\n",
              "          0.8259, 0.5507, 0.8866, 0.5454, 0.1396, 0.8347, 0.8431, 0.0902, 0.0595,\n",
              "          0.1383, 0.5383, 0.4100, 0.2068, 0.1628, 0.7215, 0.0707, 0.8473, 0.3310,\n",
              "          0.6495, 0.7728, 0.7192, 0.2520, 0.7515, 0.0385, 0.0281, 0.1937, 0.7019,\n",
              "          0.2193, 0.2472, 0.3826, 0.7039, 0.0936, 0.8345, 0.1099, 0.7593, 0.7914,\n",
              "          0.5417, 0.2200, 0.3259, 0.7251, 0.1603, 0.8285, 0.9024, 0.3661, 0.3570,\n",
              "          0.1673, 0.0393, 0.1052, 0.3904, 0.1858, 0.0447, 0.5422, 0.0254, 0.4232,\n",
              "          0.5194, 0.1516, 0.7809, 0.1384, 0.8609, 0.3208, 0.4641, 0.9705, 0.7903,\n",
              "          0.8810],\n",
              "         [0.8328, 0.9155, 0.9024, 0.7522, 0.9978, 0.5527, 0.0933, 0.3537, 0.0434,\n",
              "          0.9006, 0.2372, 0.8841, 0.7754, 0.6860, 0.7011, 0.6500, 0.2034, 0.2682,\n",
              "          0.6529, 0.0592, 0.2006, 0.6268, 0.6488, 0.2588, 0.0855, 0.3473, 0.9562,\n",
              "          0.5807, 0.0485, 0.1318, 0.2067, 0.1023, 0.0808, 0.9482, 0.8775, 0.3443,\n",
              "          0.7148, 0.0169, 0.1566, 0.9411, 0.0722, 0.7395, 0.2710, 0.7047, 0.3617,\n",
              "          0.1026, 0.1327, 0.8005, 0.6758, 0.4699, 0.3713, 0.7613, 0.7837, 0.5853,\n",
              "          0.9889, 0.7895, 0.3035, 0.6088, 0.3806, 0.1394, 0.3250, 0.5358, 0.2982,\n",
              "          0.4863, 0.6533, 0.0147, 0.0675, 0.7767, 0.5357, 0.0261, 0.5309, 0.8437,\n",
              "          0.9967, 0.5510, 0.4555, 0.0238, 0.1789, 0.4918, 0.1412, 0.6281, 0.1987,\n",
              "          0.7243, 0.3579, 0.8636, 0.5357, 0.7788, 0.3704, 0.7930, 0.5515, 0.5667,\n",
              "          0.0210, 0.7054, 0.1844, 0.7474, 0.6035, 0.0132, 0.8770, 0.2960, 0.1996,\n",
              "          0.1348]]),\n",
              " torch.Size([3, 100]),\n",
              " 2)"
            ]
          },
          "metadata": {},
          "execution_count": 61
        }
      ]
    },
    {
      "cell_type": "code",
      "source": [
        "x.stride()"
      ],
      "metadata": {
        "id": "9DTD4nXfVKSQ",
        "colab": {
          "base_uri": "https://localhost:8080/"
        },
        "outputId": "4092bfe9-9519-4657-dc54-d25301066612"
      },
      "execution_count": 62,
      "outputs": [
        {
          "output_type": "execute_result",
          "data": {
            "text/plain": [
              "(100, 1)"
            ]
          },
          "metadata": {},
          "execution_count": 62
        }
      ]
    },
    {
      "cell_type": "code",
      "source": [
        "# Create a 2D array\n",
        "x = torch.tensor(\n",
        "    [\n",
        "\n",
        "              [0, 1, 2, 3, 4,7],\n",
        "              [5, 6, 7, 8, 9,8],\n",
        "\n",
        "    ], dtype=torch.int32)\n",
        "\n",
        "x.stride(), x.ndim"
      ],
      "metadata": {
        "id": "eUBaOsg7VKUz",
        "colab": {
          "base_uri": "https://localhost:8080/"
        },
        "outputId": "68bd2aed-5d06-451a-c4bf-b8df486919b3"
      },
      "execution_count": 63,
      "outputs": [
        {
          "output_type": "execute_result",
          "data": {
            "text/plain": [
              "((6, 1), 2)"
            ]
          },
          "metadata": {},
          "execution_count": 63
        }
      ]
    },
    {
      "cell_type": "code",
      "source": [
        "x[0][0].item() #x_00"
      ],
      "metadata": {
        "id": "V8xyYA6IVKW8",
        "colab": {
          "base_uri": "https://localhost:8080/"
        },
        "outputId": "55d0b794-03fa-478b-f96c-9a90569d27b7"
      },
      "execution_count": 64,
      "outputs": [
        {
          "output_type": "execute_result",
          "data": {
            "text/plain": [
              "0"
            ]
          },
          "metadata": {},
          "execution_count": 64
        }
      ]
    },
    {
      "cell_type": "code",
      "source": [
        "#x_10\n",
        "x[1][0]"
      ],
      "metadata": {
        "id": "PvKURH9PVKZP",
        "colab": {
          "base_uri": "https://localhost:8080/"
        },
        "outputId": "e87a49d2-9fc1-4e11-89f3-5d56b2f93ab4"
      },
      "execution_count": 65,
      "outputs": [
        {
          "output_type": "execute_result",
          "data": {
            "text/plain": [
              "tensor(5, dtype=torch.int32)"
            ]
          },
          "metadata": {},
          "execution_count": 65
        }
      ]
    },
    {
      "cell_type": "code",
      "source": [
        "import numpy as np\n",
        "\n",
        "t = torch.tensor(np.array([[0, 1, 2, 3, 4], [5, 6, 7, 8, 9]], dtype=np.int32))\n",
        "t.stride()"
      ],
      "metadata": {
        "id": "1Th7pdYaVKbx",
        "colab": {
          "base_uri": "https://localhost:8080/"
        },
        "outputId": "11feebec-adff-41df-baa6-2b3bdb574258"
      },
      "execution_count": 66,
      "outputs": [
        {
          "output_type": "execute_result",
          "data": {
            "text/plain": [
              "(5, 1)"
            ]
          },
          "metadata": {},
          "execution_count": 66
        }
      ]
    },
    {
      "cell_type": "code",
      "source": [
        "x = torch.arange(12).view((3,4))\n",
        "x"
      ],
      "metadata": {
        "id": "SEzggEWyVKeM",
        "colab": {
          "base_uri": "https://localhost:8080/"
        },
        "outputId": "f6b91ea7-2a9f-4422-d8c0-5029b3865601"
      },
      "execution_count": 67,
      "outputs": [
        {
          "output_type": "execute_result",
          "data": {
            "text/plain": [
              "tensor([[ 0,  1,  2,  3],\n",
              "        [ 4,  5,  6,  7],\n",
              "        [ 8,  9, 10, 11]])"
            ]
          },
          "metadata": {},
          "execution_count": 67
        }
      ]
    },
    {
      "cell_type": "code",
      "source": [
        "idx = (2, 1)\n",
        "item = x[idx].item()\n",
        "item"
      ],
      "metadata": {
        "id": "80rdMHQ5VKgw",
        "colab": {
          "base_uri": "https://localhost:8080/"
        },
        "outputId": "613fcf34-41f8-4f64-d076-36ab25190212"
      },
      "execution_count": 68,
      "outputs": [
        {
          "output_type": "execute_result",
          "data": {
            "text/plain": [
              "9"
            ]
          },
          "metadata": {},
          "execution_count": 68
        }
      ]
    },
    {
      "cell_type": "code",
      "source": [
        "\n"
      ],
      "metadata": {
        "id": "uDgcMimPVKjG"
      },
      "execution_count": 68,
      "outputs": []
    },
    {
      "cell_type": "code",
      "source": [],
      "metadata": {
        "id": "W1cY5YjtVKl8"
      },
      "execution_count": 68,
      "outputs": []
    },
    {
      "cell_type": "markdown",
      "source": [
        "# Indexing, Slicing, Joining, Mutating Ops["
      ],
      "metadata": {
        "id": "rU_tqcJ6bwBV"
      }
    },
    {
      "cell_type": "code",
      "source": [],
      "metadata": {
        "id": "BQfMwXMKo3au"
      },
      "execution_count": 68,
      "outputs": []
    },
    {
      "cell_type": "code",
      "source": [],
      "metadata": {
        "id": "vz9HZM2eW-1i"
      },
      "execution_count": 68,
      "outputs": []
    },
    {
      "cell_type": "markdown",
      "source": [
        "# [2. Create a random tensor with shape(7,7)](https://www.learnpytorch.io/00_pytorch_fundamentals/#exercises)"
      ],
      "metadata": {
        "id": "UuZqZuSyxccH"
      }
    },
    {
      "cell_type": "code",
      "source": [
        "# create random tensor\n",
        "random_tensor = torch.randn(7, 7)\n",
        "random_tensor"
      ],
      "metadata": {
        "colab": {
          "base_uri": "https://localhost:8080/"
        },
        "id": "ia0ao26fxbkl",
        "outputId": "101d68bf-d717-49a5-bdcf-ae2ff002ca37"
      },
      "execution_count": 69,
      "outputs": [
        {
          "output_type": "execute_result",
          "data": {
            "text/plain": [
              "tensor([[-0.3246, -0.3857,  1.1784, -1.2926, -0.5480, -0.5270, -0.2692],\n",
              "        [-0.9490,  1.0686,  2.0382,  0.7114, -0.7548,  0.2829,  1.7928],\n",
              "        [ 0.1547, -0.0721,  1.0118,  1.2507,  0.7381, -0.1641,  1.2392],\n",
              "        [-0.7809,  0.1459, -2.7896, -1.6401,  1.9034, -1.2799,  2.2027],\n",
              "        [-0.7678, -1.5774,  0.8857,  0.2117,  0.9074, -0.9237,  0.1675],\n",
              "        [-2.3758,  0.3130,  0.3988, -0.3359, -2.3012, -0.6675,  0.1027],\n",
              "        [-0.6531, -0.3888,  0.2083, -1.5376,  0.7577,  0.2895,  1.0553]])"
            ]
          },
          "metadata": {},
          "execution_count": 69
        }
      ]
    },
    {
      "cell_type": "markdown",
      "source": [
        "# [3. Perform a matrix multiplication on the tensor from 2 with another random tensor with shape(1,7) (hint: you may have to transpose the second tensor)](https://www.learnpytorch.io/00_pytorch_fundamentals/#exercises)"
      ],
      "metadata": {
        "id": "aTgM9yC7x4YT"
      }
    },
    {
      "cell_type": "code",
      "source": [
        "second_random_tensor = torch.randn(1, 7)\n",
        "second_random_tensor"
      ],
      "metadata": {
        "colab": {
          "base_uri": "https://localhost:8080/"
        },
        "id": "B8DdZJmux0Sd",
        "outputId": "35e7802b-bab2-4e91-d182-ae460571ac42"
      },
      "execution_count": 70,
      "outputs": [
        {
          "output_type": "execute_result",
          "data": {
            "text/plain": [
              "tensor([[-0.3082, -0.5727,  0.1038,  1.2601,  0.3893, -1.4318, -0.3652]])"
            ]
          },
          "metadata": {},
          "execution_count": 70
        }
      ]
    },
    {
      "cell_type": "code",
      "source": [
        "# multiplication\n",
        "#mul_tensor = torch.matmul(random_tensor, second_random_tensor) # generate error because of shape issue(mat1 and mat2 shapes cannot be multiplied (7x7 and 1x7))\n",
        "#mul_tensor"
      ],
      "metadata": {
        "id": "kNSzLEPVzQfT"
      },
      "execution_count": 71,
      "outputs": []
    },
    {
      "cell_type": "code",
      "source": [
        "# hence we have to transpose second_random_tensor to solve the issue\n",
        "transpose_of_second_random_tensor = second_random_tensor.T\n",
        "transpose_of_second_random_tensor"
      ],
      "metadata": {
        "colab": {
          "base_uri": "https://localhost:8080/"
        },
        "id": "E1fRUgg90Mj6",
        "outputId": "e7e4f2e9-79b8-4149-f5ae-0265bfb0c8d7"
      },
      "execution_count": 72,
      "outputs": [
        {
          "output_type": "execute_result",
          "data": {
            "text/plain": [
              "tensor([[-0.3082],\n",
              "        [-0.5727],\n",
              "        [ 0.1038],\n",
              "        [ 1.2601],\n",
              "        [ 0.3893],\n",
              "        [-1.4318],\n",
              "        [-0.3652]])"
            ]
          },
          "metadata": {},
          "execution_count": 72
        }
      ]
    },
    {
      "cell_type": "code",
      "source": [
        "# again try to multiplication\n",
        "mul_tensor = torch.matmul(random_tensor, transpose_of_second_random_tensor)\n",
        "mul_tensor"
      ],
      "metadata": {
        "colab": {
          "base_uri": "https://localhost:8080/"
        },
        "id": "XUbjwCeZ0qRZ",
        "outputId": "eb524ca0-42d5-46f6-b264-5dd2af1f430a"
      },
      "execution_count": 73,
      "outputs": [
        {
          "output_type": "execute_result",
          "data": {
            "text/plain": [
              "tensor([[-0.5460],\n",
              "        [-0.5652],\n",
              "        [ 1.7444],\n",
              "        [-0.4300],\n",
              "        [ 3.1133],\n",
              "        [ 0.1935],\n",
              "        [-1.9971]])"
            ]
          },
          "metadata": {},
          "execution_count": 73
        }
      ]
    },
    {
      "cell_type": "markdown",
      "source": [
        "#[4. Set the random seed to 0 and do exercises 2 & 3 over again.](https://www.learnpytorch.io/00_pytorch_fundamentals/#exercises)"
      ],
      "metadata": {
        "id": "c1aK9mVQ2DKp"
      }
    },
    {
      "cell_type": "code",
      "source": [
        "# set the manual seed\n",
        "torch.manual_seed(0)\n",
        "\n",
        "# create two random tensor\n",
        "X = torch.rand(size=(7, 7))\n",
        "Y = torch.rand(size=(1, 7))\n",
        "\n",
        "# Matrix multiply tensors\n",
        "Z = torch.matmul(X, Y.T)\n",
        "Z, Z.shape"
      ],
      "metadata": {
        "colab": {
          "base_uri": "https://localhost:8080/"
        },
        "id": "5r6iTgZA2ETK",
        "outputId": "fd0c9ae3-a2c5-42a4-8323-5a4d2397d862"
      },
      "execution_count": 74,
      "outputs": [
        {
          "output_type": "execute_result",
          "data": {
            "text/plain": [
              "(tensor([[1.8542],\n",
              "         [1.9611],\n",
              "         [2.2884],\n",
              "         [3.0481],\n",
              "         [1.7067],\n",
              "         [2.5290],\n",
              "         [1.7989]]),\n",
              " torch.Size([7, 1]))"
            ]
          },
          "metadata": {},
          "execution_count": 74
        }
      ]
    },
    {
      "cell_type": "markdown",
      "source": [
        "#[5. Speaking of random seeds, we saw how to set it with torch.manual_seed() but is there a GPU equivalent? (hint: you'll need to look into the documentation for torch.cuda for this one). If there is, set the GPU random seed to `1234`.](https://www.learnpytorch.io/00_pytorch_fundamentals/#exercises)"
      ],
      "metadata": {
        "id": "yZszLzMF3d6d"
      }
    },
    {
      "cell_type": "code",
      "source": [
        "# set the random seed on the GPU\n",
        "torch.cuda.manual_seed(1234)"
      ],
      "metadata": {
        "id": "w6kxLF3P06Iy"
      },
      "execution_count": 75,
      "outputs": []
    },
    {
      "cell_type": "markdown",
      "source": [
        "# [6. Create two random tensors of shape (2, 3) and send them both to the GPU (you'll need access to a GPU for this). Set torch.manual_seed(1234) when creating the tensors (this doesn't have to be the GPU random seed).](https://www.learnpytorch.io/00_pytorch_fundamentals/#exercises)"
      ],
      "metadata": {
        "id": "qAJZ9DO45Qks"
      }
    },
    {
      "cell_type": "code",
      "source": [
        "# set random seed\n",
        "torch.manual_seed(1234)\n",
        "\n",
        "# check for access to GPU\n",
        "device = \"cuda\" if torch.cuda.is_available() else \"cpu\"\n",
        "print(device)\n",
        "\n",
        "# create two random tensors on GPU\n",
        "tensor1 = torch.rand(2, 3).to(device)\n",
        "print(tensor1)\n",
        "tensor2 = torch.rand(2, 3).to(device)\n",
        "print(tensor2)\n",
        "\n"
      ],
      "metadata": {
        "colab": {
          "base_uri": "https://localhost:8080/"
        },
        "id": "gIR8lWS62F4o",
        "outputId": "cdb0de6a-5353-4612-b7d8-1c90b50b8f5a"
      },
      "execution_count": 76,
      "outputs": [
        {
          "output_type": "stream",
          "name": "stdout",
          "text": [
            "cuda\n",
            "tensor([[0.0290, 0.4019, 0.2598],\n",
            "        [0.3666, 0.0583, 0.7006]], device='cuda:0')\n",
            "tensor([[0.0518, 0.4681, 0.6738],\n",
            "        [0.3315, 0.7837, 0.5631]], device='cuda:0')\n"
          ]
        }
      ]
    },
    {
      "cell_type": "markdown",
      "source": [
        "# [7. Perform a matrix multiplication on the tensors you created in 6 (again, you may have to adjust the shapes of one of the tensors).](https://www.learnpytorch.io/00_pytorch_fundamentals/#exercises)"
      ],
      "metadata": {
        "id": "W34aJrhJ62Qk"
      }
    },
    {
      "cell_type": "code",
      "source": [
        "# transpose of second tensor(tensor2)\n",
        "transpose_of_tensor2 = tensor2.T\n",
        "print(transpose_of_tensor2.shape)\n",
        "\n",
        "# multiplication\n",
        "mul_tensor1_tensor2 = torch.matmul(tensor1, transpose_of_tensor2)\n",
        "mul_tensor1_tensor2, mul_tensor1_tensor2.shape"
      ],
      "metadata": {
        "colab": {
          "base_uri": "https://localhost:8080/"
        },
        "id": "YbWr4Yfs2F2Y",
        "outputId": "a45ed353-bea6-42f1-f3db-2ed82253f701"
      },
      "execution_count": 77,
      "outputs": [
        {
          "output_type": "stream",
          "name": "stdout",
          "text": [
            "torch.Size([3, 2])\n"
          ]
        },
        {
          "output_type": "execute_result",
          "data": {
            "text/plain": [
              "(tensor([[0.3647, 0.4709],\n",
              "         [0.5184, 0.5617]], device='cuda:0'),\n",
              " torch.Size([2, 2]))"
            ]
          },
          "metadata": {},
          "execution_count": 77
        }
      ]
    },
    {
      "cell_type": "markdown",
      "source": [
        "# [8. Find the maximum and minimum values of the output of exercise no. 7](https://www.learnpytorch.io/00_pytorch_fundamentals/#exercises)"
      ],
      "metadata": {
        "id": "p4NETdHZ8tcu"
      }
    },
    {
      "cell_type": "code",
      "source": [
        "# maximum\n",
        "max_of_mul_tensor1_tensor2 = torch.max(mul_tensor1_tensor2)\n",
        "print(max_of_mul_tensor1_tensor2)\n",
        "\n",
        "# minimum\n",
        "min_of_mul_tensor1_tensor2 = torch.min(mul_tensor1_tensor2)\n",
        "print(min_of_mul_tensor1_tensor2)"
      ],
      "metadata": {
        "colab": {
          "base_uri": "https://localhost:8080/"
        },
        "id": "7qReCG_E2Fz1",
        "outputId": "635df77b-84cb-432e-bea2-b58270094a5d"
      },
      "execution_count": 78,
      "outputs": [
        {
          "output_type": "stream",
          "name": "stdout",
          "text": [
            "tensor(0.5617, device='cuda:0')\n",
            "tensor(0.3647, device='cuda:0')\n"
          ]
        }
      ]
    },
    {
      "cell_type": "markdown",
      "source": [
        "# [9. Find the maximum and minimum index values of the output of exercise no. 7.](https://www.learnpytorch.io/00_pytorch_fundamentals/#exercises)"
      ],
      "metadata": {
        "id": "kYJwqQ9K9uZI"
      }
    },
    {
      "cell_type": "code",
      "source": [
        "#\n",
        "arg_max = torch.argmax(mul_tensor1_tensor2)\n",
        "\n",
        "arg_min = torch.argmin(mul_tensor1_tensor2)\n",
        "\n",
        "arg_max, arg_min"
      ],
      "metadata": {
        "colab": {
          "base_uri": "https://localhost:8080/"
        },
        "id": "xQt8mgpp2FxR",
        "outputId": "787a3c86-fa94-441f-e62d-981ace529c49"
      },
      "execution_count": 79,
      "outputs": [
        {
          "output_type": "execute_result",
          "data": {
            "text/plain": [
              "(tensor(3, device='cuda:0'), tensor(0, device='cuda:0'))"
            ]
          },
          "metadata": {},
          "execution_count": 79
        }
      ]
    },
    {
      "cell_type": "code",
      "source": [
        "mul_tensor1_tensor2"
      ],
      "metadata": {
        "colab": {
          "base_uri": "https://localhost:8080/"
        },
        "id": "xLiGzWrh2FsK",
        "outputId": "e33cc1ba-c14a-4b03-a3e3-96549d2d2b80"
      },
      "execution_count": 80,
      "outputs": [
        {
          "output_type": "execute_result",
          "data": {
            "text/plain": [
              "tensor([[0.3647, 0.4709],\n",
              "        [0.5184, 0.5617]], device='cuda:0')"
            ]
          },
          "metadata": {},
          "execution_count": 80
        }
      ]
    },
    {
      "cell_type": "markdown",
      "source": [
        "# [10. Make a random tensor with shape (1, 1, 1, 10) and then create a new tensor with all the 1 dimensions removed to be left with a tensor of shape (10). Set the seed to 7 when you create it and print out the first tensor and it's shape as well as the second tensor and it's shape.](https://www.learnpytorch.io/00_pytorch_fundamentals/#exercises)"
      ],
      "metadata": {
        "id": "9q3CxvSJNSdM"
      }
    },
    {
      "cell_type": "code",
      "source": [
        "# create random tensor\n",
        "torch.manual_seed(7)\n",
        "r_tensor = torch.rand(1, 1, 1, 10)\n",
        "print(r_tensor)\n",
        "print(r_tensor.shape)\n",
        "\n",
        "# remove the single dimensions\n",
        "new_tensor = torch.squeeze(r_tensor)\n",
        "print(new_tensor)\n",
        "print(new_tensor.shape)"
      ],
      "metadata": {
        "colab": {
          "base_uri": "https://localhost:8080/"
        },
        "id": "-fIVaYiq2FjS",
        "outputId": "74d5f08e-562e-434a-aab1-cbd6d4d1bf8a"
      },
      "execution_count": 82,
      "outputs": [
        {
          "output_type": "stream",
          "name": "stdout",
          "text": [
            "tensor([[[[0.5349, 0.1988, 0.6592, 0.6569, 0.2328, 0.4251, 0.2071, 0.6297,\n",
            "           0.3653, 0.8513]]]])\n",
            "torch.Size([1, 1, 1, 10])\n",
            "tensor([0.5349, 0.1988, 0.6592, 0.6569, 0.2328, 0.4251, 0.2071, 0.6297, 0.3653,\n",
            "        0.8513])\n",
            "torch.Size([10])\n"
          ]
        }
      ]
    },
    {
      "cell_type": "code",
      "source": [],
      "metadata": {
        "id": "Uq4oL-mO2FYZ"
      },
      "execution_count": 81,
      "outputs": []
    },
    {
      "cell_type": "code",
      "source": [],
      "metadata": {
        "id": "cxXJVnIm2FK0"
      },
      "execution_count": 81,
      "outputs": []
    }
  ]
}