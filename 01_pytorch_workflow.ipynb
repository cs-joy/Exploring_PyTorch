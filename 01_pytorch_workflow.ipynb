{
  "nbformat": 4,
  "nbformat_minor": 0,
  "metadata": {
    "colab": {
      "provenance": []
    },
    "kernelspec": {
      "name": "python3",
      "display_name": "Python 3"
    },
    "language_info": {
      "name": "python"
    }
  },
  "cells": [
    {
      "cell_type": "markdown",
      "source": [
        "# PyTorch Workflow\n",
        "\n",
        "Let's explore an example PyTorch end-to-end workflow"
      ],
      "metadata": {
        "id": "l0Z8FOc2-zYh"
      }
    },
    {
      "cell_type": "code",
      "execution_count": null,
      "metadata": {
        "colab": {
          "base_uri": "https://localhost:8080/"
        },
        "id": "viO58s2u-nVe",
        "outputId": "7ff9f04c-c47b-4dd0-8c5e-3bb585ec4331"
      },
      "outputs": [
        {
          "output_type": "execute_result",
          "data": {
            "text/plain": [
              "{1: 'data (prepare and load)',\n",
              " 2: 'build model',\n",
              " 3: 'fitting the model to data (training)',\n",
              " 4: 'making predictions and evaluating a model (inferences)',\n",
              " 5: 'saving and loading a model',\n",
              " 6: 'putting it all together'}"
            ]
          },
          "metadata": {},
          "execution_count": 1
        }
      ],
      "source": [
        "what_we_are_covering = {\n",
        "    1: \"data (prepare and load)\",\n",
        "    2: \"build model\",\n",
        "    3: \"fitting the model to data (training)\",\n",
        "    4: \"making predictions and evaluating a model (inferences)\",\n",
        "    5: \"saving and loading a model\",\n",
        "    6: \"putting it all together\"\n",
        "}\n",
        "\n",
        "what_we_are_covering"
      ]
    },
    {
      "cell_type": "code",
      "source": [
        "import torch\n",
        "from torch import nn # nn contains all of PyTorch's building blocks for neural networks # https://pytorch.org/docs/stable/nn.html\n",
        "\n",
        "import matplotlib.pyplot as plt"
      ],
      "metadata": {
        "id": "36Kd13bxA-Pv"
      },
      "execution_count": null,
      "outputs": []
    },
    {
      "cell_type": "code",
      "source": [
        "torch.__version__"
      ],
      "metadata": {
        "colab": {
          "base_uri": "https://localhost:8080/",
          "height": 35
        },
        "id": "OFjpAyEJBgRw",
        "outputId": "a72cc227-d976-4c86-8933-1679da09a713"
      },
      "execution_count": null,
      "outputs": [
        {
          "output_type": "execute_result",
          "data": {
            "text/plain": [
              "'2.2.1+cu121'"
            ],
            "application/vnd.google.colaboratory.intrinsic+json": {
              "type": "string"
            }
          },
          "metadata": {},
          "execution_count": 3
        }
      ]
    },
    {
      "cell_type": "markdown",
      "source": [
        "## 1. Data (preparing and loading)\n",
        "\n",
        "Data can be almost anything... in machine learning\n",
        "\n",
        "* Excel spreadsheet\n",
        "* Images of any kind\n",
        "* Videos (YouTube has lots of data...)\n",
        "* Audio like songs or podcasts\n",
        "* DNA\n",
        "* Text\n",
        "\n",
        "Machine learning is game of two parts:\n",
        "1. Get data into a numerical representation\n",
        "2. Build a model to learn patterns in that numerical representation.\n",
        "\n",
        "To showcase this, let's create some *known* data using the linear regression formula.\n",
        "\n",
        "We will use a linear regression formula to make a straight line with *known* **parameters**."
      ],
      "metadata": {
        "id": "R8panYCdB7eg"
      }
    },
    {
      "cell_type": "code",
      "source": [
        "# Create *known* parameters\n",
        "weight = 0.7\n",
        "bias = 0.3\n",
        "\n",
        "# Create a range of numbers\n",
        "start = 0\n",
        "end  = 1\n",
        "step = 0.02\n",
        "X = torch.arange(start, end, step).unsqueeze(dim=1)\n",
        "y = bias + weight * X # y = a + b*x\n",
        "\n",
        "X[:10], y[:10]"
      ],
      "metadata": {
        "colab": {
          "base_uri": "https://localhost:8080/"
        },
        "id": "AamrbidVBzFI",
        "outputId": "5f340b5a-6939-42a0-a9d2-199e0580c449"
      },
      "execution_count": null,
      "outputs": [
        {
          "output_type": "execute_result",
          "data": {
            "text/plain": [
              "(tensor([[0.0000],\n",
              "         [0.0200],\n",
              "         [0.0400],\n",
              "         [0.0600],\n",
              "         [0.0800],\n",
              "         [0.1000],\n",
              "         [0.1200],\n",
              "         [0.1400],\n",
              "         [0.1600],\n",
              "         [0.1800]]),\n",
              " tensor([[0.3000],\n",
              "         [0.3140],\n",
              "         [0.3280],\n",
              "         [0.3420],\n",
              "         [0.3560],\n",
              "         [0.3700],\n",
              "         [0.3840],\n",
              "         [0.3980],\n",
              "         [0.4120],\n",
              "         [0.4260]]))"
            ]
          },
          "metadata": {},
          "execution_count": 3
        }
      ]
    },
    {
      "cell_type": "code",
      "source": [
        "len(X), len(y)"
      ],
      "metadata": {
        "colab": {
          "base_uri": "https://localhost:8080/"
        },
        "id": "becl1xxPJ30_",
        "outputId": "e8c392d9-6427-405a-8231-89f6af6fa879"
      },
      "execution_count": null,
      "outputs": [
        {
          "output_type": "execute_result",
          "data": {
            "text/plain": [
              "(50, 50)"
            ]
          },
          "metadata": {},
          "execution_count": 5
        }
      ]
    },
    {
      "cell_type": "markdown",
      "source": [
        "### Splitting data into training and test sets (one of the most important conceptsw in machine learning in general)\n",
        "\n",
        "Let's create a training and test set with our data."
      ],
      "metadata": {
        "id": "205Z_Y9vNyK9"
      }
    },
    {
      "cell_type": "code",
      "source": [
        "# Create a train/test split\n",
        "train_split = int(0.8 * len(X))\n",
        "#train_split # 40\n",
        "X_train, y_train = X[:train_split], y[:train_split]\n",
        "X_test, y_test = X[train_split:], y[train_split:]\n",
        "\n",
        "len(X_train), len(y_train), len(X_test), len(y_test)"
      ],
      "metadata": {
        "colab": {
          "base_uri": "https://localhost:8080/"
        },
        "id": "ciKiN8vqKB91",
        "outputId": "51cea3a9-3b84-4e2b-eeaf-c6222c520086"
      },
      "execution_count": null,
      "outputs": [
        {
          "output_type": "execute_result",
          "data": {
            "text/plain": [
              "(40, 40, 10, 10)"
            ]
          },
          "metadata": {},
          "execution_count": 4
        }
      ]
    },
    {
      "cell_type": "code",
      "source": [
        "X_train, y_train"
      ],
      "metadata": {
        "colab": {
          "base_uri": "https://localhost:8080/"
        },
        "id": "Iwj5U9RxOA5r",
        "outputId": "da2207e4-770d-40b7-b2a2-b34fb23c36d4"
      },
      "execution_count": null,
      "outputs": [
        {
          "output_type": "execute_result",
          "data": {
            "text/plain": [
              "(tensor([[0.0000],\n",
              "         [0.0200],\n",
              "         [0.0400],\n",
              "         [0.0600],\n",
              "         [0.0800],\n",
              "         [0.1000],\n",
              "         [0.1200],\n",
              "         [0.1400],\n",
              "         [0.1600],\n",
              "         [0.1800],\n",
              "         [0.2000],\n",
              "         [0.2200],\n",
              "         [0.2400],\n",
              "         [0.2600],\n",
              "         [0.2800],\n",
              "         [0.3000],\n",
              "         [0.3200],\n",
              "         [0.3400],\n",
              "         [0.3600],\n",
              "         [0.3800],\n",
              "         [0.4000],\n",
              "         [0.4200],\n",
              "         [0.4400],\n",
              "         [0.4600],\n",
              "         [0.4800],\n",
              "         [0.5000],\n",
              "         [0.5200],\n",
              "         [0.5400],\n",
              "         [0.5600],\n",
              "         [0.5800],\n",
              "         [0.6000],\n",
              "         [0.6200],\n",
              "         [0.6400],\n",
              "         [0.6600],\n",
              "         [0.6800],\n",
              "         [0.7000],\n",
              "         [0.7200],\n",
              "         [0.7400],\n",
              "         [0.7600],\n",
              "         [0.7800]]),\n",
              " tensor([[0.3000],\n",
              "         [0.3140],\n",
              "         [0.3280],\n",
              "         [0.3420],\n",
              "         [0.3560],\n",
              "         [0.3700],\n",
              "         [0.3840],\n",
              "         [0.3980],\n",
              "         [0.4120],\n",
              "         [0.4260],\n",
              "         [0.4400],\n",
              "         [0.4540],\n",
              "         [0.4680],\n",
              "         [0.4820],\n",
              "         [0.4960],\n",
              "         [0.5100],\n",
              "         [0.5240],\n",
              "         [0.5380],\n",
              "         [0.5520],\n",
              "         [0.5660],\n",
              "         [0.5800],\n",
              "         [0.5940],\n",
              "         [0.6080],\n",
              "         [0.6220],\n",
              "         [0.6360],\n",
              "         [0.6500],\n",
              "         [0.6640],\n",
              "         [0.6780],\n",
              "         [0.6920],\n",
              "         [0.7060],\n",
              "         [0.7200],\n",
              "         [0.7340],\n",
              "         [0.7480],\n",
              "         [0.7620],\n",
              "         [0.7760],\n",
              "         [0.7900],\n",
              "         [0.8040],\n",
              "         [0.8180],\n",
              "         [0.8320],\n",
              "         [0.8460]]))"
            ]
          },
          "metadata": {},
          "execution_count": 5
        }
      ]
    },
    {
      "cell_type": "markdown",
      "source": [
        "How might we better visualize our data\n",
        "\n",
        "This is where the data explorer's motto comes in!\n",
        "\n",
        "\"Visualize, Visualize, Visualize!\""
      ],
      "metadata": {
        "id": "hM4i2hO2PwGO"
      }
    },
    {
      "cell_type": "code",
      "source": [
        "def plot_predictions(train_data=X_train,\n",
        "                     train_labels=y_train,\n",
        "                     test_data=X_test,\n",
        "                     test_labels=y_test,\n",
        "                     predictions=None):\n",
        "  \"\"\"\n",
        "  Plot training data, test data and compares predictions.\n",
        "  \"\"\"\n",
        "  # Plot training data in blue\n",
        "  plt.scatter(train_data, train_labels, c=\"b\", s=4, label=\"Training Data\")\n",
        "\n",
        "  # Plot  test data in green\n",
        "  plt.scatter(test_data, test_labels, c=\"g\", s=4, label=\"Test Data\")\n",
        "\n",
        "  # Are there predictions?\n",
        "  if predictions is not None:\n",
        "    # Plot the predictions if they exist\n",
        "    plt.scatter(test_data, predictions, c=\"r\", s=4, label=\"Predictions\")\n",
        "\n",
        "  # Show the legend\n",
        "  plt.legend(prop={\"size\": 14})"
      ],
      "metadata": {
        "id": "Gyb73PzmPH1S"
      },
      "execution_count": null,
      "outputs": []
    },
    {
      "cell_type": "code",
      "source": [
        "plot_predictions();"
      ],
      "metadata": {
        "colab": {
          "base_uri": "https://localhost:8080/",
          "height": 430
        },
        "id": "ctvhabsIQgEk",
        "outputId": "fd561dce-dec4-4d17-9881-d1887cdf0f93"
      },
      "execution_count": null,
      "outputs": [
        {
          "output_type": "display_data",
          "data": {
            "text/plain": [
              "<Figure size 640x480 with 1 Axes>"
            ],
            "image/png": "[encoded data removed]"
          },
          "metadata": {}
        }
      ]
    },
    {
      "cell_type": "markdown",
      "source": [
        "## 2. Build model\n",
        "\n",
        "Our first PyTorch model\n",
        "\n",
        "This is very exciting... let's do it\n",
        "\n",
        "# [Learn from Python OOP](https://realpython.com/python3-object-oriented-programming/)\n",
        "\n",
        "\n",
        "What are model does:\n",
        "* Start with random values (wights and bias)\n",
        "* Look at training data and adjust the random values to better represent (or get close to) the ideal values (the weight and bias values used to create the data)\n",
        "\n",
        "How does it do so?\n",
        "Throught two main algorithms\n",
        "1. Gradient descent : https://www.youtube.com/watch?v=IHZwWFHWa-w\n",
        "2. Backpropagation : https://www.youtube.com/watch?v=Ilg3gGewQ5U"
      ],
      "metadata": {
        "id": "U51c2SEWOJFt"
      }
    },
    {
      "cell_type": "code",
      "source": [
        "from torch import nn\n",
        "\n",
        "# Create a linear regression model class\n",
        "class LinearRegressionModel(nn.Module): # -> https://pytorch.org/docs/stable/generated/torch.nn.Module.html\n",
        "  def __init__(self):\n",
        "    super().__init__()\n",
        "    self.weights = nn.Parameter(torch.randn(1, requires_grad=True, dtype=float))\n",
        "    self.bias = nn.Parameter(torch.rand(1, requires_grad=True, dtype=float))\n",
        "\n",
        "  # Forward method to define the computation in the model\n",
        "  def forward(self, x: torch.Tensor) -> torch.Tensor: # \"x\" is the input data\n",
        "    return self.weights * x + self.bias # this is the linear regression formula"
      ],
      "metadata": {
        "id": "p9s8orRuMdKd"
      },
      "execution_count": null,
      "outputs": []
    },
    {
      "cell_type": "markdown",
      "source": [
        "# PyTorch model buidling essential\n",
        "\n",
        "* `torch.nn` - contains all of the buildings for computational graphs (a neural network can be considered a computational graph)\n",
        "* `torch.nn.Parameter` - what parameters should our model try and learn, often a PyTorch layer from `torch.nn` will set these for us\n",
        "* `torch.nn.Module` - The base class for all neural network modules, if you subclass it, you should overwrite `forward()`\n",
        "* `torch.optim` - this where the optimizers in PyTorch live, they will help with gradient descent\n",
        "* `def forward()` - All `nn.Module` subclasses require you to overwrite `forward()`, this method defines what happens in the forward computation"
      ],
      "metadata": {
        "id": "50hZ-XLdJvOR"
      }
    },
    {
      "cell_type": "markdown",
      "source": [
        "# [PyTorch CheatSheet](https://pytorch.org/tutorials/beginner/ptcheat.html)"
      ],
      "metadata": {
        "id": "mb0GLv_odZFQ"
      }
    },
    {
      "cell_type": "markdown",
      "source": [
        "### Check the contents of our PyTorch model\n",
        "\n",
        "Now we've created a model, let's see what's inside...\n",
        "\n",
        "So we can check our model parameters or what's inside our model using `.parameters()`"
      ],
      "metadata": {
        "id": "iae3JFrcJqDI"
      }
    },
    {
      "cell_type": "code",
      "source": [
        "# Create a random seed\n",
        "torch.manual_seed(42)\n",
        "\n",
        "# Create an instance of the model (this is a subclass of nn.Module)\n",
        "model_0 = LinearRegressionModel()\n",
        "\n",
        "# model_0\n",
        "# model_0.parameters()\n",
        "list(model_0.parameters())"
      ],
      "metadata": {
        "id": "BNcBD3_HDzlO",
        "colab": {
          "base_uri": "https://localhost:8080/"
        },
        "outputId": "27e16df0-21e1-4775-9ad8-622683247c71"
      },
      "execution_count": null,
      "outputs": [
        {
          "output_type": "execute_result",
          "data": {
            "text/plain": [
              "[Parameter containing:\n",
              " tensor([0.3367], dtype=torch.float64, requires_grad=True),\n",
              " Parameter containing:\n",
              " tensor([0.1236], dtype=torch.float64, requires_grad=True)]"
            ]
          },
          "metadata": {},
          "execution_count": 9
        }
      ]
    },
    {
      "cell_type": "code",
      "source": [
        "# List named parameters\n",
        "model_0.state_dict() # return dictionary of the parameters of our model (LinearRegressionModel)"
      ],
      "metadata": {
        "id": "p_rYcawYD25u",
        "colab": {
          "base_uri": "https://localhost:8080/"
        },
        "outputId": "edeb844a-39bd-4ac3-b9ad-c8fc53350e8f"
      },
      "execution_count": null,
      "outputs": [
        {
          "output_type": "execute_result",
          "data": {
            "text/plain": [
              "OrderedDict([('weights', tensor([0.3367], dtype=torch.float64)),\n",
              "             ('bias', tensor([0.1236], dtype=torch.float64))])"
            ]
          },
          "metadata": {},
          "execution_count": 10
        }
      ]
    },
    {
      "cell_type": "markdown",
      "source": [
        "### Making prediction using `torch.inference_mode()`\n",
        "\n",
        "To check our model's predictive power, let's see how it well ut predicts `y_test` based on `X_test`.\n",
        "\n",
        "When we pass data through our model, it's going to run it through the `forward()` method."
      ],
      "metadata": {
        "id": "cFyxjJK9ORhR"
      }
    },
    {
      "cell_type": "code",
      "source": [
        "X_test, y_test"
      ],
      "metadata": {
        "colab": {
          "base_uri": "https://localhost:8080/"
        },
        "id": "F_DU2zi4Qabw",
        "outputId": "84ff71ab-7787-4c65-f3fa-6d76d5236a7c"
      },
      "execution_count": null,
      "outputs": [
        {
          "output_type": "execute_result",
          "data": {
            "text/plain": [
              "(tensor([[0.8000],\n",
              "         [0.8200],\n",
              "         [0.8400],\n",
              "         [0.8600],\n",
              "         [0.8800],\n",
              "         [0.9000],\n",
              "         [0.9200],\n",
              "         [0.9400],\n",
              "         [0.9600],\n",
              "         [0.9800]]),\n",
              " tensor([[0.8600],\n",
              "         [0.8740],\n",
              "         [0.8880],\n",
              "         [0.9020],\n",
              "         [0.9160],\n",
              "         [0.9300],\n",
              "         [0.9440],\n",
              "         [0.9580],\n",
              "         [0.9720],\n",
              "         [0.9860]]))"
            ]
          },
          "metadata": {},
          "execution_count": 13
        }
      ]
    },
    {
      "cell_type": "code",
      "source": [
        "# with our using `inference_mode()` method\n",
        "y_preds = model_0(X_test)\n",
        "y_preds"
      ],
      "metadata": {
        "colab": {
          "base_uri": "https://localhost:8080/"
        },
        "id": "jCPkqDi6Xu69",
        "outputId": "045705eb-68c1-49b0-d34b-d7d92a4bd296"
      },
      "execution_count": null,
      "outputs": [
        {
          "output_type": "execute_result",
          "data": {
            "text/plain": [
              "tensor([[0.3929],\n",
              "        [0.3997],\n",
              "        [0.4064],\n",
              "        [0.4131],\n",
              "        [0.4199],\n",
              "        [0.4266],\n",
              "        [0.4333],\n",
              "        [0.4401],\n",
              "        [0.4468],\n",
              "        [0.4535]], dtype=torch.float64, grad_fn=<AddBackward0>)"
            ]
          },
          "metadata": {},
          "execution_count": 14
        }
      ]
    },
    {
      "cell_type": "code",
      "source": [
        "# Make predictions with model\n",
        "\n",
        "'''\n",
        "## You can also do something similar with `torch.no_grad(), however `torch.inference_mode()` if preferred.\n",
        "\n",
        "with torch.no_grad():\n",
        "  y_preds = model_0(X_test)\n",
        "\n",
        "y_preds\n",
        "'''\n",
        "\n",
        "with torch.inference_mode(): # `torch.inference_mode()` disable to calculate or track `grad`\n",
        "  y_preds = model_0(X_test)\n",
        "\n",
        "y_preds\n"
      ],
      "metadata": {
        "colab": {
          "base_uri": "https://localhost:8080/"
        },
        "id": "4W__FMroXID1",
        "outputId": "4c75e5e9-cad5-4ecb-9cdf-9efe8cb82f50"
      },
      "execution_count": null,
      "outputs": [
        {
          "output_type": "execute_result",
          "data": {
            "text/plain": [
              "tensor([[0.3929],\n",
              "        [0.3997],\n",
              "        [0.4064],\n",
              "        [0.4131],\n",
              "        [0.4199],\n",
              "        [0.4266],\n",
              "        [0.4333],\n",
              "        [0.4401],\n",
              "        [0.4468],\n",
              "        [0.4535]], dtype=torch.float64)"
            ]
          },
          "metadata": {},
          "execution_count": 15
        }
      ]
    },
    {
      "cell_type": "markdown",
      "source": [
        "See more on inference mode here - https://twitter.com/PyTorch/status/1437838231505096708?lang=en"
      ],
      "metadata": {
        "id": "vqvz1wKpYhel"
      }
    },
    {
      "cell_type": "code",
      "source": [
        "# let's look at the `y_test`\n",
        "y_test"
      ],
      "metadata": {
        "colab": {
          "base_uri": "https://localhost:8080/"
        },
        "id": "h5oTmeeLQVoF",
        "outputId": "be6277e6-5572-4239-8864-c9d01984f25c"
      },
      "execution_count": null,
      "outputs": [
        {
          "output_type": "execute_result",
          "data": {
            "text/plain": [
              "tensor([[0.8600],\n",
              "        [0.8740],\n",
              "        [0.8880],\n",
              "        [0.9020],\n",
              "        [0.9160],\n",
              "        [0.9300],\n",
              "        [0.9440],\n",
              "        [0.9580],\n",
              "        [0.9720],\n",
              "        [0.9860]])"
            ]
          },
          "metadata": {},
          "execution_count": 16
        }
      ]
    },
    {
      "cell_type": "code",
      "source": [
        "# visualize\n",
        "plot_predictions(predictions=y_preds)"
      ],
      "metadata": {
        "colab": {
          "base_uri": "https://localhost:8080/",
          "height": 430
        },
        "id": "mye91Y0mS1aO",
        "outputId": "d9c600a1-cde0-41a6-9c33-6300fc046a05"
      },
      "execution_count": null,
      "outputs": [
        {
          "output_type": "display_data",
          "data": {
            "text/plain": [
              "<Figure size 640x480 with 1 Axes>"
            ],
            "image/png": "[encoded data removed]"
          },
          "metadata": {}
        }
      ]
    },
    {
      "cell_type": "markdown",
      "source": [
        "## 3. Train model\n",
        "\n",
        "The whole idea of training is for a model to move from some *unknown* parameters (these maybe random) to some *known* parameters.\n",
        "\n",
        "Or in other words, from a poor representation of the data to a better representation of the data.\n",
        "\n",
        "\n",
        "One way to measure how poor or how wrong your models predictions are is to use a [**loss functions**](https://pytorch.org/docs/stable/nn.html#loss-functions)\n",
        "\n",
        "* Note: Loss function maybe also be called cost function or criterion in different areas. For our case, we're going to refer to it as a loss function.\n",
        "\n",
        "\n",
        "Things we need to train::\n",
        "\n",
        "* [**Loss Function:**](https://pytorch.org/docs/stable/generated/torch.nn.L1Loss.html#torch.nn.L1Loss) A function to measure how wrong your model predictions are to the ideal outputs, lower is better.\n",
        "\n",
        "* [**Optimizer:**](https://pytorch.org/docs/stable/optim.html) Takes into account the loss of a model and adjusts the model's parameter's (e.g. weight and bias in our case) to improve the `loss function`.\n",
        "  * `params`: the model parameters you'd like to optimize of example `params=model_0.parameters()`\n",
        "  * `lr` (learning rate): the learning rate is a hyperparameter that defines how big/small the optimizer changes the parameters with each step (a small `lr` results in small changes, a large `lr` results in large changes)\n",
        "\n",
        "And specifically for PyTorch, we need:\n",
        "* A training loop\n",
        "* A testing loop"
      ],
      "metadata": {
        "id": "PK-tXyx3Q9ky"
      }
    },
    {
      "cell_type": "code",
      "source": [
        "list(model_0.parameters())"
      ],
      "metadata": {
        "colab": {
          "base_uri": "https://localhost:8080/"
        },
        "id": "XPgO6vzBU4pU",
        "outputId": "3e17bc98-a9ae-4f21-92ac-f64bf59a2418"
      },
      "execution_count": null,
      "outputs": [
        {
          "output_type": "execute_result",
          "data": {
            "text/plain": [
              "[Parameter containing:\n",
              " tensor([0.3367], dtype=torch.float64, requires_grad=True),\n",
              " Parameter containing:\n",
              " tensor([0.1236], dtype=torch.float64, requires_grad=True)]"
            ]
          },
          "metadata": {},
          "execution_count": 18
        }
      ]
    },
    {
      "cell_type": "code",
      "source": [
        "# Check out our model's parameters (a parameters is a value that the model sets itself)\n",
        "model_0.state_dict()"
      ],
      "metadata": {
        "id": "MI-LWfU5TWHk",
        "colab": {
          "base_uri": "https://localhost:8080/"
        },
        "outputId": "9575f56b-2a5a-459e-f606-6beeaba440e9"
      },
      "execution_count": null,
      "outputs": [
        {
          "output_type": "execute_result",
          "data": {
            "text/plain": [
              "OrderedDict([('weights', tensor([0.3367], dtype=torch.float64)),\n",
              "             ('bias', tensor([0.1236], dtype=torch.float64))])"
            ]
          },
          "metadata": {},
          "execution_count": 19
        }
      ]
    },
    {
      "cell_type": "markdown",
      "source": [
        "#### Extra Curriculum\n",
        "**Reading** the documentation:\n",
        "* https://pytorch.org/docs/stable/generated/torch.nn.L1Loss.html#torch.nn.L1Loss\n",
        "* https://pytorch.org/docs/stable/optim.html"
      ],
      "metadata": {
        "id": "syjU0IyZXUUv"
      }
    },
    {
      "cell_type": "markdown",
      "source": [
        "* Note:\n",
        "  * the small of the learning rate (lr), the small of the change in parameter\n",
        "  * the larger of the learning rate (lr), the larger of the change in parameter"
      ],
      "metadata": {
        "id": "DArQOHeCdrnH"
      }
    },
    {
      "cell_type": "code",
      "source": [
        "# Setup a loss function\n",
        "loss_fn = nn.L1Loss()\n",
        "\n",
        "# Setup an optimizer (stochastic gradient descent) #https://pytorch.org/docs/stable/generated/torch.optim.SGD.html#torch.optim.SGD\n",
        "optimizer = torch.optim.SGD(params=model_0.parameters(),\n",
        "                            lr= 0.01) # lr = learning rate = possibly the most important hyperparameter you can set\n"
      ],
      "metadata": {
        "id": "2PpMaNkuUU4T"
      },
      "execution_count": null,
      "outputs": []
    },
    {
      "cell_type": "markdown",
      "source": [
        "**Q:** Which loss function and optimizer should i use?\n",
        "\n",
        "**A:** This will problem specific. But with experience, you will get an idea of what works and what doesn't with yoour particular problem set.\n",
        "\n",
        "For examle, for a Regression problem (like ours), a loss function of `nn.L1Loss()` and an optimizer like `torch.optim.SGD()` will suffice.\n",
        "\n",
        "But for a classification problem like classifying whether a photo is of dog or a cat, you'll likely want to use a loss function of `nn.BCELoss()` (binary cross entropy loss)."
      ],
      "metadata": {
        "id": "gPhQZQOsgAsw"
      }
    },
    {
      "cell_type": "markdown",
      "source": [
        "### Building a training loop (and a testing loop) in PyTorch\n",
        "\n",
        "A couple of things we need in a training loop:\n",
        "0. Loop through the data and do...\n",
        "1. Forward pass (this involves data moving through our model's `forward()` functions) to make some predictions on data - also called forward propagation\n",
        "2. Calculate the loss (compare forward pass predictions to ground truth labels)\n",
        "3. Optimizer zero grad\n",
        "4. Loss backward - move backwards through the network to calculate the gradients of each of the parameters of our model with respect to the loss (**backpropagation** - https://www.youtube.com/watch?v=tIeHLnjs5U8)\n",
        "5. Optimizer step - use the optimizer to adjust our model's parameters to try and improve the loss (**gradient descent** - https://www.youtube.com/watch?v=IHZwWFHWa-w)"
      ],
      "metadata": {
        "id": "wTlFsGsBuugI"
      }
    },
    {
      "cell_type": "code",
      "source": [
        "list(model_0.parameters()) # in the model we build future, likely be set automatically rather than you setting them explicitly, like we've done when you create `model_0`"
      ],
      "metadata": {
        "colab": {
          "base_uri": "https://localhost:8080/"
        },
        "id": "ffL_UtEAx_4H",
        "outputId": "f82222c0-c3a8-4d5c-c857-f574f1371134"
      },
      "execution_count": null,
      "outputs": [
        {
          "output_type": "execute_result",
          "data": {
            "text/plain": [
              "[Parameter containing:\n",
              " tensor([0.3367], dtype=torch.float64, requires_grad=True),\n",
              " Parameter containing:\n",
              " tensor([0.1236], dtype=torch.float64, requires_grad=True)]"
            ]
          },
          "metadata": {},
          "execution_count": 21
        }
      ]
    },
    {
      "cell_type": "code",
      "source": [
        "torch.manual_seed(42)\n",
        "\n",
        "# An epoch is one loop through the data... (this is a hyper parameter because we've set it ourselves )\n",
        "epochs = 1\n",
        "\n",
        "### Training\n",
        "# 0. Loop through the data\n",
        "for epoch in range(epochs):\n",
        "  # Set the model to training mode\n",
        "  model_0.train() # train mode in PyTorch sets all parameters that requires graidents to require gradients\n",
        "\n",
        "  # 1. Forward pass\n",
        "  y_pred = model_0(X_train)\n",
        "\n",
        "  # 2. Calulcate the loos\n",
        "  loss = loss_fn(y_pred, y_train) # torch.L1Loss(input, target)\n",
        "  print(f\"Loss: {loss}\")\n",
        "\n",
        "  # 3. Optimizer zero grad\n",
        "  optimizer.zero_grad()\n",
        "\n",
        "  # 4. Performn backpropagation on the loss wioth respect to the parameters of the model\n",
        "  loss.backward()\n",
        "\n",
        "  # 5. Step the optimizert (perform gradient descent)\n",
        "  optimizer.step() # by default how the optimizer changes will accumulate through the loop, so... we have to zero them in step 3 for the next iteration of the loop\n",
        "\n",
        "  ### Testing\n",
        "  model_0.eval() # `eval()` sets the PyTorch model to evaluation mode, disabling operations like dropout, useful for inference and testing. This method plays a pivotal role in ensuring consistent and reliable model behavior during inference and testing.\n",
        "\n",
        "print(model_0.state_dict())\n"
      ],
      "metadata": {
        "colab": {
          "base_uri": "https://localhost:8080/"
        },
        "id": "lzjmQBm5ZIOT",
        "outputId": "ec7c0a47-60df-4ef0-f7b8-162155eb42a0"
      },
      "execution_count": null,
      "outputs": [
        {
          "output_type": "stream",
          "name": "stdout",
          "text": [
            "Loss: 0.31810468919973606\n",
            "OrderedDict([('weights', tensor([0.3406], dtype=torch.float64)), ('bias', tensor([0.1336], dtype=torch.float64))])\n"
          ]
        }
      ]
    },
    {
      "cell_type": "code",
      "source": [
        "'''\n",
        "#### practice\n",
        "\n",
        "epochs = 10\n",
        "for epoch in range(epochs):\n",
        "  # set the model in training mode\n",
        "  model_0.train()\n",
        "\n",
        "  # 1. Forward pass\n",
        "  y_pred = model_0(X_train)\n",
        "\n",
        "  # 2. Calculate the loss\n",
        "  loss = loss_fn(y_pred, y_train)\n",
        "\n",
        "  # 3. Optimizer zero grid\n",
        "  optimizer.zero_grad()\n",
        "\n",
        "  # 4. backward\n",
        "  loss.backward()\n",
        "\n",
        "  # 5. Optimizer step\n",
        "  optimizer.step()\n",
        "\n",
        "  # Testing\n",
        "  model_0.eval()\n",
        "'''"
      ],
      "metadata": {
        "id": "pqw0ZY1hZJvX",
        "colab": {
          "base_uri": "https://localhost:8080/",
          "height": 71
        },
        "outputId": "35b35df9-e006-4619-90b7-abd80a8ca5b6"
      },
      "execution_count": null,
      "outputs": [
        {
          "output_type": "execute_result",
          "data": {
            "text/plain": [
              "'\\n#### practice\\n\\nepochs = 10\\nfor epoch in range(epochs):\\n  # set the model in training mode\\n  model_0.train()\\n\\n  # 1. Forward pass\\n  y_pred = model_0(X_train)\\n\\n  # 2. Calculate the loss\\n  loss = loss_fn(y_pred, y_train)\\n\\n  # 3. Optimizer zero grid\\n  optimizer.zero_grad()\\n\\n  # 4. backward\\n  loss.backward()\\n\\n  # 5. Optimizer step\\n  optimizer.step()\\n\\n  # Testing\\n  model_0.eval()\\n'"
            ],
            "application/vnd.google.colaboratory.intrinsic+json": {
              "type": "string"
            }
          },
          "metadata": {},
          "execution_count": 23
        }
      ]
    },
    {
      "cell_type": "code",
      "source": [
        "model_0.state_dict()"
      ],
      "metadata": {
        "colab": {
          "base_uri": "https://localhost:8080/"
        },
        "id": "kYY79BH3OVXF",
        "outputId": "e2556c4b-df55-45a9-cefc-1ee524ddaa4b"
      },
      "execution_count": null,
      "outputs": [
        {
          "output_type": "execute_result",
          "data": {
            "text/plain": [
              "OrderedDict([('weights', tensor([0.3406], dtype=torch.float64)),\n",
              "             ('bias', tensor([0.1336], dtype=torch.float64))])"
            ]
          },
          "metadata": {},
          "execution_count": 24
        }
      ]
    },
    {
      "cell_type": "code",
      "source": [
        "with torch.inference_mode():\n",
        "  y_preds_new = model_0(X_test)"
      ],
      "metadata": {
        "id": "saRmPfu0On-H"
      },
      "execution_count": null,
      "outputs": []
    },
    {
      "cell_type": "code",
      "source": [
        "plot_predictions(predictions=y_preds)"
      ],
      "metadata": {
        "colab": {
          "base_uri": "https://localhost:8080/",
          "height": 430
        },
        "id": "peaLyJIQQZ9C",
        "outputId": "047b398a-9c3b-402f-b6e5-cd87179ad164"
      },
      "execution_count": null,
      "outputs": [
        {
          "output_type": "display_data",
          "data": {
            "text/plain": [
              "<Figure size 640x480 with 1 Axes>"
            ],
            "image/png": "[encoded data removed]"
          },
          "metadata": {}
        }
      ]
    },
    {
      "cell_type": "code",
      "source": [
        "plot_predictions(predictions=y_preds_new)"
      ],
      "metadata": {
        "colab": {
          "base_uri": "https://localhost:8080/",
          "height": 430
        },
        "id": "DvZpAf0OQeMn",
        "outputId": "a8ea81bd-da17-478b-8e11-b068c3645d2c"
      },
      "execution_count": null,
      "outputs": [
        {
          "output_type": "display_data",
          "data": {
            "text/plain": [
              "<Figure size 640x480 with 1 Axes>"
            ],
            "image/png": "[encoded data removed]"
          },
          "metadata": {}
        }
      ]
    },
    {
      "cell_type": "code",
      "source": [],
      "metadata": {
        "id": "0_fxJjRzQlCg"
      },
      "execution_count": null,
      "outputs": []
    },
    {
      "cell_type": "markdown",
      "source": [
        "### Practice"
      ],
      "metadata": {
        "id": "AttCppt7R5cU"
      }
    },
    {
      "cell_type": "code",
      "source": [
        "torch.manual_seed(42)\n",
        "epochs = 100\n",
        "for epoch in range(epochs):\n",
        "  # set the model in training mode\n",
        "  model_0.train()\n",
        "\n",
        "  # 1. Forward pass\n",
        "  y_pred = model_0(X_train)\n",
        "\n",
        "  # 2. Calculate the loss\n",
        "  loss = loss_fn(y_pred, y_train)\n",
        "\n",
        "  print(f\"Loss: {loss}\")\n",
        "\n",
        "  # 3. Optimizer zero grid\n",
        "  optimizer.zero_grad()\n",
        "\n",
        "  # 4. backward\n",
        "  loss.backward()\n",
        "\n",
        "  # 5. Optimizer step\n",
        "  optimizer.step()\n",
        "\n",
        "  ### Testing\n",
        "  model_0.eval() # turns off different settings in the model not needed for evaluation/testing (dropout [https://pytorch.org/docs/stable/nn.html#dropout-layers] / batch norm layers)\n",
        "  with torch.inference_mode(): # turns off gradient tracking & a couple more things behind the scenes\n",
        "    # 1. Do the forward pass\n",
        "    test_pred = model_0(X_test)\n",
        "\n",
        "    # 2. Calulate the loss\n",
        "    test_loss = loss_fn(test_pred, y_test)\n",
        "\n",
        "  # Print out what happening\n",
        "  if epoch % 10 == 0:\n",
        "    print(f\"Epoch: {epoch} | Loss: {loss} | Test loss: {test_loss}\")\n",
        "\n",
        "    # Print out model state_dict()\n",
        "    print(model_0.state_dict())"
      ],
      "metadata": {
        "colab": {
          "base_uri": "https://localhost:8080/"
        },
        "id": "yZ5QxuMHR7en",
        "outputId": "bfe95c83-44be-4a60-8694-1a80cbd6060d"
      },
      "execution_count": null,
      "outputs": [
        {
          "output_type": "stream",
          "name": "stdout",
          "text": [
            "Loss: 0.3065836892633715\n",
            "Epoch: 0 | Loss: 0.3065836892633715 | Test loss: 0.47281751655167287\n",
            "OrderedDict([('weights', tensor([0.3445], dtype=torch.float64)), ('bias', tensor([0.1436], dtype=torch.float64))])\n",
            "Loss: 0.29506268932700686\n",
            "Loss: 0.2835416893906423\n",
            "Loss: 0.2720206894542777\n",
            "Loss: 0.260499689517913\n",
            "Loss: 0.24897868958154845\n",
            "Loss: 0.23745768964518382\n",
            "Loss: 0.22593668970881922\n",
            "Loss: 0.2144156897724546\n",
            "Loss: 0.20289468983609\n",
            "Loss: 0.19137368989972536\n",
            "Epoch: 10 | Loss: 0.19137368989972536 | Test loss: 0.33810751690583596\n",
            "OrderedDict([('weights', tensor([0.3835], dtype=torch.float64)), ('bias', tensor([0.2436], dtype=torch.float64))])\n",
            "Loss: 0.1798526899633608\n",
            "Loss: 0.16833169002699616\n",
            "Loss: 0.1568106900906316\n",
            "Loss: 0.14528969015426693\n",
            "Loss: 0.13376869021790233\n",
            "Loss: 0.12224769028153773\n",
            "Loss: 0.11090599338784712\n",
            "Loss: 0.10080097078236294\n",
            "Loss: 0.09230156513269397\n",
            "Loss: 0.08485211509121593\n",
            "Epoch: 20 | Loss: 0.08485211509121593 | Test loss: 0.2106111172591713\n",
            "OrderedDict([('weights', tensor([0.4223], dtype=torch.float64)), ('bias', tensor([0.3366], dtype=torch.float64))])\n",
            "Loss: 0.0787086706820406\n",
            "Loss: 0.07335794676380343\n",
            "Loss: 0.06875863987047295\n",
            "Loss: 0.06510279726717741\n",
            "Loss: 0.06198481499594303\n",
            "Loss: 0.05933956305369481\n",
            "Loss: 0.05714112309837327\n",
            "Loss: 0.05511791147986147\n",
            "Loss: 0.05343683051864111\n",
            "Loss: 0.05202908954781941\n",
            "Epoch: 30 | Loss: 0.05202908954781941 | Test loss: 0.14151541759026176\n",
            "OrderedDict([('weights', tensor([0.4544], dtype=torch.float64)), ('bias', tensor([0.3771], dtype=torch.float64))])\n",
            "Loss: 0.05090008957940242\n",
            "Loss: 0.049838679263687645\n",
            "Loss: 0.04896851929158232\n",
            "Loss: 0.048159389639760915\n",
            "Loss: 0.04749769966663621\n",
            "Loss: 0.046844519990564444\n",
            "Loss: 0.046339910012004694\n",
            "Loss: 0.04583530003344492\n",
            "Loss: 0.04533069005488516\n",
            "Loss: 0.044867931041154545\n",
            "Epoch: 40 | Loss: 0.044867931041154545 | Test loss: 0.11179621783467213\n",
            "OrderedDict([('weights', tensor([0.4777], dtype=torch.float64)), ('bias', tensor([0.3861], dtype=torch.float64))])\n",
            "Loss: 0.04446793105978099\n",
            "Loss: 0.044067931078407445\n",
            "Loss: 0.043667931097033895\n",
            "Loss: 0.043267931115660345\n",
            "Loss: 0.042885439795295674\n",
            "Loss: 0.042536439813132376\n",
            "Loss: 0.042187439830969065\n",
            "Loss: 0.04183843984880576\n",
            "Loss: 0.04148943986664244\n",
            "Loss: 0.04114043988447913\n",
            "Epoch: 50 | Loss: 0.04114043988447913 | Test loss: 0.09806421808573428\n",
            "OrderedDict([('weights', tensor([0.4965], dtype=torch.float64)), ('bias', tensor([0.3831], dtype=torch.float64))])\n",
            "Loss: 0.04079143990231581\n",
            "Loss: 0.04044243992015249\n",
            "Loss: 0.040093439937989195\n",
            "Loss: 0.03974443995582589\n",
            "Loss: 0.03939543997366256\n",
            "Loss: 0.03904643999149925\n",
            "Loss: 0.038697440009335934\n",
            "Loss: 0.03834844002717262\n",
            "Loss: 0.03799944004500934\n",
            "Loss: 0.037650440062846\n",
            "Epoch: 60 | Loss: 0.037650440062846 | Test loss: 0.08704421835503542\n",
            "OrderedDict([('weights', tensor([0.5145], dtype=torch.float64)), ('bias', tensor([0.3781], dtype=torch.float64))])\n",
            "Loss: 0.03730941164592314\n",
            "Loss: 0.03696524009629873\n",
            "Loss: 0.03662040167520997\n",
            "Loss: 0.03628004012975146\n",
            "Loss: 0.03593139170449677\n",
            "Loss: 0.0355948401632042\n",
            "Loss: 0.03524584018104087\n",
            "Loss: 0.03490618174939962\n",
            "Loss: 0.03456064021449361\n",
            "Loss: 0.03421717177868644\n",
            "Epoch: 70 | Loss: 0.03421717177868644 | Test loss: 0.07945871860517371\n",
            "OrderedDict([('weights', tensor([0.5314], dtype=torch.float64)), ('bias', tensor([0.3706], dtype=torch.float64))])\n",
            "Loss: 0.033875440247946344\n",
            "Loss: 0.03352816180797326\n",
            "Loss: 0.033190240281399074\n",
            "Loss: 0.032841240299235755\n",
            "Loss: 0.03250295185287612\n",
            "Loss: 0.03215604033268849\n",
            "Loss: 0.031813941882162924\n",
            "Loss: 0.03147084036614123\n",
            "Loss: 0.031124931911449737\n",
            "Loss: 0.030785640399593955\n",
            "Epoch: 80 | Loss: 0.030785640399593955 | Test loss: 0.07118631885914456\n",
            "OrderedDict([('weights', tensor([0.5486], dtype=torch.float64)), ('bias', tensor([0.3636], dtype=torch.float64))])\n",
            "Loss: 0.03043664041743064\n",
            "Loss: 0.030099721956352604\n",
            "Loss: 0.02975144045088337\n",
            "Loss: 0.029410711985639403\n",
            "Loss: 0.029066240484336103\n",
            "Loss: 0.02872170201492622\n",
            "Loss: 0.028381040517788843\n",
            "Loss: 0.028032692044213037\n",
            "Loss: 0.02769584055124157\n",
            "Loss: 0.027346840569078268\n",
            "Epoch: 90 | Loss: 0.027346840569078268 | Test loss: 0.06291391911311538\n",
            "OrderedDict([('weights', tensor([0.5657], dtype=torch.float64)), ('bias', tensor([0.3566], dtype=torch.float64))])\n",
            "Loss: 0.0270074820891159\n",
            "Loss: 0.026661640602530977\n",
            "Loss: 0.026318472118402696\n",
            "Loss: 0.02597644063598371\n",
            "Loss: 0.02562946214768952\n",
            "Loss: 0.025291240669436443\n",
            "Loss: 0.02494224068727313\n",
            "Loss: 0.024604252192592387\n",
            "Loss: 0.024257040720725865\n"
          ]
        }
      ]
    },
    {
      "cell_type": "code",
      "source": [
        "# predictioons\n",
        "\n",
        "with torch.inference_mode():\n",
        "  y_pred_new_practice = model_0(X_test)"
      ],
      "metadata": {
        "id": "YNZ0bGk3SeEJ"
      },
      "execution_count": null,
      "outputs": []
    },
    {
      "cell_type": "code",
      "source": [
        "# old\n",
        "plot_predictions(predictions=y_preds_new)"
      ],
      "metadata": {
        "colab": {
          "base_uri": "https://localhost:8080/",
          "height": 430
        },
        "id": "pkUHaaZnSsgA",
        "outputId": "f2957f2d-3499-47bd-a208-3344acdd4e40"
      },
      "execution_count": null,
      "outputs": [
        {
          "output_type": "display_data",
          "data": {
            "text/plain": [
              "<Figure size 640x480 with 1 Axes>"
            ],
            "image/png": "[encoded data removed]"
          },
          "metadata": {}
        }
      ]
    },
    {
      "cell_type": "code",
      "source": [
        "# new prediction with 100 epochs\n",
        "plot_predictions(predictions=y_pred_new_practice)"
      ],
      "metadata": {
        "colab": {
          "base_uri": "https://localhost:8080/",
          "height": 430
        },
        "id": "PKjkrO8JSIHa",
        "outputId": "6ba8917c-8f8a-42f2-84a9-d5bd823a9b4c"
      },
      "execution_count": null,
      "outputs": [
        {
          "output_type": "display_data",
          "data": {
            "text/plain": [
              "<Figure size 640x480 with 1 Axes>"
            ],
            "image/png": "[encoded data removed]"
          },
          "metadata": {}
        }
      ]
    },
    {
      "cell_type": "code",
      "source": [
        "# practice with 150 epochs\n",
        "\n",
        "torch.manual_seed(42)\n",
        "epochs = 150\n",
        "for epoch in range(epochs):\n",
        "  # set the model in training mode\n",
        "  model_0.train()\n",
        "\n",
        "  # 1. Forward pass\n",
        "  y_pred = model_0(X_train)\n",
        "\n",
        "  # 2. Calculate the loss\n",
        "  loss = loss_fn(y_pred, y_train)\n",
        "\n",
        "  print(f\"Loss: {loss}\")\n",
        "\n",
        "  # 3. Optimizer zero grid\n",
        "  optimizer.zero_grad()\n",
        "\n",
        "  # 4. backward\n",
        "  loss.backward()\n",
        "\n",
        "  # 5. Optimizer step\n",
        "  optimizer.step()\n",
        "\n",
        "  ### Testing\n",
        "  model_0.eval() # turns off different settings in the model not needed for evaluation/testing (dropout [https://pytorch.org/docs/stable/nn.html#dropout-layers] / batch norm layers)\n",
        "  with torch.inference_mode(): # turns off gradient tracking & a couple more things behind the scenes\n",
        "    # 1. Do the forward pass\n",
        "    test_pred = model_0(X_test)\n",
        "\n",
        "    # 2. Calulate the loss\n",
        "    test_loss = loss_fn(test_pred, y_test)\n",
        "\n",
        "  # Print out what happening\n",
        "  if epoch % 10 == 0:\n",
        "    print(f\"Epoch: {epoch} | Loss: {loss} | Test loss: {test_loss}\")\n",
        "\n",
        "    # Print out model state_dict()\n",
        "    print(model_0.state_dict())"
      ],
      "metadata": {
        "id": "e4MwwbBnSpaw",
        "colab": {
          "base_uri": "https://localhost:8080/"
        },
        "outputId": "36d13c26-447f-4ee0-b35c-0170d913e927"
      },
      "execution_count": null,
      "outputs": [
        {
          "output_type": "stream",
          "name": "stdout",
          "text": [
            "Loss: 0.023915242221879185\n",
            "Epoch: 0 | Loss: 0.023915242221879185 | Test loss: 0.0553284193632537\n",
            "OrderedDict([('weights', tensor([0.5827], dtype=torch.float64)), ('bias', tensor([0.3491], dtype=torch.float64))])\n",
            "Loss: 0.023571840754178598\n",
            "Loss: 0.023226232251165997\n",
            "Loss: 0.02288664078763132\n",
            "Loss: 0.022537640805468016\n",
            "Loss: 0.022201022296068844\n",
            "Loss: 0.02185244083892074\n",
            "Loss: 0.021512012325355673\n",
            "Loss: 0.021167240872373465\n",
            "Loss: 0.020823002354642482\n",
            "Loss: 0.02048204090582621\n",
            "Epoch: 10 | Loss: 0.02048204090582621 | Test loss: 0.04705601961722454\n",
            "OrderedDict([('weights', tensor([0.5998], dtype=torch.float64)), ('bias', tensor([0.3421], dtype=torch.float64))])\n",
            "Loss: 0.0201339923839293\n",
            "Loss: 0.019796840939278942\n",
            "Loss: 0.01944784095711562\n",
            "Loss: 0.019108782428832148\n",
            "Loss: 0.018762640990568354\n",
            "Loss: 0.018419772458118967\n",
            "Loss: 0.01807744102402109\n",
            "Loss: 0.017730762487405776\n",
            "Loss: 0.017392241057473824\n",
            "Loss: 0.017043241075310512\n",
            "Epoch: 20 | Loss: 0.017043241075310512 | Test loss: 0.03878361987119543\n",
            "OrderedDict([('weights', tensor([0.6170], dtype=torch.float64)), ('bias', tensor([0.3351], dtype=torch.float64))])\n",
            "Loss: 0.016705552532308637\n",
            "Loss: 0.01635804110876323\n",
            "Loss: 0.01601654256159545\n",
            "Loss: 0.015672841142215965\n",
            "Loss: 0.015327532590882265\n",
            "Loss: 0.014987641175668693\n",
            "Loss: 0.014638641193505381\n",
            "Loss: 0.01430232263578512\n",
            "Loss: 0.01395344122695812\n",
            "Loss: 0.013613312665071934\n",
            "Epoch: 30 | Loss: 0.013613312665071934 | Test loss: 0.031198120121333682\n",
            "OrderedDict([('weights', tensor([0.6340], dtype=torch.float64)), ('bias', tensor([0.3276], dtype=torch.float64))])\n",
            "Loss: 0.013268241260410851\n",
            "Loss: 0.012924302694358753\n",
            "Loss: 0.012583041293863584\n",
            "Loss: 0.012235292723645562\n",
            "Loss: 0.011897841327316316\n",
            "Loss: 0.011548841345153\n",
            "Loss: 0.011210082768548398\n",
            "Loss: 0.010863641378605734\n",
            "Loss: 0.010521072797835228\n",
            "Loss: 0.01017844141205846\n",
            "Epoch: 40 | Loss: 0.01017844141205846 | Test loss: 0.022925720375304538\n",
            "OrderedDict([('weights', tensor([0.6511], dtype=torch.float64)), ('bias', tensor([0.3206], dtype=torch.float64))])\n",
            "Loss: 0.00983206282712204\n",
            "Loss: 0.009493241445511193\n",
            "Loss: 0.009144241463347875\n",
            "Loss: 0.008806852872024899\n",
            "Loss: 0.008459041496800596\n",
            "Loss: 0.008117842901311713\n",
            "Loss: 0.007773841530253333\n",
            "Loss: 0.007428832930598525\n",
            "Loss: 0.007088641563706063\n",
            "Loss: 0.006739822959885344\n",
            "Epoch: 50 | Loss: 0.006739822959885344 | Test loss: 0.015340220625442824\n",
            "OrderedDict([('weights', tensor([0.6681], dtype=torch.float64)), ('bias', tensor([0.3131], dtype=torch.float64))])\n",
            "Loss: 0.006403441597158806\n",
            "Loss: 0.0060544416149954875\n",
            "Loss: 0.005714613004788173\n",
            "Loss: 0.005369241648448221\n",
            "Loss: 0.005025603034074999\n",
            "Loss: 0.004684041681900952\n",
            "Loss: 0.004336593063361821\n",
            "Loss: 0.003998841715353689\n",
            "Loss: 0.0036498417331903635\n",
            "Loss: 0.003311383108264676\n",
            "Epoch: 60 | Loss: 0.003311383108264676 | Test loss: 0.0070678208794136225\n",
            "OrderedDict([('weights', tensor([0.6852], dtype=torch.float64)), ('bias', tensor([0.3061], dtype=torch.float64))])\n",
            "Loss: 0.002964641766643082\n",
            "Loss: 0.0026223731375514966\n",
            "Loss: 0.0022794418000958256\n",
            "Loss: 0.0019333631668383131\n",
            "Loss: 0.001599933223924821\n",
            "Loss: 0.00131579740522577\n",
            "Loss: 0.0020045986471288165\n",
            "Loss: 0.009020704331909797\n",
            "Loss: 0.0025002956044548096\n",
            "Loss: 0.009020704331909797\n",
            "Epoch: 70 | Loss: 0.009020704331909797 | Test loss: 0.005175121018517459\n",
            "OrderedDict([('weights', tensor([0.6947], dtype=torch.float64)), ('bias', tensor([0.2996], dtype=torch.float64))])\n",
            "Loss: 0.0025002956044548096\n",
            "Loss: 0.009020704331909797\n",
            "Loss: 0.0025002956044548096\n",
            "Loss: 0.009020704331909797\n",
            "Loss: 0.0025002956044548096\n",
            "Loss: 0.009020704331909797\n",
            "Loss: 0.0025002956044548096\n",
            "Loss: 0.009020704331909797\n",
            "Loss: 0.0025002956044548096\n",
            "Loss: 0.009020704331909797\n",
            "Epoch: 80 | Loss: 0.009020704331909797 | Test loss: 0.005175121018517459\n",
            "OrderedDict([('weights', tensor([0.6947], dtype=torch.float64)), ('bias', tensor([0.2996], dtype=torch.float64))])\n",
            "Loss: 0.0025002956044548096\n",
            "Loss: 0.009020704331909797\n",
            "Loss: 0.0025002956044548096\n",
            "Loss: 0.009020704331909797\n",
            "Loss: 0.0025002956044548096\n",
            "Loss: 0.009020704331909797\n",
            "Loss: 0.0025002956044548096\n",
            "Loss: 0.009020704331909797\n",
            "Loss: 0.0025002956044548096\n",
            "Loss: 0.009020704331909797\n",
            "Epoch: 90 | Loss: 0.009020704331909797 | Test loss: 0.005175121018517459\n",
            "OrderedDict([('weights', tensor([0.6947], dtype=torch.float64)), ('bias', tensor([0.2996], dtype=torch.float64))])\n",
            "Loss: 0.0025002956044548096\n",
            "Loss: 0.009020704331909797\n",
            "Loss: 0.0025002956044548096\n",
            "Loss: 0.009020704331909797\n",
            "Loss: 0.0025002956044548096\n",
            "Loss: 0.009020704331909797\n",
            "Loss: 0.0025002956044548096\n",
            "Loss: 0.009020704331909797\n",
            "Loss: 0.0025002956044548096\n",
            "Loss: 0.009020704331909797\n",
            "Epoch: 100 | Loss: 0.009020704331909797 | Test loss: 0.005175121018517459\n",
            "OrderedDict([('weights', tensor([0.6947], dtype=torch.float64)), ('bias', tensor([0.2996], dtype=torch.float64))])\n",
            "Loss: 0.0025002956044548096\n",
            "Loss: 0.009020704331909797\n",
            "Loss: 0.0025002956044548096\n",
            "Loss: 0.009020704331909797\n",
            "Loss: 0.0025002956044548096\n",
            "Loss: 0.009020704331909797\n",
            "Loss: 0.0025002956044548096\n",
            "Loss: 0.009020704331909797\n",
            "Loss: 0.0025002956044548096\n",
            "Loss: 0.009020704331909797\n",
            "Epoch: 110 | Loss: 0.009020704331909797 | Test loss: 0.005175121018517459\n",
            "OrderedDict([('weights', tensor([0.6947], dtype=torch.float64)), ('bias', tensor([0.2996], dtype=torch.float64))])\n",
            "Loss: 0.0025002956044548096\n",
            "Loss: 0.009020704331909797\n",
            "Loss: 0.0025002956044548096\n",
            "Loss: 0.009020704331909797\n",
            "Loss: 0.0025002956044548096\n",
            "Loss: 0.009020704331909797\n",
            "Loss: 0.0025002956044548096\n",
            "Loss: 0.009020704331909797\n",
            "Loss: 0.0025002956044548096\n",
            "Loss: 0.009020704331909797\n",
            "Epoch: 120 | Loss: 0.009020704331909797 | Test loss: 0.005175121018517459\n",
            "OrderedDict([('weights', tensor([0.6947], dtype=torch.float64)), ('bias', tensor([0.2996], dtype=torch.float64))])\n",
            "Loss: 0.0025002956044548096\n",
            "Loss: 0.009020704331909797\n",
            "Loss: 0.0025002956044548096\n",
            "Loss: 0.009020704331909797\n",
            "Loss: 0.0025002956044548096\n",
            "Loss: 0.009020704331909797\n",
            "Loss: 0.0025002956044548096\n",
            "Loss: 0.009020704331909797\n",
            "Loss: 0.0025002956044548096\n",
            "Loss: 0.009020704331909797\n",
            "Epoch: 130 | Loss: 0.009020704331909797 | Test loss: 0.005175121018517459\n",
            "OrderedDict([('weights', tensor([0.6947], dtype=torch.float64)), ('bias', tensor([0.2996], dtype=torch.float64))])\n",
            "Loss: 0.0025002956044548096\n",
            "Loss: 0.009020704331909797\n",
            "Loss: 0.0025002956044548096\n",
            "Loss: 0.009020704331909797\n",
            "Loss: 0.0025002956044548096\n",
            "Loss: 0.009020704331909797\n",
            "Loss: 0.0025002956044548096\n",
            "Loss: 0.009020704331909797\n",
            "Loss: 0.0025002956044548096\n",
            "Loss: 0.009020704331909797\n",
            "Epoch: 140 | Loss: 0.009020704331909797 | Test loss: 0.005175121018517459\n",
            "OrderedDict([('weights', tensor([0.6947], dtype=torch.float64)), ('bias', tensor([0.2996], dtype=torch.float64))])\n",
            "Loss: 0.0025002956044548096\n",
            "Loss: 0.009020704331909797\n",
            "Loss: 0.0025002956044548096\n",
            "Loss: 0.009020704331909797\n",
            "Loss: 0.0025002956044548096\n",
            "Loss: 0.009020704331909797\n",
            "Loss: 0.0025002956044548096\n",
            "Loss: 0.009020704331909797\n",
            "Loss: 0.0025002956044548096\n"
          ]
        }
      ]
    },
    {
      "cell_type": "code",
      "source": [
        "# make some predictions\n",
        "with torch.inference_mode():\n",
        "  y_pred_150_epochs = model_0(X_test)"
      ],
      "metadata": {
        "id": "llaTXSoBawGb"
      },
      "execution_count": null,
      "outputs": []
    },
    {
      "cell_type": "code",
      "source": [
        "# 10 epochs\n",
        "plot_predictions(predictions=y_preds_new)"
      ],
      "metadata": {
        "colab": {
          "base_uri": "https://localhost:8080/",
          "height": 430
        },
        "id": "Wm-ZQVebbwi_",
        "outputId": "7a2fed22-0277-4342-b42d-13ff2f74c882"
      },
      "execution_count": null,
      "outputs": [
        {
          "output_type": "display_data",
          "data": {
            "text/plain": [
              "<Figure size 640x480 with 1 Axes>"
            ],
            "image/png": "[encoded data removed]"
          },
          "metadata": {}
        }
      ]
    },
    {
      "cell_type": "code",
      "source": [
        "# 100 epochs plot\n",
        "plot_predictions(predictions=y_pred_new_practice)"
      ],
      "metadata": {
        "colab": {
          "base_uri": "https://localhost:8080/",
          "height": 430
        },
        "id": "Ivu5BLr6bGF7",
        "outputId": "7fa188a3-d4f6-48e8-88c9-f5d95c8e0cde"
      },
      "execution_count": null,
      "outputs": [
        {
          "output_type": "display_data",
          "data": {
            "text/plain": [
              "<Figure size 640x480 with 1 Axes>"
            ],
            "image/png": "[encoded data removed]"
          },
          "metadata": {}
        }
      ]
    },
    {
      "cell_type": "code",
      "source": [
        "plot_predictions(predictions=y_pred_150_epochs)"
      ],
      "metadata": {
        "colab": {
          "base_uri": "https://localhost:8080/",
          "height": 430
        },
        "id": "7g4lHAoIa8WI",
        "outputId": "6db785b8-f5f2-4e4b-d052-70cbee414e7b"
      },
      "execution_count": null,
      "outputs": [
        {
          "output_type": "display_data",
          "data": {
            "text/plain": [
              "<Figure size 640x480 with 1 Axes>"
            ],
            "image/png": "[encoded data removed]"
          },
          "metadata": {}
        }
      ]
    },
    {
      "cell_type": "code",
      "source": [
        "# practice with 150 epochs\n",
        "\n",
        "torch.manual_seed(42)\n",
        "epochs = 200\n",
        "\n",
        "# Track different values\n",
        "epoch_count = []\n",
        "loss_values = []\n",
        "test_loss_values = []\n",
        "\n",
        "for epoch in range(epochs):\n",
        "  # set the model in training mode\n",
        "  model_0.train()\n",
        "\n",
        "  # 1. Forward pass\n",
        "  y_pred = model_0(X_train)\n",
        "\n",
        "  # 2. Calculate the loss\n",
        "  loss = loss_fn(y_pred, y_train)\n",
        "\n",
        "  #print(f\"Loss: {loss}\")\n",
        "\n",
        "  # 3. Optimizer zero grid\n",
        "  optimizer.zero_grad()\n",
        "\n",
        "  # 4. backward\n",
        "  loss.backward()\n",
        "\n",
        "  # 5. Optimizer step\n",
        "  optimizer.step()\n",
        "\n",
        "  ### Testing\n",
        "  model_0.eval() # turns off different settings in the model not needed for evaluation/testing (dropout [https://pytorch.org/docs/stable/nn.html#dropout-layers] / batch norm layers)\n",
        "  with torch.inference_mode(): # turns off gradient tracking & a couple more things behind the scenes\n",
        "    # 1. Do the forward pass\n",
        "    test_pred = model_0(X_test)\n",
        "\n",
        "    # 2. Calulate the loss\n",
        "    test_loss = loss_fn(test_pred, y_test)\n",
        "\n",
        "  # Print out what happening\n",
        "  if epoch % 10 == 0:\n",
        "    epoch_count.append(epoch)\n",
        "    loss_values.append(loss)\n",
        "    test_loss_values.append(test_loss)\n",
        "\n",
        "    print(f\"Epoch: {epoch} | Loss: {loss} | Test loss: {test_loss}\")\n",
        "\n",
        "    # Print out model state_dict()\n",
        "    print(model_0.state_dict())"
      ],
      "metadata": {
        "colab": {
          "base_uri": "https://localhost:8080/"
        },
        "id": "UADBnJLBbB_Y",
        "outputId": "2b5e4063-0a37-4689-8d61-08c2f12ce457"
      },
      "execution_count": null,
      "outputs": [
        {
          "output_type": "stream",
          "name": "stdout",
          "text": [
            "Epoch: 0 | Loss: 0.31810468919973606 | Test loss: 0.4862885165162565\n",
            "OrderedDict([('weights', tensor([0.3406], dtype=torch.float64)), ('bias', tensor([0.1336], dtype=torch.float64))])\n",
            "Epoch: 10 | Loss: 0.20289468983609 | Test loss: 0.35157851687041963\n",
            "OrderedDict([('weights', tensor([0.3796], dtype=torch.float64)), ('bias', tensor([0.2336], dtype=torch.float64))])\n",
            "Epoch: 20 | Loss: 0.09230156513269397 | Test loss: 0.2209486172236507\n",
            "OrderedDict([('weights', tensor([0.4185], dtype=torch.float64)), ('bias', tensor([0.3296], dtype=torch.float64))])\n",
            "Epoch: 30 | Loss: 0.05343683051864111 | Test loss: 0.14591841756395746\n",
            "OrderedDict([('weights', tensor([0.4517], dtype=torch.float64)), ('bias', tensor([0.3751], dtype=torch.float64))])\n",
            "Epoch: 40 | Loss: 0.04533069005488516 | Test loss: 0.11357621781230179\n",
            "OrderedDict([('weights', tensor([0.4757], dtype=torch.float64)), ('bias', tensor([0.3861], dtype=torch.float64))])\n",
            "Epoch: 50 | Loss: 0.04148943986664244 | Test loss: 0.09916621805880418\n",
            "OrderedDict([('weights', tensor([0.4947], dtype=torch.float64)), ('bias', tensor([0.3836], dtype=torch.float64))])\n",
            "Epoch: 60 | Loss: 0.03799944004500934 | Test loss: 0.0881462183281053\n",
            "OrderedDict([('weights', tensor([0.5127], dtype=torch.float64)), ('bias', tensor([0.3786], dtype=torch.float64))])\n",
            "Epoch: 70 | Loss: 0.03456064021449361 | Test loss: 0.07987381858207616\n",
            "OrderedDict([('weights', tensor([0.5298], dtype=torch.float64)), ('bias', tensor([0.3716], dtype=torch.float64))])\n",
            "Epoch: 80 | Loss: 0.031124931911449737 | Test loss: 0.07228831883221444\n",
            "OrderedDict([('weights', tensor([0.5468], dtype=torch.float64)), ('bias', tensor([0.3641], dtype=torch.float64))])\n",
            "Epoch: 90 | Loss: 0.02769584055124157 | Test loss: 0.06401591908618534\n",
            "OrderedDict([('weights', tensor([0.5639], dtype=torch.float64)), ('bias', tensor([0.3571], dtype=torch.float64))])\n",
            "Epoch: 100 | Loss: 0.024257040720725865 | Test loss: 0.055743519340156165\n",
            "OrderedDict([('weights', tensor([0.5811], dtype=torch.float64)), ('bias', tensor([0.3501], dtype=torch.float64))])\n",
            "Epoch: 110 | Loss: 0.020823002354642482 | Test loss: 0.04815801959029444\n",
            "OrderedDict([('weights', tensor([0.5980], dtype=torch.float64)), ('bias', tensor([0.3426], dtype=torch.float64))])\n",
            "Epoch: 120 | Loss: 0.017392241057473824 | Test loss: 0.03988561984426529\n",
            "OrderedDict([('weights', tensor([0.6152], dtype=torch.float64)), ('bias', tensor([0.3356], dtype=torch.float64))])\n",
            "Epoch: 130 | Loss: 0.01395344122695812 | Test loss: 0.03161322009823615\n",
            "OrderedDict([('weights', tensor([0.6324], dtype=torch.float64)), ('bias', tensor([0.3286], dtype=torch.float64))])\n",
            "Epoch: 140 | Loss: 0.010521072797835228 | Test loss: 0.024027720348374436\n",
            "OrderedDict([('weights', tensor([0.6493], dtype=torch.float64)), ('bias', tensor([0.3211], dtype=torch.float64))])\n",
            "Epoch: 150 | Loss: 0.007088641563706063 | Test loss: 0.01575532060234528\n",
            "OrderedDict([('weights', tensor([0.6665], dtype=torch.float64)), ('bias', tensor([0.3141], dtype=torch.float64))])\n",
            "Epoch: 160 | Loss: 0.0036498417331903635 | Test loss: 0.007482920856316122\n",
            "OrderedDict([('weights', tensor([0.6836], dtype=torch.float64)), ('bias', tensor([0.3071], dtype=torch.float64))])\n",
            "Epoch: 170 | Loss: 0.0025002956044548096 | Test loss: 0.008295878946066227\n",
            "OrderedDict([('weights', tensor([0.6986], dtype=torch.float64)), ('bias', tensor([0.3096], dtype=torch.float64))])\n",
            "Epoch: 180 | Loss: 0.0025002956044548096 | Test loss: 0.008295878946066227\n",
            "OrderedDict([('weights', tensor([0.6986], dtype=torch.float64)), ('bias', tensor([0.3096], dtype=torch.float64))])\n",
            "Epoch: 190 | Loss: 0.0025002956044548096 | Test loss: 0.008295878946066227\n",
            "OrderedDict([('weights', tensor([0.6986], dtype=torch.float64)), ('bias', tensor([0.3096], dtype=torch.float64))])\n"
          ]
        }
      ]
    },
    {
      "cell_type": "code",
      "source": [
        "loss_values, test_loss_values"
      ],
      "metadata": {
        "colab": {
          "base_uri": "https://localhost:8080/"
        },
        "id": "wvAOaFUfmDFf",
        "outputId": "78401760-2635-47d3-f5bb-f4c257e253dc"
      },
      "execution_count": null,
      "outputs": [
        {
          "output_type": "execute_result",
          "data": {
            "text/plain": [
              "([tensor(0.0090, dtype=torch.float64, grad_fn=<MeanBackward0>),\n",
              "  tensor(0.0090, dtype=torch.float64, grad_fn=<MeanBackward0>),\n",
              "  tensor(0.0090, dtype=torch.float64, grad_fn=<MeanBackward0>),\n",
              "  tensor(0.0090, dtype=torch.float64, grad_fn=<MeanBackward0>),\n",
              "  tensor(0.0090, dtype=torch.float64, grad_fn=<MeanBackward0>),\n",
              "  tensor(0.0090, dtype=torch.float64, grad_fn=<MeanBackward0>),\n",
              "  tensor(0.0090, dtype=torch.float64, grad_fn=<MeanBackward0>),\n",
              "  tensor(0.0090, dtype=torch.float64, grad_fn=<MeanBackward0>),\n",
              "  tensor(0.0090, dtype=torch.float64, grad_fn=<MeanBackward0>),\n",
              "  tensor(0.0090, dtype=torch.float64, grad_fn=<MeanBackward0>),\n",
              "  tensor(0.0090, dtype=torch.float64, grad_fn=<MeanBackward0>),\n",
              "  tensor(0.0090, dtype=torch.float64, grad_fn=<MeanBackward0>),\n",
              "  tensor(0.0090, dtype=torch.float64, grad_fn=<MeanBackward0>),\n",
              "  tensor(0.0090, dtype=torch.float64, grad_fn=<MeanBackward0>),\n",
              "  tensor(0.0090, dtype=torch.float64, grad_fn=<MeanBackward0>),\n",
              "  tensor(0.0090, dtype=torch.float64, grad_fn=<MeanBackward0>),\n",
              "  tensor(0.0090, dtype=torch.float64, grad_fn=<MeanBackward0>),\n",
              "  tensor(0.0090, dtype=torch.float64, grad_fn=<MeanBackward0>),\n",
              "  tensor(0.0090, dtype=torch.float64, grad_fn=<MeanBackward0>),\n",
              "  tensor(0.0090, dtype=torch.float64, grad_fn=<MeanBackward0>)],\n",
              " [tensor(0.0052, dtype=torch.float64),\n",
              "  tensor(0.0052, dtype=torch.float64),\n",
              "  tensor(0.0052, dtype=torch.float64),\n",
              "  tensor(0.0052, dtype=torch.float64),\n",
              "  tensor(0.0052, dtype=torch.float64),\n",
              "  tensor(0.0052, dtype=torch.float64),\n",
              "  tensor(0.0052, dtype=torch.float64),\n",
              "  tensor(0.0052, dtype=torch.float64),\n",
              "  tensor(0.0052, dtype=torch.float64),\n",
              "  tensor(0.0052, dtype=torch.float64),\n",
              "  tensor(0.0052, dtype=torch.float64),\n",
              "  tensor(0.0052, dtype=torch.float64),\n",
              "  tensor(0.0052, dtype=torch.float64),\n",
              "  tensor(0.0052, dtype=torch.float64),\n",
              "  tensor(0.0052, dtype=torch.float64),\n",
              "  tensor(0.0052, dtype=torch.float64),\n",
              "  tensor(0.0052, dtype=torch.float64),\n",
              "  tensor(0.0052, dtype=torch.float64),\n",
              "  tensor(0.0052, dtype=torch.float64),\n",
              "  tensor(0.0052, dtype=torch.float64)])"
            ]
          },
          "metadata": {},
          "execution_count": 38
        }
      ]
    },
    {
      "cell_type": "code",
      "source": [
        "# convert to numpy, because matplotlib only works with numpy\n",
        "import numpy as np\n",
        "np.array(torch.tensor(loss_values).cpu().numpy())"
      ],
      "metadata": {
        "colab": {
          "base_uri": "https://localhost:8080/"
        },
        "id": "oHjNinLOm91z",
        "outputId": "f0416c25-4856-4dcf-84a1-b0f86eb5a81d"
      },
      "execution_count": null,
      "outputs": [
        {
          "output_type": "execute_result",
          "data": {
            "text/plain": [
              "array([0.31810469, 0.20289469, 0.09230157, 0.05343683, 0.04533069,\n",
              "       0.04148944, 0.03799944, 0.03456064, 0.03112493, 0.02769584,\n",
              "       0.02425704, 0.020823  , 0.01739224, 0.01395344, 0.01052107,\n",
              "       0.00708864, 0.00364984, 0.0025003 , 0.0025003 , 0.0025003 ])"
            ]
          },
          "metadata": {},
          "execution_count": 13
        }
      ]
    },
    {
      "cell_type": "code",
      "source": [
        "# plot the loss curves\n",
        "plt.plot(epoch_count, np.array(torch.tensor(loss_values).numpy()), label=\"Train loss\")\n",
        "plt.plot(epoch_count, test_loss_values, label=\"Test loss\")\n",
        "plt.title(\"Training and test loss curves\")\n",
        "plt.ylabel(\"Loss\")\n",
        "plt.xlabel(\"Epochs\")\n",
        "plt.legend();"
      ],
      "metadata": {
        "colab": {
          "base_uri": "https://localhost:8080/",
          "height": 472
        },
        "id": "nmndZCCgknOl",
        "outputId": "ee369851-5682-44eb-8e75-10f15f63ed0c"
      },
      "execution_count": null,
      "outputs": [
        {
          "output_type": "display_data",
          "data": {
            "text/plain": [
              "<Figure size 640x480 with 1 Axes>"
            ],
            "image/png": "[encoded data removed]"
          },
          "metadata": {}
        }
      ]
    },
    {
      "cell_type": "code",
      "source": [
        "with torch.inference_mode():\n",
        "  y_pred_200_epochs = model_0(X_test)"
      ],
      "metadata": {
        "id": "HPPzNLehNCul"
      },
      "execution_count": null,
      "outputs": []
    },
    {
      "cell_type": "code",
      "source": [
        "plot_predictions(predictions=y_pred_200_epochs)"
      ],
      "metadata": {
        "id": "FhBsZHdmksG6",
        "colab": {
          "base_uri": "https://localhost:8080/",
          "height": 430
        },
        "outputId": "9fd27403-67bb-44e1-d07e-688fcfa79292"
      },
      "execution_count": null,
      "outputs": [
        {
          "output_type": "display_data",
          "data": {
            "text/plain": [
              "<Figure size 640x480 with 1 Axes>"
            ],
            "image/png": "[encoded data removed]"
          },
          "metadata": {}
        }
      ]
    },
    {
      "cell_type": "markdown",
      "source": [
        "## Saving a model in PyTorch\n",
        "\n",
        "There are three main methods you should about for saving and loading models in PyTorch.\n",
        "\n",
        "1. `torch.save()` - allows you to save a PyTorch object in [Python's pickle](https://docs.python.org/3/library/pickle.html) format\n",
        "2. `torch.load()` - allows you to load a PyTorch object\n",
        "3. `torch.nn.Module.load_state-dict()` - this allows to load a model's saved state dictionary"
      ],
      "metadata": {
        "id": "CpTscQdchB6-"
      }
    },
    {
      "cell_type": "code",
      "source": [
        "model_0.state_dict()"
      ],
      "metadata": {
        "colab": {
          "base_uri": "https://localhost:8080/"
        },
        "id": "_WW2nLaDNtww",
        "outputId": "0d8f652d-9b0f-4a2b-8ceb-8ab4f7e894c2"
      },
      "execution_count": null,
      "outputs": [
        {
          "output_type": "execute_result",
          "data": {
            "text/plain": [
              "OrderedDict([('weights', tensor([0.6947], dtype=torch.float64)),\n",
              "             ('bias', tensor([0.2996], dtype=torch.float64))])"
            ]
          },
          "metadata": {},
          "execution_count": 18
        }
      ]
    },
    {
      "cell_type": "code",
      "source": [
        "optimizer.state_dict()"
      ],
      "metadata": {
        "colab": {
          "base_uri": "https://localhost:8080/"
        },
        "id": "qOAEbsTkiB5f",
        "outputId": "ef3abb7b-979c-4ff7-ec21-f505d40b6266"
      },
      "execution_count": null,
      "outputs": [
        {
          "output_type": "execute_result",
          "data": {
            "text/plain": [
              "{'state': {0: {'momentum_buffer': None}, 1: {'momentum_buffer': None}},\n",
              " 'param_groups': [{'lr': 0.01,\n",
              "   'momentum': 0,\n",
              "   'dampening': 0,\n",
              "   'weight_decay': 0,\n",
              "   'nesterov': False,\n",
              "   'maximize': False,\n",
              "   'foreach': None,\n",
              "   'differentiable': False,\n",
              "   'params': [0, 1]}]}"
            ]
          },
          "metadata": {},
          "execution_count": 19
        }
      ]
    },
    {
      "cell_type": "markdown",
      "source": [
        "#### Extra curriculum\n",
        "1. Python pickle: https://docs.python.org/3/library/pickle.html\n",
        "2. PyTorch Saving and Loading Models: https://pytorch.org/tutorials/beginner/saving_loading_models.html"
      ],
      "metadata": {
        "id": "JfTZTqdLkWXC"
      }
    },
    {
      "cell_type": "code",
      "source": [
        "# Saving our PyTorch model\n",
        "from pathlib import Path\n",
        "\n",
        "# 1. Create a models directory\n",
        "MODEL_PATH = Path(\"models\")\n",
        "MODEL_PATH.mkdir(parents=True, exist_ok=True)\n",
        "\n",
        "# 2.  Create a model save path\n",
        "MODEL_NAME = \"01_pytorch_workflow_model_0.pth\" # A common PyTorch convention is to save models using either a `.pt` or `.pth` file extension.\n",
        "MODEL_SAVE_PATH = MODEL_PATH / MODEL_NAME\n",
        "\n",
        "#MODEL_SAVE_PATH\n",
        "\n",
        "# 3. Save the model state dict\n",
        "print(f\"Saving model to: {MODEL_SAVE_PATH}\")\n",
        "torch.save(obj=model_0.state_dict(),\n",
        "           f=MODEL_SAVE_PATH) # https://pytorch.org/docs/stable/generated/torch.save.html"
      ],
      "metadata": {
        "colab": {
          "base_uri": "https://localhost:8080/"
        },
        "id": "1ja9zZX-iepo",
        "outputId": "b5e7e4ae-3e03-4669-a3cb-8ccd938d7b32"
      },
      "execution_count": null,
      "outputs": [
        {
          "output_type": "stream",
          "name": "stdout",
          "text": [
            "Saving model to: models/01_pytorch_workflow_model_0.pth\n"
          ]
        }
      ]
    },
    {
      "cell_type": "code",
      "source": [
        "!ls -l models"
      ],
      "metadata": {
        "colab": {
          "base_uri": "https://localhost:8080/"
        },
        "id": "jHTiZZB8mLwK",
        "outputId": "a9f968ca-5b14-492f-d4a7-19abb306ce47"
      },
      "execution_count": null,
      "outputs": [
        {
          "output_type": "stream",
          "name": "stdout",
          "text": [
            "total 4\n",
            "-rw-r--r-- 1 root root 1680 May 11 12:25 01_pytorch_workflow_model_0.pth\n"
          ]
        }
      ]
    },
    {
      "cell_type": "markdown",
      "source": [
        "## Loading a PyTorch model\n",
        "\n",
        "Since we saved our model's `state_dict()` rather than entire model, we'll create a new instance of our model class and load the saved `state_dict()` into that."
      ],
      "metadata": {
        "id": "FQgC96sfqd-M"
      }
    },
    {
      "cell_type": "code",
      "source": [
        "model_0.state_dict()"
      ],
      "metadata": {
        "colab": {
          "base_uri": "https://localhost:8080/"
        },
        "id": "WQVtsGFvq6Jl",
        "outputId": "45f053d7-e4ce-40cc-9e42-d1f877857e58"
      },
      "execution_count": null,
      "outputs": [
        {
          "output_type": "execute_result",
          "data": {
            "text/plain": [
              "OrderedDict([('weights', tensor([0.6947], dtype=torch.float64)),\n",
              "             ('bias', tensor([0.2996], dtype=torch.float64))])"
            ]
          },
          "metadata": {},
          "execution_count": 28
        }
      ]
    },
    {
      "cell_type": "code",
      "source": [
        "# # To Load in a saved state_dict we have to instatiate a new instance of our model class\n",
        "loaded_model_0 = LinearRegressionModel()\n",
        "\n",
        "# random values of our model\n",
        "#loaded_model_0.state_dict()\n",
        "\n",
        "# Load the saved state_dict of model_0 (this will update the new instance with updated partamters)\n",
        "loaded_model_0 .load_state_dict(torch.load(f=MODEL_SAVE_PATH)) # https://pytorch.org/docs/stable/generated/torch.load.html\n"
      ],
      "metadata": {
        "colab": {
          "base_uri": "https://localhost:8080/"
        },
        "id": "Qt-eRwUUoaBx",
        "outputId": "5fe829c3-8caa-457f-bc50-277c1a89e380"
      },
      "execution_count": null,
      "outputs": [
        {
          "output_type": "execute_result",
          "data": {
            "text/plain": [
              "<All keys matched successfully>"
            ]
          },
          "metadata": {},
          "execution_count": 30
        }
      ]
    },
    {
      "cell_type": "code",
      "source": [
        "loaded_model_0.state_dict()"
      ],
      "metadata": {
        "colab": {
          "base_uri": "https://localhost:8080/"
        },
        "id": "dkuNXeHnrgbJ",
        "outputId": "5fd4e216-334f-4d4f-f3e3-3b827f5d8bf3"
      },
      "execution_count": null,
      "outputs": [
        {
          "output_type": "execute_result",
          "data": {
            "text/plain": [
              "OrderedDict([('weights', tensor([0.6947], dtype=torch.float64)),\n",
              "             ('bias', tensor([0.2996], dtype=torch.float64))])"
            ]
          },
          "metadata": {},
          "execution_count": 31
        }
      ]
    },
    {
      "cell_type": "code",
      "source": [
        "# Make some predictions with our loaded model\n",
        "loaded_model_0.eval()\n",
        "\n",
        "with torch.inference_mode():\n",
        "  loaded_model_preds = loaded_model_0 (X_test)\n",
        "loaded_model_preds"
      ],
      "metadata": {
        "colab": {
          "base_uri": "https://localhost:8080/"
        },
        "id": "LogBG5Vtpkyo",
        "outputId": "392a5a95-0542-4983-c432-71094da734ee"
      },
      "execution_count": null,
      "outputs": [
        {
          "output_type": "execute_result",
          "data": {
            "text/plain": [
              "tensor([[0.8553],\n",
              "        [0.8692],\n",
              "        [0.8831],\n",
              "        [0.8970],\n",
              "        [0.9109],\n",
              "        [0.9248],\n",
              "        [0.9387],\n",
              "        [0.9526],\n",
              "        [0.9665],\n",
              "        [0.9803]], dtype=torch.float64)"
            ]
          },
          "metadata": {},
          "execution_count": 32
        }
      ]
    },
    {
      "cell_type": "code",
      "source": [
        "# Compare loaded model pred with original model preds\n",
        "y_pred_200_epochs == loaded_model_preds"
      ],
      "metadata": {
        "colab": {
          "base_uri": "https://localhost:8080/"
        },
        "id": "wMT2AhwaqCBK",
        "outputId": "b7a82d29-e31a-4663-8793-ab28582ecf96"
      },
      "execution_count": null,
      "outputs": [
        {
          "output_type": "execute_result",
          "data": {
            "text/plain": [
              "tensor([[True],\n",
              "        [True],\n",
              "        [True],\n",
              "        [True],\n",
              "        [True],\n",
              "        [True],\n",
              "        [True],\n",
              "        [True],\n",
              "        [True],\n",
              "        [True]])"
            ]
          },
          "metadata": {},
          "execution_count": 33
        }
      ]
    },
    {
      "cell_type": "markdown",
      "source": [
        "## 6. Putting it all together\n",
        "\n",
        "Let's go back through the steps above and see it all in one place."
      ],
      "metadata": {
        "id": "MDuL4xupunCo"
      }
    },
    {
      "cell_type": "code",
      "source": [
        "# Import PyTorch and matplotlib\n",
        "import torch\n",
        "from torch import nn\n",
        "import matplotlib.pyplot as plt\n",
        "\n",
        "# Check pytorch verison\n",
        "torch.__version__"
      ],
      "metadata": {
        "colab": {
          "base_uri": "https://localhost:8080/",
          "height": 35
        },
        "id": "ZPVMKCMDvewy",
        "outputId": "94ab6380-3552-44f2-ce07-6e5ae693ed6b"
      },
      "execution_count": null,
      "outputs": [
        {
          "output_type": "execute_result",
          "data": {
            "text/plain": [
              "'2.2.1+cu121'"
            ],
            "application/vnd.google.colaboratory.intrinsic+json": {
              "type": "string"
            }
          },
          "metadata": {},
          "execution_count": 34
        }
      ]
    },
    {
      "cell_type": "markdown",
      "source": [
        "Create device-agnostic code.\n",
        "\n",
        "This means if we've got access to a GPU, our code will use it (for potentially faster computing)\n",
        "\n",
        "If no GPU is available, the code will default to using CPU"
      ],
      "metadata": {
        "id": "6xSUqTvdv5Lj"
      }
    },
    {
      "cell_type": "markdown",
      "source": [
        "# 6.1\n",
        "Create"
      ],
      "metadata": {
        "id": "2D-g8b5EvLGw"
      }
    },
    {
      "cell_type": "code",
      "source": [
        "# 6.1"
      ],
      "metadata": {
        "id": "DM8Y0Qq8qG7r"
      },
      "execution_count": null,
      "outputs": []
    }
  ]
}