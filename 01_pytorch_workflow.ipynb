{
  "nbformat": 4,
  "nbformat_minor": 0,
  "metadata": {
    "colab": {
      "provenance": [],
      "gpuType": "T4"
    },
    "kernelspec": {
      "name": "python3",
      "display_name": "Python 3"
    },
    "language_info": {
      "name": "python"
    },
    "accelerator": "GPU"
  },
  "cells": [
    {
      "cell_type": "markdown",
      "source": [
        "# PyTorch Workflow\n",
        "\n",
        "Let's explore an example PyTorch end-to-end workflow"
      ],
      "metadata": {
        "id": "l0Z8FOc2-zYh"
      }
    },
    {
      "cell_type": "code",
      "execution_count": 1,
      "metadata": {
        "colab": {
          "base_uri": "https://localhost:8080/"
        },
        "id": "viO58s2u-nVe",
        "outputId": "2b735804-12cc-4682-e02c-427a1ebe3f5a"
      },
      "outputs": [
        {
          "output_type": "execute_result",
          "data": {
            "text/plain": [
              "{1: 'data (prepare and load)',\n",
              " 2: 'build model',\n",
              " 3: 'fitting the model to data (training)',\n",
              " 4: 'making predictions and evaluating a model (inferences)',\n",
              " 5: 'saving and loading a model',\n",
              " 6: 'putting it all together'}"
            ]
          },
          "metadata": {},
          "execution_count": 1
        }
      ],
      "source": [
        "what_we_are_covering = {\n",
        "    1: \"data (prepare and load)\",\n",
        "    2: \"build model\",\n",
        "    3: \"fitting the model to data (training)\",\n",
        "    4: \"making predictions and evaluating a model (inferences)\",\n",
        "    5: \"saving and loading a model\",\n",
        "    6: \"putting it all together\"\n",
        "}\n",
        "\n",
        "what_we_are_covering"
      ]
    },
    {
      "cell_type": "code",
      "source": [
        "import torch\n",
        "from torch import nn # nn contains all of PyTorch's building blocks for neural networks # https://pytorch.org/docs/stable/nn.html\n",
        "\n",
        "import matplotlib.pyplot as plt"
      ],
      "metadata": {
        "id": "36Kd13bxA-Pv"
      },
      "execution_count": 2,
      "outputs": []
    },
    {
      "cell_type": "code",
      "source": [
        "torch.__version__"
      ],
      "metadata": {
        "colab": {
          "base_uri": "https://localhost:8080/",
          "height": 35
        },
        "id": "OFjpAyEJBgRw",
        "outputId": "168139e1-b50f-4ac2-e7d0-1186aa6b1a0d"
      },
      "execution_count": 3,
      "outputs": [
        {
          "output_type": "execute_result",
          "data": {
            "text/plain": [
              "'2.2.1+cu121'"
            ],
            "application/vnd.google.colaboratory.intrinsic+json": {
              "type": "string"
            }
          },
          "metadata": {},
          "execution_count": 3
        }
      ]
    },
    {
      "cell_type": "markdown",
      "source": [
        "## 1. Data (preparing and loading)\n",
        "\n",
        "Data can be almost anything... in machine learning\n",
        "\n",
        "* Excel spreadsheet\n",
        "* Images of any kind\n",
        "* Videos (YouTube has lots of data...)\n",
        "* Audio like songs or podcasts\n",
        "* DNA\n",
        "* Text\n",
        "\n",
        "Machine learning is game of two parts:\n",
        "1. Get data into a numerical representation\n",
        "2. Build a model to learn patterns in that numerical representation.\n",
        "\n",
        "To showcase this, let's create some *known* data using the linear regression formula.\n",
        "\n",
        "We will use a linear regression formula to make a straight line with *known* **parameters**."
      ],
      "metadata": {
        "id": "R8panYCdB7eg"
      }
    },
    {
      "cell_type": "code",
      "source": [
        "# Create *known* parameters\n",
        "weight = 0.7\n",
        "bias = 0.3\n",
        "\n",
        "# Create a range of numbers\n",
        "start = 0\n",
        "end  = 1\n",
        "step = 0.02\n",
        "X = torch.arange(start, end, step).unsqueeze(dim=1)\n",
        "y = bias + weight * X # y = a + b*x\n",
        "\n",
        "X[:10], y[:10]"
      ],
      "metadata": {
        "colab": {
          "base_uri": "https://localhost:8080/"
        },
        "id": "AamrbidVBzFI",
        "outputId": "d15e735c-5296-416e-ac5f-237e82d60163"
      },
      "execution_count": 4,
      "outputs": [
        {
          "output_type": "execute_result",
          "data": {
            "text/plain": [
              "(tensor([[0.0000],\n",
              "         [0.0200],\n",
              "         [0.0400],\n",
              "         [0.0600],\n",
              "         [0.0800],\n",
              "         [0.1000],\n",
              "         [0.1200],\n",
              "         [0.1400],\n",
              "         [0.1600],\n",
              "         [0.1800]]),\n",
              " tensor([[0.3000],\n",
              "         [0.3140],\n",
              "         [0.3280],\n",
              "         [0.3420],\n",
              "         [0.3560],\n",
              "         [0.3700],\n",
              "         [0.3840],\n",
              "         [0.3980],\n",
              "         [0.4120],\n",
              "         [0.4260]]))"
            ]
          },
          "metadata": {},
          "execution_count": 4
        }
      ]
    },
    {
      "cell_type": "code",
      "source": [
        "len(X), len(y)"
      ],
      "metadata": {
        "colab": {
          "base_uri": "https://localhost:8080/"
        },
        "id": "becl1xxPJ30_",
        "outputId": "3c280490-a662-45dc-d103-14b327d97632"
      },
      "execution_count": 5,
      "outputs": [
        {
          "output_type": "execute_result",
          "data": {
            "text/plain": [
              "(50, 50)"
            ]
          },
          "metadata": {},
          "execution_count": 5
        }
      ]
    },
    {
      "cell_type": "markdown",
      "source": [
        "### Splitting data into training and test sets (one of the most important conceptsw in machine learning in general)\n",
        "\n",
        "Let's create a training and test set with our data."
      ],
      "metadata": {
        "id": "205Z_Y9vNyK9"
      }
    },
    {
      "cell_type": "code",
      "source": [
        "# Create a train/test split\n",
        "train_split = int(0.8 * len(X))\n",
        "#train_split # 40\n",
        "X_train, y_train = X[:train_split], y[:train_split]\n",
        "X_test, y_test = X[train_split:], y[train_split:]\n",
        "\n",
        "len(X_train), len(y_train), len(X_test), len(y_test)"
      ],
      "metadata": {
        "colab": {
          "base_uri": "https://localhost:8080/"
        },
        "id": "ciKiN8vqKB91",
        "outputId": "3dc6ecc3-ecfb-4f22-8a8d-942c3fb114ad"
      },
      "execution_count": 6,
      "outputs": [
        {
          "output_type": "execute_result",
          "data": {
            "text/plain": [
              "(40, 40, 10, 10)"
            ]
          },
          "metadata": {},
          "execution_count": 6
        }
      ]
    },
    {
      "cell_type": "code",
      "source": [
        "X_train, y_train"
      ],
      "metadata": {
        "colab": {
          "base_uri": "https://localhost:8080/"
        },
        "id": "Iwj5U9RxOA5r",
        "outputId": "b1c36373-46dc-4bc0-bb08-d3d92c2ba34b"
      },
      "execution_count": 7,
      "outputs": [
        {
          "output_type": "execute_result",
          "data": {
            "text/plain": [
              "(tensor([[0.0000],\n",
              "         [0.0200],\n",
              "         [0.0400],\n",
              "         [0.0600],\n",
              "         [0.0800],\n",
              "         [0.1000],\n",
              "         [0.1200],\n",
              "         [0.1400],\n",
              "         [0.1600],\n",
              "         [0.1800],\n",
              "         [0.2000],\n",
              "         [0.2200],\n",
              "         [0.2400],\n",
              "         [0.2600],\n",
              "         [0.2800],\n",
              "         [0.3000],\n",
              "         [0.3200],\n",
              "         [0.3400],\n",
              "         [0.3600],\n",
              "         [0.3800],\n",
              "         [0.4000],\n",
              "         [0.4200],\n",
              "         [0.4400],\n",
              "         [0.4600],\n",
              "         [0.4800],\n",
              "         [0.5000],\n",
              "         [0.5200],\n",
              "         [0.5400],\n",
              "         [0.5600],\n",
              "         [0.5800],\n",
              "         [0.6000],\n",
              "         [0.6200],\n",
              "         [0.6400],\n",
              "         [0.6600],\n",
              "         [0.6800],\n",
              "         [0.7000],\n",
              "         [0.7200],\n",
              "         [0.7400],\n",
              "         [0.7600],\n",
              "         [0.7800]]),\n",
              " tensor([[0.3000],\n",
              "         [0.3140],\n",
              "         [0.3280],\n",
              "         [0.3420],\n",
              "         [0.3560],\n",
              "         [0.3700],\n",
              "         [0.3840],\n",
              "         [0.3980],\n",
              "         [0.4120],\n",
              "         [0.4260],\n",
              "         [0.4400],\n",
              "         [0.4540],\n",
              "         [0.4680],\n",
              "         [0.4820],\n",
              "         [0.4960],\n",
              "         [0.5100],\n",
              "         [0.5240],\n",
              "         [0.5380],\n",
              "         [0.5520],\n",
              "         [0.5660],\n",
              "         [0.5800],\n",
              "         [0.5940],\n",
              "         [0.6080],\n",
              "         [0.6220],\n",
              "         [0.6360],\n",
              "         [0.6500],\n",
              "         [0.6640],\n",
              "         [0.6780],\n",
              "         [0.6920],\n",
              "         [0.7060],\n",
              "         [0.7200],\n",
              "         [0.7340],\n",
              "         [0.7480],\n",
              "         [0.7620],\n",
              "         [0.7760],\n",
              "         [0.7900],\n",
              "         [0.8040],\n",
              "         [0.8180],\n",
              "         [0.8320],\n",
              "         [0.8460]]))"
            ]
          },
          "metadata": {},
          "execution_count": 7
        }
      ]
    },
    {
      "cell_type": "markdown",
      "source": [
        "How might we better visualize our data\n",
        "\n",
        "This is where the data explorer's motto comes in!\n",
        "\n",
        "\"Visualize, Visualize, Visualize!\""
      ],
      "metadata": {
        "id": "hM4i2hO2PwGO"
      }
    },
    {
      "cell_type": "code",
      "source": [
        "def plot_predictions(train_data=X_train,\n",
        "                     train_labels=y_train,\n",
        "                     test_data=X_test,\n",
        "                     test_labels=y_test,\n",
        "                     predictions=None):\n",
        "  \"\"\"\n",
        "  Plot training data, test data and compares predictions.\n",
        "  \"\"\"\n",
        "  # Plot training data in blue\n",
        "  plt.scatter(train_data, train_labels, c=\"b\", s=4, label=\"Training Data\")\n",
        "\n",
        "  # Plot  test data in green\n",
        "  plt.scatter(test_data, test_labels, c=\"g\", s=4, label=\"Test Data\")\n",
        "\n",
        "  # Are there predictions?\n",
        "  if predictions is not None:\n",
        "    # Plot the predictions if they exist\n",
        "    plt.scatter(test_data, predictions, c=\"r\", s=4, label=\"Predictions\")\n",
        "\n",
        "  # Show the legend\n",
        "  plt.legend(prop={\"size\": 14})"
      ],
      "metadata": {
        "id": "Gyb73PzmPH1S"
      },
      "execution_count": 8,
      "outputs": []
    },
    {
      "cell_type": "code",
      "source": [
        "plot_predictions();"
      ],
      "metadata": {
        "colab": {
          "base_uri": "https://localhost:8080/",
          "height": 430
        },
        "id": "ctvhabsIQgEk",
        "outputId": "2deea981-95a0-4e65-816b-1e9c74b973ee"
      },
      "execution_count": 9,
      "outputs": [
        {
          "output_type": "display_data",
          "data": {
            "text/plain": [
              "<Figure size 640x480 with 1 Axes>"
            ],
            "image/png": "[encoded data removed]"
          },
          "metadata": {}
        }
      ]
    },
    {
      "cell_type": "markdown",
      "source": [
        "## 2. Build model\n",
        "\n",
        "Our first PyTorch model\n",
        "\n",
        "This is very exciting... let's do it\n",
        "\n",
        "# [Learn from Python OOP](https://realpython.com/python3-object-oriented-programming/)\n",
        "\n",
        "\n",
        "What are model does:\n",
        "* Start with random values (wights and bias)\n",
        "* Look at training data and adjust the random values to better represent (or get close to) the ideal values (the weight and bias values used to create the data)\n",
        "\n",
        "How does it do so?\n",
        "Throught two main algorithms\n",
        "1. Gradient descent : https://www.youtube.com/watch?v=IHZwWFHWa-w\n",
        "2. Backpropagation : https://www.youtube.com/watch?v=Ilg3gGewQ5U"
      ],
      "metadata": {
        "id": "U51c2SEWOJFt"
      }
    },
    {
      "cell_type": "code",
      "source": [
        "from torch import nn\n",
        "\n",
        "# Create a linear regression model class\n",
        "class LinearRegressionModel(nn.Module): # -> https://pytorch.org/docs/stable/generated/torch.nn.Module.html\n",
        "  def __init__(self):\n",
        "    super().__init__()\n",
        "    self.weights = nn.Parameter(torch.randn(1, requires_grad=True, dtype=float))\n",
        "    self.bias = nn.Parameter(torch.rand(1, requires_grad=True, dtype=float))\n",
        "\n",
        "  # Forward method to define the computation in the model\n",
        "  def forward(self, x: torch.Tensor) -> torch.Tensor: # \"x\" is the input data\n",
        "    return self.weights * x + self.bias # this is the linear regression formula"
      ],
      "metadata": {
        "id": "p9s8orRuMdKd"
      },
      "execution_count": 10,
      "outputs": []
    },
    {
      "cell_type": "markdown",
      "source": [
        "# PyTorch model buidling essential\n",
        "\n",
        "* `torch.nn` - contains all of the buildings for computational graphs (a neural network can be considered a computational graph)\n",
        "* `torch.nn.Parameter` - what parameters should our model try and learn, often a PyTorch layer from `torch.nn` will set these for us\n",
        "* `torch.nn.Module` - The base class for all neural network modules, if you subclass it, you should overwrite `forward()`\n",
        "* `torch.optim` - this where the optimizers in PyTorch live, they will help with gradient descent\n",
        "* `def forward()` - All `nn.Module` subclasses require you to overwrite `forward()`, this method defines what happens in the forward computation"
      ],
      "metadata": {
        "id": "50hZ-XLdJvOR"
      }
    },
    {
      "cell_type": "markdown",
      "source": [
        "# [PyTorch CheatSheet](https://pytorch.org/tutorials/beginner/ptcheat.html)"
      ],
      "metadata": {
        "id": "mb0GLv_odZFQ"
      }
    },
    {
      "cell_type": "markdown",
      "source": [
        "### Check the contents of our PyTorch model\n",
        "\n",
        "Now we've created a model, let's see what's inside...\n",
        "\n",
        "So we can check our model parameters or what's inside our model using `.parameters()`"
      ],
      "metadata": {
        "id": "iae3JFrcJqDI"
      }
    },
    {
      "cell_type": "code",
      "source": [
        "# Create a random seed\n",
        "torch.manual_seed(42)\n",
        "\n",
        "# Create an instance of the model (this is a subclass of nn.Module)\n",
        "model_0 = LinearRegressionModel()\n",
        "\n",
        "# model_0\n",
        "# model_0.parameters()\n",
        "list(model_0.parameters())"
      ],
      "metadata": {
        "id": "BNcBD3_HDzlO",
        "colab": {
          "base_uri": "https://localhost:8080/"
        },
        "outputId": "ae7b6fec-c11b-41ec-9141-e77e54171a29"
      },
      "execution_count": 11,
      "outputs": [
        {
          "output_type": "execute_result",
          "data": {
            "text/plain": [
              "[Parameter containing:\n",
              " tensor([0.3367], dtype=torch.float64, requires_grad=True),\n",
              " Parameter containing:\n",
              " tensor([0.1236], dtype=torch.float64, requires_grad=True)]"
            ]
          },
          "metadata": {},
          "execution_count": 11
        }
      ]
    },
    {
      "cell_type": "code",
      "source": [
        "# List named parameters\n",
        "model_0.state_dict() # return dictionary of the parameters of our model (LinearRegressionModel)"
      ],
      "metadata": {
        "id": "p_rYcawYD25u",
        "colab": {
          "base_uri": "https://localhost:8080/"
        },
        "outputId": "d7ab02a7-826c-43db-dc13-1d939e8fdd18"
      },
      "execution_count": 12,
      "outputs": [
        {
          "output_type": "execute_result",
          "data": {
            "text/plain": [
              "OrderedDict([('weights', tensor([0.3367], dtype=torch.float64)),\n",
              "             ('bias', tensor([0.1236], dtype=torch.float64))])"
            ]
          },
          "metadata": {},
          "execution_count": 12
        }
      ]
    },
    {
      "cell_type": "markdown",
      "source": [
        "### Making prediction using `torch.inference_mode()`\n",
        "\n",
        "To check our model's predictive power, let's see how it well ut predicts `y_test` based on `X_test`.\n",
        "\n",
        "When we pass data through our model, it's going to run it through the `forward()` method."
      ],
      "metadata": {
        "id": "cFyxjJK9ORhR"
      }
    },
    {
      "cell_type": "code",
      "source": [
        "X_test, y_test"
      ],
      "metadata": {
        "colab": {
          "base_uri": "https://localhost:8080/"
        },
        "id": "F_DU2zi4Qabw",
        "outputId": "0760e125-4ad4-493a-8799-cfc8a41ede45"
      },
      "execution_count": 13,
      "outputs": [
        {
          "output_type": "execute_result",
          "data": {
            "text/plain": [
              "(tensor([[0.8000],\n",
              "         [0.8200],\n",
              "         [0.8400],\n",
              "         [0.8600],\n",
              "         [0.8800],\n",
              "         [0.9000],\n",
              "         [0.9200],\n",
              "         [0.9400],\n",
              "         [0.9600],\n",
              "         [0.9800]]),\n",
              " tensor([[0.8600],\n",
              "         [0.8740],\n",
              "         [0.8880],\n",
              "         [0.9020],\n",
              "         [0.9160],\n",
              "         [0.9300],\n",
              "         [0.9440],\n",
              "         [0.9580],\n",
              "         [0.9720],\n",
              "         [0.9860]]))"
            ]
          },
          "metadata": {},
          "execution_count": 13
        }
      ]
    },
    {
      "cell_type": "code",
      "source": [
        "# with our using `inference_mode()` method\n",
        "y_preds = model_0(X_test)\n",
        "y_preds"
      ],
      "metadata": {
        "colab": {
          "base_uri": "https://localhost:8080/"
        },
        "id": "jCPkqDi6Xu69",
        "outputId": "354e522b-e3cb-442d-f67b-8a7f3a9aba6d"
      },
      "execution_count": 14,
      "outputs": [
        {
          "output_type": "execute_result",
          "data": {
            "text/plain": [
              "tensor([[0.3929],\n",
              "        [0.3997],\n",
              "        [0.4064],\n",
              "        [0.4131],\n",
              "        [0.4199],\n",
              "        [0.4266],\n",
              "        [0.4333],\n",
              "        [0.4401],\n",
              "        [0.4468],\n",
              "        [0.4535]], dtype=torch.float64, grad_fn=<AddBackward0>)"
            ]
          },
          "metadata": {},
          "execution_count": 14
        }
      ]
    },
    {
      "cell_type": "code",
      "source": [
        "# Make predictions with model\n",
        "\n",
        "'''\n",
        "## You can also do something similar with `torch.no_grad(), however `torch.inference_mode()` if preferred.\n",
        "\n",
        "with torch.no_grad():\n",
        "  y_preds = model_0(X_test)\n",
        "\n",
        "y_preds\n",
        "'''\n",
        "\n",
        "with torch.inference_mode(): # `torch.inference_mode()` disable to calculate or track `grad`\n",
        "  y_preds = model_0(X_test)\n",
        "\n",
        "y_preds\n"
      ],
      "metadata": {
        "colab": {
          "base_uri": "https://localhost:8080/"
        },
        "id": "4W__FMroXID1",
        "outputId": "e1bd2fb6-5be7-46cb-e999-5f4a3a97ceff"
      },
      "execution_count": 15,
      "outputs": [
        {
          "output_type": "execute_result",
          "data": {
            "text/plain": [
              "tensor([[0.3929],\n",
              "        [0.3997],\n",
              "        [0.4064],\n",
              "        [0.4131],\n",
              "        [0.4199],\n",
              "        [0.4266],\n",
              "        [0.4333],\n",
              "        [0.4401],\n",
              "        [0.4468],\n",
              "        [0.4535]], dtype=torch.float64)"
            ]
          },
          "metadata": {},
          "execution_count": 15
        }
      ]
    },
    {
      "cell_type": "markdown",
      "source": [
        "See more on inference mode here - https://twitter.com/PyTorch/status/1437838231505096708?lang=en"
      ],
      "metadata": {
        "id": "vqvz1wKpYhel"
      }
    },
    {
      "cell_type": "code",
      "source": [
        "# let's look at the `y_test`\n",
        "y_test"
      ],
      "metadata": {
        "colab": {
          "base_uri": "https://localhost:8080/"
        },
        "id": "h5oTmeeLQVoF",
        "outputId": "494ce74c-8f3b-4850-a73f-3e4348df383e"
      },
      "execution_count": 16,
      "outputs": [
        {
          "output_type": "execute_result",
          "data": {
            "text/plain": [
              "tensor([[0.8600],\n",
              "        [0.8740],\n",
              "        [0.8880],\n",
              "        [0.9020],\n",
              "        [0.9160],\n",
              "        [0.9300],\n",
              "        [0.9440],\n",
              "        [0.9580],\n",
              "        [0.9720],\n",
              "        [0.9860]])"
            ]
          },
          "metadata": {},
          "execution_count": 16
        }
      ]
    },
    {
      "cell_type": "code",
      "source": [
        "# visualize\n",
        "plot_predictions(predictions=y_preds)"
      ],
      "metadata": {
        "colab": {
          "base_uri": "https://localhost:8080/",
          "height": 430
        },
        "id": "mye91Y0mS1aO",
        "outputId": "f03541eb-368e-4df7-d584-196e2aace48d"
      },
      "execution_count": 17,
      "outputs": [
        {
          "output_type": "display_data",
          "data": {
            "text/plain": [
              "<Figure size 640x480 with 1 Axes>"
            ],
            "image/png": "[encoded data removed]"
          },
          "metadata": {}
        }
      ]
    },
    {
      "cell_type": "markdown",
      "source": [
        "## 3. Train model\n",
        "\n",
        "The whole idea of training is for a model to move from some *unknown* parameters (these maybe random) to some *known* parameters.\n",
        "\n",
        "Or in other words, from a poor representation of the data to a better representation of the data.\n",
        "\n",
        "\n",
        "One way to measure how poor or how wrong your models predictions are is to use a [**loss functions**](https://pytorch.org/docs/stable/nn.html#loss-functions)\n",
        "\n",
        "* Note: Loss function maybe also be called cost function or criterion in different areas. For our case, we're going to refer to it as a loss function.\n",
        "\n",
        "\n",
        "Things we need to train::\n",
        "\n",
        "* [**Loss Function:**](https://pytorch.org/docs/stable/generated/torch.nn.L1Loss.html#torch.nn.L1Loss) A function to measure how wrong your model predictions are to the ideal outputs, lower is better.\n",
        "\n",
        "* [**Optimizer:**](https://pytorch.org/docs/stable/optim.html) Takes into account the loss of a model and adjusts the model's parameter's (e.g. weight and bias in our case) to improve the `loss function`.\n",
        "  * `params`: the model parameters you'd like to optimize of example `params=model_0.parameters()`\n",
        "  * `lr` (learning rate): the learning rate is a hyperparameter that defines how big/small the optimizer changes the parameters with each step (a small `lr` results in small changes, a large `lr` results in large changes)\n",
        "\n",
        "And specifically for PyTorch, we need:\n",
        "* A training loop\n",
        "* A testing loop"
      ],
      "metadata": {
        "id": "PK-tXyx3Q9ky"
      }
    },
    {
      "cell_type": "code",
      "source": [
        "list(model_0.parameters())"
      ],
      "metadata": {
        "colab": {
          "base_uri": "https://localhost:8080/"
        },
        "id": "XPgO6vzBU4pU",
        "outputId": "a9341ef7-a376-40d0-959c-8a3b9f5d0143"
      },
      "execution_count": 18,
      "outputs": [
        {
          "output_type": "execute_result",
          "data": {
            "text/plain": [
              "[Parameter containing:\n",
              " tensor([0.3367], dtype=torch.float64, requires_grad=True),\n",
              " Parameter containing:\n",
              " tensor([0.1236], dtype=torch.float64, requires_grad=True)]"
            ]
          },
          "metadata": {},
          "execution_count": 18
        }
      ]
    },
    {
      "cell_type": "code",
      "source": [
        "# Check out our model's parameters (a parameters is a value that the model sets itself)\n",
        "model_0.state_dict()"
      ],
      "metadata": {
        "id": "MI-LWfU5TWHk",
        "colab": {
          "base_uri": "https://localhost:8080/"
        },
        "outputId": "3d2ad564-4125-42ac-9956-bc6f758e5550"
      },
      "execution_count": 19,
      "outputs": [
        {
          "output_type": "execute_result",
          "data": {
            "text/plain": [
              "OrderedDict([('weights', tensor([0.3367], dtype=torch.float64)),\n",
              "             ('bias', tensor([0.1236], dtype=torch.float64))])"
            ]
          },
          "metadata": {},
          "execution_count": 19
        }
      ]
    },
    {
      "cell_type": "markdown",
      "source": [
        "#### Extra Curriculum\n",
        "**Reading** the documentation:\n",
        "* https://pytorch.org/docs/stable/generated/torch.nn.L1Loss.html#torch.nn.L1Loss\n",
        "* https://pytorch.org/docs/stable/optim.html"
      ],
      "metadata": {
        "id": "syjU0IyZXUUv"
      }
    },
    {
      "cell_type": "markdown",
      "source": [
        "* Note:\n",
        "  * the small of the learning rate (lr), the small of the change in parameter\n",
        "  * the larger of the learning rate (lr), the larger of the change in parameter"
      ],
      "metadata": {
        "id": "DArQOHeCdrnH"
      }
    },
    {
      "cell_type": "code",
      "source": [
        "# Setup a loss function\n",
        "loss_fn = nn.L1Loss()\n",
        "\n",
        "# Setup an optimizer (stochastic gradient descent) #https://pytorch.org/docs/stable/generated/torch.optim.SGD.html#torch.optim.SGD\n",
        "optimizer = torch.optim.SGD(params=model_0.parameters(),\n",
        "                            lr= 0.01) # lr = learning rate = possibly the most important hyperparameter you can set\n"
      ],
      "metadata": {
        "id": "2PpMaNkuUU4T"
      },
      "execution_count": 20,
      "outputs": []
    },
    {
      "cell_type": "markdown",
      "source": [
        "**Q:** Which loss function and optimizer should i use?\n",
        "\n",
        "**A:** This will problem specific. But with experience, you will get an idea of what works and what doesn't with yoour particular problem set.\n",
        "\n",
        "For examle, for a Regression problem (like ours), a loss function of `nn.L1Loss()` and an optimizer like `torch.optim.SGD()` will suffice.\n",
        "\n",
        "But for a classification problem like classifying whether a photo is of dog or a cat, you'll likely want to use a loss function of `nn.BCELoss()` (binary cross entropy loss)."
      ],
      "metadata": {
        "id": "gPhQZQOsgAsw"
      }
    },
    {
      "cell_type": "markdown",
      "source": [
        "### Building a training loop (and a testing loop) in PyTorch\n",
        "\n",
        "A couple of things we need in a training loop:\n",
        "0. Loop through the data and do...\n",
        "1. Forward pass (this involves data moving through our model's `forward()` functions) to make some predictions on data - also called forward propagation\n",
        "2. Calculate the loss (compare forward pass predictions to ground truth labels)\n",
        "3. Optimizer zero grad\n",
        "4. Loss backward - move backwards through the network to calculate the gradients of each of the parameters of our model with respect to the loss (**backpropagation** - https://www.youtube.com/watch?v=tIeHLnjs5U8)\n",
        "5. Optimizer step - use the optimizer to adjust our model's parameters to try and improve the loss (**gradient descent** - https://www.youtube.com/watch?v=IHZwWFHWa-w)"
      ],
      "metadata": {
        "id": "wTlFsGsBuugI"
      }
    },
    {
      "cell_type": "code",
      "source": [
        "list(model_0.parameters()) # in the model we build future, likely be set automatically rather than you setting them explicitly, like we've done when you create `model_0`"
      ],
      "metadata": {
        "colab": {
          "base_uri": "https://localhost:8080/"
        },
        "id": "ffL_UtEAx_4H",
        "outputId": "20753b31-8afe-4724-e7d0-91b7a0082ce0"
      },
      "execution_count": 21,
      "outputs": [
        {
          "output_type": "execute_result",
          "data": {
            "text/plain": [
              "[Parameter containing:\n",
              " tensor([0.3367], dtype=torch.float64, requires_grad=True),\n",
              " Parameter containing:\n",
              " tensor([0.1236], dtype=torch.float64, requires_grad=True)]"
            ]
          },
          "metadata": {},
          "execution_count": 21
        }
      ]
    },
    {
      "cell_type": "code",
      "source": [
        "torch.manual_seed(42)\n",
        "\n",
        "# An epoch is one loop through the data... (this is a hyper parameter because we've set it ourselves )\n",
        "epochs = 1\n",
        "\n",
        "### Training\n",
        "# 0. Loop through the data\n",
        "for epoch in range(epochs):\n",
        "  # Set the model to training mode\n",
        "  model_0.train() # train mode in PyTorch sets all parameters that requires graidents to require gradients\n",
        "\n",
        "  # 1. Forward pass\n",
        "  y_pred = model_0(X_train)\n",
        "\n",
        "  # 2. Calulcate the loos\n",
        "  loss = loss_fn(y_pred, y_train) # torch.L1Loss(input, target)\n",
        "  print(f\"Loss: {loss}\")\n",
        "\n",
        "  # 3. Optimizer zero grad\n",
        "  optimizer.zero_grad()\n",
        "\n",
        "  # 4. Performn backpropagation on the loss wioth respect to the parameters of the model\n",
        "  loss.backward()\n",
        "\n",
        "  # 5. Step the optimizert (perform gradient descent)\n",
        "  optimizer.step() # by default how the optimizer changes will accumulate through the loop, so... we have to zero them in step 3 for the next iteration of the loop\n",
        "\n",
        "  ### Testing\n",
        "  model_0.eval() # `eval()` sets the PyTorch model to evaluation mode, disabling operations like dropout, useful for inference and testing. This method plays a pivotal role in ensuring consistent and reliable model behavior during inference and testing.\n",
        "\n",
        "print(model_0.state_dict())\n"
      ],
      "metadata": {
        "colab": {
          "base_uri": "https://localhost:8080/"
        },
        "id": "lzjmQBm5ZIOT",
        "outputId": "af6b991a-04cf-4dc1-e111-a99f1187ca40"
      },
      "execution_count": 22,
      "outputs": [
        {
          "output_type": "stream",
          "name": "stdout",
          "text": [
            "Loss: 0.31810468919973606\n",
            "OrderedDict([('weights', tensor([0.3406], dtype=torch.float64)), ('bias', tensor([0.1336], dtype=torch.float64))])\n"
          ]
        }
      ]
    },
    {
      "cell_type": "code",
      "source": [
        "'''\n",
        "#### practice\n",
        "\n",
        "epochs = 10\n",
        "for epoch in range(epochs):\n",
        "  # set the model in training mode\n",
        "  model_0.train()\n",
        "\n",
        "  # 1. Forward pass\n",
        "  y_pred = model_0(X_train)\n",
        "\n",
        "  # 2. Calculate the loss\n",
        "  loss = loss_fn(y_pred, y_train)\n",
        "\n",
        "  # 3. Optimizer zero grid\n",
        "  optimizer.zero_grad()\n",
        "\n",
        "  # 4. backward\n",
        "  loss.backward()\n",
        "\n",
        "  # 5. Optimizer step\n",
        "  optimizer.step()\n",
        "\n",
        "  # Testing\n",
        "  model_0.eval()\n",
        "'''"
      ],
      "metadata": {
        "id": "pqw0ZY1hZJvX",
        "colab": {
          "base_uri": "https://localhost:8080/",
          "height": 71
        },
        "outputId": "bfbb4037-e6f9-4616-e128-a0a8ed0a84f1"
      },
      "execution_count": 23,
      "outputs": [
        {
          "output_type": "execute_result",
          "data": {
            "text/plain": [
              "'\\n#### practice\\n\\nepochs = 10\\nfor epoch in range(epochs):\\n  # set the model in training mode\\n  model_0.train()\\n\\n  # 1. Forward pass\\n  y_pred = model_0(X_train)\\n\\n  # 2. Calculate the loss\\n  loss = loss_fn(y_pred, y_train)\\n\\n  # 3. Optimizer zero grid\\n  optimizer.zero_grad()\\n\\n  # 4. backward\\n  loss.backward()\\n\\n  # 5. Optimizer step\\n  optimizer.step()\\n\\n  # Testing\\n  model_0.eval()\\n'"
            ],
            "application/vnd.google.colaboratory.intrinsic+json": {
              "type": "string"
            }
          },
          "metadata": {},
          "execution_count": 23
        }
      ]
    },
    {
      "cell_type": "code",
      "source": [
        "model_0.state_dict()"
      ],
      "metadata": {
        "colab": {
          "base_uri": "https://localhost:8080/"
        },
        "id": "kYY79BH3OVXF",
        "outputId": "abbe9536-d6e8-442a-8c72-b5ecf7abf754"
      },
      "execution_count": 24,
      "outputs": [
        {
          "output_type": "execute_result",
          "data": {
            "text/plain": [
              "OrderedDict([('weights', tensor([0.3406], dtype=torch.float64)),\n",
              "             ('bias', tensor([0.1336], dtype=torch.float64))])"
            ]
          },
          "metadata": {},
          "execution_count": 24
        }
      ]
    },
    {
      "cell_type": "code",
      "source": [
        "with torch.inference_mode():\n",
        "  y_preds_new = model_0(X_test)"
      ],
      "metadata": {
        "id": "saRmPfu0On-H"
      },
      "execution_count": 25,
      "outputs": []
    },
    {
      "cell_type": "code",
      "source": [
        "plot_predictions(predictions=y_preds)"
      ],
      "metadata": {
        "colab": {
          "base_uri": "https://localhost:8080/",
          "height": 430
        },
        "id": "peaLyJIQQZ9C",
        "outputId": "cdb39cab-a7cd-4dc8-c233-ff54067ef64a"
      },
      "execution_count": 26,
      "outputs": [
        {
          "output_type": "display_data",
          "data": {
            "text/plain": [
              "<Figure size 640x480 with 1 Axes>"
            ],
            "image/png": "[encoded data removed]"
          },
          "metadata": {}
        }
      ]
    },
    {
      "cell_type": "code",
      "source": [
        "plot_predictions(predictions=y_preds_new)"
      ],
      "metadata": {
        "colab": {
          "base_uri": "https://localhost:8080/",
          "height": 430
        },
        "id": "DvZpAf0OQeMn",
        "outputId": "dddd23ff-fd40-4147-fa36-67a6ae976d58"
      },
      "execution_count": 27,
      "outputs": [
        {
          "output_type": "display_data",
          "data": {
            "text/plain": [
              "<Figure size 640x480 with 1 Axes>"
            ],
            "image/png": "[encoded data removed]"
          },
          "metadata": {}
        }
      ]
    },
    {
      "cell_type": "code",
      "source": [],
      "metadata": {
        "id": "0_fxJjRzQlCg"
      },
      "execution_count": 27,
      "outputs": []
    },
    {
      "cell_type": "markdown",
      "source": [
        "### Practice"
      ],
      "metadata": {
        "id": "AttCppt7R5cU"
      }
    },
    {
      "cell_type": "code",
      "source": [
        "torch.manual_seed(42)\n",
        "epochs = 100\n",
        "for epoch in range(epochs):\n",
        "  # set the model in training mode\n",
        "  model_0.train()\n",
        "\n",
        "  # 1. Forward pass\n",
        "  y_pred = model_0(X_train)\n",
        "\n",
        "  # 2. Calculate the loss\n",
        "  loss = loss_fn(y_pred, y_train)\n",
        "\n",
        "  print(f\"Loss: {loss}\")\n",
        "\n",
        "  # 3. Optimizer zero grid\n",
        "  optimizer.zero_grad()\n",
        "\n",
        "  # 4. backward\n",
        "  loss.backward()\n",
        "\n",
        "  # 5. Optimizer step\n",
        "  optimizer.step()\n",
        "\n",
        "  ### Testing\n",
        "  model_0.eval() # turns off different settings in the model not needed for evaluation/testing (dropout [https://pytorch.org/docs/stable/nn.html#dropout-layers] / batch norm layers)\n",
        "  with torch.inference_mode(): # turns off gradient tracking & a couple more things behind the scenes\n",
        "    # 1. Do the forward pass\n",
        "    test_pred = model_0(X_test)\n",
        "\n",
        "    # 2. Calulate the loss\n",
        "    test_loss = loss_fn(test_pred, y_test)\n",
        "\n",
        "  # Print out what happening\n",
        "  if epoch % 10 == 0:\n",
        "    print(f\"Epoch: {epoch} | Loss: {loss} | Test loss: {test_loss}\")\n",
        "\n",
        "    # Print out model state_dict()\n",
        "    print(model_0.state_dict())"
      ],
      "metadata": {
        "colab": {
          "base_uri": "https://localhost:8080/"
        },
        "id": "yZ5QxuMHR7en",
        "outputId": "1b8d2de8-5e8a-45e8-bc44-3d78db85504b"
      },
      "execution_count": 28,
      "outputs": [
        {
          "output_type": "stream",
          "name": "stdout",
          "text": [
            "Loss: 0.3065836892633715\n",
            "Epoch: 0 | Loss: 0.3065836892633715 | Test loss: 0.47281751655167287\n",
            "OrderedDict([('weights', tensor([0.3445], dtype=torch.float64)), ('bias', tensor([0.1436], dtype=torch.float64))])\n",
            "Loss: 0.29506268932700686\n",
            "Loss: 0.2835416893906423\n",
            "Loss: 0.2720206894542777\n",
            "Loss: 0.260499689517913\n",
            "Loss: 0.24897868958154845\n",
            "Loss: 0.23745768964518382\n",
            "Loss: 0.22593668970881922\n",
            "Loss: 0.2144156897724546\n",
            "Loss: 0.20289468983609\n",
            "Loss: 0.19137368989972536\n",
            "Epoch: 10 | Loss: 0.19137368989972536 | Test loss: 0.33810751690583596\n",
            "OrderedDict([('weights', tensor([0.3835], dtype=torch.float64)), ('bias', tensor([0.2436], dtype=torch.float64))])\n",
            "Loss: 0.1798526899633608\n",
            "Loss: 0.16833169002699616\n",
            "Loss: 0.1568106900906316\n",
            "Loss: 0.14528969015426693\n",
            "Loss: 0.13376869021790233\n",
            "Loss: 0.12224769028153773\n",
            "Loss: 0.11090599338784712\n",
            "Loss: 0.10080097078236294\n",
            "Loss: 0.09230156513269397\n",
            "Loss: 0.08485211509121593\n",
            "Epoch: 20 | Loss: 0.08485211509121593 | Test loss: 0.2106111172591713\n",
            "OrderedDict([('weights', tensor([0.4223], dtype=torch.float64)), ('bias', tensor([0.3366], dtype=torch.float64))])\n",
            "Loss: 0.0787086706820406\n",
            "Loss: 0.07335794676380343\n",
            "Loss: 0.06875863987047295\n",
            "Loss: 0.06510279726717741\n",
            "Loss: 0.06198481499594303\n",
            "Loss: 0.05933956305369481\n",
            "Loss: 0.05714112309837327\n",
            "Loss: 0.05511791147986147\n",
            "Loss: 0.05343683051864111\n",
            "Loss: 0.05202908954781941\n",
            "Epoch: 30 | Loss: 0.05202908954781941 | Test loss: 0.14151541759026176\n",
            "OrderedDict([('weights', tensor([0.4544], dtype=torch.float64)), ('bias', tensor([0.3771], dtype=torch.float64))])\n",
            "Loss: 0.05090008957940242\n",
            "Loss: 0.049838679263687645\n",
            "Loss: 0.04896851929158232\n",
            "Loss: 0.048159389639760915\n",
            "Loss: 0.04749769966663621\n",
            "Loss: 0.046844519990564444\n",
            "Loss: 0.046339910012004694\n",
            "Loss: 0.04583530003344492\n",
            "Loss: 0.04533069005488516\n",
            "Loss: 0.044867931041154545\n",
            "Epoch: 40 | Loss: 0.044867931041154545 | Test loss: 0.11179621783467213\n",
            "OrderedDict([('weights', tensor([0.4777], dtype=torch.float64)), ('bias', tensor([0.3861], dtype=torch.float64))])\n",
            "Loss: 0.04446793105978099\n",
            "Loss: 0.044067931078407445\n",
            "Loss: 0.043667931097033895\n",
            "Loss: 0.043267931115660345\n",
            "Loss: 0.042885439795295674\n",
            "Loss: 0.042536439813132376\n",
            "Loss: 0.042187439830969065\n",
            "Loss: 0.04183843984880576\n",
            "Loss: 0.04148943986664244\n",
            "Loss: 0.04114043988447913\n",
            "Epoch: 50 | Loss: 0.04114043988447913 | Test loss: 0.09806421808573428\n",
            "OrderedDict([('weights', tensor([0.4965], dtype=torch.float64)), ('bias', tensor([0.3831], dtype=torch.float64))])\n",
            "Loss: 0.04079143990231581\n",
            "Loss: 0.04044243992015249\n",
            "Loss: 0.040093439937989195\n",
            "Loss: 0.03974443995582589\n",
            "Loss: 0.03939543997366256\n",
            "Loss: 0.03904643999149925\n",
            "Loss: 0.038697440009335934\n",
            "Loss: 0.03834844002717262\n",
            "Loss: 0.03799944004500934\n",
            "Loss: 0.037650440062846\n",
            "Epoch: 60 | Loss: 0.037650440062846 | Test loss: 0.08704421835503542\n",
            "OrderedDict([('weights', tensor([0.5145], dtype=torch.float64)), ('bias', tensor([0.3781], dtype=torch.float64))])\n",
            "Loss: 0.03730941164592314\n",
            "Loss: 0.03696524009629873\n",
            "Loss: 0.03662040167520997\n",
            "Loss: 0.03628004012975146\n",
            "Loss: 0.03593139170449677\n",
            "Loss: 0.0355948401632042\n",
            "Loss: 0.03524584018104087\n",
            "Loss: 0.03490618174939962\n",
            "Loss: 0.03456064021449361\n",
            "Loss: 0.03421717177868644\n",
            "Epoch: 70 | Loss: 0.03421717177868644 | Test loss: 0.07945871860517371\n",
            "OrderedDict([('weights', tensor([0.5314], dtype=torch.float64)), ('bias', tensor([0.3706], dtype=torch.float64))])\n",
            "Loss: 0.033875440247946344\n",
            "Loss: 0.03352816180797326\n",
            "Loss: 0.033190240281399074\n",
            "Loss: 0.032841240299235755\n",
            "Loss: 0.03250295185287612\n",
            "Loss: 0.03215604033268849\n",
            "Loss: 0.031813941882162924\n",
            "Loss: 0.03147084036614123\n",
            "Loss: 0.031124931911449737\n",
            "Loss: 0.030785640399593955\n",
            "Epoch: 80 | Loss: 0.030785640399593955 | Test loss: 0.07118631885914456\n",
            "OrderedDict([('weights', tensor([0.5486], dtype=torch.float64)), ('bias', tensor([0.3636], dtype=torch.float64))])\n",
            "Loss: 0.03043664041743064\n",
            "Loss: 0.030099721956352604\n",
            "Loss: 0.02975144045088337\n",
            "Loss: 0.029410711985639403\n",
            "Loss: 0.029066240484336103\n",
            "Loss: 0.02872170201492622\n",
            "Loss: 0.028381040517788843\n",
            "Loss: 0.028032692044213037\n",
            "Loss: 0.02769584055124157\n",
            "Loss: 0.027346840569078268\n",
            "Epoch: 90 | Loss: 0.027346840569078268 | Test loss: 0.06291391911311538\n",
            "OrderedDict([('weights', tensor([0.5657], dtype=torch.float64)), ('bias', tensor([0.3566], dtype=torch.float64))])\n",
            "Loss: 0.0270074820891159\n",
            "Loss: 0.026661640602530977\n",
            "Loss: 0.026318472118402696\n",
            "Loss: 0.02597644063598371\n",
            "Loss: 0.02562946214768952\n",
            "Loss: 0.025291240669436443\n",
            "Loss: 0.02494224068727313\n",
            "Loss: 0.024604252192592387\n",
            "Loss: 0.024257040720725865\n"
          ]
        }
      ]
    },
    {
      "cell_type": "code",
      "source": [
        "# predictioons\n",
        "\n",
        "with torch.inference_mode():\n",
        "  y_pred_new_practice = model_0(X_test)"
      ],
      "metadata": {
        "id": "YNZ0bGk3SeEJ"
      },
      "execution_count": 29,
      "outputs": []
    },
    {
      "cell_type": "code",
      "source": [
        "# old\n",
        "plot_predictions(predictions=y_preds_new)"
      ],
      "metadata": {
        "colab": {
          "base_uri": "https://localhost:8080/",
          "height": 430
        },
        "id": "pkUHaaZnSsgA",
        "outputId": "39719253-92bf-4816-8320-9418ed74660b"
      },
      "execution_count": 30,
      "outputs": [
        {
          "output_type": "display_data",
          "data": {
            "text/plain": [
              "<Figure size 640x480 with 1 Axes>"
            ],
            "image/png": "[encoded data removed]"
          },
          "metadata": {}
        }
      ]
    },
    {
      "cell_type": "code",
      "source": [
        "# new prediction with 100 epochs\n",
        "plot_predictions(predictions=y_pred_new_practice)"
      ],
      "metadata": {
        "colab": {
          "base_uri": "https://localhost:8080/",
          "height": 430
        },
        "id": "PKjkrO8JSIHa",
        "outputId": "b7fd969b-0877-4036-82ad-b3cbeb954010"
      },
      "execution_count": 31,
      "outputs": [
        {
          "output_type": "display_data",
          "data": {
            "text/plain": [
              "<Figure size 640x480 with 1 Axes>"
            ],
            "image/png": "[encoded data removed]"
          },
          "metadata": {}
        }
      ]
    },
    {
      "cell_type": "code",
      "source": [
        "# practice with 150 epochs\n",
        "\n",
        "torch.manual_seed(42)\n",
        "epochs = 150\n",
        "for epoch in range(epochs):\n",
        "  # set the model in training mode\n",
        "  model_0.train()\n",
        "\n",
        "  # 1. Forward pass\n",
        "  y_pred = model_0(X_train)\n",
        "\n",
        "  # 2. Calculate the loss\n",
        "  loss = loss_fn(y_pred, y_train)\n",
        "\n",
        "  print(f\"Loss: {loss}\")\n",
        "\n",
        "  # 3. Optimizer zero grid\n",
        "  optimizer.zero_grad()\n",
        "\n",
        "  # 4. backward\n",
        "  loss.backward()\n",
        "\n",
        "  # 5. Optimizer step\n",
        "  optimizer.step()\n",
        "\n",
        "  ### Testing\n",
        "  model_0.eval() # turns off different settings in the model not needed for evaluation/testing (dropout [https://pytorch.org/docs/stable/nn.html#dropout-layers] / batch norm layers)\n",
        "  with torch.inference_mode(): # turns off gradient tracking & a couple more things behind the scenes\n",
        "    # 1. Do the forward pass\n",
        "    test_pred = model_0(X_test)\n",
        "\n",
        "    # 2. Calulate the loss\n",
        "    test_loss = loss_fn(test_pred, y_test)\n",
        "\n",
        "  # Print out what happening\n",
        "  if epoch % 10 == 0:\n",
        "    print(f\"Epoch: {epoch} | Loss: {loss} | Test loss: {test_loss}\")\n",
        "\n",
        "    # Print out model state_dict()\n",
        "    print(model_0.state_dict())"
      ],
      "metadata": {
        "id": "e4MwwbBnSpaw",
        "colab": {
          "base_uri": "https://localhost:8080/"
        },
        "outputId": "0f8f45f5-5cdb-4122-c8c8-9ecb76e1dee1"
      },
      "execution_count": 32,
      "outputs": [
        {
          "output_type": "stream",
          "name": "stdout",
          "text": [
            "Loss: 0.023915242221879185\n",
            "Epoch: 0 | Loss: 0.023915242221879185 | Test loss: 0.0553284193632537\n",
            "OrderedDict([('weights', tensor([0.5827], dtype=torch.float64)), ('bias', tensor([0.3491], dtype=torch.float64))])\n",
            "Loss: 0.023571840754178598\n",
            "Loss: 0.023226232251165997\n",
            "Loss: 0.02288664078763132\n",
            "Loss: 0.022537640805468016\n",
            "Loss: 0.022201022296068844\n",
            "Loss: 0.02185244083892074\n",
            "Loss: 0.021512012325355673\n",
            "Loss: 0.021167240872373465\n",
            "Loss: 0.020823002354642482\n",
            "Loss: 0.02048204090582621\n",
            "Epoch: 10 | Loss: 0.02048204090582621 | Test loss: 0.04705601961722454\n",
            "OrderedDict([('weights', tensor([0.5998], dtype=torch.float64)), ('bias', tensor([0.3421], dtype=torch.float64))])\n",
            "Loss: 0.0201339923839293\n",
            "Loss: 0.019796840939278942\n",
            "Loss: 0.01944784095711562\n",
            "Loss: 0.019108782428832148\n",
            "Loss: 0.018762640990568354\n",
            "Loss: 0.018419772458118967\n",
            "Loss: 0.01807744102402109\n",
            "Loss: 0.017730762487405776\n",
            "Loss: 0.017392241057473824\n",
            "Loss: 0.017043241075310512\n",
            "Epoch: 20 | Loss: 0.017043241075310512 | Test loss: 0.03878361987119543\n",
            "OrderedDict([('weights', tensor([0.6170], dtype=torch.float64)), ('bias', tensor([0.3351], dtype=torch.float64))])\n",
            "Loss: 0.016705552532308637\n",
            "Loss: 0.01635804110876323\n",
            "Loss: 0.01601654256159545\n",
            "Loss: 0.015672841142215965\n",
            "Loss: 0.015327532590882265\n",
            "Loss: 0.014987641175668693\n",
            "Loss: 0.014638641193505381\n",
            "Loss: 0.01430232263578512\n",
            "Loss: 0.01395344122695812\n",
            "Loss: 0.013613312665071934\n",
            "Epoch: 30 | Loss: 0.013613312665071934 | Test loss: 0.031198120121333682\n",
            "OrderedDict([('weights', tensor([0.6340], dtype=torch.float64)), ('bias', tensor([0.3276], dtype=torch.float64))])\n",
            "Loss: 0.013268241260410851\n",
            "Loss: 0.012924302694358753\n",
            "Loss: 0.012583041293863584\n",
            "Loss: 0.012235292723645562\n",
            "Loss: 0.011897841327316316\n",
            "Loss: 0.011548841345153\n",
            "Loss: 0.011210082768548398\n",
            "Loss: 0.010863641378605734\n",
            "Loss: 0.010521072797835228\n",
            "Loss: 0.01017844141205846\n",
            "Epoch: 40 | Loss: 0.01017844141205846 | Test loss: 0.022925720375304538\n",
            "OrderedDict([('weights', tensor([0.6511], dtype=torch.float64)), ('bias', tensor([0.3206], dtype=torch.float64))])\n",
            "Loss: 0.00983206282712204\n",
            "Loss: 0.009493241445511193\n",
            "Loss: 0.009144241463347875\n",
            "Loss: 0.008806852872024899\n",
            "Loss: 0.008459041496800596\n",
            "Loss: 0.008117842901311713\n",
            "Loss: 0.007773841530253333\n",
            "Loss: 0.007428832930598525\n",
            "Loss: 0.007088641563706063\n",
            "Loss: 0.006739822959885344\n",
            "Epoch: 50 | Loss: 0.006739822959885344 | Test loss: 0.015340220625442824\n",
            "OrderedDict([('weights', tensor([0.6681], dtype=torch.float64)), ('bias', tensor([0.3131], dtype=torch.float64))])\n",
            "Loss: 0.006403441597158806\n",
            "Loss: 0.0060544416149954875\n",
            "Loss: 0.005714613004788173\n",
            "Loss: 0.005369241648448221\n",
            "Loss: 0.005025603034074999\n",
            "Loss: 0.004684041681900952\n",
            "Loss: 0.004336593063361821\n",
            "Loss: 0.003998841715353689\n",
            "Loss: 0.0036498417331903635\n",
            "Loss: 0.003311383108264676\n",
            "Epoch: 60 | Loss: 0.003311383108264676 | Test loss: 0.0070678208794136225\n",
            "OrderedDict([('weights', tensor([0.6852], dtype=torch.float64)), ('bias', tensor([0.3061], dtype=torch.float64))])\n",
            "Loss: 0.002964641766643082\n",
            "Loss: 0.0026223731375514966\n",
            "Loss: 0.0022794418000958256\n",
            "Loss: 0.0019333631668383131\n",
            "Loss: 0.001599933223924821\n",
            "Loss: 0.00131579740522577\n",
            "Loss: 0.0020045986471288165\n",
            "Loss: 0.009020704331909797\n",
            "Loss: 0.0025002956044548096\n",
            "Loss: 0.009020704331909797\n",
            "Epoch: 70 | Loss: 0.009020704331909797 | Test loss: 0.005175121018517459\n",
            "OrderedDict([('weights', tensor([0.6947], dtype=torch.float64)), ('bias', tensor([0.2996], dtype=torch.float64))])\n",
            "Loss: 0.0025002956044548096\n",
            "Loss: 0.009020704331909797\n",
            "Loss: 0.0025002956044548096\n",
            "Loss: 0.009020704331909797\n",
            "Loss: 0.0025002956044548096\n",
            "Loss: 0.009020704331909797\n",
            "Loss: 0.0025002956044548096\n",
            "Loss: 0.009020704331909797\n",
            "Loss: 0.0025002956044548096\n",
            "Loss: 0.009020704331909797\n",
            "Epoch: 80 | Loss: 0.009020704331909797 | Test loss: 0.005175121018517459\n",
            "OrderedDict([('weights', tensor([0.6947], dtype=torch.float64)), ('bias', tensor([0.2996], dtype=torch.float64))])\n",
            "Loss: 0.0025002956044548096\n",
            "Loss: 0.009020704331909797\n",
            "Loss: 0.0025002956044548096\n",
            "Loss: 0.009020704331909797\n",
            "Loss: 0.0025002956044548096\n",
            "Loss: 0.009020704331909797\n",
            "Loss: 0.0025002956044548096\n",
            "Loss: 0.009020704331909797\n",
            "Loss: 0.0025002956044548096\n",
            "Loss: 0.009020704331909797\n",
            "Epoch: 90 | Loss: 0.009020704331909797 | Test loss: 0.005175121018517459\n",
            "OrderedDict([('weights', tensor([0.6947], dtype=torch.float64)), ('bias', tensor([0.2996], dtype=torch.float64))])\n",
            "Loss: 0.0025002956044548096\n",
            "Loss: 0.009020704331909797\n",
            "Loss: 0.0025002956044548096\n",
            "Loss: 0.009020704331909797\n",
            "Loss: 0.0025002956044548096\n",
            "Loss: 0.009020704331909797\n",
            "Loss: 0.0025002956044548096\n",
            "Loss: 0.009020704331909797\n",
            "Loss: 0.0025002956044548096\n",
            "Loss: 0.009020704331909797\n",
            "Epoch: 100 | Loss: 0.009020704331909797 | Test loss: 0.005175121018517459\n",
            "OrderedDict([('weights', tensor([0.6947], dtype=torch.float64)), ('bias', tensor([0.2996], dtype=torch.float64))])\n",
            "Loss: 0.0025002956044548096\n",
            "Loss: 0.009020704331909797\n",
            "Loss: 0.0025002956044548096\n",
            "Loss: 0.009020704331909797\n",
            "Loss: 0.0025002956044548096\n",
            "Loss: 0.009020704331909797\n",
            "Loss: 0.0025002956044548096\n",
            "Loss: 0.009020704331909797\n",
            "Loss: 0.0025002956044548096\n",
            "Loss: 0.009020704331909797\n",
            "Epoch: 110 | Loss: 0.009020704331909797 | Test loss: 0.005175121018517459\n",
            "OrderedDict([('weights', tensor([0.6947], dtype=torch.float64)), ('bias', tensor([0.2996], dtype=torch.float64))])\n",
            "Loss: 0.0025002956044548096\n",
            "Loss: 0.009020704331909797\n",
            "Loss: 0.0025002956044548096\n",
            "Loss: 0.009020704331909797\n",
            "Loss: 0.0025002956044548096\n",
            "Loss: 0.009020704331909797\n",
            "Loss: 0.0025002956044548096\n",
            "Loss: 0.009020704331909797\n",
            "Loss: 0.0025002956044548096\n",
            "Loss: 0.009020704331909797\n",
            "Epoch: 120 | Loss: 0.009020704331909797 | Test loss: 0.005175121018517459\n",
            "OrderedDict([('weights', tensor([0.6947], dtype=torch.float64)), ('bias', tensor([0.2996], dtype=torch.float64))])\n",
            "Loss: 0.0025002956044548096\n",
            "Loss: 0.009020704331909797\n",
            "Loss: 0.0025002956044548096\n",
            "Loss: 0.009020704331909797\n",
            "Loss: 0.0025002956044548096\n",
            "Loss: 0.009020704331909797\n",
            "Loss: 0.0025002956044548096\n",
            "Loss: 0.009020704331909797\n",
            "Loss: 0.0025002956044548096\n",
            "Loss: 0.009020704331909797\n",
            "Epoch: 130 | Loss: 0.009020704331909797 | Test loss: 0.005175121018517459\n",
            "OrderedDict([('weights', tensor([0.6947], dtype=torch.float64)), ('bias', tensor([0.2996], dtype=torch.float64))])\n",
            "Loss: 0.0025002956044548096\n",
            "Loss: 0.009020704331909797\n",
            "Loss: 0.0025002956044548096\n",
            "Loss: 0.009020704331909797\n",
            "Loss: 0.0025002956044548096\n",
            "Loss: 0.009020704331909797\n",
            "Loss: 0.0025002956044548096\n",
            "Loss: 0.009020704331909797\n",
            "Loss: 0.0025002956044548096\n",
            "Loss: 0.009020704331909797\n",
            "Epoch: 140 | Loss: 0.009020704331909797 | Test loss: 0.005175121018517459\n",
            "OrderedDict([('weights', tensor([0.6947], dtype=torch.float64)), ('bias', tensor([0.2996], dtype=torch.float64))])\n",
            "Loss: 0.0025002956044548096\n",
            "Loss: 0.009020704331909797\n",
            "Loss: 0.0025002956044548096\n",
            "Loss: 0.009020704331909797\n",
            "Loss: 0.0025002956044548096\n",
            "Loss: 0.009020704331909797\n",
            "Loss: 0.0025002956044548096\n",
            "Loss: 0.009020704331909797\n",
            "Loss: 0.0025002956044548096\n"
          ]
        }
      ]
    },
    {
      "cell_type": "code",
      "source": [
        "# make some predictions\n",
        "with torch.inference_mode():\n",
        "  y_pred_150_epochs = model_0(X_test)"
      ],
      "metadata": {
        "id": "llaTXSoBawGb"
      },
      "execution_count": 33,
      "outputs": []
    },
    {
      "cell_type": "code",
      "source": [
        "# 10 epochs\n",
        "plot_predictions(predictions=y_preds_new)"
      ],
      "metadata": {
        "colab": {
          "base_uri": "https://localhost:8080/",
          "height": 430
        },
        "id": "Wm-ZQVebbwi_",
        "outputId": "877f62bd-65b3-41c0-d3b7-b722d2e1f80a"
      },
      "execution_count": 34,
      "outputs": [
        {
          "output_type": "display_data",
          "data": {
            "text/plain": [
              "<Figure size 640x480 with 1 Axes>"
            ],
            "image/png": "[encoded data removed]"
          },
          "metadata": {}
        }
      ]
    },
    {
      "cell_type": "code",
      "source": [
        "# 100 epochs plot\n",
        "plot_predictions(predictions=y_pred_new_practice)"
      ],
      "metadata": {
        "colab": {
          "base_uri": "https://localhost:8080/",
          "height": 430
        },
        "id": "Ivu5BLr6bGF7",
        "outputId": "6fc8f5f1-8ed2-4e9e-a606-683887fff38c"
      },
      "execution_count": 35,
      "outputs": [
        {
          "output_type": "display_data",
          "data": {
            "text/plain": [
              "<Figure size 640x480 with 1 Axes>"
            ],
            "image/png": "[encoded data removed]"
          },
          "metadata": {}
        }
      ]
    },
    {
      "cell_type": "code",
      "source": [
        "plot_predictions(predictions=y_pred_150_epochs)"
      ],
      "metadata": {
        "colab": {
          "base_uri": "https://localhost:8080/",
          "height": 430
        },
        "id": "7g4lHAoIa8WI",
        "outputId": "8d3c541c-dbad-4d8e-90b6-86b19c07783e"
      },
      "execution_count": 36,
      "outputs": [
        {
          "output_type": "display_data",
          "data": {
            "text/plain": [
              "<Figure size 640x480 with 1 Axes>"
            ],
            "image/png": "[encoded data removed]"
          },
          "metadata": {}
        }
      ]
    },
    {
      "cell_type": "code",
      "source": [
        "# practice with 150 epochs\n",
        "\n",
        "torch.manual_seed(42)\n",
        "epochs = 200\n",
        "\n",
        "# Track different values\n",
        "epoch_count = []\n",
        "loss_values = []\n",
        "test_loss_values = []\n",
        "\n",
        "for epoch in range(epochs):\n",
        "  # set the model in training mode\n",
        "  model_0.train()\n",
        "\n",
        "  # 1. Forward pass\n",
        "  y_pred = model_0(X_train)\n",
        "\n",
        "  # 2. Calculate the loss\n",
        "  loss = loss_fn(y_pred, y_train)\n",
        "\n",
        "  #print(f\"Loss: {loss}\")\n",
        "\n",
        "  # 3. Optimizer zero grid\n",
        "  optimizer.zero_grad()\n",
        "\n",
        "  # 4. backward\n",
        "  loss.backward()\n",
        "\n",
        "  # 5. Optimizer step\n",
        "  optimizer.step()\n",
        "\n",
        "  ### Testing\n",
        "  model_0.eval() # turns off different settings in the model not needed for evaluation/testing (dropout [https://pytorch.org/docs/stable/nn.html#dropout-layers] / batch norm layers)\n",
        "  with torch.inference_mode(): # turns off gradient tracking & a couple more things behind the scenes\n",
        "    # 1. Do the forward pass\n",
        "    test_pred = model_0(X_test)\n",
        "\n",
        "    # 2. Calulate the loss\n",
        "    test_loss = loss_fn(test_pred, y_test)\n",
        "\n",
        "  # Print out what happening\n",
        "  if epoch % 10 == 0:\n",
        "    epoch_count.append(epoch)\n",
        "    loss_values.append(loss)\n",
        "    test_loss_values.append(test_loss)\n",
        "\n",
        "    print(f\"Epoch: {epoch} | Loss: {loss} | Test loss: {test_loss}\")\n",
        "\n",
        "    # Print out model state_dict()\n",
        "    print(model_0.state_dict())"
      ],
      "metadata": {
        "colab": {
          "base_uri": "https://localhost:8080/"
        },
        "id": "UADBnJLBbB_Y",
        "outputId": "96835ef6-69bf-40d4-90fe-38385ae98d34"
      },
      "execution_count": 37,
      "outputs": [
        {
          "output_type": "stream",
          "name": "stdout",
          "text": [
            "Epoch: 0 | Loss: 0.009020704331909797 | Test loss: 0.005175121018517459\n",
            "OrderedDict([('weights', tensor([0.6947], dtype=torch.float64)), ('bias', tensor([0.2996], dtype=torch.float64))])\n",
            "Epoch: 10 | Loss: 0.009020704331909797 | Test loss: 0.005175121018517459\n",
            "OrderedDict([('weights', tensor([0.6947], dtype=torch.float64)), ('bias', tensor([0.2996], dtype=torch.float64))])\n",
            "Epoch: 20 | Loss: 0.009020704331909797 | Test loss: 0.005175121018517459\n",
            "OrderedDict([('weights', tensor([0.6947], dtype=torch.float64)), ('bias', tensor([0.2996], dtype=torch.float64))])\n",
            "Epoch: 30 | Loss: 0.009020704331909797 | Test loss: 0.005175121018517459\n",
            "OrderedDict([('weights', tensor([0.6947], dtype=torch.float64)), ('bias', tensor([0.2996], dtype=torch.float64))])\n",
            "Epoch: 40 | Loss: 0.009020704331909797 | Test loss: 0.005175121018517459\n",
            "OrderedDict([('weights', tensor([0.6947], dtype=torch.float64)), ('bias', tensor([0.2996], dtype=torch.float64))])\n",
            "Epoch: 50 | Loss: 0.009020704331909797 | Test loss: 0.005175121018517459\n",
            "OrderedDict([('weights', tensor([0.6947], dtype=torch.float64)), ('bias', tensor([0.2996], dtype=torch.float64))])\n",
            "Epoch: 60 | Loss: 0.009020704331909797 | Test loss: 0.005175121018517459\n",
            "OrderedDict([('weights', tensor([0.6947], dtype=torch.float64)), ('bias', tensor([0.2996], dtype=torch.float64))])\n",
            "Epoch: 70 | Loss: 0.009020704331909797 | Test loss: 0.005175121018517459\n",
            "OrderedDict([('weights', tensor([0.6947], dtype=torch.float64)), ('bias', tensor([0.2996], dtype=torch.float64))])\n",
            "Epoch: 80 | Loss: 0.009020704331909797 | Test loss: 0.005175121018517459\n",
            "OrderedDict([('weights', tensor([0.6947], dtype=torch.float64)), ('bias', tensor([0.2996], dtype=torch.float64))])\n",
            "Epoch: 90 | Loss: 0.009020704331909797 | Test loss: 0.005175121018517459\n",
            "OrderedDict([('weights', tensor([0.6947], dtype=torch.float64)), ('bias', tensor([0.2996], dtype=torch.float64))])\n",
            "Epoch: 100 | Loss: 0.009020704331909797 | Test loss: 0.005175121018517459\n",
            "OrderedDict([('weights', tensor([0.6947], dtype=torch.float64)), ('bias', tensor([0.2996], dtype=torch.float64))])\n",
            "Epoch: 110 | Loss: 0.009020704331909797 | Test loss: 0.005175121018517459\n",
            "OrderedDict([('weights', tensor([0.6947], dtype=torch.float64)), ('bias', tensor([0.2996], dtype=torch.float64))])\n",
            "Epoch: 120 | Loss: 0.009020704331909797 | Test loss: 0.005175121018517459\n",
            "OrderedDict([('weights', tensor([0.6947], dtype=torch.float64)), ('bias', tensor([0.2996], dtype=torch.float64))])\n",
            "Epoch: 130 | Loss: 0.009020704331909797 | Test loss: 0.005175121018517459\n",
            "OrderedDict([('weights', tensor([0.6947], dtype=torch.float64)), ('bias', tensor([0.2996], dtype=torch.float64))])\n",
            "Epoch: 140 | Loss: 0.009020704331909797 | Test loss: 0.005175121018517459\n",
            "OrderedDict([('weights', tensor([0.6947], dtype=torch.float64)), ('bias', tensor([0.2996], dtype=torch.float64))])\n",
            "Epoch: 150 | Loss: 0.009020704331909797 | Test loss: 0.005175121018517459\n",
            "OrderedDict([('weights', tensor([0.6947], dtype=torch.float64)), ('bias', tensor([0.2996], dtype=torch.float64))])\n",
            "Epoch: 160 | Loss: 0.009020704331909797 | Test loss: 0.005175121018517459\n",
            "OrderedDict([('weights', tensor([0.6947], dtype=torch.float64)), ('bias', tensor([0.2996], dtype=torch.float64))])\n",
            "Epoch: 170 | Loss: 0.009020704331909797 | Test loss: 0.005175121018517459\n",
            "OrderedDict([('weights', tensor([0.6947], dtype=torch.float64)), ('bias', tensor([0.2996], dtype=torch.float64))])\n",
            "Epoch: 180 | Loss: 0.009020704331909797 | Test loss: 0.005175121018517459\n",
            "OrderedDict([('weights', tensor([0.6947], dtype=torch.float64)), ('bias', tensor([0.2996], dtype=torch.float64))])\n",
            "Epoch: 190 | Loss: 0.009020704331909797 | Test loss: 0.005175121018517459\n",
            "OrderedDict([('weights', tensor([0.6947], dtype=torch.float64)), ('bias', tensor([0.2996], dtype=torch.float64))])\n"
          ]
        }
      ]
    },
    {
      "cell_type": "code",
      "source": [
        "loss_values, test_loss_values"
      ],
      "metadata": {
        "colab": {
          "base_uri": "https://localhost:8080/"
        },
        "id": "wvAOaFUfmDFf",
        "outputId": "2baf30d4-bb26-496d-9ea3-127ffee78549"
      },
      "execution_count": 38,
      "outputs": [
        {
          "output_type": "execute_result",
          "data": {
            "text/plain": [
              "([tensor(0.0090, dtype=torch.float64, grad_fn=<MeanBackward0>),\n",
              "  tensor(0.0090, dtype=torch.float64, grad_fn=<MeanBackward0>),\n",
              "  tensor(0.0090, dtype=torch.float64, grad_fn=<MeanBackward0>),\n",
              "  tensor(0.0090, dtype=torch.float64, grad_fn=<MeanBackward0>),\n",
              "  tensor(0.0090, dtype=torch.float64, grad_fn=<MeanBackward0>),\n",
              "  tensor(0.0090, dtype=torch.float64, grad_fn=<MeanBackward0>),\n",
              "  tensor(0.0090, dtype=torch.float64, grad_fn=<MeanBackward0>),\n",
              "  tensor(0.0090, dtype=torch.float64, grad_fn=<MeanBackward0>),\n",
              "  tensor(0.0090, dtype=torch.float64, grad_fn=<MeanBackward0>),\n",
              "  tensor(0.0090, dtype=torch.float64, grad_fn=<MeanBackward0>),\n",
              "  tensor(0.0090, dtype=torch.float64, grad_fn=<MeanBackward0>),\n",
              "  tensor(0.0090, dtype=torch.float64, grad_fn=<MeanBackward0>),\n",
              "  tensor(0.0090, dtype=torch.float64, grad_fn=<MeanBackward0>),\n",
              "  tensor(0.0090, dtype=torch.float64, grad_fn=<MeanBackward0>),\n",
              "  tensor(0.0090, dtype=torch.float64, grad_fn=<MeanBackward0>),\n",
              "  tensor(0.0090, dtype=torch.float64, grad_fn=<MeanBackward0>),\n",
              "  tensor(0.0090, dtype=torch.float64, grad_fn=<MeanBackward0>),\n",
              "  tensor(0.0090, dtype=torch.float64, grad_fn=<MeanBackward0>),\n",
              "  tensor(0.0090, dtype=torch.float64, grad_fn=<MeanBackward0>),\n",
              "  tensor(0.0090, dtype=torch.float64, grad_fn=<MeanBackward0>)],\n",
              " [tensor(0.0052, dtype=torch.float64),\n",
              "  tensor(0.0052, dtype=torch.float64),\n",
              "  tensor(0.0052, dtype=torch.float64),\n",
              "  tensor(0.0052, dtype=torch.float64),\n",
              "  tensor(0.0052, dtype=torch.float64),\n",
              "  tensor(0.0052, dtype=torch.float64),\n",
              "  tensor(0.0052, dtype=torch.float64),\n",
              "  tensor(0.0052, dtype=torch.float64),\n",
              "  tensor(0.0052, dtype=torch.float64),\n",
              "  tensor(0.0052, dtype=torch.float64),\n",
              "  tensor(0.0052, dtype=torch.float64),\n",
              "  tensor(0.0052, dtype=torch.float64),\n",
              "  tensor(0.0052, dtype=torch.float64),\n",
              "  tensor(0.0052, dtype=torch.float64),\n",
              "  tensor(0.0052, dtype=torch.float64),\n",
              "  tensor(0.0052, dtype=torch.float64),\n",
              "  tensor(0.0052, dtype=torch.float64),\n",
              "  tensor(0.0052, dtype=torch.float64),\n",
              "  tensor(0.0052, dtype=torch.float64),\n",
              "  tensor(0.0052, dtype=torch.float64)])"
            ]
          },
          "metadata": {},
          "execution_count": 38
        }
      ]
    },
    {
      "cell_type": "code",
      "source": [
        "# convert to numpy, because matplotlib only works with numpy\n",
        "import numpy as np\n",
        "np.array(torch.tensor(loss_values).cpu().numpy())"
      ],
      "metadata": {
        "colab": {
          "base_uri": "https://localhost:8080/"
        },
        "id": "oHjNinLOm91z",
        "outputId": "94cff3ac-2791-45fd-88bd-4b821e3af3f3"
      },
      "execution_count": 39,
      "outputs": [
        {
          "output_type": "execute_result",
          "data": {
            "text/plain": [
              "array([0.0090207, 0.0090207, 0.0090207, 0.0090207, 0.0090207, 0.0090207,\n",
              "       0.0090207, 0.0090207, 0.0090207, 0.0090207, 0.0090207, 0.0090207,\n",
              "       0.0090207, 0.0090207, 0.0090207, 0.0090207, 0.0090207, 0.0090207,\n",
              "       0.0090207, 0.0090207])"
            ]
          },
          "metadata": {},
          "execution_count": 39
        }
      ]
    },
    {
      "cell_type": "code",
      "source": [
        "# plot the loss curves\n",
        "plt.plot(epoch_count, np.array(torch.tensor(loss_values).numpy()), label=\"Train loss\")\n",
        "plt.plot(epoch_count, test_loss_values, label=\"Test loss\")\n",
        "plt.title(\"Training and test loss curves\")\n",
        "plt.ylabel(\"Loss\")\n",
        "plt.xlabel(\"Epochs\")\n",
        "plt.legend();"
      ],
      "metadata": {
        "colab": {
          "base_uri": "https://localhost:8080/",
          "height": 472
        },
        "id": "nmndZCCgknOl",
        "outputId": "201c0504-a112-4266-a33b-33d6948bb2dd"
      },
      "execution_count": 40,
      "outputs": [
        {
          "output_type": "display_data",
          "data": {
            "text/plain": [
              "<Figure size 640x480 with 1 Axes>"
            ],
            "image/png": "[encoded data removed]"
          },
          "metadata": {}
        }
      ]
    },
    {
      "cell_type": "code",
      "source": [
        "with torch.inference_mode():\n",
        "  y_pred_200_epochs = model_0(X_test)"
      ],
      "metadata": {
        "id": "HPPzNLehNCul"
      },
      "execution_count": 41,
      "outputs": []
    },
    {
      "cell_type": "code",
      "source": [
        "plot_predictions(predictions=y_pred_200_epochs)"
      ],
      "metadata": {
        "id": "FhBsZHdmksG6",
        "colab": {
          "base_uri": "https://localhost:8080/",
          "height": 430
        },
        "outputId": "7be27d58-3092-49a4-b5c9-ab72bf1f3a1f"
      },
      "execution_count": 42,
      "outputs": [
        {
          "output_type": "display_data",
          "data": {
            "text/plain": [
              "<Figure size 640x480 with 1 Axes>"
            ],
            "image/png": "[encoded data removed]"
          },
          "metadata": {}
        }
      ]
    },
    {
      "cell_type": "markdown",
      "source": [
        "## Saving a model in PyTorch\n",
        "\n",
        "There are three main methods you should about for saving and loading models in PyTorch.\n",
        "\n",
        "1. `torch.save()` - allows you to save a PyTorch object in [Python's pickle](https://docs.python.org/3/library/pickle.html) format\n",
        "2. `torch.load()` - allows you to load a PyTorch object\n",
        "3. `torch.nn.Module.load_state-dict()` - this allows to load a model's saved state dictionary"
      ],
      "metadata": {
        "id": "CpTscQdchB6-"
      }
    },
    {
      "cell_type": "code",
      "source": [
        "model_0.state_dict()"
      ],
      "metadata": {
        "colab": {
          "base_uri": "https://localhost:8080/"
        },
        "id": "_WW2nLaDNtww",
        "outputId": "b4c7a489-ab4d-4d84-f713-8e64b9142188"
      },
      "execution_count": 43,
      "outputs": [
        {
          "output_type": "execute_result",
          "data": {
            "text/plain": [
              "OrderedDict([('weights', tensor([0.6986], dtype=torch.float64)),\n",
              "             ('bias', tensor([0.3096], dtype=torch.float64))])"
            ]
          },
          "metadata": {},
          "execution_count": 43
        }
      ]
    },
    {
      "cell_type": "code",
      "source": [
        "optimizer.state_dict()"
      ],
      "metadata": {
        "colab": {
          "base_uri": "https://localhost:8080/"
        },
        "id": "qOAEbsTkiB5f",
        "outputId": "7614b67d-f760-4ce7-a216-d89cd94aaed6"
      },
      "execution_count": 44,
      "outputs": [
        {
          "output_type": "execute_result",
          "data": {
            "text/plain": [
              "{'state': {0: {'momentum_buffer': None}, 1: {'momentum_buffer': None}},\n",
              " 'param_groups': [{'lr': 0.01,\n",
              "   'momentum': 0,\n",
              "   'dampening': 0,\n",
              "   'weight_decay': 0,\n",
              "   'nesterov': False,\n",
              "   'maximize': False,\n",
              "   'foreach': None,\n",
              "   'differentiable': False,\n",
              "   'params': [0, 1]}]}"
            ]
          },
          "metadata": {},
          "execution_count": 44
        }
      ]
    },
    {
      "cell_type": "markdown",
      "source": [
        "#### Extra curriculum\n",
        "1. Python pickle: https://docs.python.org/3/library/pickle.html\n",
        "2. PyTorch Saving and Loading Models: https://pytorch.org/tutorials/beginner/saving_loading_models.html"
      ],
      "metadata": {
        "id": "JfTZTqdLkWXC"
      }
    },
    {
      "cell_type": "code",
      "source": [
        "# Saving our PyTorch model\n",
        "from pathlib import Path\n",
        "\n",
        "# 1. Create a models directory\n",
        "MODEL_PATH = Path(\"models\")\n",
        "MODEL_PATH.mkdir(parents=True, exist_ok=True)\n",
        "\n",
        "# 2.  Create a model save path\n",
        "MODEL_NAME = \"01_pytorch_workflow_model_0.pth\" # A common PyTorch convention is to save models using either a `.pt` or `.pth` file extension.\n",
        "MODEL_SAVE_PATH = MODEL_PATH / MODEL_NAME\n",
        "\n",
        "#MODEL_SAVE_PATH\n",
        "\n",
        "# 3. Save the model state dict\n",
        "print(f\"Saving model to: {MODEL_SAVE_PATH}\")\n",
        "torch.save(obj=model_0.state_dict(),\n",
        "           f=MODEL_SAVE_PATH) # https://pytorch.org/docs/stable/generated/torch.save.html"
      ],
      "metadata": {
        "colab": {
          "base_uri": "https://localhost:8080/"
        },
        "id": "1ja9zZX-iepo",
        "outputId": "ba9f37ba-a646-44e0-f465-a100d14ae2b8"
      },
      "execution_count": 45,
      "outputs": [
        {
          "output_type": "stream",
          "name": "stdout",
          "text": [
            "Saving model to: models/01_pytorch_workflow_model_0.pth\n"
          ]
        }
      ]
    },
    {
      "cell_type": "code",
      "source": [
        "!ls -l models"
      ],
      "metadata": {
        "colab": {
          "base_uri": "https://localhost:8080/"
        },
        "id": "jHTiZZB8mLwK",
        "outputId": "ecb70590-cdb7-40ef-b61d-7c923fe68b94"
      },
      "execution_count": 46,
      "outputs": [
        {
          "output_type": "stream",
          "name": "stdout",
          "text": [
            "total 4\n",
            "-rw-r--r-- 1 root root 1680 May 12 14:17 01_pytorch_workflow_model_0.pth\n"
          ]
        }
      ]
    },
    {
      "cell_type": "markdown",
      "source": [
        "## Loading a PyTorch model\n",
        "\n",
        "Since we saved our model's `state_dict()` rather than entire model, we'll create a new instance of our model class and load the saved `state_dict()` into that."
      ],
      "metadata": {
        "id": "FQgC96sfqd-M"
      }
    },
    {
      "cell_type": "code",
      "source": [
        "model_0.state_dict()"
      ],
      "metadata": {
        "colab": {
          "base_uri": "https://localhost:8080/"
        },
        "id": "WQVtsGFvq6Jl",
        "outputId": "31a8780b-20ff-4ecc-81c8-8989ccdc5e22"
      },
      "execution_count": 47,
      "outputs": [
        {
          "output_type": "execute_result",
          "data": {
            "text/plain": [
              "OrderedDict([('weights', tensor([0.6986], dtype=torch.float64)),\n",
              "             ('bias', tensor([0.3096], dtype=torch.float64))])"
            ]
          },
          "metadata": {},
          "execution_count": 47
        }
      ]
    },
    {
      "cell_type": "code",
      "source": [
        "# # To Load in a saved state_dict we have to instatiate a new instance of our model class\n",
        "loaded_model_0 = LinearRegressionModel()\n",
        "\n",
        "# random values of our model\n",
        "#loaded_model_0.state_dict()\n",
        "\n",
        "# Load the saved state_dict of model_0 (this will update the new instance with updated partamters)\n",
        "loaded_model_0 .load_state_dict(torch.load(f=MODEL_SAVE_PATH)) # https://pytorch.org/docs/stable/generated/torch.load.html\n"
      ],
      "metadata": {
        "colab": {
          "base_uri": "https://localhost:8080/"
        },
        "id": "Qt-eRwUUoaBx",
        "outputId": "b4604c5b-eed7-475a-b30c-820204f61049"
      },
      "execution_count": 48,
      "outputs": [
        {
          "output_type": "execute_result",
          "data": {
            "text/plain": [
              "<All keys matched successfully>"
            ]
          },
          "metadata": {},
          "execution_count": 48
        }
      ]
    },
    {
      "cell_type": "code",
      "source": [
        "loaded_model_0.state_dict()"
      ],
      "metadata": {
        "colab": {
          "base_uri": "https://localhost:8080/"
        },
        "id": "dkuNXeHnrgbJ",
        "outputId": "ea308212-77b1-4211-d785-b072e6b46c11"
      },
      "execution_count": 49,
      "outputs": [
        {
          "output_type": "execute_result",
          "data": {
            "text/plain": [
              "OrderedDict([('weights', tensor([0.6986], dtype=torch.float64)),\n",
              "             ('bias', tensor([0.3096], dtype=torch.float64))])"
            ]
          },
          "metadata": {},
          "execution_count": 49
        }
      ]
    },
    {
      "cell_type": "code",
      "source": [
        "# Make some predictions with our loaded model\n",
        "loaded_model_0.eval()\n",
        "\n",
        "with torch.inference_mode():\n",
        "  loaded_model_preds = loaded_model_0 (X_test)\n",
        "loaded_model_preds"
      ],
      "metadata": {
        "colab": {
          "base_uri": "https://localhost:8080/"
        },
        "id": "LogBG5Vtpkyo",
        "outputId": "aa9ac927-f601-4e04-da31-d8574258cdf0"
      },
      "execution_count": 50,
      "outputs": [
        {
          "output_type": "execute_result",
          "data": {
            "text/plain": [
              "tensor([[0.8684],\n",
              "        [0.8824],\n",
              "        [0.8964],\n",
              "        [0.9103],\n",
              "        [0.9243],\n",
              "        [0.9383],\n",
              "        [0.9523],\n",
              "        [0.9662],\n",
              "        [0.9802],\n",
              "        [0.9942]], dtype=torch.float64)"
            ]
          },
          "metadata": {},
          "execution_count": 50
        }
      ]
    },
    {
      "cell_type": "code",
      "source": [
        "# Compare loaded model pred with original model preds\n",
        "y_pred_200_epochs == loaded_model_preds"
      ],
      "metadata": {
        "colab": {
          "base_uri": "https://localhost:8080/"
        },
        "id": "wMT2AhwaqCBK",
        "outputId": "8ba17d60-460b-483d-aadb-163f75554f0f"
      },
      "execution_count": 51,
      "outputs": [
        {
          "output_type": "execute_result",
          "data": {
            "text/plain": [
              "tensor([[True],\n",
              "        [True],\n",
              "        [True],\n",
              "        [True],\n",
              "        [True],\n",
              "        [True],\n",
              "        [True],\n",
              "        [True],\n",
              "        [True],\n",
              "        [True]])"
            ]
          },
          "metadata": {},
          "execution_count": 51
        }
      ]
    },
    {
      "cell_type": "markdown",
      "source": [
        "## 6. Putting it all together\n",
        "\n",
        "Let's go back through the steps above and see it all in one place."
      ],
      "metadata": {
        "id": "MDuL4xupunCo"
      }
    },
    {
      "cell_type": "code",
      "source": [
        "# Import PyTorch and matplotlib\n",
        "import torch\n",
        "from torch import nn\n",
        "import matplotlib.pyplot as plt\n",
        "\n",
        "# Check pytorch verison\n",
        "torch.__version__"
      ],
      "metadata": {
        "colab": {
          "base_uri": "https://localhost:8080/",
          "height": 35
        },
        "id": "ZPVMKCMDvewy",
        "outputId": "5a635f0a-5f8e-4b8a-ae2c-68083f0176ea"
      },
      "execution_count": 52,
      "outputs": [
        {
          "output_type": "execute_result",
          "data": {
            "text/plain": [
              "'2.2.1+cu121'"
            ],
            "application/vnd.google.colaboratory.intrinsic+json": {
              "type": "string"
            }
          },
          "metadata": {},
          "execution_count": 52
        }
      ]
    },
    {
      "cell_type": "markdown",
      "source": [
        "Create device-agnostic code.\n",
        "\n",
        "This means if we've got access to a GPU, our code will use it (for potentially faster computing)\n",
        "\n",
        "If no GPU is available, the code will default to using CPU"
      ],
      "metadata": {
        "id": "6xSUqTvdv5Lj"
      }
    },
    {
      "cell_type": "code",
      "source": [
        "# Setup device agnostic code\n",
        "device = \"cuda\" if torch.cuda.is_available() else \"cpu\"\n",
        "print(f\"Using device: {device}\")"
      ],
      "metadata": {
        "colab": {
          "base_uri": "https://localhost:8080/"
        },
        "id": "XwvFvWkMwlC_",
        "outputId": "343903c1-6d8a-4753-9f40-38e9114fba56"
      },
      "execution_count": 53,
      "outputs": [
        {
          "output_type": "stream",
          "name": "stdout",
          "text": [
            "Using device: cuda\n"
          ]
        }
      ]
    },
    {
      "cell_type": "markdown",
      "source": [
        "# 6.1 Data"
      ],
      "metadata": {
        "id": "2D-g8b5EvLGw"
      }
    },
    {
      "cell_type": "code",
      "source": [
        "# Create some data using linear regression formula y=weigh * X + bias\n",
        "weight = 0.7\n",
        "bias = 0.3\n",
        "\n",
        "# Create range of values\n",
        "start = 0\n",
        "end = 1\n",
        "step = 0.02\n",
        "\n",
        "# Create X and y (features and labels)\n",
        "X = torch.arange(start, end, step).unsqueeze(dim=1) # withour unsqueeze error will pop up\n",
        "y = weight * X + bias\n",
        "\n",
        "X[:10], y[:10]"
      ],
      "metadata": {
        "id": "DM8Y0Qq8qG7r",
        "colab": {
          "base_uri": "https://localhost:8080/"
        },
        "outputId": "9ec1b6dd-3ba9-48dc-f161-b04f1a4bfa47"
      },
      "execution_count": 54,
      "outputs": [
        {
          "output_type": "execute_result",
          "data": {
            "text/plain": [
              "(tensor([[0.0000],\n",
              "         [0.0200],\n",
              "         [0.0400],\n",
              "         [0.0600],\n",
              "         [0.0800],\n",
              "         [0.1000],\n",
              "         [0.1200],\n",
              "         [0.1400],\n",
              "         [0.1600],\n",
              "         [0.1800]]),\n",
              " tensor([[0.3000],\n",
              "         [0.3140],\n",
              "         [0.3280],\n",
              "         [0.3420],\n",
              "         [0.3560],\n",
              "         [0.3700],\n",
              "         [0.3840],\n",
              "         [0.3980],\n",
              "         [0.4120],\n",
              "         [0.4260]]))"
            ]
          },
          "metadata": {},
          "execution_count": 54
        }
      ]
    },
    {
      "cell_type": "code",
      "source": [
        "# Split data\n",
        "train_split = int(0.8 * len(X))\n",
        "X_train, y_train = X[:train_split], y[:train_split]\n",
        "X_test, y_test = X[train_split:], y[train_split:]\n",
        "len(X_train), len(y_train), len(X_test), len(y_test)"
      ],
      "metadata": {
        "colab": {
          "base_uri": "https://localhost:8080/"
        },
        "id": "4fkD7DZfyhY_",
        "outputId": "870a2666-9721-4c51-e150-1774980fbe01"
      },
      "execution_count": 55,
      "outputs": [
        {
          "output_type": "execute_result",
          "data": {
            "text/plain": [
              "(40, 40, 10, 10)"
            ]
          },
          "metadata": {},
          "execution_count": 55
        }
      ]
    },
    {
      "cell_type": "code",
      "source": [
        "# Create a function for plot predictions (Plot training data, test data and compares predictions.)\n",
        "def plot_prediction (\n",
        "                      train_data= X_train,\n",
        "                      train_labels= y_train,\n",
        "                      test_data= X_test,\n",
        "                      test_labels= y_test,\n",
        "                      predictions= None\n",
        "                    ):\n",
        "  # Plot training data -> blue color\n",
        "  plt.scatter(train_data, train_labels, c=\"b\", s=4, label=\"Training Data\")\n",
        "\n",
        "  # Plot test data -> gree color\n",
        "  plt.scatter(test_data, test_labels, c=\"g\", s=4, label=\"Test Data\")\n",
        "\n",
        "  # Check if there are predictions\n",
        "  if predictions is not None:\n",
        "    # Plot the predictions if they exist\n",
        "    plt.scatter(test_data, predictions, c=\"r\", s=4, label=\"Predictions\")\n",
        "\n",
        "  # Show the legend\n",
        "  plt.legend(prop={\"size\": 14})"
      ],
      "metadata": {
        "id": "qeCR5-JKzXXg"
      },
      "execution_count": 56,
      "outputs": []
    },
    {
      "cell_type": "code",
      "source": [
        "plot_prediction()"
      ],
      "metadata": {
        "colab": {
          "base_uri": "https://localhost:8080/",
          "height": 430
        },
        "id": "rVV70YXM2yJr",
        "outputId": "5ba6b20f-0c9d-4d22-93dc-3e523c67295e"
      },
      "execution_count": 57,
      "outputs": [
        {
          "output_type": "display_data",
          "data": {
            "text/plain": [
              "<Figure size 640x480 with 1 Axes>"
            ],
            "image/png": "[encoded data removed]"
          },
          "metadata": {}
        }
      ]
    },
    {
      "cell_type": "markdown",
      "source": [
        "## 6.2. Create a PyTorch Linear Model\n"
      ],
      "metadata": {
        "id": "CGALTuOHKJBp"
      }
    },
    {
      "cell_type": "code",
      "source": [
        "# Create a linear mode lby subclassing nn.Module\n",
        "class LinearRegressionModelV2(nn.Module):\n",
        "  def __init__(self):\n",
        "    super().__init__()\n",
        "    # Use nn.Linear() for creatying the model paramters / also called: linear transform, probing layer, fully connected layer, dense layer\n",
        "    self.linear_layer = nn.Linear(in_features=1,\n",
        "                                  out_features=1) # https://pytorch.org/docs/stable/generated/torch.nn.Linear.html\n",
        "\n",
        "  def forward(self, x:torch.Tensor) -> torch.Tensor:\n",
        "    return self.linear_layer(x)"
      ],
      "metadata": {
        "id": "uM22-bR03Fk7"
      },
      "execution_count": 58,
      "outputs": []
    },
    {
      "cell_type": "code",
      "source": [
        "# Set the manual seed\n",
        "torch.manual_seed(42)\n",
        "model_1 = LinearRegressionModelV2()\n",
        "model_1, model_1.state_dict()"
      ],
      "metadata": {
        "colab": {
          "base_uri": "https://localhost:8080/"
        },
        "id": "4u0SpbeqN447",
        "outputId": "3121b760-67eb-4ec5-f7b2-b84d5eb0adc4"
      },
      "execution_count": 59,
      "outputs": [
        {
          "output_type": "execute_result",
          "data": {
            "text/plain": [
              "(LinearRegressionModelV2(\n",
              "   (linear_layer): Linear(in_features=1, out_features=1, bias=True)\n",
              " ),\n",
              " OrderedDict([('linear_layer.weight', tensor([[0.7645]])),\n",
              "              ('linear_layer.bias', tensor([0.8300]))]))"
            ]
          },
          "metadata": {},
          "execution_count": 59
        }
      ]
    },
    {
      "cell_type": "code",
      "source": [
        "# Check the model current device\n",
        "next(model_1.parameters()).device"
      ],
      "metadata": {
        "colab": {
          "base_uri": "https://localhost:8080/"
        },
        "id": "wSy82-LmT841",
        "outputId": "844e8c25-4e1a-4bde-f9fd-8266c9e628b4"
      },
      "execution_count": 60,
      "outputs": [
        {
          "output_type": "execute_result",
          "data": {
            "text/plain": [
              "device(type='cpu')"
            ]
          },
          "metadata": {},
          "execution_count": 60
        }
      ]
    },
    {
      "cell_type": "code",
      "source": [
        "# Set the model to use the target device\n",
        "model_1.to(device)\n",
        "next(model_1.parameters()).device"
      ],
      "metadata": {
        "id": "skfcKnbFOLR7",
        "colab": {
          "base_uri": "https://localhost:8080/"
        },
        "outputId": "afcd3c1f-7476-4be6-9cab-6be372178a49"
      },
      "execution_count": 61,
      "outputs": [
        {
          "output_type": "execute_result",
          "data": {
            "text/plain": [
              "device(type='cuda', index=0)"
            ]
          },
          "metadata": {},
          "execution_count": 61
        }
      ]
    },
    {
      "cell_type": "markdown",
      "source": [
        "### 6.3 Training\n",
        "\n",
        "For training we need:\n",
        "* Loss function\n",
        "* Optimizer\n",
        "* Training Loop\n",
        "* Testing Loop"
      ],
      "metadata": {
        "id": "RFHpnvahUhnD"
      }
    },
    {
      "cell_type": "code",
      "source": [
        "# Setpu loss function\n",
        "loss_function = nn.L1Loss() # same as MAE\n",
        "\n",
        "# Setup our optimizer\n",
        "optimizer = torch.optim.SGD(params=model_1.parameters(),\n",
        "                              lr=0.01, )"
      ],
      "metadata": {
        "id": "cLOqBrEMT0nK"
      },
      "execution_count": 62,
      "outputs": []
    },
    {
      "cell_type": "code",
      "source": [
        "# Let's write a training loop\n",
        "torch.manual_seed(42)\n",
        "\n",
        "epochs = 200\n",
        "\n",
        "# Put data on the target device (device agnostic code for data)\n",
        "X_train = X_train.to(device)\n",
        "y_train = y_train.to(device)\n",
        "X_test = X_test.to(device)\n",
        "y_test = y_test.to(device)\n",
        "\n",
        "for epoch in range(epochs):\n",
        "  model_1.train()\n",
        "\n",
        "  # 1. Forward pass\n",
        "  y_pred = model_1(X_train)\n",
        "\n",
        "  # 2. Calculate the loss\n",
        "  loss = loss_function(y_pred, y_train)\n",
        "\n",
        "  # 3. Optimizer zero grad\n",
        "  optimizer.zero_grad()\n",
        "\n",
        "  # 4. Perform backpropagation\n",
        "  loss.backward()\n",
        "\n",
        "  # 5. Optimizer step\n",
        "  optimizer.step()\n",
        "\n",
        "  ### Testing\n",
        "  model_1.eval()\n",
        "  with torch.inference_mode():\n",
        "    test_pred = model_1(X_test)\n",
        "\n",
        "    # calculate the loss\n",
        "    test_loss = loss_function(test_pred, y_test)\n",
        "\n",
        "  # Print our what's happening\n",
        "  if epoch % 10 == 0:\n",
        "    print(f\"Epoch: {epoch} | Loss: {loss} | Test loss: {test_loss}\")"
      ],
      "metadata": {
        "colab": {
          "base_uri": "https://localhost:8080/"
        },
        "id": "UXng74iuVcMq",
        "outputId": "6b6b357a-f43c-4c36-eac3-6b4ab29155dd"
      },
      "execution_count": 63,
      "outputs": [
        {
          "output_type": "stream",
          "name": "stdout",
          "text": [
            "Epoch: 0 | Loss: 0.5551779866218567 | Test loss: 0.5739762187004089\n",
            "Epoch: 10 | Loss: 0.439968079328537 | Test loss: 0.4392664134502411\n",
            "Epoch: 20 | Loss: 0.3247582018375397 | Test loss: 0.30455657839775085\n",
            "Epoch: 30 | Loss: 0.20954833924770355 | Test loss: 0.16984669864177704\n",
            "Epoch: 40 | Loss: 0.09433845430612564 | Test loss: 0.03513690456748009\n",
            "Epoch: 50 | Loss: 0.023886388167738914 | Test loss: 0.04784907028079033\n",
            "Epoch: 60 | Loss: 0.019956795498728752 | Test loss: 0.045803118497133255\n",
            "Epoch: 70 | Loss: 0.016517987474799156 | Test loss: 0.037530567497015\n",
            "Epoch: 80 | Loss: 0.013089174404740334 | Test loss: 0.02994490973651409\n",
            "Epoch: 90 | Loss: 0.009653178043663502 | Test loss: 0.02167237363755703\n",
            "Epoch: 100 | Loss: 0.006215683650225401 | Test loss: 0.014086711220443249\n",
            "Epoch: 110 | Loss: 0.00278724217787385 | Test loss: 0.005814164876937866\n",
            "Epoch: 120 | Loss: 0.0012645035749301314 | Test loss: 0.013801801018416882\n",
            "Epoch: 130 | Loss: 0.0012645035749301314 | Test loss: 0.013801801018416882\n",
            "Epoch: 140 | Loss: 0.0012645035749301314 | Test loss: 0.013801801018416882\n",
            "Epoch: 150 | Loss: 0.0012645035749301314 | Test loss: 0.013801801018416882\n",
            "Epoch: 160 | Loss: 0.0012645035749301314 | Test loss: 0.013801801018416882\n",
            "Epoch: 170 | Loss: 0.0012645035749301314 | Test loss: 0.013801801018416882\n",
            "Epoch: 180 | Loss: 0.0012645035749301314 | Test loss: 0.013801801018416882\n",
            "Epoch: 190 | Loss: 0.0012645035749301314 | Test loss: 0.013801801018416882\n"
          ]
        }
      ]
    },
    {
      "cell_type": "code",
      "source": [
        "# evaluating\n",
        "model_1.state_dict()"
      ],
      "metadata": {
        "colab": {
          "base_uri": "https://localhost:8080/"
        },
        "id": "voldJxyJWla5",
        "outputId": "93bfb527-0971-4579-83bd-8b7980626db6"
      },
      "execution_count": 64,
      "outputs": [
        {
          "output_type": "execute_result",
          "data": {
            "text/plain": [
              "OrderedDict([('linear_layer.weight', tensor([[0.6968]], device='cuda:0')),\n",
              "             ('linear_layer.bias', tensor([0.3025], device='cuda:0'))])"
            ]
          },
          "metadata": {},
          "execution_count": 64
        }
      ]
    },
    {
      "cell_type": "code",
      "source": [
        "weight, bias"
      ],
      "metadata": {
        "colab": {
          "base_uri": "https://localhost:8080/"
        },
        "id": "Oesk8AIXYtRK",
        "outputId": "1af5497a-8522-40a2-c6dc-d43ad19d3ef9"
      },
      "execution_count": 65,
      "outputs": [
        {
          "output_type": "execute_result",
          "data": {
            "text/plain": [
              "(0.7, 0.3)"
            ]
          },
          "metadata": {},
          "execution_count": 65
        }
      ]
    },
    {
      "cell_type": "code",
      "source": [
        "# Turn model into evaluation mode\n",
        "model_1.eval()\n",
        "# Make predictions on the test data\n",
        "with torch.inference_mode():\n",
        "  y_preds = model_1(X_test)\n",
        "\n",
        "y_preds"
      ],
      "metadata": {
        "colab": {
          "base_uri": "https://localhost:8080/"
        },
        "id": "v13jjO4xYxzS",
        "outputId": "df8a9b1a-ad9f-4609-fef9-7f7aa10beb6b"
      },
      "execution_count": 66,
      "outputs": [
        {
          "output_type": "execute_result",
          "data": {
            "text/plain": [
              "tensor([[0.8600],\n",
              "        [0.8739],\n",
              "        [0.8878],\n",
              "        [0.9018],\n",
              "        [0.9157],\n",
              "        [0.9296],\n",
              "        [0.9436],\n",
              "        [0.9575],\n",
              "        [0.9714],\n",
              "        [0.9854]], device='cuda:0')"
            ]
          },
          "metadata": {},
          "execution_count": 66
        }
      ]
    },
    {
      "cell_type": "code",
      "source": [
        "# Check out our model predictions visually\n",
        "plot_prediction(predictions=y_preds.cpu())"
      ],
      "metadata": {
        "colab": {
          "base_uri": "https://localhost:8080/",
          "height": 430
        },
        "id": "UWrmlnwBaW-7",
        "outputId": "b597cf5f-4a18-41a5-bca4-07f6b3c3798d"
      },
      "execution_count": 67,
      "outputs": [
        {
          "output_type": "display_data",
          "data": {
            "text/plain": [
              "<Figure size 640x480 with 1 Axes>"
            ],
            "image/png": "[encoded data removed]"
          },
          "metadata": {}
        }
      ]
    },
    {
      "cell_type": "markdown",
      "source": [
        "### 6.5 Saving and Loading model"
      ],
      "metadata": {
        "id": "ZSJEgNLrJGDe"
      }
    },
    {
      "cell_type": "code",
      "source": [
        "from pathlib import Path\n",
        "\n",
        "# Create directory for saving the model\n",
        "MODEL_PATH = Path(\"models\")\n",
        "MODEL_PATH.mkdir(parents= True, exist_ok= True)\n",
        "\n",
        "# Create file name of our model and create save path for our model\n",
        "MODEL_NAME = \"01_pytorch_workflow.pth\"\n",
        "MODEL_SAVE_PATH = MODEL_PATH / MODEL_NAME\n",
        "\n",
        "print(f\"Saving model to: {MODEL_SAVE_PATH}\")\n",
        "torch.save(obj=model_1.state_dict(),\n",
        "           f=MODEL_SAVE_PATH)"
      ],
      "metadata": {
        "id": "zwLfW2jua2OT",
        "colab": {
          "base_uri": "https://localhost:8080/"
        },
        "outputId": "85b971d0-e149-42bb-f550-aedf91c733e6"
      },
      "execution_count": 68,
      "outputs": [
        {
          "output_type": "stream",
          "name": "stdout",
          "text": [
            "Saving model to: models/01_pytorch_workflow.pth\n"
          ]
        }
      ]
    },
    {
      "cell_type": "code",
      "source": [
        "# loading the saved model\n",
        "# create instance of our model\n",
        "loaded_model_1 = LinearRegressionModelV2()\n",
        "loaded_model_1.state_dict()"
      ],
      "metadata": {
        "id": "hozHouCeJsyP",
        "colab": {
          "base_uri": "https://localhost:8080/"
        },
        "outputId": "60d0dd02-4797-4539-a039-7833dcc4c67b"
      },
      "execution_count": 69,
      "outputs": [
        {
          "output_type": "execute_result",
          "data": {
            "text/plain": [
              "OrderedDict([('linear_layer.weight', tensor([[0.7645]])),\n",
              "             ('linear_layer.bias', tensor([0.8300]))])"
            ]
          },
          "metadata": {},
          "execution_count": 69
        }
      ]
    },
    {
      "cell_type": "code",
      "source": [
        "# loading the saved model state_dict() to the new instance we created\n",
        "\n",
        "loaded_model_1.load_state_dict(torch.load(f=MODEL_SAVE_PATH))\n",
        "\n",
        "# check the parameters, loaded and original model\n",
        "loaded_model_1.state_dict(), model_1.state_dict()"
      ],
      "metadata": {
        "colab": {
          "base_uri": "https://localhost:8080/"
        },
        "id": "NOwT_aMCLE8-",
        "outputId": "c82f0206-8c4a-490b-b9cd-01c96566cda6"
      },
      "execution_count": 71,
      "outputs": [
        {
          "output_type": "execute_result",
          "data": {
            "text/plain": [
              "(OrderedDict([('linear_layer.weight', tensor([[0.6968]])),\n",
              "              ('linear_layer.bias', tensor([0.3025]))]),\n",
              " OrderedDict([('linear_layer.weight', tensor([[0.6968]], device='cuda:0')),\n",
              "              ('linear_layer.bias', tensor([0.3025], device='cuda:0'))]))"
            ]
          },
          "metadata": {},
          "execution_count": 71
        }
      ]
    },
    {
      "cell_type": "code",
      "source": [
        "# Put the model to device\n",
        "loaded_model_1.to(device)\n",
        "# check the device\n",
        "next(loaded_model_1.parameters()).device"
      ],
      "metadata": {
        "colab": {
          "base_uri": "https://localhost:8080/"
        },
        "id": "WBKrSXNVLbtw",
        "outputId": "f10f2919-f7f0-4f93-ee4b-8ddf24c39549"
      },
      "execution_count": 74,
      "outputs": [
        {
          "output_type": "execute_result",
          "data": {
            "text/plain": [
              "device(type='cuda', index=0)"
            ]
          },
          "metadata": {},
          "execution_count": 74
        }
      ]
    },
    {
      "cell_type": "code",
      "source": [
        "# Evaluate the model\n",
        "loaded_model_1.eval()\n",
        "\n",
        "# predictions\n",
        "with torch.inference_mode():\n",
        "  loaded_model_1_y_pred = loaded_model_1(X_test)\n",
        "\n",
        "loaded_model_1_y_pred"
      ],
      "metadata": {
        "colab": {
          "base_uri": "https://localhost:8080/"
        },
        "id": "5hfuecDbMB-q",
        "outputId": "1c940708-e024-42e2-abb9-de5642393fe7"
      },
      "execution_count": 76,
      "outputs": [
        {
          "output_type": "execute_result",
          "data": {
            "text/plain": [
              "tensor([[0.8600],\n",
              "        [0.8739],\n",
              "        [0.8878],\n",
              "        [0.9018],\n",
              "        [0.9157],\n",
              "        [0.9296],\n",
              "        [0.9436],\n",
              "        [0.9575],\n",
              "        [0.9714],\n",
              "        [0.9854]], device='cuda:0')"
            ]
          },
          "metadata": {},
          "execution_count": 76
        }
      ]
    },
    {
      "cell_type": "code",
      "source": [
        "# check if loaded and original model predictions are same\n",
        "loaded_model_1_y_pred == y_preds"
      ],
      "metadata": {
        "colab": {
          "base_uri": "https://localhost:8080/"
        },
        "id": "38icEVjdMl4O",
        "outputId": "7db14325-c831-46c9-e969-dea8bb76e9a1"
      },
      "execution_count": 78,
      "outputs": [
        {
          "output_type": "execute_result",
          "data": {
            "text/plain": [
              "tensor([[True],\n",
              "        [True],\n",
              "        [True],\n",
              "        [True],\n",
              "        [True],\n",
              "        [True],\n",
              "        [True],\n",
              "        [True],\n",
              "        [True],\n",
              "        [True]], device='cuda:0')"
            ]
          },
          "metadata": {},
          "execution_count": 78
        }
      ]
    },
    {
      "cell_type": "code",
      "source": [
        "# plot the result for visualize\n",
        "plot_prediction(predictions=loaded_model_1_y_pred.cpu())"
      ],
      "metadata": {
        "colab": {
          "base_uri": "https://localhost:8080/",
          "height": 430
        },
        "id": "lCey1_YTMxjW",
        "outputId": "4908d255-5123-4d94-c0ff-ce9c180500fd"
      },
      "execution_count": 80,
      "outputs": [
        {
          "output_type": "display_data",
          "data": {
            "text/plain": [
              "<Figure size 640x480 with 1 Axes>"
            ],
            "image/png": "[encoded data removed]"
          },
          "metadata": {}
        }
      ]
    },
    {
      "cell_type": "code",
      "source": [],
      "metadata": {
        "id": "lxcDhxIaNArF"
      },
      "execution_count": null,
      "outputs": []
    }
  ]
}