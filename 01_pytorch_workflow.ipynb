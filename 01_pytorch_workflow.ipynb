{
  "nbformat": 4,
  "nbformat_minor": 0,
  "metadata": {
    "colab": {
      "provenance": []
    },
    "kernelspec": {
      "name": "python3",
      "display_name": "Python 3"
    },
    "language_info": {
      "name": "python"
    }
  },
  "cells": [
    {
      "cell_type": "markdown",
      "source": [
        "# PyTorch Workflow\n",
        "\n",
        "Let's explore an example PyTorch end-to-end workflow"
      ],
      "metadata": {
        "id": "l0Z8FOc2-zYh"
      }
    },
    {
      "cell_type": "code",
      "execution_count": 44,
      "metadata": {
        "colab": {
          "base_uri": "https://localhost:8080/"
        },
        "id": "viO58s2u-nVe",
        "outputId": "d181cc2b-108a-4b8d-9bd7-a39201fadcdb"
      },
      "outputs": [
        {
          "output_type": "execute_result",
          "data": {
            "text/plain": [
              "{1: 'data (prepare and load)',\n",
              " 2: 'build model',\n",
              " 3: 'fitting the model to data (training)',\n",
              " 4: 'making predictions and evaluating a model (inferences)',\n",
              " 5: 'saving and loading a model',\n",
              " 6: 'putting it all together'}"
            ]
          },
          "metadata": {},
          "execution_count": 44
        }
      ],
      "source": [
        "what_we_are_covering = {\n",
        "    1: \"data (prepare and load)\",\n",
        "    2: \"build model\",\n",
        "    3: \"fitting the model to data (training)\",\n",
        "    4: \"making predictions and evaluating a model (inferences)\",\n",
        "    5: \"saving and loading a model\",\n",
        "    6: \"putting it all together\"\n",
        "}\n",
        "\n",
        "what_we_are_covering"
      ]
    },
    {
      "cell_type": "code",
      "source": [
        "import torch\n",
        "from torch import nn # nn contains all of PyTorch's building blocks for neural networks # https://pytorch.org/docs/stable/nn.html\n",
        "\n",
        "import matplotlib.pyplot as plt"
      ],
      "metadata": {
        "id": "36Kd13bxA-Pv"
      },
      "execution_count": 45,
      "outputs": []
    },
    {
      "cell_type": "code",
      "source": [
        "torch.__version__"
      ],
      "metadata": {
        "colab": {
          "base_uri": "https://localhost:8080/",
          "height": 35
        },
        "id": "OFjpAyEJBgRw",
        "outputId": "5d850d1e-0da7-482c-f615-6fc53bea55de"
      },
      "execution_count": 46,
      "outputs": [
        {
          "output_type": "execute_result",
          "data": {
            "text/plain": [
              "'2.2.1+cu121'"
            ],
            "application/vnd.google.colaboratory.intrinsic+json": {
              "type": "string"
            }
          },
          "metadata": {},
          "execution_count": 46
        }
      ]
    },
    {
      "cell_type": "markdown",
      "source": [
        "## 1. Data (preparing and loading)\n",
        "\n",
        "Data can be almost anything... in machine learning\n",
        "\n",
        "* Excel spreadsheet\n",
        "* Images of any kind\n",
        "* Videos (YouTube has lots of data...)\n",
        "* Audio like songs or podcasts\n",
        "* DNA\n",
        "* Text\n",
        "\n",
        "Machine learning is game of two parts:\n",
        "1. Get data into a numerical representation\n",
        "2. Build a model to learn patterns in that numerical representation.\n",
        "\n",
        "To showcase this, let's create some *known* data using the linear regression formula.\n",
        "\n",
        "We will use a linear regression formula to make a straight line with *known* **parameters**."
      ],
      "metadata": {
        "id": "R8panYCdB7eg"
      }
    },
    {
      "cell_type": "code",
      "source": [
        "# Create *known* parameters\n",
        "weight = 0.7\n",
        "bias = 0.3\n",
        "\n",
        "# Create a range of numbers\n",
        "start = 0\n",
        "end  = 1\n",
        "step = 0.02\n",
        "X = torch.arange(start, end, step).unsqueeze(dim=1)\n",
        "y = bias + weight * X # y = a + b*x\n",
        "\n",
        "X[:10], y[:10]"
      ],
      "metadata": {
        "colab": {
          "base_uri": "https://localhost:8080/"
        },
        "id": "AamrbidVBzFI",
        "outputId": "9788fab5-7880-494c-ea38-2430043d9e56"
      },
      "execution_count": 47,
      "outputs": [
        {
          "output_type": "execute_result",
          "data": {
            "text/plain": [
              "(tensor([[0.0000],\n",
              "         [0.0200],\n",
              "         [0.0400],\n",
              "         [0.0600],\n",
              "         [0.0800],\n",
              "         [0.1000],\n",
              "         [0.1200],\n",
              "         [0.1400],\n",
              "         [0.1600],\n",
              "         [0.1800]]),\n",
              " tensor([[0.3000],\n",
              "         [0.3140],\n",
              "         [0.3280],\n",
              "         [0.3420],\n",
              "         [0.3560],\n",
              "         [0.3700],\n",
              "         [0.3840],\n",
              "         [0.3980],\n",
              "         [0.4120],\n",
              "         [0.4260]]))"
            ]
          },
          "metadata": {},
          "execution_count": 47
        }
      ]
    },
    {
      "cell_type": "code",
      "source": [
        "len(X), len(y)"
      ],
      "metadata": {
        "colab": {
          "base_uri": "https://localhost:8080/"
        },
        "id": "becl1xxPJ30_",
        "outputId": "2eea48a7-e457-49be-a04c-a108714233ab"
      },
      "execution_count": 48,
      "outputs": [
        {
          "output_type": "execute_result",
          "data": {
            "text/plain": [
              "(50, 50)"
            ]
          },
          "metadata": {},
          "execution_count": 48
        }
      ]
    },
    {
      "cell_type": "markdown",
      "source": [
        "### Splitting data into training and test sets (one of the most important conceptsw in machine learning in general)\n",
        "\n",
        "Let's create a training and test set with our data."
      ],
      "metadata": {
        "id": "205Z_Y9vNyK9"
      }
    },
    {
      "cell_type": "code",
      "source": [
        "# Create a train/test split\n",
        "train_split = int(0.8 * len(X))\n",
        "#train_split # 40\n",
        "X_train, y_train = X[:train_split], y[:train_split]\n",
        "X_test, y_test = X[train_split:], y[train_split:]\n",
        "\n",
        "len(X_train), len(y_train), len(X_test), len(y_test)"
      ],
      "metadata": {
        "colab": {
          "base_uri": "https://localhost:8080/"
        },
        "id": "ciKiN8vqKB91",
        "outputId": "2b00732f-ba50-492e-95a8-60d34d2c531c"
      },
      "execution_count": 49,
      "outputs": [
        {
          "output_type": "execute_result",
          "data": {
            "text/plain": [
              "(40, 40, 10, 10)"
            ]
          },
          "metadata": {},
          "execution_count": 49
        }
      ]
    },
    {
      "cell_type": "code",
      "source": [
        "X_train, y_train"
      ],
      "metadata": {
        "colab": {
          "base_uri": "https://localhost:8080/"
        },
        "id": "Iwj5U9RxOA5r",
        "outputId": "cf7fd6a7-6eb7-4473-b5f3-7b35e2adc882"
      },
      "execution_count": 50,
      "outputs": [
        {
          "output_type": "execute_result",
          "data": {
            "text/plain": [
              "(tensor([[0.0000],\n",
              "         [0.0200],\n",
              "         [0.0400],\n",
              "         [0.0600],\n",
              "         [0.0800],\n",
              "         [0.1000],\n",
              "         [0.1200],\n",
              "         [0.1400],\n",
              "         [0.1600],\n",
              "         [0.1800],\n",
              "         [0.2000],\n",
              "         [0.2200],\n",
              "         [0.2400],\n",
              "         [0.2600],\n",
              "         [0.2800],\n",
              "         [0.3000],\n",
              "         [0.3200],\n",
              "         [0.3400],\n",
              "         [0.3600],\n",
              "         [0.3800],\n",
              "         [0.4000],\n",
              "         [0.4200],\n",
              "         [0.4400],\n",
              "         [0.4600],\n",
              "         [0.4800],\n",
              "         [0.5000],\n",
              "         [0.5200],\n",
              "         [0.5400],\n",
              "         [0.5600],\n",
              "         [0.5800],\n",
              "         [0.6000],\n",
              "         [0.6200],\n",
              "         [0.6400],\n",
              "         [0.6600],\n",
              "         [0.6800],\n",
              "         [0.7000],\n",
              "         [0.7200],\n",
              "         [0.7400],\n",
              "         [0.7600],\n",
              "         [0.7800]]),\n",
              " tensor([[0.3000],\n",
              "         [0.3140],\n",
              "         [0.3280],\n",
              "         [0.3420],\n",
              "         [0.3560],\n",
              "         [0.3700],\n",
              "         [0.3840],\n",
              "         [0.3980],\n",
              "         [0.4120],\n",
              "         [0.4260],\n",
              "         [0.4400],\n",
              "         [0.4540],\n",
              "         [0.4680],\n",
              "         [0.4820],\n",
              "         [0.4960],\n",
              "         [0.5100],\n",
              "         [0.5240],\n",
              "         [0.5380],\n",
              "         [0.5520],\n",
              "         [0.5660],\n",
              "         [0.5800],\n",
              "         [0.5940],\n",
              "         [0.6080],\n",
              "         [0.6220],\n",
              "         [0.6360],\n",
              "         [0.6500],\n",
              "         [0.6640],\n",
              "         [0.6780],\n",
              "         [0.6920],\n",
              "         [0.7060],\n",
              "         [0.7200],\n",
              "         [0.7340],\n",
              "         [0.7480],\n",
              "         [0.7620],\n",
              "         [0.7760],\n",
              "         [0.7900],\n",
              "         [0.8040],\n",
              "         [0.8180],\n",
              "         [0.8320],\n",
              "         [0.8460]]))"
            ]
          },
          "metadata": {},
          "execution_count": 50
        }
      ]
    },
    {
      "cell_type": "markdown",
      "source": [
        "How might we better visualize our data\n",
        "\n",
        "This is where the data explorer's motto comes in!\n",
        "\n",
        "\"Visualize, Visualize, Visualize!\""
      ],
      "metadata": {
        "id": "hM4i2hO2PwGO"
      }
    },
    {
      "cell_type": "code",
      "source": [
        "def plot_predictions(train_data=X_train,\n",
        "                     train_labels=y_train,\n",
        "                     test_data=X_test,\n",
        "                     test_labels=y_test,\n",
        "                     predictions=None):\n",
        "  \"\"\"\n",
        "  Plot training data, test data and compares predictions.\n",
        "  \"\"\"\n",
        "  # Plot training data in blue\n",
        "  plt.scatter(train_data, train_labels, c=\"b\", s=4, label=\"Training Data\")\n",
        "\n",
        "  # Plot  test data in green\n",
        "  plt.scatter(test_data, test_labels, c=\"g\", s=4, label=\"Test Data\")\n",
        "\n",
        "  # Are there predictions?\n",
        "  if predictions is not None:\n",
        "    # Plot the predictions if they exist\n",
        "    plt.scatter(test_data, predictions, c=\"r\", s=4, label=\"Predictions\")\n",
        "\n",
        "  # Show the legend\n",
        "  plt.legend(prop={\"size\": 14})"
      ],
      "metadata": {
        "id": "Gyb73PzmPH1S"
      },
      "execution_count": 51,
      "outputs": []
    },
    {
      "cell_type": "code",
      "source": [
        "plot_predictions();"
      ],
      "metadata": {
        "colab": {
          "base_uri": "https://localhost:8080/",
          "height": 430
        },
        "id": "ctvhabsIQgEk",
        "outputId": "7e155fcc-cebb-4229-c240-47c87ceee724"
      },
      "execution_count": 52,
      "outputs": [
        {
          "output_type": "display_data",
          "data": {
            "text/plain": [
              "<Figure size 640x480 with 1 Axes>"
            ],
            "image/png": "[encoded data removed]"
          },
          "metadata": {}
        }
      ]
    },
    {
      "cell_type": "markdown",
      "source": [
        "## 2. Build model\n",
        "\n",
        "Our first PyTorch model\n",
        "\n",
        "This is very exciting... let's do it\n",
        "\n",
        "# [Learn from Python OOP](https://realpython.com/python3-object-oriented-programming/)\n",
        "\n",
        "\n",
        "What are model does:\n",
        "* Start with random values (wights and bias)\n",
        "* Look at training data and adjust the random values to better represent (or get close to) the ideal values (the weight and bias values used to create the data)\n",
        "\n",
        "How does it do so?\n",
        "Throught two main algorithms\n",
        "1. Gradient descent : https://www.youtube.com/watch?v=IHZwWFHWa-w\n",
        "2. Backpropagation : https://www.youtube.com/watch?v=Ilg3gGewQ5U"
      ],
      "metadata": {
        "id": "U51c2SEWOJFt"
      }
    },
    {
      "cell_type": "code",
      "source": [
        "from torch import nn\n",
        "\n",
        "# Create a linear regression model class\n",
        "class LinearRegressionModel(nn.Module): # -> https://pytorch.org/docs/stable/generated/torch.nn.Module.html\n",
        "  def __init__(self):\n",
        "    super().__init__()\n",
        "    self.weights = nn.Parameter(torch.randn(1, requires_grad=True, dtype=float))\n",
        "    self.bias = nn.Parameter(torch.rand(1, requires_grad=True, dtype=float))\n",
        "\n",
        "  # Forward method to define the computation in the model\n",
        "  def forward(self, x: torch.Tensor) -> torch.Tensor: # \"x\" is the input data\n",
        "    return self.weights * x + self.bias # this is the linear regression formula"
      ],
      "metadata": {
        "id": "p9s8orRuMdKd"
      },
      "execution_count": 53,
      "outputs": []
    },
    {
      "cell_type": "markdown",
      "source": [
        "# PyTorch model buidling essential\n",
        "\n",
        "* `torch.nn` - contains all of the buildings for computational graphs (a neural network can be considered a computational graph)\n",
        "* `torch.nn.Parameter` - what parameters should our model try and learn, often a PyTorch layer from `torch.nn` will set these for us\n",
        "* `torch.nn.Module` - The base class for all neural network modules, if you subclass it, you should overwrite `forward()`\n",
        "* `torch.optim` - this where the optimizers in PyTorch live, they will help with gradient descent\n",
        "* `def forward()` - All `nn.Module` subclasses require you to overwrite `forward()`, this method defines what happens in the forward computation"
      ],
      "metadata": {
        "id": "50hZ-XLdJvOR"
      }
    },
    {
      "cell_type": "markdown",
      "source": [
        "# [PyTorch CheatSheet](https://pytorch.org/tutorials/beginner/ptcheat.html)"
      ],
      "metadata": {
        "id": "mb0GLv_odZFQ"
      }
    },
    {
      "cell_type": "markdown",
      "source": [
        "### Check the contents of our PyTorch model\n",
        "\n",
        "Now we've created a model, let's see what's inside...\n",
        "\n",
        "So we can check our model parameters or what's inside our model using `.parameters()`"
      ],
      "metadata": {
        "id": "iae3JFrcJqDI"
      }
    },
    {
      "cell_type": "code",
      "source": [
        "# Create a random seed\n",
        "torch.manual_seed(42)\n",
        "\n",
        "# Create an instance of the model (this is a subclass of nn.Module)\n",
        "model_0 = LinearRegressionModel()\n",
        "\n",
        "# model_0\n",
        "# model_0.parameters()\n",
        "list(model_0.parameters())"
      ],
      "metadata": {
        "id": "BNcBD3_HDzlO",
        "colab": {
          "base_uri": "https://localhost:8080/"
        },
        "outputId": "237b8e81-09bc-4a9a-db53-0d2de028ed30"
      },
      "execution_count": 54,
      "outputs": [
        {
          "output_type": "execute_result",
          "data": {
            "text/plain": [
              "[Parameter containing:\n",
              " tensor([0.3367], dtype=torch.float64, requires_grad=True),\n",
              " Parameter containing:\n",
              " tensor([0.1236], dtype=torch.float64, requires_grad=True)]"
            ]
          },
          "metadata": {},
          "execution_count": 54
        }
      ]
    },
    {
      "cell_type": "code",
      "source": [
        "# List named parameters\n",
        "model_0.state_dict() # return dictionary of the parameters of our model (LinearRegressionModel)"
      ],
      "metadata": {
        "id": "p_rYcawYD25u",
        "colab": {
          "base_uri": "https://localhost:8080/"
        },
        "outputId": "44b3eae4-6e1f-4dec-dffe-d24e5af563c1"
      },
      "execution_count": 55,
      "outputs": [
        {
          "output_type": "execute_result",
          "data": {
            "text/plain": [
              "OrderedDict([('weights', tensor([0.3367], dtype=torch.float64)),\n",
              "             ('bias', tensor([0.1236], dtype=torch.float64))])"
            ]
          },
          "metadata": {},
          "execution_count": 55
        }
      ]
    },
    {
      "cell_type": "markdown",
      "source": [
        "### Making prediction using `torch.inference_mode()`\n",
        "\n",
        "To check our model's predictive power, let's see how it well ut predicts `y_test` based on `X_test`.\n",
        "\n",
        "When we pass data through our model, it's going to run it through the `forward()` method."
      ],
      "metadata": {
        "id": "cFyxjJK9ORhR"
      }
    },
    {
      "cell_type": "code",
      "source": [
        "X_test, y_test"
      ],
      "metadata": {
        "colab": {
          "base_uri": "https://localhost:8080/"
        },
        "id": "F_DU2zi4Qabw",
        "outputId": "3633cc73-de55-47ce-b975-4e12f862bd38"
      },
      "execution_count": 56,
      "outputs": [
        {
          "output_type": "execute_result",
          "data": {
            "text/plain": [
              "(tensor([[0.8000],\n",
              "         [0.8200],\n",
              "         [0.8400],\n",
              "         [0.8600],\n",
              "         [0.8800],\n",
              "         [0.9000],\n",
              "         [0.9200],\n",
              "         [0.9400],\n",
              "         [0.9600],\n",
              "         [0.9800]]),\n",
              " tensor([[0.8600],\n",
              "         [0.8740],\n",
              "         [0.8880],\n",
              "         [0.9020],\n",
              "         [0.9160],\n",
              "         [0.9300],\n",
              "         [0.9440],\n",
              "         [0.9580],\n",
              "         [0.9720],\n",
              "         [0.9860]]))"
            ]
          },
          "metadata": {},
          "execution_count": 56
        }
      ]
    },
    {
      "cell_type": "code",
      "source": [
        "# with our using `inference_mode()` method\n",
        "y_preds = model_0(X_test)\n",
        "y_preds"
      ],
      "metadata": {
        "colab": {
          "base_uri": "https://localhost:8080/"
        },
        "id": "jCPkqDi6Xu69",
        "outputId": "27eb0c0f-0729-4dde-9c98-b2d707aefbcd"
      },
      "execution_count": 57,
      "outputs": [
        {
          "output_type": "execute_result",
          "data": {
            "text/plain": [
              "tensor([[0.3929],\n",
              "        [0.3997],\n",
              "        [0.4064],\n",
              "        [0.4131],\n",
              "        [0.4199],\n",
              "        [0.4266],\n",
              "        [0.4333],\n",
              "        [0.4401],\n",
              "        [0.4468],\n",
              "        [0.4535]], dtype=torch.float64, grad_fn=<AddBackward0>)"
            ]
          },
          "metadata": {},
          "execution_count": 57
        }
      ]
    },
    {
      "cell_type": "code",
      "source": [
        "# Make predictions with model\n",
        "\n",
        "'''\n",
        "## You can also do something similar with `torch.no_grad(), however `torch.inference_mode()` if preferred.\n",
        "\n",
        "with torch.no_grad():\n",
        "  y_preds = model_0(X_test)\n",
        "\n",
        "y_preds\n",
        "'''\n",
        "\n",
        "with torch.inference_mode(): # `torch.inference_mode()` disable to calculate or track `grad`\n",
        "  y_preds = model_0(X_test)\n",
        "\n",
        "y_preds\n"
      ],
      "metadata": {
        "colab": {
          "base_uri": "https://localhost:8080/"
        },
        "id": "4W__FMroXID1",
        "outputId": "40d6c4d2-2e8f-4b25-bc4c-b661bba95fb8"
      },
      "execution_count": 58,
      "outputs": [
        {
          "output_type": "execute_result",
          "data": {
            "text/plain": [
              "tensor([[0.3929],\n",
              "        [0.3997],\n",
              "        [0.4064],\n",
              "        [0.4131],\n",
              "        [0.4199],\n",
              "        [0.4266],\n",
              "        [0.4333],\n",
              "        [0.4401],\n",
              "        [0.4468],\n",
              "        [0.4535]], dtype=torch.float64)"
            ]
          },
          "metadata": {},
          "execution_count": 58
        }
      ]
    },
    {
      "cell_type": "markdown",
      "source": [
        "See more on inference mode here - https://twitter.com/PyTorch/status/1437838231505096708?lang=en"
      ],
      "metadata": {
        "id": "vqvz1wKpYhel"
      }
    },
    {
      "cell_type": "code",
      "source": [
        "# let's look at the `y_test`\n",
        "y_test"
      ],
      "metadata": {
        "colab": {
          "base_uri": "https://localhost:8080/"
        },
        "id": "h5oTmeeLQVoF",
        "outputId": "362e8eef-2656-4817-b7a5-c7a8649a04d4"
      },
      "execution_count": 59,
      "outputs": [
        {
          "output_type": "execute_result",
          "data": {
            "text/plain": [
              "tensor([[0.8600],\n",
              "        [0.8740],\n",
              "        [0.8880],\n",
              "        [0.9020],\n",
              "        [0.9160],\n",
              "        [0.9300],\n",
              "        [0.9440],\n",
              "        [0.9580],\n",
              "        [0.9720],\n",
              "        [0.9860]])"
            ]
          },
          "metadata": {},
          "execution_count": 59
        }
      ]
    },
    {
      "cell_type": "code",
      "source": [
        "# visualize\n",
        "plot_predictions(predictions=y_preds)"
      ],
      "metadata": {
        "colab": {
          "base_uri": "https://localhost:8080/",
          "height": 430
        },
        "id": "mye91Y0mS1aO",
        "outputId": "83503e80-51b0-4f73-beb4-df60faea2540"
      },
      "execution_count": 60,
      "outputs": [
        {
          "output_type": "display_data",
          "data": {
            "text/plain": [
              "<Figure size 640x480 with 1 Axes>"
            ],
            "image/png": "[encoded data removed]"
          },
          "metadata": {}
        }
      ]
    },
    {
      "cell_type": "markdown",
      "source": [
        "## 3. Train model\n",
        "\n",
        "The whole idea of training is for a model to move from some *unknown* parameters (these maybe random) to some *known* parameters.\n",
        "\n",
        "Or in other words, from a poor representation of the data to a better representation of the data.\n",
        "\n",
        "\n",
        "One way to measure how poor or how wrong your models predictions are is to use a [**loss functions**](https://pytorch.org/docs/stable/nn.html#loss-functions)\n",
        "\n",
        "* Note: Loss function maybe also be called cost function or criterion in different areas. For our case, we're going to refer to it as a loss function.\n",
        "\n",
        "\n",
        "Things we need to train::\n",
        "\n",
        "* [**Loss Function:**](https://pytorch.org/docs/stable/generated/torch.nn.L1Loss.html#torch.nn.L1Loss) A function to measure how wrong your model predictions are to the ideal outputs, lower is better.\n",
        "\n",
        "* [**Optimizer:**](https://pytorch.org/docs/stable/optim.html) Takes into account the loss of a model and adjusts the model's parameter's (e.g. weight and bias in our case) to improve the `loss function`.\n",
        "  * `params`: the model parameters you'd like to optimize of example `params=model_0.parameters()`\n",
        "  * `lr` (learning rate): the learning rate is a hyperparameter that defines how big/small the optimizer changes the parameters with each step (a small `lr` results in small changes, a large `lr` results in large changes)\n",
        "\n",
        "And specifically for PyTorch, we need:\n",
        "* A training loop\n",
        "* A testing loop"
      ],
      "metadata": {
        "id": "PK-tXyx3Q9ky"
      }
    },
    {
      "cell_type": "code",
      "source": [
        "list(model_0.parameters())"
      ],
      "metadata": {
        "colab": {
          "base_uri": "https://localhost:8080/"
        },
        "id": "XPgO6vzBU4pU",
        "outputId": "11196008-6a47-4355-e8b7-564b086b6b01"
      },
      "execution_count": 61,
      "outputs": [
        {
          "output_type": "execute_result",
          "data": {
            "text/plain": [
              "[Parameter containing:\n",
              " tensor([0.3367], dtype=torch.float64, requires_grad=True),\n",
              " Parameter containing:\n",
              " tensor([0.1236], dtype=torch.float64, requires_grad=True)]"
            ]
          },
          "metadata": {},
          "execution_count": 61
        }
      ]
    },
    {
      "cell_type": "code",
      "source": [
        "# Check out our model's parameters (a parameters is a value that the model sets itself)\n",
        "model_0.state_dict()"
      ],
      "metadata": {
        "id": "MI-LWfU5TWHk",
        "colab": {
          "base_uri": "https://localhost:8080/"
        },
        "outputId": "4206ea52-d2ae-4921-b4ba-2235d46bd4e0"
      },
      "execution_count": 62,
      "outputs": [
        {
          "output_type": "execute_result",
          "data": {
            "text/plain": [
              "OrderedDict([('weights', tensor([0.3367], dtype=torch.float64)),\n",
              "             ('bias', tensor([0.1236], dtype=torch.float64))])"
            ]
          },
          "metadata": {},
          "execution_count": 62
        }
      ]
    },
    {
      "cell_type": "markdown",
      "source": [
        "#### Extra Curriculum\n",
        "**Reading** the documentation:\n",
        "* https://pytorch.org/docs/stable/generated/torch.nn.L1Loss.html#torch.nn.L1Loss\n",
        "* https://pytorch.org/docs/stable/optim.html"
      ],
      "metadata": {
        "id": "syjU0IyZXUUv"
      }
    },
    {
      "cell_type": "markdown",
      "source": [
        "* Note:\n",
        "  * the small of the learning rate (lr), the small of the change in parameter\n",
        "  * the larger of the learning rate (lr), the larger of the change in parameter"
      ],
      "metadata": {
        "id": "DArQOHeCdrnH"
      }
    },
    {
      "cell_type": "code",
      "source": [
        "# Setup a loss function\n",
        "loss_fn = nn.L1Loss()\n",
        "\n",
        "# Setup an optimizer (stochastic gradient descent) #https://pytorch.org/docs/stable/generated/torch.optim.SGD.html#torch.optim.SGD\n",
        "optimizer = torch.optim.SGD(params=model_0.parameters(),\n",
        "                            lr= 0.01) # lr = learning rate = possibly the most important hyperparameter you can set\n"
      ],
      "metadata": {
        "id": "2PpMaNkuUU4T"
      },
      "execution_count": 63,
      "outputs": []
    },
    {
      "cell_type": "markdown",
      "source": [
        "**Q:** Which loss function and optimizer should i use?\n",
        "\n",
        "**A:** This will problem specific. But with experience, you will get an idea of what works and what doesn't with yoour particular problem set.\n",
        "\n",
        "For examle, for a Regression problem (like ours), a loss function of `nn.L1Loss()` and an optimizer like `torch.optim.SGD()` will suffice.\n",
        "\n",
        "But for a classification problem like classifying whether a photo is of dog or a cat, you'll likely want to use a loss function of `nn.BCELoss()` (binary cross entropy loss)."
      ],
      "metadata": {
        "id": "gPhQZQOsgAsw"
      }
    },
    {
      "cell_type": "markdown",
      "source": [
        "### Building a training loop (and a testing loop) in PyTorch\n",
        "\n",
        "A couple of things we need in a training loop:\n",
        "0. Loop through the data and do...\n",
        "1. Forward pass (this involves data moving through our model's `forward()` functions) to make some predictions on data - also called forward propagation\n",
        "2. Calculate the loss (compare forward pass predictions to ground truth labels)\n",
        "3. Optimizer zero grad\n",
        "4. Loss backward - move backwards through the network to calculate the gradients of each of the parameters of our model with respect to the loss (**backpropagation** - https://www.youtube.com/watch?v=tIeHLnjs5U8)\n",
        "5. Optimizer step - use the optimizer to adjust our model's parameters to try and improve the loss (**gradient descent** - https://www.youtube.com/watch?v=IHZwWFHWa-w)"
      ],
      "metadata": {
        "id": "wTlFsGsBuugI"
      }
    },
    {
      "cell_type": "code",
      "source": [
        "list(model_0.parameters()) # in the model we build future, likely be set automatically rather than you setting them explicitly, like we've done when you create `model_0`"
      ],
      "metadata": {
        "colab": {
          "base_uri": "https://localhost:8080/"
        },
        "id": "ffL_UtEAx_4H",
        "outputId": "87af4eab-cc1b-45ec-eb0d-c991287f48ad"
      },
      "execution_count": 64,
      "outputs": [
        {
          "output_type": "execute_result",
          "data": {
            "text/plain": [
              "[Parameter containing:\n",
              " tensor([0.3367], dtype=torch.float64, requires_grad=True),\n",
              " Parameter containing:\n",
              " tensor([0.1236], dtype=torch.float64, requires_grad=True)]"
            ]
          },
          "metadata": {},
          "execution_count": 64
        }
      ]
    },
    {
      "cell_type": "code",
      "source": [
        "torch.manual_seed(42)\n",
        "\n",
        "# An epoch is one loop through the data... (this is a hyper parameter because we've set it ourselves )\n",
        "epochs = 1\n",
        "\n",
        "### Training\n",
        "# 0. Loop through the data\n",
        "for epoch in range(epochs):\n",
        "  # Set the model to training mode\n",
        "  model_0.train() # train mode in PyTorch sets all parameters that requires graidents to require gradients\n",
        "\n",
        "  # 1. Forward pass\n",
        "  y_pred = model_0(X_train)\n",
        "\n",
        "  # 2. Calulcate the loos\n",
        "  loss = loss_fn(y_pred, y_train) # torch.L1Loss(input, target)\n",
        "  print(f\"Loss: {loss}\")\n",
        "\n",
        "  # 3. Optimizer zero grad\n",
        "  optimizer.zero_grad()\n",
        "\n",
        "  # 4. Performn backpropagation on the loss wioth respect to the parameters of the model\n",
        "  loss.backward()\n",
        "\n",
        "  # 5. Step the optimizert (perform gradient descent)\n",
        "  optimizer.step() # by default how the optimizer changes will accumulate through the loop, so... we have to zero them in step 3 for the next iteration of the loop\n",
        "\n",
        "  ### Testing\n",
        "  model_0.eval() # turns off graident tracking - # `eval()` sets the PyTorch model to evaluation mode, disabling operations like dropout, useful for inference and testing. This method plays a pivotal role in ensuring consistent and reliable model behavior during inference and testing.\n",
        "\n",
        "print(model_0.state_dict())\n"
      ],
      "metadata": {
        "colab": {
          "base_uri": "https://localhost:8080/"
        },
        "id": "lzjmQBm5ZIOT",
        "outputId": "4b4bf27d-c668-4dc4-d581-abfeacb3d80d"
      },
      "execution_count": 85,
      "outputs": [
        {
          "output_type": "stream",
          "name": "stdout",
          "text": [
            "Loss: 0.06198481499594303\n",
            "OrderedDict([('weights', tensor([0.4396], dtype=torch.float64)), ('bias', tensor([0.3626], dtype=torch.float64))])\n"
          ]
        }
      ]
    },
    {
      "cell_type": "code",
      "source": [
        "'''\n",
        "#### practice\n",
        "\n",
        "epochs = 10\n",
        "for epoch in range(epochs):\n",
        "  # set the model in training mode\n",
        "  model_0.train()\n",
        "\n",
        "  # 1. Forward pass\n",
        "  y_pred = model_0(X_train)\n",
        "\n",
        "  # 2. Calculate the loss\n",
        "  loss = loss_fn(y_pred, y_train)\n",
        "\n",
        "  # 3. Optimizer zero grid\n",
        "  optimizer.zero_grad()\n",
        "\n",
        "  # 4. backward\n",
        "  loss.backward()\n",
        "\n",
        "  # 5. Optimizer step\n",
        "  optimizer.step()\n",
        "\n",
        "  # Testing\n",
        "  model_0.eval()\n",
        "'''"
      ],
      "metadata": {
        "id": "pqw0ZY1hZJvX"
      },
      "execution_count": 66,
      "outputs": []
    },
    {
      "cell_type": "code",
      "source": [
        "model_0.state_dict()"
      ],
      "metadata": {
        "colab": {
          "base_uri": "https://localhost:8080/"
        },
        "id": "kYY79BH3OVXF",
        "outputId": "61b97ca8-5c5d-4b0a-9687-896f595744ba"
      },
      "execution_count": 73,
      "outputs": [
        {
          "output_type": "execute_result",
          "data": {
            "text/plain": [
              "OrderedDict([('weights', tensor([0.3952], dtype=torch.float64)),\n",
              "             ('bias', tensor([0.2736], dtype=torch.float64))])"
            ]
          },
          "metadata": {},
          "execution_count": 73
        }
      ]
    },
    {
      "cell_type": "code",
      "source": [
        "with torch.inference_mode():\n",
        "  y_preds_new = model_0(X_test)"
      ],
      "metadata": {
        "id": "saRmPfu0On-H"
      },
      "execution_count": 88,
      "outputs": []
    },
    {
      "cell_type": "code",
      "source": [
        "plot_predictions(predictions=y_preds)"
      ],
      "metadata": {
        "colab": {
          "base_uri": "https://localhost:8080/",
          "height": 430
        },
        "id": "peaLyJIQQZ9C",
        "outputId": "7d219d80-c9f6-4c2f-fd74-6dd0f7989fdf"
      },
      "execution_count": 87,
      "outputs": [
        {
          "output_type": "display_data",
          "data": {
            "text/plain": [
              "<Figure size 640x480 with 1 Axes>"
            ],
            "image/png": "[encoded data removed]"
          },
          "metadata": {}
        }
      ]
    },
    {
      "cell_type": "code",
      "source": [
        "plot_predictions(predictions=y_preds_new)"
      ],
      "metadata": {
        "colab": {
          "base_uri": "https://localhost:8080/",
          "height": 430
        },
        "id": "DvZpAf0OQeMn",
        "outputId": "19678d82-db7d-46b3-927f-8aeb30022007"
      },
      "execution_count": 89,
      "outputs": [
        {
          "output_type": "display_data",
          "data": {
            "text/plain": [
              "<Figure size 640x480 with 1 Axes>"
            ],
            "image/png": "[encoded data removed]"
          },
          "metadata": {}
        }
      ]
    },
    {
      "cell_type": "code",
      "source": [],
      "metadata": {
        "id": "0_fxJjRzQlCg"
      },
      "execution_count": null,
      "outputs": []
    },
    {
      "cell_type": "markdown",
      "source": [
        "### Practice"
      ],
      "metadata": {
        "id": "AttCppt7R5cU"
      }
    },
    {
      "cell_type": "code",
      "source": [
        "torch.manual_seed(42)\n",
        "epochs = 100\n",
        "for epoch in range(epochs):\n",
        "  # set the model in training mode\n",
        "  model_0.train()\n",
        "\n",
        "  # 1. Forward pass\n",
        "  y_pred = model_0(X_train)\n",
        "\n",
        "  # 2. Calculate the loss\n",
        "  loss = loss_fn(y_pred, y_train)\n",
        "\n",
        "  print(f\"Loss: {loss}\")\n",
        "\n",
        "  # 3. Optimizer zero grid\n",
        "  optimizer.zero_grad()\n",
        "\n",
        "  # 4. backward\n",
        "  loss.backward()\n",
        "\n",
        "  # 5. Optimizer step\n",
        "  optimizer.step()\n",
        "\n",
        "  # Testing\n",
        "  model_0.eval()\n",
        "\n",
        "  print(model_0.state_dict())"
      ],
      "metadata": {
        "colab": {
          "base_uri": "https://localhost:8080/"
        },
        "id": "yZ5QxuMHR7en",
        "outputId": "af34a6b5-cbe1-47b2-d383-f7df3a7c47fb"
      },
      "execution_count": 90,
      "outputs": [
        {
          "output_type": "stream",
          "name": "stdout",
          "text": [
            "Loss: 0.05933956305369481\n",
            "OrderedDict([('weights', tensor([0.4427], dtype=torch.float64)), ('bias', tensor([0.3661], dtype=torch.float64))])\n",
            "Loss: 0.05714112309837327\n",
            "OrderedDict([('weights', tensor([0.4458], dtype=torch.float64)), ('bias', tensor([0.3696], dtype=torch.float64))])\n",
            "Loss: 0.05511791147986147\n",
            "OrderedDict([('weights', tensor([0.4488], dtype=torch.float64)), ('bias', tensor([0.3726], dtype=torch.float64))])\n",
            "Loss: 0.05343683051864111\n",
            "OrderedDict([('weights', tensor([0.4517], dtype=torch.float64)), ('bias', tensor([0.3751], dtype=torch.float64))])\n",
            "Loss: 0.05202908954781941\n",
            "OrderedDict([('weights', tensor([0.4544], dtype=torch.float64)), ('bias', tensor([0.3771], dtype=torch.float64))])\n",
            "Loss: 0.05090008957940242\n",
            "OrderedDict([('weights', tensor([0.4571], dtype=torch.float64)), ('bias', tensor([0.3791], dtype=torch.float64))])\n",
            "Loss: 0.049838679263687645\n",
            "OrderedDict([('weights', tensor([0.4596], dtype=torch.float64)), ('bias', tensor([0.3806], dtype=torch.float64))])\n",
            "Loss: 0.04896851929158232\n",
            "OrderedDict([('weights', tensor([0.4622], dtype=torch.float64)), ('bias', tensor([0.3821], dtype=torch.float64))])\n",
            "Loss: 0.048159389639760915\n",
            "OrderedDict([('weights', tensor([0.4645], dtype=torch.float64)), ('bias', tensor([0.3831], dtype=torch.float64))])\n",
            "Loss: 0.04749769966663621\n",
            "OrderedDict([('weights', tensor([0.4669], dtype=torch.float64)), ('bias', tensor([0.3841], dtype=torch.float64))])\n",
            "Loss: 0.046844519990564444\n",
            "OrderedDict([('weights', tensor([0.4691], dtype=torch.float64)), ('bias', tensor([0.3846], dtype=torch.float64))])\n",
            "Loss: 0.046339910012004694\n",
            "OrderedDict([('weights', tensor([0.4713], dtype=torch.float64)), ('bias', tensor([0.3851], dtype=torch.float64))])\n",
            "Loss: 0.04583530003344492\n",
            "OrderedDict([('weights', tensor([0.4735], dtype=torch.float64)), ('bias', tensor([0.3856], dtype=torch.float64))])\n",
            "Loss: 0.04533069005488516\n",
            "OrderedDict([('weights', tensor([0.4757], dtype=torch.float64)), ('bias', tensor([0.3861], dtype=torch.float64))])\n",
            "Loss: 0.044867931041154545\n",
            "OrderedDict([('weights', tensor([0.4777], dtype=torch.float64)), ('bias', tensor([0.3861], dtype=torch.float64))])\n",
            "Loss: 0.04446793105978099\n",
            "OrderedDict([('weights', tensor([0.4797], dtype=torch.float64)), ('bias', tensor([0.3861], dtype=torch.float64))])\n",
            "Loss: 0.044067931078407445\n",
            "OrderedDict([('weights', tensor([0.4817], dtype=torch.float64)), ('bias', tensor([0.3861], dtype=torch.float64))])\n",
            "Loss: 0.043667931097033895\n",
            "OrderedDict([('weights', tensor([0.4837], dtype=torch.float64)), ('bias', tensor([0.3861], dtype=torch.float64))])\n",
            "Loss: 0.043267931115660345\n",
            "OrderedDict([('weights', tensor([0.4857], dtype=torch.float64)), ('bias', tensor([0.3861], dtype=torch.float64))])\n",
            "Loss: 0.042885439795295674\n",
            "OrderedDict([('weights', tensor([0.4875], dtype=torch.float64)), ('bias', tensor([0.3856], dtype=torch.float64))])\n",
            "Loss: 0.042536439813132376\n",
            "OrderedDict([('weights', tensor([0.4893], dtype=torch.float64)), ('bias', tensor([0.3851], dtype=torch.float64))])\n",
            "Loss: 0.042187439830969065\n",
            "OrderedDict([('weights', tensor([0.4911], dtype=torch.float64)), ('bias', tensor([0.3846], dtype=torch.float64))])\n",
            "Loss: 0.04183843984880576\n",
            "OrderedDict([('weights', tensor([0.4929], dtype=torch.float64)), ('bias', tensor([0.3841], dtype=torch.float64))])\n",
            "Loss: 0.04148943986664244\n",
            "OrderedDict([('weights', tensor([0.4947], dtype=torch.float64)), ('bias', tensor([0.3836], dtype=torch.float64))])\n",
            "Loss: 0.04114043988447913\n",
            "OrderedDict([('weights', tensor([0.4965], dtype=torch.float64)), ('bias', tensor([0.3831], dtype=torch.float64))])\n",
            "Loss: 0.04079143990231581\n",
            "OrderedDict([('weights', tensor([0.4983], dtype=torch.float64)), ('bias', tensor([0.3826], dtype=torch.float64))])\n",
            "Loss: 0.04044243992015249\n",
            "OrderedDict([('weights', tensor([0.5001], dtype=torch.float64)), ('bias', tensor([0.3821], dtype=torch.float64))])\n",
            "Loss: 0.040093439937989195\n",
            "OrderedDict([('weights', tensor([0.5019], dtype=torch.float64)), ('bias', tensor([0.3816], dtype=torch.float64))])\n",
            "Loss: 0.03974443995582589\n",
            "OrderedDict([('weights', tensor([0.5037], dtype=torch.float64)), ('bias', tensor([0.3811], dtype=torch.float64))])\n",
            "Loss: 0.03939543997366256\n",
            "OrderedDict([('weights', tensor([0.5055], dtype=torch.float64)), ('bias', tensor([0.3806], dtype=torch.float64))])\n",
            "Loss: 0.03904643999149925\n",
            "OrderedDict([('weights', tensor([0.5073], dtype=torch.float64)), ('bias', tensor([0.3801], dtype=torch.float64))])\n",
            "Loss: 0.038697440009335934\n",
            "OrderedDict([('weights', tensor([0.5091], dtype=torch.float64)), ('bias', tensor([0.3796], dtype=torch.float64))])\n",
            "Loss: 0.03834844002717262\n",
            "OrderedDict([('weights', tensor([0.5109], dtype=torch.float64)), ('bias', tensor([0.3791], dtype=torch.float64))])\n",
            "Loss: 0.03799944004500934\n",
            "OrderedDict([('weights', tensor([0.5127], dtype=torch.float64)), ('bias', tensor([0.3786], dtype=torch.float64))])\n",
            "Loss: 0.037650440062846\n",
            "OrderedDict([('weights', tensor([0.5145], dtype=torch.float64)), ('bias', tensor([0.3781], dtype=torch.float64))])\n",
            "Loss: 0.03730941164592314\n",
            "OrderedDict([('weights', tensor([0.5161], dtype=torch.float64)), ('bias', tensor([0.3771], dtype=torch.float64))])\n",
            "Loss: 0.03696524009629873\n",
            "OrderedDict([('weights', tensor([0.5179], dtype=torch.float64)), ('bias', tensor([0.3766], dtype=torch.float64))])\n",
            "Loss: 0.03662040167520997\n",
            "OrderedDict([('weights', tensor([0.5194], dtype=torch.float64)), ('bias', tensor([0.3756], dtype=torch.float64))])\n",
            "Loss: 0.03628004012975146\n",
            "OrderedDict([('weights', tensor([0.5212], dtype=torch.float64)), ('bias', tensor([0.3751], dtype=torch.float64))])\n",
            "Loss: 0.03593139170449677\n",
            "OrderedDict([('weights', tensor([0.5228], dtype=torch.float64)), ('bias', tensor([0.3741], dtype=torch.float64))])\n",
            "Loss: 0.0355948401632042\n",
            "OrderedDict([('weights', tensor([0.5246], dtype=torch.float64)), ('bias', tensor([0.3736], dtype=torch.float64))])\n",
            "Loss: 0.03524584018104087\n",
            "OrderedDict([('weights', tensor([0.5264], dtype=torch.float64)), ('bias', tensor([0.3731], dtype=torch.float64))])\n",
            "Loss: 0.03490618174939962\n",
            "OrderedDict([('weights', tensor([0.5280], dtype=torch.float64)), ('bias', tensor([0.3721], dtype=torch.float64))])\n",
            "Loss: 0.03456064021449361\n",
            "OrderedDict([('weights', tensor([0.5298], dtype=torch.float64)), ('bias', tensor([0.3716], dtype=torch.float64))])\n",
            "Loss: 0.03421717177868644\n",
            "OrderedDict([('weights', tensor([0.5314], dtype=torch.float64)), ('bias', tensor([0.3706], dtype=torch.float64))])\n",
            "Loss: 0.033875440247946344\n",
            "OrderedDict([('weights', tensor([0.5332], dtype=torch.float64)), ('bias', tensor([0.3701], dtype=torch.float64))])\n",
            "Loss: 0.03352816180797326\n",
            "OrderedDict([('weights', tensor([0.5348], dtype=torch.float64)), ('bias', tensor([0.3691], dtype=torch.float64))])\n",
            "Loss: 0.033190240281399074\n",
            "OrderedDict([('weights', tensor([0.5366], dtype=torch.float64)), ('bias', tensor([0.3686], dtype=torch.float64))])\n",
            "Loss: 0.032841240299235755\n",
            "OrderedDict([('weights', tensor([0.5384], dtype=torch.float64)), ('bias', tensor([0.3681], dtype=torch.float64))])\n",
            "Loss: 0.03250295185287612\n",
            "OrderedDict([('weights', tensor([0.5400], dtype=torch.float64)), ('bias', tensor([0.3671], dtype=torch.float64))])\n",
            "Loss: 0.03215604033268849\n",
            "OrderedDict([('weights', tensor([0.5418], dtype=torch.float64)), ('bias', tensor([0.3666], dtype=torch.float64))])\n",
            "Loss: 0.031813941882162924\n",
            "OrderedDict([('weights', tensor([0.5434], dtype=torch.float64)), ('bias', tensor([0.3656], dtype=torch.float64))])\n",
            "Loss: 0.03147084036614123\n",
            "OrderedDict([('weights', tensor([0.5452], dtype=torch.float64)), ('bias', tensor([0.3651], dtype=torch.float64))])\n",
            "Loss: 0.031124931911449737\n",
            "OrderedDict([('weights', tensor([0.5468], dtype=torch.float64)), ('bias', tensor([0.3641], dtype=torch.float64))])\n",
            "Loss: 0.030785640399593955\n",
            "OrderedDict([('weights', tensor([0.5486], dtype=torch.float64)), ('bias', tensor([0.3636], dtype=torch.float64))])\n",
            "Loss: 0.03043664041743064\n",
            "OrderedDict([('weights', tensor([0.5504], dtype=torch.float64)), ('bias', tensor([0.3631], dtype=torch.float64))])\n",
            "Loss: 0.030099721956352604\n",
            "OrderedDict([('weights', tensor([0.5520], dtype=torch.float64)), ('bias', tensor([0.3621], dtype=torch.float64))])\n",
            "Loss: 0.02975144045088337\n",
            "OrderedDict([('weights', tensor([0.5538], dtype=torch.float64)), ('bias', tensor([0.3616], dtype=torch.float64))])\n",
            "Loss: 0.029410711985639403\n",
            "OrderedDict([('weights', tensor([0.5554], dtype=torch.float64)), ('bias', tensor([0.3606], dtype=torch.float64))])\n",
            "Loss: 0.029066240484336103\n",
            "OrderedDict([('weights', tensor([0.5572], dtype=torch.float64)), ('bias', tensor([0.3601], dtype=torch.float64))])\n",
            "Loss: 0.02872170201492622\n",
            "OrderedDict([('weights', tensor([0.5587], dtype=torch.float64)), ('bias', tensor([0.3591], dtype=torch.float64))])\n",
            "Loss: 0.028381040517788843\n",
            "OrderedDict([('weights', tensor([0.5605], dtype=torch.float64)), ('bias', tensor([0.3586], dtype=torch.float64))])\n",
            "Loss: 0.028032692044213037\n",
            "OrderedDict([('weights', tensor([0.5621], dtype=torch.float64)), ('bias', tensor([0.3576], dtype=torch.float64))])\n",
            "Loss: 0.02769584055124157\n",
            "OrderedDict([('weights', tensor([0.5639], dtype=torch.float64)), ('bias', tensor([0.3571], dtype=torch.float64))])\n",
            "Loss: 0.027346840569078268\n",
            "OrderedDict([('weights', tensor([0.5657], dtype=torch.float64)), ('bias', tensor([0.3566], dtype=torch.float64))])\n",
            "Loss: 0.0270074820891159\n",
            "OrderedDict([('weights', tensor([0.5673], dtype=torch.float64)), ('bias', tensor([0.3556], dtype=torch.float64))])\n",
            "Loss: 0.026661640602530977\n",
            "OrderedDict([('weights', tensor([0.5691], dtype=torch.float64)), ('bias', tensor([0.3551], dtype=torch.float64))])\n",
            "Loss: 0.026318472118402696\n",
            "OrderedDict([('weights', tensor([0.5707], dtype=torch.float64)), ('bias', tensor([0.3541], dtype=torch.float64))])\n",
            "Loss: 0.02597644063598371\n",
            "OrderedDict([('weights', tensor([0.5725], dtype=torch.float64)), ('bias', tensor([0.3536], dtype=torch.float64))])\n",
            "Loss: 0.02562946214768952\n",
            "OrderedDict([('weights', tensor([0.5741], dtype=torch.float64)), ('bias', tensor([0.3526], dtype=torch.float64))])\n",
            "Loss: 0.025291240669436443\n",
            "OrderedDict([('weights', tensor([0.5759], dtype=torch.float64)), ('bias', tensor([0.3521], dtype=torch.float64))])\n",
            "Loss: 0.02494224068727313\n",
            "OrderedDict([('weights', tensor([0.5777], dtype=torch.float64)), ('bias', tensor([0.3516], dtype=torch.float64))])\n",
            "Loss: 0.024604252192592387\n",
            "OrderedDict([('weights', tensor([0.5793], dtype=torch.float64)), ('bias', tensor([0.3506], dtype=torch.float64))])\n",
            "Loss: 0.024257040720725865\n",
            "OrderedDict([('weights', tensor([0.5811], dtype=torch.float64)), ('bias', tensor([0.3501], dtype=torch.float64))])\n",
            "Loss: 0.023915242221879185\n",
            "OrderedDict([('weights', tensor([0.5827], dtype=torch.float64)), ('bias', tensor([0.3491], dtype=torch.float64))])\n",
            "Loss: 0.023571840754178598\n",
            "OrderedDict([('weights', tensor([0.5845], dtype=torch.float64)), ('bias', tensor([0.3486], dtype=torch.float64))])\n",
            "Loss: 0.023226232251165997\n",
            "OrderedDict([('weights', tensor([0.5861], dtype=torch.float64)), ('bias', tensor([0.3476], dtype=torch.float64))])\n",
            "Loss: 0.02288664078763132\n",
            "OrderedDict([('weights', tensor([0.5879], dtype=torch.float64)), ('bias', tensor([0.3471], dtype=torch.float64))])\n",
            "Loss: 0.022537640805468016\n",
            "OrderedDict([('weights', tensor([0.5897], dtype=torch.float64)), ('bias', tensor([0.3466], dtype=torch.float64))])\n",
            "Loss: 0.022201022296068844\n",
            "OrderedDict([('weights', tensor([0.5913], dtype=torch.float64)), ('bias', tensor([0.3456], dtype=torch.float64))])\n",
            "Loss: 0.02185244083892074\n",
            "OrderedDict([('weights', tensor([0.5931], dtype=torch.float64)), ('bias', tensor([0.3451], dtype=torch.float64))])\n",
            "Loss: 0.021512012325355673\n",
            "OrderedDict([('weights', tensor([0.5947], dtype=torch.float64)), ('bias', tensor([0.3441], dtype=torch.float64))])\n",
            "Loss: 0.021167240872373465\n",
            "OrderedDict([('weights', tensor([0.5965], dtype=torch.float64)), ('bias', tensor([0.3436], dtype=torch.float64))])\n",
            "Loss: 0.020823002354642482\n",
            "OrderedDict([('weights', tensor([0.5980], dtype=torch.float64)), ('bias', tensor([0.3426], dtype=torch.float64))])\n",
            "Loss: 0.02048204090582621\n",
            "OrderedDict([('weights', tensor([0.5998], dtype=torch.float64)), ('bias', tensor([0.3421], dtype=torch.float64))])\n",
            "Loss: 0.0201339923839293\n",
            "OrderedDict([('weights', tensor([0.6014], dtype=torch.float64)), ('bias', tensor([0.3411], dtype=torch.float64))])\n",
            "Loss: 0.019796840939278942\n",
            "OrderedDict([('weights', tensor([0.6032], dtype=torch.float64)), ('bias', tensor([0.3406], dtype=torch.float64))])\n",
            "Loss: 0.01944784095711562\n",
            "OrderedDict([('weights', tensor([0.6050], dtype=torch.float64)), ('bias', tensor([0.3401], dtype=torch.float64))])\n",
            "Loss: 0.019108782428832148\n",
            "OrderedDict([('weights', tensor([0.6066], dtype=torch.float64)), ('bias', tensor([0.3391], dtype=torch.float64))])\n",
            "Loss: 0.018762640990568354\n",
            "OrderedDict([('weights', tensor([0.6084], dtype=torch.float64)), ('bias', tensor([0.3386], dtype=torch.float64))])\n",
            "Loss: 0.018419772458118967\n",
            "OrderedDict([('weights', tensor([0.6100], dtype=torch.float64)), ('bias', tensor([0.3376], dtype=torch.float64))])\n",
            "Loss: 0.01807744102402109\n",
            "OrderedDict([('weights', tensor([0.6118], dtype=torch.float64)), ('bias', tensor([0.3371], dtype=torch.float64))])\n",
            "Loss: 0.017730762487405776\n",
            "OrderedDict([('weights', tensor([0.6134], dtype=torch.float64)), ('bias', tensor([0.3361], dtype=torch.float64))])\n",
            "Loss: 0.017392241057473824\n",
            "OrderedDict([('weights', tensor([0.6152], dtype=torch.float64)), ('bias', tensor([0.3356], dtype=torch.float64))])\n",
            "Loss: 0.017043241075310512\n",
            "OrderedDict([('weights', tensor([0.6170], dtype=torch.float64)), ('bias', tensor([0.3351], dtype=torch.float64))])\n",
            "Loss: 0.016705552532308637\n",
            "OrderedDict([('weights', tensor([0.6186], dtype=torch.float64)), ('bias', tensor([0.3341], dtype=torch.float64))])\n",
            "Loss: 0.01635804110876323\n",
            "OrderedDict([('weights', tensor([0.6204], dtype=torch.float64)), ('bias', tensor([0.3336], dtype=torch.float64))])\n",
            "Loss: 0.01601654256159545\n",
            "OrderedDict([('weights', tensor([0.6220], dtype=torch.float64)), ('bias', tensor([0.3326], dtype=torch.float64))])\n",
            "Loss: 0.015672841142215965\n",
            "OrderedDict([('weights', tensor([0.6238], dtype=torch.float64)), ('bias', tensor([0.3321], dtype=torch.float64))])\n",
            "Loss: 0.015327532590882265\n",
            "OrderedDict([('weights', tensor([0.6254], dtype=torch.float64)), ('bias', tensor([0.3311], dtype=torch.float64))])\n"
          ]
        }
      ]
    },
    {
      "cell_type": "code",
      "source": [
        "with torch.inference_mode():\n",
        "  y_pred_new_practice = model_0(X_test)"
      ],
      "metadata": {
        "id": "YNZ0bGk3SeEJ"
      },
      "execution_count": 91,
      "outputs": []
    },
    {
      "cell_type": "code",
      "source": [
        "plot_predictions(predictions=y_preds_new)"
      ],
      "metadata": {
        "colab": {
          "base_uri": "https://localhost:8080/",
          "height": 430
        },
        "id": "pkUHaaZnSsgA",
        "outputId": "4dfa77ce-e015-4104-8886-b8b11b974a75"
      },
      "execution_count": 93,
      "outputs": [
        {
          "output_type": "display_data",
          "data": {
            "text/plain": [
              "<Figure size 640x480 with 1 Axes>"
            ],
            "image/png": "[encoded data removed]"
          },
          "metadata": {}
        }
      ]
    },
    {
      "cell_type": "code",
      "source": [
        "plot_predictions(predictions=y_pred_new_practice)"
      ],
      "metadata": {
        "colab": {
          "base_uri": "https://localhost:8080/",
          "height": 430
        },
        "id": "PKjkrO8JSIHa",
        "outputId": "fa90d447-bff4-46db-ac3a-3aa211cc6add"
      },
      "execution_count": 92,
      "outputs": [
        {
          "output_type": "display_data",
          "data": {
            "text/plain": [
              "<Figure size 640x480 with 1 Axes>"
            ],
            "image/png": "[encoded data removed]"
          },
          "metadata": {}
        }
      ]
    },
    {
      "cell_type": "code",
      "source": [],
      "metadata": {
        "id": "e4MwwbBnSpaw"
      },
      "execution_count": null,
      "outputs": []
    }
  ]
}